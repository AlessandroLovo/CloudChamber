{
 "cells": [
  {
   "cell_type": "code",
   "execution_count": 1,
   "metadata": {},
   "outputs": [],
   "source": [
    "from Trace import Trace\n",
    "from Particle import Particle,Join_Particles"
   ]
  },
  {
   "cell_type": "code",
   "execution_count": 2,
   "metadata": {},
   "outputs": [
    {
     "name": "stderr",
     "output_type": "stream",
     "text": [
      " 11%|█         | 1/9 [00:00<00:04,  1.65it/s]"
     ]
    },
    {
     "name": "stdout",
     "output_type": "stream",
     "text": [
      "\n",
      "mean_280519-video7_000-007_opened_cc02.png is INTERESTING\n",
      "\n",
      "mean_280519-video7_000-008_opened_cc02.png is INTERESTING\n"
     ]
    },
    {
     "name": "stderr",
     "output_type": "stream",
     "text": [
      "\r",
      " 22%|██▏       | 2/9 [00:01<00:05,  1.32it/s]"
     ]
    },
    {
     "name": "stdout",
     "output_type": "stream",
     "text": [
      "\n",
      "video7_000-007-video7_000-008: overlap = 0.755156447313035\n"
     ]
    },
    {
     "name": "stderr",
     "output_type": "stream",
     "text": [
      "\r",
      " 33%|███▎      | 3/9 [00:02<00:04,  1.44it/s]"
     ]
    },
    {
     "name": "stdout",
     "output_type": "stream",
     "text": [
      "\n",
      "mean_280519-video7_000-008_opened_cc14.png: too spherical 1.3961587341062054\n",
      "\n",
      "mean_280519-video7_000-009_opened_cc07.png is INTERESTING\n"
     ]
    },
    {
     "name": "stderr",
     "output_type": "stream",
     "text": [
      "\r",
      " 44%|████▍     | 4/9 [00:03<00:04,  1.23it/s]"
     ]
    },
    {
     "name": "stdout",
     "output_type": "stream",
     "text": [
      "\n",
      "video7_000-008-video7_000-009: overlap = 0.7131121642969984\n"
     ]
    },
    {
     "name": "stderr",
     "output_type": "stream",
     "text": [
      "\r",
      " 56%|█████▌    | 5/9 [00:03<00:02,  1.36it/s]"
     ]
    },
    {
     "name": "stdout",
     "output_type": "stream",
     "text": [
      "\n",
      "mean_280519-video7_000-009_opened_cc40.png is INTERESTING\n",
      "\n",
      "mean_280519-video7_000-010_opened_cc07.png is INTERESTING\n",
      "\n",
      "video7_000-009-video7_000-010: overlap = 0.0\n"
     ]
    },
    {
     "name": "stderr",
     "output_type": "stream",
     "text": [
      "\r",
      " 67%|██████▋   | 6/9 [00:05<00:02,  1.01it/s]"
     ]
    },
    {
     "name": "stdout",
     "output_type": "stream",
     "text": [
      "\n",
      "video7_000-009-video7_000-010: overlap = 0.0\n",
      "\n",
      "mean_280519-video7_000-010_opened_cc11.png is INTERESTING\n"
     ]
    },
    {
     "name": "stderr",
     "output_type": "stream",
     "text": [
      "\r",
      " 78%|███████▊  | 7/9 [00:06<00:02,  1.02s/it]"
     ]
    },
    {
     "name": "stdout",
     "output_type": "stream",
     "text": [
      "\n",
      "video7_000-009-video7_000-010: overlap = 0.8796851574212894\n",
      "\n",
      "mean_280519-video7_000-010_opened_cc30.png is INTERESTING\n"
     ]
    },
    {
     "name": "stderr",
     "output_type": "stream",
     "text": [
      "\r",
      " 89%|████████▉ | 8/9 [00:07<00:01,  1.04s/it]"
     ]
    },
    {
     "name": "stdout",
     "output_type": "stream",
     "text": [
      "\n",
      "video7_000-009-video7_000-010: overlap = 0.33999999999999997\n",
      "\n",
      "mean_280519-video7_000-011_opened_cc09.png is INTERESTING\n"
     ]
    },
    {
     "name": "stderr",
     "output_type": "stream",
     "text": [
      "\r",
      "100%|██████████| 9/9 [00:08<00:00,  1.05s/it]"
     ]
    },
    {
     "name": "stdout",
     "output_type": "stream",
     "text": [
      "\n",
      "video7_000-010-video7_000-011: overlap = 0.9269714077581497\n"
     ]
    },
    {
     "name": "stderr",
     "output_type": "stream",
     "text": [
      "\n"
     ]
    },
    {
     "name": "stdout",
     "output_type": "stream",
     "text": [
      "4 5\n",
      "2 5\n",
      "7 12\n",
      "8 11\n",
      "3 8\n"
     ]
    }
   ],
   "source": [
    "folder = '../../pre-processed_data/280519/video7_000/trigger_thr0.004_opening3/cc_filtered_2den0.81_gausrad2.0/'\n",
    "\n",
    "particles, n_particles = Join_Particles(folder)\n",
    "\n",
    "particles_slim = []\n",
    "for p in particles:\n",
    "    particles_slim.append(p.values())"
   ]
  },
  {
   "cell_type": "code",
   "execution_count": 3,
   "metadata": {},
   "outputs": [
    {
     "data": {
      "text/plain": [
       "[[174.39517251287972,\n",
       "  23.754706283880843,\n",
       "  2.4,\n",
       "  1.123412999329623,\n",
       "  5,\n",
       "  ['mean_280519-video7_000-007_opened_cc02.png',\n",
       "   'mean_280519-video7_000-008_opened_cc02.png',\n",
       "   'mean_280519-video7_000-009_opened_cc07.png',\n",
       "   'mean_280519-video7_000-010_opened_cc11.png',\n",
       "   'mean_280519-video7_000-011_opened_cc09.png']],\n",
       " [146.73781800893983,\n",
       "  7.441849098651872,\n",
       "  5.0,\n",
       "  1.1217058417622277,\n",
       "  1,\n",
       "  ['mean_280519-video7_000-009_opened_cc40.png']],\n",
       " [328.27163929456606,\n",
       "  6.170631134359924,\n",
       "  10.0,\n",
       "  1.7465952657578618,\n",
       "  1,\n",
       "  ['mean_280519-video7_000-010_opened_cc07.png']],\n",
       " [353.6279133655636,\n",
       "  8.311467614573653,\n",
       "  7.0,\n",
       "  1.4724147111434183,\n",
       "  1,\n",
       "  ['mean_280519-video7_000-010_opened_cc30.png']]]"
      ]
     },
     "execution_count": 3,
     "metadata": {},
     "output_type": "execute_result"
    }
   ],
   "source": [
    "particles_slim"
   ]
  },
  {
   "cell_type": "code",
   "execution_count": null,
   "metadata": {},
   "outputs": [],
   "source": []
  }
 ],
 "metadata": {
  "kernelspec": {
   "display_name": "Python 3",
   "language": "python",
   "name": "python3"
  },
  "language_info": {
   "codemirror_mode": {
    "name": "ipython",
    "version": 3
   },
   "file_extension": ".py",
   "mimetype": "text/x-python",
   "name": "python",
   "nbconvert_exporter": "python",
   "pygments_lexer": "ipython3",
   "version": "3.7.3"
  }
 },
 "nbformat": 4,
 "nbformat_minor": 2
}
