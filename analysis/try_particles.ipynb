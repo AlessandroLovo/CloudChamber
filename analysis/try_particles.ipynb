{
 "cells": [
  {
   "cell_type": "code",
   "execution_count": 1,
   "metadata": {},
   "outputs": [],
   "source": [
    "from Trace import Trace\n",
    "import Particle\n",
    "import Clusterizer\n",
    "\n",
    "import numpy as np\n",
    "import matplotlib.pyplot as plt\n",
    "import ipywidgets\n",
    "import os"
   ]
  },
  {
   "cell_type": "code",
   "execution_count": null,
   "metadata": {},
   "outputs": [],
   "source": [
    "# try to join_particles\n",
    "\n",
    "folder = '../../pre-processed_data/280519/video7_000/trigger_thr0.005_cl9_op3/cc_filtered_2den0.81_gausrad2.0/'\n",
    "\n",
    "particles, n_particles = Particle.Join_Particles(folder=folder)"
   ]
  },
  {
   "cell_type": "code",
   "execution_count": 2,
   "metadata": {},
   "outputs": [
    {
     "name": "stderr",
     "output_type": "stream",
     "text": [
      "\r",
      "  0%|          | 0/20 [00:00<?, ?it/s]"
     ]
    },
    {
     "name": "stdout",
     "output_type": "stream",
     "text": [
      "found video2_009/trigger_thr0.005_cl9_op3/cc_filtered_2den0.81_gausrad2.0/\n"
     ]
    },
    {
     "name": "stderr",
     "output_type": "stream",
     "text": [
      "\r",
      "  5%|▌         | 1/20 [00:00<00:13,  1.40it/s]"
     ]
    },
    {
     "name": "stdout",
     "output_type": "stream",
     "text": [
      "\n",
      "mean_270619-video2_009-002_opened_cc03.png is INTERESTING\n"
     ]
    },
    {
     "name": "stderr",
     "output_type": "stream",
     "text": [
      "\r",
      " 10%|█         | 2/20 [00:01<00:13,  1.38it/s]"
     ]
    },
    {
     "name": "stdout",
     "output_type": "stream",
     "text": [
      "\n",
      "mean_270619-video2_009-002_opened_cc07.png is INTERESTING\n"
     ]
    },
    {
     "name": "stderr",
     "output_type": "stream",
     "text": [
      "\r",
      " 15%|█▌        | 3/20 [00:02<00:12,  1.40it/s]"
     ]
    },
    {
     "name": "stdout",
     "output_type": "stream",
     "text": [
      "\n",
      "mean_270619-video2_009-002_opened_cc28.png is INTERESTING\n"
     ]
    },
    {
     "name": "stderr",
     "output_type": "stream",
     "text": [
      "\r",
      " 20%|██        | 4/20 [00:02<00:11,  1.42it/s]"
     ]
    },
    {
     "name": "stdout",
     "output_type": "stream",
     "text": [
      "\n",
      "mean_270619-video2_009-002_opened_cc55.png: too spherical 4.5377070678421525\n"
     ]
    },
    {
     "name": "stderr",
     "output_type": "stream",
     "text": [
      "\r",
      " 25%|██▌       | 5/20 [00:03<00:10,  1.43it/s]"
     ]
    },
    {
     "name": "stdout",
     "output_type": "stream",
     "text": [
      "\n",
      "mean_270619-video2_009-005_opened_cc02.png: too spherical 5.251967711830305\n"
     ]
    },
    {
     "name": "stderr",
     "output_type": "stream",
     "text": [
      "\r",
      " 30%|███       | 6/20 [00:04<00:09,  1.40it/s]"
     ]
    },
    {
     "name": "stdout",
     "output_type": "stream",
     "text": [
      "\n",
      "mean_270619-video2_009-005_opened_cc08.png: too spherical 2.1945724940238547\n"
     ]
    },
    {
     "name": "stderr",
     "output_type": "stream",
     "text": [
      "\r",
      " 35%|███▌      | 7/20 [00:05<00:09,  1.32it/s]"
     ]
    },
    {
     "name": "stdout",
     "output_type": "stream",
     "text": [
      "\n",
      "mean_270619-video2_009-005_opened_cc19.png is INTERESTING\n"
     ]
    },
    {
     "name": "stderr",
     "output_type": "stream",
     "text": [
      "\r",
      " 40%|████      | 8/20 [00:05<00:08,  1.36it/s]"
     ]
    },
    {
     "name": "stdout",
     "output_type": "stream",
     "text": [
      "\n",
      "mean_270619-video2_009-005_opened_cc36.png: too spherical 1.1656196964389178\n"
     ]
    },
    {
     "name": "stderr",
     "output_type": "stream",
     "text": [
      "\r",
      " 45%|████▌     | 9/20 [00:06<00:07,  1.41it/s]"
     ]
    },
    {
     "name": "stdout",
     "output_type": "stream",
     "text": [
      "\n",
      "mean_270619-video2_009-005_opened_cc63.png: too spherical 1.9693104268680885\n"
     ]
    },
    {
     "name": "stderr",
     "output_type": "stream",
     "text": [
      "\r",
      " 50%|█████     | 10/20 [00:07<00:06,  1.47it/s]"
     ]
    },
    {
     "name": "stdout",
     "output_type": "stream",
     "text": [
      "\n",
      "mean_270619-video2_009-005_opened_cc77.png: too spherical 5.559647514440199\n"
     ]
    },
    {
     "name": "stderr",
     "output_type": "stream",
     "text": [
      "\r",
      " 55%|█████▌    | 11/20 [00:07<00:06,  1.48it/s]"
     ]
    },
    {
     "name": "stdout",
     "output_type": "stream",
     "text": [
      "\n",
      "mean_270619-video2_009-005_opened_cc86.png: too spherical 6.393178630647735\n"
     ]
    },
    {
     "name": "stderr",
     "output_type": "stream",
     "text": [
      "\r",
      " 60%|██████    | 12/20 [00:08<00:05,  1.51it/s]"
     ]
    },
    {
     "name": "stdout",
     "output_type": "stream",
     "text": [
      "\n",
      "mean_270619-video2_009-015_opened_cc02.png: too spherical 1.7302418361296725\n"
     ]
    },
    {
     "name": "stderr",
     "output_type": "stream",
     "text": [
      "\r",
      " 65%|██████▌   | 13/20 [00:09<00:04,  1.51it/s]"
     ]
    },
    {
     "name": "stdout",
     "output_type": "stream",
     "text": [
      "\n",
      "mean_270619-video2_009-015_opened_cc26.png: too spherical 4.580397040004467\n"
     ]
    },
    {
     "name": "stderr",
     "output_type": "stream",
     "text": [
      "\r",
      " 70%|███████   | 14/20 [00:09<00:03,  1.56it/s]"
     ]
    },
    {
     "name": "stdout",
     "output_type": "stream",
     "text": [
      "\n",
      "mean_270619-video2_009-015_opened_cc35.png: too spherical 3.135297146109233\n"
     ]
    },
    {
     "name": "stderr",
     "output_type": "stream",
     "text": [
      "\r",
      " 75%|███████▌  | 15/20 [00:10<00:03,  1.54it/s]"
     ]
    },
    {
     "name": "stdout",
     "output_type": "stream",
     "text": [
      "\n",
      "mean_270619-video2_009-015_opened_cc44.png: too spherical 5.088367178878803\n"
     ]
    },
    {
     "name": "stderr",
     "output_type": "stream",
     "text": [
      "\r",
      " 80%|████████  | 16/20 [00:10<00:02,  1.55it/s]"
     ]
    },
    {
     "name": "stdout",
     "output_type": "stream",
     "text": [
      "\n",
      "mean_270619-video2_009-015_opened_cc70.png: too spherical 1.1265242942878062\n"
     ]
    },
    {
     "name": "stderr",
     "output_type": "stream",
     "text": [
      "\r",
      " 85%|████████▌ | 17/20 [00:11<00:01,  1.51it/s]"
     ]
    },
    {
     "name": "stdout",
     "output_type": "stream",
     "text": [
      "\n",
      "mean_270619-video2_009-031_opened_cc02.png is INTERESTING\n"
     ]
    },
    {
     "name": "stderr",
     "output_type": "stream",
     "text": [
      "\r",
      " 90%|█████████ | 18/20 [00:12<00:01,  1.53it/s]"
     ]
    },
    {
     "name": "stdout",
     "output_type": "stream",
     "text": [
      "\n",
      "mean_270619-video2_009-031_opened_cc09.png: too spherical 2.403257226577185\n"
     ]
    },
    {
     "name": "stderr",
     "output_type": "stream",
     "text": [
      "\r",
      " 95%|█████████▌| 19/20 [00:12<00:00,  1.56it/s]"
     ]
    },
    {
     "name": "stdout",
     "output_type": "stream",
     "text": [
      "\n",
      "mean_270619-video2_009-031_opened_cc32.png: too spherical 3.532155293183181\n"
     ]
    },
    {
     "name": "stderr",
     "output_type": "stream",
     "text": [
      "100%|██████████| 20/20 [00:13<00:00,  1.57it/s]\n",
      "  0%|          | 0/51 [00:00<?, ?it/s]"
     ]
    },
    {
     "name": "stdout",
     "output_type": "stream",
     "text": [
      "\n",
      "mean_270619-video2_009-031_opened_cc39.png is INTERESTING\n",
      "found video3_019/trigger_thr0.005_cl9_op3/cc_filtered_2den0.81_gausrad2.0/\n",
      "found video4_009/trigger_thr0.005_cl9_op3/cc_filtered_2den0.81_gausrad2.0/\n",
      "found video1_000/trigger_thr0.005_cl9_op3/cc_filtered_2den0.81_gausrad2.0/\n",
      "found video1_001/trigger_thr0.005_cl9_op3/cc_filtered_2den0.81_gausrad2.0/\n",
      "found video1_002/trigger_thr0.005_cl9_op3/cc_filtered_2den0.81_gausrad2.0/\n",
      "found video1_003/trigger_thr0.005_cl9_op3/cc_filtered_2den0.81_gausrad2.0/\n",
      "found video1_004/trigger_thr0.005_cl9_op3/cc_filtered_2den0.81_gausrad2.0/\n",
      "found video1_005/trigger_thr0.005_cl9_op3/cc_filtered_2den0.81_gausrad2.0/\n",
      "found video1_006/trigger_thr0.005_cl9_op3/cc_filtered_2den0.81_gausrad2.0/\n",
      "found video1_007/trigger_thr0.005_cl9_op3/cc_filtered_2den0.81_gausrad2.0/\n",
      "found video1_008/trigger_thr0.005_cl9_op3/cc_filtered_2den0.81_gausrad2.0/\n",
      "found video1_009/trigger_thr0.005_cl9_op3/cc_filtered_2den0.81_gausrad2.0/\n",
      "found video2_000/trigger_thr0.005_cl9_op3/cc_filtered_2den0.81_gausrad2.0/\n"
     ]
    },
    {
     "name": "stderr",
     "output_type": "stream",
     "text": [
      "\r",
      "  2%|▏         | 1/51 [00:00<00:32,  1.52it/s]"
     ]
    },
    {
     "name": "stdout",
     "output_type": "stream",
     "text": [
      "\n",
      "mean_270619-video2_000-004_opened_cc13.png is INTERESTING\n"
     ]
    },
    {
     "name": "stderr",
     "output_type": "stream",
     "text": [
      "\r",
      "  4%|▍         | 2/51 [00:01<00:31,  1.55it/s]"
     ]
    },
    {
     "name": "stdout",
     "output_type": "stream",
     "text": [
      "\n",
      "mean_270619-video2_000-004_opened_cc16.png: too spherical 2.780706644421938\n"
     ]
    },
    {
     "name": "stderr",
     "output_type": "stream",
     "text": [
      "\r",
      "  6%|▌         | 3/51 [00:01<00:30,  1.57it/s]"
     ]
    },
    {
     "name": "stdout",
     "output_type": "stream",
     "text": [
      "\n",
      "mean_270619-video2_000-004_opened_cc17.png: too spherical 3.561508778743651\n"
     ]
    },
    {
     "name": "stderr",
     "output_type": "stream",
     "text": [
      "\r",
      "  8%|▊         | 4/51 [00:02<00:29,  1.57it/s]"
     ]
    },
    {
     "name": "stdout",
     "output_type": "stream",
     "text": [
      "\n",
      "mean_270619-video2_000-004_opened_cc23.png: too spherical 5.049293177269465\n"
     ]
    },
    {
     "name": "stderr",
     "output_type": "stream",
     "text": [
      "\r",
      " 10%|▉         | 5/51 [00:03<00:29,  1.56it/s]"
     ]
    },
    {
     "name": "stdout",
     "output_type": "stream",
     "text": [
      "\n",
      "mean_270619-video2_000-004_opened_cc26.png: too spherical 9.181466037850498\n"
     ]
    },
    {
     "name": "stderr",
     "output_type": "stream",
     "text": [
      "\r",
      " 12%|█▏        | 6/51 [00:03<00:28,  1.57it/s]"
     ]
    },
    {
     "name": "stdout",
     "output_type": "stream",
     "text": [
      "\n",
      "mean_270619-video2_000-014_opened_cc15.png: too spherical 6.274416046929966\n"
     ]
    },
    {
     "name": "stderr",
     "output_type": "stream",
     "text": [
      "\r",
      " 14%|█▎        | 7/51 [00:04<00:27,  1.58it/s]"
     ]
    },
    {
     "name": "stdout",
     "output_type": "stream",
     "text": [
      "\n",
      "mean_270619-video2_000-014_opened_cc32.png is INTERESTING\n"
     ]
    },
    {
     "name": "stderr",
     "output_type": "stream",
     "text": [
      "\r",
      " 16%|█▌        | 8/51 [00:05<00:27,  1.58it/s]"
     ]
    },
    {
     "name": "stdout",
     "output_type": "stream",
     "text": [
      "\n",
      "mean_270619-video2_000-014_opened_cc33.png: too spherical 2.4723754005862175\n"
     ]
    },
    {
     "name": "stderr",
     "output_type": "stream",
     "text": [
      "\r",
      " 18%|█▊        | 9/51 [00:05<00:26,  1.60it/s]"
     ]
    },
    {
     "name": "stdout",
     "output_type": "stream",
     "text": [
      "\n",
      "mean_270619-video2_000-014_opened_cc37.png: too spherical 7.861141013127848\n"
     ]
    },
    {
     "name": "stderr",
     "output_type": "stream",
     "text": [
      "\r",
      " 20%|█▉        | 10/51 [00:06<00:25,  1.59it/s]"
     ]
    },
    {
     "name": "stdout",
     "output_type": "stream",
     "text": [
      "\n",
      "mean_270619-video2_000-014_opened_cc60.png is INTERESTING\n",
      "\n",
      "mean_270619-video2_000-015_opened_cc09.png is INTERESTING\n",
      "\n",
      "video2_000-014-video2_000-015: overlap = 0.0\n"
     ]
    },
    {
     "name": "stderr",
     "output_type": "stream",
     "text": [
      "\r",
      " 22%|██▏       | 11/51 [00:08<00:38,  1.04it/s]"
     ]
    },
    {
     "name": "stdout",
     "output_type": "stream",
     "text": [
      "\n",
      "video2_000-014-video2_000-015: overlap = 0.0\n"
     ]
    },
    {
     "name": "stderr",
     "output_type": "stream",
     "text": [
      "\r",
      " 24%|██▎       | 12/51 [00:08<00:33,  1.15it/s]"
     ]
    },
    {
     "name": "stdout",
     "output_type": "stream",
     "text": [
      "\n",
      "mean_270619-video2_000-015_opened_cc16.png: too spherical 3.0864380731132086\n",
      "\n",
      "mean_270619-video2_000-015_opened_cc28.png is INTERESTING\n"
     ]
    },
    {
     "name": "stderr",
     "output_type": "stream",
     "text": [
      "\r",
      " 25%|██▌       | 13/51 [00:09<00:36,  1.04it/s]"
     ]
    },
    {
     "name": "stdout",
     "output_type": "stream",
     "text": [
      "\n",
      "video2_000-014-video2_000-015: overlap = 0.7485408560311284\n"
     ]
    },
    {
     "name": "stderr",
     "output_type": "stream",
     "text": [
      "\r",
      " 27%|██▋       | 14/51 [00:10<00:32,  1.14it/s]"
     ]
    },
    {
     "name": "stdout",
     "output_type": "stream",
     "text": [
      "\n",
      "mean_270619-video2_000-015_opened_cc31.png: too spherical 9.910032351990873\n",
      "\n",
      "mean_270619-video2_000-015_opened_cc49.png is INTERESTING\n"
     ]
    },
    {
     "name": "stderr",
     "output_type": "stream",
     "text": [
      "\r",
      " 29%|██▉       | 15/51 [00:11<00:35,  1.02it/s]"
     ]
    },
    {
     "name": "stdout",
     "output_type": "stream",
     "text": [
      "\n",
      "video2_000-014-video2_000-015: overlap = 0.0\n"
     ]
    },
    {
     "name": "stderr",
     "output_type": "stream",
     "text": [
      "\r",
      " 31%|███▏      | 16/51 [00:12<00:31,  1.12it/s]"
     ]
    },
    {
     "name": "stdout",
     "output_type": "stream",
     "text": [
      "\n",
      "mean_270619-video2_000-015_opened_cc55.png: too spherical 4.602057561750913\n"
     ]
    },
    {
     "name": "stderr",
     "output_type": "stream",
     "text": [
      "\r",
      " 33%|███▎      | 17/51 [00:13<00:28,  1.19it/s]"
     ]
    },
    {
     "name": "stdout",
     "output_type": "stream",
     "text": [
      "\n",
      "mean_270619-video2_000-024_opened_cc04.png: too spherical 5.522721871840964\n"
     ]
    },
    {
     "name": "stderr",
     "output_type": "stream",
     "text": [
      "\r",
      " 35%|███▌      | 18/51 [00:13<00:25,  1.27it/s]"
     ]
    },
    {
     "name": "stdout",
     "output_type": "stream",
     "text": [
      "\n",
      "mean_270619-video2_000-024_opened_cc08.png is INTERESTING\n"
     ]
    },
    {
     "name": "stderr",
     "output_type": "stream",
     "text": [
      "\r",
      " 37%|███▋      | 19/51 [00:14<00:24,  1.33it/s]"
     ]
    },
    {
     "name": "stdout",
     "output_type": "stream",
     "text": [
      "\n",
      "mean_270619-video2_000-024_opened_cc33.png: too spherical 8.491853909557314\n"
     ]
    },
    {
     "name": "stderr",
     "output_type": "stream",
     "text": [
      "\r",
      " 39%|███▉      | 20/51 [00:15<00:22,  1.39it/s]"
     ]
    },
    {
     "name": "stdout",
     "output_type": "stream",
     "text": [
      "\n",
      "mean_270619-video2_000-024_opened_cc36.png is INTERESTING\n"
     ]
    },
    {
     "name": "stderr",
     "output_type": "stream",
     "text": [
      "\r",
      " 41%|████      | 21/51 [00:15<00:20,  1.43it/s]"
     ]
    },
    {
     "name": "stdout",
     "output_type": "stream",
     "text": [
      "\n",
      "mean_270619-video2_000-036_opened_cc08.png: too spherical 6.651317288977264\n"
     ]
    },
    {
     "name": "stderr",
     "output_type": "stream",
     "text": [
      "\r",
      " 43%|████▎     | 22/51 [00:16<00:19,  1.49it/s]"
     ]
    },
    {
     "name": "stdout",
     "output_type": "stream",
     "text": [
      "\n",
      "mean_270619-video2_000-036_opened_cc14.png is INTERESTING\n"
     ]
    },
    {
     "name": "stderr",
     "output_type": "stream",
     "text": [
      "\r",
      " 45%|████▌     | 23/51 [00:17<00:18,  1.50it/s]"
     ]
    },
    {
     "name": "stdout",
     "output_type": "stream",
     "text": [
      "\n",
      "mean_270619-video2_000-036_opened_cc43.png: too spherical 6.9265355721098505\n"
     ]
    },
    {
     "name": "stderr",
     "output_type": "stream",
     "text": [
      "\r",
      " 47%|████▋     | 24/51 [00:17<00:17,  1.51it/s]"
     ]
    },
    {
     "name": "stdout",
     "output_type": "stream",
     "text": [
      "\n",
      "mean_270619-video2_000-036_opened_cc62.png: too spherical 4.723581045139431\n",
      "\n",
      "mean_270619-video2_000-037_opened_cc15.png is INTERESTING\n"
     ]
    },
    {
     "name": "stderr",
     "output_type": "stream",
     "text": [
      "\r",
      " 49%|████▉     | 25/51 [00:18<00:21,  1.22it/s]"
     ]
    },
    {
     "name": "stdout",
     "output_type": "stream",
     "text": [
      "\n",
      "video2_000-036-video2_000-037: overlap = 0.0\n"
     ]
    },
    {
     "name": "stderr",
     "output_type": "stream",
     "text": [
      "\r",
      " 51%|█████     | 26/51 [00:19<00:19,  1.29it/s]"
     ]
    },
    {
     "name": "stdout",
     "output_type": "stream",
     "text": [
      "\n",
      "mean_270619-video2_000-037_opened_cc36.png: too spherical 6.002256561807814\n",
      "\n",
      "mean_270619-video2_000-037_opened_cc64.png is INTERESTING\n"
     ]
    },
    {
     "name": "stderr",
     "output_type": "stream",
     "text": [
      "\r",
      " 53%|█████▎    | 27/51 [00:20<00:21,  1.11it/s]"
     ]
    },
    {
     "name": "stdout",
     "output_type": "stream",
     "text": [
      "\n",
      "video2_000-036-video2_000-037: overlap = 0.0\n"
     ]
    },
    {
     "name": "stderr",
     "output_type": "stream",
     "text": [
      "\r",
      " 55%|█████▍    | 28/51 [00:21<00:19,  1.16it/s]"
     ]
    },
    {
     "name": "stdout",
     "output_type": "stream",
     "text": [
      "\n",
      "mean_270619-video2_000-038_opened_cc05.png: too spherical 5.253670102167572\n",
      "\n",
      "mean_270619-video2_000-038_opened_cc11.png is INTERESTING\n",
      "\n",
      "video2_000-037-video2_000-038: overlap = 0.0\n"
     ]
    },
    {
     "name": "stderr",
     "output_type": "stream",
     "text": [
      "\r",
      " 57%|█████▋    | 29/51 [00:23<00:25,  1.18s/it]"
     ]
    },
    {
     "name": "stdout",
     "output_type": "stream",
     "text": [
      "\n",
      "video2_000-037-video2_000-038: overlap = 0.0\n",
      "\n",
      "mean_270619-video2_000-038_opened_cc21.png is INTERESTING\n"
     ]
    },
    {
     "name": "stderr",
     "output_type": "stream",
     "text": [
      "\r",
      " 59%|█████▉    | 30/51 [00:24<00:25,  1.20s/it]"
     ]
    },
    {
     "name": "stdout",
     "output_type": "stream",
     "text": [
      "\n",
      "video2_000-037-video2_000-038: overlap = 0.6925260170293284\n"
     ]
    },
    {
     "name": "stderr",
     "output_type": "stream",
     "text": [
      "\r",
      " 61%|██████    | 31/51 [00:25<00:20,  1.04s/it]"
     ]
    },
    {
     "name": "stdout",
     "output_type": "stream",
     "text": [
      "\n",
      "mean_270619-video2_000-038_opened_cc28.png: too spherical 1.6843445035380658\n"
     ]
    },
    {
     "name": "stderr",
     "output_type": "stream",
     "text": [
      "\r",
      " 63%|██████▎   | 32/51 [00:26<00:17,  1.09it/s]"
     ]
    },
    {
     "name": "stdout",
     "output_type": "stream",
     "text": [
      "\n",
      "mean_270619-video2_000-038_opened_cc32.png: too spherical 1.5753072282850336\n"
     ]
    },
    {
     "name": "stderr",
     "output_type": "stream",
     "text": [
      "\r",
      " 65%|██████▍   | 33/51 [00:26<00:14,  1.20it/s]"
     ]
    },
    {
     "name": "stdout",
     "output_type": "stream",
     "text": [
      "\n",
      "mean_270619-video2_000-038_opened_cc44.png: too spherical 3.4992855514020373\n"
     ]
    },
    {
     "name": "stderr",
     "output_type": "stream",
     "text": [
      "\r",
      " 67%|██████▋   | 34/51 [00:27<00:13,  1.30it/s]"
     ]
    },
    {
     "name": "stdout",
     "output_type": "stream",
     "text": [
      "\n",
      "mean_270619-video2_000-038_opened_cc45.png: too spherical 2.687739568942516\n",
      "\n",
      "mean_270619-video2_000-038_opened_cc60.png is INTERESTING\n"
     ]
    },
    {
     "name": "stderr",
     "output_type": "stream",
     "text": [
      "\r",
      " 69%|██████▊   | 35/51 [00:28<00:14,  1.10it/s]"
     ]
    },
    {
     "name": "stdout",
     "output_type": "stream",
     "text": [
      "\n",
      "video2_000-037-video2_000-038: overlap = 0.0\n"
     ]
    },
    {
     "name": "stderr",
     "output_type": "stream",
     "text": [
      "\r",
      " 71%|███████   | 36/51 [00:29<00:12,  1.18it/s]"
     ]
    },
    {
     "name": "stdout",
     "output_type": "stream",
     "text": [
      "\n",
      "mean_270619-video2_000-015_opened_cc30.png: too spherical 9.388673011676037\n",
      "\n",
      "mean_270619-video2_000-037_opened_cc03.png is INTERESTING\n"
     ]
    },
    {
     "name": "stderr",
     "output_type": "stream",
     "text": [
      "\r",
      " 73%|███████▎  | 37/51 [00:30<00:13,  1.02it/s]"
     ]
    },
    {
     "name": "stdout",
     "output_type": "stream",
     "text": [
      "\n",
      "video2_000-036-video2_000-037: overlap = 0.0\n",
      "\n",
      "mean_270619-video2_000-039_opened_cc02.png is INTERESTING\n",
      "\n",
      "video2_000-038-video2_000-039: overlap = 0.0\n",
      "\n",
      "video2_000-038-video2_000-039: overlap = 0.0\n"
     ]
    },
    {
     "name": "stderr",
     "output_type": "stream",
     "text": [
      "\r",
      " 75%|███████▍  | 38/51 [00:32<00:18,  1.42s/it]"
     ]
    },
    {
     "name": "stdout",
     "output_type": "stream",
     "text": [
      "\n",
      "video2_000-038-video2_000-039: overlap = 0.0\n",
      "\n",
      "mean_270619-video2_000-039_opened_cc28.png is INTERESTING\n",
      "\n",
      "video2_000-038-video2_000-039: overlap = 0.0\n",
      "\n",
      "video2_000-038-video2_000-039: overlap = 0.0\n"
     ]
    },
    {
     "name": "stderr",
     "output_type": "stream",
     "text": [
      "\r",
      " 76%|███████▋  | 39/51 [00:35<00:20,  1.71s/it]"
     ]
    },
    {
     "name": "stdout",
     "output_type": "stream",
     "text": [
      "\n",
      "video2_000-038-video2_000-039: overlap = 0.0\n"
     ]
    },
    {
     "name": "stderr",
     "output_type": "stream",
     "text": [
      "\r",
      " 78%|███████▊  | 40/51 [00:36<00:15,  1.40s/it]"
     ]
    },
    {
     "name": "stdout",
     "output_type": "stream",
     "text": [
      "\n",
      "mean_270619-video2_000-039_opened_cc54.png: too spherical 2.404690702348381\n",
      "\n",
      "mean_270619-video2_000-039_opened_cc59.png is INTERESTING\n",
      "\n",
      "video2_000-038-video2_000-039: overlap = 0.0\n",
      "\n",
      "video2_000-038-video2_000-039: overlap = 0.0\n"
     ]
    },
    {
     "name": "stderr",
     "output_type": "stream",
     "text": [
      "\r",
      " 80%|████████  | 41/51 [00:38<00:16,  1.69s/it]"
     ]
    },
    {
     "name": "stdout",
     "output_type": "stream",
     "text": [
      "\n",
      "video2_000-038-video2_000-039: overlap = 0.0\n"
     ]
    },
    {
     "name": "stderr",
     "output_type": "stream",
     "text": [
      "\r",
      " 82%|████████▏ | 42/51 [00:39<00:12,  1.39s/it]"
     ]
    },
    {
     "name": "stdout",
     "output_type": "stream",
     "text": [
      "\n",
      "mean_270619-video2_000-039_opened_cc76.png: too spherical 4.084308325562981\n",
      "\n",
      "mean_270619-video2_000-039_opened_cc77.png is INTERESTING\n",
      "\n",
      "video2_000-038-video2_000-039: overlap = 0.0\n",
      "\n",
      "video2_000-038-video2_000-039: overlap = 0.0\n"
     ]
    },
    {
     "name": "stderr",
     "output_type": "stream",
     "text": [
      "\r",
      " 84%|████████▍ | 43/51 [00:41<00:13,  1.68s/it]"
     ]
    },
    {
     "name": "stdout",
     "output_type": "stream",
     "text": [
      "\n",
      "video2_000-038-video2_000-039: overlap = 0.510958904109589\n"
     ]
    },
    {
     "name": "stderr",
     "output_type": "stream",
     "text": [
      "\r",
      " 86%|████████▋ | 44/51 [00:42<00:09,  1.38s/it]"
     ]
    },
    {
     "name": "stdout",
     "output_type": "stream",
     "text": [
      "\n",
      "mean_270619-video2_000-043_opened_cc05.png is INTERESTING\n"
     ]
    },
    {
     "name": "stderr",
     "output_type": "stream",
     "text": [
      "\r",
      " 88%|████████▊ | 45/51 [00:42<00:06,  1.15s/it]"
     ]
    },
    {
     "name": "stdout",
     "output_type": "stream",
     "text": [
      "\n",
      "mean_270619-video2_000-043_opened_cc13.png: too spherical 3.624042257090934\n"
     ]
    },
    {
     "name": "stderr",
     "output_type": "stream",
     "text": [
      "\r",
      " 90%|█████████ | 46/51 [00:43<00:04,  1.01it/s]"
     ]
    },
    {
     "name": "stdout",
     "output_type": "stream",
     "text": [
      "\n",
      "mean_270619-video2_000-043_opened_cc31.png is INTERESTING\n"
     ]
    },
    {
     "name": "stderr",
     "output_type": "stream",
     "text": [
      "\r",
      " 92%|█████████▏| 47/51 [00:43<00:03,  1.14it/s]"
     ]
    },
    {
     "name": "stdout",
     "output_type": "stream",
     "text": [
      "\n",
      "mean_270619-video2_000-044_opened_cc02.png: too spherical 9.032512560103408\n"
     ]
    },
    {
     "name": "stderr",
     "output_type": "stream",
     "text": [
      "\r",
      " 94%|█████████▍| 48/51 [00:44<00:02,  1.25it/s]"
     ]
    },
    {
     "name": "stdout",
     "output_type": "stream",
     "text": [
      "\n",
      "mean_270619-video2_000-044_opened_cc14.png: too spherical 2.512104156399837\n"
     ]
    },
    {
     "name": "stderr",
     "output_type": "stream",
     "text": [
      "\r",
      " 96%|█████████▌| 49/51 [00:45<00:01,  1.34it/s]"
     ]
    },
    {
     "name": "stdout",
     "output_type": "stream",
     "text": [
      "\n",
      "mean_270619-video2_000-044_opened_cc38.png: too spherical 2.6712674186204164\n",
      "\n",
      "mean_270619-video2_000-044_opened_cc49.png is INTERESTING\n",
      "\n",
      "video2_000-043-video2_000-044: overlap = 0.0\n"
     ]
    },
    {
     "name": "stderr",
     "output_type": "stream",
     "text": [
      "\r",
      " 98%|█████████▊| 50/51 [00:46<00:01,  1.06s/it]"
     ]
    },
    {
     "name": "stdout",
     "output_type": "stream",
     "text": [
      "\n",
      "video2_000-043-video2_000-044: overlap = 0.0\n"
     ]
    },
    {
     "name": "stderr",
     "output_type": "stream",
     "text": [
      "100%|██████████| 51/51 [00:47<00:00,  1.08it/s]\n",
      "  0%|          | 0/32 [00:00<?, ?it/s]"
     ]
    },
    {
     "name": "stdout",
     "output_type": "stream",
     "text": [
      "\n",
      "mean_270619-video2_000-044_opened_cc50.png: too spherical 2.043606834032354\n",
      "found video2_001/trigger_thr0.005_cl9_op3/cc_filtered_2den0.81_gausrad2.0/\n"
     ]
    },
    {
     "name": "stderr",
     "output_type": "stream",
     "text": [
      "\r",
      "  3%|▎         | 1/32 [00:00<00:23,  1.31it/s]"
     ]
    },
    {
     "name": "stdout",
     "output_type": "stream",
     "text": [
      "\n",
      "mean_270619-video2_001-001_opened_cc26.png: too spherical 4.853474919191273\n"
     ]
    },
    {
     "name": "stderr",
     "output_type": "stream",
     "text": [
      "\r",
      "  6%|▋         | 2/32 [00:01<00:21,  1.38it/s]"
     ]
    },
    {
     "name": "stdout",
     "output_type": "stream",
     "text": [
      "\n",
      "mean_270619-video2_001-002_opened_cc01.png is INTERESTING\n"
     ]
    },
    {
     "name": "stderr",
     "output_type": "stream",
     "text": [
      "\r",
      "  9%|▉         | 3/32 [00:02<00:20,  1.45it/s]"
     ]
    },
    {
     "name": "stdout",
     "output_type": "stream",
     "text": [
      "\n",
      "mean_270619-video2_001-002_opened_cc11.png: too spherical 7.7247900150889235\n"
     ]
    },
    {
     "name": "stderr",
     "output_type": "stream",
     "text": [
      "\r",
      " 12%|█▎        | 4/32 [00:02<00:18,  1.47it/s]"
     ]
    },
    {
     "name": "stdout",
     "output_type": "stream",
     "text": [
      "\n",
      "mean_270619-video2_001-002_opened_cc14.png: too spherical 8.112582819179659\n"
     ]
    },
    {
     "name": "stderr",
     "output_type": "stream",
     "text": [
      "\r",
      " 16%|█▌        | 5/32 [00:03<00:17,  1.51it/s]"
     ]
    },
    {
     "name": "stdout",
     "output_type": "stream",
     "text": [
      "\n",
      "mean_270619-video2_001-002_opened_cc24.png is INTERESTING\n"
     ]
    },
    {
     "name": "stderr",
     "output_type": "stream",
     "text": [
      "\r",
      " 19%|█▉        | 6/32 [00:03<00:17,  1.50it/s]"
     ]
    },
    {
     "name": "stdout",
     "output_type": "stream",
     "text": [
      "\n",
      "mean_270619-video2_001-002_opened_cc32.png: too spherical 3.382034136121451\n"
     ]
    },
    {
     "name": "stderr",
     "output_type": "stream",
     "text": [
      "\r",
      " 22%|██▏       | 7/32 [00:04<00:16,  1.53it/s]"
     ]
    },
    {
     "name": "stdout",
     "output_type": "stream",
     "text": [
      "\n",
      "mean_270619-video2_001-020_opened_cc22.png: too spherical 7.361916736688792\n"
     ]
    },
    {
     "name": "stderr",
     "output_type": "stream",
     "text": [
      "\r",
      " 25%|██▌       | 8/32 [00:05<00:15,  1.53it/s]"
     ]
    },
    {
     "name": "stdout",
     "output_type": "stream",
     "text": [
      "\n",
      "mean_270619-video2_001-020_opened_cc24.png: too spherical 6.820297011292038\n"
     ]
    },
    {
     "name": "stderr",
     "output_type": "stream",
     "text": [
      "\r",
      " 28%|██▊       | 9/32 [00:05<00:14,  1.55it/s]"
     ]
    },
    {
     "name": "stdout",
     "output_type": "stream",
     "text": [
      "\n",
      "mean_270619-video2_001-020_opened_cc31.png is INTERESTING\n"
     ]
    },
    {
     "name": "stderr",
     "output_type": "stream",
     "text": [
      "\r",
      " 31%|███▏      | 10/32 [00:06<00:14,  1.55it/s]"
     ]
    },
    {
     "name": "stdout",
     "output_type": "stream",
     "text": [
      "\n",
      "mean_270619-video2_001-020_opened_cc61.png: too spherical 5.307218924192093\n"
     ]
    },
    {
     "name": "stderr",
     "output_type": "stream",
     "text": [
      "\r",
      " 34%|███▍      | 11/32 [00:07<00:14,  1.48it/s]"
     ]
    },
    {
     "name": "stdout",
     "output_type": "stream",
     "text": [
      "\n",
      "mean_270619-video2_001-023_opened_cc03.png: too spherical 1.9250944484536174\n"
     ]
    },
    {
     "name": "stderr",
     "output_type": "stream",
     "text": [
      "\r",
      " 38%|███▊      | 12/32 [00:07<00:13,  1.52it/s]"
     ]
    },
    {
     "name": "stdout",
     "output_type": "stream",
     "text": [
      "\n",
      "mean_270619-video2_001-023_opened_cc35.png is INTERESTING\n"
     ]
    },
    {
     "name": "stderr",
     "output_type": "stream",
     "text": [
      "\r",
      " 41%|████      | 13/32 [00:08<00:12,  1.54it/s]"
     ]
    },
    {
     "name": "stdout",
     "output_type": "stream",
     "text": [
      "\n",
      "mean_270619-video2_001-023_opened_cc65.png is INTERESTING\n"
     ]
    },
    {
     "name": "stderr",
     "output_type": "stream",
     "text": [
      "\r",
      " 44%|████▍     | 14/32 [00:09<00:11,  1.55it/s]"
     ]
    },
    {
     "name": "stdout",
     "output_type": "stream",
     "text": [
      "\n",
      "mean_270619-video2_001-024_opened_cc31.png: too spherical 6.754487589402103\n"
     ]
    },
    {
     "name": "stderr",
     "output_type": "stream",
     "text": [
      "\r",
      " 47%|████▋     | 15/32 [00:09<00:11,  1.49it/s]"
     ]
    },
    {
     "name": "stdout",
     "output_type": "stream",
     "text": [
      "\n",
      "mean_270619-video2_001-024_opened_cc45.png: too spherical 1.3608077215256167\n",
      "\n",
      "mean_270619-video2_001-024_opened_cc50.png is INTERESTING\n"
     ]
    },
    {
     "name": "stderr",
     "output_type": "stream",
     "text": [
      "\r",
      " 50%|█████     | 16/32 [00:11<00:13,  1.21it/s]"
     ]
    },
    {
     "name": "stdout",
     "output_type": "stream",
     "text": [
      "\n",
      "video2_001-023-video2_001-024: overlap = 0.5925206410879067\n"
     ]
    },
    {
     "name": "stderr",
     "output_type": "stream",
     "text": [
      "\r",
      " 53%|█████▎    | 17/32 [00:11<00:11,  1.32it/s]"
     ]
    },
    {
     "name": "stdout",
     "output_type": "stream",
     "text": [
      "\n",
      "mean_270619-video2_001-025_opened_cc05.png: too spherical 1.309000357674428\n"
     ]
    },
    {
     "name": "stderr",
     "output_type": "stream",
     "text": [
      "\r",
      " 56%|█████▋    | 18/32 [00:12<00:10,  1.39it/s]"
     ]
    },
    {
     "name": "stdout",
     "output_type": "stream",
     "text": [
      "\n",
      "mean_270619-video2_001-025_opened_cc34.png: too spherical 3.2092369091076525\n",
      "\n",
      "mean_270619-video2_001-025_opened_cc55.png is INTERESTING\n"
     ]
    },
    {
     "name": "stderr",
     "output_type": "stream",
     "text": [
      "\r",
      " 59%|█████▉    | 19/32 [00:13<00:11,  1.16it/s]"
     ]
    },
    {
     "name": "stdout",
     "output_type": "stream",
     "text": [
      "\n",
      "video2_001-024-video2_001-025: overlap = 0.7962382445141065\n"
     ]
    },
    {
     "name": "stderr",
     "output_type": "stream",
     "text": [
      "\r",
      " 62%|██████▎   | 20/32 [00:14<00:09,  1.27it/s]"
     ]
    },
    {
     "name": "stdout",
     "output_type": "stream",
     "text": [
      "\n",
      "mean_270619-video2_001-025_opened_cc57.png: too spherical 3.284258887686728\n"
     ]
    },
    {
     "name": "stderr",
     "output_type": "stream",
     "text": [
      "\r",
      " 66%|██████▌   | 21/32 [00:14<00:08,  1.36it/s]"
     ]
    },
    {
     "name": "stdout",
     "output_type": "stream",
     "text": [
      "\n",
      "mean_270619-video2_001-025_opened_cc60.png is INTERESTING\n"
     ]
    },
    {
     "name": "stderr",
     "output_type": "stream",
     "text": [
      "\r",
      " 69%|██████▉   | 22/32 [00:15<00:07,  1.41it/s]"
     ]
    },
    {
     "name": "stdout",
     "output_type": "stream",
     "text": [
      "\n",
      "mean_270619-video2_001-025_opened_cc72.png is INTERESTING\n",
      "\n",
      "mean_270619-video2_001-026_opened_cc03.png is INTERESTING\n",
      "\n",
      "video2_001-025-video2_001-026: overlap = 0.0\n",
      "\n",
      "video2_001-025-video2_001-026: overlap = 0.0\n"
     ]
    },
    {
     "name": "stderr",
     "output_type": "stream",
     "text": [
      "\r",
      " 72%|███████▏  | 23/32 [00:17<00:10,  1.20s/it]"
     ]
    },
    {
     "name": "stdout",
     "output_type": "stream",
     "text": [
      "\n",
      "video2_001-025-video2_001-026: overlap = 0.0\n"
     ]
    },
    {
     "name": "stderr",
     "output_type": "stream",
     "text": [
      "\r",
      " 75%|███████▌  | 24/32 [00:18<00:08,  1.03s/it]"
     ]
    },
    {
     "name": "stdout",
     "output_type": "stream",
     "text": [
      "\n",
      "mean_270619-video2_001-026_opened_cc10.png: too spherical 6.991406829790614\n"
     ]
    },
    {
     "name": "stderr",
     "output_type": "stream",
     "text": [
      "\r",
      " 78%|███████▊  | 25/32 [00:18<00:06,  1.10it/s]"
     ]
    },
    {
     "name": "stdout",
     "output_type": "stream",
     "text": [
      "\n",
      "mean_270619-video2_001-026_opened_cc22.png: too spherical 3.139761326490548\n"
     ]
    },
    {
     "name": "stderr",
     "output_type": "stream",
     "text": [
      "\r",
      " 81%|████████▏ | 26/32 [00:19<00:04,  1.21it/s]"
     ]
    },
    {
     "name": "stdout",
     "output_type": "stream",
     "text": [
      "\n",
      "mean_270619-video2_001-026_opened_cc29.png: too spherical 8.230404443124828\n"
     ]
    },
    {
     "name": "stderr",
     "output_type": "stream",
     "text": [
      "\r",
      " 84%|████████▍ | 27/32 [00:20<00:03,  1.31it/s]"
     ]
    },
    {
     "name": "stdout",
     "output_type": "stream",
     "text": [
      "\n",
      "mean_270619-video2_001-026_opened_cc48.png: too spherical 7.071379779546126\n"
     ]
    },
    {
     "name": "stderr",
     "output_type": "stream",
     "text": [
      "\r",
      " 88%|████████▊ | 28/32 [00:20<00:02,  1.39it/s]"
     ]
    },
    {
     "name": "stdout",
     "output_type": "stream",
     "text": [
      "\n",
      "mean_270619-video2_001-041_opened_cc40.png is INTERESTING\n"
     ]
    },
    {
     "name": "stderr",
     "output_type": "stream",
     "text": [
      "\r",
      " 91%|█████████ | 29/32 [00:21<00:02,  1.45it/s]"
     ]
    },
    {
     "name": "stdout",
     "output_type": "stream",
     "text": [
      "\n",
      "mean_270619-video2_001-041_opened_cc56.png: too spherical 5.373369753728831\n"
     ]
    },
    {
     "name": "stderr",
     "output_type": "stream",
     "text": [
      "\r",
      " 94%|█████████▍| 30/32 [00:22<00:01,  1.50it/s]"
     ]
    },
    {
     "name": "stdout",
     "output_type": "stream",
     "text": [
      "\n",
      "mean_270619-video2_001-041_opened_cc73.png: too spherical 1.4087341210845394\n"
     ]
    },
    {
     "name": "stderr",
     "output_type": "stream",
     "text": [
      "\r",
      " 97%|█████████▋| 31/32 [00:22<00:00,  1.52it/s]"
     ]
    },
    {
     "name": "stdout",
     "output_type": "stream",
     "text": [
      "\n",
      "mean_270619-video2_001-020_opened_cc13.png: too spherical 6.930780194196621\n"
     ]
    },
    {
     "name": "stderr",
     "output_type": "stream",
     "text": [
      "100%|██████████| 32/32 [00:23<00:00,  1.55it/s]\n",
      "  0%|          | 0/45 [00:00<?, ?it/s]"
     ]
    },
    {
     "name": "stdout",
     "output_type": "stream",
     "text": [
      "\n",
      "mean_270619-video2_001-025_opened_cc108.png: too spherical 1.6247547941392049\n",
      "found video2_002/trigger_thr0.005_cl9_op3/cc_filtered_2den0.81_gausrad2.0/\n"
     ]
    },
    {
     "name": "stderr",
     "output_type": "stream",
     "text": [
      "\r",
      "  2%|▏         | 1/45 [00:00<00:28,  1.54it/s]"
     ]
    },
    {
     "name": "stdout",
     "output_type": "stream",
     "text": [
      "\n",
      "mean_270619-video2_002-017_opened_cc02.png is INTERESTING\n",
      "\n",
      "mean_270619-video2_002-018_opened_cc03.png is INTERESTING\n"
     ]
    },
    {
     "name": "stderr",
     "output_type": "stream",
     "text": [
      "\r",
      "  4%|▍         | 2/45 [00:01<00:36,  1.18it/s]"
     ]
    },
    {
     "name": "stdout",
     "output_type": "stream",
     "text": [
      "\n",
      "video2_002-017-video2_002-018: overlap = 0.839238845144357\n"
     ]
    },
    {
     "name": "stderr",
     "output_type": "stream",
     "text": [
      "\r",
      "  7%|▋         | 3/45 [00:02<00:33,  1.26it/s]"
     ]
    },
    {
     "name": "stdout",
     "output_type": "stream",
     "text": [
      "\n",
      "mean_270619-video2_002-018_opened_cc07.png: too spherical 7.993138783238395\n"
     ]
    },
    {
     "name": "stderr",
     "output_type": "stream",
     "text": [
      "\r",
      "  9%|▉         | 4/45 [00:03<00:30,  1.33it/s]"
     ]
    },
    {
     "name": "stdout",
     "output_type": "stream",
     "text": [
      "\n",
      "mean_270619-video2_002-018_opened_cc15.png: too spherical 2.757082018578729\n"
     ]
    },
    {
     "name": "stderr",
     "output_type": "stream",
     "text": [
      "\r",
      " 11%|█         | 5/45 [00:03<00:29,  1.38it/s]"
     ]
    },
    {
     "name": "stdout",
     "output_type": "stream",
     "text": [
      "\n",
      "mean_270619-video2_002-018_opened_cc26.png is INTERESTING\n"
     ]
    },
    {
     "name": "stderr",
     "output_type": "stream",
     "text": [
      "\r",
      " 13%|█▎        | 6/45 [00:04<00:27,  1.42it/s]"
     ]
    },
    {
     "name": "stdout",
     "output_type": "stream",
     "text": [
      "\n",
      "mean_270619-video2_002-018_opened_cc47.png is INTERESTING\n"
     ]
    },
    {
     "name": "stderr",
     "output_type": "stream",
     "text": [
      "\r",
      " 16%|█▌        | 7/45 [00:05<00:25,  1.46it/s]"
     ]
    },
    {
     "name": "stdout",
     "output_type": "stream",
     "text": [
      "\n",
      "mean_270619-video2_002-018_opened_cc51.png: too spherical 8.973486484972291\n"
     ]
    },
    {
     "name": "stderr",
     "output_type": "stream",
     "text": [
      "\r",
      " 18%|█▊        | 8/45 [00:05<00:24,  1.49it/s]"
     ]
    },
    {
     "name": "stdout",
     "output_type": "stream",
     "text": [
      "\n",
      "mean_270619-video2_002-018_opened_cc58.png: too spherical 3.671642462434248\n",
      "\n",
      "mean_270619-video2_002-019_opened_cc08.png is INTERESTING\n",
      "\n",
      "video2_002-018-video2_002-019: overlap = 0.0\n",
      "\n",
      "video2_002-018-video2_002-019: overlap = 0.0\n"
     ]
    },
    {
     "name": "stderr",
     "output_type": "stream",
     "text": [
      "\r",
      " 20%|██        | 9/45 [00:08<00:42,  1.19s/it]"
     ]
    },
    {
     "name": "stdout",
     "output_type": "stream",
     "text": [
      "\n",
      "video2_002-018-video2_002-019: overlap = 0.0\n"
     ]
    },
    {
     "name": "stderr",
     "output_type": "stream",
     "text": [
      "\r",
      " 22%|██▏       | 10/45 [00:08<00:35,  1.02s/it]"
     ]
    },
    {
     "name": "stdout",
     "output_type": "stream",
     "text": [
      "\n",
      "mean_270619-video2_002-019_opened_cc12.png: too spherical 7.956121307548559\n",
      "\n",
      "mean_270619-video2_002-019_opened_cc19.png is INTERESTING\n",
      "\n",
      "video2_002-018-video2_002-019: overlap = 0.0\n",
      "\n",
      "video2_002-018-video2_002-019: overlap = 0.0\n"
     ]
    },
    {
     "name": "stderr",
     "output_type": "stream",
     "text": [
      "\r",
      " 24%|██▍       | 11/45 [00:11<00:48,  1.42s/it]"
     ]
    },
    {
     "name": "stdout",
     "output_type": "stream",
     "text": [
      "\n",
      "video2_002-018-video2_002-019: overlap = 0.0\n"
     ]
    },
    {
     "name": "stderr",
     "output_type": "stream",
     "text": [
      "\r",
      " 27%|██▋       | 12/45 [00:11<00:38,  1.18s/it]"
     ]
    },
    {
     "name": "stdout",
     "output_type": "stream",
     "text": [
      "\n",
      "mean_270619-video2_002-019_opened_cc31.png: too spherical 4.390116504699563\n"
     ]
    },
    {
     "name": "stderr",
     "output_type": "stream",
     "text": [
      "\r",
      " 29%|██▉       | 13/45 [00:12<00:32,  1.02s/it]"
     ]
    },
    {
     "name": "stdout",
     "output_type": "stream",
     "text": [
      "\n",
      "mean_270619-video2_002-019_opened_cc41.png: too spherical 4.7434794363093395\n"
     ]
    },
    {
     "name": "stderr",
     "output_type": "stream",
     "text": [
      "\r",
      " 31%|███       | 14/45 [00:13<00:28,  1.10it/s]"
     ]
    },
    {
     "name": "stdout",
     "output_type": "stream",
     "text": [
      "\n",
      "mean_270619-video2_002-020_opened_cc02.png: too spherical 4.381299076165145\n"
     ]
    },
    {
     "name": "stderr",
     "output_type": "stream",
     "text": [
      "\r",
      " 33%|███▎      | 15/45 [00:13<00:25,  1.18it/s]"
     ]
    },
    {
     "name": "stdout",
     "output_type": "stream",
     "text": [
      "\n",
      "mean_270619-video2_002-020_opened_cc09.png: too spherical 2.1703066282455974\n"
     ]
    },
    {
     "name": "stderr",
     "output_type": "stream",
     "text": [
      "\r",
      " 36%|███▌      | 16/45 [00:14<00:22,  1.28it/s]"
     ]
    },
    {
     "name": "stdout",
     "output_type": "stream",
     "text": [
      "\n",
      "mean_270619-video2_002-020_opened_cc15.png: too spherical 5.757998843812614\n",
      "\n",
      "mean_270619-video2_002-020_opened_cc40.png is INTERESTING\n",
      "\n",
      "video2_002-019-video2_002-020: overlap = 0.0\n"
     ]
    },
    {
     "name": "stderr",
     "output_type": "stream",
     "text": [
      "\r",
      " 38%|███▊      | 17/45 [00:16<00:29,  1.07s/it]"
     ]
    },
    {
     "name": "stdout",
     "output_type": "stream",
     "text": [
      "\n",
      "video2_002-019-video2_002-020: overlap = 0.0\n"
     ]
    },
    {
     "name": "stderr",
     "output_type": "stream",
     "text": [
      "\r",
      " 40%|████      | 18/45 [00:16<00:25,  1.07it/s]"
     ]
    },
    {
     "name": "stdout",
     "output_type": "stream",
     "text": [
      "\n",
      "mean_270619-video2_002-020_opened_cc49.png: too spherical 9.151195685724451\n"
     ]
    },
    {
     "name": "stderr",
     "output_type": "stream",
     "text": [
      "\r",
      " 42%|████▏     | 19/45 [00:17<00:21,  1.19it/s]"
     ]
    },
    {
     "name": "stdout",
     "output_type": "stream",
     "text": [
      "\n",
      "mean_270619-video2_002-027_opened_cc03.png is INTERESTING\n"
     ]
    },
    {
     "name": "stderr",
     "output_type": "stream",
     "text": [
      "\r",
      " 44%|████▍     | 20/45 [00:18<00:19,  1.26it/s]"
     ]
    },
    {
     "name": "stdout",
     "output_type": "stream",
     "text": [
      "\n",
      "mean_270619-video2_002-027_opened_cc22.png: too spherical 5.374683299191739\n"
     ]
    },
    {
     "name": "stderr",
     "output_type": "stream",
     "text": [
      "\r",
      " 47%|████▋     | 21/45 [00:18<00:17,  1.35it/s]"
     ]
    },
    {
     "name": "stdout",
     "output_type": "stream",
     "text": [
      "\n",
      "mean_270619-video2_002-027_opened_cc38.png: too spherical 3.7262126905110797\n"
     ]
    },
    {
     "name": "stderr",
     "output_type": "stream",
     "text": [
      "\r",
      " 49%|████▉     | 22/45 [00:19<00:16,  1.40it/s]"
     ]
    },
    {
     "name": "stdout",
     "output_type": "stream",
     "text": [
      "\n",
      "mean_270619-video2_002-027_opened_cc65.png is INTERESTING\n",
      "\n",
      "mean_270619-video2_002-028_opened_cc05.png is INTERESTING\n",
      "\n",
      "video2_002-027-video2_002-028: overlap = 0.2837127845884413\n"
     ]
    },
    {
     "name": "stderr",
     "output_type": "stream",
     "text": [
      "\r",
      " 51%|█████     | 23/45 [00:21<00:23,  1.05s/it]"
     ]
    },
    {
     "name": "stdout",
     "output_type": "stream",
     "text": [
      "\n",
      "video2_002-027-video2_002-028: overlap = 0.0\n",
      "\n",
      "mean_270619-video2_002-028_opened_cc09.png is INTERESTING\n",
      "\n",
      "video2_002-027-video2_002-028: overlap = 0.0\n"
     ]
    },
    {
     "name": "stderr",
     "output_type": "stream",
     "text": [
      "\r",
      " 53%|█████▎    | 24/45 [00:23<00:26,  1.27s/it]"
     ]
    },
    {
     "name": "stdout",
     "output_type": "stream",
     "text": [
      "\n",
      "video2_002-027-video2_002-028: overlap = 0.0\n"
     ]
    },
    {
     "name": "stderr",
     "output_type": "stream",
     "text": [
      "\r",
      " 56%|█████▌    | 25/45 [00:23<00:21,  1.08s/it]"
     ]
    },
    {
     "name": "stdout",
     "output_type": "stream",
     "text": [
      "\n",
      "mean_270619-video2_002-028_opened_cc10.png: too spherical 1.6539213963722526\n"
     ]
    },
    {
     "name": "stderr",
     "output_type": "stream",
     "text": [
      "\r",
      " 58%|█████▊    | 26/45 [00:24<00:18,  1.05it/s]"
     ]
    },
    {
     "name": "stdout",
     "output_type": "stream",
     "text": [
      "\n",
      "mean_270619-video2_002-028_opened_cc20.png: too spherical 1.416322331822595\n"
     ]
    },
    {
     "name": "stderr",
     "output_type": "stream",
     "text": [
      "\r",
      " 60%|██████    | 27/45 [00:24<00:15,  1.17it/s]"
     ]
    },
    {
     "name": "stdout",
     "output_type": "stream",
     "text": [
      "\n",
      "mean_270619-video2_002-028_opened_cc69.png: too spherical 1.417287915805048\n",
      "\n",
      "mean_270619-video2_002-029_opened_cc05.png is INTERESTING\n"
     ]
    },
    {
     "name": "stderr",
     "output_type": "stream",
     "text": [
      "\r",
      " 62%|██████▏   | 28/45 [00:26<00:17,  1.00s/it]"
     ]
    },
    {
     "name": "stdout",
     "output_type": "stream",
     "text": [
      "\n",
      "video2_002-028-video2_002-029: overlap = 0.5157088122605364\n"
     ]
    },
    {
     "name": "stderr",
     "output_type": "stream",
     "text": [
      "\r",
      " 64%|██████▍   | 29/45 [00:27<00:14,  1.10it/s]"
     ]
    },
    {
     "name": "stdout",
     "output_type": "stream",
     "text": [
      "\n",
      "mean_270619-video2_002-029_opened_cc11.png: too spherical 2.915861575833194\n"
     ]
    },
    {
     "name": "stderr",
     "output_type": "stream",
     "text": [
      "\r",
      " 67%|██████▋   | 30/45 [00:27<00:12,  1.18it/s]"
     ]
    },
    {
     "name": "stdout",
     "output_type": "stream",
     "text": [
      "\n",
      "mean_270619-video2_002-029_opened_cc21.png: too spherical 4.404026606986247\n"
     ]
    },
    {
     "name": "stderr",
     "output_type": "stream",
     "text": [
      "\r",
      " 69%|██████▉   | 31/45 [00:28<00:12,  1.16it/s]"
     ]
    },
    {
     "name": "stdout",
     "output_type": "stream",
     "text": [
      "\n",
      "mean_270619-video2_002-019_opened_cc01.png: too spherical 3.5829403640549744\n"
     ]
    },
    {
     "name": "stderr",
     "output_type": "stream",
     "text": [
      "\r",
      " 71%|███████   | 32/45 [00:29<00:12,  1.05it/s]"
     ]
    },
    {
     "name": "stdout",
     "output_type": "stream",
     "text": [
      "\n",
      "mean_270619-video2_002-027_opened_cc11.png is INTERESTING\n"
     ]
    },
    {
     "name": "stderr",
     "output_type": "stream",
     "text": [
      "\r",
      " 73%|███████▎  | 33/45 [00:30<00:12,  1.00s/it]"
     ]
    },
    {
     "name": "stdout",
     "output_type": "stream",
     "text": [
      "\n",
      "mean_270619-video2_002-029_opened_cc37.png: too spherical 2.3751797492845457\n"
     ]
    },
    {
     "name": "stderr",
     "output_type": "stream",
     "text": [
      "\r",
      " 76%|███████▌  | 34/45 [00:32<00:11,  1.04s/it]"
     ]
    },
    {
     "name": "stdout",
     "output_type": "stream",
     "text": [
      "\n",
      "mean_270619-video2_002-030_opened_cc07.png: too spherical 5.821894009513413\n"
     ]
    },
    {
     "name": "stderr",
     "output_type": "stream",
     "text": [
      "\r",
      " 78%|███████▊  | 35/45 [00:33<00:10,  1.04s/it]"
     ]
    },
    {
     "name": "stdout",
     "output_type": "stream",
     "text": [
      "\n",
      "mean_270619-video2_002-030_opened_cc21.png: too spherical 5.135665105930967\n"
     ]
    },
    {
     "name": "stderr",
     "output_type": "stream",
     "text": [
      "\r",
      " 80%|████████  | 36/45 [00:34<00:09,  1.07s/it]"
     ]
    },
    {
     "name": "stdout",
     "output_type": "stream",
     "text": [
      "\n",
      "mean_270619-video2_002-030_opened_cc40.png: too spherical 2.333939783829976\n"
     ]
    },
    {
     "name": "stderr",
     "output_type": "stream",
     "text": [
      "\r",
      " 82%|████████▏ | 37/45 [00:35<00:08,  1.01s/it]"
     ]
    },
    {
     "name": "stdout",
     "output_type": "stream",
     "text": [
      "\n",
      "mean_270619-video2_002-030_opened_cc43.png: too spherical 3.6903395953009603\n"
     ]
    },
    {
     "name": "stderr",
     "output_type": "stream",
     "text": [
      "\r",
      " 84%|████████▍ | 38/45 [00:36<00:06,  1.02it/s]"
     ]
    },
    {
     "name": "stdout",
     "output_type": "stream",
     "text": [
      "\n",
      "mean_270619-video2_002-030_opened_cc59.png: too spherical 4.359525264313313\n"
     ]
    },
    {
     "name": "stderr",
     "output_type": "stream",
     "text": [
      "\r",
      " 87%|████████▋ | 39/45 [00:36<00:05,  1.15it/s]"
     ]
    },
    {
     "name": "stdout",
     "output_type": "stream",
     "text": [
      "\n",
      "mean_270619-video2_002-030_opened_cc62.png: too spherical 5.091888649212216\n"
     ]
    },
    {
     "name": "stderr",
     "output_type": "stream",
     "text": [
      "\r",
      " 89%|████████▉ | 40/45 [00:37<00:04,  1.24it/s]"
     ]
    },
    {
     "name": "stdout",
     "output_type": "stream",
     "text": [
      "\n",
      "mean_270619-video2_002-030_opened_cc65.png: too spherical 8.081619339115656\n"
     ]
    },
    {
     "name": "stderr",
     "output_type": "stream",
     "text": [
      "\r",
      " 91%|█████████ | 41/45 [00:37<00:03,  1.32it/s]"
     ]
    },
    {
     "name": "stdout",
     "output_type": "stream",
     "text": [
      "\n",
      "mean_270619-video2_002-030_opened_cc80.png: too spherical 7.4812934247877845\n"
     ]
    },
    {
     "name": "stderr",
     "output_type": "stream",
     "text": [
      "\r",
      " 93%|█████████▎| 42/45 [00:38<00:02,  1.17it/s]"
     ]
    },
    {
     "name": "stdout",
     "output_type": "stream",
     "text": [
      "\n",
      "mean_270619-video2_002-031_opened_cc19.png: too spherical 3.249166072995379\n"
     ]
    },
    {
     "name": "stderr",
     "output_type": "stream",
     "text": [
      "\r",
      " 96%|█████████▌| 43/45 [00:40<00:01,  1.10it/s]"
     ]
    },
    {
     "name": "stdout",
     "output_type": "stream",
     "text": [
      "\n",
      "mean_270619-video2_002-031_opened_cc26.png is INTERESTING\n"
     ]
    },
    {
     "name": "stderr",
     "output_type": "stream",
     "text": [
      "\r",
      " 98%|█████████▊| 44/45 [00:41<00:00,  1.02it/s]"
     ]
    },
    {
     "name": "stdout",
     "output_type": "stream",
     "text": [
      "\n",
      "mean_270619-video2_002-031_opened_cc38.png: too spherical 1.3950471891783143\n"
     ]
    },
    {
     "name": "stderr",
     "output_type": "stream",
     "text": [
      "100%|██████████| 45/45 [00:42<00:00,  1.02s/it]\n",
      "  0%|          | 0/46 [00:00<?, ?it/s]"
     ]
    },
    {
     "name": "stdout",
     "output_type": "stream",
     "text": [
      "\n",
      "mean_270619-video2_002-031_opened_cc57.png: too spherical 2.624561348753169\n",
      "found video2_003/trigger_thr0.005_cl9_op3/cc_filtered_2den0.81_gausrad2.0/\n"
     ]
    },
    {
     "name": "stderr",
     "output_type": "stream",
     "text": [
      "\r",
      "  2%|▏         | 1/46 [00:00<00:29,  1.53it/s]"
     ]
    },
    {
     "name": "stdout",
     "output_type": "stream",
     "text": [
      "\n",
      "mean_270619-video2_003-004_opened_cc10.png: too spherical 5.5567569350857\n"
     ]
    },
    {
     "name": "stderr",
     "output_type": "stream",
     "text": [
      "\r",
      "  4%|▍         | 2/46 [00:01<00:28,  1.53it/s]"
     ]
    },
    {
     "name": "stdout",
     "output_type": "stream",
     "text": [
      "\n",
      "mean_270619-video2_003-004_opened_cc52.png is INTERESTING\n",
      "\n",
      "mean_270619-video2_003-005_opened_cc17.png is INTERESTING\n"
     ]
    },
    {
     "name": "stderr",
     "output_type": "stream",
     "text": [
      "\r",
      "  7%|▋         | 3/46 [00:02<00:38,  1.10it/s]"
     ]
    },
    {
     "name": "stdout",
     "output_type": "stream",
     "text": [
      "\n",
      "video2_003-004-video2_003-005: overlap = 0.0\n"
     ]
    },
    {
     "name": "stderr",
     "output_type": "stream",
     "text": [
      "\r",
      "  9%|▊         | 4/46 [00:03<00:38,  1.10it/s]"
     ]
    },
    {
     "name": "stdout",
     "output_type": "stream",
     "text": [
      "\n",
      "mean_270619-video2_003-005_opened_cc24.png: too spherical 7.429010953885581\n",
      "\n",
      "mean_270619-video2_003-005_opened_cc43.png is INTERESTING\n"
     ]
    },
    {
     "name": "stderr",
     "output_type": "stream",
     "text": [
      "\r",
      " 11%|█         | 5/46 [00:04<00:40,  1.02it/s]"
     ]
    },
    {
     "name": "stdout",
     "output_type": "stream",
     "text": [
      "\n",
      "video2_003-004-video2_003-005: overlap = 0.0\n",
      "\n",
      "mean_270619-video2_003-005_opened_cc47.png is INTERESTING\n"
     ]
    },
    {
     "name": "stderr",
     "output_type": "stream",
     "text": [
      "\r",
      " 13%|█▎        | 6/46 [00:06<00:41,  1.04s/it]"
     ]
    },
    {
     "name": "stdout",
     "output_type": "stream",
     "text": [
      "\n",
      "video2_003-004-video2_003-005: overlap = 0.86158948845516\n"
     ]
    },
    {
     "name": "stderr",
     "output_type": "stream",
     "text": [
      "\r",
      " 15%|█▌        | 7/46 [00:06<00:35,  1.10it/s]"
     ]
    },
    {
     "name": "stdout",
     "output_type": "stream",
     "text": [
      "\n",
      "mean_270619-video2_003-005_opened_cc48.png is INTERESTING\n",
      "\n",
      "mean_270619-video2_003-006_opened_cc01.png is INTERESTING\n",
      "\n",
      "video2_003-005-video2_003-006: overlap = 0.0\n",
      "\n",
      "video2_003-005-video2_003-006: overlap = 0.0\n",
      "\n",
      "video2_003-005-video2_003-006: overlap = 0.0\n"
     ]
    },
    {
     "name": "stderr",
     "output_type": "stream",
     "text": [
      "\r",
      " 17%|█▋        | 8/46 [00:09<00:58,  1.54s/it]"
     ]
    },
    {
     "name": "stdout",
     "output_type": "stream",
     "text": [
      "\n",
      "video2_003-005-video2_003-006: overlap = 0.0\n"
     ]
    },
    {
     "name": "stderr",
     "output_type": "stream",
     "text": [
      "\r",
      " 20%|█▉        | 9/46 [00:10<00:48,  1.32s/it]"
     ]
    },
    {
     "name": "stdout",
     "output_type": "stream",
     "text": [
      "\n",
      "mean_270619-video2_003-006_opened_cc13.png: too spherical 5.401796941912322\n"
     ]
    },
    {
     "name": "stderr",
     "output_type": "stream",
     "text": [
      "\r",
      " 22%|██▏       | 10/46 [00:11<00:40,  1.13s/it]"
     ]
    },
    {
     "name": "stdout",
     "output_type": "stream",
     "text": [
      "\n",
      "mean_270619-video2_003-006_opened_cc21.png: too spherical 3.328053393747667\n",
      "\n",
      "mean_270619-video2_003-006_opened_cc23.png is INTERESTING\n",
      "\n",
      "video2_003-005-video2_003-006: overlap = 0.0\n",
      "\n",
      "video2_003-005-video2_003-006: overlap = 0.0\n",
      "\n",
      "video2_003-005-video2_003-006: overlap = 0.0\n"
     ]
    },
    {
     "name": "stderr",
     "output_type": "stream",
     "text": [
      "\r",
      " 24%|██▍       | 11/46 [00:14<01:01,  1.76s/it]"
     ]
    },
    {
     "name": "stdout",
     "output_type": "stream",
     "text": [
      "\n",
      "video2_003-005-video2_003-006: overlap = 0.0\n",
      "\n",
      "mean_270619-video2_003-006_opened_cc36.png is INTERESTING\n",
      "\n",
      "video2_003-005-video2_003-006: overlap = 0.0\n",
      "\n",
      "video2_003-005-video2_003-006: overlap = 0.0\n"
     ]
    },
    {
     "name": "stderr",
     "output_type": "stream",
     "text": [
      "\r",
      " 26%|██▌       | 12/46 [00:16<01:06,  1.96s/it]"
     ]
    },
    {
     "name": "stdout",
     "output_type": "stream",
     "text": [
      "\n",
      "video2_003-005-video2_003-006: overlap = 0.7511111111111111\n",
      "\n",
      "mean_270619-video2_003-006_opened_cc38.png is INTERESTING\n",
      "\n",
      "video2_003-005-video2_003-006: overlap = 0.0\n",
      "\n",
      "video2_003-005-video2_003-006: overlap = 0.0\n"
     ]
    },
    {
     "name": "stderr",
     "output_type": "stream",
     "text": [
      "\r",
      " 28%|██▊       | 13/46 [00:19<01:09,  2.12s/it]"
     ]
    },
    {
     "name": "stdout",
     "output_type": "stream",
     "text": [
      "\n",
      "video2_003-005-video2_003-006: overlap = 0.0\n",
      "\n",
      "mean_270619-video2_003-006_opened_cc40.png is INTERESTING\n"
     ]
    },
    {
     "name": "stderr",
     "output_type": "stream",
     "text": [
      "\r",
      " 30%|███       | 14/46 [00:20<00:59,  1.84s/it]"
     ]
    },
    {
     "name": "stdout",
     "output_type": "stream",
     "text": [
      "\n",
      "video2_003-005-video2_003-006: overlap = 0.8548136645962733\n",
      "\n",
      "mean_270619-video2_003-006_opened_cc42.png is INTERESTING\n",
      "\n",
      "video2_003-005-video2_003-006: overlap = 0.0\n"
     ]
    },
    {
     "name": "stderr",
     "output_type": "stream",
     "text": [
      "\r",
      " 33%|███▎      | 15/46 [00:22<00:58,  1.89s/it]"
     ]
    },
    {
     "name": "stdout",
     "output_type": "stream",
     "text": [
      "\n",
      "video2_003-005-video2_003-006: overlap = 0.294289897510981\n",
      "\n",
      "mean_270619-video2_003-007_opened_cc02.png is INTERESTING\n",
      "\n",
      "video2_003-006-video2_003-007: overlap = 0.0\n",
      "\n",
      "video2_003-006-video2_003-007: overlap = 0.0\n",
      "\n",
      "video2_003-006-video2_003-007: overlap = 0.24658618642390662\n",
      "\n",
      "video2_003-006-video2_003-007: overlap = 0.0\n",
      "\n",
      "video2_003-006-video2_003-007: overlap = 0.0\n"
     ]
    },
    {
     "name": "stderr",
     "output_type": "stream",
     "text": [
      "\r",
      " 35%|███▍      | 16/46 [00:27<01:21,  2.71s/it]"
     ]
    },
    {
     "name": "stdout",
     "output_type": "stream",
     "text": [
      "\n",
      "video2_003-006-video2_003-007: overlap = 0.0\n",
      "\n",
      "mean_270619-video2_003-007_opened_cc08.png is INTERESTING\n",
      "\n",
      "video2_003-006-video2_003-007: overlap = 0.0\n",
      "\n",
      "video2_003-006-video2_003-007: overlap = 0.0\n",
      "\n",
      "video2_003-006-video2_003-007: overlap = 0.0\n",
      "\n",
      "video2_003-006-video2_003-007: overlap = 0.0\n",
      "\n",
      "video2_003-006-video2_003-007: overlap = 0.0\n"
     ]
    },
    {
     "name": "stderr",
     "output_type": "stream",
     "text": [
      "\r",
      " 37%|███▋      | 17/46 [00:31<01:30,  3.12s/it]"
     ]
    },
    {
     "name": "stdout",
     "output_type": "stream",
     "text": [
      "\n",
      "video2_003-006-video2_003-007: overlap = 0.0\n"
     ]
    },
    {
     "name": "stderr",
     "output_type": "stream",
     "text": [
      "\r",
      " 39%|███▉      | 18/46 [00:31<01:06,  2.37s/it]"
     ]
    },
    {
     "name": "stdout",
     "output_type": "stream",
     "text": [
      "\n",
      "mean_270619-video2_003-007_opened_cc54.png: too spherical 3.2351371719569135\n"
     ]
    },
    {
     "name": "stderr",
     "output_type": "stream",
     "text": [
      "\r",
      " 41%|████▏     | 19/46 [00:32<00:49,  1.85s/it]"
     ]
    },
    {
     "name": "stdout",
     "output_type": "stream",
     "text": [
      "\n",
      "mean_270619-video2_003-007_opened_cc65.png: too spherical 8.846537596141179\n",
      "\n",
      "mean_270619-video2_003-008_opened_cc09.png is INTERESTING\n",
      "\n",
      "video2_003-007-video2_003-008: overlap = 0.0\n"
     ]
    },
    {
     "name": "stderr",
     "output_type": "stream",
     "text": [
      "\r",
      " 43%|████▎     | 20/46 [00:34<00:47,  1.82s/it]"
     ]
    },
    {
     "name": "stdout",
     "output_type": "stream",
     "text": [
      "\n",
      "video2_003-007-video2_003-008: overlap = 0.0\n"
     ]
    },
    {
     "name": "stderr",
     "output_type": "stream",
     "text": [
      "\r",
      " 46%|████▌     | 21/46 [00:34<00:36,  1.45s/it]"
     ]
    },
    {
     "name": "stdout",
     "output_type": "stream",
     "text": [
      "\n",
      "mean_270619-video2_003-008_opened_cc15.png: too spherical 7.210005765560857\n"
     ]
    },
    {
     "name": "stderr",
     "output_type": "stream",
     "text": [
      "\r",
      " 48%|████▊     | 22/46 [00:35<00:28,  1.20s/it]"
     ]
    },
    {
     "name": "stdout",
     "output_type": "stream",
     "text": [
      "\n",
      "mean_270619-video2_003-008_opened_cc47.png: too spherical 3.008495086045375\n"
     ]
    },
    {
     "name": "stderr",
     "output_type": "stream",
     "text": [
      "\r",
      " 50%|█████     | 23/46 [00:36<00:24,  1.05s/it]"
     ]
    },
    {
     "name": "stdout",
     "output_type": "stream",
     "text": [
      "\n",
      "mean_270619-video2_003-008_opened_cc66.png: too spherical 3.1121642894078185\n",
      "\n",
      "mean_270619-video2_003-008_opened_cc89.png is INTERESTING\n",
      "\n",
      "video2_003-007-video2_003-008: overlap = 0.0\n"
     ]
    },
    {
     "name": "stderr",
     "output_type": "stream",
     "text": [
      "\r",
      " 52%|█████▏    | 24/46 [00:37<00:28,  1.28s/it]"
     ]
    },
    {
     "name": "stdout",
     "output_type": "stream",
     "text": [
      "\n",
      "video2_003-007-video2_003-008: overlap = 0.0\n"
     ]
    },
    {
     "name": "stderr",
     "output_type": "stream",
     "text": [
      "\r",
      " 54%|█████▍    | 25/46 [00:38<00:22,  1.08s/it]"
     ]
    },
    {
     "name": "stdout",
     "output_type": "stream",
     "text": [
      "\n",
      "mean_270619-video2_003-040_opened_cc04.png: too spherical 4.211346745250106\n"
     ]
    },
    {
     "name": "stderr",
     "output_type": "stream",
     "text": [
      "\r",
      " 57%|█████▋    | 26/46 [00:39<00:18,  1.07it/s]"
     ]
    },
    {
     "name": "stdout",
     "output_type": "stream",
     "text": [
      "\n",
      "mean_270619-video2_003-040_opened_cc05.png is INTERESTING\n"
     ]
    },
    {
     "name": "stderr",
     "output_type": "stream",
     "text": [
      "\r",
      " 59%|█████▊    | 27/46 [00:39<00:16,  1.18it/s]"
     ]
    },
    {
     "name": "stdout",
     "output_type": "stream",
     "text": [
      "\n",
      "mean_270619-video2_003-040_opened_cc06.png is INTERESTING\n"
     ]
    },
    {
     "name": "stderr",
     "output_type": "stream",
     "text": [
      "\r",
      " 61%|██████    | 28/46 [00:40<00:14,  1.27it/s]"
     ]
    },
    {
     "name": "stdout",
     "output_type": "stream",
     "text": [
      "\n",
      "mean_270619-video2_003-040_opened_cc10.png is INTERESTING\n"
     ]
    },
    {
     "name": "stderr",
     "output_type": "stream",
     "text": [
      "\r",
      " 63%|██████▎   | 29/46 [00:41<00:12,  1.37it/s]"
     ]
    },
    {
     "name": "stdout",
     "output_type": "stream",
     "text": [
      "\n",
      "mean_270619-video2_003-040_opened_cc49.png: too spherical 9.33243403197895\n",
      "\n",
      "mean_270619-video2_003-041_opened_cc04.png is INTERESTING\n",
      "\n",
      "video2_003-040-video2_003-041: overlap = 0.0\n",
      "\n",
      "video2_003-040-video2_003-041: overlap = 0.0\n"
     ]
    },
    {
     "name": "stderr",
     "output_type": "stream",
     "text": [
      "\r",
      " 65%|██████▌   | 30/46 [00:43<00:19,  1.21s/it]"
     ]
    },
    {
     "name": "stdout",
     "output_type": "stream",
     "text": [
      "\n",
      "video2_003-040-video2_003-041: overlap = 0.0\n",
      "\n",
      "mean_270619-video2_003-006_opened_cc07.png is INTERESTING\n",
      "\n",
      "video2_003-005-video2_003-006: overlap = 0.0\n"
     ]
    },
    {
     "name": "stderr",
     "output_type": "stream",
     "text": [
      "\r",
      " 67%|██████▋   | 31/46 [00:45<00:20,  1.38s/it]"
     ]
    },
    {
     "name": "stdout",
     "output_type": "stream",
     "text": [
      "\n",
      "video2_003-005-video2_003-006: overlap = 0.0\n"
     ]
    },
    {
     "name": "stderr",
     "output_type": "stream",
     "text": [
      "\r",
      " 70%|██████▉   | 32/46 [00:45<00:16,  1.15s/it]"
     ]
    },
    {
     "name": "stdout",
     "output_type": "stream",
     "text": [
      "\n",
      "mean_270619-video2_003-008_opened_cc03.png: too spherical 8.860086819856148\n"
     ]
    },
    {
     "name": "stderr",
     "output_type": "stream",
     "text": [
      "\r",
      " 72%|███████▏  | 33/46 [00:46<00:13,  1.01s/it]"
     ]
    },
    {
     "name": "stdout",
     "output_type": "stream",
     "text": [
      "\n",
      "mean_270619-video2_003-041_opened_cc05.png: too spherical 1.992805208562306\n",
      "\n",
      "mean_270619-video2_003-041_opened_cc08.png is INTERESTING\n",
      "\n",
      "video2_003-040-video2_003-041: overlap = 0.0\n",
      "\n",
      "video2_003-040-video2_003-041: overlap = 0.0\n"
     ]
    },
    {
     "name": "stderr",
     "output_type": "stream",
     "text": [
      "\r",
      " 74%|███████▍  | 34/46 [00:48<00:17,  1.42s/it]"
     ]
    },
    {
     "name": "stdout",
     "output_type": "stream",
     "text": [
      "\n",
      "video2_003-040-video2_003-041: overlap = 0.0\n",
      "\n",
      "mean_270619-video2_003-041_opened_cc17.png is INTERESTING\n",
      "\n",
      "video2_003-040-video2_003-041: overlap = 0.0\n",
      "\n",
      "video2_003-040-video2_003-041: overlap = 0.0\n"
     ]
    },
    {
     "name": "stderr",
     "output_type": "stream",
     "text": [
      "\r",
      " 76%|███████▌  | 35/46 [00:51<00:18,  1.69s/it]"
     ]
    },
    {
     "name": "stdout",
     "output_type": "stream",
     "text": [
      "\n",
      "video2_003-040-video2_003-041: overlap = 0.0\n"
     ]
    },
    {
     "name": "stderr",
     "output_type": "stream",
     "text": [
      "\r",
      " 78%|███████▊  | 36/46 [00:51<00:13,  1.38s/it]"
     ]
    },
    {
     "name": "stdout",
     "output_type": "stream",
     "text": [
      "\n",
      "mean_270619-video2_003-042_opened_cc05.png: too spherical 1.299486207744466\n",
      "\n",
      "mean_270619-video2_003-042_opened_cc06.png is INTERESTING\n",
      "\n",
      "video2_003-041-video2_003-042: overlap = 0.0\n",
      "\n",
      "video2_003-041-video2_003-042: overlap = 0.4035455278001612\n"
     ]
    },
    {
     "name": "stderr",
     "output_type": "stream",
     "text": [
      "\r",
      " 80%|████████  | 37/46 [00:54<00:15,  1.69s/it]"
     ]
    },
    {
     "name": "stdout",
     "output_type": "stream",
     "text": [
      "\n",
      "video2_003-041-video2_003-042: overlap = 0.0\n",
      "\n",
      "mean_270619-video2_003-042_opened_cc39.png is INTERESTING\n",
      "\n",
      "video2_003-041-video2_003-042: overlap = 0.0\n",
      "\n",
      "video2_003-041-video2_003-042: overlap = 0.0\n"
     ]
    },
    {
     "name": "stderr",
     "output_type": "stream",
     "text": [
      "\r",
      " 83%|████████▎ | 38/46 [00:56<00:15,  1.89s/it]"
     ]
    },
    {
     "name": "stdout",
     "output_type": "stream",
     "text": [
      "\n",
      "video2_003-041-video2_003-042: overlap = 0.0\n",
      "\n",
      "mean_270619-video2_003-043_opened_cc03.png is INTERESTING\n",
      "\n",
      "video2_003-042-video2_003-043: overlap = 0.0\n"
     ]
    },
    {
     "name": "stderr",
     "output_type": "stream",
     "text": [
      "\r",
      " 85%|████████▍ | 39/46 [00:58<00:12,  1.85s/it]"
     ]
    },
    {
     "name": "stdout",
     "output_type": "stream",
     "text": [
      "\n",
      "video2_003-042-video2_003-043: overlap = 0.0\n"
     ]
    },
    {
     "name": "stderr",
     "output_type": "stream",
     "text": [
      "\r",
      " 87%|████████▋ | 40/46 [00:59<00:09,  1.50s/it]"
     ]
    },
    {
     "name": "stdout",
     "output_type": "stream",
     "text": [
      "\n",
      "mean_270619-video2_003-043_opened_cc04.png: too spherical 7.544166074428864\n",
      "\n",
      "mean_270619-video2_003-043_opened_cc10.png is INTERESTING\n",
      "\n",
      "video2_003-042-video2_003-043: overlap = 0.0\n"
     ]
    },
    {
     "name": "stderr",
     "output_type": "stream",
     "text": [
      "\r",
      " 89%|████████▉ | 41/46 [01:00<00:08,  1.63s/it]"
     ]
    },
    {
     "name": "stdout",
     "output_type": "stream",
     "text": [
      "\n",
      "video2_003-042-video2_003-043: overlap = 0.0\n",
      "\n",
      "mean_270619-video2_003-043_opened_cc23.png is INTERESTING\n",
      "\n",
      "video2_003-042-video2_003-043: overlap = 0.0\n"
     ]
    },
    {
     "name": "stderr",
     "output_type": "stream",
     "text": [
      "\r",
      " 91%|█████████▏| 42/46 [01:02<00:06,  1.69s/it]"
     ]
    },
    {
     "name": "stdout",
     "output_type": "stream",
     "text": [
      "\n",
      "video2_003-042-video2_003-043: overlap = 0.0\n",
      "\n",
      "mean_270619-video2_003-043_opened_cc32.png is INTERESTING\n",
      "\n",
      "video2_003-042-video2_003-043: overlap = 0.0\n"
     ]
    },
    {
     "name": "stderr",
     "output_type": "stream",
     "text": [
      "\r",
      " 93%|█████████▎| 43/46 [01:04<00:05,  1.73s/it]"
     ]
    },
    {
     "name": "stdout",
     "output_type": "stream",
     "text": [
      "\n",
      "video2_003-042-video2_003-043: overlap = 0.0\n",
      "\n",
      "mean_270619-video2_003-043_opened_cc38.png is INTERESTING\n",
      "\n",
      "video2_003-042-video2_003-043: overlap = 0.0\n"
     ]
    },
    {
     "name": "stderr",
     "output_type": "stream",
     "text": [
      "\r",
      " 96%|█████████▌| 44/46 [01:06<00:03,  1.78s/it]"
     ]
    },
    {
     "name": "stdout",
     "output_type": "stream",
     "text": [
      "\n",
      "video2_003-042-video2_003-043: overlap = 0.0\n",
      "\n",
      "mean_270619-video2_003-043_opened_cc46.png is INTERESTING\n",
      "\n",
      "video2_003-042-video2_003-043: overlap = 0.0\n"
     ]
    },
    {
     "name": "stderr",
     "output_type": "stream",
     "text": [
      "\r",
      " 98%|█████████▊| 45/46 [01:08<00:01,  1.79s/it]"
     ]
    },
    {
     "name": "stdout",
     "output_type": "stream",
     "text": [
      "\n",
      "video2_003-042-video2_003-043: overlap = 0.0\n"
     ]
    },
    {
     "name": "stderr",
     "output_type": "stream",
     "text": [
      "100%|██████████| 46/46 [01:08<00:00,  1.43s/it]\n",
      "  0%|          | 0/43 [00:00<?, ?it/s]"
     ]
    },
    {
     "name": "stdout",
     "output_type": "stream",
     "text": [
      "\n",
      "mean_270619-video2_003-043_opened_cc61.png: too spherical 2.9240175119930782\n",
      "found video2_004/trigger_thr0.005_cl9_op3/cc_filtered_2den0.81_gausrad2.0/\n"
     ]
    },
    {
     "name": "stderr",
     "output_type": "stream",
     "text": [
      "\r",
      "  2%|▏         | 1/43 [00:00<00:30,  1.37it/s]"
     ]
    },
    {
     "name": "stdout",
     "output_type": "stream",
     "text": [
      "\n",
      "mean_270619-video2_004-001_opened_cc05.png is INTERESTING\n"
     ]
    },
    {
     "name": "stderr",
     "output_type": "stream",
     "text": [
      "\r",
      "  5%|▍         | 2/43 [00:01<00:28,  1.44it/s]"
     ]
    },
    {
     "name": "stdout",
     "output_type": "stream",
     "text": [
      "\n",
      "mean_270619-video2_004-001_opened_cc08.png: too spherical 6.974688467911011\n"
     ]
    },
    {
     "name": "stderr",
     "output_type": "stream",
     "text": [
      "\r",
      "  7%|▋         | 3/43 [00:02<00:27,  1.46it/s]"
     ]
    },
    {
     "name": "stdout",
     "output_type": "stream",
     "text": [
      "\n",
      "mean_270619-video2_004-001_opened_cc19.png: too spherical 4.559983919075375\n"
     ]
    },
    {
     "name": "stderr",
     "output_type": "stream",
     "text": [
      "\r",
      "  9%|▉         | 4/43 [00:02<00:25,  1.51it/s]"
     ]
    },
    {
     "name": "stdout",
     "output_type": "stream",
     "text": [
      "\n",
      "mean_270619-video2_004-001_opened_cc32.png: too spherical 1.5642399260368443\n"
     ]
    },
    {
     "name": "stderr",
     "output_type": "stream",
     "text": [
      "\r",
      " 12%|█▏        | 5/43 [00:03<00:24,  1.53it/s]"
     ]
    },
    {
     "name": "stdout",
     "output_type": "stream",
     "text": [
      "\n",
      "mean_270619-video2_004-001_opened_cc53.png: too spherical 3.3919849221303804\n"
     ]
    },
    {
     "name": "stderr",
     "output_type": "stream",
     "text": [
      "\r",
      " 14%|█▍        | 6/43 [00:03<00:23,  1.56it/s]"
     ]
    },
    {
     "name": "stdout",
     "output_type": "stream",
     "text": [
      "\n",
      "mean_270619-video2_004-001_opened_cc62.png is INTERESTING\n"
     ]
    },
    {
     "name": "stderr",
     "output_type": "stream",
     "text": [
      "\r",
      " 16%|█▋        | 7/43 [00:04<00:23,  1.55it/s]"
     ]
    },
    {
     "name": "stdout",
     "output_type": "stream",
     "text": [
      "\n",
      "mean_270619-video2_004-026_opened_cc02.png is INTERESTING\n"
     ]
    },
    {
     "name": "stderr",
     "output_type": "stream",
     "text": [
      "\r",
      " 19%|█▊        | 8/43 [00:05<00:22,  1.54it/s]"
     ]
    },
    {
     "name": "stdout",
     "output_type": "stream",
     "text": [
      "\n",
      "mean_270619-video2_004-026_opened_cc35.png: too spherical 9.769214554513237\n"
     ]
    },
    {
     "name": "stderr",
     "output_type": "stream",
     "text": [
      "\r",
      " 21%|██        | 9/43 [00:05<00:22,  1.55it/s]"
     ]
    },
    {
     "name": "stdout",
     "output_type": "stream",
     "text": [
      "\n",
      "mean_270619-video2_004-026_opened_cc37.png: too spherical 8.481492794639195\n"
     ]
    },
    {
     "name": "stderr",
     "output_type": "stream",
     "text": [
      "\r",
      " 23%|██▎       | 10/43 [00:06<00:21,  1.52it/s]"
     ]
    },
    {
     "name": "stdout",
     "output_type": "stream",
     "text": [
      "\n",
      "mean_270619-video2_004-026_opened_cc40.png: too spherical 1.4092193655819516\n"
     ]
    },
    {
     "name": "stderr",
     "output_type": "stream",
     "text": [
      "\r",
      " 26%|██▌       | 11/43 [00:07<00:20,  1.54it/s]"
     ]
    },
    {
     "name": "stdout",
     "output_type": "stream",
     "text": [
      "\n",
      "mean_270619-video2_004-026_opened_cc59.png: too spherical 1.6362123325640499\n"
     ]
    },
    {
     "name": "stderr",
     "output_type": "stream",
     "text": [
      "\r",
      " 28%|██▊       | 12/43 [00:07<00:19,  1.56it/s]"
     ]
    },
    {
     "name": "stdout",
     "output_type": "stream",
     "text": [
      "\n",
      "mean_270619-video2_004-030_opened_cc03.png: too spherical 7.506935628709233\n"
     ]
    },
    {
     "name": "stderr",
     "output_type": "stream",
     "text": [
      "\r",
      " 30%|███       | 13/43 [00:08<00:19,  1.55it/s]"
     ]
    },
    {
     "name": "stdout",
     "output_type": "stream",
     "text": [
      "\n",
      "mean_270619-video2_004-030_opened_cc08.png: too spherical 3.8745428468978638\n"
     ]
    },
    {
     "name": "stderr",
     "output_type": "stream",
     "text": [
      "\r",
      " 33%|███▎      | 14/43 [00:09<00:18,  1.56it/s]"
     ]
    },
    {
     "name": "stdout",
     "output_type": "stream",
     "text": [
      "\n",
      "mean_270619-video2_004-030_opened_cc15.png is INTERESTING\n"
     ]
    },
    {
     "name": "stderr",
     "output_type": "stream",
     "text": [
      "\r",
      " 35%|███▍      | 15/43 [00:09<00:17,  1.56it/s]"
     ]
    },
    {
     "name": "stdout",
     "output_type": "stream",
     "text": [
      "\n",
      "mean_270619-video2_004-030_opened_cc42.png is INTERESTING\n"
     ]
    },
    {
     "name": "stderr",
     "output_type": "stream",
     "text": [
      "\r",
      " 37%|███▋      | 16/43 [00:10<00:17,  1.56it/s]"
     ]
    },
    {
     "name": "stdout",
     "output_type": "stream",
     "text": [
      "\n",
      "mean_270619-video2_004-031_opened_cc11.png: too spherical 2.5286810661849937\n"
     ]
    },
    {
     "name": "stderr",
     "output_type": "stream",
     "text": [
      "\r",
      " 40%|███▉      | 17/43 [00:11<00:17,  1.45it/s]"
     ]
    },
    {
     "name": "stdout",
     "output_type": "stream",
     "text": [
      "\n",
      "mean_270619-video2_004-034_opened_cc03.png is INTERESTING\n"
     ]
    },
    {
     "name": "stderr",
     "output_type": "stream",
     "text": [
      "\r",
      " 42%|████▏     | 18/43 [00:11<00:16,  1.50it/s]"
     ]
    },
    {
     "name": "stdout",
     "output_type": "stream",
     "text": [
      "\n",
      "mean_270619-video2_004-034_opened_cc13.png: too spherical 5.3590874314270165\n"
     ]
    },
    {
     "name": "stderr",
     "output_type": "stream",
     "text": [
      "\r",
      " 44%|████▍     | 19/43 [00:12<00:15,  1.54it/s]"
     ]
    },
    {
     "name": "stdout",
     "output_type": "stream",
     "text": [
      "\n",
      "mean_270619-video2_004-034_opened_cc27.png is INTERESTING\n"
     ]
    },
    {
     "name": "stderr",
     "output_type": "stream",
     "text": [
      "\r",
      " 47%|████▋     | 20/43 [00:12<00:14,  1.56it/s]"
     ]
    },
    {
     "name": "stdout",
     "output_type": "stream",
     "text": [
      "\n",
      "mean_270619-video2_004-034_opened_cc44.png: too spherical 2.8258551094400675\n"
     ]
    },
    {
     "name": "stderr",
     "output_type": "stream",
     "text": [
      "\r",
      " 49%|████▉     | 21/43 [00:13<00:13,  1.58it/s]"
     ]
    },
    {
     "name": "stdout",
     "output_type": "stream",
     "text": [
      "\n",
      "mean_270619-video2_004-035_opened_cc05.png: too spherical 2.8369438312247426\n",
      "\n",
      "mean_270619-video2_004-035_opened_cc07.png is INTERESTING\n",
      "\n",
      "video2_004-034-video2_004-035: overlap = 0.24710596616206593\n"
     ]
    },
    {
     "name": "stderr",
     "output_type": "stream",
     "text": [
      "\r",
      " 51%|█████     | 22/43 [00:15<00:20,  1.01it/s]"
     ]
    },
    {
     "name": "stdout",
     "output_type": "stream",
     "text": [
      "\n",
      "video2_004-034-video2_004-035: overlap = 0.0\n"
     ]
    },
    {
     "name": "stderr",
     "output_type": "stream",
     "text": [
      "\r",
      " 53%|█████▎    | 23/43 [00:16<00:18,  1.10it/s]"
     ]
    },
    {
     "name": "stdout",
     "output_type": "stream",
     "text": [
      "\n",
      "mean_270619-video2_004-035_opened_cc11.png: too spherical 3.395578508349894\n"
     ]
    },
    {
     "name": "stderr",
     "output_type": "stream",
     "text": [
      "\r",
      " 56%|█████▌    | 24/43 [00:16<00:15,  1.19it/s]"
     ]
    },
    {
     "name": "stdout",
     "output_type": "stream",
     "text": [
      "\n",
      "mean_270619-video2_004-035_opened_cc18.png: too spherical 5.097215609746356\n"
     ]
    },
    {
     "name": "stderr",
     "output_type": "stream",
     "text": [
      "\r",
      " 58%|█████▊    | 25/43 [00:17<00:13,  1.29it/s]"
     ]
    },
    {
     "name": "stdout",
     "output_type": "stream",
     "text": [
      "\n",
      "mean_270619-video2_004-035_opened_cc32.png: too spherical 2.5355576129311337\n",
      "\n",
      "mean_270619-video2_004-035_opened_cc50.png is INTERESTING\n",
      "\n",
      "video2_004-034-video2_004-035: overlap = 0.0\n"
     ]
    },
    {
     "name": "stderr",
     "output_type": "stream",
     "text": [
      "\r",
      " 60%|██████    | 26/43 [00:19<00:18,  1.08s/it]"
     ]
    },
    {
     "name": "stdout",
     "output_type": "stream",
     "text": [
      "\n",
      "video2_004-034-video2_004-035: overlap = 0.0\n"
     ]
    },
    {
     "name": "stderr",
     "output_type": "stream",
     "text": [
      "\r",
      " 63%|██████▎   | 27/43 [00:19<00:15,  1.07it/s]"
     ]
    },
    {
     "name": "stdout",
     "output_type": "stream",
     "text": [
      "\n",
      "mean_270619-video2_004-036_opened_cc03.png: too spherical 3.051935123633024\n"
     ]
    },
    {
     "name": "stderr",
     "output_type": "stream",
     "text": [
      "\r",
      " 65%|██████▌   | 28/43 [00:20<00:12,  1.17it/s]"
     ]
    },
    {
     "name": "stdout",
     "output_type": "stream",
     "text": [
      "\n",
      "mean_270619-video2_004-036_opened_cc08.png: too spherical 6.327784412987579\n"
     ]
    },
    {
     "name": "stderr",
     "output_type": "stream",
     "text": [
      "\r",
      " 67%|██████▋   | 29/43 [00:21<00:11,  1.27it/s]"
     ]
    },
    {
     "name": "stdout",
     "output_type": "stream",
     "text": [
      "\n",
      "mean_270619-video2_004-036_opened_cc21.png: too spherical 3.392638081763092\n"
     ]
    },
    {
     "name": "stderr",
     "output_type": "stream",
     "text": [
      "\r",
      " 70%|██████▉   | 30/43 [00:21<00:09,  1.36it/s]"
     ]
    },
    {
     "name": "stdout",
     "output_type": "stream",
     "text": [
      "\n",
      "mean_270619-video2_004-036_opened_cc32.png: too spherical 2.1867039291620327\n"
     ]
    },
    {
     "name": "stderr",
     "output_type": "stream",
     "text": [
      "\r",
      " 72%|███████▏  | 31/43 [00:22<00:08,  1.42it/s]"
     ]
    },
    {
     "name": "stdout",
     "output_type": "stream",
     "text": [
      "\n",
      "mean_270619-video2_004-036_opened_cc38.png: too spherical 8.066494942823494\n"
     ]
    },
    {
     "name": "stderr",
     "output_type": "stream",
     "text": [
      "\r",
      " 74%|███████▍  | 32/43 [00:22<00:07,  1.46it/s]"
     ]
    },
    {
     "name": "stdout",
     "output_type": "stream",
     "text": [
      "\n",
      "mean_270619-video2_004-036_opened_cc53.png: too spherical 5.517389023516397\n"
     ]
    },
    {
     "name": "stderr",
     "output_type": "stream",
     "text": [
      "\r",
      " 77%|███████▋  | 33/43 [00:23<00:06,  1.47it/s]"
     ]
    },
    {
     "name": "stdout",
     "output_type": "stream",
     "text": [
      "\n",
      "mean_270619-video2_004-041_opened_cc02.png: too spherical 2.9456840533540234\n"
     ]
    },
    {
     "name": "stderr",
     "output_type": "stream",
     "text": [
      "\r",
      " 79%|███████▉  | 34/43 [00:24<00:05,  1.51it/s]"
     ]
    },
    {
     "name": "stdout",
     "output_type": "stream",
     "text": [
      "\n",
      "mean_270619-video2_004-041_opened_cc05.png is INTERESTING\n"
     ]
    },
    {
     "name": "stderr",
     "output_type": "stream",
     "text": [
      "\r",
      " 81%|████████▏ | 35/43 [00:24<00:05,  1.51it/s]"
     ]
    },
    {
     "name": "stdout",
     "output_type": "stream",
     "text": [
      "\n",
      "mean_270619-video2_004-041_opened_cc10.png is INTERESTING\n"
     ]
    },
    {
     "name": "stderr",
     "output_type": "stream",
     "text": [
      "\r",
      " 84%|████████▎ | 36/43 [00:25<00:04,  1.51it/s]"
     ]
    },
    {
     "name": "stdout",
     "output_type": "stream",
     "text": [
      "\n",
      "mean_270619-video2_004-041_opened_cc20.png: too spherical 9.971749472011151\n"
     ]
    },
    {
     "name": "stderr",
     "output_type": "stream",
     "text": [
      "\r",
      " 86%|████████▌ | 37/43 [00:26<00:04,  1.50it/s]"
     ]
    },
    {
     "name": "stdout",
     "output_type": "stream",
     "text": [
      "\n",
      "mean_270619-video2_004-041_opened_cc39.png is INTERESTING\n"
     ]
    },
    {
     "name": "stderr",
     "output_type": "stream",
     "text": [
      "\r",
      " 88%|████████▊ | 38/43 [00:26<00:03,  1.51it/s]"
     ]
    },
    {
     "name": "stdout",
     "output_type": "stream",
     "text": [
      "\n",
      "mean_270619-video2_004-042_opened_cc03.png: too spherical 4.379148744902544\n",
      "\n",
      "mean_270619-video2_004-042_opened_cc22.png is INTERESTING\n",
      "\n",
      "video2_004-041-video2_004-042: overlap = 0.0\n",
      "\n",
      "video2_004-041-video2_004-042: overlap = 0.0\n"
     ]
    },
    {
     "name": "stderr",
     "output_type": "stream",
     "text": [
      "\r",
      " 91%|█████████ | 39/43 [00:29<00:04,  1.20s/it]"
     ]
    },
    {
     "name": "stdout",
     "output_type": "stream",
     "text": [
      "\n",
      "video2_004-041-video2_004-042: overlap = 0.0\n"
     ]
    },
    {
     "name": "stderr",
     "output_type": "stream",
     "text": [
      "\r",
      " 93%|█████████▎| 40/43 [00:30<00:03,  1.06s/it]"
     ]
    },
    {
     "name": "stdout",
     "output_type": "stream",
     "text": [
      "\n",
      "mean_270619-video2_004-042_opened_cc37.png: too spherical 6.6532003723570075\n",
      "\n",
      "mean_270619-video2_004-042_opened_cc61.png is INTERESTING\n",
      "\n",
      "video2_004-041-video2_004-042: overlap = 0.0\n",
      "\n",
      "video2_004-041-video2_004-042: overlap = 0.0\n"
     ]
    },
    {
     "name": "stderr",
     "output_type": "stream",
     "text": [
      "\r",
      " 95%|█████████▌| 41/43 [00:32<00:02,  1.44s/it]"
     ]
    },
    {
     "name": "stdout",
     "output_type": "stream",
     "text": [
      "\n",
      "video2_004-041-video2_004-042: overlap = 0.0\n"
     ]
    },
    {
     "name": "stderr",
     "output_type": "stream",
     "text": [
      "\r",
      " 98%|█████████▊| 42/43 [00:33<00:01,  1.20s/it]"
     ]
    },
    {
     "name": "stdout",
     "output_type": "stream",
     "text": [
      "\n",
      "mean_270619-video2_004-026_opened_cc07.png is INTERESTING\n"
     ]
    },
    {
     "name": "stderr",
     "output_type": "stream",
     "text": [
      "100%|██████████| 43/43 [00:33<00:00,  1.03s/it]\n",
      "  0%|          | 0/35 [00:00<?, ?it/s]"
     ]
    },
    {
     "name": "stdout",
     "output_type": "stream",
     "text": [
      "\n",
      "mean_270619-video2_004-034_opened_cc15.png is INTERESTING\n",
      "found video2_005/trigger_thr0.005_cl9_op3/cc_filtered_2den0.81_gausrad2.0/\n"
     ]
    },
    {
     "name": "stderr",
     "output_type": "stream",
     "text": [
      "\r",
      "  3%|▎         | 1/35 [00:00<00:21,  1.58it/s]"
     ]
    },
    {
     "name": "stdout",
     "output_type": "stream",
     "text": [
      "\n",
      "mean_270619-video2_005-001_opened_cc02.png: too spherical 5.7749244006605815\n"
     ]
    },
    {
     "name": "stderr",
     "output_type": "stream",
     "text": [
      "\r",
      "  6%|▌         | 2/35 [00:01<00:21,  1.52it/s]"
     ]
    },
    {
     "name": "stdout",
     "output_type": "stream",
     "text": [
      "\n",
      "mean_270619-video2_005-001_opened_cc15.png: too spherical 5.094464812353211\n"
     ]
    },
    {
     "name": "stderr",
     "output_type": "stream",
     "text": [
      "\r",
      "  9%|▊         | 3/35 [00:01<00:20,  1.53it/s]"
     ]
    },
    {
     "name": "stdout",
     "output_type": "stream",
     "text": [
      "\n",
      "mean_270619-video2_005-001_opened_cc43.png: too spherical 2.773294786523098\n"
     ]
    },
    {
     "name": "stderr",
     "output_type": "stream",
     "text": [
      "\r",
      " 11%|█▏        | 4/35 [00:02<00:19,  1.55it/s]"
     ]
    },
    {
     "name": "stdout",
     "output_type": "stream",
     "text": [
      "\n",
      "mean_270619-video2_005-001_opened_cc51.png: too spherical 3.0587624976837797\n"
     ]
    },
    {
     "name": "stderr",
     "output_type": "stream",
     "text": [
      "\r",
      " 14%|█▍        | 5/35 [00:03<00:19,  1.57it/s]"
     ]
    },
    {
     "name": "stdout",
     "output_type": "stream",
     "text": [
      "\n",
      "mean_270619-video2_005-001_opened_cc56.png: too spherical 2.5072879916003963\n"
     ]
    },
    {
     "name": "stderr",
     "output_type": "stream",
     "text": [
      "\r",
      " 17%|█▋        | 6/35 [00:03<00:19,  1.52it/s]"
     ]
    },
    {
     "name": "stdout",
     "output_type": "stream",
     "text": [
      "\n",
      "mean_270619-video2_005-001_opened_cc57.png is INTERESTING\n"
     ]
    },
    {
     "name": "stderr",
     "output_type": "stream",
     "text": [
      "\r",
      " 20%|██        | 7/35 [00:04<00:18,  1.51it/s]"
     ]
    },
    {
     "name": "stdout",
     "output_type": "stream",
     "text": [
      "\n",
      "mean_270619-video2_005-001_opened_cc58.png is INTERESTING\n"
     ]
    },
    {
     "name": "stderr",
     "output_type": "stream",
     "text": [
      "\r",
      " 23%|██▎       | 8/35 [00:05<00:18,  1.47it/s]"
     ]
    },
    {
     "name": "stdout",
     "output_type": "stream",
     "text": [
      "\n",
      "mean_270619-video2_005-002_opened_cc24.png: too spherical 6.899166385479784\n"
     ]
    },
    {
     "name": "stderr",
     "output_type": "stream",
     "text": [
      "\r",
      " 26%|██▌       | 9/35 [00:05<00:17,  1.49it/s]"
     ]
    },
    {
     "name": "stdout",
     "output_type": "stream",
     "text": [
      "\n",
      "mean_270619-video2_005-002_opened_cc37.png: too spherical 7.051489240459692\n"
     ]
    },
    {
     "name": "stderr",
     "output_type": "stream",
     "text": [
      "\r",
      " 29%|██▊       | 10/35 [00:06<00:16,  1.50it/s]"
     ]
    },
    {
     "name": "stdout",
     "output_type": "stream",
     "text": [
      "\n",
      "mean_270619-video2_005-009_opened_cc03.png is INTERESTING\n"
     ]
    },
    {
     "name": "stderr",
     "output_type": "stream",
     "text": [
      "\r",
      " 31%|███▏      | 11/35 [00:07<00:15,  1.50it/s]"
     ]
    },
    {
     "name": "stdout",
     "output_type": "stream",
     "text": [
      "\n",
      "mean_270619-video2_005-009_opened_cc24.png: too spherical 4.290516383140072\n"
     ]
    },
    {
     "name": "stderr",
     "output_type": "stream",
     "text": [
      "\r",
      " 34%|███▍      | 12/35 [00:07<00:15,  1.52it/s]"
     ]
    },
    {
     "name": "stdout",
     "output_type": "stream",
     "text": [
      "\n",
      "mean_270619-video2_005-009_opened_cc31.png: too spherical 1.5755585553071614\n"
     ]
    },
    {
     "name": "stderr",
     "output_type": "stream",
     "text": [
      "\r",
      " 37%|███▋      | 13/35 [00:08<00:14,  1.53it/s]"
     ]
    },
    {
     "name": "stdout",
     "output_type": "stream",
     "text": [
      "\n",
      "mean_270619-video2_005-009_opened_cc32.png is INTERESTING\n"
     ]
    },
    {
     "name": "stderr",
     "output_type": "stream",
     "text": [
      "\r",
      " 40%|████      | 14/35 [00:09<00:13,  1.57it/s]"
     ]
    },
    {
     "name": "stdout",
     "output_type": "stream",
     "text": [
      "\n",
      "mean_270619-video2_005-009_opened_cc42.png is INTERESTING\n"
     ]
    },
    {
     "name": "stderr",
     "output_type": "stream",
     "text": [
      "\r",
      " 43%|████▎     | 15/35 [00:09<00:12,  1.57it/s]"
     ]
    },
    {
     "name": "stdout",
     "output_type": "stream",
     "text": [
      "\n",
      "mean_270619-video2_005-013_opened_cc16.png: too spherical 6.256585222032615\n"
     ]
    },
    {
     "name": "stderr",
     "output_type": "stream",
     "text": [
      "\r",
      " 46%|████▌     | 16/35 [00:10<00:12,  1.56it/s]"
     ]
    },
    {
     "name": "stdout",
     "output_type": "stream",
     "text": [
      "\n",
      "mean_270619-video2_005-013_opened_cc28.png is INTERESTING\n"
     ]
    },
    {
     "name": "stderr",
     "output_type": "stream",
     "text": [
      "\r",
      " 49%|████▊     | 17/35 [00:11<00:11,  1.57it/s]"
     ]
    },
    {
     "name": "stdout",
     "output_type": "stream",
     "text": [
      "\n",
      "mean_270619-video2_005-021_opened_cc02.png: too spherical 8.187140670977522\n"
     ]
    },
    {
     "name": "stderr",
     "output_type": "stream",
     "text": [
      "\r",
      " 51%|█████▏    | 18/35 [00:11<00:10,  1.55it/s]"
     ]
    },
    {
     "name": "stdout",
     "output_type": "stream",
     "text": [
      "\n",
      "mean_270619-video2_005-021_opened_cc03.png: too spherical 2.91088299320226\n"
     ]
    },
    {
     "name": "stderr",
     "output_type": "stream",
     "text": [
      "\r",
      " 54%|█████▍    | 19/35 [00:12<00:10,  1.58it/s]"
     ]
    },
    {
     "name": "stdout",
     "output_type": "stream",
     "text": [
      "\n",
      "mean_270619-video2_005-021_opened_cc24.png: too spherical 8.767073194018616\n"
     ]
    },
    {
     "name": "stderr",
     "output_type": "stream",
     "text": [
      "\r",
      " 57%|█████▋    | 20/35 [00:12<00:09,  1.59it/s]"
     ]
    },
    {
     "name": "stdout",
     "output_type": "stream",
     "text": [
      "\n",
      "mean_270619-video2_005-021_opened_cc47.png is INTERESTING\n"
     ]
    },
    {
     "name": "stderr",
     "output_type": "stream",
     "text": [
      "\r",
      " 60%|██████    | 21/35 [00:13<00:08,  1.60it/s]"
     ]
    },
    {
     "name": "stdout",
     "output_type": "stream",
     "text": [
      "\n",
      "mean_270619-video2_005-021_opened_cc51.png is INTERESTING\n"
     ]
    },
    {
     "name": "stderr",
     "output_type": "stream",
     "text": [
      "\r",
      " 63%|██████▎   | 22/35 [00:14<00:08,  1.61it/s]"
     ]
    },
    {
     "name": "stdout",
     "output_type": "stream",
     "text": [
      "\n",
      "mean_270619-video2_005-029_opened_cc16.png is INTERESTING\n"
     ]
    },
    {
     "name": "stderr",
     "output_type": "stream",
     "text": [
      "\r",
      " 66%|██████▌   | 23/35 [00:14<00:07,  1.56it/s]"
     ]
    },
    {
     "name": "stdout",
     "output_type": "stream",
     "text": [
      "\n",
      "mean_270619-video2_005-029_opened_cc27.png: too spherical 9.474200861145023\n"
     ]
    },
    {
     "name": "stderr",
     "output_type": "stream",
     "text": [
      "\r",
      " 69%|██████▊   | 24/35 [00:15<00:06,  1.57it/s]"
     ]
    },
    {
     "name": "stdout",
     "output_type": "stream",
     "text": [
      "\n",
      "mean_270619-video2_005-029_opened_cc31.png: too spherical 3.2827432305724478\n"
     ]
    },
    {
     "name": "stderr",
     "output_type": "stream",
     "text": [
      "\r",
      " 71%|███████▏  | 25/35 [00:16<00:06,  1.58it/s]"
     ]
    },
    {
     "name": "stdout",
     "output_type": "stream",
     "text": [
      "\n",
      "mean_270619-video2_005-029_opened_cc82.png is INTERESTING\n",
      "\n",
      "mean_270619-video2_005-030_opened_cc07.png is INTERESTING\n"
     ]
    },
    {
     "name": "stderr",
     "output_type": "stream",
     "text": [
      "\r",
      " 74%|███████▍  | 26/35 [00:17<00:07,  1.24it/s]"
     ]
    },
    {
     "name": "stdout",
     "output_type": "stream",
     "text": [
      "\n",
      "video2_005-029-video2_005-030: overlap = 0.6609547123623011\n",
      "\n",
      "mean_270619-video2_005-030_opened_cc13.png is INTERESTING\n"
     ]
    },
    {
     "name": "stderr",
     "output_type": "stream",
     "text": [
      "\r",
      " 77%|███████▋  | 27/35 [00:18<00:07,  1.07it/s]"
     ]
    },
    {
     "name": "stdout",
     "output_type": "stream",
     "text": [
      "\n",
      "video2_005-029-video2_005-030: overlap = 0.0\n"
     ]
    },
    {
     "name": "stderr",
     "output_type": "stream",
     "text": [
      "\r",
      " 80%|████████  | 28/35 [00:19<00:05,  1.18it/s]"
     ]
    },
    {
     "name": "stdout",
     "output_type": "stream",
     "text": [
      "\n",
      "mean_270619-video2_005-030_opened_cc19.png: too spherical 2.5529145695790625\n",
      "\n",
      "mean_270619-video2_005-030_opened_cc29.png is INTERESTING\n"
     ]
    },
    {
     "name": "stderr",
     "output_type": "stream",
     "text": [
      "\r",
      " 83%|████████▎ | 29/35 [00:20<00:05,  1.02it/s]"
     ]
    },
    {
     "name": "stdout",
     "output_type": "stream",
     "text": [
      "\n",
      "video2_005-029-video2_005-030: overlap = 0.0\n",
      "\n",
      "mean_270619-video2_005-030_opened_cc61.png is INTERESTING\n"
     ]
    },
    {
     "name": "stderr",
     "output_type": "stream",
     "text": [
      "\r",
      " 86%|████████▌ | 30/35 [00:21<00:05,  1.06s/it]"
     ]
    },
    {
     "name": "stdout",
     "output_type": "stream",
     "text": [
      "\n",
      "video2_005-029-video2_005-030: overlap = 0.495970695970696\n"
     ]
    },
    {
     "name": "stderr",
     "output_type": "stream",
     "text": [
      "\r",
      " 89%|████████▊ | 31/35 [00:22<00:03,  1.07it/s]"
     ]
    },
    {
     "name": "stdout",
     "output_type": "stream",
     "text": [
      "\n",
      "mean_270619-video2_005-040_opened_cc07.png is INTERESTING\n"
     ]
    },
    {
     "name": "stderr",
     "output_type": "stream",
     "text": [
      "\r",
      " 91%|█████████▏| 32/35 [00:23<00:02,  1.17it/s]"
     ]
    },
    {
     "name": "stdout",
     "output_type": "stream",
     "text": [
      "\n",
      "mean_270619-video2_005-040_opened_cc14.png is INTERESTING\n"
     ]
    },
    {
     "name": "stderr",
     "output_type": "stream",
     "text": [
      "\r",
      " 94%|█████████▍| 33/35 [00:23<00:01,  1.24it/s]"
     ]
    },
    {
     "name": "stdout",
     "output_type": "stream",
     "text": [
      "\n",
      "mean_270619-video2_005-040_opened_cc24.png is INTERESTING\n"
     ]
    },
    {
     "name": "stderr",
     "output_type": "stream",
     "text": [
      "\r",
      " 97%|█████████▋| 34/35 [00:24<00:00,  1.32it/s]"
     ]
    },
    {
     "name": "stdout",
     "output_type": "stream",
     "text": [
      "\n",
      "mean_270619-video2_005-001_opened_cc64.png: too spherical 3.219886417754613\n"
     ]
    },
    {
     "name": "stderr",
     "output_type": "stream",
     "text": [
      "100%|██████████| 35/35 [00:25<00:00,  1.39it/s]\n",
      "  0%|          | 0/28 [00:00<?, ?it/s]"
     ]
    },
    {
     "name": "stdout",
     "output_type": "stream",
     "text": [
      "\n",
      "mean_270619-video2_005-021_opened_cc10.png is INTERESTING\n",
      "found video2_006/trigger_thr0.005_cl9_op3/cc_filtered_2den0.81_gausrad2.0/\n"
     ]
    },
    {
     "name": "stderr",
     "output_type": "stream",
     "text": [
      "\r",
      "  4%|▎         | 1/28 [00:00<00:17,  1.56it/s]"
     ]
    },
    {
     "name": "stdout",
     "output_type": "stream",
     "text": [
      "\n",
      "mean_270619-video2_006-033_opened_cc18.png: too spherical 1.6370419649000243\n"
     ]
    },
    {
     "name": "stderr",
     "output_type": "stream",
     "text": [
      "\r",
      "  7%|▋         | 2/28 [00:01<00:16,  1.55it/s]"
     ]
    },
    {
     "name": "stdout",
     "output_type": "stream",
     "text": [
      "\n",
      "mean_270619-video2_006-005_opened_cc03.png: too spherical 4.457276272760965\n"
     ]
    },
    {
     "name": "stderr",
     "output_type": "stream",
     "text": [
      "\r",
      " 11%|█         | 3/28 [00:01<00:15,  1.57it/s]"
     ]
    },
    {
     "name": "stdout",
     "output_type": "stream",
     "text": [
      "\n",
      "mean_270619-video2_006-005_opened_cc18.png is INTERESTING\n"
     ]
    },
    {
     "name": "stderr",
     "output_type": "stream",
     "text": [
      "\r",
      " 14%|█▍        | 4/28 [00:02<00:15,  1.58it/s]"
     ]
    },
    {
     "name": "stdout",
     "output_type": "stream",
     "text": [
      "\n",
      "mean_270619-video2_006-006_opened_cc04.png: too spherical 2.068010300616091\n",
      "\n",
      "mean_270619-video2_006-006_opened_cc16.png is INTERESTING\n"
     ]
    },
    {
     "name": "stderr",
     "output_type": "stream",
     "text": [
      "\r",
      " 18%|█▊        | 5/28 [00:03<00:18,  1.23it/s]"
     ]
    },
    {
     "name": "stdout",
     "output_type": "stream",
     "text": [
      "\n",
      "video2_006-005-video2_006-006: overlap = 0.0\n",
      "\n",
      "mean_270619-video2_006-006_opened_cc20.png is INTERESTING\n"
     ]
    },
    {
     "name": "stderr",
     "output_type": "stream",
     "text": [
      "\r",
      " 21%|██▏       | 6/28 [00:04<00:20,  1.08it/s]"
     ]
    },
    {
     "name": "stdout",
     "output_type": "stream",
     "text": [
      "\n",
      "video2_006-005-video2_006-006: overlap = 0.0\n"
     ]
    },
    {
     "name": "stderr",
     "output_type": "stream",
     "text": [
      "\r",
      " 25%|██▌       | 7/28 [00:05<00:17,  1.20it/s]"
     ]
    },
    {
     "name": "stdout",
     "output_type": "stream",
     "text": [
      "\n",
      "mean_270619-video2_006-006_opened_cc41.png: too spherical 4.247419380450616\n",
      "\n",
      "mean_270619-video2_006-006_opened_cc45.png is INTERESTING\n"
     ]
    },
    {
     "name": "stderr",
     "output_type": "stream",
     "text": [
      "\r",
      " 29%|██▊       | 8/28 [00:06<00:18,  1.06it/s]"
     ]
    },
    {
     "name": "stdout",
     "output_type": "stream",
     "text": [
      "\n",
      "video2_006-005-video2_006-006: overlap = 0.3994856408058294\n"
     ]
    },
    {
     "name": "stderr",
     "output_type": "stream",
     "text": [
      "\r",
      " 32%|███▏      | 9/28 [00:07<00:16,  1.18it/s]"
     ]
    },
    {
     "name": "stdout",
     "output_type": "stream",
     "text": [
      "\n",
      "mean_270619-video2_006-006_opened_cc89.png: too spherical 2.370168483774635\n"
     ]
    },
    {
     "name": "stderr",
     "output_type": "stream",
     "text": [
      "\r",
      " 36%|███▌      | 10/28 [00:08<00:14,  1.27it/s]"
     ]
    },
    {
     "name": "stdout",
     "output_type": "stream",
     "text": [
      "\n",
      "mean_270619-video2_006-027_opened_cc02.png is INTERESTING\n"
     ]
    },
    {
     "name": "stderr",
     "output_type": "stream",
     "text": [
      "\r",
      " 39%|███▉      | 11/28 [00:08<00:12,  1.32it/s]"
     ]
    },
    {
     "name": "stdout",
     "output_type": "stream",
     "text": [
      "\n",
      "mean_270619-video2_006-027_opened_cc12.png is INTERESTING\n"
     ]
    },
    {
     "name": "stderr",
     "output_type": "stream",
     "text": [
      "\r",
      " 43%|████▎     | 12/28 [00:09<00:11,  1.38it/s]"
     ]
    },
    {
     "name": "stdout",
     "output_type": "stream",
     "text": [
      "\n",
      "mean_270619-video2_006-027_opened_cc51.png is INTERESTING\n"
     ]
    },
    {
     "name": "stderr",
     "output_type": "stream",
     "text": [
      "\r",
      " 46%|████▋     | 13/28 [00:10<00:10,  1.42it/s]"
     ]
    },
    {
     "name": "stdout",
     "output_type": "stream",
     "text": [
      "\n",
      "mean_270619-video2_006-027_opened_cc59.png: too spherical 3.5594891806018527\n"
     ]
    },
    {
     "name": "stderr",
     "output_type": "stream",
     "text": [
      "\r",
      " 50%|█████     | 14/28 [00:10<00:09,  1.43it/s]"
     ]
    },
    {
     "name": "stdout",
     "output_type": "stream",
     "text": [
      "\n",
      "mean_270619-video2_006-033_opened_cc03.png: too spherical 2.1377690774824436\n"
     ]
    },
    {
     "name": "stderr",
     "output_type": "stream",
     "text": [
      "\r",
      " 54%|█████▎    | 15/28 [00:11<00:08,  1.49it/s]"
     ]
    },
    {
     "name": "stdout",
     "output_type": "stream",
     "text": [
      "\n",
      "mean_270619-video2_006-033_opened_cc40.png is INTERESTING\n"
     ]
    },
    {
     "name": "stderr",
     "output_type": "stream",
     "text": [
      "\r",
      " 57%|█████▋    | 16/28 [00:11<00:07,  1.53it/s]"
     ]
    },
    {
     "name": "stdout",
     "output_type": "stream",
     "text": [
      "\n",
      "mean_270619-video2_006-033_opened_cc42.png is INTERESTING\n"
     ]
    },
    {
     "name": "stderr",
     "output_type": "stream",
     "text": [
      "\r",
      " 61%|██████    | 17/28 [00:12<00:07,  1.52it/s]"
     ]
    },
    {
     "name": "stdout",
     "output_type": "stream",
     "text": [
      "\n",
      "mean_270619-video2_006-034_opened_cc02.png: too spherical 8.58237456820914\n",
      "\n",
      "mean_270619-video2_006-034_opened_cc16.png is INTERESTING\n",
      "\n",
      "video2_006-033-video2_006-034: overlap = 0.0\n"
     ]
    },
    {
     "name": "stderr",
     "output_type": "stream",
     "text": [
      "\r",
      " 64%|██████▍   | 18/28 [00:14<00:10,  1.00s/it]"
     ]
    },
    {
     "name": "stdout",
     "output_type": "stream",
     "text": [
      "\n",
      "video2_006-033-video2_006-034: overlap = 0.0\n",
      "\n",
      "mean_270619-video2_006-034_opened_cc17.png is INTERESTING\n",
      "\n",
      "video2_006-033-video2_006-034: overlap = 0.0\n"
     ]
    },
    {
     "name": "stderr",
     "output_type": "stream",
     "text": [
      "\r",
      " 68%|██████▊   | 19/28 [00:16<00:11,  1.25s/it]"
     ]
    },
    {
     "name": "stdout",
     "output_type": "stream",
     "text": [
      "\n",
      "video2_006-033-video2_006-034: overlap = 0.0\n",
      "\n",
      "mean_270619-video2_006-035_opened_cc02.png is INTERESTING\n",
      "\n",
      "video2_006-034-video2_006-035: overlap = 0.0\n"
     ]
    },
    {
     "name": "stderr",
     "output_type": "stream",
     "text": [
      "\r",
      " 71%|███████▏  | 20/28 [00:18<00:11,  1.45s/it]"
     ]
    },
    {
     "name": "stdout",
     "output_type": "stream",
     "text": [
      "\n",
      "video2_006-034-video2_006-035: overlap = 0.0\n"
     ]
    },
    {
     "name": "stderr",
     "output_type": "stream",
     "text": [
      "\r",
      " 75%|███████▌  | 21/28 [00:18<00:08,  1.21s/it]"
     ]
    },
    {
     "name": "stdout",
     "output_type": "stream",
     "text": [
      "\n",
      "mean_270619-video2_006-035_opened_cc17.png: too spherical 9.540694086100652\n",
      "\n",
      "mean_270619-video2_006-036_opened_cc03.png is INTERESTING\n"
     ]
    },
    {
     "name": "stderr",
     "output_type": "stream",
     "text": [
      "\r",
      " 79%|███████▊  | 22/28 [00:20<00:07,  1.22s/it]"
     ]
    },
    {
     "name": "stdout",
     "output_type": "stream",
     "text": [
      "\n",
      "video2_006-035-video2_006-036: overlap = 0.8427352985186294\n"
     ]
    },
    {
     "name": "stderr",
     "output_type": "stream",
     "text": [
      "\r",
      " 82%|████████▏ | 23/28 [00:20<00:05,  1.04s/it]"
     ]
    },
    {
     "name": "stdout",
     "output_type": "stream",
     "text": [
      "\n",
      "mean_270619-video2_006-036_opened_cc18.png: too spherical 3.883191802581891\n"
     ]
    },
    {
     "name": "stderr",
     "output_type": "stream",
     "text": [
      "\r",
      " 86%|████████▌ | 24/28 [00:21<00:03,  1.08it/s]"
     ]
    },
    {
     "name": "stdout",
     "output_type": "stream",
     "text": [
      "\n",
      "mean_270619-video2_006-036_opened_cc31.png is INTERESTING\n"
     ]
    },
    {
     "name": "stderr",
     "output_type": "stream",
     "text": [
      "\r",
      " 89%|████████▉ | 25/28 [00:21<00:02,  1.21it/s]"
     ]
    },
    {
     "name": "stdout",
     "output_type": "stream",
     "text": [
      "\n",
      "mean_270619-video2_006-036_opened_cc33.png: too spherical 3.930726052903479\n"
     ]
    },
    {
     "name": "stderr",
     "output_type": "stream",
     "text": [
      "\r",
      " 93%|█████████▎| 26/28 [00:22<00:01,  1.30it/s]"
     ]
    },
    {
     "name": "stdout",
     "output_type": "stream",
     "text": [
      "\n",
      "mean_270619-video2_006-036_opened_cc35.png: too spherical 6.59802369584388\n"
     ]
    },
    {
     "name": "stderr",
     "output_type": "stream",
     "text": [
      "\r",
      " 96%|█████████▋| 27/28 [00:23<00:00,  1.38it/s]"
     ]
    },
    {
     "name": "stdout",
     "output_type": "stream",
     "text": [
      "\n",
      "mean_270619-video2_006-036_opened_cc45.png: too spherical 6.011467397801276\n"
     ]
    },
    {
     "name": "stderr",
     "output_type": "stream",
     "text": [
      "100%|██████████| 28/28 [00:23<00:00,  1.44it/s]\n",
      "  0%|          | 0/37 [00:00<?, ?it/s]"
     ]
    },
    {
     "name": "stdout",
     "output_type": "stream",
     "text": [
      "\n",
      "mean_270619-video2_006-036_opened_cc84.png is INTERESTING\n",
      "found video2_007/trigger_thr0.005_cl9_op3/cc_filtered_2den0.81_gausrad2.0/\n"
     ]
    },
    {
     "name": "stderr",
     "output_type": "stream",
     "text": [
      "\r",
      "  3%|▎         | 1/37 [00:00<00:22,  1.59it/s]"
     ]
    },
    {
     "name": "stdout",
     "output_type": "stream",
     "text": [
      "\n",
      "mean_270619-video2_007-006_opened_cc08.png: too spherical 2.2382389931465005\n"
     ]
    },
    {
     "name": "stderr",
     "output_type": "stream",
     "text": [
      "\r",
      "  5%|▌         | 2/37 [00:01<00:22,  1.59it/s]"
     ]
    },
    {
     "name": "stdout",
     "output_type": "stream",
     "text": [
      "\n",
      "mean_270619-video2_007-006_opened_cc09.png is INTERESTING\n"
     ]
    },
    {
     "name": "stderr",
     "output_type": "stream",
     "text": [
      "\r",
      "  8%|▊         | 3/37 [00:01<00:21,  1.60it/s]"
     ]
    },
    {
     "name": "stdout",
     "output_type": "stream",
     "text": [
      "\n",
      "mean_270619-video2_007-006_opened_cc11.png: too spherical 3.6631139932870878\n"
     ]
    },
    {
     "name": "stderr",
     "output_type": "stream",
     "text": [
      "\r",
      " 11%|█         | 4/37 [00:02<00:20,  1.61it/s]"
     ]
    },
    {
     "name": "stdout",
     "output_type": "stream",
     "text": [
      "\n",
      "mean_270619-video2_007-006_opened_cc17.png is INTERESTING\n"
     ]
    },
    {
     "name": "stderr",
     "output_type": "stream",
     "text": [
      "\r",
      " 14%|█▎        | 5/37 [00:03<00:19,  1.60it/s]"
     ]
    },
    {
     "name": "stdout",
     "output_type": "stream",
     "text": [
      "\n",
      "mean_270619-video2_007-006_opened_cc23.png: too spherical 1.2708124238389262\n"
     ]
    },
    {
     "name": "stderr",
     "output_type": "stream",
     "text": [
      "\r",
      " 16%|█▌        | 6/37 [00:03<00:19,  1.62it/s]"
     ]
    },
    {
     "name": "stdout",
     "output_type": "stream",
     "text": [
      "\n",
      "mean_270619-video2_007-006_opened_cc27.png is INTERESTING\n"
     ]
    },
    {
     "name": "stderr",
     "output_type": "stream",
     "text": [
      "\r",
      " 19%|█▉        | 7/37 [00:04<00:18,  1.59it/s]"
     ]
    },
    {
     "name": "stdout",
     "output_type": "stream",
     "text": [
      "\n",
      "mean_270619-video2_007-006_opened_cc42.png: too spherical 2.86921237575475\n"
     ]
    },
    {
     "name": "stderr",
     "output_type": "stream",
     "text": [
      "\r",
      " 22%|██▏       | 8/37 [00:05<00:18,  1.57it/s]"
     ]
    },
    {
     "name": "stdout",
     "output_type": "stream",
     "text": [
      "\n",
      "mean_270619-video2_007-006_opened_cc43.png: too spherical 5.740315083944177\n"
     ]
    },
    {
     "name": "stderr",
     "output_type": "stream",
     "text": [
      "\r",
      " 24%|██▍       | 9/37 [00:05<00:17,  1.59it/s]"
     ]
    },
    {
     "name": "stdout",
     "output_type": "stream",
     "text": [
      "\n",
      "mean_270619-video2_007-006_opened_cc45.png is INTERESTING\n"
     ]
    },
    {
     "name": "stderr",
     "output_type": "stream",
     "text": [
      "\r",
      " 27%|██▋       | 10/37 [00:06<00:16,  1.59it/s]"
     ]
    },
    {
     "name": "stdout",
     "output_type": "stream",
     "text": [
      "\n",
      "mean_270619-video2_007-006_opened_cc58.png: too spherical 6.69187908122899\n"
     ]
    },
    {
     "name": "stderr",
     "output_type": "stream",
     "text": [
      "\r",
      " 30%|██▉       | 11/37 [00:06<00:16,  1.59it/s]"
     ]
    },
    {
     "name": "stdout",
     "output_type": "stream",
     "text": [
      "\n",
      "mean_270619-video2_007-006_opened_cc66.png: too spherical 3.1188239879378923\n"
     ]
    },
    {
     "name": "stderr",
     "output_type": "stream",
     "text": [
      "\r",
      " 32%|███▏      | 12/37 [00:07<00:16,  1.55it/s]"
     ]
    },
    {
     "name": "stdout",
     "output_type": "stream",
     "text": [
      "\n",
      "mean_270619-video2_007-007_opened_cc07.png: too spherical 2.3654133899297127\n"
     ]
    },
    {
     "name": "stderr",
     "output_type": "stream",
     "text": [
      "\r",
      " 35%|███▌      | 13/37 [00:08<00:15,  1.54it/s]"
     ]
    },
    {
     "name": "stdout",
     "output_type": "stream",
     "text": [
      "\n",
      "mean_270619-video2_007-007_opened_cc11.png: too spherical 6.553453152440905\n",
      "\n",
      "mean_270619-video2_007-007_opened_cc12.png is INTERESTING\n"
     ]
    },
    {
     "name": "stderr",
     "output_type": "stream",
     "text": [
      "\r",
      " 38%|███▊      | 14/37 [00:09<00:18,  1.21it/s]"
     ]
    },
    {
     "name": "stdout",
     "output_type": "stream",
     "text": [
      "\n",
      "video2_007-006-video2_007-007: overlap = 0.6084129242023979\n"
     ]
    },
    {
     "name": "stderr",
     "output_type": "stream",
     "text": [
      "\r",
      " 41%|████      | 15/37 [00:10<00:16,  1.32it/s]"
     ]
    },
    {
     "name": "stdout",
     "output_type": "stream",
     "text": [
      "\n",
      "mean_270619-video2_007-007_opened_cc23.png: too spherical 8.470698887167616\n",
      "\n",
      "mean_270619-video2_007-007_opened_cc39.png is INTERESTING\n",
      "\n",
      "video2_007-006-video2_007-007: overlap = 0.0\n",
      "\n",
      "video2_007-006-video2_007-007: overlap = 0.0\n"
     ]
    },
    {
     "name": "stderr",
     "output_type": "stream",
     "text": [
      "\r",
      " 43%|████▎     | 16/37 [00:12<00:25,  1.24s/it]"
     ]
    },
    {
     "name": "stdout",
     "output_type": "stream",
     "text": [
      "\n",
      "video2_007-006-video2_007-007: overlap = 0.0\n",
      "\n",
      "mean_270619-video2_007-007_opened_cc57.png is INTERESTING\n",
      "\n",
      "video2_007-006-video2_007-007: overlap = 0.0\n",
      "\n",
      "video2_007-006-video2_007-007: overlap = 0.0\n"
     ]
    },
    {
     "name": "stderr",
     "output_type": "stream",
     "text": [
      "\r",
      " 46%|████▌     | 17/37 [00:14<00:31,  1.56s/it]"
     ]
    },
    {
     "name": "stdout",
     "output_type": "stream",
     "text": [
      "\n",
      "video2_007-006-video2_007-007: overlap = 0.0\n",
      "\n",
      "mean_270619-video2_007-007_opened_cc58.png is INTERESTING\n",
      "\n",
      "video2_007-006-video2_007-007: overlap = 0.0\n",
      "\n",
      "video2_007-006-video2_007-007: overlap = 0.0\n"
     ]
    },
    {
     "name": "stderr",
     "output_type": "stream",
     "text": [
      "\r",
      " 49%|████▊     | 18/37 [00:17<00:33,  1.79s/it]"
     ]
    },
    {
     "name": "stdout",
     "output_type": "stream",
     "text": [
      "\n",
      "video2_007-006-video2_007-007: overlap = 0.0\n"
     ]
    },
    {
     "name": "stderr",
     "output_type": "stream",
     "text": [
      "\r",
      " 51%|█████▏    | 19/37 [00:17<00:25,  1.43s/it]"
     ]
    },
    {
     "name": "stdout",
     "output_type": "stream",
     "text": [
      "\n",
      "mean_270619-video2_007-035_opened_cc05.png: too spherical 2.740128246295991\n"
     ]
    },
    {
     "name": "stderr",
     "output_type": "stream",
     "text": [
      "\r",
      " 54%|█████▍    | 20/37 [00:18<00:20,  1.20s/it]"
     ]
    },
    {
     "name": "stdout",
     "output_type": "stream",
     "text": [
      "\n",
      "mean_270619-video2_007-035_opened_cc12.png: too spherical 2.9430957601571355\n"
     ]
    },
    {
     "name": "stderr",
     "output_type": "stream",
     "text": [
      "\r",
      " 57%|█████▋    | 21/37 [00:18<00:16,  1.03s/it]"
     ]
    },
    {
     "name": "stdout",
     "output_type": "stream",
     "text": [
      "\n",
      "mean_270619-video2_007-035_opened_cc33.png: too spherical 9.324439961605908\n"
     ]
    },
    {
     "name": "stderr",
     "output_type": "stream",
     "text": [
      "\r",
      " 59%|█████▉    | 22/37 [00:19<00:13,  1.11it/s]"
     ]
    },
    {
     "name": "stdout",
     "output_type": "stream",
     "text": [
      "\n",
      "mean_270619-video2_007-036_opened_cc08.png is INTERESTING\n"
     ]
    },
    {
     "name": "stderr",
     "output_type": "stream",
     "text": [
      "\r",
      " 62%|██████▏   | 23/37 [00:20<00:11,  1.23it/s]"
     ]
    },
    {
     "name": "stdout",
     "output_type": "stream",
     "text": [
      "\n",
      "mean_270619-video2_007-036_opened_cc15.png: too spherical 2.4322937940266396\n"
     ]
    },
    {
     "name": "stderr",
     "output_type": "stream",
     "text": [
      "\r",
      " 65%|██████▍   | 24/37 [00:20<00:09,  1.30it/s]"
     ]
    },
    {
     "name": "stdout",
     "output_type": "stream",
     "text": [
      "\n",
      "mean_270619-video2_007-036_opened_cc21.png: too spherical 1.86249227906021\n"
     ]
    },
    {
     "name": "stderr",
     "output_type": "stream",
     "text": [
      "\r",
      " 68%|██████▊   | 25/37 [00:21<00:08,  1.36it/s]"
     ]
    },
    {
     "name": "stdout",
     "output_type": "stream",
     "text": [
      "\n",
      "mean_270619-video2_007-036_opened_cc28.png: too spherical 5.4767648918493075\n"
     ]
    },
    {
     "name": "stderr",
     "output_type": "stream",
     "text": [
      "\r",
      " 70%|███████   | 26/37 [00:22<00:07,  1.43it/s]"
     ]
    },
    {
     "name": "stdout",
     "output_type": "stream",
     "text": [
      "\n",
      "mean_270619-video2_007-036_opened_cc44.png: too spherical 2.010074757867788\n"
     ]
    },
    {
     "name": "stderr",
     "output_type": "stream",
     "text": [
      "\r",
      " 73%|███████▎  | 27/37 [00:22<00:06,  1.48it/s]"
     ]
    },
    {
     "name": "stdout",
     "output_type": "stream",
     "text": [
      "\n",
      "mean_270619-video2_007-036_opened_cc48.png is INTERESTING\n"
     ]
    },
    {
     "name": "stderr",
     "output_type": "stream",
     "text": [
      "\r",
      " 76%|███████▌  | 28/37 [00:23<00:05,  1.51it/s]"
     ]
    },
    {
     "name": "stdout",
     "output_type": "stream",
     "text": [
      "\n",
      "mean_270619-video2_007-036_opened_cc55.png: too spherical 8.293687643710713\n",
      "\n",
      "mean_270619-video2_007-037_opened_cc08.png is INTERESTING\n",
      "\n",
      "video2_007-036-video2_007-037: overlap = 0.0\n"
     ]
    },
    {
     "name": "stderr",
     "output_type": "stream",
     "text": [
      "\r",
      " 78%|███████▊  | 29/37 [00:25<00:08,  1.01s/it]"
     ]
    },
    {
     "name": "stdout",
     "output_type": "stream",
     "text": [
      "\n",
      "video2_007-036-video2_007-037: overlap = 0.0\n"
     ]
    },
    {
     "name": "stderr",
     "output_type": "stream",
     "text": [
      "\r",
      " 81%|████████  | 30/37 [00:25<00:06,  1.12it/s]"
     ]
    },
    {
     "name": "stdout",
     "output_type": "stream",
     "text": [
      "\n",
      "mean_270619-video2_007-037_opened_cc27.png: too spherical 4.003173326614964\n"
     ]
    },
    {
     "name": "stderr",
     "output_type": "stream",
     "text": [
      "\r",
      " 84%|████████▍ | 31/37 [00:26<00:04,  1.23it/s]"
     ]
    },
    {
     "name": "stdout",
     "output_type": "stream",
     "text": [
      "\n",
      "mean_270619-video2_007-037_opened_cc33.png: too spherical 1.969782502486944\n"
     ]
    },
    {
     "name": "stderr",
     "output_type": "stream",
     "text": [
      "\r",
      " 86%|████████▋ | 32/37 [00:27<00:03,  1.33it/s]"
     ]
    },
    {
     "name": "stdout",
     "output_type": "stream",
     "text": [
      "\n",
      "mean_270619-video2_007-037_opened_cc52.png: too spherical 4.043940279485868\n"
     ]
    },
    {
     "name": "stderr",
     "output_type": "stream",
     "text": [
      "\r",
      " 89%|████████▉ | 33/37 [00:27<00:02,  1.40it/s]"
     ]
    },
    {
     "name": "stdout",
     "output_type": "stream",
     "text": [
      "\n",
      "mean_270619-video2_007-037_opened_cc65.png: too spherical 7.954410508058826\n"
     ]
    },
    {
     "name": "stderr",
     "output_type": "stream",
     "text": [
      "\r",
      " 92%|█████████▏| 34/37 [00:28<00:02,  1.43it/s]"
     ]
    },
    {
     "name": "stdout",
     "output_type": "stream",
     "text": [
      "\n",
      "mean_270619-video2_007-048_opened_cc24.png: too spherical 1.5096631489241013\n"
     ]
    },
    {
     "name": "stderr",
     "output_type": "stream",
     "text": [
      "\r",
      " 95%|█████████▍| 35/37 [00:28<00:01,  1.47it/s]"
     ]
    },
    {
     "name": "stdout",
     "output_type": "stream",
     "text": [
      "\n",
      "mean_270619-video2_007-048_opened_cc46.png is INTERESTING\n"
     ]
    },
    {
     "name": "stderr",
     "output_type": "stream",
     "text": [
      "\r",
      " 97%|█████████▋| 36/37 [00:29<00:00,  1.51it/s]"
     ]
    },
    {
     "name": "stdout",
     "output_type": "stream",
     "text": [
      "\n",
      "mean_270619-video2_007-006_opened_cc49.png: too spherical 9.892631035739873\n"
     ]
    },
    {
     "name": "stderr",
     "output_type": "stream",
     "text": [
      "100%|██████████| 37/37 [00:30<00:00,  1.53it/s]\n",
      "  0%|          | 0/48 [00:00<?, ?it/s]"
     ]
    },
    {
     "name": "stdout",
     "output_type": "stream",
     "text": [
      "\n",
      "mean_270619-video2_007-035_opened_cc30.png is INTERESTING\n",
      "found video2_008/trigger_thr0.005_cl9_op3/cc_filtered_2den0.81_gausrad2.0/\n"
     ]
    },
    {
     "name": "stderr",
     "output_type": "stream",
     "text": [
      "\r",
      "  2%|▏         | 1/48 [00:00<00:33,  1.41it/s]"
     ]
    },
    {
     "name": "stdout",
     "output_type": "stream",
     "text": [
      "\n",
      "mean_270619-video2_008-001_opened_cc17.png: too spherical 3.3978702995749672\n"
     ]
    },
    {
     "name": "stderr",
     "output_type": "stream",
     "text": [
      "\r",
      "  4%|▍         | 2/48 [00:01<00:32,  1.41it/s]"
     ]
    },
    {
     "name": "stdout",
     "output_type": "stream",
     "text": [
      "\n",
      "mean_270619-video2_008-002_opened_cc24.png: too spherical 4.341792746044707\n"
     ]
    },
    {
     "name": "stderr",
     "output_type": "stream",
     "text": [
      "\r",
      "  6%|▋         | 3/48 [00:02<00:30,  1.45it/s]"
     ]
    },
    {
     "name": "stdout",
     "output_type": "stream",
     "text": [
      "\n",
      "mean_270619-video2_008-002_opened_cc38.png: too spherical 4.4970878230765505\n"
     ]
    },
    {
     "name": "stderr",
     "output_type": "stream",
     "text": [
      "\r",
      "  8%|▊         | 4/48 [00:02<00:29,  1.50it/s]"
     ]
    },
    {
     "name": "stdout",
     "output_type": "stream",
     "text": [
      "\n",
      "mean_270619-video2_008-002_opened_cc42.png: too spherical 7.4734093721653485\n"
     ]
    },
    {
     "name": "stderr",
     "output_type": "stream",
     "text": [
      "\r",
      " 10%|█         | 5/48 [00:03<00:28,  1.52it/s]"
     ]
    },
    {
     "name": "stdout",
     "output_type": "stream",
     "text": [
      "\n",
      "mean_270619-video2_008-002_opened_cc44.png is INTERESTING\n"
     ]
    },
    {
     "name": "stderr",
     "output_type": "stream",
     "text": [
      "\r",
      " 12%|█▎        | 6/48 [00:03<00:27,  1.55it/s]"
     ]
    },
    {
     "name": "stdout",
     "output_type": "stream",
     "text": [
      "\n",
      "mean_270619-video2_008-002_opened_cc70.png is INTERESTING\n"
     ]
    },
    {
     "name": "stderr",
     "output_type": "stream",
     "text": [
      "\r",
      " 15%|█▍        | 7/48 [00:04<00:26,  1.55it/s]"
     ]
    },
    {
     "name": "stdout",
     "output_type": "stream",
     "text": [
      "\n",
      "mean_270619-video2_008-003_opened_cc17.png: too spherical 3.4683712491828294\n"
     ]
    },
    {
     "name": "stderr",
     "output_type": "stream",
     "text": [
      "\r",
      " 17%|█▋        | 8/48 [00:05<00:25,  1.56it/s]"
     ]
    },
    {
     "name": "stdout",
     "output_type": "stream",
     "text": [
      "\n",
      "mean_270619-video2_008-003_opened_cc41.png: too spherical 4.972151895074777\n"
     ]
    },
    {
     "name": "stderr",
     "output_type": "stream",
     "text": [
      "\r",
      " 19%|█▉        | 9/48 [00:05<00:25,  1.52it/s]"
     ]
    },
    {
     "name": "stdout",
     "output_type": "stream",
     "text": [
      "\n",
      "mean_270619-video2_008-004_opened_cc11.png: too spherical 2.6087807405666648\n"
     ]
    },
    {
     "name": "stderr",
     "output_type": "stream",
     "text": [
      "\r",
      " 21%|██        | 10/48 [00:06<00:24,  1.55it/s]"
     ]
    },
    {
     "name": "stdout",
     "output_type": "stream",
     "text": [
      "\n",
      "mean_270619-video2_008-004_opened_cc116.png is INTERESTING\n"
     ]
    },
    {
     "name": "stderr",
     "output_type": "stream",
     "text": [
      "\r",
      " 23%|██▎       | 11/48 [00:07<00:23,  1.58it/s]"
     ]
    },
    {
     "name": "stdout",
     "output_type": "stream",
     "text": [
      "\n",
      "mean_270619-video2_008-004_opened_cc28.png: too spherical 2.8736371671597998\n"
     ]
    },
    {
     "name": "stderr",
     "output_type": "stream",
     "text": [
      "\r",
      " 25%|██▌       | 12/48 [00:07<00:22,  1.60it/s]"
     ]
    },
    {
     "name": "stdout",
     "output_type": "stream",
     "text": [
      "\n",
      "mean_270619-video2_008-004_opened_cc35.png: too spherical 2.8880519466969243\n"
     ]
    },
    {
     "name": "stderr",
     "output_type": "stream",
     "text": [
      "\r",
      " 27%|██▋       | 13/48 [00:08<00:22,  1.59it/s]"
     ]
    },
    {
     "name": "stdout",
     "output_type": "stream",
     "text": [
      "\n",
      "mean_270619-video2_008-004_opened_cc43.png is INTERESTING\n"
     ]
    },
    {
     "name": "stderr",
     "output_type": "stream",
     "text": [
      "\r",
      " 29%|██▉       | 14/48 [00:08<00:21,  1.59it/s]"
     ]
    },
    {
     "name": "stdout",
     "output_type": "stream",
     "text": [
      "\n",
      "mean_270619-video2_008-004_opened_cc57.png: too spherical 4.206684113347683\n"
     ]
    },
    {
     "name": "stderr",
     "output_type": "stream",
     "text": [
      "\r",
      " 31%|███▏      | 15/48 [00:09<00:20,  1.61it/s]"
     ]
    },
    {
     "name": "stdout",
     "output_type": "stream",
     "text": [
      "\n",
      "mean_270619-video2_008-004_opened_cc58.png is INTERESTING\n"
     ]
    },
    {
     "name": "stderr",
     "output_type": "stream",
     "text": [
      "\r",
      " 33%|███▎      | 16/48 [00:10<00:19,  1.62it/s]"
     ]
    },
    {
     "name": "stdout",
     "output_type": "stream",
     "text": [
      "\n",
      "mean_270619-video2_008-004_opened_cc85.png: too spherical 4.20995591311665\n",
      "\n",
      "mean_270619-video2_008-005_opened_cc06.png is INTERESTING\n",
      "\n",
      "video2_008-004-video2_008-005: overlap = 0.0\n",
      "\n",
      "video2_008-004-video2_008-005: overlap = 0.0\n"
     ]
    },
    {
     "name": "stderr",
     "output_type": "stream",
     "text": [
      "\r",
      " 35%|███▌      | 17/48 [00:12<00:35,  1.13s/it]"
     ]
    },
    {
     "name": "stdout",
     "output_type": "stream",
     "text": [
      "\n",
      "video2_008-004-video2_008-005: overlap = 0.0\n",
      "\n",
      "mean_270619-video2_008-005_opened_cc45.png is INTERESTING\n",
      "\n",
      "video2_008-004-video2_008-005: overlap = 0.0\n",
      "\n",
      "video2_008-004-video2_008-005: overlap = 0.320855614973262\n"
     ]
    },
    {
     "name": "stderr",
     "output_type": "stream",
     "text": [
      "\r",
      " 38%|███▊      | 18/48 [00:14<00:45,  1.50s/it]"
     ]
    },
    {
     "name": "stdout",
     "output_type": "stream",
     "text": [
      "\n",
      "video2_008-004-video2_008-005: overlap = 0.0\n"
     ]
    },
    {
     "name": "stderr",
     "output_type": "stream",
     "text": [
      "\r",
      " 40%|███▉      | 19/48 [00:15<00:36,  1.26s/it]"
     ]
    },
    {
     "name": "stdout",
     "output_type": "stream",
     "text": [
      "\n",
      "mean_270619-video2_008-011_opened_cc04.png: too spherical 6.188426998044078\n"
     ]
    },
    {
     "name": "stderr",
     "output_type": "stream",
     "text": [
      "\r",
      " 42%|████▏     | 20/48 [00:16<00:30,  1.08s/it]"
     ]
    },
    {
     "name": "stdout",
     "output_type": "stream",
     "text": [
      "\n",
      "mean_270619-video2_008-011_opened_cc05.png: too spherical 1.8117380886620362\n"
     ]
    },
    {
     "name": "stderr",
     "output_type": "stream",
     "text": [
      "\r",
      " 44%|████▍     | 21/48 [00:16<00:25,  1.05it/s]"
     ]
    },
    {
     "name": "stdout",
     "output_type": "stream",
     "text": [
      "\n",
      "mean_270619-video2_008-011_opened_cc51.png: too spherical 3.2161602211800955\n"
     ]
    },
    {
     "name": "stderr",
     "output_type": "stream",
     "text": [
      "\r",
      " 46%|████▌     | 22/48 [00:17<00:22,  1.17it/s]"
     ]
    },
    {
     "name": "stdout",
     "output_type": "stream",
     "text": [
      "\n",
      "mean_270619-video2_008-011_opened_cc55.png is INTERESTING\n"
     ]
    },
    {
     "name": "stderr",
     "output_type": "stream",
     "text": [
      "\r",
      " 48%|████▊     | 23/48 [00:18<00:19,  1.27it/s]"
     ]
    },
    {
     "name": "stdout",
     "output_type": "stream",
     "text": [
      "\n",
      "mean_270619-video2_008-011_opened_cc70.png is INTERESTING\n"
     ]
    },
    {
     "name": "stderr",
     "output_type": "stream",
     "text": [
      "\r",
      " 50%|█████     | 24/48 [00:18<00:17,  1.34it/s]"
     ]
    },
    {
     "name": "stdout",
     "output_type": "stream",
     "text": [
      "\n",
      "mean_270619-video2_008-012_opened_cc03.png: too spherical 2.2883378922796203\n"
     ]
    },
    {
     "name": "stderr",
     "output_type": "stream",
     "text": [
      "\r",
      " 52%|█████▏    | 25/48 [00:19<00:17,  1.35it/s]"
     ]
    },
    {
     "name": "stdout",
     "output_type": "stream",
     "text": [
      "\n",
      "mean_270619-video2_008-012_opened_cc07.png: too spherical 3.880161382745908\n"
     ]
    },
    {
     "name": "stderr",
     "output_type": "stream",
     "text": [
      "\r",
      " 54%|█████▍    | 26/48 [00:20<00:15,  1.41it/s]"
     ]
    },
    {
     "name": "stdout",
     "output_type": "stream",
     "text": [
      "\n",
      "mean_270619-video2_008-012_opened_cc17.png: too spherical 5.221310113214375\n"
     ]
    },
    {
     "name": "stderr",
     "output_type": "stream",
     "text": [
      "\r",
      " 56%|█████▋    | 27/48 [00:20<00:14,  1.47it/s]"
     ]
    },
    {
     "name": "stdout",
     "output_type": "stream",
     "text": [
      "\n",
      "mean_270619-video2_008-012_opened_cc34.png: too spherical 6.625910722704522\n"
     ]
    },
    {
     "name": "stderr",
     "output_type": "stream",
     "text": [
      "\r",
      " 58%|█████▊    | 28/48 [00:21<00:13,  1.50it/s]"
     ]
    },
    {
     "name": "stdout",
     "output_type": "stream",
     "text": [
      "\n",
      "mean_270619-video2_008-012_opened_cc45.png: too spherical 4.253996703627043\n"
     ]
    },
    {
     "name": "stderr",
     "output_type": "stream",
     "text": [
      "\r",
      " 60%|██████    | 29/48 [00:22<00:12,  1.54it/s]"
     ]
    },
    {
     "name": "stdout",
     "output_type": "stream",
     "text": [
      "\n",
      "mean_270619-video2_008-012_opened_cc62.png: too spherical 4.547050282302043\n"
     ]
    },
    {
     "name": "stderr",
     "output_type": "stream",
     "text": [
      "\r",
      " 62%|██████▎   | 30/48 [00:22<00:11,  1.54it/s]"
     ]
    },
    {
     "name": "stdout",
     "output_type": "stream",
     "text": [
      "\n",
      "mean_270619-video2_008-003_opened_cc29.png: too spherical 8.512157230342275\n",
      "\n",
      "mean_270619-video2_008-005_opened_cc79.png is INTERESTING\n"
     ]
    },
    {
     "name": "stderr",
     "output_type": "stream",
     "text": [
      "\r",
      " 65%|██████▍   | 31/48 [00:23<00:13,  1.23it/s]"
     ]
    },
    {
     "name": "stdout",
     "output_type": "stream",
     "text": [
      "\n",
      "video2_008-004-video2_008-005: overlap = 0.6284796573875804\n"
     ]
    },
    {
     "name": "stderr",
     "output_type": "stream",
     "text": [
      "\r",
      " 67%|██████▋   | 32/48 [00:24<00:12,  1.28it/s]"
     ]
    },
    {
     "name": "stdout",
     "output_type": "stream",
     "text": [
      "\n",
      "mean_270619-video2_008-013_opened_cc01.png: too spherical 7.3190392794212835\n"
     ]
    },
    {
     "name": "stderr",
     "output_type": "stream",
     "text": [
      "\r",
      " 69%|██████▉   | 33/48 [00:25<00:11,  1.34it/s]"
     ]
    },
    {
     "name": "stdout",
     "output_type": "stream",
     "text": [
      "\n",
      "mean_270619-video2_008-013_opened_cc04.png: too spherical 6.190799285749345\n"
     ]
    },
    {
     "name": "stderr",
     "output_type": "stream",
     "text": [
      "\r",
      " 71%|███████   | 34/48 [00:25<00:09,  1.43it/s]"
     ]
    },
    {
     "name": "stdout",
     "output_type": "stream",
     "text": [
      "\n",
      "mean_270619-video2_008-013_opened_cc11.png: too spherical 7.9829017368537265\n"
     ]
    },
    {
     "name": "stderr",
     "output_type": "stream",
     "text": [
      "\r",
      " 73%|███████▎  | 35/48 [00:26<00:08,  1.48it/s]"
     ]
    },
    {
     "name": "stdout",
     "output_type": "stream",
     "text": [
      "\n",
      "mean_270619-video2_008-013_opened_cc32.png: too spherical 6.47707595455535\n"
     ]
    },
    {
     "name": "stderr",
     "output_type": "stream",
     "text": [
      "\r",
      " 75%|███████▌  | 36/48 [00:27<00:07,  1.52it/s]"
     ]
    },
    {
     "name": "stdout",
     "output_type": "stream",
     "text": [
      "\n",
      "mean_270619-video2_008-013_opened_cc37.png: too spherical 6.331099985074288\n"
     ]
    },
    {
     "name": "stderr",
     "output_type": "stream",
     "text": [
      "\r",
      " 77%|███████▋  | 37/48 [00:27<00:07,  1.54it/s]"
     ]
    },
    {
     "name": "stdout",
     "output_type": "stream",
     "text": [
      "\n",
      "mean_270619-video2_008-013_opened_cc59.png: too spherical 1.3091814105064536\n"
     ]
    },
    {
     "name": "stderr",
     "output_type": "stream",
     "text": [
      "\r",
      " 79%|███████▉  | 38/48 [00:28<00:06,  1.57it/s]"
     ]
    },
    {
     "name": "stdout",
     "output_type": "stream",
     "text": [
      "\n",
      "mean_270619-video2_008-013_opened_cc71.png: too spherical 2.311105211155934\n"
     ]
    },
    {
     "name": "stderr",
     "output_type": "stream",
     "text": [
      "\r",
      " 81%|████████▏ | 39/48 [00:28<00:05,  1.58it/s]"
     ]
    },
    {
     "name": "stdout",
     "output_type": "stream",
     "text": [
      "\n",
      "mean_270619-video2_008-013_opened_cc75.png is INTERESTING\n"
     ]
    },
    {
     "name": "stderr",
     "output_type": "stream",
     "text": [
      "\r",
      " 83%|████████▎ | 40/48 [00:29<00:05,  1.60it/s]"
     ]
    },
    {
     "name": "stdout",
     "output_type": "stream",
     "text": [
      "\n",
      "mean_270619-video2_008-013_opened_cc92.png is INTERESTING\n"
     ]
    },
    {
     "name": "stderr",
     "output_type": "stream",
     "text": [
      "\r",
      " 85%|████████▌ | 41/48 [00:30<00:04,  1.57it/s]"
     ]
    },
    {
     "name": "stdout",
     "output_type": "stream",
     "text": [
      "\n",
      "mean_270619-video2_008-014_opened_cc11.png: too spherical 4.846542400212201\n"
     ]
    },
    {
     "name": "stderr",
     "output_type": "stream",
     "text": [
      "\r",
      " 88%|████████▊ | 42/48 [00:30<00:03,  1.56it/s]"
     ]
    },
    {
     "name": "stdout",
     "output_type": "stream",
     "text": [
      "\n",
      "mean_270619-video2_008-014_opened_cc16.png: too spherical 3.569072792448525\n"
     ]
    },
    {
     "name": "stderr",
     "output_type": "stream",
     "text": [
      "\r",
      " 90%|████████▉ | 43/48 [00:31<00:03,  1.56it/s]"
     ]
    },
    {
     "name": "stdout",
     "output_type": "stream",
     "text": [
      "\n",
      "mean_270619-video2_008-015_opened_cc12.png: too spherical 7.296277464362657\n"
     ]
    },
    {
     "name": "stderr",
     "output_type": "stream",
     "text": [
      "\r",
      " 92%|█████████▏| 44/48 [00:32<00:02,  1.53it/s]"
     ]
    },
    {
     "name": "stdout",
     "output_type": "stream",
     "text": [
      "\n",
      "mean_270619-video2_008-015_opened_cc16.png: too spherical 3.000731422722822\n"
     ]
    },
    {
     "name": "stderr",
     "output_type": "stream",
     "text": [
      "\r",
      " 94%|█████████▍| 45/48 [00:32<00:01,  1.55it/s]"
     ]
    },
    {
     "name": "stdout",
     "output_type": "stream",
     "text": [
      "\n",
      "mean_270619-video2_008-016_opened_cc03.png is INTERESTING\n"
     ]
    },
    {
     "name": "stderr",
     "output_type": "stream",
     "text": [
      "\r",
      " 96%|█████████▌| 46/48 [00:33<00:01,  1.58it/s]"
     ]
    },
    {
     "name": "stdout",
     "output_type": "stream",
     "text": [
      "\n",
      "mean_270619-video2_008-016_opened_cc15.png is INTERESTING\n"
     ]
    },
    {
     "name": "stderr",
     "output_type": "stream",
     "text": [
      "\r",
      " 98%|█████████▊| 47/48 [00:34<00:00,  1.59it/s]"
     ]
    },
    {
     "name": "stdout",
     "output_type": "stream",
     "text": [
      "\n",
      "mean_270619-video2_008-016_opened_cc20.png is INTERESTING\n"
     ]
    },
    {
     "name": "stderr",
     "output_type": "stream",
     "text": [
      "\r",
      "100%|██████████| 48/48 [00:34<00:00,  1.61it/s]"
     ]
    },
    {
     "name": "stdout",
     "output_type": "stream",
     "text": [
      "\n",
      "mean_270619-video2_008-016_opened_cc50.png is INTERESTING\n",
      "found video3_000/trigger_thr0.005_cl9_op3/cc_filtered_2den0.81_gausrad2.0/\n",
      "found video3_001/trigger_thr0.005_cl9_op3/cc_filtered_2den0.81_gausrad2.0/\n",
      "found video3_002/trigger_thr0.005_cl9_op3/cc_filtered_2den0.81_gausrad2.0/\n",
      "found video3_003/trigger_thr0.005_cl9_op3/cc_filtered_2den0.81_gausrad2.0/\n",
      "found video3_004/trigger_thr0.005_cl9_op3/cc_filtered_2den0.81_gausrad2.0/\n",
      "found video3_005/trigger_thr0.005_cl9_op3/cc_filtered_2den0.81_gausrad2.0/\n",
      "found video3_006/trigger_thr0.005_cl9_op3/cc_filtered_2den0.81_gausrad2.0/\n",
      "found video3_007/trigger_thr0.005_cl9_op3/cc_filtered_2den0.81_gausrad2.0/\n",
      "found video3_008/trigger_thr0.005_cl9_op3/cc_filtered_2den0.81_gausrad2.0/\n",
      "found video3_009/trigger_thr0.005_cl9_op3/cc_filtered_2den0.81_gausrad2.0/\n",
      "found video3_010/trigger_thr0.005_cl9_op3/cc_filtered_2den0.81_gausrad2.0/\n",
      "found video3_011/trigger_thr0.005_cl9_op3/cc_filtered_2den0.81_gausrad2.0/\n",
      "found video3_012/trigger_thr0.005_cl9_op3/cc_filtered_2den0.81_gausrad2.0/\n",
      "found video3_013/trigger_thr0.005_cl9_op3/cc_filtered_2den0.81_gausrad2.0/\n",
      "found video3_014/trigger_thr0.005_cl9_op3/cc_filtered_2den0.81_gausrad2.0/\n",
      "found video3_015/trigger_thr0.005_cl9_op3/cc_filtered_2den0.81_gausrad2.0/\n",
      "found video3_016/trigger_thr0.005_cl9_op3/cc_filtered_2den0.81_gausrad2.0/\n",
      "found video3_017/trigger_thr0.005_cl9_op3/cc_filtered_2den0.81_gausrad2.0/\n",
      "found video3_018/trigger_thr0.005_cl9_op3/cc_filtered_2den0.81_gausrad2.0/\n",
      "found video3_020/trigger_thr0.005_cl9_op3/cc_filtered_2den0.81_gausrad2.0/\n",
      "found video3_021/trigger_thr0.005_cl9_op3/cc_filtered_2den0.81_gausrad2.0/\n",
      "found video3_022/trigger_thr0.005_cl9_op3/cc_filtered_2den0.81_gausrad2.0/\n",
      "found video3_023/trigger_thr0.005_cl9_op3/cc_filtered_2den0.81_gausrad2.0/\n",
      "found video3_024/trigger_thr0.005_cl9_op3/cc_filtered_2den0.81_gausrad2.0/\n",
      "found video3_025/trigger_thr0.005_cl9_op3/cc_filtered_2den0.81_gausrad2.0/\n",
      "found video3_026/trigger_thr0.005_cl9_op3/cc_filtered_2den0.81_gausrad2.0/\n",
      "found video3_027/trigger_thr0.005_cl9_op3/cc_filtered_2den0.81_gausrad2.0/\n",
      "found video3_028/trigger_thr0.005_cl9_op3/cc_filtered_2den0.81_gausrad2.0/\n",
      "found video3_029/trigger_thr0.005_cl9_op3/cc_filtered_2den0.81_gausrad2.0/\n",
      "found video4_000/trigger_thr0.005_cl9_op3/cc_filtered_2den0.81_gausrad2.0/\n",
      "found video4_001/trigger_thr0.005_cl9_op3/cc_filtered_2den0.81_gausrad2.0/\n",
      "found video4_002/trigger_thr0.005_cl9_op3/cc_filtered_2den0.81_gausrad2.0/\n",
      "found video4_003/trigger_thr0.005_cl9_op3/cc_filtered_2den0.81_gausrad2.0/\n",
      "found video4_004/trigger_thr0.005_cl9_op3/cc_filtered_2den0.81_gausrad2.0/\n",
      "found video4_005/trigger_thr0.005_cl9_op3/cc_filtered_2den0.81_gausrad2.0/\n",
      "found video4_006/trigger_thr0.005_cl9_op3/cc_filtered_2den0.81_gausrad2.0/\n",
      "found video4_007/trigger_thr0.005_cl9_op3/cc_filtered_2den0.81_gausrad2.0/\n",
      "found video4_008/trigger_thr0.005_cl9_op3/cc_filtered_2den0.81_gausrad2.0/\n",
      "found video4_010/trigger_thr0.005_cl9_op3/cc_filtered_2den0.81_gausrad2.0/\n",
      "found video4_011/trigger_thr0.005_cl9_op3/cc_filtered_2den0.81_gausrad2.0/\n",
      "found video4_012/trigger_thr0.005_cl9_op3/cc_filtered_2den0.81_gausrad2.0/\n",
      "found video4_013/trigger_thr0.005_cl9_op3/cc_filtered_2den0.81_gausrad2.0/\n",
      "found video4_014/trigger_thr0.005_cl9_op3/cc_filtered_2den0.81_gausrad2.0/\n",
      "found video4_015/trigger_thr0.005_cl9_op3/cc_filtered_2den0.81_gausrad2.0/\n",
      "found video4_016/trigger_thr0.005_cl9_op3/cc_filtered_2den0.81_gausrad2.0/\n",
      "found video4_017/trigger_thr0.005_cl9_op3/cc_filtered_2den0.81_gausrad2.0/\n",
      "found video4_018/trigger_thr0.005_cl9_op3/cc_filtered_2den0.81_gausrad2.0/\n",
      "found video4_019/trigger_thr0.005_cl9_op3/cc_filtered_2den0.81_gausrad2.0/\n",
      "found video4_020/trigger_thr0.005_cl9_op3/cc_filtered_2den0.81_gausrad2.0/\n",
      "found video4_021/trigger_thr0.005_cl9_op3/cc_filtered_2den0.81_gausrad2.0/\n",
      "found video4_022/trigger_thr0.005_cl9_op3/cc_filtered_2den0.81_gausrad2.0/\n",
      "found video4_023/trigger_thr0.005_cl9_op3/cc_filtered_2den0.81_gausrad2.0/\n",
      "found video4_024/trigger_thr0.005_cl9_op3/cc_filtered_2den0.81_gausrad2.0/\n",
      "found video4_025/trigger_thr0.005_cl9_op3/cc_filtered_2den0.81_gausrad2.0/\n",
      "found video4_026/trigger_thr0.005_cl9_op3/cc_filtered_2den0.81_gausrad2.0/\n",
      "found video4_027/trigger_thr0.005_cl9_op3/cc_filtered_2den0.81_gausrad2.0/\n",
      "found video4_028/trigger_thr0.005_cl9_op3/cc_filtered_2den0.81_gausrad2.0/\n",
      "\n",
      "Slimming 148 particles\n"
     ]
    },
    {
     "name": "stderr",
     "output_type": "stream",
     "text": [
      "\n"
     ]
    },
    {
     "name": "stdout",
     "output_type": "stream",
     "text": [
      "Total time: 0 h 11 min 46 s\n"
     ]
    }
   ],
   "source": [
    "# create clusterizer\n",
    "\n",
    "particles = []\n",
    "\n",
    "particles,n_part,slim = Particle.Big_iteration(path='/media/alessandro/DATA/tesi/Nebbia/pre-processed_data/270619/',\n",
    "                                               slim=True,video_name='video2')\n",
    "c = Clusterizer.Clusterizer('video2_r6',particles,slim)\n",
    "c.save(path='./Clusterizers/270619/')"
   ]
  },
  {
   "cell_type": "code",
   "execution_count": null,
   "metadata": {},
   "outputs": [],
   "source": [
    "c = Clusterizer.Clusterizer('video9_r6',particles,slim)\n",
    "c.save()"
   ]
  },
  {
   "cell_type": "code",
   "execution_count": null,
   "metadata": {},
   "outputs": [],
   "source": [
    "c.save()"
   ]
  },
  {
   "cell_type": "code",
   "execution_count": null,
   "metadata": {},
   "outputs": [],
   "source": [
    "particles"
   ]
  },
  {
   "cell_type": "code",
   "execution_count": null,
   "metadata": {},
   "outputs": [],
   "source": [
    "%matplotlib notebook\n",
    "c.plot()"
   ]
  },
  {
   "cell_type": "code",
   "execution_count": 17,
   "metadata": {},
   "outputs": [],
   "source": [
    "d = Clusterizer.load_Clusterizer(path='./Clusterizers/270619/',name='video4_r6')"
   ]
  },
  {
   "cell_type": "code",
   "execution_count": 18,
   "metadata": {},
   "outputs": [
    {
     "data": {
      "text/plain": [
       "array([(  1, '/media/alessandro/DATA/tesi/Nebbia/pre-processed_data/270619/video4_009/trigger_thr0.005_cl9_op3/cc_filtered_2den0.81_gausrad2.0/', list(['mean_270619-video4_009-005_opened_cc21.png']), array([ 1.        , 83.45545227, 10.54454773,  1.        ,  1.        ])),\n",
       "       (  2, '/media/alessandro/DATA/tesi/Nebbia/pre-processed_data/270619/video4_009/trigger_thr0.005_cl9_op3/cc_filtered_2den0.81_gausrad2.0/', list(['mean_270619-video4_009-005_opened_cc40.png', 'mean_270619-video4_009-006_opened_cc68.png']), array([ 2.        , 91.37324105, 29.62675895,  1.        ,  1.        ])),\n",
       "       (  3, '/media/alessandro/DATA/tesi/Nebbia/pre-processed_data/270619/video4_009/trigger_thr0.005_cl9_op3/cc_filtered_2den0.81_gausrad2.0/', list(['mean_270619-video4_009-007_opened_cc05.png']), array([  1.        , 144.56453695,   5.89095614,   2.        ,\n",
       "         1.48008815])),\n",
       "       (  4, '/media/alessandro/DATA/tesi/Nebbia/pre-processed_data/270619/video4_009/trigger_thr0.005_cl9_op3/cc_filtered_2den0.81_gausrad2.0/', list(['mean_270619-video4_009-007_opened_cc91.png']), array([ 1.        , 68.5713315 , 13.02226629,  2.        ,  1.        ])),\n",
       "       (  5, '/media/alessandro/DATA/tesi/Nebbia/pre-processed_data/270619/video4_009/trigger_thr0.005_cl9_op3/cc_filtered_2den0.81_gausrad2.0/', list(['mean_270619-video4_009-009_opened_cc10.png']), array([ 1.        , 83.77052461, 17.37101199,  2.        ,  1.08646391])),\n",
       "       (  6, '/media/alessandro/DATA/tesi/Nebbia/pre-processed_data/270619/video4_009/trigger_thr0.005_cl9_op3/cc_filtered_2den0.81_gausrad2.0/', list(['mean_270619-video4_009-009_opened_cc20.png']), array([ 1.        , 90.12308015, 16.87691985,  1.        ,  1.        ])),\n",
       "       (  7, '/media/alessandro/DATA/tesi/Nebbia/pre-processed_data/270619/video4_009/trigger_thr0.005_cl9_op3/cc_filtered_2den0.81_gausrad2.0/', list(['mean_270619-video4_009-009_opened_cc23.png', 'mean_270619-video4_009-010_opened_cc61.png']), array([ 2.        , 78.59184619, 24.65815381,  1.        ,  1.        ])),\n",
       "       (  8, '/media/alessandro/DATA/tesi/Nebbia/pre-processed_data/270619/video4_009/trigger_thr0.005_cl9_op3/cc_filtered_2den0.81_gausrad2.0/', list(['mean_270619-video4_009-010_opened_cc36.png']), array([  1.        , 125.41876554,  13.10152678,   2.        ,\n",
       "         1.06887543])),\n",
       "       (  9, '/media/alessandro/DATA/tesi/Nebbia/pre-processed_data/270619/video4_009/trigger_thr0.005_cl9_op3/cc_filtered_2den0.81_gausrad2.0/', list(['mean_270619-video4_009-006_opened_cc57.png']), array([ 1.        , 90.57835113, 13.92164887,  1.        ,  1.01651586])),\n",
       "       ( 10, '/media/alessandro/DATA/tesi/Nebbia/pre-processed_data/270619/video4_000/trigger_thr0.005_cl9_op3/cc_filtered_2den0.81_gausrad2.0/', list(['mean_270619-video4_000-023_opened_cc15.png']), array([  1.        , 423.39118286,   6.82596979,   7.        ,\n",
       "         1.6887351 ])),\n",
       "       ( 11, '/media/alessandro/DATA/tesi/Nebbia/pre-processed_data/270619/video4_000/trigger_thr0.005_cl9_op3/cc_filtered_2den0.81_gausrad2.0/', list(['mean_270619-video4_000-023_opened_cc17.png']), array([  1.        , 231.53115106,   7.22954927,   4.        ,\n",
       "         1.41947517])),\n",
       "       ( 12, '/media/alessandro/DATA/tesi/Nebbia/pre-processed_data/270619/video4_000/trigger_thr0.005_cl9_op3/cc_filtered_2den0.81_gausrad2.0/', list(['mean_270619-video4_000-023_opened_cc37.png']), array([ 1.        , 74.67902039,  6.84450558,  2.        ,  1.17813117])),\n",
       "       ( 13, '/media/alessandro/DATA/tesi/Nebbia/pre-processed_data/270619/video4_000/trigger_thr0.005_cl9_op3/cc_filtered_2den0.81_gausrad2.0/', list(['mean_270619-video4_000-024_opened_cc19.png']), array([ 1.        , 66.44292531,  9.55707469,  1.        ,  1.05771875])),\n",
       "       ( 14, '/media/alessandro/DATA/tesi/Nebbia/pre-processed_data/270619/video4_000/trigger_thr0.005_cl9_op3/cc_filtered_2den0.81_gausrad2.0/', list(['mean_270619-video4_000-024_opened_cc23.png']), array([  1.        , 269.4684431 ,  18.58993352,   3.        ,\n",
       "         1.43737458])),\n",
       "       ( 15, '/media/alessandro/DATA/tesi/Nebbia/pre-processed_data/270619/video4_000/trigger_thr0.005_cl9_op3/cc_filtered_2den0.81_gausrad2.0/', list(['mean_270619-video4_000-024_opened_cc25.png']), array([ 1.        , 49.39650628,  3.60349372,  1.        ,  3.39256598])),\n",
       "       ( 16, '/media/alessandro/DATA/tesi/Nebbia/pre-processed_data/270619/video4_000/trigger_thr0.005_cl9_op3/cc_filtered_2den0.81_gausrad2.0/', list(['mean_270619-video4_000-024_opened_cc73.png']), array([  1.        , 103.6782866 ,   8.91689687,   2.        ,\n",
       "         1.18390933])),\n",
       "       ( 17, '/media/alessandro/DATA/tesi/Nebbia/pre-processed_data/270619/video4_000/trigger_thr0.005_cl9_op3/cc_filtered_2den0.81_gausrad2.0/', list(['mean_270619-video4_000-034_opened_cc03.png']), array([1.00000000e+00, 1.04660246e+03, 6.14595049e+00, 1.80000000e+01,\n",
       "       1.96667951e+00])),\n",
       "       ( 18, '/media/alessandro/DATA/tesi/Nebbia/pre-processed_data/270619/video4_000/trigger_thr0.005_cl9_op3/cc_filtered_2den0.81_gausrad2.0/', list(['mean_270619-video4_000-034_opened_cc19.png']), array([  1.        , 695.90853774,   7.20925664,  14.        ,\n",
       "         2.44552059])),\n",
       "       ( 19, '/media/alessandro/DATA/tesi/Nebbia/pre-processed_data/270619/video4_000/trigger_thr0.005_cl9_op3/cc_filtered_2den0.81_gausrad2.0/', list(['mean_270619-video4_000-034_opened_cc32.png']), array([  1.        , 299.23409104,  10.50697946,   6.        ,\n",
       "         1.65070962])),\n",
       "       ( 20, '/media/alessandro/DATA/tesi/Nebbia/pre-processed_data/270619/video4_000/trigger_thr0.005_cl9_op3/cc_filtered_2den0.81_gausrad2.0/', list(['mean_270619-video4_000-034_opened_cc53.png']), array([  1.        , 123.52205406,  21.47794594,   1.        ,\n",
       "         1.        ])),\n",
       "       ( 21, '/media/alessandro/DATA/tesi/Nebbia/pre-processed_data/270619/video4_000/trigger_thr0.005_cl9_op3/cc_filtered_2den0.81_gausrad2.0/', list(['mean_270619-video4_000-034_opened_cc55.png']), array([  1.        , 247.92928596,   9.08186058,   5.        ,\n",
       "         1.57626046])),\n",
       "       ( 22, '/media/alessandro/DATA/tesi/Nebbia/pre-processed_data/270619/video4_000/trigger_thr0.005_cl9_op3/cc_filtered_2den0.81_gausrad2.0/', list(['mean_270619-video4_000-025_opened_cc70.png']), array([  1.        , 256.02484432,   6.82798179,   5.        ,\n",
       "         1.30122889])),\n",
       "       ( 23, '/media/alessandro/DATA/tesi/Nebbia/pre-processed_data/270619/video4_000/trigger_thr0.005_cl9_op3/cc_filtered_2den0.81_gausrad2.0/', list(['mean_270619-video4_000-043_opened_cc26.png']), array([  1.        , 874.00512009,   4.54415214,  13.        ,\n",
       "         3.08512323])),\n",
       "       ( 24, '/media/alessandro/DATA/tesi/Nebbia/pre-processed_data/270619/video4_000/trigger_thr0.005_cl9_op3/cc_filtered_2den0.81_gausrad2.0/', list(['mean_270619-video4_000-043_opened_cc75.png']), array([  1.        , 321.07293732,   6.        ,   4.        ,\n",
       "         1.57779685])),\n",
       "       ( 25, '/media/alessandro/DATA/tesi/Nebbia/pre-processed_data/270619/video4_000/trigger_thr0.005_cl9_op3/cc_filtered_2den0.81_gausrad2.0/', list(['mean_270619-video4_000-043_opened_cc83.png']), array([  1.        , 221.65804394,   5.45072714,   4.        ,\n",
       "         1.64078645])),\n",
       "       ( 26, '/media/alessandro/DATA/tesi/Nebbia/pre-processed_data/270619/video4_000/trigger_thr0.005_cl9_op3/cc_filtered_2den0.81_gausrad2.0/', list(['mean_270619-video4_000-044_opened_cc10.png']), array([ 1.        , 70.43256531,  4.47676929,  2.        ,  1.57492004])),\n",
       "       ( 27, '/media/alessandro/DATA/tesi/Nebbia/pre-processed_data/270619/video4_000/trigger_thr0.005_cl9_op3/cc_filtered_2den0.81_gausrad2.0/', list(['mean_270619-video4_000-042_opened_cc33.png']), array([  1.        , 142.38380736,   2.01282473,   2.        ,\n",
       "         2.02662328])),\n",
       "       ( 28, '/media/alessandro/DATA/tesi/Nebbia/pre-processed_data/270619/video4_001/trigger_thr0.005_cl9_op3/cc_filtered_2den0.81_gausrad2.0/', list(['mean_270619-video4_001-013_opened_cc04.png']), array([1.00000000e+00, 1.15908333e+03, 8.55298900e+00, 1.40000000e+01,\n",
       "       1.79831052e+00])),\n",
       "       ( 29, '/media/alessandro/DATA/tesi/Nebbia/pre-processed_data/270619/video4_001/trigger_thr0.005_cl9_op3/cc_filtered_2den0.81_gausrad2.0/', list(['mean_270619-video4_001-013_opened_cc106.png', 'mean_270619-video4_001-014_opened_cc76.png']), array([  2.        , 248.39904333,  11.13346841,   4.        ,\n",
       "         1.21544089])),\n",
       "       ( 30, '/media/alessandro/DATA/tesi/Nebbia/pre-processed_data/270619/video4_001/trigger_thr0.005_cl9_op3/cc_filtered_2den0.81_gausrad2.0/', list(['mean_270619-video4_001-014_opened_cc17.png']), array([  1.        , 433.79319551,   5.03507897,   5.        ,\n",
       "         1.44052961])),\n",
       "       ( 31, '/media/alessandro/DATA/tesi/Nebbia/pre-processed_data/270619/video4_001/trigger_thr0.005_cl9_op3/cc_filtered_2den0.81_gausrad2.0/', list(['mean_270619-video4_001-014_opened_cc35.png']), array([  1.        , 158.66351047,   4.41724007,   3.        ,\n",
       "         1.80439301])),\n",
       "       ( 32, '/media/alessandro/DATA/tesi/Nebbia/pre-processed_data/270619/video4_001/trigger_thr0.005_cl9_op3/cc_filtered_2den0.81_gausrad2.0/', list(['mean_270619-video4_001-014_opened_cc60.png']), array([  1.        , 293.45516642,   6.82529426,   4.        ,\n",
       "         1.50933058])),\n",
       "       ( 33, '/media/alessandro/DATA/tesi/Nebbia/pre-processed_data/270619/video4_001/trigger_thr0.005_cl9_op3/cc_filtered_2den0.81_gausrad2.0/', list(['mean_270619-video4_001-024_opened_cc17.png']), array([  1.        , 179.44229276,  10.28112592,   3.        ,\n",
       "         1.42499814])),\n",
       "       ( 34, '/media/alessandro/DATA/tesi/Nebbia/pre-processed_data/270619/video4_001/trigger_thr0.005_cl9_op3/cc_filtered_2den0.81_gausrad2.0/', list(['mean_270619-video4_001-024_opened_cc49.png']), array([ 1.        , 66.15275655,  5.32122012,  2.        ,  1.69399851])),\n",
       "       ( 35, '/media/alessandro/DATA/tesi/Nebbia/pre-processed_data/270619/video4_001/trigger_thr0.005_cl9_op3/cc_filtered_2den0.81_gausrad2.0/', list(['mean_270619-video4_001-024_opened_cc50.png']), array([ 1.        , 82.89208898,  8.36675042,  2.        ,  1.16645341])),\n",
       "       ( 36, '/media/alessandro/DATA/tesi/Nebbia/pre-processed_data/270619/video4_001/trigger_thr0.005_cl9_op3/cc_filtered_2den0.81_gausrad2.0/', list(['mean_270619-video4_001-025_opened_cc35.png']), array([  1.        , 245.2882914 ,   3.05775646,   3.        ,\n",
       "         2.11880999])),\n",
       "       ( 37, '/media/alessandro/DATA/tesi/Nebbia/pre-processed_data/270619/video4_001/trigger_thr0.005_cl9_op3/cc_filtered_2den0.81_gausrad2.0/', list(['mean_270619-video4_001-024_opened_cc20.png']), array([  1.        , 128.54016084,   7.80880991,   3.        ,\n",
       "         1.32487471])),\n",
       "       ( 38, '/media/alessandro/DATA/tesi/Nebbia/pre-processed_data/270619/video4_001/trigger_thr0.005_cl9_op3/cc_filtered_2den0.81_gausrad2.0/', list(['mean_270619-video4_001-025_opened_cc68.png']), array([  1.        , 151.2484514 ,   9.56219953,   4.        ,\n",
       "         1.05572147])),\n",
       "       ( 39, '/media/alessandro/DATA/tesi/Nebbia/pre-processed_data/270619/video4_001/trigger_thr0.005_cl9_op3/cc_filtered_2den0.81_gausrad2.0/', list(['mean_270619-video4_001-045_opened_cc09.png']), array([1.00000000e+00, 1.04684497e+03, 8.29227651e+00, 8.00000000e+00,\n",
       "       2.50879702e+00])),\n",
       "       ( 40, '/media/alessandro/DATA/tesi/Nebbia/pre-processed_data/270619/video4_001/trigger_thr0.005_cl9_op3/cc_filtered_2den0.81_gausrad2.0/', list(['mean_270619-video4_001-045_opened_cc78.png']), array([  1.        , 127.43839155,   6.5344166 ,   2.        ,\n",
       "         1.44872488])),\n",
       "       ( 41, '/media/alessandro/DATA/tesi/Nebbia/pre-processed_data/270619/video4_001/trigger_thr0.005_cl9_op3/cc_filtered_2den0.81_gausrad2.0/', list(['mean_270619-video4_001-046_opened_cc03.png']), array([  1.        , 173.98628378,   5.74530558,   2.        ,\n",
       "         1.39363061])),\n",
       "       ( 42, '/media/alessandro/DATA/tesi/Nebbia/pre-processed_data/270619/video4_001/trigger_thr0.005_cl9_op3/cc_filtered_2den0.81_gausrad2.0/', list(['mean_270619-video4_001-046_opened_cc04.png']), array([ 1.        , 87.06944203, 10.29681089,  2.        ,  1.07435841])),\n",
       "       ( 43, '/media/alessandro/DATA/tesi/Nebbia/pre-processed_data/270619/video4_001/trigger_thr0.005_cl9_op3/cc_filtered_2den0.81_gausrad2.0/', list(['mean_270619-video4_001-046_opened_cc07.png']), array([  1.        , 100.28331239,   9.86851185,   2.        ,\n",
       "         1.29964355])),\n",
       "       ( 44, '/media/alessandro/DATA/tesi/Nebbia/pre-processed_data/270619/video4_001/trigger_thr0.005_cl9_op3/cc_filtered_2den0.81_gausrad2.0/', list(['mean_270619-video4_001-046_opened_cc18.png']), array([ 1.        , 89.20071543,  9.98114549,  2.        ,  1.00485924])),\n",
       "       ( 45, '/media/alessandro/DATA/tesi/Nebbia/pre-processed_data/270619/video4_002/trigger_thr0.005_cl9_op3/cc_filtered_2den0.81_gausrad2.0/', list(['mean_270619-video4_002-027_opened_cc78.png']), array([  1.        , 103.85947894,   8.63926867,   2.        ,\n",
       "         1.26912965])),\n",
       "       ( 46, '/media/alessandro/DATA/tesi/Nebbia/pre-processed_data/270619/video4_002/trigger_thr0.005_cl9_op3/cc_filtered_2den0.81_gausrad2.0/', list(['mean_270619-video4_002-028_opened_cc56.png']), array([  1.        , 115.2995957 ,   1.36852236,   2.        ,\n",
       "         2.71612899])),\n",
       "       ( 47, '/media/alessandro/DATA/tesi/Nebbia/pre-processed_data/270619/video4_002/trigger_thr0.005_cl9_op3/cc_filtered_2den0.81_gausrad2.0/', list(['mean_270619-video4_002-029_opened_cc03.png']), array([  1.        , 213.38037979,   5.68116699,   4.        ,\n",
       "         1.88588659])),\n",
       "       ( 48, '/media/alessandro/DATA/tesi/Nebbia/pre-processed_data/270619/video4_002/trigger_thr0.005_cl9_op3/cc_filtered_2den0.81_gausrad2.0/', list(['mean_270619-video4_002-029_opened_cc14.png']), array([  1.        , 116.371981  ,  11.24298085,   3.        ,\n",
       "         1.22044641])),\n",
       "       ( 49, '/media/alessandro/DATA/tesi/Nebbia/pre-processed_data/270619/video4_002/trigger_thr0.005_cl9_op3/cc_filtered_2den0.81_gausrad2.0/', list(['mean_270619-video4_002-033_opened_cc05.png']), array([  1.        , 157.36372047,   3.01149881,   3.        ,\n",
       "         1.62067088])),\n",
       "       ( 50, '/media/alessandro/DATA/tesi/Nebbia/pre-processed_data/270619/video4_002/trigger_thr0.005_cl9_op3/cc_filtered_2den0.81_gausrad2.0/', list(['mean_270619-video4_002-034_opened_cc07.png']), array([ 1.        , 76.69083721, 12.30916279,  1.        ,  1.        ])),\n",
       "       ( 51, '/media/alessandro/DATA/tesi/Nebbia/pre-processed_data/270619/video4_002/trigger_thr0.005_cl9_op3/cc_filtered_2den0.81_gausrad2.0/', list(['mean_270619-video4_002-048_opened_cc04.png']), array([  1.        , 998.1595165 ,   6.9757003 ,  12.        ,\n",
       "         2.88806441])),\n",
       "       ( 52, '/media/alessandro/DATA/tesi/Nebbia/pre-processed_data/270619/video4_002/trigger_thr0.005_cl9_op3/cc_filtered_2den0.81_gausrad2.0/', list(['mean_270619-video4_002-048_opened_cc12.png']), array([  1.        , 152.99861525,   6.04882701,   2.        ,\n",
       "         1.65445003])),\n",
       "       ( 53, '/media/alessandro/DATA/tesi/Nebbia/pre-processed_data/270619/video4_003/trigger_thr0.005_cl9_op3/cc_filtered_2den0.81_gausrad2.0/', list(['mean_270619-video4_003-011_opened_cc11.png']), array([ 1.        , 90.81560502,  8.25427413,  2.        ,  1.27354707])),\n",
       "       ( 54, '/media/alessandro/DATA/tesi/Nebbia/pre-processed_data/270619/video4_003/trigger_thr0.005_cl9_op3/cc_filtered_2den0.81_gausrad2.0/', list(['mean_270619-video4_003-012_opened_cc10.png']), array([ 1.        , 92.9633983 , 11.0366017 ,  1.        ,  1.02529695])),\n",
       "       ( 55, '/media/alessandro/DATA/tesi/Nebbia/pre-processed_data/270619/video4_003/trigger_thr0.005_cl9_op3/cc_filtered_2den0.81_gausrad2.0/', list(['mean_270619-video4_003-037_opened_cc06.png']), array([  1.        , 661.61564365,  10.12380671,   8.        ,\n",
       "         2.27877938])),\n",
       "       ( 56, '/media/alessandro/DATA/tesi/Nebbia/pre-processed_data/270619/video4_003/trigger_thr0.005_cl9_op3/cc_filtered_2den0.81_gausrad2.0/', list(['mean_270619-video4_003-037_opened_cc10.png']), array([  1.        , 110.26083813,   6.58729342,   2.        ,\n",
       "         1.14830123])),\n",
       "       ( 57, '/media/alessandro/DATA/tesi/Nebbia/pre-processed_data/270619/video4_003/trigger_thr0.005_cl9_op3/cc_filtered_2den0.81_gausrad2.0/', list(['mean_270619-video4_003-037_opened_cc19.png']), array([  1.        , 160.71916385,   6.3690278 ,   3.        ,\n",
       "         1.25892688])),\n",
       "       ( 58, '/media/alessandro/DATA/tesi/Nebbia/pre-processed_data/270619/video4_003/trigger_thr0.005_cl9_op3/cc_filtered_2den0.81_gausrad2.0/', list(['mean_270619-video4_003-038_opened_cc11.png']), array([  1.        , 306.34393371,  11.77973677,   4.        ,\n",
       "         1.14848383])),\n",
       "       ( 59, '/media/alessandro/DATA/tesi/Nebbia/pre-processed_data/270619/video4_004/trigger_thr0.005_cl9_op3/cc_filtered_2den0.81_gausrad2.0/', list(['mean_270619-video4_004-012_opened_cc01.png']), array([  1.        , 842.95599836,   6.10855345,   8.        ,\n",
       "         2.40815085])),\n",
       "       ( 60, '/media/alessandro/DATA/tesi/Nebbia/pre-processed_data/270619/video4_004/trigger_thr0.005_cl9_op3/cc_filtered_2den0.81_gausrad2.0/', list(['mean_270619-video4_004-012_opened_cc25.png']), array([  1.        , 258.16099339,   8.78558764,   6.        ,\n",
       "         1.62998486])),\n",
       "       ( 61, '/media/alessandro/DATA/tesi/Nebbia/pre-processed_data/270619/video4_004/trigger_thr0.005_cl9_op3/cc_filtered_2den0.81_gausrad2.0/', list(['mean_270619-video4_004-012_opened_cc27.png']), array([  1.        , 364.3135749 ,   5.42031655,   7.        ,\n",
       "         1.88281407])),\n",
       "       ( 62, '/media/alessandro/DATA/tesi/Nebbia/pre-processed_data/270619/video4_004/trigger_thr0.005_cl9_op3/cc_filtered_2den0.81_gausrad2.0/', list(['mean_270619-video4_004-012_opened_cc37.png', 'mean_270619-video4_004-013_opened_cc09.png']), array([ 2.        , 87.75414461, 31.74585539,  1.        ,  1.        ])),\n",
       "       ( 63, '/media/alessandro/DATA/tesi/Nebbia/pre-processed_data/270619/video4_004/trigger_thr0.005_cl9_op3/cc_filtered_2den0.81_gausrad2.0/', list(['mean_270619-video4_004-013_opened_cc13.png']), array([ 1.        , 76.46640106,  9.53359894,  1.        ,  1.        ])),\n",
       "       ( 64, '/media/alessandro/DATA/tesi/Nebbia/pre-processed_data/270619/video4_004/trigger_thr0.005_cl9_op3/cc_filtered_2den0.81_gausrad2.0/', list(['mean_270619-video4_004-014_opened_cc04.png']), array([  1.        , 135.37733897,   7.40839162,   2.        ,\n",
       "         1.29614474])),\n",
       "       ( 65, '/media/alessandro/DATA/tesi/Nebbia/pre-processed_data/270619/video4_004/trigger_thr0.005_cl9_op3/cc_filtered_2den0.81_gausrad2.0/', list(['mean_270619-video4_004-014_opened_cc13.png', 'mean_270619-video4_004-015_opened_cc51.png']), array([ 2.        , 88.26830731, 29.98169269,  1.        ,  1.        ])),\n",
       "       ( 66, '/media/alessandro/DATA/tesi/Nebbia/pre-processed_data/270619/video4_004/trigger_thr0.005_cl9_op3/cc_filtered_2den0.81_gausrad2.0/', list(['mean_270619-video4_004-015_opened_cc06.png']), array([  1.        , 225.29702275,   9.46876109,   2.        ,\n",
       "         1.06622678])),\n",
       "       ( 67, '/media/alessandro/DATA/tesi/Nebbia/pre-processed_data/270619/video4_004/trigger_thr0.005_cl9_op3/cc_filtered_2den0.81_gausrad2.0/', list(['mean_270619-video4_004-015_opened_cc36.png']), array([  1.        , 113.13273593,   7.11659522,   2.        ,\n",
       "         1.25633263])),\n",
       "       ( 68, '/media/alessandro/DATA/tesi/Nebbia/pre-processed_data/270619/video4_004/trigger_thr0.005_cl9_op3/cc_filtered_2den0.81_gausrad2.0/', list(['mean_270619-video4_004-015_opened_cc37.png']), array([ 1.        , 73.29994975, 11.92012759,  2.        ,  1.07147181])),\n",
       "       ( 69, '/media/alessandro/DATA/tesi/Nebbia/pre-processed_data/270619/video4_004/trigger_thr0.005_cl9_op3/cc_filtered_2den0.81_gausrad2.0/', list(['mean_270619-video4_004-015_opened_cc56.png']), array([  1.        , 286.78257834,  11.74299188,   4.        ,\n",
       "         1.4359246 ])),\n",
       "       ( 70, '/media/alessandro/DATA/tesi/Nebbia/pre-processed_data/270619/video4_004/trigger_thr0.005_cl9_op3/cc_filtered_2den0.81_gausrad2.0/', list(['mean_270619-video4_004-033_opened_cc02.png']), array([  1.        , 163.58419829,  12.12930192,   2.        ,\n",
       "         1.16747615])),\n",
       "       ( 71, '/media/alessandro/DATA/tesi/Nebbia/pre-processed_data/270619/video4_004/trigger_thr0.005_cl9_op3/cc_filtered_2den0.81_gausrad2.0/', list(['mean_270619-video4_004-033_opened_cc06.png']), array([  1.        , 113.18021674,  10.18635037,   2.        ,\n",
       "         1.12540553])),\n",
       "       ( 72, '/media/alessandro/DATA/tesi/Nebbia/pre-processed_data/270619/video4_004/trigger_thr0.005_cl9_op3/cc_filtered_2den0.81_gausrad2.0/', list(['mean_270619-video4_004-033_opened_cc16.png']), array([  1.        , 172.98107702,   6.10195921,   3.        ,\n",
       "         1.13136883])),\n",
       "       ( 73, '/media/alessandro/DATA/tesi/Nebbia/pre-processed_data/270619/video4_004/trigger_thr0.005_cl9_op3/cc_filtered_2den0.81_gausrad2.0/', list(['mean_270619-video4_004-045_opened_cc06.png']), array([ 1.        , 88.3572237 ,  6.06795314,  2.        ,  1.45950327])),\n",
       "       ( 74, '/media/alessandro/DATA/tesi/Nebbia/pre-processed_data/270619/video4_004/trigger_thr0.005_cl9_op3/cc_filtered_2den0.81_gausrad2.0/', list(['mean_270619-video4_004-046_opened_cc06.png']), array([  1.        , 250.98694457,   3.33755342,   3.        ,\n",
       "         1.35399866])),\n",
       "       ( 75, '/media/alessandro/DATA/tesi/Nebbia/pre-processed_data/270619/video4_004/trigger_thr0.005_cl9_op3/cc_filtered_2den0.81_gausrad2.0/', list(['mean_270619-video4_004-046_opened_cc21.png']), array([  1.        , 170.94278134,   2.55516604,   2.        ,\n",
       "         2.48895949])),\n",
       "       ( 76, '/media/alessandro/DATA/tesi/Nebbia/pre-processed_data/270619/video4_004/trigger_thr0.005_cl9_op3/cc_filtered_2den0.81_gausrad2.0/', list(['mean_270619-video4_004-047_opened_cc25.png']), array([  1.        , 790.00590537,   4.87040399,  14.        ,\n",
       "         2.21910896])),\n",
       "       ( 77, '/media/alessandro/DATA/tesi/Nebbia/pre-processed_data/270619/video4_004/trigger_thr0.005_cl9_op3/cc_filtered_2den0.81_gausrad2.0/', list(['mean_270619-video4_004-048_opened_cc05.png']), array([  1.        , 320.96054825,   4.75231496,   5.        ,\n",
       "         1.47868839])),\n",
       "       ( 78, '/media/alessandro/DATA/tesi/Nebbia/pre-processed_data/270619/video4_005/trigger_thr0.005_cl9_op3/cc_filtered_2den0.81_gausrad2.0/', list(['mean_270619-video4_005-001_opened_cc11.png']), array([ 1.        , 77.50340132,  9.3244771 ,  2.        ,  1.21679736])),\n",
       "       ( 79, '/media/alessandro/DATA/tesi/Nebbia/pre-processed_data/270619/video4_005/trigger_thr0.005_cl9_op3/cc_filtered_2den0.81_gausrad2.0/', list(['mean_270619-video4_005-001_opened_cc25.png']), array([  1.        , 201.81720097,  27.16230764,   2.        ,\n",
       "         1.61412444])),\n",
       "       ( 80, '/media/alessandro/DATA/tesi/Nebbia/pre-processed_data/270619/video4_005/trigger_thr0.005_cl9_op3/cc_filtered_2den0.81_gausrad2.0/', list(['mean_270619-video4_005-001_opened_cc62.png']), array([  1.        , 130.03979794,   5.79202463,   3.        ,\n",
       "         1.65350851])),\n",
       "       ( 81, '/media/alessandro/DATA/tesi/Nebbia/pre-processed_data/270619/video4_005/trigger_thr0.005_cl9_op3/cc_filtered_2den0.81_gausrad2.0/', list(['mean_270619-video4_005-001_opened_cc85.png']), array([  1.        , 122.90634233,   8.4141998 ,   3.        ,\n",
       "         1.1564103 ])),\n",
       "       ( 82, '/media/alessandro/DATA/tesi/Nebbia/pre-processed_data/270619/video4_005/trigger_thr0.005_cl9_op3/cc_filtered_2den0.81_gausrad2.0/', list(['mean_270619-video4_005-007_opened_cc04.png']), array([  1.        , 227.41719643,   5.98803424,   6.        ,\n",
       "         1.38235404])),\n",
       "       ( 83, '/media/alessandro/DATA/tesi/Nebbia/pre-processed_data/270619/video4_005/trigger_thr0.005_cl9_op3/cc_filtered_2den0.81_gausrad2.0/', list(['mean_270619-video4_005-008_opened_cc31.png']), array([ 1.        , 81.05966492, 10.75277812,  2.        ,  1.        ])),\n",
       "       ( 84, '/media/alessandro/DATA/tesi/Nebbia/pre-processed_data/270619/video4_005/trigger_thr0.005_cl9_op3/cc_filtered_2den0.81_gausrad2.0/', list(['mean_270619-video4_005-009_opened_cc13.png']), array([  1.        , 146.16751681,   2.72047453,   3.        ,\n",
       "         1.60006527])),\n",
       "       ( 85, '/media/alessandro/DATA/tesi/Nebbia/pre-processed_data/270619/video4_005/trigger_thr0.005_cl9_op3/cc_filtered_2den0.81_gausrad2.0/', list(['mean_270619-video4_005-009_opened_cc26.png']), array([  1.        , 193.12857421,   6.39082532,   4.        ,\n",
       "         1.70649836])),\n",
       "       ( 86, '/media/alessandro/DATA/tesi/Nebbia/pre-processed_data/270619/video4_005/trigger_thr0.005_cl9_op3/cc_filtered_2den0.81_gausrad2.0/', list(['mean_270619-video4_005-009_opened_cc35.png']), array([ 1.        , 97.33243136,  2.366206  ,  2.        ,  2.47065277])),\n",
       "       ( 87, '/media/alessandro/DATA/tesi/Nebbia/pre-processed_data/270619/video4_005/trigger_thr0.005_cl9_op3/cc_filtered_2den0.81_gausrad2.0/', list(['mean_270619-video4_005-011_opened_cc04.png']), array([  1.        , 223.01400877,   5.95532258,   4.        ,\n",
       "         1.38635733])),\n",
       "       ( 88, '/media/alessandro/DATA/tesi/Nebbia/pre-processed_data/270619/video4_005/trigger_thr0.005_cl9_op3/cc_filtered_2den0.81_gausrad2.0/', list(['mean_270619-video4_005-011_opened_cc06.png']), array([  1.        , 188.63516131,   7.57813488,   4.        ,\n",
       "         1.33448605])),\n",
       "       ( 89, '/media/alessandro/DATA/tesi/Nebbia/pre-processed_data/270619/video4_005/trigger_thr0.005_cl9_op3/cc_filtered_2den0.81_gausrad2.0/', list(['mean_270619-video4_005-007_opened_cc17.png']), array([ 1.       , 59.9465906, 22.5534094,  1.       ,  1.       ])),\n",
       "       ( 90, '/media/alessandro/DATA/tesi/Nebbia/pre-processed_data/270619/video4_005/trigger_thr0.005_cl9_op3/cc_filtered_2den0.81_gausrad2.0/', list(['mean_270619-video4_005-034_opened_cc09.png']), array([  1.        , 328.59505564,   4.08135125,   5.        ,\n",
       "         1.34622628])),\n",
       "       ( 91, '/media/alessandro/DATA/tesi/Nebbia/pre-processed_data/270619/video4_005/trigger_thr0.005_cl9_op3/cc_filtered_2den0.81_gausrad2.0/', list(['mean_270619-video4_005-012_opened_cc06.png']), array([  1.        , 167.19900397,   4.56809029,   2.        ,\n",
       "         1.36933412])),\n",
       "       ( 92, '/media/alessandro/DATA/tesi/Nebbia/pre-processed_data/270619/video4_005/trigger_thr0.005_cl9_op3/cc_filtered_2den0.81_gausrad2.0/', list(['mean_270619-video4_005-012_opened_cc26.png']), array([ 1.        , 82.99319665,  9.50680335,  1.        ,  1.20482615])),\n",
       "       ( 93, '/media/alessandro/DATA/tesi/Nebbia/pre-processed_data/270619/video4_005/trigger_thr0.005_cl9_op3/cc_filtered_2den0.81_gausrad2.0/', list(['mean_270619-video4_005-012_opened_cc27.png']), array([  1.        , 120.7469317 ,  13.88101959,   2.        ,\n",
       "         1.01813704])),\n",
       "       ( 94, '/media/alessandro/DATA/tesi/Nebbia/pre-processed_data/270619/video4_005/trigger_thr0.005_cl9_op3/cc_filtered_2den0.81_gausrad2.0/', list(['mean_270619-video4_005-012_opened_cc29.png']), array([  1.        , 167.73386769,   6.06958809,   4.        ,\n",
       "         1.36617554])),\n",
       "       ( 95, '/media/alessandro/DATA/tesi/Nebbia/pre-processed_data/270619/video4_005/trigger_thr0.005_cl9_op3/cc_filtered_2den0.81_gausrad2.0/', list(['mean_270619-video4_005-012_opened_cc34.png']), array([  1.        , 152.95060461,  12.41716344,   2.        ,\n",
       "         1.05420519])),\n",
       "       ( 96, '/media/alessandro/DATA/tesi/Nebbia/pre-processed_data/270619/video4_005/trigger_thr0.005_cl9_op3/cc_filtered_2den0.81_gausrad2.0/', list(['mean_270619-video4_005-012_opened_cc44.png']), array([ 1.        , 99.38394593,  7.80293666,  2.        ,  1.17575036])),\n",
       "       ( 97, '/media/alessandro/DATA/tesi/Nebbia/pre-processed_data/270619/video4_005/trigger_thr0.005_cl9_op3/cc_filtered_2den0.81_gausrad2.0/', list(['mean_270619-video4_005-031_opened_cc04.png']), array([  1.        , 647.09996779,   8.89312006,   8.        ,\n",
       "         1.11719671])),\n",
       "       ( 98, '/media/alessandro/DATA/tesi/Nebbia/pre-processed_data/270619/video4_005/trigger_thr0.005_cl9_op3/cc_filtered_2den0.81_gausrad2.0/', list(['mean_270619-video4_005-031_opened_cc08.png']), array([ 1.        , 78.73588   , 12.3137501 ,  2.        ,  1.02245767])),\n",
       "       ( 99, '/media/alessandro/DATA/tesi/Nebbia/pre-processed_data/270619/video4_005/trigger_thr0.005_cl9_op3/cc_filtered_2den0.81_gausrad2.0/', list(['mean_270619-video4_005-033_opened_cc13.png']), array([ 1.        , 95.94431806,  7.05181672,  2.        ,  1.11083575])),\n",
       "       (100, '/media/alessandro/DATA/tesi/Nebbia/pre-processed_data/270619/video4_005/trigger_thr0.005_cl9_op3/cc_filtered_2den0.81_gausrad2.0/', list(['mean_270619-video4_005-033_opened_cc39.png']), array([  1.        , 239.08451723,   9.91695477,   2.        ,\n",
       "         1.79276976])),\n",
       "       (101, '/media/alessandro/DATA/tesi/Nebbia/pre-processed_data/270619/video4_005/trigger_thr0.005_cl9_op3/cc_filtered_2den0.81_gausrad2.0/', list(['mean_270619-video4_005-034_opened_cc08.png']), array([1.00000000e+00, 1.52366855e+03, 6.65845406e+00, 2.10000000e+01,\n",
       "       3.35971054e+00])),\n",
       "       (102, '/media/alessandro/DATA/tesi/Nebbia/pre-processed_data/270619/video4_005/trigger_thr0.005_cl9_op3/cc_filtered_2den0.81_gausrad2.0/', list(['mean_270619-video4_005-034_opened_cc76.png']), array([  1.        , 146.11686764,   8.24894964,   3.        ,\n",
       "         1.87083478])),\n",
       "       (103, '/media/alessandro/DATA/tesi/Nebbia/pre-processed_data/270619/video4_005/trigger_thr0.005_cl9_op3/cc_filtered_2den0.81_gausrad2.0/', list(['mean_270619-video4_005-034_opened_cc80.png']), array([ 1.        , 90.18944134,  8.86744756,  2.        ,  1.50273999])),\n",
       "       (104, '/media/alessandro/DATA/tesi/Nebbia/pre-processed_data/270619/video4_006/trigger_thr0.005_cl9_op3/cc_filtered_2den0.81_gausrad2.0/', list(['mean_270619-video4_006-018_opened_cc03.png']), array([ 1.        , 83.04408906, 14.95591094,  1.        ,  1.        ])),\n",
       "       (105, '/media/alessandro/DATA/tesi/Nebbia/pre-processed_data/270619/video4_006/trigger_thr0.005_cl9_op3/cc_filtered_2den0.81_gausrad2.0/', list(['mean_270619-video4_006-018_opened_cc09.png']), array([ 1.        , 94.26247937,  5.42984132,  2.        ,  1.28824859])),\n",
       "       (106, '/media/alessandro/DATA/tesi/Nebbia/pre-processed_data/270619/video4_006/trigger_thr0.005_cl9_op3/cc_filtered_2den0.81_gausrad2.0/', list(['mean_270619-video4_006-018_opened_cc16.png']), array([  1.        , 188.03253896,   6.88828643,   2.        ,\n",
       "         1.56411627])),\n",
       "       (107, '/media/alessandro/DATA/tesi/Nebbia/pre-processed_data/270619/video4_006/trigger_thr0.005_cl9_op3/cc_filtered_2den0.81_gausrad2.0/', list(['mean_270619-video4_006-026_opened_cc27.png']), array([ 1.        , 36.08673845,  1.41326155,  1.        ,  5.37949335])),\n",
       "       (108, '/media/alessandro/DATA/tesi/Nebbia/pre-processed_data/270619/video4_006/trigger_thr0.005_cl9_op3/cc_filtered_2den0.81_gausrad2.0/', list(['mean_270619-video4_006-026_opened_cc90.png']), array([  1.        , 108.2890223 ,   1.45262029,   2.        ,\n",
       "         2.54533615])),\n",
       "       (109, '/media/alessandro/DATA/tesi/Nebbia/pre-processed_data/270619/video4_006/trigger_thr0.005_cl9_op3/cc_filtered_2den0.81_gausrad2.0/', list(['mean_270619-video4_006-035_opened_cc17.png']), array([  1.        , 145.76218304,   7.23781696,   1.        ,\n",
       "         1.35144694])),\n",
       "       (110, '/media/alessandro/DATA/tesi/Nebbia/pre-processed_data/270619/video4_006/trigger_thr0.005_cl9_op3/cc_filtered_2den0.81_gausrad2.0/', list(['mean_270619-video4_006-035_opened_cc55.png']), array([  1.        , 237.24887652,   7.57559438,   2.        ,\n",
       "         1.59052008])),\n",
       "       (111, '/media/alessandro/DATA/tesi/Nebbia/pre-processed_data/270619/video4_007/trigger_thr0.005_cl9_op3/cc_filtered_2den0.81_gausrad2.0/', list(['mean_270619-video4_007-001_opened_cc18.png']), array([ 1.        , 94.61455151,  9.38544849,  1.        ,  1.0369691 ])),\n",
       "       (112, '/media/alessandro/DATA/tesi/Nebbia/pre-processed_data/270619/video4_007/trigger_thr0.005_cl9_op3/cc_filtered_2den0.81_gausrad2.0/', list(['mean_270619-video4_007-009_opened_cc03.png']), array([  1.        , 258.75103392,   9.7405142 ,   2.        ,\n",
       "         1.24653342])),\n",
       "       (113, '/media/alessandro/DATA/tesi/Nebbia/pre-processed_data/270619/video4_007/trigger_thr0.005_cl9_op3/cc_filtered_2den0.81_gausrad2.0/', list(['mean_270619-video4_007-009_opened_cc21.png']), array([  1.        , 252.67035253,   4.46823143,   4.        ,\n",
       "         2.20422845])),\n",
       "       (114, '/media/alessandro/DATA/tesi/Nebbia/pre-processed_data/270619/video4_007/trigger_thr0.005_cl9_op3/cc_filtered_2den0.81_gausrad2.0/', list(['mean_270619-video4_007-009_opened_cc22.png']), array([  1.        , 100.42103306,   5.39023626,   2.        ,\n",
       "         1.54475617])),\n",
       "       (115, '/media/alessandro/DATA/tesi/Nebbia/pre-processed_data/270619/video4_007/trigger_thr0.005_cl9_op3/cc_filtered_2den0.81_gausrad2.0/', list(['mean_270619-video4_007-036_opened_cc03.png']), array([ 1.        , 86.10397046,  3.76683783,  2.        ,  1.95237562])),\n",
       "       (116, '/media/alessandro/DATA/tesi/Nebbia/pre-processed_data/270619/video4_007/trigger_thr0.005_cl9_op3/cc_filtered_2den0.81_gausrad2.0/', list(['mean_270619-video4_007-036_opened_cc19.png']), array([  1.        , 643.18536961,   7.72476665,   7.        ,\n",
       "         2.31337698])),\n",
       "       (117, '/media/alessandro/DATA/tesi/Nebbia/pre-processed_data/270619/video4_007/trigger_thr0.005_cl9_op3/cc_filtered_2den0.81_gausrad2.0/', list(['mean_270619-video4_007-036_opened_cc34.png']), array([  1.        , 692.00534404,  11.67024337,   6.        ,\n",
       "         2.13243943])),\n",
       "       (118, '/media/alessandro/DATA/tesi/Nebbia/pre-processed_data/270619/video4_007/trigger_thr0.005_cl9_op3/cc_filtered_2den0.81_gausrad2.0/', list(['mean_270619-video4_007-037_opened_cc26.png']), array([  1.        , 557.72671019,  11.03674223,   5.        ,\n",
       "         1.78960904])),\n",
       "       (119, '/media/alessandro/DATA/tesi/Nebbia/pre-processed_data/270619/video4_007/trigger_thr0.005_cl9_op3/cc_filtered_2den0.81_gausrad2.0/', list(['mean_270619-video4_007-037_opened_cc38.png']), array([  1.        , 107.14323848,   2.20115611,   2.        ,\n",
       "         2.15453082])),\n",
       "       (120, '/media/alessandro/DATA/tesi/Nebbia/pre-processed_data/270619/video4_007/trigger_thr0.005_cl9_op3/cc_filtered_2den0.81_gausrad2.0/', list(['mean_270619-video4_007-037_opened_cc40.png']), array([  1.        , 153.10181283,   4.20983143,   2.        ,\n",
       "         1.57161884])),\n",
       "       (121, '/media/alessandro/DATA/tesi/Nebbia/pre-processed_data/270619/video4_007/trigger_thr0.005_cl9_op3/cc_filtered_2den0.81_gausrad2.0/', list(['mean_270619-video4_007-041_opened_cc16.png']), array([  1.        , 299.08168931,   7.66547622,   4.        ,\n",
       "         1.79061942])),\n",
       "       (122, '/media/alessandro/DATA/tesi/Nebbia/pre-processed_data/270619/video4_007/trigger_thr0.005_cl9_op3/cc_filtered_2den0.81_gausrad2.0/', list(['mean_270619-video4_007-041_opened_cc49.png']), array([  1.        , 117.29142347,  14.98149417,   2.        ,\n",
       "         1.        ])),\n",
       "       (123, '/media/alessandro/DATA/tesi/Nebbia/pre-processed_data/270619/video4_007/trigger_thr0.005_cl9_op3/cc_filtered_2den0.81_gausrad2.0/', list(['mean_270619-video4_007-041_opened_cc80.png']), array([  1.        , 144.43784618,   8.42148684,   2.        ,\n",
       "         1.14528657])),\n",
       "       (124, '/media/alessandro/DATA/tesi/Nebbia/pre-processed_data/270619/video4_007/trigger_thr0.005_cl9_op3/cc_filtered_2den0.81_gausrad2.0/', list(['mean_270619-video4_007-041_opened_cc93.png']), array([  1.        , 170.86411744,  10.25204088,   2.        ,\n",
       "         1.09733637])),\n",
       "       (125, '/media/alessandro/DATA/tesi/Nebbia/pre-processed_data/270619/video4_007/trigger_thr0.005_cl9_op3/cc_filtered_2den0.81_gausrad2.0/', list(['mean_270619-video4_007-037_opened_cc07.png']), array([  1.        , 196.59543856,   3.39058858,   3.        ,\n",
       "         1.78715741])),\n",
       "       (126, '/media/alessandro/DATA/tesi/Nebbia/pre-processed_data/270619/video4_008/trigger_thr0.005_cl9_op3/cc_filtered_2den0.81_gausrad2.0/', list(['mean_270619-video4_008-011_opened_cc06.png']), array([  1.        , 916.08532772,   9.29047642,   7.        ,\n",
       "         2.45598401])),\n",
       "       (127, '/media/alessandro/DATA/tesi/Nebbia/pre-processed_data/270619/video4_008/trigger_thr0.005_cl9_op3/cc_filtered_2den0.81_gausrad2.0/', list(['mean_270619-video4_008-011_opened_cc23.png']), array([ 1.       , 99.6457164,  6.8542836,  1.       ,  1.4308291])),\n",
       "       (128, '/media/alessandro/DATA/tesi/Nebbia/pre-processed_data/270619/video4_008/trigger_thr0.005_cl9_op3/cc_filtered_2den0.81_gausrad2.0/', list(['mean_270619-video4_008-013_opened_cc06.png']), array([ 1.        , 92.78355856,  5.21644144,  1.        ,  1.64793999])),\n",
       "       (129, '/media/alessandro/DATA/tesi/Nebbia/pre-processed_data/270619/video4_008/trigger_thr0.005_cl9_op3/cc_filtered_2den0.81_gausrad2.0/', list(['mean_270619-video4_008-015_opened_cc03.png']), array([ 1.        , 93.33686266,  4.13063629,  2.        ,  1.89187706])),\n",
       "       (130, '/media/alessandro/DATA/tesi/Nebbia/pre-processed_data/270619/video4_008/trigger_thr0.005_cl9_op3/cc_filtered_2den0.81_gausrad2.0/', list(['mean_270619-video4_008-015_opened_cc17.png', 'mean_270619-video4_008-016_opened_cc12.png']), array([ 2.       , 71.9118891, 18.8381109,  1.       ,  1.       ])),\n",
       "       (131, '/media/alessandro/DATA/tesi/Nebbia/pre-processed_data/270619/video4_008/trigger_thr0.005_cl9_op3/cc_filtered_2den0.81_gausrad2.0/', list(['mean_270619-video4_008-016_opened_cc05.png']), array([  1.        , 156.75447833,   7.84369937,   3.        ,\n",
       "         1.09615836])),\n",
       "       (132, '/media/alessandro/DATA/tesi/Nebbia/pre-processed_data/270619/video4_008/trigger_thr0.005_cl9_op3/cc_filtered_2den0.81_gausrad2.0/', list(['mean_270619-video4_008-016_opened_cc06.png']), array([  1.        , 145.63834695,   6.8298333 ,   2.        ,\n",
       "         1.23724812])),\n",
       "       (133, '/media/alessandro/DATA/tesi/Nebbia/pre-processed_data/270619/video4_008/trigger_thr0.005_cl9_op3/cc_filtered_2den0.81_gausrad2.0/', list(['mean_270619-video4_008-017_opened_cc16.png']), array([  1.        , 156.0393088 ,   7.85905281,   3.        ,\n",
       "         1.10444189])),\n",
       "       (134, '/media/alessandro/DATA/tesi/Nebbia/pre-processed_data/270619/video4_008/trigger_thr0.005_cl9_op3/cc_filtered_2den0.81_gausrad2.0/', list(['mean_270619-video4_008-017_opened_cc37.png']), array([  1.        , 262.84924856,   7.56299256,   3.        ,\n",
       "         1.26730641])),\n",
       "       (135, '/media/alessandro/DATA/tesi/Nebbia/pre-processed_data/270619/video4_008/trigger_thr0.005_cl9_op3/cc_filtered_2den0.81_gausrad2.0/', list(['mean_270619-video4_008-017_opened_cc02.png']), array([  1.        , 207.10351479,   3.55361249,   2.        ,\n",
       "         1.57403305])),\n",
       "       (136, '/media/alessandro/DATA/tesi/Nebbia/pre-processed_data/270619/video4_008/trigger_thr0.005_cl9_op3/cc_filtered_2den0.81_gausrad2.0/', list(['mean_270619-video4_008-020_opened_cc45.png']), array([  1.        , 157.33988145,   9.14557998,   2.        ,\n",
       "         1.29993012])),\n",
       "       (137, '/media/alessandro/DATA/tesi/Nebbia/pre-processed_data/270619/video4_008/trigger_thr0.005_cl9_op3/cc_filtered_2den0.81_gausrad2.0/', list(['mean_270619-video4_008-020_opened_cc79.png']), array([  1.        , 162.93477481,   4.99065747,   4.        ,\n",
       "         1.95739513])),\n",
       "       (138, '/media/alessandro/DATA/tesi/Nebbia/pre-processed_data/270619/video4_008/trigger_thr0.005_cl9_op3/cc_filtered_2den0.81_gausrad2.0/', list(['mean_270619-video4_008-020_opened_cc86.png', 'mean_270619-video4_008-021_opened_cc105.png']), array([ 2.        , 84.03408106, 14.1725562 ,  1.5       ,  1.        ])),\n",
       "       (139, '/media/alessandro/DATA/tesi/Nebbia/pre-processed_data/270619/video4_008/trigger_thr0.005_cl9_op3/cc_filtered_2den0.81_gausrad2.0/', list(['mean_270619-video4_008-021_opened_cc06.png']), array([ 1.        , 96.04022798,  0.89845059,  2.        ,  4.36096211])),\n",
       "       (140, '/media/alessandro/DATA/tesi/Nebbia/pre-processed_data/270619/video4_008/trigger_thr0.005_cl9_op3/cc_filtered_2den0.81_gausrad2.0/', list(['mean_270619-video4_008-021_opened_cc33.png']), array([  1.        , 137.26371015,  12.1731416 ,   3.        ,\n",
       "         1.02647337])),\n",
       "       (141, '/media/alessandro/DATA/tesi/Nebbia/pre-processed_data/270619/video4_008/trigger_thr0.005_cl9_op3/cc_filtered_2den0.81_gausrad2.0/', list(['mean_270619-video4_008-021_opened_cc61.png']), array([  1.        , 499.14293988,  10.28625816,   4.        ,\n",
       "         1.76445009])),\n",
       "       (142, '/media/alessandro/DATA/tesi/Nebbia/pre-processed_data/270619/video4_008/trigger_thr0.005_cl9_op3/cc_filtered_2den0.81_gausrad2.0/', list(['mean_270619-video4_008-025_opened_cc05.png']), array([  1.        , 307.11459236,   2.94569619,   5.        ,\n",
       "         1.6678945 ])),\n",
       "       (143, '/media/alessandro/DATA/tesi/Nebbia/pre-processed_data/270619/video4_010/trigger_thr0.005_cl9_op3/cc_filtered_2den0.81_gausrad2.0/', list(['mean_270619-video4_010-013_opened_cc12.png', 'mean_270619-video4_010-014_opened_cc04.png']), array([  2.        , 111.56442981,  12.18557019,   1.        ,\n",
       "         1.00816203])),\n",
       "       (144, '/media/alessandro/DATA/tesi/Nebbia/pre-processed_data/270619/video4_010/trigger_thr0.005_cl9_op3/cc_filtered_2den0.81_gausrad2.0/', list(['mean_270619-video4_010-013_opened_cc17.png']), array([  1.        , 414.37318075,   5.3239189 ,   8.        ,\n",
       "         1.93219294])),\n",
       "       (145, '/media/alessandro/DATA/tesi/Nebbia/pre-processed_data/270619/video4_010/trigger_thr0.005_cl9_op3/cc_filtered_2den0.81_gausrad2.0/', list(['mean_270619-video4_010-013_opened_cc34.png']), array([  1.        , 268.33658177,   7.33136683,   3.        ,\n",
       "         1.65851707])),\n",
       "       (146, '/media/alessandro/DATA/tesi/Nebbia/pre-processed_data/270619/video4_010/trigger_thr0.005_cl9_op3/cc_filtered_2den0.81_gausrad2.0/', list(['mean_270619-video4_010-027_opened_cc06.png']), array([  1.        , 925.66805922,  14.19922395,   6.        ,\n",
       "         2.0201609 ])),\n",
       "       (147, '/media/alessandro/DATA/tesi/Nebbia/pre-processed_data/270619/video4_010/trigger_thr0.005_cl9_op3/cc_filtered_2den0.81_gausrad2.0/', list(['mean_270619-video4_010-027_opened_cc22.png', 'mean_270619-video4_010-028_opened_cc05.png']), array([  2.        , 135.37356756,  10.78015586,   1.5       ,\n",
       "         1.06439834])),\n",
       "       (148, '/media/alessandro/DATA/tesi/Nebbia/pre-processed_data/270619/video4_010/trigger_thr0.005_cl9_op3/cc_filtered_2den0.81_gausrad2.0/', list(['mean_270619-video4_010-028_opened_cc18.png', 'mean_270619-video4_010-029_opened_cc19.png']), array([ 2.        , 83.43885353, 30.06114647,  1.        ,  1.        ])),\n",
       "       (149, '/media/alessandro/DATA/tesi/Nebbia/pre-processed_data/270619/video4_010/trigger_thr0.005_cl9_op3/cc_filtered_2den0.81_gausrad2.0/', list(['mean_270619-video4_010-029_opened_cc12.png']), array([  1.        , 226.47065229,   9.08065918,   4.        ,\n",
       "         1.01519607])),\n",
       "       (150, '/media/alessandro/DATA/tesi/Nebbia/pre-processed_data/270619/video4_010/trigger_thr0.005_cl9_op3/cc_filtered_2den0.81_gausrad2.0/', list(['mean_270619-video4_010-030_opened_cc07.png']), array([  1.        , 183.53954258,   4.51342524,   2.        ,\n",
       "         1.33315058])),\n",
       "       (151, '/media/alessandro/DATA/tesi/Nebbia/pre-processed_data/270619/video4_010/trigger_thr0.005_cl9_op3/cc_filtered_2den0.81_gausrad2.0/', list(['mean_270619-video4_010-030_opened_cc16.png']), array([  1.        , 128.73277807,   4.64604523,   2.        ,\n",
       "         1.32265133])),\n",
       "       (152, '/media/alessandro/DATA/tesi/Nebbia/pre-processed_data/270619/video4_010/trigger_thr0.005_cl9_op3/cc_filtered_2den0.81_gausrad2.0/', list(['mean_270619-video4_010-030_opened_cc17.png']), array([ 1.        , 89.59556626,  8.40443374,  1.        ,  1.00039672])),\n",
       "       (153, '/media/alessandro/DATA/tesi/Nebbia/pre-processed_data/270619/video4_010/trigger_thr0.005_cl9_op3/cc_filtered_2den0.81_gausrad2.0/', list(['mean_270619-video4_010-030_opened_cc28.png']), array([  1.        , 325.5922234 ,   5.35884889,   2.        ,\n",
       "         2.14567911])),\n",
       "       (154, '/media/alessandro/DATA/tesi/Nebbia/pre-processed_data/270619/video4_010/trigger_thr0.005_cl9_op3/cc_filtered_2den0.81_gausrad2.0/', list(['mean_270619-video4_010-030_opened_cc36.png']), array([ 1.        , 80.79944521,  8.70055479,  1.        ,  1.        ])),\n",
       "       (155, '/media/alessandro/DATA/tesi/Nebbia/pre-processed_data/270619/video4_010/trigger_thr0.005_cl9_op3/cc_filtered_2den0.81_gausrad2.0/', list(['mean_270619-video4_010-031_opened_cc18.png']), array([ 1.        , 86.94658104,  6.681762  ,  2.        ,  1.13804035])),\n",
       "       (156, '/media/alessandro/DATA/tesi/Nebbia/pre-processed_data/270619/video4_010/trigger_thr0.005_cl9_op3/cc_filtered_2den0.81_gausrad2.0/', list(['mean_270619-video4_010-031_opened_cc19.png']), array([  1.        , 134.23532214,  10.76467786,   1.        ,\n",
       "         1.        ])),\n",
       "       (157, '/media/alessandro/DATA/tesi/Nebbia/pre-processed_data/270619/video4_011/trigger_thr0.005_cl9_op3/cc_filtered_2den0.81_gausrad2.0/', list(['mean_270619-video4_011-014_opened_cc03.png']), array([  1.        , 163.89245766,   8.56763544,   4.        ,\n",
       "         1.25829374])),\n",
       "       (158, '/media/alessandro/DATA/tesi/Nebbia/pre-processed_data/270619/video4_011/trigger_thr0.005_cl9_op3/cc_filtered_2den0.81_gausrad2.0/', list(['mean_270619-video4_011-014_opened_cc49.png']), array([  1.        , 900.80272716,  10.23579544,   7.        ,\n",
       "         1.85931819])),\n",
       "       (159, '/media/alessandro/DATA/tesi/Nebbia/pre-processed_data/270619/video4_011/trigger_thr0.005_cl9_op3/cc_filtered_2den0.81_gausrad2.0/', list(['mean_270619-video4_011-014_opened_cc62.png', 'mean_270619-video4_011-015_opened_cc81.png', 'mean_270619-video4_011-016_opened_cc86.png']), array([  3.        , 159.98507767,  14.84825567,   1.        ,\n",
       "         1.15522974])),\n",
       "       (160, '/media/alessandro/DATA/tesi/Nebbia/pre-processed_data/270619/video4_011/trigger_thr0.005_cl9_op3/cc_filtered_2den0.81_gausrad2.0/', list(['mean_270619-video4_011-015_opened_cc20.png']), array([ 1.        , 86.29657197,  1.70342803,  1.        ,  6.46820153])),\n",
       "       (161, '/media/alessandro/DATA/tesi/Nebbia/pre-processed_data/270619/video4_011/trigger_thr0.005_cl9_op3/cc_filtered_2den0.81_gausrad2.0/', list(['mean_270619-video4_011-015_opened_cc64.png']), array([  1.        , 121.45431884,  12.04568116,   1.        ,\n",
       "         1.        ])),\n",
       "       (162, '/media/alessandro/DATA/tesi/Nebbia/pre-processed_data/270619/video4_011/trigger_thr0.005_cl9_op3/cc_filtered_2den0.81_gausrad2.0/', list(['mean_270619-video4_011-016_opened_cc102.png']), array([  1.        , 189.93283959,   5.48225969,   3.        ,\n",
       "         1.32612808])),\n",
       "       (163, '/media/alessandro/DATA/tesi/Nebbia/pre-processed_data/270619/video4_011/trigger_thr0.005_cl9_op3/cc_filtered_2den0.81_gausrad2.0/', list(['mean_270619-video4_011-021_opened_cc06.png']), array([  1.        , 556.03252545,   7.89066569,   7.        ,\n",
       "         1.64569338])),\n",
       "       (164, '/media/alessandro/DATA/tesi/Nebbia/pre-processed_data/270619/video4_011/trigger_thr0.005_cl9_op3/cc_filtered_2den0.81_gausrad2.0/', list(['mean_270619-video4_011-047_opened_cc02.png']), array([  1.        , 161.90866009,   9.7398802 ,   2.        ,\n",
       "         1.1282628 ])),\n",
       "       (165, '/media/alessandro/DATA/tesi/Nebbia/pre-processed_data/270619/video4_011/trigger_thr0.005_cl9_op3/cc_filtered_2den0.81_gausrad2.0/', list(['mean_270619-video4_011-047_opened_cc12.png', 'mean_270619-video4_011-048_opened_cc16.png']), array([  2.        , 112.54390617,  13.95609383,   1.        ,\n",
       "         1.14658962])),\n",
       "       (166, '/media/alessandro/DATA/tesi/Nebbia/pre-processed_data/270619/video4_012/trigger_thr0.005_cl9_op3/cc_filtered_2den0.81_gausrad2.0/', list(['mean_270619-video4_012-036_opened_cc13.png']), array([  1.        , 399.47482713,   3.06517944,   5.        ,\n",
       "         2.22722394])),\n",
       "       (167, '/media/alessandro/DATA/tesi/Nebbia/pre-processed_data/270619/video4_012/trigger_thr0.005_cl9_op3/cc_filtered_2den0.81_gausrad2.0/', list(['mean_270619-video4_012-036_opened_cc36.png']), array([  1.        , 422.99557086,   4.22111352,   6.        ,\n",
       "         1.53926522])),\n",
       "       (168, '/media/alessandro/DATA/tesi/Nebbia/pre-processed_data/270619/video4_012/trigger_thr0.005_cl9_op3/cc_filtered_2den0.81_gausrad2.0/', list(['mean_270619-video4_012-037_opened_cc03.png']), array([ 1.        , 87.34044001,  9.15955999,  1.        ,  1.168702  ])),\n",
       "       (169, '/media/alessandro/DATA/tesi/Nebbia/pre-processed_data/270619/video4_012/trigger_thr0.005_cl9_op3/cc_filtered_2den0.81_gausrad2.0/', list(['mean_270619-video4_012-037_opened_cc09.png']), array([1.00000000e+00, 1.02078672e+03, 1.26507795e+01, 7.00000000e+00,\n",
       "       2.14427806e+00])),\n",
       "       (170, '/media/alessandro/DATA/tesi/Nebbia/pre-processed_data/270619/video4_012/trigger_thr0.005_cl9_op3/cc_filtered_2den0.81_gausrad2.0/', list(['mean_270619-video4_012-037_opened_cc39.png']), array([  1.        , 118.91890921,   6.26290032,   4.        ,\n",
       "         1.1303078 ])),\n",
       "       (171, '/media/alessandro/DATA/tesi/Nebbia/pre-processed_data/270619/video4_012/trigger_thr0.005_cl9_op3/cc_filtered_2den0.81_gausrad2.0/', list(['mean_270619-video4_012-037_opened_cc58.png']), array([  1.        , 165.43593039,   7.27554572,   4.        ,\n",
       "         1.34341017])),\n",
       "       (172, '/media/alessandro/DATA/tesi/Nebbia/pre-processed_data/270619/video4_012/trigger_thr0.005_cl9_op3/cc_filtered_2den0.81_gausrad2.0/', list(['mean_270619-video4_012-037_opened_cc36.png']), array([  1.        , 120.16299421,  21.83700579,   1.        ,\n",
       "         1.        ])),\n",
       "       (173, '/media/alessandro/DATA/tesi/Nebbia/pre-processed_data/270619/video4_012/trigger_thr0.005_cl9_op3/cc_filtered_2den0.81_gausrad2.0/', list(['mean_270619-video4_012-047_opened_cc43.png']), array([  1.        , 121.3063721 ,   4.73512958,   3.        ,\n",
       "         1.479346  ])),\n",
       "       (174, '/media/alessandro/DATA/tesi/Nebbia/pre-processed_data/270619/video4_012/trigger_thr0.005_cl9_op3/cc_filtered_2den0.81_gausrad2.0/', list(['mean_270619-video4_012-048_opened_cc25.png']), array([ 1.        , 50.1273147 ,  2.8726853 ,  1.        ,  2.90379737])),\n",
       "       (175, '/media/alessandro/DATA/tesi/Nebbia/pre-processed_data/270619/video4_012/trigger_thr0.005_cl9_op3/cc_filtered_2den0.81_gausrad2.0/', list(['mean_270619-video4_012-048_opened_cc37.png']), array([  1.        , 289.96573835,   9.93147276,   3.        ,\n",
       "         1.4425442 ])),\n",
       "       (176, '/media/alessandro/DATA/tesi/Nebbia/pre-processed_data/270619/video4_012/trigger_thr0.005_cl9_op3/cc_filtered_2den0.81_gausrad2.0/', list(['mean_270619-video4_012-048_opened_cc91.png']), array([ 1.        , 50.39668714,  2.10331286,  1.        ,  4.1708595 ])),\n",
       "       (177, '/media/alessandro/DATA/tesi/Nebbia/pre-processed_data/270619/video4_013/trigger_thr0.005_cl9_op3/cc_filtered_2den0.81_gausrad2.0/', list(['mean_270619-video4_013-001_opened_cc22.png']), array([  1.        , 296.56869764,   6.31950032,   4.        ,\n",
       "         1.68111932])),\n",
       "       (178, '/media/alessandro/DATA/tesi/Nebbia/pre-processed_data/270619/video4_013/trigger_thr0.005_cl9_op3/cc_filtered_2den0.81_gausrad2.0/', list(['mean_270619-video4_013-001_opened_cc46.png']), array([ 1.        , 49.44013949,  3.55986051,  1.        ,  3.80308765])),\n",
       "       (179, '/media/alessandro/DATA/tesi/Nebbia/pre-processed_data/270619/video4_013/trigger_thr0.005_cl9_op3/cc_filtered_2den0.81_gausrad2.0/', list(['mean_270619-video4_013-002_opened_cc12.png']), array([  1.        , 758.4423562 ,  10.30061051,  10.        ,\n",
       "         1.82583942])),\n",
       "       (180, '/media/alessandro/DATA/tesi/Nebbia/pre-processed_data/270619/video4_013/trigger_thr0.005_cl9_op3/cc_filtered_2den0.81_gausrad2.0/', list(['mean_270619-video4_013-002_opened_cc66.png']), array([  1.        , 111.99744401,   7.85948066,   2.        ,\n",
       "         1.58451698])),\n",
       "       (181, '/media/alessandro/DATA/tesi/Nebbia/pre-processed_data/270619/video4_013/trigger_thr0.005_cl9_op3/cc_filtered_2den0.81_gausrad2.0/', list(['mean_270619-video4_013-003_opened_cc02.png', 'mean_270619-video4_013-004_opened_cc04.png']), array([ 2.        , 88.48712393, 23.76287607,  1.        ,  1.        ])),\n",
       "       (182, '/media/alessandro/DATA/tesi/Nebbia/pre-processed_data/270619/video4_013/trigger_thr0.005_cl9_op3/cc_filtered_2den0.81_gausrad2.0/', list(['mean_270619-video4_013-003_opened_cc17.png']), array([ 1.        , 83.17200571, 10.32799429,  1.        ,  1.        ])),\n",
       "       (183, '/media/alessandro/DATA/tesi/Nebbia/pre-processed_data/270619/video4_013/trigger_thr0.005_cl9_op3/cc_filtered_2den0.81_gausrad2.0/', list(['mean_270619-video4_013-004_opened_cc12.png']), array([  1.        , 678.08640196,   9.49736852,   7.        ,\n",
       "         2.28101265])),\n",
       "       (184, '/media/alessandro/DATA/tesi/Nebbia/pre-processed_data/270619/video4_013/trigger_thr0.005_cl9_op3/cc_filtered_2den0.81_gausrad2.0/', list(['mean_270619-video4_013-004_opened_cc13.png']), array([ 1.        , 89.44068862, 22.05931138,  1.        ,  1.        ])),\n",
       "       (185, '/media/alessandro/DATA/tesi/Nebbia/pre-processed_data/270619/video4_013/trigger_thr0.005_cl9_op3/cc_filtered_2den0.81_gausrad2.0/', list(['mean_270619-video4_013-005_opened_cc09.png']), array([  1.        , 130.92270867,   9.10801657,   3.        ,\n",
       "         1.26816897])),\n",
       "       (186, '/media/alessandro/DATA/tesi/Nebbia/pre-processed_data/270619/video4_014/trigger_thr0.005_cl9_op3/cc_filtered_2den0.81_gausrad2.0/', list(['mean_270619-video4_014-003_opened_cc20.png']), array([  1.        , 214.13100502,   5.22455675,   5.        ,\n",
       "         1.6718274 ])),\n",
       "       (187, '/media/alessandro/DATA/tesi/Nebbia/pre-processed_data/270619/video4_014/trigger_thr0.005_cl9_op3/cc_filtered_2den0.81_gausrad2.0/', list(['mean_270619-video4_014-021_opened_cc45.png']), array([ 1.        , 57.7124687 , 12.7875313 ,  1.        ,  1.24990226])),\n",
       "       (188, '/media/alessandro/DATA/tesi/Nebbia/pre-processed_data/270619/video4_014/trigger_thr0.005_cl9_op3/cc_filtered_2den0.81_gausrad2.0/', list(['mean_270619-video4_014-034_opened_cc18.png']), array([  1.        , 134.23603051,   5.32004415,   2.        ,\n",
       "         1.38534975])),\n",
       "       (189, '/media/alessandro/DATA/tesi/Nebbia/pre-processed_data/270619/video4_014/trigger_thr0.005_cl9_op3/cc_filtered_2den0.81_gausrad2.0/', list(['mean_270619-video4_014-034_opened_cc21.png']), array([  1.        , 155.14041493,   8.45839104,   3.        ,\n",
       "         1.18149293])),\n",
       "       (190, '/media/alessandro/DATA/tesi/Nebbia/pre-processed_data/270619/video4_014/trigger_thr0.005_cl9_op3/cc_filtered_2den0.81_gausrad2.0/', list(['mean_270619-video4_014-034_opened_cc46.png']), array([  1.        , 130.5020833 ,  10.4979167 ,   1.        ,\n",
       "         1.21916654])),\n",
       "       (191, '/media/alessandro/DATA/tesi/Nebbia/pre-processed_data/270619/video4_014/trigger_thr0.005_cl9_op3/cc_filtered_2den0.81_gausrad2.0/', list(['mean_270619-video4_014-034_opened_cc53.png', 'mean_270619-video4_014-035_opened_cc43.png']), array([  2.        , 100.99605652,  12.50394348,   1.        ,\n",
       "         1.08889778])),\n",
       "       (192, '/media/alessandro/DATA/tesi/Nebbia/pre-processed_data/270619/video4_014/trigger_thr0.005_cl9_op3/cc_filtered_2den0.81_gausrad2.0/', list(['mean_270619-video4_014-035_opened_cc24.png']), array([  1.        , 210.39708384,   3.30745117,   2.        ,\n",
       "         2.07947338])),\n",
       "       (193, '/media/alessandro/DATA/tesi/Nebbia/pre-processed_data/270619/video4_014/trigger_thr0.005_cl9_op3/cc_filtered_2den0.81_gausrad2.0/', list(['mean_270619-video4_014-035_opened_cc40.png']), array([  1.        , 126.83543951,   1.2837023 ,   2.        ,\n",
       "         2.92992042])),\n",
       "       (194, '/media/alessandro/DATA/tesi/Nebbia/pre-processed_data/270619/video4_014/trigger_thr0.005_cl9_op3/cc_filtered_2den0.81_gausrad2.0/', list(['mean_270619-video4_014-035_opened_cc41.png']), array([  1.        , 281.12302685,   3.0987221 ,   5.        ,\n",
       "         2.28246239])),\n",
       "       (195, '/media/alessandro/DATA/tesi/Nebbia/pre-processed_data/270619/video4_014/trigger_thr0.005_cl9_op3/cc_filtered_2den0.81_gausrad2.0/', list(['mean_270619-video4_014-021_opened_cc15.png']), array([1.00000000e+00, 1.32813633e+03, 7.42827100e+00, 1.90000000e+01,\n",
       "       3.17379230e+00])),\n",
       "       (196, '/media/alessandro/DATA/tesi/Nebbia/pre-processed_data/270619/video4_014/trigger_thr0.005_cl9_op3/cc_filtered_2den0.81_gausrad2.0/', list(['mean_270619-video4_014-037_opened_cc05.png']), array([  1.        , 174.27452064,  10.33333333,   3.        ,\n",
       "         1.60807902])),\n",
       "       (197, '/media/alessandro/DATA/tesi/Nebbia/pre-processed_data/270619/video4_014/trigger_thr0.005_cl9_op3/cc_filtered_2den0.81_gausrad2.0/', list(['mean_270619-video4_014-036_opened_cc06.png']), array([  1.        , 377.31735604,   6.92063371,   5.        ,\n",
       "         1.80278917])),\n",
       "       (198, '/media/alessandro/DATA/tesi/Nebbia/pre-processed_data/270619/video4_014/trigger_thr0.005_cl9_op3/cc_filtered_2den0.81_gausrad2.0/', list(['mean_270619-video4_014-036_opened_cc08.png']), array([  1.        , 105.35767654,   9.12334081,   2.        ,\n",
       "         1.54587127])),\n",
       "       (199, '/media/alessandro/DATA/tesi/Nebbia/pre-processed_data/270619/video4_014/trigger_thr0.005_cl9_op3/cc_filtered_2den0.81_gausrad2.0/', list(['mean_270619-video4_014-036_opened_cc11.png']), array([  1.        , 210.03082603,  14.00751965,   2.        ,\n",
       "         1.14908274])),\n",
       "       (200, '/media/alessandro/DATA/tesi/Nebbia/pre-processed_data/270619/video4_014/trigger_thr0.005_cl9_op3/cc_filtered_2den0.81_gausrad2.0/', list(['mean_270619-video4_014-036_opened_cc79.png']), array([  1.        , 120.22376618,   8.27623382,   1.        ,\n",
       "         1.17031389])),\n",
       "       (201, '/media/alessandro/DATA/tesi/Nebbia/pre-processed_data/270619/video4_014/trigger_thr0.005_cl9_op3/cc_filtered_2den0.81_gausrad2.0/', list(['mean_270619-video4_014-037_opened_cc68.png']), array([  1.        , 209.59715513,  10.45160572,   3.        ,\n",
       "         1.16541823])),\n",
       "       (202, '/media/alessandro/DATA/tesi/Nebbia/pre-processed_data/270619/video4_014/trigger_thr0.005_cl9_op3/cc_filtered_2den0.81_gausrad2.0/', list(['mean_270619-video4_014-038_opened_cc06.png']), array([1.00000000e+00, 1.07986916e+03, 1.40092728e+01, 1.10000000e+01,\n",
       "       2.06807364e+00])),\n",
       "       (203, '/media/alessandro/DATA/tesi/Nebbia/pre-processed_data/270619/video4_014/trigger_thr0.005_cl9_op3/cc_filtered_2den0.81_gausrad2.0/', list(['mean_270619-video4_014-039_opened_cc06.png']), array([  1.        , 102.66158069,   9.40034543,   2.        ,\n",
       "         1.44723025])),\n",
       "       (204, '/media/alessandro/DATA/tesi/Nebbia/pre-processed_data/270619/video4_015/trigger_thr0.005_cl9_op3/cc_filtered_2den0.81_gausrad2.0/', list(['mean_270619-video4_015-013_opened_cc35.png']), array([ 1.        , 16.6160623 ,  7.8839377 ,  1.        ,  1.05089205])),\n",
       "       (205, '/media/alessandro/DATA/tesi/Nebbia/pre-processed_data/270619/video4_015/trigger_thr0.005_cl9_op3/cc_filtered_2den0.81_gausrad2.0/', list(['mean_270619-video4_015-014_opened_cc07.png']), array([  1.        , 481.00034666,   6.76595881,   7.        ,\n",
       "         1.93260127])),\n",
       "       (206, '/media/alessandro/DATA/tesi/Nebbia/pre-processed_data/270619/video4_015/trigger_thr0.005_cl9_op3/cc_filtered_2den0.81_gausrad2.0/', list(['mean_270619-video4_015-036_opened_cc08.png']), array([1.00000000e+00, 1.02303089e+03, 1.50701929e+01, 8.00000000e+00,\n",
       "       2.19706084e+00])),\n",
       "       (207, '/media/alessandro/DATA/tesi/Nebbia/pre-processed_data/270619/video4_015/trigger_thr0.005_cl9_op3/cc_filtered_2den0.81_gausrad2.0/', list(['mean_270619-video4_015-041_opened_cc09.png']), array([  1.        , 306.94965235,   8.5558017 ,   2.        ,\n",
       "         2.04315524])),\n",
       "       (208, '/media/alessandro/DATA/tesi/Nebbia/pre-processed_data/270619/video4_015/trigger_thr0.005_cl9_op3/cc_filtered_2den0.81_gausrad2.0/', list(['mean_270619-video4_015-041_opened_cc55.png']), array([  1.        , 385.28478419,  20.51637703,   5.        ,\n",
       "         1.82599424])),\n",
       "       (209, '/media/alessandro/DATA/tesi/Nebbia/pre-processed_data/270619/video4_016/trigger_thr0.005_cl9_op3/cc_filtered_2den0.81_gausrad2.0/', list(['mean_270619-video4_016-020_opened_cc47.png']), array([ 1.        , 68.81934729, 19.18065271,  1.        ,  1.        ])),\n",
       "       (210, '/media/alessandro/DATA/tesi/Nebbia/pre-processed_data/270619/video4_016/trigger_thr0.005_cl9_op3/cc_filtered_2den0.81_gausrad2.0/', list(['mean_270619-video4_016-020_opened_cc66.png']), array([  1.        , 130.36176478,  11.13823522,   1.        ,\n",
       "         1.26708223])),\n",
       "       (211, '/media/alessandro/DATA/tesi/Nebbia/pre-processed_data/270619/video4_016/trigger_thr0.005_cl9_op3/cc_filtered_2den0.81_gausrad2.0/', list(['mean_270619-video4_016-020_opened_cc76.png']), array([  1.        , 154.1440866 ,  10.30075615,   2.        ,\n",
       "         1.20764606])),\n",
       "       (212, '/media/alessandro/DATA/tesi/Nebbia/pre-processed_data/270619/video4_016/trigger_thr0.005_cl9_op3/cc_filtered_2den0.81_gausrad2.0/', list(['mean_270619-video4_016-021_opened_cc09.png']), array([ 1.        , 82.88873605,  2.11126395,  1.        ,  5.14054119])),\n",
       "       (213, '/media/alessandro/DATA/tesi/Nebbia/pre-processed_data/270619/video4_016/trigger_thr0.005_cl9_op3/cc_filtered_2den0.81_gausrad2.0/', list(['mean_270619-video4_016-021_opened_cc25.png']), array([  1.        , 258.26386728,   4.9581427 ,   3.        ,\n",
       "         1.43958361])),\n",
       "       (214, '/media/alessandro/DATA/tesi/Nebbia/pre-processed_data/270619/video4_016/trigger_thr0.005_cl9_op3/cc_filtered_2den0.81_gausrad2.0/', list(['mean_270619-video4_016-027_opened_cc09.png']), array([  1.        , 156.51911441,   5.37062389,   3.        ,\n",
       "         1.48897101])),\n",
       "       (215, '/media/alessandro/DATA/tesi/Nebbia/pre-processed_data/270619/video4_016/trigger_thr0.005_cl9_op3/cc_filtered_2den0.81_gausrad2.0/', list(['mean_270619-video4_016-027_opened_cc18.png']), array([  1.        , 190.90020958,  12.56798046,   4.        ,\n",
       "         1.15750254])),\n",
       "       (216, '/media/alessandro/DATA/tesi/Nebbia/pre-processed_data/270619/video4_016/trigger_thr0.005_cl9_op3/cc_filtered_2den0.81_gausrad2.0/', list(['mean_270619-video4_016-027_opened_cc58.png']), array([  1.        , 125.71481612,  10.28518388,   1.        ,\n",
       "         1.10005621])),\n",
       "       (217, '/media/alessandro/DATA/tesi/Nebbia/pre-processed_data/270619/video4_016/trigger_thr0.005_cl9_op3/cc_filtered_2den0.81_gausrad2.0/', list(['mean_270619-video4_016-027_opened_cc80.png']), array([  1.        , 153.09186032,   6.88694461,   4.        ,\n",
       "         1.34105492])),\n",
       "       (218, '/media/alessandro/DATA/tesi/Nebbia/pre-processed_data/270619/video4_017/trigger_thr0.005_cl9_op3/cc_filtered_2den0.81_gausrad2.0/', list(['mean_270619-video4_017-006_opened_cc50.png']), array([  1.        , 108.81675405,   9.9276878 ,   2.        ,\n",
       "         1.        ])),\n",
       "       (219, '/media/alessandro/DATA/tesi/Nebbia/pre-processed_data/270619/video4_017/trigger_thr0.005_cl9_op3/cc_filtered_2den0.81_gausrad2.0/', list(['mean_270619-video4_017-006_opened_cc59.png']), array([  1.        , 129.44404336,   9.86647001,   3.        ,\n",
       "         1.18991595])),\n",
       "       (220, '/media/alessandro/DATA/tesi/Nebbia/pre-processed_data/270619/video4_017/trigger_thr0.005_cl9_op3/cc_filtered_2den0.81_gausrad2.0/', list(['mean_270619-video4_017-007_opened_cc01.png']), array([  1.        , 669.14628953,   6.20006961,  13.        ,\n",
       "         2.20797075])),\n",
       "       (221, '/media/alessandro/DATA/tesi/Nebbia/pre-processed_data/270619/video4_017/trigger_thr0.005_cl9_op3/cc_filtered_2den0.81_gausrad2.0/', list(['mean_270619-video4_017-007_opened_cc03.png']), array([1.00000000e+00, 1.83930720e+03, 7.98769550e+00, 2.40000000e+01,\n",
       "       3.92919292e+00])),\n",
       "       (222, '/media/alessandro/DATA/tesi/Nebbia/pre-processed_data/270619/video4_017/trigger_thr0.005_cl9_op3/cc_filtered_2den0.81_gausrad2.0/', list(['mean_270619-video4_017-007_opened_cc04.png']), array([ 1.        , 94.36277258,  3.31185347,  2.        ,  1.47280114])),\n",
       "       (223, '/media/alessandro/DATA/tesi/Nebbia/pre-processed_data/270619/video4_017/trigger_thr0.005_cl9_op3/cc_filtered_2den0.81_gausrad2.0/', list(['mean_270619-video4_017-007_opened_cc21.png', 'mean_270619-video4_017-008_opened_cc24.png']), array([  2.        , 221.66967964,   9.16939225,   4.        ,\n",
       "         1.18313452])),\n",
       "       (224, '/media/alessandro/DATA/tesi/Nebbia/pre-processed_data/270619/video4_017/trigger_thr0.005_cl9_op3/cc_filtered_2den0.81_gausrad2.0/', list(['mean_270619-video4_017-007_opened_cc57.png']), array([ 1.        , 80.75193073,  8.11399906,  2.        ,  1.2353399 ])),\n",
       "       (225, '/media/alessandro/DATA/tesi/Nebbia/pre-processed_data/270619/video4_017/trigger_thr0.005_cl9_op3/cc_filtered_2den0.81_gausrad2.0/', list(['mean_270619-video4_017-008_opened_cc57.png']), array([ 1.        , 39.42738339,  5.07261661,  1.        ,  1.98632288])),\n",
       "       (226, '/media/alessandro/DATA/tesi/Nebbia/pre-processed_data/270619/video4_017/trigger_thr0.005_cl9_op3/cc_filtered_2den0.81_gausrad2.0/', list(['mean_270619-video4_017-008_opened_cc64.png']), array([  1.        , 123.32032231,   2.39201523,   3.        ,\n",
       "         1.83733037])),\n",
       "       (227, '/media/alessandro/DATA/tesi/Nebbia/pre-processed_data/270619/video4_017/trigger_thr0.005_cl9_op3/cc_filtered_2den0.81_gausrad2.0/', list(['mean_270619-video4_017-009_opened_cc07.png']), array([1.00000000e+00, 1.48896958e+03, 1.06240932e+01, 2.00000000e+01,\n",
       "       3.06837114e+00])),\n",
       "       (228, '/media/alessandro/DATA/tesi/Nebbia/pre-processed_data/270619/video4_017/trigger_thr0.005_cl9_op3/cc_filtered_2den0.81_gausrad2.0/', list(['mean_270619-video4_017-009_opened_cc75.png']), array([  1.        , 102.19045534,   4.80632235,   2.        ,\n",
       "         1.34589345])),\n",
       "       (229, '/media/alessandro/DATA/tesi/Nebbia/pre-processed_data/270619/video4_017/trigger_thr0.005_cl9_op3/cc_filtered_2den0.81_gausrad2.0/', list(['mean_270619-video4_017-009_opened_cc85.png']), array([ 1.        , 66.70286949, 12.14981061,  2.        ,  1.        ])),\n",
       "       (230, '/media/alessandro/DATA/tesi/Nebbia/pre-processed_data/270619/video4_017/trigger_thr0.005_cl9_op3/cc_filtered_2den0.81_gausrad2.0/', list(['mean_270619-video4_017-014_opened_cc04.png']), array([  1.        , 211.1631572 ,   4.73590559,   4.        ,\n",
       "         1.35749233])),\n",
       "       (231, '/media/alessandro/DATA/tesi/Nebbia/pre-processed_data/270619/video4_017/trigger_thr0.005_cl9_op3/cc_filtered_2den0.81_gausrad2.0/', list(['mean_270619-video4_017-014_opened_cc08.png']), array([  1.        , 106.47959956,   7.04850092,   3.        ,\n",
       "         1.33759475])),\n",
       "       (232, '/media/alessandro/DATA/tesi/Nebbia/pre-processed_data/270619/video4_017/trigger_thr0.005_cl9_op3/cc_filtered_2den0.81_gausrad2.0/', list(['mean_270619-video4_017-020_opened_cc03.png']), array([  1.        , 112.63110528,  12.68944608,   2.        ,\n",
       "         1.03475092])),\n",
       "       (233, '/media/alessandro/DATA/tesi/Nebbia/pre-processed_data/270619/video4_017/trigger_thr0.005_cl9_op3/cc_filtered_2den0.81_gausrad2.0/', list(['mean_270619-video4_017-020_opened_cc09.png']), array([  1.        , 108.03942046,   5.35171402,   2.        ,\n",
       "         1.58812825])),\n",
       "       (234, '/media/alessandro/DATA/tesi/Nebbia/pre-processed_data/270619/video4_017/trigger_thr0.005_cl9_op3/cc_filtered_2den0.81_gausrad2.0/', list(['mean_270619-video4_017-028_opened_cc07.png']), array([  1.        , 148.73524313,   7.53648607,   2.        ,\n",
       "         1.27703849])),\n",
       "       (235, '/media/alessandro/DATA/tesi/Nebbia/pre-processed_data/270619/video4_017/trigger_thr0.005_cl9_op3/cc_filtered_2den0.81_gausrad2.0/', list(['mean_270619-video4_017-028_opened_cc11.png']), array([ 1.        , 89.93860406,  8.56139594,  1.        ,  1.        ])),\n",
       "       (236, '/media/alessandro/DATA/tesi/Nebbia/pre-processed_data/270619/video4_018/trigger_thr0.005_cl9_op3/cc_filtered_2den0.81_gausrad2.0/', list(['mean_270619-video4_018-010_opened_cc10.png']), array([  1.        , 149.78637223,  11.46736204,   3.        ,\n",
       "         1.        ])),\n",
       "       (237, '/media/alessandro/DATA/tesi/Nebbia/pre-processed_data/270619/video4_018/trigger_thr0.005_cl9_op3/cc_filtered_2den0.81_gausrad2.0/', list(['mean_270619-video4_018-010_opened_cc35.png']), array([  1.        , 366.00155916,  11.91879543,   2.        ,\n",
       "         2.73677103])),\n",
       "       (238, '/media/alessandro/DATA/tesi/Nebbia/pre-processed_data/270619/video4_018/trigger_thr0.005_cl9_op3/cc_filtered_2den0.81_gausrad2.0/', list(['mean_270619-video4_018-010_opened_cc61.png']), array([  1.        , 121.77946452,   5.80863133,   2.        ,\n",
       "         1.3906079 ])),\n",
       "       (239, '/media/alessandro/DATA/tesi/Nebbia/pre-processed_data/270619/video4_018/trigger_thr0.005_cl9_op3/cc_filtered_2den0.81_gausrad2.0/', list(['mean_270619-video4_018-022_opened_cc01.png']), array([  1.        , 108.64551583,   8.85448417,   1.        ,\n",
       "         1.3175204 ])),\n",
       "       (240, '/media/alessandro/DATA/tesi/Nebbia/pre-processed_data/270619/video4_019/trigger_thr0.005_cl9_op3/cc_filtered_2den0.81_gausrad2.0/', list(['mean_270619-video4_019-008_opened_cc10.png']), array([ 1.        , 77.66071611,  9.58262414,  2.        ,  1.        ])),\n",
       "       (241, '/media/alessandro/DATA/tesi/Nebbia/pre-processed_data/270619/video4_019/trigger_thr0.005_cl9_op3/cc_filtered_2den0.81_gausrad2.0/', list(['mean_270619-video4_019-008_opened_cc15.png']), array([ 1.        , 86.76428443,  7.29648084,  2.        ,  1.54714374])),\n",
       "       (242, '/media/alessandro/DATA/tesi/Nebbia/pre-processed_data/270619/video4_019/trigger_thr0.005_cl9_op3/cc_filtered_2den0.81_gausrad2.0/', list(['mean_270619-video4_019-008_opened_cc38.png']), array([  1.        , 356.82603291,   5.45642681,   6.        ,\n",
       "         1.2789135 ])),\n",
       "       (243, '/media/alessandro/DATA/tesi/Nebbia/pre-processed_data/270619/video4_019/trigger_thr0.005_cl9_op3/cc_filtered_2den0.81_gausrad2.0/', list(['mean_270619-video4_019-009_opened_cc04.png']), array([  1.        , 107.50773134,  10.49226866,   1.        ,\n",
       "         1.16029801])),\n",
       "       (244, '/media/alessandro/DATA/tesi/Nebbia/pre-processed_data/270619/video4_019/trigger_thr0.005_cl9_op3/cc_filtered_2den0.81_gausrad2.0/', list(['mean_270619-video4_019-009_opened_cc18.png']), array([  1.        , 150.66264488,   7.66666667,   3.        ,\n",
       "         1.19913903])),\n",
       "       (245, '/media/alessandro/DATA/tesi/Nebbia/pre-processed_data/270619/video4_019/trigger_thr0.005_cl9_op3/cc_filtered_2den0.81_gausrad2.0/', list(['mean_270619-video4_019-010_opened_cc05.png']), array([  1.        , 553.04360823,   9.27883692,   8.        ,\n",
       "         1.83443077])),\n",
       "       (246, '/media/alessandro/DATA/tesi/Nebbia/pre-processed_data/270619/video4_019/trigger_thr0.005_cl9_op3/cc_filtered_2den0.81_gausrad2.0/', list(['mean_270619-video4_019-011_opened_cc01.png']), array([  1.        , 143.10399562,   3.66666667,   3.        ,\n",
       "         1.82139282])),\n",
       "       (247, '/media/alessandro/DATA/tesi/Nebbia/pre-processed_data/270619/video4_019/trigger_thr0.005_cl9_op3/cc_filtered_2den0.81_gausrad2.0/', list(['mean_270619-video4_019-011_opened_cc08.png']), array([  1.        , 206.93016932,   7.25200328,   3.        ,\n",
       "         1.62811011])),\n",
       "       (248, '/media/alessandro/DATA/tesi/Nebbia/pre-processed_data/270619/video4_019/trigger_thr0.005_cl9_op3/cc_filtered_2den0.81_gausrad2.0/', list(['mean_270619-video4_019-011_opened_cc71.png']), array([  1.        , 321.90818704,   8.16823101,   5.        ,\n",
       "         1.89406918])),\n",
       "       (249, '/media/alessandro/DATA/tesi/Nebbia/pre-processed_data/270619/video4_019/trigger_thr0.005_cl9_op3/cc_filtered_2den0.81_gausrad2.0/', list(['mean_270619-video4_019-016_opened_cc30.png', 'mean_270619-video4_019-017_opened_cc31.png', 'mean_270619-video4_019-018_opened_cc45.png']), array([  3.        , 180.7292674 ,  22.24195683,   1.66666667,\n",
       "         1.12311727])),\n",
       "       (250, '/media/alessandro/DATA/tesi/Nebbia/pre-processed_data/270619/video4_019/trigger_thr0.005_cl9_op3/cc_filtered_2den0.81_gausrad2.0/', list(['mean_270619-video4_019-016_opened_cc53.png']), array([ 1.        , 92.21326438, 12.28673562,  1.        ,  1.        ])),\n",
       "       (251, '/media/alessandro/DATA/tesi/Nebbia/pre-processed_data/270619/video4_019/trigger_thr0.005_cl9_op3/cc_filtered_2den0.81_gausrad2.0/', list(['mean_270619-video4_019-017_opened_cc15.png']), array([ 1.        , 80.42900652, 10.07099348,  1.        ,  1.27729469])),\n",
       "       (252, '/media/alessandro/DATA/tesi/Nebbia/pre-processed_data/270619/video4_019/trigger_thr0.005_cl9_op3/cc_filtered_2den0.81_gausrad2.0/', list(['mean_270619-video4_019-017_opened_cc68.png', 'mean_270619-video4_019-018_opened_cc90.png']), array([ 2.        , 97.382954  ,  8.23063004,  2.        ,  1.25627629])),\n",
       "       (253, '/media/alessandro/DATA/tesi/Nebbia/pre-processed_data/270619/video4_019/trigger_thr0.005_cl9_op3/cc_filtered_2den0.81_gausrad2.0/', list(['mean_270619-video4_019-018_opened_cc11.png']), array([ 1.        , 41.66809723,  2.83190277,  1.        ,  3.32547619])),\n",
       "       (254, '/media/alessandro/DATA/tesi/Nebbia/pre-processed_data/270619/video4_019/trigger_thr0.005_cl9_op3/cc_filtered_2den0.81_gausrad2.0/', list(['mean_270619-video4_019-009_opened_cc59.png']), array([  1.        , 170.7148811 ,  14.60020597,   2.        ,\n",
       "         1.40132799])),\n",
       "       (255, '/media/alessandro/DATA/tesi/Nebbia/pre-processed_data/270619/video4_019/trigger_thr0.005_cl9_op3/cc_filtered_2den0.81_gausrad2.0/', list(['mean_270619-video4_019-026_opened_cc08.png']), array([  1.        , 426.32335569,  11.83171525,   4.        ,\n",
       "         1.35199117])),\n",
       "       (256, '/media/alessandro/DATA/tesi/Nebbia/pre-processed_data/270619/video4_019/trigger_thr0.005_cl9_op3/cc_filtered_2den0.81_gausrad2.0/', list(['mean_270619-video4_019-026_opened_cc10.png']), array([  1.        , 106.35405729,   7.14594271,   1.        ,\n",
       "         1.08434262])),\n",
       "       (257, '/media/alessandro/DATA/tesi/Nebbia/pre-processed_data/270619/video4_019/trigger_thr0.005_cl9_op3/cc_filtered_2den0.81_gausrad2.0/', list(['mean_270619-video4_019-027_opened_cc05.png']), array([  1.        , 119.22020198,  12.27979802,   1.        ,\n",
       "         1.        ])),\n",
       "       (258, '/media/alessandro/DATA/tesi/Nebbia/pre-processed_data/270619/video4_019/trigger_thr0.005_cl9_op3/cc_filtered_2den0.81_gausrad2.0/', list(['mean_270619-video4_019-027_opened_cc14.png']), array([  1.        , 417.67925152,   7.82094518,   5.        ,\n",
       "         2.00786449])),\n",
       "       (259, '/media/alessandro/DATA/tesi/Nebbia/pre-processed_data/270619/video4_019/trigger_thr0.005_cl9_op3/cc_filtered_2den0.81_gausrad2.0/', list(['mean_270619-video4_019-038_opened_cc34.png']), array([  1.        , 139.61109273,   6.47502673,   3.        ,\n",
       "         1.38059734])),\n",
       "       (260, '/media/alessandro/DATA/tesi/Nebbia/pre-processed_data/270619/video4_019/trigger_thr0.005_cl9_op3/cc_filtered_2den0.81_gausrad2.0/', list(['mean_270619-video4_019-038_opened_cc56.png']), array([  1.        , 167.49850012,   9.71111303,   2.        ,\n",
       "         1.13203091])),\n",
       "       (261, '/media/alessandro/DATA/tesi/Nebbia/pre-processed_data/270619/video4_019/trigger_thr0.005_cl9_op3/cc_filtered_2den0.81_gausrad2.0/', list(['mean_270619-video4_019-038_opened_cc57.png']), array([  1.        , 292.66041939,  14.        ,   5.        ,\n",
       "         1.30050748])),\n",
       "       (262, '/media/alessandro/DATA/tesi/Nebbia/pre-processed_data/270619/video4_020/trigger_thr0.005_cl9_op3/cc_filtered_2den0.81_gausrad2.0/', list(['mean_270619-video4_020-004_opened_cc07.png']), array([  1.        , 202.8352522 ,   6.90747448,   5.        ,\n",
       "         1.18975701])),\n",
       "       (263, '/media/alessandro/DATA/tesi/Nebbia/pre-processed_data/270619/video4_020/trigger_thr0.005_cl9_op3/cc_filtered_2den0.81_gausrad2.0/', list(['mean_270619-video4_020-004_opened_cc08.png', 'mean_270619-video4_020-005_opened_cc11.png']), array([  2.        , 165.82185438,   8.33595727,   2.5       ,\n",
       "         1.28568666])),\n",
       "       (264, '/media/alessandro/DATA/tesi/Nebbia/pre-processed_data/270619/video4_020/trigger_thr0.005_cl9_op3/cc_filtered_2den0.81_gausrad2.0/', list(['mean_270619-video4_020-007_opened_cc12.png']), array([  1.        , 176.39232505,   9.42881274,   4.        ,\n",
       "         1.27085259])),\n",
       "       (265, '/media/alessandro/DATA/tesi/Nebbia/pre-processed_data/270619/video4_020/trigger_thr0.005_cl9_op3/cc_filtered_2den0.81_gausrad2.0/', list(['mean_270619-video4_020-007_opened_cc58.png']), array([  1.        , 440.20400342,  10.00790662,   6.        ,\n",
       "         1.81333648])),\n",
       "       (266, '/media/alessandro/DATA/tesi/Nebbia/pre-processed_data/270619/video4_020/trigger_thr0.005_cl9_op3/cc_filtered_2den0.81_gausrad2.0/', list(['mean_270619-video4_020-008_opened_cc01.png']), array([  1.        , 131.6150886 ,   4.98734583,   2.        ,\n",
       "         1.44631965])),\n",
       "       (267, '/media/alessandro/DATA/tesi/Nebbia/pre-processed_data/270619/video4_020/trigger_thr0.005_cl9_op3/cc_filtered_2den0.81_gausrad2.0/', list(['mean_270619-video4_020-008_opened_cc09.png']), array([  1.        , 188.81620209,   3.54203217,   3.        ,\n",
       "         1.38487713])),\n",
       "       (268, '/media/alessandro/DATA/tesi/Nebbia/pre-processed_data/270619/video4_020/trigger_thr0.005_cl9_op3/cc_filtered_2den0.81_gausrad2.0/', list(['mean_270619-video4_020-037_opened_cc20.png']), array([ 1.        , 64.62473176,  6.37526824,  1.        ,  1.4928424 ])),\n",
       "       (269, '/media/alessandro/DATA/tesi/Nebbia/pre-processed_data/270619/video4_020/trigger_thr0.005_cl9_op3/cc_filtered_2den0.81_gausrad2.0/', list(['mean_270619-video4_020-037_opened_cc24.png']), array([  1.        , 148.01643093,  10.21420688,   3.        ,\n",
       "         1.30129678])),\n",
       "       (270, '/media/alessandro/DATA/tesi/Nebbia/pre-processed_data/270619/video4_020/trigger_thr0.005_cl9_op3/cc_filtered_2den0.81_gausrad2.0/', list(['mean_270619-video4_020-037_opened_cc38.png']), array([  1.        , 839.00027534,   9.66853786,   6.        ,\n",
       "         1.67224124])),\n",
       "       (271, '/media/alessandro/DATA/tesi/Nebbia/pre-processed_data/270619/video4_020/trigger_thr0.005_cl9_op3/cc_filtered_2den0.81_gausrad2.0/', list(['mean_270619-video4_020-037_opened_cc39.png']), array([  1.        , 346.32117268,   7.526386  ,   5.        ,\n",
       "         2.10854181])),\n",
       "       (272, '/media/alessandro/DATA/tesi/Nebbia/pre-processed_data/270619/video4_020/trigger_thr0.005_cl9_op3/cc_filtered_2den0.81_gausrad2.0/', list(['mean_270619-video4_020-037_opened_cc44.png']), array([  1.        , 377.01222485,   5.40131295,   5.        ,\n",
       "         1.73708843])),\n",
       "       (273, '/media/alessandro/DATA/tesi/Nebbia/pre-processed_data/270619/video4_020/trigger_thr0.005_cl9_op3/cc_filtered_2den0.81_gausrad2.0/', list(['mean_270619-video4_020-037_opened_cc46.png']), array([  1.        , 251.98936819,   3.50817212,   5.        ,\n",
       "         1.60970393])),\n",
       "       (274, '/media/alessandro/DATA/tesi/Nebbia/pre-processed_data/270619/video4_020/trigger_thr0.005_cl9_op3/cc_filtered_2den0.81_gausrad2.0/', list(['mean_270619-video4_020-037_opened_cc88.png']), array([ 1.        , 94.33984677, 13.63437852,  2.        ,  1.        ])),\n",
       "       (275, '/media/alessandro/DATA/tesi/Nebbia/pre-processed_data/270619/video4_020/trigger_thr0.005_cl9_op3/cc_filtered_2den0.81_gausrad2.0/', list(['mean_270619-video4_020-044_opened_cc37.png']), array([ 1.        , 80.73372925,  7.76627075,  1.        ,  1.00917162])),\n",
       "       (276, '/media/alessandro/DATA/tesi/Nebbia/pre-processed_data/270619/video4_020/trigger_thr0.005_cl9_op3/cc_filtered_2den0.81_gausrad2.0/', list(['mean_270619-video4_020-046_opened_cc04.png']), array([  1.        , 416.36371313,  11.58166673,   5.        ,\n",
       "         1.69052528])),\n",
       "       (277, '/media/alessandro/DATA/tesi/Nebbia/pre-processed_data/270619/video4_020/trigger_thr0.005_cl9_op3/cc_filtered_2den0.81_gausrad2.0/', list(['mean_270619-video4_020-046_opened_cc47.png']), array([  1.        , 143.2142717 ,   1.48276681,   2.        ,\n",
       "         1.83037315])),\n",
       "       (278, '/media/alessandro/DATA/tesi/Nebbia/pre-processed_data/270619/video4_020/trigger_thr0.005_cl9_op3/cc_filtered_2den0.81_gausrad2.0/', list(['mean_270619-video4_020-005_opened_cc27.png']), array([  1.        , 228.66777125,  10.67787622,   4.        ,\n",
       "         1.35334807])),\n",
       "       (279, '/media/alessandro/DATA/tesi/Nebbia/pre-processed_data/270619/video4_020/trigger_thr0.005_cl9_op3/cc_filtered_2den0.81_gausrad2.0/', list(['mean_270619-video4_020-006_opened_cc10.png']), array([ 1.        , 44.92669822,  4.07330178,  1.        ,  1.51104838])),\n",
       "       (280, '/media/alessandro/DATA/tesi/Nebbia/pre-processed_data/270619/video4_020/trigger_thr0.005_cl9_op3/cc_filtered_2den0.81_gausrad2.0/', list(['mean_270619-video4_020-006_opened_cc46.png']), array([ 1.        , 57.81757676,  3.18242324,  1.        ,  2.45643345])),\n",
       "       (281, '/media/alessandro/DATA/tesi/Nebbia/pre-processed_data/270619/video4_020/trigger_thr0.005_cl9_op3/cc_filtered_2den0.81_gausrad2.0/', list(['mean_270619-video4_020-007_opened_cc02.png']), array([  1.        , 134.37487575,   8.62512425,   1.        ,\n",
       "         1.24160658])),\n",
       "       (282, '/media/alessandro/DATA/tesi/Nebbia/pre-processed_data/270619/video4_021/trigger_thr0.005_cl9_op3/cc_filtered_2den0.81_gausrad2.0/', list(['mean_270619-video4_021-027_opened_cc19.png']), array([  1.        , 167.07630049,   8.87600117,   3.        ,\n",
       "         1.07788918])),\n",
       "       (283, '/media/alessandro/DATA/tesi/Nebbia/pre-processed_data/270619/video4_021/trigger_thr0.005_cl9_op3/cc_filtered_2den0.81_gausrad2.0/', list(['mean_270619-video4_021-021_opened_cc26.png']), array([ 1.        , 78.39774004,  7.60225996,  1.        ,  1.51864036])),\n",
       "       (284, '/media/alessandro/DATA/tesi/Nebbia/pre-processed_data/270619/video4_021/trigger_thr0.005_cl9_op3/cc_filtered_2den0.81_gausrad2.0/', list(['mean_270619-video4_021-021_opened_cc47.png']), array([  1.        , 210.99495076,   8.64076311,   3.        ,\n",
       "         1.27835822])),\n",
       "       (285, '/media/alessandro/DATA/tesi/Nebbia/pre-processed_data/270619/video4_021/trigger_thr0.005_cl9_op3/cc_filtered_2den0.81_gausrad2.0/', list(['mean_270619-video4_021-027_opened_cc12.png']), array([ 1.        , 93.74349752,  7.04123565,  3.        ,  1.29353682])),\n",
       "       (286, '/media/alessandro/DATA/tesi/Nebbia/pre-processed_data/270619/video4_021/trigger_thr0.005_cl9_op3/cc_filtered_2den0.81_gausrad2.0/', list(['mean_270619-video4_021-027_opened_cc27.png']), array([  1.        , 242.81218133,   8.95777661,   3.        ,\n",
       "         1.5736201 ])),\n",
       "       (287, '/media/alessandro/DATA/tesi/Nebbia/pre-processed_data/270619/video4_021/trigger_thr0.005_cl9_op3/cc_filtered_2den0.81_gausrad2.0/', list(['mean_270619-video4_021-027_opened_cc36.png']), array([  1.        , 160.53752198,   2.14327608,   2.        ,\n",
       "         2.2122598 ])),\n",
       "       (288, '/media/alessandro/DATA/tesi/Nebbia/pre-processed_data/270619/video4_021/trigger_thr0.005_cl9_op3/cc_filtered_2den0.81_gausrad2.0/', list(['mean_270619-video4_021-027_opened_cc56.png']), array([  1.        , 176.38201698,  12.03965066,   3.        ,\n",
       "         1.00814416])),\n",
       "       (289, '/media/alessandro/DATA/tesi/Nebbia/pre-processed_data/270619/video4_021/trigger_thr0.005_cl9_op3/cc_filtered_2den0.81_gausrad2.0/', list(['mean_270619-video4_021-036_opened_cc14.png']), array([  1.        , 316.88139091,   8.29342584,   5.        ,\n",
       "         1.7311013 ])),\n",
       "       (290, '/media/alessandro/DATA/tesi/Nebbia/pre-processed_data/270619/video4_021/trigger_thr0.005_cl9_op3/cc_filtered_2den0.81_gausrad2.0/', list(['mean_270619-video4_021-036_opened_cc72.png']), array([  1.        , 448.44646444,  11.91588968,   6.        ,\n",
       "         1.60757251])),\n",
       "       (291, '/media/alessandro/DATA/tesi/Nebbia/pre-processed_data/270619/video4_022/trigger_thr0.005_cl9_op3/cc_filtered_2den0.81_gausrad2.0/', list(['mean_270619-video4_022-007_opened_cc07.png']), array([  1.        , 196.88010093,   1.98327062,   3.        ,\n",
       "         1.80867682])),\n",
       "       (292, '/media/alessandro/DATA/tesi/Nebbia/pre-processed_data/270619/video4_022/trigger_thr0.005_cl9_op3/cc_filtered_2den0.81_gausrad2.0/', list(['mean_270619-video4_022-012_opened_cc17.png']), array([  1.        , 238.69086806,   8.50833719,   5.        ,\n",
       "         1.39997654])),\n",
       "       (293, '/media/alessandro/DATA/tesi/Nebbia/pre-processed_data/270619/video4_022/trigger_thr0.005_cl9_op3/cc_filtered_2den0.81_gausrad2.0/', list(['mean_270619-video4_022-012_opened_cc63.png']), array([  1.        , 119.02218663,   5.8619057 ,   3.        ,\n",
       "         1.19839888])),\n",
       "       (294, '/media/alessandro/DATA/tesi/Nebbia/pre-processed_data/270619/video4_022/trigger_thr0.005_cl9_op3/cc_filtered_2den0.81_gausrad2.0/', list(['mean_270619-video4_022-012_opened_cc98.png']), array([ 1.        , 82.87041833, 14.87262687,  2.        ,  1.        ])),\n",
       "       (295, '/media/alessandro/DATA/tesi/Nebbia/pre-processed_data/270619/video4_022/trigger_thr0.005_cl9_op3/cc_filtered_2den0.81_gausrad2.0/', list(['mean_270619-video4_022-013_opened_cc13.png']), array([  1.        , 124.46628589,   2.72554121,   2.        ,\n",
       "         1.80518677])),\n",
       "       (296, '/media/alessandro/DATA/tesi/Nebbia/pre-processed_data/270619/video4_022/trigger_thr0.005_cl9_op3/cc_filtered_2den0.81_gausrad2.0/', list(['mean_270619-video4_022-013_opened_cc28.png']), array([  1.        , 100.46951978,   6.33333333,   3.        ,\n",
       "         1.19395244])),\n",
       "       (297, '/media/alessandro/DATA/tesi/Nebbia/pre-processed_data/270619/video4_022/trigger_thr0.005_cl9_op3/cc_filtered_2den0.81_gausrad2.0/', list(['mean_270619-video4_022-013_opened_cc29.png']), array([  1.        , 227.3787397 ,   3.36735509,   5.        ,\n",
       "         2.19918114])),\n",
       "       (298, '/media/alessandro/DATA/tesi/Nebbia/pre-processed_data/270619/video4_022/trigger_thr0.005_cl9_op3/cc_filtered_2den0.81_gausrad2.0/', list(['mean_270619-video4_022-013_opened_cc30.png']), array([  1.        , 305.62345455,   7.21599954,   6.        ,\n",
       "         1.58288269])),\n",
       "       (299, '/media/alessandro/DATA/tesi/Nebbia/pre-processed_data/270619/video4_022/trigger_thr0.005_cl9_op3/cc_filtered_2den0.81_gausrad2.0/', list(['mean_270619-video4_022-013_opened_cc48.png']), array([  1.        , 180.51925339,   6.43171415,   3.        ,\n",
       "         1.98576739])),\n",
       "       (300, '/media/alessandro/DATA/tesi/Nebbia/pre-processed_data/270619/video4_022/trigger_thr0.005_cl9_op3/cc_filtered_2den0.81_gausrad2.0/', list(['mean_270619-video4_022-013_opened_cc57.png', 'mean_270619-video4_022-014_opened_cc15.png']), array([  2.        , 116.19608244,  10.57423998,   1.5       ,\n",
       "         1.        ])),\n",
       "       (301, '/media/alessandro/DATA/tesi/Nebbia/pre-processed_data/270619/video4_022/trigger_thr0.005_cl9_op3/cc_filtered_2den0.81_gausrad2.0/', list(['mean_270619-video4_022-014_opened_cc01.png']), array([  1.        , 408.62306704,  10.8322791 ,   4.        ,\n",
       "         1.1437726 ])),\n",
       "       (302, '/media/alessandro/DATA/tesi/Nebbia/pre-processed_data/270619/video4_022/trigger_thr0.005_cl9_op3/cc_filtered_2den0.81_gausrad2.0/', list(['mean_270619-video4_022-019_opened_cc06.png']), array([  1.        , 279.93618641,   6.18050975,   6.        ,\n",
       "         1.5109848 ])),\n",
       "       (303, '/media/alessandro/DATA/tesi/Nebbia/pre-processed_data/270619/video4_022/trigger_thr0.005_cl9_op3/cc_filtered_2den0.81_gausrad2.0/', list(['mean_270619-video4_022-019_opened_cc18.png']), array([  1.        , 347.85146039,   7.4679474 ,   6.        ,\n",
       "         2.31648871])),\n",
       "       (304, '/media/alessandro/DATA/tesi/Nebbia/pre-processed_data/270619/video4_022/trigger_thr0.005_cl9_op3/cc_filtered_2den0.81_gausrad2.0/', list(['mean_270619-video4_022-013_opened_cc08.png']), array([  1.        , 261.4900052 ,  12.65258635,   3.        ,\n",
       "         1.52970454])),\n",
       "       (305, '/media/alessandro/DATA/tesi/Nebbia/pre-processed_data/270619/video4_022/trigger_thr0.005_cl9_op3/cc_filtered_2den0.81_gausrad2.0/', list(['mean_270619-video4_022-019_opened_cc83.png']), array([  1.        , 685.80503114,  13.29730997,   8.        ,\n",
       "         2.10912127])),\n",
       "       (306, '/media/alessandro/DATA/tesi/Nebbia/pre-processed_data/270619/video4_022/trigger_thr0.005_cl9_op3/cc_filtered_2den0.81_gausrad2.0/', list(['mean_270619-video4_022-020_opened_cc01.png']), array([1.00000000e+00, 1.08156162e+03, 7.71072946e+00, 9.00000000e+00,\n",
       "       2.30412780e+00])),\n",
       "       (307, '/media/alessandro/DATA/tesi/Nebbia/pre-processed_data/270619/video4_022/trigger_thr0.005_cl9_op3/cc_filtered_2den0.81_gausrad2.0/', list(['mean_270619-video4_022-020_opened_cc04.png']), array([ 1.        , 86.02860206,  7.04863555,  2.        ,  1.38737765])),\n",
       "       (308, '/media/alessandro/DATA/tesi/Nebbia/pre-processed_data/270619/video4_022/trigger_thr0.005_cl9_op3/cc_filtered_2den0.81_gausrad2.0/', list(['mean_270619-video4_022-020_opened_cc11.png']), array([  1.        , 168.634424  ,   7.34050345,   3.        ,\n",
       "         1.114246  ])),\n",
       "       (309, '/media/alessandro/DATA/tesi/Nebbia/pre-processed_data/270619/video4_022/trigger_thr0.005_cl9_op3/cc_filtered_2den0.81_gausrad2.0/', list(['mean_270619-video4_022-020_opened_cc26.png']), array([  1.        , 312.74779483,   7.66387736,   3.        ,\n",
       "         1.91898706])),\n",
       "       (310, '/media/alessandro/DATA/tesi/Nebbia/pre-processed_data/270619/video4_022/trigger_thr0.005_cl9_op3/cc_filtered_2den0.81_gausrad2.0/', list(['mean_270619-video4_022-020_opened_cc28.png']), array([  1.        , 144.81461988,   6.67262095,   4.        ,\n",
       "         1.30739803])),\n",
       "       (311, '/media/alessandro/DATA/tesi/Nebbia/pre-processed_data/270619/video4_022/trigger_thr0.005_cl9_op3/cc_filtered_2den0.81_gausrad2.0/', list(['mean_270619-video4_022-021_opened_cc12.png']), array([ 1.        , 85.76770311, 25.73229689,  1.        ,  1.        ])),\n",
       "       (312, '/media/alessandro/DATA/tesi/Nebbia/pre-processed_data/270619/video4_022/trigger_thr0.005_cl9_op3/cc_filtered_2den0.81_gausrad2.0/', list(['mean_270619-video4_022-021_opened_cc15.png']), array([ 1.        , 74.76517528,  4.73482472,  1.        ,  1.59909504])),\n",
       "       (313, '/media/alessandro/DATA/tesi/Nebbia/pre-processed_data/270619/video4_022/trigger_thr0.005_cl9_op3/cc_filtered_2den0.81_gausrad2.0/', list(['mean_270619-video4_022-022_opened_cc45.png']), array([  1.        , 178.65890792,   7.52560622,   2.        ,\n",
       "         1.21827366])),\n",
       "       (314, '/media/alessandro/DATA/tesi/Nebbia/pre-processed_data/270619/video4_022/trigger_thr0.005_cl9_op3/cc_filtered_2den0.81_gausrad2.0/', list(['mean_270619-video4_022-022_opened_cc57.png']), array([  1.        , 135.92503357,  10.41376829,   2.        ,\n",
       "         1.04465039])),\n",
       "       (315, '/media/alessandro/DATA/tesi/Nebbia/pre-processed_data/270619/video4_023/trigger_thr0.005_cl9_op3/cc_filtered_2den0.81_gausrad2.0/', list(['mean_270619-video4_023-004_opened_cc05.png', 'mean_270619-video4_023-005_opened_cc11.png', 'mean_270619-video4_023-006_opened_cc06.png']), array([  3.        , 120.37723273,  24.12276727,   1.        ,\n",
       "         1.00719642])),\n",
       "       (316, '/media/alessandro/DATA/tesi/Nebbia/pre-processed_data/270619/video4_023/trigger_thr0.005_cl9_op3/cc_filtered_2den0.81_gausrad2.0/', list(['mean_270619-video4_023-005_opened_cc05.png']), array([  1.        , 255.18054735,   6.0933611 ,   5.        ,\n",
       "         1.21282379])),\n",
       "       (317, '/media/alessandro/DATA/tesi/Nebbia/pre-processed_data/270619/video4_023/trigger_thr0.005_cl9_op3/cc_filtered_2den0.81_gausrad2.0/', list(['mean_270619-video4_023-005_opened_cc14.png']), array([  1.        , 300.30769629,   4.89931508,   5.        ,\n",
       "         2.13960374])),\n",
       "       (318, '/media/alessandro/DATA/tesi/Nebbia/pre-processed_data/270619/video4_023/trigger_thr0.005_cl9_op3/cc_filtered_2den0.81_gausrad2.0/', list(['mean_270619-video4_023-007_opened_cc08.png']), array([  1.        , 241.79660117,   5.71196455,   3.        ,\n",
       "         1.21469027])),\n",
       "       (319, '/media/alessandro/DATA/tesi/Nebbia/pre-processed_data/270619/video4_023/trigger_thr0.005_cl9_op3/cc_filtered_2den0.81_gausrad2.0/', list(['mean_270619-video4_023-008_opened_cc05.png']), array([  1.        , 147.28733949,  21.71266051,   1.        ,\n",
       "         1.01403995])),\n",
       "       (320, '/media/alessandro/DATA/tesi/Nebbia/pre-processed_data/270619/video4_023/trigger_thr0.005_cl9_op3/cc_filtered_2den0.81_gausrad2.0/', list(['mean_270619-video4_023-008_opened_cc15.png', 'mean_270619-video4_023-009_opened_cc09.png']), array([  2.        , 108.99158825,  10.00870059,   1.5       ,\n",
       "         1.04312916])),\n",
       "       (321, '/media/alessandro/DATA/tesi/Nebbia/pre-processed_data/270619/video4_023/trigger_thr0.005_cl9_op3/cc_filtered_2den0.81_gausrad2.0/', list(['mean_270619-video4_023-009_opened_cc08.png']), array([  1.        , 145.60396388,   9.24030335,   2.        ,\n",
       "         1.13721866])),\n",
       "       (322, '/media/alessandro/DATA/tesi/Nebbia/pre-processed_data/270619/video4_023/trigger_thr0.005_cl9_op3/cc_filtered_2den0.81_gausrad2.0/', list(['mean_270619-video4_023-041_opened_cc15.png', 'mean_270619-video4_023-042_opened_cc41.png', 'mean_270619-video4_023-043_opened_cc108.png', 'mean_270619-video4_023-044_opened_cc68.png']), array([4. , nan, nan, 1.5, nan])),\n",
       "       (323, '/media/alessandro/DATA/tesi/Nebbia/pre-processed_data/270619/video4_023/trigger_thr0.005_cl9_op3/cc_filtered_2den0.81_gausrad2.0/', list(['mean_270619-video4_023-043_opened_cc73.png']), array([  1.        , 109.24821516,  14.57208314,   2.        ,\n",
       "         1.16392875])),\n",
       "       (324, '/media/alessandro/DATA/tesi/Nebbia/pre-processed_data/270619/video4_023/trigger_thr0.005_cl9_op3/cc_filtered_2den0.81_gausrad2.0/', list(['mean_270619-video4_023-044_opened_cc34.png']), array([1.00000000e+00, 1.16374161e+03, 4.78769619e+00, 1.80000000e+01,\n",
       "       2.61973102e+00])),\n",
       "       (325, '/media/alessandro/DATA/tesi/Nebbia/pre-processed_data/270619/video4_023/trigger_thr0.005_cl9_op3/cc_filtered_2den0.81_gausrad2.0/', list(['mean_270619-video4_023-044_opened_cc50.png']), array([  1.        , 441.52266345,   6.46654568,   8.        ,\n",
       "         2.16638399])),\n",
       "       (326, '/media/alessandro/DATA/tesi/Nebbia/pre-processed_data/270619/video4_023/trigger_thr0.005_cl9_op3/cc_filtered_2den0.81_gausrad2.0/', list(['mean_270619-video4_023-044_opened_cc59.png']), array([ 1.        , 90.5207846 ,  7.35899607,  2.        ,  1.50513015])),\n",
       "       (327, '/media/alessandro/DATA/tesi/Nebbia/pre-processed_data/270619/video4_023/trigger_thr0.005_cl9_op3/cc_filtered_2den0.81_gausrad2.0/', list(['mean_270619-video4_023-006_opened_cc02.png']), array([  1.        , 138.69169325,   4.55365957,   3.        ,\n",
       "         1.81719898])),\n",
       "       (328, '/media/alessandro/DATA/tesi/Nebbia/pre-processed_data/270619/video4_023/trigger_thr0.005_cl9_op3/cc_filtered_2den0.81_gausrad2.0/', list(['mean_270619-video4_023-042_opened_cc02.png']), array([  1.        , 335.17608902,   7.5080157 ,   7.        ,\n",
       "         1.46152056])),\n",
       "       (329, '/media/alessandro/DATA/tesi/Nebbia/pre-processed_data/270619/video4_024/trigger_thr0.005_cl9_op3/cc_filtered_2den0.81_gausrad2.0/', list(['mean_270619-video4_024-016_opened_cc02.png']), array([1.00000000e+00, 1.00248999e+03, 7.02345084e+00, 1.10000000e+01,\n",
       "       1.85774711e+00])),\n",
       "       (330, '/media/alessandro/DATA/tesi/Nebbia/pre-processed_data/270619/video4_024/trigger_thr0.005_cl9_op3/cc_filtered_2den0.81_gausrad2.0/', list(['mean_270619-video4_024-030_opened_cc08.png']), array([  1.        , 117.65470485,  10.84529515,   1.        ,\n",
       "         1.06341027])),\n",
       "       (331, '/media/alessandro/DATA/tesi/Nebbia/pre-processed_data/270619/video4_024/trigger_thr0.005_cl9_op3/cc_filtered_2den0.81_gausrad2.0/', list(['mean_270619-video4_024-033_opened_cc07.png']), array([  1.        , 115.62485294,   9.37514706,   1.        ,\n",
       "         1.04836614])),\n",
       "       (332, '/media/alessandro/DATA/tesi/Nebbia/pre-processed_data/270619/video4_024/trigger_thr0.005_cl9_op3/cc_filtered_2den0.81_gausrad2.0/', list(['mean_270619-video4_024-033_opened_cc11.png']), array([ 1.        , 75.93743885, 12.06256115,  1.        ,  1.        ])),\n",
       "       (333, '/media/alessandro/DATA/tesi/Nebbia/pre-processed_data/270619/video4_024/trigger_thr0.005_cl9_op3/cc_filtered_2den0.81_gausrad2.0/', list(['mean_270619-video4_024-033_opened_cc12.png']), array([  1.        , 109.15282291,  10.84717709,   1.        ,\n",
       "         1.01692725])),\n",
       "       (334, '/media/alessandro/DATA/tesi/Nebbia/pre-processed_data/270619/video4_024/trigger_thr0.005_cl9_op3/cc_filtered_2den0.81_gausrad2.0/', list(['mean_270619-video4_024-033_opened_cc13.png']), array([  1.        , 148.20822786,  10.1071257 ,   3.        ,\n",
       "         1.18441574])),\n",
       "       (335, '/media/alessandro/DATA/tesi/Nebbia/pre-processed_data/270619/video4_024/trigger_thr0.005_cl9_op3/cc_filtered_2den0.81_gausrad2.0/', list(['mean_270619-video4_024-034_opened_cc05.png']), array([  1.        , 240.03589905,  12.43962617,   2.        ,\n",
       "         1.        ])),\n",
       "       (336, '/media/alessandro/DATA/tesi/Nebbia/pre-processed_data/270619/video4_024/trigger_thr0.005_cl9_op3/cc_filtered_2den0.81_gausrad2.0/', list(['mean_270619-video4_024-037_opened_cc06.png']), array([  1.        , 103.81484476,  12.18515524,   1.        ,\n",
       "         1.01990242])),\n",
       "       (337, '/media/alessandro/DATA/tesi/Nebbia/pre-processed_data/270619/video4_025/trigger_thr0.005_cl9_op3/cc_filtered_2den0.81_gausrad2.0/', list(['mean_270619-video4_025-003_opened_cc04.png']), array([ 1.        , 99.32848459,  7.67151541,  1.        ,  1.44793094])),\n",
       "       (338, '/media/alessandro/DATA/tesi/Nebbia/pre-processed_data/270619/video4_025/trigger_thr0.005_cl9_op3/cc_filtered_2den0.81_gausrad2.0/', list(['mean_270619-video4_025-011_opened_cc21.png']), array([  1.        , 252.45702149,   5.6749856 ,   4.        ,\n",
       "         2.66513136])),\n",
       "       (339, '/media/alessandro/DATA/tesi/Nebbia/pre-processed_data/270619/video4_025/trigger_thr0.005_cl9_op3/cc_filtered_2den0.81_gausrad2.0/', list(['mean_270619-video4_025-011_opened_cc54.png']), array([  1.        , 139.33863397,   7.43481152,   3.        ,\n",
       "         1.45802449])),\n",
       "       (340, '/media/alessandro/DATA/tesi/Nebbia/pre-processed_data/270619/video4_025/trigger_thr0.005_cl9_op3/cc_filtered_2den0.81_gausrad2.0/', list(['mean_270619-video4_025-037_opened_cc03.png']), array([ 1.        , 88.20409589,  8.9094224 ,  2.        ,  1.07470115])),\n",
       "       (341, '/media/alessandro/DATA/tesi/Nebbia/pre-processed_data/270619/video4_025/trigger_thr0.005_cl9_op3/cc_filtered_2den0.81_gausrad2.0/', list(['mean_270619-video4_025-040_opened_cc01.png']), array([1.00000000e+00, 1.63272126e+03, 7.62859019e+00, 2.30000000e+01,\n",
       "       2.97734696e+00])),\n",
       "       (342, '/media/alessandro/DATA/tesi/Nebbia/pre-processed_data/270619/video4_025/trigger_thr0.005_cl9_op3/cc_filtered_2den0.81_gausrad2.0/', list(['mean_270619-video4_025-040_opened_cc15.png']), array([  1.        , 196.48010863,   2.79523404,   3.        ,\n",
       "         1.91154197])),\n",
       "       (343, '/media/alessandro/DATA/tesi/Nebbia/pre-processed_data/270619/video4_025/trigger_thr0.005_cl9_op3/cc_filtered_2den0.81_gausrad2.0/', list(['mean_270619-video4_025-040_opened_cc32.png']), array([  1.        , 133.78125417,   3.61845853,   3.        ,\n",
       "         1.86582738])),\n",
       "       (344, '/media/alessandro/DATA/tesi/Nebbia/pre-processed_data/270619/video4_025/trigger_thr0.005_cl9_op3/cc_filtered_2den0.81_gausrad2.0/', list(['mean_270619-video4_025-040_opened_cc61.png']), array([  1.        , 101.37276276,   8.46743741,   3.        ,\n",
       "         1.54091136])),\n",
       "       (345, '/media/alessandro/DATA/tesi/Nebbia/pre-processed_data/270619/video4_026/trigger_thr0.005_cl9_op3/cc_filtered_2den0.81_gausrad2.0/', list(['mean_270619-video4_026-016_opened_cc09.png']), array([ 1.        , 39.03121954,  6.96878046,  1.        ,  1.17844361])),\n",
       "       (346, '/media/alessandro/DATA/tesi/Nebbia/pre-processed_data/270619/video4_026/trigger_thr0.005_cl9_op3/cc_filtered_2den0.81_gausrad2.0/', list(['mean_270619-video4_026-016_opened_cc60.png', 'mean_270619-video4_026-017_opened_cc35.png']), array([  2.        , 148.60391686,   8.26919997,   2.        ,\n",
       "         1.09536016])),\n",
       "       (347, '/media/alessandro/DATA/tesi/Nebbia/pre-processed_data/270619/video4_026/trigger_thr0.005_cl9_op3/cc_filtered_2den0.81_gausrad2.0/', list(['mean_270619-video4_026-016_opened_cc76.png']), array([  1.        , 362.12354421,   5.98109761,   6.        ,\n",
       "         1.75794342])),\n",
       "       (348, '/media/alessandro/DATA/tesi/Nebbia/pre-processed_data/270619/video4_026/trigger_thr0.005_cl9_op3/cc_filtered_2den0.81_gausrad2.0/', list(['mean_270619-video4_026-016_opened_cc84.png']), array([  1.        , 119.54979041,   3.56088625,   2.        ,\n",
       "         1.71681195])),\n",
       "       (349, '/media/alessandro/DATA/tesi/Nebbia/pre-processed_data/270619/video4_026/trigger_thr0.005_cl9_op3/cc_filtered_2den0.81_gausrad2.0/', list(['mean_270619-video4_026-018_opened_cc11.png']), array([  1.        , 111.42037688,  15.49600051,   2.        ,\n",
       "         1.        ])),\n",
       "       (350, '/media/alessandro/DATA/tesi/Nebbia/pre-processed_data/270619/video4_026/trigger_thr0.005_cl9_op3/cc_filtered_2den0.81_gausrad2.0/', list(['mean_270619-video4_026-021_opened_cc79.png']), array([  1.        , 223.7255429 ,   8.37250018,   3.        ,\n",
       "         1.26457154])),\n",
       "       (351, '/media/alessandro/DATA/tesi/Nebbia/pre-processed_data/270619/video4_026/trigger_thr0.005_cl9_op3/cc_filtered_2den0.81_gausrad2.0/', list(['mean_270619-video4_026-021_opened_cc82.png']), array([  1.        , 255.02368001,   8.52281147,   3.        ,\n",
       "         1.28791626])),\n",
       "       (352, '/media/alessandro/DATA/tesi/Nebbia/pre-processed_data/270619/video4_026/trigger_thr0.005_cl9_op3/cc_filtered_2den0.81_gausrad2.0/', list(['mean_270619-video4_026-031_opened_cc10.png']), array([  1.        , 995.94175653,  13.33056535,   8.        ,\n",
       "         2.27111253])),\n",
       "       (353, '/media/alessandro/DATA/tesi/Nebbia/pre-processed_data/270619/video4_026/trigger_thr0.005_cl9_op3/cc_filtered_2den0.81_gausrad2.0/', list(['mean_270619-video4_026-031_opened_cc18.png']), array([  1.        , 137.81839276,   9.17972504,   3.        ,\n",
       "         1.03766673])),\n",
       "       (354, '/media/alessandro/DATA/tesi/Nebbia/pre-processed_data/270619/video4_026/trigger_thr0.005_cl9_op3/cc_filtered_2den0.81_gausrad2.0/', list(['mean_270619-video4_026-037_opened_cc20.png']), array([  1.        , 168.40660644,   8.79585023,   2.        ,\n",
       "         1.28044574])),\n",
       "       (355, '/media/alessandro/DATA/tesi/Nebbia/pre-processed_data/270619/video4_026/trigger_thr0.005_cl9_op3/cc_filtered_2den0.81_gausrad2.0/', list(['mean_270619-video4_026-016_opened_cc25.png']), array([  1.        , 306.97429419,   7.60121707,   4.        ,\n",
       "         1.92624179])),\n",
       "       (356, '/media/alessandro/DATA/tesi/Nebbia/pre-processed_data/270619/video4_027/trigger_thr0.005_cl9_op3/cc_filtered_2den0.81_gausrad2.0/', list(['mean_270619-video4_027-011_opened_cc26.png']), array([  1.        , 124.61460885,   6.606309  ,   3.        ,\n",
       "         1.20797329])),\n",
       "       (357, '/media/alessandro/DATA/tesi/Nebbia/pre-processed_data/270619/video4_027/trigger_thr0.005_cl9_op3/cc_filtered_2den0.81_gausrad2.0/', list(['mean_270619-video4_027-034_opened_cc04.png', 'mean_270619-video4_027-035_opened_cc04.png']), array([  2.        , 216.04088012,   8.99351295,   2.        ,\n",
       "         1.12062724])),\n",
       "       (358, '/media/alessandro/DATA/tesi/Nebbia/pre-processed_data/270619/video4_027/trigger_thr0.005_cl9_op3/cc_filtered_2den0.81_gausrad2.0/', list(['mean_270619-video4_027-035_opened_cc16.png']), array([  1.        , 117.39895008,   8.02823639,   3.        ,\n",
       "         1.03864411])),\n",
       "       (359, '/media/alessandro/DATA/tesi/Nebbia/pre-processed_data/270619/video4_027/trigger_thr0.005_cl9_op3/cc_filtered_2den0.81_gausrad2.0/', list(['mean_270619-video4_027-043_opened_cc66.png']), array([  1.        , 204.15588086,  11.80877402,   2.        ,\n",
       "         1.17759595])),\n",
       "       (360, '/media/alessandro/DATA/tesi/Nebbia/pre-processed_data/270619/video4_027/trigger_thr0.005_cl9_op3/cc_filtered_2den0.81_gausrad2.0/', list(['mean_270619-video4_027-048_opened_cc19.png']), array([  1.        , 108.61468162,  10.11157216,   3.        ,\n",
       "         1.09706203])),\n",
       "       (361, '/media/alessandro/DATA/tesi/Nebbia/pre-processed_data/270619/video4_028/trigger_thr0.005_cl9_op3/cc_filtered_2den0.81_gausrad2.0/', list(['mean_270619-video4_028-007_opened_cc06.png']), array([  1.        , 694.14423131,   7.21309048,  11.        ,\n",
       "         2.13002851])),\n",
       "       (362, '/media/alessandro/DATA/tesi/Nebbia/pre-processed_data/270619/video4_028/trigger_thr0.005_cl9_op3/cc_filtered_2den0.81_gausrad2.0/', list(['mean_270619-video4_028-007_opened_cc16.png']), array([ 1.        , 89.17329305,  5.32670695,  1.        ,  1.6267191 ])),\n",
       "       (363, '/media/alessandro/DATA/tesi/Nebbia/pre-processed_data/270619/video4_028/trigger_thr0.005_cl9_op3/cc_filtered_2den0.81_gausrad2.0/', list(['mean_270619-video4_028-007_opened_cc24.png']), array([  1.        , 257.7803274 ,   5.00666815,   5.        ,\n",
       "         1.44526491])),\n",
       "       (364, '/media/alessandro/DATA/tesi/Nebbia/pre-processed_data/270619/video4_028/trigger_thr0.005_cl9_op3/cc_filtered_2den0.81_gausrad2.0/', list(['mean_270619-video4_028-007_opened_cc28.png', 'mean_270619-video4_028-008_opened_cc06.png']), array([  2.        , 124.68171378,  16.56828622,   1.        ,\n",
       "         1.        ])),\n",
       "       (365, '/media/alessandro/DATA/tesi/Nebbia/pre-processed_data/270619/video4_028/trigger_thr0.005_cl9_op3/cc_filtered_2den0.81_gausrad2.0/', list(['mean_270619-video4_028-007_opened_cc56.png']), array([  1.        , 124.44053962,   8.85810167,   3.        ,\n",
       "         1.34211096])),\n",
       "       (366, '/media/alessandro/DATA/tesi/Nebbia/pre-processed_data/270619/video4_028/trigger_thr0.005_cl9_op3/cc_filtered_2den0.81_gausrad2.0/', list(['mean_270619-video4_028-010_opened_cc38.png']), array([  1.        , 670.08348179,   4.84640638,  12.        ,\n",
       "         2.58758068])),\n",
       "       (367, '/media/alessandro/DATA/tesi/Nebbia/pre-processed_data/270619/video4_028/trigger_thr0.005_cl9_op3/cc_filtered_2den0.81_gausrad2.0/', list(['mean_270619-video4_028-010_opened_cc44.png']), array([  1.        , 107.29995312,   3.83147125,   2.        ,\n",
       "         1.65468958])),\n",
       "       (368, '/media/alessandro/DATA/tesi/Nebbia/pre-processed_data/270619/video4_028/trigger_thr0.005_cl9_op3/cc_filtered_2den0.81_gausrad2.0/', list(['mean_270619-video4_028-011_opened_cc03.png']), array([  1.        , 894.92582224,  12.30343382,   4.        ,\n",
       "         1.65883518]))],\n",
       "      dtype=[('ID', '<i8'), ('path', '<U200'), ('names', 'O'), ('values', 'O')])"
      ]
     },
     "execution_count": 18,
     "metadata": {},
     "output_type": "execute_result"
    }
   ],
   "source": [
    "d.slim_particles"
   ]
  },
  {
   "cell_type": "code",
   "execution_count": 41,
   "metadata": {
    "scrolled": false
   },
   "outputs": [
    {
     "name": "stdout",
     "output_type": "stream",
     "text": [
      "Help on method plot in module Clusterizer:\n",
      "\n",
      "plot(labels=[]) method of Clusterizer.Clusterizer instance\n",
      "    Before running this function type\n",
      "    \n",
      "        %matplotlib notebook\n",
      "        \n",
      "    Use the lists to select axis\n",
      "    \n",
      "    Click near a data point to select it:\n",
      "        press 'f' to view its pre-processed Frame picture\n",
      "        press 't' to view its Trace analysis (takes a bit of time)\n",
      "        press 'n' to go to the Next trace of that particle\n",
      "        press 'r' to Recall the selected particle after you changed the axis\n",
      "        press 'e' to view its frame from the vidEo\n",
      "        press 'a' to highlight All components in the same video frame of the selected particle\n",
      "        press 'w' to close (Waste) all figures windows \n",
      "        press 'b' to change the laBel of the selected particle\n",
      "        press 's' to Save the capacitor\n",
      "        \n",
      "    If you want to use diffrent labels for the data point run plot(labels=<mylabels>)\n",
      "\n"
     ]
    }
   ],
   "source": [
    "help(d.plot)"
   ]
  },
  {
   "cell_type": "code",
   "execution_count": 16,
   "metadata": {},
   "outputs": [
    {
     "data": {
      "application/vnd.jupyter.widget-view+json": {
       "model_id": "95bcfe3b2887400881b4d5d9ec4351ab"
      }
     },
     "metadata": {},
     "output_type": "display_data"
    }
   ],
   "source": [
    "%matplotlib notebook\n",
    "d.plot()"
   ]
  },
  {
   "cell_type": "code",
   "execution_count": 24,
   "metadata": {},
   "outputs": [
    {
     "data": {
      "text/plain": [
       "array([45,  2,  3])"
      ]
     },
     "execution_count": 24,
     "metadata": {},
     "output_type": "execute_result"
    }
   ],
   "source": [
    "a = [1,2,3]\n",
    "b = np.copy(a)\n",
    "b[0] = 45\n",
    "b"
   ]
  },
  {
   "cell_type": "code",
   "execution_count": 25,
   "metadata": {
    "scrolled": false
   },
   "outputs": [
    {
     "data": {
      "application/javascript": [
       "/* Put everything inside the global mpl namespace */\n",
       "window.mpl = {};\n",
       "\n",
       "\n",
       "mpl.get_websocket_type = function() {\n",
       "    if (typeof(WebSocket) !== 'undefined') {\n",
       "        return WebSocket;\n",
       "    } else if (typeof(MozWebSocket) !== 'undefined') {\n",
       "        return MozWebSocket;\n",
       "    } else {\n",
       "        alert('Your browser does not have WebSocket support.' +\n",
       "              'Please try Chrome, Safari or Firefox ≥ 6. ' +\n",
       "              'Firefox 4 and 5 are also supported but you ' +\n",
       "              'have to enable WebSockets in about:config.');\n",
       "    };\n",
       "}\n",
       "\n",
       "mpl.figure = function(figure_id, websocket, ondownload, parent_element) {\n",
       "    this.id = figure_id;\n",
       "\n",
       "    this.ws = websocket;\n",
       "\n",
       "    this.supports_binary = (this.ws.binaryType != undefined);\n",
       "\n",
       "    if (!this.supports_binary) {\n",
       "        var warnings = document.getElementById(\"mpl-warnings\");\n",
       "        if (warnings) {\n",
       "            warnings.style.display = 'block';\n",
       "            warnings.textContent = (\n",
       "                \"This browser does not support binary websocket messages. \" +\n",
       "                    \"Performance may be slow.\");\n",
       "        }\n",
       "    }\n",
       "\n",
       "    this.imageObj = new Image();\n",
       "\n",
       "    this.context = undefined;\n",
       "    this.message = undefined;\n",
       "    this.canvas = undefined;\n",
       "    this.rubberband_canvas = undefined;\n",
       "    this.rubberband_context = undefined;\n",
       "    this.format_dropdown = undefined;\n",
       "\n",
       "    this.image_mode = 'full';\n",
       "\n",
       "    this.root = $('<div/>');\n",
       "    this._root_extra_style(this.root)\n",
       "    this.root.attr('style', 'display: inline-block');\n",
       "\n",
       "    $(parent_element).append(this.root);\n",
       "\n",
       "    this._init_header(this);\n",
       "    this._init_canvas(this);\n",
       "    this._init_toolbar(this);\n",
       "\n",
       "    var fig = this;\n",
       "\n",
       "    this.waiting = false;\n",
       "\n",
       "    this.ws.onopen =  function () {\n",
       "            fig.send_message(\"supports_binary\", {value: fig.supports_binary});\n",
       "            fig.send_message(\"send_image_mode\", {});\n",
       "            if (mpl.ratio != 1) {\n",
       "                fig.send_message(\"set_dpi_ratio\", {'dpi_ratio': mpl.ratio});\n",
       "            }\n",
       "            fig.send_message(\"refresh\", {});\n",
       "        }\n",
       "\n",
       "    this.imageObj.onload = function() {\n",
       "            if (fig.image_mode == 'full') {\n",
       "                // Full images could contain transparency (where diff images\n",
       "                // almost always do), so we need to clear the canvas so that\n",
       "                // there is no ghosting.\n",
       "                fig.context.clearRect(0, 0, fig.canvas.width, fig.canvas.height);\n",
       "            }\n",
       "            fig.context.drawImage(fig.imageObj, 0, 0);\n",
       "        };\n",
       "\n",
       "    this.imageObj.onunload = function() {\n",
       "        fig.ws.close();\n",
       "    }\n",
       "\n",
       "    this.ws.onmessage = this._make_on_message_function(this);\n",
       "\n",
       "    this.ondownload = ondownload;\n",
       "}\n",
       "\n",
       "mpl.figure.prototype._init_header = function() {\n",
       "    var titlebar = $(\n",
       "        '<div class=\"ui-dialog-titlebar ui-widget-header ui-corner-all ' +\n",
       "        'ui-helper-clearfix\"/>');\n",
       "    var titletext = $(\n",
       "        '<div class=\"ui-dialog-title\" style=\"width: 100%; ' +\n",
       "        'text-align: center; padding: 3px;\"/>');\n",
       "    titlebar.append(titletext)\n",
       "    this.root.append(titlebar);\n",
       "    this.header = titletext[0];\n",
       "}\n",
       "\n",
       "\n",
       "\n",
       "mpl.figure.prototype._canvas_extra_style = function(canvas_div) {\n",
       "\n",
       "}\n",
       "\n",
       "\n",
       "mpl.figure.prototype._root_extra_style = function(canvas_div) {\n",
       "\n",
       "}\n",
       "\n",
       "mpl.figure.prototype._init_canvas = function() {\n",
       "    var fig = this;\n",
       "\n",
       "    var canvas_div = $('<div/>');\n",
       "\n",
       "    canvas_div.attr('style', 'position: relative; clear: both; outline: 0');\n",
       "\n",
       "    function canvas_keyboard_event(event) {\n",
       "        return fig.key_event(event, event['data']);\n",
       "    }\n",
       "\n",
       "    canvas_div.keydown('key_press', canvas_keyboard_event);\n",
       "    canvas_div.keyup('key_release', canvas_keyboard_event);\n",
       "    this.canvas_div = canvas_div\n",
       "    this._canvas_extra_style(canvas_div)\n",
       "    this.root.append(canvas_div);\n",
       "\n",
       "    var canvas = $('<canvas/>');\n",
       "    canvas.addClass('mpl-canvas');\n",
       "    canvas.attr('style', \"left: 0; top: 0; z-index: 0; outline: 0\")\n",
       "\n",
       "    this.canvas = canvas[0];\n",
       "    this.context = canvas[0].getContext(\"2d\");\n",
       "\n",
       "    var backingStore = this.context.backingStorePixelRatio ||\n",
       "\tthis.context.webkitBackingStorePixelRatio ||\n",
       "\tthis.context.mozBackingStorePixelRatio ||\n",
       "\tthis.context.msBackingStorePixelRatio ||\n",
       "\tthis.context.oBackingStorePixelRatio ||\n",
       "\tthis.context.backingStorePixelRatio || 1;\n",
       "\n",
       "    mpl.ratio = (window.devicePixelRatio || 1) / backingStore;\n",
       "\n",
       "    var rubberband = $('<canvas/>');\n",
       "    rubberband.attr('style', \"position: absolute; left: 0; top: 0; z-index: 1;\")\n",
       "\n",
       "    var pass_mouse_events = true;\n",
       "\n",
       "    canvas_div.resizable({\n",
       "        start: function(event, ui) {\n",
       "            pass_mouse_events = false;\n",
       "        },\n",
       "        resize: function(event, ui) {\n",
       "            fig.request_resize(ui.size.width, ui.size.height);\n",
       "        },\n",
       "        stop: function(event, ui) {\n",
       "            pass_mouse_events = true;\n",
       "            fig.request_resize(ui.size.width, ui.size.height);\n",
       "        },\n",
       "    });\n",
       "\n",
       "    function mouse_event_fn(event) {\n",
       "        if (pass_mouse_events)\n",
       "            return fig.mouse_event(event, event['data']);\n",
       "    }\n",
       "\n",
       "    rubberband.mousedown('button_press', mouse_event_fn);\n",
       "    rubberband.mouseup('button_release', mouse_event_fn);\n",
       "    // Throttle sequential mouse events to 1 every 20ms.\n",
       "    rubberband.mousemove('motion_notify', mouse_event_fn);\n",
       "\n",
       "    rubberband.mouseenter('figure_enter', mouse_event_fn);\n",
       "    rubberband.mouseleave('figure_leave', mouse_event_fn);\n",
       "\n",
       "    canvas_div.on(\"wheel\", function (event) {\n",
       "        event = event.originalEvent;\n",
       "        event['data'] = 'scroll'\n",
       "        if (event.deltaY < 0) {\n",
       "            event.step = 1;\n",
       "        } else {\n",
       "            event.step = -1;\n",
       "        }\n",
       "        mouse_event_fn(event);\n",
       "    });\n",
       "\n",
       "    canvas_div.append(canvas);\n",
       "    canvas_div.append(rubberband);\n",
       "\n",
       "    this.rubberband = rubberband;\n",
       "    this.rubberband_canvas = rubberband[0];\n",
       "    this.rubberband_context = rubberband[0].getContext(\"2d\");\n",
       "    this.rubberband_context.strokeStyle = \"#000000\";\n",
       "\n",
       "    this._resize_canvas = function(width, height) {\n",
       "        // Keep the size of the canvas, canvas container, and rubber band\n",
       "        // canvas in synch.\n",
       "        canvas_div.css('width', width)\n",
       "        canvas_div.css('height', height)\n",
       "\n",
       "        canvas.attr('width', width * mpl.ratio);\n",
       "        canvas.attr('height', height * mpl.ratio);\n",
       "        canvas.attr('style', 'width: ' + width + 'px; height: ' + height + 'px;');\n",
       "\n",
       "        rubberband.attr('width', width);\n",
       "        rubberband.attr('height', height);\n",
       "    }\n",
       "\n",
       "    // Set the figure to an initial 600x600px, this will subsequently be updated\n",
       "    // upon first draw.\n",
       "    this._resize_canvas(600, 600);\n",
       "\n",
       "    // Disable right mouse context menu.\n",
       "    $(this.rubberband_canvas).bind(\"contextmenu\",function(e){\n",
       "        return false;\n",
       "    });\n",
       "\n",
       "    function set_focus () {\n",
       "        canvas.focus();\n",
       "        canvas_div.focus();\n",
       "    }\n",
       "\n",
       "    window.setTimeout(set_focus, 100);\n",
       "}\n",
       "\n",
       "mpl.figure.prototype._init_toolbar = function() {\n",
       "    var fig = this;\n",
       "\n",
       "    var nav_element = $('<div/>')\n",
       "    nav_element.attr('style', 'width: 100%');\n",
       "    this.root.append(nav_element);\n",
       "\n",
       "    // Define a callback function for later on.\n",
       "    function toolbar_event(event) {\n",
       "        return fig.toolbar_button_onclick(event['data']);\n",
       "    }\n",
       "    function toolbar_mouse_event(event) {\n",
       "        return fig.toolbar_button_onmouseover(event['data']);\n",
       "    }\n",
       "\n",
       "    for(var toolbar_ind in mpl.toolbar_items) {\n",
       "        var name = mpl.toolbar_items[toolbar_ind][0];\n",
       "        var tooltip = mpl.toolbar_items[toolbar_ind][1];\n",
       "        var image = mpl.toolbar_items[toolbar_ind][2];\n",
       "        var method_name = mpl.toolbar_items[toolbar_ind][3];\n",
       "\n",
       "        if (!name) {\n",
       "            // put a spacer in here.\n",
       "            continue;\n",
       "        }\n",
       "        var button = $('<button/>');\n",
       "        button.addClass('ui-button ui-widget ui-state-default ui-corner-all ' +\n",
       "                        'ui-button-icon-only');\n",
       "        button.attr('role', 'button');\n",
       "        button.attr('aria-disabled', 'false');\n",
       "        button.click(method_name, toolbar_event);\n",
       "        button.mouseover(tooltip, toolbar_mouse_event);\n",
       "\n",
       "        var icon_img = $('<span/>');\n",
       "        icon_img.addClass('ui-button-icon-primary ui-icon');\n",
       "        icon_img.addClass(image);\n",
       "        icon_img.addClass('ui-corner-all');\n",
       "\n",
       "        var tooltip_span = $('<span/>');\n",
       "        tooltip_span.addClass('ui-button-text');\n",
       "        tooltip_span.html(tooltip);\n",
       "\n",
       "        button.append(icon_img);\n",
       "        button.append(tooltip_span);\n",
       "\n",
       "        nav_element.append(button);\n",
       "    }\n",
       "\n",
       "    var fmt_picker_span = $('<span/>');\n",
       "\n",
       "    var fmt_picker = $('<select/>');\n",
       "    fmt_picker.addClass('mpl-toolbar-option ui-widget ui-widget-content');\n",
       "    fmt_picker_span.append(fmt_picker);\n",
       "    nav_element.append(fmt_picker_span);\n",
       "    this.format_dropdown = fmt_picker[0];\n",
       "\n",
       "    for (var ind in mpl.extensions) {\n",
       "        var fmt = mpl.extensions[ind];\n",
       "        var option = $(\n",
       "            '<option/>', {selected: fmt === mpl.default_extension}).html(fmt);\n",
       "        fmt_picker.append(option)\n",
       "    }\n",
       "\n",
       "    // Add hover states to the ui-buttons\n",
       "    $( \".ui-button\" ).hover(\n",
       "        function() { $(this).addClass(\"ui-state-hover\");},\n",
       "        function() { $(this).removeClass(\"ui-state-hover\");}\n",
       "    );\n",
       "\n",
       "    var status_bar = $('<span class=\"mpl-message\"/>');\n",
       "    nav_element.append(status_bar);\n",
       "    this.message = status_bar[0];\n",
       "}\n",
       "\n",
       "mpl.figure.prototype.request_resize = function(x_pixels, y_pixels) {\n",
       "    // Request matplotlib to resize the figure. Matplotlib will then trigger a resize in the client,\n",
       "    // which will in turn request a refresh of the image.\n",
       "    this.send_message('resize', {'width': x_pixels, 'height': y_pixels});\n",
       "}\n",
       "\n",
       "mpl.figure.prototype.send_message = function(type, properties) {\n",
       "    properties['type'] = type;\n",
       "    properties['figure_id'] = this.id;\n",
       "    this.ws.send(JSON.stringify(properties));\n",
       "}\n",
       "\n",
       "mpl.figure.prototype.send_draw_message = function() {\n",
       "    if (!this.waiting) {\n",
       "        this.waiting = true;\n",
       "        this.ws.send(JSON.stringify({type: \"draw\", figure_id: this.id}));\n",
       "    }\n",
       "}\n",
       "\n",
       "\n",
       "mpl.figure.prototype.handle_save = function(fig, msg) {\n",
       "    var format_dropdown = fig.format_dropdown;\n",
       "    var format = format_dropdown.options[format_dropdown.selectedIndex].value;\n",
       "    fig.ondownload(fig, format);\n",
       "}\n",
       "\n",
       "\n",
       "mpl.figure.prototype.handle_resize = function(fig, msg) {\n",
       "    var size = msg['size'];\n",
       "    if (size[0] != fig.canvas.width || size[1] != fig.canvas.height) {\n",
       "        fig._resize_canvas(size[0], size[1]);\n",
       "        fig.send_message(\"refresh\", {});\n",
       "    };\n",
       "}\n",
       "\n",
       "mpl.figure.prototype.handle_rubberband = function(fig, msg) {\n",
       "    var x0 = msg['x0'] / mpl.ratio;\n",
       "    var y0 = (fig.canvas.height - msg['y0']) / mpl.ratio;\n",
       "    var x1 = msg['x1'] / mpl.ratio;\n",
       "    var y1 = (fig.canvas.height - msg['y1']) / mpl.ratio;\n",
       "    x0 = Math.floor(x0) + 0.5;\n",
       "    y0 = Math.floor(y0) + 0.5;\n",
       "    x1 = Math.floor(x1) + 0.5;\n",
       "    y1 = Math.floor(y1) + 0.5;\n",
       "    var min_x = Math.min(x0, x1);\n",
       "    var min_y = Math.min(y0, y1);\n",
       "    var width = Math.abs(x1 - x0);\n",
       "    var height = Math.abs(y1 - y0);\n",
       "\n",
       "    fig.rubberband_context.clearRect(\n",
       "        0, 0, fig.canvas.width, fig.canvas.height);\n",
       "\n",
       "    fig.rubberband_context.strokeRect(min_x, min_y, width, height);\n",
       "}\n",
       "\n",
       "mpl.figure.prototype.handle_figure_label = function(fig, msg) {\n",
       "    // Updates the figure title.\n",
       "    fig.header.textContent = msg['label'];\n",
       "}\n",
       "\n",
       "mpl.figure.prototype.handle_cursor = function(fig, msg) {\n",
       "    var cursor = msg['cursor'];\n",
       "    switch(cursor)\n",
       "    {\n",
       "    case 0:\n",
       "        cursor = 'pointer';\n",
       "        break;\n",
       "    case 1:\n",
       "        cursor = 'default';\n",
       "        break;\n",
       "    case 2:\n",
       "        cursor = 'crosshair';\n",
       "        break;\n",
       "    case 3:\n",
       "        cursor = 'move';\n",
       "        break;\n",
       "    }\n",
       "    fig.rubberband_canvas.style.cursor = cursor;\n",
       "}\n",
       "\n",
       "mpl.figure.prototype.handle_message = function(fig, msg) {\n",
       "    fig.message.textContent = msg['message'];\n",
       "}\n",
       "\n",
       "mpl.figure.prototype.handle_draw = function(fig, msg) {\n",
       "    // Request the server to send over a new figure.\n",
       "    fig.send_draw_message();\n",
       "}\n",
       "\n",
       "mpl.figure.prototype.handle_image_mode = function(fig, msg) {\n",
       "    fig.image_mode = msg['mode'];\n",
       "}\n",
       "\n",
       "mpl.figure.prototype.updated_canvas_event = function() {\n",
       "    // Called whenever the canvas gets updated.\n",
       "    this.send_message(\"ack\", {});\n",
       "}\n",
       "\n",
       "// A function to construct a web socket function for onmessage handling.\n",
       "// Called in the figure constructor.\n",
       "mpl.figure.prototype._make_on_message_function = function(fig) {\n",
       "    return function socket_on_message(evt) {\n",
       "        if (evt.data instanceof Blob) {\n",
       "            /* FIXME: We get \"Resource interpreted as Image but\n",
       "             * transferred with MIME type text/plain:\" errors on\n",
       "             * Chrome.  But how to set the MIME type?  It doesn't seem\n",
       "             * to be part of the websocket stream */\n",
       "            evt.data.type = \"image/png\";\n",
       "\n",
       "            /* Free the memory for the previous frames */\n",
       "            if (fig.imageObj.src) {\n",
       "                (window.URL || window.webkitURL).revokeObjectURL(\n",
       "                    fig.imageObj.src);\n",
       "            }\n",
       "\n",
       "            fig.imageObj.src = (window.URL || window.webkitURL).createObjectURL(\n",
       "                evt.data);\n",
       "            fig.updated_canvas_event();\n",
       "            fig.waiting = false;\n",
       "            return;\n",
       "        }\n",
       "        else if (typeof evt.data === 'string' && evt.data.slice(0, 21) == \"data:image/png;base64\") {\n",
       "            fig.imageObj.src = evt.data;\n",
       "            fig.updated_canvas_event();\n",
       "            fig.waiting = false;\n",
       "            return;\n",
       "        }\n",
       "\n",
       "        var msg = JSON.parse(evt.data);\n",
       "        var msg_type = msg['type'];\n",
       "\n",
       "        // Call the  \"handle_{type}\" callback, which takes\n",
       "        // the figure and JSON message as its only arguments.\n",
       "        try {\n",
       "            var callback = fig[\"handle_\" + msg_type];\n",
       "        } catch (e) {\n",
       "            console.log(\"No handler for the '\" + msg_type + \"' message type: \", msg);\n",
       "            return;\n",
       "        }\n",
       "\n",
       "        if (callback) {\n",
       "            try {\n",
       "                // console.log(\"Handling '\" + msg_type + \"' message: \", msg);\n",
       "                callback(fig, msg);\n",
       "            } catch (e) {\n",
       "                console.log(\"Exception inside the 'handler_\" + msg_type + \"' callback:\", e, e.stack, msg);\n",
       "            }\n",
       "        }\n",
       "    };\n",
       "}\n",
       "\n",
       "// from http://stackoverflow.com/questions/1114465/getting-mouse-location-in-canvas\n",
       "mpl.findpos = function(e) {\n",
       "    //this section is from http://www.quirksmode.org/js/events_properties.html\n",
       "    var targ;\n",
       "    if (!e)\n",
       "        e = window.event;\n",
       "    if (e.target)\n",
       "        targ = e.target;\n",
       "    else if (e.srcElement)\n",
       "        targ = e.srcElement;\n",
       "    if (targ.nodeType == 3) // defeat Safari bug\n",
       "        targ = targ.parentNode;\n",
       "\n",
       "    // jQuery normalizes the pageX and pageY\n",
       "    // pageX,Y are the mouse positions relative to the document\n",
       "    // offset() returns the position of the element relative to the document\n",
       "    var x = e.pageX - $(targ).offset().left;\n",
       "    var y = e.pageY - $(targ).offset().top;\n",
       "\n",
       "    return {\"x\": x, \"y\": y};\n",
       "};\n",
       "\n",
       "/*\n",
       " * return a copy of an object with only non-object keys\n",
       " * we need this to avoid circular references\n",
       " * http://stackoverflow.com/a/24161582/3208463\n",
       " */\n",
       "function simpleKeys (original) {\n",
       "  return Object.keys(original).reduce(function (obj, key) {\n",
       "    if (typeof original[key] !== 'object')\n",
       "        obj[key] = original[key]\n",
       "    return obj;\n",
       "  }, {});\n",
       "}\n",
       "\n",
       "mpl.figure.prototype.mouse_event = function(event, name) {\n",
       "    var canvas_pos = mpl.findpos(event)\n",
       "\n",
       "    if (name === 'button_press')\n",
       "    {\n",
       "        this.canvas.focus();\n",
       "        this.canvas_div.focus();\n",
       "    }\n",
       "\n",
       "    var x = canvas_pos.x * mpl.ratio;\n",
       "    var y = canvas_pos.y * mpl.ratio;\n",
       "\n",
       "    this.send_message(name, {x: x, y: y, button: event.button,\n",
       "                             step: event.step,\n",
       "                             guiEvent: simpleKeys(event)});\n",
       "\n",
       "    /* This prevents the web browser from automatically changing to\n",
       "     * the text insertion cursor when the button is pressed.  We want\n",
       "     * to control all of the cursor setting manually through the\n",
       "     * 'cursor' event from matplotlib */\n",
       "    event.preventDefault();\n",
       "    return false;\n",
       "}\n",
       "\n",
       "mpl.figure.prototype._key_event_extra = function(event, name) {\n",
       "    // Handle any extra behaviour associated with a key event\n",
       "}\n",
       "\n",
       "mpl.figure.prototype.key_event = function(event, name) {\n",
       "\n",
       "    // Prevent repeat events\n",
       "    if (name == 'key_press')\n",
       "    {\n",
       "        if (event.which === this._key)\n",
       "            return;\n",
       "        else\n",
       "            this._key = event.which;\n",
       "    }\n",
       "    if (name == 'key_release')\n",
       "        this._key = null;\n",
       "\n",
       "    var value = '';\n",
       "    if (event.ctrlKey && event.which != 17)\n",
       "        value += \"ctrl+\";\n",
       "    if (event.altKey && event.which != 18)\n",
       "        value += \"alt+\";\n",
       "    if (event.shiftKey && event.which != 16)\n",
       "        value += \"shift+\";\n",
       "\n",
       "    value += 'k';\n",
       "    value += event.which.toString();\n",
       "\n",
       "    this._key_event_extra(event, name);\n",
       "\n",
       "    this.send_message(name, {key: value,\n",
       "                             guiEvent: simpleKeys(event)});\n",
       "    return false;\n",
       "}\n",
       "\n",
       "mpl.figure.prototype.toolbar_button_onclick = function(name) {\n",
       "    if (name == 'download') {\n",
       "        this.handle_save(this, null);\n",
       "    } else {\n",
       "        this.send_message(\"toolbar_button\", {name: name});\n",
       "    }\n",
       "};\n",
       "\n",
       "mpl.figure.prototype.toolbar_button_onmouseover = function(tooltip) {\n",
       "    this.message.textContent = tooltip;\n",
       "};\n",
       "mpl.toolbar_items = [[\"Home\", \"Reset original view\", \"fa fa-home icon-home\", \"home\"], [\"Back\", \"Back to previous view\", \"fa fa-arrow-left icon-arrow-left\", \"back\"], [\"Forward\", \"Forward to next view\", \"fa fa-arrow-right icon-arrow-right\", \"forward\"], [\"\", \"\", \"\", \"\"], [\"Pan\", \"Pan axes with left mouse, zoom with right\", \"fa fa-arrows icon-move\", \"pan\"], [\"Zoom\", \"Zoom to rectangle\", \"fa fa-square-o icon-check-empty\", \"zoom\"], [\"\", \"\", \"\", \"\"], [\"Download\", \"Download plot\", \"fa fa-floppy-o icon-save\", \"download\"]];\n",
       "\n",
       "mpl.extensions = [\"eps\", \"jpeg\", \"pdf\", \"png\", \"ps\", \"raw\", \"svg\", \"tif\"];\n",
       "\n",
       "mpl.default_extension = \"png\";var comm_websocket_adapter = function(comm) {\n",
       "    // Create a \"websocket\"-like object which calls the given IPython comm\n",
       "    // object with the appropriate methods. Currently this is a non binary\n",
       "    // socket, so there is still some room for performance tuning.\n",
       "    var ws = {};\n",
       "\n",
       "    ws.close = function() {\n",
       "        comm.close()\n",
       "    };\n",
       "    ws.send = function(m) {\n",
       "        //console.log('sending', m);\n",
       "        comm.send(m);\n",
       "    };\n",
       "    // Register the callback with on_msg.\n",
       "    comm.on_msg(function(msg) {\n",
       "        //console.log('receiving', msg['content']['data'], msg);\n",
       "        // Pass the mpl event to the overridden (by mpl) onmessage function.\n",
       "        ws.onmessage(msg['content']['data'])\n",
       "    });\n",
       "    return ws;\n",
       "}\n",
       "\n",
       "mpl.mpl_figure_comm = function(comm, msg) {\n",
       "    // This is the function which gets called when the mpl process\n",
       "    // starts-up an IPython Comm through the \"matplotlib\" channel.\n",
       "\n",
       "    var id = msg.content.data.id;\n",
       "    // Get hold of the div created by the display call when the Comm\n",
       "    // socket was opened in Python.\n",
       "    var element = $(\"#\" + id);\n",
       "    var ws_proxy = comm_websocket_adapter(comm)\n",
       "\n",
       "    function ondownload(figure, format) {\n",
       "        window.open(figure.imageObj.src);\n",
       "    }\n",
       "\n",
       "    var fig = new mpl.figure(id, ws_proxy,\n",
       "                           ondownload,\n",
       "                           element.get(0));\n",
       "\n",
       "    // Call onopen now - mpl needs it, as it is assuming we've passed it a real\n",
       "    // web socket which is closed, not our websocket->open comm proxy.\n",
       "    ws_proxy.onopen();\n",
       "\n",
       "    fig.parent_element = element.get(0);\n",
       "    fig.cell_info = mpl.find_output_cell(\"<div id='\" + id + \"'></div>\");\n",
       "    if (!fig.cell_info) {\n",
       "        console.error(\"Failed to find cell for figure\", id, fig);\n",
       "        return;\n",
       "    }\n",
       "\n",
       "    var output_index = fig.cell_info[2]\n",
       "    var cell = fig.cell_info[0];\n",
       "\n",
       "};\n",
       "\n",
       "mpl.figure.prototype.handle_close = function(fig, msg) {\n",
       "    var width = fig.canvas.width/mpl.ratio\n",
       "    fig.root.unbind('remove')\n",
       "\n",
       "    // Update the output cell to use the data from the current canvas.\n",
       "    fig.push_to_output();\n",
       "    var dataURL = fig.canvas.toDataURL();\n",
       "    // Re-enable the keyboard manager in IPython - without this line, in FF,\n",
       "    // the notebook keyboard shortcuts fail.\n",
       "    IPython.keyboard_manager.enable()\n",
       "    $(fig.parent_element).html('<img src=\"' + dataURL + '\" width=\"' + width + '\">');\n",
       "    fig.close_ws(fig, msg);\n",
       "}\n",
       "\n",
       "mpl.figure.prototype.close_ws = function(fig, msg){\n",
       "    fig.send_message('closing', msg);\n",
       "    // fig.ws.close()\n",
       "}\n",
       "\n",
       "mpl.figure.prototype.push_to_output = function(remove_interactive) {\n",
       "    // Turn the data on the canvas into data in the output cell.\n",
       "    var width = this.canvas.width/mpl.ratio\n",
       "    var dataURL = this.canvas.toDataURL();\n",
       "    this.cell_info[1]['text/html'] = '<img src=\"' + dataURL + '\" width=\"' + width + '\">';\n",
       "}\n",
       "\n",
       "mpl.figure.prototype.updated_canvas_event = function() {\n",
       "    // Tell IPython that the notebook contents must change.\n",
       "    IPython.notebook.set_dirty(true);\n",
       "    this.send_message(\"ack\", {});\n",
       "    var fig = this;\n",
       "    // Wait a second, then push the new image to the DOM so\n",
       "    // that it is saved nicely (might be nice to debounce this).\n",
       "    setTimeout(function () { fig.push_to_output() }, 1000);\n",
       "}\n",
       "\n",
       "mpl.figure.prototype._init_toolbar = function() {\n",
       "    var fig = this;\n",
       "\n",
       "    var nav_element = $('<div/>')\n",
       "    nav_element.attr('style', 'width: 100%');\n",
       "    this.root.append(nav_element);\n",
       "\n",
       "    // Define a callback function for later on.\n",
       "    function toolbar_event(event) {\n",
       "        return fig.toolbar_button_onclick(event['data']);\n",
       "    }\n",
       "    function toolbar_mouse_event(event) {\n",
       "        return fig.toolbar_button_onmouseover(event['data']);\n",
       "    }\n",
       "\n",
       "    for(var toolbar_ind in mpl.toolbar_items){\n",
       "        var name = mpl.toolbar_items[toolbar_ind][0];\n",
       "        var tooltip = mpl.toolbar_items[toolbar_ind][1];\n",
       "        var image = mpl.toolbar_items[toolbar_ind][2];\n",
       "        var method_name = mpl.toolbar_items[toolbar_ind][3];\n",
       "\n",
       "        if (!name) { continue; };\n",
       "\n",
       "        var button = $('<button class=\"btn btn-default\" href=\"#\" title=\"' + name + '\"><i class=\"fa ' + image + ' fa-lg\"></i></button>');\n",
       "        button.click(method_name, toolbar_event);\n",
       "        button.mouseover(tooltip, toolbar_mouse_event);\n",
       "        nav_element.append(button);\n",
       "    }\n",
       "\n",
       "    // Add the status bar.\n",
       "    var status_bar = $('<span class=\"mpl-message\" style=\"text-align:right; float: right;\"/>');\n",
       "    nav_element.append(status_bar);\n",
       "    this.message = status_bar[0];\n",
       "\n",
       "    // Add the close button to the window.\n",
       "    var buttongrp = $('<div class=\"btn-group inline pull-right\"></div>');\n",
       "    var button = $('<button class=\"btn btn-mini btn-primary\" href=\"#\" title=\"Stop Interaction\"><i class=\"fa fa-power-off icon-remove icon-large\"></i></button>');\n",
       "    button.click(function (evt) { fig.handle_close(fig, {}); } );\n",
       "    button.mouseover('Stop Interaction', toolbar_mouse_event);\n",
       "    buttongrp.append(button);\n",
       "    var titlebar = this.root.find($('.ui-dialog-titlebar'));\n",
       "    titlebar.prepend(buttongrp);\n",
       "}\n",
       "\n",
       "mpl.figure.prototype._root_extra_style = function(el){\n",
       "    var fig = this\n",
       "    el.on(\"remove\", function(){\n",
       "\tfig.close_ws(fig, {});\n",
       "    });\n",
       "}\n",
       "\n",
       "mpl.figure.prototype._canvas_extra_style = function(el){\n",
       "    // this is important to make the div 'focusable\n",
       "    el.attr('tabindex', 0)\n",
       "    // reach out to IPython and tell the keyboard manager to turn it's self\n",
       "    // off when our div gets focus\n",
       "\n",
       "    // location in version 3\n",
       "    if (IPython.notebook.keyboard_manager) {\n",
       "        IPython.notebook.keyboard_manager.register_events(el);\n",
       "    }\n",
       "    else {\n",
       "        // location in version 2\n",
       "        IPython.keyboard_manager.register_events(el);\n",
       "    }\n",
       "\n",
       "}\n",
       "\n",
       "mpl.figure.prototype._key_event_extra = function(event, name) {\n",
       "    var manager = IPython.notebook.keyboard_manager;\n",
       "    if (!manager)\n",
       "        manager = IPython.keyboard_manager;\n",
       "\n",
       "    // Check for shift+enter\n",
       "    if (event.shiftKey && event.which == 13) {\n",
       "        this.canvas_div.blur();\n",
       "        event.shiftKey = false;\n",
       "        // Send a \"J\" for go to next cell\n",
       "        event.which = 74;\n",
       "        event.keyCode = 74;\n",
       "        manager.command_mode();\n",
       "        manager.handle_keydown(event);\n",
       "    }\n",
       "}\n",
       "\n",
       "mpl.figure.prototype.handle_save = function(fig, msg) {\n",
       "    fig.ondownload(fig, null);\n",
       "}\n",
       "\n",
       "\n",
       "mpl.find_output_cell = function(html_output) {\n",
       "    // Return the cell and output element which can be found *uniquely* in the notebook.\n",
       "    // Note - this is a bit hacky, but it is done because the \"notebook_saving.Notebook\"\n",
       "    // IPython event is triggered only after the cells have been serialised, which for\n",
       "    // our purposes (turning an active figure into a static one), is too late.\n",
       "    var cells = IPython.notebook.get_cells();\n",
       "    var ncells = cells.length;\n",
       "    for (var i=0; i<ncells; i++) {\n",
       "        var cell = cells[i];\n",
       "        if (cell.cell_type === 'code'){\n",
       "            for (var j=0; j<cell.output_area.outputs.length; j++) {\n",
       "                var data = cell.output_area.outputs[j];\n",
       "                if (data.data) {\n",
       "                    // IPython >= 3 moved mimebundle to data attribute of output\n",
       "                    data = data.data;\n",
       "                }\n",
       "                if (data['text/html'] == html_output) {\n",
       "                    return [cell, data, j];\n",
       "                }\n",
       "            }\n",
       "        }\n",
       "    }\n",
       "}\n",
       "\n",
       "// Register the function which deals with the matplotlib target/channel.\n",
       "// The kernel may be null if the page has been refreshed.\n",
       "if (IPython.notebook.kernel != null) {\n",
       "    IPython.notebook.kernel.comm_manager.register_target('matplotlib', mpl.mpl_figure_comm);\n",
       "}\n"
      ],
      "text/plain": [
       "<IPython.core.display.Javascript object>"
      ]
     },
     "metadata": {},
     "output_type": "display_data"
    },
    {
     "data": {
      "text/html": [
       "<img src=\"data:image/png;base64,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\" width=\"640\">"
      ],
      "text/plain": [
       "<IPython.core.display.HTML object>"
      ]
     },
     "metadata": {},
     "output_type": "display_data"
    },
    {
     "name": "stdout",
     "output_type": "stream",
     "text": [
      "real signals, believed signals, false signals, missed signals\n",
      "79 192 122 9\n",
      "real signals, believed signals, false signals, missed signals\n",
      "79 45 8 42\n",
      "real signals, believed signals, false signals, missed signals\n",
      "79 16 1 64\n",
      "real signals, believed signals, false signals, missed signals\n",
      "79 8 1 72\n",
      "real signals, believed signals, false signals, missed signals\n",
      "79 1 1 79\n",
      "real signals, believed signals, false signals, missed signals\n",
      "79 15 4 68\n",
      "real signals, believed signals, false signals, missed signals\n",
      "79 30 7 56\n",
      "real signals, believed signals, false signals, missed signals\n",
      "79 39 8 48\n",
      "real signals, believed signals, false signals, missed signals\n",
      "79 43 8 44\n",
      "real signals, believed signals, false signals, missed signals\n",
      "79 44 8 43\n",
      "real signals, believed signals, false signals, missed signals\n",
      "79 45 8 42\n",
      "real signals, believed signals, false signals, missed signals\n",
      "79 45 8 42\n",
      "real signals, believed signals, false signals, missed signals\n",
      "79 45 8 42\n",
      "real signals, believed signals, false signals, missed signals\n",
      "79 45 8 42\n",
      "real signals, believed signals, false signals, missed signals\n",
      "79 45 8 42\n",
      "real signals, believed signals, false signals, missed signals\n",
      "79 66 28 41\n",
      "real signals, believed signals, false signals, missed signals\n",
      "79 45 8 42\n",
      "real signals, believed signals, false signals, missed signals\n",
      "79 36 1 44\n",
      "real signals, believed signals, false signals, missed signals\n",
      "79 32 1 48\n",
      "real signals, believed signals, false signals, missed signals\n",
      "79 22 1 58\n",
      "real signals, believed signals, false signals, missed signals\n",
      "79 16 1 64\n",
      "real signals, believed signals, false signals, missed signals\n",
      "79 24 2 57\n",
      "real signals, believed signals, false signals, missed signals\n",
      "79 42 8 45\n",
      "real signals, believed signals, false signals, missed signals\n",
      "79 45 8 42\n",
      "real signals, believed signals, false signals, missed signals\n",
      "79 45 8 42\n",
      "real signals, believed signals, false signals, missed signals\n",
      "79 47 8 40\n",
      "real signals, believed signals, false signals, missed signals\n",
      "79 47 8 40\n",
      "real signals, believed signals, false signals, missed signals\n",
      "79 47 8 40\n",
      "real signals, believed signals, false signals, missed signals\n",
      "79 47 8 40\n",
      "real signals, believed signals, false signals, missed signals\n",
      "79 47 8 40\n",
      "real signals, believed signals, false signals, missed signals\n",
      "79 32 8 55\n",
      "real signals, believed signals, false signals, missed signals\n",
      "79 36 8 51\n",
      "real signals, believed signals, false signals, missed signals\n",
      "79 42 8 45\n",
      "real signals, believed signals, false signals, missed signals\n",
      "79 44 8 43\n",
      "real signals, believed signals, false signals, missed signals\n",
      "79 45 8 42\n",
      "real signals, believed signals, false signals, missed signals\n",
      "79 45 8 42\n",
      "real signals, believed signals, false signals, missed signals\n",
      "79 46 8 41\n",
      "real signals, believed signals, false signals, missed signals\n",
      "79 47 8 40\n",
      "real signals, believed signals, false signals, missed signals\n",
      "79 47 8 40\n",
      "real signals, believed signals, false signals, missed signals\n",
      "79 47 8 40\n",
      "real signals, believed signals, false signals, missed signals\n",
      "79 47 8 40\n",
      "real signals, believed signals, false signals, missed signals\n",
      "79 47 8 40\n",
      "real signals, believed signals, false signals, missed signals\n",
      "79 47 8 40\n",
      "real signals, believed signals, false signals, missed signals\n",
      "79 47 8 40\n"
     ]
    }
   ],
   "source": [
    "min_persistence = 2\n",
    "max_lenght = 500\n",
    "min_thickness = 15\n",
    "max_n_components = 4\n",
    "max_curvature = 1.5\n",
    "\n",
    "centers = [min_persistence,max_lenght,min_thickness,max_n_components,max_curvature]\n",
    "names = ['persistence','lenght','thickness','n_components','curvature']\n",
    "\n",
    "persistence_fluctuation = np.arange(1,5,1)\n",
    "lenght_fluctuation = np.arange(50,600,50)\n",
    "thickness_fluctuation = np.arange(13,25,2)\n",
    "n_components_fluctuation = np.arange(1,10,1)\n",
    "curvature_fluctuation = np.arange(1.1,2.5,0.1)\n",
    "\n",
    "fluctuations = [persistence_fluctuation,lenght_fluctuation,thickness_fluctuation,\n",
    "                n_components_fluctuation,curvature_fluctuation]\n",
    "\n",
    "plt.figure()\n",
    "plt.xlabel('efficiency')\n",
    "plt.ylabel('pureness')\n",
    "\n",
    "big_vep = []\n",
    "for i,f in enumerate(fluctuations):\n",
    "    ep = []\n",
    "    for v in f:\n",
    "        thrs = np.copy(centers)\n",
    "        thrs[i] = v\n",
    "        labels,e,p = Clusterizer.classify(big_c,thrs=thrs,verbose=False)\n",
    "        ep.append([e,p])\n",
    "    ep = np.array(ep)\n",
    "    big_vep.append(ep)\n",
    "    plt.plot(ep[:,0],ep[:,1],label='varying '+names[i])\n",
    "    \n",
    "plt.legend()\n",
    "plt.show()"
   ]
  },
  {
   "cell_type": "code",
   "execution_count": 7,
   "metadata": {},
   "outputs": [
    {
     "name": "stderr",
     "output_type": "stream",
     "text": [
      "Widget Javascript not detected.  It may not be installed or enabled properly.\n"
     ]
    },
    {
     "data": {
      "application/vnd.jupyter.widget-view+json": {
       "model_id": "9409affc466b4ca8ad4b7f87be39521a"
      }
     },
     "metadata": {},
     "output_type": "display_data"
    }
   ],
   "source": [
    "%matplotlib notebook\n",
    "big_c.plot(labels=labels)"
   ]
  },
  {
   "cell_type": "code",
   "execution_count": 2,
   "metadata": {},
   "outputs": [],
   "source": [
    "# joining Clusterizers\n",
    "path = './Clusterizers/280519/'\n",
    "c3b = Clusterizer.load_Clusterizer(path,'video3b_r6')\n",
    "c6 = Clusterizer.load_Clusterizer(path,'video6_r6')\n",
    "c7 = Clusterizer.load_Clusterizer(path,'video7_r6')\n",
    "c8 = Clusterizer.load_Clusterizer(path,'video8_r6')\n",
    "#c9 = Clusterizer.load_Clusterizer(path,'video9_r6') # low E field\n",
    "c1 = Clusterizer.load_Clusterizer('./Clusterizers/060619/','video1_r6')\n",
    "c2 = Clusterizer.load_Clusterizer('./Clusterizers/060619/','video2_r6')\n",
    "c3 = Clusterizer.load_Clusterizer('./Clusterizers/060619/','video3_r6')\n",
    "l0 = Clusterizer.load_Clusterizer('./Clusterizers/170619/','video1_r6')\n",
    "l1 = Clusterizer.load_Clusterizer('./Clusterizers/270619/','video1_r6')\n",
    "l2 = Clusterizer.load_Clusterizer('./Clusterizers/270619/','video2_r6')\n",
    "l3 = Clusterizer.load_Clusterizer('./Clusterizers/270619/','video3_r6')\n",
    "l4 = Clusterizer.load_Clusterizer('./Clusterizers/270619/','video4_r6')\n",
    "big_c = Clusterizer.join_Clusterizers([c3b,c6,c7,c8,c1,c2,c3,l0,l1,l2,l3,l4],'all')"
   ]
  },
  {
   "cell_type": "code",
   "execution_count": 21,
   "metadata": {},
   "outputs": [
    {
     "data": {
      "application/vnd.jupyter.widget-view+json": {
       "model_id": "9d4ff9943292467ebc1146c10b93d1f2"
      }
     },
     "metadata": {},
     "output_type": "display_data"
    }
   ],
   "source": [
    "\n",
    "#Clusterizer.plot_Clusterizers([c6,c7,c8,c9],['black','green','blue','red'])\n",
    "big_c.plot()"
   ]
  },
  {
   "cell_type": "code",
   "execution_count": null,
   "metadata": {},
   "outputs": [],
   "source": [
    "alpha_count = 0\n",
    "for i in big_c.labels:\n",
    "    if i == 1:\n",
    "        alpha_count += 1\n",
    "print(alpha_count)"
   ]
  },
  {
   "cell_type": "code",
   "execution_count": null,
   "metadata": {},
   "outputs": [],
   "source": [
    "# tryes with plt\n",
    "\n",
    "\n",
    "\n",
    "%matplotlib notebook\n",
    "\n",
    "def plot(i):\n",
    "    x = np.arange(0,10)\n",
    "    y = x**i\n",
    "    la = np.ones(10)\n",
    "    \n",
    "\n",
    "    fig, ax = plt.subplots()\n",
    "    ax = plt.scatter(x,y,c=la)\n",
    "\n",
    "\n",
    "\n",
    "    def onclick(event):\n",
    "        global ex,ey,ix,iy\n",
    "        ix = event.xdata\n",
    "        iy = event.ydata\n",
    "        #ax = plt.scatter(ix,iy)\n",
    "        \n",
    "    def onpress(event):\n",
    "        if event.key == 'a':\n",
    "            ax = plt.scatter(ix,iy)\n",
    "        elif event.key == 'w':\n",
    "            os.system('killall eog')\n",
    "        elif event.key == 't':\n",
    "            os.system('eog test.jpg &')\n",
    "        elif event.key == 'd':\n",
    "            ax = plt.suptitle('you pressed d')\n",
    "        elif event.key == 'f':\n",
    "            ax = plt.suptitle('you pressed f')\n",
    "            \n",
    "    cid = fig.canvas.mpl_connect('button_press_event', onclick)\n",
    "    cid2 = fig.canvas.mpl_connect('key_press_event', onpress)\n",
    "\n",
    "ipywidgets.interact(plot, i=[1,2,3,4])"
   ]
  },
  {
   "cell_type": "code",
   "execution_count": null,
   "metadata": {},
   "outputs": [],
   "source": [
    "print(ex,ey,ix,iy)"
   ]
  },
  {
   "cell_type": "code",
   "execution_count": null,
   "metadata": {},
   "outputs": [],
   "source": [
    "ID = os.system('eog test.jpg')\n",
    "print(ID)"
   ]
  },
  {
   "cell_type": "code",
   "execution_count": null,
   "metadata": {},
   "outputs": [],
   "source": [
    "def plot(i):\n",
    "    x = np.arange(0,10)\n",
    "    y = x**i\n",
    "\n",
    "    fig, ax = plt.subplots()\n",
    "    ax = plt.scatter(x,y)\n",
    "    ax = plt.suptitle('ciao')\n",
    "plot(2)"
   ]
  },
  {
   "cell_type": "code",
   "execution_count": null,
   "metadata": {},
   "outputs": [],
   "source": [
    "a = 'x %d, y %.2f, ' % (13.6,3.14159265)\n",
    "print(a)"
   ]
  },
  {
   "cell_type": "code",
   "execution_count": null,
   "metadata": {},
   "outputs": [],
   "source": [
    "X = d.values[:,3]\n",
    "plt.figure()\n",
    "plt.hist(X,bins=30,histtype='step')\n",
    "plt.show()"
   ]
  },
  {
   "cell_type": "code",
   "execution_count": null,
   "metadata": {},
   "outputs": [],
   "source": [
    "color_list = ['black','yellow','green']\n",
    "\n",
    "\n",
    "def color(n):\n",
    "    if type(n) == int:\n",
    "        return color_list[n%len(color_list)]\n",
    "    elif type(n) == np.ndarray:\n",
    "        r = []\n",
    "        for nn in n:\n",
    "            r.append(color_list[nn%len(color_list)])\n",
    "        return np.array(r)\n",
    "    else:\n",
    "        raise TypeError\n",
    "\n"
   ]
  },
  {
   "cell_type": "code",
   "execution_count": null,
   "metadata": {},
   "outputs": [],
   "source": [
    "a = 0\n",
    "color(a)"
   ]
  },
  {
   "cell_type": "code",
   "execution_count": null,
   "metadata": {},
   "outputs": [],
   "source": []
  }
 ],
 "metadata": {
  "kernelspec": {
   "display_name": "Python 3",
   "language": "python",
   "name": "python3"
  },
  "language_info": {
   "codemirror_mode": {
    "name": "ipython",
    "version": 3
   },
   "file_extension": ".py",
   "mimetype": "text/x-python",
   "name": "python",
   "nbconvert_exporter": "python",
   "pygments_lexer": "ipython3",
   "version": "3.7.3"
  }
 },
 "nbformat": 4,
 "nbformat_minor": 2
}
