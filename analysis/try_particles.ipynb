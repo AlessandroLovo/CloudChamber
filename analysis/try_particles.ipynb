{
 "cells": [
  {
   "cell_type": "code",
   "execution_count": 1,
   "metadata": {},
   "outputs": [],
   "source": [
    "from Trace import Trace\n",
    "import Particle\n",
    "import Clusterizer\n",
    "\n",
    "import numpy as np\n",
    "import matplotlib.pyplot as plt\n",
    "import ipywidgets\n",
    "import os"
   ]
  },
  {
   "cell_type": "markdown",
   "metadata": {},
   "source": [
    "# Single Clusterizer"
   ]
  },
  {
   "cell_type": "code",
   "execution_count": 2,
   "metadata": {},
   "outputs": [
    {
     "name": "stderr",
     "output_type": "stream",
     "text": [
      "\r",
      "  0%|          | 0/20 [00:00<?, ?it/s]"
     ]
    },
    {
     "name": "stdout",
     "output_type": "stream",
     "text": [
      "found video2_009/trigger_thr0.005_cl9_op3/cc_filtered_2den0.81_gausrad2.0/\n"
     ]
    },
    {
     "name": "stderr",
     "output_type": "stream",
     "text": [
      "\r",
      "  5%|▌         | 1/20 [00:00<00:13,  1.40it/s]"
     ]
    },
    {
     "name": "stdout",
     "output_type": "stream",
     "text": [
      "\n",
      "mean_270619-video2_009-002_opened_cc03.png is INTERESTING\n"
     ]
    },
    {
     "name": "stderr",
     "output_type": "stream",
     "text": [
      "\r",
      " 10%|█         | 2/20 [00:01<00:13,  1.38it/s]"
     ]
    },
    {
     "name": "stdout",
     "output_type": "stream",
     "text": [
      "\n",
      "mean_270619-video2_009-002_opened_cc07.png is INTERESTING\n"
     ]
    },
    {
     "name": "stderr",
     "output_type": "stream",
     "text": [
      "\r",
      " 15%|█▌        | 3/20 [00:02<00:12,  1.40it/s]"
     ]
    },
    {
     "name": "stdout",
     "output_type": "stream",
     "text": [
      "\n",
      "mean_270619-video2_009-002_opened_cc28.png is INTERESTING\n"
     ]
    },
    {
     "name": "stderr",
     "output_type": "stream",
     "text": [
      "\r",
      " 20%|██        | 4/20 [00:02<00:11,  1.42it/s]"
     ]
    },
    {
     "name": "stdout",
     "output_type": "stream",
     "text": [
      "\n",
      "mean_270619-video2_009-002_opened_cc55.png: too spherical 4.5377070678421525\n"
     ]
    },
    {
     "name": "stderr",
     "output_type": "stream",
     "text": [
      "\r",
      " 25%|██▌       | 5/20 [00:03<00:10,  1.43it/s]"
     ]
    },
    {
     "name": "stdout",
     "output_type": "stream",
     "text": [
      "\n",
      "mean_270619-video2_009-005_opened_cc02.png: too spherical 5.251967711830305\n"
     ]
    },
    {
     "name": "stderr",
     "output_type": "stream",
     "text": [
      "\r",
      " 30%|███       | 6/20 [00:04<00:09,  1.40it/s]"
     ]
    },
    {
     "name": "stdout",
     "output_type": "stream",
     "text": [
      "\n",
      "mean_270619-video2_009-005_opened_cc08.png: too spherical 2.1945724940238547\n"
     ]
    },
    {
     "name": "stderr",
     "output_type": "stream",
     "text": [
      "\r",
      " 35%|███▌      | 7/20 [00:05<00:09,  1.32it/s]"
     ]
    },
    {
     "name": "stdout",
     "output_type": "stream",
     "text": [
      "\n",
      "mean_270619-video2_009-005_opened_cc19.png is INTERESTING\n"
     ]
    },
    {
     "name": "stderr",
     "output_type": "stream",
     "text": [
      "\r",
      " 40%|████      | 8/20 [00:05<00:08,  1.36it/s]"
     ]
    },
    {
     "name": "stdout",
     "output_type": "stream",
     "text": [
      "\n",
      "mean_270619-video2_009-005_opened_cc36.png: too spherical 1.1656196964389178\n"
     ]
    },
    {
     "name": "stderr",
     "output_type": "stream",
     "text": [
      "\r",
      " 45%|████▌     | 9/20 [00:06<00:07,  1.41it/s]"
     ]
    },
    {
     "name": "stdout",
     "output_type": "stream",
     "text": [
      "\n",
      "mean_270619-video2_009-005_opened_cc63.png: too spherical 1.9693104268680885\n"
     ]
    },
    {
     "name": "stderr",
     "output_type": "stream",
     "text": [
      "\r",
      " 50%|█████     | 10/20 [00:07<00:06,  1.47it/s]"
     ]
    },
    {
     "name": "stdout",
     "output_type": "stream",
     "text": [
      "\n",
      "mean_270619-video2_009-005_opened_cc77.png: too spherical 5.559647514440199\n"
     ]
    },
    {
     "name": "stderr",
     "output_type": "stream",
     "text": [
      "\r",
      " 55%|█████▌    | 11/20 [00:07<00:06,  1.48it/s]"
     ]
    },
    {
     "name": "stdout",
     "output_type": "stream",
     "text": [
      "\n",
      "mean_270619-video2_009-005_opened_cc86.png: too spherical 6.393178630647735\n"
     ]
    },
    {
     "name": "stderr",
     "output_type": "stream",
     "text": [
      "\r",
      " 60%|██████    | 12/20 [00:08<00:05,  1.51it/s]"
     ]
    },
    {
     "name": "stdout",
     "output_type": "stream",
     "text": [
      "\n",
      "mean_270619-video2_009-015_opened_cc02.png: too spherical 1.7302418361296725\n"
     ]
    },
    {
     "name": "stderr",
     "output_type": "stream",
     "text": [
      "\r",
      " 65%|██████▌   | 13/20 [00:09<00:04,  1.51it/s]"
     ]
    },
    {
     "name": "stdout",
     "output_type": "stream",
     "text": [
      "\n",
      "mean_270619-video2_009-015_opened_cc26.png: too spherical 4.580397040004467\n"
     ]
    },
    {
     "name": "stderr",
     "output_type": "stream",
     "text": [
      "\r",
      " 70%|███████   | 14/20 [00:09<00:03,  1.56it/s]"
     ]
    },
    {
     "name": "stdout",
     "output_type": "stream",
     "text": [
      "\n",
      "mean_270619-video2_009-015_opened_cc35.png: too spherical 3.135297146109233\n"
     ]
    },
    {
     "name": "stderr",
     "output_type": "stream",
     "text": [
      "\r",
      " 75%|███████▌  | 15/20 [00:10<00:03,  1.54it/s]"
     ]
    },
    {
     "name": "stdout",
     "output_type": "stream",
     "text": [
      "\n",
      "mean_270619-video2_009-015_opened_cc44.png: too spherical 5.088367178878803\n"
     ]
    },
    {
     "name": "stderr",
     "output_type": "stream",
     "text": [
      "\r",
      " 80%|████████  | 16/20 [00:10<00:02,  1.55it/s]"
     ]
    },
    {
     "name": "stdout",
     "output_type": "stream",
     "text": [
      "\n",
      "mean_270619-video2_009-015_opened_cc70.png: too spherical 1.1265242942878062\n"
     ]
    },
    {
     "name": "stderr",
     "output_type": "stream",
     "text": [
      "\r",
      " 85%|████████▌ | 17/20 [00:11<00:01,  1.51it/s]"
     ]
    },
    {
     "name": "stdout",
     "output_type": "stream",
     "text": [
      "\n",
      "mean_270619-video2_009-031_opened_cc02.png is INTERESTING\n"
     ]
    },
    {
     "name": "stderr",
     "output_type": "stream",
     "text": [
      "\r",
      " 90%|█████████ | 18/20 [00:12<00:01,  1.53it/s]"
     ]
    },
    {
     "name": "stdout",
     "output_type": "stream",
     "text": [
      "\n",
      "mean_270619-video2_009-031_opened_cc09.png: too spherical 2.403257226577185\n"
     ]
    },
    {
     "name": "stderr",
     "output_type": "stream",
     "text": [
      "\r",
      " 95%|█████████▌| 19/20 [00:12<00:00,  1.56it/s]"
     ]
    },
    {
     "name": "stdout",
     "output_type": "stream",
     "text": [
      "\n",
      "mean_270619-video2_009-031_opened_cc32.png: too spherical 3.532155293183181\n"
     ]
    },
    {
     "name": "stderr",
     "output_type": "stream",
     "text": [
      "100%|██████████| 20/20 [00:13<00:00,  1.57it/s]\n",
      "  0%|          | 0/51 [00:00<?, ?it/s]"
     ]
    },
    {
     "name": "stdout",
     "output_type": "stream",
     "text": [
      "\n",
      "mean_270619-video2_009-031_opened_cc39.png is INTERESTING\n",
      "found video3_019/trigger_thr0.005_cl9_op3/cc_filtered_2den0.81_gausrad2.0/\n",
      "found video4_009/trigger_thr0.005_cl9_op3/cc_filtered_2den0.81_gausrad2.0/\n",
      "found video1_000/trigger_thr0.005_cl9_op3/cc_filtered_2den0.81_gausrad2.0/\n",
      "found video1_001/trigger_thr0.005_cl9_op3/cc_filtered_2den0.81_gausrad2.0/\n",
      "found video1_002/trigger_thr0.005_cl9_op3/cc_filtered_2den0.81_gausrad2.0/\n",
      "found video1_003/trigger_thr0.005_cl9_op3/cc_filtered_2den0.81_gausrad2.0/\n",
      "found video1_004/trigger_thr0.005_cl9_op3/cc_filtered_2den0.81_gausrad2.0/\n",
      "found video1_005/trigger_thr0.005_cl9_op3/cc_filtered_2den0.81_gausrad2.0/\n",
      "found video1_006/trigger_thr0.005_cl9_op3/cc_filtered_2den0.81_gausrad2.0/\n",
      "found video1_007/trigger_thr0.005_cl9_op3/cc_filtered_2den0.81_gausrad2.0/\n",
      "found video1_008/trigger_thr0.005_cl9_op3/cc_filtered_2den0.81_gausrad2.0/\n",
      "found video1_009/trigger_thr0.005_cl9_op3/cc_filtered_2den0.81_gausrad2.0/\n",
      "found video2_000/trigger_thr0.005_cl9_op3/cc_filtered_2den0.81_gausrad2.0/\n"
     ]
    },
    {
     "name": "stderr",
     "output_type": "stream",
     "text": [
      "\r",
      "  2%|▏         | 1/51 [00:00<00:32,  1.52it/s]"
     ]
    },
    {
     "name": "stdout",
     "output_type": "stream",
     "text": [
      "\n",
      "mean_270619-video2_000-004_opened_cc13.png is INTERESTING\n"
     ]
    },
    {
     "name": "stderr",
     "output_type": "stream",
     "text": [
      "\r",
      "  4%|▍         | 2/51 [00:01<00:31,  1.55it/s]"
     ]
    },
    {
     "name": "stdout",
     "output_type": "stream",
     "text": [
      "\n",
      "mean_270619-video2_000-004_opened_cc16.png: too spherical 2.780706644421938\n"
     ]
    },
    {
     "name": "stderr",
     "output_type": "stream",
     "text": [
      "\r",
      "  6%|▌         | 3/51 [00:01<00:30,  1.57it/s]"
     ]
    },
    {
     "name": "stdout",
     "output_type": "stream",
     "text": [
      "\n",
      "mean_270619-video2_000-004_opened_cc17.png: too spherical 3.561508778743651\n"
     ]
    },
    {
     "name": "stderr",
     "output_type": "stream",
     "text": [
      "\r",
      "  8%|▊         | 4/51 [00:02<00:29,  1.57it/s]"
     ]
    },
    {
     "name": "stdout",
     "output_type": "stream",
     "text": [
      "\n",
      "mean_270619-video2_000-004_opened_cc23.png: too spherical 5.049293177269465\n"
     ]
    },
    {
     "name": "stderr",
     "output_type": "stream",
     "text": [
      "\r",
      " 10%|▉         | 5/51 [00:03<00:29,  1.56it/s]"
     ]
    },
    {
     "name": "stdout",
     "output_type": "stream",
     "text": [
      "\n",
      "mean_270619-video2_000-004_opened_cc26.png: too spherical 9.181466037850498\n"
     ]
    },
    {
     "name": "stderr",
     "output_type": "stream",
     "text": [
      "\r",
      " 12%|█▏        | 6/51 [00:03<00:28,  1.57it/s]"
     ]
    },
    {
     "name": "stdout",
     "output_type": "stream",
     "text": [
      "\n",
      "mean_270619-video2_000-014_opened_cc15.png: too spherical 6.274416046929966\n"
     ]
    },
    {
     "name": "stderr",
     "output_type": "stream",
     "text": [
      "\r",
      " 14%|█▎        | 7/51 [00:04<00:27,  1.58it/s]"
     ]
    },
    {
     "name": "stdout",
     "output_type": "stream",
     "text": [
      "\n",
      "mean_270619-video2_000-014_opened_cc32.png is INTERESTING\n"
     ]
    },
    {
     "name": "stderr",
     "output_type": "stream",
     "text": [
      "\r",
      " 16%|█▌        | 8/51 [00:05<00:27,  1.58it/s]"
     ]
    },
    {
     "name": "stdout",
     "output_type": "stream",
     "text": [
      "\n",
      "mean_270619-video2_000-014_opened_cc33.png: too spherical 2.4723754005862175\n"
     ]
    },
    {
     "name": "stderr",
     "output_type": "stream",
     "text": [
      "\r",
      " 18%|█▊        | 9/51 [00:05<00:26,  1.60it/s]"
     ]
    },
    {
     "name": "stdout",
     "output_type": "stream",
     "text": [
      "\n",
      "mean_270619-video2_000-014_opened_cc37.png: too spherical 7.861141013127848\n"
     ]
    },
    {
     "name": "stderr",
     "output_type": "stream",
     "text": [
      "\r",
      " 20%|█▉        | 10/51 [00:06<00:25,  1.59it/s]"
     ]
    },
    {
     "name": "stdout",
     "output_type": "stream",
     "text": [
      "\n",
      "mean_270619-video2_000-014_opened_cc60.png is INTERESTING\n",
      "\n",
      "mean_270619-video2_000-015_opened_cc09.png is INTERESTING\n",
      "\n",
      "video2_000-014-video2_000-015: overlap = 0.0\n"
     ]
    },
    {
     "name": "stderr",
     "output_type": "stream",
     "text": [
      "\r",
      " 22%|██▏       | 11/51 [00:08<00:38,  1.04it/s]"
     ]
    },
    {
     "name": "stdout",
     "output_type": "stream",
     "text": [
      "\n",
      "video2_000-014-video2_000-015: overlap = 0.0\n"
     ]
    },
    {
     "name": "stderr",
     "output_type": "stream",
     "text": [
      "\r",
      " 24%|██▎       | 12/51 [00:08<00:33,  1.15it/s]"
     ]
    },
    {
     "name": "stdout",
     "output_type": "stream",
     "text": [
      "\n",
      "mean_270619-video2_000-015_opened_cc16.png: too spherical 3.0864380731132086\n",
      "\n",
      "mean_270619-video2_000-015_opened_cc28.png is INTERESTING\n"
     ]
    },
    {
     "name": "stderr",
     "output_type": "stream",
     "text": [
      "\r",
      " 25%|██▌       | 13/51 [00:09<00:36,  1.04it/s]"
     ]
    },
    {
     "name": "stdout",
     "output_type": "stream",
     "text": [
      "\n",
      "video2_000-014-video2_000-015: overlap = 0.7485408560311284\n"
     ]
    },
    {
     "name": "stderr",
     "output_type": "stream",
     "text": [
      "\r",
      " 27%|██▋       | 14/51 [00:10<00:32,  1.14it/s]"
     ]
    },
    {
     "name": "stdout",
     "output_type": "stream",
     "text": [
      "\n",
      "mean_270619-video2_000-015_opened_cc31.png: too spherical 9.910032351990873\n",
      "\n",
      "mean_270619-video2_000-015_opened_cc49.png is INTERESTING\n"
     ]
    },
    {
     "name": "stderr",
     "output_type": "stream",
     "text": [
      "\r",
      " 29%|██▉       | 15/51 [00:11<00:35,  1.02it/s]"
     ]
    },
    {
     "name": "stdout",
     "output_type": "stream",
     "text": [
      "\n",
      "video2_000-014-video2_000-015: overlap = 0.0\n"
     ]
    },
    {
     "name": "stderr",
     "output_type": "stream",
     "text": [
      "\r",
      " 31%|███▏      | 16/51 [00:12<00:31,  1.12it/s]"
     ]
    },
    {
     "name": "stdout",
     "output_type": "stream",
     "text": [
      "\n",
      "mean_270619-video2_000-015_opened_cc55.png: too spherical 4.602057561750913\n"
     ]
    },
    {
     "name": "stderr",
     "output_type": "stream",
     "text": [
      "\r",
      " 33%|███▎      | 17/51 [00:13<00:28,  1.19it/s]"
     ]
    },
    {
     "name": "stdout",
     "output_type": "stream",
     "text": [
      "\n",
      "mean_270619-video2_000-024_opened_cc04.png: too spherical 5.522721871840964\n"
     ]
    },
    {
     "name": "stderr",
     "output_type": "stream",
     "text": [
      "\r",
      " 35%|███▌      | 18/51 [00:13<00:25,  1.27it/s]"
     ]
    },
    {
     "name": "stdout",
     "output_type": "stream",
     "text": [
      "\n",
      "mean_270619-video2_000-024_opened_cc08.png is INTERESTING\n"
     ]
    },
    {
     "name": "stderr",
     "output_type": "stream",
     "text": [
      "\r",
      " 37%|███▋      | 19/51 [00:14<00:24,  1.33it/s]"
     ]
    },
    {
     "name": "stdout",
     "output_type": "stream",
     "text": [
      "\n",
      "mean_270619-video2_000-024_opened_cc33.png: too spherical 8.491853909557314\n"
     ]
    },
    {
     "name": "stderr",
     "output_type": "stream",
     "text": [
      "\r",
      " 39%|███▉      | 20/51 [00:15<00:22,  1.39it/s]"
     ]
    },
    {
     "name": "stdout",
     "output_type": "stream",
     "text": [
      "\n",
      "mean_270619-video2_000-024_opened_cc36.png is INTERESTING\n"
     ]
    },
    {
     "name": "stderr",
     "output_type": "stream",
     "text": [
      "\r",
      " 41%|████      | 21/51 [00:15<00:20,  1.43it/s]"
     ]
    },
    {
     "name": "stdout",
     "output_type": "stream",
     "text": [
      "\n",
      "mean_270619-video2_000-036_opened_cc08.png: too spherical 6.651317288977264\n"
     ]
    },
    {
     "name": "stderr",
     "output_type": "stream",
     "text": [
      "\r",
      " 43%|████▎     | 22/51 [00:16<00:19,  1.49it/s]"
     ]
    },
    {
     "name": "stdout",
     "output_type": "stream",
     "text": [
      "\n",
      "mean_270619-video2_000-036_opened_cc14.png is INTERESTING\n"
     ]
    },
    {
     "name": "stderr",
     "output_type": "stream",
     "text": [
      "\r",
      " 45%|████▌     | 23/51 [00:17<00:18,  1.50it/s]"
     ]
    },
    {
     "name": "stdout",
     "output_type": "stream",
     "text": [
      "\n",
      "mean_270619-video2_000-036_opened_cc43.png: too spherical 6.9265355721098505\n"
     ]
    },
    {
     "name": "stderr",
     "output_type": "stream",
     "text": [
      "\r",
      " 47%|████▋     | 24/51 [00:17<00:17,  1.51it/s]"
     ]
    },
    {
     "name": "stdout",
     "output_type": "stream",
     "text": [
      "\n",
      "mean_270619-video2_000-036_opened_cc62.png: too spherical 4.723581045139431\n",
      "\n",
      "mean_270619-video2_000-037_opened_cc15.png is INTERESTING\n"
     ]
    },
    {
     "name": "stderr",
     "output_type": "stream",
     "text": [
      "\r",
      " 49%|████▉     | 25/51 [00:18<00:21,  1.22it/s]"
     ]
    },
    {
     "name": "stdout",
     "output_type": "stream",
     "text": [
      "\n",
      "video2_000-036-video2_000-037: overlap = 0.0\n"
     ]
    },
    {
     "name": "stderr",
     "output_type": "stream",
     "text": [
      "\r",
      " 51%|█████     | 26/51 [00:19<00:19,  1.29it/s]"
     ]
    },
    {
     "name": "stdout",
     "output_type": "stream",
     "text": [
      "\n",
      "mean_270619-video2_000-037_opened_cc36.png: too spherical 6.002256561807814\n",
      "\n",
      "mean_270619-video2_000-037_opened_cc64.png is INTERESTING\n"
     ]
    },
    {
     "name": "stderr",
     "output_type": "stream",
     "text": [
      "\r",
      " 53%|█████▎    | 27/51 [00:20<00:21,  1.11it/s]"
     ]
    },
    {
     "name": "stdout",
     "output_type": "stream",
     "text": [
      "\n",
      "video2_000-036-video2_000-037: overlap = 0.0\n"
     ]
    },
    {
     "name": "stderr",
     "output_type": "stream",
     "text": [
      "\r",
      " 55%|█████▍    | 28/51 [00:21<00:19,  1.16it/s]"
     ]
    },
    {
     "name": "stdout",
     "output_type": "stream",
     "text": [
      "\n",
      "mean_270619-video2_000-038_opened_cc05.png: too spherical 5.253670102167572\n",
      "\n",
      "mean_270619-video2_000-038_opened_cc11.png is INTERESTING\n",
      "\n",
      "video2_000-037-video2_000-038: overlap = 0.0\n"
     ]
    },
    {
     "name": "stderr",
     "output_type": "stream",
     "text": [
      "\r",
      " 57%|█████▋    | 29/51 [00:23<00:25,  1.18s/it]"
     ]
    },
    {
     "name": "stdout",
     "output_type": "stream",
     "text": [
      "\n",
      "video2_000-037-video2_000-038: overlap = 0.0\n",
      "\n",
      "mean_270619-video2_000-038_opened_cc21.png is INTERESTING\n"
     ]
    },
    {
     "name": "stderr",
     "output_type": "stream",
     "text": [
      "\r",
      " 59%|█████▉    | 30/51 [00:24<00:25,  1.20s/it]"
     ]
    },
    {
     "name": "stdout",
     "output_type": "stream",
     "text": [
      "\n",
      "video2_000-037-video2_000-038: overlap = 0.6925260170293284\n"
     ]
    },
    {
     "name": "stderr",
     "output_type": "stream",
     "text": [
      "\r",
      " 61%|██████    | 31/51 [00:25<00:20,  1.04s/it]"
     ]
    },
    {
     "name": "stdout",
     "output_type": "stream",
     "text": [
      "\n",
      "mean_270619-video2_000-038_opened_cc28.png: too spherical 1.6843445035380658\n"
     ]
    },
    {
     "name": "stderr",
     "output_type": "stream",
     "text": [
      "\r",
      " 63%|██████▎   | 32/51 [00:26<00:17,  1.09it/s]"
     ]
    },
    {
     "name": "stdout",
     "output_type": "stream",
     "text": [
      "\n",
      "mean_270619-video2_000-038_opened_cc32.png: too spherical 1.5753072282850336\n"
     ]
    },
    {
     "name": "stderr",
     "output_type": "stream",
     "text": [
      "\r",
      " 65%|██████▍   | 33/51 [00:26<00:14,  1.20it/s]"
     ]
    },
    {
     "name": "stdout",
     "output_type": "stream",
     "text": [
      "\n",
      "mean_270619-video2_000-038_opened_cc44.png: too spherical 3.4992855514020373\n"
     ]
    },
    {
     "name": "stderr",
     "output_type": "stream",
     "text": [
      "\r",
      " 67%|██████▋   | 34/51 [00:27<00:13,  1.30it/s]"
     ]
    },
    {
     "name": "stdout",
     "output_type": "stream",
     "text": [
      "\n",
      "mean_270619-video2_000-038_opened_cc45.png: too spherical 2.687739568942516\n",
      "\n",
      "mean_270619-video2_000-038_opened_cc60.png is INTERESTING\n"
     ]
    },
    {
     "name": "stderr",
     "output_type": "stream",
     "text": [
      "\r",
      " 69%|██████▊   | 35/51 [00:28<00:14,  1.10it/s]"
     ]
    },
    {
     "name": "stdout",
     "output_type": "stream",
     "text": [
      "\n",
      "video2_000-037-video2_000-038: overlap = 0.0\n"
     ]
    },
    {
     "name": "stderr",
     "output_type": "stream",
     "text": [
      "\r",
      " 71%|███████   | 36/51 [00:29<00:12,  1.18it/s]"
     ]
    },
    {
     "name": "stdout",
     "output_type": "stream",
     "text": [
      "\n",
      "mean_270619-video2_000-015_opened_cc30.png: too spherical 9.388673011676037\n",
      "\n",
      "mean_270619-video2_000-037_opened_cc03.png is INTERESTING\n"
     ]
    },
    {
     "name": "stderr",
     "output_type": "stream",
     "text": [
      "\r",
      " 73%|███████▎  | 37/51 [00:30<00:13,  1.02it/s]"
     ]
    },
    {
     "name": "stdout",
     "output_type": "stream",
     "text": [
      "\n",
      "video2_000-036-video2_000-037: overlap = 0.0\n",
      "\n",
      "mean_270619-video2_000-039_opened_cc02.png is INTERESTING\n",
      "\n",
      "video2_000-038-video2_000-039: overlap = 0.0\n",
      "\n",
      "video2_000-038-video2_000-039: overlap = 0.0\n"
     ]
    },
    {
     "name": "stderr",
     "output_type": "stream",
     "text": [
      "\r",
      " 75%|███████▍  | 38/51 [00:32<00:18,  1.42s/it]"
     ]
    },
    {
     "name": "stdout",
     "output_type": "stream",
     "text": [
      "\n",
      "video2_000-038-video2_000-039: overlap = 0.0\n",
      "\n",
      "mean_270619-video2_000-039_opened_cc28.png is INTERESTING\n",
      "\n",
      "video2_000-038-video2_000-039: overlap = 0.0\n",
      "\n",
      "video2_000-038-video2_000-039: overlap = 0.0\n"
     ]
    },
    {
     "name": "stderr",
     "output_type": "stream",
     "text": [
      "\r",
      " 76%|███████▋  | 39/51 [00:35<00:20,  1.71s/it]"
     ]
    },
    {
     "name": "stdout",
     "output_type": "stream",
     "text": [
      "\n",
      "video2_000-038-video2_000-039: overlap = 0.0\n"
     ]
    },
    {
     "name": "stderr",
     "output_type": "stream",
     "text": [
      "\r",
      " 78%|███████▊  | 40/51 [00:36<00:15,  1.40s/it]"
     ]
    },
    {
     "name": "stdout",
     "output_type": "stream",
     "text": [
      "\n",
      "mean_270619-video2_000-039_opened_cc54.png: too spherical 2.404690702348381\n",
      "\n",
      "mean_270619-video2_000-039_opened_cc59.png is INTERESTING\n",
      "\n",
      "video2_000-038-video2_000-039: overlap = 0.0\n",
      "\n",
      "video2_000-038-video2_000-039: overlap = 0.0\n"
     ]
    },
    {
     "name": "stderr",
     "output_type": "stream",
     "text": [
      "\r",
      " 80%|████████  | 41/51 [00:38<00:16,  1.69s/it]"
     ]
    },
    {
     "name": "stdout",
     "output_type": "stream",
     "text": [
      "\n",
      "video2_000-038-video2_000-039: overlap = 0.0\n"
     ]
    },
    {
     "name": "stderr",
     "output_type": "stream",
     "text": [
      "\r",
      " 82%|████████▏ | 42/51 [00:39<00:12,  1.39s/it]"
     ]
    },
    {
     "name": "stdout",
     "output_type": "stream",
     "text": [
      "\n",
      "mean_270619-video2_000-039_opened_cc76.png: too spherical 4.084308325562981\n",
      "\n",
      "mean_270619-video2_000-039_opened_cc77.png is INTERESTING\n",
      "\n",
      "video2_000-038-video2_000-039: overlap = 0.0\n",
      "\n",
      "video2_000-038-video2_000-039: overlap = 0.0\n"
     ]
    },
    {
     "name": "stderr",
     "output_type": "stream",
     "text": [
      "\r",
      " 84%|████████▍ | 43/51 [00:41<00:13,  1.68s/it]"
     ]
    },
    {
     "name": "stdout",
     "output_type": "stream",
     "text": [
      "\n",
      "video2_000-038-video2_000-039: overlap = 0.510958904109589\n"
     ]
    },
    {
     "name": "stderr",
     "output_type": "stream",
     "text": [
      "\r",
      " 86%|████████▋ | 44/51 [00:42<00:09,  1.38s/it]"
     ]
    },
    {
     "name": "stdout",
     "output_type": "stream",
     "text": [
      "\n",
      "mean_270619-video2_000-043_opened_cc05.png is INTERESTING\n"
     ]
    },
    {
     "name": "stderr",
     "output_type": "stream",
     "text": [
      "\r",
      " 88%|████████▊ | 45/51 [00:42<00:06,  1.15s/it]"
     ]
    },
    {
     "name": "stdout",
     "output_type": "stream",
     "text": [
      "\n",
      "mean_270619-video2_000-043_opened_cc13.png: too spherical 3.624042257090934\n"
     ]
    },
    {
     "name": "stderr",
     "output_type": "stream",
     "text": [
      "\r",
      " 90%|█████████ | 46/51 [00:43<00:04,  1.01it/s]"
     ]
    },
    {
     "name": "stdout",
     "output_type": "stream",
     "text": [
      "\n",
      "mean_270619-video2_000-043_opened_cc31.png is INTERESTING\n"
     ]
    },
    {
     "name": "stderr",
     "output_type": "stream",
     "text": [
      "\r",
      " 92%|█████████▏| 47/51 [00:43<00:03,  1.14it/s]"
     ]
    },
    {
     "name": "stdout",
     "output_type": "stream",
     "text": [
      "\n",
      "mean_270619-video2_000-044_opened_cc02.png: too spherical 9.032512560103408\n"
     ]
    },
    {
     "name": "stderr",
     "output_type": "stream",
     "text": [
      "\r",
      " 94%|█████████▍| 48/51 [00:44<00:02,  1.25it/s]"
     ]
    },
    {
     "name": "stdout",
     "output_type": "stream",
     "text": [
      "\n",
      "mean_270619-video2_000-044_opened_cc14.png: too spherical 2.512104156399837\n"
     ]
    },
    {
     "name": "stderr",
     "output_type": "stream",
     "text": [
      "\r",
      " 96%|█████████▌| 49/51 [00:45<00:01,  1.34it/s]"
     ]
    },
    {
     "name": "stdout",
     "output_type": "stream",
     "text": [
      "\n",
      "mean_270619-video2_000-044_opened_cc38.png: too spherical 2.6712674186204164\n",
      "\n",
      "mean_270619-video2_000-044_opened_cc49.png is INTERESTING\n",
      "\n",
      "video2_000-043-video2_000-044: overlap = 0.0\n"
     ]
    },
    {
     "name": "stderr",
     "output_type": "stream",
     "text": [
      "\r",
      " 98%|█████████▊| 50/51 [00:46<00:01,  1.06s/it]"
     ]
    },
    {
     "name": "stdout",
     "output_type": "stream",
     "text": [
      "\n",
      "video2_000-043-video2_000-044: overlap = 0.0\n"
     ]
    },
    {
     "name": "stderr",
     "output_type": "stream",
     "text": [
      "100%|██████████| 51/51 [00:47<00:00,  1.08it/s]\n",
      "  0%|          | 0/32 [00:00<?, ?it/s]"
     ]
    },
    {
     "name": "stdout",
     "output_type": "stream",
     "text": [
      "\n",
      "mean_270619-video2_000-044_opened_cc50.png: too spherical 2.043606834032354\n",
      "found video2_001/trigger_thr0.005_cl9_op3/cc_filtered_2den0.81_gausrad2.0/\n"
     ]
    },
    {
     "name": "stderr",
     "output_type": "stream",
     "text": [
      "\r",
      "  3%|▎         | 1/32 [00:00<00:23,  1.31it/s]"
     ]
    },
    {
     "name": "stdout",
     "output_type": "stream",
     "text": [
      "\n",
      "mean_270619-video2_001-001_opened_cc26.png: too spherical 4.853474919191273\n"
     ]
    },
    {
     "name": "stderr",
     "output_type": "stream",
     "text": [
      "\r",
      "  6%|▋         | 2/32 [00:01<00:21,  1.38it/s]"
     ]
    },
    {
     "name": "stdout",
     "output_type": "stream",
     "text": [
      "\n",
      "mean_270619-video2_001-002_opened_cc01.png is INTERESTING\n"
     ]
    },
    {
     "name": "stderr",
     "output_type": "stream",
     "text": [
      "\r",
      "  9%|▉         | 3/32 [00:02<00:20,  1.45it/s]"
     ]
    },
    {
     "name": "stdout",
     "output_type": "stream",
     "text": [
      "\n",
      "mean_270619-video2_001-002_opened_cc11.png: too spherical 7.7247900150889235\n"
     ]
    },
    {
     "name": "stderr",
     "output_type": "stream",
     "text": [
      "\r",
      " 12%|█▎        | 4/32 [00:02<00:18,  1.47it/s]"
     ]
    },
    {
     "name": "stdout",
     "output_type": "stream",
     "text": [
      "\n",
      "mean_270619-video2_001-002_opened_cc14.png: too spherical 8.112582819179659\n"
     ]
    },
    {
     "name": "stderr",
     "output_type": "stream",
     "text": [
      "\r",
      " 16%|█▌        | 5/32 [00:03<00:17,  1.51it/s]"
     ]
    },
    {
     "name": "stdout",
     "output_type": "stream",
     "text": [
      "\n",
      "mean_270619-video2_001-002_opened_cc24.png is INTERESTING\n"
     ]
    },
    {
     "name": "stderr",
     "output_type": "stream",
     "text": [
      "\r",
      " 19%|█▉        | 6/32 [00:03<00:17,  1.50it/s]"
     ]
    },
    {
     "name": "stdout",
     "output_type": "stream",
     "text": [
      "\n",
      "mean_270619-video2_001-002_opened_cc32.png: too spherical 3.382034136121451\n"
     ]
    },
    {
     "name": "stderr",
     "output_type": "stream",
     "text": [
      "\r",
      " 22%|██▏       | 7/32 [00:04<00:16,  1.53it/s]"
     ]
    },
    {
     "name": "stdout",
     "output_type": "stream",
     "text": [
      "\n",
      "mean_270619-video2_001-020_opened_cc22.png: too spherical 7.361916736688792\n"
     ]
    },
    {
     "name": "stderr",
     "output_type": "stream",
     "text": [
      "\r",
      " 25%|██▌       | 8/32 [00:05<00:15,  1.53it/s]"
     ]
    },
    {
     "name": "stdout",
     "output_type": "stream",
     "text": [
      "\n",
      "mean_270619-video2_001-020_opened_cc24.png: too spherical 6.820297011292038\n"
     ]
    },
    {
     "name": "stderr",
     "output_type": "stream",
     "text": [
      "\r",
      " 28%|██▊       | 9/32 [00:05<00:14,  1.55it/s]"
     ]
    },
    {
     "name": "stdout",
     "output_type": "stream",
     "text": [
      "\n",
      "mean_270619-video2_001-020_opened_cc31.png is INTERESTING\n"
     ]
    },
    {
     "name": "stderr",
     "output_type": "stream",
     "text": [
      "\r",
      " 31%|███▏      | 10/32 [00:06<00:14,  1.55it/s]"
     ]
    },
    {
     "name": "stdout",
     "output_type": "stream",
     "text": [
      "\n",
      "mean_270619-video2_001-020_opened_cc61.png: too spherical 5.307218924192093\n"
     ]
    },
    {
     "name": "stderr",
     "output_type": "stream",
     "text": [
      "\r",
      " 34%|███▍      | 11/32 [00:07<00:14,  1.48it/s]"
     ]
    },
    {
     "name": "stdout",
     "output_type": "stream",
     "text": [
      "\n",
      "mean_270619-video2_001-023_opened_cc03.png: too spherical 1.9250944484536174\n"
     ]
    },
    {
     "name": "stderr",
     "output_type": "stream",
     "text": [
      "\r",
      " 38%|███▊      | 12/32 [00:07<00:13,  1.52it/s]"
     ]
    },
    {
     "name": "stdout",
     "output_type": "stream",
     "text": [
      "\n",
      "mean_270619-video2_001-023_opened_cc35.png is INTERESTING\n"
     ]
    },
    {
     "name": "stderr",
     "output_type": "stream",
     "text": [
      "\r",
      " 41%|████      | 13/32 [00:08<00:12,  1.54it/s]"
     ]
    },
    {
     "name": "stdout",
     "output_type": "stream",
     "text": [
      "\n",
      "mean_270619-video2_001-023_opened_cc65.png is INTERESTING\n"
     ]
    },
    {
     "name": "stderr",
     "output_type": "stream",
     "text": [
      "\r",
      " 44%|████▍     | 14/32 [00:09<00:11,  1.55it/s]"
     ]
    },
    {
     "name": "stdout",
     "output_type": "stream",
     "text": [
      "\n",
      "mean_270619-video2_001-024_opened_cc31.png: too spherical 6.754487589402103\n"
     ]
    },
    {
     "name": "stderr",
     "output_type": "stream",
     "text": [
      "\r",
      " 47%|████▋     | 15/32 [00:09<00:11,  1.49it/s]"
     ]
    },
    {
     "name": "stdout",
     "output_type": "stream",
     "text": [
      "\n",
      "mean_270619-video2_001-024_opened_cc45.png: too spherical 1.3608077215256167\n",
      "\n",
      "mean_270619-video2_001-024_opened_cc50.png is INTERESTING\n"
     ]
    },
    {
     "name": "stderr",
     "output_type": "stream",
     "text": [
      "\r",
      " 50%|█████     | 16/32 [00:11<00:13,  1.21it/s]"
     ]
    },
    {
     "name": "stdout",
     "output_type": "stream",
     "text": [
      "\n",
      "video2_001-023-video2_001-024: overlap = 0.5925206410879067\n"
     ]
    },
    {
     "name": "stderr",
     "output_type": "stream",
     "text": [
      "\r",
      " 53%|█████▎    | 17/32 [00:11<00:11,  1.32it/s]"
     ]
    },
    {
     "name": "stdout",
     "output_type": "stream",
     "text": [
      "\n",
      "mean_270619-video2_001-025_opened_cc05.png: too spherical 1.309000357674428\n"
     ]
    },
    {
     "name": "stderr",
     "output_type": "stream",
     "text": [
      "\r",
      " 56%|█████▋    | 18/32 [00:12<00:10,  1.39it/s]"
     ]
    },
    {
     "name": "stdout",
     "output_type": "stream",
     "text": [
      "\n",
      "mean_270619-video2_001-025_opened_cc34.png: too spherical 3.2092369091076525\n",
      "\n",
      "mean_270619-video2_001-025_opened_cc55.png is INTERESTING\n"
     ]
    },
    {
     "name": "stderr",
     "output_type": "stream",
     "text": [
      "\r",
      " 59%|█████▉    | 19/32 [00:13<00:11,  1.16it/s]"
     ]
    },
    {
     "name": "stdout",
     "output_type": "stream",
     "text": [
      "\n",
      "video2_001-024-video2_001-025: overlap = 0.7962382445141065\n"
     ]
    },
    {
     "name": "stderr",
     "output_type": "stream",
     "text": [
      "\r",
      " 62%|██████▎   | 20/32 [00:14<00:09,  1.27it/s]"
     ]
    },
    {
     "name": "stdout",
     "output_type": "stream",
     "text": [
      "\n",
      "mean_270619-video2_001-025_opened_cc57.png: too spherical 3.284258887686728\n"
     ]
    },
    {
     "name": "stderr",
     "output_type": "stream",
     "text": [
      "\r",
      " 66%|██████▌   | 21/32 [00:14<00:08,  1.36it/s]"
     ]
    },
    {
     "name": "stdout",
     "output_type": "stream",
     "text": [
      "\n",
      "mean_270619-video2_001-025_opened_cc60.png is INTERESTING\n"
     ]
    },
    {
     "name": "stderr",
     "output_type": "stream",
     "text": [
      "\r",
      " 69%|██████▉   | 22/32 [00:15<00:07,  1.41it/s]"
     ]
    },
    {
     "name": "stdout",
     "output_type": "stream",
     "text": [
      "\n",
      "mean_270619-video2_001-025_opened_cc72.png is INTERESTING\n",
      "\n",
      "mean_270619-video2_001-026_opened_cc03.png is INTERESTING\n",
      "\n",
      "video2_001-025-video2_001-026: overlap = 0.0\n",
      "\n",
      "video2_001-025-video2_001-026: overlap = 0.0\n"
     ]
    },
    {
     "name": "stderr",
     "output_type": "stream",
     "text": [
      "\r",
      " 72%|███████▏  | 23/32 [00:17<00:10,  1.20s/it]"
     ]
    },
    {
     "name": "stdout",
     "output_type": "stream",
     "text": [
      "\n",
      "video2_001-025-video2_001-026: overlap = 0.0\n"
     ]
    },
    {
     "name": "stderr",
     "output_type": "stream",
     "text": [
      "\r",
      " 75%|███████▌  | 24/32 [00:18<00:08,  1.03s/it]"
     ]
    },
    {
     "name": "stdout",
     "output_type": "stream",
     "text": [
      "\n",
      "mean_270619-video2_001-026_opened_cc10.png: too spherical 6.991406829790614\n"
     ]
    },
    {
     "name": "stderr",
     "output_type": "stream",
     "text": [
      "\r",
      " 78%|███████▊  | 25/32 [00:18<00:06,  1.10it/s]"
     ]
    },
    {
     "name": "stdout",
     "output_type": "stream",
     "text": [
      "\n",
      "mean_270619-video2_001-026_opened_cc22.png: too spherical 3.139761326490548\n"
     ]
    },
    {
     "name": "stderr",
     "output_type": "stream",
     "text": [
      "\r",
      " 81%|████████▏ | 26/32 [00:19<00:04,  1.21it/s]"
     ]
    },
    {
     "name": "stdout",
     "output_type": "stream",
     "text": [
      "\n",
      "mean_270619-video2_001-026_opened_cc29.png: too spherical 8.230404443124828\n"
     ]
    },
    {
     "name": "stderr",
     "output_type": "stream",
     "text": [
      "\r",
      " 84%|████████▍ | 27/32 [00:20<00:03,  1.31it/s]"
     ]
    },
    {
     "name": "stdout",
     "output_type": "stream",
     "text": [
      "\n",
      "mean_270619-video2_001-026_opened_cc48.png: too spherical 7.071379779546126\n"
     ]
    },
    {
     "name": "stderr",
     "output_type": "stream",
     "text": [
      "\r",
      " 88%|████████▊ | 28/32 [00:20<00:02,  1.39it/s]"
     ]
    },
    {
     "name": "stdout",
     "output_type": "stream",
     "text": [
      "\n",
      "mean_270619-video2_001-041_opened_cc40.png is INTERESTING\n"
     ]
    },
    {
     "name": "stderr",
     "output_type": "stream",
     "text": [
      "\r",
      " 91%|█████████ | 29/32 [00:21<00:02,  1.45it/s]"
     ]
    },
    {
     "name": "stdout",
     "output_type": "stream",
     "text": [
      "\n",
      "mean_270619-video2_001-041_opened_cc56.png: too spherical 5.373369753728831\n"
     ]
    },
    {
     "name": "stderr",
     "output_type": "stream",
     "text": [
      "\r",
      " 94%|█████████▍| 30/32 [00:22<00:01,  1.50it/s]"
     ]
    },
    {
     "name": "stdout",
     "output_type": "stream",
     "text": [
      "\n",
      "mean_270619-video2_001-041_opened_cc73.png: too spherical 1.4087341210845394\n"
     ]
    },
    {
     "name": "stderr",
     "output_type": "stream",
     "text": [
      "\r",
      " 97%|█████████▋| 31/32 [00:22<00:00,  1.52it/s]"
     ]
    },
    {
     "name": "stdout",
     "output_type": "stream",
     "text": [
      "\n",
      "mean_270619-video2_001-020_opened_cc13.png: too spherical 6.930780194196621\n"
     ]
    },
    {
     "name": "stderr",
     "output_type": "stream",
     "text": [
      "100%|██████████| 32/32 [00:23<00:00,  1.55it/s]\n",
      "  0%|          | 0/45 [00:00<?, ?it/s]"
     ]
    },
    {
     "name": "stdout",
     "output_type": "stream",
     "text": [
      "\n",
      "mean_270619-video2_001-025_opened_cc108.png: too spherical 1.6247547941392049\n",
      "found video2_002/trigger_thr0.005_cl9_op3/cc_filtered_2den0.81_gausrad2.0/\n"
     ]
    },
    {
     "name": "stderr",
     "output_type": "stream",
     "text": [
      "\r",
      "  2%|▏         | 1/45 [00:00<00:28,  1.54it/s]"
     ]
    },
    {
     "name": "stdout",
     "output_type": "stream",
     "text": [
      "\n",
      "mean_270619-video2_002-017_opened_cc02.png is INTERESTING\n",
      "\n",
      "mean_270619-video2_002-018_opened_cc03.png is INTERESTING\n"
     ]
    },
    {
     "name": "stderr",
     "output_type": "stream",
     "text": [
      "\r",
      "  4%|▍         | 2/45 [00:01<00:36,  1.18it/s]"
     ]
    },
    {
     "name": "stdout",
     "output_type": "stream",
     "text": [
      "\n",
      "video2_002-017-video2_002-018: overlap = 0.839238845144357\n"
     ]
    },
    {
     "name": "stderr",
     "output_type": "stream",
     "text": [
      "\r",
      "  7%|▋         | 3/45 [00:02<00:33,  1.26it/s]"
     ]
    },
    {
     "name": "stdout",
     "output_type": "stream",
     "text": [
      "\n",
      "mean_270619-video2_002-018_opened_cc07.png: too spherical 7.993138783238395\n"
     ]
    },
    {
     "name": "stderr",
     "output_type": "stream",
     "text": [
      "\r",
      "  9%|▉         | 4/45 [00:03<00:30,  1.33it/s]"
     ]
    },
    {
     "name": "stdout",
     "output_type": "stream",
     "text": [
      "\n",
      "mean_270619-video2_002-018_opened_cc15.png: too spherical 2.757082018578729\n"
     ]
    },
    {
     "name": "stderr",
     "output_type": "stream",
     "text": [
      "\r",
      " 11%|█         | 5/45 [00:03<00:29,  1.38it/s]"
     ]
    },
    {
     "name": "stdout",
     "output_type": "stream",
     "text": [
      "\n",
      "mean_270619-video2_002-018_opened_cc26.png is INTERESTING\n"
     ]
    },
    {
     "name": "stderr",
     "output_type": "stream",
     "text": [
      "\r",
      " 13%|█▎        | 6/45 [00:04<00:27,  1.42it/s]"
     ]
    },
    {
     "name": "stdout",
     "output_type": "stream",
     "text": [
      "\n",
      "mean_270619-video2_002-018_opened_cc47.png is INTERESTING\n"
     ]
    },
    {
     "name": "stderr",
     "output_type": "stream",
     "text": [
      "\r",
      " 16%|█▌        | 7/45 [00:05<00:25,  1.46it/s]"
     ]
    },
    {
     "name": "stdout",
     "output_type": "stream",
     "text": [
      "\n",
      "mean_270619-video2_002-018_opened_cc51.png: too spherical 8.973486484972291\n"
     ]
    },
    {
     "name": "stderr",
     "output_type": "stream",
     "text": [
      "\r",
      " 18%|█▊        | 8/45 [00:05<00:24,  1.49it/s]"
     ]
    },
    {
     "name": "stdout",
     "output_type": "stream",
     "text": [
      "\n",
      "mean_270619-video2_002-018_opened_cc58.png: too spherical 3.671642462434248\n",
      "\n",
      "mean_270619-video2_002-019_opened_cc08.png is INTERESTING\n",
      "\n",
      "video2_002-018-video2_002-019: overlap = 0.0\n",
      "\n",
      "video2_002-018-video2_002-019: overlap = 0.0\n"
     ]
    },
    {
     "name": "stderr",
     "output_type": "stream",
     "text": [
      "\r",
      " 20%|██        | 9/45 [00:08<00:42,  1.19s/it]"
     ]
    },
    {
     "name": "stdout",
     "output_type": "stream",
     "text": [
      "\n",
      "video2_002-018-video2_002-019: overlap = 0.0\n"
     ]
    },
    {
     "name": "stderr",
     "output_type": "stream",
     "text": [
      "\r",
      " 22%|██▏       | 10/45 [00:08<00:35,  1.02s/it]"
     ]
    },
    {
     "name": "stdout",
     "output_type": "stream",
     "text": [
      "\n",
      "mean_270619-video2_002-019_opened_cc12.png: too spherical 7.956121307548559\n",
      "\n",
      "mean_270619-video2_002-019_opened_cc19.png is INTERESTING\n",
      "\n",
      "video2_002-018-video2_002-019: overlap = 0.0\n",
      "\n",
      "video2_002-018-video2_002-019: overlap = 0.0\n"
     ]
    },
    {
     "name": "stderr",
     "output_type": "stream",
     "text": [
      "\r",
      " 24%|██▍       | 11/45 [00:11<00:48,  1.42s/it]"
     ]
    },
    {
     "name": "stdout",
     "output_type": "stream",
     "text": [
      "\n",
      "video2_002-018-video2_002-019: overlap = 0.0\n"
     ]
    },
    {
     "name": "stderr",
     "output_type": "stream",
     "text": [
      "\r",
      " 27%|██▋       | 12/45 [00:11<00:38,  1.18s/it]"
     ]
    },
    {
     "name": "stdout",
     "output_type": "stream",
     "text": [
      "\n",
      "mean_270619-video2_002-019_opened_cc31.png: too spherical 4.390116504699563\n"
     ]
    },
    {
     "name": "stderr",
     "output_type": "stream",
     "text": [
      "\r",
      " 29%|██▉       | 13/45 [00:12<00:32,  1.02s/it]"
     ]
    },
    {
     "name": "stdout",
     "output_type": "stream",
     "text": [
      "\n",
      "mean_270619-video2_002-019_opened_cc41.png: too spherical 4.7434794363093395\n"
     ]
    },
    {
     "name": "stderr",
     "output_type": "stream",
     "text": [
      "\r",
      " 31%|███       | 14/45 [00:13<00:28,  1.10it/s]"
     ]
    },
    {
     "name": "stdout",
     "output_type": "stream",
     "text": [
      "\n",
      "mean_270619-video2_002-020_opened_cc02.png: too spherical 4.381299076165145\n"
     ]
    },
    {
     "name": "stderr",
     "output_type": "stream",
     "text": [
      "\r",
      " 33%|███▎      | 15/45 [00:13<00:25,  1.18it/s]"
     ]
    },
    {
     "name": "stdout",
     "output_type": "stream",
     "text": [
      "\n",
      "mean_270619-video2_002-020_opened_cc09.png: too spherical 2.1703066282455974\n"
     ]
    },
    {
     "name": "stderr",
     "output_type": "stream",
     "text": [
      "\r",
      " 36%|███▌      | 16/45 [00:14<00:22,  1.28it/s]"
     ]
    },
    {
     "name": "stdout",
     "output_type": "stream",
     "text": [
      "\n",
      "mean_270619-video2_002-020_opened_cc15.png: too spherical 5.757998843812614\n",
      "\n",
      "mean_270619-video2_002-020_opened_cc40.png is INTERESTING\n",
      "\n",
      "video2_002-019-video2_002-020: overlap = 0.0\n"
     ]
    },
    {
     "name": "stderr",
     "output_type": "stream",
     "text": [
      "\r",
      " 38%|███▊      | 17/45 [00:16<00:29,  1.07s/it]"
     ]
    },
    {
     "name": "stdout",
     "output_type": "stream",
     "text": [
      "\n",
      "video2_002-019-video2_002-020: overlap = 0.0\n"
     ]
    },
    {
     "name": "stderr",
     "output_type": "stream",
     "text": [
      "\r",
      " 40%|████      | 18/45 [00:16<00:25,  1.07it/s]"
     ]
    },
    {
     "name": "stdout",
     "output_type": "stream",
     "text": [
      "\n",
      "mean_270619-video2_002-020_opened_cc49.png: too spherical 9.151195685724451\n"
     ]
    },
    {
     "name": "stderr",
     "output_type": "stream",
     "text": [
      "\r",
      " 42%|████▏     | 19/45 [00:17<00:21,  1.19it/s]"
     ]
    },
    {
     "name": "stdout",
     "output_type": "stream",
     "text": [
      "\n",
      "mean_270619-video2_002-027_opened_cc03.png is INTERESTING\n"
     ]
    },
    {
     "name": "stderr",
     "output_type": "stream",
     "text": [
      "\r",
      " 44%|████▍     | 20/45 [00:18<00:19,  1.26it/s]"
     ]
    },
    {
     "name": "stdout",
     "output_type": "stream",
     "text": [
      "\n",
      "mean_270619-video2_002-027_opened_cc22.png: too spherical 5.374683299191739\n"
     ]
    },
    {
     "name": "stderr",
     "output_type": "stream",
     "text": [
      "\r",
      " 47%|████▋     | 21/45 [00:18<00:17,  1.35it/s]"
     ]
    },
    {
     "name": "stdout",
     "output_type": "stream",
     "text": [
      "\n",
      "mean_270619-video2_002-027_opened_cc38.png: too spherical 3.7262126905110797\n"
     ]
    },
    {
     "name": "stderr",
     "output_type": "stream",
     "text": [
      "\r",
      " 49%|████▉     | 22/45 [00:19<00:16,  1.40it/s]"
     ]
    },
    {
     "name": "stdout",
     "output_type": "stream",
     "text": [
      "\n",
      "mean_270619-video2_002-027_opened_cc65.png is INTERESTING\n",
      "\n",
      "mean_270619-video2_002-028_opened_cc05.png is INTERESTING\n",
      "\n",
      "video2_002-027-video2_002-028: overlap = 0.2837127845884413\n"
     ]
    },
    {
     "name": "stderr",
     "output_type": "stream",
     "text": [
      "\r",
      " 51%|█████     | 23/45 [00:21<00:23,  1.05s/it]"
     ]
    },
    {
     "name": "stdout",
     "output_type": "stream",
     "text": [
      "\n",
      "video2_002-027-video2_002-028: overlap = 0.0\n",
      "\n",
      "mean_270619-video2_002-028_opened_cc09.png is INTERESTING\n",
      "\n",
      "video2_002-027-video2_002-028: overlap = 0.0\n"
     ]
    },
    {
     "name": "stderr",
     "output_type": "stream",
     "text": [
      "\r",
      " 53%|█████▎    | 24/45 [00:23<00:26,  1.27s/it]"
     ]
    },
    {
     "name": "stdout",
     "output_type": "stream",
     "text": [
      "\n",
      "video2_002-027-video2_002-028: overlap = 0.0\n"
     ]
    },
    {
     "name": "stderr",
     "output_type": "stream",
     "text": [
      "\r",
      " 56%|█████▌    | 25/45 [00:23<00:21,  1.08s/it]"
     ]
    },
    {
     "name": "stdout",
     "output_type": "stream",
     "text": [
      "\n",
      "mean_270619-video2_002-028_opened_cc10.png: too spherical 1.6539213963722526\n"
     ]
    },
    {
     "name": "stderr",
     "output_type": "stream",
     "text": [
      "\r",
      " 58%|█████▊    | 26/45 [00:24<00:18,  1.05it/s]"
     ]
    },
    {
     "name": "stdout",
     "output_type": "stream",
     "text": [
      "\n",
      "mean_270619-video2_002-028_opened_cc20.png: too spherical 1.416322331822595\n"
     ]
    },
    {
     "name": "stderr",
     "output_type": "stream",
     "text": [
      "\r",
      " 60%|██████    | 27/45 [00:24<00:15,  1.17it/s]"
     ]
    },
    {
     "name": "stdout",
     "output_type": "stream",
     "text": [
      "\n",
      "mean_270619-video2_002-028_opened_cc69.png: too spherical 1.417287915805048\n",
      "\n",
      "mean_270619-video2_002-029_opened_cc05.png is INTERESTING\n"
     ]
    },
    {
     "name": "stderr",
     "output_type": "stream",
     "text": [
      "\r",
      " 62%|██████▏   | 28/45 [00:26<00:17,  1.00s/it]"
     ]
    },
    {
     "name": "stdout",
     "output_type": "stream",
     "text": [
      "\n",
      "video2_002-028-video2_002-029: overlap = 0.5157088122605364\n"
     ]
    },
    {
     "name": "stderr",
     "output_type": "stream",
     "text": [
      "\r",
      " 64%|██████▍   | 29/45 [00:27<00:14,  1.10it/s]"
     ]
    },
    {
     "name": "stdout",
     "output_type": "stream",
     "text": [
      "\n",
      "mean_270619-video2_002-029_opened_cc11.png: too spherical 2.915861575833194\n"
     ]
    },
    {
     "name": "stderr",
     "output_type": "stream",
     "text": [
      "\r",
      " 67%|██████▋   | 30/45 [00:27<00:12,  1.18it/s]"
     ]
    },
    {
     "name": "stdout",
     "output_type": "stream",
     "text": [
      "\n",
      "mean_270619-video2_002-029_opened_cc21.png: too spherical 4.404026606986247\n"
     ]
    },
    {
     "name": "stderr",
     "output_type": "stream",
     "text": [
      "\r",
      " 69%|██████▉   | 31/45 [00:28<00:12,  1.16it/s]"
     ]
    },
    {
     "name": "stdout",
     "output_type": "stream",
     "text": [
      "\n",
      "mean_270619-video2_002-019_opened_cc01.png: too spherical 3.5829403640549744\n"
     ]
    },
    {
     "name": "stderr",
     "output_type": "stream",
     "text": [
      "\r",
      " 71%|███████   | 32/45 [00:29<00:12,  1.05it/s]"
     ]
    },
    {
     "name": "stdout",
     "output_type": "stream",
     "text": [
      "\n",
      "mean_270619-video2_002-027_opened_cc11.png is INTERESTING\n"
     ]
    },
    {
     "name": "stderr",
     "output_type": "stream",
     "text": [
      "\r",
      " 73%|███████▎  | 33/45 [00:30<00:12,  1.00s/it]"
     ]
    },
    {
     "name": "stdout",
     "output_type": "stream",
     "text": [
      "\n",
      "mean_270619-video2_002-029_opened_cc37.png: too spherical 2.3751797492845457\n"
     ]
    },
    {
     "name": "stderr",
     "output_type": "stream",
     "text": [
      "\r",
      " 76%|███████▌  | 34/45 [00:32<00:11,  1.04s/it]"
     ]
    },
    {
     "name": "stdout",
     "output_type": "stream",
     "text": [
      "\n",
      "mean_270619-video2_002-030_opened_cc07.png: too spherical 5.821894009513413\n"
     ]
    },
    {
     "name": "stderr",
     "output_type": "stream",
     "text": [
      "\r",
      " 78%|███████▊  | 35/45 [00:33<00:10,  1.04s/it]"
     ]
    },
    {
     "name": "stdout",
     "output_type": "stream",
     "text": [
      "\n",
      "mean_270619-video2_002-030_opened_cc21.png: too spherical 5.135665105930967\n"
     ]
    },
    {
     "name": "stderr",
     "output_type": "stream",
     "text": [
      "\r",
      " 80%|████████  | 36/45 [00:34<00:09,  1.07s/it]"
     ]
    },
    {
     "name": "stdout",
     "output_type": "stream",
     "text": [
      "\n",
      "mean_270619-video2_002-030_opened_cc40.png: too spherical 2.333939783829976\n"
     ]
    },
    {
     "name": "stderr",
     "output_type": "stream",
     "text": [
      "\r",
      " 82%|████████▏ | 37/45 [00:35<00:08,  1.01s/it]"
     ]
    },
    {
     "name": "stdout",
     "output_type": "stream",
     "text": [
      "\n",
      "mean_270619-video2_002-030_opened_cc43.png: too spherical 3.6903395953009603\n"
     ]
    },
    {
     "name": "stderr",
     "output_type": "stream",
     "text": [
      "\r",
      " 84%|████████▍ | 38/45 [00:36<00:06,  1.02it/s]"
     ]
    },
    {
     "name": "stdout",
     "output_type": "stream",
     "text": [
      "\n",
      "mean_270619-video2_002-030_opened_cc59.png: too spherical 4.359525264313313\n"
     ]
    },
    {
     "name": "stderr",
     "output_type": "stream",
     "text": [
      "\r",
      " 87%|████████▋ | 39/45 [00:36<00:05,  1.15it/s]"
     ]
    },
    {
     "name": "stdout",
     "output_type": "stream",
     "text": [
      "\n",
      "mean_270619-video2_002-030_opened_cc62.png: too spherical 5.091888649212216\n"
     ]
    },
    {
     "name": "stderr",
     "output_type": "stream",
     "text": [
      "\r",
      " 89%|████████▉ | 40/45 [00:37<00:04,  1.24it/s]"
     ]
    },
    {
     "name": "stdout",
     "output_type": "stream",
     "text": [
      "\n",
      "mean_270619-video2_002-030_opened_cc65.png: too spherical 8.081619339115656\n"
     ]
    },
    {
     "name": "stderr",
     "output_type": "stream",
     "text": [
      "\r",
      " 91%|█████████ | 41/45 [00:37<00:03,  1.32it/s]"
     ]
    },
    {
     "name": "stdout",
     "output_type": "stream",
     "text": [
      "\n",
      "mean_270619-video2_002-030_opened_cc80.png: too spherical 7.4812934247877845\n"
     ]
    },
    {
     "name": "stderr",
     "output_type": "stream",
     "text": [
      "\r",
      " 93%|█████████▎| 42/45 [00:38<00:02,  1.17it/s]"
     ]
    },
    {
     "name": "stdout",
     "output_type": "stream",
     "text": [
      "\n",
      "mean_270619-video2_002-031_opened_cc19.png: too spherical 3.249166072995379\n"
     ]
    },
    {
     "name": "stderr",
     "output_type": "stream",
     "text": [
      "\r",
      " 96%|█████████▌| 43/45 [00:40<00:01,  1.10it/s]"
     ]
    },
    {
     "name": "stdout",
     "output_type": "stream",
     "text": [
      "\n",
      "mean_270619-video2_002-031_opened_cc26.png is INTERESTING\n"
     ]
    },
    {
     "name": "stderr",
     "output_type": "stream",
     "text": [
      "\r",
      " 98%|█████████▊| 44/45 [00:41<00:00,  1.02it/s]"
     ]
    },
    {
     "name": "stdout",
     "output_type": "stream",
     "text": [
      "\n",
      "mean_270619-video2_002-031_opened_cc38.png: too spherical 1.3950471891783143\n"
     ]
    },
    {
     "name": "stderr",
     "output_type": "stream",
     "text": [
      "100%|██████████| 45/45 [00:42<00:00,  1.02s/it]\n",
      "  0%|          | 0/46 [00:00<?, ?it/s]"
     ]
    },
    {
     "name": "stdout",
     "output_type": "stream",
     "text": [
      "\n",
      "mean_270619-video2_002-031_opened_cc57.png: too spherical 2.624561348753169\n",
      "found video2_003/trigger_thr0.005_cl9_op3/cc_filtered_2den0.81_gausrad2.0/\n"
     ]
    },
    {
     "name": "stderr",
     "output_type": "stream",
     "text": [
      "\r",
      "  2%|▏         | 1/46 [00:00<00:29,  1.53it/s]"
     ]
    },
    {
     "name": "stdout",
     "output_type": "stream",
     "text": [
      "\n",
      "mean_270619-video2_003-004_opened_cc10.png: too spherical 5.5567569350857\n"
     ]
    },
    {
     "name": "stderr",
     "output_type": "stream",
     "text": [
      "\r",
      "  4%|▍         | 2/46 [00:01<00:28,  1.53it/s]"
     ]
    },
    {
     "name": "stdout",
     "output_type": "stream",
     "text": [
      "\n",
      "mean_270619-video2_003-004_opened_cc52.png is INTERESTING\n",
      "\n",
      "mean_270619-video2_003-005_opened_cc17.png is INTERESTING\n"
     ]
    },
    {
     "name": "stderr",
     "output_type": "stream",
     "text": [
      "\r",
      "  7%|▋         | 3/46 [00:02<00:38,  1.10it/s]"
     ]
    },
    {
     "name": "stdout",
     "output_type": "stream",
     "text": [
      "\n",
      "video2_003-004-video2_003-005: overlap = 0.0\n"
     ]
    },
    {
     "name": "stderr",
     "output_type": "stream",
     "text": [
      "\r",
      "  9%|▊         | 4/46 [00:03<00:38,  1.10it/s]"
     ]
    },
    {
     "name": "stdout",
     "output_type": "stream",
     "text": [
      "\n",
      "mean_270619-video2_003-005_opened_cc24.png: too spherical 7.429010953885581\n",
      "\n",
      "mean_270619-video2_003-005_opened_cc43.png is INTERESTING\n"
     ]
    },
    {
     "name": "stderr",
     "output_type": "stream",
     "text": [
      "\r",
      " 11%|█         | 5/46 [00:04<00:40,  1.02it/s]"
     ]
    },
    {
     "name": "stdout",
     "output_type": "stream",
     "text": [
      "\n",
      "video2_003-004-video2_003-005: overlap = 0.0\n",
      "\n",
      "mean_270619-video2_003-005_opened_cc47.png is INTERESTING\n"
     ]
    },
    {
     "name": "stderr",
     "output_type": "stream",
     "text": [
      "\r",
      " 13%|█▎        | 6/46 [00:06<00:41,  1.04s/it]"
     ]
    },
    {
     "name": "stdout",
     "output_type": "stream",
     "text": [
      "\n",
      "video2_003-004-video2_003-005: overlap = 0.86158948845516\n"
     ]
    },
    {
     "name": "stderr",
     "output_type": "stream",
     "text": [
      "\r",
      " 15%|█▌        | 7/46 [00:06<00:35,  1.10it/s]"
     ]
    },
    {
     "name": "stdout",
     "output_type": "stream",
     "text": [
      "\n",
      "mean_270619-video2_003-005_opened_cc48.png is INTERESTING\n",
      "\n",
      "mean_270619-video2_003-006_opened_cc01.png is INTERESTING\n",
      "\n",
      "video2_003-005-video2_003-006: overlap = 0.0\n",
      "\n",
      "video2_003-005-video2_003-006: overlap = 0.0\n",
      "\n",
      "video2_003-005-video2_003-006: overlap = 0.0\n"
     ]
    },
    {
     "name": "stderr",
     "output_type": "stream",
     "text": [
      "\r",
      " 17%|█▋        | 8/46 [00:09<00:58,  1.54s/it]"
     ]
    },
    {
     "name": "stdout",
     "output_type": "stream",
     "text": [
      "\n",
      "video2_003-005-video2_003-006: overlap = 0.0\n"
     ]
    },
    {
     "name": "stderr",
     "output_type": "stream",
     "text": [
      "\r",
      " 20%|█▉        | 9/46 [00:10<00:48,  1.32s/it]"
     ]
    },
    {
     "name": "stdout",
     "output_type": "stream",
     "text": [
      "\n",
      "mean_270619-video2_003-006_opened_cc13.png: too spherical 5.401796941912322\n"
     ]
    },
    {
     "name": "stderr",
     "output_type": "stream",
     "text": [
      "\r",
      " 22%|██▏       | 10/46 [00:11<00:40,  1.13s/it]"
     ]
    },
    {
     "name": "stdout",
     "output_type": "stream",
     "text": [
      "\n",
      "mean_270619-video2_003-006_opened_cc21.png: too spherical 3.328053393747667\n",
      "\n",
      "mean_270619-video2_003-006_opened_cc23.png is INTERESTING\n",
      "\n",
      "video2_003-005-video2_003-006: overlap = 0.0\n",
      "\n",
      "video2_003-005-video2_003-006: overlap = 0.0\n",
      "\n",
      "video2_003-005-video2_003-006: overlap = 0.0\n"
     ]
    },
    {
     "name": "stderr",
     "output_type": "stream",
     "text": [
      "\r",
      " 24%|██▍       | 11/46 [00:14<01:01,  1.76s/it]"
     ]
    },
    {
     "name": "stdout",
     "output_type": "stream",
     "text": [
      "\n",
      "video2_003-005-video2_003-006: overlap = 0.0\n",
      "\n",
      "mean_270619-video2_003-006_opened_cc36.png is INTERESTING\n",
      "\n",
      "video2_003-005-video2_003-006: overlap = 0.0\n",
      "\n",
      "video2_003-005-video2_003-006: overlap = 0.0\n"
     ]
    },
    {
     "name": "stderr",
     "output_type": "stream",
     "text": [
      "\r",
      " 26%|██▌       | 12/46 [00:16<01:06,  1.96s/it]"
     ]
    },
    {
     "name": "stdout",
     "output_type": "stream",
     "text": [
      "\n",
      "video2_003-005-video2_003-006: overlap = 0.7511111111111111\n",
      "\n",
      "mean_270619-video2_003-006_opened_cc38.png is INTERESTING\n",
      "\n",
      "video2_003-005-video2_003-006: overlap = 0.0\n",
      "\n",
      "video2_003-005-video2_003-006: overlap = 0.0\n"
     ]
    },
    {
     "name": "stderr",
     "output_type": "stream",
     "text": [
      "\r",
      " 28%|██▊       | 13/46 [00:19<01:09,  2.12s/it]"
     ]
    },
    {
     "name": "stdout",
     "output_type": "stream",
     "text": [
      "\n",
      "video2_003-005-video2_003-006: overlap = 0.0\n",
      "\n",
      "mean_270619-video2_003-006_opened_cc40.png is INTERESTING\n"
     ]
    },
    {
     "name": "stderr",
     "output_type": "stream",
     "text": [
      "\r",
      " 30%|███       | 14/46 [00:20<00:59,  1.84s/it]"
     ]
    },
    {
     "name": "stdout",
     "output_type": "stream",
     "text": [
      "\n",
      "video2_003-005-video2_003-006: overlap = 0.8548136645962733\n",
      "\n",
      "mean_270619-video2_003-006_opened_cc42.png is INTERESTING\n",
      "\n",
      "video2_003-005-video2_003-006: overlap = 0.0\n"
     ]
    },
    {
     "name": "stderr",
     "output_type": "stream",
     "text": [
      "\r",
      " 33%|███▎      | 15/46 [00:22<00:58,  1.89s/it]"
     ]
    },
    {
     "name": "stdout",
     "output_type": "stream",
     "text": [
      "\n",
      "video2_003-005-video2_003-006: overlap = 0.294289897510981\n",
      "\n",
      "mean_270619-video2_003-007_opened_cc02.png is INTERESTING\n",
      "\n",
      "video2_003-006-video2_003-007: overlap = 0.0\n",
      "\n",
      "video2_003-006-video2_003-007: overlap = 0.0\n",
      "\n",
      "video2_003-006-video2_003-007: overlap = 0.24658618642390662\n",
      "\n",
      "video2_003-006-video2_003-007: overlap = 0.0\n",
      "\n",
      "video2_003-006-video2_003-007: overlap = 0.0\n"
     ]
    },
    {
     "name": "stderr",
     "output_type": "stream",
     "text": [
      "\r",
      " 35%|███▍      | 16/46 [00:27<01:21,  2.71s/it]"
     ]
    },
    {
     "name": "stdout",
     "output_type": "stream",
     "text": [
      "\n",
      "video2_003-006-video2_003-007: overlap = 0.0\n",
      "\n",
      "mean_270619-video2_003-007_opened_cc08.png is INTERESTING\n",
      "\n",
      "video2_003-006-video2_003-007: overlap = 0.0\n",
      "\n",
      "video2_003-006-video2_003-007: overlap = 0.0\n",
      "\n",
      "video2_003-006-video2_003-007: overlap = 0.0\n",
      "\n",
      "video2_003-006-video2_003-007: overlap = 0.0\n",
      "\n",
      "video2_003-006-video2_003-007: overlap = 0.0\n"
     ]
    },
    {
     "name": "stderr",
     "output_type": "stream",
     "text": [
      "\r",
      " 37%|███▋      | 17/46 [00:31<01:30,  3.12s/it]"
     ]
    },
    {
     "name": "stdout",
     "output_type": "stream",
     "text": [
      "\n",
      "video2_003-006-video2_003-007: overlap = 0.0\n"
     ]
    },
    {
     "name": "stderr",
     "output_type": "stream",
     "text": [
      "\r",
      " 39%|███▉      | 18/46 [00:31<01:06,  2.37s/it]"
     ]
    },
    {
     "name": "stdout",
     "output_type": "stream",
     "text": [
      "\n",
      "mean_270619-video2_003-007_opened_cc54.png: too spherical 3.2351371719569135\n"
     ]
    },
    {
     "name": "stderr",
     "output_type": "stream",
     "text": [
      "\r",
      " 41%|████▏     | 19/46 [00:32<00:49,  1.85s/it]"
     ]
    },
    {
     "name": "stdout",
     "output_type": "stream",
     "text": [
      "\n",
      "mean_270619-video2_003-007_opened_cc65.png: too spherical 8.846537596141179\n",
      "\n",
      "mean_270619-video2_003-008_opened_cc09.png is INTERESTING\n",
      "\n",
      "video2_003-007-video2_003-008: overlap = 0.0\n"
     ]
    },
    {
     "name": "stderr",
     "output_type": "stream",
     "text": [
      "\r",
      " 43%|████▎     | 20/46 [00:34<00:47,  1.82s/it]"
     ]
    },
    {
     "name": "stdout",
     "output_type": "stream",
     "text": [
      "\n",
      "video2_003-007-video2_003-008: overlap = 0.0\n"
     ]
    },
    {
     "name": "stderr",
     "output_type": "stream",
     "text": [
      "\r",
      " 46%|████▌     | 21/46 [00:34<00:36,  1.45s/it]"
     ]
    },
    {
     "name": "stdout",
     "output_type": "stream",
     "text": [
      "\n",
      "mean_270619-video2_003-008_opened_cc15.png: too spherical 7.210005765560857\n"
     ]
    },
    {
     "name": "stderr",
     "output_type": "stream",
     "text": [
      "\r",
      " 48%|████▊     | 22/46 [00:35<00:28,  1.20s/it]"
     ]
    },
    {
     "name": "stdout",
     "output_type": "stream",
     "text": [
      "\n",
      "mean_270619-video2_003-008_opened_cc47.png: too spherical 3.008495086045375\n"
     ]
    },
    {
     "name": "stderr",
     "output_type": "stream",
     "text": [
      "\r",
      " 50%|█████     | 23/46 [00:36<00:24,  1.05s/it]"
     ]
    },
    {
     "name": "stdout",
     "output_type": "stream",
     "text": [
      "\n",
      "mean_270619-video2_003-008_opened_cc66.png: too spherical 3.1121642894078185\n",
      "\n",
      "mean_270619-video2_003-008_opened_cc89.png is INTERESTING\n",
      "\n",
      "video2_003-007-video2_003-008: overlap = 0.0\n"
     ]
    },
    {
     "name": "stderr",
     "output_type": "stream",
     "text": [
      "\r",
      " 52%|█████▏    | 24/46 [00:37<00:28,  1.28s/it]"
     ]
    },
    {
     "name": "stdout",
     "output_type": "stream",
     "text": [
      "\n",
      "video2_003-007-video2_003-008: overlap = 0.0\n"
     ]
    },
    {
     "name": "stderr",
     "output_type": "stream",
     "text": [
      "\r",
      " 54%|█████▍    | 25/46 [00:38<00:22,  1.08s/it]"
     ]
    },
    {
     "name": "stdout",
     "output_type": "stream",
     "text": [
      "\n",
      "mean_270619-video2_003-040_opened_cc04.png: too spherical 4.211346745250106\n"
     ]
    },
    {
     "name": "stderr",
     "output_type": "stream",
     "text": [
      "\r",
      " 57%|█████▋    | 26/46 [00:39<00:18,  1.07it/s]"
     ]
    },
    {
     "name": "stdout",
     "output_type": "stream",
     "text": [
      "\n",
      "mean_270619-video2_003-040_opened_cc05.png is INTERESTING\n"
     ]
    },
    {
     "name": "stderr",
     "output_type": "stream",
     "text": [
      "\r",
      " 59%|█████▊    | 27/46 [00:39<00:16,  1.18it/s]"
     ]
    },
    {
     "name": "stdout",
     "output_type": "stream",
     "text": [
      "\n",
      "mean_270619-video2_003-040_opened_cc06.png is INTERESTING\n"
     ]
    },
    {
     "name": "stderr",
     "output_type": "stream",
     "text": [
      "\r",
      " 61%|██████    | 28/46 [00:40<00:14,  1.27it/s]"
     ]
    },
    {
     "name": "stdout",
     "output_type": "stream",
     "text": [
      "\n",
      "mean_270619-video2_003-040_opened_cc10.png is INTERESTING\n"
     ]
    },
    {
     "name": "stderr",
     "output_type": "stream",
     "text": [
      "\r",
      " 63%|██████▎   | 29/46 [00:41<00:12,  1.37it/s]"
     ]
    },
    {
     "name": "stdout",
     "output_type": "stream",
     "text": [
      "\n",
      "mean_270619-video2_003-040_opened_cc49.png: too spherical 9.33243403197895\n",
      "\n",
      "mean_270619-video2_003-041_opened_cc04.png is INTERESTING\n",
      "\n",
      "video2_003-040-video2_003-041: overlap = 0.0\n",
      "\n",
      "video2_003-040-video2_003-041: overlap = 0.0\n"
     ]
    },
    {
     "name": "stderr",
     "output_type": "stream",
     "text": [
      "\r",
      " 65%|██████▌   | 30/46 [00:43<00:19,  1.21s/it]"
     ]
    },
    {
     "name": "stdout",
     "output_type": "stream",
     "text": [
      "\n",
      "video2_003-040-video2_003-041: overlap = 0.0\n",
      "\n",
      "mean_270619-video2_003-006_opened_cc07.png is INTERESTING\n",
      "\n",
      "video2_003-005-video2_003-006: overlap = 0.0\n"
     ]
    },
    {
     "name": "stderr",
     "output_type": "stream",
     "text": [
      "\r",
      " 67%|██████▋   | 31/46 [00:45<00:20,  1.38s/it]"
     ]
    },
    {
     "name": "stdout",
     "output_type": "stream",
     "text": [
      "\n",
      "video2_003-005-video2_003-006: overlap = 0.0\n"
     ]
    },
    {
     "name": "stderr",
     "output_type": "stream",
     "text": [
      "\r",
      " 70%|██████▉   | 32/46 [00:45<00:16,  1.15s/it]"
     ]
    },
    {
     "name": "stdout",
     "output_type": "stream",
     "text": [
      "\n",
      "mean_270619-video2_003-008_opened_cc03.png: too spherical 8.860086819856148\n"
     ]
    },
    {
     "name": "stderr",
     "output_type": "stream",
     "text": [
      "\r",
      " 72%|███████▏  | 33/46 [00:46<00:13,  1.01s/it]"
     ]
    },
    {
     "name": "stdout",
     "output_type": "stream",
     "text": [
      "\n",
      "mean_270619-video2_003-041_opened_cc05.png: too spherical 1.992805208562306\n",
      "\n",
      "mean_270619-video2_003-041_opened_cc08.png is INTERESTING\n",
      "\n",
      "video2_003-040-video2_003-041: overlap = 0.0\n",
      "\n",
      "video2_003-040-video2_003-041: overlap = 0.0\n"
     ]
    },
    {
     "name": "stderr",
     "output_type": "stream",
     "text": [
      "\r",
      " 74%|███████▍  | 34/46 [00:48<00:17,  1.42s/it]"
     ]
    },
    {
     "name": "stdout",
     "output_type": "stream",
     "text": [
      "\n",
      "video2_003-040-video2_003-041: overlap = 0.0\n",
      "\n",
      "mean_270619-video2_003-041_opened_cc17.png is INTERESTING\n",
      "\n",
      "video2_003-040-video2_003-041: overlap = 0.0\n",
      "\n",
      "video2_003-040-video2_003-041: overlap = 0.0\n"
     ]
    },
    {
     "name": "stderr",
     "output_type": "stream",
     "text": [
      "\r",
      " 76%|███████▌  | 35/46 [00:51<00:18,  1.69s/it]"
     ]
    },
    {
     "name": "stdout",
     "output_type": "stream",
     "text": [
      "\n",
      "video2_003-040-video2_003-041: overlap = 0.0\n"
     ]
    },
    {
     "name": "stderr",
     "output_type": "stream",
     "text": [
      "\r",
      " 78%|███████▊  | 36/46 [00:51<00:13,  1.38s/it]"
     ]
    },
    {
     "name": "stdout",
     "output_type": "stream",
     "text": [
      "\n",
      "mean_270619-video2_003-042_opened_cc05.png: too spherical 1.299486207744466\n",
      "\n",
      "mean_270619-video2_003-042_opened_cc06.png is INTERESTING\n",
      "\n",
      "video2_003-041-video2_003-042: overlap = 0.0\n",
      "\n",
      "video2_003-041-video2_003-042: overlap = 0.4035455278001612\n"
     ]
    },
    {
     "name": "stderr",
     "output_type": "stream",
     "text": [
      "\r",
      " 80%|████████  | 37/46 [00:54<00:15,  1.69s/it]"
     ]
    },
    {
     "name": "stdout",
     "output_type": "stream",
     "text": [
      "\n",
      "video2_003-041-video2_003-042: overlap = 0.0\n",
      "\n",
      "mean_270619-video2_003-042_opened_cc39.png is INTERESTING\n",
      "\n",
      "video2_003-041-video2_003-042: overlap = 0.0\n",
      "\n",
      "video2_003-041-video2_003-042: overlap = 0.0\n"
     ]
    },
    {
     "name": "stderr",
     "output_type": "stream",
     "text": [
      "\r",
      " 83%|████████▎ | 38/46 [00:56<00:15,  1.89s/it]"
     ]
    },
    {
     "name": "stdout",
     "output_type": "stream",
     "text": [
      "\n",
      "video2_003-041-video2_003-042: overlap = 0.0\n",
      "\n",
      "mean_270619-video2_003-043_opened_cc03.png is INTERESTING\n",
      "\n",
      "video2_003-042-video2_003-043: overlap = 0.0\n"
     ]
    },
    {
     "name": "stderr",
     "output_type": "stream",
     "text": [
      "\r",
      " 85%|████████▍ | 39/46 [00:58<00:12,  1.85s/it]"
     ]
    },
    {
     "name": "stdout",
     "output_type": "stream",
     "text": [
      "\n",
      "video2_003-042-video2_003-043: overlap = 0.0\n"
     ]
    },
    {
     "name": "stderr",
     "output_type": "stream",
     "text": [
      "\r",
      " 87%|████████▋ | 40/46 [00:59<00:09,  1.50s/it]"
     ]
    },
    {
     "name": "stdout",
     "output_type": "stream",
     "text": [
      "\n",
      "mean_270619-video2_003-043_opened_cc04.png: too spherical 7.544166074428864\n",
      "\n",
      "mean_270619-video2_003-043_opened_cc10.png is INTERESTING\n",
      "\n",
      "video2_003-042-video2_003-043: overlap = 0.0\n"
     ]
    },
    {
     "name": "stderr",
     "output_type": "stream",
     "text": [
      "\r",
      " 89%|████████▉ | 41/46 [01:00<00:08,  1.63s/it]"
     ]
    },
    {
     "name": "stdout",
     "output_type": "stream",
     "text": [
      "\n",
      "video2_003-042-video2_003-043: overlap = 0.0\n",
      "\n",
      "mean_270619-video2_003-043_opened_cc23.png is INTERESTING\n",
      "\n",
      "video2_003-042-video2_003-043: overlap = 0.0\n"
     ]
    },
    {
     "name": "stderr",
     "output_type": "stream",
     "text": [
      "\r",
      " 91%|█████████▏| 42/46 [01:02<00:06,  1.69s/it]"
     ]
    },
    {
     "name": "stdout",
     "output_type": "stream",
     "text": [
      "\n",
      "video2_003-042-video2_003-043: overlap = 0.0\n",
      "\n",
      "mean_270619-video2_003-043_opened_cc32.png is INTERESTING\n",
      "\n",
      "video2_003-042-video2_003-043: overlap = 0.0\n"
     ]
    },
    {
     "name": "stderr",
     "output_type": "stream",
     "text": [
      "\r",
      " 93%|█████████▎| 43/46 [01:04<00:05,  1.73s/it]"
     ]
    },
    {
     "name": "stdout",
     "output_type": "stream",
     "text": [
      "\n",
      "video2_003-042-video2_003-043: overlap = 0.0\n",
      "\n",
      "mean_270619-video2_003-043_opened_cc38.png is INTERESTING\n",
      "\n",
      "video2_003-042-video2_003-043: overlap = 0.0\n"
     ]
    },
    {
     "name": "stderr",
     "output_type": "stream",
     "text": [
      "\r",
      " 96%|█████████▌| 44/46 [01:06<00:03,  1.78s/it]"
     ]
    },
    {
     "name": "stdout",
     "output_type": "stream",
     "text": [
      "\n",
      "video2_003-042-video2_003-043: overlap = 0.0\n",
      "\n",
      "mean_270619-video2_003-043_opened_cc46.png is INTERESTING\n",
      "\n",
      "video2_003-042-video2_003-043: overlap = 0.0\n"
     ]
    },
    {
     "name": "stderr",
     "output_type": "stream",
     "text": [
      "\r",
      " 98%|█████████▊| 45/46 [01:08<00:01,  1.79s/it]"
     ]
    },
    {
     "name": "stdout",
     "output_type": "stream",
     "text": [
      "\n",
      "video2_003-042-video2_003-043: overlap = 0.0\n"
     ]
    },
    {
     "name": "stderr",
     "output_type": "stream",
     "text": [
      "100%|██████████| 46/46 [01:08<00:00,  1.43s/it]\n",
      "  0%|          | 0/43 [00:00<?, ?it/s]"
     ]
    },
    {
     "name": "stdout",
     "output_type": "stream",
     "text": [
      "\n",
      "mean_270619-video2_003-043_opened_cc61.png: too spherical 2.9240175119930782\n",
      "found video2_004/trigger_thr0.005_cl9_op3/cc_filtered_2den0.81_gausrad2.0/\n"
     ]
    },
    {
     "name": "stderr",
     "output_type": "stream",
     "text": [
      "\r",
      "  2%|▏         | 1/43 [00:00<00:30,  1.37it/s]"
     ]
    },
    {
     "name": "stdout",
     "output_type": "stream",
     "text": [
      "\n",
      "mean_270619-video2_004-001_opened_cc05.png is INTERESTING\n"
     ]
    },
    {
     "name": "stderr",
     "output_type": "stream",
     "text": [
      "\r",
      "  5%|▍         | 2/43 [00:01<00:28,  1.44it/s]"
     ]
    },
    {
     "name": "stdout",
     "output_type": "stream",
     "text": [
      "\n",
      "mean_270619-video2_004-001_opened_cc08.png: too spherical 6.974688467911011\n"
     ]
    },
    {
     "name": "stderr",
     "output_type": "stream",
     "text": [
      "\r",
      "  7%|▋         | 3/43 [00:02<00:27,  1.46it/s]"
     ]
    },
    {
     "name": "stdout",
     "output_type": "stream",
     "text": [
      "\n",
      "mean_270619-video2_004-001_opened_cc19.png: too spherical 4.559983919075375\n"
     ]
    },
    {
     "name": "stderr",
     "output_type": "stream",
     "text": [
      "\r",
      "  9%|▉         | 4/43 [00:02<00:25,  1.51it/s]"
     ]
    },
    {
     "name": "stdout",
     "output_type": "stream",
     "text": [
      "\n",
      "mean_270619-video2_004-001_opened_cc32.png: too spherical 1.5642399260368443\n"
     ]
    },
    {
     "name": "stderr",
     "output_type": "stream",
     "text": [
      "\r",
      " 12%|█▏        | 5/43 [00:03<00:24,  1.53it/s]"
     ]
    },
    {
     "name": "stdout",
     "output_type": "stream",
     "text": [
      "\n",
      "mean_270619-video2_004-001_opened_cc53.png: too spherical 3.3919849221303804\n"
     ]
    },
    {
     "name": "stderr",
     "output_type": "stream",
     "text": [
      "\r",
      " 14%|█▍        | 6/43 [00:03<00:23,  1.56it/s]"
     ]
    },
    {
     "name": "stdout",
     "output_type": "stream",
     "text": [
      "\n",
      "mean_270619-video2_004-001_opened_cc62.png is INTERESTING\n"
     ]
    },
    {
     "name": "stderr",
     "output_type": "stream",
     "text": [
      "\r",
      " 16%|█▋        | 7/43 [00:04<00:23,  1.55it/s]"
     ]
    },
    {
     "name": "stdout",
     "output_type": "stream",
     "text": [
      "\n",
      "mean_270619-video2_004-026_opened_cc02.png is INTERESTING\n"
     ]
    },
    {
     "name": "stderr",
     "output_type": "stream",
     "text": [
      "\r",
      " 19%|█▊        | 8/43 [00:05<00:22,  1.54it/s]"
     ]
    },
    {
     "name": "stdout",
     "output_type": "stream",
     "text": [
      "\n",
      "mean_270619-video2_004-026_opened_cc35.png: too spherical 9.769214554513237\n"
     ]
    },
    {
     "name": "stderr",
     "output_type": "stream",
     "text": [
      "\r",
      " 21%|██        | 9/43 [00:05<00:22,  1.55it/s]"
     ]
    },
    {
     "name": "stdout",
     "output_type": "stream",
     "text": [
      "\n",
      "mean_270619-video2_004-026_opened_cc37.png: too spherical 8.481492794639195\n"
     ]
    },
    {
     "name": "stderr",
     "output_type": "stream",
     "text": [
      "\r",
      " 23%|██▎       | 10/43 [00:06<00:21,  1.52it/s]"
     ]
    },
    {
     "name": "stdout",
     "output_type": "stream",
     "text": [
      "\n",
      "mean_270619-video2_004-026_opened_cc40.png: too spherical 1.4092193655819516\n"
     ]
    },
    {
     "name": "stderr",
     "output_type": "stream",
     "text": [
      "\r",
      " 26%|██▌       | 11/43 [00:07<00:20,  1.54it/s]"
     ]
    },
    {
     "name": "stdout",
     "output_type": "stream",
     "text": [
      "\n",
      "mean_270619-video2_004-026_opened_cc59.png: too spherical 1.6362123325640499\n"
     ]
    },
    {
     "name": "stderr",
     "output_type": "stream",
     "text": [
      "\r",
      " 28%|██▊       | 12/43 [00:07<00:19,  1.56it/s]"
     ]
    },
    {
     "name": "stdout",
     "output_type": "stream",
     "text": [
      "\n",
      "mean_270619-video2_004-030_opened_cc03.png: too spherical 7.506935628709233\n"
     ]
    },
    {
     "name": "stderr",
     "output_type": "stream",
     "text": [
      "\r",
      " 30%|███       | 13/43 [00:08<00:19,  1.55it/s]"
     ]
    },
    {
     "name": "stdout",
     "output_type": "stream",
     "text": [
      "\n",
      "mean_270619-video2_004-030_opened_cc08.png: too spherical 3.8745428468978638\n"
     ]
    },
    {
     "name": "stderr",
     "output_type": "stream",
     "text": [
      "\r",
      " 33%|███▎      | 14/43 [00:09<00:18,  1.56it/s]"
     ]
    },
    {
     "name": "stdout",
     "output_type": "stream",
     "text": [
      "\n",
      "mean_270619-video2_004-030_opened_cc15.png is INTERESTING\n"
     ]
    },
    {
     "name": "stderr",
     "output_type": "stream",
     "text": [
      "\r",
      " 35%|███▍      | 15/43 [00:09<00:17,  1.56it/s]"
     ]
    },
    {
     "name": "stdout",
     "output_type": "stream",
     "text": [
      "\n",
      "mean_270619-video2_004-030_opened_cc42.png is INTERESTING\n"
     ]
    },
    {
     "name": "stderr",
     "output_type": "stream",
     "text": [
      "\r",
      " 37%|███▋      | 16/43 [00:10<00:17,  1.56it/s]"
     ]
    },
    {
     "name": "stdout",
     "output_type": "stream",
     "text": [
      "\n",
      "mean_270619-video2_004-031_opened_cc11.png: too spherical 2.5286810661849937\n"
     ]
    },
    {
     "name": "stderr",
     "output_type": "stream",
     "text": [
      "\r",
      " 40%|███▉      | 17/43 [00:11<00:17,  1.45it/s]"
     ]
    },
    {
     "name": "stdout",
     "output_type": "stream",
     "text": [
      "\n",
      "mean_270619-video2_004-034_opened_cc03.png is INTERESTING\n"
     ]
    },
    {
     "name": "stderr",
     "output_type": "stream",
     "text": [
      "\r",
      " 42%|████▏     | 18/43 [00:11<00:16,  1.50it/s]"
     ]
    },
    {
     "name": "stdout",
     "output_type": "stream",
     "text": [
      "\n",
      "mean_270619-video2_004-034_opened_cc13.png: too spherical 5.3590874314270165\n"
     ]
    },
    {
     "name": "stderr",
     "output_type": "stream",
     "text": [
      "\r",
      " 44%|████▍     | 19/43 [00:12<00:15,  1.54it/s]"
     ]
    },
    {
     "name": "stdout",
     "output_type": "stream",
     "text": [
      "\n",
      "mean_270619-video2_004-034_opened_cc27.png is INTERESTING\n"
     ]
    },
    {
     "name": "stderr",
     "output_type": "stream",
     "text": [
      "\r",
      " 47%|████▋     | 20/43 [00:12<00:14,  1.56it/s]"
     ]
    },
    {
     "name": "stdout",
     "output_type": "stream",
     "text": [
      "\n",
      "mean_270619-video2_004-034_opened_cc44.png: too spherical 2.8258551094400675\n"
     ]
    },
    {
     "name": "stderr",
     "output_type": "stream",
     "text": [
      "\r",
      " 49%|████▉     | 21/43 [00:13<00:13,  1.58it/s]"
     ]
    },
    {
     "name": "stdout",
     "output_type": "stream",
     "text": [
      "\n",
      "mean_270619-video2_004-035_opened_cc05.png: too spherical 2.8369438312247426\n",
      "\n",
      "mean_270619-video2_004-035_opened_cc07.png is INTERESTING\n",
      "\n",
      "video2_004-034-video2_004-035: overlap = 0.24710596616206593\n"
     ]
    },
    {
     "name": "stderr",
     "output_type": "stream",
     "text": [
      "\r",
      " 51%|█████     | 22/43 [00:15<00:20,  1.01it/s]"
     ]
    },
    {
     "name": "stdout",
     "output_type": "stream",
     "text": [
      "\n",
      "video2_004-034-video2_004-035: overlap = 0.0\n"
     ]
    },
    {
     "name": "stderr",
     "output_type": "stream",
     "text": [
      "\r",
      " 53%|█████▎    | 23/43 [00:16<00:18,  1.10it/s]"
     ]
    },
    {
     "name": "stdout",
     "output_type": "stream",
     "text": [
      "\n",
      "mean_270619-video2_004-035_opened_cc11.png: too spherical 3.395578508349894\n"
     ]
    },
    {
     "name": "stderr",
     "output_type": "stream",
     "text": [
      "\r",
      " 56%|█████▌    | 24/43 [00:16<00:15,  1.19it/s]"
     ]
    },
    {
     "name": "stdout",
     "output_type": "stream",
     "text": [
      "\n",
      "mean_270619-video2_004-035_opened_cc18.png: too spherical 5.097215609746356\n"
     ]
    },
    {
     "name": "stderr",
     "output_type": "stream",
     "text": [
      "\r",
      " 58%|█████▊    | 25/43 [00:17<00:13,  1.29it/s]"
     ]
    },
    {
     "name": "stdout",
     "output_type": "stream",
     "text": [
      "\n",
      "mean_270619-video2_004-035_opened_cc32.png: too spherical 2.5355576129311337\n",
      "\n",
      "mean_270619-video2_004-035_opened_cc50.png is INTERESTING\n",
      "\n",
      "video2_004-034-video2_004-035: overlap = 0.0\n"
     ]
    },
    {
     "name": "stderr",
     "output_type": "stream",
     "text": [
      "\r",
      " 60%|██████    | 26/43 [00:19<00:18,  1.08s/it]"
     ]
    },
    {
     "name": "stdout",
     "output_type": "stream",
     "text": [
      "\n",
      "video2_004-034-video2_004-035: overlap = 0.0\n"
     ]
    },
    {
     "name": "stderr",
     "output_type": "stream",
     "text": [
      "\r",
      " 63%|██████▎   | 27/43 [00:19<00:15,  1.07it/s]"
     ]
    },
    {
     "name": "stdout",
     "output_type": "stream",
     "text": [
      "\n",
      "mean_270619-video2_004-036_opened_cc03.png: too spherical 3.051935123633024\n"
     ]
    },
    {
     "name": "stderr",
     "output_type": "stream",
     "text": [
      "\r",
      " 65%|██████▌   | 28/43 [00:20<00:12,  1.17it/s]"
     ]
    },
    {
     "name": "stdout",
     "output_type": "stream",
     "text": [
      "\n",
      "mean_270619-video2_004-036_opened_cc08.png: too spherical 6.327784412987579\n"
     ]
    },
    {
     "name": "stderr",
     "output_type": "stream",
     "text": [
      "\r",
      " 67%|██████▋   | 29/43 [00:21<00:11,  1.27it/s]"
     ]
    },
    {
     "name": "stdout",
     "output_type": "stream",
     "text": [
      "\n",
      "mean_270619-video2_004-036_opened_cc21.png: too spherical 3.392638081763092\n"
     ]
    },
    {
     "name": "stderr",
     "output_type": "stream",
     "text": [
      "\r",
      " 70%|██████▉   | 30/43 [00:21<00:09,  1.36it/s]"
     ]
    },
    {
     "name": "stdout",
     "output_type": "stream",
     "text": [
      "\n",
      "mean_270619-video2_004-036_opened_cc32.png: too spherical 2.1867039291620327\n"
     ]
    },
    {
     "name": "stderr",
     "output_type": "stream",
     "text": [
      "\r",
      " 72%|███████▏  | 31/43 [00:22<00:08,  1.42it/s]"
     ]
    },
    {
     "name": "stdout",
     "output_type": "stream",
     "text": [
      "\n",
      "mean_270619-video2_004-036_opened_cc38.png: too spherical 8.066494942823494\n"
     ]
    },
    {
     "name": "stderr",
     "output_type": "stream",
     "text": [
      "\r",
      " 74%|███████▍  | 32/43 [00:22<00:07,  1.46it/s]"
     ]
    },
    {
     "name": "stdout",
     "output_type": "stream",
     "text": [
      "\n",
      "mean_270619-video2_004-036_opened_cc53.png: too spherical 5.517389023516397\n"
     ]
    },
    {
     "name": "stderr",
     "output_type": "stream",
     "text": [
      "\r",
      " 77%|███████▋  | 33/43 [00:23<00:06,  1.47it/s]"
     ]
    },
    {
     "name": "stdout",
     "output_type": "stream",
     "text": [
      "\n",
      "mean_270619-video2_004-041_opened_cc02.png: too spherical 2.9456840533540234\n"
     ]
    },
    {
     "name": "stderr",
     "output_type": "stream",
     "text": [
      "\r",
      " 79%|███████▉  | 34/43 [00:24<00:05,  1.51it/s]"
     ]
    },
    {
     "name": "stdout",
     "output_type": "stream",
     "text": [
      "\n",
      "mean_270619-video2_004-041_opened_cc05.png is INTERESTING\n"
     ]
    },
    {
     "name": "stderr",
     "output_type": "stream",
     "text": [
      "\r",
      " 81%|████████▏ | 35/43 [00:24<00:05,  1.51it/s]"
     ]
    },
    {
     "name": "stdout",
     "output_type": "stream",
     "text": [
      "\n",
      "mean_270619-video2_004-041_opened_cc10.png is INTERESTING\n"
     ]
    },
    {
     "name": "stderr",
     "output_type": "stream",
     "text": [
      "\r",
      " 84%|████████▎ | 36/43 [00:25<00:04,  1.51it/s]"
     ]
    },
    {
     "name": "stdout",
     "output_type": "stream",
     "text": [
      "\n",
      "mean_270619-video2_004-041_opened_cc20.png: too spherical 9.971749472011151\n"
     ]
    },
    {
     "name": "stderr",
     "output_type": "stream",
     "text": [
      "\r",
      " 86%|████████▌ | 37/43 [00:26<00:04,  1.50it/s]"
     ]
    },
    {
     "name": "stdout",
     "output_type": "stream",
     "text": [
      "\n",
      "mean_270619-video2_004-041_opened_cc39.png is INTERESTING\n"
     ]
    },
    {
     "name": "stderr",
     "output_type": "stream",
     "text": [
      "\r",
      " 88%|████████▊ | 38/43 [00:26<00:03,  1.51it/s]"
     ]
    },
    {
     "name": "stdout",
     "output_type": "stream",
     "text": [
      "\n",
      "mean_270619-video2_004-042_opened_cc03.png: too spherical 4.379148744902544\n",
      "\n",
      "mean_270619-video2_004-042_opened_cc22.png is INTERESTING\n",
      "\n",
      "video2_004-041-video2_004-042: overlap = 0.0\n",
      "\n",
      "video2_004-041-video2_004-042: overlap = 0.0\n"
     ]
    },
    {
     "name": "stderr",
     "output_type": "stream",
     "text": [
      "\r",
      " 91%|█████████ | 39/43 [00:29<00:04,  1.20s/it]"
     ]
    },
    {
     "name": "stdout",
     "output_type": "stream",
     "text": [
      "\n",
      "video2_004-041-video2_004-042: overlap = 0.0\n"
     ]
    },
    {
     "name": "stderr",
     "output_type": "stream",
     "text": [
      "\r",
      " 93%|█████████▎| 40/43 [00:30<00:03,  1.06s/it]"
     ]
    },
    {
     "name": "stdout",
     "output_type": "stream",
     "text": [
      "\n",
      "mean_270619-video2_004-042_opened_cc37.png: too spherical 6.6532003723570075\n",
      "\n",
      "mean_270619-video2_004-042_opened_cc61.png is INTERESTING\n",
      "\n",
      "video2_004-041-video2_004-042: overlap = 0.0\n",
      "\n",
      "video2_004-041-video2_004-042: overlap = 0.0\n"
     ]
    },
    {
     "name": "stderr",
     "output_type": "stream",
     "text": [
      "\r",
      " 95%|█████████▌| 41/43 [00:32<00:02,  1.44s/it]"
     ]
    },
    {
     "name": "stdout",
     "output_type": "stream",
     "text": [
      "\n",
      "video2_004-041-video2_004-042: overlap = 0.0\n"
     ]
    },
    {
     "name": "stderr",
     "output_type": "stream",
     "text": [
      "\r",
      " 98%|█████████▊| 42/43 [00:33<00:01,  1.20s/it]"
     ]
    },
    {
     "name": "stdout",
     "output_type": "stream",
     "text": [
      "\n",
      "mean_270619-video2_004-026_opened_cc07.png is INTERESTING\n"
     ]
    },
    {
     "name": "stderr",
     "output_type": "stream",
     "text": [
      "100%|██████████| 43/43 [00:33<00:00,  1.03s/it]\n",
      "  0%|          | 0/35 [00:00<?, ?it/s]"
     ]
    },
    {
     "name": "stdout",
     "output_type": "stream",
     "text": [
      "\n",
      "mean_270619-video2_004-034_opened_cc15.png is INTERESTING\n",
      "found video2_005/trigger_thr0.005_cl9_op3/cc_filtered_2den0.81_gausrad2.0/\n"
     ]
    },
    {
     "name": "stderr",
     "output_type": "stream",
     "text": [
      "\r",
      "  3%|▎         | 1/35 [00:00<00:21,  1.58it/s]"
     ]
    },
    {
     "name": "stdout",
     "output_type": "stream",
     "text": [
      "\n",
      "mean_270619-video2_005-001_opened_cc02.png: too spherical 5.7749244006605815\n"
     ]
    },
    {
     "name": "stderr",
     "output_type": "stream",
     "text": [
      "\r",
      "  6%|▌         | 2/35 [00:01<00:21,  1.52it/s]"
     ]
    },
    {
     "name": "stdout",
     "output_type": "stream",
     "text": [
      "\n",
      "mean_270619-video2_005-001_opened_cc15.png: too spherical 5.094464812353211\n"
     ]
    },
    {
     "name": "stderr",
     "output_type": "stream",
     "text": [
      "\r",
      "  9%|▊         | 3/35 [00:01<00:20,  1.53it/s]"
     ]
    },
    {
     "name": "stdout",
     "output_type": "stream",
     "text": [
      "\n",
      "mean_270619-video2_005-001_opened_cc43.png: too spherical 2.773294786523098\n"
     ]
    },
    {
     "name": "stderr",
     "output_type": "stream",
     "text": [
      "\r",
      " 11%|█▏        | 4/35 [00:02<00:19,  1.55it/s]"
     ]
    },
    {
     "name": "stdout",
     "output_type": "stream",
     "text": [
      "\n",
      "mean_270619-video2_005-001_opened_cc51.png: too spherical 3.0587624976837797\n"
     ]
    },
    {
     "name": "stderr",
     "output_type": "stream",
     "text": [
      "\r",
      " 14%|█▍        | 5/35 [00:03<00:19,  1.57it/s]"
     ]
    },
    {
     "name": "stdout",
     "output_type": "stream",
     "text": [
      "\n",
      "mean_270619-video2_005-001_opened_cc56.png: too spherical 2.5072879916003963\n"
     ]
    },
    {
     "name": "stderr",
     "output_type": "stream",
     "text": [
      "\r",
      " 17%|█▋        | 6/35 [00:03<00:19,  1.52it/s]"
     ]
    },
    {
     "name": "stdout",
     "output_type": "stream",
     "text": [
      "\n",
      "mean_270619-video2_005-001_opened_cc57.png is INTERESTING\n"
     ]
    },
    {
     "name": "stderr",
     "output_type": "stream",
     "text": [
      "\r",
      " 20%|██        | 7/35 [00:04<00:18,  1.51it/s]"
     ]
    },
    {
     "name": "stdout",
     "output_type": "stream",
     "text": [
      "\n",
      "mean_270619-video2_005-001_opened_cc58.png is INTERESTING\n"
     ]
    },
    {
     "name": "stderr",
     "output_type": "stream",
     "text": [
      "\r",
      " 23%|██▎       | 8/35 [00:05<00:18,  1.47it/s]"
     ]
    },
    {
     "name": "stdout",
     "output_type": "stream",
     "text": [
      "\n",
      "mean_270619-video2_005-002_opened_cc24.png: too spherical 6.899166385479784\n"
     ]
    },
    {
     "name": "stderr",
     "output_type": "stream",
     "text": [
      "\r",
      " 26%|██▌       | 9/35 [00:05<00:17,  1.49it/s]"
     ]
    },
    {
     "name": "stdout",
     "output_type": "stream",
     "text": [
      "\n",
      "mean_270619-video2_005-002_opened_cc37.png: too spherical 7.051489240459692\n"
     ]
    },
    {
     "name": "stderr",
     "output_type": "stream",
     "text": [
      "\r",
      " 29%|██▊       | 10/35 [00:06<00:16,  1.50it/s]"
     ]
    },
    {
     "name": "stdout",
     "output_type": "stream",
     "text": [
      "\n",
      "mean_270619-video2_005-009_opened_cc03.png is INTERESTING\n"
     ]
    },
    {
     "name": "stderr",
     "output_type": "stream",
     "text": [
      "\r",
      " 31%|███▏      | 11/35 [00:07<00:15,  1.50it/s]"
     ]
    },
    {
     "name": "stdout",
     "output_type": "stream",
     "text": [
      "\n",
      "mean_270619-video2_005-009_opened_cc24.png: too spherical 4.290516383140072\n"
     ]
    },
    {
     "name": "stderr",
     "output_type": "stream",
     "text": [
      "\r",
      " 34%|███▍      | 12/35 [00:07<00:15,  1.52it/s]"
     ]
    },
    {
     "name": "stdout",
     "output_type": "stream",
     "text": [
      "\n",
      "mean_270619-video2_005-009_opened_cc31.png: too spherical 1.5755585553071614\n"
     ]
    },
    {
     "name": "stderr",
     "output_type": "stream",
     "text": [
      "\r",
      " 37%|███▋      | 13/35 [00:08<00:14,  1.53it/s]"
     ]
    },
    {
     "name": "stdout",
     "output_type": "stream",
     "text": [
      "\n",
      "mean_270619-video2_005-009_opened_cc32.png is INTERESTING\n"
     ]
    },
    {
     "name": "stderr",
     "output_type": "stream",
     "text": [
      "\r",
      " 40%|████      | 14/35 [00:09<00:13,  1.57it/s]"
     ]
    },
    {
     "name": "stdout",
     "output_type": "stream",
     "text": [
      "\n",
      "mean_270619-video2_005-009_opened_cc42.png is INTERESTING\n"
     ]
    },
    {
     "name": "stderr",
     "output_type": "stream",
     "text": [
      "\r",
      " 43%|████▎     | 15/35 [00:09<00:12,  1.57it/s]"
     ]
    },
    {
     "name": "stdout",
     "output_type": "stream",
     "text": [
      "\n",
      "mean_270619-video2_005-013_opened_cc16.png: too spherical 6.256585222032615\n"
     ]
    },
    {
     "name": "stderr",
     "output_type": "stream",
     "text": [
      "\r",
      " 46%|████▌     | 16/35 [00:10<00:12,  1.56it/s]"
     ]
    },
    {
     "name": "stdout",
     "output_type": "stream",
     "text": [
      "\n",
      "mean_270619-video2_005-013_opened_cc28.png is INTERESTING\n"
     ]
    },
    {
     "name": "stderr",
     "output_type": "stream",
     "text": [
      "\r",
      " 49%|████▊     | 17/35 [00:11<00:11,  1.57it/s]"
     ]
    },
    {
     "name": "stdout",
     "output_type": "stream",
     "text": [
      "\n",
      "mean_270619-video2_005-021_opened_cc02.png: too spherical 8.187140670977522\n"
     ]
    },
    {
     "name": "stderr",
     "output_type": "stream",
     "text": [
      "\r",
      " 51%|█████▏    | 18/35 [00:11<00:10,  1.55it/s]"
     ]
    },
    {
     "name": "stdout",
     "output_type": "stream",
     "text": [
      "\n",
      "mean_270619-video2_005-021_opened_cc03.png: too spherical 2.91088299320226\n"
     ]
    },
    {
     "name": "stderr",
     "output_type": "stream",
     "text": [
      "\r",
      " 54%|█████▍    | 19/35 [00:12<00:10,  1.58it/s]"
     ]
    },
    {
     "name": "stdout",
     "output_type": "stream",
     "text": [
      "\n",
      "mean_270619-video2_005-021_opened_cc24.png: too spherical 8.767073194018616\n"
     ]
    },
    {
     "name": "stderr",
     "output_type": "stream",
     "text": [
      "\r",
      " 57%|█████▋    | 20/35 [00:12<00:09,  1.59it/s]"
     ]
    },
    {
     "name": "stdout",
     "output_type": "stream",
     "text": [
      "\n",
      "mean_270619-video2_005-021_opened_cc47.png is INTERESTING\n"
     ]
    },
    {
     "name": "stderr",
     "output_type": "stream",
     "text": [
      "\r",
      " 60%|██████    | 21/35 [00:13<00:08,  1.60it/s]"
     ]
    },
    {
     "name": "stdout",
     "output_type": "stream",
     "text": [
      "\n",
      "mean_270619-video2_005-021_opened_cc51.png is INTERESTING\n"
     ]
    },
    {
     "name": "stderr",
     "output_type": "stream",
     "text": [
      "\r",
      " 63%|██████▎   | 22/35 [00:14<00:08,  1.61it/s]"
     ]
    },
    {
     "name": "stdout",
     "output_type": "stream",
     "text": [
      "\n",
      "mean_270619-video2_005-029_opened_cc16.png is INTERESTING\n"
     ]
    },
    {
     "name": "stderr",
     "output_type": "stream",
     "text": [
      "\r",
      " 66%|██████▌   | 23/35 [00:14<00:07,  1.56it/s]"
     ]
    },
    {
     "name": "stdout",
     "output_type": "stream",
     "text": [
      "\n",
      "mean_270619-video2_005-029_opened_cc27.png: too spherical 9.474200861145023\n"
     ]
    },
    {
     "name": "stderr",
     "output_type": "stream",
     "text": [
      "\r",
      " 69%|██████▊   | 24/35 [00:15<00:06,  1.57it/s]"
     ]
    },
    {
     "name": "stdout",
     "output_type": "stream",
     "text": [
      "\n",
      "mean_270619-video2_005-029_opened_cc31.png: too spherical 3.2827432305724478\n"
     ]
    },
    {
     "name": "stderr",
     "output_type": "stream",
     "text": [
      "\r",
      " 71%|███████▏  | 25/35 [00:16<00:06,  1.58it/s]"
     ]
    },
    {
     "name": "stdout",
     "output_type": "stream",
     "text": [
      "\n",
      "mean_270619-video2_005-029_opened_cc82.png is INTERESTING\n",
      "\n",
      "mean_270619-video2_005-030_opened_cc07.png is INTERESTING\n"
     ]
    },
    {
     "name": "stderr",
     "output_type": "stream",
     "text": [
      "\r",
      " 74%|███████▍  | 26/35 [00:17<00:07,  1.24it/s]"
     ]
    },
    {
     "name": "stdout",
     "output_type": "stream",
     "text": [
      "\n",
      "video2_005-029-video2_005-030: overlap = 0.6609547123623011\n",
      "\n",
      "mean_270619-video2_005-030_opened_cc13.png is INTERESTING\n"
     ]
    },
    {
     "name": "stderr",
     "output_type": "stream",
     "text": [
      "\r",
      " 77%|███████▋  | 27/35 [00:18<00:07,  1.07it/s]"
     ]
    },
    {
     "name": "stdout",
     "output_type": "stream",
     "text": [
      "\n",
      "video2_005-029-video2_005-030: overlap = 0.0\n"
     ]
    },
    {
     "name": "stderr",
     "output_type": "stream",
     "text": [
      "\r",
      " 80%|████████  | 28/35 [00:19<00:05,  1.18it/s]"
     ]
    },
    {
     "name": "stdout",
     "output_type": "stream",
     "text": [
      "\n",
      "mean_270619-video2_005-030_opened_cc19.png: too spherical 2.5529145695790625\n",
      "\n",
      "mean_270619-video2_005-030_opened_cc29.png is INTERESTING\n"
     ]
    },
    {
     "name": "stderr",
     "output_type": "stream",
     "text": [
      "\r",
      " 83%|████████▎ | 29/35 [00:20<00:05,  1.02it/s]"
     ]
    },
    {
     "name": "stdout",
     "output_type": "stream",
     "text": [
      "\n",
      "video2_005-029-video2_005-030: overlap = 0.0\n",
      "\n",
      "mean_270619-video2_005-030_opened_cc61.png is INTERESTING\n"
     ]
    },
    {
     "name": "stderr",
     "output_type": "stream",
     "text": [
      "\r",
      " 86%|████████▌ | 30/35 [00:21<00:05,  1.06s/it]"
     ]
    },
    {
     "name": "stdout",
     "output_type": "stream",
     "text": [
      "\n",
      "video2_005-029-video2_005-030: overlap = 0.495970695970696\n"
     ]
    },
    {
     "name": "stderr",
     "output_type": "stream",
     "text": [
      "\r",
      " 89%|████████▊ | 31/35 [00:22<00:03,  1.07it/s]"
     ]
    },
    {
     "name": "stdout",
     "output_type": "stream",
     "text": [
      "\n",
      "mean_270619-video2_005-040_opened_cc07.png is INTERESTING\n"
     ]
    },
    {
     "name": "stderr",
     "output_type": "stream",
     "text": [
      "\r",
      " 91%|█████████▏| 32/35 [00:23<00:02,  1.17it/s]"
     ]
    },
    {
     "name": "stdout",
     "output_type": "stream",
     "text": [
      "\n",
      "mean_270619-video2_005-040_opened_cc14.png is INTERESTING\n"
     ]
    },
    {
     "name": "stderr",
     "output_type": "stream",
     "text": [
      "\r",
      " 94%|█████████▍| 33/35 [00:23<00:01,  1.24it/s]"
     ]
    },
    {
     "name": "stdout",
     "output_type": "stream",
     "text": [
      "\n",
      "mean_270619-video2_005-040_opened_cc24.png is INTERESTING\n"
     ]
    },
    {
     "name": "stderr",
     "output_type": "stream",
     "text": [
      "\r",
      " 97%|█████████▋| 34/35 [00:24<00:00,  1.32it/s]"
     ]
    },
    {
     "name": "stdout",
     "output_type": "stream",
     "text": [
      "\n",
      "mean_270619-video2_005-001_opened_cc64.png: too spherical 3.219886417754613\n"
     ]
    },
    {
     "name": "stderr",
     "output_type": "stream",
     "text": [
      "100%|██████████| 35/35 [00:25<00:00,  1.39it/s]\n",
      "  0%|          | 0/28 [00:00<?, ?it/s]"
     ]
    },
    {
     "name": "stdout",
     "output_type": "stream",
     "text": [
      "\n",
      "mean_270619-video2_005-021_opened_cc10.png is INTERESTING\n",
      "found video2_006/trigger_thr0.005_cl9_op3/cc_filtered_2den0.81_gausrad2.0/\n"
     ]
    },
    {
     "name": "stderr",
     "output_type": "stream",
     "text": [
      "\r",
      "  4%|▎         | 1/28 [00:00<00:17,  1.56it/s]"
     ]
    },
    {
     "name": "stdout",
     "output_type": "stream",
     "text": [
      "\n",
      "mean_270619-video2_006-033_opened_cc18.png: too spherical 1.6370419649000243\n"
     ]
    },
    {
     "name": "stderr",
     "output_type": "stream",
     "text": [
      "\r",
      "  7%|▋         | 2/28 [00:01<00:16,  1.55it/s]"
     ]
    },
    {
     "name": "stdout",
     "output_type": "stream",
     "text": [
      "\n",
      "mean_270619-video2_006-005_opened_cc03.png: too spherical 4.457276272760965\n"
     ]
    },
    {
     "name": "stderr",
     "output_type": "stream",
     "text": [
      "\r",
      " 11%|█         | 3/28 [00:01<00:15,  1.57it/s]"
     ]
    },
    {
     "name": "stdout",
     "output_type": "stream",
     "text": [
      "\n",
      "mean_270619-video2_006-005_opened_cc18.png is INTERESTING\n"
     ]
    },
    {
     "name": "stderr",
     "output_type": "stream",
     "text": [
      "\r",
      " 14%|█▍        | 4/28 [00:02<00:15,  1.58it/s]"
     ]
    },
    {
     "name": "stdout",
     "output_type": "stream",
     "text": [
      "\n",
      "mean_270619-video2_006-006_opened_cc04.png: too spherical 2.068010300616091\n",
      "\n",
      "mean_270619-video2_006-006_opened_cc16.png is INTERESTING\n"
     ]
    },
    {
     "name": "stderr",
     "output_type": "stream",
     "text": [
      "\r",
      " 18%|█▊        | 5/28 [00:03<00:18,  1.23it/s]"
     ]
    },
    {
     "name": "stdout",
     "output_type": "stream",
     "text": [
      "\n",
      "video2_006-005-video2_006-006: overlap = 0.0\n",
      "\n",
      "mean_270619-video2_006-006_opened_cc20.png is INTERESTING\n"
     ]
    },
    {
     "name": "stderr",
     "output_type": "stream",
     "text": [
      "\r",
      " 21%|██▏       | 6/28 [00:04<00:20,  1.08it/s]"
     ]
    },
    {
     "name": "stdout",
     "output_type": "stream",
     "text": [
      "\n",
      "video2_006-005-video2_006-006: overlap = 0.0\n"
     ]
    },
    {
     "name": "stderr",
     "output_type": "stream",
     "text": [
      "\r",
      " 25%|██▌       | 7/28 [00:05<00:17,  1.20it/s]"
     ]
    },
    {
     "name": "stdout",
     "output_type": "stream",
     "text": [
      "\n",
      "mean_270619-video2_006-006_opened_cc41.png: too spherical 4.247419380450616\n",
      "\n",
      "mean_270619-video2_006-006_opened_cc45.png is INTERESTING\n"
     ]
    },
    {
     "name": "stderr",
     "output_type": "stream",
     "text": [
      "\r",
      " 29%|██▊       | 8/28 [00:06<00:18,  1.06it/s]"
     ]
    },
    {
     "name": "stdout",
     "output_type": "stream",
     "text": [
      "\n",
      "video2_006-005-video2_006-006: overlap = 0.3994856408058294\n"
     ]
    },
    {
     "name": "stderr",
     "output_type": "stream",
     "text": [
      "\r",
      " 32%|███▏      | 9/28 [00:07<00:16,  1.18it/s]"
     ]
    },
    {
     "name": "stdout",
     "output_type": "stream",
     "text": [
      "\n",
      "mean_270619-video2_006-006_opened_cc89.png: too spherical 2.370168483774635\n"
     ]
    },
    {
     "name": "stderr",
     "output_type": "stream",
     "text": [
      "\r",
      " 36%|███▌      | 10/28 [00:08<00:14,  1.27it/s]"
     ]
    },
    {
     "name": "stdout",
     "output_type": "stream",
     "text": [
      "\n",
      "mean_270619-video2_006-027_opened_cc02.png is INTERESTING\n"
     ]
    },
    {
     "name": "stderr",
     "output_type": "stream",
     "text": [
      "\r",
      " 39%|███▉      | 11/28 [00:08<00:12,  1.32it/s]"
     ]
    },
    {
     "name": "stdout",
     "output_type": "stream",
     "text": [
      "\n",
      "mean_270619-video2_006-027_opened_cc12.png is INTERESTING\n"
     ]
    },
    {
     "name": "stderr",
     "output_type": "stream",
     "text": [
      "\r",
      " 43%|████▎     | 12/28 [00:09<00:11,  1.38it/s]"
     ]
    },
    {
     "name": "stdout",
     "output_type": "stream",
     "text": [
      "\n",
      "mean_270619-video2_006-027_opened_cc51.png is INTERESTING\n"
     ]
    },
    {
     "name": "stderr",
     "output_type": "stream",
     "text": [
      "\r",
      " 46%|████▋     | 13/28 [00:10<00:10,  1.42it/s]"
     ]
    },
    {
     "name": "stdout",
     "output_type": "stream",
     "text": [
      "\n",
      "mean_270619-video2_006-027_opened_cc59.png: too spherical 3.5594891806018527\n"
     ]
    },
    {
     "name": "stderr",
     "output_type": "stream",
     "text": [
      "\r",
      " 50%|█████     | 14/28 [00:10<00:09,  1.43it/s]"
     ]
    },
    {
     "name": "stdout",
     "output_type": "stream",
     "text": [
      "\n",
      "mean_270619-video2_006-033_opened_cc03.png: too spherical 2.1377690774824436\n"
     ]
    },
    {
     "name": "stderr",
     "output_type": "stream",
     "text": [
      "\r",
      " 54%|█████▎    | 15/28 [00:11<00:08,  1.49it/s]"
     ]
    },
    {
     "name": "stdout",
     "output_type": "stream",
     "text": [
      "\n",
      "mean_270619-video2_006-033_opened_cc40.png is INTERESTING\n"
     ]
    },
    {
     "name": "stderr",
     "output_type": "stream",
     "text": [
      "\r",
      " 57%|█████▋    | 16/28 [00:11<00:07,  1.53it/s]"
     ]
    },
    {
     "name": "stdout",
     "output_type": "stream",
     "text": [
      "\n",
      "mean_270619-video2_006-033_opened_cc42.png is INTERESTING\n"
     ]
    },
    {
     "name": "stderr",
     "output_type": "stream",
     "text": [
      "\r",
      " 61%|██████    | 17/28 [00:12<00:07,  1.52it/s]"
     ]
    },
    {
     "name": "stdout",
     "output_type": "stream",
     "text": [
      "\n",
      "mean_270619-video2_006-034_opened_cc02.png: too spherical 8.58237456820914\n",
      "\n",
      "mean_270619-video2_006-034_opened_cc16.png is INTERESTING\n",
      "\n",
      "video2_006-033-video2_006-034: overlap = 0.0\n"
     ]
    },
    {
     "name": "stderr",
     "output_type": "stream",
     "text": [
      "\r",
      " 64%|██████▍   | 18/28 [00:14<00:10,  1.00s/it]"
     ]
    },
    {
     "name": "stdout",
     "output_type": "stream",
     "text": [
      "\n",
      "video2_006-033-video2_006-034: overlap = 0.0\n",
      "\n",
      "mean_270619-video2_006-034_opened_cc17.png is INTERESTING\n",
      "\n",
      "video2_006-033-video2_006-034: overlap = 0.0\n"
     ]
    },
    {
     "name": "stderr",
     "output_type": "stream",
     "text": [
      "\r",
      " 68%|██████▊   | 19/28 [00:16<00:11,  1.25s/it]"
     ]
    },
    {
     "name": "stdout",
     "output_type": "stream",
     "text": [
      "\n",
      "video2_006-033-video2_006-034: overlap = 0.0\n",
      "\n",
      "mean_270619-video2_006-035_opened_cc02.png is INTERESTING\n",
      "\n",
      "video2_006-034-video2_006-035: overlap = 0.0\n"
     ]
    },
    {
     "name": "stderr",
     "output_type": "stream",
     "text": [
      "\r",
      " 71%|███████▏  | 20/28 [00:18<00:11,  1.45s/it]"
     ]
    },
    {
     "name": "stdout",
     "output_type": "stream",
     "text": [
      "\n",
      "video2_006-034-video2_006-035: overlap = 0.0\n"
     ]
    },
    {
     "name": "stderr",
     "output_type": "stream",
     "text": [
      "\r",
      " 75%|███████▌  | 21/28 [00:18<00:08,  1.21s/it]"
     ]
    },
    {
     "name": "stdout",
     "output_type": "stream",
     "text": [
      "\n",
      "mean_270619-video2_006-035_opened_cc17.png: too spherical 9.540694086100652\n",
      "\n",
      "mean_270619-video2_006-036_opened_cc03.png is INTERESTING\n"
     ]
    },
    {
     "name": "stderr",
     "output_type": "stream",
     "text": [
      "\r",
      " 79%|███████▊  | 22/28 [00:20<00:07,  1.22s/it]"
     ]
    },
    {
     "name": "stdout",
     "output_type": "stream",
     "text": [
      "\n",
      "video2_006-035-video2_006-036: overlap = 0.8427352985186294\n"
     ]
    },
    {
     "name": "stderr",
     "output_type": "stream",
     "text": [
      "\r",
      " 82%|████████▏ | 23/28 [00:20<00:05,  1.04s/it]"
     ]
    },
    {
     "name": "stdout",
     "output_type": "stream",
     "text": [
      "\n",
      "mean_270619-video2_006-036_opened_cc18.png: too spherical 3.883191802581891\n"
     ]
    },
    {
     "name": "stderr",
     "output_type": "stream",
     "text": [
      "\r",
      " 86%|████████▌ | 24/28 [00:21<00:03,  1.08it/s]"
     ]
    },
    {
     "name": "stdout",
     "output_type": "stream",
     "text": [
      "\n",
      "mean_270619-video2_006-036_opened_cc31.png is INTERESTING\n"
     ]
    },
    {
     "name": "stderr",
     "output_type": "stream",
     "text": [
      "\r",
      " 89%|████████▉ | 25/28 [00:21<00:02,  1.21it/s]"
     ]
    },
    {
     "name": "stdout",
     "output_type": "stream",
     "text": [
      "\n",
      "mean_270619-video2_006-036_opened_cc33.png: too spherical 3.930726052903479\n"
     ]
    },
    {
     "name": "stderr",
     "output_type": "stream",
     "text": [
      "\r",
      " 93%|█████████▎| 26/28 [00:22<00:01,  1.30it/s]"
     ]
    },
    {
     "name": "stdout",
     "output_type": "stream",
     "text": [
      "\n",
      "mean_270619-video2_006-036_opened_cc35.png: too spherical 6.59802369584388\n"
     ]
    },
    {
     "name": "stderr",
     "output_type": "stream",
     "text": [
      "\r",
      " 96%|█████████▋| 27/28 [00:23<00:00,  1.38it/s]"
     ]
    },
    {
     "name": "stdout",
     "output_type": "stream",
     "text": [
      "\n",
      "mean_270619-video2_006-036_opened_cc45.png: too spherical 6.011467397801276\n"
     ]
    },
    {
     "name": "stderr",
     "output_type": "stream",
     "text": [
      "100%|██████████| 28/28 [00:23<00:00,  1.44it/s]\n",
      "  0%|          | 0/37 [00:00<?, ?it/s]"
     ]
    },
    {
     "name": "stdout",
     "output_type": "stream",
     "text": [
      "\n",
      "mean_270619-video2_006-036_opened_cc84.png is INTERESTING\n",
      "found video2_007/trigger_thr0.005_cl9_op3/cc_filtered_2den0.81_gausrad2.0/\n"
     ]
    },
    {
     "name": "stderr",
     "output_type": "stream",
     "text": [
      "\r",
      "  3%|▎         | 1/37 [00:00<00:22,  1.59it/s]"
     ]
    },
    {
     "name": "stdout",
     "output_type": "stream",
     "text": [
      "\n",
      "mean_270619-video2_007-006_opened_cc08.png: too spherical 2.2382389931465005\n"
     ]
    },
    {
     "name": "stderr",
     "output_type": "stream",
     "text": [
      "\r",
      "  5%|▌         | 2/37 [00:01<00:22,  1.59it/s]"
     ]
    },
    {
     "name": "stdout",
     "output_type": "stream",
     "text": [
      "\n",
      "mean_270619-video2_007-006_opened_cc09.png is INTERESTING\n"
     ]
    },
    {
     "name": "stderr",
     "output_type": "stream",
     "text": [
      "\r",
      "  8%|▊         | 3/37 [00:01<00:21,  1.60it/s]"
     ]
    },
    {
     "name": "stdout",
     "output_type": "stream",
     "text": [
      "\n",
      "mean_270619-video2_007-006_opened_cc11.png: too spherical 3.6631139932870878\n"
     ]
    },
    {
     "name": "stderr",
     "output_type": "stream",
     "text": [
      "\r",
      " 11%|█         | 4/37 [00:02<00:20,  1.61it/s]"
     ]
    },
    {
     "name": "stdout",
     "output_type": "stream",
     "text": [
      "\n",
      "mean_270619-video2_007-006_opened_cc17.png is INTERESTING\n"
     ]
    },
    {
     "name": "stderr",
     "output_type": "stream",
     "text": [
      "\r",
      " 14%|█▎        | 5/37 [00:03<00:19,  1.60it/s]"
     ]
    },
    {
     "name": "stdout",
     "output_type": "stream",
     "text": [
      "\n",
      "mean_270619-video2_007-006_opened_cc23.png: too spherical 1.2708124238389262\n"
     ]
    },
    {
     "name": "stderr",
     "output_type": "stream",
     "text": [
      "\r",
      " 16%|█▌        | 6/37 [00:03<00:19,  1.62it/s]"
     ]
    },
    {
     "name": "stdout",
     "output_type": "stream",
     "text": [
      "\n",
      "mean_270619-video2_007-006_opened_cc27.png is INTERESTING\n"
     ]
    },
    {
     "name": "stderr",
     "output_type": "stream",
     "text": [
      "\r",
      " 19%|█▉        | 7/37 [00:04<00:18,  1.59it/s]"
     ]
    },
    {
     "name": "stdout",
     "output_type": "stream",
     "text": [
      "\n",
      "mean_270619-video2_007-006_opened_cc42.png: too spherical 2.86921237575475\n"
     ]
    },
    {
     "name": "stderr",
     "output_type": "stream",
     "text": [
      "\r",
      " 22%|██▏       | 8/37 [00:05<00:18,  1.57it/s]"
     ]
    },
    {
     "name": "stdout",
     "output_type": "stream",
     "text": [
      "\n",
      "mean_270619-video2_007-006_opened_cc43.png: too spherical 5.740315083944177\n"
     ]
    },
    {
     "name": "stderr",
     "output_type": "stream",
     "text": [
      "\r",
      " 24%|██▍       | 9/37 [00:05<00:17,  1.59it/s]"
     ]
    },
    {
     "name": "stdout",
     "output_type": "stream",
     "text": [
      "\n",
      "mean_270619-video2_007-006_opened_cc45.png is INTERESTING\n"
     ]
    },
    {
     "name": "stderr",
     "output_type": "stream",
     "text": [
      "\r",
      " 27%|██▋       | 10/37 [00:06<00:16,  1.59it/s]"
     ]
    },
    {
     "name": "stdout",
     "output_type": "stream",
     "text": [
      "\n",
      "mean_270619-video2_007-006_opened_cc58.png: too spherical 6.69187908122899\n"
     ]
    },
    {
     "name": "stderr",
     "output_type": "stream",
     "text": [
      "\r",
      " 30%|██▉       | 11/37 [00:06<00:16,  1.59it/s]"
     ]
    },
    {
     "name": "stdout",
     "output_type": "stream",
     "text": [
      "\n",
      "mean_270619-video2_007-006_opened_cc66.png: too spherical 3.1188239879378923\n"
     ]
    },
    {
     "name": "stderr",
     "output_type": "stream",
     "text": [
      "\r",
      " 32%|███▏      | 12/37 [00:07<00:16,  1.55it/s]"
     ]
    },
    {
     "name": "stdout",
     "output_type": "stream",
     "text": [
      "\n",
      "mean_270619-video2_007-007_opened_cc07.png: too spherical 2.3654133899297127\n"
     ]
    },
    {
     "name": "stderr",
     "output_type": "stream",
     "text": [
      "\r",
      " 35%|███▌      | 13/37 [00:08<00:15,  1.54it/s]"
     ]
    },
    {
     "name": "stdout",
     "output_type": "stream",
     "text": [
      "\n",
      "mean_270619-video2_007-007_opened_cc11.png: too spherical 6.553453152440905\n",
      "\n",
      "mean_270619-video2_007-007_opened_cc12.png is INTERESTING\n"
     ]
    },
    {
     "name": "stderr",
     "output_type": "stream",
     "text": [
      "\r",
      " 38%|███▊      | 14/37 [00:09<00:18,  1.21it/s]"
     ]
    },
    {
     "name": "stdout",
     "output_type": "stream",
     "text": [
      "\n",
      "video2_007-006-video2_007-007: overlap = 0.6084129242023979\n"
     ]
    },
    {
     "name": "stderr",
     "output_type": "stream",
     "text": [
      "\r",
      " 41%|████      | 15/37 [00:10<00:16,  1.32it/s]"
     ]
    },
    {
     "name": "stdout",
     "output_type": "stream",
     "text": [
      "\n",
      "mean_270619-video2_007-007_opened_cc23.png: too spherical 8.470698887167616\n",
      "\n",
      "mean_270619-video2_007-007_opened_cc39.png is INTERESTING\n",
      "\n",
      "video2_007-006-video2_007-007: overlap = 0.0\n",
      "\n",
      "video2_007-006-video2_007-007: overlap = 0.0\n"
     ]
    },
    {
     "name": "stderr",
     "output_type": "stream",
     "text": [
      "\r",
      " 43%|████▎     | 16/37 [00:12<00:25,  1.24s/it]"
     ]
    },
    {
     "name": "stdout",
     "output_type": "stream",
     "text": [
      "\n",
      "video2_007-006-video2_007-007: overlap = 0.0\n",
      "\n",
      "mean_270619-video2_007-007_opened_cc57.png is INTERESTING\n",
      "\n",
      "video2_007-006-video2_007-007: overlap = 0.0\n",
      "\n",
      "video2_007-006-video2_007-007: overlap = 0.0\n"
     ]
    },
    {
     "name": "stderr",
     "output_type": "stream",
     "text": [
      "\r",
      " 46%|████▌     | 17/37 [00:14<00:31,  1.56s/it]"
     ]
    },
    {
     "name": "stdout",
     "output_type": "stream",
     "text": [
      "\n",
      "video2_007-006-video2_007-007: overlap = 0.0\n",
      "\n",
      "mean_270619-video2_007-007_opened_cc58.png is INTERESTING\n",
      "\n",
      "video2_007-006-video2_007-007: overlap = 0.0\n",
      "\n",
      "video2_007-006-video2_007-007: overlap = 0.0\n"
     ]
    },
    {
     "name": "stderr",
     "output_type": "stream",
     "text": [
      "\r",
      " 49%|████▊     | 18/37 [00:17<00:33,  1.79s/it]"
     ]
    },
    {
     "name": "stdout",
     "output_type": "stream",
     "text": [
      "\n",
      "video2_007-006-video2_007-007: overlap = 0.0\n"
     ]
    },
    {
     "name": "stderr",
     "output_type": "stream",
     "text": [
      "\r",
      " 51%|█████▏    | 19/37 [00:17<00:25,  1.43s/it]"
     ]
    },
    {
     "name": "stdout",
     "output_type": "stream",
     "text": [
      "\n",
      "mean_270619-video2_007-035_opened_cc05.png: too spherical 2.740128246295991\n"
     ]
    },
    {
     "name": "stderr",
     "output_type": "stream",
     "text": [
      "\r",
      " 54%|█████▍    | 20/37 [00:18<00:20,  1.20s/it]"
     ]
    },
    {
     "name": "stdout",
     "output_type": "stream",
     "text": [
      "\n",
      "mean_270619-video2_007-035_opened_cc12.png: too spherical 2.9430957601571355\n"
     ]
    },
    {
     "name": "stderr",
     "output_type": "stream",
     "text": [
      "\r",
      " 57%|█████▋    | 21/37 [00:18<00:16,  1.03s/it]"
     ]
    },
    {
     "name": "stdout",
     "output_type": "stream",
     "text": [
      "\n",
      "mean_270619-video2_007-035_opened_cc33.png: too spherical 9.324439961605908\n"
     ]
    },
    {
     "name": "stderr",
     "output_type": "stream",
     "text": [
      "\r",
      " 59%|█████▉    | 22/37 [00:19<00:13,  1.11it/s]"
     ]
    },
    {
     "name": "stdout",
     "output_type": "stream",
     "text": [
      "\n",
      "mean_270619-video2_007-036_opened_cc08.png is INTERESTING\n"
     ]
    },
    {
     "name": "stderr",
     "output_type": "stream",
     "text": [
      "\r",
      " 62%|██████▏   | 23/37 [00:20<00:11,  1.23it/s]"
     ]
    },
    {
     "name": "stdout",
     "output_type": "stream",
     "text": [
      "\n",
      "mean_270619-video2_007-036_opened_cc15.png: too spherical 2.4322937940266396\n"
     ]
    },
    {
     "name": "stderr",
     "output_type": "stream",
     "text": [
      "\r",
      " 65%|██████▍   | 24/37 [00:20<00:09,  1.30it/s]"
     ]
    },
    {
     "name": "stdout",
     "output_type": "stream",
     "text": [
      "\n",
      "mean_270619-video2_007-036_opened_cc21.png: too spherical 1.86249227906021\n"
     ]
    },
    {
     "name": "stderr",
     "output_type": "stream",
     "text": [
      "\r",
      " 68%|██████▊   | 25/37 [00:21<00:08,  1.36it/s]"
     ]
    },
    {
     "name": "stdout",
     "output_type": "stream",
     "text": [
      "\n",
      "mean_270619-video2_007-036_opened_cc28.png: too spherical 5.4767648918493075\n"
     ]
    },
    {
     "name": "stderr",
     "output_type": "stream",
     "text": [
      "\r",
      " 70%|███████   | 26/37 [00:22<00:07,  1.43it/s]"
     ]
    },
    {
     "name": "stdout",
     "output_type": "stream",
     "text": [
      "\n",
      "mean_270619-video2_007-036_opened_cc44.png: too spherical 2.010074757867788\n"
     ]
    },
    {
     "name": "stderr",
     "output_type": "stream",
     "text": [
      "\r",
      " 73%|███████▎  | 27/37 [00:22<00:06,  1.48it/s]"
     ]
    },
    {
     "name": "stdout",
     "output_type": "stream",
     "text": [
      "\n",
      "mean_270619-video2_007-036_opened_cc48.png is INTERESTING\n"
     ]
    },
    {
     "name": "stderr",
     "output_type": "stream",
     "text": [
      "\r",
      " 76%|███████▌  | 28/37 [00:23<00:05,  1.51it/s]"
     ]
    },
    {
     "name": "stdout",
     "output_type": "stream",
     "text": [
      "\n",
      "mean_270619-video2_007-036_opened_cc55.png: too spherical 8.293687643710713\n",
      "\n",
      "mean_270619-video2_007-037_opened_cc08.png is INTERESTING\n",
      "\n",
      "video2_007-036-video2_007-037: overlap = 0.0\n"
     ]
    },
    {
     "name": "stderr",
     "output_type": "stream",
     "text": [
      "\r",
      " 78%|███████▊  | 29/37 [00:25<00:08,  1.01s/it]"
     ]
    },
    {
     "name": "stdout",
     "output_type": "stream",
     "text": [
      "\n",
      "video2_007-036-video2_007-037: overlap = 0.0\n"
     ]
    },
    {
     "name": "stderr",
     "output_type": "stream",
     "text": [
      "\r",
      " 81%|████████  | 30/37 [00:25<00:06,  1.12it/s]"
     ]
    },
    {
     "name": "stdout",
     "output_type": "stream",
     "text": [
      "\n",
      "mean_270619-video2_007-037_opened_cc27.png: too spherical 4.003173326614964\n"
     ]
    },
    {
     "name": "stderr",
     "output_type": "stream",
     "text": [
      "\r",
      " 84%|████████▍ | 31/37 [00:26<00:04,  1.23it/s]"
     ]
    },
    {
     "name": "stdout",
     "output_type": "stream",
     "text": [
      "\n",
      "mean_270619-video2_007-037_opened_cc33.png: too spherical 1.969782502486944\n"
     ]
    },
    {
     "name": "stderr",
     "output_type": "stream",
     "text": [
      "\r",
      " 86%|████████▋ | 32/37 [00:27<00:03,  1.33it/s]"
     ]
    },
    {
     "name": "stdout",
     "output_type": "stream",
     "text": [
      "\n",
      "mean_270619-video2_007-037_opened_cc52.png: too spherical 4.043940279485868\n"
     ]
    },
    {
     "name": "stderr",
     "output_type": "stream",
     "text": [
      "\r",
      " 89%|████████▉ | 33/37 [00:27<00:02,  1.40it/s]"
     ]
    },
    {
     "name": "stdout",
     "output_type": "stream",
     "text": [
      "\n",
      "mean_270619-video2_007-037_opened_cc65.png: too spherical 7.954410508058826\n"
     ]
    },
    {
     "name": "stderr",
     "output_type": "stream",
     "text": [
      "\r",
      " 92%|█████████▏| 34/37 [00:28<00:02,  1.43it/s]"
     ]
    },
    {
     "name": "stdout",
     "output_type": "stream",
     "text": [
      "\n",
      "mean_270619-video2_007-048_opened_cc24.png: too spherical 1.5096631489241013\n"
     ]
    },
    {
     "name": "stderr",
     "output_type": "stream",
     "text": [
      "\r",
      " 95%|█████████▍| 35/37 [00:28<00:01,  1.47it/s]"
     ]
    },
    {
     "name": "stdout",
     "output_type": "stream",
     "text": [
      "\n",
      "mean_270619-video2_007-048_opened_cc46.png is INTERESTING\n"
     ]
    },
    {
     "name": "stderr",
     "output_type": "stream",
     "text": [
      "\r",
      " 97%|█████████▋| 36/37 [00:29<00:00,  1.51it/s]"
     ]
    },
    {
     "name": "stdout",
     "output_type": "stream",
     "text": [
      "\n",
      "mean_270619-video2_007-006_opened_cc49.png: too spherical 9.892631035739873\n"
     ]
    },
    {
     "name": "stderr",
     "output_type": "stream",
     "text": [
      "100%|██████████| 37/37 [00:30<00:00,  1.53it/s]\n",
      "  0%|          | 0/48 [00:00<?, ?it/s]"
     ]
    },
    {
     "name": "stdout",
     "output_type": "stream",
     "text": [
      "\n",
      "mean_270619-video2_007-035_opened_cc30.png is INTERESTING\n",
      "found video2_008/trigger_thr0.005_cl9_op3/cc_filtered_2den0.81_gausrad2.0/\n"
     ]
    },
    {
     "name": "stderr",
     "output_type": "stream",
     "text": [
      "\r",
      "  2%|▏         | 1/48 [00:00<00:33,  1.41it/s]"
     ]
    },
    {
     "name": "stdout",
     "output_type": "stream",
     "text": [
      "\n",
      "mean_270619-video2_008-001_opened_cc17.png: too spherical 3.3978702995749672\n"
     ]
    },
    {
     "name": "stderr",
     "output_type": "stream",
     "text": [
      "\r",
      "  4%|▍         | 2/48 [00:01<00:32,  1.41it/s]"
     ]
    },
    {
     "name": "stdout",
     "output_type": "stream",
     "text": [
      "\n",
      "mean_270619-video2_008-002_opened_cc24.png: too spherical 4.341792746044707\n"
     ]
    },
    {
     "name": "stderr",
     "output_type": "stream",
     "text": [
      "\r",
      "  6%|▋         | 3/48 [00:02<00:30,  1.45it/s]"
     ]
    },
    {
     "name": "stdout",
     "output_type": "stream",
     "text": [
      "\n",
      "mean_270619-video2_008-002_opened_cc38.png: too spherical 4.4970878230765505\n"
     ]
    },
    {
     "name": "stderr",
     "output_type": "stream",
     "text": [
      "\r",
      "  8%|▊         | 4/48 [00:02<00:29,  1.50it/s]"
     ]
    },
    {
     "name": "stdout",
     "output_type": "stream",
     "text": [
      "\n",
      "mean_270619-video2_008-002_opened_cc42.png: too spherical 7.4734093721653485\n"
     ]
    },
    {
     "name": "stderr",
     "output_type": "stream",
     "text": [
      "\r",
      " 10%|█         | 5/48 [00:03<00:28,  1.52it/s]"
     ]
    },
    {
     "name": "stdout",
     "output_type": "stream",
     "text": [
      "\n",
      "mean_270619-video2_008-002_opened_cc44.png is INTERESTING\n"
     ]
    },
    {
     "name": "stderr",
     "output_type": "stream",
     "text": [
      "\r",
      " 12%|█▎        | 6/48 [00:03<00:27,  1.55it/s]"
     ]
    },
    {
     "name": "stdout",
     "output_type": "stream",
     "text": [
      "\n",
      "mean_270619-video2_008-002_opened_cc70.png is INTERESTING\n"
     ]
    },
    {
     "name": "stderr",
     "output_type": "stream",
     "text": [
      "\r",
      " 15%|█▍        | 7/48 [00:04<00:26,  1.55it/s]"
     ]
    },
    {
     "name": "stdout",
     "output_type": "stream",
     "text": [
      "\n",
      "mean_270619-video2_008-003_opened_cc17.png: too spherical 3.4683712491828294\n"
     ]
    },
    {
     "name": "stderr",
     "output_type": "stream",
     "text": [
      "\r",
      " 17%|█▋        | 8/48 [00:05<00:25,  1.56it/s]"
     ]
    },
    {
     "name": "stdout",
     "output_type": "stream",
     "text": [
      "\n",
      "mean_270619-video2_008-003_opened_cc41.png: too spherical 4.972151895074777\n"
     ]
    },
    {
     "name": "stderr",
     "output_type": "stream",
     "text": [
      "\r",
      " 19%|█▉        | 9/48 [00:05<00:25,  1.52it/s]"
     ]
    },
    {
     "name": "stdout",
     "output_type": "stream",
     "text": [
      "\n",
      "mean_270619-video2_008-004_opened_cc11.png: too spherical 2.6087807405666648\n"
     ]
    },
    {
     "name": "stderr",
     "output_type": "stream",
     "text": [
      "\r",
      " 21%|██        | 10/48 [00:06<00:24,  1.55it/s]"
     ]
    },
    {
     "name": "stdout",
     "output_type": "stream",
     "text": [
      "\n",
      "mean_270619-video2_008-004_opened_cc116.png is INTERESTING\n"
     ]
    },
    {
     "name": "stderr",
     "output_type": "stream",
     "text": [
      "\r",
      " 23%|██▎       | 11/48 [00:07<00:23,  1.58it/s]"
     ]
    },
    {
     "name": "stdout",
     "output_type": "stream",
     "text": [
      "\n",
      "mean_270619-video2_008-004_opened_cc28.png: too spherical 2.8736371671597998\n"
     ]
    },
    {
     "name": "stderr",
     "output_type": "stream",
     "text": [
      "\r",
      " 25%|██▌       | 12/48 [00:07<00:22,  1.60it/s]"
     ]
    },
    {
     "name": "stdout",
     "output_type": "stream",
     "text": [
      "\n",
      "mean_270619-video2_008-004_opened_cc35.png: too spherical 2.8880519466969243\n"
     ]
    },
    {
     "name": "stderr",
     "output_type": "stream",
     "text": [
      "\r",
      " 27%|██▋       | 13/48 [00:08<00:22,  1.59it/s]"
     ]
    },
    {
     "name": "stdout",
     "output_type": "stream",
     "text": [
      "\n",
      "mean_270619-video2_008-004_opened_cc43.png is INTERESTING\n"
     ]
    },
    {
     "name": "stderr",
     "output_type": "stream",
     "text": [
      "\r",
      " 29%|██▉       | 14/48 [00:08<00:21,  1.59it/s]"
     ]
    },
    {
     "name": "stdout",
     "output_type": "stream",
     "text": [
      "\n",
      "mean_270619-video2_008-004_opened_cc57.png: too spherical 4.206684113347683\n"
     ]
    },
    {
     "name": "stderr",
     "output_type": "stream",
     "text": [
      "\r",
      " 31%|███▏      | 15/48 [00:09<00:20,  1.61it/s]"
     ]
    },
    {
     "name": "stdout",
     "output_type": "stream",
     "text": [
      "\n",
      "mean_270619-video2_008-004_opened_cc58.png is INTERESTING\n"
     ]
    },
    {
     "name": "stderr",
     "output_type": "stream",
     "text": [
      "\r",
      " 33%|███▎      | 16/48 [00:10<00:19,  1.62it/s]"
     ]
    },
    {
     "name": "stdout",
     "output_type": "stream",
     "text": [
      "\n",
      "mean_270619-video2_008-004_opened_cc85.png: too spherical 4.20995591311665\n",
      "\n",
      "mean_270619-video2_008-005_opened_cc06.png is INTERESTING\n",
      "\n",
      "video2_008-004-video2_008-005: overlap = 0.0\n",
      "\n",
      "video2_008-004-video2_008-005: overlap = 0.0\n"
     ]
    },
    {
     "name": "stderr",
     "output_type": "stream",
     "text": [
      "\r",
      " 35%|███▌      | 17/48 [00:12<00:35,  1.13s/it]"
     ]
    },
    {
     "name": "stdout",
     "output_type": "stream",
     "text": [
      "\n",
      "video2_008-004-video2_008-005: overlap = 0.0\n",
      "\n",
      "mean_270619-video2_008-005_opened_cc45.png is INTERESTING\n",
      "\n",
      "video2_008-004-video2_008-005: overlap = 0.0\n",
      "\n",
      "video2_008-004-video2_008-005: overlap = 0.320855614973262\n"
     ]
    },
    {
     "name": "stderr",
     "output_type": "stream",
     "text": [
      "\r",
      " 38%|███▊      | 18/48 [00:14<00:45,  1.50s/it]"
     ]
    },
    {
     "name": "stdout",
     "output_type": "stream",
     "text": [
      "\n",
      "video2_008-004-video2_008-005: overlap = 0.0\n"
     ]
    },
    {
     "name": "stderr",
     "output_type": "stream",
     "text": [
      "\r",
      " 40%|███▉      | 19/48 [00:15<00:36,  1.26s/it]"
     ]
    },
    {
     "name": "stdout",
     "output_type": "stream",
     "text": [
      "\n",
      "mean_270619-video2_008-011_opened_cc04.png: too spherical 6.188426998044078\n"
     ]
    },
    {
     "name": "stderr",
     "output_type": "stream",
     "text": [
      "\r",
      " 42%|████▏     | 20/48 [00:16<00:30,  1.08s/it]"
     ]
    },
    {
     "name": "stdout",
     "output_type": "stream",
     "text": [
      "\n",
      "mean_270619-video2_008-011_opened_cc05.png: too spherical 1.8117380886620362\n"
     ]
    },
    {
     "name": "stderr",
     "output_type": "stream",
     "text": [
      "\r",
      " 44%|████▍     | 21/48 [00:16<00:25,  1.05it/s]"
     ]
    },
    {
     "name": "stdout",
     "output_type": "stream",
     "text": [
      "\n",
      "mean_270619-video2_008-011_opened_cc51.png: too spherical 3.2161602211800955\n"
     ]
    },
    {
     "name": "stderr",
     "output_type": "stream",
     "text": [
      "\r",
      " 46%|████▌     | 22/48 [00:17<00:22,  1.17it/s]"
     ]
    },
    {
     "name": "stdout",
     "output_type": "stream",
     "text": [
      "\n",
      "mean_270619-video2_008-011_opened_cc55.png is INTERESTING\n"
     ]
    },
    {
     "name": "stderr",
     "output_type": "stream",
     "text": [
      "\r",
      " 48%|████▊     | 23/48 [00:18<00:19,  1.27it/s]"
     ]
    },
    {
     "name": "stdout",
     "output_type": "stream",
     "text": [
      "\n",
      "mean_270619-video2_008-011_opened_cc70.png is INTERESTING\n"
     ]
    },
    {
     "name": "stderr",
     "output_type": "stream",
     "text": [
      "\r",
      " 50%|█████     | 24/48 [00:18<00:17,  1.34it/s]"
     ]
    },
    {
     "name": "stdout",
     "output_type": "stream",
     "text": [
      "\n",
      "mean_270619-video2_008-012_opened_cc03.png: too spherical 2.2883378922796203\n"
     ]
    },
    {
     "name": "stderr",
     "output_type": "stream",
     "text": [
      "\r",
      " 52%|█████▏    | 25/48 [00:19<00:17,  1.35it/s]"
     ]
    },
    {
     "name": "stdout",
     "output_type": "stream",
     "text": [
      "\n",
      "mean_270619-video2_008-012_opened_cc07.png: too spherical 3.880161382745908\n"
     ]
    },
    {
     "name": "stderr",
     "output_type": "stream",
     "text": [
      "\r",
      " 54%|█████▍    | 26/48 [00:20<00:15,  1.41it/s]"
     ]
    },
    {
     "name": "stdout",
     "output_type": "stream",
     "text": [
      "\n",
      "mean_270619-video2_008-012_opened_cc17.png: too spherical 5.221310113214375\n"
     ]
    },
    {
     "name": "stderr",
     "output_type": "stream",
     "text": [
      "\r",
      " 56%|█████▋    | 27/48 [00:20<00:14,  1.47it/s]"
     ]
    },
    {
     "name": "stdout",
     "output_type": "stream",
     "text": [
      "\n",
      "mean_270619-video2_008-012_opened_cc34.png: too spherical 6.625910722704522\n"
     ]
    },
    {
     "name": "stderr",
     "output_type": "stream",
     "text": [
      "\r",
      " 58%|█████▊    | 28/48 [00:21<00:13,  1.50it/s]"
     ]
    },
    {
     "name": "stdout",
     "output_type": "stream",
     "text": [
      "\n",
      "mean_270619-video2_008-012_opened_cc45.png: too spherical 4.253996703627043\n"
     ]
    },
    {
     "name": "stderr",
     "output_type": "stream",
     "text": [
      "\r",
      " 60%|██████    | 29/48 [00:22<00:12,  1.54it/s]"
     ]
    },
    {
     "name": "stdout",
     "output_type": "stream",
     "text": [
      "\n",
      "mean_270619-video2_008-012_opened_cc62.png: too spherical 4.547050282302043\n"
     ]
    },
    {
     "name": "stderr",
     "output_type": "stream",
     "text": [
      "\r",
      " 62%|██████▎   | 30/48 [00:22<00:11,  1.54it/s]"
     ]
    },
    {
     "name": "stdout",
     "output_type": "stream",
     "text": [
      "\n",
      "mean_270619-video2_008-003_opened_cc29.png: too spherical 8.512157230342275\n",
      "\n",
      "mean_270619-video2_008-005_opened_cc79.png is INTERESTING\n"
     ]
    },
    {
     "name": "stderr",
     "output_type": "stream",
     "text": [
      "\r",
      " 65%|██████▍   | 31/48 [00:23<00:13,  1.23it/s]"
     ]
    },
    {
     "name": "stdout",
     "output_type": "stream",
     "text": [
      "\n",
      "video2_008-004-video2_008-005: overlap = 0.6284796573875804\n"
     ]
    },
    {
     "name": "stderr",
     "output_type": "stream",
     "text": [
      "\r",
      " 67%|██████▋   | 32/48 [00:24<00:12,  1.28it/s]"
     ]
    },
    {
     "name": "stdout",
     "output_type": "stream",
     "text": [
      "\n",
      "mean_270619-video2_008-013_opened_cc01.png: too spherical 7.3190392794212835\n"
     ]
    },
    {
     "name": "stderr",
     "output_type": "stream",
     "text": [
      "\r",
      " 69%|██████▉   | 33/48 [00:25<00:11,  1.34it/s]"
     ]
    },
    {
     "name": "stdout",
     "output_type": "stream",
     "text": [
      "\n",
      "mean_270619-video2_008-013_opened_cc04.png: too spherical 6.190799285749345\n"
     ]
    },
    {
     "name": "stderr",
     "output_type": "stream",
     "text": [
      "\r",
      " 71%|███████   | 34/48 [00:25<00:09,  1.43it/s]"
     ]
    },
    {
     "name": "stdout",
     "output_type": "stream",
     "text": [
      "\n",
      "mean_270619-video2_008-013_opened_cc11.png: too spherical 7.9829017368537265\n"
     ]
    },
    {
     "name": "stderr",
     "output_type": "stream",
     "text": [
      "\r",
      " 73%|███████▎  | 35/48 [00:26<00:08,  1.48it/s]"
     ]
    },
    {
     "name": "stdout",
     "output_type": "stream",
     "text": [
      "\n",
      "mean_270619-video2_008-013_opened_cc32.png: too spherical 6.47707595455535\n"
     ]
    },
    {
     "name": "stderr",
     "output_type": "stream",
     "text": [
      "\r",
      " 75%|███████▌  | 36/48 [00:27<00:07,  1.52it/s]"
     ]
    },
    {
     "name": "stdout",
     "output_type": "stream",
     "text": [
      "\n",
      "mean_270619-video2_008-013_opened_cc37.png: too spherical 6.331099985074288\n"
     ]
    },
    {
     "name": "stderr",
     "output_type": "stream",
     "text": [
      "\r",
      " 77%|███████▋  | 37/48 [00:27<00:07,  1.54it/s]"
     ]
    },
    {
     "name": "stdout",
     "output_type": "stream",
     "text": [
      "\n",
      "mean_270619-video2_008-013_opened_cc59.png: too spherical 1.3091814105064536\n"
     ]
    },
    {
     "name": "stderr",
     "output_type": "stream",
     "text": [
      "\r",
      " 79%|███████▉  | 38/48 [00:28<00:06,  1.57it/s]"
     ]
    },
    {
     "name": "stdout",
     "output_type": "stream",
     "text": [
      "\n",
      "mean_270619-video2_008-013_opened_cc71.png: too spherical 2.311105211155934\n"
     ]
    },
    {
     "name": "stderr",
     "output_type": "stream",
     "text": [
      "\r",
      " 81%|████████▏ | 39/48 [00:28<00:05,  1.58it/s]"
     ]
    },
    {
     "name": "stdout",
     "output_type": "stream",
     "text": [
      "\n",
      "mean_270619-video2_008-013_opened_cc75.png is INTERESTING\n"
     ]
    },
    {
     "name": "stderr",
     "output_type": "stream",
     "text": [
      "\r",
      " 83%|████████▎ | 40/48 [00:29<00:05,  1.60it/s]"
     ]
    },
    {
     "name": "stdout",
     "output_type": "stream",
     "text": [
      "\n",
      "mean_270619-video2_008-013_opened_cc92.png is INTERESTING\n"
     ]
    },
    {
     "name": "stderr",
     "output_type": "stream",
     "text": [
      "\r",
      " 85%|████████▌ | 41/48 [00:30<00:04,  1.57it/s]"
     ]
    },
    {
     "name": "stdout",
     "output_type": "stream",
     "text": [
      "\n",
      "mean_270619-video2_008-014_opened_cc11.png: too spherical 4.846542400212201\n"
     ]
    },
    {
     "name": "stderr",
     "output_type": "stream",
     "text": [
      "\r",
      " 88%|████████▊ | 42/48 [00:30<00:03,  1.56it/s]"
     ]
    },
    {
     "name": "stdout",
     "output_type": "stream",
     "text": [
      "\n",
      "mean_270619-video2_008-014_opened_cc16.png: too spherical 3.569072792448525\n"
     ]
    },
    {
     "name": "stderr",
     "output_type": "stream",
     "text": [
      "\r",
      " 90%|████████▉ | 43/48 [00:31<00:03,  1.56it/s]"
     ]
    },
    {
     "name": "stdout",
     "output_type": "stream",
     "text": [
      "\n",
      "mean_270619-video2_008-015_opened_cc12.png: too spherical 7.296277464362657\n"
     ]
    },
    {
     "name": "stderr",
     "output_type": "stream",
     "text": [
      "\r",
      " 92%|█████████▏| 44/48 [00:32<00:02,  1.53it/s]"
     ]
    },
    {
     "name": "stdout",
     "output_type": "stream",
     "text": [
      "\n",
      "mean_270619-video2_008-015_opened_cc16.png: too spherical 3.000731422722822\n"
     ]
    },
    {
     "name": "stderr",
     "output_type": "stream",
     "text": [
      "\r",
      " 94%|█████████▍| 45/48 [00:32<00:01,  1.55it/s]"
     ]
    },
    {
     "name": "stdout",
     "output_type": "stream",
     "text": [
      "\n",
      "mean_270619-video2_008-016_opened_cc03.png is INTERESTING\n"
     ]
    },
    {
     "name": "stderr",
     "output_type": "stream",
     "text": [
      "\r",
      " 96%|█████████▌| 46/48 [00:33<00:01,  1.58it/s]"
     ]
    },
    {
     "name": "stdout",
     "output_type": "stream",
     "text": [
      "\n",
      "mean_270619-video2_008-016_opened_cc15.png is INTERESTING\n"
     ]
    },
    {
     "name": "stderr",
     "output_type": "stream",
     "text": [
      "\r",
      " 98%|█████████▊| 47/48 [00:34<00:00,  1.59it/s]"
     ]
    },
    {
     "name": "stdout",
     "output_type": "stream",
     "text": [
      "\n",
      "mean_270619-video2_008-016_opened_cc20.png is INTERESTING\n"
     ]
    },
    {
     "name": "stderr",
     "output_type": "stream",
     "text": [
      "\r",
      "100%|██████████| 48/48 [00:34<00:00,  1.61it/s]"
     ]
    },
    {
     "name": "stdout",
     "output_type": "stream",
     "text": [
      "\n",
      "mean_270619-video2_008-016_opened_cc50.png is INTERESTING\n",
      "found video3_000/trigger_thr0.005_cl9_op3/cc_filtered_2den0.81_gausrad2.0/\n",
      "found video3_001/trigger_thr0.005_cl9_op3/cc_filtered_2den0.81_gausrad2.0/\n",
      "found video3_002/trigger_thr0.005_cl9_op3/cc_filtered_2den0.81_gausrad2.0/\n",
      "found video3_003/trigger_thr0.005_cl9_op3/cc_filtered_2den0.81_gausrad2.0/\n",
      "found video3_004/trigger_thr0.005_cl9_op3/cc_filtered_2den0.81_gausrad2.0/\n",
      "found video3_005/trigger_thr0.005_cl9_op3/cc_filtered_2den0.81_gausrad2.0/\n",
      "found video3_006/trigger_thr0.005_cl9_op3/cc_filtered_2den0.81_gausrad2.0/\n",
      "found video3_007/trigger_thr0.005_cl9_op3/cc_filtered_2den0.81_gausrad2.0/\n",
      "found video3_008/trigger_thr0.005_cl9_op3/cc_filtered_2den0.81_gausrad2.0/\n",
      "found video3_009/trigger_thr0.005_cl9_op3/cc_filtered_2den0.81_gausrad2.0/\n",
      "found video3_010/trigger_thr0.005_cl9_op3/cc_filtered_2den0.81_gausrad2.0/\n",
      "found video3_011/trigger_thr0.005_cl9_op3/cc_filtered_2den0.81_gausrad2.0/\n",
      "found video3_012/trigger_thr0.005_cl9_op3/cc_filtered_2den0.81_gausrad2.0/\n",
      "found video3_013/trigger_thr0.005_cl9_op3/cc_filtered_2den0.81_gausrad2.0/\n",
      "found video3_014/trigger_thr0.005_cl9_op3/cc_filtered_2den0.81_gausrad2.0/\n",
      "found video3_015/trigger_thr0.005_cl9_op3/cc_filtered_2den0.81_gausrad2.0/\n",
      "found video3_016/trigger_thr0.005_cl9_op3/cc_filtered_2den0.81_gausrad2.0/\n",
      "found video3_017/trigger_thr0.005_cl9_op3/cc_filtered_2den0.81_gausrad2.0/\n",
      "found video3_018/trigger_thr0.005_cl9_op3/cc_filtered_2den0.81_gausrad2.0/\n",
      "found video3_020/trigger_thr0.005_cl9_op3/cc_filtered_2den0.81_gausrad2.0/\n",
      "found video3_021/trigger_thr0.005_cl9_op3/cc_filtered_2den0.81_gausrad2.0/\n",
      "found video3_022/trigger_thr0.005_cl9_op3/cc_filtered_2den0.81_gausrad2.0/\n",
      "found video3_023/trigger_thr0.005_cl9_op3/cc_filtered_2den0.81_gausrad2.0/\n",
      "found video3_024/trigger_thr0.005_cl9_op3/cc_filtered_2den0.81_gausrad2.0/\n",
      "found video3_025/trigger_thr0.005_cl9_op3/cc_filtered_2den0.81_gausrad2.0/\n",
      "found video3_026/trigger_thr0.005_cl9_op3/cc_filtered_2den0.81_gausrad2.0/\n",
      "found video3_027/trigger_thr0.005_cl9_op3/cc_filtered_2den0.81_gausrad2.0/\n",
      "found video3_028/trigger_thr0.005_cl9_op3/cc_filtered_2den0.81_gausrad2.0/\n",
      "found video3_029/trigger_thr0.005_cl9_op3/cc_filtered_2den0.81_gausrad2.0/\n",
      "found video4_000/trigger_thr0.005_cl9_op3/cc_filtered_2den0.81_gausrad2.0/\n",
      "found video4_001/trigger_thr0.005_cl9_op3/cc_filtered_2den0.81_gausrad2.0/\n",
      "found video4_002/trigger_thr0.005_cl9_op3/cc_filtered_2den0.81_gausrad2.0/\n",
      "found video4_003/trigger_thr0.005_cl9_op3/cc_filtered_2den0.81_gausrad2.0/\n",
      "found video4_004/trigger_thr0.005_cl9_op3/cc_filtered_2den0.81_gausrad2.0/\n",
      "found video4_005/trigger_thr0.005_cl9_op3/cc_filtered_2den0.81_gausrad2.0/\n",
      "found video4_006/trigger_thr0.005_cl9_op3/cc_filtered_2den0.81_gausrad2.0/\n",
      "found video4_007/trigger_thr0.005_cl9_op3/cc_filtered_2den0.81_gausrad2.0/\n",
      "found video4_008/trigger_thr0.005_cl9_op3/cc_filtered_2den0.81_gausrad2.0/\n",
      "found video4_010/trigger_thr0.005_cl9_op3/cc_filtered_2den0.81_gausrad2.0/\n",
      "found video4_011/trigger_thr0.005_cl9_op3/cc_filtered_2den0.81_gausrad2.0/\n",
      "found video4_012/trigger_thr0.005_cl9_op3/cc_filtered_2den0.81_gausrad2.0/\n",
      "found video4_013/trigger_thr0.005_cl9_op3/cc_filtered_2den0.81_gausrad2.0/\n",
      "found video4_014/trigger_thr0.005_cl9_op3/cc_filtered_2den0.81_gausrad2.0/\n",
      "found video4_015/trigger_thr0.005_cl9_op3/cc_filtered_2den0.81_gausrad2.0/\n",
      "found video4_016/trigger_thr0.005_cl9_op3/cc_filtered_2den0.81_gausrad2.0/\n",
      "found video4_017/trigger_thr0.005_cl9_op3/cc_filtered_2den0.81_gausrad2.0/\n",
      "found video4_018/trigger_thr0.005_cl9_op3/cc_filtered_2den0.81_gausrad2.0/\n",
      "found video4_019/trigger_thr0.005_cl9_op3/cc_filtered_2den0.81_gausrad2.0/\n",
      "found video4_020/trigger_thr0.005_cl9_op3/cc_filtered_2den0.81_gausrad2.0/\n",
      "found video4_021/trigger_thr0.005_cl9_op3/cc_filtered_2den0.81_gausrad2.0/\n",
      "found video4_022/trigger_thr0.005_cl9_op3/cc_filtered_2den0.81_gausrad2.0/\n",
      "found video4_023/trigger_thr0.005_cl9_op3/cc_filtered_2den0.81_gausrad2.0/\n",
      "found video4_024/trigger_thr0.005_cl9_op3/cc_filtered_2den0.81_gausrad2.0/\n",
      "found video4_025/trigger_thr0.005_cl9_op3/cc_filtered_2den0.81_gausrad2.0/\n",
      "found video4_026/trigger_thr0.005_cl9_op3/cc_filtered_2den0.81_gausrad2.0/\n",
      "found video4_027/trigger_thr0.005_cl9_op3/cc_filtered_2den0.81_gausrad2.0/\n",
      "found video4_028/trigger_thr0.005_cl9_op3/cc_filtered_2den0.81_gausrad2.0/\n",
      "\n",
      "Slimming 148 particles\n"
     ]
    },
    {
     "name": "stderr",
     "output_type": "stream",
     "text": [
      "\n"
     ]
    },
    {
     "name": "stdout",
     "output_type": "stream",
     "text": [
      "Total time: 0 h 11 min 46 s\n"
     ]
    }
   ],
   "source": [
    "# create clusterizer\n",
    "\n",
    "particles = []\n",
    "\n",
    "particles,n_part,slim = Particle.Big_iteration(path='/media/alessandro/DATA/tesi/Nebbia/pre-processed_data/270619/',\n",
    "                                               slim=True,eccentricity_thr=5,video_name='video1')\n",
    "c = Clusterizer.Clusterizer('video1_e5',particles,slim)\n",
    "c.save(path='./Clusterizers/270619/')"
   ]
  },
  {
   "cell_type": "code",
   "execution_count": null,
   "metadata": {},
   "outputs": [],
   "source": [
    "c = Clusterizer.Clusterizer('video9_r6',particles,slim)\n",
    "c.save()"
   ]
  },
  {
   "cell_type": "code",
   "execution_count": null,
   "metadata": {},
   "outputs": [],
   "source": [
    "c.save()"
   ]
  },
  {
   "cell_type": "code",
   "execution_count": null,
   "metadata": {},
   "outputs": [],
   "source": [
    "particles"
   ]
  },
  {
   "cell_type": "code",
   "execution_count": null,
   "metadata": {},
   "outputs": [],
   "source": [
    "%matplotlib notebook\n",
    "c.plot()"
   ]
  },
  {
   "cell_type": "code",
   "execution_count": 2,
   "metadata": {},
   "outputs": [],
   "source": [
    "d = Clusterizer.load_Clusterizer(path='./Clusterizers/170619/',name='video1_e5')"
   ]
  },
  {
   "cell_type": "code",
   "execution_count": 3,
   "metadata": {},
   "outputs": [
    {
     "data": {
      "text/plain": [
       "array([(  1, '/media/alessandro/DATA/tesi/Nebbia/pre-processed_data/170619/video1_000/trigger_thr0.005_cl9_op3/cc_filtered_2den0.81_gausrad2.0/', list(['mean_170619-video1_000-009_opened_cc15.png']), array([  1.        , 661.97713666,  15.20926686,   6.        ,\n",
       "         1.85853338])),\n",
       "       (  2, '/media/alessandro/DATA/tesi/Nebbia/pre-processed_data/170619/video1_000/trigger_thr0.005_cl9_op3/cc_filtered_2den0.81_gausrad2.0/', list(['mean_170619-video1_000-023_opened_cc64.png']), array([  1.        , 156.53930153,   6.19574551,   3.        ,\n",
       "         1.41434496])),\n",
       "       (  3, '/media/alessandro/DATA/tesi/Nebbia/pre-processed_data/170619/video1_000/trigger_thr0.005_cl9_op3/cc_filtered_2den0.81_gausrad2.0/', list(['mean_170619-video1_000-038_opened_cc04.png']), array([  1.        , 192.39098274,   5.76616713,   3.        ,\n",
       "         1.13210346])),\n",
       "       (  4, '/media/alessandro/DATA/tesi/Nebbia/pre-processed_data/170619/video1_000/trigger_thr0.005_cl9_op3/cc_filtered_2den0.81_gausrad2.0/', list(['mean_170619-video1_000-038_opened_cc07.png']), array([  1.        , 445.20805513,   6.18599697,   7.        ,\n",
       "         1.70317973])),\n",
       "       (  5, '/media/alessandro/DATA/tesi/Nebbia/pre-processed_data/170619/video1_000/trigger_thr0.005_cl9_op3/cc_filtered_2den0.81_gausrad2.0/', list(['mean_170619-video1_000-038_opened_cc15.png']), array([  1.        , 490.60746649,  10.02974168,   5.        ,\n",
       "         1.40811243])),\n",
       "       (  6, '/media/alessandro/DATA/tesi/Nebbia/pre-processed_data/170619/video1_000/trigger_thr0.005_cl9_op3/cc_filtered_2den0.81_gausrad2.0/', list(['mean_170619-video1_000-042_opened_cc19.png']), array([  1.        , 330.58005812,   8.82657382,   8.        ,\n",
       "         2.06596397])),\n",
       "       (  7, '/media/alessandro/DATA/tesi/Nebbia/pre-processed_data/170619/video1_000/trigger_thr0.005_cl9_op3/cc_filtered_2den0.81_gausrad2.0/', list(['mean_170619-video1_000-042_opened_cc24.png']), array([  1.        , 201.63282899,   6.659422  ,   3.        ,\n",
       "         1.35688187])),\n",
       "       (  8, '/media/alessandro/DATA/tesi/Nebbia/pre-processed_data/170619/video1_001/trigger_thr0.005_cl9_op3/cc_filtered_2den0.81_gausrad2.0/', list(['mean_170619-video1_001-048_opened_cc02.png']), array([  1.        , 112.06463694,   6.3926622 ,   2.        ,\n",
       "         1.        ])),\n",
       "       (  9, '/media/alessandro/DATA/tesi/Nebbia/pre-processed_data/170619/video1_001/trigger_thr0.005_cl9_op3/cc_filtered_2den0.81_gausrad2.0/', list(['mean_170619-video1_001-048_opened_cc04.png']), array([  1.        , 219.89112232,   6.37877714,   3.        ,\n",
       "         1.41071832])),\n",
       "       ( 10, '/media/alessandro/DATA/tesi/Nebbia/pre-processed_data/170619/video1_001/trigger_thr0.005_cl9_op3/cc_filtered_2den0.81_gausrad2.0/', list(['mean_170619-video1_001-048_opened_cc37.png']), array([  1.        , 256.88816557,  12.41617792,   4.        ,\n",
       "         1.2336144 ])),\n",
       "       ( 11, '/media/alessandro/DATA/tesi/Nebbia/pre-processed_data/170619/video1_002/trigger_thr0.005_cl9_op3/cc_filtered_2den0.81_gausrad2.0/', list(['mean_170619-video1_002-006_opened_cc06.png']), array([1.00000000e+00, 1.10280035e+03, 1.29675603e+01, 7.00000000e+00,\n",
       "       2.22547842e+00])),\n",
       "       ( 12, '/media/alessandro/DATA/tesi/Nebbia/pre-processed_data/170619/video1_002/trigger_thr0.005_cl9_op3/cc_filtered_2den0.81_gausrad2.0/', list(['mean_170619-video1_002-011_opened_cc05.png']), array([  1.        , 911.41058669,  13.77485684,   8.        ,\n",
       "         2.03780282])),\n",
       "       ( 13, '/media/alessandro/DATA/tesi/Nebbia/pre-processed_data/170619/video1_002/trigger_thr0.005_cl9_op3/cc_filtered_2den0.81_gausrad2.0/', list(['mean_170619-video1_002-019_opened_cc09.png']), array([  1.        , 662.64126836,  15.2458192 ,   7.        ,\n",
       "         2.0512752 ])),\n",
       "       ( 14, '/media/alessandro/DATA/tesi/Nebbia/pre-processed_data/170619/video1_002/trigger_thr0.005_cl9_op3/cc_filtered_2den0.81_gausrad2.0/', list(['mean_170619-video1_002-026_opened_cc24.png']), array([  1.        , 259.21498059,  12.17204381,   4.        ,\n",
       "         1.        ])),\n",
       "       ( 15, '/media/alessandro/DATA/tesi/Nebbia/pre-processed_data/170619/video1_002/trigger_thr0.005_cl9_op3/cc_filtered_2den0.81_gausrad2.0/', list(['mean_170619-video1_002-026_opened_cc25.png']), array([  1.        , 413.71929141,   9.98664679,   4.        ,\n",
       "         1.4618965 ])),\n",
       "       ( 16, '/media/alessandro/DATA/tesi/Nebbia/pre-processed_data/170619/video1_003/trigger_thr0.005_cl9_op3/cc_filtered_2den0.81_gausrad2.0/', list(['mean_170619-video1_003-002_opened_cc08.png']), array([1.00000000e+00, 1.09843967e+03, 1.39757287e+01, 5.00000000e+00,\n",
       "       2.10105069e+00])),\n",
       "       ( 17, '/media/alessandro/DATA/tesi/Nebbia/pre-processed_data/170619/video1_003/trigger_thr0.005_cl9_op3/cc_filtered_2den0.81_gausrad2.0/', list(['mean_170619-video1_003-002_opened_cc56.png']), array([  1.        , 128.97975377,   5.52024623,   1.        ,\n",
       "         1.62383269])),\n",
       "       ( 18, '/media/alessandro/DATA/tesi/Nebbia/pre-processed_data/170619/video1_003/trigger_thr0.005_cl9_op3/cc_filtered_2den0.81_gausrad2.0/', list(['mean_170619-video1_003-007_opened_cc17.png']), array([  1.        , 238.47027762,   5.81577796,   5.        ,\n",
       "         1.38608033])),\n",
       "       ( 19, '/media/alessandro/DATA/tesi/Nebbia/pre-processed_data/170619/video1_003/trigger_thr0.005_cl9_op3/cc_filtered_2den0.81_gausrad2.0/', list(['mean_170619-video1_003-014_opened_cc05.png']), array([1.00000000e+00, 1.21189206e+03, 1.15730946e+01, 7.00000000e+00,\n",
       "       2.52856974e+00])),\n",
       "       ( 20, '/media/alessandro/DATA/tesi/Nebbia/pre-processed_data/170619/video1_003/trigger_thr0.005_cl9_op3/cc_filtered_2den0.81_gausrad2.0/', list(['mean_170619-video1_003-027_opened_cc03.png']), array([  1.        , 249.25103002,   4.03801126,   4.        ,\n",
       "         2.49201195])),\n",
       "       ( 21, '/media/alessandro/DATA/tesi/Nebbia/pre-processed_data/170619/video1_003/trigger_thr0.005_cl9_op3/cc_filtered_2den0.81_gausrad2.0/', list(['mean_170619-video1_003-027_opened_cc06.png']), array([1.00000000e+00, 1.31838657e+03, 1.08189351e+01, 1.30000000e+01,\n",
       "       2.82680706e+00])),\n",
       "       ( 22, '/media/alessandro/DATA/tesi/Nebbia/pre-processed_data/170619/video1_003/trigger_thr0.005_cl9_op3/cc_filtered_2den0.81_gausrad2.0/', list(['mean_170619-video1_003-027_opened_cc54.png']), array([  1.        , 191.62010778,   3.38210618,   3.        ,\n",
       "         2.31422551])),\n",
       "       ( 23, '/media/alessandro/DATA/tesi/Nebbia/pre-processed_data/170619/video1_003/trigger_thr0.005_cl9_op3/cc_filtered_2den0.81_gausrad2.0/', list(['mean_170619-video1_003-027_opened_cc68.png']), array([  1.        , 207.14176428,  10.58170585,   4.        ,\n",
       "         1.75556477])),\n",
       "       ( 24, '/media/alessandro/DATA/tesi/Nebbia/pre-processed_data/170619/video1_003/trigger_thr0.005_cl9_op3/cc_filtered_2den0.81_gausrad2.0/', list(['mean_170619-video1_003-036_opened_cc07.png']), array([1.00000000e+00, 1.07594766e+03, 1.38742226e+01, 8.00000000e+00,\n",
       "       2.30376631e+00])),\n",
       "       ( 25, '/media/alessandro/DATA/tesi/Nebbia/pre-processed_data/170619/video1_003/trigger_thr0.005_cl9_op3/cc_filtered_2den0.81_gausrad2.0/', list(['mean_170619-video1_003-038_opened_cc09.png']), array([1.00000000e+00, 1.07758354e+03, 1.14806748e+01, 6.00000000e+00,\n",
       "       2.35658029e+00])),\n",
       "       ( 26, '/media/alessandro/DATA/tesi/Nebbia/pre-processed_data/170619/video1_003/trigger_thr0.005_cl9_op3/cc_filtered_2den0.81_gausrad2.0/', list(['mean_170619-video1_003-041_opened_cc11.png']), array([  1.        , 269.02212009,  10.55038499,   6.        ,\n",
       "         1.06471837])),\n",
       "       ( 27, '/media/alessandro/DATA/tesi/Nebbia/pre-processed_data/170619/video1_003/trigger_thr0.005_cl9_op3/cc_filtered_2den0.81_gausrad2.0/', list(['mean_170619-video1_003-041_opened_cc17.png']), array([  1.        , 306.09429992,   7.19002152,   4.        ,\n",
       "         1.78782542])),\n",
       "       ( 28, '/media/alessandro/DATA/tesi/Nebbia/pre-processed_data/170619/video1_004/trigger_thr0.005_cl9_op3/cc_filtered_2den0.81_gausrad2.0/', list(['mean_170619-video1_004-003_opened_cc11.png']), array([  1.        , 175.17088747,   4.98306057,   3.        ,\n",
       "         2.03056594])),\n",
       "       ( 29, '/media/alessandro/DATA/tesi/Nebbia/pre-processed_data/170619/video1_004/trigger_thr0.005_cl9_op3/cc_filtered_2den0.81_gausrad2.0/', list(['mean_170619-video1_004-003_opened_cc31.png']), array([  1.        , 301.25328708,   4.95867072,   4.        ,\n",
       "         2.16588903])),\n",
       "       ( 30, '/media/alessandro/DATA/tesi/Nebbia/pre-processed_data/170619/video1_004/trigger_thr0.005_cl9_op3/cc_filtered_2den0.81_gausrad2.0/', list(['mean_170619-video1_004-008_opened_cc01.png']), array([  1.        , 406.36767181,   5.44427959,   6.        ,\n",
       "         1.41259213])),\n",
       "       ( 31, '/media/alessandro/DATA/tesi/Nebbia/pre-processed_data/170619/video1_004/trigger_thr0.005_cl9_op3/cc_filtered_2den0.81_gausrad2.0/', list(['mean_170619-video1_004-008_opened_cc03.png']), array([ 1.        , 75.0637721 ,  4.4362279 ,  1.        ,  2.62454324])),\n",
       "       ( 32, '/media/alessandro/DATA/tesi/Nebbia/pre-processed_data/170619/video1_004/trigger_thr0.005_cl9_op3/cc_filtered_2den0.81_gausrad2.0/', list(['mean_170619-video1_004-008_opened_cc09.png']), array([  1.        , 614.06124057,   4.10826449,  11.        ,\n",
       "         2.29970967])),\n",
       "       ( 33, '/media/alessandro/DATA/tesi/Nebbia/pre-processed_data/170619/video1_004/trigger_thr0.005_cl9_op3/cc_filtered_2den0.81_gausrad2.0/', list(['mean_170619-video1_004-008_opened_cc26.png']), array([  1.        , 158.62562843,   4.81286376,   3.        ,\n",
       "         1.54450136])),\n",
       "       ( 34, '/media/alessandro/DATA/tesi/Nebbia/pre-processed_data/170619/video1_004/trigger_thr0.005_cl9_op3/cc_filtered_2den0.81_gausrad2.0/', list(['mean_170619-video1_004-008_opened_cc63.png']), array([  1.        , 198.02298833,   4.60204792,   4.        ,\n",
       "         2.15637635])),\n",
       "       ( 35, '/media/alessandro/DATA/tesi/Nebbia/pre-processed_data/170619/video1_004/trigger_thr0.005_cl9_op3/cc_filtered_2den0.81_gausrad2.0/', list(['mean_170619-video1_004-008_opened_cc65.png']), array([  1.        , 200.60543985,   4.07545675,   3.        ,\n",
       "         1.87187656])),\n",
       "       ( 36, '/media/alessandro/DATA/tesi/Nebbia/pre-processed_data/170619/video1_004/trigger_thr0.005_cl9_op3/cc_filtered_2den0.81_gausrad2.0/', list(['mean_170619-video1_004-009_opened_cc28.png']), array([  1.        , 356.75861337,   4.61425453,   6.        ,\n",
       "         2.24915377])),\n",
       "       ( 37, '/media/alessandro/DATA/tesi/Nebbia/pre-processed_data/170619/video1_004/trigger_thr0.005_cl9_op3/cc_filtered_2den0.81_gausrad2.0/', list(['mean_170619-video1_004-009_opened_cc31.png']), array([  1.        , 115.49965848,   5.20606269,   3.        ,\n",
       "         2.0876084 ])),\n",
       "       ( 38, '/media/alessandro/DATA/tesi/Nebbia/pre-processed_data/170619/video1_004/trigger_thr0.005_cl9_op3/cc_filtered_2den0.81_gausrad2.0/', list(['mean_170619-video1_004-009_opened_cc47.png']), array([  1.        , 218.2369356 ,   7.51957019,   4.        ,\n",
       "         1.18654353])),\n",
       "       ( 39, '/media/alessandro/DATA/tesi/Nebbia/pre-processed_data/170619/video1_004/trigger_thr0.005_cl9_op3/cc_filtered_2den0.81_gausrad2.0/', list(['mean_170619-video1_004-014_opened_cc03.png']), array([1.00000000e+00, 1.79833845e+03, 8.57961721e+00, 2.20000000e+01,\n",
       "       4.03178417e+00])),\n",
       "       ( 40, '/media/alessandro/DATA/tesi/Nebbia/pre-processed_data/170619/video1_004/trigger_thr0.005_cl9_op3/cc_filtered_2den0.81_gausrad2.0/', list(['mean_170619-video1_004-014_opened_cc14.png']), array([  1.        , 510.85061727,   4.46376232,   7.        ,\n",
       "         1.88578958])),\n",
       "       ( 41, '/media/alessandro/DATA/tesi/Nebbia/pre-processed_data/170619/video1_004/trigger_thr0.005_cl9_op3/cc_filtered_2den0.81_gausrad2.0/', list(['mean_170619-video1_004-014_opened_cc34.png']), array([  1.        , 154.02600351,   4.42265748,   4.        ,\n",
       "         1.50846482])),\n",
       "       ( 42, '/media/alessandro/DATA/tesi/Nebbia/pre-processed_data/170619/video1_004/trigger_thr0.005_cl9_op3/cc_filtered_2den0.81_gausrad2.0/', list(['mean_170619-video1_004-014_opened_cc42.png']), array([  1.        , 393.24725533,   4.08089622,   4.        ,\n",
       "         3.90426848])),\n",
       "       ( 43, '/media/alessandro/DATA/tesi/Nebbia/pre-processed_data/170619/video1_004/trigger_thr0.005_cl9_op3/cc_filtered_2den0.81_gausrad2.0/', list(['mean_170619-video1_004-014_opened_cc43.png']), array([  1.        , 108.13229496,  10.55248402,   4.        ,\n",
       "         1.00079603])),\n",
       "       ( 44, '/media/alessandro/DATA/tesi/Nebbia/pre-processed_data/170619/video1_004/trigger_thr0.005_cl9_op3/cc_filtered_2den0.81_gausrad2.0/', list(['mean_170619-video1_004-016_opened_cc02.png']), array([  1.        , 347.66301028,   4.72198531,   6.        ,\n",
       "         1.62096952])),\n",
       "       ( 45, '/media/alessandro/DATA/tesi/Nebbia/pre-processed_data/170619/video1_004/trigger_thr0.005_cl9_op3/cc_filtered_2den0.81_gausrad2.0/', list(['mean_170619-video1_004-016_opened_cc11.png']), array([  1.        , 603.4430381 ,   5.1791757 ,  11.        ,\n",
       "         2.13974785])),\n",
       "       ( 46, '/media/alessandro/DATA/tesi/Nebbia/pre-processed_data/170619/video1_004/trigger_thr0.005_cl9_op3/cc_filtered_2den0.81_gausrad2.0/', list(['mean_170619-video1_004-016_opened_cc25.png']), array([  1.        , 213.691298  ,   5.18044129,   4.        ,\n",
       "         1.79168105])),\n",
       "       ( 47, '/media/alessandro/DATA/tesi/Nebbia/pre-processed_data/170619/video1_004/trigger_thr0.005_cl9_op3/cc_filtered_2den0.81_gausrad2.0/', list(['mean_170619-video1_004-016_opened_cc33.png']), array([  1.        , 853.87315504,   7.52262661,  11.        ,\n",
       "         2.36128061])),\n",
       "       ( 48, '/media/alessandro/DATA/tesi/Nebbia/pre-processed_data/170619/video1_004/trigger_thr0.005_cl9_op3/cc_filtered_2den0.81_gausrad2.0/', list(['mean_170619-video1_004-014_opened_cc26.png']), array([  1.        , 190.36992837,   7.49829356,   2.        ,\n",
       "         1.63723116])),\n",
       "       ( 49, '/media/alessandro/DATA/tesi/Nebbia/pre-processed_data/170619/video1_004/trigger_thr0.005_cl9_op3/cc_filtered_2den0.81_gausrad2.0/', list(['mean_170619-video1_004-016_opened_cc42.png']), array([  1.        , 366.60445376,   6.67587883,   3.        ,\n",
       "         2.41166265])),\n",
       "       ( 50, '/media/alessandro/DATA/tesi/Nebbia/pre-processed_data/170619/video1_004/trigger_thr0.005_cl9_op3/cc_filtered_2den0.81_gausrad2.0/', list(['mean_170619-video1_004-017_opened_cc30.png']), array([ 1.        , 72.36247889,  6.08825445,  2.        ,  1.14501033])),\n",
       "       ( 51, '/media/alessandro/DATA/tesi/Nebbia/pre-processed_data/170619/video1_004/trigger_thr0.005_cl9_op3/cc_filtered_2den0.81_gausrad2.0/', list(['mean_170619-video1_004-016_opened_cc53.png']), array([ 1.        , 86.93665807,  8.06334193,  1.        ,  1.43369287])),\n",
       "       ( 52, '/media/alessandro/DATA/tesi/Nebbia/pre-processed_data/170619/video1_004/trigger_thr0.005_cl9_op3/cc_filtered_2den0.81_gausrad2.0/', list(['mean_170619-video1_004-016_opened_cc60.png']), array([ 1.        , 43.03566885, 14.96433115,  1.        ,  1.        ])),\n",
       "       ( 53, '/media/alessandro/DATA/tesi/Nebbia/pre-processed_data/170619/video1_004/trigger_thr0.005_cl9_op3/cc_filtered_2den0.81_gausrad2.0/', list(['mean_170619-video1_004-017_opened_cc04.png']), array([  1.        , 171.10561072,   6.74318351,   3.        ,\n",
       "         1.55185465])),\n",
       "       ( 54, '/media/alessandro/DATA/tesi/Nebbia/pre-processed_data/170619/video1_004/trigger_thr0.005_cl9_op3/cc_filtered_2den0.81_gausrad2.0/', list(['mean_170619-video1_004-017_opened_cc16.png']), array([  1.        , 266.63098808,   7.77677317,   3.        ,\n",
       "         1.38568045])),\n",
       "       ( 55, '/media/alessandro/DATA/tesi/Nebbia/pre-processed_data/170619/video1_004/trigger_thr0.005_cl9_op3/cc_filtered_2den0.81_gausrad2.0/', list(['mean_170619-video1_004-017_opened_cc22.png']), array([  1.        , 439.07253235,   7.6281649 ,   8.        ,\n",
       "         1.90183425])),\n",
       "       ( 56, '/media/alessandro/DATA/tesi/Nebbia/pre-processed_data/170619/video1_004/trigger_thr0.005_cl9_op3/cc_filtered_2den0.81_gausrad2.0/', list(['mean_170619-video1_004-017_opened_cc38.png']), array([  1.        , 434.3668752 ,   8.01623467,   7.        ,\n",
       "         1.84634808])),\n",
       "       ( 57, '/media/alessandro/DATA/tesi/Nebbia/pre-processed_data/170619/video1_004/trigger_thr0.005_cl9_op3/cc_filtered_2den0.81_gausrad2.0/', list(['mean_170619-video1_004-017_opened_cc63.png']), array([  1.        , 189.51830898,   5.97489035,   6.        ,\n",
       "         1.25798804])),\n",
       "       ( 58, '/media/alessandro/DATA/tesi/Nebbia/pre-processed_data/170619/video1_004/trigger_thr0.005_cl9_op3/cc_filtered_2den0.81_gausrad2.0/', list(['mean_170619-video1_004-020_opened_cc01.png']), array([  1.        , 106.98371979,   8.44382888,   2.        ,\n",
       "         1.27127566])),\n",
       "       ( 59, '/media/alessandro/DATA/tesi/Nebbia/pre-processed_data/170619/video1_004/trigger_thr0.005_cl9_op3/cc_filtered_2den0.81_gausrad2.0/', list(['mean_170619-video1_004-020_opened_cc02.png']), array([1.00000000e+00, 1.70369181e+03, 8.25436560e+00, 2.60000000e+01,\n",
       "       4.02746016e+00])),\n",
       "       ( 60, '/media/alessandro/DATA/tesi/Nebbia/pre-processed_data/170619/video1_004/trigger_thr0.005_cl9_op3/cc_filtered_2den0.81_gausrad2.0/', list(['mean_170619-video1_004-020_opened_cc09.png']), array([  1.        , 435.36790516,   6.11619066,   6.        ,\n",
       "         1.69398725])),\n",
       "       ( 61, '/media/alessandro/DATA/tesi/Nebbia/pre-processed_data/170619/video1_004/trigger_thr0.005_cl9_op3/cc_filtered_2den0.81_gausrad2.0/', list(['mean_170619-video1_004-020_opened_cc27.png']), array([  1.        , 279.49845422,   6.28520967,   4.        ,\n",
       "         1.70435392])),\n",
       "       ( 62, '/media/alessandro/DATA/tesi/Nebbia/pre-processed_data/170619/video1_004/trigger_thr0.005_cl9_op3/cc_filtered_2den0.81_gausrad2.0/', list(['mean_170619-video1_004-020_opened_cc43.png']), array([  1.        , 115.56629997,   6.80137228,   2.        ,\n",
       "         1.94345765])),\n",
       "       ( 63, '/media/alessandro/DATA/tesi/Nebbia/pre-processed_data/170619/video1_004/trigger_thr0.005_cl9_op3/cc_filtered_2den0.81_gausrad2.0/', list(['mean_170619-video1_004-020_opened_cc47.png']), array([  1.        , 429.69687527,   4.92062162,   7.        ,\n",
       "         2.022803  ])),\n",
       "       ( 64, '/media/alessandro/DATA/tesi/Nebbia/pre-processed_data/170619/video1_004/trigger_thr0.005_cl9_op3/cc_filtered_2den0.81_gausrad2.0/', list(['mean_170619-video1_004-020_opened_cc62.png']), array([  1.        , 176.81893166,   1.58792445,   2.        ,\n",
       "         3.76125368])),\n",
       "       ( 65, '/media/alessandro/DATA/tesi/Nebbia/pre-processed_data/170619/video1_004/trigger_thr0.005_cl9_op3/cc_filtered_2den0.81_gausrad2.0/', list(['mean_170619-video1_004-026_opened_cc19.png']), array([  1.        , 189.81738321,   5.98011524,   4.        ,\n",
       "         1.69473051])),\n",
       "       ( 66, '/media/alessandro/DATA/tesi/Nebbia/pre-processed_data/170619/video1_004/trigger_thr0.005_cl9_op3/cc_filtered_2den0.81_gausrad2.0/', list(['mean_170619-video1_004-026_opened_cc32.png']), array([  1.        , 223.08118227,   1.65128751,   3.        ,\n",
       "         2.22370731])),\n",
       "       ( 67, '/media/alessandro/DATA/tesi/Nebbia/pre-processed_data/170619/video1_004/trigger_thr0.005_cl9_op3/cc_filtered_2den0.81_gausrad2.0/', list(['mean_170619-video1_004-026_opened_cc40.png']), array([  1.        , 356.75584466,   3.79799005,   5.        ,\n",
       "         1.96399532])),\n",
       "       ( 68, '/media/alessandro/DATA/tesi/Nebbia/pre-processed_data/170619/video1_004/trigger_thr0.005_cl9_op3/cc_filtered_2den0.81_gausrad2.0/', list(['mean_170619-video1_004-036_opened_cc02.png']), array([  1.        , 188.47493191,   1.86083975,   3.        ,\n",
       "         2.52401663])),\n",
       "       ( 69, '/media/alessandro/DATA/tesi/Nebbia/pre-processed_data/170619/video1_004/trigger_thr0.005_cl9_op3/cc_filtered_2den0.81_gausrad2.0/', list(['mean_170619-video1_004-036_opened_cc41.png']), array([  1.        , 257.21509663,   7.21722837,   5.        ,\n",
       "         2.05923693])),\n",
       "       ( 70, '/media/alessandro/DATA/tesi/Nebbia/pre-processed_data/170619/video1_004/trigger_thr0.005_cl9_op3/cc_filtered_2den0.81_gausrad2.0/', list(['mean_170619-video1_004-044_opened_cc02.png']), array([1.00000000e+00, 1.83117561e+03, 6.53901390e+00, 2.80000000e+01,\n",
       "       3.64226489e+00])),\n",
       "       ( 71, '/media/alessandro/DATA/tesi/Nebbia/pre-processed_data/170619/video1_004/trigger_thr0.005_cl9_op3/cc_filtered_2den0.81_gausrad2.0/', list(['mean_170619-video1_004-044_opened_cc21.png']), array([  1.        , 547.47363622,   6.99302745,   7.        ,\n",
       "         2.02096858])),\n",
       "       ( 72, '/media/alessandro/DATA/tesi/Nebbia/pre-processed_data/170619/video1_004/trigger_thr0.005_cl9_op3/cc_filtered_2den0.81_gausrad2.0/', list(['mean_170619-video1_004-047_opened_cc26.png']), array([  1.        , 171.88549869,   7.09431582,   4.        ,\n",
       "         1.59392563])),\n",
       "       ( 73, '/media/alessandro/DATA/tesi/Nebbia/pre-processed_data/170619/video1_004/trigger_thr0.005_cl9_op3/cc_filtered_2den0.81_gausrad2.0/', list(['mean_170619-video1_004-047_opened_cc56.png']), array([  1.        , 158.36447634,   4.97172075,   3.        ,\n",
       "         2.31664708])),\n",
       "       ( 74, '/media/alessandro/DATA/tesi/Nebbia/pre-processed_data/170619/video1_005/trigger_thr0.005_cl9_op3/cc_filtered_2den0.81_gausrad2.0/', list(['mean_170619-video1_005-015_opened_cc56.png']), array([  1.        , 144.95215891,   8.26280713,   3.        ,\n",
       "         1.7185721 ])),\n",
       "       ( 75, '/media/alessandro/DATA/tesi/Nebbia/pre-processed_data/170619/video1_005/trigger_thr0.005_cl9_op3/cc_filtered_2den0.81_gausrad2.0/', list(['mean_170619-video1_005-015_opened_cc49.png']), array([  1.        , 282.48061559,   6.25972432,   4.        ,\n",
       "         2.13334225])),\n",
       "       ( 76, '/media/alessandro/DATA/tesi/Nebbia/pre-processed_data/170619/video1_005/trigger_thr0.005_cl9_op3/cc_filtered_2den0.81_gausrad2.0/', list(['mean_170619-video1_005-020_opened_cc09.png']), array([  1.        , 117.21218918,   4.66429443,   2.        ,\n",
       "         1.73386259])),\n",
       "       ( 77, '/media/alessandro/DATA/tesi/Nebbia/pre-processed_data/170619/video1_005/trigger_thr0.005_cl9_op3/cc_filtered_2den0.81_gausrad2.0/', list(['mean_170619-video1_005-020_opened_cc17.png']), array([  1.        , 590.1719288 ,   5.95178363,   7.        ,\n",
       "         2.45894298])),\n",
       "       ( 78, '/media/alessandro/DATA/tesi/Nebbia/pre-processed_data/170619/video1_005/trigger_thr0.005_cl9_op3/cc_filtered_2den0.81_gausrad2.0/', list(['mean_170619-video1_005-021_opened_cc03.png']), array([  1.        , 307.22398488,   6.47539962,   3.        ,\n",
       "         1.85570322])),\n",
       "       ( 79, '/media/alessandro/DATA/tesi/Nebbia/pre-processed_data/170619/video1_005/trigger_thr0.005_cl9_op3/cc_filtered_2den0.81_gausrad2.0/', list(['mean_170619-video1_005-021_opened_cc23.png']), array([  1.        , 287.4425056 ,   9.31391195,   4.        ,\n",
       "         1.7277921 ])),\n",
       "       ( 80, '/media/alessandro/DATA/tesi/Nebbia/pre-processed_data/170619/video1_005/trigger_thr0.005_cl9_op3/cc_filtered_2den0.81_gausrad2.0/', list(['mean_170619-video1_005-023_opened_cc07.png']), array([  1.        , 127.21603237,   2.53697843,   3.        ,\n",
       "         2.38381119])),\n",
       "       ( 81, '/media/alessandro/DATA/tesi/Nebbia/pre-processed_data/170619/video1_005/trigger_thr0.005_cl9_op3/cc_filtered_2den0.81_gausrad2.0/', list(['mean_170619-video1_005-023_opened_cc39.png']), array([  1.        , 120.19347898,  14.54629051,   2.        ,\n",
       "         1.4043556 ])),\n",
       "       ( 82, '/media/alessandro/DATA/tesi/Nebbia/pre-processed_data/170619/video1_005/trigger_thr0.005_cl9_op3/cc_filtered_2den0.81_gausrad2.0/', list(['mean_170619-video1_005-027_opened_cc03.png']), array([  1.        , 118.64481984,   9.43796092,   2.        ,\n",
       "         1.        ])),\n",
       "       ( 83, '/media/alessandro/DATA/tesi/Nebbia/pre-processed_data/170619/video1_005/trigger_thr0.005_cl9_op3/cc_filtered_2den0.81_gausrad2.0/', list(['mean_170619-video1_005-027_opened_cc25.png']), array([ 1.        , 74.02642819,  2.41519962,  2.        ,  2.53461663])),\n",
       "       ( 84, '/media/alessandro/DATA/tesi/Nebbia/pre-processed_data/170619/video1_005/trigger_thr0.005_cl9_op3/cc_filtered_2den0.81_gausrad2.0/', list(['mean_170619-video1_005-027_opened_cc57.png']), array([  1.        , 550.52580036,   8.14383923,   8.        ,\n",
       "         1.58573313])),\n",
       "       ( 85, '/media/alessandro/DATA/tesi/Nebbia/pre-processed_data/170619/video1_005/trigger_thr0.005_cl9_op3/cc_filtered_2den0.81_gausrad2.0/', list(['mean_170619-video1_005-048_opened_cc03.png']), array([  1.        , 203.81286355,   4.39002921,   4.        ,\n",
       "         2.15460966])),\n",
       "       ( 86, '/media/alessandro/DATA/tesi/Nebbia/pre-processed_data/170619/video1_005/trigger_thr0.005_cl9_op3/cc_filtered_2den0.81_gausrad2.0/', list(['mean_170619-video1_005-048_opened_cc45.png']), array([  1.        , 460.47435667,  10.27479508,   5.        ,\n",
       "         1.99639076])),\n",
       "       ( 87, '/media/alessandro/DATA/tesi/Nebbia/pre-processed_data/170619/video1_006/trigger_thr0.005_cl9_op3/cc_filtered_2den0.81_gausrad2.0/', list(['mean_170619-video1_006-001_opened_cc04.png']), array([1.00000000e+00, 1.25907031e+03, 1.24440114e+01, 8.00000000e+00,\n",
       "       2.44401819e+00])),\n",
       "       ( 88, '/media/alessandro/DATA/tesi/Nebbia/pre-processed_data/170619/video1_006/trigger_thr0.005_cl9_op3/cc_filtered_2den0.81_gausrad2.0/', list(['mean_170619-video1_006-001_opened_cc21.png']), array([  1.        , 164.18198235,  12.        ,   4.        ,\n",
       "         1.4529379 ])),\n",
       "       ( 89, '/media/alessandro/DATA/tesi/Nebbia/pre-processed_data/170619/video1_006/trigger_thr0.005_cl9_op3/cc_filtered_2den0.81_gausrad2.0/', list(['mean_170619-video1_006-001_opened_cc22.png']), array([  1.        , 142.67276536,  10.17545253,   4.        ,\n",
       "         1.31901018])),\n",
       "       ( 90, '/media/alessandro/DATA/tesi/Nebbia/pre-processed_data/170619/video1_006/trigger_thr0.005_cl9_op3/cc_filtered_2den0.81_gausrad2.0/', list(['mean_170619-video1_006-003_opened_cc07.png']), array([1.00000000e+00, 1.14282719e+03, 1.21166899e+01, 1.00000000e+01,\n",
       "       2.30873708e+00])),\n",
       "       ( 91, '/media/alessandro/DATA/tesi/Nebbia/pre-processed_data/170619/video1_006/trigger_thr0.005_cl9_op3/cc_filtered_2den0.81_gausrad2.0/', list(['mean_170619-video1_006-014_opened_cc02.png']), array([  1.        , 307.91405367,   5.9472955 ,   4.        ,\n",
       "         1.76921199])),\n",
       "       ( 92, '/media/alessandro/DATA/tesi/Nebbia/pre-processed_data/170619/video1_006/trigger_thr0.005_cl9_op3/cc_filtered_2den0.81_gausrad2.0/', list(['mean_170619-video1_006-014_opened_cc03.png']), array([  1.        , 159.15668011,   6.19325287,   3.        ,\n",
       "         1.50786612])),\n",
       "       ( 93, '/media/alessandro/DATA/tesi/Nebbia/pre-processed_data/170619/video1_006/trigger_thr0.005_cl9_op3/cc_filtered_2den0.81_gausrad2.0/', list(['mean_170619-video1_006-014_opened_cc59.png']), array([  1.        , 345.54297895,   7.83815738,   6.        ,\n",
       "         1.64118714])),\n",
       "       ( 94, '/media/alessandro/DATA/tesi/Nebbia/pre-processed_data/170619/video1_006/trigger_thr0.005_cl9_op3/cc_filtered_2den0.81_gausrad2.0/', list(['mean_170619-video1_006-016_opened_cc27.png']), array([ 1.        , 66.09686321, 11.28397657,  2.        ,  1.        ])),\n",
       "       ( 95, '/media/alessandro/DATA/tesi/Nebbia/pre-processed_data/170619/video1_006/trigger_thr0.005_cl9_op3/cc_filtered_2den0.81_gausrad2.0/', list(['mean_170619-video1_006-025_opened_cc28.png']), array([  1.        , 253.88097052,   6.71174749,   6.        ,\n",
       "         1.54381297])),\n",
       "       ( 96, '/media/alessandro/DATA/tesi/Nebbia/pre-processed_data/170619/video1_007/trigger_thr0.005_cl9_op3/cc_filtered_2den0.81_gausrad2.0/', list(['mean_170619-video1_007-005_opened_cc08.png']), array([1.00000000e+00, 1.19664376e+03, 1.27283241e+01, 4.00000000e+00,\n",
       "       2.47067010e+00])),\n",
       "       ( 97, '/media/alessandro/DATA/tesi/Nebbia/pre-processed_data/170619/video1_007/trigger_thr0.005_cl9_op3/cc_filtered_2den0.81_gausrad2.0/', list(['mean_170619-video1_007-007_opened_cc06.png']), array([  1.        , 919.24746873,  15.32178153,   7.        ,\n",
       "         2.2311766 ])),\n",
       "       ( 98, '/media/alessandro/DATA/tesi/Nebbia/pre-processed_data/170619/video1_007/trigger_thr0.005_cl9_op3/cc_filtered_2den0.81_gausrad2.0/', list(['mean_170619-video1_007-011_opened_cc43.png']), array([  1.        , 140.83669873,   6.57119553,   3.        ,\n",
       "         1.85875463])),\n",
       "       ( 99, '/media/alessandro/DATA/tesi/Nebbia/pre-processed_data/170619/video1_007/trigger_thr0.005_cl9_op3/cc_filtered_2den0.81_gausrad2.0/', list(['mean_170619-video1_007-011_opened_cc47.png']), array([  1.        , 148.3966795 ,  10.71484016,   4.        ,\n",
       "         1.20250943])),\n",
       "       (100, '/media/alessandro/DATA/tesi/Nebbia/pre-processed_data/170619/video1_007/trigger_thr0.005_cl9_op3/cc_filtered_2den0.81_gausrad2.0/', list(['mean_170619-video1_007-016_opened_cc03.png']), array([  1.        , 431.85956768,  10.2685993 ,   9.        ,\n",
       "         1.55459868])),\n",
       "       (101, '/media/alessandro/DATA/tesi/Nebbia/pre-processed_data/170619/video1_007/trigger_thr0.005_cl9_op3/cc_filtered_2den0.81_gausrad2.0/', list(['mean_170619-video1_007-016_opened_cc17.png']), array([ 1.        , 85.87736935,  4.97562907,  2.        ,  1.5603754 ])),\n",
       "       (102, '/media/alessandro/DATA/tesi/Nebbia/pre-processed_data/170619/video1_007/trigger_thr0.005_cl9_op3/cc_filtered_2den0.81_gausrad2.0/', list(['mean_170619-video1_007-022_opened_cc02.png']), array([  1.        , 103.84572613,   6.79042039,   3.        ,\n",
       "         1.50945571])),\n",
       "       (103, '/media/alessandro/DATA/tesi/Nebbia/pre-processed_data/170619/video1_007/trigger_thr0.005_cl9_op3/cc_filtered_2den0.81_gausrad2.0/', list(['mean_170619-video1_007-022_opened_cc04.png']), array([  1.        , 114.90804708,   9.16025831,   3.        ,\n",
       "         1.3844343 ])),\n",
       "       (104, '/media/alessandro/DATA/tesi/Nebbia/pre-processed_data/170619/video1_007/trigger_thr0.005_cl9_op3/cc_filtered_2den0.81_gausrad2.0/', list(['mean_170619-video1_007-022_opened_cc43.png']), array([ 1.        , 88.13221878, 12.36778122,  1.        ,  1.25698116])),\n",
       "       (105, '/media/alessandro/DATA/tesi/Nebbia/pre-processed_data/170619/video1_007/trigger_thr0.005_cl9_op3/cc_filtered_2den0.81_gausrad2.0/', list(['mean_170619-video1_007-029_opened_cc05.png']), array([1.00000000e+00, 1.01138551e+03, 1.50544554e+01, 5.00000000e+00,\n",
       "       2.29129503e+00])),\n",
       "       (106, '/media/alessandro/DATA/tesi/Nebbia/pre-processed_data/170619/video1_007/trigger_thr0.005_cl9_op3/cc_filtered_2den0.81_gausrad2.0/', list(['mean_170619-video1_007-029_opened_cc15.png', 'mean_170619-video1_007-030_opened_cc22.png']), array([  2.        , 139.92780926,  12.82219074,   1.        ,\n",
       "         1.        ])),\n",
       "       (107, '/media/alessandro/DATA/tesi/Nebbia/pre-processed_data/170619/video1_008/trigger_thr0.005_cl9_op3/cc_filtered_2den0.81_gausrad2.0/', list(['mean_170619-video1_008-001_opened_cc06.png']), array([  1.        , 507.35149593,  10.90176029,   8.        ,\n",
       "         1.22869893])),\n",
       "       (108, '/media/alessandro/DATA/tesi/Nebbia/pre-processed_data/170619/video1_008/trigger_thr0.005_cl9_op3/cc_filtered_2den0.81_gausrad2.0/', list(['mean_170619-video1_008-001_opened_cc15.png']), array([  1.        , 407.84385361,  11.85628577,   2.        ,\n",
       "         1.38657446])),\n",
       "       (109, '/media/alessandro/DATA/tesi/Nebbia/pre-processed_data/170619/video1_008/trigger_thr0.005_cl9_op3/cc_filtered_2den0.81_gausrad2.0/', list(['mean_170619-video1_008-010_opened_cc02.png']), array([  1.        , 133.83249482,   4.54109434,   4.        ,\n",
       "         2.01303089])),\n",
       "       (110, '/media/alessandro/DATA/tesi/Nebbia/pre-processed_data/170619/video1_008/trigger_thr0.005_cl9_op3/cc_filtered_2den0.81_gausrad2.0/', list(['mean_170619-video1_008-010_opened_cc03.png']), array([  1.        , 109.88790649,   3.25646696,   2.        ,\n",
       "         1.74249726])),\n",
       "       (111, '/media/alessandro/DATA/tesi/Nebbia/pre-processed_data/170619/video1_008/trigger_thr0.005_cl9_op3/cc_filtered_2den0.81_gausrad2.0/', list(['mean_170619-video1_008-010_opened_cc51.png']), array([  1.        , 311.32317567,   5.79799345,   6.        ,\n",
       "         2.20796578])),\n",
       "       (112, '/media/alessandro/DATA/tesi/Nebbia/pre-processed_data/170619/video1_008/trigger_thr0.005_cl9_op3/cc_filtered_2den0.81_gausrad2.0/', list(['mean_170619-video1_008-011_opened_cc09.png']), array([  1.        , 865.88464503,   8.7990258 ,  13.        ,\n",
       "         2.49122063])),\n",
       "       (113, '/media/alessandro/DATA/tesi/Nebbia/pre-processed_data/170619/video1_008/trigger_thr0.005_cl9_op3/cc_filtered_2den0.81_gausrad2.0/', list(['mean_170619-video1_008-011_opened_cc21.png']), array([ 1.        , 78.44426482, 11.5303216 ,  2.        ,  1.13259943])),\n",
       "       (114, '/media/alessandro/DATA/tesi/Nebbia/pre-processed_data/170619/video1_008/trigger_thr0.005_cl9_op3/cc_filtered_2den0.81_gausrad2.0/', list(['mean_170619-video1_008-030_opened_cc49.png']), array([  1.        , 279.31280012,   5.95371333,   5.        ,\n",
       "         1.96699155])),\n",
       "       (115, '/media/alessandro/DATA/tesi/Nebbia/pre-processed_data/170619/video1_008/trigger_thr0.005_cl9_op3/cc_filtered_2den0.81_gausrad2.0/', list(['mean_170619-video1_008-032_opened_cc18.png']), array([  1.        , 171.07889698,   8.67824848,   2.        ,\n",
       "         1.07049833])),\n",
       "       (116, '/media/alessandro/DATA/tesi/Nebbia/pre-processed_data/170619/video1_008/trigger_thr0.005_cl9_op3/cc_filtered_2den0.81_gausrad2.0/', list(['mean_170619-video1_008-032_opened_cc22.png']), array([  1.        , 263.37661792,  12.76767888,   3.        ,\n",
       "         2.05137904])),\n",
       "       (117, '/media/alessandro/DATA/tesi/Nebbia/pre-processed_data/170619/video1_008/trigger_thr0.005_cl9_op3/cc_filtered_2den0.81_gausrad2.0/', list(['mean_170619-video1_008-032_opened_cc35.png']), array([  1.        , 176.00276721,   7.86717077,   3.        ,\n",
       "         1.42173696])),\n",
       "       (118, '/media/alessandro/DATA/tesi/Nebbia/pre-processed_data/170619/video1_008/trigger_thr0.005_cl9_op3/cc_filtered_2den0.81_gausrad2.0/', list(['mean_170619-video1_008-038_opened_cc05.png']), array([  1.        , 191.25637554,   2.65041424,   3.        ,\n",
       "         2.12954495])),\n",
       "       (119, '/media/alessandro/DATA/tesi/Nebbia/pre-processed_data/170619/video1_008/trigger_thr0.005_cl9_op3/cc_filtered_2den0.81_gausrad2.0/', list(['mean_170619-video1_008-041_opened_cc07.png']), array([1.00000000e+00, 1.25605783e+03, 9.41764822e+00, 1.10000000e+01,\n",
       "       3.21406435e+00])),\n",
       "       (120, '/media/alessandro/DATA/tesi/Nebbia/pre-processed_data/170619/video1_008/trigger_thr0.005_cl9_op3/cc_filtered_2den0.81_gausrad2.0/', list(['mean_170619-video1_008-047_opened_cc03.png']), array([1.00000000e+00, 1.17067586e+03, 6.29696048e+00, 1.90000000e+01,\n",
       "       3.44997548e+00])),\n",
       "       (121, '/media/alessandro/DATA/tesi/Nebbia/pre-processed_data/170619/video1_008/trigger_thr0.005_cl9_op3/cc_filtered_2den0.81_gausrad2.0/', list(['mean_170619-video1_008-047_opened_cc08.png']), array([  1.        , 188.68357393,   3.0254687 ,   3.        ,\n",
       "         2.11364565])),\n",
       "       (122, '/media/alessandro/DATA/tesi/Nebbia/pre-processed_data/170619/video1_008/trigger_thr0.005_cl9_op3/cc_filtered_2den0.81_gausrad2.0/', list(['mean_170619-video1_008-047_opened_cc22.png']), array([  1.        , 140.17624701,   7.77440186,   2.        ,\n",
       "         1.68874788])),\n",
       "       (123, '/media/alessandro/DATA/tesi/Nebbia/pre-processed_data/170619/video1_008/trigger_thr0.005_cl9_op3/cc_filtered_2den0.81_gausrad2.0/', list(['mean_170619-video1_008-047_opened_cc44.png']), array([  1.        , 113.85451507,   3.1128182 ,   2.        ,\n",
       "         1.92284511])),\n",
       "       (124, '/media/alessandro/DATA/tesi/Nebbia/pre-processed_data/170619/video1_008/trigger_thr0.005_cl9_op3/cc_filtered_2den0.81_gausrad2.0/', list(['mean_170619-video1_008-047_opened_cc98.png']), array([ 1.        , 87.50297609,  3.49702391,  1.        ,  2.28614626])),\n",
       "       (125, '/media/alessandro/DATA/tesi/Nebbia/pre-processed_data/170619/video1_009/trigger_thr0.005_cl9_op3/cc_filtered_2den0.81_gausrad2.0/', list(['mean_170619-video1_009-021_opened_cc55.png']), array([  1.        , 275.98552427,   6.72622554,   5.        ,\n",
       "         1.6343098 ])),\n",
       "       (126, '/media/alessandro/DATA/tesi/Nebbia/pre-processed_data/170619/video1_009/trigger_thr0.005_cl9_op3/cc_filtered_2den0.81_gausrad2.0/', list(['mean_170619-video1_009-021_opened_cc57.png']), array([  1.        , 141.95450204,   5.3464153 ,   3.        ,\n",
       "         1.22772107])),\n",
       "       (127, '/media/alessandro/DATA/tesi/Nebbia/pre-processed_data/170619/video1_009/trigger_thr0.005_cl9_op3/cc_filtered_2den0.81_gausrad2.0/', list(['mean_170619-video1_009-028_opened_cc08.png']), array([  1.        , 212.34303824,   6.67386203,   3.        ,\n",
       "         2.07373764])),\n",
       "       (128, '/media/alessandro/DATA/tesi/Nebbia/pre-processed_data/170619/video1_009/trigger_thr0.005_cl9_op3/cc_filtered_2den0.81_gausrad2.0/', list(['mean_170619-video1_009-029_opened_cc33.png']), array([  1.        , 271.50795714,   3.82891888,   5.        ,\n",
       "         2.38164875])),\n",
       "       (129, '/media/alessandro/DATA/tesi/Nebbia/pre-processed_data/170619/video1_009/trigger_thr0.005_cl9_op3/cc_filtered_2den0.81_gausrad2.0/', list(['mean_170619-video1_009-031_opened_cc30.png']), array([  1.        , 159.14356962,   2.65514396,   2.        ,\n",
       "         2.50008271])),\n",
       "       (130, '/media/alessandro/DATA/tesi/Nebbia/pre-processed_data/170619/video1_009/trigger_thr0.005_cl9_op3/cc_filtered_2den0.81_gausrad2.0/', list(['mean_170619-video1_009-034_opened_cc41.png']), array([  1.        , 411.79779154,   9.73694073,   6.        ,\n",
       "         1.85231596])),\n",
       "       (131, '/media/alessandro/DATA/tesi/Nebbia/pre-processed_data/170619/video1_009/trigger_thr0.005_cl9_op3/cc_filtered_2den0.81_gausrad2.0/', list(['mean_170619-video1_009-048_opened_cc27.png']), array([  1.        , 544.75571269,   7.89839337,   9.        ,\n",
       "         2.45982621])),\n",
       "       (132, '/media/alessandro/DATA/tesi/Nebbia/pre-processed_data/170619/video1_010/trigger_thr0.005_cl9_op3/cc_filtered_2den0.81_gausrad2.0/', list(['mean_170619-video1_010-013_opened_cc09.png']), array([1.00000000e+00, 1.19017828e+03, 1.42900318e+01, 1.00000000e+01,\n",
       "       2.33750548e+00])),\n",
       "       (133, '/media/alessandro/DATA/tesi/Nebbia/pre-processed_data/170619/video1_010/trigger_thr0.005_cl9_op3/cc_filtered_2den0.81_gausrad2.0/', list(['mean_170619-video1_010-024_opened_cc33.png']), array([  1.        , 228.71430337,   4.08223041,   3.        ,\n",
       "         2.04888167])),\n",
       "       (134, '/media/alessandro/DATA/tesi/Nebbia/pre-processed_data/170619/video1_010/trigger_thr0.005_cl9_op3/cc_filtered_2den0.81_gausrad2.0/', list(['mean_170619-video1_010-045_opened_cc11.png']), array([ 1.        , 82.78686239,  3.06320703,  2.        ,  2.49952859])),\n",
       "       (135, '/media/alessandro/DATA/tesi/Nebbia/pre-processed_data/170619/video1_010/trigger_thr0.005_cl9_op3/cc_filtered_2den0.81_gausrad2.0/', list(['mean_170619-video1_010-045_opened_cc47.png']), array([  1.        , 111.04992191,   1.91854788,   2.        ,\n",
       "         1.91011673])),\n",
       "       (136, '/media/alessandro/DATA/tesi/Nebbia/pre-processed_data/170619/video1_010/trigger_thr0.005_cl9_op3/cc_filtered_2den0.81_gausrad2.0/', list(['mean_170619-video1_010-045_opened_cc53.png']), array([  1.        , 555.59527853,   8.23202965,   7.        ,\n",
       "         2.31729475])),\n",
       "       (137, '/media/alessandro/DATA/tesi/Nebbia/pre-processed_data/170619/video1_010/trigger_thr0.005_cl9_op3/cc_filtered_2den0.81_gausrad2.0/', list(['mean_170619-video1_010-045_opened_cc55.png']), array([  1.        , 141.22310677,   7.32171014,   3.        ,\n",
       "         1.77362227])),\n",
       "       (138, '/media/alessandro/DATA/tesi/Nebbia/pre-processed_data/170619/video1_010/trigger_thr0.005_cl9_op3/cc_filtered_2den0.81_gausrad2.0/', list(['mean_170619-video1_010-045_opened_cc60.png']), array([  1.        , 127.79393312,   6.19325287,   3.        ,\n",
       "         1.91959832])),\n",
       "       (139, '/media/alessandro/DATA/tesi/Nebbia/pre-processed_data/170619/video1_010/trigger_thr0.005_cl9_op3/cc_filtered_2den0.81_gausrad2.0/', list(['mean_170619-video1_010-047_opened_cc14.png']), array([ 1.        , 69.58287632,  9.88544089,  2.        ,  1.30708086])),\n",
       "       (140, '/media/alessandro/DATA/tesi/Nebbia/pre-processed_data/170619/video1_011/trigger_thr0.005_cl9_op3/cc_filtered_2den0.81_gausrad2.0/', list(['mean_170619-video1_011-011_opened_cc27.png']), array([  1.        , 105.52714081,   6.83271834,   2.        ,\n",
       "         1.78246151])),\n",
       "       (141, '/media/alessandro/DATA/tesi/Nebbia/pre-processed_data/170619/video1_011/trigger_thr0.005_cl9_op3/cc_filtered_2den0.81_gausrad2.0/', list(['mean_170619-video1_011-011_opened_cc02.png']), array([  1.        , 494.0063623 ,   5.22290358,  10.        ,\n",
       "         1.94567612])),\n",
       "       (142, '/media/alessandro/DATA/tesi/Nebbia/pre-processed_data/170619/video1_011/trigger_thr0.005_cl9_op3/cc_filtered_2den0.81_gausrad2.0/', list(['mean_170619-video1_011-011_opened_cc03.png']), array([  1.        , 207.89017648,   4.74680886,   4.        ,\n",
       "         1.82135706])),\n",
       "       (143, '/media/alessandro/DATA/tesi/Nebbia/pre-processed_data/170619/video1_011/trigger_thr0.005_cl9_op3/cc_filtered_2den0.81_gausrad2.0/', list(['mean_170619-video1_011-011_opened_cc15.png']), array([  1.        , 304.88227417,   5.22051027,   4.        ,\n",
       "         1.55826221])),\n",
       "       (144, '/media/alessandro/DATA/tesi/Nebbia/pre-processed_data/170619/video1_011/trigger_thr0.005_cl9_op3/cc_filtered_2den0.81_gausrad2.0/', list(['mean_170619-video1_011-011_opened_cc23.png']), array([  1.        , 341.27433871,   9.5937679 ,   4.        ,\n",
       "         1.35425259])),\n",
       "       (145, '/media/alessandro/DATA/tesi/Nebbia/pre-processed_data/170619/video1_011/trigger_thr0.005_cl9_op3/cc_filtered_2den0.81_gausrad2.0/', list(['mean_170619-video1_011-011_opened_cc37.png']), array([  1.        , 401.59433527,   5.99170296,   6.        ,\n",
       "         2.0699639 ])),\n",
       "       (146, '/media/alessandro/DATA/tesi/Nebbia/pre-processed_data/170619/video1_011/trigger_thr0.005_cl9_op3/cc_filtered_2den0.81_gausrad2.0/', list(['mean_170619-video1_011-022_opened_cc03.png']), array([  1.        , 400.410179  ,   3.86827421,   7.        ,\n",
       "         2.27491096])),\n",
       "       (147, '/media/alessandro/DATA/tesi/Nebbia/pre-processed_data/170619/video1_011/trigger_thr0.005_cl9_op3/cc_filtered_2den0.81_gausrad2.0/', list(['mean_170619-video1_011-022_opened_cc06.png']), array([1.00000000e+00, 1.25384259e+03, 1.33577231e+01, 6.00000000e+00,\n",
       "       2.78976315e+00])),\n",
       "       (148, '/media/alessandro/DATA/tesi/Nebbia/pre-processed_data/170619/video1_011/trigger_thr0.005_cl9_op3/cc_filtered_2den0.81_gausrad2.0/', list(['mean_170619-video1_011-022_opened_cc66.png']), array([  1.        , 151.1884994 ,   9.06001376,   3.        ,\n",
       "         1.21480639])),\n",
       "       (149, '/media/alessandro/DATA/tesi/Nebbia/pre-processed_data/170619/video1_011/trigger_thr0.005_cl9_op3/cc_filtered_2den0.81_gausrad2.0/', list(['mean_170619-video1_011-034_opened_cc04.png']), array([  1.        , 204.3845411 ,  10.47552487,   3.        ,\n",
       "         1.77057544])),\n",
       "       (150, '/media/alessandro/DATA/tesi/Nebbia/pre-processed_data/170619/video1_011/trigger_thr0.005_cl9_op3/cc_filtered_2den0.81_gausrad2.0/', list(['mean_170619-video1_011-034_opened_cc05.png']), array([  1.        , 134.99019459,   4.27925979,   2.        ,\n",
       "         1.98429185])),\n",
       "       (151, '/media/alessandro/DATA/tesi/Nebbia/pre-processed_data/170619/video1_011/trigger_thr0.005_cl9_op3/cc_filtered_2den0.81_gausrad2.0/', list(['mean_170619-video1_011-034_opened_cc19.png']), array([  1.        , 127.81655902,   2.372583  ,   2.        ,\n",
       "         2.67389297])),\n",
       "       (152, '/media/alessandro/DATA/tesi/Nebbia/pre-processed_data/170619/video1_011/trigger_thr0.005_cl9_op3/cc_filtered_2den0.81_gausrad2.0/', list(['mean_170619-video1_011-034_opened_cc37.png']), array([ 1.        , 82.03679321,  0.46320679,  1.        , 25.94231185])),\n",
       "       (153, '/media/alessandro/DATA/tesi/Nebbia/pre-processed_data/170619/video1_011/trigger_thr0.005_cl9_op3/cc_filtered_2den0.81_gausrad2.0/', list(['mean_170619-video1_011-034_opened_cc51.png']), array([ 1.        , 87.83784631,  1.66215369,  1.        ,  3.63475594])),\n",
       "       (154, '/media/alessandro/DATA/tesi/Nebbia/pre-processed_data/170619/video1_011/trigger_thr0.005_cl9_op3/cc_filtered_2den0.81_gausrad2.0/', list(['mean_170619-video1_011-042_opened_cc02.png']), array([ 1.        , 72.22853581,  4.15628839,  2.        ,  1.65790907])),\n",
       "       (155, '/media/alessandro/DATA/tesi/Nebbia/pre-processed_data/170619/video1_011/trigger_thr0.005_cl9_op3/cc_filtered_2den0.81_gausrad2.0/', list(['mean_170619-video1_011-042_opened_cc29.png']), array([ 1.        , 96.06503147,  2.98306057,  2.        ,  1.86824834])),\n",
       "       (156, '/media/alessandro/DATA/tesi/Nebbia/pre-processed_data/170619/video1_012/trigger_thr0.005_cl9_op3/cc_filtered_2den0.81_gausrad2.0/', list(['mean_170619-video1_012-003_opened_cc04.png']), array([  1.        , 650.65783163,   4.53888024,   9.        ,\n",
       "         2.41948789])),\n",
       "       (157, '/media/alessandro/DATA/tesi/Nebbia/pre-processed_data/170619/video1_012/trigger_thr0.005_cl9_op3/cc_filtered_2den0.81_gausrad2.0/', list(['mean_170619-video1_012-003_opened_cc07.png']), array([  1.        , 210.15897303,   4.59614366,   3.        ,\n",
       "         1.74593765])),\n",
       "       (158, '/media/alessandro/DATA/tesi/Nebbia/pre-processed_data/170619/video1_012/trigger_thr0.005_cl9_op3/cc_filtered_2den0.81_gausrad2.0/', list(['mean_170619-video1_012-003_opened_cc67.png']), array([  1.        , 105.18360427,   2.34257504,   2.        ,\n",
       "         2.9172683 ])),\n",
       "       (159, '/media/alessandro/DATA/tesi/Nebbia/pre-processed_data/170619/video1_012/trigger_thr0.005_cl9_op3/cc_filtered_2den0.81_gausrad2.0/', list(['mean_170619-video1_012-003_opened_cc69.png']), array([ 1.        , 86.43975222,  7.70436986,  2.        ,  1.2348536 ])),\n",
       "       (160, '/media/alessandro/DATA/tesi/Nebbia/pre-processed_data/170619/video1_012/trigger_thr0.005_cl9_op3/cc_filtered_2den0.81_gausrad2.0/', list(['mean_170619-video1_012-005_opened_cc07.png']), array([1.00000000e+00, 1.23742204e+03, 1.22184826e+01, 1.10000000e+01,\n",
       "       2.50471304e+00])),\n",
       "       (161, '/media/alessandro/DATA/tesi/Nebbia/pre-processed_data/170619/video1_012/trigger_thr0.005_cl9_op3/cc_filtered_2den0.81_gausrad2.0/', list(['mean_170619-video1_012-009_opened_cc11.png']), array([  1.        , 850.98657036,  12.23510951,  11.        ,\n",
       "         2.39037399])),\n",
       "       (162, '/media/alessandro/DATA/tesi/Nebbia/pre-processed_data/170619/video1_012/trigger_thr0.005_cl9_op3/cc_filtered_2den0.81_gausrad2.0/', list(['mean_170619-video1_012-009_opened_cc26.png']), array([ 1.        , 38.75513626,  2.24486374,  1.        ,  3.9349879 ])),\n",
       "       (163, '/media/alessandro/DATA/tesi/Nebbia/pre-processed_data/170619/video1_012/trigger_thr0.005_cl9_op3/cc_filtered_2den0.81_gausrad2.0/', list(['mean_170619-video1_012-016_opened_cc45.png']), array([  1.        , 195.1271197 ,   1.88630508,   3.        ,\n",
       "         1.98274937])),\n",
       "       (164, '/media/alessandro/DATA/tesi/Nebbia/pre-processed_data/170619/video1_012/trigger_thr0.005_cl9_op3/cc_filtered_2den0.81_gausrad2.0/', list(['mean_170619-video1_012-016_opened_cc48.png']), array([  1.        , 547.15226114,   4.2431458 ,   8.        ,\n",
       "         1.86731598])),\n",
       "       (165, '/media/alessandro/DATA/tesi/Nebbia/pre-processed_data/170619/video1_012/trigger_thr0.005_cl9_op3/cc_filtered_2den0.81_gausrad2.0/', list(['mean_170619-video1_012-017_opened_cc08.png']), array([1.00000000e+00, 1.06778974e+03, 1.11022909e+01, 1.10000000e+01,\n",
       "       2.11642781e+00])),\n",
       "       (166, '/media/alessandro/DATA/tesi/Nebbia/pre-processed_data/170619/video1_012/trigger_thr0.005_cl9_op3/cc_filtered_2den0.81_gausrad2.0/', list(['mean_170619-video1_012-027_opened_cc02.png']), array([  1.        , 635.66585253,   5.0670332 ,  12.        ,\n",
       "         2.47176192])),\n",
       "       (167, '/media/alessandro/DATA/tesi/Nebbia/pre-processed_data/170619/video1_012/trigger_thr0.005_cl9_op3/cc_filtered_2den0.81_gausrad2.0/', list(['mean_170619-video1_012-038_opened_cc55.png']), array([  1.        , 111.44319987,   9.7355194 ,   3.        ,\n",
       "         1.05449962])),\n",
       "       (168, '/media/alessandro/DATA/tesi/Nebbia/pre-processed_data/170619/video1_012/trigger_thr0.005_cl9_op3/cc_filtered_2den0.81_gausrad2.0/', list(['mean_170619-video1_012-046_opened_cc47.png']), array([  1.        , 164.2661212 ,   6.37709114,   2.        ,\n",
       "         1.94061733])),\n",
       "       (169, '/media/alessandro/DATA/tesi/Nebbia/pre-processed_data/170619/video1_012/trigger_thr0.005_cl9_op3/cc_filtered_2den0.81_gausrad2.0/', list(['mean_170619-video1_012-016_opened_cc02.png']), array([  1.        , 709.20777805,   5.53543663,   9.        ,\n",
       "         2.14276837])),\n",
       "       (170, '/media/alessandro/DATA/tesi/Nebbia/pre-processed_data/170619/video1_013/trigger_thr0.005_cl9_op3/cc_filtered_2den0.81_gausrad2.0/', list(['mean_170619-video1_013-005_opened_cc02.png']), array([  1.        , 173.6903356 ,   4.32281051,   3.        ,\n",
       "         1.77124414])),\n",
       "       (171, '/media/alessandro/DATA/tesi/Nebbia/pre-processed_data/170619/video1_013/trigger_thr0.005_cl9_op3/cc_filtered_2den0.81_gausrad2.0/', list(['mean_170619-video1_013-005_opened_cc04.png']), array([  1.        , 118.11360731,   5.67029028,   2.        ,\n",
       "         1.67642468])),\n",
       "       (172, '/media/alessandro/DATA/tesi/Nebbia/pre-processed_data/170619/video1_013/trigger_thr0.005_cl9_op3/cc_filtered_2den0.81_gausrad2.0/', list(['mean_170619-video1_013-005_opened_cc36.png']), array([  1.        , 109.90019443,   8.92429603,   2.        ,\n",
       "         1.353188  ])),\n",
       "       (173, '/media/alessandro/DATA/tesi/Nebbia/pre-processed_data/170619/video1_013/trigger_thr0.005_cl9_op3/cc_filtered_2den0.81_gausrad2.0/', list(['mean_170619-video1_013-005_opened_cc46.png']), array([  1.        , 313.51538172,   7.65432775,   6.        ,\n",
       "         2.03899775])),\n",
       "       (174, '/media/alessandro/DATA/tesi/Nebbia/pre-processed_data/170619/video1_013/trigger_thr0.005_cl9_op3/cc_filtered_2den0.81_gausrad2.0/', list(['mean_170619-video1_013-014_opened_cc32.png']), array([  1.        , 237.94732977,  13.95768781,   4.        ,\n",
       "         1.58459103])),\n",
       "       (175, '/media/alessandro/DATA/tesi/Nebbia/pre-processed_data/170619/video1_013/trigger_thr0.005_cl9_op3/cc_filtered_2den0.81_gausrad2.0/', list(['mean_170619-video1_013-045_opened_cc02.png']), array([  1.        , 663.19839049,   4.99339602,   9.        ,\n",
       "         1.81655243])),\n",
       "       (176, '/media/alessandro/DATA/tesi/Nebbia/pre-processed_data/170619/video1_014/trigger_thr0.005_cl9_op3/cc_filtered_2den0.81_gausrad2.0/', list(['mean_170619-video1_014-002_opened_cc02.png']), array([  1.        , 305.65451695,   5.94981769,   4.        ,\n",
       "         2.59645344])),\n",
       "       (177, '/media/alessandro/DATA/tesi/Nebbia/pre-processed_data/170619/video1_014/trigger_thr0.005_cl9_op3/cc_filtered_2den0.81_gausrad2.0/', list(['mean_170619-video1_014-002_opened_cc03.png']), array([  1.        , 224.1332819 ,   6.02237434,   5.        ,\n",
       "         1.81975768])),\n",
       "       (178, '/media/alessandro/DATA/tesi/Nebbia/pre-processed_data/170619/video1_014/trigger_thr0.005_cl9_op3/cc_filtered_2den0.81_gausrad2.0/', list(['mean_170619-video1_014-002_opened_cc55.png']), array([  1.        , 167.12187759,   5.48810198,   4.        ,\n",
       "         1.95320624])),\n",
       "       (179, '/media/alessandro/DATA/tesi/Nebbia/pre-processed_data/170619/video1_014/trigger_thr0.005_cl9_op3/cc_filtered_2den0.81_gausrad2.0/', list(['mean_170619-video1_014-002_opened_cc59.png']), array([  1.        , 308.64957306,   7.2788578 ,   3.        ,\n",
       "         2.58340701])),\n",
       "       (180, '/media/alessandro/DATA/tesi/Nebbia/pre-processed_data/170619/video1_014/trigger_thr0.005_cl9_op3/cc_filtered_2den0.81_gausrad2.0/', list(['mean_170619-video1_014-005_opened_cc08.png']), array([  1.        , 142.8505439 ,   4.32420434,   3.        ,\n",
       "         2.07138571])),\n",
       "       (181, '/media/alessandro/DATA/tesi/Nebbia/pre-processed_data/170619/video1_014/trigger_thr0.005_cl9_op3/cc_filtered_2den0.81_gausrad2.0/', list(['mean_170619-video1_014-005_opened_cc15.png']), array([ 1.        , 78.19592472,  4.7787737 ,  2.        ,  1.60895602])),\n",
       "       (182, '/media/alessandro/DATA/tesi/Nebbia/pre-processed_data/170619/video1_014/trigger_thr0.005_cl9_op3/cc_filtered_2den0.81_gausrad2.0/', list(['mean_170619-video1_014-005_opened_cc39.png']), array([  1.        , 112.51202999,   2.01588102,   2.        ,\n",
       "         1.78388384])),\n",
       "       (183, '/media/alessandro/DATA/tesi/Nebbia/pre-processed_data/170619/video1_014/trigger_thr0.005_cl9_op3/cc_filtered_2den0.81_gausrad2.0/', list(['mean_170619-video1_014-017_opened_cc02.png']), array([  1.        , 173.35497277,   4.10820509,   3.        ,\n",
       "         1.76663045])),\n",
       "       (184, '/media/alessandro/DATA/tesi/Nebbia/pre-processed_data/170619/video1_014/trigger_thr0.005_cl9_op3/cc_filtered_2den0.81_gausrad2.0/', list(['mean_170619-video1_014-017_opened_cc10.png']), array([1.00000000e+00, 1.00593569e+03, 1.29079212e+01, 1.20000000e+01,\n",
       "       2.63624972e+00])),\n",
       "       (185, '/media/alessandro/DATA/tesi/Nebbia/pre-processed_data/170619/video1_014/trigger_thr0.005_cl9_op3/cc_filtered_2den0.81_gausrad2.0/', list(['mean_170619-video1_014-025_opened_cc02.png']), array([  1.        , 277.27574322,   3.17966301,   4.        ,\n",
       "         1.80472018])),\n",
       "       (186, '/media/alessandro/DATA/tesi/Nebbia/pre-processed_data/170619/video1_014/trigger_thr0.005_cl9_op3/cc_filtered_2den0.81_gausrad2.0/', list(['mean_170619-video1_014-025_opened_cc43.png']), array([  1.        , 206.50844601,  19.79639669,   3.        ,\n",
       "         1.30191461])),\n",
       "       (187, '/media/alessandro/DATA/tesi/Nebbia/pre-processed_data/170619/video1_014/trigger_thr0.005_cl9_op3/cc_filtered_2den0.81_gausrad2.0/', list(['mean_170619-video1_014-041_opened_cc13.png']), array([  1.        , 238.00758321,  11.3741639 ,   4.        ,\n",
       "         1.07257424])),\n",
       "       (188, '/media/alessandro/DATA/tesi/Nebbia/pre-processed_data/170619/video1_014/trigger_thr0.005_cl9_op3/cc_filtered_2den0.81_gausrad2.0/', list(['mean_170619-video1_014-041_opened_cc17.png']), array([  1.        , 401.43527217,   9.90200224,   9.        ,\n",
       "         1.56608857])),\n",
       "       (189, '/media/alessandro/DATA/tesi/Nebbia/pre-processed_data/170619/video1_015/trigger_thr0.005_cl9_op3/cc_filtered_2den0.81_gausrad2.0/', list(['mean_170619-video1_015-004_opened_cc09.png']), array([  1.        , 592.32857543,   9.2254127 ,   7.        ,\n",
       "         1.42529644])),\n",
       "       (190, '/media/alessandro/DATA/tesi/Nebbia/pre-processed_data/170619/video1_015/trigger_thr0.005_cl9_op3/cc_filtered_2den0.81_gausrad2.0/', list(['mean_170619-video1_015-004_opened_cc21.png']), array([  1.        , 297.39743678,   7.28016905,   4.        ,\n",
       "         2.2513318 ])),\n",
       "       (191, '/media/alessandro/DATA/tesi/Nebbia/pre-processed_data/170619/video1_015/trigger_thr0.005_cl9_op3/cc_filtered_2den0.81_gausrad2.0/', list(['mean_170619-video1_015-006_opened_cc40.png']), array([  1.        , 169.57628817,  10.        ,   3.        ,\n",
       "         1.58151334])),\n",
       "       (192, '/media/alessandro/DATA/tesi/Nebbia/pre-processed_data/170619/video1_015/trigger_thr0.005_cl9_op3/cc_filtered_2den0.81_gausrad2.0/', list(['mean_170619-video1_015-010_opened_cc06.png']), array([  1.        , 217.34487703,   3.67879189,   3.        ,\n",
       "         1.71611831])),\n",
       "       (193, '/media/alessandro/DATA/tesi/Nebbia/pre-processed_data/170619/video1_015/trigger_thr0.005_cl9_op3/cc_filtered_2den0.81_gausrad2.0/', list(['mean_170619-video1_015-010_opened_cc09.png']), array([  1.        , 164.76404334,   4.28600854,   2.        ,\n",
       "         1.50647019])),\n",
       "       (194, '/media/alessandro/DATA/tesi/Nebbia/pre-processed_data/170619/video1_015/trigger_thr0.005_cl9_op3/cc_filtered_2den0.81_gausrad2.0/', list(['mean_170619-video1_015-010_opened_cc10.png']), array([  1.        , 934.06666322,   9.68386466,   9.        ,\n",
       "         1.92062695])),\n",
       "       (195, '/media/alessandro/DATA/tesi/Nebbia/pre-processed_data/170619/video1_015/trigger_thr0.005_cl9_op3/cc_filtered_2den0.81_gausrad2.0/', list(['mean_170619-video1_015-010_opened_cc11.png']), array([  1.        , 489.73083181,  10.69739735,   5.        ,\n",
       "         1.89437179])),\n",
       "       (196, '/media/alessandro/DATA/tesi/Nebbia/pre-processed_data/170619/video1_015/trigger_thr0.005_cl9_op3/cc_filtered_2den0.81_gausrad2.0/', list(['mean_170619-video1_015-010_opened_cc69.png']), array([  1.        , 169.18988618,   1.46279541,   2.        ,\n",
       "         2.07865042])),\n",
       "       (197, '/media/alessandro/DATA/tesi/Nebbia/pre-processed_data/170619/video1_015/trigger_thr0.005_cl9_op3/cc_filtered_2den0.81_gausrad2.0/', list(['mean_170619-video1_015-011_opened_cc07.png']), array([1.00000000e+00, 1.06335600e+03, 1.12798119e+01, 1.10000000e+01,\n",
       "       2.29085379e+00])),\n",
       "       (198, '/media/alessandro/DATA/tesi/Nebbia/pre-processed_data/170619/video1_015/trigger_thr0.005_cl9_op3/cc_filtered_2den0.81_gausrad2.0/', list(['mean_170619-video1_015-011_opened_cc32.png']), array([ 1.        , 53.91905957,  4.58094043,  1.        ,  2.22927875])),\n",
       "       (199, '/media/alessandro/DATA/tesi/Nebbia/pre-processed_data/170619/video1_015/trigger_thr0.005_cl9_op3/cc_filtered_2den0.81_gausrad2.0/', list(['mean_170619-video1_015-025_opened_cc17.png']), array([1.00000000e+00, 1.00466432e+03, 8.85283651e+00, 1.10000000e+01,\n",
       "       2.43003111e+00])),\n",
       "       (200, '/media/alessandro/DATA/tesi/Nebbia/pre-processed_data/170619/video1_015/trigger_thr0.005_cl9_op3/cc_filtered_2den0.81_gausrad2.0/', list(['mean_170619-video1_015-037_opened_cc05.png']), array([1.00000000e+00, 1.19083815e+03, 1.34197812e+01, 8.00000000e+00,\n",
       "       2.23264667e+00])),\n",
       "       (201, '/media/alessandro/DATA/tesi/Nebbia/pre-processed_data/170619/video1_015/trigger_thr0.005_cl9_op3/cc_filtered_2den0.81_gausrad2.0/', list(['mean_170619-video1_015-037_opened_cc28.png']), array([  1.        , 271.28634882,   4.53510994,   6.        ,\n",
       "         2.05519961])),\n",
       "       (202, '/media/alessandro/DATA/tesi/Nebbia/pre-processed_data/170619/video1_015/trigger_thr0.005_cl9_op3/cc_filtered_2den0.81_gausrad2.0/', list(['mean_170619-video1_015-043_opened_cc10.png']), array([1.00000000e+00, 1.15745037e+03, 1.04082028e+01, 1.40000000e+01,\n",
       "       2.38163553e+00])),\n",
       "       (203, '/media/alessandro/DATA/tesi/Nebbia/pre-processed_data/170619/video1_016/trigger_thr0.005_cl9_op3/cc_filtered_2den0.81_gausrad2.0/', list(['mean_170619-video1_016-002_opened_cc19.png']), array([  1.        , 331.40497494,  13.32656594,   4.        ,\n",
       "         1.24620043])),\n",
       "       (204, '/media/alessandro/DATA/tesi/Nebbia/pre-processed_data/170619/video1_016/trigger_thr0.005_cl9_op3/cc_filtered_2den0.81_gausrad2.0/', list(['mean_170619-video1_016-002_opened_cc23.png']), array([  1.        , 228.46674814,   7.07080836,   3.        ,\n",
       "         1.88506741])),\n",
       "       (205, '/media/alessandro/DATA/tesi/Nebbia/pre-processed_data/170619/video1_016/trigger_thr0.005_cl9_op3/cc_filtered_2den0.81_gausrad2.0/', list(['mean_170619-video1_016-002_opened_cc33.png']), array([  1.        , 221.48439918,   7.31674954,   4.        ,\n",
       "         1.4943347 ])),\n",
       "       (206, '/media/alessandro/DATA/tesi/Nebbia/pre-processed_data/170619/video1_016/trigger_thr0.005_cl9_op3/cc_filtered_2den0.81_gausrad2.0/', list(['mean_170619-video1_016-005_opened_cc11.png']), array([  1.        , 468.17162327,   9.63910606,   7.        ,\n",
       "         1.46987046])),\n",
       "       (207, '/media/alessandro/DATA/tesi/Nebbia/pre-processed_data/170619/video1_016/trigger_thr0.005_cl9_op3/cc_filtered_2den0.81_gausrad2.0/', list(['mean_170619-video1_016-005_opened_cc24.png']), array([  1.        , 503.49142583,   6.40091066,   7.        ,\n",
       "         1.51024398])),\n",
       "       (208, '/media/alessandro/DATA/tesi/Nebbia/pre-processed_data/170619/video1_016/trigger_thr0.005_cl9_op3/cc_filtered_2den0.81_gausrad2.0/', list(['mean_170619-video1_016-022_opened_cc10.png']), array([  1.        , 730.66032564,   9.71344785,   7.        ,\n",
       "         2.10747918])),\n",
       "       (209, '/media/alessandro/DATA/tesi/Nebbia/pre-processed_data/170619/video1_016/trigger_thr0.005_cl9_op3/cc_filtered_2den0.81_gausrad2.0/', list(['mean_170619-video1_016-022_opened_cc13.png']), array([  1.        , 141.95400894,   8.58424481,   2.        ,\n",
       "         1.2314067 ])),\n",
       "       (210, '/media/alessandro/DATA/tesi/Nebbia/pre-processed_data/170619/video1_016/trigger_thr0.005_cl9_op3/cc_filtered_2den0.81_gausrad2.0/', list(['mean_170619-video1_016-025_opened_cc03.png']), array([  1.        , 278.77968931,   4.29357595,   5.        ,\n",
       "         2.15461873])),\n",
       "       (211, '/media/alessandro/DATA/tesi/Nebbia/pre-processed_data/170619/video1_016/trigger_thr0.005_cl9_op3/cc_filtered_2den0.81_gausrad2.0/', list(['mean_170619-video1_016-025_opened_cc10.png']), array([  1.        , 625.45976363,   7.62520019,   9.        ,\n",
       "         2.19458215])),\n",
       "       (212, '/media/alessandro/DATA/tesi/Nebbia/pre-processed_data/170619/video1_016/trigger_thr0.005_cl9_op3/cc_filtered_2den0.81_gausrad2.0/', list(['mean_170619-video1_016-025_opened_cc24.png']), array([  1.        , 429.82578614,   6.60882604,   7.        ,\n",
       "         1.60533696])),\n",
       "       (213, '/media/alessandro/DATA/tesi/Nebbia/pre-processed_data/170619/video1_016/trigger_thr0.005_cl9_op3/cc_filtered_2den0.81_gausrad2.0/', list(['mean_170619-video1_016-025_opened_cc25.png']), array([ 1.        , 30.74353304,  1.75646696,  1.        ,  3.81326596])),\n",
       "       (214, '/media/alessandro/DATA/tesi/Nebbia/pre-processed_data/170619/video1_016/trigger_thr0.005_cl9_op3/cc_filtered_2den0.81_gausrad2.0/', list(['mean_170619-video1_016-032_opened_cc14.png']), array([  1.        , 365.90311534,  15.69348971,   6.        ,\n",
       "         1.36854363])),\n",
       "       (215, '/media/alessandro/DATA/tesi/Nebbia/pre-processed_data/170619/video1_016/trigger_thr0.005_cl9_op3/cc_filtered_2den0.81_gausrad2.0/', list(['mean_170619-video1_016-032_opened_cc15.png']), array([  1.        , 328.62651803,  10.8361847 ,   4.        ,\n",
       "         1.16474923])),\n",
       "       (216, '/media/alessandro/DATA/tesi/Nebbia/pre-processed_data/170619/video1_016/trigger_thr0.005_cl9_op3/cc_filtered_2den0.81_gausrad2.0/', list(['mean_170619-video1_016-033_opened_cc42.png']), array([  1.        , 123.17945476,   4.70584419,   2.        ,\n",
       "         1.59919382])),\n",
       "       (217, '/media/alessandro/DATA/tesi/Nebbia/pre-processed_data/170619/video1_016/trigger_thr0.005_cl9_op3/cc_filtered_2den0.81_gausrad2.0/', list(['mean_170619-video1_016-033_opened_cc55.png']), array([  1.        , 206.77755706,   4.60754558,   3.        ,\n",
       "         1.89481037])),\n",
       "       (218, '/media/alessandro/DATA/tesi/Nebbia/pre-processed_data/170619/video1_016/trigger_thr0.005_cl9_op3/cc_filtered_2den0.81_gausrad2.0/', list(['mean_170619-video1_016-046_opened_cc04.png']), array([  1.        , 160.48697506,   5.47407562,   3.        ,\n",
       "         2.08688795])),\n",
       "       (219, '/media/alessandro/DATA/tesi/Nebbia/pre-processed_data/170619/video1_016/trigger_thr0.005_cl9_op3/cc_filtered_2den0.81_gausrad2.0/', list(['mean_170619-video1_016-046_opened_cc11.png']), array([  1.        , 736.65533116,   9.20991836,   8.        ,\n",
       "         1.60126573])),\n",
       "       (220, '/media/alessandro/DATA/tesi/Nebbia/pre-processed_data/170619/video1_016/trigger_thr0.005_cl9_op3/cc_filtered_2den0.81_gausrad2.0/', list(['mean_170619-video1_016-046_opened_cc12.png']), array([  1.        , 255.68073736,  14.81926264,   1.        ,\n",
       "         1.66912065])),\n",
       "       (221, '/media/alessandro/DATA/tesi/Nebbia/pre-processed_data/170619/video1_016/trigger_thr0.005_cl9_op3/cc_filtered_2den0.81_gausrad2.0/', list(['mean_170619-video1_016-046_opened_cc26.png']), array([  1.        , 149.71371122,   9.25221274,   4.        ,\n",
       "         1.68654707])),\n",
       "       (222, '/media/alessandro/DATA/tesi/Nebbia/pre-processed_data/170619/video1_016/trigger_thr0.005_cl9_op3/cc_filtered_2den0.81_gausrad2.0/', list(['mean_170619-video1_016-046_opened_cc39.png']), array([  1.        , 199.27733333,  18.4       ,   5.        ,\n",
       "         1.55184226])),\n",
       "       (223, '/media/alessandro/DATA/tesi/Nebbia/pre-processed_data/170619/video1_016/trigger_thr0.005_cl9_op3/cc_filtered_2den0.81_gausrad2.0/', list(['mean_170619-video1_016-047_opened_cc04.png']), array([ 1.        , 86.73727351,  3.26272649,  1.        ,  2.69870619])),\n",
       "       (224, '/media/alessandro/DATA/tesi/Nebbia/pre-processed_data/170619/video1_016/trigger_thr0.005_cl9_op3/cc_filtered_2den0.81_gausrad2.0/', list(['mean_170619-video1_016-047_opened_cc08.png']), array([1.00000000e+00, 1.47068664e+03, 8.55711202e+00, 1.70000000e+01,\n",
       "       2.96759808e+00])),\n",
       "       (225, '/media/alessandro/DATA/tesi/Nebbia/pre-processed_data/170619/video1_017/trigger_thr0.005_cl9_op3/cc_filtered_2den0.81_gausrad2.0/', list(['mean_170619-video1_017-016_opened_cc18.png']), array([  1.        , 363.82964022,   4.2905522 ,   4.        ,\n",
       "         2.37316092])),\n",
       "       (226, '/media/alessandro/DATA/tesi/Nebbia/pre-processed_data/170619/video1_017/trigger_thr0.005_cl9_op3/cc_filtered_2den0.81_gausrad2.0/', list(['mean_170619-video1_017-016_opened_cc31.png']), array([  1.        , 120.05331558,   2.11353181,   2.        ,\n",
       "         2.21978659])),\n",
       "       (227, '/media/alessandro/DATA/tesi/Nebbia/pre-processed_data/170619/video1_017/trigger_thr0.005_cl9_op3/cc_filtered_2den0.81_gausrad2.0/', list(['mean_170619-video1_017-022_opened_cc10.png']), array([  1.        , 200.16443484,   3.56165543,   3.        ,\n",
       "         1.58496686])),\n",
       "       (228, '/media/alessandro/DATA/tesi/Nebbia/pre-processed_data/170619/video1_017/trigger_thr0.005_cl9_op3/cc_filtered_2den0.81_gausrad2.0/', list(['mean_170619-video1_017-022_opened_cc30.png']), array([  1.        , 449.29814286,   5.8535648 ,   8.        ,\n",
       "         1.78952123])),\n",
       "       (229, '/media/alessandro/DATA/tesi/Nebbia/pre-processed_data/170619/video1_017/trigger_thr0.005_cl9_op3/cc_filtered_2den0.81_gausrad2.0/', list(['mean_170619-video1_017-022_opened_cc45.png']), array([  1.        , 159.43988594,   6.67569689,   4.        ,\n",
       "         1.47370741])),\n",
       "       (230, '/media/alessandro/DATA/tesi/Nebbia/pre-processed_data/170619/video1_017/trigger_thr0.005_cl9_op3/cc_filtered_2den0.81_gausrad2.0/', list(['mean_170619-video1_017-022_opened_cc74.png']), array([  1.        , 214.59871786,   3.45225321,   4.        ,\n",
       "         1.7930606 ])),\n",
       "       (231, '/media/alessandro/DATA/tesi/Nebbia/pre-processed_data/170619/video1_017/trigger_thr0.005_cl9_op3/cc_filtered_2den0.81_gausrad2.0/', list(['mean_170619-video1_017-024_opened_cc22.png']), array([  1.        , 820.46932912,   9.4701757 ,  11.        ,\n",
       "         2.21763047])),\n",
       "       (232, '/media/alessandro/DATA/tesi/Nebbia/pre-processed_data/170619/video1_017/trigger_thr0.005_cl9_op3/cc_filtered_2den0.81_gausrad2.0/', list(['mean_170619-video1_017-024_opened_cc39.png']), array([ 1.        , 83.88217146,  7.61782854,  1.        ,  1.99493401])),\n",
       "       (233, '/media/alessandro/DATA/tesi/Nebbia/pre-processed_data/170619/video1_017/trigger_thr0.005_cl9_op3/cc_filtered_2den0.81_gausrad2.0/', list(['mean_170619-video1_017-033_opened_cc01.png']), array([  1.        , 161.19687049,   4.90059291,   3.        ,\n",
       "         1.30868519])),\n",
       "       (234, '/media/alessandro/DATA/tesi/Nebbia/pre-processed_data/170619/video1_017/trigger_thr0.005_cl9_op3/cc_filtered_2den0.81_gausrad2.0/', list(['mean_170619-video1_017-033_opened_cc17.png']), array([ 1.        , 68.03075468,  2.96924532,  1.        ,  1.94373585])),\n",
       "       (235, '/media/alessandro/DATA/tesi/Nebbia/pre-processed_data/170619/video1_017/trigger_thr0.005_cl9_op3/cc_filtered_2den0.81_gausrad2.0/', list(['mean_170619-video1_017-033_opened_cc31.png']), array([ 1.        , 75.30902761,  2.19097239,  1.        ,  5.64465027])),\n",
       "       (236, '/media/alessandro/DATA/tesi/Nebbia/pre-processed_data/170619/video1_017/trigger_thr0.005_cl9_op3/cc_filtered_2den0.81_gausrad2.0/', list(['mean_170619-video1_017-033_opened_cc44.png']), array([  1.        , 195.00837482,   2.2890348 ,   3.        ,\n",
       "         2.59435283])),\n",
       "       (237, '/media/alessandro/DATA/tesi/Nebbia/pre-processed_data/170619/video1_017/trigger_thr0.005_cl9_op3/cc_filtered_2den0.81_gausrad2.0/', list(['mean_170619-video1_017-033_opened_cc61.png']), array([ 1.        , 50.98968853,  2.51031147,  1.        ,  3.63286489])),\n",
       "       (238, '/media/alessandro/DATA/tesi/Nebbia/pre-processed_data/170619/video1_017/trigger_thr0.005_cl9_op3/cc_filtered_2den0.81_gausrad2.0/', list(['mean_170619-video1_017-034_opened_cc16.png']), array([  1.        , 161.44514913,  10.13054964,   2.        ,\n",
       "         1.00037498])),\n",
       "       (239, '/media/alessandro/DATA/tesi/Nebbia/pre-processed_data/170619/video1_017/trigger_thr0.005_cl9_op3/cc_filtered_2den0.81_gausrad2.0/', list(['mean_170619-video1_017-034_opened_cc26.png']), array([  1.        , 333.13436484,   5.85232696,   5.        ,\n",
       "         2.10827645])),\n",
       "       (240, '/media/alessandro/DATA/tesi/Nebbia/pre-processed_data/170619/video1_017/trigger_thr0.005_cl9_op3/cc_filtered_2den0.81_gausrad2.0/', list(['mean_170619-video1_017-040_opened_cc03.png']), array([ 1.        , 87.96374149,  4.37699485,  2.        ,  1.91045038])),\n",
       "       (241, '/media/alessandro/DATA/tesi/Nebbia/pre-processed_data/170619/video1_017/trigger_thr0.005_cl9_op3/cc_filtered_2den0.81_gausrad2.0/', list(['mean_170619-video1_017-040_opened_cc26.png']), array([  1.        , 235.16160975,   9.07770661,   4.        ,\n",
       "         1.90129321])),\n",
       "       (242, '/media/alessandro/DATA/tesi/Nebbia/pre-processed_data/170619/video1_017/trigger_thr0.005_cl9_op3/cc_filtered_2den0.81_gausrad2.0/', list(['mean_170619-video1_017-041_opened_cc14.png']), array([ 1.        , 86.43282534, 12.06717466,  1.        ,  1.0157327 ])),\n",
       "       (243, '/media/alessandro/DATA/tesi/Nebbia/pre-processed_data/170619/video1_017/trigger_thr0.005_cl9_op3/cc_filtered_2den0.81_gausrad2.0/', list(['mean_170619-video1_017-041_opened_cc54.png']), array([ 1.        , 44.58108563,  4.41891437,  1.        ,  2.120506  ])),\n",
       "       (244, '/media/alessandro/DATA/tesi/Nebbia/pre-processed_data/170619/video1_017/trigger_thr0.005_cl9_op3/cc_filtered_2den0.81_gausrad2.0/', list(['mean_170619-video1_017-041_opened_cc57.png']), array([  1.        , 171.29532993,   5.6600673 ,   3.        ,\n",
       "         1.72384797])),\n",
       "       (245, '/media/alessandro/DATA/tesi/Nebbia/pre-processed_data/170619/video1_017/trigger_thr0.005_cl9_op3/cc_filtered_2den0.81_gausrad2.0/', list(['mean_170619-video1_017-001_opened_cc06.png']), array([  1.        , 189.73927586,   5.90890316,   3.        ,\n",
       "         1.94606944])),\n",
       "       (246, '/media/alessandro/DATA/tesi/Nebbia/pre-processed_data/170619/video1_017/trigger_thr0.005_cl9_op3/cc_filtered_2den0.81_gausrad2.0/', list(['mean_170619-video1_017-010_opened_cc60.png']), array([  1.        , 106.6701822 ,   4.54907008,   3.        ,\n",
       "         1.40428459])),\n",
       "       (247, '/media/alessandro/DATA/tesi/Nebbia/pre-processed_data/170619/video1_017/trigger_thr0.005_cl9_op3/cc_filtered_2den0.81_gausrad2.0/', list(['mean_170619-video1_017-001_opened_cc15.png']), array([  1.        , 486.989445  ,   9.81727313,   5.        ,\n",
       "         1.60047625])),\n",
       "       (248, '/media/alessandro/DATA/tesi/Nebbia/pre-processed_data/170619/video1_017/trigger_thr0.005_cl9_op3/cc_filtered_2den0.81_gausrad2.0/', list(['mean_170619-video1_017-001_opened_cc29.png']), array([1.00000000e+00, 1.23800061e+03, 6.21917127e+00, 2.10000000e+01,\n",
       "       3.64931623e+00])),\n",
       "       (249, '/media/alessandro/DATA/tesi/Nebbia/pre-processed_data/170619/video1_017/trigger_thr0.005_cl9_op3/cc_filtered_2den0.81_gausrad2.0/', list(['mean_170619-video1_017-001_opened_cc44.png']), array([  1.        , 242.6096331 ,   7.20688802,   4.        ,\n",
       "         2.03243117])),\n",
       "       (250, '/media/alessandro/DATA/tesi/Nebbia/pre-processed_data/170619/video1_017/trigger_thr0.005_cl9_op3/cc_filtered_2den0.81_gausrad2.0/', list(['mean_170619-video1_017-001_opened_cc50.png']), array([ 1.        , 81.27475422,  8.54913377,  3.        ,  1.40673567])),\n",
       "       (251, '/media/alessandro/DATA/tesi/Nebbia/pre-processed_data/170619/video1_017/trigger_thr0.005_cl9_op3/cc_filtered_2den0.81_gausrad2.0/', list(['mean_170619-video1_017-001_opened_cc55.png']), array([  1.        , 198.17317767,   4.64298492,   4.        ,\n",
       "         2.05518112])),\n",
       "       (252, '/media/alessandro/DATA/tesi/Nebbia/pre-processed_data/170619/video1_017/trigger_thr0.005_cl9_op3/cc_filtered_2den0.81_gausrad2.0/', list(['mean_170619-video1_017-001_opened_cc64.png']), array([ 1.        , 87.75102137,  3.28470116,  2.        ,  2.35791037])),\n",
       "       (253, '/media/alessandro/DATA/tesi/Nebbia/pre-processed_data/170619/video1_017/trigger_thr0.005_cl9_op3/cc_filtered_2den0.81_gausrad2.0/', list(['mean_170619-video1_017-010_opened_cc04.png']), array([  1.        , 205.24342052,   2.31440615,   3.        ,\n",
       "         1.45168941])),\n",
       "       (254, '/media/alessandro/DATA/tesi/Nebbia/pre-processed_data/170619/video1_017/trigger_thr0.005_cl9_op3/cc_filtered_2den0.81_gausrad2.0/', list(['mean_170619-video1_017-010_opened_cc09.png']), array([  1.        , 104.04151493,   2.48466835,   2.        ,\n",
       "         2.19338772])),\n",
       "       (255, '/media/alessandro/DATA/tesi/Nebbia/pre-processed_data/170619/video1_017/trigger_thr0.005_cl9_op3/cc_filtered_2den0.81_gausrad2.0/', list(['mean_170619-video1_017-010_opened_cc13.png']), array([  1.        , 197.17227222,   7.52315808,   2.        ,\n",
       "         1.43277761])),\n",
       "       (256, '/media/alessandro/DATA/tesi/Nebbia/pre-processed_data/170619/video1_017/trigger_thr0.005_cl9_op3/cc_filtered_2den0.81_gausrad2.0/', list(['mean_170619-video1_017-010_opened_cc16.png']), array([  1.        , 308.33917998,   9.84545497,   4.        ,\n",
       "         1.3968597 ])),\n",
       "       (257, '/media/alessandro/DATA/tesi/Nebbia/pre-processed_data/170619/video1_017/trigger_thr0.005_cl9_op3/cc_filtered_2den0.81_gausrad2.0/', list(['mean_170619-video1_017-010_opened_cc53.png']), array([  1.        , 146.79053316,   7.23285467,   3.        ,\n",
       "         1.38346261])),\n",
       "       (258, '/media/alessandro/DATA/tesi/Nebbia/pre-processed_data/170619/video1_018/trigger_thr0.005_cl9_op3/cc_filtered_2den0.81_gausrad2.0/', list(['mean_170619-video1_018-003_opened_cc33.png']), array([ 1.        , 86.15031929,  5.3258235 ,  2.        ,  1.83798458])),\n",
       "       (259, '/media/alessandro/DATA/tesi/Nebbia/pre-processed_data/170619/video1_018/trigger_thr0.005_cl9_op3/cc_filtered_2den0.81_gausrad2.0/', list(['mean_170619-video1_018-003_opened_cc39.png']), array([ 1.        , 96.08320351,  5.71778657,  2.        ,  1.20104004])),\n",
       "       (260, '/media/alessandro/DATA/tesi/Nebbia/pre-processed_data/170619/video1_018/trigger_thr0.005_cl9_op3/cc_filtered_2den0.81_gausrad2.0/', list(['mean_170619-video1_018-003_opened_cc44.png']), array([ 1.        , 77.01875764,  8.5       ,  2.        ,  1.13892705])),\n",
       "       (261, '/media/alessandro/DATA/tesi/Nebbia/pre-processed_data/170619/video1_018/trigger_thr0.005_cl9_op3/cc_filtered_2den0.81_gausrad2.0/', list(['mean_170619-video1_018-003_opened_cc63.png']), array([ 1.        , 43.3146583 ,  1.6853417 ,  1.        ,  9.68545204])),\n",
       "       (262, '/media/alessandro/DATA/tesi/Nebbia/pre-processed_data/170619/video1_018/trigger_thr0.005_cl9_op3/cc_filtered_2den0.81_gausrad2.0/', list(['mean_170619-video1_018-004_opened_cc32.png']), array([  1.        , 328.0712466 ,   4.4617717 ,   6.        ,\n",
       "         1.91328529])),\n",
       "       (263, '/media/alessandro/DATA/tesi/Nebbia/pre-processed_data/170619/video1_018/trigger_thr0.005_cl9_op3/cc_filtered_2den0.81_gausrad2.0/', list(['mean_170619-video1_018-004_opened_cc49.png']), array([  1.        , 320.93003791,   5.58554846,   5.        ,\n",
       "         1.91365702])),\n",
       "       (264, '/media/alessandro/DATA/tesi/Nebbia/pre-processed_data/170619/video1_018/trigger_thr0.005_cl9_op3/cc_filtered_2den0.81_gausrad2.0/', list(['mean_170619-video1_018-016_opened_cc03.png']), array([  1.        , 948.94440357,   6.24179071,  17.        ,\n",
       "         3.65995178])),\n",
       "       (265, '/media/alessandro/DATA/tesi/Nebbia/pre-processed_data/170619/video1_018/trigger_thr0.005_cl9_op3/cc_filtered_2den0.81_gausrad2.0/', list(['mean_170619-video1_018-016_opened_cc34.png']), array([  1.        , 270.20373904,   7.1353707 ,   5.        ,\n",
       "         1.56059434])),\n",
       "       (266, '/media/alessandro/DATA/tesi/Nebbia/pre-processed_data/170619/video1_018/trigger_thr0.005_cl9_op3/cc_filtered_2den0.81_gausrad2.0/', list(['mean_170619-video1_018-016_opened_cc56.png']), array([ 1.        , 24.47671898,  3.02328102,  1.        ,  2.58007272])),\n",
       "       (267, '/media/alessandro/DATA/tesi/Nebbia/pre-processed_data/170619/video1_018/trigger_thr0.005_cl9_op3/cc_filtered_2den0.81_gausrad2.0/', list(['mean_170619-video1_018-021_opened_cc01.png']), array([1.00000000e+00, 1.08668285e+03, 4.68667981e+00, 1.60000000e+01,\n",
       "       2.64876839e+00])),\n",
       "       (268, '/media/alessandro/DATA/tesi/Nebbia/pre-processed_data/170619/video1_018/trigger_thr0.005_cl9_op3/cc_filtered_2den0.81_gausrad2.0/', list(['mean_170619-video1_018-021_opened_cc20.png']), array([  1.        , 371.32232507,   7.88403702,   5.        ,\n",
       "         1.97041353])),\n",
       "       (269, '/media/alessandro/DATA/tesi/Nebbia/pre-processed_data/170619/video1_018/trigger_thr0.005_cl9_op3/cc_filtered_2den0.81_gausrad2.0/', list(['mean_170619-video1_018-022_opened_cc25.png']), array([  1.        , 177.09785099,   5.5716956 ,   4.        ,\n",
       "         1.40443315])),\n",
       "       (270, '/media/alessandro/DATA/tesi/Nebbia/pre-processed_data/170619/video1_018/trigger_thr0.005_cl9_op3/cc_filtered_2den0.81_gausrad2.0/', list(['mean_170619-video1_018-022_opened_cc35.png']), array([  1.        , 355.79704573,   6.2693757 ,   7.        ,\n",
       "         1.75876573])),\n",
       "       (271, '/media/alessandro/DATA/tesi/Nebbia/pre-processed_data/170619/video1_018/trigger_thr0.005_cl9_op3/cc_filtered_2den0.81_gausrad2.0/', list(['mean_170619-video1_018-022_opened_cc39.png']), array([  1.        , 667.24275448,   6.01323122,   8.        ,\n",
       "         2.35376935])),\n",
       "       (272, '/media/alessandro/DATA/tesi/Nebbia/pre-processed_data/170619/video1_018/trigger_thr0.005_cl9_op3/cc_filtered_2den0.81_gausrad2.0/', list(['mean_170619-video1_018-022_opened_cc59.png']), array([ 1.        , 92.64887514,  5.0669054 ,  2.        ,  1.2902792 ])),\n",
       "       (273, '/media/alessandro/DATA/tesi/Nebbia/pre-processed_data/170619/video1_018/trigger_thr0.005_cl9_op3/cc_filtered_2den0.81_gausrad2.0/', list(['mean_170619-video1_018-022_opened_cc61.png']), array([  1.        , 145.37660204,   7.11263325,   3.        ,\n",
       "         1.22856879])),\n",
       "       (274, '/media/alessandro/DATA/tesi/Nebbia/pre-processed_data/170619/video1_018/trigger_thr0.005_cl9_op3/cc_filtered_2den0.81_gausrad2.0/', list(['mean_170619-video1_018-027_opened_cc09.png']), array([  1.        , 677.69353981,   8.72983377,  11.        ,\n",
       "         1.91892646])),\n",
       "       (275, '/media/alessandro/DATA/tesi/Nebbia/pre-processed_data/170619/video1_018/trigger_thr0.005_cl9_op3/cc_filtered_2den0.81_gausrad2.0/', list(['mean_170619-video1_018-027_opened_cc11.png']), array([  1.        , 125.63498106,  10.27556653,   2.        ,\n",
       "         1.19516933])),\n",
       "       (276, '/media/alessandro/DATA/tesi/Nebbia/pre-processed_data/170619/video1_018/trigger_thr0.005_cl9_op3/cc_filtered_2den0.81_gausrad2.0/', list(['mean_170619-video1_018-027_opened_cc23.png']), array([1.00000000e+00, 1.33789511e+03, 5.69650234e+00, 2.20000000e+01,\n",
       "       4.14147488e+00])),\n",
       "       (277, '/media/alessandro/DATA/tesi/Nebbia/pre-processed_data/170619/video1_018/trigger_thr0.005_cl9_op3/cc_filtered_2den0.81_gausrad2.0/', list(['mean_170619-video1_018-027_opened_cc25.png']), array([  1.        , 417.99646893,   7.75932675,   8.        ,\n",
       "         1.41627822])),\n",
       "       (278, '/media/alessandro/DATA/tesi/Nebbia/pre-processed_data/170619/video1_018/trigger_thr0.005_cl9_op3/cc_filtered_2den0.81_gausrad2.0/', list(['mean_170619-video1_018-027_opened_cc42.png']), array([  1.        , 171.02678588,   2.66339901,   3.        ,\n",
       "         2.09931798])),\n",
       "       (279, '/media/alessandro/DATA/tesi/Nebbia/pre-processed_data/170619/video1_018/trigger_thr0.005_cl9_op3/cc_filtered_2den0.81_gausrad2.0/', list(['mean_170619-video1_018-030_opened_cc22.png']), array([  1.        , 132.22202686,   6.        ,   3.        ,\n",
       "         1.53902689])),\n",
       "       (280, '/media/alessandro/DATA/tesi/Nebbia/pre-processed_data/170619/video1_018/trigger_thr0.005_cl9_op3/cc_filtered_2den0.81_gausrad2.0/', list(['mean_170619-video1_018-027_opened_cc50.png']), array([  1.        , 484.49832117,   6.83158097,   8.        ,\n",
       "         2.81016192])),\n",
       "       (281, '/media/alessandro/DATA/tesi/Nebbia/pre-processed_data/170619/video1_018/trigger_thr0.005_cl9_op3/cc_filtered_2den0.81_gausrad2.0/', list(['mean_170619-video1_018-027_opened_cc54.png']), array([  1.        , 142.84363985,   5.08592523,   2.        ,\n",
       "         1.81852102])),\n",
       "       (282, '/media/alessandro/DATA/tesi/Nebbia/pre-processed_data/170619/video1_018/trigger_thr0.005_cl9_op3/cc_filtered_2den0.81_gausrad2.0/', list(['mean_170619-video1_018-027_opened_cc61.png']), array([ 1.        , 19.88748219, 11.11251781,  1.        ,  1.05403445])),\n",
       "       (283, '/media/alessandro/DATA/tesi/Nebbia/pre-processed_data/170619/video1_018/trigger_thr0.005_cl9_op3/cc_filtered_2den0.81_gausrad2.0/', list(['mean_170619-video1_018-030_opened_cc01.png']), array([  1.        , 147.02490662,   6.47509338,   1.        ,\n",
       "         1.30586956])),\n",
       "       (284, '/media/alessandro/DATA/tesi/Nebbia/pre-processed_data/170619/video1_018/trigger_thr0.005_cl9_op3/cc_filtered_2den0.81_gausrad2.0/', list(['mean_170619-video1_018-030_opened_cc06.png']), array([1.00000000e+00, 1.03612733e+03, 8.21852673e+00, 1.80000000e+01,\n",
       "       2.48468925e+00])),\n",
       "       (285, '/media/alessandro/DATA/tesi/Nebbia/pre-processed_data/170619/video1_018/trigger_thr0.005_cl9_op3/cc_filtered_2den0.81_gausrad2.0/', list(['mean_170619-video1_018-030_opened_cc13.png']), array([  1.        , 530.79796295,   8.81297404,   4.        ,\n",
       "         1.86604786])),\n",
       "       (286, '/media/alessandro/DATA/tesi/Nebbia/pre-processed_data/170619/video1_018/trigger_thr0.005_cl9_op3/cc_filtered_2den0.81_gausrad2.0/', list(['mean_170619-video1_018-030_opened_cc46.png']), array([  1.        , 169.10406212,   3.99173723,   3.        ,\n",
       "         1.92052139])),\n",
       "       (287, '/media/alessandro/DATA/tesi/Nebbia/pre-processed_data/170619/video1_018/trigger_thr0.005_cl9_op3/cc_filtered_2den0.81_gausrad2.0/', list(['mean_170619-video1_018-030_opened_cc47.png']), array([ 1.        , 16.32455532,  3.67544468,  1.        ,  1.60075435])),\n",
       "       (288, '/media/alessandro/DATA/tesi/Nebbia/pre-processed_data/170619/video1_018/trigger_thr0.005_cl9_op3/cc_filtered_2den0.81_gausrad2.0/', list(['mean_170619-video1_018-033_opened_cc01.png']), array([1.00000000e+00, 1.70162847e+03, 6.56082573e+00, 2.10000000e+01,\n",
       "       3.67892367e+00])),\n",
       "       (289, '/media/alessandro/DATA/tesi/Nebbia/pre-processed_data/170619/video1_018/trigger_thr0.005_cl9_op3/cc_filtered_2den0.81_gausrad2.0/', list(['mean_170619-video1_018-033_opened_cc09.png']), array([  1.        , 248.02995422,  12.13387463,   6.        ,\n",
       "         1.79275863])),\n",
       "       (290, '/media/alessandro/DATA/tesi/Nebbia/pre-processed_data/170619/video1_018/trigger_thr0.005_cl9_op3/cc_filtered_2den0.81_gausrad2.0/', list(['mean_170619-video1_018-033_opened_cc12.png']), array([  1.        , 146.39565544,   4.56022618,   2.        ,\n",
       "         1.90898536])),\n",
       "       (291, '/media/alessandro/DATA/tesi/Nebbia/pre-processed_data/170619/video1_018/trigger_thr0.005_cl9_op3/cc_filtered_2den0.81_gausrad2.0/', list(['mean_170619-video1_018-033_opened_cc24.png']), array([  1.        , 368.37342022,   2.50635696,   6.        ,\n",
       "         2.81850577])),\n",
       "       (292, '/media/alessandro/DATA/tesi/Nebbia/pre-processed_data/170619/video1_018/trigger_thr0.005_cl9_op3/cc_filtered_2den0.81_gausrad2.0/', list(['mean_170619-video1_018-033_opened_cc34.png']), array([  1.        , 515.69202041,   6.62505902,   9.        ,\n",
       "         2.64176225])),\n",
       "       (293, '/media/alessandro/DATA/tesi/Nebbia/pre-processed_data/170619/video1_018/trigger_thr0.005_cl9_op3/cc_filtered_2den0.81_gausrad2.0/', list(['mean_170619-video1_018-033_opened_cc50.png']), array([  1.        , 593.7193547 ,   8.06024863,   9.        ,\n",
       "         2.56180191])),\n",
       "       (294, '/media/alessandro/DATA/tesi/Nebbia/pre-processed_data/170619/video1_018/trigger_thr0.005_cl9_op3/cc_filtered_2den0.81_gausrad2.0/', list(['mean_170619-video1_018-033_opened_cc84.png']), array([  1.        , 150.63280911,  10.21611782,   5.        ,\n",
       "         1.13053418])),\n",
       "       (295, '/media/alessandro/DATA/tesi/Nebbia/pre-processed_data/170619/video1_018/trigger_thr0.005_cl9_op3/cc_filtered_2den0.81_gausrad2.0/', list(['mean_170619-video1_018-048_opened_cc27.png']), array([  1.        , 184.70881374,   6.86879652,   3.        ,\n",
       "         1.4149467 ])),\n",
       "       (296, '/media/alessandro/DATA/tesi/Nebbia/pre-processed_data/170619/video1_018/trigger_thr0.005_cl9_op3/cc_filtered_2den0.81_gausrad2.0/', list(['mean_170619-video1_018-048_opened_cc66.png']), array([ 1.        , 82.40932324,  5.0455963 ,  3.        ,  1.59634862])),\n",
       "       (297, '/media/alessandro/DATA/tesi/Nebbia/pre-processed_data/170619/video1_020/trigger_thr0.005_cl9_op3/cc_filtered_2den0.81_gausrad2.0/', list(['mean_170619-video1_020-006_opened_cc03.png']), array([ 1.        , 98.35349507,  4.64650493,  1.        ,  2.08508993])),\n",
       "       (298, '/media/alessandro/DATA/tesi/Nebbia/pre-processed_data/170619/video1_020/trigger_thr0.005_cl9_op3/cc_filtered_2den0.81_gausrad2.0/', list(['mean_170619-video1_020-006_opened_cc40.png']), array([  1.        , 108.19759174,   4.1507576 ,   2.        ,\n",
       "         1.38840431])),\n",
       "       (299, '/media/alessandro/DATA/tesi/Nebbia/pre-processed_data/170619/video1_020/trigger_thr0.005_cl9_op3/cc_filtered_2den0.81_gausrad2.0/', list(['mean_170619-video1_020-006_opened_cc54.png']), array([  1.        , 104.00601678,   7.58743652,   2.        ,\n",
       "         1.57422331])),\n",
       "       (300, '/media/alessandro/DATA/tesi/Nebbia/pre-processed_data/170619/video1_020/trigger_thr0.005_cl9_op3/cc_filtered_2den0.81_gausrad2.0/', list(['mean_170619-video1_020-006_opened_cc74.png']), array([  1.        , 273.12713895,   4.76145439,   4.        ,\n",
       "         1.89813562])),\n",
       "       (301, '/media/alessandro/DATA/tesi/Nebbia/pre-processed_data/170619/video1_020/trigger_thr0.005_cl9_op3/cc_filtered_2den0.81_gausrad2.0/', list(['mean_170619-video1_020-008_opened_cc37.png']), array([  1.        , 364.78660424,   3.77918337,   5.        ,\n",
       "         2.1539428 ])),\n",
       "       (302, '/media/alessandro/DATA/tesi/Nebbia/pre-processed_data/170619/video1_020/trigger_thr0.005_cl9_op3/cc_filtered_2den0.81_gausrad2.0/', list(['mean_170619-video1_020-008_opened_cc62.png']), array([  1.        , 101.01892459,   3.27888895,   2.        ,\n",
       "         1.61967523])),\n",
       "       (303, '/media/alessandro/DATA/tesi/Nebbia/pre-processed_data/170619/video1_020/trigger_thr0.005_cl9_op3/cc_filtered_2den0.81_gausrad2.0/', list(['mean_170619-video1_020-008_opened_cc65.png']), array([  1.        , 351.36864113,   2.62069572,   6.        ,\n",
       "         1.92153963])),\n",
       "       (304, '/media/alessandro/DATA/tesi/Nebbia/pre-processed_data/170619/video1_020/trigger_thr0.005_cl9_op3/cc_filtered_2den0.81_gausrad2.0/', list(['mean_170619-video1_020-010_opened_cc06.png']), array([ 1.        , 58.86453422,  3.63546578,  1.        ,  2.30885699])),\n",
       "       (305, '/media/alessandro/DATA/tesi/Nebbia/pre-processed_data/170619/video1_020/trigger_thr0.005_cl9_op3/cc_filtered_2den0.81_gausrad2.0/', list(['mean_170619-video1_020-010_opened_cc17.png']), array([  1.        , 114.56295278,  11.15500744,   2.        ,\n",
       "         1.30009015])),\n",
       "       (306, '/media/alessandro/DATA/tesi/Nebbia/pre-processed_data/170619/video1_020/trigger_thr0.005_cl9_op3/cc_filtered_2den0.81_gausrad2.0/', list(['mean_170619-video1_020-010_opened_cc22.png']), array([ 1.       , 34.6322658,  2.3677342,  1.       ,  4.2956039])),\n",
       "       (307, '/media/alessandro/DATA/tesi/Nebbia/pre-processed_data/170619/video1_020/trigger_thr0.005_cl9_op3/cc_filtered_2den0.81_gausrad2.0/', list(['mean_170619-video1_020-010_opened_cc51.png']), array([  1.        , 137.28059419,   1.89037402,   2.        ,\n",
       "         2.45574992])),\n",
       "       (308, '/media/alessandro/DATA/tesi/Nebbia/pre-processed_data/170619/video1_020/trigger_thr0.005_cl9_op3/cc_filtered_2den0.81_gausrad2.0/', list(['mean_170619-video1_020-022_opened_cc01.png']), array([  1.        , 295.90233564,   4.65936973,   6.        ,\n",
       "         1.90805484])),\n",
       "       (309, '/media/alessandro/DATA/tesi/Nebbia/pre-processed_data/170619/video1_020/trigger_thr0.005_cl9_op3/cc_filtered_2den0.81_gausrad2.0/', list(['mean_170619-video1_020-022_opened_cc24.png']), array([  1.        , 193.41418668,   4.45778238,   4.        ,\n",
       "         1.23618258])),\n",
       "       (311, '/media/alessandro/DATA/tesi/Nebbia/pre-processed_data/170619/video1_020/trigger_thr0.005_cl9_op3/cc_filtered_2den0.81_gausrad2.0/', list(['mean_170619-video1_020-029_opened_cc40.png']), array([ 1.        , 76.83828789, 15.16171211,  1.        ,  1.        ])),\n",
       "       (312, '/media/alessandro/DATA/tesi/Nebbia/pre-processed_data/170619/video1_020/trigger_thr0.005_cl9_op3/cc_filtered_2den0.81_gausrad2.0/', list(['mean_170619-video1_020-029_opened_cc41.png']), array([  1.        , 110.51685026,   3.22135848,   2.        ,\n",
       "         1.90094761])),\n",
       "       (313, '/media/alessandro/DATA/tesi/Nebbia/pre-processed_data/170619/video1_020/trigger_thr0.005_cl9_op3/cc_filtered_2den0.81_gausrad2.0/', list(['mean_170619-video1_020-008_opened_cc59.png']), array([  1.        , 512.90689809,   5.33996181,   9.        ,\n",
       "         2.24010987])),\n",
       "       (314, '/media/alessandro/DATA/tesi/Nebbia/pre-processed_data/170619/video1_020/trigger_thr0.005_cl9_op3/cc_filtered_2den0.81_gausrad2.0/', list(['mean_170619-video1_020-015_opened_cc40.png']), array([  1.        , 102.35629171,   3.32338562,   2.        ,\n",
       "         2.47595936])),\n",
       "       (315, '/media/alessandro/DATA/tesi/Nebbia/pre-processed_data/170619/video1_020/trigger_thr0.005_cl9_op3/cc_filtered_2den0.81_gausrad2.0/', list(['mean_170619-video1_020-029_opened_cc48.png']), array([  1.        , 148.59627125,   3.03960118,   3.        ,\n",
       "         2.74146065])),\n",
       "       (316, '/media/alessandro/DATA/tesi/Nebbia/pre-processed_data/170619/video1_020/trigger_thr0.005_cl9_op3/cc_filtered_2den0.81_gausrad2.0/', list(['mean_170619-video1_020-036_opened_cc25.png']), array([ 1.        , 80.6424006 ,  7.55929099,  2.        ,  1.31078211])),\n",
       "       (317, '/media/alessandro/DATA/tesi/Nebbia/pre-processed_data/170619/video1_020/trigger_thr0.005_cl9_op3/cc_filtered_2den0.81_gausrad2.0/', list(['mean_170619-video1_020-036_opened_cc40.png']), array([  1.        , 102.40255828,   6.34039675,   2.        ,\n",
       "         1.46155206])),\n",
       "       (318, '/media/alessandro/DATA/tesi/Nebbia/pre-processed_data/170619/video1_020/trigger_thr0.005_cl9_op3/cc_filtered_2den0.81_gausrad2.0/', list(['mean_170619-video1_020-036_opened_cc42.png']), array([  1.        , 229.86526966,   4.42738922,   4.        ,\n",
       "         1.41684443])),\n",
       "       (319, '/media/alessandro/DATA/tesi/Nebbia/pre-processed_data/170619/video1_020/trigger_thr0.005_cl9_op3/cc_filtered_2den0.81_gausrad2.0/', list(['mean_170619-video1_020-036_opened_cc64.png']), array([  1.        , 121.27292669,   1.50828881,   2.        ,\n",
       "         2.97116219])),\n",
       "       (320, '/media/alessandro/DATA/tesi/Nebbia/pre-processed_data/170619/video1_020/trigger_thr0.005_cl9_op3/cc_filtered_2den0.81_gausrad2.0/', list(['mean_170619-video1_020-037_opened_cc31.png']), array([  1.        , 428.86536641,   5.73934802,   9.        ,\n",
       "         1.59969832])),\n",
       "       (321, '/media/alessandro/DATA/tesi/Nebbia/pre-processed_data/170619/video1_020/trigger_thr0.005_cl9_op3/cc_filtered_2den0.81_gausrad2.0/', list(['mean_170619-video1_020-037_opened_cc39.png']), array([  1.        , 107.31014177,   9.2138439 ,   2.        ,\n",
       "         1.32471562])),\n",
       "       (322, '/media/alessandro/DATA/tesi/Nebbia/pre-processed_data/170619/video1_020/trigger_thr0.005_cl9_op3/cc_filtered_2den0.81_gausrad2.0/', list(['mean_170619-video1_020-037_opened_cc66.png']), array([ 1.        , 59.02566483, 16.41886117,  2.        ,  1.        ])),\n",
       "       (323, '/media/alessandro/DATA/tesi/Nebbia/pre-processed_data/170619/video1_020/trigger_thr0.005_cl9_op3/cc_filtered_2den0.81_gausrad2.0/', list(['mean_170619-video1_020-038_opened_cc01.png']), array([  1.        , 149.20758843,   1.73420114,   2.        ,\n",
       "         1.90572694])),\n",
       "       (324, '/media/alessandro/DATA/tesi/Nebbia/pre-processed_data/170619/video1_020/trigger_thr0.005_cl9_op3/cc_filtered_2den0.81_gausrad2.0/', list(['mean_170619-video1_020-038_opened_cc07.png']), array([  1.        , 109.70570826,  11.91115464,   3.        ,\n",
       "         1.22068662])),\n",
       "       (325, '/media/alessandro/DATA/tesi/Nebbia/pre-processed_data/170619/video1_020/trigger_thr0.005_cl9_op3/cc_filtered_2den0.81_gausrad2.0/', list(['mean_170619-video1_020-038_opened_cc08.png']), array([  1.        , 322.79859499,   5.57250178,   6.        ,\n",
       "         1.6414714 ])),\n",
       "       (326, '/media/alessandro/DATA/tesi/Nebbia/pre-processed_data/170619/video1_020/trigger_thr0.005_cl9_op3/cc_filtered_2den0.81_gausrad2.0/', list(['mean_170619-video1_020-038_opened_cc34.png']), array([  1.        , 195.19416611,   4.44962818,   3.        ,\n",
       "         1.59909292])),\n",
       "       (327, '/media/alessandro/DATA/tesi/Nebbia/pre-processed_data/170619/video1_020/trigger_thr0.005_cl9_op3/cc_filtered_2den0.81_gausrad2.0/', list(['mean_170619-video1_020-038_opened_cc40.png']), array([  1.        , 246.55884641,   4.35409759,   4.        ,\n",
       "         1.67665046])),\n",
       "       (328, '/media/alessandro/DATA/tesi/Nebbia/pre-processed_data/170619/video1_020/trigger_thr0.005_cl9_op3/cc_filtered_2den0.81_gausrad2.0/', list(['mean_170619-video1_020-038_opened_cc58.png']), array([  1.        , 112.00765277,   5.67684716,   2.        ,\n",
       "         2.64814966])),\n",
       "       (329, '/media/alessandro/DATA/tesi/Nebbia/pre-processed_data/170619/video1_020/trigger_thr0.005_cl9_op3/cc_filtered_2den0.81_gausrad2.0/', list(['mean_170619-video1_020-038_opened_cc59.png']), array([ 1.        , 51.41191739,  6.08808261,  1.        ,  1.72916991])),\n",
       "       (330, '/media/alessandro/DATA/tesi/Nebbia/pre-processed_data/170619/video1_020/trigger_thr0.005_cl9_op3/cc_filtered_2den0.81_gausrad2.0/', list(['mean_170619-video1_020-038_opened_cc65.png']), array([  1.        , 218.01436244,   6.30236478,   4.        ,\n",
       "         1.38831677])),\n",
       "       (331, '/media/alessandro/DATA/tesi/Nebbia/pre-processed_data/170619/video1_021/trigger_thr0.005_cl9_op3/cc_filtered_2den0.81_gausrad2.0/', list(['mean_170619-video1_021-001_opened_cc01.png']), array([  1.        , 840.22658932,   6.74725308,  16.        ,\n",
       "         2.27696158])),\n",
       "       (332, '/media/alessandro/DATA/tesi/Nebbia/pre-processed_data/170619/video1_021/trigger_thr0.005_cl9_op3/cc_filtered_2den0.81_gausrad2.0/', list(['mean_170619-video1_021-001_opened_cc02.png']), array([  1.        , 125.92038685,   3.95049424,   2.        ,\n",
       "         1.8262762 ])),\n",
       "       (333, '/media/alessandro/DATA/tesi/Nebbia/pre-processed_data/170619/video1_021/trigger_thr0.005_cl9_op3/cc_filtered_2den0.81_gausrad2.0/', list(['mean_170619-video1_021-001_opened_cc15.png']), array([  1.        , 268.39158163,   1.57546548,   4.        ,\n",
       "         1.89544724])),\n",
       "       (334, '/media/alessandro/DATA/tesi/Nebbia/pre-processed_data/170619/video1_021/trigger_thr0.005_cl9_op3/cc_filtered_2den0.81_gausrad2.0/', list(['mean_170619-video1_021-001_opened_cc18.png']), array([  1.        , 662.21711791,   5.96029154,  11.        ,\n",
       "         2.13528456])),\n",
       "       (335, '/media/alessandro/DATA/tesi/Nebbia/pre-processed_data/170619/video1_021/trigger_thr0.005_cl9_op3/cc_filtered_2den0.81_gausrad2.0/', list(['mean_170619-video1_021-001_opened_cc39.png']), array([ 1.        , 15.8233742 ,  4.6766258 ,  1.        ,  1.41528561])),\n",
       "       (336, '/media/alessandro/DATA/tesi/Nebbia/pre-processed_data/170619/video1_021/trigger_thr0.005_cl9_op3/cc_filtered_2den0.81_gausrad2.0/', list(['mean_170619-video1_021-001_opened_cc44.png']), array([  1.        , 252.75087747,  12.65526664,   4.        ,\n",
       "         1.57340578])),\n",
       "       (337, '/media/alessandro/DATA/tesi/Nebbia/pre-processed_data/170619/video1_021/trigger_thr0.005_cl9_op3/cc_filtered_2den0.81_gausrad2.0/', list(['mean_170619-video1_021-001_opened_cc55.png']), array([ 1.        , 86.50882261,  1.49117739,  1.        ,  6.99382379])),\n",
       "       (338, '/media/alessandro/DATA/tesi/Nebbia/pre-processed_data/170619/video1_021/trigger_thr0.005_cl9_op3/cc_filtered_2den0.81_gausrad2.0/', list(['mean_170619-video1_021-010_opened_cc08.png']), array([  1.        , 143.62943975,   6.37056025,   1.        ,\n",
       "         1.5536816 ])),\n",
       "       (339, '/media/alessandro/DATA/tesi/Nebbia/pre-processed_data/170619/video1_021/trigger_thr0.005_cl9_op3/cc_filtered_2den0.81_gausrad2.0/', list(['mean_170619-video1_021-010_opened_cc14.png']), array([ 1.        , 40.8304219 ,  2.6695781 ,  1.        ,  3.91084513])),\n",
       "       (340, '/media/alessandro/DATA/tesi/Nebbia/pre-processed_data/170619/video1_021/trigger_thr0.005_cl9_op3/cc_filtered_2den0.81_gausrad2.0/', list(['mean_170619-video1_021-010_opened_cc23.png']), array([1.00000000e+00, 1.18222533e+03, 9.20219420e+00, 1.10000000e+01,\n",
       "       3.78380402e+00])),\n",
       "       (342, '/media/alessandro/DATA/tesi/Nebbia/pre-processed_data/170619/video1_021/trigger_thr0.005_cl9_op3/cc_filtered_2den0.81_gausrad2.0/', list(['mean_170619-video1_021-011_opened_cc03.png']), array([  1.        , 146.82904349,   5.48530174,   3.        ,\n",
       "         1.34614933])),\n",
       "       (343, '/media/alessandro/DATA/tesi/Nebbia/pre-processed_data/170619/video1_021/trigger_thr0.005_cl9_op3/cc_filtered_2den0.81_gausrad2.0/', list(['mean_170619-video1_021-011_opened_cc47.png']), array([  1.        , 435.01299458,   7.0955747 ,   9.        ,\n",
       "         2.09664905])),\n",
       "       (344, '/media/alessandro/DATA/tesi/Nebbia/pre-processed_data/170619/video1_021/trigger_thr0.005_cl9_op3/cc_filtered_2den0.81_gausrad2.0/', list(['mean_170619-video1_021-041_opened_cc28.png']), array([  1.        , 133.62548584,   5.84339604,   3.        ,\n",
       "         1.37692395])),\n",
       "       (345, '/media/alessandro/DATA/tesi/Nebbia/pre-processed_data/170619/video1_021/trigger_thr0.005_cl9_op3/cc_filtered_2den0.81_gausrad2.0/', list(['mean_170619-video1_021-041_opened_cc34.png']), array([  1.        , 771.75272206,   6.90010759,  14.        ,\n",
       "         2.40440077])),\n",
       "       (346, '/media/alessandro/DATA/tesi/Nebbia/pre-processed_data/170619/video1_021/trigger_thr0.005_cl9_op3/cc_filtered_2den0.81_gausrad2.0/', list(['mean_170619-video1_021-041_opened_cc37.png']), array([  1.        , 264.07233877,   5.23193312,   5.        ,\n",
       "         1.71660217])),\n",
       "       (347, '/media/alessandro/DATA/tesi/Nebbia/pre-processed_data/170619/video1_021/trigger_thr0.005_cl9_op3/cc_filtered_2den0.81_gausrad2.0/', list(['mean_170619-video1_021-041_opened_cc45.png']), array([  1.        , 107.99328353,   7.01668058,   3.        ,\n",
       "         1.14828007])),\n",
       "       (348, '/media/alessandro/DATA/tesi/Nebbia/pre-processed_data/170619/video1_021/trigger_thr0.005_cl9_op3/cc_filtered_2den0.81_gausrad2.0/', list(['mean_170619-video1_021-041_opened_cc67.png']), array([  1.        , 145.00034815,   2.24038665,   2.        ,\n",
       "         2.14117429])),\n",
       "       (349, '/media/alessandro/DATA/tesi/Nebbia/pre-processed_data/170619/video1_021/trigger_thr0.005_cl9_op3/cc_filtered_2den0.81_gausrad2.0/', list(['mean_170619-video1_021-042_opened_cc17.png']), array([ 1.        , 34.98037706,  9.51962294,  1.        ,  1.08261549])),\n",
       "       (350, '/media/alessandro/DATA/tesi/Nebbia/pre-processed_data/170619/video1_021/trigger_thr0.005_cl9_op3/cc_filtered_2den0.81_gausrad2.0/', list(['mean_170619-video1_021-042_opened_cc24.png']), array([1.00000000e+00, 1.46774781e+03, 7.60391766e+00, 1.90000000e+01,\n",
       "       3.65784262e+00])),\n",
       "       (351, '/media/alessandro/DATA/tesi/Nebbia/pre-processed_data/170619/video1_021/trigger_thr0.005_cl9_op3/cc_filtered_2den0.81_gausrad2.0/', list(['mean_170619-video1_021-042_opened_cc51.png']), array([  1.        , 110.74217251,  12.52593163,   3.        ,\n",
       "         1.1890588 ])),\n",
       "       (352, '/media/alessandro/DATA/tesi/Nebbia/pre-processed_data/170619/video1_021/trigger_thr0.005_cl9_op3/cc_filtered_2den0.81_gausrad2.0/', list(['mean_170619-video1_021-046_opened_cc01.png']), array([  1.        , 808.25436676,   9.06584555,  13.        ,\n",
       "         1.82001885])),\n",
       "       (353, '/media/alessandro/DATA/tesi/Nebbia/pre-processed_data/170619/video1_021/trigger_thr0.005_cl9_op3/cc_filtered_2den0.81_gausrad2.0/', list(['mean_170619-video1_021-046_opened_cc05.png']), array([  1.        , 287.28100729,   6.23608095,   3.        ,\n",
       "         2.15520032])),\n",
       "       (354, '/media/alessandro/DATA/tesi/Nebbia/pre-processed_data/170619/video1_021/trigger_thr0.005_cl9_op3/cc_filtered_2den0.81_gausrad2.0/', list(['mean_170619-video1_021-046_opened_cc13.png']), array([ 1.        , 38.90113311,  3.59886689,  1.        ,  2.0704984 ])),\n",
       "       (355, '/media/alessandro/DATA/tesi/Nebbia/pre-processed_data/170619/video1_021/trigger_thr0.005_cl9_op3/cc_filtered_2den0.81_gausrad2.0/', list(['mean_170619-video1_021-047_opened_cc01.png']), array([  1.        , 171.1743186 ,   2.69829068,   3.        ,\n",
       "         1.68827057])),\n",
       "       (356, '/media/alessandro/DATA/tesi/Nebbia/pre-processed_data/170619/video1_022/trigger_thr0.005_cl9_op3/cc_filtered_2den0.81_gausrad2.0/', list(['mean_170619-video1_022-013_opened_cc06.png']), array([  1.        , 511.66120207,   6.37877153,   9.        ,\n",
       "         1.66189475])),\n",
       "       (357, '/media/alessandro/DATA/tesi/Nebbia/pre-processed_data/170619/video1_022/trigger_thr0.005_cl9_op3/cc_filtered_2den0.81_gausrad2.0/', list(['mean_170619-video1_022-013_opened_cc11.png']), array([  1.        , 403.91887519,   3.54562447,   7.        ,\n",
       "         2.79256267])),\n",
       "       (358, '/media/alessandro/DATA/tesi/Nebbia/pre-processed_data/170619/video1_022/trigger_thr0.005_cl9_op3/cc_filtered_2den0.81_gausrad2.0/', list(['mean_170619-video1_022-013_opened_cc47.png']), array([ 1.        , 70.84813541,  5.15186459,  1.        ,  2.24041476])),\n",
       "       (359, '/media/alessandro/DATA/tesi/Nebbia/pre-processed_data/170619/video1_022/trigger_thr0.005_cl9_op3/cc_filtered_2den0.81_gausrad2.0/', list(['mean_170619-video1_022-014_opened_cc01.png']), array([1.00000000e+00, 2.42133678e+03, 6.45687038e+00, 3.50000000e+01,\n",
       "       5.12955941e+00])),\n",
       "       (360, '/media/alessandro/DATA/tesi/Nebbia/pre-processed_data/170619/video1_022/trigger_thr0.005_cl9_op3/cc_filtered_2den0.81_gausrad2.0/', list(['mean_170619-video1_022-014_opened_cc17.png']), array([  1.        , 156.14599287,   6.60193264,   3.        ,\n",
       "         1.15663698])),\n",
       "       (361, '/media/alessandro/DATA/tesi/Nebbia/pre-processed_data/170619/video1_022/trigger_thr0.005_cl9_op3/cc_filtered_2den0.81_gausrad2.0/', list(['mean_170619-video1_022-022_opened_cc01.png']), array([  1.        , 282.8333297 ,   6.4310198 ,   5.        ,\n",
       "         2.19257231])),\n",
       "       (362, '/media/alessandro/DATA/tesi/Nebbia/pre-processed_data/170619/video1_022/trigger_thr0.005_cl9_op3/cc_filtered_2den0.81_gausrad2.0/', list(['mean_170619-video1_022-022_opened_cc58.png']), array([  1.        , 206.02564004,   2.87128899,   3.        ,\n",
       "         1.8994388 ])),\n",
       "       (363, '/media/alessandro/DATA/tesi/Nebbia/pre-processed_data/170619/video1_022/trigger_thr0.005_cl9_op3/cc_filtered_2den0.81_gausrad2.0/', list(['mean_170619-video1_022-022_opened_cc62.png']), array([  1.        , 729.7441724 ,   4.56705938,  13.        ,\n",
       "         3.08351172])),\n",
       "       (364, '/media/alessandro/DATA/tesi/Nebbia/pre-processed_data/170619/video1_022/trigger_thr0.005_cl9_op3/cc_filtered_2den0.81_gausrad2.0/', list(['mean_170619-video1_022-023_opened_cc06.png']), array([  1.        , 153.12210368,   2.72066714,   2.        ,\n",
       "         1.84752842])),\n",
       "       (365, '/media/alessandro/DATA/tesi/Nebbia/pre-processed_data/170619/video1_022/trigger_thr0.005_cl9_op3/cc_filtered_2den0.81_gausrad2.0/', list(['mean_170619-video1_022-035_opened_cc10.png']), array([  1.        , 159.5857747 ,  10.29174773,   3.        ,\n",
       "         1.15408787])),\n",
       "       (366, '/media/alessandro/DATA/tesi/Nebbia/pre-processed_data/170619/video1_022/trigger_thr0.005_cl9_op3/cc_filtered_2den0.81_gausrad2.0/', list(['mean_170619-video1_022-035_opened_cc31.png']), array([  1.        , 728.64007212,   4.72730801,  10.        ,\n",
       "         2.41210726])),\n",
       "       (367, '/media/alessandro/DATA/tesi/Nebbia/pre-processed_data/170619/video1_022/trigger_thr0.005_cl9_op3/cc_filtered_2den0.81_gausrad2.0/', list(['mean_170619-video1_022-035_opened_cc42.png']), array([ 1.        , 69.90148023,  9.09851977,  1.        ,  1.06033113])),\n",
       "       (368, '/media/alessandro/DATA/tesi/Nebbia/pre-processed_data/170619/video1_022/trigger_thr0.005_cl9_op3/cc_filtered_2den0.81_gausrad2.0/', list(['mean_170619-video1_022-036_opened_cc11.png']), array([ 1.        , 42.59005252,  6.40994748,  1.        ,  1.28530739])),\n",
       "       (369, '/media/alessandro/DATA/tesi/Nebbia/pre-processed_data/170619/video1_022/trigger_thr0.005_cl9_op3/cc_filtered_2den0.81_gausrad2.0/', list(['mean_170619-video1_022-036_opened_cc14.png']), array([  1.        , 103.73646405,   8.16462183,   2.        ,\n",
       "         1.51492567])),\n",
       "       (370, '/media/alessandro/DATA/tesi/Nebbia/pre-processed_data/170619/video1_022/trigger_thr0.005_cl9_op3/cc_filtered_2den0.81_gausrad2.0/', list(['mean_170619-video1_022-036_opened_cc23.png']), array([  1.        , 443.18336087,   5.53417407,   8.        ,\n",
       "         1.64534039])),\n",
       "       (371, '/media/alessandro/DATA/tesi/Nebbia/pre-processed_data/170619/video1_022/trigger_thr0.005_cl9_op3/cc_filtered_2den0.81_gausrad2.0/', list(['mean_170619-video1_022-036_opened_cc27.png']), array([  1.        , 664.46802302,   5.05954165,   9.        ,\n",
       "         1.90328708])),\n",
       "       (372, '/media/alessandro/DATA/tesi/Nebbia/pre-processed_data/170619/video1_022/trigger_thr0.005_cl9_op3/cc_filtered_2den0.81_gausrad2.0/', list(['mean_170619-video1_022-040_opened_cc01.png']), array([  1.        , 255.63996906,   5.965431  ,   4.        ,\n",
       "         1.9821817 ])),\n",
       "       (373, '/media/alessandro/DATA/tesi/Nebbia/pre-processed_data/170619/video1_022/trigger_thr0.005_cl9_op3/cc_filtered_2den0.81_gausrad2.0/', list(['mean_170619-video1_022-040_opened_cc02.png']), array([1.00000000e+00, 1.94852208e+03, 6.94531606e+00, 3.00000000e+01,\n",
       "       3.58745913e+00])),\n",
       "       (374, '/media/alessandro/DATA/tesi/Nebbia/pre-processed_data/170619/video1_022/trigger_thr0.005_cl9_op3/cc_filtered_2den0.81_gausrad2.0/', list(['mean_170619-video1_022-040_opened_cc03.png']), array([  1.        , 126.364791  ,   4.75105938,   3.        ,\n",
       "         2.03391328])),\n",
       "       (375, '/media/alessandro/DATA/tesi/Nebbia/pre-processed_data/170619/video1_022/trigger_thr0.005_cl9_op3/cc_filtered_2den0.81_gausrad2.0/', list(['mean_170619-video1_022-040_opened_cc09.png']), array([1.00000000e+00, 1.22247927e+03, 7.13743861e+00, 2.10000000e+01,\n",
       "       3.02593878e+00])),\n",
       "       (376, '/media/alessandro/DATA/tesi/Nebbia/pre-processed_data/170619/video1_022/trigger_thr0.005_cl9_op3/cc_filtered_2den0.81_gausrad2.0/', list(['mean_170619-video1_022-040_opened_cc39.png']), array([  1.        , 683.29406421,   7.02579034,  10.        ,\n",
       "         2.33206165])),\n",
       "       (377, '/media/alessandro/DATA/tesi/Nebbia/pre-processed_data/170619/video1_022/trigger_thr0.005_cl9_op3/cc_filtered_2den0.81_gausrad2.0/', list(['mean_170619-video1_022-040_opened_cc47.png']), array([  1.        , 335.67565422,   5.75081171,   6.        ,\n",
       "         1.69984692])),\n",
       "       (378, '/media/alessandro/DATA/tesi/Nebbia/pre-processed_data/170619/video1_022/trigger_thr0.005_cl9_op3/cc_filtered_2den0.81_gausrad2.0/', list(['mean_170619-video1_022-022_opened_cc42.png']), array([  1.        , 318.46482717,   8.47495646,   4.        ,\n",
       "         1.91564938])),\n",
       "       (379, '/media/alessandro/DATA/tesi/Nebbia/pre-processed_data/170619/video1_022/trigger_thr0.005_cl9_op3/cc_filtered_2den0.81_gausrad2.0/', list(['mean_170619-video1_022-035_opened_cc27.png']), array([  1.        , 161.20337722,   5.84849739,   4.        ,\n",
       "         1.6784735 ])),\n",
       "       (380, '/media/alessandro/DATA/tesi/Nebbia/pre-processed_data/170619/video1_023/trigger_thr0.005_cl9_op3/cc_filtered_2den0.81_gausrad2.0/', list(['mean_170619-video1_023-017_opened_cc12.png']), array([  1.        , 152.10139539,   5.83937357,   3.        ,\n",
       "         1.61227157])),\n",
       "       (381, '/media/alessandro/DATA/tesi/Nebbia/pre-processed_data/170619/video1_023/trigger_thr0.005_cl9_op3/cc_filtered_2den0.81_gausrad2.0/', list(['mean_170619-video1_023-017_opened_cc27.png']), array([  1.        , 158.49865378,  10.64648316,   3.        ,\n",
       "         1.45387137])),\n",
       "       (382, '/media/alessandro/DATA/tesi/Nebbia/pre-processed_data/170619/video1_023/trigger_thr0.005_cl9_op3/cc_filtered_2den0.81_gausrad2.0/', list(['mean_170619-video1_023-017_opened_cc31.png']), array([ 1.        , 66.59750769,  2.40249231,  1.        ,  3.00856873])),\n",
       "       (383, '/media/alessandro/DATA/tesi/Nebbia/pre-processed_data/170619/video1_023/trigger_thr0.005_cl9_op3/cc_filtered_2den0.81_gausrad2.0/', list(['mean_170619-video1_023-017_opened_cc40.png', 'mean_170619-video1_023-018_opened_cc44.png']), array([  2.        , 353.54940505,  11.13213117,   5.5       ,\n",
       "         1.79444921])),\n",
       "       (384, '/media/alessandro/DATA/tesi/Nebbia/pre-processed_data/170619/video1_023/trigger_thr0.005_cl9_op3/cc_filtered_2den0.81_gausrad2.0/', list(['mean_170619-video1_023-017_opened_cc46.png']), array([  1.        , 268.34033922,   4.00784507,   4.        ,\n",
       "         2.10503481])),\n",
       "       (385, '/media/alessandro/DATA/tesi/Nebbia/pre-processed_data/170619/video1_023/trigger_thr0.005_cl9_op3/cc_filtered_2den0.81_gausrad2.0/', list(['mean_170619-video1_023-017_opened_cc51.png']), array([  1.        , 236.79518666,   2.92801313,   5.        ,\n",
       "         2.75641554])),\n",
       "       (386, '/media/alessandro/DATA/tesi/Nebbia/pre-processed_data/170619/video1_023/trigger_thr0.005_cl9_op3/cc_filtered_2den0.81_gausrad2.0/', list(['mean_170619-video1_023-017_opened_cc79.png']), array([  1.        , 175.57546816,   4.6839201 ,   2.        ,\n",
       "         2.15207389])),\n",
       "       (387, '/media/alessandro/DATA/tesi/Nebbia/pre-processed_data/170619/video1_023/trigger_thr0.005_cl9_op3/cc_filtered_2den0.81_gausrad2.0/', list(['mean_170619-video1_023-018_opened_cc71.png']), array([  1.        , 351.35256809,   4.71599968,   6.        ,\n",
       "         2.47296516])),\n",
       "       (389, '/media/alessandro/DATA/tesi/Nebbia/pre-processed_data/170619/video1_027/trigger_thr0.005_cl9_op3/cc_filtered_2den0.81_gausrad2.0/', list(['mean_170619-video1_027-005_opened_cc02.png', 'mean_170619-video1_027-006_opened_cc01.png']), array([  2.        , 117.65492675,   6.92772399,   2.        ,\n",
       "         1.94541558])),\n",
       "       (390, '/media/alessandro/DATA/tesi/Nebbia/pre-processed_data/170619/video1_028/trigger_thr0.005_cl9_op3/cc_filtered_2den0.81_gausrad2.0/', list(['mean_170619-video1_028-022_opened_cc34.png']), array([ 1.        , 99.17410446,  5.41622459,  2.        ,  1.98427596])),\n",
       "       (391, '/media/alessandro/DATA/tesi/Nebbia/pre-processed_data/170619/video1_028/trigger_thr0.005_cl9_op3/cc_filtered_2den0.81_gausrad2.0/', list(['mean_170619-video1_028-023_opened_cc52.png']), array([  1.        , 144.56514283,   4.68688355,   3.        ,\n",
       "         2.22803773])),\n",
       "       (392, '/media/alessandro/DATA/tesi/Nebbia/pre-processed_data/170619/video1_028/trigger_thr0.005_cl9_op3/cc_filtered_2den0.81_gausrad2.0/', list(['mean_170619-video1_028-024_opened_cc07.png']), array([  1.        , 102.66163493,  14.33836507,   1.        ,\n",
       "         1.02487554])),\n",
       "       (393, '/media/alessandro/DATA/tesi/Nebbia/pre-processed_data/170619/video1_030/trigger_thr0.005_cl9_op3/cc_filtered_2den0.81_gausrad2.0/', list(['mean_170619-video1_030-046_opened_cc02.png']), array([  1.        , 235.22538812,   6.37491331,   3.        ,\n",
       "         1.23152966])),\n",
       "       (394, '/media/alessandro/DATA/tesi/Nebbia/pre-processed_data/170619/video1_033/trigger_thr0.005_cl9_op3/cc_filtered_2den0.81_gausrad2.0/', list(['mean_170619-video1_033-026_opened_cc20.png', 'mean_170619-video1_033-027_opened_cc18.png', 'mean_170619-video1_033-028_opened_cc04.png']), array([  3.        , 161.86555765,  15.27133961,   1.33333333,\n",
       "         1.22310083])),\n",
       "       (395, '/media/alessandro/DATA/tesi/Nebbia/pre-processed_data/170619/video1_033/trigger_thr0.005_cl9_op3/cc_filtered_2den0.81_gausrad2.0/', list(['mean_170619-video1_033-026_opened_cc29.png']), array([  1.        , 115.13329167,   9.04357734,   3.        ,\n",
       "         1.21172801])),\n",
       "       (396, '/media/alessandro/DATA/tesi/Nebbia/pre-processed_data/170619/video1_033/trigger_thr0.005_cl9_op3/cc_filtered_2den0.81_gausrad2.0/', list(['mean_170619-video1_033-026_opened_cc72.png']), array([  1.        , 130.76969496,   8.        ,   2.        ,\n",
       "         1.28471346])),\n",
       "       (397, '/media/alessandro/DATA/tesi/Nebbia/pre-processed_data/170619/video1_035/trigger_thr0.005_cl9_op3/cc_filtered_2den0.81_gausrad2.0/', list(['mean_170619-video1_035-006_opened_cc02.png']), array([  1.        , 153.1726792 ,   5.3273208 ,   1.        ,\n",
       "         2.06070188])),\n",
       "       (398, '/media/alessandro/DATA/tesi/Nebbia/pre-processed_data/170619/video1_048/trigger_thr0.005_cl9_op3/cc_filtered_2den0.81_gausrad2.0/', list(['mean_170619-video1_048-034_opened_cc59.png', 'mean_170619-video1_048-035_opened_cc59.png']), array([  2.        , 115.13010093,  15.69104621,   1.5       ,\n",
       "         1.30989554])),\n",
       "       (399, '/media/alessandro/DATA/tesi/Nebbia/pre-processed_data/170619/video1_048/trigger_thr0.005_cl9_op3/cc_filtered_2den0.81_gausrad2.0/', list(['mean_170619-video1_048-034_opened_cc68.png']), array([ 1.        , 90.72319925,  8.15490085,  2.        ,  1.42857895])),\n",
       "       (400, '/media/alessandro/DATA/tesi/Nebbia/pre-processed_data/170619/video1_050/trigger_thr0.005_cl9_op3/cc_filtered_2den0.81_gausrad2.0/', list(['mean_170619-video1_050-025_opened_cc07.png', 'mean_170619-video1_050-026_opened_cc03.png', 'mean_170619-video1_050-027_opened_cc05.png', 'mean_170619-video1_050-028_opened_cc06.png']), array([ 4.        , 69.52238926, 19.72761074,  1.        ,  1.        ])),\n",
       "       (401, '/media/alessandro/DATA/tesi/Nebbia/pre-processed_data/170619/video1_052/trigger_thr0.005_cl9_op3/cc_filtered_2den0.81_gausrad2.0/', list(['mean_170619-video1_052-023_opened_cc01.png', 'mean_170619-video1_052-024_opened_cc01.png']), array([  2.        , 123.36722971,   8.06125319,   1.5       ,\n",
       "         1.30627271])),\n",
       "       (402, '/media/alessandro/DATA/tesi/Nebbia/pre-processed_data/170619/video1_053/trigger_thr0.005_cl9_op3/cc_filtered_2den0.81_gausrad2.0/', list(['mean_170619-video1_053-010_opened_cc07.png']), array([  1.        , 113.62671925,  11.53438725,   2.        ,\n",
       "         1.49898628])),\n",
       "       (403, '/media/alessandro/DATA/tesi/Nebbia/pre-processed_data/170619/video1_053/trigger_thr0.005_cl9_op3/cc_filtered_2den0.81_gausrad2.0/', list(['mean_170619-video1_053-011_opened_cc02.png']), array([  1.        , 283.4311405 ,   8.47735378,   4.        ,\n",
       "         1.58750702])),\n",
       "       (404, '/media/alessandro/DATA/tesi/Nebbia/pre-processed_data/170619/video1_054/trigger_thr0.005_cl9_op3/cc_filtered_2den0.81_gausrad2.0/', list(['mean_170619-video1_054-041_opened_cc01.png']), array([ 1.        , 88.65484723,  4.82443596,  2.        ,  1.30487703])),\n",
       "       (405, '/media/alessandro/DATA/tesi/Nebbia/pre-processed_data/170619/video1_057/trigger_thr0.005_cl9_op3/cc_filtered_2den0.81_gausrad2.0/', list(['mean_170619-video1_057-012_opened_cc05.png']), array([  1.        , 159.08212118,   5.5155076 ,   2.        ,\n",
       "         1.24709893])),\n",
       "       (406, '/media/alessandro/DATA/tesi/Nebbia/pre-processed_data/170619/video1_061/trigger_thr0.005_cl9_op3/cc_filtered_2den0.81_gausrad2.0/', list(['mean_170619-video1_061-041_opened_cc01.png']), array([ 1.        , 77.95801731,  6.54198269,  1.        ,  1.25542934])),\n",
       "       (407, '/media/alessandro/DATA/tesi/Nebbia/pre-processed_data/170619/video1_061/trigger_thr0.005_cl9_op3/cc_filtered_2den0.81_gausrad2.0/', list(['mean_170619-video1_061-041_opened_cc09.png']), array([  1.        , 162.        ,   6.        ,   1.        ,\n",
       "         1.52769017])),\n",
       "       (408, '/media/alessandro/DATA/tesi/Nebbia/pre-processed_data/170619/video1_063/trigger_thr0.005_cl9_op3/cc_filtered_2den0.81_gausrad2.0/', list(['mean_170619-video1_063-042_opened_cc13.png']), array([ 1.        , 85.4566416 , 10.5433584 ,  1.        ,  1.06020388])),\n",
       "       (409, '/media/alessandro/DATA/tesi/Nebbia/pre-processed_data/170619/video1_064/trigger_thr0.005_cl9_op3/cc_filtered_2den0.81_gausrad2.0/', list(['mean_170619-video1_064-004_opened_cc05.png']), array([  1.        , 103.49611647,   6.83780841,   2.        ,\n",
       "         1.04371286])),\n",
       "       (410, '/media/alessandro/DATA/tesi/Nebbia/pre-processed_data/170619/video1_066/trigger_thr0.005_cl9_op3/cc_filtered_2den0.81_gausrad2.0/', list(['mean_170619-video1_066-010_opened_cc05.png', 'mean_170619-video1_066-011_opened_cc06.png']), array([ 2.        , 96.26281696, 21.23718304,  1.        ,  1.03127421])),\n",
       "       (411, '/media/alessandro/DATA/tesi/Nebbia/pre-processed_data/170619/video1_068/trigger_thr0.005_cl9_op3/cc_filtered_2den0.81_gausrad2.0/', list(['mean_170619-video1_068-003_opened_cc21.png']), array([  1.        , 131.43428544,  13.56571456,   1.        ,\n",
       "         1.        ])),\n",
       "       (412, '/media/alessandro/DATA/tesi/Nebbia/pre-processed_data/170619/video1_068/trigger_thr0.005_cl9_op3/cc_filtered_2den0.81_gausrad2.0/', list(['mean_170619-video1_068-003_opened_cc66.png']), array([ 1.        , 70.69265352, 10.80734648,  1.        ,  1.03590795])),\n",
       "       (413, '/media/alessandro/DATA/tesi/Nebbia/pre-processed_data/170619/video1_068/trigger_thr0.005_cl9_op3/cc_filtered_2den0.81_gausrad2.0/', list(['mean_170619-video1_068-014_opened_cc02.png']), array([  1.        , 165.18844484,   4.84097368,   3.        ,\n",
       "         1.56276892])),\n",
       "       (414, '/media/alessandro/DATA/tesi/Nebbia/pre-processed_data/170619/video1_068/trigger_thr0.005_cl9_op3/cc_filtered_2den0.81_gausrad2.0/', list(['mean_170619-video1_068-027_opened_cc01.png']), array([ 1.        , 89.37879375, 11.12120625,  1.        ,  1.        ])),\n",
       "       (415, '/media/alessandro/DATA/tesi/Nebbia/pre-processed_data/170619/video1_069/trigger_thr0.005_cl9_op3/cc_filtered_2den0.81_gausrad2.0/', list(['mean_170619-video1_069-044_opened_cc11.png']), array([  1.        , 134.76517236,   7.74903105,   3.        ,\n",
       "         1.68010778])),\n",
       "       (416, '/media/alessandro/DATA/tesi/Nebbia/pre-processed_data/170619/video1_070/trigger_thr0.005_cl9_op3/cc_filtered_2den0.81_gausrad2.0/', list(['mean_170619-video1_070-006_opened_cc01.png']), array([  1.        , 150.63081358,   2.78226973,   3.        ,\n",
       "         1.7312743 ])),\n",
       "       (417, '/media/alessandro/DATA/tesi/Nebbia/pre-processed_data/170619/video1_071/trigger_thr0.005_cl9_op3/cc_filtered_2den0.81_gausrad2.0/', list(['mean_170619-video1_071-007_opened_cc03.png']), array([ 1.        , 95.58361717,  6.22026616,  2.        ,  1.17326888])),\n",
       "       (418, '/media/alessandro/DATA/tesi/Nebbia/pre-processed_data/170619/video1_071/trigger_thr0.005_cl9_op3/cc_filtered_2den0.81_gausrad2.0/', list(['mean_170619-video1_071-017_opened_cc10.png', 'mean_170619-video1_071-018_opened_cc07.png', 'mean_170619-video1_071-019_opened_cc28.png']), array([  3.        , 128.46826232,  20.36507101,   1.        ,\n",
       "         1.        ])),\n",
       "       (419, '/media/alessandro/DATA/tesi/Nebbia/pre-processed_data/170619/video1_074/trigger_thr0.005_cl9_op3/cc_filtered_2den0.81_gausrad2.0/', list(['mean_170619-video1_074-010_opened_cc06.png']), array([ 1.        , 96.95144032,  6.75431163,  2.        ,  1.20124167])),\n",
       "       (420, '/media/alessandro/DATA/tesi/Nebbia/pre-processed_data/170619/video1_074/trigger_thr0.005_cl9_op3/cc_filtered_2den0.81_gausrad2.0/', list(['mean_170619-video1_074-010_opened_cc11.png']), array([  1.        , 171.56559053,   4.10030181,   3.        ,\n",
       "         1.68477074])),\n",
       "       (421, '/media/alessandro/DATA/tesi/Nebbia/pre-processed_data/170619/video1_074/trigger_thr0.005_cl9_op3/cc_filtered_2den0.81_gausrad2.0/', list(['mean_170619-video1_074-010_opened_cc18.png']), array([  1.        , 170.89805688,   3.95126585,   2.        ,\n",
       "         2.25002247])),\n",
       "       (422, '/media/alessandro/DATA/tesi/Nebbia/pre-processed_data/170619/video1_074/trigger_thr0.005_cl9_op3/cc_filtered_2den0.81_gausrad2.0/', list(['mean_170619-video1_074-010_opened_cc41.png']), array([  1.        , 604.6554686 ,   7.12900016,  11.        ,\n",
       "         2.68881863])),\n",
       "       (423, '/media/alessandro/DATA/tesi/Nebbia/pre-processed_data/170619/video1_074/trigger_thr0.005_cl9_op3/cc_filtered_2den0.81_gausrad2.0/', list(['mean_170619-video1_074-010_opened_cc95.png']), array([  1.        , 135.49553807,   1.74470959,   2.        ,\n",
       "         2.55879792])),\n",
       "       (424, '/media/alessandro/DATA/tesi/Nebbia/pre-processed_data/170619/video1_076/trigger_thr0.005_cl9_op3/cc_filtered_2den0.81_gausrad2.0/', list(['mean_170619-video1_076-030_opened_cc32.png']), array([  1.        , 337.34761631,   8.65729691,   3.        ,\n",
       "         2.00203656])),\n",
       "       (425, '/media/alessandro/DATA/tesi/Nebbia/pre-processed_data/170619/video1_076/trigger_thr0.005_cl9_op3/cc_filtered_2den0.81_gausrad2.0/', list(['mean_170619-video1_076-010_opened_cc02.png']), array([  1.        , 111.56877989,   6.29615974,   2.        ,\n",
       "         1.27177462])),\n",
       "       (426, '/media/alessandro/DATA/tesi/Nebbia/pre-processed_data/170619/video1_076/trigger_thr0.005_cl9_op3/cc_filtered_2den0.81_gausrad2.0/', list(['mean_170619-video1_076-030_opened_cc01.png']), array([  1.        , 117.20142983,   5.29857017,   1.        ,\n",
       "         2.29630222])),\n",
       "       (427, '/media/alessandro/DATA/tesi/Nebbia/pre-processed_data/170619/video1_076/trigger_thr0.005_cl9_op3/cc_filtered_2den0.81_gausrad2.0/', list(['mean_170619-video1_076-030_opened_cc02.png']), array([1.00000000e+00, 1.91138395e+03, 7.18492982e+00, 3.40000000e+01,\n",
       "       3.52977838e+00])),\n",
       "       (428, '/media/alessandro/DATA/tesi/Nebbia/pre-processed_data/170619/video1_076/trigger_thr0.005_cl9_op3/cc_filtered_2den0.81_gausrad2.0/', list(['mean_170619-video1_076-030_opened_cc06.png']), array([ 1.        , 69.04408906,  0.95591094,  1.        ,  3.95345304])),\n",
       "       (429, '/media/alessandro/DATA/tesi/Nebbia/pre-processed_data/170619/video1_076/trigger_thr0.005_cl9_op3/cc_filtered_2den0.81_gausrad2.0/', list(['mean_170619-video1_076-030_opened_cc17.png']), array([  1.        , 783.77013345,   6.53224182,   8.        ,\n",
       "         2.76839986])),\n",
       "       (430, '/media/alessandro/DATA/tesi/Nebbia/pre-processed_data/170619/video1_076/trigger_thr0.005_cl9_op3/cc_filtered_2den0.81_gausrad2.0/', list(['mean_170619-video1_076-030_opened_cc25.png']), array([  1.        , 110.78177303,   7.5       ,   2.        ,\n",
       "         1.17846282])),\n",
       "       (431, '/media/alessandro/DATA/tesi/Nebbia/pre-processed_data/170619/video1_076/trigger_thr0.005_cl9_op3/cc_filtered_2den0.81_gausrad2.0/', list(['mean_170619-video1_076-030_opened_cc41.png']), array([ 1.        , 61.83551463,  7.26820592,  2.        ,  1.58500506])),\n",
       "       (432, '/media/alessandro/DATA/tesi/Nebbia/pre-processed_data/170619/video1_076/trigger_thr0.005_cl9_op3/cc_filtered_2den0.81_gausrad2.0/', list(['mean_170619-video1_076-030_opened_cc54.png']), array([  1.        , 117.33091942,   4.59867993,   2.        ,\n",
       "         1.47764439])),\n",
       "       (433, '/media/alessandro/DATA/tesi/Nebbia/pre-processed_data/170619/video1_076/trigger_thr0.005_cl9_op3/cc_filtered_2den0.81_gausrad2.0/', list(['mean_170619-video1_076-040_opened_cc01.png']), array([  1.        , 887.38648982,   7.72104442,  13.        ,\n",
       "         2.28536381])),\n",
       "       (434, '/media/alessandro/DATA/tesi/Nebbia/pre-processed_data/170619/video1_076/trigger_thr0.005_cl9_op3/cc_filtered_2den0.81_gausrad2.0/', list(['mean_170619-video1_076-040_opened_cc23.png']), array([  1.        , 458.05791013,   3.63237142,   7.        ,\n",
       "         1.8176615 ])),\n",
       "       (435, '/media/alessandro/DATA/tesi/Nebbia/pre-processed_data/170619/video1_076/trigger_thr0.005_cl9_op3/cc_filtered_2den0.81_gausrad2.0/', list(['mean_170619-video1_076-040_opened_cc29.png']), array([ 1.        , 87.88648484,  4.23515724,  2.        ,  1.94108773])),\n",
       "       (436, '/media/alessandro/DATA/tesi/Nebbia/pre-processed_data/170619/video1_076/trigger_thr0.005_cl9_op3/cc_filtered_2den0.81_gausrad2.0/', list(['mean_170619-video1_076-046_opened_cc25.png']), array([ 1.        , 63.11534679,  5.25      ,  2.        ,  1.51438069])),\n",
       "       (437, '/media/alessandro/DATA/tesi/Nebbia/pre-processed_data/170619/video1_076/trigger_thr0.005_cl9_op3/cc_filtered_2den0.81_gausrad2.0/', list(['mean_170619-video1_076-046_opened_cc34.png']), array([1.00000000e+00, 1.59999936e+03, 7.13994978e+00, 2.90000000e+01,\n",
       "       3.85945596e+00])),\n",
       "       (438, '/media/alessandro/DATA/tesi/Nebbia/pre-processed_data/170619/video1_076/trigger_thr0.005_cl9_op3/cc_filtered_2den0.81_gausrad2.0/', list(['mean_170619-video1_076-046_opened_cc42.png']), array([  1.        , 103.19095574,   9.44256148,   3.        ,\n",
       "         1.33833768])),\n",
       "       (439, '/media/alessandro/DATA/tesi/Nebbia/pre-processed_data/170619/video1_076/trigger_thr0.005_cl9_op3/cc_filtered_2den0.81_gausrad2.0/', list(['mean_170619-video1_076-046_opened_cc52.png']), array([  1.        , 105.92212609,   6.72978526,   3.        ,\n",
       "         1.35342328])),\n",
       "       (440, '/media/alessandro/DATA/tesi/Nebbia/pre-processed_data/170619/video1_076/trigger_thr0.005_cl9_op3/cc_filtered_2den0.81_gausrad2.0/', list(['mean_170619-video1_076-048_opened_cc08.png']), array([  1.        , 200.27689711,   9.62417767,   4.        ,\n",
       "         1.12807442])),\n",
       "       (441, '/media/alessandro/DATA/tesi/Nebbia/pre-processed_data/170619/video1_076/trigger_thr0.005_cl9_op3/cc_filtered_2den0.81_gausrad2.0/', list(['mean_170619-video1_076-048_opened_cc13.png']), array([ 1.        , 31.61559421,  3.38440579,  1.        ,  3.53473089])),\n",
       "       (442, '/media/alessandro/DATA/tesi/Nebbia/pre-processed_data/170619/video1_076/trigger_thr0.005_cl9_op3/cc_filtered_2den0.81_gausrad2.0/', list(['mean_170619-video1_076-048_opened_cc20.png']), array([  1.        , 823.16619224,   7.53387577,  12.        ,\n",
       "         2.63813638])),\n",
       "       (443, '/media/alessandro/DATA/tesi/Nebbia/pre-processed_data/170619/video1_076/trigger_thr0.005_cl9_op3/cc_filtered_2den0.81_gausrad2.0/', list(['mean_170619-video1_076-048_opened_cc36.png']), array([  1.        , 605.72212871,   3.09446906,   9.        ,\n",
       "         2.013967  ])),\n",
       "       (444, '/media/alessandro/DATA/tesi/Nebbia/pre-processed_data/170619/video1_077/trigger_thr0.005_cl9_op3/cc_filtered_2den0.81_gausrad2.0/', list(['mean_170619-video1_077-002_opened_cc01.png']), array([  1.        , 612.41633094,   6.04141717,   8.        ,\n",
       "         1.88520592])),\n",
       "       (445, '/media/alessandro/DATA/tesi/Nebbia/pre-processed_data/170619/video1_077/trigger_thr0.005_cl9_op3/cc_filtered_2den0.81_gausrad2.0/', list(['mean_170619-video1_077-002_opened_cc26.png']), array([  1.        , 297.06760168,   6.29035685,   6.        ,\n",
       "         1.71056516])),\n",
       "       (446, '/media/alessandro/DATA/tesi/Nebbia/pre-processed_data/170619/video1_077/trigger_thr0.005_cl9_op3/cc_filtered_2den0.81_gausrad2.0/', list(['mean_170619-video1_077-002_opened_cc35.png']), array([  1.        , 109.07930263,   4.61250543,   2.        ,\n",
       "         1.43600002])),\n",
       "       (447, '/media/alessandro/DATA/tesi/Nebbia/pre-processed_data/170619/video1_077/trigger_thr0.005_cl9_op3/cc_filtered_2den0.81_gausrad2.0/', list(['mean_170619-video1_077-012_opened_cc09.png']), array([  1.        , 324.56789941,   5.03336425,   5.        ,\n",
       "         1.83818155])),\n",
       "       (448, '/media/alessandro/DATA/tesi/Nebbia/pre-processed_data/170619/video1_077/trigger_thr0.005_cl9_op3/cc_filtered_2den0.81_gausrad2.0/', list(['mean_170619-video1_077-012_opened_cc34.png']), array([  1.        , 995.94266361,   8.16272218,  19.        ,\n",
       "         2.54649343])),\n",
       "       (449, '/media/alessandro/DATA/tesi/Nebbia/pre-processed_data/170619/video1_077/trigger_thr0.005_cl9_op3/cc_filtered_2den0.81_gausrad2.0/', list(['mean_170619-video1_077-012_opened_cc38.png']), array([  1.        , 736.6325033 ,   5.52343364,  11.        ,\n",
       "         2.13380463])),\n",
       "       (450, '/media/alessandro/DATA/tesi/Nebbia/pre-processed_data/170619/video1_077/trigger_thr0.005_cl9_op3/cc_filtered_2den0.81_gausrad2.0/', list(['mean_170619-video1_077-012_opened_cc48.png']), array([  1.       , 186.5338406,   5.5461041,   2.       ,   1.5038651])),\n",
       "       (451, '/media/alessandro/DATA/tesi/Nebbia/pre-processed_data/170619/video1_077/trigger_thr0.005_cl9_op3/cc_filtered_2den0.81_gausrad2.0/', list(['mean_170619-video1_077-012_opened_cc75.png']), array([ 1.        , 78.66412657,  6.        ,  2.        ,  1.14767843])),\n",
       "       (452, '/media/alessandro/DATA/tesi/Nebbia/pre-processed_data/170619/video1_077/trigger_thr0.005_cl9_op3/cc_filtered_2den0.81_gausrad2.0/', list(['mean_170619-video1_077-012_opened_cc78.png']), array([  1.        , 422.59542194,   3.7118491 ,   7.        ,\n",
       "         2.39998717])),\n",
       "       (453, '/media/alessandro/DATA/tesi/Nebbia/pre-processed_data/170619/video1_077/trigger_thr0.005_cl9_op3/cc_filtered_2den0.81_gausrad2.0/', list(['mean_170619-video1_077-024_opened_cc01.png']), array([1.00000000e+00, 1.14173822e+03, 8.55802443e+00, 1.70000000e+01,\n",
       "       2.67150936e+00])),\n",
       "       (454, '/media/alessandro/DATA/tesi/Nebbia/pre-processed_data/170619/video1_077/trigger_thr0.005_cl9_op3/cc_filtered_2den0.81_gausrad2.0/', list(['mean_170619-video1_077-024_opened_cc23.png']), array([1.00000000e+00, 1.93048097e+03, 6.88701122e+00, 2.90000000e+01,\n",
       "       4.66723381e+00])),\n",
       "       (455, '/media/alessandro/DATA/tesi/Nebbia/pre-processed_data/170619/video1_077/trigger_thr0.005_cl9_op3/cc_filtered_2den0.81_gausrad2.0/', list(['mean_170619-video1_077-024_opened_cc32.png']), array([  1.        , 241.82714428,   5.83437244,   5.        ,\n",
       "         1.46293477])),\n",
       "       (456, '/media/alessandro/DATA/tesi/Nebbia/pre-processed_data/170619/video1_077/trigger_thr0.005_cl9_op3/cc_filtered_2den0.81_gausrad2.0/', list(['mean_170619-video1_077-028_opened_cc19.png']), array([  1.        , 246.32373964,   9.01227271,   3.        ,\n",
       "         1.36842299])),\n",
       "       (457, '/media/alessandro/DATA/tesi/Nebbia/pre-processed_data/170619/video1_077/trigger_thr0.005_cl9_op3/cc_filtered_2den0.81_gausrad2.0/', list(['mean_170619-video1_077-028_opened_cc32.png']), array([  1.        , 318.67956582,   6.6273149 ,   4.        ,\n",
       "         1.83900869])),\n",
       "       (458, '/media/alessandro/DATA/tesi/Nebbia/pre-processed_data/170619/video1_077/trigger_thr0.005_cl9_op3/cc_filtered_2den0.81_gausrad2.0/', list(['mean_170619-video1_077-041_opened_cc03.png']), array([  1.        , 630.79625275,   6.01112932,   8.        ,\n",
       "         3.23796217])),\n",
       "       (459, '/media/alessandro/DATA/tesi/Nebbia/pre-processed_data/170619/video1_077/trigger_thr0.005_cl9_op3/cc_filtered_2den0.81_gausrad2.0/', list(['mean_170619-video1_077-041_opened_cc24.png']), array([  1.        , 183.7348436 ,   4.64723167,   3.        ,\n",
       "         1.63990149])),\n",
       "       (460, '/media/alessandro/DATA/tesi/Nebbia/pre-processed_data/170619/video1_077/trigger_thr0.005_cl9_op3/cc_filtered_2den0.81_gausrad2.0/', list(['mean_170619-video1_077-041_opened_cc31.png']), array([1.00000000e+00, 1.21610496e+03, 6.40475216e+00, 1.90000000e+01,\n",
       "       2.88484482e+00])),\n",
       "       (461, '/media/alessandro/DATA/tesi/Nebbia/pre-processed_data/170619/video1_077/trigger_thr0.005_cl9_op3/cc_filtered_2den0.81_gausrad2.0/', list(['mean_170619-video1_077-042_opened_cc16.png']), array([  1.        , 405.17615502,   5.0020041 ,   6.        ,\n",
       "         2.31348001])),\n",
       "       (462, '/media/alessandro/DATA/tesi/Nebbia/pre-processed_data/170619/video1_077/trigger_thr0.005_cl9_op3/cc_filtered_2den0.81_gausrad2.0/', list(['mean_170619-video1_077-042_opened_cc48.png']), array([  1.        , 359.32526828,   2.57532743,   5.        ,\n",
       "         1.83400844])),\n",
       "       (463, '/media/alessandro/DATA/tesi/Nebbia/pre-processed_data/170619/video1_077/trigger_thr0.005_cl9_op3/cc_filtered_2den0.81_gausrad2.0/', list(['mean_170619-video1_077-002_opened_cc45.png']), array([  1.        , 131.06484809,   6.23756527,   2.        ,\n",
       "         1.55326742])),\n",
       "       (464, '/media/alessandro/DATA/tesi/Nebbia/pre-processed_data/170619/video1_077/trigger_thr0.005_cl9_op3/cc_filtered_2den0.81_gausrad2.0/', list(['mean_170619-video1_077-004_opened_cc03.png']), array([1.00000000e+00, 1.55353924e+03, 7.37218520e+00, 2.20000000e+01,\n",
       "       3.31027648e+00])),\n",
       "       (465, '/media/alessandro/DATA/tesi/Nebbia/pre-processed_data/170619/video1_077/trigger_thr0.005_cl9_op3/cc_filtered_2den0.81_gausrad2.0/', list(['mean_170619-video1_077-004_opened_cc11.png']), array([1.00000000e+00, 1.35361761e+03, 9.92092087e+00, 1.40000000e+01,\n",
       "       3.27499100e+00])),\n",
       "       (466, '/media/alessandro/DATA/tesi/Nebbia/pre-processed_data/170619/video1_077/trigger_thr0.005_cl9_op3/cc_filtered_2den0.81_gausrad2.0/', list(['mean_170619-video1_077-004_opened_cc24.png']), array([ 1.        , 80.59010348, 13.90989652,  1.        ,  1.15023134])),\n",
       "       (467, '/media/alessandro/DATA/tesi/Nebbia/pre-processed_data/170619/video1_077/trigger_thr0.005_cl9_op3/cc_filtered_2den0.81_gausrad2.0/', list(['mean_170619-video1_077-004_opened_cc35.png']), array([  1.        , 397.83608088,   6.2546493 ,   6.        ,\n",
       "         2.0343086 ])),\n",
       "       (468, '/media/alessandro/DATA/tesi/Nebbia/pre-processed_data/170619/video1_077/trigger_thr0.005_cl9_op3/cc_filtered_2den0.81_gausrad2.0/', list(['mean_170619-video1_077-004_opened_cc40.png']), array([  1.        , 266.02096961,   9.17993938,   4.        ,\n",
       "         1.25905311])),\n",
       "       (469, '/media/alessandro/DATA/tesi/Nebbia/pre-processed_data/170619/video1_077/trigger_thr0.005_cl9_op3/cc_filtered_2den0.81_gausrad2.0/', list(['mean_170619-video1_077-004_opened_cc68.png']), array([  1.        , 162.93279948,   4.46302373,   3.        ,\n",
       "         1.70369921])),\n",
       "       (470, '/media/alessandro/DATA/tesi/Nebbia/pre-processed_data/170619/video1_077/trigger_thr0.005_cl9_op3/cc_filtered_2den0.81_gausrad2.0/', list(['mean_170619-video1_077-004_opened_cc71.png']), array([  1.        , 104.78589678,   6.96991637,   4.        ,\n",
       "         1.44632052])),\n",
       "       (471, '/media/alessandro/DATA/tesi/Nebbia/pre-processed_data/170619/video1_077/trigger_thr0.005_cl9_op3/cc_filtered_2den0.81_gausrad2.0/', list(['mean_170619-video1_077-004_opened_cc74.png']), array([  1.        , 166.09040243,   3.31363938,   4.        ,\n",
       "         1.89363674])),\n",
       "       (472, '/media/alessandro/DATA/tesi/Nebbia/pre-processed_data/170619/video1_077/trigger_thr0.005_cl9_op3/cc_filtered_2den0.81_gausrad2.0/', list(['mean_170619-video1_077-012_opened_cc01.png']), array([1.00000000e+00, 1.73802677e+03, 9.24440889e+00, 2.40000000e+01,\n",
       "       3.22374062e+00])),\n",
       "       (473, '/media/alessandro/DATA/tesi/Nebbia/pre-processed_data/170619/video1_078/trigger_thr0.005_cl9_op3/cc_filtered_2den0.81_gausrad2.0/', list(['mean_170619-video1_078-001_opened_cc16.png']), array([  1.        , 270.30532362,   7.96702541,   4.        ,\n",
       "         1.87671307])),\n",
       "       (474, '/media/alessandro/DATA/tesi/Nebbia/pre-processed_data/170619/video1_078/trigger_thr0.005_cl9_op3/cc_filtered_2den0.81_gausrad2.0/', list(['mean_170619-video1_078-001_opened_cc28.png']), array([ 1.        , 67.43246729,  4.56753271,  1.        ,  2.02856025])),\n",
       "       (475, '/media/alessandro/DATA/tesi/Nebbia/pre-processed_data/170619/video1_078/trigger_thr0.005_cl9_op3/cc_filtered_2den0.81_gausrad2.0/', list(['mean_170619-video1_078-002_opened_cc09.png']), array([ 1.        , 72.49032056,  6.90958634,  2.        ,  1.30070645])),\n",
       "       (476, '/media/alessandro/DATA/tesi/Nebbia/pre-processed_data/170619/video1_078/trigger_thr0.005_cl9_op3/cc_filtered_2den0.81_gausrad2.0/', list(['mean_170619-video1_078-002_opened_cc30.png']), array([ 1.        , 91.44878162,  2.77519813,  2.        ,  2.06984592])),\n",
       "       (477, '/media/alessandro/DATA/tesi/Nebbia/pre-processed_data/170619/video1_078/trigger_thr0.005_cl9_op3/cc_filtered_2den0.81_gausrad2.0/', list(['mean_170619-video1_078-013_opened_cc02.png']), array([  1.        , 209.07461027,   3.47160923,   2.        ,\n",
       "         1.71165757])),\n",
       "       (478, '/media/alessandro/DATA/tesi/Nebbia/pre-processed_data/170619/video1_078/trigger_thr0.005_cl9_op3/cc_filtered_2den0.81_gausrad2.0/', list(['mean_170619-video1_078-013_opened_cc13.png']), array([  1.        , 469.89566051,   5.56281749,   5.        ,\n",
       "         1.73091814])),\n",
       "       (479, '/media/alessandro/DATA/tesi/Nebbia/pre-processed_data/170619/video1_078/trigger_thr0.005_cl9_op3/cc_filtered_2den0.81_gausrad2.0/', list(['mean_170619-video1_078-013_opened_cc25.png']), array([  1.        , 125.60045343,   3.96322337,   2.        ,\n",
       "         1.37814605])),\n",
       "       (480, '/media/alessandro/DATA/tesi/Nebbia/pre-processed_data/170619/video1_078/trigger_thr0.005_cl9_op3/cc_filtered_2den0.81_gausrad2.0/', list(['mean_170619-video1_078-013_opened_cc30.png']), array([ 1.        , 32.9677083 ,  2.0322917 ,  1.        ,  4.91453579])),\n",
       "       (481, '/media/alessandro/DATA/tesi/Nebbia/pre-processed_data/170619/video1_078/trigger_thr0.005_cl9_op3/cc_filtered_2den0.81_gausrad2.0/', list(['mean_170619-video1_078-014_opened_cc18.png']), array([1.00000000e+00, 1.08694532e+03, 7.43422293e+00, 1.70000000e+01,\n",
       "       2.80150781e+00])),\n",
       "       (482, '/media/alessandro/DATA/tesi/Nebbia/pre-processed_data/170619/video1_078/trigger_thr0.005_cl9_op3/cc_filtered_2den0.81_gausrad2.0/', list(['mean_170619-video1_078-014_opened_cc45.png']), array([  1.        , 177.27048511,   3.90504812,   3.        ,\n",
       "         1.75309227])),\n",
       "       (483, '/media/alessandro/DATA/tesi/Nebbia/pre-processed_data/170619/video1_078/trigger_thr0.005_cl9_op3/cc_filtered_2den0.81_gausrad2.0/', list(['mean_170619-video1_078-014_opened_cc48.png']), array([  1.        , 328.02669555,   7.24850013,   7.        ,\n",
       "         1.65718667])),\n",
       "       (484, '/media/alessandro/DATA/tesi/Nebbia/pre-processed_data/170619/video1_078/trigger_thr0.005_cl9_op3/cc_filtered_2den0.81_gausrad2.0/', list(['mean_170619-video1_078-030_opened_cc03.png']), array([  1.        , 120.4082002 ,   4.42952862,   2.        ,\n",
       "         1.6329632 ])),\n",
       "       (485, '/media/alessandro/DATA/tesi/Nebbia/pre-processed_data/170619/video1_078/trigger_thr0.005_cl9_op3/cc_filtered_2den0.81_gausrad2.0/', list(['mean_170619-video1_078-030_opened_cc48.png']), array([  1.        , 414.98363076,   7.11199648,   6.        ,\n",
       "         2.3455887 ])),\n",
       "       (486, '/media/alessandro/DATA/tesi/Nebbia/pre-processed_data/170619/video1_078/trigger_thr0.005_cl9_op3/cc_filtered_2den0.81_gausrad2.0/', list(['mean_170619-video1_078-038_opened_cc41.png']), array([  1.        , 694.32649897,   4.92658546,  12.        ,\n",
       "         2.21548185])),\n",
       "       (487, '/media/alessandro/DATA/tesi/Nebbia/pre-processed_data/170619/video1_078/trigger_thr0.005_cl9_op3/cc_filtered_2den0.81_gausrad2.0/', list(['mean_170619-video1_078-038_opened_cc63.png']), array([  1.        , 442.69181404,   4.86592814,   8.        ,\n",
       "         2.07359463])),\n",
       "       (488, '/media/alessandro/DATA/tesi/Nebbia/pre-processed_data/170619/video1_078/trigger_thr0.005_cl9_op3/cc_filtered_2den0.81_gausrad2.0/', list(['mean_170619-video1_078-042_opened_cc30.png']), array([  1.        , 129.01070717,   2.32498292,   2.        ,\n",
       "         1.97336989])),\n",
       "       (489, '/media/alessandro/DATA/tesi/Nebbia/pre-processed_data/170619/video1_078/trigger_thr0.005_cl9_op3/cc_filtered_2den0.81_gausrad2.0/', list(['mean_170619-video1_078-042_opened_cc48.png']), array([  1.        , 500.52259115,   4.15142107,   8.        ,\n",
       "         2.7289507 ])),\n",
       "       (490, '/media/alessandro/DATA/tesi/Nebbia/pre-processed_data/170619/video1_078/trigger_thr0.005_cl9_op3/cc_filtered_2den0.81_gausrad2.0/', list(['mean_170619-video1_078-042_opened_cc57.png']), array([  1.        , 608.93195402,   6.30991646,  10.        ,\n",
       "         2.73749868])),\n",
       "       (491, '/media/alessandro/DATA/tesi/Nebbia/pre-processed_data/170619/video1_078/trigger_thr0.005_cl9_op3/cc_filtered_2den0.81_gausrad2.0/', list(['mean_170619-video1_078-001_opened_cc52.png']), array([  1.        , 168.05820098,   5.22130398,   3.        ,\n",
       "         1.59070154])),\n",
       "       (492, '/media/alessandro/DATA/tesi/Nebbia/pre-processed_data/170619/video1_080/trigger_thr0.005_cl9_op3/cc_filtered_2den0.81_gausrad2.0/', list(['mean_170619-video1_080-022_opened_cc03.png']), array([  1.        , 733.25182238,   8.20794426,   8.        ,\n",
       "         2.006313  ])),\n",
       "       (493, '/media/alessandro/DATA/tesi/Nebbia/pre-processed_data/170619/video1_080/trigger_thr0.005_cl9_op3/cc_filtered_2den0.81_gausrad2.0/', list(['mean_170619-video1_080-022_opened_cc19.png']), array([  1.        , 354.83753751,   5.83063674,   6.        ,\n",
       "         1.81065485])),\n",
       "       (494, '/media/alessandro/DATA/tesi/Nebbia/pre-processed_data/170619/video1_080/trigger_thr0.005_cl9_op3/cc_filtered_2den0.81_gausrad2.0/', list(['mean_170619-video1_080-022_opened_cc34.png']), array([  1.        , 366.54197288,   8.05247487,   5.        ,\n",
       "         2.04692212])),\n",
       "       (495, '/media/alessandro/DATA/tesi/Nebbia/pre-processed_data/170619/video1_080/trigger_thr0.005_cl9_op3/cc_filtered_2den0.81_gausrad2.0/', list(['mean_170619-video1_080-022_opened_cc57.png']), array([  1.        , 126.38893728,   7.68286318,   3.        ,\n",
       "         1.72312953])),\n",
       "       (496, '/media/alessandro/DATA/tesi/Nebbia/pre-processed_data/170619/video1_080/trigger_thr0.005_cl9_op3/cc_filtered_2den0.81_gausrad2.0/', list(['mean_170619-video1_080-028_opened_cc01.png']), array([  1.        , 214.46675608,   5.02805209,   3.        ,\n",
       "         1.83298225])),\n",
       "       (497, '/media/alessandro/DATA/tesi/Nebbia/pre-processed_data/170619/video1_080/trigger_thr0.005_cl9_op3/cc_filtered_2den0.81_gausrad2.0/', list(['mean_170619-video1_080-030_opened_cc02.png']), array([1.00000000e+00, 1.90930097e+03, 8.46499724e+00, 2.40000000e+01,\n",
       "       3.70696125e+00])),\n",
       "       (498, '/media/alessandro/DATA/tesi/Nebbia/pre-processed_data/170619/video1_080/trigger_thr0.005_cl9_op3/cc_filtered_2den0.81_gausrad2.0/', list(['mean_170619-video1_080-030_opened_cc06.png']), array([  1.        , 150.60019998,   3.10286208,   3.        ,\n",
       "         1.57354009])),\n",
       "       (499, '/media/alessandro/DATA/tesi/Nebbia/pre-processed_data/170619/video1_080/trigger_thr0.005_cl9_op3/cc_filtered_2den0.81_gausrad2.0/', list(['mean_170619-video1_080-030_opened_cc12.png']), array([  1.        , 927.60879355,   8.41060157,  12.        ,\n",
       "         2.37470879])),\n",
       "       (500, '/media/alessandro/DATA/tesi/Nebbia/pre-processed_data/170619/video1_080/trigger_thr0.005_cl9_op3/cc_filtered_2den0.81_gausrad2.0/', list(['mean_170619-video1_080-030_opened_cc18.png']), array([  1.        , 462.0728617 ,   9.90603521,   9.        ,\n",
       "         1.26874168])),\n",
       "       (501, '/media/alessandro/DATA/tesi/Nebbia/pre-processed_data/170619/video1_080/trigger_thr0.005_cl9_op3/cc_filtered_2den0.81_gausrad2.0/', list(['mean_170619-video1_080-030_opened_cc38.png']), array([  1.        , 885.63578412,   6.40050533,  13.        ,\n",
       "         2.42261093])),\n",
       "       (502, '/media/alessandro/DATA/tesi/Nebbia/pre-processed_data/170619/video1_080/trigger_thr0.005_cl9_op3/cc_filtered_2den0.81_gausrad2.0/', list(['mean_170619-video1_080-030_opened_cc67.png']), array([  1.        , 667.879147  ,   4.37387998,  12.        ,\n",
       "         2.44882708])),\n",
       "       (503, '/media/alessandro/DATA/tesi/Nebbia/pre-processed_data/170619/video1_080/trigger_thr0.005_cl9_op3/cc_filtered_2den0.81_gausrad2.0/', list(['mean_170619-video1_080-030_opened_cc73.png']), array([ 1.        , 79.69634169,  8.80712727,  2.        ,  1.37081875])),\n",
       "       (504, '/media/alessandro/DATA/tesi/Nebbia/pre-processed_data/170619/video1_080/trigger_thr0.005_cl9_op3/cc_filtered_2den0.81_gausrad2.0/', list(['mean_170619-video1_080-040_opened_cc01.png']), array([  1.        , 211.50833194,   5.60694734,   3.        ,\n",
       "         1.34970801])),\n",
       "       (505, '/media/alessandro/DATA/tesi/Nebbia/pre-processed_data/170619/video1_080/trigger_thr0.005_cl9_op3/cc_filtered_2den0.81_gausrad2.0/', list(['mean_170619-video1_080-040_opened_cc06.png']), array([  1.        , 202.14100714,   3.22532128,   3.        ,\n",
       "         1.49766954])),\n",
       "       (506, '/media/alessandro/DATA/tesi/Nebbia/pre-processed_data/170619/video1_080/trigger_thr0.005_cl9_op3/cc_filtered_2den0.81_gausrad2.0/', list(['mean_170619-video1_080-040_opened_cc14.png']), array([1.00000000e+00, 1.47889878e+03, 8.07754155e+00, 2.00000000e+01,\n",
       "       3.44826283e+00])),\n",
       "       (508, '/media/alessandro/DATA/tesi/Nebbia/pre-processed_data/170619/video1_080/trigger_thr0.005_cl9_op3/cc_filtered_2den0.81_gausrad2.0/', list(['mean_170619-video1_080-040_opened_cc45.png']), array([ 1.        , 81.06036912,  2.43763889,  2.        ,  2.66958108])),\n",
       "       (509, '/media/alessandro/DATA/tesi/Nebbia/pre-processed_data/170619/video1_080/trigger_thr0.005_cl9_op3/cc_filtered_2den0.81_gausrad2.0/', list(['mean_170619-video1_080-040_opened_cc62.png']), array([ 1.        , 75.02221491,  7.47778509,  1.        ,  1.74047194])),\n",
       "       (510, '/media/alessandro/DATA/tesi/Nebbia/pre-processed_data/170619/video1_080/trigger_thr0.005_cl9_op3/cc_filtered_2den0.81_gausrad2.0/', list(['mean_170619-video1_080-040_opened_cc84.png']), array([ 1.        , 82.19935731,  3.71179427,  2.        ,  1.81415315])),\n",
       "       (511, '/media/alessandro/DATA/tesi/Nebbia/pre-processed_data/170619/video1_080/trigger_thr0.005_cl9_op3/cc_filtered_2den0.81_gausrad2.0/', list(['mean_170619-video1_080-040_opened_cc92.png']), array([  1.        , 115.04185606,   3.13086023,   2.        ,\n",
       "         2.85383722])),\n",
       "       (512, '/media/alessandro/DATA/tesi/Nebbia/pre-processed_data/170619/video1_080/trigger_thr0.005_cl9_op3/cc_filtered_2den0.81_gausrad2.0/', list(['mean_170619-video1_080-042_opened_cc08.png']), array([1.00000000e+00, 1.99045460e+03, 7.33840589e+00, 3.20000000e+01,\n",
       "       3.75460578e+00])),\n",
       "       (513, '/media/alessandro/DATA/tesi/Nebbia/pre-processed_data/170619/video1_080/trigger_thr0.005_cl9_op3/cc_filtered_2den0.81_gausrad2.0/', list(['mean_170619-video1_080-042_opened_cc43.png']), array([  1.        , 106.34309105,   4.75485528,   2.        ,\n",
       "         1.54233847])),\n",
       "       (514, '/media/alessandro/DATA/tesi/Nebbia/pre-processed_data/170619/video1_080/trigger_thr0.005_cl9_op3/cc_filtered_2den0.81_gausrad2.0/', list(['mean_170619-video1_080-042_opened_cc50.png']), array([  1.        , 138.43073648,   8.43792116,   2.        ,\n",
       "         1.2969778 ])),\n",
       "       (515, '/media/alessandro/DATA/tesi/Nebbia/pre-processed_data/170619/video1_080/trigger_thr0.005_cl9_op3/cc_filtered_2den0.81_gausrad2.0/', list(['mean_170619-video1_080-042_opened_cc51.png']), array([ 1.        , 88.21171137,  5.34322802,  2.        ,  1.26992358])),\n",
       "       (516, '/media/alessandro/DATA/tesi/Nebbia/pre-processed_data/170619/video1_081/trigger_thr0.005_cl9_op3/cc_filtered_2den0.81_gausrad2.0/', list(['mean_170619-video1_081-018_opened_cc25.png']), array([  1.        , 100.13576074,   3.68715406,   2.        ,\n",
       "         2.10033942])),\n",
       "       (517, '/media/alessandro/DATA/tesi/Nebbia/pre-processed_data/170619/video1_081/trigger_thr0.005_cl9_op3/cc_filtered_2den0.81_gausrad2.0/', list(['mean_170619-video1_081-024_opened_cc02.png']), array([  1.        , 271.92648587,   6.06216529,   5.        ,\n",
       "         1.4817177 ])),\n",
       "       (518, '/media/alessandro/DATA/tesi/Nebbia/pre-processed_data/170619/video1_081/trigger_thr0.005_cl9_op3/cc_filtered_2den0.81_gausrad2.0/', list(['mean_170619-video1_081-024_opened_cc04.png']), array([ 1.        , 73.27489213, 14.64498747,  2.        ,  1.        ])),\n",
       "       (519, '/media/alessandro/DATA/tesi/Nebbia/pre-processed_data/170619/video1_081/trigger_thr0.005_cl9_op3/cc_filtered_2den0.81_gausrad2.0/', list(['mean_170619-video1_081-024_opened_cc12.png']), array([1.00000000e+00, 1.44322366e+03, 6.72980296e+00, 2.10000000e+01,\n",
       "       3.46966860e+00])),\n",
       "       (520, '/media/alessandro/DATA/tesi/Nebbia/pre-processed_data/170619/video1_081/trigger_thr0.005_cl9_op3/cc_filtered_2den0.81_gausrad2.0/', list(['mean_170619-video1_081-024_opened_cc16.png']), array([  1.        , 486.88878832,   6.71651794,   6.        ,\n",
       "         1.38906558])),\n",
       "       (521, '/media/alessandro/DATA/tesi/Nebbia/pre-processed_data/170619/video1_081/trigger_thr0.005_cl9_op3/cc_filtered_2den0.81_gausrad2.0/', list(['mean_170619-video1_081-038_opened_cc03.png']), array([ 1.        , 79.79346534, 10.23922814,  2.        ,  1.        ])),\n",
       "       (522, '/media/alessandro/DATA/tesi/Nebbia/pre-processed_data/170619/video1_081/trigger_thr0.005_cl9_op3/cc_filtered_2den0.81_gausrad2.0/', list(['mean_170619-video1_081-038_opened_cc17.png']), array([  1.        , 112.97823276,   5.30717949,   2.        ,\n",
       "         1.376147  ])),\n",
       "       (523, '/media/alessandro/DATA/tesi/Nebbia/pre-processed_data/170619/video1_081/trigger_thr0.005_cl9_op3/cc_filtered_2den0.81_gausrad2.0/', list(['mean_170619-video1_081-038_opened_cc21.png']), array([  1.        , 726.25273437,   6.66691487,  10.        ,\n",
       "         2.16142818])),\n",
       "       (524, '/media/alessandro/DATA/tesi/Nebbia/pre-processed_data/170619/video1_081/trigger_thr0.005_cl9_op3/cc_filtered_2den0.81_gausrad2.0/', list(['mean_170619-video1_081-038_opened_cc22.png']), array([  1.        , 135.39250683,   2.508244  ,   3.        ,\n",
       "         2.58042668])),\n",
       "       (525, '/media/alessandro/DATA/tesi/Nebbia/pre-processed_data/170619/video1_081/trigger_thr0.005_cl9_op3/cc_filtered_2den0.81_gausrad2.0/', list(['mean_170619-video1_081-038_opened_cc41.png']), array([ 1.        , 98.79736546,  7.70263454,  1.        ,  1.46434779])),\n",
       "       (526, '/media/alessandro/DATA/tesi/Nebbia/pre-processed_data/170619/video1_081/trigger_thr0.005_cl9_op3/cc_filtered_2den0.81_gausrad2.0/', list(['mean_170619-video1_081-038_opened_cc47.png']), array([  1.        , 499.14306101,   6.40323986,   9.        ,\n",
       "         2.10503977])),\n",
       "       (527, '/media/alessandro/DATA/tesi/Nebbia/pre-processed_data/170619/video1_082/trigger_thr0.005_cl9_op3/cc_filtered_2den0.81_gausrad2.0/', list(['mean_170619-video1_082-003_opened_cc02.png']), array([ 1.        , 34.55868846,  8.94131154,  1.        ,  1.53784145])),\n",
       "       (528, '/media/alessandro/DATA/tesi/Nebbia/pre-processed_data/170619/video1_082/trigger_thr0.005_cl9_op3/cc_filtered_2den0.81_gausrad2.0/', list(['mean_170619-video1_082-003_opened_cc40.png']), array([  1.        , 251.9713035 ,   4.54170808,   4.        ,\n",
       "         2.00425895])),\n",
       "       (529, '/media/alessandro/DATA/tesi/Nebbia/pre-processed_data/170619/video1_082/trigger_thr0.005_cl9_op3/cc_filtered_2den0.81_gausrad2.0/', list(['mean_170619-video1_082-004_opened_cc23.png']), array([  1.        , 322.2393254 ,   5.24554679,   5.        ,\n",
       "         1.98065928])),\n",
       "       (530, '/media/alessandro/DATA/tesi/Nebbia/pre-processed_data/170619/video1_082/trigger_thr0.005_cl9_op3/cc_filtered_2den0.81_gausrad2.0/', list(['mean_170619-video1_082-004_opened_cc34.png']), array([1.00000000e+00, 1.40847067e+03, 5.86184547e+00, 2.10000000e+01,\n",
       "       4.06548113e+00])),\n",
       "       (531, '/media/alessandro/DATA/tesi/Nebbia/pre-processed_data/170619/video1_082/trigger_thr0.005_cl9_op3/cc_filtered_2den0.81_gausrad2.0/', list(['mean_170619-video1_082-004_opened_cc42.png']), array([  1.        , 686.64527899,   7.35988097,  12.        ,\n",
       "         1.80761232])),\n",
       "       (532, '/media/alessandro/DATA/tesi/Nebbia/pre-processed_data/170619/video1_082/trigger_thr0.005_cl9_op3/cc_filtered_2den0.81_gausrad2.0/', list(['mean_170619-video1_082-004_opened_cc68.png']), array([ 1.        , 33.86377775,  4.63622225,  1.        ,  1.80238703])),\n",
       "       (533, '/media/alessandro/DATA/tesi/Nebbia/pre-processed_data/170619/video1_082/trigger_thr0.005_cl9_op3/cc_filtered_2den0.81_gausrad2.0/', list(['mean_170619-video1_082-008_opened_cc01.png']), array([  1.        , 297.7762844 ,   6.670642  ,   4.        ,\n",
       "         1.88352862])),\n",
       "       (534, '/media/alessandro/DATA/tesi/Nebbia/pre-processed_data/170619/video1_082/trigger_thr0.005_cl9_op3/cc_filtered_2den0.81_gausrad2.0/', list(['mean_170619-video1_082-008_opened_cc06.png']), array([ 1.        , 45.43817723,  5.06182277,  1.        ,  2.04643258])),\n",
       "       (535, '/media/alessandro/DATA/tesi/Nebbia/pre-processed_data/170619/video1_082/trigger_thr0.005_cl9_op3/cc_filtered_2den0.81_gausrad2.0/', list(['mean_170619-video1_082-008_opened_cc07.png']), array([  1.        , 420.95436059,   4.55895647,   6.        ,\n",
       "         2.68303459])),\n",
       "       (536, '/media/alessandro/DATA/tesi/Nebbia/pre-processed_data/170619/video1_082/trigger_thr0.005_cl9_op3/cc_filtered_2den0.81_gausrad2.0/', list(['mean_170619-video1_082-008_opened_cc09.png']), array([  1.        , 173.47716953,   3.84090001,   4.        ,\n",
       "         1.85848248])),\n",
       "       (537, '/media/alessandro/DATA/tesi/Nebbia/pre-processed_data/170619/video1_082/trigger_thr0.005_cl9_op3/cc_filtered_2den0.81_gausrad2.0/', list(['mean_170619-video1_082-008_opened_cc14.png']), array([  1.        , 541.28293146,   7.63613017,   7.        ,\n",
       "         2.41094622])),\n",
       "       (538, '/media/alessandro/DATA/tesi/Nebbia/pre-processed_data/170619/video1_082/trigger_thr0.005_cl9_op3/cc_filtered_2den0.81_gausrad2.0/', list(['mean_170619-video1_082-008_opened_cc63.png']), array([  1.        , 145.19805573,   4.52117826,   3.        ,\n",
       "         2.23381624])),\n",
       "       (539, '/media/alessandro/DATA/tesi/Nebbia/pre-processed_data/170619/video1_082/trigger_thr0.005_cl9_op3/cc_filtered_2den0.81_gausrad2.0/', list(['mean_170619-video1_082-008_opened_cc71.png']), array([ 1.        , 89.58203986,  1.86744756,  2.        ,  1.7534795 ])),\n",
       "       (540, '/media/alessandro/DATA/tesi/Nebbia/pre-processed_data/170619/video1_082/trigger_thr0.005_cl9_op3/cc_filtered_2den0.81_gausrad2.0/', list(['mean_170619-video1_082-008_opened_cc89.png']), array([  1.        , 195.56005207,   3.81553614,   4.        ,\n",
       "         1.73504164])),\n",
       "       (541, '/media/alessandro/DATA/tesi/Nebbia/pre-processed_data/170619/video1_082/trigger_thr0.005_cl9_op3/cc_filtered_2den0.81_gausrad2.0/', list(['mean_170619-video1_082-009_opened_cc03.png']), array([  1.        , 319.47695947,   5.35659408,   4.        ,\n",
       "         2.38355914])),\n",
       "       (542, '/media/alessandro/DATA/tesi/Nebbia/pre-processed_data/170619/video1_082/trigger_thr0.005_cl9_op3/cc_filtered_2den0.81_gausrad2.0/', list(['mean_170619-video1_082-009_opened_cc06.png']), array([  1.        , 442.49877551,   6.38163315,   7.        ,\n",
       "         1.87464143])),\n",
       "       (543, '/media/alessandro/DATA/tesi/Nebbia/pre-processed_data/170619/video1_082/trigger_thr0.005_cl9_op3/cc_filtered_2den0.81_gausrad2.0/', list(['mean_170619-video1_082-009_opened_cc21.png']), array([  1.        , 347.48850847,   6.80052702,   7.        ,\n",
       "         2.34853873])),\n",
       "       (544, '/media/alessandro/DATA/tesi/Nebbia/pre-processed_data/170619/video1_082/trigger_thr0.005_cl9_op3/cc_filtered_2den0.81_gausrad2.0/', list(['mean_170619-video1_082-009_opened_cc38.png']), array([  1.        , 108.56359317,   9.57059809,   3.        ,\n",
       "         1.55265223])),\n",
       "       (545, '/media/alessandro/DATA/tesi/Nebbia/pre-processed_data/170619/video1_082/trigger_thr0.005_cl9_op3/cc_filtered_2den0.81_gausrad2.0/', list(['mean_170619-video1_082-004_opened_cc39.png']), array([  1.        , 833.01879014,   6.7206847 ,  11.        ,\n",
       "         3.14132072])),\n",
       "       (546, '/media/alessandro/DATA/tesi/Nebbia/pre-processed_data/170619/video1_082/trigger_thr0.005_cl9_op3/cc_filtered_2den0.81_gausrad2.0/', list(['mean_170619-video1_082-018_opened_cc13.png']), array([ 1.        , 86.70237282,  4.16624473,  2.        ,  2.00820493])),\n",
       "       (547, '/media/alessandro/DATA/tesi/Nebbia/pre-processed_data/170619/video1_082/trigger_thr0.005_cl9_op3/cc_filtered_2den0.81_gausrad2.0/', list(['mean_170619-video1_082-020_opened_cc42.png']), array([  1.        , 131.60219139,   8.55808561,   2.        ,\n",
       "         1.16171347])),\n",
       "       (548, '/media/alessandro/DATA/tesi/Nebbia/pre-processed_data/170619/video1_082/trigger_thr0.005_cl9_op3/cc_filtered_2den0.81_gausrad2.0/', list(['mean_170619-video1_082-009_opened_cc54.png']), array([ 1.        , 81.82599017, 12.58986252,  2.        ,  1.77840569])),\n",
       "       (549, '/media/alessandro/DATA/tesi/Nebbia/pre-processed_data/170619/video1_082/trigger_thr0.005_cl9_op3/cc_filtered_2den0.81_gausrad2.0/', list(['mean_170619-video1_082-009_opened_cc68.png']), array([  1.        , 258.68878821,   4.86106367,   4.        ,\n",
       "         1.70629985])),\n",
       "       (550, '/media/alessandro/DATA/tesi/Nebbia/pre-processed_data/170619/video1_082/trigger_thr0.005_cl9_op3/cc_filtered_2den0.81_gausrad2.0/', list(['mean_170619-video1_082-009_opened_cc69.png']), array([  1.        , 229.82936421,  10.09675733,   5.        ,\n",
       "         1.8650828 ])),\n",
       "       (551, '/media/alessandro/DATA/tesi/Nebbia/pre-processed_data/170619/video1_082/trigger_thr0.005_cl9_op3/cc_filtered_2den0.81_gausrad2.0/', list(['mean_170619-video1_082-009_opened_cc74.png']), array([ 1.        , 69.22865113,  7.77134887,  1.        ,  1.45720311])),\n",
       "       (552, '/media/alessandro/DATA/tesi/Nebbia/pre-processed_data/170619/video1_082/trigger_thr0.005_cl9_op3/cc_filtered_2den0.81_gausrad2.0/', list(['mean_170619-video1_082-009_opened_cc79.png']), array([  1.        , 203.30563703,   3.65722214,   3.        ,\n",
       "         1.95224645])),\n",
       "       (553, '/media/alessandro/DATA/tesi/Nebbia/pre-processed_data/170619/video1_082/trigger_thr0.005_cl9_op3/cc_filtered_2den0.81_gausrad2.0/', list(['mean_170619-video1_082-009_opened_cc91.png']), array([  1.        , 162.56191476,   5.3093756 ,   4.        ,\n",
       "         1.43584868])),\n",
       "       (554, '/media/alessandro/DATA/tesi/Nebbia/pre-processed_data/170619/video1_082/trigger_thr0.005_cl9_op3/cc_filtered_2den0.81_gausrad2.0/', list(['mean_170619-video1_082-018_opened_cc02.png']), array([1.00000000e+00, 1.50020298e+03, 8.34957120e+00, 1.90000000e+01,\n",
       "       3.74559458e+00])),\n",
       "       (555, '/media/alessandro/DATA/tesi/Nebbia/pre-processed_data/170619/video1_082/trigger_thr0.005_cl9_op3/cc_filtered_2den0.81_gausrad2.0/', list(['mean_170619-video1_082-018_opened_cc04.png']), array([  1.        , 212.64436667,   2.03561192,   5.        ,\n",
       "         2.17289699])),\n",
       "       (556, '/media/alessandro/DATA/tesi/Nebbia/pre-processed_data/170619/video1_082/trigger_thr0.005_cl9_op3/cc_filtered_2den0.81_gausrad2.0/', list(['mean_170619-video1_082-018_opened_cc08.png']), array([  1.        , 141.4966841 ,   8.01982533,   3.        ,\n",
       "         1.64132057])),\n",
       "       (557, '/media/alessandro/DATA/tesi/Nebbia/pre-processed_data/170619/video1_082/trigger_thr0.005_cl9_op3/cc_filtered_2den0.81_gausrad2.0/', list(['mean_170619-video1_082-018_opened_cc11.png']), array([  1.        , 550.08604538,   6.97428582,  13.        ,\n",
       "         2.26234973])),\n",
       "       (558, '/media/alessandro/DATA/tesi/Nebbia/pre-processed_data/170619/video1_082/trigger_thr0.005_cl9_op3/cc_filtered_2den0.81_gausrad2.0/', list(['mean_170619-video1_082-018_opened_cc21.png']), array([  1.        , 153.21127028,  10.57474235,   3.        ,\n",
       "         1.66671889])),\n",
       "       (559, '/media/alessandro/DATA/tesi/Nebbia/pre-processed_data/170619/video1_082/trigger_thr0.005_cl9_op3/cc_filtered_2den0.81_gausrad2.0/', list(['mean_170619-video1_082-018_opened_cc33.png']), array([  1.        , 226.81772828,   3.53513102,   5.        ,\n",
       "         3.22156974])),\n",
       "       (560, '/media/alessandro/DATA/tesi/Nebbia/pre-processed_data/170619/video1_082/trigger_thr0.005_cl9_op3/cc_filtered_2den0.81_gausrad2.0/', list(['mean_170619-video1_082-020_opened_cc58.png']), array([  1.        , 134.24121439,   3.03319625,   2.        ,\n",
       "         2.23704289])),\n",
       "       (561, '/media/alessandro/DATA/tesi/Nebbia/pre-processed_data/170619/video1_082/trigger_thr0.005_cl9_op3/cc_filtered_2den0.81_gausrad2.0/', list(['mean_170619-video1_082-021_opened_cc18.png']), array([  1.        , 231.38946843,   7.13115717,   2.        ,\n",
       "         3.65858873])),\n",
       "       (562, '/media/alessandro/DATA/tesi/Nebbia/pre-processed_data/170619/video1_082/trigger_thr0.005_cl9_op3/cc_filtered_2den0.81_gausrad2.0/', list(['mean_170619-video1_082-021_opened_cc19.png']), array([1.00000000e+00, 1.00044023e+03, 4.98123104e+00, 2.00000000e+01,\n",
       "       2.89938831e+00])),\n",
       "       (563, '/media/alessandro/DATA/tesi/Nebbia/pre-processed_data/170619/video1_082/trigger_thr0.005_cl9_op3/cc_filtered_2den0.81_gausrad2.0/', list(['mean_170619-video1_082-021_opened_cc25.png']), array([  1.        , 227.25153855,   6.10443628,   5.        ,\n",
       "         1.51025207])),\n",
       "       (564, '/media/alessandro/DATA/tesi/Nebbia/pre-processed_data/170619/video1_082/trigger_thr0.005_cl9_op3/cc_filtered_2den0.81_gausrad2.0/', list(['mean_170619-video1_082-021_opened_cc37.png']), array([  1.        , 567.16189587,   6.58005693,  10.        ,\n",
       "         1.57396268])),\n",
       "       (565, '/media/alessandro/DATA/tesi/Nebbia/pre-processed_data/170619/video1_082/trigger_thr0.005_cl9_op3/cc_filtered_2den0.81_gausrad2.0/', list(['mean_170619-video1_082-021_opened_cc41.png']), array([  1.        , 749.73813622,   5.97771117,  13.        ,\n",
       "         2.99490617])),\n",
       "       (566, '/media/alessandro/DATA/tesi/Nebbia/pre-processed_data/170619/video1_082/trigger_thr0.005_cl9_op3/cc_filtered_2den0.81_gausrad2.0/', list(['mean_170619-video1_082-021_opened_cc78.png']), array([ 1.        , 95.61127834,  8.94748454,  2.        ,  1.44057598])),\n",
       "       (567, '/media/alessandro/DATA/tesi/Nebbia/pre-processed_data/170619/video1_082/trigger_thr0.005_cl9_op3/cc_filtered_2den0.81_gausrad2.0/', list(['mean_170619-video1_082-026_opened_cc17.png']), array([  1.        , 726.04964752,   6.91534746,  12.        ,\n",
       "         1.61498761])),\n",
       "       (568, '/media/alessandro/DATA/tesi/Nebbia/pre-processed_data/170619/video1_082/trigger_thr0.005_cl9_op3/cc_filtered_2den0.81_gausrad2.0/', list(['mean_170619-video1_082-026_opened_cc25.png']), array([  1.        , 349.90883964,   9.0261445 ,   5.        ,\n",
       "         1.69467749])),\n",
       "       (570, '/media/alessandro/DATA/tesi/Nebbia/pre-processed_data/170619/video1_084/trigger_thr0.005_cl9_op3/cc_filtered_2den0.81_gausrad2.0/', list(['mean_170619-video1_084-018_opened_cc11.png']), array([  1.        , 361.61848485,  11.04002261,   3.        ,\n",
       "         2.09956075])),\n",
       "       (571, '/media/alessandro/DATA/tesi/Nebbia/pre-processed_data/170619/video1_084/trigger_thr0.005_cl9_op3/cc_filtered_2den0.81_gausrad2.0/', list(['mean_170619-video1_084-014_opened_cc01.png']), array([1.00000000e+00, 1.78341962e+03, 6.98672909e+00, 2.20000000e+01,\n",
       "       3.45592159e+00])),\n",
       "       (572, '/media/alessandro/DATA/tesi/Nebbia/pre-processed_data/170619/video1_084/trigger_thr0.005_cl9_op3/cc_filtered_2den0.81_gausrad2.0/', list(['mean_170619-video1_084-014_opened_cc31.png']), array([  1.        , 174.47553471,   4.82497106,   4.        ,\n",
       "         1.64241823])),\n",
       "       (573, '/media/alessandro/DATA/tesi/Nebbia/pre-processed_data/170619/video1_084/trigger_thr0.005_cl9_op3/cc_filtered_2den0.81_gausrad2.0/', list(['mean_170619-video1_084-014_opened_cc34.png']), array([  1.        , 425.6914841 ,   6.31356711,   7.        ,\n",
       "         1.91162318])),\n",
       "       (574, '/media/alessandro/DATA/tesi/Nebbia/pre-processed_data/170619/video1_084/trigger_thr0.005_cl9_op3/cc_filtered_2den0.81_gausrad2.0/', list(['mean_170619-video1_084-014_opened_cc35.png']), array([  1.        , 114.99099026,   4.00900974,   1.        ,\n",
       "         1.82433475])),\n",
       "       (575, '/media/alessandro/DATA/tesi/Nebbia/pre-processed_data/170619/video1_084/trigger_thr0.005_cl9_op3/cc_filtered_2den0.81_gausrad2.0/', list(['mean_170619-video1_084-018_opened_cc07.png']), array([ 1.        , 77.75327576,  2.39859409,  2.        ,  2.92008556])),\n",
       "       (576, '/media/alessandro/DATA/tesi/Nebbia/pre-processed_data/170619/video1_084/trigger_thr0.005_cl9_op3/cc_filtered_2den0.81_gausrad2.0/', list(['mean_170619-video1_084-038_opened_cc10.png']), array([  1.        , 725.95134935,  12.43713268,  13.        ,\n",
       "         2.60195945])),\n",
       "       (577, '/media/alessandro/DATA/tesi/Nebbia/pre-processed_data/170619/video1_084/trigger_thr0.005_cl9_op3/cc_filtered_2den0.81_gausrad2.0/', list(['mean_170619-video1_084-038_opened_cc11.png']), array([  1.        , 308.9290996 ,   7.33686855,   5.        ,\n",
       "         1.27092581])),\n",
       "       (578, '/media/alessandro/DATA/tesi/Nebbia/pre-processed_data/170619/video1_084/trigger_thr0.005_cl9_op3/cc_filtered_2den0.81_gausrad2.0/', list(['mean_170619-video1_084-038_opened_cc18.png']), array([  1.        , 138.11023001,   4.0632421 ,   2.        ,\n",
       "         2.2425102 ])),\n",
       "       (579, '/media/alessandro/DATA/tesi/Nebbia/pre-processed_data/170619/video1_084/trigger_thr0.005_cl9_op3/cc_filtered_2den0.81_gausrad2.0/', list(['mean_170619-video1_084-038_opened_cc40.png']), array([  1.        , 256.51320266,   3.51215791,   5.        ,\n",
       "         1.57667055])),\n",
       "       (580, '/media/alessandro/DATA/tesi/Nebbia/pre-processed_data/170619/video1_084/trigger_thr0.005_cl9_op3/cc_filtered_2den0.81_gausrad2.0/', list(['mean_170619-video1_084-038_opened_cc57.png']), array([  1.        , 255.329056  ,   7.08433244,   5.        ,\n",
       "         2.00296591])),\n",
       "       (581, '/media/alessandro/DATA/tesi/Nebbia/pre-processed_data/170619/video1_084/trigger_thr0.005_cl9_op3/cc_filtered_2den0.81_gausrad2.0/', list(['mean_170619-video1_084-038_opened_cc68.png']), array([ 1.        , 86.91664037,  6.76603883,  2.        ,  1.16303114])),\n",
       "       (582, '/media/alessandro/DATA/tesi/Nebbia/pre-processed_data/170619/video1_084/trigger_thr0.005_cl9_op3/cc_filtered_2den0.81_gausrad2.0/', list(['mean_170619-video1_084-038_opened_cc80.png']), array([  1.        , 155.52904761,   4.7601898 ,   3.        ,\n",
       "         1.65522011])),\n",
       "       (583, '/media/alessandro/DATA/tesi/Nebbia/pre-processed_data/170619/video1_085/trigger_thr0.005_cl9_op3/cc_filtered_2den0.81_gausrad2.0/', list(['mean_170619-video1_085-038_opened_cc02.png']), array([ 1.        , 71.14386508, 12.93907848,  2.        ,  1.        ])),\n",
       "       (584, '/media/alessandro/DATA/tesi/Nebbia/pre-processed_data/170619/video1_091/trigger_thr0.005_cl9_op3/cc_filtered_2den0.81_gausrad2.0/', list(['mean_170619-video1_091-040_opened_cc02.png']), array([  1.        , 173.02430676,   3.85513847,   3.        ,\n",
       "         1.67034914])),\n",
       "       (585, '/media/alessandro/DATA/tesi/Nebbia/pre-processed_data/170619/video1_096/trigger_thr0.005_cl9_op3/cc_filtered_2den0.81_gausrad2.0/', list(['mean_170619-video1_096-022_opened_cc05.png']), array([  1.        , 105.25368176,   6.29100626,   2.        ,\n",
       "         1.23767919])),\n",
       "       (586, '/media/alessandro/DATA/tesi/Nebbia/pre-processed_data/170619/video1_096/trigger_thr0.005_cl9_op3/cc_filtered_2den0.81_gausrad2.0/', list(['mean_170619-video1_096-040_opened_cc05.png']), array([ 1.        , 90.2948293 ,  5.2051707 ,  1.        ,  1.94599117])),\n",
       "       (587, '/media/alessandro/DATA/tesi/Nebbia/pre-processed_data/170619/video1_096/trigger_thr0.005_cl9_op3/cc_filtered_2den0.81_gausrad2.0/', list(['mean_170619-video1_096-040_opened_cc15.png']), array([  1.        , 180.36142815,   7.25781504,   4.        ,\n",
       "         1.92825496])),\n",
       "       (588, '/media/alessandro/DATA/tesi/Nebbia/pre-processed_data/170619/video1_019/trigger_thr0.005_cl9_op3/cc_filtered_2den0.81_gausrad2.0/', list(['mean_170619-video1_019-013_opened_cc17.png']), array([  1.        , 146.87191971,   9.64719735,   2.        ,\n",
       "         1.05630454])),\n",
       "       (589, '/media/alessandro/DATA/tesi/Nebbia/pre-processed_data/170619/video1_019/trigger_thr0.005_cl9_op3/cc_filtered_2den0.81_gausrad2.0/', list(['mean_170619-video1_019-013_opened_cc34.png']), array([  1.        , 210.40015111,   7.26008261,   3.        ,\n",
       "         1.86538445])),\n",
       "       (590, '/media/alessandro/DATA/tesi/Nebbia/pre-processed_data/170619/video1_019/trigger_thr0.005_cl9_op3/cc_filtered_2den0.81_gausrad2.0/', list(['mean_170619-video1_019-014_opened_cc06.png']), array([1.00000000e+00, 1.24851047e+03, 1.31270579e+01, 1.30000000e+01,\n",
       "       2.57322575e+00])),\n",
       "       (591, '/media/alessandro/DATA/tesi/Nebbia/pre-processed_data/170619/video1_019/trigger_thr0.005_cl9_op3/cc_filtered_2den0.81_gausrad2.0/', list(['mean_170619-video1_019-014_opened_cc37.png']), array([  1.        , 163.27904517,   5.68180296,   2.        ,\n",
       "         3.26688792])),\n",
       "       (592, '/media/alessandro/DATA/tesi/Nebbia/pre-processed_data/170619/video1_019/trigger_thr0.005_cl9_op3/cc_filtered_2den0.81_gausrad2.0/', list(['mean_170619-video1_019-014_opened_cc48.png']), array([  1.        , 313.13772852,   4.22653961,   6.        ,\n",
       "         1.91691031])),\n",
       "       (593, '/media/alessandro/DATA/tesi/Nebbia/pre-processed_data/170619/video1_019/trigger_thr0.005_cl9_op3/cc_filtered_2den0.81_gausrad2.0/', list(['mean_170619-video1_019-017_opened_cc08.png']), array([  1.        , 106.03886079,   6.04058506,   2.        ,\n",
       "         1.34930898])),\n",
       "       (594, '/media/alessandro/DATA/tesi/Nebbia/pre-processed_data/170619/video1_019/trigger_thr0.005_cl9_op3/cc_filtered_2den0.81_gausrad2.0/', list(['mean_170619-video1_019-017_opened_cc24.png']), array([  1.        , 176.85697601,  11.82499127,   2.        ,\n",
       "         1.39621511])),\n",
       "       (595, '/media/alessandro/DATA/tesi/Nebbia/pre-processed_data/170619/video1_019/trigger_thr0.005_cl9_op3/cc_filtered_2den0.81_gausrad2.0/', list(['mean_170619-video1_019-017_opened_cc31.png']), array([  1.        , 333.39564299,   7.90283394,   3.        ,\n",
       "         1.71530139])),\n",
       "       (596, '/media/alessandro/DATA/tesi/Nebbia/pre-processed_data/170619/video1_019/trigger_thr0.005_cl9_op3/cc_filtered_2den0.81_gausrad2.0/', list(['mean_170619-video1_019-019_opened_cc43.png']), array([  1.        , 451.93341044,   8.3440905 ,   8.        ,\n",
       "         2.23455763])),\n",
       "       (597, '/media/alessandro/DATA/tesi/Nebbia/pre-processed_data/170619/video1_019/trigger_thr0.005_cl9_op3/cc_filtered_2den0.81_gausrad2.0/', list(['mean_170619-video1_019-029_opened_cc16.png']), array([  1.        , 312.52688755,  10.42892592,   5.        ,\n",
       "         1.36287633])),\n",
       "       (598, '/media/alessandro/DATA/tesi/Nebbia/pre-processed_data/170619/video1_019/trigger_thr0.005_cl9_op3/cc_filtered_2den0.81_gausrad2.0/', list(['mean_170619-video1_019-029_opened_cc31.png']), array([  1.        , 197.66047535,   6.19668569,   5.        ,\n",
       "         1.53748074])),\n",
       "       (599, '/media/alessandro/DATA/tesi/Nebbia/pre-processed_data/170619/video1_019/trigger_thr0.005_cl9_op3/cc_filtered_2den0.81_gausrad2.0/', list(['mean_170619-video1_019-043_opened_cc06.png']), array([  1.        , 129.7031499 ,   9.29843788,   4.        ,\n",
       "         1.2216591 ])),\n",
       "       (600, '/media/alessandro/DATA/tesi/Nebbia/pre-processed_data/170619/video1_019/trigger_thr0.005_cl9_op3/cc_filtered_2den0.81_gausrad2.0/', list(['mean_170619-video1_019-043_opened_cc11.png']), array([  1.        , 517.85071948,   3.70768835,   8.        ,\n",
       "         2.03542514])),\n",
       "       (601, '/media/alessandro/DATA/tesi/Nebbia/pre-processed_data/170619/video1_019/trigger_thr0.005_cl9_op3/cc_filtered_2den0.81_gausrad2.0/', list(['mean_170619-video1_019-043_opened_cc12.png']), array([  1.        , 124.97070412,   5.52929588,   1.        ,\n",
       "         1.5052342 ])),\n",
       "       (602, '/media/alessandro/DATA/tesi/Nebbia/pre-processed_data/170619/video1_019/trigger_thr0.005_cl9_op3/cc_filtered_2den0.81_gausrad2.0/', list(['mean_170619-video1_019-019_opened_cc06.png']), array([  1.        , 149.10507356,   4.73737211,   3.        ,\n",
       "         1.22729578])),\n",
       "       (603, '/media/alessandro/DATA/tesi/Nebbia/pre-processed_data/170619/video1_039/trigger_thr0.005_cl9_op3/cc_filtered_2den0.81_gausrad2.0/', list(['mean_170619-video1_039-001_opened_cc14.png', 'mean_170619-video1_039-002_opened_cc10.png', 'mean_170619-video1_039-003_opened_cc06.png']), array([  3.        , 124.67156032,  14.66177301,   1.        ,\n",
       "         1.        ])),\n",
       "       (604, '/media/alessandro/DATA/tesi/Nebbia/pre-processed_data/170619/video1_059/trigger_thr0.005_cl9_op3/cc_filtered_2den0.81_gausrad2.0/', list(['mean_170619-video1_059-026_opened_cc04.png']), array([  1.        , 124.56433078,   7.85945589,   3.        ,\n",
       "         1.38030422])),\n",
       "       (605, '/media/alessandro/DATA/tesi/Nebbia/pre-processed_data/170619/video1_079/trigger_thr0.005_cl9_op3/cc_filtered_2den0.81_gausrad2.0/', list(['mean_170619-video1_079-002_opened_cc40.png']), array([  1.        , 212.05276695,   0.88285529,   3.        ,\n",
       "         2.37304778])),\n",
       "       (606, '/media/alessandro/DATA/tesi/Nebbia/pre-processed_data/170619/video1_079/trigger_thr0.005_cl9_op3/cc_filtered_2den0.81_gausrad2.0/', list(['mean_170619-video1_079-002_opened_cc43.png']), array([  1.        , 217.22163091,   9.75800205,   4.        ,\n",
       "         1.61223693])),\n",
       "       (607, '/media/alessandro/DATA/tesi/Nebbia/pre-processed_data/170619/video1_079/trigger_thr0.005_cl9_op3/cc_filtered_2den0.81_gausrad2.0/', list(['mean_170619-video1_079-002_opened_cc50.png']), array([  1.        , 163.63336074,   6.73681135,   3.        ,\n",
       "         1.74811591])),\n",
       "       (608, '/media/alessandro/DATA/tesi/Nebbia/pre-processed_data/170619/video1_079/trigger_thr0.005_cl9_op3/cc_filtered_2den0.81_gausrad2.0/', list(['mean_170619-video1_079-002_opened_cc66.png']), array([ 1.        , 63.81610303,  4.18389697,  1.        ,  2.63847113])),\n",
       "       (609, '/media/alessandro/DATA/tesi/Nebbia/pre-processed_data/170619/video1_079/trigger_thr0.005_cl9_op3/cc_filtered_2den0.81_gausrad2.0/', list(['mean_170619-video1_079-010_opened_cc54.png']), array([  1.        , 254.79975607,   3.32882986,   5.        ,\n",
       "         2.13268229])),\n",
       "       (610, '/media/alessandro/DATA/tesi/Nebbia/pre-processed_data/170619/video1_079/trigger_thr0.005_cl9_op3/cc_filtered_2den0.81_gausrad2.0/', list(['mean_170619-video1_079-017_opened_cc22.png']), array([ 1.        , 95.57426744,  4.45657639,  2.        ,  1.48235071])),\n",
       "       (611, '/media/alessandro/DATA/tesi/Nebbia/pre-processed_data/170619/video1_079/trigger_thr0.005_cl9_op3/cc_filtered_2den0.81_gausrad2.0/', list(['mean_170619-video1_079-017_opened_cc57.png']), array([  1.        , 167.9023123 ,   2.70209671,   2.        ,\n",
       "         2.2974464 ])),\n",
       "       (612, '/media/alessandro/DATA/tesi/Nebbia/pre-processed_data/170619/video1_079/trigger_thr0.005_cl9_op3/cc_filtered_2den0.81_gausrad2.0/', list(['mean_170619-video1_079-017_opened_cc64.png']), array([  1.        , 153.52830426,   1.81325653,   2.        ,\n",
       "         4.68693135])),\n",
       "       (613, '/media/alessandro/DATA/tesi/Nebbia/pre-processed_data/170619/video1_079/trigger_thr0.005_cl9_op3/cc_filtered_2den0.81_gausrad2.0/', list(['mean_170619-video1_079-023_opened_cc20.png']), array([  1.        , 177.31075768,   5.56595102,   3.        ,\n",
       "         1.50997132])),\n",
       "       (614, '/media/alessandro/DATA/tesi/Nebbia/pre-processed_data/170619/video1_079/trigger_thr0.005_cl9_op3/cc_filtered_2den0.81_gausrad2.0/', list(['mean_170619-video1_079-024_opened_cc08.png']), array([  1.        , 145.20968509,   4.06225624,   3.        ,\n",
       "         1.76612824])),\n",
       "       (615, '/media/alessandro/DATA/tesi/Nebbia/pre-processed_data/170619/video1_079/trigger_thr0.005_cl9_op3/cc_filtered_2den0.81_gausrad2.0/', list(['mean_170619-video1_079-024_opened_cc32.png']), array([ 1.        , 68.49615362,  3.50384638,  1.        ,  2.83196741])),\n",
       "       (616, '/media/alessandro/DATA/tesi/Nebbia/pre-processed_data/170619/video1_079/trigger_thr0.005_cl9_op3/cc_filtered_2den0.81_gausrad2.0/', list(['mean_170619-video1_079-024_opened_cc38.png']), array([  1.        , 311.29485219,   4.12539309,   5.        ,\n",
       "         1.77740637])),\n",
       "       (617, '/media/alessandro/DATA/tesi/Nebbia/pre-processed_data/170619/video1_079/trigger_thr0.005_cl9_op3/cc_filtered_2den0.81_gausrad2.0/', list(['mean_170619-video1_079-024_opened_cc44.png']), array([  1.        , 227.31701821,   5.35567621,   4.        ,\n",
       "         2.24791071])),\n",
       "       (618, '/media/alessandro/DATA/tesi/Nebbia/pre-processed_data/170619/video1_079/trigger_thr0.005_cl9_op3/cc_filtered_2den0.81_gausrad2.0/', list(['mean_170619-video1_079-024_opened_cc65.png']), array([ 1.        , 98.88997687,  8.11002313,  1.        ,  1.42839579])),\n",
       "       (619, '/media/alessandro/DATA/tesi/Nebbia/pre-processed_data/170619/video1_079/trigger_thr0.005_cl9_op3/cc_filtered_2den0.81_gausrad2.0/', list(['mean_170619-video1_079-026_opened_cc10.png']), array([ 1.        , 86.74726927,  7.65052772,  2.        ,  1.08366379])),\n",
       "       (620, '/media/alessandro/DATA/tesi/Nebbia/pre-processed_data/170619/video1_079/trigger_thr0.005_cl9_op3/cc_filtered_2den0.81_gausrad2.0/', list(['mean_170619-video1_079-026_opened_cc21.png']), array([ 1.        , 70.69860922,  6.1116653 ,  2.        ,  1.63315001])),\n",
       "       (621, '/media/alessandro/DATA/tesi/Nebbia/pre-processed_data/170619/video1_079/trigger_thr0.005_cl9_op3/cc_filtered_2den0.81_gausrad2.0/', list(['mean_170619-video1_079-026_opened_cc35.png']), array([  1.        , 346.18988714,   3.88210538,   5.        ,\n",
       "         1.65512315])),\n",
       "       (622, '/media/alessandro/DATA/tesi/Nebbia/pre-processed_data/170619/video1_079/trigger_thr0.005_cl9_op3/cc_filtered_2den0.81_gausrad2.0/', list(['mean_170619-video1_079-026_opened_cc42.png']), array([  1.        , 690.4136779 ,   6.81687671,   9.        ,\n",
       "         2.16771721])),\n",
       "       (623, '/media/alessandro/DATA/tesi/Nebbia/pre-processed_data/170619/video1_079/trigger_thr0.005_cl9_op3/cc_filtered_2den0.81_gausrad2.0/', list(['mean_170619-video1_079-033_opened_cc32.png']), array([ 1.        , 49.70341127,  2.79658873,  1.        ,  3.08247471])),\n",
       "       (624, '/media/alessandro/DATA/tesi/Nebbia/pre-processed_data/170619/video1_079/trigger_thr0.005_cl9_op3/cc_filtered_2den0.81_gausrad2.0/', list(['mean_170619-video1_079-028_opened_cc21.png']), array([  1.        , 136.27000324,   5.7447191 ,   2.        ,\n",
       "         1.7005873 ])),\n",
       "       (625, '/media/alessandro/DATA/tesi/Nebbia/pre-processed_data/170619/video1_079/trigger_thr0.005_cl9_op3/cc_filtered_2den0.81_gausrad2.0/', list(['mean_170619-video1_079-028_opened_cc31.png']), array([  1.        , 110.4377782 ,   4.81379797,   2.        ,\n",
       "         1.61971233])),\n",
       "       (626, '/media/alessandro/DATA/tesi/Nebbia/pre-processed_data/170619/video1_079/trigger_thr0.005_cl9_op3/cc_filtered_2den0.81_gausrad2.0/', list(['mean_170619-video1_079-028_opened_cc52.png']), array([ 1.        , 82.8020486 ,  4.6979514 ,  1.        ,  2.56758253])),\n",
       "       (627, '/media/alessandro/DATA/tesi/Nebbia/pre-processed_data/170619/video1_079/trigger_thr0.005_cl9_op3/cc_filtered_2den0.81_gausrad2.0/', list(['mean_170619-video1_079-028_opened_cc74.png']), array([ 1.        , 31.94722181, 13.05277819,  1.        ,  1.        ])),\n",
       "       (628, '/media/alessandro/DATA/tesi/Nebbia/pre-processed_data/170619/video1_079/trigger_thr0.005_cl9_op3/cc_filtered_2den0.81_gausrad2.0/', list(['mean_170619-video1_079-028_opened_cc81.png']), array([  1.        , 168.5865736 ,   9.10236157,   3.        ,\n",
       "         2.11361631])),\n",
       "       (629, '/media/alessandro/DATA/tesi/Nebbia/pre-processed_data/170619/video1_079/trigger_thr0.005_cl9_op3/cc_filtered_2den0.81_gausrad2.0/', list(['mean_170619-video1_079-033_opened_cc63.png']), array([ 1.        , 30.96547614,  2.03452386,  1.        ,  3.96472295])),\n",
       "       (630, '/media/alessandro/DATA/tesi/Nebbia/pre-processed_data/170619/video1_079/trigger_thr0.005_cl9_op3/cc_filtered_2den0.81_gausrad2.0/', list(['mean_170619-video1_079-033_opened_cc74.png']), array([ 1.        , 75.91725847,  5.97563871,  2.        ,  1.36616096])),\n",
       "       (631, '/media/alessandro/DATA/tesi/Nebbia/pre-processed_data/170619/video1_079/trigger_thr0.005_cl9_op3/cc_filtered_2den0.81_gausrad2.0/', list(['mean_170619-video1_079-033_opened_cc75.png']), array([ 1.        , 94.37883208,  5.12117466,  3.        ,  1.47394972])),\n",
       "       (632, '/media/alessandro/DATA/tesi/Nebbia/pre-processed_data/170619/video1_079/trigger_thr0.005_cl9_op3/cc_filtered_2den0.81_gausrad2.0/', list(['mean_170619-video1_079-038_opened_cc31.png']), array([  1.        , 103.65135205,   9.34864795,   1.        ,\n",
       "         1.        ])),\n",
       "       (633, '/media/alessandro/DATA/tesi/Nebbia/pre-processed_data/170619/video1_079/trigger_thr0.005_cl9_op3/cc_filtered_2den0.81_gausrad2.0/', list(['mean_170619-video1_079-038_opened_cc44.png']), array([ 1.       , 18.4244289,  8.5755711,  1.       ,  1.0532545])),\n",
       "       (634, '/media/alessandro/DATA/tesi/Nebbia/pre-processed_data/170619/video1_079/trigger_thr0.005_cl9_op3/cc_filtered_2den0.81_gausrad2.0/', list(['mean_170619-video1_079-038_opened_cc77.png']), array([  1.        , 121.71544388,   8.09162044,   2.        ,\n",
       "         2.28555972])),\n",
       "       (635, '/media/alessandro/DATA/tesi/Nebbia/pre-processed_data/170619/video1_079/trigger_thr0.005_cl9_op3/cc_filtered_2den0.81_gausrad2.0/', list(['mean_170619-video1_079-038_opened_cc82.png']), array([  1.        , 163.48360335,   4.94751341,   4.        ,\n",
       "         1.72393904])),\n",
       "       (636, '/media/alessandro/DATA/tesi/Nebbia/pre-processed_data/170619/video1_079/trigger_thr0.005_cl9_op3/cc_filtered_2den0.81_gausrad2.0/', list(['mean_170619-video1_079-038_opened_cc90.png']), array([  1.        , 174.86813869,   3.3966177 ,   3.        ,\n",
       "         1.60429485])),\n",
       "       (637, '/media/alessandro/DATA/tesi/Nebbia/pre-processed_data/170619/video1_099/trigger_thr0.005_cl9_op3/cc_filtered_2den0.81_gausrad2.0/', list(['mean_170619-video1_099-018_opened_cc01.png']), array([ 1.        , 67.22234106, 15.27765894,  1.        ,  1.05525547])),\n",
       "       (638, '/media/alessandro/DATA/tesi/Nebbia/pre-processed_data/170619/video1_119/trigger_thr0.005_cl9_op3/cc_filtered_2den0.81_gausrad2.0/', list(['mean_170619-video1_119-022_opened_cc01.png']), array([  1.        , 134.09770563,   5.32549237,   3.        ,\n",
       "         1.35012134])),\n",
       "       (639, '/media/alessandro/DATA/tesi/Nebbia/pre-processed_data/170619/video1_139/trigger_thr0.005_cl9_op3/cc_filtered_2den0.81_gausrad2.0/', list(['mean_170619-video1_139-006_opened_cc28.png']), array([  1.        , 119.22190754,  10.66527493,   2.        ,\n",
       "         1.        ])),\n",
       "       (640, '/media/alessandro/DATA/tesi/Nebbia/pre-processed_data/170619/video1_139/trigger_thr0.005_cl9_op3/cc_filtered_2den0.81_gausrad2.0/', list(['mean_170619-video1_139-027_opened_cc27.png']), array([  1.        , 153.58328414,  12.41671586,   1.        ,\n",
       "         1.28825273])),\n",
       "       (641, '/media/alessandro/DATA/tesi/Nebbia/pre-processed_data/170619/video1_139/trigger_thr0.005_cl9_op3/cc_filtered_2den0.81_gausrad2.0/', list(['mean_170619-video1_139-041_opened_cc02.png']), array([  1.        , 199.91393867,  14.08606133,   1.        ,\n",
       "         1.39138126])),\n",
       "       (642, '/media/alessandro/DATA/tesi/Nebbia/pre-processed_data/170619/video1_100/trigger_thr0.005_cl9_op3/cc_filtered_2den0.81_gausrad2.0/', list(['mean_170619-video1_100-024_opened_cc26.png']), array([  1.        , 242.40568032,   2.62298392,   2.        ,\n",
       "         2.41202667])),\n",
       "       (643, '/media/alessandro/DATA/tesi/Nebbia/pre-processed_data/170619/video1_104/trigger_thr0.005_cl9_op3/cc_filtered_2den0.81_gausrad2.0/', list(['mean_170619-video1_104-013_opened_cc03.png']), array([ 1.        , 92.17060399, 10.17497799,  2.        ,  1.        ])),\n",
       "       (644, '/media/alessandro/DATA/tesi/Nebbia/pre-processed_data/170619/video1_104/trigger_thr0.005_cl9_op3/cc_filtered_2den0.81_gausrad2.0/', list(['mean_170619-video1_104-047_opened_cc06.png']), array([  1.        , 197.62780819,   6.5255235 ,   3.        ,\n",
       "         1.15897283])),\n",
       "       (645, '/media/alessandro/DATA/tesi/Nebbia/pre-processed_data/170619/video1_105/trigger_thr0.005_cl9_op3/cc_filtered_2den0.81_gausrad2.0/', list(['mean_170619-video1_105-046_opened_cc01.png']), array([ 1.        , 67.29636894,  1.20363106,  1.        ,  3.84707735])),\n",
       "       (646, '/media/alessandro/DATA/tesi/Nebbia/pre-processed_data/170619/video1_105/trigger_thr0.005_cl9_op3/cc_filtered_2den0.81_gausrad2.0/', list(['mean_170619-video1_105-046_opened_cc43.png']), array([  1.        , 290.99310075,   3.12478223,   6.        ,\n",
       "         2.08534258])),\n",
       "       (647, '/media/alessandro/DATA/tesi/Nebbia/pre-processed_data/170619/video1_105/trigger_thr0.005_cl9_op3/cc_filtered_2den0.81_gausrad2.0/', list(['mean_170619-video1_105-046_opened_cc51.png']), array([  1.        , 116.76012302,   2.81783616,   2.        ,\n",
       "         1.73058692])),\n",
       "       (648, '/media/alessandro/DATA/tesi/Nebbia/pre-processed_data/170619/video1_105/trigger_thr0.005_cl9_op3/cc_filtered_2den0.81_gausrad2.0/', list(['mean_170619-video1_105-046_opened_cc54.png']), array([  1.        , 211.12878049,  16.87121951,   1.        ,\n",
       "         1.34313558])),\n",
       "       (649, '/media/alessandro/DATA/tesi/Nebbia/pre-processed_data/170619/video1_106/trigger_thr0.005_cl9_op3/cc_filtered_2den0.81_gausrad2.0/', list(['mean_170619-video1_106-038_opened_cc02.png']), array([  1.        , 115.06517224,  11.05018892,   3.        ,\n",
       "         1.42055768])),\n",
       "       (650, '/media/alessandro/DATA/tesi/Nebbia/pre-processed_data/170619/video1_107/trigger_thr0.005_cl9_op3/cc_filtered_2den0.81_gausrad2.0/', list(['mean_170619-video1_107-036_opened_cc04.png']), array([ 1.       , 92.6487933, 11.8512067,  1.       ,  1.       ])),\n",
       "       (651, '/media/alessandro/DATA/tesi/Nebbia/pre-processed_data/170619/video1_108/trigger_thr0.005_cl9_op3/cc_filtered_2den0.81_gausrad2.0/', list(['mean_170619-video1_108-040_opened_cc32.png']), array([  1.        , 103.83708173,   8.33693736,   2.        ,\n",
       "         1.43486548])),\n",
       "       (652, '/media/alessandro/DATA/tesi/Nebbia/pre-processed_data/170619/video1_108/trigger_thr0.005_cl9_op3/cc_filtered_2den0.81_gausrad2.0/', list(['mean_170619-video1_108-040_opened_cc74.png']), array([ 1.        , 61.98147513,  8.01852487,  1.        ,  1.81204499])),\n",
       "       (653, '/media/alessandro/DATA/tesi/Nebbia/pre-processed_data/170619/video1_109/trigger_thr0.005_cl9_op3/cc_filtered_2den0.81_gausrad2.0/', list(['mean_170619-video1_109-015_opened_cc12.png', 'mean_170619-video1_109-016_opened_cc11.png']), array([ 2.        , 92.02030449, 18.72969551,  1.        ,  1.24926295])),\n",
       "       (655, '/media/alessandro/DATA/tesi/Nebbia/pre-processed_data/170619/video1_112/trigger_thr0.005_cl9_op3/cc_filtered_2den0.81_gausrad2.0/', list(['mean_170619-video1_112-002_opened_cc08.png']), array([ 1.        , 86.43458459, 10.06541541,  1.        ,  1.02716509])),\n",
       "       (656, '/media/alessandro/DATA/tesi/Nebbia/pre-processed_data/170619/video1_112/trigger_thr0.005_cl9_op3/cc_filtered_2den0.81_gausrad2.0/', list(['mean_170619-video1_112-002_opened_cc31.png', 'mean_170619-video1_112-003_opened_cc21.png']), array([  2.        , 109.86592933,  24.38407067,   1.        ,\n",
       "         1.        ])),\n",
       "       (657, '/media/alessandro/DATA/tesi/Nebbia/pre-processed_data/170619/video1_112/trigger_thr0.005_cl9_op3/cc_filtered_2den0.81_gausrad2.0/', list(['mean_170619-video1_112-023_opened_cc49.png', 'mean_170619-video1_112-024_opened_cc25.png', 'mean_170619-video1_112-025_opened_cc31.png', 'mean_170619-video1_112-026_opened_cc17.png']), array([ 4.        , 98.95061683, 23.40224326,  1.25      ,  1.0290143 ])),\n",
       "       (658, '/media/alessandro/DATA/tesi/Nebbia/pre-processed_data/170619/video1_112/trigger_thr0.005_cl9_op3/cc_filtered_2den0.81_gausrad2.0/', list(['mean_170619-video1_112-025_opened_cc05.png']), array([  1.        , 154.16316729,   9.77681373,   3.        ,\n",
       "         1.26359007])),\n",
       "       (659, '/media/alessandro/DATA/tesi/Nebbia/pre-processed_data/170619/video1_114/trigger_thr0.005_cl9_op3/cc_filtered_2den0.81_gausrad2.0/', list(['mean_170619-video1_114-010_opened_cc03.png']), array([  1.        , 110.62419536,   9.16462183,   2.        ,\n",
       "         2.11413834])),\n",
       "       (660, '/media/alessandro/DATA/tesi/Nebbia/pre-processed_data/170619/video1_114/trigger_thr0.005_cl9_op3/cc_filtered_2den0.81_gausrad2.0/', list(['mean_170619-video1_114-037_opened_cc04.png']), array([ 1.        , 53.4805752 ,  2.0194248 ,  1.        ,  5.12251007])),\n",
       "       (661, '/media/alessandro/DATA/tesi/Nebbia/pre-processed_data/170619/video1_115/trigger_thr0.005_cl9_op3/cc_filtered_2den0.81_gausrad2.0/', list(['mean_170619-video1_115-040_opened_cc04.png']), array([  1.        , 236.63208043,   6.49841273,   2.        ,\n",
       "         1.27529723])),\n",
       "       (662, '/media/alessandro/DATA/tesi/Nebbia/pre-processed_data/170619/video1_115/trigger_thr0.005_cl9_op3/cc_filtered_2den0.81_gausrad2.0/', list(['mean_170619-video1_115-040_opened_cc09.png', 'mean_170619-video1_115-041_opened_cc08.png']), array([ 2.        , 73.31713161, 13.93286839,  1.        ,  1.        ])),\n",
       "       (663, '/media/alessandro/DATA/tesi/Nebbia/pre-processed_data/170619/video1_118/trigger_thr0.005_cl9_op3/cc_filtered_2den0.81_gausrad2.0/', list(['mean_170619-video1_118-025_opened_cc09.png']), array([  1.        , 143.37525176,   5.77319229,   3.        ,\n",
       "         1.97669672])),\n",
       "       (664, '/media/alessandro/DATA/tesi/Nebbia/pre-processed_data/170619/video1_122/trigger_thr0.005_cl9_op3/cc_filtered_2den0.81_gausrad2.0/', list(['mean_170619-video1_122-020_opened_cc43.png', 'mean_170619-video1_122-021_opened_cc31.png', 'mean_170619-video1_122-022_opened_cc19.png']), array([ 3.        , 70.85933921, 20.30732745,  1.        ,  1.        ])),\n",
       "       (665, '/media/alessandro/DATA/tesi/Nebbia/pre-processed_data/170619/video1_122/trigger_thr0.005_cl9_op3/cc_filtered_2den0.81_gausrad2.0/', list(['mean_170619-video1_122-022_opened_cc03.png', 'mean_170619-video1_122-023_opened_cc02.png']), array([ 2.        , 69.67963566,  7.57036434,  1.        ,  1.07300209])),\n",
       "       (666, '/media/alessandro/DATA/tesi/Nebbia/pre-processed_data/170619/video1_122/trigger_thr0.005_cl9_op3/cc_filtered_2den0.81_gausrad2.0/', list(['mean_170619-video1_122-025_opened_cc10.png']), array([  1.        , 178.95616623,   9.35344724,   2.        ,\n",
       "         1.24167378])),\n",
       "       (668, '/media/alessandro/DATA/tesi/Nebbia/pre-processed_data/170619/video1_123/trigger_thr0.005_cl9_op3/cc_filtered_2den0.81_gausrad2.0/', list(['mean_170619-video1_123-020_opened_cc06.png']), array([  1.        , 173.19770968,   9.68702263,   3.        ,\n",
       "         1.29122648])),\n",
       "       (669, '/media/alessandro/DATA/tesi/Nebbia/pre-processed_data/170619/video1_124/trigger_thr0.005_cl9_op3/cc_filtered_2den0.81_gausrad2.0/', list(['mean_170619-video1_124-043_opened_cc02.png']), array([  1.        , 190.40014844,   6.15835961,   2.        ,\n",
       "         1.21629782])),\n",
       "       (670, '/media/alessandro/DATA/tesi/Nebbia/pre-processed_data/170619/video1_124/trigger_thr0.005_cl9_op3/cc_filtered_2den0.81_gausrad2.0/', list(['mean_170619-video1_124-048_opened_cc23.png']), array([  1.        , 143.51886524,  10.98113476,   1.        ,\n",
       "         1.0251086 ])),\n",
       "       (671, '/media/alessandro/DATA/tesi/Nebbia/pre-processed_data/170619/video1_125/trigger_thr0.005_cl9_op3/cc_filtered_2den0.81_gausrad2.0/', list(['mean_170619-video1_125-001_opened_cc52.png']), array([  1.        , 260.41423873,   8.43056784,   2.        ,\n",
       "         1.40993277])),\n",
       "       (672, '/media/alessandro/DATA/tesi/Nebbia/pre-processed_data/170619/video1_125/trigger_thr0.005_cl9_op3/cc_filtered_2den0.81_gausrad2.0/', list(['mean_170619-video1_125-001_opened_cc71.png']), array([ 1.        , 46.31949252,  2.18050748,  1.        ,  7.61487766])),\n",
       "       (673, '/media/alessandro/DATA/tesi/Nebbia/pre-processed_data/170619/video1_125/trigger_thr0.005_cl9_op3/cc_filtered_2den0.81_gausrad2.0/', list(['mean_170619-video1_125-030_opened_cc01.png', 'mean_170619-video1_125-031_opened_cc14.png']), array([  2.        , 159.3658241 ,  11.34311811,   1.5       ,\n",
       "         1.25103518])),\n",
       "       (674, '/media/alessandro/DATA/tesi/Nebbia/pre-processed_data/170619/video1_125/trigger_thr0.005_cl9_op3/cc_filtered_2den0.81_gausrad2.0/', list(['mean_170619-video1_125-031_opened_cc16.png']), array([ 1.        , 83.66806636,  4.43177493,  2.        ,  1.62103586])),\n",
       "       (675, '/media/alessandro/DATA/tesi/Nebbia/pre-processed_data/170619/video1_125/trigger_thr0.005_cl9_op3/cc_filtered_2den0.81_gausrad2.0/', list(['mean_170619-video1_125-031_opened_cc24.png']), array([  1.        , 307.58643646,   4.20527645,   5.        ,\n",
       "         2.34464311])),\n",
       "       (676, '/media/alessandro/DATA/tesi/Nebbia/pre-processed_data/170619/video1_127/trigger_thr0.005_cl9_op3/cc_filtered_2den0.81_gausrad2.0/', list(['mean_170619-video1_127-004_opened_cc11.png']), array([  1.        , 233.91135533,  11.82371597,   2.        ,\n",
       "         1.72343419])),\n",
       "       (677, '/media/alessandro/DATA/tesi/Nebbia/pre-processed_data/170619/video1_127/trigger_thr0.005_cl9_op3/cc_filtered_2den0.81_gausrad2.0/', list(['mean_170619-video1_127-004_opened_cc75.png']), array([  1.        , 191.40700404,  10.43157268,   5.        ,\n",
       "         1.51108177])),\n",
       "       (678, '/media/alessandro/DATA/tesi/Nebbia/pre-processed_data/170619/video1_129/trigger_thr0.005_cl9_op3/cc_filtered_2den0.81_gausrad2.0/', list(['mean_170619-video1_129-011_opened_cc03.png']), array([ 1.        , 75.73621044,  7.76378956,  1.        ,  1.01891377])),\n",
       "       (679, '/media/alessandro/DATA/tesi/Nebbia/pre-processed_data/170619/video1_129/trigger_thr0.005_cl9_op3/cc_filtered_2den0.81_gausrad2.0/', list(['mean_170619-video1_129-017_opened_cc04.png']), array([  1.        , 147.4214245 ,   5.14182576,   4.        ,\n",
       "         1.45223402])),\n",
       "       (680, '/media/alessandro/DATA/tesi/Nebbia/pre-processed_data/170619/video1_130/trigger_thr0.005_cl9_op3/cc_filtered_2den0.81_gausrad2.0/', list(['mean_170619-video1_130-020_opened_cc03.png']), array([  1.        , 214.50717929,  11.77501926,   4.        ,\n",
       "         1.1136958 ])),\n",
       "       (681, '/media/alessandro/DATA/tesi/Nebbia/pre-processed_data/170619/video1_131/trigger_thr0.005_cl9_op3/cc_filtered_2den0.81_gausrad2.0/', list(['mean_170619-video1_131-001_opened_cc05.png', 'mean_170619-video1_131-002_opened_cc06.png']), array([  2.        , 134.0237183 ,   8.09814577,   3.        ,\n",
       "         1.23001649])),\n",
       "       (682, '/media/alessandro/DATA/tesi/Nebbia/pre-processed_data/170619/video1_131/trigger_thr0.005_cl9_op3/cc_filtered_2den0.81_gausrad2.0/', list(['mean_170619-video1_131-041_opened_cc01.png']), array([  1.        , 182.77654201,   9.82776496,   2.        ,\n",
       "         1.        ])),\n",
       "       (683, '/media/alessandro/DATA/tesi/Nebbia/pre-processed_data/170619/video1_132/trigger_thr0.005_cl9_op3/cc_filtered_2den0.81_gausrad2.0/', list(['mean_170619-video1_132-001_opened_cc31.png']), array([  1.        , 166.62668549,   6.73993901,   3.        ,\n",
       "         1.14718697])),\n",
       "       (684, '/media/alessandro/DATA/tesi/Nebbia/pre-processed_data/170619/video1_133/trigger_thr0.005_cl9_op3/cc_filtered_2den0.81_gausrad2.0/', list(['mean_170619-video1_133-006_opened_cc01.png']), array([  1.        , 276.1819569 ,   3.27545679,   4.        ,\n",
       "         1.42020738])),\n",
       "       (685, '/media/alessandro/DATA/tesi/Nebbia/pre-processed_data/170619/video1_133/trigger_thr0.005_cl9_op3/cc_filtered_2den0.81_gausrad2.0/', list(['mean_170619-video1_133-008_opened_cc10.png', 'mean_170619-video1_133-009_opened_cc11.png']), array([  2.        , 134.44111973,   7.56058161,   2.5       ,\n",
       "         1.24859191])),\n",
       "       (686, '/media/alessandro/DATA/tesi/Nebbia/pre-processed_data/170619/video1_133/trigger_thr0.005_cl9_op3/cc_filtered_2den0.81_gausrad2.0/', list(['mean_170619-video1_133-024_opened_cc15.png']), array([  1.        , 113.98644314,   6.01169911,   2.        ,\n",
       "         1.76010667])),\n",
       "       (687, '/media/alessandro/DATA/tesi/Nebbia/pre-processed_data/170619/video1_134/trigger_thr0.005_cl9_op3/cc_filtered_2den0.81_gausrad2.0/', list(['mean_170619-video1_134-004_opened_cc02.png']), array([  1.        , 257.67401415,  11.15138892,   3.        ,\n",
       "         1.36031145])),\n",
       "       (688, '/media/alessandro/DATA/tesi/Nebbia/pre-processed_data/170619/video1_134/trigger_thr0.005_cl9_op3/cc_filtered_2den0.81_gausrad2.0/', list(['mean_170619-video1_134-012_opened_cc01.png']), array([  1.        , 104.70292454,  15.79707546,   1.        ,\n",
       "         1.        ])),\n",
       "       (689, '/media/alessandro/DATA/tesi/Nebbia/pre-processed_data/170619/video1_134/trigger_thr0.005_cl9_op3/cc_filtered_2den0.81_gausrad2.0/', list(['mean_170619-video1_134-012_opened_cc21.png']), array([  1.        , 190.02815039,   7.68813777,   3.        ,\n",
       "         1.45279932])),\n",
       "       (690, '/media/alessandro/DATA/tesi/Nebbia/pre-processed_data/170619/video1_135/trigger_thr0.005_cl9_op3/cc_filtered_2den0.81_gausrad2.0/', list(['mean_170619-video1_135-018_opened_cc01.png']), array([  1.        , 108.84592559,   5.15407441,   1.        ,\n",
       "         1.99894032])),\n",
       "       (691, '/media/alessandro/DATA/tesi/Nebbia/pre-processed_data/170619/video1_135/trigger_thr0.005_cl9_op3/cc_filtered_2den0.81_gausrad2.0/', list(['mean_170619-video1_135-041_opened_cc06.png', 'mean_170619-video1_135-042_opened_cc17.png']), array([  2.        , 115.03304937,  11.22444788,   1.5       ,\n",
       "         1.18406875])),\n",
       "       (692, '/media/alessandro/DATA/tesi/Nebbia/pre-processed_data/170619/video1_135/trigger_thr0.005_cl9_op3/cc_filtered_2den0.81_gausrad2.0/', list(['mean_170619-video1_135-041_opened_cc37.png']), array([ 1.        , 79.77122581,  9.20612856,  2.        ,  1.387588  ])),\n",
       "       (693, '/media/alessandro/DATA/tesi/Nebbia/pre-processed_data/170619/video1_135/trigger_thr0.005_cl9_op3/cc_filtered_2den0.81_gausrad2.0/', list(['mean_170619-video1_135-043_opened_cc09.png']), array([  1.        , 126.42472059,   7.3048746 ,   4.        ,\n",
       "         1.61184709])),\n",
       "       (694, '/media/alessandro/DATA/tesi/Nebbia/pre-processed_data/170619/video1_135/trigger_thr0.005_cl9_op3/cc_filtered_2den0.81_gausrad2.0/', list(['mean_170619-video1_135-043_opened_cc29.png']), array([ 1.        , 63.82909784, 16.80966104,  2.        ,  1.25907658])),\n",
       "       (695, '/media/alessandro/DATA/tesi/Nebbia/pre-processed_data/170619/video1_136/trigger_thr0.005_cl9_op3/cc_filtered_2den0.81_gausrad2.0/', list(['mean_170619-video1_136-023_opened_cc20.png']), array([  1.        , 164.78573705,   5.40938946,   3.        ,\n",
       "         1.28856883])),\n",
       "       (696, '/media/alessandro/DATA/tesi/Nebbia/pre-processed_data/170619/video1_136/trigger_thr0.005_cl9_op3/cc_filtered_2den0.81_gausrad2.0/', list(['mean_170619-video1_136-023_opened_cc59.png']), array([  1.        , 130.72814652,   7.77185348,   1.        ,\n",
       "         1.27426   ])),\n",
       "       (697, '/media/alessandro/DATA/tesi/Nebbia/pre-processed_data/170619/video1_136/trigger_thr0.005_cl9_op3/cc_filtered_2den0.81_gausrad2.0/', list(['mean_170619-video1_136-023_opened_cc64.png']), array([ 1.        , 85.93665807,  7.06334193,  1.        ,  1.32210243])),\n",
       "       (698, '/media/alessandro/DATA/tesi/Nebbia/pre-processed_data/170619/video1_136/trigger_thr0.005_cl9_op3/cc_filtered_2den0.81_gausrad2.0/', list(['mean_170619-video1_136-028_opened_cc05.png']), array([  1.        , 249.12080933,   5.50992703,   3.        ,\n",
       "         1.43462218])),\n",
       "       (699, '/media/alessandro/DATA/tesi/Nebbia/pre-processed_data/170619/video1_136/trigger_thr0.005_cl9_op3/cc_filtered_2den0.81_gausrad2.0/', list(['mean_170619-video1_136-034_opened_cc03.png']), array([ 1.        , 46.07130751,  3.92869249,  1.        ,  2.15277082])),\n",
       "       (700, '/media/alessandro/DATA/tesi/Nebbia/pre-processed_data/170619/video1_136/trigger_thr0.005_cl9_op3/cc_filtered_2den0.81_gausrad2.0/', list(['mean_170619-video1_136-036_opened_cc02.png']), array([  1.        , 114.47629799,   9.02370201,   1.        ,\n",
       "         1.35781895])),\n",
       "       (701, '/media/alessandro/DATA/tesi/Nebbia/pre-processed_data/170619/video1_137/trigger_thr0.005_cl9_op3/cc_filtered_2den0.81_gausrad2.0/', list(['mean_170619-video1_137-028_opened_cc37.png']), array([  1.        , 120.16929227,   5.41230764,   2.        ,\n",
       "         1.48368458])),\n",
       "       (702, '/media/alessandro/DATA/tesi/Nebbia/pre-processed_data/170619/video1_137/trigger_thr0.005_cl9_op3/cc_filtered_2den0.81_gausrad2.0/', list(['mean_170619-video1_137-030_opened_cc105.png']), array([  1.        , 114.79066516,   8.19069438,   3.        ,\n",
       "         1.        ])),\n",
       "       (703, '/media/alessandro/DATA/tesi/Nebbia/pre-processed_data/170619/video1_137/trigger_thr0.005_cl9_op3/cc_filtered_2den0.81_gausrad2.0/', list(['mean_170619-video1_137-044_opened_cc10.png']), array([  1.        , 118.70190214,   8.29809786,   1.        ,\n",
       "         1.19517403])),\n",
       "       (704, '/media/alessandro/DATA/tesi/Nebbia/pre-processed_data/170619/video1_137/trigger_thr0.005_cl9_op3/cc_filtered_2den0.81_gausrad2.0/', list(['mean_170619-video1_137-047_opened_cc03.png']), array([ 1.        , 87.36694331,  6.03128058,  2.        ,  1.55197965])),\n",
       "       (705, '/media/alessandro/DATA/tesi/Nebbia/pre-processed_data/170619/video1_138/trigger_thr0.005_cl9_op3/cc_filtered_2den0.81_gausrad2.0/', list(['mean_170619-video1_138-028_opened_cc03.png']), array([ 1.        , 84.11746669,  7.38253331,  1.        ,  1.29411487])),\n",
       "       (706, '/media/alessandro/DATA/tesi/Nebbia/pre-processed_data/170619/video1_138/trigger_thr0.005_cl9_op3/cc_filtered_2den0.81_gausrad2.0/', list(['mean_170619-video1_138-028_opened_cc26.png']), array([  1.        , 118.97987807,   7.32005733,   2.        ,\n",
       "         1.15162191])),\n",
       "       (707, '/media/alessandro/DATA/tesi/Nebbia/pre-processed_data/170619/video1_140/trigger_thr0.005_cl9_op3/cc_filtered_2den0.81_gausrad2.0/', list(['mean_170619-video1_140-006_opened_cc43.png']), array([ 1.        , 77.67076689,  8.88943223,  2.        ,  1.20192494])),\n",
       "       (708, '/media/alessandro/DATA/tesi/Nebbia/pre-processed_data/170619/video1_140/trigger_thr0.005_cl9_op3/cc_filtered_2den0.81_gausrad2.0/', list(['mean_170619-video1_140-006_opened_cc44.png', 'mean_170619-video1_140-007_opened_cc40.png']), array([ 2.        , 69.32616413, 15.17383587,  1.        ,  1.01492231])),\n",
       "       (709, '/media/alessandro/DATA/tesi/Nebbia/pre-processed_data/170619/video1_140/trigger_thr0.005_cl9_op3/cc_filtered_2den0.81_gausrad2.0/', list(['mean_170619-video1_140-007_opened_cc02.png']), array([ 1.        , 86.04044812,  6.66482516,  2.        ,  1.18185645])),\n",
       "       (710, '/media/alessandro/DATA/tesi/Nebbia/pre-processed_data/170619/video1_140/trigger_thr0.005_cl9_op3/cc_filtered_2den0.81_gausrad2.0/', list(['mean_170619-video1_140-048_opened_cc12.png']), array([ 1.        , 82.8571274 ,  7.25      ,  2.        ,  1.50425715])),\n",
       "       (711, '/media/alessandro/DATA/tesi/Nebbia/pre-processed_data/170619/video1_140/trigger_thr0.005_cl9_op3/cc_filtered_2den0.81_gausrad2.0/', list(['mean_170619-video1_140-048_opened_cc42.png']), array([  1.        , 105.79519825,  11.03623952,   3.        ,\n",
       "         1.27380914])),\n",
       "       (712, '/media/alessandro/DATA/tesi/Nebbia/pre-processed_data/170619/video1_141/trigger_thr0.005_cl9_op3/cc_filtered_2den0.81_gausrad2.0/', list(['mean_170619-video1_141-016_opened_cc17.png']), array([  1.        , 140.45955657,   5.58654429,   2.        ,\n",
       "         1.28473286])),\n",
       "       (713, '/media/alessandro/DATA/tesi/Nebbia/pre-processed_data/170619/video1_142/trigger_thr0.005_cl9_op3/cc_filtered_2den0.81_gausrad2.0/', list(['mean_170619-video1_142-012_opened_cc01.png']), array([  1.        , 132.65518659,   6.84481341,   1.        ,\n",
       "         1.08905844])),\n",
       "       (714, '/media/alessandro/DATA/tesi/Nebbia/pre-processed_data/170619/video1_142/trigger_thr0.005_cl9_op3/cc_filtered_2den0.81_gausrad2.0/', list(['mean_170619-video1_142-030_opened_cc36.png']), array([  1.        , 295.04247342,  12.97337248,   2.        ,\n",
       "         2.06520438])),\n",
       "       (715, '/media/alessandro/DATA/tesi/Nebbia/pre-processed_data/170619/video1_142/trigger_thr0.005_cl9_op3/cc_filtered_2den0.81_gausrad2.0/', list(['mean_170619-video1_142-034_opened_cc02.png']), array([  1.        , 486.28786233,   9.5611029 ,   3.        ,\n",
       "         3.14632466])),\n",
       "       (716, '/media/alessandro/DATA/tesi/Nebbia/pre-processed_data/170619/video1_144/trigger_thr0.005_cl9_op3/cc_filtered_2den0.81_gausrad2.0/', list(['mean_170619-video1_144-029_opened_cc02.png', 'mean_170619-video1_144-030_opened_cc01.png']), array([  2.        , 112.83501143,   7.63728698,   2.        ,\n",
       "         1.40403721])),\n",
       "       (717, '/media/alessandro/DATA/tesi/Nebbia/pre-processed_data/170619/video1_145/trigger_thr0.005_cl9_op3/cc_filtered_2den0.81_gausrad2.0/', list(['mean_170619-video1_145-025_opened_cc03.png', 'mean_170619-video1_145-026_opened_cc04.png']), array([  2.        , 133.19911608,  10.30088392,   1.        ,\n",
       "         1.10453394])),\n",
       "       (718, '/media/alessandro/DATA/tesi/Nebbia/pre-processed_data/170619/video1_145/trigger_thr0.005_cl9_op3/cc_filtered_2den0.81_gausrad2.0/', list(['mean_170619-video1_145-027_opened_cc04.png', 'mean_170619-video1_145-028_opened_cc05.png']), array([ 2.        , 92.54317806, 10.61669733,  1.5       ,  1.16319827])),\n",
       "       (719, '/media/alessandro/DATA/tesi/Nebbia/pre-processed_data/170619/video1_145/trigger_thr0.005_cl9_op3/cc_filtered_2den0.81_gausrad2.0/', list(['mean_170619-video1_145-027_opened_cc19.png']), array([ 1.        , 66.2195222 ,  6.7804778 ,  1.        ,  1.30877822])),\n",
       "       (720, '/media/alessandro/DATA/tesi/Nebbia/pre-processed_data/170619/video1_146/trigger_thr0.005_cl9_op3/cc_filtered_2den0.81_gausrad2.0/', list(['mean_170619-video1_146-011_opened_cc22.png']), array([  1.        , 205.64331295,  15.35668705,   1.        ,\n",
       "         1.14089695])),\n",
       "       (721, '/media/alessandro/DATA/tesi/Nebbia/pre-processed_data/170619/video1_146/trigger_thr0.005_cl9_op3/cc_filtered_2den0.81_gausrad2.0/', list(['mean_170619-video1_146-012_opened_cc04.png']), array([  1.        , 128.24094066,   6.24751256,   2.        ,\n",
       "         1.41956409])),\n",
       "       (722, '/media/alessandro/DATA/tesi/Nebbia/pre-processed_data/170619/video1_146/trigger_thr0.005_cl9_op3/cc_filtered_2den0.81_gausrad2.0/', list(['mean_170619-video1_146-045_opened_cc03.png']), array([  1.        , 113.21703641,   3.06949822,   2.        ,\n",
       "         1.43774186])),\n",
       "       (723, '/media/alessandro/DATA/tesi/Nebbia/pre-processed_data/170619/video1_146/trigger_thr0.005_cl9_op3/cc_filtered_2den0.81_gausrad2.0/', list(['mean_170619-video1_146-045_opened_cc10.png']), array([  1.        , 176.18625243,   7.5604571 ,   2.        ,\n",
       "         1.50088497])),\n",
       "       (724, '/media/alessandro/DATA/tesi/Nebbia/pre-processed_data/170619/video1_146/trigger_thr0.005_cl9_op3/cc_filtered_2den0.81_gausrad2.0/', list(['mean_170619-video1_146-045_opened_cc25.png']), array([ 1.        , 70.40774542, 13.59225458,  1.        ,  1.01361208])),\n",
       "       (725, '/media/alessandro/DATA/tesi/Nebbia/pre-processed_data/170619/video1_146/trigger_thr0.005_cl9_op3/cc_filtered_2den0.81_gausrad2.0/', list(['mean_170619-video1_146-046_opened_cc02.png']), array([ 1.        , 61.16620626,  0.83379374,  1.        , 13.67717951])),\n",
       "       (726, '/media/alessandro/DATA/tesi/Nebbia/pre-processed_data/170619/video1_146/trigger_thr0.005_cl9_op3/cc_filtered_2den0.81_gausrad2.0/', list(['mean_170619-video1_146-046_opened_cc36.png']), array([ 1.        , 90.416406  ,  7.2341001 ,  2.        ,  1.19455962])),\n",
       "       (727, '/media/alessandro/DATA/tesi/Nebbia/pre-processed_data/170619/video1_147/trigger_thr0.005_cl9_op3/cc_filtered_2den0.81_gausrad2.0/', list(['mean_170619-video1_147-002_opened_cc03.png']), array([ 1.        , 81.45121354, 13.37966548,  2.        ,  1.        ])),\n",
       "       (728, '/media/alessandro/DATA/tesi/Nebbia/pre-processed_data/170619/video1_147/trigger_thr0.005_cl9_op3/cc_filtered_2den0.81_gausrad2.0/', list(['mean_170619-video1_147-014_opened_cc10.png']), array([ 1.        , 85.38657644, 16.62408093,  2.        ,  1.12457894])),\n",
       "       (729, '/media/alessandro/DATA/tesi/Nebbia/pre-processed_data/170619/video1_147/trigger_thr0.005_cl9_op3/cc_filtered_2den0.81_gausrad2.0/', list(['mean_170619-video1_147-014_opened_cc39.png']), array([  1.        , 195.30548798,   6.64113886,   3.        ,\n",
       "         1.30994929])),\n",
       "       (730, '/media/alessandro/DATA/tesi/Nebbia/pre-processed_data/170619/video1_147/trigger_thr0.005_cl9_op3/cc_filtered_2den0.81_gausrad2.0/', list(['mean_170619-video1_147-021_opened_cc04.png']), array([  1.        , 143.40265898,   6.71273148,   3.        ,\n",
       "         1.18401431])),\n",
       "       (731, '/media/alessandro/DATA/tesi/Nebbia/pre-processed_data/170619/video1_147/trigger_thr0.005_cl9_op3/cc_filtered_2den0.81_gausrad2.0/', list(['mean_170619-video1_147-022_opened_cc01.png', 'mean_170619-video1_147-023_opened_cc05.png']), array([  2.        , 102.94821586,   8.2688239 ,   2.        ,\n",
       "         1.20583675])),\n",
       "       (732, '/media/alessandro/DATA/tesi/Nebbia/pre-processed_data/170619/video1_147/trigger_thr0.005_cl9_op3/cc_filtered_2den0.81_gausrad2.0/', list(['mean_170619-video1_147-022_opened_cc08.png']), array([  1.        , 137.32590052,   3.45337199,   2.        ,\n",
       "         1.91247603])),\n",
       "       (733, '/media/alessandro/DATA/tesi/Nebbia/pre-processed_data/170619/video1_148/trigger_thr0.005_cl9_op3/cc_filtered_2den0.81_gausrad2.0/', list(['mean_170619-video1_148-002_opened_cc02.png']), array([  1.        , 121.73931738,   6.56077905,   2.        ,\n",
       "         1.29159569])),\n",
       "       (734, '/media/alessandro/DATA/tesi/Nebbia/pre-processed_data/170619/video1_148/trigger_thr0.005_cl9_op3/cc_filtered_2den0.81_gausrad2.0/', list(['mean_170619-video1_148-006_opened_cc14.png']), array([  1.        , 205.48086548,   9.51913452,   1.        ,\n",
       "         1.53480752])),\n",
       "       (735, '/media/alessandro/DATA/tesi/Nebbia/pre-processed_data/170619/video1_148/trigger_thr0.005_cl9_op3/cc_filtered_2den0.81_gausrad2.0/', list(['mean_170619-video1_148-017_opened_cc07.png']), array([  1.        , 242.98067237,   9.51262787,   2.        ,\n",
       "         1.5367447 ])),\n",
       "       (736, '/media/alessandro/DATA/tesi/Nebbia/pre-processed_data/170619/video1_148/trigger_thr0.005_cl9_op3/cc_filtered_2den0.81_gausrad2.0/', list(['mean_170619-video1_148-017_opened_cc32.png']), array([  1.        , 221.49760189,  13.00239811,   1.        ,\n",
       "         1.14853507])),\n",
       "       (737, '/media/alessandro/DATA/tesi/Nebbia/pre-processed_data/170619/video1_149/trigger_thr0.005_cl9_op3/cc_filtered_2den0.81_gausrad2.0/', list(['mean_170619-video1_149-004_opened_cc02.png']), array([  1.        , 140.2450461 ,   6.38313932,   3.        ,\n",
       "         1.10418902])),\n",
       "       (738, '/media/alessandro/DATA/tesi/Nebbia/pre-processed_data/170619/video1_149/trigger_thr0.005_cl9_op3/cc_filtered_2den0.81_gausrad2.0/', list(['mean_170619-video1_149-018_opened_cc17.png', 'mean_170619-video1_149-019_opened_cc22.png']), array([ 2.        , 56.82684781, 24.92315219,  1.        ,  1.        ])),\n",
       "       (739, '/media/alessandro/DATA/tesi/Nebbia/pre-processed_data/170619/video1_149/trigger_thr0.005_cl9_op3/cc_filtered_2den0.81_gausrad2.0/', list(['mean_170619-video1_149-018_opened_cc27.png']), array([  1.        , 299.66534705,   8.95314215,   2.        ,\n",
       "         2.03707912])),\n",
       "       (740, '/media/alessandro/DATA/tesi/Nebbia/pre-processed_data/170619/video1_149/trigger_thr0.005_cl9_op3/cc_filtered_2den0.81_gausrad2.0/', list(['mean_170619-video1_149-019_opened_cc38.png']), array([  1.        , 119.2385323 ,   8.22771965,   2.        ,\n",
       "         1.19790843])),\n",
       "       (741, '/media/alessandro/DATA/tesi/Nebbia/pre-processed_data/170619/video1_149/trigger_thr0.005_cl9_op3/cc_filtered_2den0.81_gausrad2.0/', list(['mean_170619-video1_149-019_opened_cc39.png']), array([  1.        , 116.06726419,  11.93273581,   1.        ,\n",
       "         1.04497275])),\n",
       "       (742, '/media/alessandro/DATA/tesi/Nebbia/pre-processed_data/170619/video1_149/trigger_thr0.005_cl9_op3/cc_filtered_2den0.81_gausrad2.0/', list(['mean_170619-video1_149-039_opened_cc08.png']), array([  1.        , 111.54018478,  11.95981522,   1.        ,\n",
       "         1.        ])),\n",
       "       (743, '/media/alessandro/DATA/tesi/Nebbia/pre-processed_data/170619/video1_149/trigger_thr0.005_cl9_op3/cc_filtered_2den0.81_gausrad2.0/', list(['mean_170619-video1_149-047_opened_cc03.png', 'mean_170619-video1_149-048_opened_cc04.png']), array([  2.        , 223.77740145,  11.26905747,   1.5       ,\n",
       "         1.47199846])),\n",
       "       (744, '/media/alessandro/DATA/tesi/Nebbia/pre-processed_data/170619/video1_150/trigger_thr0.005_cl9_op3/cc_filtered_2den0.81_gausrad2.0/', list(['mean_170619-video1_150-031_opened_cc14.png', 'mean_170619-video1_150-032_opened_cc36.png']), array([  2.        , 174.35889141,  11.17145566,   1.5       ,\n",
       "         1.55138318])),\n",
       "       (745, '/media/alessandro/DATA/tesi/Nebbia/pre-processed_data/170619/video1_150/trigger_thr0.005_cl9_op3/cc_filtered_2den0.81_gausrad2.0/', list(['mean_170619-video1_150-032_opened_cc40.png']), array([  1.        , 132.94032184,   4.13671279,   3.        ,\n",
       "         1.4293832 ])),\n",
       "       (746, '/media/alessandro/DATA/tesi/Nebbia/pre-processed_data/170619/video1_150/trigger_thr0.005_cl9_op3/cc_filtered_2den0.81_gausrad2.0/', list(['mean_170619-video1_150-045_opened_cc38.png']), array([  1.        , 126.01409745,   4.69523868,   2.        ,\n",
       "         1.50347416])),\n",
       "       (747, '/media/alessandro/DATA/tesi/Nebbia/pre-processed_data/170619/video1_151/trigger_thr0.005_cl9_op3/cc_filtered_2den0.81_gausrad2.0/', list(['mean_170619-video1_151-008_opened_cc26.png']), array([ 1.        , 84.34906691,  6.65093309,  1.        ,  1.33284308])),\n",
       "       (748, '/media/alessandro/DATA/tesi/Nebbia/pre-processed_data/170619/video1_151/trigger_thr0.005_cl9_op3/cc_filtered_2den0.81_gausrad2.0/', list(['mean_170619-video1_151-031_opened_cc16.png']), array([ 1.        , 87.17050011,  6.10076147,  3.        ,  1.10519634])),\n",
       "       (749, '/media/alessandro/DATA/tesi/Nebbia/pre-processed_data/170619/video1_151/trigger_thr0.005_cl9_op3/cc_filtered_2den0.81_gausrad2.0/', list(['mean_170619-video1_151-044_opened_cc09.png']), array([ 1.        , 76.96719547, 16.03280453,  1.        ,  1.16751052])),\n",
       "       (750, '/media/alessandro/DATA/tesi/Nebbia/pre-processed_data/170619/video1_152/trigger_thr0.005_cl9_op3/cc_filtered_2den0.81_gausrad2.0/', list(['mean_170619-video1_152-010_opened_cc25.png']), array([  1.        , 130.96061771,   4.03938229,   1.        ,\n",
       "         2.17184475])),\n",
       "       (751, '/media/alessandro/DATA/tesi/Nebbia/pre-processed_data/170619/video1_152/trigger_thr0.005_cl9_op3/cc_filtered_2den0.81_gausrad2.0/', list(['mean_170619-video1_152-013_opened_cc01.png']), array([  1.        , 138.78115327,  13.43488794,   2.        ,\n",
       "         1.56607549])),\n",
       "       (752, '/media/alessandro/DATA/tesi/Nebbia/pre-processed_data/170619/video1_152/trigger_thr0.005_cl9_op3/cc_filtered_2den0.81_gausrad2.0/', list(['mean_170619-video1_152-028_opened_cc04.png']), array([ 1.        , 73.18573862,  7.71840497,  2.        ,  1.03037633])),\n",
       "       (753, '/media/alessandro/DATA/tesi/Nebbia/pre-processed_data/170619/video1_152/trigger_thr0.005_cl9_op3/cc_filtered_2den0.81_gausrad2.0/', list(['mean_170619-video1_152-030_opened_cc13.png']), array([ 1.        , 74.11171357,  2.38828643,  1.        ,  5.32091094])),\n",
       "       (754, '/media/alessandro/DATA/tesi/Nebbia/pre-processed_data/170619/video1_153/trigger_thr0.005_cl9_op3/cc_filtered_2den0.81_gausrad2.0/', list(['mean_170619-video1_153-032_opened_cc18.png']), array([ 1.        , 90.377725  , 11.31490412,  2.        ,  1.06980237])),\n",
       "       (755, '/media/alessandro/DATA/tesi/Nebbia/pre-processed_data/170619/video1_154/trigger_thr0.005_cl9_op3/cc_filtered_2den0.81_gausrad2.0/', list(['mean_170619-video1_154-022_opened_cc03.png']), array([  1.        , 293.48676876,   8.97460478,   3.        ,\n",
       "         1.70103676])),\n",
       "       (756, '/media/alessandro/DATA/tesi/Nebbia/pre-processed_data/170619/video1_154/trigger_thr0.005_cl9_op3/cc_filtered_2den0.81_gausrad2.0/', list(['mean_170619-video1_154-022_opened_cc35.png']), array([  1.        , 105.64727423,   4.93576902,   2.        ,\n",
       "         1.42377116])),\n",
       "       (757, '/media/alessandro/DATA/tesi/Nebbia/pre-processed_data/170619/video1_155/trigger_thr0.005_cl9_op3/cc_filtered_2den0.81_gausrad2.0/', list(['mean_170619-video1_155-028_opened_cc06.png']), array([  1.        , 147.21407014,   3.91481115,   2.        ,\n",
       "         1.35332432])),\n",
       "       (758, '/media/alessandro/DATA/tesi/Nebbia/pre-processed_data/170619/video1_155/trigger_thr0.005_cl9_op3/cc_filtered_2den0.81_gausrad2.0/', list(['mean_170619-video1_155-038_opened_cc07.png']), array([  1.        , 167.60983347,   5.63122572,   2.        ,\n",
       "         1.61007074])),\n",
       "       (759, '/media/alessandro/DATA/tesi/Nebbia/pre-processed_data/170619/video1_155/trigger_thr0.005_cl9_op3/cc_filtered_2den0.81_gausrad2.0/', list(['mean_170619-video1_155-039_opened_cc01.png']), array([ 1.        , 94.46351224, 10.51389962,  2.        ,  1.44307425])),\n",
       "       (760, '/media/alessandro/DATA/tesi/Nebbia/pre-processed_data/170619/video1_157/trigger_thr0.005_cl9_op3/cc_filtered_2den0.81_gausrad2.0/', list(['mean_170619-video1_157-040_opened_cc18.png']), array([  1.        , 112.30449251,  10.5       ,   2.        ,\n",
       "         1.00379957])),\n",
       "       (761, '/media/alessandro/DATA/tesi/Nebbia/pre-processed_data/170619/video1_158/trigger_thr0.005_cl9_op3/cc_filtered_2den0.81_gausrad2.0/', list(['mean_170619-video1_158-013_opened_cc08.png']), array([ 1.        , 92.59386772,  7.71754214,  2.        ,  1.40455052])),\n",
       "       (762, '/media/alessandro/DATA/tesi/Nebbia/pre-processed_data/170619/video1_158/trigger_thr0.005_cl9_op3/cc_filtered_2den0.81_gausrad2.0/', list(['mean_170619-video1_158-013_opened_cc31.png']), array([  1.        , 145.46454286,  11.53545714,   1.        ,\n",
       "         1.13065969])),\n",
       "       (763, '/media/alessandro/DATA/tesi/Nebbia/pre-processed_data/170619/video1_158/trigger_thr0.005_cl9_op3/cc_filtered_2den0.81_gausrad2.0/', list(['mean_170619-video1_158-015_opened_cc12.png']), array([  1.        , 313.19381642,   8.81833791,   5.        ,\n",
       "         1.74617453])),\n",
       "       (764, '/media/alessandro/DATA/tesi/Nebbia/pre-processed_data/170619/video1_158/trigger_thr0.005_cl9_op3/cc_filtered_2den0.81_gausrad2.0/', list(['mean_170619-video1_158-015_opened_cc31.png']), array([  1.        , 183.31895381,   4.08385855,   3.        ,\n",
       "         1.94252235])),\n",
       "       (765, '/media/alessandro/DATA/tesi/Nebbia/pre-processed_data/170619/video1_158/trigger_thr0.005_cl9_op3/cc_filtered_2den0.81_gausrad2.0/', list(['mean_170619-video1_158-015_opened_cc63.png']), array([  1.        , 178.13927638,  12.86072362,   1.        ,\n",
       "         1.12710264])),\n",
       "       (766, '/media/alessandro/DATA/tesi/Nebbia/pre-processed_data/170619/video1_158/trigger_thr0.005_cl9_op3/cc_filtered_2den0.81_gausrad2.0/', list(['mean_170619-video1_158-015_opened_cc72.png']), array([ 1.        , 90.20227575,  7.10805154,  2.        ,  1.20024568])),\n",
       "       (767, '/media/alessandro/DATA/tesi/Nebbia/pre-processed_data/170619/video1_158/trigger_thr0.005_cl9_op3/cc_filtered_2den0.81_gausrad2.0/', list(['mean_170619-video1_158-034_opened_cc03.png']), array([  1.        , 215.59420176,   3.1404705 ,   4.        ,\n",
       "         2.42103174])),\n",
       "       (768, '/media/alessandro/DATA/tesi/Nebbia/pre-processed_data/170619/video1_158/trigger_thr0.005_cl9_op3/cc_filtered_2den0.81_gausrad2.0/', list(['mean_170619-video1_158-038_opened_cc11.png']), array([  1.        , 127.16789214,  13.83210786,   1.        ,\n",
       "         1.17466402])),\n",
       "       (769, '/media/alessandro/DATA/tesi/Nebbia/pre-processed_data/170619/video1_159/trigger_thr0.005_cl9_op3/cc_filtered_2den0.81_gausrad2.0/', list(['mean_170619-video1_159-007_opened_cc04.png']), array([  1.        , 191.42525263,   5.57092803,   4.        ,\n",
       "         1.74188587])),\n",
       "       (770, '/media/alessandro/DATA/tesi/Nebbia/pre-processed_data/170619/video1_159/trigger_thr0.005_cl9_op3/cc_filtered_2den0.81_gausrad2.0/', list(['mean_170619-video1_159-008_opened_cc12.png']), array([ 1.        , 59.84108407,  9.65891593,  1.        ,  1.32328319])),\n",
       "       (771, '/media/alessandro/DATA/tesi/Nebbia/pre-processed_data/170619/video1_159/trigger_thr0.005_cl9_op3/cc_filtered_2den0.81_gausrad2.0/', list(['mean_170619-video1_159-010_opened_cc21.png']), array([  1.        , 109.30255682,   6.66317703,   2.        ,\n",
       "         1.27044474])),\n",
       "       (772, '/media/alessandro/DATA/tesi/Nebbia/pre-processed_data/170619/video1_159/trigger_thr0.005_cl9_op3/cc_filtered_2den0.81_gausrad2.0/', list(['mean_170619-video1_159-019_opened_cc13.png']), array([ 1.        , 76.87922572,  6.62077428,  1.        ,  1.23042202])),\n",
       "       (773, '/media/alessandro/DATA/tesi/Nebbia/pre-processed_data/170619/video1_160/trigger_thr0.005_cl9_op3/cc_filtered_2den0.81_gausrad2.0/', list(['mean_170619-video1_160-005_opened_cc17.png', 'mean_170619-video1_160-006_opened_cc56.png']), array([ 2.        , 90.21305129,  9.28694871,  1.        ,  1.46756215])),\n",
       "       (774, '/media/alessandro/DATA/tesi/Nebbia/pre-processed_data/170619/video1_160/trigger_thr0.005_cl9_op3/cc_filtered_2den0.81_gausrad2.0/', list(['mean_170619-video1_160-007_opened_cc32.png']), array([ 1.        , 98.02471649,  7.96853512,  2.        ,  1.03806898])),\n",
       "       (775, '/media/alessandro/DATA/tesi/Nebbia/pre-processed_data/170619/video1_160/trigger_thr0.005_cl9_op3/cc_filtered_2den0.81_gausrad2.0/', list(['mean_170619-video1_160-011_opened_cc21.png']), array([  1.        , 133.73901635,   9.83967139,   2.        ,\n",
       "         1.        ])),\n",
       "       (776, '/media/alessandro/DATA/tesi/Nebbia/pre-processed_data/170619/video1_160/trigger_thr0.005_cl9_op3/cc_filtered_2den0.81_gausrad2.0/', list(['mean_170619-video1_160-012_opened_cc26.png']), array([ 1.        , 93.45206829, 10.04793171,  1.        ,  1.19987972])),\n",
       "       (777, '/media/alessandro/DATA/tesi/Nebbia/pre-processed_data/170619/video1_160/trigger_thr0.005_cl9_op3/cc_filtered_2den0.81_gausrad2.0/', list(['mean_170619-video1_160-012_opened_cc44.png']), array([  1.        , 260.72848698,  10.40553169,   3.        ,\n",
       "         1.52579806])),\n",
       "       (778, '/media/alessandro/DATA/tesi/Nebbia/pre-processed_data/170619/video1_160/trigger_thr0.005_cl9_op3/cc_filtered_2den0.81_gausrad2.0/', list(['mean_170619-video1_160-014_opened_cc27.png']), array([ 1.        , 80.89068421,  5.42991445,  2.        ,  1.76308179])),\n",
       "       (779, '/media/alessandro/DATA/tesi/Nebbia/pre-processed_data/170619/video1_160/trigger_thr0.005_cl9_op3/cc_filtered_2den0.81_gausrad2.0/', list(['mean_170619-video1_160-033_opened_cc06.png']), array([  1.        , 127.40630827,  10.09369173,   1.        ,\n",
       "         1.19763719])),\n",
       "       (780, '/media/alessandro/DATA/tesi/Nebbia/pre-processed_data/170619/video1_160/trigger_thr0.005_cl9_op3/cc_filtered_2den0.81_gausrad2.0/', list(['mean_170619-video1_160-034_opened_cc34.png']), array([ 1.        , 89.21467561, 23.78532439,  1.        ,  1.02390155])),\n",
       "       (781, '/media/alessandro/DATA/tesi/Nebbia/pre-processed_data/170619/video1_160/trigger_thr0.005_cl9_op3/cc_filtered_2den0.81_gausrad2.0/', list(['mean_170619-video1_160-036_opened_cc04.png']), array([  1.        , 243.83888585,   9.70356929,   4.        ,\n",
       "         1.48937192])),\n",
       "       (782, '/media/alessandro/DATA/tesi/Nebbia/pre-processed_data/170619/video1_160/trigger_thr0.005_cl9_op3/cc_filtered_2den0.81_gausrad2.0/', list(['mean_170619-video1_160-036_opened_cc46.png']), array([ 1.        , 59.76784887, 21.23215113,  1.        ,  1.        ])),\n",
       "       (783, '/media/alessandro/DATA/tesi/Nebbia/pre-processed_data/170619/video1_161/trigger_thr0.005_cl9_op3/cc_filtered_2den0.81_gausrad2.0/', list(['mean_170619-video1_161-010_opened_cc03.png']), array([  1.        , 113.55305053,   7.87958389,   2.        ,\n",
       "         1.23653882])),\n",
       "       (784, '/media/alessandro/DATA/tesi/Nebbia/pre-processed_data/170619/video1_161/trigger_thr0.005_cl9_op3/cc_filtered_2den0.81_gausrad2.0/', list(['mean_170619-video1_161-018_opened_cc40.png']), array([  1.        , 225.95729043,   3.69087439,   3.        ,\n",
       "         2.17619012])),\n",
       "       (785, '/media/alessandro/DATA/tesi/Nebbia/pre-processed_data/170619/video1_161/trigger_thr0.005_cl9_op3/cc_filtered_2den0.81_gausrad2.0/', list(['mean_170619-video1_161-018_opened_cc73.png']), array([  1.        , 266.07621402,  12.15787037,   3.        ,\n",
       "         1.39898735])),\n",
       "       (786, '/media/alessandro/DATA/tesi/Nebbia/pre-processed_data/170619/video1_161/trigger_thr0.005_cl9_op3/cc_filtered_2den0.81_gausrad2.0/', list(['mean_170619-video1_161-018_opened_cc90.png']), array([  1.        , 219.93430319,   8.40410128,   4.        ,\n",
       "         1.86505593])),\n",
       "       (787, '/media/alessandro/DATA/tesi/Nebbia/pre-processed_data/170619/video1_161/trigger_thr0.005_cl9_op3/cc_filtered_2den0.81_gausrad2.0/', list(['mean_170619-video1_161-020_opened_cc01.png']), array([  1.        , 117.31268414,   9.55154874,   2.        ,\n",
       "         1.33309868])),\n",
       "       (788, '/media/alessandro/DATA/tesi/Nebbia/pre-processed_data/170619/video1_161/trigger_thr0.005_cl9_op3/cc_filtered_2den0.81_gausrad2.0/', list(['mean_170619-video1_161-021_opened_cc31.png']), array([ 1.        , 49.68729304, 30.81270696,  1.        ,  1.        ])),\n",
       "       (789, '/media/alessandro/DATA/tesi/Nebbia/pre-processed_data/170619/video1_161/trigger_thr0.005_cl9_op3/cc_filtered_2den0.81_gausrad2.0/', list(['mean_170619-video1_161-021_opened_cc35.png']), array([ 1.        , 58.35523802, 10.14476198,  1.        ,  1.69591466])),\n",
       "       (790, '/media/alessandro/DATA/tesi/Nebbia/pre-processed_data/170619/video1_162/trigger_thr0.005_cl9_op3/cc_filtered_2den0.81_gausrad2.0/', list(['mean_170619-video1_162-007_opened_cc06.png', 'mean_170619-video1_162-008_opened_cc42.png', 'mean_170619-video1_162-009_opened_cc51.png']), array([  3.        , 189.17817632,  29.138279  ,   2.        ,\n",
       "         1.29652962])),\n",
       "       (791, '/media/alessandro/DATA/tesi/Nebbia/pre-processed_data/170619/video1_162/trigger_thr0.005_cl9_op3/cc_filtered_2den0.81_gausrad2.0/', list(['mean_170619-video1_162-009_opened_cc38.png']), array([  1.        , 111.87038212,   5.13837119,   2.        ,\n",
       "         1.61944016])),\n",
       "       (792, '/media/alessandro/DATA/tesi/Nebbia/pre-processed_data/170619/video1_162/trigger_thr0.005_cl9_op3/cc_filtered_2den0.81_gausrad2.0/', list(['mean_170619-video1_162-042_opened_cc02.png', 'mean_170619-video1_162-043_opened_cc05.png']), array([  2.        , 134.65489196,  11.25472619,   1.5       ,\n",
       "         1.02143912])),\n",
       "       (793, '/media/alessandro/DATA/tesi/Nebbia/pre-processed_data/170619/video1_163/trigger_thr0.005_cl9_op3/cc_filtered_2den0.81_gausrad2.0/', list(['mean_170619-video1_163-011_opened_cc01.png']), array([  1.        , 103.13634793,   8.87189744,   2.        ,\n",
       "         1.02110191])),\n",
       "       (794, '/media/alessandro/DATA/tesi/Nebbia/pre-processed_data/170619/video1_163/trigger_thr0.005_cl9_op3/cc_filtered_2den0.81_gausrad2.0/', list(['mean_170619-video1_163-047_opened_cc01.png']), array([  1.        , 333.73719804,   4.76003978,   4.        ,\n",
       "         1.52507522])),\n",
       "       (795, '/media/alessandro/DATA/tesi/Nebbia/pre-processed_data/170619/video1_163/trigger_thr0.005_cl9_op3/cc_filtered_2den0.81_gausrad2.0/', list(['mean_170619-video1_163-047_opened_cc07.png']), array([ 1.        , 87.52959374, 11.47040626,  1.        ,  1.17280907])),\n",
       "       (796, '/media/alessandro/DATA/tesi/Nebbia/pre-processed_data/170619/video1_164/trigger_thr0.005_cl9_op3/cc_filtered_2den0.81_gausrad2.0/', list(['mean_170619-video1_164-008_opened_cc05.png']), array([  1.        , 190.43661698,   9.06338302,   1.        ,\n",
       "         1.02012948])),\n",
       "       (797, '/media/alessandro/DATA/tesi/Nebbia/pre-processed_data/170619/video1_164/trigger_thr0.005_cl9_op3/cc_filtered_2den0.81_gausrad2.0/', list(['mean_170619-video1_164-014_opened_cc08.png']), array([  1.        , 170.24864358,  12.26574441,   2.        ,\n",
       "         1.        ])),\n",
       "       (798, '/media/alessandro/DATA/tesi/Nebbia/pre-processed_data/170619/video1_164/trigger_thr0.005_cl9_op3/cc_filtered_2den0.81_gausrad2.0/', list(['mean_170619-video1_164-014_opened_cc51.png']), array([  1.        , 121.44512484,   8.7959395 ,   2.        ,\n",
       "         1.84092308])),\n",
       "       (799, '/media/alessandro/DATA/tesi/Nebbia/pre-processed_data/170619/video1_164/trigger_thr0.005_cl9_op3/cc_filtered_2den0.81_gausrad2.0/', list(['mean_170619-video1_164-014_opened_cc58.png']), array([  1.        , 163.06588249,   6.54782776,   2.        ,\n",
       "         1.16342151])),\n",
       "       (800, '/media/alessandro/DATA/tesi/Nebbia/pre-processed_data/170619/video1_164/trigger_thr0.005_cl9_op3/cc_filtered_2den0.81_gausrad2.0/', list(['mean_170619-video1_164-044_opened_cc47.png']), array([  1.        , 168.05914248,  12.82266314,   4.        ,\n",
       "         1.        ])),\n",
       "       (801, '/media/alessandro/DATA/tesi/Nebbia/pre-processed_data/170619/video1_164/trigger_thr0.005_cl9_op3/cc_filtered_2den0.81_gausrad2.0/', list(['mean_170619-video1_164-044_opened_cc52.png']), array([ 1.       , 64.6354706, 18.3645294,  1.       ,  1.       ])),\n",
       "       (802, '/media/alessandro/DATA/tesi/Nebbia/pre-processed_data/170619/video1_165/trigger_thr0.005_cl9_op3/cc_filtered_2den0.81_gausrad2.0/', list(['mean_170619-video1_165-005_opened_cc12.png', 'mean_170619-video1_165-006_opened_cc11.png', 'mean_170619-video1_165-007_opened_cc08.png']), array([  3.        , 138.2812563 ,  22.05207703,   1.        ,\n",
       "         1.14314253])),\n",
       "       (803, '/media/alessandro/DATA/tesi/Nebbia/pre-processed_data/170619/video1_165/trigger_thr0.005_cl9_op3/cc_filtered_2den0.81_gausrad2.0/', list(['mean_170619-video1_165-006_opened_cc58.png', 'mean_170619-video1_165-007_opened_cc45.png']), array([ 2.        , 90.98582523,  8.49761409,  1.5       ,  1.32494536])),\n",
       "       (804, '/media/alessandro/DATA/tesi/Nebbia/pre-processed_data/170619/video1_165/trigger_thr0.005_cl9_op3/cc_filtered_2den0.81_gausrad2.0/', list(['mean_170619-video1_165-007_opened_cc10.png']), array([  1.        , 180.02761651,   5.72691376,   2.        ,\n",
       "         1.38791093])),\n",
       "       (805, '/media/alessandro/DATA/tesi/Nebbia/pre-processed_data/170619/video1_165/trigger_thr0.005_cl9_op3/cc_filtered_2den0.81_gausrad2.0/', list(['mean_170619-video1_165-020_opened_cc03.png']), array([  1.        , 101.87773022,   7.76975053,   2.        ,\n",
       "         1.07454243])),\n",
       "       (806, '/media/alessandro/DATA/tesi/Nebbia/pre-processed_data/170619/video1_165/trigger_thr0.005_cl9_op3/cc_filtered_2den0.81_gausrad2.0/', list(['mean_170619-video1_165-030_opened_cc11.png']), array([ 1.        , 92.84678264,  8.15321736,  1.        ,  1.09872079])),\n",
       "       (807, '/media/alessandro/DATA/tesi/Nebbia/pre-processed_data/170619/video1_165/trigger_thr0.005_cl9_op3/cc_filtered_2den0.81_gausrad2.0/', list(['mean_170619-video1_165-037_opened_cc12.png', 'mean_170619-video1_165-038_opened_cc12.png']), array([ 2.        , 91.99941894, 14.25058106,  1.        ,  1.        ])),\n",
       "       (808, '/media/alessandro/DATA/tesi/Nebbia/pre-processed_data/170619/video1_166/trigger_thr0.005_cl9_op3/cc_filtered_2den0.81_gausrad2.0/', list(['mean_170619-video1_166-006_opened_cc73.png']), array([  1.        , 145.05599452,   7.70416725,   3.        ,\n",
       "         1.55749253])),\n",
       "       (809, '/media/alessandro/DATA/tesi/Nebbia/pre-processed_data/170619/video1_166/trigger_thr0.005_cl9_op3/cc_filtered_2den0.81_gausrad2.0/', list(['mean_170619-video1_166-007_opened_cc45.png']), array([  1.        , 126.14985177,  12.20215065,   2.        ,\n",
       "         1.14210709])),\n",
       "       (810, '/media/alessandro/DATA/tesi/Nebbia/pre-processed_data/170619/video1_166/trigger_thr0.005_cl9_op3/cc_filtered_2den0.81_gausrad2.0/', list(['mean_170619-video1_166-025_opened_cc02.png']), array([  1.        , 101.40253158,   6.59746842,   1.        ,\n",
       "         1.5027958 ])),\n",
       "       (811, '/media/alessandro/DATA/tesi/Nebbia/pre-processed_data/170619/video1_166/trigger_thr0.005_cl9_op3/cc_filtered_2den0.81_gausrad2.0/', list(['mean_170619-video1_166-025_opened_cc15.png']), array([  1.        , 262.88815492,   8.31239973,   5.        ,\n",
       "         1.23923911])),\n",
       "       (812, '/media/alessandro/DATA/tesi/Nebbia/pre-processed_data/170619/video1_166/trigger_thr0.005_cl9_op3/cc_filtered_2den0.81_gausrad2.0/', list(['mean_170619-video1_166-031_opened_cc03.png']), array([  1.        , 208.06743599,   6.43305564,   4.        ,\n",
       "         1.40094488])),\n",
       "       (813, '/media/alessandro/DATA/tesi/Nebbia/pre-processed_data/170619/video1_167/trigger_thr0.005_cl9_op3/cc_filtered_2den0.81_gausrad2.0/', list(['mean_170619-video1_167-013_opened_cc51.png']), array([  1.        , 253.7388061 ,  11.89324577,   2.        ,\n",
       "         1.61056128])),\n",
       "       (814, '/media/alessandro/DATA/tesi/Nebbia/pre-processed_data/170619/video1_167/trigger_thr0.005_cl9_op3/cc_filtered_2den0.81_gausrad2.0/', list(['mean_170619-video1_167-018_opened_cc40.png']), array([  1.        , 178.98553281,   6.5129914 ,   3.        ,\n",
       "         1.73478275])),\n",
       "       (815, '/media/alessandro/DATA/tesi/Nebbia/pre-processed_data/170619/video1_167/trigger_thr0.005_cl9_op3/cc_filtered_2den0.81_gausrad2.0/', list(['mean_170619-video1_167-018_opened_cc42.png']), array([  1.        , 273.13584444,   8.64148258,   6.        ,\n",
       "         1.62233474])),\n",
       "       (816, '/media/alessandro/DATA/tesi/Nebbia/pre-processed_data/170619/video1_167/trigger_thr0.005_cl9_op3/cc_filtered_2den0.81_gausrad2.0/', list(['mean_170619-video1_167-019_opened_cc03.png']), array([  1.        , 134.72568145,   5.59575668,   3.        ,\n",
       "         1.63704211])),\n",
       "       (817, '/media/alessandro/DATA/tesi/Nebbia/pre-processed_data/170619/video1_167/trigger_thr0.005_cl9_op3/cc_filtered_2den0.81_gausrad2.0/', list(['mean_170619-video1_167-019_opened_cc05.png']), array([  1.        , 162.96112151,   8.0159403 ,   2.        ,\n",
       "         1.17044525])),\n",
       "       (818, '/media/alessandro/DATA/tesi/Nebbia/pre-processed_data/170619/video1_167/trigger_thr0.005_cl9_op3/cc_filtered_2den0.81_gausrad2.0/', list(['mean_170619-video1_167-020_opened_cc06.png']), array([  1.        , 508.76711677,  11.70612189,   6.        ,\n",
       "         1.96765448])),\n",
       "       (819, '/media/alessandro/DATA/tesi/Nebbia/pre-processed_data/170619/video1_167/trigger_thr0.005_cl9_op3/cc_filtered_2den0.81_gausrad2.0/', list(['mean_170619-video1_167-048_opened_cc01.png']), array([  1.        , 118.92160234,  10.57839766,   1.        ,\n",
       "         1.19130263])),\n",
       "       (820, '/media/alessandro/DATA/tesi/Nebbia/pre-processed_data/170619/video1_168/trigger_thr0.005_cl9_op3/cc_filtered_2den0.81_gausrad2.0/', list(['mean_170619-video1_168-003_opened_cc14.png', 'mean_170619-video1_168-004_opened_cc26.png']), array([  2.        , 221.81506712,   6.40611172,   4.5       ,\n",
       "         1.3000412 ])),\n",
       "       (821, '/media/alessandro/DATA/tesi/Nebbia/pre-processed_data/170619/video1_168/trigger_thr0.005_cl9_op3/cc_filtered_2den0.81_gausrad2.0/', list(['mean_170619-video1_168-003_opened_cc35.png']), array([  1.        , 303.72258616,  10.75509278,   2.        ,\n",
       "         1.34306406])),\n",
       "       (822, '/media/alessandro/DATA/tesi/Nebbia/pre-processed_data/170619/video1_168/trigger_thr0.005_cl9_op3/cc_filtered_2den0.81_gausrad2.0/', list(['mean_170619-video1_168-004_opened_cc57.png']), array([  1.        , 187.63353378,   7.89841284,   4.        ,\n",
       "         1.30613232])),\n",
       "       (823, '/media/alessandro/DATA/tesi/Nebbia/pre-processed_data/170619/video1_168/trigger_thr0.005_cl9_op3/cc_filtered_2den0.81_gausrad2.0/', list(['mean_170619-video1_168-004_opened_cc75.png']), array([ 1.        , 89.7484104 , 13.17405446,  2.        ,  1.04863162])),\n",
       "       (824, '/media/alessandro/DATA/tesi/Nebbia/pre-processed_data/170619/video1_168/trigger_thr0.005_cl9_op3/cc_filtered_2den0.81_gausrad2.0/', list(['mean_170619-video1_168-038_opened_cc01.png']), array([  1.        , 196.41976613,  12.39448768,   3.        ,\n",
       "         1.38633513])),\n",
       "       (825, '/media/alessandro/DATA/tesi/Nebbia/pre-processed_data/170619/video1_168/trigger_thr0.005_cl9_op3/cc_filtered_2den0.81_gausrad2.0/', list(['mean_170619-video1_168-038_opened_cc02.png']), array([  1.        , 210.74781248,  10.75218752,   1.        ,\n",
       "         1.        ])),\n",
       "       (826, '/media/alessandro/DATA/tesi/Nebbia/pre-processed_data/170619/video1_168/trigger_thr0.005_cl9_op3/cc_filtered_2den0.81_gausrad2.0/', list(['mean_170619-video1_168-039_opened_cc05.png']), array([  1.        , 158.39292539,   2.67765966,   3.        ,\n",
       "         1.79945493])),\n",
       "       (827, '/media/alessandro/DATA/tesi/Nebbia/pre-processed_data/170619/video1_169/trigger_thr0.005_cl9_op3/cc_filtered_2den0.81_gausrad2.0/', list(['mean_170619-video1_169-006_opened_cc15.png']), array([ 1.        , 92.16660188,  9.25604957,  2.        ,  1.19095793])),\n",
       "       (828, '/media/alessandro/DATA/tesi/Nebbia/pre-processed_data/170619/video1_169/trigger_thr0.005_cl9_op3/cc_filtered_2den0.81_gausrad2.0/', list(['mean_170619-video1_169-030_opened_cc46.png']), array([  1.        , 110.8618381 ,   6.25588398,   2.        ,\n",
       "         1.16106383])),\n",
       "       (829, '/media/alessandro/DATA/tesi/Nebbia/pre-processed_data/170619/video1_170/trigger_thr0.005_cl9_op3/cc_filtered_2den0.81_gausrad2.0/', list(['mean_170619-video1_170-037_opened_cc11.png']), array([  1.        , 120.83815499,   7.89312908,   2.        ,\n",
       "         1.14196619])),\n",
       "       (830, '/media/alessandro/DATA/tesi/Nebbia/pre-processed_data/170619/video1_171/trigger_thr0.005_cl9_op3/cc_filtered_2den0.81_gausrad2.0/', list(['mean_170619-video1_171-007_opened_cc01.png']), array([  1.        , 109.05459963,   5.32338751,   3.        ,\n",
       "         1.23973718])),\n",
       "       (831, '/media/alessandro/DATA/tesi/Nebbia/pre-processed_data/170619/video1_171/trigger_thr0.005_cl9_op3/cc_filtered_2den0.81_gausrad2.0/', list(['mean_170619-video1_171-025_opened_cc51.png']), array([  1.        , 143.95672363,   4.66262686,   3.        ,\n",
       "         1.36386023])),\n",
       "       (832, '/media/alessandro/DATA/tesi/Nebbia/pre-processed_data/170619/video1_171/trigger_thr0.005_cl9_op3/cc_filtered_2den0.81_gausrad2.0/', list(['mean_170619-video1_171-030_opened_cc35.png']), array([ 1.        , 96.76950427, 10.23049573,  1.        ,  1.09894414])),\n",
       "       (833, '/media/alessandro/DATA/tesi/Nebbia/pre-processed_data/170619/video1_171/trigger_thr0.005_cl9_op3/cc_filtered_2den0.81_gausrad2.0/', list(['mean_170619-video1_171-031_opened_cc36.png']), array([ 1.        , 78.1949174 , 11.3050826 ,  1.        ,  1.01827003])),\n",
       "       (834, '/media/alessandro/DATA/tesi/Nebbia/pre-processed_data/170619/video1_172/trigger_thr0.005_cl9_op3/cc_filtered_2den0.81_gausrad2.0/', list(['mean_170619-video1_172-020_opened_cc15.png', 'mean_170619-video1_172-021_opened_cc07.png']), array([  2.        , 108.30237053,  15.5328518 ,   2.        ,\n",
       "         1.00795898])),\n",
       "       (835, '/media/alessandro/DATA/tesi/Nebbia/pre-processed_data/170619/video1_172/trigger_thr0.005_cl9_op3/cc_filtered_2den0.81_gausrad2.0/', list(['mean_170619-video1_172-020_opened_cc38.png']), array([  1.        , 116.01069396,  22.48930604,   1.        ,\n",
       "         1.        ])),\n",
       "       (836, '/media/alessandro/DATA/tesi/Nebbia/pre-processed_data/170619/video1_172/trigger_thr0.005_cl9_op3/cc_filtered_2den0.81_gausrad2.0/', list(['mean_170619-video1_172-043_opened_cc01.png']), array([  1.        , 280.15110431,  12.39916726,   3.        ,\n",
       "         1.98888907])),\n",
       "       (837, '/media/alessandro/DATA/tesi/Nebbia/pre-processed_data/170619/video1_172/trigger_thr0.005_cl9_op3/cc_filtered_2den0.81_gausrad2.0/', list(['mean_170619-video1_172-044_opened_cc04.png']), array([  1.        , 502.80963459,   5.03753081,   7.        ,\n",
       "         1.96239408])),\n",
       "       (838, '/media/alessandro/DATA/tesi/Nebbia/pre-processed_data/170619/video1_172/trigger_thr0.005_cl9_op3/cc_filtered_2den0.81_gausrad2.0/', list(['mean_170619-video1_172-044_opened_cc37.png']), array([  1.        , 163.61165372,   9.43446687,   2.        ,\n",
       "         1.40913688])),\n",
       "       (839, '/media/alessandro/DATA/tesi/Nebbia/pre-processed_data/170619/video1_173/trigger_thr0.005_cl9_op3/cc_filtered_2den0.81_gausrad2.0/', list(['mean_170619-video1_173-016_opened_cc05.png']), array([  1.        , 190.13804184,   8.44907762,   2.        ,\n",
       "         1.17366926])),\n",
       "       (840, '/media/alessandro/DATA/tesi/Nebbia/pre-processed_data/170619/video1_173/trigger_thr0.005_cl9_op3/cc_filtered_2den0.81_gausrad2.0/', list(['mean_170619-video1_173-019_opened_cc02.png', 'mean_170619-video1_173-020_opened_cc03.png']), array([  2.        , 269.4172349 ,  11.15846667,   3.        ,\n",
       "         1.78840751])),\n",
       "       (841, '/media/alessandro/DATA/tesi/Nebbia/pre-processed_data/170619/video1_173/trigger_thr0.005_cl9_op3/cc_filtered_2den0.81_gausrad2.0/', list(['mean_170619-video1_173-019_opened_cc06.png']), array([  1.        , 123.90384939,   9.59615061,   1.        ,\n",
       "         1.        ])),\n",
       "       (842, '/media/alessandro/DATA/tesi/Nebbia/pre-processed_data/170619/video1_173/trigger_thr0.005_cl9_op3/cc_filtered_2den0.81_gausrad2.0/', list(['mean_170619-video1_173-020_opened_cc14.png']), array([  1.        , 155.06273874,   6.78865951,   3.        ,\n",
       "         1.19067854])),\n",
       "       (843, '/media/alessandro/DATA/tesi/Nebbia/pre-processed_data/170619/video1_174/trigger_thr0.005_cl9_op3/cc_filtered_2den0.81_gausrad2.0/', list(['mean_170619-video1_174-016_opened_cc16.png']), array([ 1.        , 80.45145737, 13.54854263,  1.        ,  1.        ])),\n",
       "       (844, '/media/alessandro/DATA/tesi/Nebbia/pre-processed_data/170619/video1_174/trigger_thr0.005_cl9_op3/cc_filtered_2den0.81_gausrad2.0/', list(['mean_170619-video1_174-016_opened_cc40.png']), array([  1.        , 126.1191927 ,   9.93853902,   2.        ,\n",
       "         1.0562139 ])),\n",
       "       (845, '/media/alessandro/DATA/tesi/Nebbia/pre-processed_data/170619/video1_174/trigger_thr0.005_cl9_op3/cc_filtered_2den0.81_gausrad2.0/', list(['mean_170619-video1_174-048_opened_cc01.png']), array([  1.        , 167.79519147,   8.640745  ,   4.        ,\n",
       "         1.32653746])),\n",
       "       (846, '/media/alessandro/DATA/tesi/Nebbia/pre-processed_data/170619/video1_175/trigger_thr0.005_cl9_op3/cc_filtered_2den0.81_gausrad2.0/', list(['mean_170619-video1_175-039_opened_cc06.png']), array([  1.        , 212.21446221,  11.79435341,   3.        ,\n",
       "         2.00220143])),\n",
       "       (848, '/media/alessandro/DATA/tesi/Nebbia/pre-processed_data/170619/video1_176/trigger_thr0.005_cl9_op3/cc_filtered_2den0.81_gausrad2.0/', list(['mean_170619-video1_176-006_opened_cc04.png']), array([  1.        , 117.15033906,   7.38951489,   3.        ,\n",
       "         1.17979104])),\n",
       "       (849, '/media/alessandro/DATA/tesi/Nebbia/pre-processed_data/170619/video1_176/trigger_thr0.005_cl9_op3/cc_filtered_2den0.81_gausrad2.0/', list(['mean_170619-video1_176-016_opened_cc01.png']), array([  1.        , 108.19103044,   8.11145618,   2.        ,\n",
       "         1.79819577]))],\n",
       "      dtype=[('ID', '<i8'), ('path', '<U200'), ('names', 'O'), ('values', 'O')])"
      ]
     },
     "execution_count": 3,
     "metadata": {},
     "output_type": "execute_result"
    }
   ],
   "source": [
    "d.slim_particles"
   ]
  },
  {
   "cell_type": "code",
   "execution_count": 98,
   "metadata": {},
   "outputs": [],
   "source": [
    "d.slim_particles[321][3] = np.array([4.,200,21,1.5,1.02])\n",
    "d.values[321] = np.array([4.,200,21,1.5,1.02])\n",
    "d.labels[321] = 1"
   ]
  },
  {
   "cell_type": "code",
   "execution_count": 13,
   "metadata": {
    "scrolled": false
   },
   "outputs": [
    {
     "name": "stdout",
     "output_type": "stream",
     "text": [
      "Help on method plot in module Clusterizer:\n",
      "\n",
      "plot(labels=[]) method of Clusterizer.Clusterizer instance\n",
      "    Before running this function type\n",
      "    \n",
      "        %matplotlib notebook\n",
      "        \n",
      "    Use the lists to select axis\n",
      "    \n",
      "    Click near a data point to select it:\n",
      "        press 'f' to view its pre-processed Frame picture\n",
      "        press 't' to view its Trace analysis (takes a bit of time)\n",
      "        press 'n' to go to the Next trace of that particle\n",
      "        press 'r' to Recall the selected particle after you changed the axis\n",
      "        press 'e' to view its frame from the vidEo\n",
      "        press 'a' to highlight All components in the same video frame of the selected particle\n",
      "        press 'w' to close (Waste) all figures windows \n",
      "        press 'b' to change the laBel of the selected particle\n",
      "        press 's' to Save the capacitor\n",
      "        \n",
      "    If you want to use diffrent labels for the data point run plot(labels=<mylabels>)\n",
      "\n"
     ]
    }
   ],
   "source": [
    "help(d.plot)"
   ]
  },
  {
   "cell_type": "code",
   "execution_count": 3,
   "metadata": {},
   "outputs": [
    {
     "data": {
      "application/vnd.jupyter.widget-view+json": {
       "model_id": "0b862e83b034486f88e5c5d195ca5887"
      }
     },
     "metadata": {},
     "output_type": "display_data"
    }
   ],
   "source": [
    "%matplotlib notebook\n",
    "d.plot()"
   ]
  },
  {
   "cell_type": "markdown",
   "metadata": {},
   "source": [
    "# Big Clusterizer (alla data)"
   ]
  },
  {
   "cell_type": "code",
   "execution_count": 18,
   "metadata": {},
   "outputs": [],
   "source": [
    "big_c = Clusterizer.load_Clusterizer(path='./Clusterizers/',name='all_e5_no_source')"
   ]
  },
  {
   "cell_type": "code",
   "execution_count": 3,
   "metadata": {},
   "outputs": [],
   "source": [
    "reduced_c = Clusterizer.sub_Clusterizer(big_c,newname='reduced')"
   ]
  },
  {
   "cell_type": "code",
   "execution_count": 19,
   "metadata": {},
   "outputs": [
    {
     "name": "stdout",
     "output_type": "stream",
     "text": [
      "27\n",
      "real signals, believed signals, false signals, missed signals\n",
      "75 40 4 39\n",
      "0.48 0.9\n",
      "4427\n"
     ]
    }
   ],
   "source": [
    "c = big_c\n",
    "\n",
    "p1_count = 0\n",
    "for i,v in enumerate(c.values):\n",
    "    if v[0] == 1 and c.labels[i] == 1:\n",
    "        p1_count += 1\n",
    "print(p1_count)\n",
    "\n",
    "labels,e,p = Clusterizer.classify(c,thrs=[2,400,17,4,1.8],verbose=True)\n",
    "print(e,p)\n",
    "print(len(c.labels))"
   ]
  },
  {
   "cell_type": "code",
   "execution_count": 15,
   "metadata": {
    "scrolled": false
   },
   "outputs": [
    {
     "data": {
      "image/png": "[encoded data removed]",
      "text/plain": [
       "<Figure size 432x288 with 1 Axes>"
      ]
     },
     "metadata": {
      "needs_background": "light"
     },
     "output_type": "display_data"
    }
   ],
   "source": [
    "c = big_c\n",
    "\n",
    "min_persistence = 2\n",
    "max_lenght = 400\n",
    "min_thickness = 17\n",
    "max_n_components = 4\n",
    "max_curvature = 1.8\n",
    "\n",
    "centers = [min_persistence,max_lenght,min_thickness,max_n_components,max_curvature]\n",
    "names = ['persistence','lenght','thickness','n_components','curvature']\n",
    "\n",
    "persistence_fluctuation = np.arange(1,5,1)\n",
    "lenght_fluctuation = np.arange(80,900,10)\n",
    "thickness_fluctuation = np.arange(10,25,0.5)\n",
    "n_components_fluctuation = np.arange(1,10,1)\n",
    "curvature_fluctuation = np.arange(1.1,4,0.1)\n",
    "\n",
    "fluctuations = [persistence_fluctuation,lenght_fluctuation,thickness_fluctuation,\n",
    "                n_components_fluctuation,curvature_fluctuation]\n",
    "\n",
    "plt.figure()\n",
    "plt.xlabel('efficiency')\n",
    "plt.ylabel('purity')\n",
    "\n",
    "big_vep = []\n",
    "for i,f in enumerate(fluctuations):\n",
    "    vep = []\n",
    "    for v in f:\n",
    "        thrs = np.copy(centers)\n",
    "        thrs[i] = v\n",
    "        #print(thrs)\n",
    "        labels,e,p = Clusterizer.classify(c,thrs=thrs,verbose=False)\n",
    "        vep.append([v,e,p])\n",
    "    vep = np.array(vep)\n",
    "    big_vep.append(vep)\n",
    "    plt.plot(vep[:,1],vep[:,2],label='varying '+names[i])\n",
    "    \n",
    "plt.legend()\n",
    "plt.show()"
   ]
  },
  {
   "cell_type": "code",
   "execution_count": 16,
   "metadata": {
    "scrolled": false
   },
   "outputs": [
    {
     "data": {
      "image/png": "[encoded data removed]",
      "text/plain": [
       "<Figure size 432x288 with 1 Axes>"
      ]
     },
     "metadata": {
      "needs_background": "light"
     },
     "output_type": "display_data"
    },
    {
     "data": {
      "image/png": "[encoded data removed]",
      "text/plain": [
       "<Figure size 432x288 with 1 Axes>"
      ]
     },
     "metadata": {
      "needs_background": "light"
     },
     "output_type": "display_data"
    },
    {
     "data": {
      "image/png": "[encoded data removed]",
      "text/plain": [
       "<Figure size 432x288 with 1 Axes>"
      ]
     },
     "metadata": {
      "needs_background": "light"
     },
     "output_type": "display_data"
    },
    {
     "data": {
      "image/png": "[encoded data removed]",
      "text/plain": [
       "<Figure size 432x288 with 1 Axes>"
      ]
     },
     "metadata": {
      "needs_background": "light"
     },
     "output_type": "display_data"
    },
    {
     "data": {
      "image/png": "[encoded data removed]",
      "text/plain": [
       "<Figure size 432x288 with 1 Axes>"
      ]
     },
     "metadata": {
      "needs_background": "light"
     },
     "output_type": "display_data"
    }
   ],
   "source": [
    "%matplotlib inline\n",
    "for index in range(5):\n",
    "\n",
    "    plt.figure()\n",
    "    plt.xlabel(names[index])\n",
    "    plt.plot(big_vep[index][:,0],big_vep[index][:,1],label='efficiency')\n",
    "    plt.plot(big_vep[index][:,0],big_vep[index][:,2],label='purity')\n",
    "    plt.legend()\n",
    "    plt.show()"
   ]
  },
  {
   "cell_type": "code",
   "execution_count": 7,
   "metadata": {},
   "outputs": [
    {
     "data": {
      "text/plain": [
       "125"
      ]
     },
     "execution_count": 7,
     "metadata": {},
     "output_type": "execute_result"
    }
   ],
   "source": [
    "np.sum(big_c.labels % 2)"
   ]
  },
  {
   "cell_type": "code",
   "execution_count": 6,
   "metadata": {},
   "outputs": [
    {
     "data": {
      "application/vnd.jupyter.widget-view+json": {
       "model_id": "ccc749515caf4f3ab1839016b9022dc1"
      }
     },
     "metadata": {},
     "output_type": "display_data"
    }
   ],
   "source": [
    "%matplotlib notebook\n",
    "big_c.plot()"
   ]
  },
  {
   "cell_type": "code",
   "execution_count": 17,
   "metadata": {},
   "outputs": [],
   "source": [
    "# joining Clusterizers\n",
    "path = './Clusterizers/280519/'\n",
    "c3b = Clusterizer.load_Clusterizer(path,'video3b_e5')\n",
    "c6 = Clusterizer.load_Clusterizer(path,'video6_e5')\n",
    "c7 = Clusterizer.load_Clusterizer(path,'video7_e5')\n",
    "c8 = Clusterizer.load_Clusterizer(path,'video8_e5')\n",
    "#c9 = Clusterizer.load_Clusterizer(path,'video9_r6') # low E field\n",
    "c1 = Clusterizer.load_Clusterizer('./Clusterizers/060619/','video1_e5')\n",
    "c2 = Clusterizer.load_Clusterizer('./Clusterizers/060619/','video2_e5')\n",
    "c3 = Clusterizer.load_Clusterizer('./Clusterizers/060619/','video3_e5')\n",
    "l0 = Clusterizer.load_Clusterizer('./Clusterizers/170619/','video1_e5')\n",
    "l1 = Clusterizer.load_Clusterizer('./Clusterizers/270619/','video1_e5')\n",
    "l2 = Clusterizer.load_Clusterizer('./Clusterizers/270619/','video2_e5')\n",
    "l3 = Clusterizer.load_Clusterizer('./Clusterizers/270619/','video3_e5')\n",
    "l4 = Clusterizer.load_Clusterizer('./Clusterizers/270619/','video4_e5')\n",
    "c_list = [c3b,c6,c7,c8,c1,c2,c3,l0,l4]\n",
    "big_c_no_source = Clusterizer.join_Clusterizers(c_list=c_list,name='all_e5_no_source')\n",
    "big_c_no_source.save(path='./Clusterizers/',name='all_e5_no_source')"
   ]
  },
  {
   "cell_type": "code",
   "execution_count": 56,
   "metadata": {},
   "outputs": [
    {
     "name": "stderr",
     "output_type": "stream",
     "text": [
      "Widget Javascript not detected.  It may not be installed or enabled properly.\n"
     ]
    },
    {
     "data": {
      "application/vnd.jupyter.widget-view+json": {
       "model_id": "9dfa5ebe8b2f4a368f8559bb7633b0e2"
      }
     },
     "metadata": {},
     "output_type": "display_data"
    },
    {
     "name": "stderr",
     "output_type": "stream",
     "text": [
      "Widget Javascript not detected.  It may not be installed or enabled properly.\n"
     ]
    },
    {
     "data": {
      "application/vnd.jupyter.widget-view+json": {
       "model_id": "889d0c894ab641c2a371cbcbda4e4529"
      }
     },
     "metadata": {},
     "output_type": "display_data"
    },
    {
     "name": "stderr",
     "output_type": "stream",
     "text": [
      "Widget Javascript not detected.  It may not be installed or enabled properly.\n"
     ]
    },
    {
     "data": {
      "application/vnd.jupyter.widget-view+json": {
       "model_id": "f02f96733e7344afa294f7e5832b185f"
      }
     },
     "metadata": {},
     "output_type": "display_data"
    },
    {
     "name": "stderr",
     "output_type": "stream",
     "text": [
      "Widget Javascript not detected.  It may not be installed or enabled properly.\n"
     ]
    },
    {
     "data": {
      "application/vnd.jupyter.widget-view+json": {
       "model_id": "7349c68782c04b5a9e7f4a3a07c392ee"
      }
     },
     "metadata": {},
     "output_type": "display_data"
    },
    {
     "name": "stderr",
     "output_type": "stream",
     "text": [
      "Widget Javascript not detected.  It may not be installed or enabled properly.\n"
     ]
    },
    {
     "data": {
      "application/vnd.jupyter.widget-view+json": {
       "model_id": "0d2ab74d2eb2417db9451f8f9005b5a5"
      }
     },
     "metadata": {},
     "output_type": "display_data"
    },
    {
     "name": "stderr",
     "output_type": "stream",
     "text": [
      "Widget Javascript not detected.  It may not be installed or enabled properly.\n"
     ]
    },
    {
     "data": {
      "application/vnd.jupyter.widget-view+json": {
       "model_id": "aac238a91e1c4f6396d14f40ad3c4480"
      }
     },
     "metadata": {},
     "output_type": "display_data"
    },
    {
     "name": "stderr",
     "output_type": "stream",
     "text": [
      "Widget Javascript not detected.  It may not be installed or enabled properly.\n"
     ]
    },
    {
     "data": {
      "application/vnd.jupyter.widget-view+json": {
       "model_id": "f89a7a5eb0e745288d561588442eced0"
      }
     },
     "metadata": {},
     "output_type": "display_data"
    },
    {
     "name": "stderr",
     "output_type": "stream",
     "text": [
      "Widget Javascript not detected.  It may not be installed or enabled properly.\n"
     ]
    },
    {
     "data": {
      "application/vnd.jupyter.widget-view+json": {
       "model_id": "bfd1dd4e3b4b4a90a7f62c2c714084b4"
      }
     },
     "metadata": {},
     "output_type": "display_data"
    },
    {
     "name": "stderr",
     "output_type": "stream",
     "text": [
      "Widget Javascript not detected.  It may not be installed or enabled properly.\n"
     ]
    },
    {
     "data": {
      "application/vnd.jupyter.widget-view+json": {
       "model_id": "d83dd2af742a4c6ba3a49696b7d278d1"
      }
     },
     "metadata": {},
     "output_type": "display_data"
    },
    {
     "name": "stderr",
     "output_type": "stream",
     "text": [
      "Widget Javascript not detected.  It may not be installed or enabled properly.\n"
     ]
    },
    {
     "data": {
      "application/vnd.jupyter.widget-view+json": {
       "model_id": "8b896cb540044407862a1b865176230e"
      }
     },
     "metadata": {},
     "output_type": "display_data"
    },
    {
     "name": "stderr",
     "output_type": "stream",
     "text": [
      "Widget Javascript not detected.  It may not be installed or enabled properly.\n"
     ]
    },
    {
     "data": {
      "application/vnd.jupyter.widget-view+json": {
       "model_id": "8821eab2d12141b3ab06bb726274d975"
      }
     },
     "metadata": {},
     "output_type": "display_data"
    },
    {
     "name": "stderr",
     "output_type": "stream",
     "text": [
      "Widget Javascript not detected.  It may not be installed or enabled properly.\n"
     ]
    },
    {
     "data": {
      "application/vnd.jupyter.widget-view+json": {
       "model_id": "c00a63fac0df4e48ae87ef1165e5eb4d"
      }
     },
     "metadata": {},
     "output_type": "display_data"
    }
   ],
   "source": [
    "%matplotlib notebook\n",
    "for c in c_list:\n",
    "    c.plot()"
   ]
  },
  {
   "cell_type": "markdown",
   "metadata": {},
   "source": [
    "### Trying things"
   ]
  },
  {
   "cell_type": "code",
   "execution_count": null,
   "metadata": {},
   "outputs": [],
   "source": [
    "alpha_count = 0\n",
    "for i in big_c.labels:\n",
    "    if i == 1:\n",
    "        alpha_count += 1\n",
    "print(alpha_count)"
   ]
  },
  {
   "cell_type": "code",
   "execution_count": null,
   "metadata": {},
   "outputs": [],
   "source": [
    "# tryes with plt\n",
    "\n",
    "\n",
    "\n",
    "%matplotlib notebook\n",
    "\n",
    "def plot(i):\n",
    "    x = np.arange(0,10)\n",
    "    y = x**i\n",
    "    la = np.ones(10)\n",
    "    \n",
    "\n",
    "    fig, ax = plt.subplots()\n",
    "    ax = plt.scatter(x,y,c=la)\n",
    "\n",
    "\n",
    "\n",
    "    def onclick(event):\n",
    "        global ex,ey,ix,iy\n",
    "        ix = event.xdata\n",
    "        iy = event.ydata\n",
    "        #ax = plt.scatter(ix,iy)\n",
    "        \n",
    "    def onpress(event):\n",
    "        if event.key == 'a':\n",
    "            ax = plt.scatter(ix,iy)\n",
    "        elif event.key == 'w':\n",
    "            os.system('killall eog')\n",
    "        elif event.key == 't':\n",
    "            os.system('eog test.jpg &')\n",
    "        elif event.key == 'd':\n",
    "            ax = plt.suptitle('you pressed d')\n",
    "        elif event.key == 'f':\n",
    "            ax = plt.suptitle('you pressed f')\n",
    "            \n",
    "    cid = fig.canvas.mpl_connect('button_press_event', onclick)\n",
    "    cid2 = fig.canvas.mpl_connect('key_press_event', onpress)\n",
    "\n",
    "ipywidgets.interact(plot, i=[1,2,3,4])"
   ]
  },
  {
   "cell_type": "code",
   "execution_count": null,
   "metadata": {},
   "outputs": [],
   "source": [
    "print(ex,ey,ix,iy)"
   ]
  },
  {
   "cell_type": "code",
   "execution_count": null,
   "metadata": {},
   "outputs": [],
   "source": [
    "ID = os.system('eog test.jpg')\n",
    "print(ID)"
   ]
  },
  {
   "cell_type": "code",
   "execution_count": null,
   "metadata": {},
   "outputs": [],
   "source": [
    "def plot(i):\n",
    "    x = np.arange(0,10)\n",
    "    y = x**i\n",
    "\n",
    "    fig, ax = plt.subplots()\n",
    "    ax = plt.scatter(x,y)\n",
    "    ax = plt.suptitle('ciao')\n",
    "plot(2)"
   ]
  },
  {
   "cell_type": "code",
   "execution_count": null,
   "metadata": {},
   "outputs": [],
   "source": [
    "a = 'x %d, y %.2f, ' % (13.6,3.14159265)\n",
    "print(a)"
   ]
  },
  {
   "cell_type": "code",
   "execution_count": null,
   "metadata": {},
   "outputs": [],
   "source": [
    "X = d.values[:,3]\n",
    "plt.figure()\n",
    "plt.hist(X,bins=30,histtype='step')\n",
    "plt.show()"
   ]
  },
  {
   "cell_type": "code",
   "execution_count": null,
   "metadata": {},
   "outputs": [],
   "source": [
    "color_list = ['black','yellow','green']\n",
    "\n",
    "\n",
    "def color(n):\n",
    "    if type(n) == int:\n",
    "        return color_list[n%len(color_list)]\n",
    "    elif type(n) == np.ndarray:\n",
    "        r = []\n",
    "        for nn in n:\n",
    "            r.append(color_list[nn%len(color_list)])\n",
    "        return np.array(r)\n",
    "    else:\n",
    "        raise TypeError\n",
    "\n"
   ]
  },
  {
   "cell_type": "code",
   "execution_count": null,
   "metadata": {},
   "outputs": [],
   "source": [
    "a = 0\n",
    "color(a)"
   ]
  },
  {
   "cell_type": "code",
   "execution_count": 19,
   "metadata": {},
   "outputs": [
    {
     "data": {
      "text/plain": [
       "(0, 8, 20)"
      ]
     },
     "execution_count": 19,
     "metadata": {},
     "output_type": "execute_result"
    }
   ],
   "source": [
    "secs = 60+300*6 +120+1800\n",
    "secs_source = 500\n",
    "\n",
    "def hms(seconds):\n",
    "    hours = int(seconds/3600)\n",
    "    mins = int(seconds/60 - hours*60)\n",
    "    secs = seconds - mins*60 - hours*3600\n",
    "    return hours,mins,secs\n",
    "\n",
    "hms(secs_source)"
   ]
  },
  {
   "cell_type": "code",
   "execution_count": null,
   "metadata": {},
   "outputs": [],
   "source": []
  }
 ],
 "metadata": {
  "kernelspec": {
   "display_name": "Python 3",
   "language": "python",
   "name": "python3"
  },
  "language_info": {
   "codemirror_mode": {
    "name": "ipython",
    "version": 3
   },
   "file_extension": ".py",
   "mimetype": "text/x-python",
   "name": "python",
   "nbconvert_exporter": "python",
   "pygments_lexer": "ipython3",
   "version": "3.7.3"
  }
 },
 "nbformat": 4,
 "nbformat_minor": 2
}
