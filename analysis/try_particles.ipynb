{
 "cells": [
  {
   "cell_type": "code",
   "execution_count": 1,
   "metadata": {},
   "outputs": [],
   "source": [
    "from Trace import Trace\n",
    "import Particle\n",
    "import Clusterizer\n",
    "\n",
    "import numpy as np\n",
    "import matplotlib.pyplot as plt\n",
    "import ipywidgets\n",
    "import os"
   ]
  },
  {
   "cell_type": "markdown",
   "metadata": {},
   "source": [
    "# Single Clusterizer"
   ]
  },
  {
   "cell_type": "code",
   "execution_count": 2,
   "metadata": {},
   "outputs": [
    {
     "name": "stderr",
     "output_type": "stream",
     "text": [
      "\r",
      "  0%|          | 0/20 [00:00<?, ?it/s]"
     ]
    },
    {
     "name": "stdout",
     "output_type": "stream",
     "text": [
      "found video2_009/trigger_thr0.005_cl9_op3/cc_filtered_2den0.81_gausrad2.0/\n"
     ]
    },
    {
     "name": "stderr",
     "output_type": "stream",
     "text": [
      "\r",
      "  5%|▌         | 1/20 [00:00<00:13,  1.40it/s]"
     ]
    },
    {
     "name": "stdout",
     "output_type": "stream",
     "text": [
      "\n",
      "mean_270619-video2_009-002_opened_cc03.png is INTERESTING\n"
     ]
    },
    {
     "name": "stderr",
     "output_type": "stream",
     "text": [
      "\r",
      " 10%|█         | 2/20 [00:01<00:13,  1.38it/s]"
     ]
    },
    {
     "name": "stdout",
     "output_type": "stream",
     "text": [
      "\n",
      "mean_270619-video2_009-002_opened_cc07.png is INTERESTING\n"
     ]
    },
    {
     "name": "stderr",
     "output_type": "stream",
     "text": [
      "\r",
      " 15%|█▌        | 3/20 [00:02<00:12,  1.40it/s]"
     ]
    },
    {
     "name": "stdout",
     "output_type": "stream",
     "text": [
      "\n",
      "mean_270619-video2_009-002_opened_cc28.png is INTERESTING\n"
     ]
    },
    {
     "name": "stderr",
     "output_type": "stream",
     "text": [
      "\r",
      " 20%|██        | 4/20 [00:02<00:11,  1.42it/s]"
     ]
    },
    {
     "name": "stdout",
     "output_type": "stream",
     "text": [
      "\n",
      "mean_270619-video2_009-002_opened_cc55.png: too spherical 4.5377070678421525\n"
     ]
    },
    {
     "name": "stderr",
     "output_type": "stream",
     "text": [
      "\r",
      " 25%|██▌       | 5/20 [00:03<00:10,  1.43it/s]"
     ]
    },
    {
     "name": "stdout",
     "output_type": "stream",
     "text": [
      "\n",
      "mean_270619-video2_009-005_opened_cc02.png: too spherical 5.251967711830305\n"
     ]
    },
    {
     "name": "stderr",
     "output_type": "stream",
     "text": [
      "\r",
      " 30%|███       | 6/20 [00:04<00:09,  1.40it/s]"
     ]
    },
    {
     "name": "stdout",
     "output_type": "stream",
     "text": [
      "\n",
      "mean_270619-video2_009-005_opened_cc08.png: too spherical 2.1945724940238547\n"
     ]
    },
    {
     "name": "stderr",
     "output_type": "stream",
     "text": [
      "\r",
      " 35%|███▌      | 7/20 [00:05<00:09,  1.32it/s]"
     ]
    },
    {
     "name": "stdout",
     "output_type": "stream",
     "text": [
      "\n",
      "mean_270619-video2_009-005_opened_cc19.png is INTERESTING\n"
     ]
    },
    {
     "name": "stderr",
     "output_type": "stream",
     "text": [
      "\r",
      " 40%|████      | 8/20 [00:05<00:08,  1.36it/s]"
     ]
    },
    {
     "name": "stdout",
     "output_type": "stream",
     "text": [
      "\n",
      "mean_270619-video2_009-005_opened_cc36.png: too spherical 1.1656196964389178\n"
     ]
    },
    {
     "name": "stderr",
     "output_type": "stream",
     "text": [
      "\r",
      " 45%|████▌     | 9/20 [00:06<00:07,  1.41it/s]"
     ]
    },
    {
     "name": "stdout",
     "output_type": "stream",
     "text": [
      "\n",
      "mean_270619-video2_009-005_opened_cc63.png: too spherical 1.9693104268680885\n"
     ]
    },
    {
     "name": "stderr",
     "output_type": "stream",
     "text": [
      "\r",
      " 50%|█████     | 10/20 [00:07<00:06,  1.47it/s]"
     ]
    },
    {
     "name": "stdout",
     "output_type": "stream",
     "text": [
      "\n",
      "mean_270619-video2_009-005_opened_cc77.png: too spherical 5.559647514440199\n"
     ]
    },
    {
     "name": "stderr",
     "output_type": "stream",
     "text": [
      "\r",
      " 55%|█████▌    | 11/20 [00:07<00:06,  1.48it/s]"
     ]
    },
    {
     "name": "stdout",
     "output_type": "stream",
     "text": [
      "\n",
      "mean_270619-video2_009-005_opened_cc86.png: too spherical 6.393178630647735\n"
     ]
    },
    {
     "name": "stderr",
     "output_type": "stream",
     "text": [
      "\r",
      " 60%|██████    | 12/20 [00:08<00:05,  1.51it/s]"
     ]
    },
    {
     "name": "stdout",
     "output_type": "stream",
     "text": [
      "\n",
      "mean_270619-video2_009-015_opened_cc02.png: too spherical 1.7302418361296725\n"
     ]
    },
    {
     "name": "stderr",
     "output_type": "stream",
     "text": [
      "\r",
      " 65%|██████▌   | 13/20 [00:09<00:04,  1.51it/s]"
     ]
    },
    {
     "name": "stdout",
     "output_type": "stream",
     "text": [
      "\n",
      "mean_270619-video2_009-015_opened_cc26.png: too spherical 4.580397040004467\n"
     ]
    },
    {
     "name": "stderr",
     "output_type": "stream",
     "text": [
      "\r",
      " 70%|███████   | 14/20 [00:09<00:03,  1.56it/s]"
     ]
    },
    {
     "name": "stdout",
     "output_type": "stream",
     "text": [
      "\n",
      "mean_270619-video2_009-015_opened_cc35.png: too spherical 3.135297146109233\n"
     ]
    },
    {
     "name": "stderr",
     "output_type": "stream",
     "text": [
      "\r",
      " 75%|███████▌  | 15/20 [00:10<00:03,  1.54it/s]"
     ]
    },
    {
     "name": "stdout",
     "output_type": "stream",
     "text": [
      "\n",
      "mean_270619-video2_009-015_opened_cc44.png: too spherical 5.088367178878803\n"
     ]
    },
    {
     "name": "stderr",
     "output_type": "stream",
     "text": [
      "\r",
      " 80%|████████  | 16/20 [00:10<00:02,  1.55it/s]"
     ]
    },
    {
     "name": "stdout",
     "output_type": "stream",
     "text": [
      "\n",
      "mean_270619-video2_009-015_opened_cc70.png: too spherical 1.1265242942878062\n"
     ]
    },
    {
     "name": "stderr",
     "output_type": "stream",
     "text": [
      "\r",
      " 85%|████████▌ | 17/20 [00:11<00:01,  1.51it/s]"
     ]
    },
    {
     "name": "stdout",
     "output_type": "stream",
     "text": [
      "\n",
      "mean_270619-video2_009-031_opened_cc02.png is INTERESTING\n"
     ]
    },
    {
     "name": "stderr",
     "output_type": "stream",
     "text": [
      "\r",
      " 90%|█████████ | 18/20 [00:12<00:01,  1.53it/s]"
     ]
    },
    {
     "name": "stdout",
     "output_type": "stream",
     "text": [
      "\n",
      "mean_270619-video2_009-031_opened_cc09.png: too spherical 2.403257226577185\n"
     ]
    },
    {
     "name": "stderr",
     "output_type": "stream",
     "text": [
      "\r",
      " 95%|█████████▌| 19/20 [00:12<00:00,  1.56it/s]"
     ]
    },
    {
     "name": "stdout",
     "output_type": "stream",
     "text": [
      "\n",
      "mean_270619-video2_009-031_opened_cc32.png: too spherical 3.532155293183181\n"
     ]
    },
    {
     "name": "stderr",
     "output_type": "stream",
     "text": [
      "100%|██████████| 20/20 [00:13<00:00,  1.57it/s]\n",
      "  0%|          | 0/51 [00:00<?, ?it/s]"
     ]
    },
    {
     "name": "stdout",
     "output_type": "stream",
     "text": [
      "\n",
      "mean_270619-video2_009-031_opened_cc39.png is INTERESTING\n",
      "found video3_019/trigger_thr0.005_cl9_op3/cc_filtered_2den0.81_gausrad2.0/\n",
      "found video4_009/trigger_thr0.005_cl9_op3/cc_filtered_2den0.81_gausrad2.0/\n",
      "found video1_000/trigger_thr0.005_cl9_op3/cc_filtered_2den0.81_gausrad2.0/\n",
      "found video1_001/trigger_thr0.005_cl9_op3/cc_filtered_2den0.81_gausrad2.0/\n",
      "found video1_002/trigger_thr0.005_cl9_op3/cc_filtered_2den0.81_gausrad2.0/\n",
      "found video1_003/trigger_thr0.005_cl9_op3/cc_filtered_2den0.81_gausrad2.0/\n",
      "found video1_004/trigger_thr0.005_cl9_op3/cc_filtered_2den0.81_gausrad2.0/\n",
      "found video1_005/trigger_thr0.005_cl9_op3/cc_filtered_2den0.81_gausrad2.0/\n",
      "found video1_006/trigger_thr0.005_cl9_op3/cc_filtered_2den0.81_gausrad2.0/\n",
      "found video1_007/trigger_thr0.005_cl9_op3/cc_filtered_2den0.81_gausrad2.0/\n",
      "found video1_008/trigger_thr0.005_cl9_op3/cc_filtered_2den0.81_gausrad2.0/\n",
      "found video1_009/trigger_thr0.005_cl9_op3/cc_filtered_2den0.81_gausrad2.0/\n",
      "found video2_000/trigger_thr0.005_cl9_op3/cc_filtered_2den0.81_gausrad2.0/\n"
     ]
    },
    {
     "name": "stderr",
     "output_type": "stream",
     "text": [
      "\r",
      "  2%|▏         | 1/51 [00:00<00:32,  1.52it/s]"
     ]
    },
    {
     "name": "stdout",
     "output_type": "stream",
     "text": [
      "\n",
      "mean_270619-video2_000-004_opened_cc13.png is INTERESTING\n"
     ]
    },
    {
     "name": "stderr",
     "output_type": "stream",
     "text": [
      "\r",
      "  4%|▍         | 2/51 [00:01<00:31,  1.55it/s]"
     ]
    },
    {
     "name": "stdout",
     "output_type": "stream",
     "text": [
      "\n",
      "mean_270619-video2_000-004_opened_cc16.png: too spherical 2.780706644421938\n"
     ]
    },
    {
     "name": "stderr",
     "output_type": "stream",
     "text": [
      "\r",
      "  6%|▌         | 3/51 [00:01<00:30,  1.57it/s]"
     ]
    },
    {
     "name": "stdout",
     "output_type": "stream",
     "text": [
      "\n",
      "mean_270619-video2_000-004_opened_cc17.png: too spherical 3.561508778743651\n"
     ]
    },
    {
     "name": "stderr",
     "output_type": "stream",
     "text": [
      "\r",
      "  8%|▊         | 4/51 [00:02<00:29,  1.57it/s]"
     ]
    },
    {
     "name": "stdout",
     "output_type": "stream",
     "text": [
      "\n",
      "mean_270619-video2_000-004_opened_cc23.png: too spherical 5.049293177269465\n"
     ]
    },
    {
     "name": "stderr",
     "output_type": "stream",
     "text": [
      "\r",
      " 10%|▉         | 5/51 [00:03<00:29,  1.56it/s]"
     ]
    },
    {
     "name": "stdout",
     "output_type": "stream",
     "text": [
      "\n",
      "mean_270619-video2_000-004_opened_cc26.png: too spherical 9.181466037850498\n"
     ]
    },
    {
     "name": "stderr",
     "output_type": "stream",
     "text": [
      "\r",
      " 12%|█▏        | 6/51 [00:03<00:28,  1.57it/s]"
     ]
    },
    {
     "name": "stdout",
     "output_type": "stream",
     "text": [
      "\n",
      "mean_270619-video2_000-014_opened_cc15.png: too spherical 6.274416046929966\n"
     ]
    },
    {
     "name": "stderr",
     "output_type": "stream",
     "text": [
      "\r",
      " 14%|█▎        | 7/51 [00:04<00:27,  1.58it/s]"
     ]
    },
    {
     "name": "stdout",
     "output_type": "stream",
     "text": [
      "\n",
      "mean_270619-video2_000-014_opened_cc32.png is INTERESTING\n"
     ]
    },
    {
     "name": "stderr",
     "output_type": "stream",
     "text": [
      "\r",
      " 16%|█▌        | 8/51 [00:05<00:27,  1.58it/s]"
     ]
    },
    {
     "name": "stdout",
     "output_type": "stream",
     "text": [
      "\n",
      "mean_270619-video2_000-014_opened_cc33.png: too spherical 2.4723754005862175\n"
     ]
    },
    {
     "name": "stderr",
     "output_type": "stream",
     "text": [
      "\r",
      " 18%|█▊        | 9/51 [00:05<00:26,  1.60it/s]"
     ]
    },
    {
     "name": "stdout",
     "output_type": "stream",
     "text": [
      "\n",
      "mean_270619-video2_000-014_opened_cc37.png: too spherical 7.861141013127848\n"
     ]
    },
    {
     "name": "stderr",
     "output_type": "stream",
     "text": [
      "\r",
      " 20%|█▉        | 10/51 [00:06<00:25,  1.59it/s]"
     ]
    },
    {
     "name": "stdout",
     "output_type": "stream",
     "text": [
      "\n",
      "mean_270619-video2_000-014_opened_cc60.png is INTERESTING\n",
      "\n",
      "mean_270619-video2_000-015_opened_cc09.png is INTERESTING\n",
      "\n",
      "video2_000-014-video2_000-015: overlap = 0.0\n"
     ]
    },
    {
     "name": "stderr",
     "output_type": "stream",
     "text": [
      "\r",
      " 22%|██▏       | 11/51 [00:08<00:38,  1.04it/s]"
     ]
    },
    {
     "name": "stdout",
     "output_type": "stream",
     "text": [
      "\n",
      "video2_000-014-video2_000-015: overlap = 0.0\n"
     ]
    },
    {
     "name": "stderr",
     "output_type": "stream",
     "text": [
      "\r",
      " 24%|██▎       | 12/51 [00:08<00:33,  1.15it/s]"
     ]
    },
    {
     "name": "stdout",
     "output_type": "stream",
     "text": [
      "\n",
      "mean_270619-video2_000-015_opened_cc16.png: too spherical 3.0864380731132086\n",
      "\n",
      "mean_270619-video2_000-015_opened_cc28.png is INTERESTING\n"
     ]
    },
    {
     "name": "stderr",
     "output_type": "stream",
     "text": [
      "\r",
      " 25%|██▌       | 13/51 [00:09<00:36,  1.04it/s]"
     ]
    },
    {
     "name": "stdout",
     "output_type": "stream",
     "text": [
      "\n",
      "video2_000-014-video2_000-015: overlap = 0.7485408560311284\n"
     ]
    },
    {
     "name": "stderr",
     "output_type": "stream",
     "text": [
      "\r",
      " 27%|██▋       | 14/51 [00:10<00:32,  1.14it/s]"
     ]
    },
    {
     "name": "stdout",
     "output_type": "stream",
     "text": [
      "\n",
      "mean_270619-video2_000-015_opened_cc31.png: too spherical 9.910032351990873\n",
      "\n",
      "mean_270619-video2_000-015_opened_cc49.png is INTERESTING\n"
     ]
    },
    {
     "name": "stderr",
     "output_type": "stream",
     "text": [
      "\r",
      " 29%|██▉       | 15/51 [00:11<00:35,  1.02it/s]"
     ]
    },
    {
     "name": "stdout",
     "output_type": "stream",
     "text": [
      "\n",
      "video2_000-014-video2_000-015: overlap = 0.0\n"
     ]
    },
    {
     "name": "stderr",
     "output_type": "stream",
     "text": [
      "\r",
      " 31%|███▏      | 16/51 [00:12<00:31,  1.12it/s]"
     ]
    },
    {
     "name": "stdout",
     "output_type": "stream",
     "text": [
      "\n",
      "mean_270619-video2_000-015_opened_cc55.png: too spherical 4.602057561750913\n"
     ]
    },
    {
     "name": "stderr",
     "output_type": "stream",
     "text": [
      "\r",
      " 33%|███▎      | 17/51 [00:13<00:28,  1.19it/s]"
     ]
    },
    {
     "name": "stdout",
     "output_type": "stream",
     "text": [
      "\n",
      "mean_270619-video2_000-024_opened_cc04.png: too spherical 5.522721871840964\n"
     ]
    },
    {
     "name": "stderr",
     "output_type": "stream",
     "text": [
      "\r",
      " 35%|███▌      | 18/51 [00:13<00:25,  1.27it/s]"
     ]
    },
    {
     "name": "stdout",
     "output_type": "stream",
     "text": [
      "\n",
      "mean_270619-video2_000-024_opened_cc08.png is INTERESTING\n"
     ]
    },
    {
     "name": "stderr",
     "output_type": "stream",
     "text": [
      "\r",
      " 37%|███▋      | 19/51 [00:14<00:24,  1.33it/s]"
     ]
    },
    {
     "name": "stdout",
     "output_type": "stream",
     "text": [
      "\n",
      "mean_270619-video2_000-024_opened_cc33.png: too spherical 8.491853909557314\n"
     ]
    },
    {
     "name": "stderr",
     "output_type": "stream",
     "text": [
      "\r",
      " 39%|███▉      | 20/51 [00:15<00:22,  1.39it/s]"
     ]
    },
    {
     "name": "stdout",
     "output_type": "stream",
     "text": [
      "\n",
      "mean_270619-video2_000-024_opened_cc36.png is INTERESTING\n"
     ]
    },
    {
     "name": "stderr",
     "output_type": "stream",
     "text": [
      "\r",
      " 41%|████      | 21/51 [00:15<00:20,  1.43it/s]"
     ]
    },
    {
     "name": "stdout",
     "output_type": "stream",
     "text": [
      "\n",
      "mean_270619-video2_000-036_opened_cc08.png: too spherical 6.651317288977264\n"
     ]
    },
    {
     "name": "stderr",
     "output_type": "stream",
     "text": [
      "\r",
      " 43%|████▎     | 22/51 [00:16<00:19,  1.49it/s]"
     ]
    },
    {
     "name": "stdout",
     "output_type": "stream",
     "text": [
      "\n",
      "mean_270619-video2_000-036_opened_cc14.png is INTERESTING\n"
     ]
    },
    {
     "name": "stderr",
     "output_type": "stream",
     "text": [
      "\r",
      " 45%|████▌     | 23/51 [00:17<00:18,  1.50it/s]"
     ]
    },
    {
     "name": "stdout",
     "output_type": "stream",
     "text": [
      "\n",
      "mean_270619-video2_000-036_opened_cc43.png: too spherical 6.9265355721098505\n"
     ]
    },
    {
     "name": "stderr",
     "output_type": "stream",
     "text": [
      "\r",
      " 47%|████▋     | 24/51 [00:17<00:17,  1.51it/s]"
     ]
    },
    {
     "name": "stdout",
     "output_type": "stream",
     "text": [
      "\n",
      "mean_270619-video2_000-036_opened_cc62.png: too spherical 4.723581045139431\n",
      "\n",
      "mean_270619-video2_000-037_opened_cc15.png is INTERESTING\n"
     ]
    },
    {
     "name": "stderr",
     "output_type": "stream",
     "text": [
      "\r",
      " 49%|████▉     | 25/51 [00:18<00:21,  1.22it/s]"
     ]
    },
    {
     "name": "stdout",
     "output_type": "stream",
     "text": [
      "\n",
      "video2_000-036-video2_000-037: overlap = 0.0\n"
     ]
    },
    {
     "name": "stderr",
     "output_type": "stream",
     "text": [
      "\r",
      " 51%|█████     | 26/51 [00:19<00:19,  1.29it/s]"
     ]
    },
    {
     "name": "stdout",
     "output_type": "stream",
     "text": [
      "\n",
      "mean_270619-video2_000-037_opened_cc36.png: too spherical 6.002256561807814\n",
      "\n",
      "mean_270619-video2_000-037_opened_cc64.png is INTERESTING\n"
     ]
    },
    {
     "name": "stderr",
     "output_type": "stream",
     "text": [
      "\r",
      " 53%|█████▎    | 27/51 [00:20<00:21,  1.11it/s]"
     ]
    },
    {
     "name": "stdout",
     "output_type": "stream",
     "text": [
      "\n",
      "video2_000-036-video2_000-037: overlap = 0.0\n"
     ]
    },
    {
     "name": "stderr",
     "output_type": "stream",
     "text": [
      "\r",
      " 55%|█████▍    | 28/51 [00:21<00:19,  1.16it/s]"
     ]
    },
    {
     "name": "stdout",
     "output_type": "stream",
     "text": [
      "\n",
      "mean_270619-video2_000-038_opened_cc05.png: too spherical 5.253670102167572\n",
      "\n",
      "mean_270619-video2_000-038_opened_cc11.png is INTERESTING\n",
      "\n",
      "video2_000-037-video2_000-038: overlap = 0.0\n"
     ]
    },
    {
     "name": "stderr",
     "output_type": "stream",
     "text": [
      "\r",
      " 57%|█████▋    | 29/51 [00:23<00:25,  1.18s/it]"
     ]
    },
    {
     "name": "stdout",
     "output_type": "stream",
     "text": [
      "\n",
      "video2_000-037-video2_000-038: overlap = 0.0\n",
      "\n",
      "mean_270619-video2_000-038_opened_cc21.png is INTERESTING\n"
     ]
    },
    {
     "name": "stderr",
     "output_type": "stream",
     "text": [
      "\r",
      " 59%|█████▉    | 30/51 [00:24<00:25,  1.20s/it]"
     ]
    },
    {
     "name": "stdout",
     "output_type": "stream",
     "text": [
      "\n",
      "video2_000-037-video2_000-038: overlap = 0.6925260170293284\n"
     ]
    },
    {
     "name": "stderr",
     "output_type": "stream",
     "text": [
      "\r",
      " 61%|██████    | 31/51 [00:25<00:20,  1.04s/it]"
     ]
    },
    {
     "name": "stdout",
     "output_type": "stream",
     "text": [
      "\n",
      "mean_270619-video2_000-038_opened_cc28.png: too spherical 1.6843445035380658\n"
     ]
    },
    {
     "name": "stderr",
     "output_type": "stream",
     "text": [
      "\r",
      " 63%|██████▎   | 32/51 [00:26<00:17,  1.09it/s]"
     ]
    },
    {
     "name": "stdout",
     "output_type": "stream",
     "text": [
      "\n",
      "mean_270619-video2_000-038_opened_cc32.png: too spherical 1.5753072282850336\n"
     ]
    },
    {
     "name": "stderr",
     "output_type": "stream",
     "text": [
      "\r",
      " 65%|██████▍   | 33/51 [00:26<00:14,  1.20it/s]"
     ]
    },
    {
     "name": "stdout",
     "output_type": "stream",
     "text": [
      "\n",
      "mean_270619-video2_000-038_opened_cc44.png: too spherical 3.4992855514020373\n"
     ]
    },
    {
     "name": "stderr",
     "output_type": "stream",
     "text": [
      "\r",
      " 67%|██████▋   | 34/51 [00:27<00:13,  1.30it/s]"
     ]
    },
    {
     "name": "stdout",
     "output_type": "stream",
     "text": [
      "\n",
      "mean_270619-video2_000-038_opened_cc45.png: too spherical 2.687739568942516\n",
      "\n",
      "mean_270619-video2_000-038_opened_cc60.png is INTERESTING\n"
     ]
    },
    {
     "name": "stderr",
     "output_type": "stream",
     "text": [
      "\r",
      " 69%|██████▊   | 35/51 [00:28<00:14,  1.10it/s]"
     ]
    },
    {
     "name": "stdout",
     "output_type": "stream",
     "text": [
      "\n",
      "video2_000-037-video2_000-038: overlap = 0.0\n"
     ]
    },
    {
     "name": "stderr",
     "output_type": "stream",
     "text": [
      "\r",
      " 71%|███████   | 36/51 [00:29<00:12,  1.18it/s]"
     ]
    },
    {
     "name": "stdout",
     "output_type": "stream",
     "text": [
      "\n",
      "mean_270619-video2_000-015_opened_cc30.png: too spherical 9.388673011676037\n",
      "\n",
      "mean_270619-video2_000-037_opened_cc03.png is INTERESTING\n"
     ]
    },
    {
     "name": "stderr",
     "output_type": "stream",
     "text": [
      "\r",
      " 73%|███████▎  | 37/51 [00:30<00:13,  1.02it/s]"
     ]
    },
    {
     "name": "stdout",
     "output_type": "stream",
     "text": [
      "\n",
      "video2_000-036-video2_000-037: overlap = 0.0\n",
      "\n",
      "mean_270619-video2_000-039_opened_cc02.png is INTERESTING\n",
      "\n",
      "video2_000-038-video2_000-039: overlap = 0.0\n",
      "\n",
      "video2_000-038-video2_000-039: overlap = 0.0\n"
     ]
    },
    {
     "name": "stderr",
     "output_type": "stream",
     "text": [
      "\r",
      " 75%|███████▍  | 38/51 [00:32<00:18,  1.42s/it]"
     ]
    },
    {
     "name": "stdout",
     "output_type": "stream",
     "text": [
      "\n",
      "video2_000-038-video2_000-039: overlap = 0.0\n",
      "\n",
      "mean_270619-video2_000-039_opened_cc28.png is INTERESTING\n",
      "\n",
      "video2_000-038-video2_000-039: overlap = 0.0\n",
      "\n",
      "video2_000-038-video2_000-039: overlap = 0.0\n"
     ]
    },
    {
     "name": "stderr",
     "output_type": "stream",
     "text": [
      "\r",
      " 76%|███████▋  | 39/51 [00:35<00:20,  1.71s/it]"
     ]
    },
    {
     "name": "stdout",
     "output_type": "stream",
     "text": [
      "\n",
      "video2_000-038-video2_000-039: overlap = 0.0\n"
     ]
    },
    {
     "name": "stderr",
     "output_type": "stream",
     "text": [
      "\r",
      " 78%|███████▊  | 40/51 [00:36<00:15,  1.40s/it]"
     ]
    },
    {
     "name": "stdout",
     "output_type": "stream",
     "text": [
      "\n",
      "mean_270619-video2_000-039_opened_cc54.png: too spherical 2.404690702348381\n",
      "\n",
      "mean_270619-video2_000-039_opened_cc59.png is INTERESTING\n",
      "\n",
      "video2_000-038-video2_000-039: overlap = 0.0\n",
      "\n",
      "video2_000-038-video2_000-039: overlap = 0.0\n"
     ]
    },
    {
     "name": "stderr",
     "output_type": "stream",
     "text": [
      "\r",
      " 80%|████████  | 41/51 [00:38<00:16,  1.69s/it]"
     ]
    },
    {
     "name": "stdout",
     "output_type": "stream",
     "text": [
      "\n",
      "video2_000-038-video2_000-039: overlap = 0.0\n"
     ]
    },
    {
     "name": "stderr",
     "output_type": "stream",
     "text": [
      "\r",
      " 82%|████████▏ | 42/51 [00:39<00:12,  1.39s/it]"
     ]
    },
    {
     "name": "stdout",
     "output_type": "stream",
     "text": [
      "\n",
      "mean_270619-video2_000-039_opened_cc76.png: too spherical 4.084308325562981\n",
      "\n",
      "mean_270619-video2_000-039_opened_cc77.png is INTERESTING\n",
      "\n",
      "video2_000-038-video2_000-039: overlap = 0.0\n",
      "\n",
      "video2_000-038-video2_000-039: overlap = 0.0\n"
     ]
    },
    {
     "name": "stderr",
     "output_type": "stream",
     "text": [
      "\r",
      " 84%|████████▍ | 43/51 [00:41<00:13,  1.68s/it]"
     ]
    },
    {
     "name": "stdout",
     "output_type": "stream",
     "text": [
      "\n",
      "video2_000-038-video2_000-039: overlap = 0.510958904109589\n"
     ]
    },
    {
     "name": "stderr",
     "output_type": "stream",
     "text": [
      "\r",
      " 86%|████████▋ | 44/51 [00:42<00:09,  1.38s/it]"
     ]
    },
    {
     "name": "stdout",
     "output_type": "stream",
     "text": [
      "\n",
      "mean_270619-video2_000-043_opened_cc05.png is INTERESTING\n"
     ]
    },
    {
     "name": "stderr",
     "output_type": "stream",
     "text": [
      "\r",
      " 88%|████████▊ | 45/51 [00:42<00:06,  1.15s/it]"
     ]
    },
    {
     "name": "stdout",
     "output_type": "stream",
     "text": [
      "\n",
      "mean_270619-video2_000-043_opened_cc13.png: too spherical 3.624042257090934\n"
     ]
    },
    {
     "name": "stderr",
     "output_type": "stream",
     "text": [
      "\r",
      " 90%|█████████ | 46/51 [00:43<00:04,  1.01it/s]"
     ]
    },
    {
     "name": "stdout",
     "output_type": "stream",
     "text": [
      "\n",
      "mean_270619-video2_000-043_opened_cc31.png is INTERESTING\n"
     ]
    },
    {
     "name": "stderr",
     "output_type": "stream",
     "text": [
      "\r",
      " 92%|█████████▏| 47/51 [00:43<00:03,  1.14it/s]"
     ]
    },
    {
     "name": "stdout",
     "output_type": "stream",
     "text": [
      "\n",
      "mean_270619-video2_000-044_opened_cc02.png: too spherical 9.032512560103408\n"
     ]
    },
    {
     "name": "stderr",
     "output_type": "stream",
     "text": [
      "\r",
      " 94%|█████████▍| 48/51 [00:44<00:02,  1.25it/s]"
     ]
    },
    {
     "name": "stdout",
     "output_type": "stream",
     "text": [
      "\n",
      "mean_270619-video2_000-044_opened_cc14.png: too spherical 2.512104156399837\n"
     ]
    },
    {
     "name": "stderr",
     "output_type": "stream",
     "text": [
      "\r",
      " 96%|█████████▌| 49/51 [00:45<00:01,  1.34it/s]"
     ]
    },
    {
     "name": "stdout",
     "output_type": "stream",
     "text": [
      "\n",
      "mean_270619-video2_000-044_opened_cc38.png: too spherical 2.6712674186204164\n",
      "\n",
      "mean_270619-video2_000-044_opened_cc49.png is INTERESTING\n",
      "\n",
      "video2_000-043-video2_000-044: overlap = 0.0\n"
     ]
    },
    {
     "name": "stderr",
     "output_type": "stream",
     "text": [
      "\r",
      " 98%|█████████▊| 50/51 [00:46<00:01,  1.06s/it]"
     ]
    },
    {
     "name": "stdout",
     "output_type": "stream",
     "text": [
      "\n",
      "video2_000-043-video2_000-044: overlap = 0.0\n"
     ]
    },
    {
     "name": "stderr",
     "output_type": "stream",
     "text": [
      "100%|██████████| 51/51 [00:47<00:00,  1.08it/s]\n",
      "  0%|          | 0/32 [00:00<?, ?it/s]"
     ]
    },
    {
     "name": "stdout",
     "output_type": "stream",
     "text": [
      "\n",
      "mean_270619-video2_000-044_opened_cc50.png: too spherical 2.043606834032354\n",
      "found video2_001/trigger_thr0.005_cl9_op3/cc_filtered_2den0.81_gausrad2.0/\n"
     ]
    },
    {
     "name": "stderr",
     "output_type": "stream",
     "text": [
      "\r",
      "  3%|▎         | 1/32 [00:00<00:23,  1.31it/s]"
     ]
    },
    {
     "name": "stdout",
     "output_type": "stream",
     "text": [
      "\n",
      "mean_270619-video2_001-001_opened_cc26.png: too spherical 4.853474919191273\n"
     ]
    },
    {
     "name": "stderr",
     "output_type": "stream",
     "text": [
      "\r",
      "  6%|▋         | 2/32 [00:01<00:21,  1.38it/s]"
     ]
    },
    {
     "name": "stdout",
     "output_type": "stream",
     "text": [
      "\n",
      "mean_270619-video2_001-002_opened_cc01.png is INTERESTING\n"
     ]
    },
    {
     "name": "stderr",
     "output_type": "stream",
     "text": [
      "\r",
      "  9%|▉         | 3/32 [00:02<00:20,  1.45it/s]"
     ]
    },
    {
     "name": "stdout",
     "output_type": "stream",
     "text": [
      "\n",
      "mean_270619-video2_001-002_opened_cc11.png: too spherical 7.7247900150889235\n"
     ]
    },
    {
     "name": "stderr",
     "output_type": "stream",
     "text": [
      "\r",
      " 12%|█▎        | 4/32 [00:02<00:18,  1.47it/s]"
     ]
    },
    {
     "name": "stdout",
     "output_type": "stream",
     "text": [
      "\n",
      "mean_270619-video2_001-002_opened_cc14.png: too spherical 8.112582819179659\n"
     ]
    },
    {
     "name": "stderr",
     "output_type": "stream",
     "text": [
      "\r",
      " 16%|█▌        | 5/32 [00:03<00:17,  1.51it/s]"
     ]
    },
    {
     "name": "stdout",
     "output_type": "stream",
     "text": [
      "\n",
      "mean_270619-video2_001-002_opened_cc24.png is INTERESTING\n"
     ]
    },
    {
     "name": "stderr",
     "output_type": "stream",
     "text": [
      "\r",
      " 19%|█▉        | 6/32 [00:03<00:17,  1.50it/s]"
     ]
    },
    {
     "name": "stdout",
     "output_type": "stream",
     "text": [
      "\n",
      "mean_270619-video2_001-002_opened_cc32.png: too spherical 3.382034136121451\n"
     ]
    },
    {
     "name": "stderr",
     "output_type": "stream",
     "text": [
      "\r",
      " 22%|██▏       | 7/32 [00:04<00:16,  1.53it/s]"
     ]
    },
    {
     "name": "stdout",
     "output_type": "stream",
     "text": [
      "\n",
      "mean_270619-video2_001-020_opened_cc22.png: too spherical 7.361916736688792\n"
     ]
    },
    {
     "name": "stderr",
     "output_type": "stream",
     "text": [
      "\r",
      " 25%|██▌       | 8/32 [00:05<00:15,  1.53it/s]"
     ]
    },
    {
     "name": "stdout",
     "output_type": "stream",
     "text": [
      "\n",
      "mean_270619-video2_001-020_opened_cc24.png: too spherical 6.820297011292038\n"
     ]
    },
    {
     "name": "stderr",
     "output_type": "stream",
     "text": [
      "\r",
      " 28%|██▊       | 9/32 [00:05<00:14,  1.55it/s]"
     ]
    },
    {
     "name": "stdout",
     "output_type": "stream",
     "text": [
      "\n",
      "mean_270619-video2_001-020_opened_cc31.png is INTERESTING\n"
     ]
    },
    {
     "name": "stderr",
     "output_type": "stream",
     "text": [
      "\r",
      " 31%|███▏      | 10/32 [00:06<00:14,  1.55it/s]"
     ]
    },
    {
     "name": "stdout",
     "output_type": "stream",
     "text": [
      "\n",
      "mean_270619-video2_001-020_opened_cc61.png: too spherical 5.307218924192093\n"
     ]
    },
    {
     "name": "stderr",
     "output_type": "stream",
     "text": [
      "\r",
      " 34%|███▍      | 11/32 [00:07<00:14,  1.48it/s]"
     ]
    },
    {
     "name": "stdout",
     "output_type": "stream",
     "text": [
      "\n",
      "mean_270619-video2_001-023_opened_cc03.png: too spherical 1.9250944484536174\n"
     ]
    },
    {
     "name": "stderr",
     "output_type": "stream",
     "text": [
      "\r",
      " 38%|███▊      | 12/32 [00:07<00:13,  1.52it/s]"
     ]
    },
    {
     "name": "stdout",
     "output_type": "stream",
     "text": [
      "\n",
      "mean_270619-video2_001-023_opened_cc35.png is INTERESTING\n"
     ]
    },
    {
     "name": "stderr",
     "output_type": "stream",
     "text": [
      "\r",
      " 41%|████      | 13/32 [00:08<00:12,  1.54it/s]"
     ]
    },
    {
     "name": "stdout",
     "output_type": "stream",
     "text": [
      "\n",
      "mean_270619-video2_001-023_opened_cc65.png is INTERESTING\n"
     ]
    },
    {
     "name": "stderr",
     "output_type": "stream",
     "text": [
      "\r",
      " 44%|████▍     | 14/32 [00:09<00:11,  1.55it/s]"
     ]
    },
    {
     "name": "stdout",
     "output_type": "stream",
     "text": [
      "\n",
      "mean_270619-video2_001-024_opened_cc31.png: too spherical 6.754487589402103\n"
     ]
    },
    {
     "name": "stderr",
     "output_type": "stream",
     "text": [
      "\r",
      " 47%|████▋     | 15/32 [00:09<00:11,  1.49it/s]"
     ]
    },
    {
     "name": "stdout",
     "output_type": "stream",
     "text": [
      "\n",
      "mean_270619-video2_001-024_opened_cc45.png: too spherical 1.3608077215256167\n",
      "\n",
      "mean_270619-video2_001-024_opened_cc50.png is INTERESTING\n"
     ]
    },
    {
     "name": "stderr",
     "output_type": "stream",
     "text": [
      "\r",
      " 50%|█████     | 16/32 [00:11<00:13,  1.21it/s]"
     ]
    },
    {
     "name": "stdout",
     "output_type": "stream",
     "text": [
      "\n",
      "video2_001-023-video2_001-024: overlap = 0.5925206410879067\n"
     ]
    },
    {
     "name": "stderr",
     "output_type": "stream",
     "text": [
      "\r",
      " 53%|█████▎    | 17/32 [00:11<00:11,  1.32it/s]"
     ]
    },
    {
     "name": "stdout",
     "output_type": "stream",
     "text": [
      "\n",
      "mean_270619-video2_001-025_opened_cc05.png: too spherical 1.309000357674428\n"
     ]
    },
    {
     "name": "stderr",
     "output_type": "stream",
     "text": [
      "\r",
      " 56%|█████▋    | 18/32 [00:12<00:10,  1.39it/s]"
     ]
    },
    {
     "name": "stdout",
     "output_type": "stream",
     "text": [
      "\n",
      "mean_270619-video2_001-025_opened_cc34.png: too spherical 3.2092369091076525\n",
      "\n",
      "mean_270619-video2_001-025_opened_cc55.png is INTERESTING\n"
     ]
    },
    {
     "name": "stderr",
     "output_type": "stream",
     "text": [
      "\r",
      " 59%|█████▉    | 19/32 [00:13<00:11,  1.16it/s]"
     ]
    },
    {
     "name": "stdout",
     "output_type": "stream",
     "text": [
      "\n",
      "video2_001-024-video2_001-025: overlap = 0.7962382445141065\n"
     ]
    },
    {
     "name": "stderr",
     "output_type": "stream",
     "text": [
      "\r",
      " 62%|██████▎   | 20/32 [00:14<00:09,  1.27it/s]"
     ]
    },
    {
     "name": "stdout",
     "output_type": "stream",
     "text": [
      "\n",
      "mean_270619-video2_001-025_opened_cc57.png: too spherical 3.284258887686728\n"
     ]
    },
    {
     "name": "stderr",
     "output_type": "stream",
     "text": [
      "\r",
      " 66%|██████▌   | 21/32 [00:14<00:08,  1.36it/s]"
     ]
    },
    {
     "name": "stdout",
     "output_type": "stream",
     "text": [
      "\n",
      "mean_270619-video2_001-025_opened_cc60.png is INTERESTING\n"
     ]
    },
    {
     "name": "stderr",
     "output_type": "stream",
     "text": [
      "\r",
      " 69%|██████▉   | 22/32 [00:15<00:07,  1.41it/s]"
     ]
    },
    {
     "name": "stdout",
     "output_type": "stream",
     "text": [
      "\n",
      "mean_270619-video2_001-025_opened_cc72.png is INTERESTING\n",
      "\n",
      "mean_270619-video2_001-026_opened_cc03.png is INTERESTING\n",
      "\n",
      "video2_001-025-video2_001-026: overlap = 0.0\n",
      "\n",
      "video2_001-025-video2_001-026: overlap = 0.0\n"
     ]
    },
    {
     "name": "stderr",
     "output_type": "stream",
     "text": [
      "\r",
      " 72%|███████▏  | 23/32 [00:17<00:10,  1.20s/it]"
     ]
    },
    {
     "name": "stdout",
     "output_type": "stream",
     "text": [
      "\n",
      "video2_001-025-video2_001-026: overlap = 0.0\n"
     ]
    },
    {
     "name": "stderr",
     "output_type": "stream",
     "text": [
      "\r",
      " 75%|███████▌  | 24/32 [00:18<00:08,  1.03s/it]"
     ]
    },
    {
     "name": "stdout",
     "output_type": "stream",
     "text": [
      "\n",
      "mean_270619-video2_001-026_opened_cc10.png: too spherical 6.991406829790614\n"
     ]
    },
    {
     "name": "stderr",
     "output_type": "stream",
     "text": [
      "\r",
      " 78%|███████▊  | 25/32 [00:18<00:06,  1.10it/s]"
     ]
    },
    {
     "name": "stdout",
     "output_type": "stream",
     "text": [
      "\n",
      "mean_270619-video2_001-026_opened_cc22.png: too spherical 3.139761326490548\n"
     ]
    },
    {
     "name": "stderr",
     "output_type": "stream",
     "text": [
      "\r",
      " 81%|████████▏ | 26/32 [00:19<00:04,  1.21it/s]"
     ]
    },
    {
     "name": "stdout",
     "output_type": "stream",
     "text": [
      "\n",
      "mean_270619-video2_001-026_opened_cc29.png: too spherical 8.230404443124828\n"
     ]
    },
    {
     "name": "stderr",
     "output_type": "stream",
     "text": [
      "\r",
      " 84%|████████▍ | 27/32 [00:20<00:03,  1.31it/s]"
     ]
    },
    {
     "name": "stdout",
     "output_type": "stream",
     "text": [
      "\n",
      "mean_270619-video2_001-026_opened_cc48.png: too spherical 7.071379779546126\n"
     ]
    },
    {
     "name": "stderr",
     "output_type": "stream",
     "text": [
      "\r",
      " 88%|████████▊ | 28/32 [00:20<00:02,  1.39it/s]"
     ]
    },
    {
     "name": "stdout",
     "output_type": "stream",
     "text": [
      "\n",
      "mean_270619-video2_001-041_opened_cc40.png is INTERESTING\n"
     ]
    },
    {
     "name": "stderr",
     "output_type": "stream",
     "text": [
      "\r",
      " 91%|█████████ | 29/32 [00:21<00:02,  1.45it/s]"
     ]
    },
    {
     "name": "stdout",
     "output_type": "stream",
     "text": [
      "\n",
      "mean_270619-video2_001-041_opened_cc56.png: too spherical 5.373369753728831\n"
     ]
    },
    {
     "name": "stderr",
     "output_type": "stream",
     "text": [
      "\r",
      " 94%|█████████▍| 30/32 [00:22<00:01,  1.50it/s]"
     ]
    },
    {
     "name": "stdout",
     "output_type": "stream",
     "text": [
      "\n",
      "mean_270619-video2_001-041_opened_cc73.png: too spherical 1.4087341210845394\n"
     ]
    },
    {
     "name": "stderr",
     "output_type": "stream",
     "text": [
      "\r",
      " 97%|█████████▋| 31/32 [00:22<00:00,  1.52it/s]"
     ]
    },
    {
     "name": "stdout",
     "output_type": "stream",
     "text": [
      "\n",
      "mean_270619-video2_001-020_opened_cc13.png: too spherical 6.930780194196621\n"
     ]
    },
    {
     "name": "stderr",
     "output_type": "stream",
     "text": [
      "100%|██████████| 32/32 [00:23<00:00,  1.55it/s]\n",
      "  0%|          | 0/45 [00:00<?, ?it/s]"
     ]
    },
    {
     "name": "stdout",
     "output_type": "stream",
     "text": [
      "\n",
      "mean_270619-video2_001-025_opened_cc108.png: too spherical 1.6247547941392049\n",
      "found video2_002/trigger_thr0.005_cl9_op3/cc_filtered_2den0.81_gausrad2.0/\n"
     ]
    },
    {
     "name": "stderr",
     "output_type": "stream",
     "text": [
      "\r",
      "  2%|▏         | 1/45 [00:00<00:28,  1.54it/s]"
     ]
    },
    {
     "name": "stdout",
     "output_type": "stream",
     "text": [
      "\n",
      "mean_270619-video2_002-017_opened_cc02.png is INTERESTING\n",
      "\n",
      "mean_270619-video2_002-018_opened_cc03.png is INTERESTING\n"
     ]
    },
    {
     "name": "stderr",
     "output_type": "stream",
     "text": [
      "\r",
      "  4%|▍         | 2/45 [00:01<00:36,  1.18it/s]"
     ]
    },
    {
     "name": "stdout",
     "output_type": "stream",
     "text": [
      "\n",
      "video2_002-017-video2_002-018: overlap = 0.839238845144357\n"
     ]
    },
    {
     "name": "stderr",
     "output_type": "stream",
     "text": [
      "\r",
      "  7%|▋         | 3/45 [00:02<00:33,  1.26it/s]"
     ]
    },
    {
     "name": "stdout",
     "output_type": "stream",
     "text": [
      "\n",
      "mean_270619-video2_002-018_opened_cc07.png: too spherical 7.993138783238395\n"
     ]
    },
    {
     "name": "stderr",
     "output_type": "stream",
     "text": [
      "\r",
      "  9%|▉         | 4/45 [00:03<00:30,  1.33it/s]"
     ]
    },
    {
     "name": "stdout",
     "output_type": "stream",
     "text": [
      "\n",
      "mean_270619-video2_002-018_opened_cc15.png: too spherical 2.757082018578729\n"
     ]
    },
    {
     "name": "stderr",
     "output_type": "stream",
     "text": [
      "\r",
      " 11%|█         | 5/45 [00:03<00:29,  1.38it/s]"
     ]
    },
    {
     "name": "stdout",
     "output_type": "stream",
     "text": [
      "\n",
      "mean_270619-video2_002-018_opened_cc26.png is INTERESTING\n"
     ]
    },
    {
     "name": "stderr",
     "output_type": "stream",
     "text": [
      "\r",
      " 13%|█▎        | 6/45 [00:04<00:27,  1.42it/s]"
     ]
    },
    {
     "name": "stdout",
     "output_type": "stream",
     "text": [
      "\n",
      "mean_270619-video2_002-018_opened_cc47.png is INTERESTING\n"
     ]
    },
    {
     "name": "stderr",
     "output_type": "stream",
     "text": [
      "\r",
      " 16%|█▌        | 7/45 [00:05<00:25,  1.46it/s]"
     ]
    },
    {
     "name": "stdout",
     "output_type": "stream",
     "text": [
      "\n",
      "mean_270619-video2_002-018_opened_cc51.png: too spherical 8.973486484972291\n"
     ]
    },
    {
     "name": "stderr",
     "output_type": "stream",
     "text": [
      "\r",
      " 18%|█▊        | 8/45 [00:05<00:24,  1.49it/s]"
     ]
    },
    {
     "name": "stdout",
     "output_type": "stream",
     "text": [
      "\n",
      "mean_270619-video2_002-018_opened_cc58.png: too spherical 3.671642462434248\n",
      "\n",
      "mean_270619-video2_002-019_opened_cc08.png is INTERESTING\n",
      "\n",
      "video2_002-018-video2_002-019: overlap = 0.0\n",
      "\n",
      "video2_002-018-video2_002-019: overlap = 0.0\n"
     ]
    },
    {
     "name": "stderr",
     "output_type": "stream",
     "text": [
      "\r",
      " 20%|██        | 9/45 [00:08<00:42,  1.19s/it]"
     ]
    },
    {
     "name": "stdout",
     "output_type": "stream",
     "text": [
      "\n",
      "video2_002-018-video2_002-019: overlap = 0.0\n"
     ]
    },
    {
     "name": "stderr",
     "output_type": "stream",
     "text": [
      "\r",
      " 22%|██▏       | 10/45 [00:08<00:35,  1.02s/it]"
     ]
    },
    {
     "name": "stdout",
     "output_type": "stream",
     "text": [
      "\n",
      "mean_270619-video2_002-019_opened_cc12.png: too spherical 7.956121307548559\n",
      "\n",
      "mean_270619-video2_002-019_opened_cc19.png is INTERESTING\n",
      "\n",
      "video2_002-018-video2_002-019: overlap = 0.0\n",
      "\n",
      "video2_002-018-video2_002-019: overlap = 0.0\n"
     ]
    },
    {
     "name": "stderr",
     "output_type": "stream",
     "text": [
      "\r",
      " 24%|██▍       | 11/45 [00:11<00:48,  1.42s/it]"
     ]
    },
    {
     "name": "stdout",
     "output_type": "stream",
     "text": [
      "\n",
      "video2_002-018-video2_002-019: overlap = 0.0\n"
     ]
    },
    {
     "name": "stderr",
     "output_type": "stream",
     "text": [
      "\r",
      " 27%|██▋       | 12/45 [00:11<00:38,  1.18s/it]"
     ]
    },
    {
     "name": "stdout",
     "output_type": "stream",
     "text": [
      "\n",
      "mean_270619-video2_002-019_opened_cc31.png: too spherical 4.390116504699563\n"
     ]
    },
    {
     "name": "stderr",
     "output_type": "stream",
     "text": [
      "\r",
      " 29%|██▉       | 13/45 [00:12<00:32,  1.02s/it]"
     ]
    },
    {
     "name": "stdout",
     "output_type": "stream",
     "text": [
      "\n",
      "mean_270619-video2_002-019_opened_cc41.png: too spherical 4.7434794363093395\n"
     ]
    },
    {
     "name": "stderr",
     "output_type": "stream",
     "text": [
      "\r",
      " 31%|███       | 14/45 [00:13<00:28,  1.10it/s]"
     ]
    },
    {
     "name": "stdout",
     "output_type": "stream",
     "text": [
      "\n",
      "mean_270619-video2_002-020_opened_cc02.png: too spherical 4.381299076165145\n"
     ]
    },
    {
     "name": "stderr",
     "output_type": "stream",
     "text": [
      "\r",
      " 33%|███▎      | 15/45 [00:13<00:25,  1.18it/s]"
     ]
    },
    {
     "name": "stdout",
     "output_type": "stream",
     "text": [
      "\n",
      "mean_270619-video2_002-020_opened_cc09.png: too spherical 2.1703066282455974\n"
     ]
    },
    {
     "name": "stderr",
     "output_type": "stream",
     "text": [
      "\r",
      " 36%|███▌      | 16/45 [00:14<00:22,  1.28it/s]"
     ]
    },
    {
     "name": "stdout",
     "output_type": "stream",
     "text": [
      "\n",
      "mean_270619-video2_002-020_opened_cc15.png: too spherical 5.757998843812614\n",
      "\n",
      "mean_270619-video2_002-020_opened_cc40.png is INTERESTING\n",
      "\n",
      "video2_002-019-video2_002-020: overlap = 0.0\n"
     ]
    },
    {
     "name": "stderr",
     "output_type": "stream",
     "text": [
      "\r",
      " 38%|███▊      | 17/45 [00:16<00:29,  1.07s/it]"
     ]
    },
    {
     "name": "stdout",
     "output_type": "stream",
     "text": [
      "\n",
      "video2_002-019-video2_002-020: overlap = 0.0\n"
     ]
    },
    {
     "name": "stderr",
     "output_type": "stream",
     "text": [
      "\r",
      " 40%|████      | 18/45 [00:16<00:25,  1.07it/s]"
     ]
    },
    {
     "name": "stdout",
     "output_type": "stream",
     "text": [
      "\n",
      "mean_270619-video2_002-020_opened_cc49.png: too spherical 9.151195685724451\n"
     ]
    },
    {
     "name": "stderr",
     "output_type": "stream",
     "text": [
      "\r",
      " 42%|████▏     | 19/45 [00:17<00:21,  1.19it/s]"
     ]
    },
    {
     "name": "stdout",
     "output_type": "stream",
     "text": [
      "\n",
      "mean_270619-video2_002-027_opened_cc03.png is INTERESTING\n"
     ]
    },
    {
     "name": "stderr",
     "output_type": "stream",
     "text": [
      "\r",
      " 44%|████▍     | 20/45 [00:18<00:19,  1.26it/s]"
     ]
    },
    {
     "name": "stdout",
     "output_type": "stream",
     "text": [
      "\n",
      "mean_270619-video2_002-027_opened_cc22.png: too spherical 5.374683299191739\n"
     ]
    },
    {
     "name": "stderr",
     "output_type": "stream",
     "text": [
      "\r",
      " 47%|████▋     | 21/45 [00:18<00:17,  1.35it/s]"
     ]
    },
    {
     "name": "stdout",
     "output_type": "stream",
     "text": [
      "\n",
      "mean_270619-video2_002-027_opened_cc38.png: too spherical 3.7262126905110797\n"
     ]
    },
    {
     "name": "stderr",
     "output_type": "stream",
     "text": [
      "\r",
      " 49%|████▉     | 22/45 [00:19<00:16,  1.40it/s]"
     ]
    },
    {
     "name": "stdout",
     "output_type": "stream",
     "text": [
      "\n",
      "mean_270619-video2_002-027_opened_cc65.png is INTERESTING\n",
      "\n",
      "mean_270619-video2_002-028_opened_cc05.png is INTERESTING\n",
      "\n",
      "video2_002-027-video2_002-028: overlap = 0.2837127845884413\n"
     ]
    },
    {
     "name": "stderr",
     "output_type": "stream",
     "text": [
      "\r",
      " 51%|█████     | 23/45 [00:21<00:23,  1.05s/it]"
     ]
    },
    {
     "name": "stdout",
     "output_type": "stream",
     "text": [
      "\n",
      "video2_002-027-video2_002-028: overlap = 0.0\n",
      "\n",
      "mean_270619-video2_002-028_opened_cc09.png is INTERESTING\n",
      "\n",
      "video2_002-027-video2_002-028: overlap = 0.0\n"
     ]
    },
    {
     "name": "stderr",
     "output_type": "stream",
     "text": [
      "\r",
      " 53%|█████▎    | 24/45 [00:23<00:26,  1.27s/it]"
     ]
    },
    {
     "name": "stdout",
     "output_type": "stream",
     "text": [
      "\n",
      "video2_002-027-video2_002-028: overlap = 0.0\n"
     ]
    },
    {
     "name": "stderr",
     "output_type": "stream",
     "text": [
      "\r",
      " 56%|█████▌    | 25/45 [00:23<00:21,  1.08s/it]"
     ]
    },
    {
     "name": "stdout",
     "output_type": "stream",
     "text": [
      "\n",
      "mean_270619-video2_002-028_opened_cc10.png: too spherical 1.6539213963722526\n"
     ]
    },
    {
     "name": "stderr",
     "output_type": "stream",
     "text": [
      "\r",
      " 58%|█████▊    | 26/45 [00:24<00:18,  1.05it/s]"
     ]
    },
    {
     "name": "stdout",
     "output_type": "stream",
     "text": [
      "\n",
      "mean_270619-video2_002-028_opened_cc20.png: too spherical 1.416322331822595\n"
     ]
    },
    {
     "name": "stderr",
     "output_type": "stream",
     "text": [
      "\r",
      " 60%|██████    | 27/45 [00:24<00:15,  1.17it/s]"
     ]
    },
    {
     "name": "stdout",
     "output_type": "stream",
     "text": [
      "\n",
      "mean_270619-video2_002-028_opened_cc69.png: too spherical 1.417287915805048\n",
      "\n",
      "mean_270619-video2_002-029_opened_cc05.png is INTERESTING\n"
     ]
    },
    {
     "name": "stderr",
     "output_type": "stream",
     "text": [
      "\r",
      " 62%|██████▏   | 28/45 [00:26<00:17,  1.00s/it]"
     ]
    },
    {
     "name": "stdout",
     "output_type": "stream",
     "text": [
      "\n",
      "video2_002-028-video2_002-029: overlap = 0.5157088122605364\n"
     ]
    },
    {
     "name": "stderr",
     "output_type": "stream",
     "text": [
      "\r",
      " 64%|██████▍   | 29/45 [00:27<00:14,  1.10it/s]"
     ]
    },
    {
     "name": "stdout",
     "output_type": "stream",
     "text": [
      "\n",
      "mean_270619-video2_002-029_opened_cc11.png: too spherical 2.915861575833194\n"
     ]
    },
    {
     "name": "stderr",
     "output_type": "stream",
     "text": [
      "\r",
      " 67%|██████▋   | 30/45 [00:27<00:12,  1.18it/s]"
     ]
    },
    {
     "name": "stdout",
     "output_type": "stream",
     "text": [
      "\n",
      "mean_270619-video2_002-029_opened_cc21.png: too spherical 4.404026606986247\n"
     ]
    },
    {
     "name": "stderr",
     "output_type": "stream",
     "text": [
      "\r",
      " 69%|██████▉   | 31/45 [00:28<00:12,  1.16it/s]"
     ]
    },
    {
     "name": "stdout",
     "output_type": "stream",
     "text": [
      "\n",
      "mean_270619-video2_002-019_opened_cc01.png: too spherical 3.5829403640549744\n"
     ]
    },
    {
     "name": "stderr",
     "output_type": "stream",
     "text": [
      "\r",
      " 71%|███████   | 32/45 [00:29<00:12,  1.05it/s]"
     ]
    },
    {
     "name": "stdout",
     "output_type": "stream",
     "text": [
      "\n",
      "mean_270619-video2_002-027_opened_cc11.png is INTERESTING\n"
     ]
    },
    {
     "name": "stderr",
     "output_type": "stream",
     "text": [
      "\r",
      " 73%|███████▎  | 33/45 [00:30<00:12,  1.00s/it]"
     ]
    },
    {
     "name": "stdout",
     "output_type": "stream",
     "text": [
      "\n",
      "mean_270619-video2_002-029_opened_cc37.png: too spherical 2.3751797492845457\n"
     ]
    },
    {
     "name": "stderr",
     "output_type": "stream",
     "text": [
      "\r",
      " 76%|███████▌  | 34/45 [00:32<00:11,  1.04s/it]"
     ]
    },
    {
     "name": "stdout",
     "output_type": "stream",
     "text": [
      "\n",
      "mean_270619-video2_002-030_opened_cc07.png: too spherical 5.821894009513413\n"
     ]
    },
    {
     "name": "stderr",
     "output_type": "stream",
     "text": [
      "\r",
      " 78%|███████▊  | 35/45 [00:33<00:10,  1.04s/it]"
     ]
    },
    {
     "name": "stdout",
     "output_type": "stream",
     "text": [
      "\n",
      "mean_270619-video2_002-030_opened_cc21.png: too spherical 5.135665105930967\n"
     ]
    },
    {
     "name": "stderr",
     "output_type": "stream",
     "text": [
      "\r",
      " 80%|████████  | 36/45 [00:34<00:09,  1.07s/it]"
     ]
    },
    {
     "name": "stdout",
     "output_type": "stream",
     "text": [
      "\n",
      "mean_270619-video2_002-030_opened_cc40.png: too spherical 2.333939783829976\n"
     ]
    },
    {
     "name": "stderr",
     "output_type": "stream",
     "text": [
      "\r",
      " 82%|████████▏ | 37/45 [00:35<00:08,  1.01s/it]"
     ]
    },
    {
     "name": "stdout",
     "output_type": "stream",
     "text": [
      "\n",
      "mean_270619-video2_002-030_opened_cc43.png: too spherical 3.6903395953009603\n"
     ]
    },
    {
     "name": "stderr",
     "output_type": "stream",
     "text": [
      "\r",
      " 84%|████████▍ | 38/45 [00:36<00:06,  1.02it/s]"
     ]
    },
    {
     "name": "stdout",
     "output_type": "stream",
     "text": [
      "\n",
      "mean_270619-video2_002-030_opened_cc59.png: too spherical 4.359525264313313\n"
     ]
    },
    {
     "name": "stderr",
     "output_type": "stream",
     "text": [
      "\r",
      " 87%|████████▋ | 39/45 [00:36<00:05,  1.15it/s]"
     ]
    },
    {
     "name": "stdout",
     "output_type": "stream",
     "text": [
      "\n",
      "mean_270619-video2_002-030_opened_cc62.png: too spherical 5.091888649212216\n"
     ]
    },
    {
     "name": "stderr",
     "output_type": "stream",
     "text": [
      "\r",
      " 89%|████████▉ | 40/45 [00:37<00:04,  1.24it/s]"
     ]
    },
    {
     "name": "stdout",
     "output_type": "stream",
     "text": [
      "\n",
      "mean_270619-video2_002-030_opened_cc65.png: too spherical 8.081619339115656\n"
     ]
    },
    {
     "name": "stderr",
     "output_type": "stream",
     "text": [
      "\r",
      " 91%|█████████ | 41/45 [00:37<00:03,  1.32it/s]"
     ]
    },
    {
     "name": "stdout",
     "output_type": "stream",
     "text": [
      "\n",
      "mean_270619-video2_002-030_opened_cc80.png: too spherical 7.4812934247877845\n"
     ]
    },
    {
     "name": "stderr",
     "output_type": "stream",
     "text": [
      "\r",
      " 93%|█████████▎| 42/45 [00:38<00:02,  1.17it/s]"
     ]
    },
    {
     "name": "stdout",
     "output_type": "stream",
     "text": [
      "\n",
      "mean_270619-video2_002-031_opened_cc19.png: too spherical 3.249166072995379\n"
     ]
    },
    {
     "name": "stderr",
     "output_type": "stream",
     "text": [
      "\r",
      " 96%|█████████▌| 43/45 [00:40<00:01,  1.10it/s]"
     ]
    },
    {
     "name": "stdout",
     "output_type": "stream",
     "text": [
      "\n",
      "mean_270619-video2_002-031_opened_cc26.png is INTERESTING\n"
     ]
    },
    {
     "name": "stderr",
     "output_type": "stream",
     "text": [
      "\r",
      " 98%|█████████▊| 44/45 [00:41<00:00,  1.02it/s]"
     ]
    },
    {
     "name": "stdout",
     "output_type": "stream",
     "text": [
      "\n",
      "mean_270619-video2_002-031_opened_cc38.png: too spherical 1.3950471891783143\n"
     ]
    },
    {
     "name": "stderr",
     "output_type": "stream",
     "text": [
      "100%|██████████| 45/45 [00:42<00:00,  1.02s/it]\n",
      "  0%|          | 0/46 [00:00<?, ?it/s]"
     ]
    },
    {
     "name": "stdout",
     "output_type": "stream",
     "text": [
      "\n",
      "mean_270619-video2_002-031_opened_cc57.png: too spherical 2.624561348753169\n",
      "found video2_003/trigger_thr0.005_cl9_op3/cc_filtered_2den0.81_gausrad2.0/\n"
     ]
    },
    {
     "name": "stderr",
     "output_type": "stream",
     "text": [
      "\r",
      "  2%|▏         | 1/46 [00:00<00:29,  1.53it/s]"
     ]
    },
    {
     "name": "stdout",
     "output_type": "stream",
     "text": [
      "\n",
      "mean_270619-video2_003-004_opened_cc10.png: too spherical 5.5567569350857\n"
     ]
    },
    {
     "name": "stderr",
     "output_type": "stream",
     "text": [
      "\r",
      "  4%|▍         | 2/46 [00:01<00:28,  1.53it/s]"
     ]
    },
    {
     "name": "stdout",
     "output_type": "stream",
     "text": [
      "\n",
      "mean_270619-video2_003-004_opened_cc52.png is INTERESTING\n",
      "\n",
      "mean_270619-video2_003-005_opened_cc17.png is INTERESTING\n"
     ]
    },
    {
     "name": "stderr",
     "output_type": "stream",
     "text": [
      "\r",
      "  7%|▋         | 3/46 [00:02<00:38,  1.10it/s]"
     ]
    },
    {
     "name": "stdout",
     "output_type": "stream",
     "text": [
      "\n",
      "video2_003-004-video2_003-005: overlap = 0.0\n"
     ]
    },
    {
     "name": "stderr",
     "output_type": "stream",
     "text": [
      "\r",
      "  9%|▊         | 4/46 [00:03<00:38,  1.10it/s]"
     ]
    },
    {
     "name": "stdout",
     "output_type": "stream",
     "text": [
      "\n",
      "mean_270619-video2_003-005_opened_cc24.png: too spherical 7.429010953885581\n",
      "\n",
      "mean_270619-video2_003-005_opened_cc43.png is INTERESTING\n"
     ]
    },
    {
     "name": "stderr",
     "output_type": "stream",
     "text": [
      "\r",
      " 11%|█         | 5/46 [00:04<00:40,  1.02it/s]"
     ]
    },
    {
     "name": "stdout",
     "output_type": "stream",
     "text": [
      "\n",
      "video2_003-004-video2_003-005: overlap = 0.0\n",
      "\n",
      "mean_270619-video2_003-005_opened_cc47.png is INTERESTING\n"
     ]
    },
    {
     "name": "stderr",
     "output_type": "stream",
     "text": [
      "\r",
      " 13%|█▎        | 6/46 [00:06<00:41,  1.04s/it]"
     ]
    },
    {
     "name": "stdout",
     "output_type": "stream",
     "text": [
      "\n",
      "video2_003-004-video2_003-005: overlap = 0.86158948845516\n"
     ]
    },
    {
     "name": "stderr",
     "output_type": "stream",
     "text": [
      "\r",
      " 15%|█▌        | 7/46 [00:06<00:35,  1.10it/s]"
     ]
    },
    {
     "name": "stdout",
     "output_type": "stream",
     "text": [
      "\n",
      "mean_270619-video2_003-005_opened_cc48.png is INTERESTING\n",
      "\n",
      "mean_270619-video2_003-006_opened_cc01.png is INTERESTING\n",
      "\n",
      "video2_003-005-video2_003-006: overlap = 0.0\n",
      "\n",
      "video2_003-005-video2_003-006: overlap = 0.0\n",
      "\n",
      "video2_003-005-video2_003-006: overlap = 0.0\n"
     ]
    },
    {
     "name": "stderr",
     "output_type": "stream",
     "text": [
      "\r",
      " 17%|█▋        | 8/46 [00:09<00:58,  1.54s/it]"
     ]
    },
    {
     "name": "stdout",
     "output_type": "stream",
     "text": [
      "\n",
      "video2_003-005-video2_003-006: overlap = 0.0\n"
     ]
    },
    {
     "name": "stderr",
     "output_type": "stream",
     "text": [
      "\r",
      " 20%|█▉        | 9/46 [00:10<00:48,  1.32s/it]"
     ]
    },
    {
     "name": "stdout",
     "output_type": "stream",
     "text": [
      "\n",
      "mean_270619-video2_003-006_opened_cc13.png: too spherical 5.401796941912322\n"
     ]
    },
    {
     "name": "stderr",
     "output_type": "stream",
     "text": [
      "\r",
      " 22%|██▏       | 10/46 [00:11<00:40,  1.13s/it]"
     ]
    },
    {
     "name": "stdout",
     "output_type": "stream",
     "text": [
      "\n",
      "mean_270619-video2_003-006_opened_cc21.png: too spherical 3.328053393747667\n",
      "\n",
      "mean_270619-video2_003-006_opened_cc23.png is INTERESTING\n",
      "\n",
      "video2_003-005-video2_003-006: overlap = 0.0\n",
      "\n",
      "video2_003-005-video2_003-006: overlap = 0.0\n",
      "\n",
      "video2_003-005-video2_003-006: overlap = 0.0\n"
     ]
    },
    {
     "name": "stderr",
     "output_type": "stream",
     "text": [
      "\r",
      " 24%|██▍       | 11/46 [00:14<01:01,  1.76s/it]"
     ]
    },
    {
     "name": "stdout",
     "output_type": "stream",
     "text": [
      "\n",
      "video2_003-005-video2_003-006: overlap = 0.0\n",
      "\n",
      "mean_270619-video2_003-006_opened_cc36.png is INTERESTING\n",
      "\n",
      "video2_003-005-video2_003-006: overlap = 0.0\n",
      "\n",
      "video2_003-005-video2_003-006: overlap = 0.0\n"
     ]
    },
    {
     "name": "stderr",
     "output_type": "stream",
     "text": [
      "\r",
      " 26%|██▌       | 12/46 [00:16<01:06,  1.96s/it]"
     ]
    },
    {
     "name": "stdout",
     "output_type": "stream",
     "text": [
      "\n",
      "video2_003-005-video2_003-006: overlap = 0.7511111111111111\n",
      "\n",
      "mean_270619-video2_003-006_opened_cc38.png is INTERESTING\n",
      "\n",
      "video2_003-005-video2_003-006: overlap = 0.0\n",
      "\n",
      "video2_003-005-video2_003-006: overlap = 0.0\n"
     ]
    },
    {
     "name": "stderr",
     "output_type": "stream",
     "text": [
      "\r",
      " 28%|██▊       | 13/46 [00:19<01:09,  2.12s/it]"
     ]
    },
    {
     "name": "stdout",
     "output_type": "stream",
     "text": [
      "\n",
      "video2_003-005-video2_003-006: overlap = 0.0\n",
      "\n",
      "mean_270619-video2_003-006_opened_cc40.png is INTERESTING\n"
     ]
    },
    {
     "name": "stderr",
     "output_type": "stream",
     "text": [
      "\r",
      " 30%|███       | 14/46 [00:20<00:59,  1.84s/it]"
     ]
    },
    {
     "name": "stdout",
     "output_type": "stream",
     "text": [
      "\n",
      "video2_003-005-video2_003-006: overlap = 0.8548136645962733\n",
      "\n",
      "mean_270619-video2_003-006_opened_cc42.png is INTERESTING\n",
      "\n",
      "video2_003-005-video2_003-006: overlap = 0.0\n"
     ]
    },
    {
     "name": "stderr",
     "output_type": "stream",
     "text": [
      "\r",
      " 33%|███▎      | 15/46 [00:22<00:58,  1.89s/it]"
     ]
    },
    {
     "name": "stdout",
     "output_type": "stream",
     "text": [
      "\n",
      "video2_003-005-video2_003-006: overlap = 0.294289897510981\n",
      "\n",
      "mean_270619-video2_003-007_opened_cc02.png is INTERESTING\n",
      "\n",
      "video2_003-006-video2_003-007: overlap = 0.0\n",
      "\n",
      "video2_003-006-video2_003-007: overlap = 0.0\n",
      "\n",
      "video2_003-006-video2_003-007: overlap = 0.24658618642390662\n",
      "\n",
      "video2_003-006-video2_003-007: overlap = 0.0\n",
      "\n",
      "video2_003-006-video2_003-007: overlap = 0.0\n"
     ]
    },
    {
     "name": "stderr",
     "output_type": "stream",
     "text": [
      "\r",
      " 35%|███▍      | 16/46 [00:27<01:21,  2.71s/it]"
     ]
    },
    {
     "name": "stdout",
     "output_type": "stream",
     "text": [
      "\n",
      "video2_003-006-video2_003-007: overlap = 0.0\n",
      "\n",
      "mean_270619-video2_003-007_opened_cc08.png is INTERESTING\n",
      "\n",
      "video2_003-006-video2_003-007: overlap = 0.0\n",
      "\n",
      "video2_003-006-video2_003-007: overlap = 0.0\n",
      "\n",
      "video2_003-006-video2_003-007: overlap = 0.0\n",
      "\n",
      "video2_003-006-video2_003-007: overlap = 0.0\n",
      "\n",
      "video2_003-006-video2_003-007: overlap = 0.0\n"
     ]
    },
    {
     "name": "stderr",
     "output_type": "stream",
     "text": [
      "\r",
      " 37%|███▋      | 17/46 [00:31<01:30,  3.12s/it]"
     ]
    },
    {
     "name": "stdout",
     "output_type": "stream",
     "text": [
      "\n",
      "video2_003-006-video2_003-007: overlap = 0.0\n"
     ]
    },
    {
     "name": "stderr",
     "output_type": "stream",
     "text": [
      "\r",
      " 39%|███▉      | 18/46 [00:31<01:06,  2.37s/it]"
     ]
    },
    {
     "name": "stdout",
     "output_type": "stream",
     "text": [
      "\n",
      "mean_270619-video2_003-007_opened_cc54.png: too spherical 3.2351371719569135\n"
     ]
    },
    {
     "name": "stderr",
     "output_type": "stream",
     "text": [
      "\r",
      " 41%|████▏     | 19/46 [00:32<00:49,  1.85s/it]"
     ]
    },
    {
     "name": "stdout",
     "output_type": "stream",
     "text": [
      "\n",
      "mean_270619-video2_003-007_opened_cc65.png: too spherical 8.846537596141179\n",
      "\n",
      "mean_270619-video2_003-008_opened_cc09.png is INTERESTING\n",
      "\n",
      "video2_003-007-video2_003-008: overlap = 0.0\n"
     ]
    },
    {
     "name": "stderr",
     "output_type": "stream",
     "text": [
      "\r",
      " 43%|████▎     | 20/46 [00:34<00:47,  1.82s/it]"
     ]
    },
    {
     "name": "stdout",
     "output_type": "stream",
     "text": [
      "\n",
      "video2_003-007-video2_003-008: overlap = 0.0\n"
     ]
    },
    {
     "name": "stderr",
     "output_type": "stream",
     "text": [
      "\r",
      " 46%|████▌     | 21/46 [00:34<00:36,  1.45s/it]"
     ]
    },
    {
     "name": "stdout",
     "output_type": "stream",
     "text": [
      "\n",
      "mean_270619-video2_003-008_opened_cc15.png: too spherical 7.210005765560857\n"
     ]
    },
    {
     "name": "stderr",
     "output_type": "stream",
     "text": [
      "\r",
      " 48%|████▊     | 22/46 [00:35<00:28,  1.20s/it]"
     ]
    },
    {
     "name": "stdout",
     "output_type": "stream",
     "text": [
      "\n",
      "mean_270619-video2_003-008_opened_cc47.png: too spherical 3.008495086045375\n"
     ]
    },
    {
     "name": "stderr",
     "output_type": "stream",
     "text": [
      "\r",
      " 50%|█████     | 23/46 [00:36<00:24,  1.05s/it]"
     ]
    },
    {
     "name": "stdout",
     "output_type": "stream",
     "text": [
      "\n",
      "mean_270619-video2_003-008_opened_cc66.png: too spherical 3.1121642894078185\n",
      "\n",
      "mean_270619-video2_003-008_opened_cc89.png is INTERESTING\n",
      "\n",
      "video2_003-007-video2_003-008: overlap = 0.0\n"
     ]
    },
    {
     "name": "stderr",
     "output_type": "stream",
     "text": [
      "\r",
      " 52%|█████▏    | 24/46 [00:37<00:28,  1.28s/it]"
     ]
    },
    {
     "name": "stdout",
     "output_type": "stream",
     "text": [
      "\n",
      "video2_003-007-video2_003-008: overlap = 0.0\n"
     ]
    },
    {
     "name": "stderr",
     "output_type": "stream",
     "text": [
      "\r",
      " 54%|█████▍    | 25/46 [00:38<00:22,  1.08s/it]"
     ]
    },
    {
     "name": "stdout",
     "output_type": "stream",
     "text": [
      "\n",
      "mean_270619-video2_003-040_opened_cc04.png: too spherical 4.211346745250106\n"
     ]
    },
    {
     "name": "stderr",
     "output_type": "stream",
     "text": [
      "\r",
      " 57%|█████▋    | 26/46 [00:39<00:18,  1.07it/s]"
     ]
    },
    {
     "name": "stdout",
     "output_type": "stream",
     "text": [
      "\n",
      "mean_270619-video2_003-040_opened_cc05.png is INTERESTING\n"
     ]
    },
    {
     "name": "stderr",
     "output_type": "stream",
     "text": [
      "\r",
      " 59%|█████▊    | 27/46 [00:39<00:16,  1.18it/s]"
     ]
    },
    {
     "name": "stdout",
     "output_type": "stream",
     "text": [
      "\n",
      "mean_270619-video2_003-040_opened_cc06.png is INTERESTING\n"
     ]
    },
    {
     "name": "stderr",
     "output_type": "stream",
     "text": [
      "\r",
      " 61%|██████    | 28/46 [00:40<00:14,  1.27it/s]"
     ]
    },
    {
     "name": "stdout",
     "output_type": "stream",
     "text": [
      "\n",
      "mean_270619-video2_003-040_opened_cc10.png is INTERESTING\n"
     ]
    },
    {
     "name": "stderr",
     "output_type": "stream",
     "text": [
      "\r",
      " 63%|██████▎   | 29/46 [00:41<00:12,  1.37it/s]"
     ]
    },
    {
     "name": "stdout",
     "output_type": "stream",
     "text": [
      "\n",
      "mean_270619-video2_003-040_opened_cc49.png: too spherical 9.33243403197895\n",
      "\n",
      "mean_270619-video2_003-041_opened_cc04.png is INTERESTING\n",
      "\n",
      "video2_003-040-video2_003-041: overlap = 0.0\n",
      "\n",
      "video2_003-040-video2_003-041: overlap = 0.0\n"
     ]
    },
    {
     "name": "stderr",
     "output_type": "stream",
     "text": [
      "\r",
      " 65%|██████▌   | 30/46 [00:43<00:19,  1.21s/it]"
     ]
    },
    {
     "name": "stdout",
     "output_type": "stream",
     "text": [
      "\n",
      "video2_003-040-video2_003-041: overlap = 0.0\n",
      "\n",
      "mean_270619-video2_003-006_opened_cc07.png is INTERESTING\n",
      "\n",
      "video2_003-005-video2_003-006: overlap = 0.0\n"
     ]
    },
    {
     "name": "stderr",
     "output_type": "stream",
     "text": [
      "\r",
      " 67%|██████▋   | 31/46 [00:45<00:20,  1.38s/it]"
     ]
    },
    {
     "name": "stdout",
     "output_type": "stream",
     "text": [
      "\n",
      "video2_003-005-video2_003-006: overlap = 0.0\n"
     ]
    },
    {
     "name": "stderr",
     "output_type": "stream",
     "text": [
      "\r",
      " 70%|██████▉   | 32/46 [00:45<00:16,  1.15s/it]"
     ]
    },
    {
     "name": "stdout",
     "output_type": "stream",
     "text": [
      "\n",
      "mean_270619-video2_003-008_opened_cc03.png: too spherical 8.860086819856148\n"
     ]
    },
    {
     "name": "stderr",
     "output_type": "stream",
     "text": [
      "\r",
      " 72%|███████▏  | 33/46 [00:46<00:13,  1.01s/it]"
     ]
    },
    {
     "name": "stdout",
     "output_type": "stream",
     "text": [
      "\n",
      "mean_270619-video2_003-041_opened_cc05.png: too spherical 1.992805208562306\n",
      "\n",
      "mean_270619-video2_003-041_opened_cc08.png is INTERESTING\n",
      "\n",
      "video2_003-040-video2_003-041: overlap = 0.0\n",
      "\n",
      "video2_003-040-video2_003-041: overlap = 0.0\n"
     ]
    },
    {
     "name": "stderr",
     "output_type": "stream",
     "text": [
      "\r",
      " 74%|███████▍  | 34/46 [00:48<00:17,  1.42s/it]"
     ]
    },
    {
     "name": "stdout",
     "output_type": "stream",
     "text": [
      "\n",
      "video2_003-040-video2_003-041: overlap = 0.0\n",
      "\n",
      "mean_270619-video2_003-041_opened_cc17.png is INTERESTING\n",
      "\n",
      "video2_003-040-video2_003-041: overlap = 0.0\n",
      "\n",
      "video2_003-040-video2_003-041: overlap = 0.0\n"
     ]
    },
    {
     "name": "stderr",
     "output_type": "stream",
     "text": [
      "\r",
      " 76%|███████▌  | 35/46 [00:51<00:18,  1.69s/it]"
     ]
    },
    {
     "name": "stdout",
     "output_type": "stream",
     "text": [
      "\n",
      "video2_003-040-video2_003-041: overlap = 0.0\n"
     ]
    },
    {
     "name": "stderr",
     "output_type": "stream",
     "text": [
      "\r",
      " 78%|███████▊  | 36/46 [00:51<00:13,  1.38s/it]"
     ]
    },
    {
     "name": "stdout",
     "output_type": "stream",
     "text": [
      "\n",
      "mean_270619-video2_003-042_opened_cc05.png: too spherical 1.299486207744466\n",
      "\n",
      "mean_270619-video2_003-042_opened_cc06.png is INTERESTING\n",
      "\n",
      "video2_003-041-video2_003-042: overlap = 0.0\n",
      "\n",
      "video2_003-041-video2_003-042: overlap = 0.4035455278001612\n"
     ]
    },
    {
     "name": "stderr",
     "output_type": "stream",
     "text": [
      "\r",
      " 80%|████████  | 37/46 [00:54<00:15,  1.69s/it]"
     ]
    },
    {
     "name": "stdout",
     "output_type": "stream",
     "text": [
      "\n",
      "video2_003-041-video2_003-042: overlap = 0.0\n",
      "\n",
      "mean_270619-video2_003-042_opened_cc39.png is INTERESTING\n",
      "\n",
      "video2_003-041-video2_003-042: overlap = 0.0\n",
      "\n",
      "video2_003-041-video2_003-042: overlap = 0.0\n"
     ]
    },
    {
     "name": "stderr",
     "output_type": "stream",
     "text": [
      "\r",
      " 83%|████████▎ | 38/46 [00:56<00:15,  1.89s/it]"
     ]
    },
    {
     "name": "stdout",
     "output_type": "stream",
     "text": [
      "\n",
      "video2_003-041-video2_003-042: overlap = 0.0\n",
      "\n",
      "mean_270619-video2_003-043_opened_cc03.png is INTERESTING\n",
      "\n",
      "video2_003-042-video2_003-043: overlap = 0.0\n"
     ]
    },
    {
     "name": "stderr",
     "output_type": "stream",
     "text": [
      "\r",
      " 85%|████████▍ | 39/46 [00:58<00:12,  1.85s/it]"
     ]
    },
    {
     "name": "stdout",
     "output_type": "stream",
     "text": [
      "\n",
      "video2_003-042-video2_003-043: overlap = 0.0\n"
     ]
    },
    {
     "name": "stderr",
     "output_type": "stream",
     "text": [
      "\r",
      " 87%|████████▋ | 40/46 [00:59<00:09,  1.50s/it]"
     ]
    },
    {
     "name": "stdout",
     "output_type": "stream",
     "text": [
      "\n",
      "mean_270619-video2_003-043_opened_cc04.png: too spherical 7.544166074428864\n",
      "\n",
      "mean_270619-video2_003-043_opened_cc10.png is INTERESTING\n",
      "\n",
      "video2_003-042-video2_003-043: overlap = 0.0\n"
     ]
    },
    {
     "name": "stderr",
     "output_type": "stream",
     "text": [
      "\r",
      " 89%|████████▉ | 41/46 [01:00<00:08,  1.63s/it]"
     ]
    },
    {
     "name": "stdout",
     "output_type": "stream",
     "text": [
      "\n",
      "video2_003-042-video2_003-043: overlap = 0.0\n",
      "\n",
      "mean_270619-video2_003-043_opened_cc23.png is INTERESTING\n",
      "\n",
      "video2_003-042-video2_003-043: overlap = 0.0\n"
     ]
    },
    {
     "name": "stderr",
     "output_type": "stream",
     "text": [
      "\r",
      " 91%|█████████▏| 42/46 [01:02<00:06,  1.69s/it]"
     ]
    },
    {
     "name": "stdout",
     "output_type": "stream",
     "text": [
      "\n",
      "video2_003-042-video2_003-043: overlap = 0.0\n",
      "\n",
      "mean_270619-video2_003-043_opened_cc32.png is INTERESTING\n",
      "\n",
      "video2_003-042-video2_003-043: overlap = 0.0\n"
     ]
    },
    {
     "name": "stderr",
     "output_type": "stream",
     "text": [
      "\r",
      " 93%|█████████▎| 43/46 [01:04<00:05,  1.73s/it]"
     ]
    },
    {
     "name": "stdout",
     "output_type": "stream",
     "text": [
      "\n",
      "video2_003-042-video2_003-043: overlap = 0.0\n",
      "\n",
      "mean_270619-video2_003-043_opened_cc38.png is INTERESTING\n",
      "\n",
      "video2_003-042-video2_003-043: overlap = 0.0\n"
     ]
    },
    {
     "name": "stderr",
     "output_type": "stream",
     "text": [
      "\r",
      " 96%|█████████▌| 44/46 [01:06<00:03,  1.78s/it]"
     ]
    },
    {
     "name": "stdout",
     "output_type": "stream",
     "text": [
      "\n",
      "video2_003-042-video2_003-043: overlap = 0.0\n",
      "\n",
      "mean_270619-video2_003-043_opened_cc46.png is INTERESTING\n",
      "\n",
      "video2_003-042-video2_003-043: overlap = 0.0\n"
     ]
    },
    {
     "name": "stderr",
     "output_type": "stream",
     "text": [
      "\r",
      " 98%|█████████▊| 45/46 [01:08<00:01,  1.79s/it]"
     ]
    },
    {
     "name": "stdout",
     "output_type": "stream",
     "text": [
      "\n",
      "video2_003-042-video2_003-043: overlap = 0.0\n"
     ]
    },
    {
     "name": "stderr",
     "output_type": "stream",
     "text": [
      "100%|██████████| 46/46 [01:08<00:00,  1.43s/it]\n",
      "  0%|          | 0/43 [00:00<?, ?it/s]"
     ]
    },
    {
     "name": "stdout",
     "output_type": "stream",
     "text": [
      "\n",
      "mean_270619-video2_003-043_opened_cc61.png: too spherical 2.9240175119930782\n",
      "found video2_004/trigger_thr0.005_cl9_op3/cc_filtered_2den0.81_gausrad2.0/\n"
     ]
    },
    {
     "name": "stderr",
     "output_type": "stream",
     "text": [
      "\r",
      "  2%|▏         | 1/43 [00:00<00:30,  1.37it/s]"
     ]
    },
    {
     "name": "stdout",
     "output_type": "stream",
     "text": [
      "\n",
      "mean_270619-video2_004-001_opened_cc05.png is INTERESTING\n"
     ]
    },
    {
     "name": "stderr",
     "output_type": "stream",
     "text": [
      "\r",
      "  5%|▍         | 2/43 [00:01<00:28,  1.44it/s]"
     ]
    },
    {
     "name": "stdout",
     "output_type": "stream",
     "text": [
      "\n",
      "mean_270619-video2_004-001_opened_cc08.png: too spherical 6.974688467911011\n"
     ]
    },
    {
     "name": "stderr",
     "output_type": "stream",
     "text": [
      "\r",
      "  7%|▋         | 3/43 [00:02<00:27,  1.46it/s]"
     ]
    },
    {
     "name": "stdout",
     "output_type": "stream",
     "text": [
      "\n",
      "mean_270619-video2_004-001_opened_cc19.png: too spherical 4.559983919075375\n"
     ]
    },
    {
     "name": "stderr",
     "output_type": "stream",
     "text": [
      "\r",
      "  9%|▉         | 4/43 [00:02<00:25,  1.51it/s]"
     ]
    },
    {
     "name": "stdout",
     "output_type": "stream",
     "text": [
      "\n",
      "mean_270619-video2_004-001_opened_cc32.png: too spherical 1.5642399260368443\n"
     ]
    },
    {
     "name": "stderr",
     "output_type": "stream",
     "text": [
      "\r",
      " 12%|█▏        | 5/43 [00:03<00:24,  1.53it/s]"
     ]
    },
    {
     "name": "stdout",
     "output_type": "stream",
     "text": [
      "\n",
      "mean_270619-video2_004-001_opened_cc53.png: too spherical 3.3919849221303804\n"
     ]
    },
    {
     "name": "stderr",
     "output_type": "stream",
     "text": [
      "\r",
      " 14%|█▍        | 6/43 [00:03<00:23,  1.56it/s]"
     ]
    },
    {
     "name": "stdout",
     "output_type": "stream",
     "text": [
      "\n",
      "mean_270619-video2_004-001_opened_cc62.png is INTERESTING\n"
     ]
    },
    {
     "name": "stderr",
     "output_type": "stream",
     "text": [
      "\r",
      " 16%|█▋        | 7/43 [00:04<00:23,  1.55it/s]"
     ]
    },
    {
     "name": "stdout",
     "output_type": "stream",
     "text": [
      "\n",
      "mean_270619-video2_004-026_opened_cc02.png is INTERESTING\n"
     ]
    },
    {
     "name": "stderr",
     "output_type": "stream",
     "text": [
      "\r",
      " 19%|█▊        | 8/43 [00:05<00:22,  1.54it/s]"
     ]
    },
    {
     "name": "stdout",
     "output_type": "stream",
     "text": [
      "\n",
      "mean_270619-video2_004-026_opened_cc35.png: too spherical 9.769214554513237\n"
     ]
    },
    {
     "name": "stderr",
     "output_type": "stream",
     "text": [
      "\r",
      " 21%|██        | 9/43 [00:05<00:22,  1.55it/s]"
     ]
    },
    {
     "name": "stdout",
     "output_type": "stream",
     "text": [
      "\n",
      "mean_270619-video2_004-026_opened_cc37.png: too spherical 8.481492794639195\n"
     ]
    },
    {
     "name": "stderr",
     "output_type": "stream",
     "text": [
      "\r",
      " 23%|██▎       | 10/43 [00:06<00:21,  1.52it/s]"
     ]
    },
    {
     "name": "stdout",
     "output_type": "stream",
     "text": [
      "\n",
      "mean_270619-video2_004-026_opened_cc40.png: too spherical 1.4092193655819516\n"
     ]
    },
    {
     "name": "stderr",
     "output_type": "stream",
     "text": [
      "\r",
      " 26%|██▌       | 11/43 [00:07<00:20,  1.54it/s]"
     ]
    },
    {
     "name": "stdout",
     "output_type": "stream",
     "text": [
      "\n",
      "mean_270619-video2_004-026_opened_cc59.png: too spherical 1.6362123325640499\n"
     ]
    },
    {
     "name": "stderr",
     "output_type": "stream",
     "text": [
      "\r",
      " 28%|██▊       | 12/43 [00:07<00:19,  1.56it/s]"
     ]
    },
    {
     "name": "stdout",
     "output_type": "stream",
     "text": [
      "\n",
      "mean_270619-video2_004-030_opened_cc03.png: too spherical 7.506935628709233\n"
     ]
    },
    {
     "name": "stderr",
     "output_type": "stream",
     "text": [
      "\r",
      " 30%|███       | 13/43 [00:08<00:19,  1.55it/s]"
     ]
    },
    {
     "name": "stdout",
     "output_type": "stream",
     "text": [
      "\n",
      "mean_270619-video2_004-030_opened_cc08.png: too spherical 3.8745428468978638\n"
     ]
    },
    {
     "name": "stderr",
     "output_type": "stream",
     "text": [
      "\r",
      " 33%|███▎      | 14/43 [00:09<00:18,  1.56it/s]"
     ]
    },
    {
     "name": "stdout",
     "output_type": "stream",
     "text": [
      "\n",
      "mean_270619-video2_004-030_opened_cc15.png is INTERESTING\n"
     ]
    },
    {
     "name": "stderr",
     "output_type": "stream",
     "text": [
      "\r",
      " 35%|███▍      | 15/43 [00:09<00:17,  1.56it/s]"
     ]
    },
    {
     "name": "stdout",
     "output_type": "stream",
     "text": [
      "\n",
      "mean_270619-video2_004-030_opened_cc42.png is INTERESTING\n"
     ]
    },
    {
     "name": "stderr",
     "output_type": "stream",
     "text": [
      "\r",
      " 37%|███▋      | 16/43 [00:10<00:17,  1.56it/s]"
     ]
    },
    {
     "name": "stdout",
     "output_type": "stream",
     "text": [
      "\n",
      "mean_270619-video2_004-031_opened_cc11.png: too spherical 2.5286810661849937\n"
     ]
    },
    {
     "name": "stderr",
     "output_type": "stream",
     "text": [
      "\r",
      " 40%|███▉      | 17/43 [00:11<00:17,  1.45it/s]"
     ]
    },
    {
     "name": "stdout",
     "output_type": "stream",
     "text": [
      "\n",
      "mean_270619-video2_004-034_opened_cc03.png is INTERESTING\n"
     ]
    },
    {
     "name": "stderr",
     "output_type": "stream",
     "text": [
      "\r",
      " 42%|████▏     | 18/43 [00:11<00:16,  1.50it/s]"
     ]
    },
    {
     "name": "stdout",
     "output_type": "stream",
     "text": [
      "\n",
      "mean_270619-video2_004-034_opened_cc13.png: too spherical 5.3590874314270165\n"
     ]
    },
    {
     "name": "stderr",
     "output_type": "stream",
     "text": [
      "\r",
      " 44%|████▍     | 19/43 [00:12<00:15,  1.54it/s]"
     ]
    },
    {
     "name": "stdout",
     "output_type": "stream",
     "text": [
      "\n",
      "mean_270619-video2_004-034_opened_cc27.png is INTERESTING\n"
     ]
    },
    {
     "name": "stderr",
     "output_type": "stream",
     "text": [
      "\r",
      " 47%|████▋     | 20/43 [00:12<00:14,  1.56it/s]"
     ]
    },
    {
     "name": "stdout",
     "output_type": "stream",
     "text": [
      "\n",
      "mean_270619-video2_004-034_opened_cc44.png: too spherical 2.8258551094400675\n"
     ]
    },
    {
     "name": "stderr",
     "output_type": "stream",
     "text": [
      "\r",
      " 49%|████▉     | 21/43 [00:13<00:13,  1.58it/s]"
     ]
    },
    {
     "name": "stdout",
     "output_type": "stream",
     "text": [
      "\n",
      "mean_270619-video2_004-035_opened_cc05.png: too spherical 2.8369438312247426\n",
      "\n",
      "mean_270619-video2_004-035_opened_cc07.png is INTERESTING\n",
      "\n",
      "video2_004-034-video2_004-035: overlap = 0.24710596616206593\n"
     ]
    },
    {
     "name": "stderr",
     "output_type": "stream",
     "text": [
      "\r",
      " 51%|█████     | 22/43 [00:15<00:20,  1.01it/s]"
     ]
    },
    {
     "name": "stdout",
     "output_type": "stream",
     "text": [
      "\n",
      "video2_004-034-video2_004-035: overlap = 0.0\n"
     ]
    },
    {
     "name": "stderr",
     "output_type": "stream",
     "text": [
      "\r",
      " 53%|█████▎    | 23/43 [00:16<00:18,  1.10it/s]"
     ]
    },
    {
     "name": "stdout",
     "output_type": "stream",
     "text": [
      "\n",
      "mean_270619-video2_004-035_opened_cc11.png: too spherical 3.395578508349894\n"
     ]
    },
    {
     "name": "stderr",
     "output_type": "stream",
     "text": [
      "\r",
      " 56%|█████▌    | 24/43 [00:16<00:15,  1.19it/s]"
     ]
    },
    {
     "name": "stdout",
     "output_type": "stream",
     "text": [
      "\n",
      "mean_270619-video2_004-035_opened_cc18.png: too spherical 5.097215609746356\n"
     ]
    },
    {
     "name": "stderr",
     "output_type": "stream",
     "text": [
      "\r",
      " 58%|█████▊    | 25/43 [00:17<00:13,  1.29it/s]"
     ]
    },
    {
     "name": "stdout",
     "output_type": "stream",
     "text": [
      "\n",
      "mean_270619-video2_004-035_opened_cc32.png: too spherical 2.5355576129311337\n",
      "\n",
      "mean_270619-video2_004-035_opened_cc50.png is INTERESTING\n",
      "\n",
      "video2_004-034-video2_004-035: overlap = 0.0\n"
     ]
    },
    {
     "name": "stderr",
     "output_type": "stream",
     "text": [
      "\r",
      " 60%|██████    | 26/43 [00:19<00:18,  1.08s/it]"
     ]
    },
    {
     "name": "stdout",
     "output_type": "stream",
     "text": [
      "\n",
      "video2_004-034-video2_004-035: overlap = 0.0\n"
     ]
    },
    {
     "name": "stderr",
     "output_type": "stream",
     "text": [
      "\r",
      " 63%|██████▎   | 27/43 [00:19<00:15,  1.07it/s]"
     ]
    },
    {
     "name": "stdout",
     "output_type": "stream",
     "text": [
      "\n",
      "mean_270619-video2_004-036_opened_cc03.png: too spherical 3.051935123633024\n"
     ]
    },
    {
     "name": "stderr",
     "output_type": "stream",
     "text": [
      "\r",
      " 65%|██████▌   | 28/43 [00:20<00:12,  1.17it/s]"
     ]
    },
    {
     "name": "stdout",
     "output_type": "stream",
     "text": [
      "\n",
      "mean_270619-video2_004-036_opened_cc08.png: too spherical 6.327784412987579\n"
     ]
    },
    {
     "name": "stderr",
     "output_type": "stream",
     "text": [
      "\r",
      " 67%|██████▋   | 29/43 [00:21<00:11,  1.27it/s]"
     ]
    },
    {
     "name": "stdout",
     "output_type": "stream",
     "text": [
      "\n",
      "mean_270619-video2_004-036_opened_cc21.png: too spherical 3.392638081763092\n"
     ]
    },
    {
     "name": "stderr",
     "output_type": "stream",
     "text": [
      "\r",
      " 70%|██████▉   | 30/43 [00:21<00:09,  1.36it/s]"
     ]
    },
    {
     "name": "stdout",
     "output_type": "stream",
     "text": [
      "\n",
      "mean_270619-video2_004-036_opened_cc32.png: too spherical 2.1867039291620327\n"
     ]
    },
    {
     "name": "stderr",
     "output_type": "stream",
     "text": [
      "\r",
      " 72%|███████▏  | 31/43 [00:22<00:08,  1.42it/s]"
     ]
    },
    {
     "name": "stdout",
     "output_type": "stream",
     "text": [
      "\n",
      "mean_270619-video2_004-036_opened_cc38.png: too spherical 8.066494942823494\n"
     ]
    },
    {
     "name": "stderr",
     "output_type": "stream",
     "text": [
      "\r",
      " 74%|███████▍  | 32/43 [00:22<00:07,  1.46it/s]"
     ]
    },
    {
     "name": "stdout",
     "output_type": "stream",
     "text": [
      "\n",
      "mean_270619-video2_004-036_opened_cc53.png: too spherical 5.517389023516397\n"
     ]
    },
    {
     "name": "stderr",
     "output_type": "stream",
     "text": [
      "\r",
      " 77%|███████▋  | 33/43 [00:23<00:06,  1.47it/s]"
     ]
    },
    {
     "name": "stdout",
     "output_type": "stream",
     "text": [
      "\n",
      "mean_270619-video2_004-041_opened_cc02.png: too spherical 2.9456840533540234\n"
     ]
    },
    {
     "name": "stderr",
     "output_type": "stream",
     "text": [
      "\r",
      " 79%|███████▉  | 34/43 [00:24<00:05,  1.51it/s]"
     ]
    },
    {
     "name": "stdout",
     "output_type": "stream",
     "text": [
      "\n",
      "mean_270619-video2_004-041_opened_cc05.png is INTERESTING\n"
     ]
    },
    {
     "name": "stderr",
     "output_type": "stream",
     "text": [
      "\r",
      " 81%|████████▏ | 35/43 [00:24<00:05,  1.51it/s]"
     ]
    },
    {
     "name": "stdout",
     "output_type": "stream",
     "text": [
      "\n",
      "mean_270619-video2_004-041_opened_cc10.png is INTERESTING\n"
     ]
    },
    {
     "name": "stderr",
     "output_type": "stream",
     "text": [
      "\r",
      " 84%|████████▎ | 36/43 [00:25<00:04,  1.51it/s]"
     ]
    },
    {
     "name": "stdout",
     "output_type": "stream",
     "text": [
      "\n",
      "mean_270619-video2_004-041_opened_cc20.png: too spherical 9.971749472011151\n"
     ]
    },
    {
     "name": "stderr",
     "output_type": "stream",
     "text": [
      "\r",
      " 86%|████████▌ | 37/43 [00:26<00:04,  1.50it/s]"
     ]
    },
    {
     "name": "stdout",
     "output_type": "stream",
     "text": [
      "\n",
      "mean_270619-video2_004-041_opened_cc39.png is INTERESTING\n"
     ]
    },
    {
     "name": "stderr",
     "output_type": "stream",
     "text": [
      "\r",
      " 88%|████████▊ | 38/43 [00:26<00:03,  1.51it/s]"
     ]
    },
    {
     "name": "stdout",
     "output_type": "stream",
     "text": [
      "\n",
      "mean_270619-video2_004-042_opened_cc03.png: too spherical 4.379148744902544\n",
      "\n",
      "mean_270619-video2_004-042_opened_cc22.png is INTERESTING\n",
      "\n",
      "video2_004-041-video2_004-042: overlap = 0.0\n",
      "\n",
      "video2_004-041-video2_004-042: overlap = 0.0\n"
     ]
    },
    {
     "name": "stderr",
     "output_type": "stream",
     "text": [
      "\r",
      " 91%|█████████ | 39/43 [00:29<00:04,  1.20s/it]"
     ]
    },
    {
     "name": "stdout",
     "output_type": "stream",
     "text": [
      "\n",
      "video2_004-041-video2_004-042: overlap = 0.0\n"
     ]
    },
    {
     "name": "stderr",
     "output_type": "stream",
     "text": [
      "\r",
      " 93%|█████████▎| 40/43 [00:30<00:03,  1.06s/it]"
     ]
    },
    {
     "name": "stdout",
     "output_type": "stream",
     "text": [
      "\n",
      "mean_270619-video2_004-042_opened_cc37.png: too spherical 6.6532003723570075\n",
      "\n",
      "mean_270619-video2_004-042_opened_cc61.png is INTERESTING\n",
      "\n",
      "video2_004-041-video2_004-042: overlap = 0.0\n",
      "\n",
      "video2_004-041-video2_004-042: overlap = 0.0\n"
     ]
    },
    {
     "name": "stderr",
     "output_type": "stream",
     "text": [
      "\r",
      " 95%|█████████▌| 41/43 [00:32<00:02,  1.44s/it]"
     ]
    },
    {
     "name": "stdout",
     "output_type": "stream",
     "text": [
      "\n",
      "video2_004-041-video2_004-042: overlap = 0.0\n"
     ]
    },
    {
     "name": "stderr",
     "output_type": "stream",
     "text": [
      "\r",
      " 98%|█████████▊| 42/43 [00:33<00:01,  1.20s/it]"
     ]
    },
    {
     "name": "stdout",
     "output_type": "stream",
     "text": [
      "\n",
      "mean_270619-video2_004-026_opened_cc07.png is INTERESTING\n"
     ]
    },
    {
     "name": "stderr",
     "output_type": "stream",
     "text": [
      "100%|██████████| 43/43 [00:33<00:00,  1.03s/it]\n",
      "  0%|          | 0/35 [00:00<?, ?it/s]"
     ]
    },
    {
     "name": "stdout",
     "output_type": "stream",
     "text": [
      "\n",
      "mean_270619-video2_004-034_opened_cc15.png is INTERESTING\n",
      "found video2_005/trigger_thr0.005_cl9_op3/cc_filtered_2den0.81_gausrad2.0/\n"
     ]
    },
    {
     "name": "stderr",
     "output_type": "stream",
     "text": [
      "\r",
      "  3%|▎         | 1/35 [00:00<00:21,  1.58it/s]"
     ]
    },
    {
     "name": "stdout",
     "output_type": "stream",
     "text": [
      "\n",
      "mean_270619-video2_005-001_opened_cc02.png: too spherical 5.7749244006605815\n"
     ]
    },
    {
     "name": "stderr",
     "output_type": "stream",
     "text": [
      "\r",
      "  6%|▌         | 2/35 [00:01<00:21,  1.52it/s]"
     ]
    },
    {
     "name": "stdout",
     "output_type": "stream",
     "text": [
      "\n",
      "mean_270619-video2_005-001_opened_cc15.png: too spherical 5.094464812353211\n"
     ]
    },
    {
     "name": "stderr",
     "output_type": "stream",
     "text": [
      "\r",
      "  9%|▊         | 3/35 [00:01<00:20,  1.53it/s]"
     ]
    },
    {
     "name": "stdout",
     "output_type": "stream",
     "text": [
      "\n",
      "mean_270619-video2_005-001_opened_cc43.png: too spherical 2.773294786523098\n"
     ]
    },
    {
     "name": "stderr",
     "output_type": "stream",
     "text": [
      "\r",
      " 11%|█▏        | 4/35 [00:02<00:19,  1.55it/s]"
     ]
    },
    {
     "name": "stdout",
     "output_type": "stream",
     "text": [
      "\n",
      "mean_270619-video2_005-001_opened_cc51.png: too spherical 3.0587624976837797\n"
     ]
    },
    {
     "name": "stderr",
     "output_type": "stream",
     "text": [
      "\r",
      " 14%|█▍        | 5/35 [00:03<00:19,  1.57it/s]"
     ]
    },
    {
     "name": "stdout",
     "output_type": "stream",
     "text": [
      "\n",
      "mean_270619-video2_005-001_opened_cc56.png: too spherical 2.5072879916003963\n"
     ]
    },
    {
     "name": "stderr",
     "output_type": "stream",
     "text": [
      "\r",
      " 17%|█▋        | 6/35 [00:03<00:19,  1.52it/s]"
     ]
    },
    {
     "name": "stdout",
     "output_type": "stream",
     "text": [
      "\n",
      "mean_270619-video2_005-001_opened_cc57.png is INTERESTING\n"
     ]
    },
    {
     "name": "stderr",
     "output_type": "stream",
     "text": [
      "\r",
      " 20%|██        | 7/35 [00:04<00:18,  1.51it/s]"
     ]
    },
    {
     "name": "stdout",
     "output_type": "stream",
     "text": [
      "\n",
      "mean_270619-video2_005-001_opened_cc58.png is INTERESTING\n"
     ]
    },
    {
     "name": "stderr",
     "output_type": "stream",
     "text": [
      "\r",
      " 23%|██▎       | 8/35 [00:05<00:18,  1.47it/s]"
     ]
    },
    {
     "name": "stdout",
     "output_type": "stream",
     "text": [
      "\n",
      "mean_270619-video2_005-002_opened_cc24.png: too spherical 6.899166385479784\n"
     ]
    },
    {
     "name": "stderr",
     "output_type": "stream",
     "text": [
      "\r",
      " 26%|██▌       | 9/35 [00:05<00:17,  1.49it/s]"
     ]
    },
    {
     "name": "stdout",
     "output_type": "stream",
     "text": [
      "\n",
      "mean_270619-video2_005-002_opened_cc37.png: too spherical 7.051489240459692\n"
     ]
    },
    {
     "name": "stderr",
     "output_type": "stream",
     "text": [
      "\r",
      " 29%|██▊       | 10/35 [00:06<00:16,  1.50it/s]"
     ]
    },
    {
     "name": "stdout",
     "output_type": "stream",
     "text": [
      "\n",
      "mean_270619-video2_005-009_opened_cc03.png is INTERESTING\n"
     ]
    },
    {
     "name": "stderr",
     "output_type": "stream",
     "text": [
      "\r",
      " 31%|███▏      | 11/35 [00:07<00:15,  1.50it/s]"
     ]
    },
    {
     "name": "stdout",
     "output_type": "stream",
     "text": [
      "\n",
      "mean_270619-video2_005-009_opened_cc24.png: too spherical 4.290516383140072\n"
     ]
    },
    {
     "name": "stderr",
     "output_type": "stream",
     "text": [
      "\r",
      " 34%|███▍      | 12/35 [00:07<00:15,  1.52it/s]"
     ]
    },
    {
     "name": "stdout",
     "output_type": "stream",
     "text": [
      "\n",
      "mean_270619-video2_005-009_opened_cc31.png: too spherical 1.5755585553071614\n"
     ]
    },
    {
     "name": "stderr",
     "output_type": "stream",
     "text": [
      "\r",
      " 37%|███▋      | 13/35 [00:08<00:14,  1.53it/s]"
     ]
    },
    {
     "name": "stdout",
     "output_type": "stream",
     "text": [
      "\n",
      "mean_270619-video2_005-009_opened_cc32.png is INTERESTING\n"
     ]
    },
    {
     "name": "stderr",
     "output_type": "stream",
     "text": [
      "\r",
      " 40%|████      | 14/35 [00:09<00:13,  1.57it/s]"
     ]
    },
    {
     "name": "stdout",
     "output_type": "stream",
     "text": [
      "\n",
      "mean_270619-video2_005-009_opened_cc42.png is INTERESTING\n"
     ]
    },
    {
     "name": "stderr",
     "output_type": "stream",
     "text": [
      "\r",
      " 43%|████▎     | 15/35 [00:09<00:12,  1.57it/s]"
     ]
    },
    {
     "name": "stdout",
     "output_type": "stream",
     "text": [
      "\n",
      "mean_270619-video2_005-013_opened_cc16.png: too spherical 6.256585222032615\n"
     ]
    },
    {
     "name": "stderr",
     "output_type": "stream",
     "text": [
      "\r",
      " 46%|████▌     | 16/35 [00:10<00:12,  1.56it/s]"
     ]
    },
    {
     "name": "stdout",
     "output_type": "stream",
     "text": [
      "\n",
      "mean_270619-video2_005-013_opened_cc28.png is INTERESTING\n"
     ]
    },
    {
     "name": "stderr",
     "output_type": "stream",
     "text": [
      "\r",
      " 49%|████▊     | 17/35 [00:11<00:11,  1.57it/s]"
     ]
    },
    {
     "name": "stdout",
     "output_type": "stream",
     "text": [
      "\n",
      "mean_270619-video2_005-021_opened_cc02.png: too spherical 8.187140670977522\n"
     ]
    },
    {
     "name": "stderr",
     "output_type": "stream",
     "text": [
      "\r",
      " 51%|█████▏    | 18/35 [00:11<00:10,  1.55it/s]"
     ]
    },
    {
     "name": "stdout",
     "output_type": "stream",
     "text": [
      "\n",
      "mean_270619-video2_005-021_opened_cc03.png: too spherical 2.91088299320226\n"
     ]
    },
    {
     "name": "stderr",
     "output_type": "stream",
     "text": [
      "\r",
      " 54%|█████▍    | 19/35 [00:12<00:10,  1.58it/s]"
     ]
    },
    {
     "name": "stdout",
     "output_type": "stream",
     "text": [
      "\n",
      "mean_270619-video2_005-021_opened_cc24.png: too spherical 8.767073194018616\n"
     ]
    },
    {
     "name": "stderr",
     "output_type": "stream",
     "text": [
      "\r",
      " 57%|█████▋    | 20/35 [00:12<00:09,  1.59it/s]"
     ]
    },
    {
     "name": "stdout",
     "output_type": "stream",
     "text": [
      "\n",
      "mean_270619-video2_005-021_opened_cc47.png is INTERESTING\n"
     ]
    },
    {
     "name": "stderr",
     "output_type": "stream",
     "text": [
      "\r",
      " 60%|██████    | 21/35 [00:13<00:08,  1.60it/s]"
     ]
    },
    {
     "name": "stdout",
     "output_type": "stream",
     "text": [
      "\n",
      "mean_270619-video2_005-021_opened_cc51.png is INTERESTING\n"
     ]
    },
    {
     "name": "stderr",
     "output_type": "stream",
     "text": [
      "\r",
      " 63%|██████▎   | 22/35 [00:14<00:08,  1.61it/s]"
     ]
    },
    {
     "name": "stdout",
     "output_type": "stream",
     "text": [
      "\n",
      "mean_270619-video2_005-029_opened_cc16.png is INTERESTING\n"
     ]
    },
    {
     "name": "stderr",
     "output_type": "stream",
     "text": [
      "\r",
      " 66%|██████▌   | 23/35 [00:14<00:07,  1.56it/s]"
     ]
    },
    {
     "name": "stdout",
     "output_type": "stream",
     "text": [
      "\n",
      "mean_270619-video2_005-029_opened_cc27.png: too spherical 9.474200861145023\n"
     ]
    },
    {
     "name": "stderr",
     "output_type": "stream",
     "text": [
      "\r",
      " 69%|██████▊   | 24/35 [00:15<00:06,  1.57it/s]"
     ]
    },
    {
     "name": "stdout",
     "output_type": "stream",
     "text": [
      "\n",
      "mean_270619-video2_005-029_opened_cc31.png: too spherical 3.2827432305724478\n"
     ]
    },
    {
     "name": "stderr",
     "output_type": "stream",
     "text": [
      "\r",
      " 71%|███████▏  | 25/35 [00:16<00:06,  1.58it/s]"
     ]
    },
    {
     "name": "stdout",
     "output_type": "stream",
     "text": [
      "\n",
      "mean_270619-video2_005-029_opened_cc82.png is INTERESTING\n",
      "\n",
      "mean_270619-video2_005-030_opened_cc07.png is INTERESTING\n"
     ]
    },
    {
     "name": "stderr",
     "output_type": "stream",
     "text": [
      "\r",
      " 74%|███████▍  | 26/35 [00:17<00:07,  1.24it/s]"
     ]
    },
    {
     "name": "stdout",
     "output_type": "stream",
     "text": [
      "\n",
      "video2_005-029-video2_005-030: overlap = 0.6609547123623011\n",
      "\n",
      "mean_270619-video2_005-030_opened_cc13.png is INTERESTING\n"
     ]
    },
    {
     "name": "stderr",
     "output_type": "stream",
     "text": [
      "\r",
      " 77%|███████▋  | 27/35 [00:18<00:07,  1.07it/s]"
     ]
    },
    {
     "name": "stdout",
     "output_type": "stream",
     "text": [
      "\n",
      "video2_005-029-video2_005-030: overlap = 0.0\n"
     ]
    },
    {
     "name": "stderr",
     "output_type": "stream",
     "text": [
      "\r",
      " 80%|████████  | 28/35 [00:19<00:05,  1.18it/s]"
     ]
    },
    {
     "name": "stdout",
     "output_type": "stream",
     "text": [
      "\n",
      "mean_270619-video2_005-030_opened_cc19.png: too spherical 2.5529145695790625\n",
      "\n",
      "mean_270619-video2_005-030_opened_cc29.png is INTERESTING\n"
     ]
    },
    {
     "name": "stderr",
     "output_type": "stream",
     "text": [
      "\r",
      " 83%|████████▎ | 29/35 [00:20<00:05,  1.02it/s]"
     ]
    },
    {
     "name": "stdout",
     "output_type": "stream",
     "text": [
      "\n",
      "video2_005-029-video2_005-030: overlap = 0.0\n",
      "\n",
      "mean_270619-video2_005-030_opened_cc61.png is INTERESTING\n"
     ]
    },
    {
     "name": "stderr",
     "output_type": "stream",
     "text": [
      "\r",
      " 86%|████████▌ | 30/35 [00:21<00:05,  1.06s/it]"
     ]
    },
    {
     "name": "stdout",
     "output_type": "stream",
     "text": [
      "\n",
      "video2_005-029-video2_005-030: overlap = 0.495970695970696\n"
     ]
    },
    {
     "name": "stderr",
     "output_type": "stream",
     "text": [
      "\r",
      " 89%|████████▊ | 31/35 [00:22<00:03,  1.07it/s]"
     ]
    },
    {
     "name": "stdout",
     "output_type": "stream",
     "text": [
      "\n",
      "mean_270619-video2_005-040_opened_cc07.png is INTERESTING\n"
     ]
    },
    {
     "name": "stderr",
     "output_type": "stream",
     "text": [
      "\r",
      " 91%|█████████▏| 32/35 [00:23<00:02,  1.17it/s]"
     ]
    },
    {
     "name": "stdout",
     "output_type": "stream",
     "text": [
      "\n",
      "mean_270619-video2_005-040_opened_cc14.png is INTERESTING\n"
     ]
    },
    {
     "name": "stderr",
     "output_type": "stream",
     "text": [
      "\r",
      " 94%|█████████▍| 33/35 [00:23<00:01,  1.24it/s]"
     ]
    },
    {
     "name": "stdout",
     "output_type": "stream",
     "text": [
      "\n",
      "mean_270619-video2_005-040_opened_cc24.png is INTERESTING\n"
     ]
    },
    {
     "name": "stderr",
     "output_type": "stream",
     "text": [
      "\r",
      " 97%|█████████▋| 34/35 [00:24<00:00,  1.32it/s]"
     ]
    },
    {
     "name": "stdout",
     "output_type": "stream",
     "text": [
      "\n",
      "mean_270619-video2_005-001_opened_cc64.png: too spherical 3.219886417754613\n"
     ]
    },
    {
     "name": "stderr",
     "output_type": "stream",
     "text": [
      "100%|██████████| 35/35 [00:25<00:00,  1.39it/s]\n",
      "  0%|          | 0/28 [00:00<?, ?it/s]"
     ]
    },
    {
     "name": "stdout",
     "output_type": "stream",
     "text": [
      "\n",
      "mean_270619-video2_005-021_opened_cc10.png is INTERESTING\n",
      "found video2_006/trigger_thr0.005_cl9_op3/cc_filtered_2den0.81_gausrad2.0/\n"
     ]
    },
    {
     "name": "stderr",
     "output_type": "stream",
     "text": [
      "\r",
      "  4%|▎         | 1/28 [00:00<00:17,  1.56it/s]"
     ]
    },
    {
     "name": "stdout",
     "output_type": "stream",
     "text": [
      "\n",
      "mean_270619-video2_006-033_opened_cc18.png: too spherical 1.6370419649000243\n"
     ]
    },
    {
     "name": "stderr",
     "output_type": "stream",
     "text": [
      "\r",
      "  7%|▋         | 2/28 [00:01<00:16,  1.55it/s]"
     ]
    },
    {
     "name": "stdout",
     "output_type": "stream",
     "text": [
      "\n",
      "mean_270619-video2_006-005_opened_cc03.png: too spherical 4.457276272760965\n"
     ]
    },
    {
     "name": "stderr",
     "output_type": "stream",
     "text": [
      "\r",
      " 11%|█         | 3/28 [00:01<00:15,  1.57it/s]"
     ]
    },
    {
     "name": "stdout",
     "output_type": "stream",
     "text": [
      "\n",
      "mean_270619-video2_006-005_opened_cc18.png is INTERESTING\n"
     ]
    },
    {
     "name": "stderr",
     "output_type": "stream",
     "text": [
      "\r",
      " 14%|█▍        | 4/28 [00:02<00:15,  1.58it/s]"
     ]
    },
    {
     "name": "stdout",
     "output_type": "stream",
     "text": [
      "\n",
      "mean_270619-video2_006-006_opened_cc04.png: too spherical 2.068010300616091\n",
      "\n",
      "mean_270619-video2_006-006_opened_cc16.png is INTERESTING\n"
     ]
    },
    {
     "name": "stderr",
     "output_type": "stream",
     "text": [
      "\r",
      " 18%|█▊        | 5/28 [00:03<00:18,  1.23it/s]"
     ]
    },
    {
     "name": "stdout",
     "output_type": "stream",
     "text": [
      "\n",
      "video2_006-005-video2_006-006: overlap = 0.0\n",
      "\n",
      "mean_270619-video2_006-006_opened_cc20.png is INTERESTING\n"
     ]
    },
    {
     "name": "stderr",
     "output_type": "stream",
     "text": [
      "\r",
      " 21%|██▏       | 6/28 [00:04<00:20,  1.08it/s]"
     ]
    },
    {
     "name": "stdout",
     "output_type": "stream",
     "text": [
      "\n",
      "video2_006-005-video2_006-006: overlap = 0.0\n"
     ]
    },
    {
     "name": "stderr",
     "output_type": "stream",
     "text": [
      "\r",
      " 25%|██▌       | 7/28 [00:05<00:17,  1.20it/s]"
     ]
    },
    {
     "name": "stdout",
     "output_type": "stream",
     "text": [
      "\n",
      "mean_270619-video2_006-006_opened_cc41.png: too spherical 4.247419380450616\n",
      "\n",
      "mean_270619-video2_006-006_opened_cc45.png is INTERESTING\n"
     ]
    },
    {
     "name": "stderr",
     "output_type": "stream",
     "text": [
      "\r",
      " 29%|██▊       | 8/28 [00:06<00:18,  1.06it/s]"
     ]
    },
    {
     "name": "stdout",
     "output_type": "stream",
     "text": [
      "\n",
      "video2_006-005-video2_006-006: overlap = 0.3994856408058294\n"
     ]
    },
    {
     "name": "stderr",
     "output_type": "stream",
     "text": [
      "\r",
      " 32%|███▏      | 9/28 [00:07<00:16,  1.18it/s]"
     ]
    },
    {
     "name": "stdout",
     "output_type": "stream",
     "text": [
      "\n",
      "mean_270619-video2_006-006_opened_cc89.png: too spherical 2.370168483774635\n"
     ]
    },
    {
     "name": "stderr",
     "output_type": "stream",
     "text": [
      "\r",
      " 36%|███▌      | 10/28 [00:08<00:14,  1.27it/s]"
     ]
    },
    {
     "name": "stdout",
     "output_type": "stream",
     "text": [
      "\n",
      "mean_270619-video2_006-027_opened_cc02.png is INTERESTING\n"
     ]
    },
    {
     "name": "stderr",
     "output_type": "stream",
     "text": [
      "\r",
      " 39%|███▉      | 11/28 [00:08<00:12,  1.32it/s]"
     ]
    },
    {
     "name": "stdout",
     "output_type": "stream",
     "text": [
      "\n",
      "mean_270619-video2_006-027_opened_cc12.png is INTERESTING\n"
     ]
    },
    {
     "name": "stderr",
     "output_type": "stream",
     "text": [
      "\r",
      " 43%|████▎     | 12/28 [00:09<00:11,  1.38it/s]"
     ]
    },
    {
     "name": "stdout",
     "output_type": "stream",
     "text": [
      "\n",
      "mean_270619-video2_006-027_opened_cc51.png is INTERESTING\n"
     ]
    },
    {
     "name": "stderr",
     "output_type": "stream",
     "text": [
      "\r",
      " 46%|████▋     | 13/28 [00:10<00:10,  1.42it/s]"
     ]
    },
    {
     "name": "stdout",
     "output_type": "stream",
     "text": [
      "\n",
      "mean_270619-video2_006-027_opened_cc59.png: too spherical 3.5594891806018527\n"
     ]
    },
    {
     "name": "stderr",
     "output_type": "stream",
     "text": [
      "\r",
      " 50%|█████     | 14/28 [00:10<00:09,  1.43it/s]"
     ]
    },
    {
     "name": "stdout",
     "output_type": "stream",
     "text": [
      "\n",
      "mean_270619-video2_006-033_opened_cc03.png: too spherical 2.1377690774824436\n"
     ]
    },
    {
     "name": "stderr",
     "output_type": "stream",
     "text": [
      "\r",
      " 54%|█████▎    | 15/28 [00:11<00:08,  1.49it/s]"
     ]
    },
    {
     "name": "stdout",
     "output_type": "stream",
     "text": [
      "\n",
      "mean_270619-video2_006-033_opened_cc40.png is INTERESTING\n"
     ]
    },
    {
     "name": "stderr",
     "output_type": "stream",
     "text": [
      "\r",
      " 57%|█████▋    | 16/28 [00:11<00:07,  1.53it/s]"
     ]
    },
    {
     "name": "stdout",
     "output_type": "stream",
     "text": [
      "\n",
      "mean_270619-video2_006-033_opened_cc42.png is INTERESTING\n"
     ]
    },
    {
     "name": "stderr",
     "output_type": "stream",
     "text": [
      "\r",
      " 61%|██████    | 17/28 [00:12<00:07,  1.52it/s]"
     ]
    },
    {
     "name": "stdout",
     "output_type": "stream",
     "text": [
      "\n",
      "mean_270619-video2_006-034_opened_cc02.png: too spherical 8.58237456820914\n",
      "\n",
      "mean_270619-video2_006-034_opened_cc16.png is INTERESTING\n",
      "\n",
      "video2_006-033-video2_006-034: overlap = 0.0\n"
     ]
    },
    {
     "name": "stderr",
     "output_type": "stream",
     "text": [
      "\r",
      " 64%|██████▍   | 18/28 [00:14<00:10,  1.00s/it]"
     ]
    },
    {
     "name": "stdout",
     "output_type": "stream",
     "text": [
      "\n",
      "video2_006-033-video2_006-034: overlap = 0.0\n",
      "\n",
      "mean_270619-video2_006-034_opened_cc17.png is INTERESTING\n",
      "\n",
      "video2_006-033-video2_006-034: overlap = 0.0\n"
     ]
    },
    {
     "name": "stderr",
     "output_type": "stream",
     "text": [
      "\r",
      " 68%|██████▊   | 19/28 [00:16<00:11,  1.25s/it]"
     ]
    },
    {
     "name": "stdout",
     "output_type": "stream",
     "text": [
      "\n",
      "video2_006-033-video2_006-034: overlap = 0.0\n",
      "\n",
      "mean_270619-video2_006-035_opened_cc02.png is INTERESTING\n",
      "\n",
      "video2_006-034-video2_006-035: overlap = 0.0\n"
     ]
    },
    {
     "name": "stderr",
     "output_type": "stream",
     "text": [
      "\r",
      " 71%|███████▏  | 20/28 [00:18<00:11,  1.45s/it]"
     ]
    },
    {
     "name": "stdout",
     "output_type": "stream",
     "text": [
      "\n",
      "video2_006-034-video2_006-035: overlap = 0.0\n"
     ]
    },
    {
     "name": "stderr",
     "output_type": "stream",
     "text": [
      "\r",
      " 75%|███████▌  | 21/28 [00:18<00:08,  1.21s/it]"
     ]
    },
    {
     "name": "stdout",
     "output_type": "stream",
     "text": [
      "\n",
      "mean_270619-video2_006-035_opened_cc17.png: too spherical 9.540694086100652\n",
      "\n",
      "mean_270619-video2_006-036_opened_cc03.png is INTERESTING\n"
     ]
    },
    {
     "name": "stderr",
     "output_type": "stream",
     "text": [
      "\r",
      " 79%|███████▊  | 22/28 [00:20<00:07,  1.22s/it]"
     ]
    },
    {
     "name": "stdout",
     "output_type": "stream",
     "text": [
      "\n",
      "video2_006-035-video2_006-036: overlap = 0.8427352985186294\n"
     ]
    },
    {
     "name": "stderr",
     "output_type": "stream",
     "text": [
      "\r",
      " 82%|████████▏ | 23/28 [00:20<00:05,  1.04s/it]"
     ]
    },
    {
     "name": "stdout",
     "output_type": "stream",
     "text": [
      "\n",
      "mean_270619-video2_006-036_opened_cc18.png: too spherical 3.883191802581891\n"
     ]
    },
    {
     "name": "stderr",
     "output_type": "stream",
     "text": [
      "\r",
      " 86%|████████▌ | 24/28 [00:21<00:03,  1.08it/s]"
     ]
    },
    {
     "name": "stdout",
     "output_type": "stream",
     "text": [
      "\n",
      "mean_270619-video2_006-036_opened_cc31.png is INTERESTING\n"
     ]
    },
    {
     "name": "stderr",
     "output_type": "stream",
     "text": [
      "\r",
      " 89%|████████▉ | 25/28 [00:21<00:02,  1.21it/s]"
     ]
    },
    {
     "name": "stdout",
     "output_type": "stream",
     "text": [
      "\n",
      "mean_270619-video2_006-036_opened_cc33.png: too spherical 3.930726052903479\n"
     ]
    },
    {
     "name": "stderr",
     "output_type": "stream",
     "text": [
      "\r",
      " 93%|█████████▎| 26/28 [00:22<00:01,  1.30it/s]"
     ]
    },
    {
     "name": "stdout",
     "output_type": "stream",
     "text": [
      "\n",
      "mean_270619-video2_006-036_opened_cc35.png: too spherical 6.59802369584388\n"
     ]
    },
    {
     "name": "stderr",
     "output_type": "stream",
     "text": [
      "\r",
      " 96%|█████████▋| 27/28 [00:23<00:00,  1.38it/s]"
     ]
    },
    {
     "name": "stdout",
     "output_type": "stream",
     "text": [
      "\n",
      "mean_270619-video2_006-036_opened_cc45.png: too spherical 6.011467397801276\n"
     ]
    },
    {
     "name": "stderr",
     "output_type": "stream",
     "text": [
      "100%|██████████| 28/28 [00:23<00:00,  1.44it/s]\n",
      "  0%|          | 0/37 [00:00<?, ?it/s]"
     ]
    },
    {
     "name": "stdout",
     "output_type": "stream",
     "text": [
      "\n",
      "mean_270619-video2_006-036_opened_cc84.png is INTERESTING\n",
      "found video2_007/trigger_thr0.005_cl9_op3/cc_filtered_2den0.81_gausrad2.0/\n"
     ]
    },
    {
     "name": "stderr",
     "output_type": "stream",
     "text": [
      "\r",
      "  3%|▎         | 1/37 [00:00<00:22,  1.59it/s]"
     ]
    },
    {
     "name": "stdout",
     "output_type": "stream",
     "text": [
      "\n",
      "mean_270619-video2_007-006_opened_cc08.png: too spherical 2.2382389931465005\n"
     ]
    },
    {
     "name": "stderr",
     "output_type": "stream",
     "text": [
      "\r",
      "  5%|▌         | 2/37 [00:01<00:22,  1.59it/s]"
     ]
    },
    {
     "name": "stdout",
     "output_type": "stream",
     "text": [
      "\n",
      "mean_270619-video2_007-006_opened_cc09.png is INTERESTING\n"
     ]
    },
    {
     "name": "stderr",
     "output_type": "stream",
     "text": [
      "\r",
      "  8%|▊         | 3/37 [00:01<00:21,  1.60it/s]"
     ]
    },
    {
     "name": "stdout",
     "output_type": "stream",
     "text": [
      "\n",
      "mean_270619-video2_007-006_opened_cc11.png: too spherical 3.6631139932870878\n"
     ]
    },
    {
     "name": "stderr",
     "output_type": "stream",
     "text": [
      "\r",
      " 11%|█         | 4/37 [00:02<00:20,  1.61it/s]"
     ]
    },
    {
     "name": "stdout",
     "output_type": "stream",
     "text": [
      "\n",
      "mean_270619-video2_007-006_opened_cc17.png is INTERESTING\n"
     ]
    },
    {
     "name": "stderr",
     "output_type": "stream",
     "text": [
      "\r",
      " 14%|█▎        | 5/37 [00:03<00:19,  1.60it/s]"
     ]
    },
    {
     "name": "stdout",
     "output_type": "stream",
     "text": [
      "\n",
      "mean_270619-video2_007-006_opened_cc23.png: too spherical 1.2708124238389262\n"
     ]
    },
    {
     "name": "stderr",
     "output_type": "stream",
     "text": [
      "\r",
      " 16%|█▌        | 6/37 [00:03<00:19,  1.62it/s]"
     ]
    },
    {
     "name": "stdout",
     "output_type": "stream",
     "text": [
      "\n",
      "mean_270619-video2_007-006_opened_cc27.png is INTERESTING\n"
     ]
    },
    {
     "name": "stderr",
     "output_type": "stream",
     "text": [
      "\r",
      " 19%|█▉        | 7/37 [00:04<00:18,  1.59it/s]"
     ]
    },
    {
     "name": "stdout",
     "output_type": "stream",
     "text": [
      "\n",
      "mean_270619-video2_007-006_opened_cc42.png: too spherical 2.86921237575475\n"
     ]
    },
    {
     "name": "stderr",
     "output_type": "stream",
     "text": [
      "\r",
      " 22%|██▏       | 8/37 [00:05<00:18,  1.57it/s]"
     ]
    },
    {
     "name": "stdout",
     "output_type": "stream",
     "text": [
      "\n",
      "mean_270619-video2_007-006_opened_cc43.png: too spherical 5.740315083944177\n"
     ]
    },
    {
     "name": "stderr",
     "output_type": "stream",
     "text": [
      "\r",
      " 24%|██▍       | 9/37 [00:05<00:17,  1.59it/s]"
     ]
    },
    {
     "name": "stdout",
     "output_type": "stream",
     "text": [
      "\n",
      "mean_270619-video2_007-006_opened_cc45.png is INTERESTING\n"
     ]
    },
    {
     "name": "stderr",
     "output_type": "stream",
     "text": [
      "\r",
      " 27%|██▋       | 10/37 [00:06<00:16,  1.59it/s]"
     ]
    },
    {
     "name": "stdout",
     "output_type": "stream",
     "text": [
      "\n",
      "mean_270619-video2_007-006_opened_cc58.png: too spherical 6.69187908122899\n"
     ]
    },
    {
     "name": "stderr",
     "output_type": "stream",
     "text": [
      "\r",
      " 30%|██▉       | 11/37 [00:06<00:16,  1.59it/s]"
     ]
    },
    {
     "name": "stdout",
     "output_type": "stream",
     "text": [
      "\n",
      "mean_270619-video2_007-006_opened_cc66.png: too spherical 3.1188239879378923\n"
     ]
    },
    {
     "name": "stderr",
     "output_type": "stream",
     "text": [
      "\r",
      " 32%|███▏      | 12/37 [00:07<00:16,  1.55it/s]"
     ]
    },
    {
     "name": "stdout",
     "output_type": "stream",
     "text": [
      "\n",
      "mean_270619-video2_007-007_opened_cc07.png: too spherical 2.3654133899297127\n"
     ]
    },
    {
     "name": "stderr",
     "output_type": "stream",
     "text": [
      "\r",
      " 35%|███▌      | 13/37 [00:08<00:15,  1.54it/s]"
     ]
    },
    {
     "name": "stdout",
     "output_type": "stream",
     "text": [
      "\n",
      "mean_270619-video2_007-007_opened_cc11.png: too spherical 6.553453152440905\n",
      "\n",
      "mean_270619-video2_007-007_opened_cc12.png is INTERESTING\n"
     ]
    },
    {
     "name": "stderr",
     "output_type": "stream",
     "text": [
      "\r",
      " 38%|███▊      | 14/37 [00:09<00:18,  1.21it/s]"
     ]
    },
    {
     "name": "stdout",
     "output_type": "stream",
     "text": [
      "\n",
      "video2_007-006-video2_007-007: overlap = 0.6084129242023979\n"
     ]
    },
    {
     "name": "stderr",
     "output_type": "stream",
     "text": [
      "\r",
      " 41%|████      | 15/37 [00:10<00:16,  1.32it/s]"
     ]
    },
    {
     "name": "stdout",
     "output_type": "stream",
     "text": [
      "\n",
      "mean_270619-video2_007-007_opened_cc23.png: too spherical 8.470698887167616\n",
      "\n",
      "mean_270619-video2_007-007_opened_cc39.png is INTERESTING\n",
      "\n",
      "video2_007-006-video2_007-007: overlap = 0.0\n",
      "\n",
      "video2_007-006-video2_007-007: overlap = 0.0\n"
     ]
    },
    {
     "name": "stderr",
     "output_type": "stream",
     "text": [
      "\r",
      " 43%|████▎     | 16/37 [00:12<00:25,  1.24s/it]"
     ]
    },
    {
     "name": "stdout",
     "output_type": "stream",
     "text": [
      "\n",
      "video2_007-006-video2_007-007: overlap = 0.0\n",
      "\n",
      "mean_270619-video2_007-007_opened_cc57.png is INTERESTING\n",
      "\n",
      "video2_007-006-video2_007-007: overlap = 0.0\n",
      "\n",
      "video2_007-006-video2_007-007: overlap = 0.0\n"
     ]
    },
    {
     "name": "stderr",
     "output_type": "stream",
     "text": [
      "\r",
      " 46%|████▌     | 17/37 [00:14<00:31,  1.56s/it]"
     ]
    },
    {
     "name": "stdout",
     "output_type": "stream",
     "text": [
      "\n",
      "video2_007-006-video2_007-007: overlap = 0.0\n",
      "\n",
      "mean_270619-video2_007-007_opened_cc58.png is INTERESTING\n",
      "\n",
      "video2_007-006-video2_007-007: overlap = 0.0\n",
      "\n",
      "video2_007-006-video2_007-007: overlap = 0.0\n"
     ]
    },
    {
     "name": "stderr",
     "output_type": "stream",
     "text": [
      "\r",
      " 49%|████▊     | 18/37 [00:17<00:33,  1.79s/it]"
     ]
    },
    {
     "name": "stdout",
     "output_type": "stream",
     "text": [
      "\n",
      "video2_007-006-video2_007-007: overlap = 0.0\n"
     ]
    },
    {
     "name": "stderr",
     "output_type": "stream",
     "text": [
      "\r",
      " 51%|█████▏    | 19/37 [00:17<00:25,  1.43s/it]"
     ]
    },
    {
     "name": "stdout",
     "output_type": "stream",
     "text": [
      "\n",
      "mean_270619-video2_007-035_opened_cc05.png: too spherical 2.740128246295991\n"
     ]
    },
    {
     "name": "stderr",
     "output_type": "stream",
     "text": [
      "\r",
      " 54%|█████▍    | 20/37 [00:18<00:20,  1.20s/it]"
     ]
    },
    {
     "name": "stdout",
     "output_type": "stream",
     "text": [
      "\n",
      "mean_270619-video2_007-035_opened_cc12.png: too spherical 2.9430957601571355\n"
     ]
    },
    {
     "name": "stderr",
     "output_type": "stream",
     "text": [
      "\r",
      " 57%|█████▋    | 21/37 [00:18<00:16,  1.03s/it]"
     ]
    },
    {
     "name": "stdout",
     "output_type": "stream",
     "text": [
      "\n",
      "mean_270619-video2_007-035_opened_cc33.png: too spherical 9.324439961605908\n"
     ]
    },
    {
     "name": "stderr",
     "output_type": "stream",
     "text": [
      "\r",
      " 59%|█████▉    | 22/37 [00:19<00:13,  1.11it/s]"
     ]
    },
    {
     "name": "stdout",
     "output_type": "stream",
     "text": [
      "\n",
      "mean_270619-video2_007-036_opened_cc08.png is INTERESTING\n"
     ]
    },
    {
     "name": "stderr",
     "output_type": "stream",
     "text": [
      "\r",
      " 62%|██████▏   | 23/37 [00:20<00:11,  1.23it/s]"
     ]
    },
    {
     "name": "stdout",
     "output_type": "stream",
     "text": [
      "\n",
      "mean_270619-video2_007-036_opened_cc15.png: too spherical 2.4322937940266396\n"
     ]
    },
    {
     "name": "stderr",
     "output_type": "stream",
     "text": [
      "\r",
      " 65%|██████▍   | 24/37 [00:20<00:09,  1.30it/s]"
     ]
    },
    {
     "name": "stdout",
     "output_type": "stream",
     "text": [
      "\n",
      "mean_270619-video2_007-036_opened_cc21.png: too spherical 1.86249227906021\n"
     ]
    },
    {
     "name": "stderr",
     "output_type": "stream",
     "text": [
      "\r",
      " 68%|██████▊   | 25/37 [00:21<00:08,  1.36it/s]"
     ]
    },
    {
     "name": "stdout",
     "output_type": "stream",
     "text": [
      "\n",
      "mean_270619-video2_007-036_opened_cc28.png: too spherical 5.4767648918493075\n"
     ]
    },
    {
     "name": "stderr",
     "output_type": "stream",
     "text": [
      "\r",
      " 70%|███████   | 26/37 [00:22<00:07,  1.43it/s]"
     ]
    },
    {
     "name": "stdout",
     "output_type": "stream",
     "text": [
      "\n",
      "mean_270619-video2_007-036_opened_cc44.png: too spherical 2.010074757867788\n"
     ]
    },
    {
     "name": "stderr",
     "output_type": "stream",
     "text": [
      "\r",
      " 73%|███████▎  | 27/37 [00:22<00:06,  1.48it/s]"
     ]
    },
    {
     "name": "stdout",
     "output_type": "stream",
     "text": [
      "\n",
      "mean_270619-video2_007-036_opened_cc48.png is INTERESTING\n"
     ]
    },
    {
     "name": "stderr",
     "output_type": "stream",
     "text": [
      "\r",
      " 76%|███████▌  | 28/37 [00:23<00:05,  1.51it/s]"
     ]
    },
    {
     "name": "stdout",
     "output_type": "stream",
     "text": [
      "\n",
      "mean_270619-video2_007-036_opened_cc55.png: too spherical 8.293687643710713\n",
      "\n",
      "mean_270619-video2_007-037_opened_cc08.png is INTERESTING\n",
      "\n",
      "video2_007-036-video2_007-037: overlap = 0.0\n"
     ]
    },
    {
     "name": "stderr",
     "output_type": "stream",
     "text": [
      "\r",
      " 78%|███████▊  | 29/37 [00:25<00:08,  1.01s/it]"
     ]
    },
    {
     "name": "stdout",
     "output_type": "stream",
     "text": [
      "\n",
      "video2_007-036-video2_007-037: overlap = 0.0\n"
     ]
    },
    {
     "name": "stderr",
     "output_type": "stream",
     "text": [
      "\r",
      " 81%|████████  | 30/37 [00:25<00:06,  1.12it/s]"
     ]
    },
    {
     "name": "stdout",
     "output_type": "stream",
     "text": [
      "\n",
      "mean_270619-video2_007-037_opened_cc27.png: too spherical 4.003173326614964\n"
     ]
    },
    {
     "name": "stderr",
     "output_type": "stream",
     "text": [
      "\r",
      " 84%|████████▍ | 31/37 [00:26<00:04,  1.23it/s]"
     ]
    },
    {
     "name": "stdout",
     "output_type": "stream",
     "text": [
      "\n",
      "mean_270619-video2_007-037_opened_cc33.png: too spherical 1.969782502486944\n"
     ]
    },
    {
     "name": "stderr",
     "output_type": "stream",
     "text": [
      "\r",
      " 86%|████████▋ | 32/37 [00:27<00:03,  1.33it/s]"
     ]
    },
    {
     "name": "stdout",
     "output_type": "stream",
     "text": [
      "\n",
      "mean_270619-video2_007-037_opened_cc52.png: too spherical 4.043940279485868\n"
     ]
    },
    {
     "name": "stderr",
     "output_type": "stream",
     "text": [
      "\r",
      " 89%|████████▉ | 33/37 [00:27<00:02,  1.40it/s]"
     ]
    },
    {
     "name": "stdout",
     "output_type": "stream",
     "text": [
      "\n",
      "mean_270619-video2_007-037_opened_cc65.png: too spherical 7.954410508058826\n"
     ]
    },
    {
     "name": "stderr",
     "output_type": "stream",
     "text": [
      "\r",
      " 92%|█████████▏| 34/37 [00:28<00:02,  1.43it/s]"
     ]
    },
    {
     "name": "stdout",
     "output_type": "stream",
     "text": [
      "\n",
      "mean_270619-video2_007-048_opened_cc24.png: too spherical 1.5096631489241013\n"
     ]
    },
    {
     "name": "stderr",
     "output_type": "stream",
     "text": [
      "\r",
      " 95%|█████████▍| 35/37 [00:28<00:01,  1.47it/s]"
     ]
    },
    {
     "name": "stdout",
     "output_type": "stream",
     "text": [
      "\n",
      "mean_270619-video2_007-048_opened_cc46.png is INTERESTING\n"
     ]
    },
    {
     "name": "stderr",
     "output_type": "stream",
     "text": [
      "\r",
      " 97%|█████████▋| 36/37 [00:29<00:00,  1.51it/s]"
     ]
    },
    {
     "name": "stdout",
     "output_type": "stream",
     "text": [
      "\n",
      "mean_270619-video2_007-006_opened_cc49.png: too spherical 9.892631035739873\n"
     ]
    },
    {
     "name": "stderr",
     "output_type": "stream",
     "text": [
      "100%|██████████| 37/37 [00:30<00:00,  1.53it/s]\n",
      "  0%|          | 0/48 [00:00<?, ?it/s]"
     ]
    },
    {
     "name": "stdout",
     "output_type": "stream",
     "text": [
      "\n",
      "mean_270619-video2_007-035_opened_cc30.png is INTERESTING\n",
      "found video2_008/trigger_thr0.005_cl9_op3/cc_filtered_2den0.81_gausrad2.0/\n"
     ]
    },
    {
     "name": "stderr",
     "output_type": "stream",
     "text": [
      "\r",
      "  2%|▏         | 1/48 [00:00<00:33,  1.41it/s]"
     ]
    },
    {
     "name": "stdout",
     "output_type": "stream",
     "text": [
      "\n",
      "mean_270619-video2_008-001_opened_cc17.png: too spherical 3.3978702995749672\n"
     ]
    },
    {
     "name": "stderr",
     "output_type": "stream",
     "text": [
      "\r",
      "  4%|▍         | 2/48 [00:01<00:32,  1.41it/s]"
     ]
    },
    {
     "name": "stdout",
     "output_type": "stream",
     "text": [
      "\n",
      "mean_270619-video2_008-002_opened_cc24.png: too spherical 4.341792746044707\n"
     ]
    },
    {
     "name": "stderr",
     "output_type": "stream",
     "text": [
      "\r",
      "  6%|▋         | 3/48 [00:02<00:30,  1.45it/s]"
     ]
    },
    {
     "name": "stdout",
     "output_type": "stream",
     "text": [
      "\n",
      "mean_270619-video2_008-002_opened_cc38.png: too spherical 4.4970878230765505\n"
     ]
    },
    {
     "name": "stderr",
     "output_type": "stream",
     "text": [
      "\r",
      "  8%|▊         | 4/48 [00:02<00:29,  1.50it/s]"
     ]
    },
    {
     "name": "stdout",
     "output_type": "stream",
     "text": [
      "\n",
      "mean_270619-video2_008-002_opened_cc42.png: too spherical 7.4734093721653485\n"
     ]
    },
    {
     "name": "stderr",
     "output_type": "stream",
     "text": [
      "\r",
      " 10%|█         | 5/48 [00:03<00:28,  1.52it/s]"
     ]
    },
    {
     "name": "stdout",
     "output_type": "stream",
     "text": [
      "\n",
      "mean_270619-video2_008-002_opened_cc44.png is INTERESTING\n"
     ]
    },
    {
     "name": "stderr",
     "output_type": "stream",
     "text": [
      "\r",
      " 12%|█▎        | 6/48 [00:03<00:27,  1.55it/s]"
     ]
    },
    {
     "name": "stdout",
     "output_type": "stream",
     "text": [
      "\n",
      "mean_270619-video2_008-002_opened_cc70.png is INTERESTING\n"
     ]
    },
    {
     "name": "stderr",
     "output_type": "stream",
     "text": [
      "\r",
      " 15%|█▍        | 7/48 [00:04<00:26,  1.55it/s]"
     ]
    },
    {
     "name": "stdout",
     "output_type": "stream",
     "text": [
      "\n",
      "mean_270619-video2_008-003_opened_cc17.png: too spherical 3.4683712491828294\n"
     ]
    },
    {
     "name": "stderr",
     "output_type": "stream",
     "text": [
      "\r",
      " 17%|█▋        | 8/48 [00:05<00:25,  1.56it/s]"
     ]
    },
    {
     "name": "stdout",
     "output_type": "stream",
     "text": [
      "\n",
      "mean_270619-video2_008-003_opened_cc41.png: too spherical 4.972151895074777\n"
     ]
    },
    {
     "name": "stderr",
     "output_type": "stream",
     "text": [
      "\r",
      " 19%|█▉        | 9/48 [00:05<00:25,  1.52it/s]"
     ]
    },
    {
     "name": "stdout",
     "output_type": "stream",
     "text": [
      "\n",
      "mean_270619-video2_008-004_opened_cc11.png: too spherical 2.6087807405666648\n"
     ]
    },
    {
     "name": "stderr",
     "output_type": "stream",
     "text": [
      "\r",
      " 21%|██        | 10/48 [00:06<00:24,  1.55it/s]"
     ]
    },
    {
     "name": "stdout",
     "output_type": "stream",
     "text": [
      "\n",
      "mean_270619-video2_008-004_opened_cc116.png is INTERESTING\n"
     ]
    },
    {
     "name": "stderr",
     "output_type": "stream",
     "text": [
      "\r",
      " 23%|██▎       | 11/48 [00:07<00:23,  1.58it/s]"
     ]
    },
    {
     "name": "stdout",
     "output_type": "stream",
     "text": [
      "\n",
      "mean_270619-video2_008-004_opened_cc28.png: too spherical 2.8736371671597998\n"
     ]
    },
    {
     "name": "stderr",
     "output_type": "stream",
     "text": [
      "\r",
      " 25%|██▌       | 12/48 [00:07<00:22,  1.60it/s]"
     ]
    },
    {
     "name": "stdout",
     "output_type": "stream",
     "text": [
      "\n",
      "mean_270619-video2_008-004_opened_cc35.png: too spherical 2.8880519466969243\n"
     ]
    },
    {
     "name": "stderr",
     "output_type": "stream",
     "text": [
      "\r",
      " 27%|██▋       | 13/48 [00:08<00:22,  1.59it/s]"
     ]
    },
    {
     "name": "stdout",
     "output_type": "stream",
     "text": [
      "\n",
      "mean_270619-video2_008-004_opened_cc43.png is INTERESTING\n"
     ]
    },
    {
     "name": "stderr",
     "output_type": "stream",
     "text": [
      "\r",
      " 29%|██▉       | 14/48 [00:08<00:21,  1.59it/s]"
     ]
    },
    {
     "name": "stdout",
     "output_type": "stream",
     "text": [
      "\n",
      "mean_270619-video2_008-004_opened_cc57.png: too spherical 4.206684113347683\n"
     ]
    },
    {
     "name": "stderr",
     "output_type": "stream",
     "text": [
      "\r",
      " 31%|███▏      | 15/48 [00:09<00:20,  1.61it/s]"
     ]
    },
    {
     "name": "stdout",
     "output_type": "stream",
     "text": [
      "\n",
      "mean_270619-video2_008-004_opened_cc58.png is INTERESTING\n"
     ]
    },
    {
     "name": "stderr",
     "output_type": "stream",
     "text": [
      "\r",
      " 33%|███▎      | 16/48 [00:10<00:19,  1.62it/s]"
     ]
    },
    {
     "name": "stdout",
     "output_type": "stream",
     "text": [
      "\n",
      "mean_270619-video2_008-004_opened_cc85.png: too spherical 4.20995591311665\n",
      "\n",
      "mean_270619-video2_008-005_opened_cc06.png is INTERESTING\n",
      "\n",
      "video2_008-004-video2_008-005: overlap = 0.0\n",
      "\n",
      "video2_008-004-video2_008-005: overlap = 0.0\n"
     ]
    },
    {
     "name": "stderr",
     "output_type": "stream",
     "text": [
      "\r",
      " 35%|███▌      | 17/48 [00:12<00:35,  1.13s/it]"
     ]
    },
    {
     "name": "stdout",
     "output_type": "stream",
     "text": [
      "\n",
      "video2_008-004-video2_008-005: overlap = 0.0\n",
      "\n",
      "mean_270619-video2_008-005_opened_cc45.png is INTERESTING\n",
      "\n",
      "video2_008-004-video2_008-005: overlap = 0.0\n",
      "\n",
      "video2_008-004-video2_008-005: overlap = 0.320855614973262\n"
     ]
    },
    {
     "name": "stderr",
     "output_type": "stream",
     "text": [
      "\r",
      " 38%|███▊      | 18/48 [00:14<00:45,  1.50s/it]"
     ]
    },
    {
     "name": "stdout",
     "output_type": "stream",
     "text": [
      "\n",
      "video2_008-004-video2_008-005: overlap = 0.0\n"
     ]
    },
    {
     "name": "stderr",
     "output_type": "stream",
     "text": [
      "\r",
      " 40%|███▉      | 19/48 [00:15<00:36,  1.26s/it]"
     ]
    },
    {
     "name": "stdout",
     "output_type": "stream",
     "text": [
      "\n",
      "mean_270619-video2_008-011_opened_cc04.png: too spherical 6.188426998044078\n"
     ]
    },
    {
     "name": "stderr",
     "output_type": "stream",
     "text": [
      "\r",
      " 42%|████▏     | 20/48 [00:16<00:30,  1.08s/it]"
     ]
    },
    {
     "name": "stdout",
     "output_type": "stream",
     "text": [
      "\n",
      "mean_270619-video2_008-011_opened_cc05.png: too spherical 1.8117380886620362\n"
     ]
    },
    {
     "name": "stderr",
     "output_type": "stream",
     "text": [
      "\r",
      " 44%|████▍     | 21/48 [00:16<00:25,  1.05it/s]"
     ]
    },
    {
     "name": "stdout",
     "output_type": "stream",
     "text": [
      "\n",
      "mean_270619-video2_008-011_opened_cc51.png: too spherical 3.2161602211800955\n"
     ]
    },
    {
     "name": "stderr",
     "output_type": "stream",
     "text": [
      "\r",
      " 46%|████▌     | 22/48 [00:17<00:22,  1.17it/s]"
     ]
    },
    {
     "name": "stdout",
     "output_type": "stream",
     "text": [
      "\n",
      "mean_270619-video2_008-011_opened_cc55.png is INTERESTING\n"
     ]
    },
    {
     "name": "stderr",
     "output_type": "stream",
     "text": [
      "\r",
      " 48%|████▊     | 23/48 [00:18<00:19,  1.27it/s]"
     ]
    },
    {
     "name": "stdout",
     "output_type": "stream",
     "text": [
      "\n",
      "mean_270619-video2_008-011_opened_cc70.png is INTERESTING\n"
     ]
    },
    {
     "name": "stderr",
     "output_type": "stream",
     "text": [
      "\r",
      " 50%|█████     | 24/48 [00:18<00:17,  1.34it/s]"
     ]
    },
    {
     "name": "stdout",
     "output_type": "stream",
     "text": [
      "\n",
      "mean_270619-video2_008-012_opened_cc03.png: too spherical 2.2883378922796203\n"
     ]
    },
    {
     "name": "stderr",
     "output_type": "stream",
     "text": [
      "\r",
      " 52%|█████▏    | 25/48 [00:19<00:17,  1.35it/s]"
     ]
    },
    {
     "name": "stdout",
     "output_type": "stream",
     "text": [
      "\n",
      "mean_270619-video2_008-012_opened_cc07.png: too spherical 3.880161382745908\n"
     ]
    },
    {
     "name": "stderr",
     "output_type": "stream",
     "text": [
      "\r",
      " 54%|█████▍    | 26/48 [00:20<00:15,  1.41it/s]"
     ]
    },
    {
     "name": "stdout",
     "output_type": "stream",
     "text": [
      "\n",
      "mean_270619-video2_008-012_opened_cc17.png: too spherical 5.221310113214375\n"
     ]
    },
    {
     "name": "stderr",
     "output_type": "stream",
     "text": [
      "\r",
      " 56%|█████▋    | 27/48 [00:20<00:14,  1.47it/s]"
     ]
    },
    {
     "name": "stdout",
     "output_type": "stream",
     "text": [
      "\n",
      "mean_270619-video2_008-012_opened_cc34.png: too spherical 6.625910722704522\n"
     ]
    },
    {
     "name": "stderr",
     "output_type": "stream",
     "text": [
      "\r",
      " 58%|█████▊    | 28/48 [00:21<00:13,  1.50it/s]"
     ]
    },
    {
     "name": "stdout",
     "output_type": "stream",
     "text": [
      "\n",
      "mean_270619-video2_008-012_opened_cc45.png: too spherical 4.253996703627043\n"
     ]
    },
    {
     "name": "stderr",
     "output_type": "stream",
     "text": [
      "\r",
      " 60%|██████    | 29/48 [00:22<00:12,  1.54it/s]"
     ]
    },
    {
     "name": "stdout",
     "output_type": "stream",
     "text": [
      "\n",
      "mean_270619-video2_008-012_opened_cc62.png: too spherical 4.547050282302043\n"
     ]
    },
    {
     "name": "stderr",
     "output_type": "stream",
     "text": [
      "\r",
      " 62%|██████▎   | 30/48 [00:22<00:11,  1.54it/s]"
     ]
    },
    {
     "name": "stdout",
     "output_type": "stream",
     "text": [
      "\n",
      "mean_270619-video2_008-003_opened_cc29.png: too spherical 8.512157230342275\n",
      "\n",
      "mean_270619-video2_008-005_opened_cc79.png is INTERESTING\n"
     ]
    },
    {
     "name": "stderr",
     "output_type": "stream",
     "text": [
      "\r",
      " 65%|██████▍   | 31/48 [00:23<00:13,  1.23it/s]"
     ]
    },
    {
     "name": "stdout",
     "output_type": "stream",
     "text": [
      "\n",
      "video2_008-004-video2_008-005: overlap = 0.6284796573875804\n"
     ]
    },
    {
     "name": "stderr",
     "output_type": "stream",
     "text": [
      "\r",
      " 67%|██████▋   | 32/48 [00:24<00:12,  1.28it/s]"
     ]
    },
    {
     "name": "stdout",
     "output_type": "stream",
     "text": [
      "\n",
      "mean_270619-video2_008-013_opened_cc01.png: too spherical 7.3190392794212835\n"
     ]
    },
    {
     "name": "stderr",
     "output_type": "stream",
     "text": [
      "\r",
      " 69%|██████▉   | 33/48 [00:25<00:11,  1.34it/s]"
     ]
    },
    {
     "name": "stdout",
     "output_type": "stream",
     "text": [
      "\n",
      "mean_270619-video2_008-013_opened_cc04.png: too spherical 6.190799285749345\n"
     ]
    },
    {
     "name": "stderr",
     "output_type": "stream",
     "text": [
      "\r",
      " 71%|███████   | 34/48 [00:25<00:09,  1.43it/s]"
     ]
    },
    {
     "name": "stdout",
     "output_type": "stream",
     "text": [
      "\n",
      "mean_270619-video2_008-013_opened_cc11.png: too spherical 7.9829017368537265\n"
     ]
    },
    {
     "name": "stderr",
     "output_type": "stream",
     "text": [
      "\r",
      " 73%|███████▎  | 35/48 [00:26<00:08,  1.48it/s]"
     ]
    },
    {
     "name": "stdout",
     "output_type": "stream",
     "text": [
      "\n",
      "mean_270619-video2_008-013_opened_cc32.png: too spherical 6.47707595455535\n"
     ]
    },
    {
     "name": "stderr",
     "output_type": "stream",
     "text": [
      "\r",
      " 75%|███████▌  | 36/48 [00:27<00:07,  1.52it/s]"
     ]
    },
    {
     "name": "stdout",
     "output_type": "stream",
     "text": [
      "\n",
      "mean_270619-video2_008-013_opened_cc37.png: too spherical 6.331099985074288\n"
     ]
    },
    {
     "name": "stderr",
     "output_type": "stream",
     "text": [
      "\r",
      " 77%|███████▋  | 37/48 [00:27<00:07,  1.54it/s]"
     ]
    },
    {
     "name": "stdout",
     "output_type": "stream",
     "text": [
      "\n",
      "mean_270619-video2_008-013_opened_cc59.png: too spherical 1.3091814105064536\n"
     ]
    },
    {
     "name": "stderr",
     "output_type": "stream",
     "text": [
      "\r",
      " 79%|███████▉  | 38/48 [00:28<00:06,  1.57it/s]"
     ]
    },
    {
     "name": "stdout",
     "output_type": "stream",
     "text": [
      "\n",
      "mean_270619-video2_008-013_opened_cc71.png: too spherical 2.311105211155934\n"
     ]
    },
    {
     "name": "stderr",
     "output_type": "stream",
     "text": [
      "\r",
      " 81%|████████▏ | 39/48 [00:28<00:05,  1.58it/s]"
     ]
    },
    {
     "name": "stdout",
     "output_type": "stream",
     "text": [
      "\n",
      "mean_270619-video2_008-013_opened_cc75.png is INTERESTING\n"
     ]
    },
    {
     "name": "stderr",
     "output_type": "stream",
     "text": [
      "\r",
      " 83%|████████▎ | 40/48 [00:29<00:05,  1.60it/s]"
     ]
    },
    {
     "name": "stdout",
     "output_type": "stream",
     "text": [
      "\n",
      "mean_270619-video2_008-013_opened_cc92.png is INTERESTING\n"
     ]
    },
    {
     "name": "stderr",
     "output_type": "stream",
     "text": [
      "\r",
      " 85%|████████▌ | 41/48 [00:30<00:04,  1.57it/s]"
     ]
    },
    {
     "name": "stdout",
     "output_type": "stream",
     "text": [
      "\n",
      "mean_270619-video2_008-014_opened_cc11.png: too spherical 4.846542400212201\n"
     ]
    },
    {
     "name": "stderr",
     "output_type": "stream",
     "text": [
      "\r",
      " 88%|████████▊ | 42/48 [00:30<00:03,  1.56it/s]"
     ]
    },
    {
     "name": "stdout",
     "output_type": "stream",
     "text": [
      "\n",
      "mean_270619-video2_008-014_opened_cc16.png: too spherical 3.569072792448525\n"
     ]
    },
    {
     "name": "stderr",
     "output_type": "stream",
     "text": [
      "\r",
      " 90%|████████▉ | 43/48 [00:31<00:03,  1.56it/s]"
     ]
    },
    {
     "name": "stdout",
     "output_type": "stream",
     "text": [
      "\n",
      "mean_270619-video2_008-015_opened_cc12.png: too spherical 7.296277464362657\n"
     ]
    },
    {
     "name": "stderr",
     "output_type": "stream",
     "text": [
      "\r",
      " 92%|█████████▏| 44/48 [00:32<00:02,  1.53it/s]"
     ]
    },
    {
     "name": "stdout",
     "output_type": "stream",
     "text": [
      "\n",
      "mean_270619-video2_008-015_opened_cc16.png: too spherical 3.000731422722822\n"
     ]
    },
    {
     "name": "stderr",
     "output_type": "stream",
     "text": [
      "\r",
      " 94%|█████████▍| 45/48 [00:32<00:01,  1.55it/s]"
     ]
    },
    {
     "name": "stdout",
     "output_type": "stream",
     "text": [
      "\n",
      "mean_270619-video2_008-016_opened_cc03.png is INTERESTING\n"
     ]
    },
    {
     "name": "stderr",
     "output_type": "stream",
     "text": [
      "\r",
      " 96%|█████████▌| 46/48 [00:33<00:01,  1.58it/s]"
     ]
    },
    {
     "name": "stdout",
     "output_type": "stream",
     "text": [
      "\n",
      "mean_270619-video2_008-016_opened_cc15.png is INTERESTING\n"
     ]
    },
    {
     "name": "stderr",
     "output_type": "stream",
     "text": [
      "\r",
      " 98%|█████████▊| 47/48 [00:34<00:00,  1.59it/s]"
     ]
    },
    {
     "name": "stdout",
     "output_type": "stream",
     "text": [
      "\n",
      "mean_270619-video2_008-016_opened_cc20.png is INTERESTING\n"
     ]
    },
    {
     "name": "stderr",
     "output_type": "stream",
     "text": [
      "\r",
      "100%|██████████| 48/48 [00:34<00:00,  1.61it/s]"
     ]
    },
    {
     "name": "stdout",
     "output_type": "stream",
     "text": [
      "\n",
      "mean_270619-video2_008-016_opened_cc50.png is INTERESTING\n",
      "found video3_000/trigger_thr0.005_cl9_op3/cc_filtered_2den0.81_gausrad2.0/\n",
      "found video3_001/trigger_thr0.005_cl9_op3/cc_filtered_2den0.81_gausrad2.0/\n",
      "found video3_002/trigger_thr0.005_cl9_op3/cc_filtered_2den0.81_gausrad2.0/\n",
      "found video3_003/trigger_thr0.005_cl9_op3/cc_filtered_2den0.81_gausrad2.0/\n",
      "found video3_004/trigger_thr0.005_cl9_op3/cc_filtered_2den0.81_gausrad2.0/\n",
      "found video3_005/trigger_thr0.005_cl9_op3/cc_filtered_2den0.81_gausrad2.0/\n",
      "found video3_006/trigger_thr0.005_cl9_op3/cc_filtered_2den0.81_gausrad2.0/\n",
      "found video3_007/trigger_thr0.005_cl9_op3/cc_filtered_2den0.81_gausrad2.0/\n",
      "found video3_008/trigger_thr0.005_cl9_op3/cc_filtered_2den0.81_gausrad2.0/\n",
      "found video3_009/trigger_thr0.005_cl9_op3/cc_filtered_2den0.81_gausrad2.0/\n",
      "found video3_010/trigger_thr0.005_cl9_op3/cc_filtered_2den0.81_gausrad2.0/\n",
      "found video3_011/trigger_thr0.005_cl9_op3/cc_filtered_2den0.81_gausrad2.0/\n",
      "found video3_012/trigger_thr0.005_cl9_op3/cc_filtered_2den0.81_gausrad2.0/\n",
      "found video3_013/trigger_thr0.005_cl9_op3/cc_filtered_2den0.81_gausrad2.0/\n",
      "found video3_014/trigger_thr0.005_cl9_op3/cc_filtered_2den0.81_gausrad2.0/\n",
      "found video3_015/trigger_thr0.005_cl9_op3/cc_filtered_2den0.81_gausrad2.0/\n",
      "found video3_016/trigger_thr0.005_cl9_op3/cc_filtered_2den0.81_gausrad2.0/\n",
      "found video3_017/trigger_thr0.005_cl9_op3/cc_filtered_2den0.81_gausrad2.0/\n",
      "found video3_018/trigger_thr0.005_cl9_op3/cc_filtered_2den0.81_gausrad2.0/\n",
      "found video3_020/trigger_thr0.005_cl9_op3/cc_filtered_2den0.81_gausrad2.0/\n",
      "found video3_021/trigger_thr0.005_cl9_op3/cc_filtered_2den0.81_gausrad2.0/\n",
      "found video3_022/trigger_thr0.005_cl9_op3/cc_filtered_2den0.81_gausrad2.0/\n",
      "found video3_023/trigger_thr0.005_cl9_op3/cc_filtered_2den0.81_gausrad2.0/\n",
      "found video3_024/trigger_thr0.005_cl9_op3/cc_filtered_2den0.81_gausrad2.0/\n",
      "found video3_025/trigger_thr0.005_cl9_op3/cc_filtered_2den0.81_gausrad2.0/\n",
      "found video3_026/trigger_thr0.005_cl9_op3/cc_filtered_2den0.81_gausrad2.0/\n",
      "found video3_027/trigger_thr0.005_cl9_op3/cc_filtered_2den0.81_gausrad2.0/\n",
      "found video3_028/trigger_thr0.005_cl9_op3/cc_filtered_2den0.81_gausrad2.0/\n",
      "found video3_029/trigger_thr0.005_cl9_op3/cc_filtered_2den0.81_gausrad2.0/\n",
      "found video4_000/trigger_thr0.005_cl9_op3/cc_filtered_2den0.81_gausrad2.0/\n",
      "found video4_001/trigger_thr0.005_cl9_op3/cc_filtered_2den0.81_gausrad2.0/\n",
      "found video4_002/trigger_thr0.005_cl9_op3/cc_filtered_2den0.81_gausrad2.0/\n",
      "found video4_003/trigger_thr0.005_cl9_op3/cc_filtered_2den0.81_gausrad2.0/\n",
      "found video4_004/trigger_thr0.005_cl9_op3/cc_filtered_2den0.81_gausrad2.0/\n",
      "found video4_005/trigger_thr0.005_cl9_op3/cc_filtered_2den0.81_gausrad2.0/\n",
      "found video4_006/trigger_thr0.005_cl9_op3/cc_filtered_2den0.81_gausrad2.0/\n",
      "found video4_007/trigger_thr0.005_cl9_op3/cc_filtered_2den0.81_gausrad2.0/\n",
      "found video4_008/trigger_thr0.005_cl9_op3/cc_filtered_2den0.81_gausrad2.0/\n",
      "found video4_010/trigger_thr0.005_cl9_op3/cc_filtered_2den0.81_gausrad2.0/\n",
      "found video4_011/trigger_thr0.005_cl9_op3/cc_filtered_2den0.81_gausrad2.0/\n",
      "found video4_012/trigger_thr0.005_cl9_op3/cc_filtered_2den0.81_gausrad2.0/\n",
      "found video4_013/trigger_thr0.005_cl9_op3/cc_filtered_2den0.81_gausrad2.0/\n",
      "found video4_014/trigger_thr0.005_cl9_op3/cc_filtered_2den0.81_gausrad2.0/\n",
      "found video4_015/trigger_thr0.005_cl9_op3/cc_filtered_2den0.81_gausrad2.0/\n",
      "found video4_016/trigger_thr0.005_cl9_op3/cc_filtered_2den0.81_gausrad2.0/\n",
      "found video4_017/trigger_thr0.005_cl9_op3/cc_filtered_2den0.81_gausrad2.0/\n",
      "found video4_018/trigger_thr0.005_cl9_op3/cc_filtered_2den0.81_gausrad2.0/\n",
      "found video4_019/trigger_thr0.005_cl9_op3/cc_filtered_2den0.81_gausrad2.0/\n",
      "found video4_020/trigger_thr0.005_cl9_op3/cc_filtered_2den0.81_gausrad2.0/\n",
      "found video4_021/trigger_thr0.005_cl9_op3/cc_filtered_2den0.81_gausrad2.0/\n",
      "found video4_022/trigger_thr0.005_cl9_op3/cc_filtered_2den0.81_gausrad2.0/\n",
      "found video4_023/trigger_thr0.005_cl9_op3/cc_filtered_2den0.81_gausrad2.0/\n",
      "found video4_024/trigger_thr0.005_cl9_op3/cc_filtered_2den0.81_gausrad2.0/\n",
      "found video4_025/trigger_thr0.005_cl9_op3/cc_filtered_2den0.81_gausrad2.0/\n",
      "found video4_026/trigger_thr0.005_cl9_op3/cc_filtered_2den0.81_gausrad2.0/\n",
      "found video4_027/trigger_thr0.005_cl9_op3/cc_filtered_2den0.81_gausrad2.0/\n",
      "found video4_028/trigger_thr0.005_cl9_op3/cc_filtered_2den0.81_gausrad2.0/\n",
      "\n",
      "Slimming 148 particles\n"
     ]
    },
    {
     "name": "stderr",
     "output_type": "stream",
     "text": [
      "\n"
     ]
    },
    {
     "name": "stdout",
     "output_type": "stream",
     "text": [
      "Total time: 0 h 11 min 46 s\n"
     ]
    }
   ],
   "source": [
    "# create clusterizer\n",
    "\n",
    "particles = []\n",
    "\n",
    "particles,n_part,slim = Particle.Big_iteration(path='/media/alessandro/DATA/tesi/Nebbia/pre-processed_data/270619/',\n",
    "                                               slim=True,eccentricity_thr=5,video_name='video1')\n",
    "c = Clusterizer.Clusterizer('video1_e5',particles,slim)\n",
    "c.save(path='./Clusterizers/270619/')"
   ]
  },
  {
   "cell_type": "code",
   "execution_count": null,
   "metadata": {},
   "outputs": [],
   "source": [
    "c = Clusterizer.Clusterizer('video9_r6',particles,slim)\n",
    "c.save()"
   ]
  },
  {
   "cell_type": "code",
   "execution_count": null,
   "metadata": {},
   "outputs": [],
   "source": [
    "c.save()"
   ]
  },
  {
   "cell_type": "code",
   "execution_count": null,
   "metadata": {},
   "outputs": [],
   "source": [
    "particles"
   ]
  },
  {
   "cell_type": "code",
   "execution_count": null,
   "metadata": {},
   "outputs": [],
   "source": [
    "%matplotlib notebook\n",
    "c.plot()"
   ]
  },
  {
   "cell_type": "code",
   "execution_count": 50,
   "metadata": {},
   "outputs": [],
   "source": [
    "d = Clusterizer.load_Clusterizer(path='./Clusterizers/170619/',name='video1_e5')"
   ]
  },
  {
   "cell_type": "code",
   "execution_count": 52,
   "metadata": {},
   "outputs": [
    {
     "data": {
      "text/plain": [
       "array([(  1, '/media/alessandro/DATA/tesi/Nebbia/pre-processed_data/060619/video3_000/trigger_thr0.005_cl9_op3/cc_filtered_2den0.81_gausrad2.0/', list(['mean_060619-video3_000-012_opened_cc15.png']), array([ 1.        , 75.71933504, 10.78045554,  2.        ,  1.        ])),\n",
       "       (  2, '/media/alessandro/DATA/tesi/Nebbia/pre-processed_data/060619/video3_000/trigger_thr0.005_cl9_op3/cc_filtered_2den0.81_gausrad2.0/', list(['mean_060619-video3_000-012_opened_cc16.png']), array([  1.        , 280.5223451 ,   5.24583398,   5.        ,\n",
       "         1.43433878])),\n",
       "       (  3, '/media/alessandro/DATA/tesi/Nebbia/pre-processed_data/060619/video3_000/trigger_thr0.005_cl9_op3/cc_filtered_2den0.81_gausrad2.0/', list(['mean_060619-video3_000-012_opened_cc37.png']), array([ 1.        , 48.26655966,  6.73344034,  1.        ,  2.02343944])),\n",
       "       (  4, '/media/alessandro/DATA/tesi/Nebbia/pre-processed_data/060619/video3_000/trigger_thr0.005_cl9_op3/cc_filtered_2den0.81_gausrad2.0/', list(['mean_060619-video3_000-018_opened_cc06.png']), array([  1.        , 227.77763955,  10.6705027 ,   2.        ,\n",
       "         2.41647536])),\n",
       "       (  5, '/media/alessandro/DATA/tesi/Nebbia/pre-processed_data/060619/video3_000/trigger_thr0.005_cl9_op3/cc_filtered_2den0.81_gausrad2.0/', list(['mean_060619-video3_000-018_opened_cc19.png']), array([  1.        , 123.82208112,   6.38045127,   2.        ,\n",
       "         2.34631058])),\n",
       "       (  6, '/media/alessandro/DATA/tesi/Nebbia/pre-processed_data/060619/video3_000/trigger_thr0.005_cl9_op3/cc_filtered_2den0.81_gausrad2.0/', list(['mean_060619-video3_000-018_opened_cc21.png']), array([ 1.        , 89.76741334, 13.13143626,  2.        ,  1.26836192])),\n",
       "       (  7, '/media/alessandro/DATA/tesi/Nebbia/pre-processed_data/060619/video3_000/trigger_thr0.005_cl9_op3/cc_filtered_2den0.81_gausrad2.0/', list(['mean_060619-video3_000-018_opened_cc31.png']), array([ 1.        , 99.85416701,  8.58655132,  3.        ,  1.12716293])),\n",
       "       (  8, '/media/alessandro/DATA/tesi/Nebbia/pre-processed_data/060619/video3_001/trigger_thr0.005_cl9_op3/cc_filtered_2den0.81_gausrad2.0/', list(['mean_060619-video3_001-001_opened_cc42.png']), array([ 1.        , 98.16438796, 12.83561204,  1.        ,  1.01464948])),\n",
       "       (  9, '/media/alessandro/DATA/tesi/Nebbia/pre-processed_data/060619/video3_001/trigger_thr0.005_cl9_op3/cc_filtered_2den0.81_gausrad2.0/', list(['mean_060619-video3_001-014_opened_cc03.png']), array([  1.        , 169.83710889,   5.58247247,   3.        ,\n",
       "         1.30497299])),\n",
       "       ( 10, '/media/alessandro/DATA/tesi/Nebbia/pre-processed_data/060619/video3_001/trigger_thr0.005_cl9_op3/cc_filtered_2den0.81_gausrad2.0/', list(['mean_060619-video3_001-014_opened_cc09.png', 'mean_060619-video3_001-015_opened_cc14.png']), array([ 2.        , 96.64806078, 14.10193922,  1.        ,  1.03593614])),\n",
       "       ( 11, '/media/alessandro/DATA/tesi/Nebbia/pre-processed_data/060619/video3_001/trigger_thr0.005_cl9_op3/cc_filtered_2den0.81_gausrad2.0/', list(['mean_060619-video3_001-014_opened_cc33.png']), array([ 1.        , 43.7291535 , 10.7708465 ,  1.        ,  1.33496909])),\n",
       "       ( 12, '/media/alessandro/DATA/tesi/Nebbia/pre-processed_data/060619/video3_002/trigger_thr0.005_cl9_op3/cc_filtered_2den0.81_gausrad2.0/', list(['mean_060619-video3_002-013_opened_cc32.png']), array([  1.        , 132.05280206,   3.57902376,   3.        ,\n",
       "         2.06914257])),\n",
       "       ( 13, '/media/alessandro/DATA/tesi/Nebbia/pre-processed_data/060619/video3_002/trigger_thr0.005_cl9_op3/cc_filtered_2den0.81_gausrad2.0/', list(['mean_060619-video3_002-013_opened_cc66.png']), array([  1.        , 208.41642033,  11.08357967,   1.        ,\n",
       "         1.2068178 ])),\n",
       "       ( 14, '/media/alessandro/DATA/tesi/Nebbia/pre-processed_data/060619/video3_002/trigger_thr0.005_cl9_op3/cc_filtered_2den0.81_gausrad2.0/', list(['mean_060619-video3_002-031_opened_cc22.png']), array([  1.        , 100.74018356,   6.61132984,   3.        ,\n",
       "         1.22165417])),\n",
       "       ( 15, '/media/alessandro/DATA/tesi/Nebbia/pre-processed_data/060619/video3_002/trigger_thr0.005_cl9_op3/cc_filtered_2den0.81_gausrad2.0/', list(['mean_060619-video3_002-037_opened_cc18.png']), array([  1.        , 334.27806002,  10.73181111,   7.        ,\n",
       "         1.74325556])),\n",
       "       ( 16, '/media/alessandro/DATA/tesi/Nebbia/pre-processed_data/060619/video3_002/trigger_thr0.005_cl9_op3/cc_filtered_2den0.81_gausrad2.0/', list(['mean_060619-video3_002-037_opened_cc75.png']), array([  1.        , 233.25850842,  11.68938967,   4.        ,\n",
       "         1.72063349])),\n",
       "       ( 17, '/media/alessandro/DATA/tesi/Nebbia/pre-processed_data/060619/video3_003/trigger_thr0.005_cl9_op3/cc_filtered_2den0.81_gausrad2.0/', list(['mean_060619-video3_003-016_opened_cc20.png']), array([  1.        , 355.33365031,   9.58012228,   5.        ,\n",
       "         1.19817674])),\n",
       "       ( 18, '/media/alessandro/DATA/tesi/Nebbia/pre-processed_data/060619/video3_003/trigger_thr0.005_cl9_op3/cc_filtered_2den0.81_gausrad2.0/', list(['mean_060619-video3_003-016_opened_cc63.png']), array([  1.        , 326.65894666,   3.87604572,   5.        ,\n",
       "         1.50940109])),\n",
       "       ( 19, '/media/alessandro/DATA/tesi/Nebbia/pre-processed_data/060619/video3_003/trigger_thr0.005_cl9_op3/cc_filtered_2den0.81_gausrad2.0/', list(['mean_060619-video3_003-026_opened_cc07.png']), array([  1.        , 300.08069116,   7.29889964,   6.        ,\n",
       "         1.29265896])),\n",
       "       ( 20, '/media/alessandro/DATA/tesi/Nebbia/pre-processed_data/060619/video3_003/trigger_thr0.005_cl9_op3/cc_filtered_2den0.81_gausrad2.0/', list(['mean_060619-video3_003-026_opened_cc09.png']), array([  1.        , 156.20970021,   7.65728072,   3.        ,\n",
       "         1.40314403])),\n",
       "       ( 21, '/media/alessandro/DATA/tesi/Nebbia/pre-processed_data/060619/video3_004/trigger_thr0.005_cl9_op3/cc_filtered_2den0.81_gausrad2.0/', list(['mean_060619-video3_004-008_opened_cc08.png']), array([  1.        , 137.46133107,   5.07009828,   2.        ,\n",
       "         1.60886319])),\n",
       "       ( 22, '/media/alessandro/DATA/tesi/Nebbia/pre-processed_data/060619/video3_004/trigger_thr0.005_cl9_op3/cc_filtered_2den0.81_gausrad2.0/', list(['mean_060619-video3_004-008_opened_cc12.png']), array([ 1.        , 85.6634475 , 11.20733266,  2.        ,  1.11999895])),\n",
       "       ( 23, '/media/alessandro/DATA/tesi/Nebbia/pre-processed_data/060619/video3_004/trigger_thr0.005_cl9_op3/cc_filtered_2den0.81_gausrad2.0/', list(['mean_060619-video3_004-008_opened_cc30.png']), array([  1.        , 278.80871567,   9.71620807,   3.        ,\n",
       "         1.47718539])),\n",
       "       ( 24, '/media/alessandro/DATA/tesi/Nebbia/pre-processed_data/060619/video3_004/trigger_thr0.005_cl9_op3/cc_filtered_2den0.81_gausrad2.0/', list(['mean_060619-video3_004-008_opened_cc33.png']), array([  1.        , 130.73343026,   9.38150682,   3.        ,\n",
       "         1.3985585 ])),\n",
       "       ( 25, '/media/alessandro/DATA/tesi/Nebbia/pre-processed_data/060619/video3_004/trigger_thr0.005_cl9_op3/cc_filtered_2den0.81_gausrad2.0/', list(['mean_060619-video3_004-008_opened_cc40.png']), array([ 1.        , 73.28481432, 10.19459603,  2.        ,  1.00052773])),\n",
       "       ( 26, '/media/alessandro/DATA/tesi/Nebbia/pre-processed_data/060619/video3_004/trigger_thr0.005_cl9_op3/cc_filtered_2den0.81_gausrad2.0/', list(['mean_060619-video3_004-008_opened_cc58.png']), array([ 1.        , 75.67430342,  3.07976909,  2.        ,  1.34597249])),\n",
       "       ( 27, '/media/alessandro/DATA/tesi/Nebbia/pre-processed_data/060619/video3_004/trigger_thr0.005_cl9_op3/cc_filtered_2den0.81_gausrad2.0/', list(['mean_060619-video3_004-033_opened_cc06.png']), array([1.00000000e+00, 1.00894843e+03, 5.58537524e+00, 1.50000000e+01,\n",
       "       2.40233306e+00])),\n",
       "       ( 28, '/media/alessandro/DATA/tesi/Nebbia/pre-processed_data/060619/video3_004/trigger_thr0.005_cl9_op3/cc_filtered_2den0.81_gausrad2.0/', list(['mean_060619-video3_004-033_opened_cc61.png']), array([  1.        , 109.69061689,   5.00558729,   2.        ,\n",
       "         2.03095951])),\n",
       "       ( 29, '/media/alessandro/DATA/tesi/Nebbia/pre-processed_data/060619/video3_005/trigger_thr0.005_cl9_op3/cc_filtered_2den0.81_gausrad2.0/', list(['mean_060619-video3_005-016_opened_cc25.png']), array([  1.        , 475.9605779 ,  12.89181301,   5.        ,\n",
       "         1.9292282 ])),\n",
       "       ( 30, '/media/alessandro/DATA/tesi/Nebbia/pre-processed_data/060619/video3_005/trigger_thr0.005_cl9_op3/cc_filtered_2den0.81_gausrad2.0/', list(['mean_060619-video3_005-016_opened_cc33.png']), array([  1.        , 136.04160278,   6.24526109,   2.        ,\n",
       "         1.25529335])),\n",
       "       ( 31, '/media/alessandro/DATA/tesi/Nebbia/pre-processed_data/060619/video3_005/trigger_thr0.005_cl9_op3/cc_filtered_2den0.81_gausrad2.0/', list(['mean_060619-video3_005-016_opened_cc61.png']), array([ 1.        , 87.95027985,  7.54972015,  1.        ,  1.3897477 ])),\n",
       "       ( 32, '/media/alessandro/DATA/tesi/Nebbia/pre-processed_data/060619/video3_005/trigger_thr0.005_cl9_op3/cc_filtered_2den0.81_gausrad2.0/', list(['mean_060619-video3_005-039_opened_cc04.png']), array([ 1.        , 81.27621925, 10.9603768 ,  3.        ,  1.        ])),\n",
       "       ( 33, '/media/alessandro/DATA/tesi/Nebbia/pre-processed_data/060619/video3_005/trigger_thr0.005_cl9_op3/cc_filtered_2den0.81_gausrad2.0/', list(['mean_060619-video3_005-039_opened_cc13.png']), array([  1.        , 426.9371533 ,   9.94357516,   7.        ,\n",
       "         2.26888901])),\n",
       "       ( 34, '/media/alessandro/DATA/tesi/Nebbia/pre-processed_data/060619/video3_005/trigger_thr0.005_cl9_op3/cc_filtered_2den0.81_gausrad2.0/', list(['mean_060619-video3_005-039_opened_cc31.png']), array([  1.        , 157.87829892,   4.30464029,   4.        ,\n",
       "         1.62519494])),\n",
       "       ( 35, '/media/alessandro/DATA/tesi/Nebbia/pre-processed_data/060619/video3_005/trigger_thr0.005_cl9_op3/cc_filtered_2den0.81_gausrad2.0/', list(['mean_060619-video3_005-039_opened_cc66.png']), array([ 1.        , 95.77229996,  4.09116092,  2.        ,  3.62503501])),\n",
       "       ( 36, '/media/alessandro/DATA/tesi/Nebbia/pre-processed_data/060619/video3_006/trigger_thr0.005_cl9_op3/cc_filtered_2den0.81_gausrad2.0/', list(['mean_060619-video3_006-018_opened_cc06.png']), array([1.00000000e+00, 1.25414144e+03, 8.09658405e+00, 1.40000000e+01,\n",
       "       2.62595169e+00])),\n",
       "       ( 37, '/media/alessandro/DATA/tesi/Nebbia/pre-processed_data/060619/video3_006/trigger_thr0.005_cl9_op3/cc_filtered_2den0.81_gausrad2.0/', list(['mean_060619-video3_006-018_opened_cc65.png']), array([  1.        , 140.2350727 ,  11.93202819,   3.        ,\n",
       "         1.29294228])),\n",
       "       ( 38, '/media/alessandro/DATA/tesi/Nebbia/pre-processed_data/060619/video3_007/trigger_thr0.005_cl9_op3/cc_filtered_2den0.81_gausrad2.0/', list(['mean_060619-video3_007-008_opened_cc35.png']), array([ 1.       , 79.9141805, 10.0858195,  1.       ,  1.       ])),\n",
       "       ( 39, '/media/alessandro/DATA/tesi/Nebbia/pre-processed_data/060619/video3_007/trigger_thr0.005_cl9_op3/cc_filtered_2den0.81_gausrad2.0/', list(['mean_060619-video3_007-008_opened_cc54.png']), array([  1.        , 166.70416267,   6.61288227,   3.        ,\n",
       "         1.21707811])),\n",
       "       ( 40, '/media/alessandro/DATA/tesi/Nebbia/pre-processed_data/060619/video3_007/trigger_thr0.005_cl9_op3/cc_filtered_2den0.81_gausrad2.0/', list(['mean_060619-video3_007-008_opened_cc62.png']), array([  1.        , 127.0509408 ,  11.86388131,   2.        ,\n",
       "         1.65913187])),\n",
       "       ( 41, '/media/alessandro/DATA/tesi/Nebbia/pre-processed_data/060619/video3_007/trigger_thr0.005_cl9_op3/cc_filtered_2den0.81_gausrad2.0/', list(['mean_060619-video3_007-026_opened_cc08.png']), array([1.00000000e+00, 1.25022014e+03, 7.96036486e+00, 1.40000000e+01,\n",
       "       2.40802607e+00])),\n",
       "       ( 42, '/media/alessandro/DATA/tesi/Nebbia/pre-processed_data/060619/video3_007/trigger_thr0.005_cl9_op3/cc_filtered_2den0.81_gausrad2.0/', list(['mean_060619-video3_007-026_opened_cc63.png']), array([  1.        , 118.06203221,  10.74444992,   4.        ,\n",
       "         1.07218415])),\n",
       "       ( 43, '/media/alessandro/DATA/tesi/Nebbia/pre-processed_data/060619/video3_007/trigger_thr0.005_cl9_op3/cc_filtered_2den0.81_gausrad2.0/', list(['mean_060619-video3_007-048_opened_cc13.png']), array([  1.        , 137.98402851,   4.16635745,   2.        ,\n",
       "         1.51329574])),\n",
       "       ( 44, '/media/alessandro/DATA/tesi/Nebbia/pre-processed_data/060619/video3_008/trigger_thr0.005_cl9_op3/cc_filtered_2den0.81_gausrad2.0/', list(['mean_060619-video3_008-008_opened_cc07.png']), array([1.00000000e+00, 1.56975937e+03, 9.11001487e+00, 1.90000000e+01,\n",
       "       3.02816724e+00])),\n",
       "       ( 45, '/media/alessandro/DATA/tesi/Nebbia/pre-processed_data/060619/video3_008/trigger_thr0.005_cl9_op3/cc_filtered_2den0.81_gausrad2.0/', list(['mean_060619-video3_008-008_opened_cc18.png']), array([  1.        , 150.35750673,  10.14249327,   1.        ,\n",
       "         1.33768753])),\n",
       "       ( 46, '/media/alessandro/DATA/tesi/Nebbia/pre-processed_data/060619/video3_008/trigger_thr0.005_cl9_op3/cc_filtered_2den0.81_gausrad2.0/', list(['mean_060619-video3_008-008_opened_cc27.png']), array([ 1.        , 74.23372925,  1.26627075,  1.        ,  8.05177844])),\n",
       "       ( 47, '/media/alessandro/DATA/tesi/Nebbia/pre-processed_data/060619/video3_008/trigger_thr0.005_cl9_op3/cc_filtered_2den0.81_gausrad2.0/', list(['mean_060619-video3_008-008_opened_cc36.png']), array([  1.        , 187.77774085,  13.66180256,   4.        ,\n",
       "         1.08585593])),\n",
       "       ( 48, '/media/alessandro/DATA/tesi/Nebbia/pre-processed_data/060619/video3_008/trigger_thr0.005_cl9_op3/cc_filtered_2den0.81_gausrad2.0/', list(['mean_060619-video3_008-008_opened_cc46.png']), array([  1.        , 135.49944387,  10.        ,   4.        ,\n",
       "         1.0300046 ])),\n",
       "       ( 49, '/media/alessandro/DATA/tesi/Nebbia/pre-processed_data/060619/video3_008/trigger_thr0.005_cl9_op3/cc_filtered_2den0.81_gausrad2.0/', list(['mean_060619-video3_008-045_opened_cc09.png']), array([  1.        , 175.33769357,   3.31827511,   3.        ,\n",
       "         1.52791393])),\n",
       "       ( 50, '/media/alessandro/DATA/tesi/Nebbia/pre-processed_data/060619/video3_008/trigger_thr0.005_cl9_op3/cc_filtered_2den0.81_gausrad2.0/', list(['mean_060619-video3_008-045_opened_cc52.png']), array([  1.        , 106.65859217,  10.34140783,   1.        ,\n",
       "         1.        ])),\n",
       "       ( 51, '/media/alessandro/DATA/tesi/Nebbia/pre-processed_data/060619/video3_008/trigger_thr0.005_cl9_op3/cc_filtered_2den0.81_gausrad2.0/', list(['mean_060619-video3_008-046_opened_cc24.png']), array([ 1.        , 31.89047287,  4.60952713,  1.        ,  2.28960252])),\n",
       "       ( 52, '/media/alessandro/DATA/tesi/Nebbia/pre-processed_data/060619/video3_008/trigger_thr0.005_cl9_op3/cc_filtered_2den0.81_gausrad2.0/', list(['mean_060619-video3_008-046_opened_cc36.png']), array([  1.        , 235.3554022 ,  29.82624205,   2.        ,\n",
       "         1.23691511])),\n",
       "       ( 53, '/media/alessandro/DATA/tesi/Nebbia/pre-processed_data/060619/video3_008/trigger_thr0.005_cl9_op3/cc_filtered_2den0.81_gausrad2.0/', list(['mean_060619-video3_008-047_opened_cc40.png']), array([ 1.        , 87.17292153, 18.43844719,  2.        ,  1.39143131])),\n",
       "       ( 54, '/media/alessandro/DATA/tesi/Nebbia/pre-processed_data/060619/video3_008/trigger_thr0.005_cl9_op3/cc_filtered_2den0.81_gausrad2.0/', list(['mean_060619-video3_008-047_opened_cc44.png']), array([  1.        , 174.46408501,   5.71061354,   2.        ,\n",
       "         1.48336439])),\n",
       "       ( 55, '/media/alessandro/DATA/tesi/Nebbia/pre-processed_data/060619/video3_008/trigger_thr0.005_cl9_op3/cc_filtered_2den0.81_gausrad2.0/', list(['mean_060619-video3_008-047_opened_cc51.png']), array([  1.        , 147.37005695,   5.12994305,   1.        ,\n",
       "         1.61439038])),\n",
       "       ( 56, '/media/alessandro/DATA/tesi/Nebbia/pre-processed_data/060619/video3_008/trigger_thr0.005_cl9_op3/cc_filtered_2den0.81_gausrad2.0/', list(['mean_060619-video3_008-048_opened_cc06.png']), array([  1.        , 363.43118533,   9.95145374,   6.        ,\n",
       "         1.87680062])),\n",
       "       ( 57, '/media/alessandro/DATA/tesi/Nebbia/pre-processed_data/060619/video3_008/trigger_thr0.005_cl9_op3/cc_filtered_2den0.81_gausrad2.0/', list(['mean_060619-video3_008-048_opened_cc08.png']), array([  1.        , 412.28203911,   4.62904825,   7.        ,\n",
       "         2.10254957])),\n",
       "       ( 58, '/media/alessandro/DATA/tesi/Nebbia/pre-processed_data/060619/video3_009/trigger_thr0.005_cl9_op3/cc_filtered_2den0.81_gausrad2.0/', list(['mean_060619-video3_009-001_opened_cc16.png']), array([  1.        , 136.97622855,   9.64214342,   2.        ,\n",
       "         1.91411407])),\n",
       "       ( 59, '/media/alessandro/DATA/tesi/Nebbia/pre-processed_data/060619/video3_009/trigger_thr0.005_cl9_op3/cc_filtered_2den0.81_gausrad2.0/', list(['mean_060619-video3_009-001_opened_cc28.png']), array([  1.        , 160.6362971 ,   3.50622471,   2.        ,\n",
       "         1.88152377])),\n",
       "       ( 60, '/media/alessandro/DATA/tesi/Nebbia/pre-processed_data/060619/video3_009/trigger_thr0.005_cl9_op3/cc_filtered_2den0.81_gausrad2.0/', list(['mean_060619-video3_009-001_opened_cc30.png']), array([  1.        , 279.73642034,   3.73674043,   4.        ,\n",
       "         1.77400476])),\n",
       "       ( 61, '/media/alessandro/DATA/tesi/Nebbia/pre-processed_data/060619/video3_009/trigger_thr0.005_cl9_op3/cc_filtered_2den0.81_gausrad2.0/', list(['mean_060619-video3_009-047_opened_cc05.png']), array([  1.        , 173.75113981,   9.24886019,   1.        ,\n",
       "         1.24952326])),\n",
       "       ( 62, '/media/alessandro/DATA/tesi/Nebbia/pre-processed_data/060619/video3_009/trigger_thr0.005_cl9_op3/cc_filtered_2den0.81_gausrad2.0/', list(['mean_060619-video3_009-047_opened_cc66.png']), array([  1.        , 333.91801092,  14.4508673 ,   6.        ,\n",
       "         2.02192679])),\n",
       "       ( 63, '/media/alessandro/DATA/tesi/Nebbia/pre-processed_data/060619/video3_009/trigger_thr0.005_cl9_op3/cc_filtered_2den0.81_gausrad2.0/', list(['mean_060619-video3_009-047_opened_cc76.png']), array([ 1.        , 98.28478738, 10.21521262,  1.        ,  1.25532467])),\n",
       "       ( 64, '/media/alessandro/DATA/tesi/Nebbia/pre-processed_data/060619/video3_009/trigger_thr0.005_cl9_op3/cc_filtered_2den0.81_gausrad2.0/', list(['mean_060619-video3_009-048_opened_cc21.png']), array([ 1.        , 87.33186488, 11.66813512,  1.        ,  1.06241887])),\n",
       "       ( 65, '/media/alessandro/DATA/tesi/Nebbia/pre-processed_data/060619/video3_009/trigger_thr0.005_cl9_op3/cc_filtered_2den0.81_gausrad2.0/', list(['mean_060619-video3_009-048_opened_cc29.png']), array([ 1.        , 98.56596443,  7.10158742,  2.        ,  1.51478693])),\n",
       "       ( 66, '/media/alessandro/DATA/tesi/Nebbia/pre-processed_data/060619/video3_009/trigger_thr0.005_cl9_op3/cc_filtered_2den0.81_gausrad2.0/', list(['mean_060619-video3_009-048_opened_cc32.png']), array([  1.        , 134.74441032,  11.75558968,   1.        ,\n",
       "         1.05006626])),\n",
       "       ( 67, '/media/alessandro/DATA/tesi/Nebbia/pre-processed_data/060619/video3_009/trigger_thr0.005_cl9_op3/cc_filtered_2den0.81_gausrad2.0/', list(['mean_060619-video3_009-048_opened_cc55.png']), array([  1.        , 101.24813434,  14.64503987,   2.        ,\n",
       "         1.12741769])),\n",
       "       ( 68, '/media/alessandro/DATA/tesi/Nebbia/pre-processed_data/060619/video3_010/trigger_thr0.005_cl9_op3/cc_filtered_2den0.81_gausrad2.0/', list(['mean_060619-video3_010-013_opened_cc22.png']), array([ 1.        , 33.70594664,  6.79405336,  1.        ,  1.66461805])),\n",
       "       ( 69, '/media/alessandro/DATA/tesi/Nebbia/pre-processed_data/060619/video3_010/trigger_thr0.005_cl9_op3/cc_filtered_2den0.81_gausrad2.0/', list(['mean_060619-video3_010-013_opened_cc40.png']), array([  1.        , 126.93232441,  13.39444872,   3.        ,\n",
       "         1.25521852])),\n",
       "       ( 70, '/media/alessandro/DATA/tesi/Nebbia/pre-processed_data/060619/video3_010/trigger_thr0.005_cl9_op3/cc_filtered_2den0.81_gausrad2.0/', list(['mean_060619-video3_010-013_opened_cc45.png']), array([  1.        , 225.29665426,   3.83676448,   4.        ,\n",
       "         1.91279994])),\n",
       "       ( 71, '/media/alessandro/DATA/tesi/Nebbia/pre-processed_data/060619/video3_010/trigger_thr0.005_cl9_op3/cc_filtered_2den0.81_gausrad2.0/', list(['mean_060619-video3_010-013_opened_cc49.png']), array([ 1.       , 92.6571027, 11.3428973,  1.       ,  1.       ])),\n",
       "       ( 72, '/media/alessandro/DATA/tesi/Nebbia/pre-processed_data/060619/video3_010/trigger_thr0.005_cl9_op3/cc_filtered_2den0.81_gausrad2.0/', list(['mean_060619-video3_010-015_opened_cc12.png']), array([ 1.        , 70.785259  ,  9.78517454,  2.        ,  1.15792726])),\n",
       "       ( 73, '/media/alessandro/DATA/tesi/Nebbia/pre-processed_data/060619/video3_010/trigger_thr0.005_cl9_op3/cc_filtered_2den0.81_gausrad2.0/', list(['mean_060619-video3_010-015_opened_cc13.png']), array([ 1.        , 73.22353919,  7.61621576,  2.        ,  1.71403341])),\n",
       "       ( 74, '/media/alessandro/DATA/tesi/Nebbia/pre-processed_data/060619/video3_010/trigger_thr0.005_cl9_op3/cc_filtered_2den0.81_gausrad2.0/', list(['mean_060619-video3_010-015_opened_cc51.png']), array([  1.        , 119.16948909,   7.68207882,   2.        ,\n",
       "         2.28287338])),\n",
       "       ( 75, '/media/alessandro/DATA/tesi/Nebbia/pre-processed_data/060619/video3_010/trigger_thr0.005_cl9_op3/cc_filtered_2den0.81_gausrad2.0/', list(['mean_060619-video3_010-015_opened_cc75.png']), array([  1.        , 129.39063033,   3.11161446,   2.        ,\n",
       "         1.51961589])),\n",
       "       ( 76, '/media/alessandro/DATA/tesi/Nebbia/pre-processed_data/060619/video3_010/trigger_thr0.005_cl9_op3/cc_filtered_2den0.81_gausrad2.0/', list(['mean_060619-video3_010-020_opened_cc04.png']), array([ 1.        , 46.47220505,  1.52779495,  1.        ,  7.34790079])),\n",
       "       ( 77, '/media/alessandro/DATA/tesi/Nebbia/pre-processed_data/060619/video3_010/trigger_thr0.005_cl9_op3/cc_filtered_2den0.81_gausrad2.0/', list(['mean_060619-video3_010-020_opened_cc05.png']), array([1.00000000e+00, 1.26741331e+03, 7.58394814e+00, 1.30000000e+01,\n",
       "       2.52964111e+00])),\n",
       "       ( 78, '/media/alessandro/DATA/tesi/Nebbia/pre-processed_data/060619/video3_010/trigger_thr0.005_cl9_op3/cc_filtered_2den0.81_gausrad2.0/', list(['mean_060619-video3_010-032_opened_cc03.png']), array([  1.        , 558.59498096,  11.82595923,   4.        ,\n",
       "         1.78944963])),\n",
       "       ( 79, '/media/alessandro/DATA/tesi/Nebbia/pre-processed_data/060619/video3_010/trigger_thr0.005_cl9_op3/cc_filtered_2den0.81_gausrad2.0/', list(['mean_060619-video3_010-032_opened_cc17.png']), array([  1.        , 108.6023992 ,   5.23111295,   2.        ,\n",
       "         1.77941104])),\n",
       "       ( 80, '/media/alessandro/DATA/tesi/Nebbia/pre-processed_data/060619/video3_010/trigger_thr0.005_cl9_op3/cc_filtered_2den0.81_gausrad2.0/', list(['mean_060619-video3_010-032_opened_cc52.png']), array([  1.        , 238.57435713,  10.33686717,   3.        ,\n",
       "         1.33819526])),\n",
       "       ( 81, '/media/alessandro/DATA/tesi/Nebbia/pre-processed_data/060619/video3_011/trigger_thr0.005_cl9_op3/cc_filtered_2den0.81_gausrad2.0/', list(['mean_060619-video3_011-014_opened_cc01.png']), array([1.00000000e+00, 1.40042095e+03, 7.26423261e+00, 1.50000000e+01,\n",
       "       3.11669042e+00])),\n",
       "       ( 82, '/media/alessandro/DATA/tesi/Nebbia/pre-processed_data/060619/video3_011/trigger_thr0.005_cl9_op3/cc_filtered_2den0.81_gausrad2.0/', list(['mean_060619-video3_011-014_opened_cc03.png']), array([  1.        , 123.26446566,  15.23553434,   1.        ,\n",
       "         1.        ])),\n",
       "       ( 83, '/media/alessandro/DATA/tesi/Nebbia/pre-processed_data/060619/video3_011/trigger_thr0.005_cl9_op3/cc_filtered_2den0.81_gausrad2.0/', list(['mean_060619-video3_011-014_opened_cc06.png']), array([  1.        , 109.88149368,  11.57331362,   3.        ,\n",
       "         1.24185648])),\n",
       "       ( 84, '/media/alessandro/DATA/tesi/Nebbia/pre-processed_data/060619/video3_011/trigger_thr0.005_cl9_op3/cc_filtered_2den0.81_gausrad2.0/', list(['mean_060619-video3_011-014_opened_cc11.png']), array([  1.        , 415.70536897,   6.20836635,   5.        ,\n",
       "         1.91616096])),\n",
       "       ( 85, '/media/alessandro/DATA/tesi/Nebbia/pre-processed_data/060619/video3_011/trigger_thr0.005_cl9_op3/cc_filtered_2den0.81_gausrad2.0/', list(['mean_060619-video3_011-014_opened_cc26.png']), array([  1.        , 582.96212401,   9.34752164,   7.        ,\n",
       "         2.76798767])),\n",
       "       ( 86, '/media/alessandro/DATA/tesi/Nebbia/pre-processed_data/060619/video3_011/trigger_thr0.005_cl9_op3/cc_filtered_2den0.81_gausrad2.0/', list(['mean_060619-video3_011-014_opened_cc41.png']), array([  1.        , 256.44085672,   9.8457751 ,   4.        ,\n",
       "         1.31129343])),\n",
       "       ( 87, '/media/alessandro/DATA/tesi/Nebbia/pre-processed_data/060619/video3_011/trigger_thr0.005_cl9_op3/cc_filtered_2den0.81_gausrad2.0/', list(['mean_060619-video3_011-014_opened_cc53.png']), array([  1.        , 188.11177268,  11.19915614,   3.        ,\n",
       "         1.73812859])),\n",
       "       ( 88, '/media/alessandro/DATA/tesi/Nebbia/pre-processed_data/060619/video3_011/trigger_thr0.005_cl9_op3/cc_filtered_2den0.81_gausrad2.0/', list(['mean_060619-video3_011-014_opened_cc64.png']), array([ 1.        , 74.38869353,  3.21948583,  2.        ,  1.58238003])),\n",
       "       ( 89, '/media/alessandro/DATA/tesi/Nebbia/pre-processed_data/060619/video3_011/trigger_thr0.005_cl9_op3/cc_filtered_2den0.81_gausrad2.0/', list(['mean_060619-video3_011-014_opened_cc65.png']), array([ 1.        , 94.93319701, 17.85641526,  2.        ,  1.        ])),\n",
       "       (  2, '/media/alessandro/DATA/tesi/Nebbia/pre-processed_data/170619/video1_000/trigger_thr0.005_cl9_op3/cc_filtered_2den0.81_gausrad2.0/', list(['mean_170619-video1_000-009_opened_cc15.png']), array([  1.        , 661.93556342,  15.20926686,   6.        ,\n",
       "         1.85841666])),\n",
       "       (  3, '/media/alessandro/DATA/tesi/Nebbia/pre-processed_data/170619/video1_000/trigger_thr0.005_cl9_op3/cc_filtered_2den0.81_gausrad2.0/', list(['mean_170619-video1_000-023_opened_cc64.png']), array([  1.        , 156.5464681 ,   6.19574551,   3.        ,\n",
       "         1.41440971])),\n",
       "       (  4, '/media/alessandro/DATA/tesi/Nebbia/pre-processed_data/170619/video1_000/trigger_thr0.005_cl9_op3/cc_filtered_2den0.81_gausrad2.0/', list(['mean_170619-video1_000-038_opened_cc04.png']), array([  1.        , 192.40185008,   5.76616713,   3.        ,\n",
       "         1.13216741])),\n",
       "       (  5, '/media/alessandro/DATA/tesi/Nebbia/pre-processed_data/170619/video1_000/trigger_thr0.005_cl9_op3/cc_filtered_2den0.81_gausrad2.0/', list(['mean_170619-video1_000-038_opened_cc07.png']), array([  1.        , 445.23647653,   6.18599697,   7.        ,\n",
       "         1.70328846])),\n",
       "       (  6, '/media/alessandro/DATA/tesi/Nebbia/pre-processed_data/170619/video1_000/trigger_thr0.005_cl9_op3/cc_filtered_2den0.81_gausrad2.0/', list(['mean_170619-video1_000-038_opened_cc15.png']), array([  1.        , 490.59158262,  10.02974168,   5.        ,\n",
       "         1.40806684])),\n",
       "       (  7, '/media/alessandro/DATA/tesi/Nebbia/pre-processed_data/170619/video1_000/trigger_thr0.005_cl9_op3/cc_filtered_2den0.81_gausrad2.0/', list(['mean_170619-video1_000-042_opened_cc19.png']), array([  1.        , 330.5655574 ,   8.82657382,   8.        ,\n",
       "         2.06587334])),\n",
       "       (  8, '/media/alessandro/DATA/tesi/Nebbia/pre-processed_data/170619/video1_000/trigger_thr0.005_cl9_op3/cc_filtered_2den0.81_gausrad2.0/', list(['mean_170619-video1_000-042_opened_cc24.png']), array([  1.        , 201.63479753,   6.659422  ,   3.        ,\n",
       "         1.35689512])),\n",
       "       (  9, '/media/alessandro/DATA/tesi/Nebbia/pre-processed_data/170619/video1_001/trigger_thr0.005_cl9_op3/cc_filtered_2den0.81_gausrad2.0/', list(['mean_170619-video1_001-048_opened_cc02.png']), array([  1.        , 112.05557998,   6.3926622 ,   2.        ,\n",
       "         1.        ])),\n",
       "       ( 10, '/media/alessandro/DATA/tesi/Nebbia/pre-processed_data/170619/video1_001/trigger_thr0.005_cl9_op3/cc_filtered_2den0.81_gausrad2.0/', list(['mean_170619-video1_001-048_opened_cc04.png']), array([  1.        , 219.89194253,   6.37877714,   3.        ,\n",
       "         1.41072358])),\n",
       "       ( 11, '/media/alessandro/DATA/tesi/Nebbia/pre-processed_data/170619/video1_001/trigger_thr0.005_cl9_op3/cc_filtered_2den0.81_gausrad2.0/', list(['mean_170619-video1_001-048_opened_cc37.png']), array([  1.        , 256.89143431,  12.41617792,   4.        ,\n",
       "         1.2336301 ])),\n",
       "       ( 12, '/media/alessandro/DATA/tesi/Nebbia/pre-processed_data/170619/video1_002/trigger_thr0.005_cl9_op3/cc_filtered_2den0.81_gausrad2.0/', list(['mean_170619-video1_002-006_opened_cc06.png']), array([1.00000000e+00, 1.10279706e+03, 1.29675603e+01, 7.00000000e+00,\n",
       "       2.22547180e+00])),\n",
       "       ( 13, '/media/alessandro/DATA/tesi/Nebbia/pre-processed_data/170619/video1_002/trigger_thr0.005_cl9_op3/cc_filtered_2den0.81_gausrad2.0/', list(['mean_170619-video1_002-011_opened_cc05.png']), array([  1.        , 911.35169477,  13.77485684,   8.        ,\n",
       "         2.03767115])),\n",
       "       ( 14, '/media/alessandro/DATA/tesi/Nebbia/pre-processed_data/170619/video1_002/trigger_thr0.005_cl9_op3/cc_filtered_2den0.81_gausrad2.0/', list(['mean_170619-video1_002-019_opened_cc09.png']), array([  1.        , 662.65270512,  15.2458192 ,   7.        ,\n",
       "         2.0513106 ])),\n",
       "       ( 15, '/media/alessandro/DATA/tesi/Nebbia/pre-processed_data/170619/video1_002/trigger_thr0.005_cl9_op3/cc_filtered_2den0.81_gausrad2.0/', list(['mean_170619-video1_002-026_opened_cc24.png']), array([  1.        , 259.19136152,  12.17204381,   4.        ,\n",
       "         1.        ])),\n",
       "       ( 16, '/media/alessandro/DATA/tesi/Nebbia/pre-processed_data/170619/video1_002/trigger_thr0.005_cl9_op3/cc_filtered_2den0.81_gausrad2.0/', list(['mean_170619-video1_002-026_opened_cc25.png']), array([  1.        , 413.72394572,   9.98664679,   4.        ,\n",
       "         1.46191294])),\n",
       "       ( 17, '/media/alessandro/DATA/tesi/Nebbia/pre-processed_data/170619/video1_003/trigger_thr0.005_cl9_op3/cc_filtered_2den0.81_gausrad2.0/', list(['mean_170619-video1_003-002_opened_cc08.png']), array([1.00000000e+00, 1.09843515e+03, 1.39757287e+01, 5.00000000e+00,\n",
       "       2.10104205e+00])),\n",
       "       ( 18, '/media/alessandro/DATA/tesi/Nebbia/pre-processed_data/170619/video1_003/trigger_thr0.005_cl9_op3/cc_filtered_2den0.81_gausrad2.0/', list(['mean_170619-video1_003-002_opened_cc56.png']), array([  1.        , 128.97975377,   5.52024623,   1.        ,\n",
       "         1.62383269])),\n",
       "       ( 19, '/media/alessandro/DATA/tesi/Nebbia/pre-processed_data/170619/video1_003/trigger_thr0.005_cl9_op3/cc_filtered_2den0.81_gausrad2.0/', list(['mean_170619-video1_003-007_opened_cc17.png']), array([  1.        , 238.46041882,   5.81577796,   5.        ,\n",
       "         1.38602303])),\n",
       "       ( 20, '/media/alessandro/DATA/tesi/Nebbia/pre-processed_data/170619/video1_003/trigger_thr0.005_cl9_op3/cc_filtered_2den0.81_gausrad2.0/', list(['mean_170619-video1_003-014_opened_cc05.png']), array([1.00000000e+00, 1.21190359e+03, 1.15730946e+01, 7.00000000e+00,\n",
       "       2.52859378e+00])),\n",
       "       ( 21, '/media/alessandro/DATA/tesi/Nebbia/pre-processed_data/170619/video1_003/trigger_thr0.005_cl9_op3/cc_filtered_2den0.81_gausrad2.0/', list(['mean_170619-video1_003-027_opened_cc03.png']), array([  1.        , 249.23888844,   4.03801126,   4.        ,\n",
       "         2.49189056])),\n",
       "       ( 22, '/media/alessandro/DATA/tesi/Nebbia/pre-processed_data/170619/video1_003/trigger_thr0.005_cl9_op3/cc_filtered_2den0.81_gausrad2.0/', list(['mean_170619-video1_003-027_opened_cc06.png']), array([1.00000000e+00, 1.31837633e+03, 1.08189351e+01, 1.30000000e+01,\n",
       "       2.82678511e+00])),\n",
       "       ( 23, '/media/alessandro/DATA/tesi/Nebbia/pre-processed_data/170619/video1_003/trigger_thr0.005_cl9_op3/cc_filtered_2den0.81_gausrad2.0/', list(['mean_170619-video1_003-027_opened_cc54.png']), array([  1.        , 191.61874211,   3.38210618,   3.        ,\n",
       "         2.31420901])),\n",
       "       ( 24, '/media/alessandro/DATA/tesi/Nebbia/pre-processed_data/170619/video1_003/trigger_thr0.005_cl9_op3/cc_filtered_2den0.81_gausrad2.0/', list(['mean_170619-video1_003-027_opened_cc68.png']), array([  1.        , 207.1210402 ,  10.58170585,   4.        ,\n",
       "         1.75538913])),\n",
       "       ( 25, '/media/alessandro/DATA/tesi/Nebbia/pre-processed_data/170619/video1_003/trigger_thr0.005_cl9_op3/cc_filtered_2den0.81_gausrad2.0/', list(['mean_170619-video1_003-036_opened_cc07.png']), array([1.00000000e+00, 1.07597647e+03, 1.38742226e+01, 8.00000000e+00,\n",
       "       2.30382800e+00])),\n",
       "       ( 26, '/media/alessandro/DATA/tesi/Nebbia/pre-processed_data/170619/video1_003/trigger_thr0.005_cl9_op3/cc_filtered_2den0.81_gausrad2.0/', list(['mean_170619-video1_003-038_opened_cc09.png']), array([1.00000000e+00, 1.07760923e+03, 1.14806748e+01, 6.00000000e+00,\n",
       "       2.35663647e+00])),\n",
       "       ( 27, '/media/alessandro/DATA/tesi/Nebbia/pre-processed_data/170619/video1_003/trigger_thr0.005_cl9_op3/cc_filtered_2den0.81_gausrad2.0/', list(['mean_170619-video1_003-041_opened_cc11.png']), array([  1.        , 269.05461816,  10.55038499,   6.        ,\n",
       "         1.06484699])),\n",
       "       ( 28, '/media/alessandro/DATA/tesi/Nebbia/pre-processed_data/170619/video1_003/trigger_thr0.005_cl9_op3/cc_filtered_2den0.81_gausrad2.0/', list(['mean_170619-video1_003-041_opened_cc17.png']), array([  1.        , 306.07976576,   7.19002152,   4.        ,\n",
       "         1.78774053])),\n",
       "       ( 29, '/media/alessandro/DATA/tesi/Nebbia/pre-processed_data/170619/video1_004/trigger_thr0.005_cl9_op3/cc_filtered_2den0.81_gausrad2.0/', list(['mean_170619-video1_004-003_opened_cc11.png']), array([  1.        , 175.16425851,   4.98306057,   3.        ,\n",
       "         2.0304891 ])),\n",
       "       ( 30, '/media/alessandro/DATA/tesi/Nebbia/pre-processed_data/170619/video1_004/trigger_thr0.005_cl9_op3/cc_filtered_2den0.81_gausrad2.0/', list(['mean_170619-video1_004-003_opened_cc31.png']), array([  1.        , 301.23453574,   4.95867072,   4.        ,\n",
       "         2.16575422])),\n",
       "       ( 31, '/media/alessandro/DATA/tesi/Nebbia/pre-processed_data/170619/video1_004/trigger_thr0.005_cl9_op3/cc_filtered_2den0.81_gausrad2.0/', list(['mean_170619-video1_004-008_opened_cc01.png']), array([  1.        , 406.36113616,   5.44427959,   6.        ,\n",
       "         1.41256941])),\n",
       "       ( 32, '/media/alessandro/DATA/tesi/Nebbia/pre-processed_data/170619/video1_004/trigger_thr0.005_cl9_op3/cc_filtered_2den0.81_gausrad2.0/', list(['mean_170619-video1_004-008_opened_cc03.png']), array([ 1.        , 75.0637721 ,  4.4362279 ,  1.        ,  2.62454324])),\n",
       "       ( 33, '/media/alessandro/DATA/tesi/Nebbia/pre-processed_data/170619/video1_004/trigger_thr0.005_cl9_op3/cc_filtered_2den0.81_gausrad2.0/', list(['mean_170619-video1_004-008_opened_cc09.png']), array([  1.        , 614.0652465 ,   4.10826449,  11.        ,\n",
       "         2.29972468])),\n",
       "       ( 34, '/media/alessandro/DATA/tesi/Nebbia/pre-processed_data/170619/video1_004/trigger_thr0.005_cl9_op3/cc_filtered_2den0.81_gausrad2.0/', list(['mean_170619-video1_004-008_opened_cc26.png']), array([  1.        , 158.64035552,   4.81286376,   3.        ,\n",
       "         1.54464475])),\n",
       "       ( 35, '/media/alessandro/DATA/tesi/Nebbia/pre-processed_data/170619/video1_004/trigger_thr0.005_cl9_op3/cc_filtered_2den0.81_gausrad2.0/', list(['mean_170619-video1_004-008_opened_cc63.png']), array([  1.        , 198.02571357,   4.60204792,   4.        ,\n",
       "         2.15640603])),\n",
       "       ( 36, '/media/alessandro/DATA/tesi/Nebbia/pre-processed_data/170619/video1_004/trigger_thr0.005_cl9_op3/cc_filtered_2den0.81_gausrad2.0/', list(['mean_170619-video1_004-008_opened_cc65.png']), array([  1.        , 200.60744766,   4.07545675,   3.        ,\n",
       "         1.87189529])),\n",
       "       ( 37, '/media/alessandro/DATA/tesi/Nebbia/pre-processed_data/170619/video1_004/trigger_thr0.005_cl9_op3/cc_filtered_2den0.81_gausrad2.0/', list(['mean_170619-video1_004-009_opened_cc28.png']), array([  1.        , 356.7719548 ,   4.61425453,   6.        ,\n",
       "         2.24923788])),\n",
       "       ( 38, '/media/alessandro/DATA/tesi/Nebbia/pre-processed_data/170619/video1_004/trigger_thr0.005_cl9_op3/cc_filtered_2den0.81_gausrad2.0/', list(['mean_170619-video1_004-009_opened_cc31.png']), array([  1.        , 115.48390296,   5.20606269,   3.        ,\n",
       "         2.08732362])),\n",
       "       ( 39, '/media/alessandro/DATA/tesi/Nebbia/pre-processed_data/170619/video1_004/trigger_thr0.005_cl9_op3/cc_filtered_2den0.81_gausrad2.0/', list(['mean_170619-video1_004-009_opened_cc47.png']), array([  1.        , 218.27100256,   7.51957019,   4.        ,\n",
       "         1.18672875])),\n",
       "       ( 40, '/media/alessandro/DATA/tesi/Nebbia/pre-processed_data/170619/video1_004/trigger_thr0.005_cl9_op3/cc_filtered_2den0.81_gausrad2.0/', list(['mean_170619-video1_004-014_opened_cc03.png']), array([1.00000000e+00, 1.79831462e+03, 8.57961721e+00, 2.20000000e+01,\n",
       "       4.03173075e+00])),\n",
       "       ( 41, '/media/alessandro/DATA/tesi/Nebbia/pre-processed_data/170619/video1_004/trigger_thr0.005_cl9_op3/cc_filtered_2den0.81_gausrad2.0/', list(['mean_170619-video1_004-014_opened_cc14.png']), array([  1.        , 510.82300861,   4.46376232,   7.        ,\n",
       "         1.88568767])),\n",
       "       ( 42, '/media/alessandro/DATA/tesi/Nebbia/pre-processed_data/170619/video1_004/trigger_thr0.005_cl9_op3/cc_filtered_2den0.81_gausrad2.0/', list(['mean_170619-video1_004-014_opened_cc34.png']), array([  1.        , 154.05242846,   4.42265748,   4.        ,\n",
       "         1.50872362])),\n",
       "       ( 43, '/media/alessandro/DATA/tesi/Nebbia/pre-processed_data/170619/video1_004/trigger_thr0.005_cl9_op3/cc_filtered_2den0.81_gausrad2.0/', list(['mean_170619-video1_004-014_opened_cc42.png']), array([  1.        , 393.2483082 ,   4.08089622,   4.        ,\n",
       "         3.90427893])),\n",
       "       ( 44, '/media/alessandro/DATA/tesi/Nebbia/pre-processed_data/170619/video1_004/trigger_thr0.005_cl9_op3/cc_filtered_2den0.81_gausrad2.0/', list(['mean_170619-video1_004-014_opened_cc43.png']), array([  1.        , 108.18553463,  10.55248402,   4.        ,\n",
       "         1.00128878])),\n",
       "       ( 45, '/media/alessandro/DATA/tesi/Nebbia/pre-processed_data/170619/video1_004/trigger_thr0.005_cl9_op3/cc_filtered_2den0.81_gausrad2.0/', list(['mean_170619-video1_004-016_opened_cc02.png']), array([  1.        , 347.66715319,   4.72198531,   6.        ,\n",
       "         1.62098884])),\n",
       "       ( 46, '/media/alessandro/DATA/tesi/Nebbia/pre-processed_data/170619/video1_004/trigger_thr0.005_cl9_op3/cc_filtered_2den0.81_gausrad2.0/', list(['mean_170619-video1_004-016_opened_cc11.png']), array([  1.        , 603.44065707,   5.1791757 ,  11.        ,\n",
       "         2.13973941])),\n",
       "       ( 47, '/media/alessandro/DATA/tesi/Nebbia/pre-processed_data/170619/video1_004/trigger_thr0.005_cl9_op3/cc_filtered_2den0.81_gausrad2.0/', list(['mean_170619-video1_004-016_opened_cc25.png']), array([  1.        , 213.7002142 ,   5.18044129,   4.        ,\n",
       "         1.7917558 ])),\n",
       "       ( 48, '/media/alessandro/DATA/tesi/Nebbia/pre-processed_data/170619/video1_004/trigger_thr0.005_cl9_op3/cc_filtered_2den0.81_gausrad2.0/', list(['mean_170619-video1_004-016_opened_cc33.png']), array([  1.        , 853.86647118,   7.52262661,  11.        ,\n",
       "         2.36126213])),\n",
       "       ( 49, '/media/alessandro/DATA/tesi/Nebbia/pre-processed_data/170619/video1_004/trigger_thr0.005_cl9_op3/cc_filtered_2den0.81_gausrad2.0/', list(['mean_170619-video1_004-014_opened_cc26.png']), array([  1.        , 190.36822749,   7.49829356,   2.        ,\n",
       "         1.63721653])),\n",
       "       ( 50, '/media/alessandro/DATA/tesi/Nebbia/pre-processed_data/170619/video1_004/trigger_thr0.005_cl9_op3/cc_filtered_2den0.81_gausrad2.0/', list(['mean_170619-video1_004-016_opened_cc42.png']), array([  1.        , 366.57343004,   6.67587883,   3.        ,\n",
       "         2.41145856])),\n",
       "       ( 51, '/media/alessandro/DATA/tesi/Nebbia/pre-processed_data/170619/video1_004/trigger_thr0.005_cl9_op3/cc_filtered_2den0.81_gausrad2.0/', list(['mean_170619-video1_004-017_opened_cc30.png']), array([ 1.        , 72.38496372,  6.08825445,  2.        ,  1.14536612])),\n",
       "       ( 52, '/media/alessandro/DATA/tesi/Nebbia/pre-processed_data/170619/video1_004/trigger_thr0.005_cl9_op3/cc_filtered_2den0.81_gausrad2.0/', list(['mean_170619-video1_004-016_opened_cc53.png']), array([ 1.        , 86.93665807,  8.06334193,  1.        ,  1.43369287])),\n",
       "       ( 53, '/media/alessandro/DATA/tesi/Nebbia/pre-processed_data/170619/video1_004/trigger_thr0.005_cl9_op3/cc_filtered_2den0.81_gausrad2.0/', list(['mean_170619-video1_004-016_opened_cc60.png']), array([ 1.        , 43.03566885, 14.96433115,  1.        ,  1.        ])),\n",
       "       ( 54, '/media/alessandro/DATA/tesi/Nebbia/pre-processed_data/170619/video1_004/trigger_thr0.005_cl9_op3/cc_filtered_2den0.81_gausrad2.0/', list(['mean_170619-video1_004-017_opened_cc04.png']), array([  1.        , 171.09641347,   6.74318351,   3.        ,\n",
       "         1.55177124])),\n",
       "       ( 55, '/media/alessandro/DATA/tesi/Nebbia/pre-processed_data/170619/video1_004/trigger_thr0.005_cl9_op3/cc_filtered_2den0.81_gausrad2.0/', list(['mean_170619-video1_004-017_opened_cc16.png']), array([  1.        , 266.64013198,   7.77677317,   3.        ,\n",
       "         1.38572797])),\n",
       "       ( 56, '/media/alessandro/DATA/tesi/Nebbia/pre-processed_data/170619/video1_004/trigger_thr0.005_cl9_op3/cc_filtered_2den0.81_gausrad2.0/', list(['mean_170619-video1_004-017_opened_cc22.png']), array([  1.        , 439.09864245,   7.6281649 ,   8.        ,\n",
       "         1.90194735])),\n",
       "       ( 57, '/media/alessandro/DATA/tesi/Nebbia/pre-processed_data/170619/video1_004/trigger_thr0.005_cl9_op3/cc_filtered_2den0.81_gausrad2.0/', list(['mean_170619-video1_004-017_opened_cc38.png']), array([  1.        , 434.36826283,   8.01623467,   7.        ,\n",
       "         1.84635398])),\n",
       "       ( 58, '/media/alessandro/DATA/tesi/Nebbia/pre-processed_data/170619/video1_004/trigger_thr0.005_cl9_op3/cc_filtered_2den0.81_gausrad2.0/', list(['mean_170619-video1_004-017_opened_cc63.png']), array([  1.        , 189.52417252,   5.97489035,   6.        ,\n",
       "         1.25802696])),\n",
       "       ( 59, '/media/alessandro/DATA/tesi/Nebbia/pre-processed_data/170619/video1_004/trigger_thr0.005_cl9_op3/cc_filtered_2den0.81_gausrad2.0/', list(['mean_170619-video1_004-020_opened_cc01.png']), array([  1.        , 107.00382498,   8.44382888,   2.        ,\n",
       "         1.27151457])),\n",
       "       ( 60, '/media/alessandro/DATA/tesi/Nebbia/pre-processed_data/170619/video1_004/trigger_thr0.005_cl9_op3/cc_filtered_2den0.81_gausrad2.0/', list(['mean_170619-video1_004-020_opened_cc02.png']), array([1.00000000e+00, 1.70363535e+03, 8.25436560e+00, 2.60000000e+01,\n",
       "       4.02732667e+00])),\n",
       "       ( 61, '/media/alessandro/DATA/tesi/Nebbia/pre-processed_data/170619/video1_004/trigger_thr0.005_cl9_op3/cc_filtered_2den0.81_gausrad2.0/', list(['mean_170619-video1_004-020_opened_cc09.png']), array([  1.        , 435.36794508,   6.11619066,   6.        ,\n",
       "         1.6939874 ])),\n",
       "       ( 62, '/media/alessandro/DATA/tesi/Nebbia/pre-processed_data/170619/video1_004/trigger_thr0.005_cl9_op3/cc_filtered_2den0.81_gausrad2.0/', list(['mean_170619-video1_004-020_opened_cc27.png']), array([  1.        , 279.45833447,   6.28520967,   4.        ,\n",
       "         1.70410928])),\n",
       "       ( 63, '/media/alessandro/DATA/tesi/Nebbia/pre-processed_data/170619/video1_004/trigger_thr0.005_cl9_op3/cc_filtered_2den0.81_gausrad2.0/', list(['mean_170619-video1_004-020_opened_cc43.png']), array([  1.        , 115.55507186,   6.80137228,   2.        ,\n",
       "         1.94326883])),\n",
       "       ( 64, '/media/alessandro/DATA/tesi/Nebbia/pre-processed_data/170619/video1_004/trigger_thr0.005_cl9_op3/cc_filtered_2den0.81_gausrad2.0/', list(['mean_170619-video1_004-020_opened_cc47.png']), array([  1.        , 429.64666336,   4.92062162,   7.        ,\n",
       "         2.02256662])),\n",
       "       ( 65, '/media/alessandro/DATA/tesi/Nebbia/pre-processed_data/170619/video1_004/trigger_thr0.005_cl9_op3/cc_filtered_2den0.81_gausrad2.0/', list(['mean_170619-video1_004-020_opened_cc62.png']), array([  1.        , 176.81458295,   1.58792445,   2.        ,\n",
       "         3.76116117])),\n",
       "       ( 66, '/media/alessandro/DATA/tesi/Nebbia/pre-processed_data/170619/video1_004/trigger_thr0.005_cl9_op3/cc_filtered_2den0.81_gausrad2.0/', list(['mean_170619-video1_004-026_opened_cc19.png']), array([  1.        , 189.79851019,   5.98011524,   4.        ,\n",
       "         1.69456201])),\n",
       "       ( 67, '/media/alessandro/DATA/tesi/Nebbia/pre-processed_data/170619/video1_004/trigger_thr0.005_cl9_op3/cc_filtered_2den0.81_gausrad2.0/', list(['mean_170619-video1_004-026_opened_cc32.png']), array([  1.        , 223.07482484,   1.65128751,   3.        ,\n",
       "         2.22364394])),\n",
       "       ( 68, '/media/alessandro/DATA/tesi/Nebbia/pre-processed_data/170619/video1_004/trigger_thr0.005_cl9_op3/cc_filtered_2den0.81_gausrad2.0/', list(['mean_170619-video1_004-026_opened_cc40.png']), array([  1.        , 356.74337931,   3.79799005,   5.        ,\n",
       "         1.9639267 ])),\n",
       "       ( 69, '/media/alessandro/DATA/tesi/Nebbia/pre-processed_data/170619/video1_004/trigger_thr0.005_cl9_op3/cc_filtered_2den0.81_gausrad2.0/', list(['mean_170619-video1_004-036_opened_cc02.png']), array([  1.        , 188.48211284,   1.86083975,   3.        ,\n",
       "         2.5241128 ])),\n",
       "       ( 70, '/media/alessandro/DATA/tesi/Nebbia/pre-processed_data/170619/video1_004/trigger_thr0.005_cl9_op3/cc_filtered_2den0.81_gausrad2.0/', list(['mean_170619-video1_004-036_opened_cc41.png']), array([  1.        , 257.2042898 ,   7.21722837,   5.        ,\n",
       "         2.05915041])),\n",
       "       ( 71, '/media/alessandro/DATA/tesi/Nebbia/pre-processed_data/170619/video1_004/trigger_thr0.005_cl9_op3/cc_filtered_2den0.81_gausrad2.0/', list(['mean_170619-video1_004-044_opened_cc02.png']), array([1.00000000e+00, 1.83117391e+03, 6.53901390e+00, 2.80000000e+01,\n",
       "       3.64226149e+00])),\n",
       "       ( 72, '/media/alessandro/DATA/tesi/Nebbia/pre-processed_data/170619/video1_004/trigger_thr0.005_cl9_op3/cc_filtered_2den0.81_gausrad2.0/', list(['mean_170619-video1_004-044_opened_cc21.png']), array([  1.        , 547.46015752,   6.99302745,   7.        ,\n",
       "         2.02091882])),\n",
       "       ( 73, '/media/alessandro/DATA/tesi/Nebbia/pre-processed_data/170619/video1_004/trigger_thr0.005_cl9_op3/cc_filtered_2den0.81_gausrad2.0/', list(['mean_170619-video1_004-047_opened_cc26.png']), array([  1.        , 171.86702791,   7.09431582,   4.        ,\n",
       "         1.59375434])),\n",
       "       ( 74, '/media/alessandro/DATA/tesi/Nebbia/pre-processed_data/170619/video1_004/trigger_thr0.005_cl9_op3/cc_filtered_2den0.81_gausrad2.0/', list(['mean_170619-video1_004-047_opened_cc56.png']), array([  1.        , 158.3989181 ,   4.97172075,   3.        ,\n",
       "         2.31715092])),\n",
       "       ( 75, '/media/alessandro/DATA/tesi/Nebbia/pre-processed_data/170619/video1_005/trigger_thr0.005_cl9_op3/cc_filtered_2den0.81_gausrad2.0/', list(['mean_170619-video1_005-015_opened_cc56.png']), array([  1.        , 144.95220224,   8.26280713,   3.        ,\n",
       "         1.71857262])),\n",
       "       ( 76, '/media/alessandro/DATA/tesi/Nebbia/pre-processed_data/170619/video1_005/trigger_thr0.005_cl9_op3/cc_filtered_2den0.81_gausrad2.0/', list(['mean_170619-video1_005-015_opened_cc49.png']), array([  1.        , 282.49084195,   6.25972432,   4.        ,\n",
       "         2.13341948])),\n",
       "       ( 77, '/media/alessandro/DATA/tesi/Nebbia/pre-processed_data/170619/video1_005/trigger_thr0.005_cl9_op3/cc_filtered_2den0.81_gausrad2.0/', list(['mean_170619-video1_005-020_opened_cc09.png']), array([  1.        , 117.21157349,   4.66429443,   2.        ,\n",
       "         1.73385349])),\n",
       "       ( 78, '/media/alessandro/DATA/tesi/Nebbia/pre-processed_data/170619/video1_005/trigger_thr0.005_cl9_op3/cc_filtered_2den0.81_gausrad2.0/', list(['mean_170619-video1_005-020_opened_cc17.png']), array([  1.        , 590.18420823,   5.95178363,   7.        ,\n",
       "         2.45899414])),\n",
       "       ( 79, '/media/alessandro/DATA/tesi/Nebbia/pre-processed_data/170619/video1_005/trigger_thr0.005_cl9_op3/cc_filtered_2den0.81_gausrad2.0/', list(['mean_170619-video1_005-021_opened_cc03.png']), array([  1.        , 307.23325345,   6.47539962,   3.        ,\n",
       "         1.85575921])),\n",
       "       ( 80, '/media/alessandro/DATA/tesi/Nebbia/pre-processed_data/170619/video1_005/trigger_thr0.005_cl9_op3/cc_filtered_2den0.81_gausrad2.0/', list(['mean_170619-video1_005-021_opened_cc23.png']), array([  1.        , 287.41679954,   9.31391195,   4.        ,\n",
       "         1.72763758])),\n",
       "       ( 81, '/media/alessandro/DATA/tesi/Nebbia/pre-processed_data/170619/video1_005/trigger_thr0.005_cl9_op3/cc_filtered_2den0.81_gausrad2.0/', list(['mean_170619-video1_005-023_opened_cc07.png']), array([  1.        , 127.25962196,   2.53697843,   3.        ,\n",
       "         2.38462798])),\n",
       "       ( 82, '/media/alessandro/DATA/tesi/Nebbia/pre-processed_data/170619/video1_005/trigger_thr0.005_cl9_op3/cc_filtered_2den0.81_gausrad2.0/', list(['mean_170619-video1_005-023_opened_cc39.png']), array([  1.        , 120.18900603,  14.54629051,   2.        ,\n",
       "         1.40430334])),\n",
       "       ( 83, '/media/alessandro/DATA/tesi/Nebbia/pre-processed_data/170619/video1_005/trigger_thr0.005_cl9_op3/cc_filtered_2den0.81_gausrad2.0/', list(['mean_170619-video1_005-027_opened_cc03.png']), array([  1.        , 118.63527887,   9.43796092,   2.        ,\n",
       "         1.        ])),\n",
       "       ( 84, '/media/alessandro/DATA/tesi/Nebbia/pre-processed_data/170619/video1_005/trigger_thr0.005_cl9_op3/cc_filtered_2den0.81_gausrad2.0/', list(['mean_170619-video1_005-027_opened_cc25.png']), array([ 1.        , 74.01046735,  2.41519962,  2.        ,  2.53407014])),\n",
       "       ( 85, '/media/alessandro/DATA/tesi/Nebbia/pre-processed_data/170619/video1_005/trigger_thr0.005_cl9_op3/cc_filtered_2den0.81_gausrad2.0/', list(['mean_170619-video1_005-027_opened_cc57.png']), array([  1.        , 550.48600513,   8.14383923,   8.        ,\n",
       "         1.5856185 ])),\n",
       "       ( 86, '/media/alessandro/DATA/tesi/Nebbia/pre-processed_data/170619/video1_005/trigger_thr0.005_cl9_op3/cc_filtered_2den0.81_gausrad2.0/', list(['mean_170619-video1_005-048_opened_cc03.png']), array([  1.        , 203.84739781,   4.39002921,   4.        ,\n",
       "         2.15497474])),\n",
       "       ( 87, '/media/alessandro/DATA/tesi/Nebbia/pre-processed_data/170619/video1_005/trigger_thr0.005_cl9_op3/cc_filtered_2den0.81_gausrad2.0/', list(['mean_170619-video1_005-048_opened_cc45.png']), array([  1.        , 460.50536722,  10.27479508,   5.        ,\n",
       "         1.99652521])),\n",
       "       ( 88, '/media/alessandro/DATA/tesi/Nebbia/pre-processed_data/170619/video1_006/trigger_thr0.005_cl9_op3/cc_filtered_2den0.81_gausrad2.0/', list(['mean_170619-video1_006-001_opened_cc04.png']), array([1.00000000e+00, 1.25901121e+03, 1.24440114e+01, 8.00000000e+00,\n",
       "       2.44390346e+00])),\n",
       "       ( 89, '/media/alessandro/DATA/tesi/Nebbia/pre-processed_data/170619/video1_006/trigger_thr0.005_cl9_op3/cc_filtered_2den0.81_gausrad2.0/', list(['mean_170619-video1_006-001_opened_cc21.png']), array([  1.        , 164.1767651 ,  12.        ,   4.        ,\n",
       "         1.45289173])),\n",
       "       ( 90, '/media/alessandro/DATA/tesi/Nebbia/pre-processed_data/170619/video1_006/trigger_thr0.005_cl9_op3/cc_filtered_2den0.81_gausrad2.0/', list(['mean_170619-video1_006-001_opened_cc22.png']), array([  1.        , 142.66044096,  10.17545253,   4.        ,\n",
       "         1.31889624])),\n",
       "       ( 91, '/media/alessandro/DATA/tesi/Nebbia/pre-processed_data/170619/video1_006/trigger_thr0.005_cl9_op3/cc_filtered_2den0.81_gausrad2.0/', list(['mean_170619-video1_006-003_opened_cc07.png']), array([1.00000000e+00, 1.14280529e+03, 1.21166899e+01, 1.00000000e+01,\n",
       "       2.30869285e+00])),\n",
       "       ( 92, '/media/alessandro/DATA/tesi/Nebbia/pre-processed_data/170619/video1_006/trigger_thr0.005_cl9_op3/cc_filtered_2den0.81_gausrad2.0/', list(['mean_170619-video1_006-014_opened_cc02.png']), array([  1.        , 307.92221531,   5.9472955 ,   4.        ,\n",
       "         1.76925889])),\n",
       "       ( 93, '/media/alessandro/DATA/tesi/Nebbia/pre-processed_data/170619/video1_006/trigger_thr0.005_cl9_op3/cc_filtered_2den0.81_gausrad2.0/', list(['mean_170619-video1_006-014_opened_cc03.png']), array([  1.        , 159.13976101,   6.19325287,   3.        ,\n",
       "         1.50770583])),\n",
       "       ( 94, '/media/alessandro/DATA/tesi/Nebbia/pre-processed_data/170619/video1_006/trigger_thr0.005_cl9_op3/cc_filtered_2den0.81_gausrad2.0/', list(['mean_170619-video1_006-014_opened_cc59.png']), array([  1.        , 345.53607179,   7.83815738,   6.        ,\n",
       "         1.64115434])),\n",
       "       ( 95, '/media/alessandro/DATA/tesi/Nebbia/pre-processed_data/170619/video1_006/trigger_thr0.005_cl9_op3/cc_filtered_2den0.81_gausrad2.0/', list(['mean_170619-video1_006-016_opened_cc27.png']), array([ 1.        , 66.09148958, 11.28397657,  2.        ,  1.        ])),\n",
       "       ( 96, '/media/alessandro/DATA/tesi/Nebbia/pre-processed_data/170619/video1_006/trigger_thr0.005_cl9_op3/cc_filtered_2den0.81_gausrad2.0/', list(['mean_170619-video1_006-025_opened_cc28.png']), array([  1.        , 253.86519778,   6.71174749,   6.        ,\n",
       "         1.54371706])),\n",
       "       ( 97, '/media/alessandro/DATA/tesi/Nebbia/pre-processed_data/170619/video1_007/trigger_thr0.005_cl9_op3/cc_filtered_2den0.81_gausrad2.0/', list(['mean_170619-video1_007-005_opened_cc08.png']), array([1.00000000e+00, 1.19662899e+03, 1.27283241e+01, 4.00000000e+00,\n",
       "       2.47063961e+00])),\n",
       "       ( 98, '/media/alessandro/DATA/tesi/Nebbia/pre-processed_data/170619/video1_007/trigger_thr0.005_cl9_op3/cc_filtered_2den0.81_gausrad2.0/', list(['mean_170619-video1_007-007_opened_cc06.png']), array([  1.        , 919.21390616,  15.32178153,   7.        ,\n",
       "         2.23109514])),\n",
       "       ( 99, '/media/alessandro/DATA/tesi/Nebbia/pre-processed_data/170619/video1_007/trigger_thr0.005_cl9_op3/cc_filtered_2den0.81_gausrad2.0/', list(['mean_170619-video1_007-011_opened_cc43.png']), array([  1.        , 140.85343706,   6.57119553,   3.        ,\n",
       "         1.85897554])),\n",
       "       (100, '/media/alessandro/DATA/tesi/Nebbia/pre-processed_data/170619/video1_007/trigger_thr0.005_cl9_op3/cc_filtered_2den0.81_gausrad2.0/', list(['mean_170619-video1_007-011_opened_cc47.png']), array([  1.        , 148.4172401 ,  10.71484016,   4.        ,\n",
       "         1.20267604])),\n",
       "       (101, '/media/alessandro/DATA/tesi/Nebbia/pre-processed_data/170619/video1_007/trigger_thr0.005_cl9_op3/cc_filtered_2den0.81_gausrad2.0/', list(['mean_170619-video1_007-016_opened_cc03.png']), array([  1.        , 431.84893646,  10.2685993 ,   9.        ,\n",
       "         1.55456041])),\n",
       "       (102, '/media/alessandro/DATA/tesi/Nebbia/pre-processed_data/170619/video1_007/trigger_thr0.005_cl9_op3/cc_filtered_2den0.81_gausrad2.0/', list(['mean_170619-video1_007-016_opened_cc17.png']), array([ 1.        , 85.90063556,  4.97562907,  2.        ,  1.56079815])),\n",
       "       (103, '/media/alessandro/DATA/tesi/Nebbia/pre-processed_data/170619/video1_007/trigger_thr0.005_cl9_op3/cc_filtered_2den0.81_gausrad2.0/', list(['mean_170619-video1_007-022_opened_cc02.png']), array([  1.        , 103.85226504,   6.79042039,   3.        ,\n",
       "         1.50955076])),\n",
       "       (104, '/media/alessandro/DATA/tesi/Nebbia/pre-processed_data/170619/video1_007/trigger_thr0.005_cl9_op3/cc_filtered_2den0.81_gausrad2.0/', list(['mean_170619-video1_007-022_opened_cc04.png']), array([  1.        , 114.90956166,   9.16025831,   3.        ,\n",
       "         1.38445255])),\n",
       "       (105, '/media/alessandro/DATA/tesi/Nebbia/pre-processed_data/170619/video1_007/trigger_thr0.005_cl9_op3/cc_filtered_2den0.81_gausrad2.0/', list(['mean_170619-video1_007-022_opened_cc43.png']), array([ 1.        , 88.13221878, 12.36778122,  1.        ,  1.25698116])),\n",
       "       (106, '/media/alessandro/DATA/tesi/Nebbia/pre-processed_data/170619/video1_007/trigger_thr0.005_cl9_op3/cc_filtered_2den0.81_gausrad2.0/', list(['mean_170619-video1_007-029_opened_cc05.png']), array([1.00000000e+00, 1.01136018e+03, 1.50544554e+01, 5.00000000e+00,\n",
       "       2.29123762e+00])),\n",
       "       (107, '/media/alessandro/DATA/tesi/Nebbia/pre-processed_data/170619/video1_007/trigger_thr0.005_cl9_op3/cc_filtered_2den0.81_gausrad2.0/', list(['mean_170619-video1_007-029_opened_cc15.png', 'mean_170619-video1_007-030_opened_cc22.png']), array([  2.        , 139.92780926,  12.82219074,   1.        ,\n",
       "         1.        ])),\n",
       "       (108, '/media/alessandro/DATA/tesi/Nebbia/pre-processed_data/170619/video1_008/trigger_thr0.005_cl9_op3/cc_filtered_2den0.81_gausrad2.0/', list(['mean_170619-video1_008-001_opened_cc06.png']), array([  1.        , 507.39159379,  10.90176029,   8.        ,\n",
       "         1.22879604])),\n",
       "       (109, '/media/alessandro/DATA/tesi/Nebbia/pre-processed_data/170619/video1_008/trigger_thr0.005_cl9_op3/cc_filtered_2den0.81_gausrad2.0/', list(['mean_170619-video1_008-001_opened_cc15.png']), array([  1.        , 407.83517402,  11.85628577,   2.        ,\n",
       "         1.38654495])),\n",
       "       (110, '/media/alessandro/DATA/tesi/Nebbia/pre-processed_data/170619/video1_008/trigger_thr0.005_cl9_op3/cc_filtered_2den0.81_gausrad2.0/', list(['mean_170619-video1_008-010_opened_cc02.png']), array([  1.        , 133.82474139,   4.54109434,   4.        ,\n",
       "         2.01291427])),\n",
       "       (111, '/media/alessandro/DATA/tesi/Nebbia/pre-processed_data/170619/video1_008/trigger_thr0.005_cl9_op3/cc_filtered_2den0.81_gausrad2.0/', list(['mean_170619-video1_008-010_opened_cc03.png']), array([  1.        , 109.88811678,   3.25646696,   2.        ,\n",
       "         1.7425006 ])),\n",
       "       (112, '/media/alessandro/DATA/tesi/Nebbia/pre-processed_data/170619/video1_008/trigger_thr0.005_cl9_op3/cc_filtered_2den0.81_gausrad2.0/', list(['mean_170619-video1_008-010_opened_cc51.png']), array([  1.        , 311.36323123,   5.79799345,   6.        ,\n",
       "         2.20824987])),\n",
       "       (113, '/media/alessandro/DATA/tesi/Nebbia/pre-processed_data/170619/video1_008/trigger_thr0.005_cl9_op3/cc_filtered_2den0.81_gausrad2.0/', list(['mean_170619-video1_008-011_opened_cc09.png']), array([  1.        , 865.84191268,   8.7990258 ,  13.        ,\n",
       "         2.49109768])),\n",
       "       (114, '/media/alessandro/DATA/tesi/Nebbia/pre-processed_data/170619/video1_008/trigger_thr0.005_cl9_op3/cc_filtered_2den0.81_gausrad2.0/', list(['mean_170619-video1_008-011_opened_cc21.png']), array([ 1.        , 78.44860075, 11.5303216 ,  2.        ,  1.13266203])),\n",
       "       (115, '/media/alessandro/DATA/tesi/Nebbia/pre-processed_data/170619/video1_008/trigger_thr0.005_cl9_op3/cc_filtered_2den0.81_gausrad2.0/', list(['mean_170619-video1_008-030_opened_cc49.png']), array([  1.        , 279.30713824,   5.95371333,   5.        ,\n",
       "         1.96695168])),\n",
       "       (116, '/media/alessandro/DATA/tesi/Nebbia/pre-processed_data/170619/video1_008/trigger_thr0.005_cl9_op3/cc_filtered_2den0.81_gausrad2.0/', list(['mean_170619-video1_008-032_opened_cc18.png']), array([  1.        , 171.08532696,   8.67824848,   2.        ,\n",
       "         1.07053857])),\n",
       "       (117, '/media/alessandro/DATA/tesi/Nebbia/pre-processed_data/170619/video1_008/trigger_thr0.005_cl9_op3/cc_filtered_2den0.81_gausrad2.0/', list(['mean_170619-video1_008-032_opened_cc22.png']), array([  1.        , 263.38545977,  12.76767888,   3.        ,\n",
       "         2.05144791])),\n",
       "       (118, '/media/alessandro/DATA/tesi/Nebbia/pre-processed_data/170619/video1_008/trigger_thr0.005_cl9_op3/cc_filtered_2den0.81_gausrad2.0/', list(['mean_170619-video1_008-032_opened_cc35.png']), array([  1.        , 175.98685884,   7.86717077,   3.        ,\n",
       "         1.42160846])),\n",
       "       (119, '/media/alessandro/DATA/tesi/Nebbia/pre-processed_data/170619/video1_008/trigger_thr0.005_cl9_op3/cc_filtered_2den0.81_gausrad2.0/', list(['mean_170619-video1_008-038_opened_cc05.png']), array([  1.        , 191.25376088,   2.65041424,   3.        ,\n",
       "         2.12951584])),\n",
       "       (120, '/media/alessandro/DATA/tesi/Nebbia/pre-processed_data/170619/video1_008/trigger_thr0.005_cl9_op3/cc_filtered_2den0.81_gausrad2.0/', list(['mean_170619-video1_008-041_opened_cc07.png']), array([1.00000000e+00, 1.25600629e+03, 9.41764822e+00, 1.10000000e+01,\n",
       "       3.21393248e+00])),\n",
       "       (121, '/media/alessandro/DATA/tesi/Nebbia/pre-processed_data/170619/video1_008/trigger_thr0.005_cl9_op3/cc_filtered_2den0.81_gausrad2.0/', list(['mean_170619-video1_008-047_opened_cc03.png']), array([1.00000000e+00, 1.17064157e+03, 6.29696048e+00, 1.90000000e+01,\n",
       "       3.44987442e+00])),\n",
       "       (122, '/media/alessandro/DATA/tesi/Nebbia/pre-processed_data/170619/video1_008/trigger_thr0.005_cl9_op3/cc_filtered_2den0.81_gausrad2.0/', list(['mean_170619-video1_008-047_opened_cc08.png']), array([  1.        , 188.68287786,   3.0254687 ,   3.        ,\n",
       "         2.11363785])),\n",
       "       (123, '/media/alessandro/DATA/tesi/Nebbia/pre-processed_data/170619/video1_008/trigger_thr0.005_cl9_op3/cc_filtered_2den0.81_gausrad2.0/', list(['mean_170619-video1_008-047_opened_cc22.png']), array([  1.        , 140.15517356,   7.77440186,   2.        ,\n",
       "         1.688494  ])),\n",
       "       (124, '/media/alessandro/DATA/tesi/Nebbia/pre-processed_data/170619/video1_008/trigger_thr0.005_cl9_op3/cc_filtered_2den0.81_gausrad2.0/', list(['mean_170619-video1_008-047_opened_cc44.png']), array([  1.        , 113.84634144,   3.1128182 ,   2.        ,\n",
       "         1.92270707])),\n",
       "       (125, '/media/alessandro/DATA/tesi/Nebbia/pre-processed_data/170619/video1_008/trigger_thr0.005_cl9_op3/cc_filtered_2den0.81_gausrad2.0/', list(['mean_170619-video1_008-047_opened_cc98.png']), array([ 1.        , 87.50297609,  3.49702391,  1.        ,  2.28614626])),\n",
       "       (126, '/media/alessandro/DATA/tesi/Nebbia/pre-processed_data/170619/video1_009/trigger_thr0.005_cl9_op3/cc_filtered_2den0.81_gausrad2.0/', list(['mean_170619-video1_009-021_opened_cc55.png']), array([  1.        , 275.99846181,   6.72622554,   5.        ,\n",
       "         1.63438642])),\n",
       "       (127, '/media/alessandro/DATA/tesi/Nebbia/pre-processed_data/170619/video1_009/trigger_thr0.005_cl9_op3/cc_filtered_2den0.81_gausrad2.0/', list(['mean_170619-video1_009-021_opened_cc57.png']), array([  1.        , 141.96023083,   5.3464153 ,   3.        ,\n",
       "         1.22777062])),\n",
       "       (128, '/media/alessandro/DATA/tesi/Nebbia/pre-processed_data/170619/video1_009/trigger_thr0.005_cl9_op3/cc_filtered_2den0.81_gausrad2.0/', list(['mean_170619-video1_009-028_opened_cc08.png']), array([  1.        , 212.32700766,   6.67386203,   3.        ,\n",
       "         2.07358108])),\n",
       "       (129, '/media/alessandro/DATA/tesi/Nebbia/pre-processed_data/170619/video1_009/trigger_thr0.005_cl9_op3/cc_filtered_2den0.81_gausrad2.0/', list(['mean_170619-video1_009-029_opened_cc33.png']), array([  1.        , 271.52945149,   3.82891888,   5.        ,\n",
       "         2.38183729])),\n",
       "       (130, '/media/alessandro/DATA/tesi/Nebbia/pre-processed_data/170619/video1_009/trigger_thr0.005_cl9_op3/cc_filtered_2den0.81_gausrad2.0/', list(['mean_170619-video1_009-031_opened_cc30.png']), array([  1.        , 159.14457244,   2.65514396,   2.        ,\n",
       "         2.50009846])),\n",
       "       (131, '/media/alessandro/DATA/tesi/Nebbia/pre-processed_data/170619/video1_009/trigger_thr0.005_cl9_op3/cc_filtered_2den0.81_gausrad2.0/', list(['mean_170619-video1_009-034_opened_cc41.png']), array([  1.        , 411.75202828,   9.73694073,   6.        ,\n",
       "         1.85211011])),\n",
       "       (132, '/media/alessandro/DATA/tesi/Nebbia/pre-processed_data/170619/video1_009/trigger_thr0.005_cl9_op3/cc_filtered_2den0.81_gausrad2.0/', list(['mean_170619-video1_009-048_opened_cc27.png']), array([  1.        , 544.77093332,   7.89839337,   9.        ,\n",
       "         2.45989493])),\n",
       "       (133, '/media/alessandro/DATA/tesi/Nebbia/pre-processed_data/170619/video1_010/trigger_thr0.005_cl9_op3/cc_filtered_2den0.81_gausrad2.0/', list(['mean_170619-video1_010-013_opened_cc09.png']), array([1.00000000e+00, 1.19015188e+03, 1.42900318e+01, 1.00000000e+01,\n",
       "       2.33745364e+00])),\n",
       "       (134, '/media/alessandro/DATA/tesi/Nebbia/pre-processed_data/170619/video1_010/trigger_thr0.005_cl9_op3/cc_filtered_2den0.81_gausrad2.0/', list(['mean_170619-video1_010-024_opened_cc33.png']), array([  1.        , 228.69114453,   4.08223041,   3.        ,\n",
       "         2.04867421])),\n",
       "       (135, '/media/alessandro/DATA/tesi/Nebbia/pre-processed_data/170619/video1_010/trigger_thr0.005_cl9_op3/cc_filtered_2den0.81_gausrad2.0/', list(['mean_170619-video1_010-045_opened_cc11.png']), array([ 1.        , 82.77611104,  3.06320703,  2.        ,  2.49920399])),\n",
       "       (136, '/media/alessandro/DATA/tesi/Nebbia/pre-processed_data/170619/video1_010/trigger_thr0.005_cl9_op3/cc_filtered_2den0.81_gausrad2.0/', list(['mean_170619-video1_010-045_opened_cc47.png']), array([  1.        , 111.05040938,   1.91854788,   2.        ,\n",
       "         1.91012511])),\n",
       "       (137, '/media/alessandro/DATA/tesi/Nebbia/pre-processed_data/170619/video1_010/trigger_thr0.005_cl9_op3/cc_filtered_2den0.81_gausrad2.0/', list(['mean_170619-video1_010-045_opened_cc53.png']), array([  1.        , 555.5933843 ,   8.23202965,   7.        ,\n",
       "         2.31728685])),\n",
       "       (138, '/media/alessandro/DATA/tesi/Nebbia/pre-processed_data/170619/video1_010/trigger_thr0.005_cl9_op3/cc_filtered_2den0.81_gausrad2.0/', list(['mean_170619-video1_010-045_opened_cc55.png']), array([  1.        , 141.18106257,   7.32171014,   3.        ,\n",
       "         1.77309423])),\n",
       "       (139, '/media/alessandro/DATA/tesi/Nebbia/pre-processed_data/170619/video1_010/trigger_thr0.005_cl9_op3/cc_filtered_2den0.81_gausrad2.0/', list(['mean_170619-video1_010-045_opened_cc60.png']), array([  1.        , 127.80381964,   6.19325287,   3.        ,\n",
       "         1.91974682])),\n",
       "       (140, '/media/alessandro/DATA/tesi/Nebbia/pre-processed_data/170619/video1_010/trigger_thr0.005_cl9_op3/cc_filtered_2den0.81_gausrad2.0/', list(['mean_170619-video1_010-047_opened_cc14.png']), array([ 1.        , 69.58298339,  9.88544089,  2.        ,  1.30708287])),\n",
       "       (141, '/media/alessandro/DATA/tesi/Nebbia/pre-processed_data/170619/video1_011/trigger_thr0.005_cl9_op3/cc_filtered_2den0.81_gausrad2.0/', list(['mean_170619-video1_011-011_opened_cc27.png']), array([  1.        , 105.52505259,   6.83271834,   2.        ,\n",
       "         1.78242624])),\n",
       "       (142, '/media/alessandro/DATA/tesi/Nebbia/pre-processed_data/170619/video1_011/trigger_thr0.005_cl9_op3/cc_filtered_2den0.81_gausrad2.0/', list(['mean_170619-video1_011-011_opened_cc02.png']), array([  1.        , 493.95572475,   5.22290358,  10.        ,\n",
       "         1.94547668])),\n",
       "       (143, '/media/alessandro/DATA/tesi/Nebbia/pre-processed_data/170619/video1_011/trigger_thr0.005_cl9_op3/cc_filtered_2den0.81_gausrad2.0/', list(['mean_170619-video1_011-011_opened_cc03.png']), array([  1.        , 207.88185771,   4.74680886,   4.        ,\n",
       "         1.82128418])),\n",
       "       (144, '/media/alessandro/DATA/tesi/Nebbia/pre-processed_data/170619/video1_011/trigger_thr0.005_cl9_op3/cc_filtered_2den0.81_gausrad2.0/', list(['mean_170619-video1_011-011_opened_cc15.png']), array([  1.        , 304.88278174,   5.22051027,   4.        ,\n",
       "         1.5582648 ])),\n",
       "       (145, '/media/alessandro/DATA/tesi/Nebbia/pre-processed_data/170619/video1_011/trigger_thr0.005_cl9_op3/cc_filtered_2den0.81_gausrad2.0/', list(['mean_170619-video1_011-011_opened_cc23.png']), array([  1.        , 341.28318504,   9.5937679 ,   4.        ,\n",
       "         1.35428769])),\n",
       "       (146, '/media/alessandro/DATA/tesi/Nebbia/pre-processed_data/170619/video1_011/trigger_thr0.005_cl9_op3/cc_filtered_2den0.81_gausrad2.0/', list(['mean_170619-video1_011-011_opened_cc37.png']), array([  1.        , 401.61377508,   5.99170296,   6.        ,\n",
       "         2.0700641 ])),\n",
       "       (147, '/media/alessandro/DATA/tesi/Nebbia/pre-processed_data/170619/video1_011/trigger_thr0.005_cl9_op3/cc_filtered_2den0.81_gausrad2.0/', list(['mean_170619-video1_011-022_opened_cc03.png']), array([  1.        , 400.43476268,   3.86827421,   7.        ,\n",
       "         2.27505063])),\n",
       "       (148, '/media/alessandro/DATA/tesi/Nebbia/pre-processed_data/170619/video1_011/trigger_thr0.005_cl9_op3/cc_filtered_2den0.81_gausrad2.0/', list(['mean_170619-video1_011-022_opened_cc06.png']), array([1.00000000e+00, 1.25383352e+03, 1.33577231e+01, 6.00000000e+00,\n",
       "       2.78974298e+00])),\n",
       "       (149, '/media/alessandro/DATA/tesi/Nebbia/pre-processed_data/170619/video1_011/trigger_thr0.005_cl9_op3/cc_filtered_2den0.81_gausrad2.0/', list(['mean_170619-video1_011-022_opened_cc66.png']), array([  1.        , 151.18957389,   9.06001376,   3.        ,\n",
       "         1.21481502])),\n",
       "       (150, '/media/alessandro/DATA/tesi/Nebbia/pre-processed_data/170619/video1_011/trigger_thr0.005_cl9_op3/cc_filtered_2den0.81_gausrad2.0/', list(['mean_170619-video1_011-034_opened_cc04.png']), array([  1.        , 204.37874169,  10.47552487,   3.        ,\n",
       "         1.7705252 ])),\n",
       "       (151, '/media/alessandro/DATA/tesi/Nebbia/pre-processed_data/170619/video1_011/trigger_thr0.005_cl9_op3/cc_filtered_2den0.81_gausrad2.0/', list(['mean_170619-video1_011-034_opened_cc05.png']), array([  1.        , 134.98378448,   4.27925979,   2.        ,\n",
       "         1.98419762])),\n",
       "       (152, '/media/alessandro/DATA/tesi/Nebbia/pre-processed_data/170619/video1_011/trigger_thr0.005_cl9_op3/cc_filtered_2den0.81_gausrad2.0/', list(['mean_170619-video1_011-034_opened_cc19.png']), array([  1.        , 127.81761112,   2.372583  ,   2.        ,\n",
       "         2.67391498])),\n",
       "       (153, '/media/alessandro/DATA/tesi/Nebbia/pre-processed_data/170619/video1_011/trigger_thr0.005_cl9_op3/cc_filtered_2den0.81_gausrad2.0/', list(['mean_170619-video1_011-034_opened_cc37.png']), array([ 1.        , 82.03679321,  0.46320679,  1.        , 25.94231185])),\n",
       "       (154, '/media/alessandro/DATA/tesi/Nebbia/pre-processed_data/170619/video1_011/trigger_thr0.005_cl9_op3/cc_filtered_2den0.81_gausrad2.0/', list(['mean_170619-video1_011-034_opened_cc51.png']), array([ 1.        , 87.83784631,  1.66215369,  1.        ,  3.63475594])),\n",
       "       (155, '/media/alessandro/DATA/tesi/Nebbia/pre-processed_data/170619/video1_011/trigger_thr0.005_cl9_op3/cc_filtered_2den0.81_gausrad2.0/', list(['mean_170619-video1_011-042_opened_cc02.png']), array([ 1.        , 72.25716834,  4.15628839,  2.        ,  1.65856629])),\n",
       "       (156, '/media/alessandro/DATA/tesi/Nebbia/pre-processed_data/170619/video1_011/trigger_thr0.005_cl9_op3/cc_filtered_2den0.81_gausrad2.0/', list(['mean_170619-video1_011-042_opened_cc29.png']), array([ 1.        , 96.0541207 ,  2.98306057,  2.        ,  1.86803615])),\n",
       "       (157, '/media/alessandro/DATA/tesi/Nebbia/pre-processed_data/170619/video1_012/trigger_thr0.005_cl9_op3/cc_filtered_2den0.81_gausrad2.0/', list(['mean_170619-video1_012-003_opened_cc04.png']), array([  1.        , 650.72375796,   4.53888024,   9.        ,\n",
       "         2.41973304])),\n",
       "       (158, '/media/alessandro/DATA/tesi/Nebbia/pre-processed_data/170619/video1_012/trigger_thr0.005_cl9_op3/cc_filtered_2den0.81_gausrad2.0/', list(['mean_170619-video1_012-003_opened_cc07.png']), array([  1.        , 210.14900926,   4.59614366,   3.        ,\n",
       "         1.74585488])),\n",
       "       (159, '/media/alessandro/DATA/tesi/Nebbia/pre-processed_data/170619/video1_012/trigger_thr0.005_cl9_op3/cc_filtered_2den0.81_gausrad2.0/', list(['mean_170619-video1_012-003_opened_cc67.png']), array([  1.        , 105.19173015,   2.34257504,   2.        ,\n",
       "         2.91749367])),\n",
       "       (160, '/media/alessandro/DATA/tesi/Nebbia/pre-processed_data/170619/video1_012/trigger_thr0.005_cl9_op3/cc_filtered_2den0.81_gausrad2.0/', list(['mean_170619-video1_012-003_opened_cc69.png']), array([ 1.        , 86.43087711,  7.70436986,  2.        ,  1.23472682])),\n",
       "       (161, '/media/alessandro/DATA/tesi/Nebbia/pre-processed_data/170619/video1_012/trigger_thr0.005_cl9_op3/cc_filtered_2den0.81_gausrad2.0/', list(['mean_170619-video1_012-005_opened_cc07.png']), array([1.00000000e+00, 1.23741532e+03, 1.22184826e+01, 1.10000000e+01,\n",
       "       2.50469944e+00])),\n",
       "       (162, '/media/alessandro/DATA/tesi/Nebbia/pre-processed_data/170619/video1_012/trigger_thr0.005_cl9_op3/cc_filtered_2den0.81_gausrad2.0/', list(['mean_170619-video1_012-009_opened_cc11.png']), array([  1.        , 850.91647295,  12.23510951,  11.        ,\n",
       "         2.39017709])),\n",
       "       (163, '/media/alessandro/DATA/tesi/Nebbia/pre-processed_data/170619/video1_012/trigger_thr0.005_cl9_op3/cc_filtered_2den0.81_gausrad2.0/', list(['mean_170619-video1_012-009_opened_cc26.png']), array([ 1.        , 38.75513626,  2.24486374,  1.        ,  3.9349879 ])),\n",
       "       (164, '/media/alessandro/DATA/tesi/Nebbia/pre-processed_data/170619/video1_012/trigger_thr0.005_cl9_op3/cc_filtered_2den0.81_gausrad2.0/', list(['mean_170619-video1_012-016_opened_cc45.png']), array([  1.        , 195.13518136,   1.88630508,   3.        ,\n",
       "         1.98283129])),\n",
       "       (165, '/media/alessandro/DATA/tesi/Nebbia/pre-processed_data/170619/video1_012/trigger_thr0.005_cl9_op3/cc_filtered_2den0.81_gausrad2.0/', list(['mean_170619-video1_012-016_opened_cc48.png']), array([  1.        , 547.16535594,   4.2431458 ,   8.        ,\n",
       "         1.86736067])),\n",
       "       (166, '/media/alessandro/DATA/tesi/Nebbia/pre-processed_data/170619/video1_012/trigger_thr0.005_cl9_op3/cc_filtered_2den0.81_gausrad2.0/', list(['mean_170619-video1_012-017_opened_cc08.png']), array([1.00000000e+00, 1.06775806e+03, 1.11022909e+01, 1.10000000e+01,\n",
       "       2.11636501e+00])),\n",
       "       (167, '/media/alessandro/DATA/tesi/Nebbia/pre-processed_data/170619/video1_012/trigger_thr0.005_cl9_op3/cc_filtered_2den0.81_gausrad2.0/', list(['mean_170619-video1_012-027_opened_cc02.png']), array([  1.        , 635.66897176,   5.0670332 ,  12.        ,\n",
       "         2.47177404])),\n",
       "       (168, '/media/alessandro/DATA/tesi/Nebbia/pre-processed_data/170619/video1_012/trigger_thr0.005_cl9_op3/cc_filtered_2den0.81_gausrad2.0/', list(['mean_170619-video1_012-038_opened_cc55.png']), array([  1.        , 111.45711533,   9.7355194 ,   3.        ,\n",
       "         1.05463129])),\n",
       "       (169, '/media/alessandro/DATA/tesi/Nebbia/pre-processed_data/170619/video1_012/trigger_thr0.005_cl9_op3/cc_filtered_2den0.81_gausrad2.0/', list(['mean_170619-video1_012-046_opened_cc47.png']), array([  1.        , 164.2741754 ,   6.37709114,   2.        ,\n",
       "         1.94071248])),\n",
       "       (170, '/media/alessandro/DATA/tesi/Nebbia/pre-processed_data/170619/video1_012/trigger_thr0.005_cl9_op3/cc_filtered_2den0.81_gausrad2.0/', list(['mean_170619-video1_012-016_opened_cc02.png']), array([  1.        , 709.22469046,   5.53543663,   9.        ,\n",
       "         2.14281947])),\n",
       "       (171, '/media/alessandro/DATA/tesi/Nebbia/pre-processed_data/170619/video1_013/trigger_thr0.005_cl9_op3/cc_filtered_2den0.81_gausrad2.0/', list(['mean_170619-video1_013-005_opened_cc02.png']), array([  1.        , 173.7050789 ,   4.32281051,   3.        ,\n",
       "         1.77139449])),\n",
       "       (172, '/media/alessandro/DATA/tesi/Nebbia/pre-processed_data/170619/video1_013/trigger_thr0.005_cl9_op3/cc_filtered_2den0.81_gausrad2.0/', list(['mean_170619-video1_013-005_opened_cc04.png']), array([  1.        , 118.12160463,   5.67029028,   2.        ,\n",
       "         1.67653819])),\n",
       "       (173, '/media/alessandro/DATA/tesi/Nebbia/pre-processed_data/170619/video1_013/trigger_thr0.005_cl9_op3/cc_filtered_2den0.81_gausrad2.0/', list(['mean_170619-video1_013-005_opened_cc36.png']), array([  1.        , 109.90560299,   8.92429603,   2.        ,\n",
       "         1.35325459])),\n",
       "       (174, '/media/alessandro/DATA/tesi/Nebbia/pre-processed_data/170619/video1_013/trigger_thr0.005_cl9_op3/cc_filtered_2den0.81_gausrad2.0/', list(['mean_170619-video1_013-005_opened_cc46.png']), array([  1.        , 313.53169549,   7.65432775,   6.        ,\n",
       "         2.03910385])),\n",
       "       (175, '/media/alessandro/DATA/tesi/Nebbia/pre-processed_data/170619/video1_013/trigger_thr0.005_cl9_op3/cc_filtered_2den0.81_gausrad2.0/', list(['mean_170619-video1_013-014_opened_cc32.png']), array([  1.        , 237.9715302 ,  13.95768781,   4.        ,\n",
       "         1.58475219])),\n",
       "       (176, '/media/alessandro/DATA/tesi/Nebbia/pre-processed_data/170619/video1_013/trigger_thr0.005_cl9_op3/cc_filtered_2den0.81_gausrad2.0/', list(['mean_170619-video1_013-045_opened_cc02.png']), array([  1.        , 663.20437966,   4.99339602,   9.        ,\n",
       "         1.81656884])),\n",
       "       (177, '/media/alessandro/DATA/tesi/Nebbia/pre-processed_data/170619/video1_014/trigger_thr0.005_cl9_op3/cc_filtered_2den0.81_gausrad2.0/', list(['mean_170619-video1_014-002_opened_cc02.png']), array([  1.        , 305.67806892,   5.94981769,   4.        ,\n",
       "         2.59665351])),\n",
       "       (178, '/media/alessandro/DATA/tesi/Nebbia/pre-processed_data/170619/video1_014/trigger_thr0.005_cl9_op3/cc_filtered_2den0.81_gausrad2.0/', list(['mean_170619-video1_014-002_opened_cc03.png']), array([  1.        , 224.11950528,   6.02237434,   5.        ,\n",
       "         1.81964582])),\n",
       "       (179, '/media/alessandro/DATA/tesi/Nebbia/pre-processed_data/170619/video1_014/trigger_thr0.005_cl9_op3/cc_filtered_2den0.81_gausrad2.0/', list(['mean_170619-video1_014-002_opened_cc55.png']), array([  1.        , 167.1269786 ,   5.48810198,   4.        ,\n",
       "         1.95326586])),\n",
       "       (180, '/media/alessandro/DATA/tesi/Nebbia/pre-processed_data/170619/video1_014/trigger_thr0.005_cl9_op3/cc_filtered_2den0.81_gausrad2.0/', list(['mean_170619-video1_014-002_opened_cc59.png']), array([  1.        , 308.65648963,   7.2788578 ,   3.        ,\n",
       "         2.58346491])),\n",
       "       (181, '/media/alessandro/DATA/tesi/Nebbia/pre-processed_data/170619/video1_014/trigger_thr0.005_cl9_op3/cc_filtered_2den0.81_gausrad2.0/', list(['mean_170619-video1_014-005_opened_cc08.png']), array([  1.        , 142.84213306,   4.32420434,   3.        ,\n",
       "         2.07126375])),\n",
       "       (182, '/media/alessandro/DATA/tesi/Nebbia/pre-processed_data/170619/video1_014/trigger_thr0.005_cl9_op3/cc_filtered_2den0.81_gausrad2.0/', list(['mean_170619-video1_014-005_opened_cc15.png']), array([ 1.        , 78.19340736,  4.7787737 ,  2.        ,  1.60890422])),\n",
       "       (183, '/media/alessandro/DATA/tesi/Nebbia/pre-processed_data/170619/video1_014/trigger_thr0.005_cl9_op3/cc_filtered_2den0.81_gausrad2.0/', list(['mean_170619-video1_014-005_opened_cc39.png']), array([  1.        , 112.52030021,   2.01588102,   2.        ,\n",
       "         1.78401496])),\n",
       "       (184, '/media/alessandro/DATA/tesi/Nebbia/pre-processed_data/170619/video1_014/trigger_thr0.005_cl9_op3/cc_filtered_2den0.81_gausrad2.0/', list(['mean_170619-video1_014-017_opened_cc02.png']), array([  1.        , 173.35798201,   4.10820509,   3.        ,\n",
       "         1.76666111])),\n",
       "       (185, '/media/alessandro/DATA/tesi/Nebbia/pre-processed_data/170619/video1_014/trigger_thr0.005_cl9_op3/cc_filtered_2den0.81_gausrad2.0/', list(['mean_170619-video1_014-017_opened_cc10.png']), array([1.00000000e+00, 1.00598252e+03, 1.29079212e+01, 1.20000000e+01,\n",
       "       2.63637244e+00])),\n",
       "       (186, '/media/alessandro/DATA/tesi/Nebbia/pre-processed_data/170619/video1_014/trigger_thr0.005_cl9_op3/cc_filtered_2den0.81_gausrad2.0/', list(['mean_170619-video1_014-025_opened_cc02.png']), array([  1.        , 277.25999954,   3.17966301,   4.        ,\n",
       "         1.80461771])),\n",
       "       (187, '/media/alessandro/DATA/tesi/Nebbia/pre-processed_data/170619/video1_014/trigger_thr0.005_cl9_op3/cc_filtered_2den0.81_gausrad2.0/', list(['mean_170619-video1_014-025_opened_cc43.png']), array([  1.        , 206.52880874,  19.79639669,   3.        ,\n",
       "         1.30204298])),\n",
       "       (188, '/media/alessandro/DATA/tesi/Nebbia/pre-processed_data/170619/video1_014/trigger_thr0.005_cl9_op3/cc_filtered_2den0.81_gausrad2.0/', list(['mean_170619-video1_014-041_opened_cc13.png']), array([  1.        , 238.00583148,  11.3741639 ,   4.        ,\n",
       "         1.07256635])),\n",
       "       (189, '/media/alessandro/DATA/tesi/Nebbia/pre-processed_data/170619/video1_014/trigger_thr0.005_cl9_op3/cc_filtered_2den0.81_gausrad2.0/', list(['mean_170619-video1_014-041_opened_cc17.png']), array([  1.        , 401.40376609,   9.90200224,   9.        ,\n",
       "         1.56596566])),\n",
       "       (190, '/media/alessandro/DATA/tesi/Nebbia/pre-processed_data/170619/video1_015/trigger_thr0.005_cl9_op3/cc_filtered_2den0.81_gausrad2.0/', list(['mean_170619-video1_015-004_opened_cc09.png']), array([  1.        , 592.34241598,   9.2254127 ,   7.        ,\n",
       "         1.42532974])),\n",
       "       (191, '/media/alessandro/DATA/tesi/Nebbia/pre-processed_data/170619/video1_015/trigger_thr0.005_cl9_op3/cc_filtered_2den0.81_gausrad2.0/', list(['mean_170619-video1_015-004_opened_cc21.png']), array([  1.        , 297.39916228,   7.28016905,   4.        ,\n",
       "         2.25134486])),\n",
       "       (192, '/media/alessandro/DATA/tesi/Nebbia/pre-processed_data/170619/video1_015/trigger_thr0.005_cl9_op3/cc_filtered_2den0.81_gausrad2.0/', list(['mean_170619-video1_015-006_opened_cc40.png']), array([  1.        , 169.58187538,  10.        ,   3.        ,\n",
       "         1.58156545])),\n",
       "       (193, '/media/alessandro/DATA/tesi/Nebbia/pre-processed_data/170619/video1_015/trigger_thr0.005_cl9_op3/cc_filtered_2den0.81_gausrad2.0/', list(['mean_170619-video1_015-010_opened_cc06.png']), array([  1.        , 217.32848297,   3.67879189,   3.        ,\n",
       "         1.71598887])),\n",
       "       (194, '/media/alessandro/DATA/tesi/Nebbia/pre-processed_data/170619/video1_015/trigger_thr0.005_cl9_op3/cc_filtered_2den0.81_gausrad2.0/', list(['mean_170619-video1_015-010_opened_cc09.png']), array([  1.        , 164.76570027,   4.28600854,   2.        ,\n",
       "         1.50648534])),\n",
       "       (195, '/media/alessandro/DATA/tesi/Nebbia/pre-processed_data/170619/video1_015/trigger_thr0.005_cl9_op3/cc_filtered_2den0.81_gausrad2.0/', list(['mean_170619-video1_015-010_opened_cc10.png']), array([  1.        , 934.08871432,   9.68386466,   9.        ,\n",
       "         1.92067229])),\n",
       "       (196, '/media/alessandro/DATA/tesi/Nebbia/pre-processed_data/170619/video1_015/trigger_thr0.005_cl9_op3/cc_filtered_2den0.81_gausrad2.0/', list(['mean_170619-video1_015-010_opened_cc11.png']), array([  1.        , 489.71341657,  10.69739735,   5.        ,\n",
       "         1.89430442])),\n",
       "       (197, '/media/alessandro/DATA/tesi/Nebbia/pre-processed_data/170619/video1_015/trigger_thr0.005_cl9_op3/cc_filtered_2den0.81_gausrad2.0/', list(['mean_170619-video1_015-010_opened_cc69.png']), array([  1.        , 169.18790199,   1.46279541,   2.        ,\n",
       "         2.07862604])),\n",
       "       (198, '/media/alessandro/DATA/tesi/Nebbia/pre-processed_data/170619/video1_015/trigger_thr0.005_cl9_op3/cc_filtered_2den0.81_gausrad2.0/', list(['mean_170619-video1_015-011_opened_cc07.png']), array([1.00000000e+00, 1.06328382e+03, 1.12798119e+01, 1.10000000e+01,\n",
       "       2.29069830e+00])),\n",
       "       (199, '/media/alessandro/DATA/tesi/Nebbia/pre-processed_data/170619/video1_015/trigger_thr0.005_cl9_op3/cc_filtered_2den0.81_gausrad2.0/', list(['mean_170619-video1_015-011_opened_cc32.png']), array([ 1.        , 53.91905957,  4.58094043,  1.        ,  2.22927875])),\n",
       "       (200, '/media/alessandro/DATA/tesi/Nebbia/pre-processed_data/170619/video1_015/trigger_thr0.005_cl9_op3/cc_filtered_2den0.81_gausrad2.0/', list(['mean_170619-video1_015-025_opened_cc17.png']), array([1.00000000e+00, 1.00469952e+03, 8.85283651e+00, 1.10000000e+01,\n",
       "       2.43011624e+00])),\n",
       "       (201, '/media/alessandro/DATA/tesi/Nebbia/pre-processed_data/170619/video1_015/trigger_thr0.005_cl9_op3/cc_filtered_2den0.81_gausrad2.0/', list(['mean_170619-video1_015-037_opened_cc05.png']), array([1.00000000e+00, 1.19078394e+03, 1.34197812e+01, 8.00000000e+00,\n",
       "       2.23254503e+00])),\n",
       "       (202, '/media/alessandro/DATA/tesi/Nebbia/pre-processed_data/170619/video1_015/trigger_thr0.005_cl9_op3/cc_filtered_2den0.81_gausrad2.0/', list(['mean_170619-video1_015-037_opened_cc28.png']), array([  1.        , 271.29459174,   4.53510994,   6.        ,\n",
       "         2.05526206])),\n",
       "       (203, '/media/alessandro/DATA/tesi/Nebbia/pre-processed_data/170619/video1_015/trigger_thr0.005_cl9_op3/cc_filtered_2den0.81_gausrad2.0/', list(['mean_170619-video1_015-043_opened_cc10.png']), array([1.00000000e+00, 1.15743710e+03, 1.04082028e+01, 1.40000000e+01,\n",
       "       2.38160824e+00])),\n",
       "       (204, '/media/alessandro/DATA/tesi/Nebbia/pre-processed_data/170619/video1_016/trigger_thr0.005_cl9_op3/cc_filtered_2den0.81_gausrad2.0/', list(['mean_170619-video1_016-002_opened_cc19.png']), array([  1.        , 331.39146931,  13.32656594,   4.        ,\n",
       "         1.24614965])),\n",
       "       (205, '/media/alessandro/DATA/tesi/Nebbia/pre-processed_data/170619/video1_016/trigger_thr0.005_cl9_op3/cc_filtered_2den0.81_gausrad2.0/', list(['mean_170619-video1_016-002_opened_cc23.png']), array([  1.        , 228.47273428,   7.07080836,   3.        ,\n",
       "         1.8851168 ])),\n",
       "       (206, '/media/alessandro/DATA/tesi/Nebbia/pre-processed_data/170619/video1_016/trigger_thr0.005_cl9_op3/cc_filtered_2den0.81_gausrad2.0/', list(['mean_170619-video1_016-002_opened_cc33.png']), array([  1.        , 221.49996264,   7.31674954,   4.        ,\n",
       "         1.4944397 ])),\n",
       "       (207, '/media/alessandro/DATA/tesi/Nebbia/pre-processed_data/170619/video1_016/trigger_thr0.005_cl9_op3/cc_filtered_2den0.81_gausrad2.0/', list(['mean_170619-video1_016-005_opened_cc11.png']), array([  1.        , 468.18843488,   9.63910606,   7.        ,\n",
       "         1.46992324])),\n",
       "       (208, '/media/alessandro/DATA/tesi/Nebbia/pre-processed_data/170619/video1_016/trigger_thr0.005_cl9_op3/cc_filtered_2den0.81_gausrad2.0/', list(['mean_170619-video1_016-005_opened_cc24.png']), array([  1.        , 503.45238233,   6.40091066,   7.        ,\n",
       "         1.51012687])),\n",
       "       (209, '/media/alessandro/DATA/tesi/Nebbia/pre-processed_data/170619/video1_016/trigger_thr0.005_cl9_op3/cc_filtered_2den0.81_gausrad2.0/', list(['mean_170619-video1_016-022_opened_cc10.png']), array([  1.        , 730.65482851,   9.71344785,   7.        ,\n",
       "         2.10746332])),\n",
       "       (210, '/media/alessandro/DATA/tesi/Nebbia/pre-processed_data/170619/video1_016/trigger_thr0.005_cl9_op3/cc_filtered_2den0.81_gausrad2.0/', list(['mean_170619-video1_016-022_opened_cc13.png']), array([  1.        , 141.9652989 ,   8.58424481,   2.        ,\n",
       "         1.23150463])),\n",
       "       (211, '/media/alessandro/DATA/tesi/Nebbia/pre-processed_data/170619/video1_016/trigger_thr0.005_cl9_op3/cc_filtered_2den0.81_gausrad2.0/', list(['mean_170619-video1_016-025_opened_cc03.png']), array([  1.        , 278.75857203,   4.29357595,   5.        ,\n",
       "         2.15445552])),\n",
       "       (212, '/media/alessandro/DATA/tesi/Nebbia/pre-processed_data/170619/video1_016/trigger_thr0.005_cl9_op3/cc_filtered_2den0.81_gausrad2.0/', list(['mean_170619-video1_016-025_opened_cc10.png']), array([  1.        , 625.52324339,   7.62520019,   9.        ,\n",
       "         2.19480489])),\n",
       "       (213, '/media/alessandro/DATA/tesi/Nebbia/pre-processed_data/170619/video1_016/trigger_thr0.005_cl9_op3/cc_filtered_2den0.81_gausrad2.0/', list(['mean_170619-video1_016-025_opened_cc24.png']), array([  1.        , 429.85019728,   6.60882604,   7.        ,\n",
       "         1.60542813])),\n",
       "       (214, '/media/alessandro/DATA/tesi/Nebbia/pre-processed_data/170619/video1_016/trigger_thr0.005_cl9_op3/cc_filtered_2den0.81_gausrad2.0/', list(['mean_170619-video1_016-025_opened_cc25.png']), array([ 1.        , 30.74353304,  1.75646696,  1.        ,  3.81326596])),\n",
       "       (215, '/media/alessandro/DATA/tesi/Nebbia/pre-processed_data/170619/video1_016/trigger_thr0.005_cl9_op3/cc_filtered_2den0.81_gausrad2.0/', list(['mean_170619-video1_016-032_opened_cc14.png']), array([  1.        , 365.89845127,  15.69348971,   6.        ,\n",
       "         1.36852618])),\n",
       "       (216, '/media/alessandro/DATA/tesi/Nebbia/pre-processed_data/170619/video1_016/trigger_thr0.005_cl9_op3/cc_filtered_2den0.81_gausrad2.0/', list(['mean_170619-video1_016-032_opened_cc15.png']), array([  1.        , 328.62529686,  10.8361847 ,   4.        ,\n",
       "         1.1647449 ])),\n",
       "       (217, '/media/alessandro/DATA/tesi/Nebbia/pre-processed_data/170619/video1_016/trigger_thr0.005_cl9_op3/cc_filtered_2den0.81_gausrad2.0/', list(['mean_170619-video1_016-033_opened_cc42.png']), array([  1.        , 123.18775335,   4.70584419,   2.        ,\n",
       "         1.59930156])),\n",
       "       (218, '/media/alessandro/DATA/tesi/Nebbia/pre-processed_data/170619/video1_016/trigger_thr0.005_cl9_op3/cc_filtered_2den0.81_gausrad2.0/', list(['mean_170619-video1_016-033_opened_cc55.png']), array([  1.        , 206.77912652,   4.60754558,   3.        ,\n",
       "         1.89482475])),\n",
       "       (219, '/media/alessandro/DATA/tesi/Nebbia/pre-processed_data/170619/video1_016/trigger_thr0.005_cl9_op3/cc_filtered_2den0.81_gausrad2.0/', list(['mean_170619-video1_016-046_opened_cc04.png']), array([  1.        , 160.498082  ,   5.47407562,   3.        ,\n",
       "         2.08703238])),\n",
       "       (220, '/media/alessandro/DATA/tesi/Nebbia/pre-processed_data/170619/video1_016/trigger_thr0.005_cl9_op3/cc_filtered_2den0.81_gausrad2.0/', list(['mean_170619-video1_016-046_opened_cc11.png']), array([  1.        , 736.66575649,   9.20991836,   8.        ,\n",
       "         1.60128839])),\n",
       "       (221, '/media/alessandro/DATA/tesi/Nebbia/pre-processed_data/170619/video1_016/trigger_thr0.005_cl9_op3/cc_filtered_2den0.81_gausrad2.0/', list(['mean_170619-video1_016-046_opened_cc12.png']), array([  1.        , 255.68073736,  14.81926264,   1.        ,\n",
       "         1.66912065])),\n",
       "       (222, '/media/alessandro/DATA/tesi/Nebbia/pre-processed_data/170619/video1_016/trigger_thr0.005_cl9_op3/cc_filtered_2den0.81_gausrad2.0/', list(['mean_170619-video1_016-046_opened_cc26.png']), array([  1.        , 149.69985094,   9.25221274,   4.        ,\n",
       "         1.68639094])),\n",
       "       (223, '/media/alessandro/DATA/tesi/Nebbia/pre-processed_data/170619/video1_016/trigger_thr0.005_cl9_op3/cc_filtered_2den0.81_gausrad2.0/', list(['mean_170619-video1_016-046_opened_cc39.png']), array([  1.        , 199.30073439,  18.4       ,   5.        ,\n",
       "         1.55202449])),\n",
       "       (224, '/media/alessandro/DATA/tesi/Nebbia/pre-processed_data/170619/video1_016/trigger_thr0.005_cl9_op3/cc_filtered_2den0.81_gausrad2.0/', list(['mean_170619-video1_016-047_opened_cc04.png']), array([ 1.        , 86.73727351,  3.26272649,  1.        ,  2.69870619])),\n",
       "       (225, '/media/alessandro/DATA/tesi/Nebbia/pre-processed_data/170619/video1_016/trigger_thr0.005_cl9_op3/cc_filtered_2den0.81_gausrad2.0/', list(['mean_170619-video1_016-047_opened_cc08.png']), array([1.00000000e+00, 1.47064621e+03, 8.55711202e+00, 1.70000000e+01,\n",
       "       2.96751650e+00])),\n",
       "       (226, '/media/alessandro/DATA/tesi/Nebbia/pre-processed_data/170619/video1_017/trigger_thr0.005_cl9_op3/cc_filtered_2den0.81_gausrad2.0/', list(['mean_170619-video1_017-016_opened_cc18.png']), array([  1.        , 363.81769228,   4.2905522 ,   4.        ,\n",
       "         2.37308299])),\n",
       "       (227, '/media/alessandro/DATA/tesi/Nebbia/pre-processed_data/170619/video1_017/trigger_thr0.005_cl9_op3/cc_filtered_2den0.81_gausrad2.0/', list(['mean_170619-video1_017-016_opened_cc31.png']), array([  1.        , 120.04958255,   2.11353181,   2.        ,\n",
       "         2.21971757])),\n",
       "       (228, '/media/alessandro/DATA/tesi/Nebbia/pre-processed_data/170619/video1_017/trigger_thr0.005_cl9_op3/cc_filtered_2den0.81_gausrad2.0/', list(['mean_170619-video1_017-022_opened_cc10.png']), array([  1.        , 200.16285155,   3.56165543,   3.        ,\n",
       "         1.58495432])),\n",
       "       (229, '/media/alessandro/DATA/tesi/Nebbia/pre-processed_data/170619/video1_017/trigger_thr0.005_cl9_op3/cc_filtered_2den0.81_gausrad2.0/', list(['mean_170619-video1_017-022_opened_cc30.png']), array([  1.        , 449.28319554,   5.8535648 ,   8.        ,\n",
       "         1.7894617 ])),\n",
       "       (230, '/media/alessandro/DATA/tesi/Nebbia/pre-processed_data/170619/video1_017/trigger_thr0.005_cl9_op3/cc_filtered_2den0.81_gausrad2.0/', list(['mean_170619-video1_017-022_opened_cc45.png']), array([  1.        , 159.417784  ,   6.67569689,   4.        ,\n",
       "         1.47350312])),\n",
       "       (231, '/media/alessandro/DATA/tesi/Nebbia/pre-processed_data/170619/video1_017/trigger_thr0.005_cl9_op3/cc_filtered_2den0.81_gausrad2.0/', list(['mean_170619-video1_017-022_opened_cc74.png']), array([  1.        , 214.58802088,   3.45225321,   4.        ,\n",
       "         1.79297122])),\n",
       "       (232, '/media/alessandro/DATA/tesi/Nebbia/pre-processed_data/170619/video1_017/trigger_thr0.005_cl9_op3/cc_filtered_2den0.81_gausrad2.0/', list(['mean_170619-video1_017-024_opened_cc22.png']), array([  1.        , 820.45770693,   9.4701757 ,  11.        ,\n",
       "         2.21759905])),\n",
       "       (233, '/media/alessandro/DATA/tesi/Nebbia/pre-processed_data/170619/video1_017/trigger_thr0.005_cl9_op3/cc_filtered_2den0.81_gausrad2.0/', list(['mean_170619-video1_017-024_opened_cc39.png']), array([ 1.        , 83.88217146,  7.61782854,  1.        ,  1.99493401])),\n",
       "       (234, '/media/alessandro/DATA/tesi/Nebbia/pre-processed_data/170619/video1_017/trigger_thr0.005_cl9_op3/cc_filtered_2den0.81_gausrad2.0/', list(['mean_170619-video1_017-033_opened_cc01.png']), array([  1.        , 161.19441276,   4.90059291,   3.        ,\n",
       "         1.30866524])),\n",
       "       (235, '/media/alessandro/DATA/tesi/Nebbia/pre-processed_data/170619/video1_017/trigger_thr0.005_cl9_op3/cc_filtered_2den0.81_gausrad2.0/', list(['mean_170619-video1_017-033_opened_cc17.png']), array([ 1.        , 68.03075468,  2.96924532,  1.        ,  1.94373585])),\n",
       "       (236, '/media/alessandro/DATA/tesi/Nebbia/pre-processed_data/170619/video1_017/trigger_thr0.005_cl9_op3/cc_filtered_2den0.81_gausrad2.0/', list(['mean_170619-video1_017-033_opened_cc31.png']), array([ 1.        , 75.30902761,  2.19097239,  1.        ,  5.64465027])),\n",
       "       (237, '/media/alessandro/DATA/tesi/Nebbia/pre-processed_data/170619/video1_017/trigger_thr0.005_cl9_op3/cc_filtered_2den0.81_gausrad2.0/', list(['mean_170619-video1_017-033_opened_cc44.png']), array([  1.        , 194.99960256,   2.2890348 ,   3.        ,\n",
       "         2.59423612])),\n",
       "       (238, '/media/alessandro/DATA/tesi/Nebbia/pre-processed_data/170619/video1_017/trigger_thr0.005_cl9_op3/cc_filtered_2den0.81_gausrad2.0/', list(['mean_170619-video1_017-033_opened_cc61.png']), array([ 1.        , 50.98968853,  2.51031147,  1.        ,  3.63286489])),\n",
       "       (239, '/media/alessandro/DATA/tesi/Nebbia/pre-processed_data/170619/video1_017/trigger_thr0.005_cl9_op3/cc_filtered_2den0.81_gausrad2.0/', list(['mean_170619-video1_017-034_opened_cc16.png']), array([  1.        , 161.45053008,  10.13054964,   2.        ,\n",
       "         1.00040832])),\n",
       "       (240, '/media/alessandro/DATA/tesi/Nebbia/pre-processed_data/170619/video1_017/trigger_thr0.005_cl9_op3/cc_filtered_2den0.81_gausrad2.0/', list(['mean_170619-video1_017-034_opened_cc26.png']), array([  1.        , 333.12564354,   5.85232696,   5.        ,\n",
       "         2.10822125])),\n",
       "       (241, '/media/alessandro/DATA/tesi/Nebbia/pre-processed_data/170619/video1_017/trigger_thr0.005_cl9_op3/cc_filtered_2den0.81_gausrad2.0/', list(['mean_170619-video1_017-040_opened_cc03.png']), array([ 1.        , 87.96321457,  4.37699485,  2.        ,  1.91043894])),\n",
       "       (242, '/media/alessandro/DATA/tesi/Nebbia/pre-processed_data/170619/video1_017/trigger_thr0.005_cl9_op3/cc_filtered_2den0.81_gausrad2.0/', list(['mean_170619-video1_017-040_opened_cc26.png']), array([  1.        , 235.1356179 ,   9.07770661,   4.        ,\n",
       "         1.90108306])),\n",
       "       (243, '/media/alessandro/DATA/tesi/Nebbia/pre-processed_data/170619/video1_017/trigger_thr0.005_cl9_op3/cc_filtered_2den0.81_gausrad2.0/', list(['mean_170619-video1_017-041_opened_cc14.png']), array([ 1.        , 86.43282534, 12.06717466,  1.        ,  1.0157327 ])),\n",
       "       (244, '/media/alessandro/DATA/tesi/Nebbia/pre-processed_data/170619/video1_017/trigger_thr0.005_cl9_op3/cc_filtered_2den0.81_gausrad2.0/', list(['mean_170619-video1_017-041_opened_cc54.png']), array([ 1.        , 44.58108563,  4.41891437,  1.        ,  2.120506  ])),\n",
       "       (245, '/media/alessandro/DATA/tesi/Nebbia/pre-processed_data/170619/video1_017/trigger_thr0.005_cl9_op3/cc_filtered_2den0.81_gausrad2.0/', list(['mean_170619-video1_017-041_opened_cc57.png']), array([  1.        , 171.29829154,   5.6600673 ,   3.        ,\n",
       "         1.72387777])),\n",
       "       (246, '/media/alessandro/DATA/tesi/Nebbia/pre-processed_data/170619/video1_017/trigger_thr0.005_cl9_op3/cc_filtered_2den0.81_gausrad2.0/', list(['mean_170619-video1_017-001_opened_cc06.png']), array([  1.        , 189.74050454,   5.90890316,   3.        ,\n",
       "         1.94608205])),\n",
       "       (247, '/media/alessandro/DATA/tesi/Nebbia/pre-processed_data/170619/video1_017/trigger_thr0.005_cl9_op3/cc_filtered_2den0.81_gausrad2.0/', list(['mean_170619-video1_017-010_opened_cc60.png']), array([  1.        , 106.68252807,   4.54907008,   3.        ,\n",
       "         1.40444712])),\n",
       "       (248, '/media/alessandro/DATA/tesi/Nebbia/pre-processed_data/170619/video1_017/trigger_thr0.005_cl9_op3/cc_filtered_2den0.81_gausrad2.0/', list(['mean_170619-video1_017-001_opened_cc15.png']), array([  1.        , 486.9863319 ,   9.81727313,   5.        ,\n",
       "         1.60046602])),\n",
       "       (249, '/media/alessandro/DATA/tesi/Nebbia/pre-processed_data/170619/video1_017/trigger_thr0.005_cl9_op3/cc_filtered_2den0.81_gausrad2.0/', list(['mean_170619-video1_017-001_opened_cc29.png']), array([1.00000000e+00, 1.23800388e+03, 6.21917127e+00, 2.10000000e+01,\n",
       "       3.64932586e+00])),\n",
       "       (250, '/media/alessandro/DATA/tesi/Nebbia/pre-processed_data/170619/video1_017/trigger_thr0.005_cl9_op3/cc_filtered_2den0.81_gausrad2.0/', list(['mean_170619-video1_017-001_opened_cc44.png']), array([  1.        , 242.58726787,   7.20688802,   4.        ,\n",
       "         2.03224381])),\n",
       "       (251, '/media/alessandro/DATA/tesi/Nebbia/pre-processed_data/170619/video1_017/trigger_thr0.005_cl9_op3/cc_filtered_2den0.81_gausrad2.0/', list(['mean_170619-video1_017-001_opened_cc50.png']), array([ 1.        , 81.28180629,  8.54913377,  3.        ,  1.40685773])),\n",
       "       (252, '/media/alessandro/DATA/tesi/Nebbia/pre-processed_data/170619/video1_017/trigger_thr0.005_cl9_op3/cc_filtered_2den0.81_gausrad2.0/', list(['mean_170619-video1_017-001_opened_cc55.png']), array([  1.        , 198.1777464 ,   4.64298492,   4.        ,\n",
       "         2.0552285 ])),\n",
       "       (253, '/media/alessandro/DATA/tesi/Nebbia/pre-processed_data/170619/video1_017/trigger_thr0.005_cl9_op3/cc_filtered_2den0.81_gausrad2.0/', list(['mean_170619-video1_017-001_opened_cc64.png']), array([ 1.        , 87.74874728,  3.28470116,  2.        ,  2.35784927])),\n",
       "       (254, '/media/alessandro/DATA/tesi/Nebbia/pre-processed_data/170619/video1_017/trigger_thr0.005_cl9_op3/cc_filtered_2den0.81_gausrad2.0/', list(['mean_170619-video1_017-010_opened_cc04.png']), array([  1.        , 205.24127928,   2.31440615,   3.        ,\n",
       "         1.45167427])),\n",
       "       (255, '/media/alessandro/DATA/tesi/Nebbia/pre-processed_data/170619/video1_017/trigger_thr0.005_cl9_op3/cc_filtered_2den0.81_gausrad2.0/', list(['mean_170619-video1_017-010_opened_cc09.png']), array([  1.        , 104.03162122,   2.48466835,   2.        ,\n",
       "         2.19317914])),\n",
       "       (256, '/media/alessandro/DATA/tesi/Nebbia/pre-processed_data/170619/video1_017/trigger_thr0.005_cl9_op3/cc_filtered_2den0.81_gausrad2.0/', list(['mean_170619-video1_017-010_opened_cc13.png']), array([  1.        , 197.17251354,   7.52315808,   2.        ,\n",
       "         1.43277936])),\n",
       "       (257, '/media/alessandro/DATA/tesi/Nebbia/pre-processed_data/170619/video1_017/trigger_thr0.005_cl9_op3/cc_filtered_2den0.81_gausrad2.0/', list(['mean_170619-video1_017-010_opened_cc16.png']), array([  1.        , 308.35165594,   9.84545497,   4.        ,\n",
       "         1.39691622])),\n",
       "       (258, '/media/alessandro/DATA/tesi/Nebbia/pre-processed_data/170619/video1_017/trigger_thr0.005_cl9_op3/cc_filtered_2den0.81_gausrad2.0/', list(['mean_170619-video1_017-010_opened_cc53.png']), array([  1.        , 146.7913824 ,   7.23285467,   3.        ,\n",
       "         1.38347061])),\n",
       "       (259, '/media/alessandro/DATA/tesi/Nebbia/pre-processed_data/170619/video1_018/trigger_thr0.005_cl9_op3/cc_filtered_2den0.81_gausrad2.0/', list(['mean_170619-video1_018-003_opened_cc33.png']), array([ 1.        , 86.15559957,  5.3258235 ,  2.        ,  1.83809723])),\n",
       "       (260, '/media/alessandro/DATA/tesi/Nebbia/pre-processed_data/170619/video1_018/trigger_thr0.005_cl9_op3/cc_filtered_2den0.81_gausrad2.0/', list(['mean_170619-video1_018-003_opened_cc39.png']), array([ 1.        , 96.08631065,  5.71778657,  2.        ,  1.20107888])),\n",
       "       (261, '/media/alessandro/DATA/tesi/Nebbia/pre-processed_data/170619/video1_018/trigger_thr0.005_cl9_op3/cc_filtered_2den0.81_gausrad2.0/', list(['mean_170619-video1_018-003_opened_cc44.png']), array([ 1.        , 77.01535373,  8.5       ,  2.        ,  1.13887672])),\n",
       "       (262, '/media/alessandro/DATA/tesi/Nebbia/pre-processed_data/170619/video1_018/trigger_thr0.005_cl9_op3/cc_filtered_2den0.81_gausrad2.0/', list(['mean_170619-video1_018-003_opened_cc63.png']), array([ 1.        , 43.3146583 ,  1.6853417 ,  1.        ,  9.68545204])),\n",
       "       (263, '/media/alessandro/DATA/tesi/Nebbia/pre-processed_data/170619/video1_018/trigger_thr0.005_cl9_op3/cc_filtered_2den0.81_gausrad2.0/', list(['mean_170619-video1_018-004_opened_cc32.png']), array([  1.        , 328.03518915,   4.4617717 ,   6.        ,\n",
       "         1.913075  ])),\n",
       "       (264, '/media/alessandro/DATA/tesi/Nebbia/pre-processed_data/170619/video1_018/trigger_thr0.005_cl9_op3/cc_filtered_2den0.81_gausrad2.0/', list(['mean_170619-video1_018-004_opened_cc49.png']), array([  1.        , 320.95882758,   5.58554846,   5.        ,\n",
       "         1.91382868])),\n",
       "       (265, '/media/alessandro/DATA/tesi/Nebbia/pre-processed_data/170619/video1_018/trigger_thr0.005_cl9_op3/cc_filtered_2den0.81_gausrad2.0/', list(['mean_170619-video1_018-016_opened_cc03.png']), array([  1.        , 948.98320051,   6.24179071,  17.        ,\n",
       "         3.66010141])),\n",
       "       (266, '/media/alessandro/DATA/tesi/Nebbia/pre-processed_data/170619/video1_018/trigger_thr0.005_cl9_op3/cc_filtered_2den0.81_gausrad2.0/', list(['mean_170619-video1_018-016_opened_cc34.png']), array([  1.        , 270.21921849,   7.1353707 ,   5.        ,\n",
       "         1.56068374])),\n",
       "       (267, '/media/alessandro/DATA/tesi/Nebbia/pre-processed_data/170619/video1_018/trigger_thr0.005_cl9_op3/cc_filtered_2den0.81_gausrad2.0/', list(['mean_170619-video1_018-016_opened_cc56.png']), array([ 1.        , 24.47671898,  3.02328102,  1.        ,  2.58007272])),\n",
       "       (268, '/media/alessandro/DATA/tesi/Nebbia/pre-processed_data/170619/video1_018/trigger_thr0.005_cl9_op3/cc_filtered_2den0.81_gausrad2.0/', list(['mean_170619-video1_018-021_opened_cc01.png']), array([1.00000000e+00, 1.08663392e+03, 4.68667981e+00, 1.60000000e+01,\n",
       "       2.64864910e+00])),\n",
       "       (269, '/media/alessandro/DATA/tesi/Nebbia/pre-processed_data/170619/video1_018/trigger_thr0.005_cl9_op3/cc_filtered_2den0.81_gausrad2.0/', list(['mean_170619-video1_018-021_opened_cc20.png']), array([  1.        , 371.32436215,   7.88403702,   5.        ,\n",
       "         1.97042434])),\n",
       "       (270, '/media/alessandro/DATA/tesi/Nebbia/pre-processed_data/170619/video1_018/trigger_thr0.005_cl9_op3/cc_filtered_2den0.81_gausrad2.0/', list(['mean_170619-video1_018-022_opened_cc25.png']), array([  1.        , 177.09519407,   5.5716956 ,   4.        ,\n",
       "         1.40441208])),\n",
       "       (271, '/media/alessandro/DATA/tesi/Nebbia/pre-processed_data/170619/video1_018/trigger_thr0.005_cl9_op3/cc_filtered_2den0.81_gausrad2.0/', list(['mean_170619-video1_018-022_opened_cc35.png']), array([  1.        , 355.83008544,   6.2693757 ,   7.        ,\n",
       "         1.75892905])),\n",
       "       (272, '/media/alessandro/DATA/tesi/Nebbia/pre-processed_data/170619/video1_018/trigger_thr0.005_cl9_op3/cc_filtered_2den0.81_gausrad2.0/', list(['mean_170619-video1_018-022_opened_cc39.png']), array([  1.        , 667.2158214 ,   6.01323122,   8.        ,\n",
       "         2.35367434])),\n",
       "       (273, '/media/alessandro/DATA/tesi/Nebbia/pre-processed_data/170619/video1_018/trigger_thr0.005_cl9_op3/cc_filtered_2den0.81_gausrad2.0/', list(['mean_170619-video1_018-022_opened_cc59.png']), array([ 1.        , 92.64689162,  5.0669054 ,  2.        ,  1.29025158])),\n",
       "       (274, '/media/alessandro/DATA/tesi/Nebbia/pre-processed_data/170619/video1_018/trigger_thr0.005_cl9_op3/cc_filtered_2den0.81_gausrad2.0/', list(['mean_170619-video1_018-022_opened_cc61.png']), array([  1.        , 145.35265672,   7.11263325,   3.        ,\n",
       "         1.22836643])),\n",
       "       (275, '/media/alessandro/DATA/tesi/Nebbia/pre-processed_data/170619/video1_018/trigger_thr0.005_cl9_op3/cc_filtered_2den0.81_gausrad2.0/', list(['mean_170619-video1_018-027_opened_cc09.png']), array([  1.        , 677.67857537,   8.72983377,  11.        ,\n",
       "         1.91888408])),\n",
       "       (276, '/media/alessandro/DATA/tesi/Nebbia/pre-processed_data/170619/video1_018/trigger_thr0.005_cl9_op3/cc_filtered_2den0.81_gausrad2.0/', list(['mean_170619-video1_018-027_opened_cc11.png']), array([  1.        , 125.62363338,  10.27556653,   2.        ,\n",
       "         1.19506138])),\n",
       "       (277, '/media/alessandro/DATA/tesi/Nebbia/pre-processed_data/170619/video1_018/trigger_thr0.005_cl9_op3/cc_filtered_2den0.81_gausrad2.0/', list(['mean_170619-video1_018-027_opened_cc23.png']), array([1.00000000e+00, 1.33789609e+03, 5.69650234e+00, 2.20000000e+01,\n",
       "       4.14147790e+00])),\n",
       "       (278, '/media/alessandro/DATA/tesi/Nebbia/pre-processed_data/170619/video1_018/trigger_thr0.005_cl9_op3/cc_filtered_2den0.81_gausrad2.0/', list(['mean_170619-video1_018-027_opened_cc25.png']), array([  1.        , 417.99610929,   7.75932675,   8.        ,\n",
       "         1.41627701])),\n",
       "       (279, '/media/alessandro/DATA/tesi/Nebbia/pre-processed_data/170619/video1_018/trigger_thr0.005_cl9_op3/cc_filtered_2den0.81_gausrad2.0/', list(['mean_170619-video1_018-027_opened_cc42.png']), array([  1.        , 171.01729571,   2.66339901,   3.        ,\n",
       "         2.09920149])),\n",
       "       (280, '/media/alessandro/DATA/tesi/Nebbia/pre-processed_data/170619/video1_018/trigger_thr0.005_cl9_op3/cc_filtered_2den0.81_gausrad2.0/', list(['mean_170619-video1_018-030_opened_cc22.png']), array([  1.        , 132.21488254,   6.        ,   3.        ,\n",
       "         1.53894373])),\n",
       "       (281, '/media/alessandro/DATA/tesi/Nebbia/pre-processed_data/170619/video1_018/trigger_thr0.005_cl9_op3/cc_filtered_2den0.81_gausrad2.0/', list(['mean_170619-video1_018-027_opened_cc50.png']), array([  1.        , 484.4761512 ,   6.83158097,   8.        ,\n",
       "         2.81003333])),\n",
       "       (282, '/media/alessandro/DATA/tesi/Nebbia/pre-processed_data/170619/video1_018/trigger_thr0.005_cl9_op3/cc_filtered_2den0.81_gausrad2.0/', list(['mean_170619-video1_018-027_opened_cc54.png']), array([  1.        , 142.84009259,   5.08592523,   2.        ,\n",
       "         1.81847586])),\n",
       "       (283, '/media/alessandro/DATA/tesi/Nebbia/pre-processed_data/170619/video1_018/trigger_thr0.005_cl9_op3/cc_filtered_2den0.81_gausrad2.0/', list(['mean_170619-video1_018-027_opened_cc61.png']), array([ 1.        , 19.88748219, 11.11251781,  1.        ,  1.05403445])),\n",
       "       (284, '/media/alessandro/DATA/tesi/Nebbia/pre-processed_data/170619/video1_018/trigger_thr0.005_cl9_op3/cc_filtered_2den0.81_gausrad2.0/', list(['mean_170619-video1_018-030_opened_cc01.png']), array([  1.        , 147.02490662,   6.47509338,   1.        ,\n",
       "         1.30586956])),\n",
       "       (285, '/media/alessandro/DATA/tesi/Nebbia/pre-processed_data/170619/video1_018/trigger_thr0.005_cl9_op3/cc_filtered_2den0.81_gausrad2.0/', list(['mean_170619-video1_018-030_opened_cc06.png']), array([1.00000000e+00, 1.03621191e+03, 8.21852673e+00, 1.80000000e+01,\n",
       "       2.48489207e+00])),\n",
       "       (286, '/media/alessandro/DATA/tesi/Nebbia/pre-processed_data/170619/video1_018/trigger_thr0.005_cl9_op3/cc_filtered_2den0.81_gausrad2.0/', list(['mean_170619-video1_018-030_opened_cc13.png']), array([  1.        , 530.79648111,   8.81297404,   4.        ,\n",
       "         1.86604266])),\n",
       "       (287, '/media/alessandro/DATA/tesi/Nebbia/pre-processed_data/170619/video1_018/trigger_thr0.005_cl9_op3/cc_filtered_2den0.81_gausrad2.0/', list(['mean_170619-video1_018-030_opened_cc46.png']), array([  1.        , 169.11381834,   3.99173723,   3.        ,\n",
       "         1.92063219])),\n",
       "       (288, '/media/alessandro/DATA/tesi/Nebbia/pre-processed_data/170619/video1_018/trigger_thr0.005_cl9_op3/cc_filtered_2den0.81_gausrad2.0/', list(['mean_170619-video1_018-030_opened_cc47.png']), array([ 1.        , 16.32455532,  3.67544468,  1.        ,  1.60075435])),\n",
       "       (289, '/media/alessandro/DATA/tesi/Nebbia/pre-processed_data/170619/video1_018/trigger_thr0.005_cl9_op3/cc_filtered_2den0.81_gausrad2.0/', list(['mean_170619-video1_018-033_opened_cc01.png']), array([1.00000000e+00, 1.70163480e+03, 6.56082573e+00, 2.10000000e+01,\n",
       "       3.67893735e+00])),\n",
       "       (290, '/media/alessandro/DATA/tesi/Nebbia/pre-processed_data/170619/video1_018/trigger_thr0.005_cl9_op3/cc_filtered_2den0.81_gausrad2.0/', list(['mean_170619-video1_018-033_opened_cc09.png']), array([  1.        , 248.06048684,  12.13387463,   6.        ,\n",
       "         1.79297932])),\n",
       "       (291, '/media/alessandro/DATA/tesi/Nebbia/pre-processed_data/170619/video1_018/trigger_thr0.005_cl9_op3/cc_filtered_2den0.81_gausrad2.0/', list(['mean_170619-video1_018-033_opened_cc12.png']), array([  1.        , 146.3819258 ,   4.56022618,   2.        ,\n",
       "         1.90880633])),\n",
       "       (292, '/media/alessandro/DATA/tesi/Nebbia/pre-processed_data/170619/video1_018/trigger_thr0.005_cl9_op3/cc_filtered_2den0.81_gausrad2.0/', list(['mean_170619-video1_018-033_opened_cc24.png']), array([  1.        , 368.369677  ,   2.50635696,   6.        ,\n",
       "         2.81847713])),\n",
       "       (293, '/media/alessandro/DATA/tesi/Nebbia/pre-processed_data/170619/video1_018/trigger_thr0.005_cl9_op3/cc_filtered_2den0.81_gausrad2.0/', list(['mean_170619-video1_018-033_opened_cc34.png']), array([  1.        , 515.72557504,   6.62505902,   9.        ,\n",
       "         2.64193414])),\n",
       "       (294, '/media/alessandro/DATA/tesi/Nebbia/pre-processed_data/170619/video1_018/trigger_thr0.005_cl9_op3/cc_filtered_2den0.81_gausrad2.0/', list(['mean_170619-video1_018-033_opened_cc50.png']), array([  1.        , 593.70394753,   8.06024863,   9.        ,\n",
       "         2.56173543])),\n",
       "       (295, '/media/alessandro/DATA/tesi/Nebbia/pre-processed_data/170619/video1_018/trigger_thr0.005_cl9_op3/cc_filtered_2den0.81_gausrad2.0/', list(['mean_170619-video1_018-033_opened_cc84.png']), array([  1.        , 150.65839497,  10.21611782,   5.        ,\n",
       "         1.13072621])),\n",
       "       (296, '/media/alessandro/DATA/tesi/Nebbia/pre-processed_data/170619/video1_018/trigger_thr0.005_cl9_op3/cc_filtered_2den0.81_gausrad2.0/', list(['mean_170619-video1_018-048_opened_cc27.png']), array([  1.        , 184.70738937,   6.86879652,   3.        ,\n",
       "         1.41493579])),\n",
       "       (297, '/media/alessandro/DATA/tesi/Nebbia/pre-processed_data/170619/video1_018/trigger_thr0.005_cl9_op3/cc_filtered_2den0.81_gausrad2.0/', list(['mean_170619-video1_018-048_opened_cc66.png']), array([ 1.        , 82.42163081,  5.0455963 ,  3.        ,  1.59658703])),\n",
       "       (298, '/media/alessandro/DATA/tesi/Nebbia/pre-processed_data/170619/video1_020/trigger_thr0.005_cl9_op3/cc_filtered_2den0.81_gausrad2.0/', list(['mean_170619-video1_020-006_opened_cc03.png']), array([ 1.        , 98.35349507,  4.64650493,  1.        ,  2.08508993])),\n",
       "       (299, '/media/alessandro/DATA/tesi/Nebbia/pre-processed_data/170619/video1_020/trigger_thr0.005_cl9_op3/cc_filtered_2den0.81_gausrad2.0/', list(['mean_170619-video1_020-006_opened_cc40.png']), array([  1.        , 108.20128333,   4.1507576 ,   2.        ,\n",
       "         1.38845168])),\n",
       "       (300, '/media/alessandro/DATA/tesi/Nebbia/pre-processed_data/170619/video1_020/trigger_thr0.005_cl9_op3/cc_filtered_2den0.81_gausrad2.0/', list(['mean_170619-video1_020-006_opened_cc54.png']), array([  1.        , 103.99514493,   7.58743652,   2.        ,\n",
       "         1.57405876])),\n",
       "       (301, '/media/alessandro/DATA/tesi/Nebbia/pre-processed_data/170619/video1_020/trigger_thr0.005_cl9_op3/cc_filtered_2den0.81_gausrad2.0/', list(['mean_170619-video1_020-006_opened_cc74.png']), array([  1.        , 273.11802916,   4.76145439,   4.        ,\n",
       "         1.89807231])),\n",
       "       (302, '/media/alessandro/DATA/tesi/Nebbia/pre-processed_data/170619/video1_020/trigger_thr0.005_cl9_op3/cc_filtered_2den0.81_gausrad2.0/', list(['mean_170619-video1_020-008_opened_cc37.png']), array([  1.        , 364.7681583 ,   3.77918337,   5.        ,\n",
       "         2.15383388])),\n",
       "       (303, '/media/alessandro/DATA/tesi/Nebbia/pre-processed_data/170619/video1_020/trigger_thr0.005_cl9_op3/cc_filtered_2den0.81_gausrad2.0/', list(['mean_170619-video1_020-008_opened_cc62.png']), array([  1.        , 101.01288637,   3.27888895,   2.        ,\n",
       "         1.61957842])),\n",
       "       (304, '/media/alessandro/DATA/tesi/Nebbia/pre-processed_data/170619/video1_020/trigger_thr0.005_cl9_op3/cc_filtered_2den0.81_gausrad2.0/', list(['mean_170619-video1_020-008_opened_cc65.png']), array([  1.        , 351.36320293,   2.62069572,   6.        ,\n",
       "         1.92150989])),\n",
       "       (305, '/media/alessandro/DATA/tesi/Nebbia/pre-processed_data/170619/video1_020/trigger_thr0.005_cl9_op3/cc_filtered_2den0.81_gausrad2.0/', list(['mean_170619-video1_020-010_opened_cc06.png']), array([ 1.        , 58.86453422,  3.63546578,  1.        ,  2.30885699])),\n",
       "       (306, '/media/alessandro/DATA/tesi/Nebbia/pre-processed_data/170619/video1_020/trigger_thr0.005_cl9_op3/cc_filtered_2den0.81_gausrad2.0/', list(['mean_170619-video1_020-010_opened_cc17.png']), array([  1.        , 114.5710824 ,  11.15500744,   2.        ,\n",
       "         1.30018241])),\n",
       "       (307, '/media/alessandro/DATA/tesi/Nebbia/pre-processed_data/170619/video1_020/trigger_thr0.005_cl9_op3/cc_filtered_2den0.81_gausrad2.0/', list(['mean_170619-video1_020-010_opened_cc22.png']), array([ 1.       , 34.6322658,  2.3677342,  1.       ,  4.2956039])),\n",
       "       (308, '/media/alessandro/DATA/tesi/Nebbia/pre-processed_data/170619/video1_020/trigger_thr0.005_cl9_op3/cc_filtered_2den0.81_gausrad2.0/', list(['mean_170619-video1_020-010_opened_cc51.png']), array([  1.        , 137.28741639,   1.89037402,   2.        ,\n",
       "         2.45587196])),\n",
       "       (309, '/media/alessandro/DATA/tesi/Nebbia/pre-processed_data/170619/video1_020/trigger_thr0.005_cl9_op3/cc_filtered_2den0.81_gausrad2.0/', list(['mean_170619-video1_020-022_opened_cc01.png']), array([  1.        , 295.91018213,   4.65936973,   6.        ,\n",
       "         1.90810544])),\n",
       "       (310, '/media/alessandro/DATA/tesi/Nebbia/pre-processed_data/170619/video1_020/trigger_thr0.005_cl9_op3/cc_filtered_2den0.81_gausrad2.0/', list(['mean_170619-video1_020-022_opened_cc24.png']), array([  1.        , 193.42017444,   4.45778238,   4.        ,\n",
       "         1.23622085])),\n",
       "       (312, '/media/alessandro/DATA/tesi/Nebbia/pre-processed_data/170619/video1_020/trigger_thr0.005_cl9_op3/cc_filtered_2den0.81_gausrad2.0/', list(['mean_170619-video1_020-029_opened_cc40.png']), array([ 1.        , 76.83828789, 15.16171211,  1.        ,  1.        ])),\n",
       "       (313, '/media/alessandro/DATA/tesi/Nebbia/pre-processed_data/170619/video1_020/trigger_thr0.005_cl9_op3/cc_filtered_2den0.81_gausrad2.0/', list(['mean_170619-video1_020-029_opened_cc41.png']), array([  1.        , 110.52458121,   3.22135848,   2.        ,\n",
       "         1.90108059])),\n",
       "       (314, '/media/alessandro/DATA/tesi/Nebbia/pre-processed_data/170619/video1_020/trigger_thr0.005_cl9_op3/cc_filtered_2den0.81_gausrad2.0/', list(['mean_170619-video1_020-008_opened_cc59.png']), array([  1.        , 512.9044164 ,   5.33996181,   9.        ,\n",
       "         2.24009904])),\n",
       "       (315, '/media/alessandro/DATA/tesi/Nebbia/pre-processed_data/170619/video1_020/trigger_thr0.005_cl9_op3/cc_filtered_2den0.81_gausrad2.0/', list(['mean_170619-video1_020-015_opened_cc40.png']), array([  1.        , 102.35516516,   3.32338562,   2.        ,\n",
       "         2.47593211])),\n",
       "       (316, '/media/alessandro/DATA/tesi/Nebbia/pre-processed_data/170619/video1_020/trigger_thr0.005_cl9_op3/cc_filtered_2den0.81_gausrad2.0/', list(['mean_170619-video1_020-029_opened_cc48.png']), array([  1.        , 148.57812593,   3.03960118,   3.        ,\n",
       "         2.74112588])),\n",
       "       (317, '/media/alessandro/DATA/tesi/Nebbia/pre-processed_data/170619/video1_020/trigger_thr0.005_cl9_op3/cc_filtered_2den0.81_gausrad2.0/', list(['mean_170619-video1_020-036_opened_cc25.png']), array([ 1.        , 80.63251731,  7.55929099,  2.        ,  1.31062147])),\n",
       "       (318, '/media/alessandro/DATA/tesi/Nebbia/pre-processed_data/170619/video1_020/trigger_thr0.005_cl9_op3/cc_filtered_2den0.81_gausrad2.0/', list(['mean_170619-video1_020-036_opened_cc40.png']), array([  1.        , 102.40025858,   6.34039675,   2.        ,\n",
       "         1.46151924])),\n",
       "       (319, '/media/alessandro/DATA/tesi/Nebbia/pre-processed_data/170619/video1_020/trigger_thr0.005_cl9_op3/cc_filtered_2den0.81_gausrad2.0/', list(['mean_170619-video1_020-036_opened_cc42.png']), array([  1.        , 229.87012244,   4.42738922,   4.        ,\n",
       "         1.41687434])),\n",
       "       (320, '/media/alessandro/DATA/tesi/Nebbia/pre-processed_data/170619/video1_020/trigger_thr0.005_cl9_op3/cc_filtered_2den0.81_gausrad2.0/', list(['mean_170619-video1_020-036_opened_cc64.png']), array([  1.        , 121.26977953,   1.50828881,   2.        ,\n",
       "         2.97108509])),\n",
       "       (321, '/media/alessandro/DATA/tesi/Nebbia/pre-processed_data/170619/video1_020/trigger_thr0.005_cl9_op3/cc_filtered_2den0.81_gausrad2.0/', list(['mean_170619-video1_020-037_opened_cc31.png']), array([  1.        , 428.92597522,   5.73934802,   9.        ,\n",
       "         1.5999244 ])),\n",
       "       (322, '/media/alessandro/DATA/tesi/Nebbia/pre-processed_data/170619/video1_020/trigger_thr0.005_cl9_op3/cc_filtered_2den0.81_gausrad2.0/', list(['mean_170619-video1_020-037_opened_cc39.png']), array([  1.        , 107.30780954,   9.2138439 ,   2.        ,\n",
       "         1.32468682])),\n",
       "       (323, '/media/alessandro/DATA/tesi/Nebbia/pre-processed_data/170619/video1_020/trigger_thr0.005_cl9_op3/cc_filtered_2den0.81_gausrad2.0/', list(['mean_170619-video1_020-037_opened_cc66.png']), array([ 1.        , 59.01264556, 16.41886117,  2.        ,  1.        ])),\n",
       "       (324, '/media/alessandro/DATA/tesi/Nebbia/pre-processed_data/170619/video1_020/trigger_thr0.005_cl9_op3/cc_filtered_2den0.81_gausrad2.0/', list(['mean_170619-video1_020-038_opened_cc01.png']), array([  1.        , 149.20256211,   1.73420114,   2.        ,\n",
       "         1.90566274])),\n",
       "       (325, '/media/alessandro/DATA/tesi/Nebbia/pre-processed_data/170619/video1_020/trigger_thr0.005_cl9_op3/cc_filtered_2den0.81_gausrad2.0/', list(['mean_170619-video1_020-038_opened_cc07.png']), array([  1.        , 109.69001842,  11.91115464,   3.        ,\n",
       "         1.22051204])),\n",
       "       (326, '/media/alessandro/DATA/tesi/Nebbia/pre-processed_data/170619/video1_020/trigger_thr0.005_cl9_op3/cc_filtered_2den0.81_gausrad2.0/', list(['mean_170619-video1_020-038_opened_cc08.png']), array([  1.        , 322.80916727,   5.57250178,   6.        ,\n",
       "         1.64152516])),\n",
       "       (327, '/media/alessandro/DATA/tesi/Nebbia/pre-processed_data/170619/video1_020/trigger_thr0.005_cl9_op3/cc_filtered_2den0.81_gausrad2.0/', list(['mean_170619-video1_020-038_opened_cc34.png']), array([  1.        , 195.19692522,   4.44962818,   3.        ,\n",
       "         1.59911552])),\n",
       "       (328, '/media/alessandro/DATA/tesi/Nebbia/pre-processed_data/170619/video1_020/trigger_thr0.005_cl9_op3/cc_filtered_2den0.81_gausrad2.0/', list(['mean_170619-video1_020-038_opened_cc40.png']), array([  1.        , 246.56932771,   4.35409759,   4.        ,\n",
       "         1.67672173])),\n",
       "       (329, '/media/alessandro/DATA/tesi/Nebbia/pre-processed_data/170619/video1_020/trigger_thr0.005_cl9_op3/cc_filtered_2den0.81_gausrad2.0/', list(['mean_170619-video1_020-038_opened_cc58.png']), array([  1.        , 112.01796965,   5.67684716,   2.        ,\n",
       "         2.64839358])),\n",
       "       (330, '/media/alessandro/DATA/tesi/Nebbia/pre-processed_data/170619/video1_020/trigger_thr0.005_cl9_op3/cc_filtered_2den0.81_gausrad2.0/', list(['mean_170619-video1_020-038_opened_cc59.png']), array([ 1.        , 51.41191739,  6.08808261,  1.        ,  1.72916991])),\n",
       "       (331, '/media/alessandro/DATA/tesi/Nebbia/pre-processed_data/170619/video1_020/trigger_thr0.005_cl9_op3/cc_filtered_2den0.81_gausrad2.0/', list(['mean_170619-video1_020-038_opened_cc65.png']), array([  1.        , 218.00390347,   6.30236478,   4.        ,\n",
       "         1.38825017])),\n",
       "       (332, '/media/alessandro/DATA/tesi/Nebbia/pre-processed_data/170619/video1_021/trigger_thr0.005_cl9_op3/cc_filtered_2den0.81_gausrad2.0/', list(['mean_170619-video1_021-001_opened_cc01.png']), array([  1.        , 840.25745309,   6.74725308,  16.        ,\n",
       "         2.27704522])),\n",
       "       (333, '/media/alessandro/DATA/tesi/Nebbia/pre-processed_data/170619/video1_021/trigger_thr0.005_cl9_op3/cc_filtered_2den0.81_gausrad2.0/', list(['mean_170619-video1_021-001_opened_cc02.png']), array([  1.        , 125.91601078,   3.95049424,   2.        ,\n",
       "         1.82621274])),\n",
       "       (334, '/media/alessandro/DATA/tesi/Nebbia/pre-processed_data/170619/video1_021/trigger_thr0.005_cl9_op3/cc_filtered_2den0.81_gausrad2.0/', list(['mean_170619-video1_021-001_opened_cc15.png']), array([  1.        , 268.39430138,   1.57546548,   4.        ,\n",
       "         1.89546645])),\n",
       "       (335, '/media/alessandro/DATA/tesi/Nebbia/pre-processed_data/170619/video1_021/trigger_thr0.005_cl9_op3/cc_filtered_2den0.81_gausrad2.0/', list(['mean_170619-video1_021-001_opened_cc18.png']), array([  1.        , 662.28198643,   5.96029154,  11.        ,\n",
       "         2.13549372])),\n",
       "       (336, '/media/alessandro/DATA/tesi/Nebbia/pre-processed_data/170619/video1_021/trigger_thr0.005_cl9_op3/cc_filtered_2den0.81_gausrad2.0/', list(['mean_170619-video1_021-001_opened_cc39.png']), array([ 1.        , 15.8233742 ,  4.6766258 ,  1.        ,  1.41528561])),\n",
       "       (337, '/media/alessandro/DATA/tesi/Nebbia/pre-processed_data/170619/video1_021/trigger_thr0.005_cl9_op3/cc_filtered_2den0.81_gausrad2.0/', list(['mean_170619-video1_021-001_opened_cc44.png']), array([  1.        , 252.76306331,  12.65526664,   4.        ,\n",
       "         1.57348163])),\n",
       "       (338, '/media/alessandro/DATA/tesi/Nebbia/pre-processed_data/170619/video1_021/trigger_thr0.005_cl9_op3/cc_filtered_2den0.81_gausrad2.0/', list(['mean_170619-video1_021-001_opened_cc55.png']), array([ 1.        , 86.50882261,  1.49117739,  1.        ,  6.99382379])),\n",
       "       (339, '/media/alessandro/DATA/tesi/Nebbia/pre-processed_data/170619/video1_021/trigger_thr0.005_cl9_op3/cc_filtered_2den0.81_gausrad2.0/', list(['mean_170619-video1_021-010_opened_cc08.png']), array([  1.        , 143.62943975,   6.37056025,   1.        ,\n",
       "         1.5536816 ])),\n",
       "       (340, '/media/alessandro/DATA/tesi/Nebbia/pre-processed_data/170619/video1_021/trigger_thr0.005_cl9_op3/cc_filtered_2den0.81_gausrad2.0/', list(['mean_170619-video1_021-010_opened_cc14.png']), array([ 1.        , 40.8304219 ,  2.6695781 ,  1.        ,  3.91084513])),\n",
       "       (341, '/media/alessandro/DATA/tesi/Nebbia/pre-processed_data/170619/video1_021/trigger_thr0.005_cl9_op3/cc_filtered_2den0.81_gausrad2.0/', list(['mean_170619-video1_021-010_opened_cc23.png']), array([1.00000000e+00, 1.18226599e+03, 9.20219420e+00, 1.10000000e+01,\n",
       "       3.78393417e+00])),\n",
       "       (343, '/media/alessandro/DATA/tesi/Nebbia/pre-processed_data/170619/video1_021/trigger_thr0.005_cl9_op3/cc_filtered_2den0.81_gausrad2.0/', list(['mean_170619-video1_021-011_opened_cc03.png']), array([  1.        , 146.83656649,   5.48530174,   3.        ,\n",
       "         1.3462183 ])),\n",
       "       (344, '/media/alessandro/DATA/tesi/Nebbia/pre-processed_data/170619/video1_021/trigger_thr0.005_cl9_op3/cc_filtered_2den0.81_gausrad2.0/', list(['mean_170619-video1_021-011_opened_cc47.png']), array([  1.        , 434.99314329,   7.0955747 ,   9.        ,\n",
       "         2.09655337])),\n",
       "       (345, '/media/alessandro/DATA/tesi/Nebbia/pre-processed_data/170619/video1_021/trigger_thr0.005_cl9_op3/cc_filtered_2den0.81_gausrad2.0/', list(['mean_170619-video1_021-041_opened_cc28.png']), array([  1.        , 133.62290435,   5.84339604,   3.        ,\n",
       "         1.37689735])),\n",
       "       (346, '/media/alessandro/DATA/tesi/Nebbia/pre-processed_data/170619/video1_021/trigger_thr0.005_cl9_op3/cc_filtered_2den0.81_gausrad2.0/', list(['mean_170619-video1_021-041_opened_cc34.png']), array([  1.        , 771.76857096,   6.90010759,  14.        ,\n",
       "         2.40445015])),\n",
       "       (347, '/media/alessandro/DATA/tesi/Nebbia/pre-processed_data/170619/video1_021/trigger_thr0.005_cl9_op3/cc_filtered_2den0.81_gausrad2.0/', list(['mean_170619-video1_021-041_opened_cc37.png']), array([  1.        , 264.06999198,   5.23193312,   5.        ,\n",
       "         1.71658692])),\n",
       "       (348, '/media/alessandro/DATA/tesi/Nebbia/pre-processed_data/170619/video1_021/trigger_thr0.005_cl9_op3/cc_filtered_2den0.81_gausrad2.0/', list(['mean_170619-video1_021-041_opened_cc45.png']), array([  1.        , 108.05254967,   7.01668058,   3.        ,\n",
       "         1.14891024])),\n",
       "       (349, '/media/alessandro/DATA/tesi/Nebbia/pre-processed_data/170619/video1_021/trigger_thr0.005_cl9_op3/cc_filtered_2den0.81_gausrad2.0/', list(['mean_170619-video1_021-041_opened_cc67.png']), array([  1.        , 145.00611244,   2.24038665,   2.        ,\n",
       "         2.14125941])),\n",
       "       (350, '/media/alessandro/DATA/tesi/Nebbia/pre-processed_data/170619/video1_021/trigger_thr0.005_cl9_op3/cc_filtered_2den0.81_gausrad2.0/', list(['mean_170619-video1_021-042_opened_cc17.png']), array([ 1.        , 34.98037706,  9.51962294,  1.        ,  1.08261549])),\n",
       "       (351, '/media/alessandro/DATA/tesi/Nebbia/pre-processed_data/170619/video1_021/trigger_thr0.005_cl9_op3/cc_filtered_2den0.81_gausrad2.0/', list(['mean_170619-video1_021-042_opened_cc24.png']), array([1.00000000e+00, 1.46783033e+03, 7.60391766e+00, 1.90000000e+01,\n",
       "       3.65804826e+00])),\n",
       "       (352, '/media/alessandro/DATA/tesi/Nebbia/pre-processed_data/170619/video1_021/trigger_thr0.005_cl9_op3/cc_filtered_2den0.81_gausrad2.0/', list(['mean_170619-video1_021-042_opened_cc51.png']), array([  1.        , 110.74507293,  12.52593163,   3.        ,\n",
       "         1.18908994])),\n",
       "       (353, '/media/alessandro/DATA/tesi/Nebbia/pre-processed_data/170619/video1_021/trigger_thr0.005_cl9_op3/cc_filtered_2den0.81_gausrad2.0/', list(['mean_170619-video1_021-046_opened_cc01.png']), array([  1.        , 808.21210647,   9.06584555,  13.        ,\n",
       "         1.81992369])),\n",
       "       (354, '/media/alessandro/DATA/tesi/Nebbia/pre-processed_data/170619/video1_021/trigger_thr0.005_cl9_op3/cc_filtered_2den0.81_gausrad2.0/', list(['mean_170619-video1_021-046_opened_cc05.png']), array([  1.        , 287.3015465 ,   6.23608095,   3.        ,\n",
       "         2.1553544 ])),\n",
       "       (355, '/media/alessandro/DATA/tesi/Nebbia/pre-processed_data/170619/video1_021/trigger_thr0.005_cl9_op3/cc_filtered_2den0.81_gausrad2.0/', list(['mean_170619-video1_021-046_opened_cc13.png']), array([ 1.        , 38.90113311,  3.59886689,  1.        ,  2.0704984 ])),\n",
       "       (356, '/media/alessandro/DATA/tesi/Nebbia/pre-processed_data/170619/video1_021/trigger_thr0.005_cl9_op3/cc_filtered_2den0.81_gausrad2.0/', list(['mean_170619-video1_021-047_opened_cc01.png']), array([  1.        , 171.18206307,   2.69829068,   3.        ,\n",
       "         1.68834695])),\n",
       "       (357, '/media/alessandro/DATA/tesi/Nebbia/pre-processed_data/170619/video1_022/trigger_thr0.005_cl9_op3/cc_filtered_2den0.81_gausrad2.0/', list(['mean_170619-video1_022-013_opened_cc06.png']), array([  1.        , 511.68088921,   6.37877153,   9.        ,\n",
       "         1.6619587 ])),\n",
       "       (358, '/media/alessandro/DATA/tesi/Nebbia/pre-processed_data/170619/video1_022/trigger_thr0.005_cl9_op3/cc_filtered_2den0.81_gausrad2.0/', list(['mean_170619-video1_022-013_opened_cc11.png']), array([  1.        , 403.91457124,   3.54562447,   7.        ,\n",
       "         2.79253292])),\n",
       "       (359, '/media/alessandro/DATA/tesi/Nebbia/pre-processed_data/170619/video1_022/trigger_thr0.005_cl9_op3/cc_filtered_2den0.81_gausrad2.0/', list(['mean_170619-video1_022-013_opened_cc47.png']), array([ 1.        , 70.84813541,  5.15186459,  1.        ,  2.24041476])),\n",
       "       (360, '/media/alessandro/DATA/tesi/Nebbia/pre-processed_data/170619/video1_022/trigger_thr0.005_cl9_op3/cc_filtered_2den0.81_gausrad2.0/', list(['mean_170619-video1_022-014_opened_cc01.png']), array([1.00000000e+00, 2.42132098e+03, 6.45687038e+00, 3.50000000e+01,\n",
       "       5.12952593e+00])),\n",
       "       (361, '/media/alessandro/DATA/tesi/Nebbia/pre-processed_data/170619/video1_022/trigger_thr0.005_cl9_op3/cc_filtered_2den0.81_gausrad2.0/', list(['mean_170619-video1_022-014_opened_cc17.png']), array([  1.        , 156.13547385,   6.60193264,   3.        ,\n",
       "         1.15655907])),\n",
       "       (362, '/media/alessandro/DATA/tesi/Nebbia/pre-processed_data/170619/video1_022/trigger_thr0.005_cl9_op3/cc_filtered_2den0.81_gausrad2.0/', list(['mean_170619-video1_022-022_opened_cc01.png']), array([  1.        , 282.82293908,   6.4310198 ,   5.        ,\n",
       "         2.19249176])),\n",
       "       (363, '/media/alessandro/DATA/tesi/Nebbia/pre-processed_data/170619/video1_022/trigger_thr0.005_cl9_op3/cc_filtered_2den0.81_gausrad2.0/', list(['mean_170619-video1_022-022_opened_cc58.png']), array([  1.        , 206.02672753,   2.87128899,   3.        ,\n",
       "         1.89944883])),\n",
       "       (364, '/media/alessandro/DATA/tesi/Nebbia/pre-processed_data/170619/video1_022/trigger_thr0.005_cl9_op3/cc_filtered_2den0.81_gausrad2.0/', list(['mean_170619-video1_022-022_opened_cc62.png']), array([  1.        , 729.77689932,   4.56705938,  13.        ,\n",
       "         3.08365   ])),\n",
       "       (365, '/media/alessandro/DATA/tesi/Nebbia/pre-processed_data/170619/video1_022/trigger_thr0.005_cl9_op3/cc_filtered_2den0.81_gausrad2.0/', list(['mean_170619-video1_022-023_opened_cc06.png']), array([  1.        , 153.11788116,   2.72066714,   2.        ,\n",
       "         1.84747748])),\n",
       "       (366, '/media/alessandro/DATA/tesi/Nebbia/pre-processed_data/170619/video1_022/trigger_thr0.005_cl9_op3/cc_filtered_2den0.81_gausrad2.0/', list(['mean_170619-video1_022-035_opened_cc10.png']), array([  1.        , 159.5821924 ,  10.29174773,   3.        ,\n",
       "         1.15406196])),\n",
       "       (367, '/media/alessandro/DATA/tesi/Nebbia/pre-processed_data/170619/video1_022/trigger_thr0.005_cl9_op3/cc_filtered_2den0.81_gausrad2.0/', list(['mean_170619-video1_022-035_opened_cc31.png']), array([  1.        , 728.62821884,   4.72730801,  10.        ,\n",
       "         2.41206802])),\n",
       "       (368, '/media/alessandro/DATA/tesi/Nebbia/pre-processed_data/170619/video1_022/trigger_thr0.005_cl9_op3/cc_filtered_2den0.81_gausrad2.0/', list(['mean_170619-video1_022-035_opened_cc42.png']), array([ 1.        , 69.90148023,  9.09851977,  1.        ,  1.06033113])),\n",
       "       (369, '/media/alessandro/DATA/tesi/Nebbia/pre-processed_data/170619/video1_022/trigger_thr0.005_cl9_op3/cc_filtered_2den0.81_gausrad2.0/', list(['mean_170619-video1_022-036_opened_cc11.png']), array([ 1.        , 42.59005252,  6.40994748,  1.        ,  1.28530739])),\n",
       "       (370, '/media/alessandro/DATA/tesi/Nebbia/pre-processed_data/170619/video1_022/trigger_thr0.005_cl9_op3/cc_filtered_2den0.81_gausrad2.0/', list(['mean_170619-video1_022-036_opened_cc14.png']), array([  1.        , 103.74071521,   8.16462183,   2.        ,\n",
       "         1.51498775])),\n",
       "       (371, '/media/alessandro/DATA/tesi/Nebbia/pre-processed_data/170619/video1_022/trigger_thr0.005_cl9_op3/cc_filtered_2den0.81_gausrad2.0/', list(['mean_170619-video1_022-036_opened_cc23.png']), array([  1.        , 443.2017966 ,   5.53417407,   8.        ,\n",
       "         1.64540883])),\n",
       "       (372, '/media/alessandro/DATA/tesi/Nebbia/pre-processed_data/170619/video1_022/trigger_thr0.005_cl9_op3/cc_filtered_2den0.81_gausrad2.0/', list(['mean_170619-video1_022-036_opened_cc27.png']), array([  1.        , 664.49475752,   5.05954165,   9.        ,\n",
       "         1.90336366])),\n",
       "       (373, '/media/alessandro/DATA/tesi/Nebbia/pre-processed_data/170619/video1_022/trigger_thr0.005_cl9_op3/cc_filtered_2den0.81_gausrad2.0/', list(['mean_170619-video1_022-040_opened_cc01.png']), array([  1.        , 255.63711447,   5.965431  ,   4.        ,\n",
       "         1.98215957])),\n",
       "       (374, '/media/alessandro/DATA/tesi/Nebbia/pre-processed_data/170619/video1_022/trigger_thr0.005_cl9_op3/cc_filtered_2den0.81_gausrad2.0/', list(['mean_170619-video1_022-040_opened_cc02.png']), array([1.00000000e+00, 1.94853702e+03, 6.94531606e+00, 3.00000000e+01,\n",
       "       3.58748664e+00])),\n",
       "       (375, '/media/alessandro/DATA/tesi/Nebbia/pre-processed_data/170619/video1_022/trigger_thr0.005_cl9_op3/cc_filtered_2den0.81_gausrad2.0/', list(['mean_170619-video1_022-040_opened_cc03.png']), array([  1.        , 126.35173409,   4.75105938,   3.        ,\n",
       "         2.03370312])),\n",
       "       (376, '/media/alessandro/DATA/tesi/Nebbia/pre-processed_data/170619/video1_022/trigger_thr0.005_cl9_op3/cc_filtered_2den0.81_gausrad2.0/', list(['mean_170619-video1_022-040_opened_cc09.png']), array([1.00000000e+00, 1.22242258e+03, 7.13743861e+00, 2.10000000e+01,\n",
       "       3.02579847e+00])),\n",
       "       (377, '/media/alessandro/DATA/tesi/Nebbia/pre-processed_data/170619/video1_022/trigger_thr0.005_cl9_op3/cc_filtered_2den0.81_gausrad2.0/', list(['mean_170619-video1_022-040_opened_cc39.png']), array([  1.        , 683.31334373,   7.02579034,  10.        ,\n",
       "         2.33212745])),\n",
       "       (378, '/media/alessandro/DATA/tesi/Nebbia/pre-processed_data/170619/video1_022/trigger_thr0.005_cl9_op3/cc_filtered_2den0.81_gausrad2.0/', list(['mean_170619-video1_022-040_opened_cc47.png']), array([  1.        , 335.64380039,   5.75081171,   6.        ,\n",
       "         1.69968562])),\n",
       "       (379, '/media/alessandro/DATA/tesi/Nebbia/pre-processed_data/170619/video1_022/trigger_thr0.005_cl9_op3/cc_filtered_2den0.81_gausrad2.0/', list(['mean_170619-video1_022-022_opened_cc42.png']), array([  1.        , 318.49505473,   8.47495646,   4.        ,\n",
       "         1.91583121])),\n",
       "       (380, '/media/alessandro/DATA/tesi/Nebbia/pre-processed_data/170619/video1_022/trigger_thr0.005_cl9_op3/cc_filtered_2den0.81_gausrad2.0/', list(['mean_170619-video1_022-035_opened_cc27.png']), array([  1.        , 161.181498  ,   5.84849739,   4.        ,\n",
       "         1.67824569])),\n",
       "       (381, '/media/alessandro/DATA/tesi/Nebbia/pre-processed_data/170619/video1_023/trigger_thr0.005_cl9_op3/cc_filtered_2den0.81_gausrad2.0/', list(['mean_170619-video1_023-017_opened_cc12.png']), array([  1.        , 152.09572584,   5.83937357,   3.        ,\n",
       "         1.61221147])),\n",
       "       (382, '/media/alessandro/DATA/tesi/Nebbia/pre-processed_data/170619/video1_023/trigger_thr0.005_cl9_op3/cc_filtered_2den0.81_gausrad2.0/', list(['mean_170619-video1_023-017_opened_cc27.png']), array([  1.        , 158.48156475,  10.64648316,   3.        ,\n",
       "         1.45371462])),\n",
       "       (383, '/media/alessandro/DATA/tesi/Nebbia/pre-processed_data/170619/video1_023/trigger_thr0.005_cl9_op3/cc_filtered_2den0.81_gausrad2.0/', list(['mean_170619-video1_023-017_opened_cc31.png']), array([ 1.        , 66.59750769,  2.40249231,  1.        ,  3.00856873])),\n",
       "       (384, '/media/alessandro/DATA/tesi/Nebbia/pre-processed_data/170619/video1_023/trigger_thr0.005_cl9_op3/cc_filtered_2den0.81_gausrad2.0/', list(['mean_170619-video1_023-017_opened_cc40.png', 'mean_170619-video1_023-018_opened_cc44.png']), array([  2.        , 353.57102032,  11.13213117,   5.5       ,\n",
       "         1.79455983])),\n",
       "       (385, '/media/alessandro/DATA/tesi/Nebbia/pre-processed_data/170619/video1_023/trigger_thr0.005_cl9_op3/cc_filtered_2den0.81_gausrad2.0/', list(['mean_170619-video1_023-017_opened_cc46.png']), array([  1.        , 268.34210857,   4.00784507,   4.        ,\n",
       "         2.10504869])),\n",
       "       (386, '/media/alessandro/DATA/tesi/Nebbia/pre-processed_data/170619/video1_023/trigger_thr0.005_cl9_op3/cc_filtered_2den0.81_gausrad2.0/', list(['mean_170619-video1_023-017_opened_cc51.png']), array([  1.        , 236.78877685,   2.92801313,   5.        ,\n",
       "         2.75634092])),\n",
       "       (387, '/media/alessandro/DATA/tesi/Nebbia/pre-processed_data/170619/video1_023/trigger_thr0.005_cl9_op3/cc_filtered_2den0.81_gausrad2.0/', list(['mean_170619-video1_023-017_opened_cc79.png']), array([  1.        , 175.57935741,   4.6839201 ,   2.        ,\n",
       "         2.15212156])),\n",
       "       (388, '/media/alessandro/DATA/tesi/Nebbia/pre-processed_data/170619/video1_023/trigger_thr0.005_cl9_op3/cc_filtered_2den0.81_gausrad2.0/', list(['mean_170619-video1_023-018_opened_cc71.png']), array([  1.        , 351.348336  ,   4.71599968,   6.        ,\n",
       "         2.47293537])),\n",
       "       (390, '/media/alessandro/DATA/tesi/Nebbia/pre-processed_data/170619/video1_027/trigger_thr0.005_cl9_op3/cc_filtered_2den0.81_gausrad2.0/', list(['mean_170619-video1_027-005_opened_cc02.png', 'mean_170619-video1_027-006_opened_cc01.png']), array([  2.        , 117.65812665,   6.92772399,   2.        ,\n",
       "         1.94546776])),\n",
       "       (391, '/media/alessandro/DATA/tesi/Nebbia/pre-processed_data/170619/video1_028/trigger_thr0.005_cl9_op3/cc_filtered_2den0.81_gausrad2.0/', list(['mean_170619-video1_028-022_opened_cc34.png']), array([ 1.        , 99.16715897,  5.41622459,  2.        ,  1.98413699])),\n",
       "       (392, '/media/alessandro/DATA/tesi/Nebbia/pre-processed_data/170619/video1_028/trigger_thr0.005_cl9_op3/cc_filtered_2den0.81_gausrad2.0/', list(['mean_170619-video1_028-023_opened_cc52.png']), array([  1.        , 144.56236801,   4.68688355,   3.        ,\n",
       "         2.22799497])),\n",
       "       (393, '/media/alessandro/DATA/tesi/Nebbia/pre-processed_data/170619/video1_028/trigger_thr0.005_cl9_op3/cc_filtered_2den0.81_gausrad2.0/', list(['mean_170619-video1_028-024_opened_cc07.png']), array([  1.        , 102.66163493,  14.33836507,   1.        ,\n",
       "         1.02487554])),\n",
       "       (394, '/media/alessandro/DATA/tesi/Nebbia/pre-processed_data/170619/video1_030/trigger_thr0.005_cl9_op3/cc_filtered_2den0.81_gausrad2.0/', list(['mean_170619-video1_030-046_opened_cc02.png']), array([  1.        , 235.19726446,   6.37491331,   3.        ,\n",
       "         1.23138241])),\n",
       "       (395, '/media/alessandro/DATA/tesi/Nebbia/pre-processed_data/170619/video1_033/trigger_thr0.005_cl9_op3/cc_filtered_2den0.81_gausrad2.0/', list(['mean_170619-video1_033-026_opened_cc20.png', 'mean_170619-video1_033-027_opened_cc18.png', 'mean_170619-video1_033-028_opened_cc04.png']), array([  3.        , 161.86481003,  15.27133961,   1.33333333,\n",
       "         1.22309599])),\n",
       "       (396, '/media/alessandro/DATA/tesi/Nebbia/pre-processed_data/170619/video1_033/trigger_thr0.005_cl9_op3/cc_filtered_2den0.81_gausrad2.0/', list(['mean_170619-video1_033-026_opened_cc29.png']), array([  1.        , 115.13429995,   9.04357734,   3.        ,\n",
       "         1.21173862])),\n",
       "       (397, '/media/alessandro/DATA/tesi/Nebbia/pre-processed_data/170619/video1_033/trigger_thr0.005_cl9_op3/cc_filtered_2den0.81_gausrad2.0/', list(['mean_170619-video1_033-026_opened_cc72.png']), array([  1.        , 130.78083071,   8.        ,   2.        ,\n",
       "         1.28482286])),\n",
       "       (398, '/media/alessandro/DATA/tesi/Nebbia/pre-processed_data/170619/video1_035/trigger_thr0.005_cl9_op3/cc_filtered_2den0.81_gausrad2.0/', list(['mean_170619-video1_035-006_opened_cc02.png']), array([  1.        , 153.1726792 ,   5.3273208 ,   1.        ,\n",
       "         2.06070188])),\n",
       "       (399, '/media/alessandro/DATA/tesi/Nebbia/pre-processed_data/170619/video1_048/trigger_thr0.005_cl9_op3/cc_filtered_2den0.81_gausrad2.0/', list(['mean_170619-video1_048-034_opened_cc59.png', 'mean_170619-video1_048-035_opened_cc59.png']), array([  2.        , 115.13376979,  15.69104621,   1.5       ,\n",
       "         1.30993964])),\n",
       "       (400, '/media/alessandro/DATA/tesi/Nebbia/pre-processed_data/170619/video1_048/trigger_thr0.005_cl9_op3/cc_filtered_2den0.81_gausrad2.0/', list(['mean_170619-video1_048-034_opened_cc68.png']), array([ 1.        , 90.72628593,  8.15490085,  2.        ,  1.42862755])),\n",
       "       (401, '/media/alessandro/DATA/tesi/Nebbia/pre-processed_data/170619/video1_050/trigger_thr0.005_cl9_op3/cc_filtered_2den0.81_gausrad2.0/', list(['mean_170619-video1_050-025_opened_cc07.png', 'mean_170619-video1_050-026_opened_cc03.png', 'mean_170619-video1_050-027_opened_cc05.png', 'mean_170619-video1_050-028_opened_cc06.png']), array([ 4.        , 69.52238926, 19.72761074,  1.        ,  1.        ])),\n",
       "       (402, '/media/alessandro/DATA/tesi/Nebbia/pre-processed_data/170619/video1_052/trigger_thr0.005_cl9_op3/cc_filtered_2den0.81_gausrad2.0/', list(['mean_170619-video1_052-023_opened_cc01.png', 'mean_170619-video1_052-024_opened_cc01.png']), array([  2.        , 123.36943391,   8.06125319,   1.5       ,\n",
       "         1.30629401])),\n",
       "       (403, '/media/alessandro/DATA/tesi/Nebbia/pre-processed_data/170619/video1_053/trigger_thr0.005_cl9_op3/cc_filtered_2den0.81_gausrad2.0/', list(['mean_170619-video1_053-010_opened_cc07.png']), array([  1.        , 113.61144223,  11.53438725,   2.        ,\n",
       "         1.49878474])),\n",
       "       (404, '/media/alessandro/DATA/tesi/Nebbia/pre-processed_data/170619/video1_053/trigger_thr0.005_cl9_op3/cc_filtered_2den0.81_gausrad2.0/', list(['mean_170619-video1_053-011_opened_cc02.png']), array([  1.        , 283.44475976,   8.47735378,   4.        ,\n",
       "         1.5875833 ])),\n",
       "       (405, '/media/alessandro/DATA/tesi/Nebbia/pre-processed_data/170619/video1_054/trigger_thr0.005_cl9_op3/cc_filtered_2den0.81_gausrad2.0/', list(['mean_170619-video1_054-041_opened_cc01.png']), array([ 1.        , 88.67294753,  4.82443596,  2.        ,  1.30514344])),\n",
       "       (406, '/media/alessandro/DATA/tesi/Nebbia/pre-processed_data/170619/video1_057/trigger_thr0.005_cl9_op3/cc_filtered_2den0.81_gausrad2.0/', list(['mean_170619-video1_057-012_opened_cc05.png']), array([  1.        , 159.07466625,   5.5155076 ,   2.        ,\n",
       "         1.24704048])),\n",
       "       (407, '/media/alessandro/DATA/tesi/Nebbia/pre-processed_data/170619/video1_061/trigger_thr0.005_cl9_op3/cc_filtered_2den0.81_gausrad2.0/', list(['mean_170619-video1_061-041_opened_cc01.png']), array([ 1.        , 77.95801731,  6.54198269,  1.        ,  1.25542934])),\n",
       "       (408, '/media/alessandro/DATA/tesi/Nebbia/pre-processed_data/170619/video1_061/trigger_thr0.005_cl9_op3/cc_filtered_2den0.81_gausrad2.0/', list(['mean_170619-video1_061-041_opened_cc09.png']), array([  1.        , 162.        ,   6.        ,   1.        ,\n",
       "         1.52769017])),\n",
       "       (409, '/media/alessandro/DATA/tesi/Nebbia/pre-processed_data/170619/video1_063/trigger_thr0.005_cl9_op3/cc_filtered_2den0.81_gausrad2.0/', list(['mean_170619-video1_063-042_opened_cc13.png']), array([ 1.        , 85.4566416 , 10.5433584 ,  1.        ,  1.06020388])),\n",
       "       (410, '/media/alessandro/DATA/tesi/Nebbia/pre-processed_data/170619/video1_064/trigger_thr0.005_cl9_op3/cc_filtered_2den0.81_gausrad2.0/', list(['mean_170619-video1_064-004_opened_cc05.png']), array([  1.        , 103.49832222,   6.83780841,   2.        ,\n",
       "         1.0437351 ])),\n",
       "       (411, '/media/alessandro/DATA/tesi/Nebbia/pre-processed_data/170619/video1_066/trigger_thr0.005_cl9_op3/cc_filtered_2den0.81_gausrad2.0/', list(['mean_170619-video1_066-010_opened_cc05.png', 'mean_170619-video1_066-011_opened_cc06.png']), array([ 2.        , 96.26281696, 21.23718304,  1.        ,  1.03127421])),\n",
       "       (412, '/media/alessandro/DATA/tesi/Nebbia/pre-processed_data/170619/video1_068/trigger_thr0.005_cl9_op3/cc_filtered_2den0.81_gausrad2.0/', list(['mean_170619-video1_068-003_opened_cc21.png']), array([  1.        , 131.43428544,  13.56571456,   1.        ,\n",
       "         1.        ])),\n",
       "       (413, '/media/alessandro/DATA/tesi/Nebbia/pre-processed_data/170619/video1_068/trigger_thr0.005_cl9_op3/cc_filtered_2den0.81_gausrad2.0/', list(['mean_170619-video1_068-003_opened_cc66.png']), array([ 1.        , 70.69265352, 10.80734648,  1.        ,  1.03590795])),\n",
       "       (414, '/media/alessandro/DATA/tesi/Nebbia/pre-processed_data/170619/video1_068/trigger_thr0.005_cl9_op3/cc_filtered_2den0.81_gausrad2.0/', list(['mean_170619-video1_068-014_opened_cc02.png']), array([  1.        , 165.20744562,   4.84097368,   3.        ,\n",
       "         1.56294868])),\n",
       "       (415, '/media/alessandro/DATA/tesi/Nebbia/pre-processed_data/170619/video1_068/trigger_thr0.005_cl9_op3/cc_filtered_2den0.81_gausrad2.0/', list(['mean_170619-video1_068-027_opened_cc01.png']), array([ 1.        , 89.37879375, 11.12120625,  1.        ,  1.        ])),\n",
       "       (416, '/media/alessandro/DATA/tesi/Nebbia/pre-processed_data/170619/video1_069/trigger_thr0.005_cl9_op3/cc_filtered_2den0.81_gausrad2.0/', list(['mean_170619-video1_069-044_opened_cc11.png']), array([  1.        , 134.77922259,   7.74903105,   3.        ,\n",
       "         1.68028294])),\n",
       "       (417, '/media/alessandro/DATA/tesi/Nebbia/pre-processed_data/170619/video1_070/trigger_thr0.005_cl9_op3/cc_filtered_2den0.81_gausrad2.0/', list(['mean_170619-video1_070-006_opened_cc01.png']), array([  1.        , 150.63855497,   2.78226973,   3.        ,\n",
       "         1.73136328])),\n",
       "       (418, '/media/alessandro/DATA/tesi/Nebbia/pre-processed_data/170619/video1_071/trigger_thr0.005_cl9_op3/cc_filtered_2den0.81_gausrad2.0/', list(['mean_170619-video1_071-007_opened_cc03.png']), array([ 1.        , 95.58143791,  6.22026616,  2.        ,  1.17324213])),\n",
       "       (419, '/media/alessandro/DATA/tesi/Nebbia/pre-processed_data/170619/video1_071/trigger_thr0.005_cl9_op3/cc_filtered_2den0.81_gausrad2.0/', list(['mean_170619-video1_071-017_opened_cc10.png', 'mean_170619-video1_071-018_opened_cc07.png', 'mean_170619-video1_071-019_opened_cc28.png']), array([  3.        , 128.46826232,  20.36507101,   1.        ,\n",
       "         1.        ])),\n",
       "       (420, '/media/alessandro/DATA/tesi/Nebbia/pre-processed_data/170619/video1_074/trigger_thr0.005_cl9_op3/cc_filtered_2den0.81_gausrad2.0/', list(['mean_170619-video1_074-010_opened_cc06.png']), array([ 1.        , 96.94971797,  6.75431163,  2.        ,  1.20122033])),\n",
       "       (421, '/media/alessandro/DATA/tesi/Nebbia/pre-processed_data/170619/video1_074/trigger_thr0.005_cl9_op3/cc_filtered_2den0.81_gausrad2.0/', list(['mean_170619-video1_074-010_opened_cc11.png']), array([  1.        , 171.55965211,   4.10030181,   3.        ,\n",
       "         1.68471242])),\n",
       "       (422, '/media/alessandro/DATA/tesi/Nebbia/pre-processed_data/170619/video1_074/trigger_thr0.005_cl9_op3/cc_filtered_2den0.81_gausrad2.0/', list(['mean_170619-video1_074-010_opened_cc18.png']), array([  1.        , 170.89820996,   3.95126585,   2.        ,\n",
       "         2.25002449])),\n",
       "       (423, '/media/alessandro/DATA/tesi/Nebbia/pre-processed_data/170619/video1_074/trigger_thr0.005_cl9_op3/cc_filtered_2den0.81_gausrad2.0/', list(['mean_170619-video1_074-010_opened_cc41.png']), array([  1.        , 604.66096906,   7.12900016,  11.        ,\n",
       "         2.68884309])),\n",
       "       (424, '/media/alessandro/DATA/tesi/Nebbia/pre-processed_data/170619/video1_074/trigger_thr0.005_cl9_op3/cc_filtered_2den0.81_gausrad2.0/', list(['mean_170619-video1_074-010_opened_cc95.png']), array([  1.        , 135.50709302,   1.74470959,   2.        ,\n",
       "         2.55901613])),\n",
       "       (425, '/media/alessandro/DATA/tesi/Nebbia/pre-processed_data/170619/video1_076/trigger_thr0.005_cl9_op3/cc_filtered_2den0.81_gausrad2.0/', list(['mean_170619-video1_076-030_opened_cc32.png']), array([  1.        , 337.33903477,   8.65729691,   3.        ,\n",
       "         2.00198563])),\n",
       "       (426, '/media/alessandro/DATA/tesi/Nebbia/pre-processed_data/170619/video1_076/trigger_thr0.005_cl9_op3/cc_filtered_2den0.81_gausrad2.0/', list(['mean_170619-video1_076-010_opened_cc02.png']), array([  1.        , 111.57362605,   6.29615974,   2.        ,\n",
       "         1.27182986])),\n",
       "       (427, '/media/alessandro/DATA/tesi/Nebbia/pre-processed_data/170619/video1_076/trigger_thr0.005_cl9_op3/cc_filtered_2den0.81_gausrad2.0/', list(['mean_170619-video1_076-030_opened_cc01.png']), array([  1.        , 117.20142983,   5.29857017,   1.        ,\n",
       "         2.29630222])),\n",
       "       (428, '/media/alessandro/DATA/tesi/Nebbia/pre-processed_data/170619/video1_076/trigger_thr0.005_cl9_op3/cc_filtered_2den0.81_gausrad2.0/', list(['mean_170619-video1_076-030_opened_cc02.png']), array([1.00000000e+00, 1.91132240e+03, 7.18492982e+00, 3.40000000e+01,\n",
       "       3.52966471e+00])),\n",
       "       (429, '/media/alessandro/DATA/tesi/Nebbia/pre-processed_data/170619/video1_076/trigger_thr0.005_cl9_op3/cc_filtered_2den0.81_gausrad2.0/', list(['mean_170619-video1_076-030_opened_cc06.png']), array([ 1.        , 69.04408906,  0.95591094,  1.        ,  3.95345304])),\n",
       "       (430, '/media/alessandro/DATA/tesi/Nebbia/pre-processed_data/170619/video1_076/trigger_thr0.005_cl9_op3/cc_filtered_2den0.81_gausrad2.0/', list(['mean_170619-video1_076-030_opened_cc17.png']), array([  1.        , 783.79051563,   6.53224182,   8.        ,\n",
       "         2.76847186])),\n",
       "       (431, '/media/alessandro/DATA/tesi/Nebbia/pre-processed_data/170619/video1_076/trigger_thr0.005_cl9_op3/cc_filtered_2den0.81_gausrad2.0/', list(['mean_170619-video1_076-030_opened_cc25.png']), array([  1.        , 110.78543798,   7.5       ,   2.        ,\n",
       "         1.1785018 ])),\n",
       "       (432, '/media/alessandro/DATA/tesi/Nebbia/pre-processed_data/170619/video1_076/trigger_thr0.005_cl9_op3/cc_filtered_2den0.81_gausrad2.0/', list(['mean_170619-video1_076-030_opened_cc41.png']), array([ 1.        , 61.82371258,  7.26820592,  2.        ,  1.58470254])),\n",
       "       (433, '/media/alessandro/DATA/tesi/Nebbia/pre-processed_data/170619/video1_076/trigger_thr0.005_cl9_op3/cc_filtered_2den0.81_gausrad2.0/', list(['mean_170619-video1_076-030_opened_cc54.png']), array([  1.        , 117.33143194,   4.59867993,   2.        ,\n",
       "         1.47765084])),\n",
       "       (434, '/media/alessandro/DATA/tesi/Nebbia/pre-processed_data/170619/video1_076/trigger_thr0.005_cl9_op3/cc_filtered_2den0.81_gausrad2.0/', list(['mean_170619-video1_076-040_opened_cc01.png']), array([  1.        , 887.4097844 ,   7.72104442,  13.        ,\n",
       "         2.2854238 ])),\n",
       "       (435, '/media/alessandro/DATA/tesi/Nebbia/pre-processed_data/170619/video1_076/trigger_thr0.005_cl9_op3/cc_filtered_2den0.81_gausrad2.0/', list(['mean_170619-video1_076-040_opened_cc23.png']), array([  1.        , 458.03439093,   3.63237142,   7.        ,\n",
       "         1.81756817])),\n",
       "       (436, '/media/alessandro/DATA/tesi/Nebbia/pre-processed_data/170619/video1_076/trigger_thr0.005_cl9_op3/cc_filtered_2den0.81_gausrad2.0/', list(['mean_170619-video1_076-040_opened_cc29.png']), array([ 1.        , 87.8795995 ,  4.23515724,  2.        ,  1.94093566])),\n",
       "       (437, '/media/alessandro/DATA/tesi/Nebbia/pre-processed_data/170619/video1_076/trigger_thr0.005_cl9_op3/cc_filtered_2den0.81_gausrad2.0/', list(['mean_170619-video1_076-046_opened_cc25.png']), array([ 1.        , 63.1118244 ,  5.25      ,  2.        ,  1.51429618])),\n",
       "       (438, '/media/alessandro/DATA/tesi/Nebbia/pre-processed_data/170619/video1_076/trigger_thr0.005_cl9_op3/cc_filtered_2den0.81_gausrad2.0/', list(['mean_170619-video1_076-046_opened_cc34.png']), array([1.00000000e+00, 1.59984812e+03, 7.13994978e+00, 2.90000000e+01,\n",
       "       3.85909114e+00])),\n",
       "       (439, '/media/alessandro/DATA/tesi/Nebbia/pre-processed_data/170619/video1_076/trigger_thr0.005_cl9_op3/cc_filtered_2den0.81_gausrad2.0/', list(['mean_170619-video1_076-046_opened_cc42.png']), array([  1.        , 103.16595487,   9.44256148,   3.        ,\n",
       "         1.33801343])),\n",
       "       (440, '/media/alessandro/DATA/tesi/Nebbia/pre-processed_data/170619/video1_076/trigger_thr0.005_cl9_op3/cc_filtered_2den0.81_gausrad2.0/', list(['mean_170619-video1_076-046_opened_cc52.png']), array([  1.        , 105.91564958,   6.72978526,   3.        ,\n",
       "         1.35334053])),\n",
       "       (441, '/media/alessandro/DATA/tesi/Nebbia/pre-processed_data/170619/video1_076/trigger_thr0.005_cl9_op3/cc_filtered_2den0.81_gausrad2.0/', list(['mean_170619-video1_076-048_opened_cc08.png']), array([  1.        , 200.28790533,   9.62417767,   4.        ,\n",
       "         1.12813642])),\n",
       "       (442, '/media/alessandro/DATA/tesi/Nebbia/pre-processed_data/170619/video1_076/trigger_thr0.005_cl9_op3/cc_filtered_2den0.81_gausrad2.0/', list(['mean_170619-video1_076-048_opened_cc13.png']), array([ 1.        , 31.61559421,  3.38440579,  1.        ,  3.53473089])),\n",
       "       (443, '/media/alessandro/DATA/tesi/Nebbia/pre-processed_data/170619/video1_076/trigger_thr0.005_cl9_op3/cc_filtered_2den0.81_gausrad2.0/', list(['mean_170619-video1_076-048_opened_cc20.png']), array([  1.        , 823.16027159,   7.53387577,  12.        ,\n",
       "         2.6381174 ])),\n",
       "       (444, '/media/alessandro/DATA/tesi/Nebbia/pre-processed_data/170619/video1_076/trigger_thr0.005_cl9_op3/cc_filtered_2den0.81_gausrad2.0/', list(['mean_170619-video1_076-048_opened_cc36.png']), array([  1.        , 605.7523746 ,   3.09446906,   9.        ,\n",
       "         2.01406756])),\n",
       "       (445, '/media/alessandro/DATA/tesi/Nebbia/pre-processed_data/170619/video1_077/trigger_thr0.005_cl9_op3/cc_filtered_2den0.81_gausrad2.0/', list(['mean_170619-video1_077-002_opened_cc01.png']), array([  1.        , 612.41031387,   6.04141717,   8.        ,\n",
       "         1.88518739])),\n",
       "       (446, '/media/alessandro/DATA/tesi/Nebbia/pre-processed_data/170619/video1_077/trigger_thr0.005_cl9_op3/cc_filtered_2den0.81_gausrad2.0/', list(['mean_170619-video1_077-002_opened_cc26.png']), array([  1.        , 297.10368411,   6.29035685,   6.        ,\n",
       "         1.71077293])),\n",
       "       (447, '/media/alessandro/DATA/tesi/Nebbia/pre-processed_data/170619/video1_077/trigger_thr0.005_cl9_op3/cc_filtered_2den0.81_gausrad2.0/', list(['mean_170619-video1_077-002_opened_cc35.png']), array([  1.        , 109.0725287 ,   4.61250543,   2.        ,\n",
       "         1.43591084])),\n",
       "       (448, '/media/alessandro/DATA/tesi/Nebbia/pre-processed_data/170619/video1_077/trigger_thr0.005_cl9_op3/cc_filtered_2den0.81_gausrad2.0/', list(['mean_170619-video1_077-012_opened_cc09.png']), array([  1.        , 324.59188202,   5.03336425,   5.        ,\n",
       "         1.83831738])),\n",
       "       (449, '/media/alessandro/DATA/tesi/Nebbia/pre-processed_data/170619/video1_077/trigger_thr0.005_cl9_op3/cc_filtered_2den0.81_gausrad2.0/', list(['mean_170619-video1_077-012_opened_cc34.png']), array([  1.        , 995.95456159,   8.16272218,  19.        ,\n",
       "         2.54652385])),\n",
       "       (450, '/media/alessandro/DATA/tesi/Nebbia/pre-processed_data/170619/video1_077/trigger_thr0.005_cl9_op3/cc_filtered_2den0.81_gausrad2.0/', list(['mean_170619-video1_077-012_opened_cc38.png']), array([  1.        , 736.63963586,   5.52343364,  11.        ,\n",
       "         2.13382529])),\n",
       "       (451, '/media/alessandro/DATA/tesi/Nebbia/pre-processed_data/170619/video1_077/trigger_thr0.005_cl9_op3/cc_filtered_2den0.81_gausrad2.0/', list(['mean_170619-video1_077-012_opened_cc48.png']), array([  1.        , 186.53946615,   5.5461041 ,   2.        ,\n",
       "         1.50391046])),\n",
       "       (452, '/media/alessandro/DATA/tesi/Nebbia/pre-processed_data/170619/video1_077/trigger_thr0.005_cl9_op3/cc_filtered_2den0.81_gausrad2.0/', list(['mean_170619-video1_077-012_opened_cc75.png']), array([ 1.        , 78.66541389,  6.        ,  2.        ,  1.14769721])),\n",
       "       (453, '/media/alessandro/DATA/tesi/Nebbia/pre-processed_data/170619/video1_077/trigger_thr0.005_cl9_op3/cc_filtered_2den0.81_gausrad2.0/', list(['mean_170619-video1_077-012_opened_cc78.png']), array([  1.        , 422.58517803,   3.7118491 ,   7.        ,\n",
       "         2.39992899])),\n",
       "       (454, '/media/alessandro/DATA/tesi/Nebbia/pre-processed_data/170619/video1_077/trigger_thr0.005_cl9_op3/cc_filtered_2den0.81_gausrad2.0/', list(['mean_170619-video1_077-024_opened_cc01.png']), array([1.00000000e+00, 1.14176359e+03, 8.55802443e+00, 1.70000000e+01,\n",
       "       2.67156872e+00])),\n",
       "       (455, '/media/alessandro/DATA/tesi/Nebbia/pre-processed_data/170619/video1_077/trigger_thr0.005_cl9_op3/cc_filtered_2den0.81_gausrad2.0/', list(['mean_170619-video1_077-024_opened_cc23.png']), array([1.00000000e+00, 1.93041324e+03, 6.88701122e+00, 2.90000000e+01,\n",
       "       4.66707006e+00])),\n",
       "       (456, '/media/alessandro/DATA/tesi/Nebbia/pre-processed_data/170619/video1_077/trigger_thr0.005_cl9_op3/cc_filtered_2den0.81_gausrad2.0/', list(['mean_170619-video1_077-024_opened_cc32.png']), array([  1.        , 241.82862671,   5.83437244,   5.        ,\n",
       "         1.46294374])),\n",
       "       (457, '/media/alessandro/DATA/tesi/Nebbia/pre-processed_data/170619/video1_077/trigger_thr0.005_cl9_op3/cc_filtered_2den0.81_gausrad2.0/', list(['mean_170619-video1_077-028_opened_cc19.png']), array([  1.        , 246.3074826 ,   9.01227271,   3.        ,\n",
       "         1.36833267])),\n",
       "       (458, '/media/alessandro/DATA/tesi/Nebbia/pre-processed_data/170619/video1_077/trigger_thr0.005_cl9_op3/cc_filtered_2den0.81_gausrad2.0/', list(['mean_170619-video1_077-028_opened_cc32.png']), array([  1.        , 318.67887546,   6.6273149 ,   4.        ,\n",
       "         1.83900471])),\n",
       "       (459, '/media/alessandro/DATA/tesi/Nebbia/pre-processed_data/170619/video1_077/trigger_thr0.005_cl9_op3/cc_filtered_2den0.81_gausrad2.0/', list(['mean_170619-video1_077-041_opened_cc03.png']), array([  1.        , 630.78299736,   6.01112932,   8.        ,\n",
       "         3.23789413])),\n",
       "       (460, '/media/alessandro/DATA/tesi/Nebbia/pre-processed_data/170619/video1_077/trigger_thr0.005_cl9_op3/cc_filtered_2den0.81_gausrad2.0/', list(['mean_170619-video1_077-041_opened_cc24.png']), array([  1.        , 183.74179768,   4.64723167,   3.        ,\n",
       "         1.63996355])),\n",
       "       (461, '/media/alessandro/DATA/tesi/Nebbia/pre-processed_data/170619/video1_077/trigger_thr0.005_cl9_op3/cc_filtered_2den0.81_gausrad2.0/', list(['mean_170619-video1_077-041_opened_cc31.png']), array([1.00000000e+00, 1.21608556e+03, 6.40475216e+00, 1.90000000e+01,\n",
       "       2.88479880e+00])),\n",
       "       (462, '/media/alessandro/DATA/tesi/Nebbia/pre-processed_data/170619/video1_077/trigger_thr0.005_cl9_op3/cc_filtered_2den0.81_gausrad2.0/', list(['mean_170619-video1_077-042_opened_cc16.png']), array([  1.        , 405.17673108,   5.0020041 ,   6.        ,\n",
       "         2.3134833 ])),\n",
       "       (463, '/media/alessandro/DATA/tesi/Nebbia/pre-processed_data/170619/video1_077/trigger_thr0.005_cl9_op3/cc_filtered_2den0.81_gausrad2.0/', list(['mean_170619-video1_077-042_opened_cc48.png']), array([  1.        , 359.31366197,   2.57532743,   5.        ,\n",
       "         1.8339492 ])),\n",
       "       (464, '/media/alessandro/DATA/tesi/Nebbia/pre-processed_data/170619/video1_077/trigger_thr0.005_cl9_op3/cc_filtered_2den0.81_gausrad2.0/', list(['mean_170619-video1_077-002_opened_cc45.png']), array([  1.        , 131.05866556,   6.23756527,   2.        ,\n",
       "         1.55319415])),\n",
       "       (465, '/media/alessandro/DATA/tesi/Nebbia/pre-processed_data/170619/video1_077/trigger_thr0.005_cl9_op3/cc_filtered_2den0.81_gausrad2.0/', list(['mean_170619-video1_077-004_opened_cc03.png']), array([1.00000000e+00, 1.55351989e+03, 7.37218520e+00, 2.20000000e+01,\n",
       "       3.31023525e+00])),\n",
       "       (466, '/media/alessandro/DATA/tesi/Nebbia/pre-processed_data/170619/video1_077/trigger_thr0.005_cl9_op3/cc_filtered_2den0.81_gausrad2.0/', list(['mean_170619-video1_077-004_opened_cc11.png']), array([1.00000000e+00, 1.35364651e+03, 9.92092087e+00, 1.40000000e+01,\n",
       "       3.27506094e+00])),\n",
       "       (467, '/media/alessandro/DATA/tesi/Nebbia/pre-processed_data/170619/video1_077/trigger_thr0.005_cl9_op3/cc_filtered_2den0.81_gausrad2.0/', list(['mean_170619-video1_077-004_opened_cc24.png']), array([ 1.        , 80.59010348, 13.90989652,  1.        ,  1.15023134])),\n",
       "       (468, '/media/alessandro/DATA/tesi/Nebbia/pre-processed_data/170619/video1_077/trigger_thr0.005_cl9_op3/cc_filtered_2den0.81_gausrad2.0/', list(['mean_170619-video1_077-004_opened_cc35.png']), array([  1.        , 397.79096012,   6.2546493 ,   6.        ,\n",
       "         2.03407788])),\n",
       "       (469, '/media/alessandro/DATA/tesi/Nebbia/pre-processed_data/170619/video1_077/trigger_thr0.005_cl9_op3/cc_filtered_2den0.81_gausrad2.0/', list(['mean_170619-video1_077-004_opened_cc40.png']), array([  1.        , 266.02747022,   9.17993938,   4.        ,\n",
       "         1.25908388])),\n",
       "       (470, '/media/alessandro/DATA/tesi/Nebbia/pre-processed_data/170619/video1_077/trigger_thr0.005_cl9_op3/cc_filtered_2den0.81_gausrad2.0/', list(['mean_170619-video1_077-004_opened_cc68.png']), array([  1.        , 162.91536138,   4.46302373,   3.        ,\n",
       "         1.70351687])),\n",
       "       (471, '/media/alessandro/DATA/tesi/Nebbia/pre-processed_data/170619/video1_077/trigger_thr0.005_cl9_op3/cc_filtered_2den0.81_gausrad2.0/', list(['mean_170619-video1_077-004_opened_cc71.png']), array([  1.        , 104.80544101,   6.96991637,   4.        ,\n",
       "         1.44659028])),\n",
       "       (472, '/media/alessandro/DATA/tesi/Nebbia/pre-processed_data/170619/video1_077/trigger_thr0.005_cl9_op3/cc_filtered_2den0.81_gausrad2.0/', list(['mean_170619-video1_077-004_opened_cc74.png']), array([  1.        , 166.10484695,   3.31363938,   4.        ,\n",
       "         1.89380143])),\n",
       "       (473, '/media/alessandro/DATA/tesi/Nebbia/pre-processed_data/170619/video1_077/trigger_thr0.005_cl9_op3/cc_filtered_2den0.81_gausrad2.0/', list(['mean_170619-video1_077-012_opened_cc01.png']), array([1.00000000e+00, 1.73803764e+03, 9.24440889e+00, 2.40000000e+01,\n",
       "       3.22376078e+00])),\n",
       "       (474, '/media/alessandro/DATA/tesi/Nebbia/pre-processed_data/170619/video1_078/trigger_thr0.005_cl9_op3/cc_filtered_2den0.81_gausrad2.0/', list(['mean_170619-video1_078-001_opened_cc16.png']), array([  1.        , 270.30071189,   7.96702541,   4.        ,\n",
       "         1.87668106])),\n",
       "       (475, '/media/alessandro/DATA/tesi/Nebbia/pre-processed_data/170619/video1_078/trigger_thr0.005_cl9_op3/cc_filtered_2den0.81_gausrad2.0/', list(['mean_170619-video1_078-001_opened_cc28.png']), array([ 1.        , 67.43246729,  4.56753271,  1.        ,  2.02856025])),\n",
       "       (476, '/media/alessandro/DATA/tesi/Nebbia/pre-processed_data/170619/video1_078/trigger_thr0.005_cl9_op3/cc_filtered_2den0.81_gausrad2.0/', list(['mean_170619-video1_078-002_opened_cc09.png']), array([ 1.        , 72.4818018 ,  6.90958634,  2.        ,  1.3005536 ])),\n",
       "       (477, '/media/alessandro/DATA/tesi/Nebbia/pre-processed_data/170619/video1_078/trigger_thr0.005_cl9_op3/cc_filtered_2den0.81_gausrad2.0/', list(['mean_170619-video1_078-002_opened_cc30.png']), array([ 1.        , 91.46485448,  2.77519813,  2.        ,  2.07020971])),\n",
       "       (478, '/media/alessandro/DATA/tesi/Nebbia/pre-processed_data/170619/video1_078/trigger_thr0.005_cl9_op3/cc_filtered_2den0.81_gausrad2.0/', list(['mean_170619-video1_078-013_opened_cc02.png']), array([  1.        , 209.07565255,   3.47160923,   2.        ,\n",
       "         1.7116661 ])),\n",
       "       (479, '/media/alessandro/DATA/tesi/Nebbia/pre-processed_data/170619/video1_078/trigger_thr0.005_cl9_op3/cc_filtered_2den0.81_gausrad2.0/', list(['mean_170619-video1_078-013_opened_cc13.png']), array([  1.        , 469.89858575,   5.56281749,   5.        ,\n",
       "         1.73092892])),\n",
       "       (480, '/media/alessandro/DATA/tesi/Nebbia/pre-processed_data/170619/video1_078/trigger_thr0.005_cl9_op3/cc_filtered_2den0.81_gausrad2.0/', list(['mean_170619-video1_078-013_opened_cc25.png']), array([  1.        , 125.58918716,   3.96322337,   2.        ,\n",
       "         1.37802243])),\n",
       "       (481, '/media/alessandro/DATA/tesi/Nebbia/pre-processed_data/170619/video1_078/trigger_thr0.005_cl9_op3/cc_filtered_2den0.81_gausrad2.0/', list(['mean_170619-video1_078-013_opened_cc30.png']), array([ 1.        , 32.9677083 ,  2.0322917 ,  1.        ,  4.91453579])),\n",
       "       (482, '/media/alessandro/DATA/tesi/Nebbia/pre-processed_data/170619/video1_078/trigger_thr0.005_cl9_op3/cc_filtered_2den0.81_gausrad2.0/', list(['mean_170619-video1_078-014_opened_cc18.png']), array([1.00000000e+00, 1.08695331e+03, 7.43422293e+00, 1.70000000e+01,\n",
       "       2.80152841e+00])),\n",
       "       (483, '/media/alessandro/DATA/tesi/Nebbia/pre-processed_data/170619/video1_078/trigger_thr0.005_cl9_op3/cc_filtered_2den0.81_gausrad2.0/', list(['mean_170619-video1_078-014_opened_cc45.png']), array([  1.        , 177.27074283,   3.90504812,   3.        ,\n",
       "         1.75309482])),\n",
       "       (484, '/media/alessandro/DATA/tesi/Nebbia/pre-processed_data/170619/video1_078/trigger_thr0.005_cl9_op3/cc_filtered_2den0.81_gausrad2.0/', list(['mean_170619-video1_078-014_opened_cc48.png']), array([  1.        , 327.97821046,   7.24850013,   7.        ,\n",
       "         1.65694172])),\n",
       "       (485, '/media/alessandro/DATA/tesi/Nebbia/pre-processed_data/170619/video1_078/trigger_thr0.005_cl9_op3/cc_filtered_2den0.81_gausrad2.0/', list(['mean_170619-video1_078-030_opened_cc03.png']), array([  1.        , 120.39390072,   4.42952862,   2.        ,\n",
       "         1.63276927])),\n",
       "       (486, '/media/alessandro/DATA/tesi/Nebbia/pre-processed_data/170619/video1_078/trigger_thr0.005_cl9_op3/cc_filtered_2den0.81_gausrad2.0/', list(['mean_170619-video1_078-030_opened_cc48.png']), array([  1.        , 414.99272064,   7.11199648,   6.        ,\n",
       "         2.34564007])),\n",
       "       (487, '/media/alessandro/DATA/tesi/Nebbia/pre-processed_data/170619/video1_078/trigger_thr0.005_cl9_op3/cc_filtered_2den0.81_gausrad2.0/', list(['mean_170619-video1_078-038_opened_cc41.png']), array([  1.        , 694.30907919,   4.92658546,  12.        ,\n",
       "         2.21542627])),\n",
       "       (488, '/media/alessandro/DATA/tesi/Nebbia/pre-processed_data/170619/video1_078/trigger_thr0.005_cl9_op3/cc_filtered_2den0.81_gausrad2.0/', list(['mean_170619-video1_078-038_opened_cc63.png']), array([  1.        , 442.70752909,   4.86592814,   8.        ,\n",
       "         2.07366824])),\n",
       "       (489, '/media/alessandro/DATA/tesi/Nebbia/pre-processed_data/170619/video1_078/trigger_thr0.005_cl9_op3/cc_filtered_2den0.81_gausrad2.0/', list(['mean_170619-video1_078-042_opened_cc30.png']), array([  1.        , 129.01632224,   2.32498292,   2.        ,\n",
       "         1.97345578])),\n",
       "       (490, '/media/alessandro/DATA/tesi/Nebbia/pre-processed_data/170619/video1_078/trigger_thr0.005_cl9_op3/cc_filtered_2den0.81_gausrad2.0/', list(['mean_170619-video1_078-042_opened_cc48.png']), array([  1.        , 500.55395005,   4.15142107,   8.        ,\n",
       "         2.72912168])),\n",
       "       (491, '/media/alessandro/DATA/tesi/Nebbia/pre-processed_data/170619/video1_078/trigger_thr0.005_cl9_op3/cc_filtered_2den0.81_gausrad2.0/', list(['mean_170619-video1_078-042_opened_cc57.png']), array([  1.        , 608.91583053,   6.30991646,  10.        ,\n",
       "         2.7374262 ])),\n",
       "       (492, '/media/alessandro/DATA/tesi/Nebbia/pre-processed_data/170619/video1_078/trigger_thr0.005_cl9_op3/cc_filtered_2den0.81_gausrad2.0/', list(['mean_170619-video1_078-001_opened_cc52.png']), array([  1.        , 168.07033085,   5.22130398,   3.        ,\n",
       "         1.59081635])),\n",
       "       (493, '/media/alessandro/DATA/tesi/Nebbia/pre-processed_data/170619/video1_080/trigger_thr0.005_cl9_op3/cc_filtered_2den0.81_gausrad2.0/', list(['mean_170619-video1_080-022_opened_cc03.png']), array([  1.        , 733.25613894,   8.20794426,   8.        ,\n",
       "         2.00632481])),\n",
       "       (494, '/media/alessandro/DATA/tesi/Nebbia/pre-processed_data/170619/video1_080/trigger_thr0.005_cl9_op3/cc_filtered_2den0.81_gausrad2.0/', list(['mean_170619-video1_080-022_opened_cc19.png']), array([  1.        , 354.84430487,   5.83063674,   6.        ,\n",
       "         1.81068938])),\n",
       "       (495, '/media/alessandro/DATA/tesi/Nebbia/pre-processed_data/170619/video1_080/trigger_thr0.005_cl9_op3/cc_filtered_2den0.81_gausrad2.0/', list(['mean_170619-video1_080-022_opened_cc34.png']), array([  1.        , 366.54294662,   8.05247487,   5.        ,\n",
       "         2.04692756])),\n",
       "       (496, '/media/alessandro/DATA/tesi/Nebbia/pre-processed_data/170619/video1_080/trigger_thr0.005_cl9_op3/cc_filtered_2den0.81_gausrad2.0/', list(['mean_170619-video1_080-022_opened_cc57.png']), array([  1.        , 126.39228163,   7.68286318,   3.        ,\n",
       "         1.72317512])),\n",
       "       (497, '/media/alessandro/DATA/tesi/Nebbia/pre-processed_data/170619/video1_080/trigger_thr0.005_cl9_op3/cc_filtered_2den0.81_gausrad2.0/', list(['mean_170619-video1_080-028_opened_cc01.png']), array([  1.        , 214.4548089 ,   5.02805209,   3.        ,\n",
       "         1.83288014])),\n",
       "       (498, '/media/alessandro/DATA/tesi/Nebbia/pre-processed_data/170619/video1_080/trigger_thr0.005_cl9_op3/cc_filtered_2den0.81_gausrad2.0/', list(['mean_170619-video1_080-030_opened_cc02.png']), array([1.00000000e+00, 1.90937572e+03, 8.46499724e+00, 2.40000000e+01,\n",
       "       3.70710638e+00])),\n",
       "       (499, '/media/alessandro/DATA/tesi/Nebbia/pre-processed_data/170619/video1_080/trigger_thr0.005_cl9_op3/cc_filtered_2den0.81_gausrad2.0/', list(['mean_170619-video1_080-030_opened_cc06.png']), array([  1.        , 150.60682537,   3.10286208,   3.        ,\n",
       "         1.57360931])),\n",
       "       (500, '/media/alessandro/DATA/tesi/Nebbia/pre-processed_data/170619/video1_080/trigger_thr0.005_cl9_op3/cc_filtered_2den0.81_gausrad2.0/', list(['mean_170619-video1_080-030_opened_cc12.png']), array([  1.        , 927.6122731 ,   8.41060157,  12.        ,\n",
       "         2.37471769])),\n",
       "       (501, '/media/alessandro/DATA/tesi/Nebbia/pre-processed_data/170619/video1_080/trigger_thr0.005_cl9_op3/cc_filtered_2den0.81_gausrad2.0/', list(['mean_170619-video1_080-030_opened_cc18.png']), array([  1.        , 462.09595418,   9.90603521,   9.        ,\n",
       "         1.26880508])),\n",
       "       (502, '/media/alessandro/DATA/tesi/Nebbia/pre-processed_data/170619/video1_080/trigger_thr0.005_cl9_op3/cc_filtered_2den0.81_gausrad2.0/', list(['mean_170619-video1_080-030_opened_cc38.png']), array([  1.        , 885.66967259,   6.40050533,  13.        ,\n",
       "         2.42270363])),\n",
       "       (503, '/media/alessandro/DATA/tesi/Nebbia/pre-processed_data/170619/video1_080/trigger_thr0.005_cl9_op3/cc_filtered_2den0.81_gausrad2.0/', list(['mean_170619-video1_080-030_opened_cc67.png']), array([  1.        , 667.8981314 ,   4.37387998,  12.        ,\n",
       "         2.44889669])),\n",
       "       (504, '/media/alessandro/DATA/tesi/Nebbia/pre-processed_data/170619/video1_080/trigger_thr0.005_cl9_op3/cc_filtered_2den0.81_gausrad2.0/', list(['mean_170619-video1_080-030_opened_cc73.png']), array([ 1.        , 79.6989999 ,  8.80712727,  2.        ,  1.37086447])),\n",
       "       (505, '/media/alessandro/DATA/tesi/Nebbia/pre-processed_data/170619/video1_080/trigger_thr0.005_cl9_op3/cc_filtered_2den0.81_gausrad2.0/', list(['mean_170619-video1_080-040_opened_cc01.png']), array([  1.        , 211.51268317,   5.60694734,   3.        ,\n",
       "         1.34973578])),\n",
       "       (506, '/media/alessandro/DATA/tesi/Nebbia/pre-processed_data/170619/video1_080/trigger_thr0.005_cl9_op3/cc_filtered_2den0.81_gausrad2.0/', list(['mean_170619-video1_080-040_opened_cc06.png']), array([  1.        , 202.14437114,   3.22532128,   3.        ,\n",
       "         1.49769446])),\n",
       "       (507, '/media/alessandro/DATA/tesi/Nebbia/pre-processed_data/170619/video1_080/trigger_thr0.005_cl9_op3/cc_filtered_2den0.81_gausrad2.0/', list(['mean_170619-video1_080-040_opened_cc14.png']), array([1.00000000e+00, 1.47895218e+03, 8.07754155e+00, 2.00000000e+01,\n",
       "       3.44838732e+00])),\n",
       "       (509, '/media/alessandro/DATA/tesi/Nebbia/pre-processed_data/170619/video1_080/trigger_thr0.005_cl9_op3/cc_filtered_2den0.81_gausrad2.0/', list(['mean_170619-video1_080-040_opened_cc45.png']), array([ 1.        , 81.06046277,  2.43763889,  2.        ,  2.66958417])),\n",
       "       (510, '/media/alessandro/DATA/tesi/Nebbia/pre-processed_data/170619/video1_080/trigger_thr0.005_cl9_op3/cc_filtered_2den0.81_gausrad2.0/', list(['mean_170619-video1_080-040_opened_cc62.png']), array([ 1.        , 75.02221491,  7.47778509,  1.        ,  1.74047194])),\n",
       "       (511, '/media/alessandro/DATA/tesi/Nebbia/pre-processed_data/170619/video1_080/trigger_thr0.005_cl9_op3/cc_filtered_2den0.81_gausrad2.0/', list(['mean_170619-video1_080-040_opened_cc84.png']), array([ 1.        , 82.19272886,  3.71179427,  2.        ,  1.81400686])),\n",
       "       (512, '/media/alessandro/DATA/tesi/Nebbia/pre-processed_data/170619/video1_080/trigger_thr0.005_cl9_op3/cc_filtered_2den0.81_gausrad2.0/', list(['mean_170619-video1_080-040_opened_cc92.png']), array([  1.        , 115.03811433,   3.13086023,   2.        ,\n",
       "         2.8537444 ])),\n",
       "       (513, '/media/alessandro/DATA/tesi/Nebbia/pre-processed_data/170619/video1_080/trigger_thr0.005_cl9_op3/cc_filtered_2den0.81_gausrad2.0/', list(['mean_170619-video1_080-042_opened_cc08.png']), array([1.00000000e+00, 1.99049326e+03, 7.33840589e+00, 3.20000000e+01,\n",
       "       3.75467870e+00])),\n",
       "       (514, '/media/alessandro/DATA/tesi/Nebbia/pre-processed_data/170619/video1_080/trigger_thr0.005_cl9_op3/cc_filtered_2den0.81_gausrad2.0/', list(['mean_170619-video1_080-042_opened_cc43.png']), array([  1.        , 106.33698924,   4.75485528,   2.        ,\n",
       "         1.54224997])),\n",
       "       (515, '/media/alessandro/DATA/tesi/Nebbia/pre-processed_data/170619/video1_080/trigger_thr0.005_cl9_op3/cc_filtered_2den0.81_gausrad2.0/', list(['mean_170619-video1_080-042_opened_cc50.png']), array([  1.        , 138.41996548,   8.43792116,   2.        ,\n",
       "         1.29687688])),\n",
       "       (516, '/media/alessandro/DATA/tesi/Nebbia/pre-processed_data/170619/video1_080/trigger_thr0.005_cl9_op3/cc_filtered_2den0.81_gausrad2.0/', list(['mean_170619-video1_080-042_opened_cc51.png']), array([ 1.        , 88.20606774,  5.34322802,  2.        ,  1.26984234])),\n",
       "       (517, '/media/alessandro/DATA/tesi/Nebbia/pre-processed_data/170619/video1_081/trigger_thr0.005_cl9_op3/cc_filtered_2den0.81_gausrad2.0/', list(['mean_170619-video1_081-018_opened_cc25.png']), array([  1.        , 100.14210847,   3.68715406,   2.        ,\n",
       "         2.10047256])),\n",
       "       (518, '/media/alessandro/DATA/tesi/Nebbia/pre-processed_data/170619/video1_081/trigger_thr0.005_cl9_op3/cc_filtered_2den0.81_gausrad2.0/', list(['mean_170619-video1_081-024_opened_cc02.png']), array([  1.        , 271.91925875,   6.06216529,   5.        ,\n",
       "         1.48167832])),\n",
       "       (519, '/media/alessandro/DATA/tesi/Nebbia/pre-processed_data/170619/video1_081/trigger_thr0.005_cl9_op3/cc_filtered_2den0.81_gausrad2.0/', list(['mean_170619-video1_081-024_opened_cc04.png']), array([ 1.        , 73.30051884, 14.64498747,  2.        ,  1.        ])),\n",
       "       (520, '/media/alessandro/DATA/tesi/Nebbia/pre-processed_data/170619/video1_081/trigger_thr0.005_cl9_op3/cc_filtered_2den0.81_gausrad2.0/', list(['mean_170619-video1_081-024_opened_cc12.png']), array([1.00000000e+00, 1.44327137e+03, 6.72980296e+00, 2.10000000e+01,\n",
       "       3.46978329e+00])),\n",
       "       (521, '/media/alessandro/DATA/tesi/Nebbia/pre-processed_data/170619/video1_081/trigger_thr0.005_cl9_op3/cc_filtered_2den0.81_gausrad2.0/', list(['mean_170619-video1_081-024_opened_cc16.png']), array([  1.        , 486.85900304,   6.71651794,   6.        ,\n",
       "         1.38898061])),\n",
       "       (522, '/media/alessandro/DATA/tesi/Nebbia/pre-processed_data/170619/video1_081/trigger_thr0.005_cl9_op3/cc_filtered_2den0.81_gausrad2.0/', list(['mean_170619-video1_081-038_opened_cc03.png']), array([ 1.        , 79.79228411, 10.23922814,  2.        ,  1.        ])),\n",
       "       (523, '/media/alessandro/DATA/tesi/Nebbia/pre-processed_data/170619/video1_081/trigger_thr0.005_cl9_op3/cc_filtered_2den0.81_gausrad2.0/', list(['mean_170619-video1_081-038_opened_cc17.png']), array([  1.        , 112.9818008 ,   5.30717949,   2.        ,\n",
       "         1.37619046])),\n",
       "       (524, '/media/alessandro/DATA/tesi/Nebbia/pre-processed_data/170619/video1_081/trigger_thr0.005_cl9_op3/cc_filtered_2den0.81_gausrad2.0/', list(['mean_170619-video1_081-038_opened_cc21.png']), array([  1.        , 726.27745723,   6.66691487,  10.        ,\n",
       "         2.16150176])),\n",
       "       (525, '/media/alessandro/DATA/tesi/Nebbia/pre-processed_data/170619/video1_081/trigger_thr0.005_cl9_op3/cc_filtered_2den0.81_gausrad2.0/', list(['mean_170619-video1_081-038_opened_cc22.png']), array([  1.        , 135.4102399 ,   2.508244  ,   3.        ,\n",
       "         2.58076465])),\n",
       "       (526, '/media/alessandro/DATA/tesi/Nebbia/pre-processed_data/170619/video1_081/trigger_thr0.005_cl9_op3/cc_filtered_2den0.81_gausrad2.0/', list(['mean_170619-video1_081-038_opened_cc41.png']), array([ 1.        , 98.79736546,  7.70263454,  1.        ,  1.46434779])),\n",
       "       (527, '/media/alessandro/DATA/tesi/Nebbia/pre-processed_data/170619/video1_081/trigger_thr0.005_cl9_op3/cc_filtered_2den0.81_gausrad2.0/', list(['mean_170619-video1_081-038_opened_cc47.png']), array([  1.        , 499.08303785,   6.40323986,   9.        ,\n",
       "         2.10478664])),\n",
       "       (528, '/media/alessandro/DATA/tesi/Nebbia/pre-processed_data/170619/video1_082/trigger_thr0.005_cl9_op3/cc_filtered_2den0.81_gausrad2.0/', list(['mean_170619-video1_082-003_opened_cc02.png']), array([ 1.        , 34.55868846,  8.94131154,  1.        ,  1.53784145])),\n",
       "       (529, '/media/alessandro/DATA/tesi/Nebbia/pre-processed_data/170619/video1_082/trigger_thr0.005_cl9_op3/cc_filtered_2den0.81_gausrad2.0/', list(['mean_170619-video1_082-003_opened_cc40.png']), array([  1.        , 251.97206403,   4.54170808,   4.        ,\n",
       "         2.004265  ])),\n",
       "       (530, '/media/alessandro/DATA/tesi/Nebbia/pre-processed_data/170619/video1_082/trigger_thr0.005_cl9_op3/cc_filtered_2den0.81_gausrad2.0/', list(['mean_170619-video1_082-004_opened_cc23.png']), array([  1.        , 322.26036129,   5.24554679,   5.        ,\n",
       "         1.98078858])),\n",
       "       (531, '/media/alessandro/DATA/tesi/Nebbia/pre-processed_data/170619/video1_082/trigger_thr0.005_cl9_op3/cc_filtered_2den0.81_gausrad2.0/', list(['mean_170619-video1_082-004_opened_cc34.png']), array([1.00000000e+00, 1.40848845e+03, 5.86184547e+00, 2.10000000e+01,\n",
       "       4.06553247e+00])),\n",
       "       (532, '/media/alessandro/DATA/tesi/Nebbia/pre-processed_data/170619/video1_082/trigger_thr0.005_cl9_op3/cc_filtered_2den0.81_gausrad2.0/', list(['mean_170619-video1_082-004_opened_cc42.png']), array([  1.        , 686.58425265,   7.35988097,  12.        ,\n",
       "         1.80745166])),\n",
       "       (533, '/media/alessandro/DATA/tesi/Nebbia/pre-processed_data/170619/video1_082/trigger_thr0.005_cl9_op3/cc_filtered_2den0.81_gausrad2.0/', list(['mean_170619-video1_082-004_opened_cc68.png']), array([ 1.        , 33.86377775,  4.63622225,  1.        ,  1.80238703])),\n",
       "       (534, '/media/alessandro/DATA/tesi/Nebbia/pre-processed_data/170619/video1_082/trigger_thr0.005_cl9_op3/cc_filtered_2den0.81_gausrad2.0/', list(['mean_170619-video1_082-008_opened_cc01.png']), array([  1.        , 297.79915001,   6.670642  ,   4.        ,\n",
       "         1.88367325])),\n",
       "       (535, '/media/alessandro/DATA/tesi/Nebbia/pre-processed_data/170619/video1_082/trigger_thr0.005_cl9_op3/cc_filtered_2den0.81_gausrad2.0/', list(['mean_170619-video1_082-008_opened_cc06.png']), array([ 1.        , 45.43817723,  5.06182277,  1.        ,  2.04643258])),\n",
       "       (536, '/media/alessandro/DATA/tesi/Nebbia/pre-processed_data/170619/video1_082/trigger_thr0.005_cl9_op3/cc_filtered_2den0.81_gausrad2.0/', list(['mean_170619-video1_082-008_opened_cc07.png']), array([  1.        , 420.95560849,   4.55895647,   6.        ,\n",
       "         2.68304254])),\n",
       "       (537, '/media/alessandro/DATA/tesi/Nebbia/pre-processed_data/170619/video1_082/trigger_thr0.005_cl9_op3/cc_filtered_2den0.81_gausrad2.0/', list(['mean_170619-video1_082-008_opened_cc09.png']), array([  1.        , 173.52131198,   3.84090001,   4.        ,\n",
       "         1.85895538])),\n",
       "       (538, '/media/alessandro/DATA/tesi/Nebbia/pre-processed_data/170619/video1_082/trigger_thr0.005_cl9_op3/cc_filtered_2den0.81_gausrad2.0/', list(['mean_170619-video1_082-008_opened_cc14.png']), array([  1.        , 541.27925497,   7.63613017,   7.        ,\n",
       "         2.41092984])),\n",
       "       (539, '/media/alessandro/DATA/tesi/Nebbia/pre-processed_data/170619/video1_082/trigger_thr0.005_cl9_op3/cc_filtered_2den0.81_gausrad2.0/', list(['mean_170619-video1_082-008_opened_cc63.png']), array([  1.        , 145.18158707,   4.52117826,   3.        ,\n",
       "         2.23356288])),\n",
       "       (540, '/media/alessandro/DATA/tesi/Nebbia/pre-processed_data/170619/video1_082/trigger_thr0.005_cl9_op3/cc_filtered_2den0.81_gausrad2.0/', list(['mean_170619-video1_082-008_opened_cc71.png']), array([ 1.        , 89.57702777,  1.86744756,  2.        ,  1.7533814 ])),\n",
       "       (541, '/media/alessandro/DATA/tesi/Nebbia/pre-processed_data/170619/video1_082/trigger_thr0.005_cl9_op3/cc_filtered_2den0.81_gausrad2.0/', list(['mean_170619-video1_082-008_opened_cc89.png']), array([  1.        , 195.56221107,   3.81553614,   4.        ,\n",
       "         1.73506079])),\n",
       "       (542, '/media/alessandro/DATA/tesi/Nebbia/pre-processed_data/170619/video1_082/trigger_thr0.005_cl9_op3/cc_filtered_2den0.81_gausrad2.0/', list(['mean_170619-video1_082-009_opened_cc03.png']), array([  1.        , 319.50180125,   5.35659408,   4.        ,\n",
       "         2.38374448])),\n",
       "       (543, '/media/alessandro/DATA/tesi/Nebbia/pre-processed_data/170619/video1_082/trigger_thr0.005_cl9_op3/cc_filtered_2den0.81_gausrad2.0/', list(['mean_170619-video1_082-009_opened_cc06.png']), array([  1.        , 442.49575191,   6.38163315,   7.        ,\n",
       "         1.87462862])),\n",
       "       (544, '/media/alessandro/DATA/tesi/Nebbia/pre-processed_data/170619/video1_082/trigger_thr0.005_cl9_op3/cc_filtered_2den0.81_gausrad2.0/', list(['mean_170619-video1_082-009_opened_cc21.png']), array([  1.        , 347.46603114,   6.80052702,   7.        ,\n",
       "         2.34838682])),\n",
       "       (545, '/media/alessandro/DATA/tesi/Nebbia/pre-processed_data/170619/video1_082/trigger_thr0.005_cl9_op3/cc_filtered_2den0.81_gausrad2.0/', list(['mean_170619-video1_082-009_opened_cc38.png']), array([  1.        , 108.58497744,   9.57059809,   3.        ,\n",
       "         1.55295806])),\n",
       "       (546, '/media/alessandro/DATA/tesi/Nebbia/pre-processed_data/170619/video1_082/trigger_thr0.005_cl9_op3/cc_filtered_2den0.81_gausrad2.0/', list(['mean_170619-video1_082-004_opened_cc39.png']), array([  1.        , 832.99043066,   6.7206847 ,  11.        ,\n",
       "         3.14121378])),\n",
       "       (547, '/media/alessandro/DATA/tesi/Nebbia/pre-processed_data/170619/video1_082/trigger_thr0.005_cl9_op3/cc_filtered_2den0.81_gausrad2.0/', list(['mean_170619-video1_082-018_opened_cc13.png']), array([ 1.        , 86.73713374,  4.16624473,  2.        ,  2.00901007])),\n",
       "       (548, '/media/alessandro/DATA/tesi/Nebbia/pre-processed_data/170619/video1_082/trigger_thr0.005_cl9_op3/cc_filtered_2den0.81_gausrad2.0/', list(['mean_170619-video1_082-020_opened_cc42.png']), array([  1.        , 131.59180532,   8.55808561,   2.        ,\n",
       "         1.16162178])),\n",
       "       (549, '/media/alessandro/DATA/tesi/Nebbia/pre-processed_data/170619/video1_082/trigger_thr0.005_cl9_op3/cc_filtered_2den0.81_gausrad2.0/', list(['mean_170619-video1_082-009_opened_cc54.png']), array([ 1.        , 81.82082665, 12.58986252,  2.        ,  1.77829347])),\n",
       "       (550, '/media/alessandro/DATA/tesi/Nebbia/pre-processed_data/170619/video1_082/trigger_thr0.005_cl9_op3/cc_filtered_2den0.81_gausrad2.0/', list(['mean_170619-video1_082-009_opened_cc68.png']), array([  1.        , 258.67124335,   4.86106367,   4.        ,\n",
       "         1.70618412])),\n",
       "       (551, '/media/alessandro/DATA/tesi/Nebbia/pre-processed_data/170619/video1_082/trigger_thr0.005_cl9_op3/cc_filtered_2den0.81_gausrad2.0/', list(['mean_170619-video1_082-009_opened_cc69.png']), array([  1.        , 229.81907911,  10.09675733,   5.        ,\n",
       "         1.86499934])),\n",
       "       (552, '/media/alessandro/DATA/tesi/Nebbia/pre-processed_data/170619/video1_082/trigger_thr0.005_cl9_op3/cc_filtered_2den0.81_gausrad2.0/', list(['mean_170619-video1_082-009_opened_cc74.png']), array([ 1.        , 69.22865113,  7.77134887,  1.        ,  1.45720311])),\n",
       "       (553, '/media/alessandro/DATA/tesi/Nebbia/pre-processed_data/170619/video1_082/trigger_thr0.005_cl9_op3/cc_filtered_2den0.81_gausrad2.0/', list(['mean_170619-video1_082-009_opened_cc79.png']), array([  1.        , 203.29669952,   3.65722214,   3.        ,\n",
       "         1.95216063])),\n",
       "       (554, '/media/alessandro/DATA/tesi/Nebbia/pre-processed_data/170619/video1_082/trigger_thr0.005_cl9_op3/cc_filtered_2den0.81_gausrad2.0/', list(['mean_170619-video1_082-009_opened_cc91.png']), array([  1.        , 162.58102919,   5.3093756 ,   4.        ,\n",
       "         1.43601751])),\n",
       "       (555, '/media/alessandro/DATA/tesi/Nebbia/pre-processed_data/170619/video1_082/trigger_thr0.005_cl9_op3/cc_filtered_2den0.81_gausrad2.0/', list(['mean_170619-video1_082-018_opened_cc02.png']), array([1.00000000e+00, 1.50016115e+03, 8.34957120e+00, 1.90000000e+01,\n",
       "       3.74549013e+00])),\n",
       "       (556, '/media/alessandro/DATA/tesi/Nebbia/pre-processed_data/170619/video1_082/trigger_thr0.005_cl9_op3/cc_filtered_2den0.81_gausrad2.0/', list(['mean_170619-video1_082-018_opened_cc04.png']), array([  1.        , 212.64661119,   2.03561192,   5.        ,\n",
       "         2.17291993])),\n",
       "       (557, '/media/alessandro/DATA/tesi/Nebbia/pre-processed_data/170619/video1_082/trigger_thr0.005_cl9_op3/cc_filtered_2den0.81_gausrad2.0/', list(['mean_170619-video1_082-018_opened_cc08.png']), array([  1.        , 141.51151959,   8.01982533,   3.        ,\n",
       "         1.64149266])),\n",
       "       (558, '/media/alessandro/DATA/tesi/Nebbia/pre-processed_data/170619/video1_082/trigger_thr0.005_cl9_op3/cc_filtered_2den0.81_gausrad2.0/', list(['mean_170619-video1_082-018_opened_cc11.png']), array([  1.        , 550.12803704,   6.97428582,  13.        ,\n",
       "         2.26252243])),\n",
       "       (559, '/media/alessandro/DATA/tesi/Nebbia/pre-processed_data/170619/video1_082/trigger_thr0.005_cl9_op3/cc_filtered_2den0.81_gausrad2.0/', list(['mean_170619-video1_082-018_opened_cc21.png']), array([  1.        , 153.21941035,  10.57474235,   3.        ,\n",
       "         1.66680745])),\n",
       "       (560, '/media/alessandro/DATA/tesi/Nebbia/pre-processed_data/170619/video1_082/trigger_thr0.005_cl9_op3/cc_filtered_2den0.81_gausrad2.0/', list(['mean_170619-video1_082-018_opened_cc33.png']), array([  1.        , 226.81516628,   3.53513102,   5.        ,\n",
       "         3.22153335])),\n",
       "       (561, '/media/alessandro/DATA/tesi/Nebbia/pre-processed_data/170619/video1_082/trigger_thr0.005_cl9_op3/cc_filtered_2den0.81_gausrad2.0/', list(['mean_170619-video1_082-020_opened_cc58.png']), array([  1.        , 134.24455719,   3.03319625,   2.        ,\n",
       "         2.2370986 ])),\n",
       "       (562, '/media/alessandro/DATA/tesi/Nebbia/pre-processed_data/170619/video1_082/trigger_thr0.005_cl9_op3/cc_filtered_2den0.81_gausrad2.0/', list(['mean_170619-video1_082-021_opened_cc18.png']), array([  1.        , 231.38838426,   7.13115717,   2.        ,\n",
       "         3.65857159])),\n",
       "       (563, '/media/alessandro/DATA/tesi/Nebbia/pre-processed_data/170619/video1_082/trigger_thr0.005_cl9_op3/cc_filtered_2den0.81_gausrad2.0/', list(['mean_170619-video1_082-021_opened_cc19.png']), array([1.00000000e+00, 1.00042047e+03, 4.98123104e+00, 2.00000000e+01,\n",
       "       2.89933106e+00])),\n",
       "       (564, '/media/alessandro/DATA/tesi/Nebbia/pre-processed_data/170619/video1_082/trigger_thr0.005_cl9_op3/cc_filtered_2den0.81_gausrad2.0/', list(['mean_170619-video1_082-021_opened_cc25.png']), array([  1.        , 227.2399276 ,   6.10443628,   5.        ,\n",
       "         1.51017491])),\n",
       "       (565, '/media/alessandro/DATA/tesi/Nebbia/pre-processed_data/170619/video1_082/trigger_thr0.005_cl9_op3/cc_filtered_2den0.81_gausrad2.0/', list(['mean_170619-video1_082-021_opened_cc37.png']), array([  1.        , 567.18214041,   6.58005693,  10.        ,\n",
       "         1.57401886])),\n",
       "       (566, '/media/alessandro/DATA/tesi/Nebbia/pre-processed_data/170619/video1_082/trigger_thr0.005_cl9_op3/cc_filtered_2den0.81_gausrad2.0/', list(['mean_170619-video1_082-021_opened_cc41.png']), array([  1.        , 749.71586508,   5.97771117,  13.        ,\n",
       "         2.9948172 ])),\n",
       "       (567, '/media/alessandro/DATA/tesi/Nebbia/pre-processed_data/170619/video1_082/trigger_thr0.005_cl9_op3/cc_filtered_2den0.81_gausrad2.0/', list(['mean_170619-video1_082-021_opened_cc78.png']), array([ 1.        , 95.62012315,  8.94748454,  2.        ,  1.44070924])),\n",
       "       (568, '/media/alessandro/DATA/tesi/Nebbia/pre-processed_data/170619/video1_082/trigger_thr0.005_cl9_op3/cc_filtered_2den0.81_gausrad2.0/', list(['mean_170619-video1_082-026_opened_cc17.png']), array([  1.        , 726.05140671,   6.91534746,  12.        ,\n",
       "         1.61499152])),\n",
       "       (569, '/media/alessandro/DATA/tesi/Nebbia/pre-processed_data/170619/video1_082/trigger_thr0.005_cl9_op3/cc_filtered_2den0.81_gausrad2.0/', list(['mean_170619-video1_082-026_opened_cc25.png']), array([  1.        , 349.92512474,   9.0261445 ,   5.        ,\n",
       "         1.69475636])),\n",
       "       (571, '/media/alessandro/DATA/tesi/Nebbia/pre-processed_data/170619/video1_084/trigger_thr0.005_cl9_op3/cc_filtered_2den0.81_gausrad2.0/', list(['mean_170619-video1_084-018_opened_cc11.png']), array([  1.        , 361.62823742,  11.04002261,   3.        ,\n",
       "         2.09961738])),\n",
       "       (572, '/media/alessandro/DATA/tesi/Nebbia/pre-processed_data/170619/video1_084/trigger_thr0.005_cl9_op3/cc_filtered_2den0.81_gausrad2.0/', list(['mean_170619-video1_084-014_opened_cc01.png']), array([1.00000000e+00, 1.78337664e+03, 6.98672909e+00, 2.20000000e+01,\n",
       "       3.45583830e+00])),\n",
       "       (573, '/media/alessandro/DATA/tesi/Nebbia/pre-processed_data/170619/video1_084/trigger_thr0.005_cl9_op3/cc_filtered_2den0.81_gausrad2.0/', list(['mean_170619-video1_084-014_opened_cc31.png']), array([  1.        , 174.45959928,   4.82497106,   4.        ,\n",
       "         1.64226822])),\n",
       "       (574, '/media/alessandro/DATA/tesi/Nebbia/pre-processed_data/170619/video1_084/trigger_thr0.005_cl9_op3/cc_filtered_2den0.81_gausrad2.0/', list(['mean_170619-video1_084-014_opened_cc34.png']), array([  1.        , 425.62317724,   6.31356711,   7.        ,\n",
       "         1.91131643])),\n",
       "       (575, '/media/alessandro/DATA/tesi/Nebbia/pre-processed_data/170619/video1_084/trigger_thr0.005_cl9_op3/cc_filtered_2den0.81_gausrad2.0/', list(['mean_170619-video1_084-014_opened_cc35.png']), array([  1.        , 114.99099026,   4.00900974,   1.        ,\n",
       "         1.82433475])),\n",
       "       (576, '/media/alessandro/DATA/tesi/Nebbia/pre-processed_data/170619/video1_084/trigger_thr0.005_cl9_op3/cc_filtered_2den0.81_gausrad2.0/', list(['mean_170619-video1_084-018_opened_cc07.png']), array([ 1.        , 77.74528084,  2.39859409,  2.        ,  2.91978531])),\n",
       "       (577, '/media/alessandro/DATA/tesi/Nebbia/pre-processed_data/170619/video1_084/trigger_thr0.005_cl9_op3/cc_filtered_2den0.81_gausrad2.0/', list(['mean_170619-video1_084-038_opened_cc10.png']), array([  1.        , 725.95247508,  12.43713268,  13.        ,\n",
       "         2.60196348])),\n",
       "       (578, '/media/alessandro/DATA/tesi/Nebbia/pre-processed_data/170619/video1_084/trigger_thr0.005_cl9_op3/cc_filtered_2den0.81_gausrad2.0/', list(['mean_170619-video1_084-038_opened_cc11.png']), array([  1.        , 308.91322603,   7.33686855,   5.        ,\n",
       "         1.2708605 ])),\n",
       "       (579, '/media/alessandro/DATA/tesi/Nebbia/pre-processed_data/170619/video1_084/trigger_thr0.005_cl9_op3/cc_filtered_2den0.81_gausrad2.0/', list(['mean_170619-video1_084-038_opened_cc18.png']), array([  1.        , 138.10631776,   4.0632421 ,   2.        ,\n",
       "         2.24244668])),\n",
       "       (580, '/media/alessandro/DATA/tesi/Nebbia/pre-processed_data/170619/video1_084/trigger_thr0.005_cl9_op3/cc_filtered_2den0.81_gausrad2.0/', list(['mean_170619-video1_084-038_opened_cc40.png']), array([  1.        , 256.52974196,   3.51215791,   5.        ,\n",
       "         1.57677221])),\n",
       "       (581, '/media/alessandro/DATA/tesi/Nebbia/pre-processed_data/170619/video1_084/trigger_thr0.005_cl9_op3/cc_filtered_2den0.81_gausrad2.0/', list(['mean_170619-video1_084-038_opened_cc57.png']), array([  1.        , 255.3411331 ,   7.08433244,   5.        ,\n",
       "         2.00306065])),\n",
       "       (582, '/media/alessandro/DATA/tesi/Nebbia/pre-processed_data/170619/video1_084/trigger_thr0.005_cl9_op3/cc_filtered_2den0.81_gausrad2.0/', list(['mean_170619-video1_084-038_opened_cc68.png']), array([ 1.        , 86.91762853,  6.76603883,  2.        ,  1.16304436])),\n",
       "       (583, '/media/alessandro/DATA/tesi/Nebbia/pre-processed_data/170619/video1_084/trigger_thr0.005_cl9_op3/cc_filtered_2den0.81_gausrad2.0/', list(['mean_170619-video1_084-038_opened_cc80.png']), array([  1.        , 155.52046934,   4.7601898 ,   3.        ,\n",
       "         1.65512882])),\n",
       "       (584, '/media/alessandro/DATA/tesi/Nebbia/pre-processed_data/170619/video1_085/trigger_thr0.005_cl9_op3/cc_filtered_2den0.81_gausrad2.0/', list(['mean_170619-video1_085-038_opened_cc02.png']), array([ 1.        , 71.15060642, 12.93907848,  2.        ,  1.        ])),\n",
       "       (585, '/media/alessandro/DATA/tesi/Nebbia/pre-processed_data/170619/video1_091/trigger_thr0.005_cl9_op3/cc_filtered_2den0.81_gausrad2.0/', list(['mean_170619-video1_091-040_opened_cc02.png']), array([  1.        , 173.02702094,   3.85513847,   3.        ,\n",
       "         1.67037534])),\n",
       "       (586, '/media/alessandro/DATA/tesi/Nebbia/pre-processed_data/170619/video1_096/trigger_thr0.005_cl9_op3/cc_filtered_2den0.81_gausrad2.0/', list(['mean_170619-video1_096-022_opened_cc05.png']), array([  1.        , 105.25512298,   6.29100626,   2.        ,\n",
       "         1.23769613])),\n",
       "       (587, '/media/alessandro/DATA/tesi/Nebbia/pre-processed_data/170619/video1_096/trigger_thr0.005_cl9_op3/cc_filtered_2den0.81_gausrad2.0/', list(['mean_170619-video1_096-040_opened_cc05.png']), array([ 1.        , 90.2948293 ,  5.2051707 ,  1.        ,  1.94599117])),\n",
       "       (588, '/media/alessandro/DATA/tesi/Nebbia/pre-processed_data/170619/video1_096/trigger_thr0.005_cl9_op3/cc_filtered_2den0.81_gausrad2.0/', list(['mean_170619-video1_096-040_opened_cc15.png']), array([  1.        , 180.40931578,   7.25781504,   4.        ,\n",
       "         1.92876693])),\n",
       "       (589, '/media/alessandro/DATA/tesi/Nebbia/pre-processed_data/170619/video1_019/trigger_thr0.005_cl9_op3/cc_filtered_2den0.81_gausrad2.0/', list(['mean_170619-video1_019-013_opened_cc17.png']), array([  1.        , 146.8781631 ,   9.64719735,   2.        ,\n",
       "         1.05634944])),\n",
       "       (590, '/media/alessandro/DATA/tesi/Nebbia/pre-processed_data/170619/video1_019/trigger_thr0.005_cl9_op3/cc_filtered_2den0.81_gausrad2.0/', list(['mean_170619-video1_019-013_opened_cc34.png']), array([  1.        , 210.38555628,   7.26008261,   3.        ,\n",
       "         1.86525505])),\n",
       "       (591, '/media/alessandro/DATA/tesi/Nebbia/pre-processed_data/170619/video1_019/trigger_thr0.005_cl9_op3/cc_filtered_2den0.81_gausrad2.0/', list(['mean_170619-video1_019-014_opened_cc06.png']), array([1.00000000e+00, 1.24850965e+03, 1.31270579e+01, 1.30000000e+01,\n",
       "       2.57322406e+00])),\n",
       "       (592, '/media/alessandro/DATA/tesi/Nebbia/pre-processed_data/170619/video1_019/trigger_thr0.005_cl9_op3/cc_filtered_2den0.81_gausrad2.0/', list(['mean_170619-video1_019-014_opened_cc37.png']), array([  1.        , 163.27870471,   5.68180296,   2.        ,\n",
       "         3.26688111])),\n",
       "       (593, '/media/alessandro/DATA/tesi/Nebbia/pre-processed_data/170619/video1_019/trigger_thr0.005_cl9_op3/cc_filtered_2den0.81_gausrad2.0/', list(['mean_170619-video1_019-014_opened_cc48.png']), array([  1.        , 313.11281129,   4.22653961,   6.        ,\n",
       "         1.91675778])),\n",
       "       (594, '/media/alessandro/DATA/tesi/Nebbia/pre-processed_data/170619/video1_019/trigger_thr0.005_cl9_op3/cc_filtered_2den0.81_gausrad2.0/', list(['mean_170619-video1_019-017_opened_cc08.png']), array([  1.        , 106.02717101,   6.04058506,   2.        ,\n",
       "         1.34916023])),\n",
       "       (595, '/media/alessandro/DATA/tesi/Nebbia/pre-processed_data/170619/video1_019/trigger_thr0.005_cl9_op3/cc_filtered_2den0.81_gausrad2.0/', list(['mean_170619-video1_019-017_opened_cc24.png']), array([  1.        , 176.8607199 ,  11.82499127,   2.        ,\n",
       "         1.39624467])),\n",
       "       (596, '/media/alessandro/DATA/tesi/Nebbia/pre-processed_data/170619/video1_019/trigger_thr0.005_cl9_op3/cc_filtered_2den0.81_gausrad2.0/', list(['mean_170619-video1_019-017_opened_cc31.png']), array([  1.        , 333.40848883,   7.90283394,   3.        ,\n",
       "         1.71536748])),\n",
       "       (597, '/media/alessandro/DATA/tesi/Nebbia/pre-processed_data/170619/video1_019/trigger_thr0.005_cl9_op3/cc_filtered_2den0.81_gausrad2.0/', list(['mean_170619-video1_019-019_opened_cc43.png']), array([  1.        , 451.92015247,   8.3440905 ,   8.        ,\n",
       "         2.23449207])),\n",
       "       (598, '/media/alessandro/DATA/tesi/Nebbia/pre-processed_data/170619/video1_019/trigger_thr0.005_cl9_op3/cc_filtered_2den0.81_gausrad2.0/', list(['mean_170619-video1_019-029_opened_cc16.png']), array([  1.        , 312.54686916,  10.42892592,   5.        ,\n",
       "         1.36296346])),\n",
       "       (599, '/media/alessandro/DATA/tesi/Nebbia/pre-processed_data/170619/video1_019/trigger_thr0.005_cl9_op3/cc_filtered_2den0.81_gausrad2.0/', list(['mean_170619-video1_019-029_opened_cc31.png']), array([  1.        , 197.68020112,   6.19668569,   5.        ,\n",
       "         1.53763417])),\n",
       "       (600, '/media/alessandro/DATA/tesi/Nebbia/pre-processed_data/170619/video1_019/trigger_thr0.005_cl9_op3/cc_filtered_2den0.81_gausrad2.0/', list(['mean_170619-video1_019-043_opened_cc06.png']), array([  1.        , 129.72022531,   9.29843788,   4.        ,\n",
       "         1.22181993])),\n",
       "       (601, '/media/alessandro/DATA/tesi/Nebbia/pre-processed_data/170619/video1_019/trigger_thr0.005_cl9_op3/cc_filtered_2den0.81_gausrad2.0/', list(['mean_170619-video1_019-043_opened_cc11.png']), array([  1.        , 517.84253301,   3.70768835,   8.        ,\n",
       "         2.03539297])),\n",
       "       (602, '/media/alessandro/DATA/tesi/Nebbia/pre-processed_data/170619/video1_019/trigger_thr0.005_cl9_op3/cc_filtered_2den0.81_gausrad2.0/', list(['mean_170619-video1_019-043_opened_cc12.png']), array([  1.        , 124.97070412,   5.52929588,   1.        ,\n",
       "         1.5052342 ])),\n",
       "       (603, '/media/alessandro/DATA/tesi/Nebbia/pre-processed_data/170619/video1_019/trigger_thr0.005_cl9_op3/cc_filtered_2den0.81_gausrad2.0/', list(['mean_170619-video1_019-019_opened_cc06.png']), array([  1.        , 149.09740788,   4.73737211,   3.        ,\n",
       "         1.22723269])),\n",
       "       (604, '/media/alessandro/DATA/tesi/Nebbia/pre-processed_data/170619/video1_039/trigger_thr0.005_cl9_op3/cc_filtered_2den0.81_gausrad2.0/', list(['mean_170619-video1_039-001_opened_cc14.png', 'mean_170619-video1_039-002_opened_cc10.png', 'mean_170619-video1_039-003_opened_cc06.png']), array([  3.        , 124.67156032,  14.66177301,   1.        ,\n",
       "         1.        ])),\n",
       "       (605, '/media/alessandro/DATA/tesi/Nebbia/pre-processed_data/170619/video1_059/trigger_thr0.005_cl9_op3/cc_filtered_2den0.81_gausrad2.0/', list(['mean_170619-video1_059-026_opened_cc04.png']), array([  1.        , 124.58339951,   7.85945589,   3.        ,\n",
       "         1.38051552])),\n",
       "       (606, '/media/alessandro/DATA/tesi/Nebbia/pre-processed_data/170619/video1_079/trigger_thr0.005_cl9_op3/cc_filtered_2den0.81_gausrad2.0/', list(['mean_170619-video1_079-002_opened_cc40.png']), array([  1.        , 212.06102316,   0.88285529,   3.        ,\n",
       "         2.37314018])),\n",
       "       (607, '/media/alessandro/DATA/tesi/Nebbia/pre-processed_data/170619/video1_079/trigger_thr0.005_cl9_op3/cc_filtered_2den0.81_gausrad2.0/', list(['mean_170619-video1_079-002_opened_cc43.png']), array([  1.        , 217.17369852,   9.75800205,   4.        ,\n",
       "         1.61188118])),\n",
       "       (608, '/media/alessandro/DATA/tesi/Nebbia/pre-processed_data/170619/video1_079/trigger_thr0.005_cl9_op3/cc_filtered_2den0.81_gausrad2.0/', list(['mean_170619-video1_079-002_opened_cc50.png']), array([  1.        , 163.63080861,   6.73681135,   3.        ,\n",
       "         1.74808865])),\n",
       "       (609, '/media/alessandro/DATA/tesi/Nebbia/pre-processed_data/170619/video1_079/trigger_thr0.005_cl9_op3/cc_filtered_2den0.81_gausrad2.0/', list(['mean_170619-video1_079-002_opened_cc66.png']), array([ 1.        , 63.81610303,  4.18389697,  1.        ,  2.63847113])),\n",
       "       (610, '/media/alessandro/DATA/tesi/Nebbia/pre-processed_data/170619/video1_079/trigger_thr0.005_cl9_op3/cc_filtered_2den0.81_gausrad2.0/', list(['mean_170619-video1_079-010_opened_cc54.png']), array([  1.        , 254.77546283,   3.32882986,   5.        ,\n",
       "         2.13247895])),\n",
       "       (611, '/media/alessandro/DATA/tesi/Nebbia/pre-processed_data/170619/video1_079/trigger_thr0.005_cl9_op3/cc_filtered_2den0.81_gausrad2.0/', list(['mean_170619-video1_079-017_opened_cc22.png']), array([ 1.        , 95.5704048 ,  4.45657639,  2.        ,  1.4822908 ])),\n",
       "       (612, '/media/alessandro/DATA/tesi/Nebbia/pre-processed_data/170619/video1_079/trigger_thr0.005_cl9_op3/cc_filtered_2den0.81_gausrad2.0/', list(['mean_170619-video1_079-017_opened_cc57.png']), array([  1.        , 167.90098988,   2.70209671,   2.        ,\n",
       "         2.29742831])),\n",
       "       (613, '/media/alessandro/DATA/tesi/Nebbia/pre-processed_data/170619/video1_079/trigger_thr0.005_cl9_op3/cc_filtered_2den0.81_gausrad2.0/', list(['mean_170619-video1_079-017_opened_cc64.png']), array([  1.        , 153.5475751 ,   1.81325653,   2.        ,\n",
       "         4.68751965])),\n",
       "       (614, '/media/alessandro/DATA/tesi/Nebbia/pre-processed_data/170619/video1_079/trigger_thr0.005_cl9_op3/cc_filtered_2den0.81_gausrad2.0/', list(['mean_170619-video1_079-023_opened_cc20.png']), array([  1.        , 177.33312464,   5.56595102,   3.        ,\n",
       "         1.5101618 ])),\n",
       "       (615, '/media/alessandro/DATA/tesi/Nebbia/pre-processed_data/170619/video1_079/trigger_thr0.005_cl9_op3/cc_filtered_2den0.81_gausrad2.0/', list(['mean_170619-video1_079-024_opened_cc08.png']), array([  1.        , 145.21970282,   4.06225624,   3.        ,\n",
       "         1.76625008])),\n",
       "       (616, '/media/alessandro/DATA/tesi/Nebbia/pre-processed_data/170619/video1_079/trigger_thr0.005_cl9_op3/cc_filtered_2den0.81_gausrad2.0/', list(['mean_170619-video1_079-024_opened_cc32.png']), array([ 1.        , 68.49615362,  3.50384638,  1.        ,  2.83196741])),\n",
       "       (617, '/media/alessandro/DATA/tesi/Nebbia/pre-processed_data/170619/video1_079/trigger_thr0.005_cl9_op3/cc_filtered_2den0.81_gausrad2.0/', list(['mean_170619-video1_079-024_opened_cc38.png']), array([  1.        , 311.3005975 ,   4.12539309,   5.        ,\n",
       "         1.77743917])),\n",
       "       (618, '/media/alessandro/DATA/tesi/Nebbia/pre-processed_data/170619/video1_079/trigger_thr0.005_cl9_op3/cc_filtered_2den0.81_gausrad2.0/', list(['mean_170619-video1_079-024_opened_cc44.png']), array([  1.        , 227.32354801,   5.35567621,   4.        ,\n",
       "         2.24797528])),\n",
       "       (619, '/media/alessandro/DATA/tesi/Nebbia/pre-processed_data/170619/video1_079/trigger_thr0.005_cl9_op3/cc_filtered_2den0.81_gausrad2.0/', list(['mean_170619-video1_079-024_opened_cc65.png']), array([ 1.        , 98.88997687,  8.11002313,  1.        ,  1.42839579])),\n",
       "       (620, '/media/alessandro/DATA/tesi/Nebbia/pre-processed_data/170619/video1_079/trigger_thr0.005_cl9_op3/cc_filtered_2den0.81_gausrad2.0/', list(['mean_170619-video1_079-026_opened_cc10.png']), array([ 1.        , 86.74933941,  7.65052772,  2.        ,  1.08368965])),\n",
       "       (621, '/media/alessandro/DATA/tesi/Nebbia/pre-processed_data/170619/video1_079/trigger_thr0.005_cl9_op3/cc_filtered_2den0.81_gausrad2.0/', list(['mean_170619-video1_079-026_opened_cc21.png']), array([ 1.        , 70.67283271,  6.1116653 ,  2.        ,  1.63255457])),\n",
       "       (622, '/media/alessandro/DATA/tesi/Nebbia/pre-processed_data/170619/video1_079/trigger_thr0.005_cl9_op3/cc_filtered_2den0.81_gausrad2.0/', list(['mean_170619-video1_079-026_opened_cc35.png']), array([  1.        , 346.20090097,   3.88210538,   5.        ,\n",
       "         1.6551758 ])),\n",
       "       (623, '/media/alessandro/DATA/tesi/Nebbia/pre-processed_data/170619/video1_079/trigger_thr0.005_cl9_op3/cc_filtered_2den0.81_gausrad2.0/', list(['mean_170619-video1_079-026_opened_cc42.png']), array([  1.        , 690.40172994,   6.81687671,   9.        ,\n",
       "         2.1676797 ])),\n",
       "       (624, '/media/alessandro/DATA/tesi/Nebbia/pre-processed_data/170619/video1_079/trigger_thr0.005_cl9_op3/cc_filtered_2den0.81_gausrad2.0/', list(['mean_170619-video1_079-033_opened_cc32.png']), array([ 1.        , 49.70341127,  2.79658873,  1.        ,  3.08247471])),\n",
       "       (625, '/media/alessandro/DATA/tesi/Nebbia/pre-processed_data/170619/video1_079/trigger_thr0.005_cl9_op3/cc_filtered_2den0.81_gausrad2.0/', list(['mean_170619-video1_079-028_opened_cc21.png']), array([  1.        , 136.27066063,   5.7447191 ,   2.        ,\n",
       "         1.7005955 ])),\n",
       "       (626, '/media/alessandro/DATA/tesi/Nebbia/pre-processed_data/170619/video1_079/trigger_thr0.005_cl9_op3/cc_filtered_2den0.81_gausrad2.0/', list(['mean_170619-video1_079-028_opened_cc31.png']), array([  1.        , 110.43967417,   4.81379797,   2.        ,\n",
       "         1.61974014])),\n",
       "       (627, '/media/alessandro/DATA/tesi/Nebbia/pre-processed_data/170619/video1_079/trigger_thr0.005_cl9_op3/cc_filtered_2den0.81_gausrad2.0/', list(['mean_170619-video1_079-028_opened_cc52.png']), array([ 1.        , 82.8020486 ,  4.6979514 ,  1.        ,  2.56758253])),\n",
       "       (628, '/media/alessandro/DATA/tesi/Nebbia/pre-processed_data/170619/video1_079/trigger_thr0.005_cl9_op3/cc_filtered_2den0.81_gausrad2.0/', list(['mean_170619-video1_079-028_opened_cc74.png']), array([ 1.        , 31.94722181, 13.05277819,  1.        ,  1.        ])),\n",
       "       (629, '/media/alessandro/DATA/tesi/Nebbia/pre-processed_data/170619/video1_079/trigger_thr0.005_cl9_op3/cc_filtered_2den0.81_gausrad2.0/', list(['mean_170619-video1_079-028_opened_cc81.png']), array([  1.        , 168.58913818,   9.10236157,   3.        ,\n",
       "         2.11364846])),\n",
       "       (630, '/media/alessandro/DATA/tesi/Nebbia/pre-processed_data/170619/video1_079/trigger_thr0.005_cl9_op3/cc_filtered_2den0.81_gausrad2.0/', list(['mean_170619-video1_079-033_opened_cc63.png']), array([ 1.        , 30.96547614,  2.03452386,  1.        ,  3.96472295])),\n",
       "       (631, '/media/alessandro/DATA/tesi/Nebbia/pre-processed_data/170619/video1_079/trigger_thr0.005_cl9_op3/cc_filtered_2den0.81_gausrad2.0/', list(['mean_170619-video1_079-033_opened_cc74.png']), array([ 1.        , 75.90869397,  5.97563871,  2.        ,  1.36600684])),\n",
       "       (632, '/media/alessandro/DATA/tesi/Nebbia/pre-processed_data/170619/video1_079/trigger_thr0.005_cl9_op3/cc_filtered_2den0.81_gausrad2.0/', list(['mean_170619-video1_079-033_opened_cc75.png']), array([ 1.        , 94.41018914,  5.12117466,  3.        ,  1.47443944])),\n",
       "       (633, '/media/alessandro/DATA/tesi/Nebbia/pre-processed_data/170619/video1_079/trigger_thr0.005_cl9_op3/cc_filtered_2den0.81_gausrad2.0/', list(['mean_170619-video1_079-038_opened_cc31.png']), array([  1.        , 103.65135205,   9.34864795,   1.        ,\n",
       "         1.        ])),\n",
       "       (634, '/media/alessandro/DATA/tesi/Nebbia/pre-processed_data/170619/video1_079/trigger_thr0.005_cl9_op3/cc_filtered_2den0.81_gausrad2.0/', list(['mean_170619-video1_079-038_opened_cc44.png']), array([ 1.       , 18.4244289,  8.5755711,  1.       ,  1.0532545])),\n",
       "       (635, '/media/alessandro/DATA/tesi/Nebbia/pre-processed_data/170619/video1_079/trigger_thr0.005_cl9_op3/cc_filtered_2den0.81_gausrad2.0/', list(['mean_170619-video1_079-038_opened_cc77.png']), array([  1.        , 121.70882789,   8.09162044,   2.        ,\n",
       "         2.28543549])),\n",
       "       (636, '/media/alessandro/DATA/tesi/Nebbia/pre-processed_data/170619/video1_079/trigger_thr0.005_cl9_op3/cc_filtered_2den0.81_gausrad2.0/', list(['mean_170619-video1_079-038_opened_cc82.png']), array([  1.        , 163.50030678,   4.94751341,   4.        ,\n",
       "         1.72411518])),\n",
       "       (637, '/media/alessandro/DATA/tesi/Nebbia/pre-processed_data/170619/video1_079/trigger_thr0.005_cl9_op3/cc_filtered_2den0.81_gausrad2.0/', list(['mean_170619-video1_079-038_opened_cc90.png']), array([  1.        , 174.87519467,   3.3966177 ,   3.        ,\n",
       "         1.60435958])),\n",
       "       (638, '/media/alessandro/DATA/tesi/Nebbia/pre-processed_data/170619/video1_099/trigger_thr0.005_cl9_op3/cc_filtered_2den0.81_gausrad2.0/', list(['mean_170619-video1_099-018_opened_cc01.png']), array([ 1.        , 67.22234106, 15.27765894,  1.        ,  1.05525547])),\n",
       "       (639, '/media/alessandro/DATA/tesi/Nebbia/pre-processed_data/170619/video1_119/trigger_thr0.005_cl9_op3/cc_filtered_2den0.81_gausrad2.0/', list(['mean_170619-video1_119-022_opened_cc01.png']), array([  1.        , 134.09505801,   5.32549237,   3.        ,\n",
       "         1.35009469])),\n",
       "       (640, '/media/alessandro/DATA/tesi/Nebbia/pre-processed_data/170619/video1_139/trigger_thr0.005_cl9_op3/cc_filtered_2den0.81_gausrad2.0/', list(['mean_170619-video1_139-006_opened_cc28.png']), array([  1.        , 119.21777898,  10.66527493,   2.        ,\n",
       "         1.        ])),\n",
       "       (641, '/media/alessandro/DATA/tesi/Nebbia/pre-processed_data/170619/video1_139/trigger_thr0.005_cl9_op3/cc_filtered_2den0.81_gausrad2.0/', list(['mean_170619-video1_139-027_opened_cc27.png']), array([  1.        , 153.58328414,  12.41671586,   1.        ,\n",
       "         1.28825273])),\n",
       "       (642, '/media/alessandro/DATA/tesi/Nebbia/pre-processed_data/170619/video1_139/trigger_thr0.005_cl9_op3/cc_filtered_2den0.81_gausrad2.0/', list(['mean_170619-video1_139-041_opened_cc02.png']), array([  1.        , 199.91393867,  14.08606133,   1.        ,\n",
       "         1.39138126])),\n",
       "       (643, '/media/alessandro/DATA/tesi/Nebbia/pre-processed_data/170619/video1_100/trigger_thr0.005_cl9_op3/cc_filtered_2den0.81_gausrad2.0/', list(['mean_170619-video1_100-024_opened_cc26.png']), array([  1.        , 242.40978949,   2.62298392,   2.        ,\n",
       "         2.41206756])),\n",
       "       (644, '/media/alessandro/DATA/tesi/Nebbia/pre-processed_data/170619/video1_104/trigger_thr0.005_cl9_op3/cc_filtered_2den0.81_gausrad2.0/', list(['mean_170619-video1_104-013_opened_cc03.png']), array([ 1.        , 92.15619979, 10.17497799,  2.        ,  1.        ])),\n",
       "       (645, '/media/alessandro/DATA/tesi/Nebbia/pre-processed_data/170619/video1_104/trigger_thr0.005_cl9_op3/cc_filtered_2den0.81_gausrad2.0/', list(['mean_170619-video1_104-047_opened_cc06.png']), array([  1.        , 197.61935928,   6.5255235 ,   3.        ,\n",
       "         1.15892328])),\n",
       "       (646, '/media/alessandro/DATA/tesi/Nebbia/pre-processed_data/170619/video1_105/trigger_thr0.005_cl9_op3/cc_filtered_2den0.81_gausrad2.0/', list(['mean_170619-video1_105-046_opened_cc01.png']), array([ 1.        , 67.29636894,  1.20363106,  1.        ,  3.84707735])),\n",
       "       (647, '/media/alessandro/DATA/tesi/Nebbia/pre-processed_data/170619/video1_105/trigger_thr0.005_cl9_op3/cc_filtered_2den0.81_gausrad2.0/', list(['mean_170619-video1_105-046_opened_cc43.png']), array([  1.        , 290.99181191,   3.12478223,   6.        ,\n",
       "         2.08533335])),\n",
       "       (648, '/media/alessandro/DATA/tesi/Nebbia/pre-processed_data/170619/video1_105/trigger_thr0.005_cl9_op3/cc_filtered_2den0.81_gausrad2.0/', list(['mean_170619-video1_105-046_opened_cc51.png']), array([  1.        , 116.76197403,   2.81783616,   2.        ,\n",
       "         1.73061436])),\n",
       "       (649, '/media/alessandro/DATA/tesi/Nebbia/pre-processed_data/170619/video1_105/trigger_thr0.005_cl9_op3/cc_filtered_2den0.81_gausrad2.0/', list(['mean_170619-video1_105-046_opened_cc54.png']), array([  1.        , 211.12878049,  16.87121951,   1.        ,\n",
       "         1.34313558])),\n",
       "       (650, '/media/alessandro/DATA/tesi/Nebbia/pre-processed_data/170619/video1_106/trigger_thr0.005_cl9_op3/cc_filtered_2den0.81_gausrad2.0/', list(['mean_170619-video1_106-038_opened_cc02.png']), array([  1.        , 115.07735213,  11.05018892,   3.        ,\n",
       "         1.42070805])),\n",
       "       (651, '/media/alessandro/DATA/tesi/Nebbia/pre-processed_data/170619/video1_107/trigger_thr0.005_cl9_op3/cc_filtered_2den0.81_gausrad2.0/', list(['mean_170619-video1_107-036_opened_cc04.png']), array([ 1.       , 92.6487933, 11.8512067,  1.       ,  1.       ])),\n",
       "       (652, '/media/alessandro/DATA/tesi/Nebbia/pre-processed_data/170619/video1_108/trigger_thr0.005_cl9_op3/cc_filtered_2den0.81_gausrad2.0/', list(['mean_170619-video1_108-040_opened_cc32.png']), array([  1.        , 103.83489286,   8.33693736,   2.        ,\n",
       "         1.43483523])),\n",
       "       (653, '/media/alessandro/DATA/tesi/Nebbia/pre-processed_data/170619/video1_108/trigger_thr0.005_cl9_op3/cc_filtered_2den0.81_gausrad2.0/', list(['mean_170619-video1_108-040_opened_cc74.png']), array([ 1.        , 61.98147513,  8.01852487,  1.        ,  1.81204499])),\n",
       "       (654, '/media/alessandro/DATA/tesi/Nebbia/pre-processed_data/170619/video1_109/trigger_thr0.005_cl9_op3/cc_filtered_2den0.81_gausrad2.0/', list(['mean_170619-video1_109-015_opened_cc12.png', 'mean_170619-video1_109-016_opened_cc11.png']), array([ 2.        , 92.02030449, 18.72969551,  1.        ,  1.24926295])),\n",
       "       (656, '/media/alessandro/DATA/tesi/Nebbia/pre-processed_data/170619/video1_112/trigger_thr0.005_cl9_op3/cc_filtered_2den0.81_gausrad2.0/', list(['mean_170619-video1_112-002_opened_cc08.png']), array([ 1.        , 86.43458459, 10.06541541,  1.        ,  1.02716509])),\n",
       "       (657, '/media/alessandro/DATA/tesi/Nebbia/pre-processed_data/170619/video1_112/trigger_thr0.005_cl9_op3/cc_filtered_2den0.81_gausrad2.0/', list(['mean_170619-video1_112-002_opened_cc31.png', 'mean_170619-video1_112-003_opened_cc21.png']), array([  2.        , 109.86592933,  24.38407067,   1.        ,\n",
       "         1.        ])),\n",
       "       (658, '/media/alessandro/DATA/tesi/Nebbia/pre-processed_data/170619/video1_112/trigger_thr0.005_cl9_op3/cc_filtered_2den0.81_gausrad2.0/', list(['mean_170619-video1_112-023_opened_cc49.png', 'mean_170619-video1_112-024_opened_cc25.png', 'mean_170619-video1_112-025_opened_cc31.png', 'mean_170619-video1_112-026_opened_cc17.png']), array([ 4.        , 98.94637813, 23.40224326,  1.25      ,  1.02898025])),\n",
       "       (659, '/media/alessandro/DATA/tesi/Nebbia/pre-processed_data/170619/video1_112/trigger_thr0.005_cl9_op3/cc_filtered_2den0.81_gausrad2.0/', list(['mean_170619-video1_112-025_opened_cc05.png']), array([  1.        , 154.17914001,   9.77681373,   3.        ,\n",
       "         1.26372099])),\n",
       "       (660, '/media/alessandro/DATA/tesi/Nebbia/pre-processed_data/170619/video1_114/trigger_thr0.005_cl9_op3/cc_filtered_2den0.81_gausrad2.0/', list(['mean_170619-video1_114-010_opened_cc03.png']), array([  1.        , 110.62464844,   9.16462183,   2.        ,\n",
       "         2.114147  ])),\n",
       "       (661, '/media/alessandro/DATA/tesi/Nebbia/pre-processed_data/170619/video1_114/trigger_thr0.005_cl9_op3/cc_filtered_2den0.81_gausrad2.0/', list(['mean_170619-video1_114-037_opened_cc04.png']), array([ 1.        , 53.4805752 ,  2.0194248 ,  1.        ,  5.12251007])),\n",
       "       (662, '/media/alessandro/DATA/tesi/Nebbia/pre-processed_data/170619/video1_115/trigger_thr0.005_cl9_op3/cc_filtered_2den0.81_gausrad2.0/', list(['mean_170619-video1_115-040_opened_cc04.png']), array([  1.        , 236.63745076,   6.49841273,   2.        ,\n",
       "         1.27532618])),\n",
       "       (663, '/media/alessandro/DATA/tesi/Nebbia/pre-processed_data/170619/video1_115/trigger_thr0.005_cl9_op3/cc_filtered_2den0.81_gausrad2.0/', list(['mean_170619-video1_115-040_opened_cc09.png', 'mean_170619-video1_115-041_opened_cc08.png']), array([ 2.        , 73.31713161, 13.93286839,  1.        ,  1.        ])),\n",
       "       (664, '/media/alessandro/DATA/tesi/Nebbia/pre-processed_data/170619/video1_118/trigger_thr0.005_cl9_op3/cc_filtered_2den0.81_gausrad2.0/', list(['mean_170619-video1_118-025_opened_cc09.png']), array([  1.        , 143.38914812,   5.77319229,   3.        ,\n",
       "         1.97688831])),\n",
       "       (665, '/media/alessandro/DATA/tesi/Nebbia/pre-processed_data/170619/video1_122/trigger_thr0.005_cl9_op3/cc_filtered_2den0.81_gausrad2.0/', list(['mean_170619-video1_122-020_opened_cc43.png', 'mean_170619-video1_122-021_opened_cc31.png', 'mean_170619-video1_122-022_opened_cc19.png']), array([ 3.        , 70.85933921, 20.30732745,  1.        ,  1.        ])),\n",
       "       (666, '/media/alessandro/DATA/tesi/Nebbia/pre-processed_data/170619/video1_122/trigger_thr0.005_cl9_op3/cc_filtered_2den0.81_gausrad2.0/', list(['mean_170619-video1_122-022_opened_cc03.png', 'mean_170619-video1_122-023_opened_cc02.png']), array([ 2.        , 69.67963566,  7.57036434,  1.        ,  1.07300209])),\n",
       "       (667, '/media/alessandro/DATA/tesi/Nebbia/pre-processed_data/170619/video1_122/trigger_thr0.005_cl9_op3/cc_filtered_2den0.81_gausrad2.0/', list(['mean_170619-video1_122-025_opened_cc10.png']), array([  1.        , 178.94352002,   9.35344724,   2.        ,\n",
       "         1.24158604])),\n",
       "       (669, '/media/alessandro/DATA/tesi/Nebbia/pre-processed_data/170619/video1_123/trigger_thr0.005_cl9_op3/cc_filtered_2den0.81_gausrad2.0/', list(['mean_170619-video1_123-020_opened_cc06.png']), array([  1.        , 173.22414653,   9.68702263,   3.        ,\n",
       "         1.29142357])),\n",
       "       (670, '/media/alessandro/DATA/tesi/Nebbia/pre-processed_data/170619/video1_124/trigger_thr0.005_cl9_op3/cc_filtered_2den0.81_gausrad2.0/', list(['mean_170619-video1_124-043_opened_cc02.png']), array([  1.        , 190.40187675,   6.15835961,   2.        ,\n",
       "         1.21630886])),\n",
       "       (671, '/media/alessandro/DATA/tesi/Nebbia/pre-processed_data/170619/video1_124/trigger_thr0.005_cl9_op3/cc_filtered_2den0.81_gausrad2.0/', list(['mean_170619-video1_124-048_opened_cc23.png']), array([  1.        , 143.51886524,  10.98113476,   1.        ,\n",
       "         1.0251086 ])),\n",
       "       (672, '/media/alessandro/DATA/tesi/Nebbia/pre-processed_data/170619/video1_125/trigger_thr0.005_cl9_op3/cc_filtered_2den0.81_gausrad2.0/', list(['mean_170619-video1_125-001_opened_cc52.png']), array([  1.        , 260.42313584,   8.43056784,   2.        ,\n",
       "         1.40998094])),\n",
       "       (673, '/media/alessandro/DATA/tesi/Nebbia/pre-processed_data/170619/video1_125/trigger_thr0.005_cl9_op3/cc_filtered_2den0.81_gausrad2.0/', list(['mean_170619-video1_125-001_opened_cc71.png']), array([ 1.        , 46.31949252,  2.18050748,  1.        ,  7.61487766])),\n",
       "       (674, '/media/alessandro/DATA/tesi/Nebbia/pre-processed_data/170619/video1_125/trigger_thr0.005_cl9_op3/cc_filtered_2den0.81_gausrad2.0/', list(['mean_170619-video1_125-030_opened_cc01.png', 'mean_170619-video1_125-031_opened_cc14.png']), array([  2.        , 159.3664351 ,  11.34311811,   1.5       ,\n",
       "         1.25103933])),\n",
       "       (675, '/media/alessandro/DATA/tesi/Nebbia/pre-processed_data/170619/video1_125/trigger_thr0.005_cl9_op3/cc_filtered_2den0.81_gausrad2.0/', list(['mean_170619-video1_125-031_opened_cc16.png']), array([ 1.        , 83.67223094,  4.43177493,  2.        ,  1.62111655])),\n",
       "       (676, '/media/alessandro/DATA/tesi/Nebbia/pre-processed_data/170619/video1_125/trigger_thr0.005_cl9_op3/cc_filtered_2den0.81_gausrad2.0/', list(['mean_170619-video1_125-031_opened_cc24.png']), array([  1.        , 307.54648293,   4.20527645,   5.        ,\n",
       "         2.34433855])),\n",
       "       (677, '/media/alessandro/DATA/tesi/Nebbia/pre-processed_data/170619/video1_127/trigger_thr0.005_cl9_op3/cc_filtered_2den0.81_gausrad2.0/', list(['mean_170619-video1_127-004_opened_cc11.png']), array([  1.        , 233.92563583,  11.82371597,   2.        ,\n",
       "         1.72353941])),\n",
       "       (678, '/media/alessandro/DATA/tesi/Nebbia/pre-processed_data/170619/video1_127/trigger_thr0.005_cl9_op3/cc_filtered_2den0.81_gausrad2.0/', list(['mean_170619-video1_127-004_opened_cc75.png']), array([  1.        , 191.41853039,  10.43157268,   5.        ,\n",
       "         1.51117276])),\n",
       "       (679, '/media/alessandro/DATA/tesi/Nebbia/pre-processed_data/170619/video1_129/trigger_thr0.005_cl9_op3/cc_filtered_2den0.81_gausrad2.0/', list(['mean_170619-video1_129-011_opened_cc03.png']), array([ 1.        , 75.73621044,  7.76378956,  1.        ,  1.01891377])),\n",
       "       (680, '/media/alessandro/DATA/tesi/Nebbia/pre-processed_data/170619/video1_129/trigger_thr0.005_cl9_op3/cc_filtered_2den0.81_gausrad2.0/', list(['mean_170619-video1_129-017_opened_cc04.png']), array([  1.        , 147.42158993,   5.14182576,   4.        ,\n",
       "         1.45223565])),\n",
       "       (681, '/media/alessandro/DATA/tesi/Nebbia/pre-processed_data/170619/video1_130/trigger_thr0.005_cl9_op3/cc_filtered_2den0.81_gausrad2.0/', list(['mean_170619-video1_130-020_opened_cc03.png']), array([  1.        , 214.53852153,  11.77501926,   4.        ,\n",
       "         1.11385853])),\n",
       "       (682, '/media/alessandro/DATA/tesi/Nebbia/pre-processed_data/170619/video1_131/trigger_thr0.005_cl9_op3/cc_filtered_2den0.81_gausrad2.0/', list(['mean_170619-video1_131-001_opened_cc05.png', 'mean_170619-video1_131-002_opened_cc06.png']), array([  2.        , 134.01635753,   8.09814577,   3.        ,\n",
       "         1.22996896])),\n",
       "       (683, '/media/alessandro/DATA/tesi/Nebbia/pre-processed_data/170619/video1_131/trigger_thr0.005_cl9_op3/cc_filtered_2den0.81_gausrad2.0/', list(['mean_170619-video1_131-041_opened_cc01.png']), array([  1.        , 182.7965361 ,   9.82776496,   2.        ,\n",
       "         1.        ])),\n",
       "       (684, '/media/alessandro/DATA/tesi/Nebbia/pre-processed_data/170619/video1_132/trigger_thr0.005_cl9_op3/cc_filtered_2den0.81_gausrad2.0/', list(['mean_170619-video1_132-001_opened_cc31.png']), array([  1.        , 166.61736523,   6.73993901,   3.        ,\n",
       "         1.1471228 ])),\n",
       "       (685, '/media/alessandro/DATA/tesi/Nebbia/pre-processed_data/170619/video1_133/trigger_thr0.005_cl9_op3/cc_filtered_2den0.81_gausrad2.0/', list(['mean_170619-video1_133-006_opened_cc01.png']), array([  1.        , 276.19543196,   3.27545679,   4.        ,\n",
       "         1.42027667])),\n",
       "       (686, '/media/alessandro/DATA/tesi/Nebbia/pre-processed_data/170619/video1_133/trigger_thr0.005_cl9_op3/cc_filtered_2den0.81_gausrad2.0/', list(['mean_170619-video1_133-008_opened_cc10.png', 'mean_170619-video1_133-009_opened_cc11.png']), array([  2.        , 134.43193849,   7.56058161,   2.5       ,\n",
       "         1.24851366])),\n",
       "       (687, '/media/alessandro/DATA/tesi/Nebbia/pre-processed_data/170619/video1_133/trigger_thr0.005_cl9_op3/cc_filtered_2den0.81_gausrad2.0/', list(['mean_170619-video1_133-024_opened_cc15.png']), array([  1.        , 113.96935556,   6.01169911,   2.        ,\n",
       "         1.75984282])),\n",
       "       (688, '/media/alessandro/DATA/tesi/Nebbia/pre-processed_data/170619/video1_134/trigger_thr0.005_cl9_op3/cc_filtered_2den0.81_gausrad2.0/', list(['mean_170619-video1_134-004_opened_cc02.png']), array([  1.        , 257.6629061 ,  11.15138892,   3.        ,\n",
       "         1.36025281])),\n",
       "       (689, '/media/alessandro/DATA/tesi/Nebbia/pre-processed_data/170619/video1_134/trigger_thr0.005_cl9_op3/cc_filtered_2den0.81_gausrad2.0/', list(['mean_170619-video1_134-012_opened_cc01.png']), array([  1.        , 104.70292454,  15.79707546,   1.        ,\n",
       "         1.        ])),\n",
       "       (690, '/media/alessandro/DATA/tesi/Nebbia/pre-processed_data/170619/video1_134/trigger_thr0.005_cl9_op3/cc_filtered_2den0.81_gausrad2.0/', list(['mean_170619-video1_134-012_opened_cc21.png']), array([  1.        , 190.04227604,   7.68813777,   3.        ,\n",
       "         1.45290731])),\n",
       "       (691, '/media/alessandro/DATA/tesi/Nebbia/pre-processed_data/170619/video1_135/trigger_thr0.005_cl9_op3/cc_filtered_2den0.81_gausrad2.0/', list(['mean_170619-video1_135-018_opened_cc01.png']), array([  1.        , 108.84592559,   5.15407441,   1.        ,\n",
       "         1.99894032])),\n",
       "       (692, '/media/alessandro/DATA/tesi/Nebbia/pre-processed_data/170619/video1_135/trigger_thr0.005_cl9_op3/cc_filtered_2den0.81_gausrad2.0/', list(['mean_170619-video1_135-041_opened_cc06.png', 'mean_170619-video1_135-042_opened_cc17.png']), array([  2.        , 115.03203685,  11.22444788,   1.5       ,\n",
       "         1.18406046])),\n",
       "       (693, '/media/alessandro/DATA/tesi/Nebbia/pre-processed_data/170619/video1_135/trigger_thr0.005_cl9_op3/cc_filtered_2den0.81_gausrad2.0/', list(['mean_170619-video1_135-041_opened_cc37.png']), array([ 1.        , 79.75942807,  9.20612856,  2.        ,  1.38738278])),\n",
       "       (694, '/media/alessandro/DATA/tesi/Nebbia/pre-processed_data/170619/video1_135/trigger_thr0.005_cl9_op3/cc_filtered_2den0.81_gausrad2.0/', list(['mean_170619-video1_135-043_opened_cc09.png']), array([  1.        , 126.38876165,   7.3048746 ,   4.        ,\n",
       "         1.61138863])),\n",
       "       (695, '/media/alessandro/DATA/tesi/Nebbia/pre-processed_data/170619/video1_135/trigger_thr0.005_cl9_op3/cc_filtered_2den0.81_gausrad2.0/', list(['mean_170619-video1_135-043_opened_cc29.png']), array([ 1.        , 63.82846705, 16.80966104,  2.        ,  1.25906413])),\n",
       "       (696, '/media/alessandro/DATA/tesi/Nebbia/pre-processed_data/170619/video1_136/trigger_thr0.005_cl9_op3/cc_filtered_2den0.81_gausrad2.0/', list(['mean_170619-video1_136-023_opened_cc20.png']), array([  1.        , 164.78473878,   5.40938946,   3.        ,\n",
       "         1.28856103])),\n",
       "       (697, '/media/alessandro/DATA/tesi/Nebbia/pre-processed_data/170619/video1_136/trigger_thr0.005_cl9_op3/cc_filtered_2den0.81_gausrad2.0/', list(['mean_170619-video1_136-023_opened_cc59.png']), array([  1.        , 130.72814652,   7.77185348,   1.        ,\n",
       "         1.27426   ])),\n",
       "       (698, '/media/alessandro/DATA/tesi/Nebbia/pre-processed_data/170619/video1_136/trigger_thr0.005_cl9_op3/cc_filtered_2den0.81_gausrad2.0/', list(['mean_170619-video1_136-023_opened_cc64.png']), array([ 1.        , 85.93665807,  7.06334193,  1.        ,  1.32210243])),\n",
       "       (699, '/media/alessandro/DATA/tesi/Nebbia/pre-processed_data/170619/video1_136/trigger_thr0.005_cl9_op3/cc_filtered_2den0.81_gausrad2.0/', list(['mean_170619-video1_136-028_opened_cc05.png']), array([  1.        , 249.07771978,   5.50992703,   3.        ,\n",
       "         1.43437404])),\n",
       "       (700, '/media/alessandro/DATA/tesi/Nebbia/pre-processed_data/170619/video1_136/trigger_thr0.005_cl9_op3/cc_filtered_2den0.81_gausrad2.0/', list(['mean_170619-video1_136-034_opened_cc03.png']), array([ 1.        , 46.07130751,  3.92869249,  1.        ,  2.15277082])),\n",
       "       (701, '/media/alessandro/DATA/tesi/Nebbia/pre-processed_data/170619/video1_136/trigger_thr0.005_cl9_op3/cc_filtered_2den0.81_gausrad2.0/', list(['mean_170619-video1_136-036_opened_cc02.png']), array([  1.        , 114.47629799,   9.02370201,   1.        ,\n",
       "         1.35781895])),\n",
       "       (702, '/media/alessandro/DATA/tesi/Nebbia/pre-processed_data/170619/video1_137/trigger_thr0.005_cl9_op3/cc_filtered_2den0.81_gausrad2.0/', list(['mean_170619-video1_137-028_opened_cc37.png']), array([  1.        , 120.15860244,   5.41230764,   2.        ,\n",
       "         1.4835526 ])),\n",
       "       (703, '/media/alessandro/DATA/tesi/Nebbia/pre-processed_data/170619/video1_137/trigger_thr0.005_cl9_op3/cc_filtered_2den0.81_gausrad2.0/', list(['mean_170619-video1_137-030_opened_cc105.png']), array([  1.        , 114.78367823,   8.19069438,   3.        ,\n",
       "         1.        ])),\n",
       "       (704, '/media/alessandro/DATA/tesi/Nebbia/pre-processed_data/170619/video1_137/trigger_thr0.005_cl9_op3/cc_filtered_2den0.81_gausrad2.0/', list(['mean_170619-video1_137-044_opened_cc10.png']), array([  1.        , 118.70190214,   8.29809786,   1.        ,\n",
       "         1.19517403])),\n",
       "       (705, '/media/alessandro/DATA/tesi/Nebbia/pre-processed_data/170619/video1_137/trigger_thr0.005_cl9_op3/cc_filtered_2den0.81_gausrad2.0/', list(['mean_170619-video1_137-047_opened_cc03.png']), array([ 1.        , 87.36244166,  6.03128058,  2.        ,  1.55189968])),\n",
       "       (706, '/media/alessandro/DATA/tesi/Nebbia/pre-processed_data/170619/video1_138/trigger_thr0.005_cl9_op3/cc_filtered_2den0.81_gausrad2.0/', list(['mean_170619-video1_138-028_opened_cc03.png']), array([ 1.        , 84.11746669,  7.38253331,  1.        ,  1.29411487])),\n",
       "       (707, '/media/alessandro/DATA/tesi/Nebbia/pre-processed_data/170619/video1_138/trigger_thr0.005_cl9_op3/cc_filtered_2den0.81_gausrad2.0/', list(['mean_170619-video1_138-028_opened_cc26.png']), array([  1.        , 118.97838356,   7.32005733,   2.        ,\n",
       "         1.15160745])),\n",
       "       (708, '/media/alessandro/DATA/tesi/Nebbia/pre-processed_data/170619/video1_140/trigger_thr0.005_cl9_op3/cc_filtered_2den0.81_gausrad2.0/', list(['mean_170619-video1_140-006_opened_cc43.png']), array([ 1.        , 77.64912628,  8.88943223,  2.        ,  1.20159006])),\n",
       "       (709, '/media/alessandro/DATA/tesi/Nebbia/pre-processed_data/170619/video1_140/trigger_thr0.005_cl9_op3/cc_filtered_2den0.81_gausrad2.0/', list(['mean_170619-video1_140-006_opened_cc44.png', 'mean_170619-video1_140-007_opened_cc40.png']), array([ 2.        , 69.32616413, 15.17383587,  1.        ,  1.01492231])),\n",
       "       (710, '/media/alessandro/DATA/tesi/Nebbia/pre-processed_data/170619/video1_140/trigger_thr0.005_cl9_op3/cc_filtered_2den0.81_gausrad2.0/', list(['mean_170619-video1_140-007_opened_cc02.png']), array([ 1.        , 86.05176709,  6.66482516,  2.        ,  1.18201193])),\n",
       "       (711, '/media/alessandro/DATA/tesi/Nebbia/pre-processed_data/170619/video1_140/trigger_thr0.005_cl9_op3/cc_filtered_2den0.81_gausrad2.0/', list(['mean_170619-video1_140-048_opened_cc12.png']), array([ 1.        , 82.83002322,  7.25      ,  2.        ,  1.50376508])),\n",
       "       (712, '/media/alessandro/DATA/tesi/Nebbia/pre-processed_data/170619/video1_140/trigger_thr0.005_cl9_op3/cc_filtered_2den0.81_gausrad2.0/', list(['mean_170619-video1_140-048_opened_cc42.png']), array([  1.        , 105.78094078,  11.03623952,   3.        ,\n",
       "         1.27363748])),\n",
       "       (713, '/media/alessandro/DATA/tesi/Nebbia/pre-processed_data/170619/video1_141/trigger_thr0.005_cl9_op3/cc_filtered_2den0.81_gausrad2.0/', list(['mean_170619-video1_141-016_opened_cc17.png']), array([  1.        , 140.46213513,   5.58654429,   2.        ,\n",
       "         1.28475645])),\n",
       "       (714, '/media/alessandro/DATA/tesi/Nebbia/pre-processed_data/170619/video1_142/trigger_thr0.005_cl9_op3/cc_filtered_2den0.81_gausrad2.0/', list(['mean_170619-video1_142-012_opened_cc01.png']), array([  1.        , 132.65518659,   6.84481341,   1.        ,\n",
       "         1.08905844])),\n",
       "       (715, '/media/alessandro/DATA/tesi/Nebbia/pre-processed_data/170619/video1_142/trigger_thr0.005_cl9_op3/cc_filtered_2den0.81_gausrad2.0/', list(['mean_170619-video1_142-030_opened_cc36.png']), array([  1.        , 295.04263791,  12.97337248,   2.        ,\n",
       "         2.06520553])),\n",
       "       (716, '/media/alessandro/DATA/tesi/Nebbia/pre-processed_data/170619/video1_142/trigger_thr0.005_cl9_op3/cc_filtered_2den0.81_gausrad2.0/', list(['mean_170619-video1_142-034_opened_cc02.png']), array([  1.        , 486.29247052,   9.5611029 ,   3.        ,\n",
       "         3.14635448])),\n",
       "       (717, '/media/alessandro/DATA/tesi/Nebbia/pre-processed_data/170619/video1_144/trigger_thr0.005_cl9_op3/cc_filtered_2den0.81_gausrad2.0/', list(['mean_170619-video1_144-029_opened_cc02.png', 'mean_170619-video1_144-030_opened_cc01.png']), array([  2.        , 112.85204068,   7.63728698,   2.        ,\n",
       "         1.40422482])),\n",
       "       (718, '/media/alessandro/DATA/tesi/Nebbia/pre-processed_data/170619/video1_145/trigger_thr0.005_cl9_op3/cc_filtered_2den0.81_gausrad2.0/', list(['mean_170619-video1_145-025_opened_cc03.png', 'mean_170619-video1_145-026_opened_cc04.png']), array([  2.        , 133.19911608,  10.30088392,   1.        ,\n",
       "         1.10453394])),\n",
       "       (719, '/media/alessandro/DATA/tesi/Nebbia/pre-processed_data/170619/video1_145/trigger_thr0.005_cl9_op3/cc_filtered_2den0.81_gausrad2.0/', list(['mean_170619-video1_145-027_opened_cc04.png', 'mean_170619-video1_145-028_opened_cc05.png']), array([ 2.        , 92.53760084, 10.61669733,  1.5       ,  1.16314044])),\n",
       "       (720, '/media/alessandro/DATA/tesi/Nebbia/pre-processed_data/170619/video1_145/trigger_thr0.005_cl9_op3/cc_filtered_2den0.81_gausrad2.0/', list(['mean_170619-video1_145-027_opened_cc19.png']), array([ 1.        , 66.2195222 ,  6.7804778 ,  1.        ,  1.30877822])),\n",
       "       (721, '/media/alessandro/DATA/tesi/Nebbia/pre-processed_data/170619/video1_146/trigger_thr0.005_cl9_op3/cc_filtered_2den0.81_gausrad2.0/', list(['mean_170619-video1_146-011_opened_cc22.png']), array([  1.        , 205.64331295,  15.35668705,   1.        ,\n",
       "         1.14089695])),\n",
       "       (722, '/media/alessandro/DATA/tesi/Nebbia/pre-processed_data/170619/video1_146/trigger_thr0.005_cl9_op3/cc_filtered_2den0.81_gausrad2.0/', list(['mean_170619-video1_146-012_opened_cc04.png']), array([  1.        , 128.24774408,   6.24751256,   2.        ,\n",
       "         1.4196394 ])),\n",
       "       (723, '/media/alessandro/DATA/tesi/Nebbia/pre-processed_data/170619/video1_146/trigger_thr0.005_cl9_op3/cc_filtered_2den0.81_gausrad2.0/', list(['mean_170619-video1_146-045_opened_cc03.png']), array([  1.        , 113.21370509,   3.06949822,   2.        ,\n",
       "         1.43769955])),\n",
       "       (724, '/media/alessandro/DATA/tesi/Nebbia/pre-processed_data/170619/video1_146/trigger_thr0.005_cl9_op3/cc_filtered_2den0.81_gausrad2.0/', list(['mean_170619-video1_146-045_opened_cc10.png']), array([  1.        , 176.18186331,   7.5604571 ,   2.        ,\n",
       "         1.50084758])),\n",
       "       (725, '/media/alessandro/DATA/tesi/Nebbia/pre-processed_data/170619/video1_146/trigger_thr0.005_cl9_op3/cc_filtered_2den0.81_gausrad2.0/', list(['mean_170619-video1_146-045_opened_cc25.png']), array([ 1.        , 70.40774542, 13.59225458,  1.        ,  1.01361208])),\n",
       "       (726, '/media/alessandro/DATA/tesi/Nebbia/pre-processed_data/170619/video1_146/trigger_thr0.005_cl9_op3/cc_filtered_2den0.81_gausrad2.0/', list(['mean_170619-video1_146-046_opened_cc02.png']), array([ 1.        , 61.16620626,  0.83379374,  1.        , 13.67717951])),\n",
       "       (727, '/media/alessandro/DATA/tesi/Nebbia/pre-processed_data/170619/video1_146/trigger_thr0.005_cl9_op3/cc_filtered_2den0.81_gausrad2.0/', list(['mean_170619-video1_146-046_opened_cc36.png']), array([ 1.        , 90.43180323,  7.2341001 ,  2.        ,  1.19476304])),\n",
       "       (728, '/media/alessandro/DATA/tesi/Nebbia/pre-processed_data/170619/video1_147/trigger_thr0.005_cl9_op3/cc_filtered_2den0.81_gausrad2.0/', list(['mean_170619-video1_147-002_opened_cc03.png']), array([ 1.        , 81.43301546, 13.37966548,  2.        ,  1.        ])),\n",
       "       (729, '/media/alessandro/DATA/tesi/Nebbia/pre-processed_data/170619/video1_147/trigger_thr0.005_cl9_op3/cc_filtered_2den0.81_gausrad2.0/', list(['mean_170619-video1_147-014_opened_cc10.png']), array([ 1.        , 85.38489016, 16.62408093,  2.        ,  1.12455673])),\n",
       "       (730, '/media/alessandro/DATA/tesi/Nebbia/pre-processed_data/170619/video1_147/trigger_thr0.005_cl9_op3/cc_filtered_2den0.81_gausrad2.0/', list(['mean_170619-video1_147-014_opened_cc39.png']), array([  1.        , 195.32053852,   6.64113886,   3.        ,\n",
       "         1.31005024])),\n",
       "       (731, '/media/alessandro/DATA/tesi/Nebbia/pre-processed_data/170619/video1_147/trigger_thr0.005_cl9_op3/cc_filtered_2den0.81_gausrad2.0/', list(['mean_170619-video1_147-021_opened_cc04.png']), array([  1.        , 143.38165073,   6.71273148,   3.        ,\n",
       "         1.18384085])),\n",
       "       (732, '/media/alessandro/DATA/tesi/Nebbia/pre-processed_data/170619/video1_147/trigger_thr0.005_cl9_op3/cc_filtered_2den0.81_gausrad2.0/', list(['mean_170619-video1_147-022_opened_cc01.png', 'mean_170619-video1_147-023_opened_cc05.png']), array([  2.        , 102.93775185,   8.2688239 ,   2.        ,\n",
       "         1.20571443])),\n",
       "       (733, '/media/alessandro/DATA/tesi/Nebbia/pre-processed_data/170619/video1_147/trigger_thr0.005_cl9_op3/cc_filtered_2den0.81_gausrad2.0/', list(['mean_170619-video1_147-022_opened_cc08.png']), array([  1.        , 137.33932318,   3.45337199,   2.        ,\n",
       "         1.91266296])),\n",
       "       (734, '/media/alessandro/DATA/tesi/Nebbia/pre-processed_data/170619/video1_148/trigger_thr0.005_cl9_op3/cc_filtered_2den0.81_gausrad2.0/', list(['mean_170619-video1_148-002_opened_cc02.png']), array([  1.        , 121.74995096,   6.56077905,   2.        ,\n",
       "         1.29170851])),\n",
       "       (735, '/media/alessandro/DATA/tesi/Nebbia/pre-processed_data/170619/video1_148/trigger_thr0.005_cl9_op3/cc_filtered_2den0.81_gausrad2.0/', list(['mean_170619-video1_148-006_opened_cc14.png']), array([  1.        , 205.48086548,   9.51913452,   1.        ,\n",
       "         1.53480752])),\n",
       "       (736, '/media/alessandro/DATA/tesi/Nebbia/pre-processed_data/170619/video1_148/trigger_thr0.005_cl9_op3/cc_filtered_2den0.81_gausrad2.0/', list(['mean_170619-video1_148-017_opened_cc07.png']), array([  1.        , 242.99028234,   9.51262787,   2.        ,\n",
       "         1.53680548])),\n",
       "       (737, '/media/alessandro/DATA/tesi/Nebbia/pre-processed_data/170619/video1_148/trigger_thr0.005_cl9_op3/cc_filtered_2den0.81_gausrad2.0/', list(['mean_170619-video1_148-017_opened_cc32.png']), array([  1.        , 221.49760189,  13.00239811,   1.        ,\n",
       "         1.14853507])),\n",
       "       (738, '/media/alessandro/DATA/tesi/Nebbia/pre-processed_data/170619/video1_149/trigger_thr0.005_cl9_op3/cc_filtered_2den0.81_gausrad2.0/', list(['mean_170619-video1_149-004_opened_cc02.png']), array([  1.        , 140.26685981,   6.38313932,   3.        ,\n",
       "         1.10436076])),\n",
       "       (739, '/media/alessandro/DATA/tesi/Nebbia/pre-processed_data/170619/video1_149/trigger_thr0.005_cl9_op3/cc_filtered_2den0.81_gausrad2.0/', list(['mean_170619-video1_149-018_opened_cc17.png', 'mean_170619-video1_149-019_opened_cc22.png']), array([ 2.        , 56.82684781, 24.92315219,  1.        ,  1.        ])),\n",
       "       (740, '/media/alessandro/DATA/tesi/Nebbia/pre-processed_data/170619/video1_149/trigger_thr0.005_cl9_op3/cc_filtered_2den0.81_gausrad2.0/', list(['mean_170619-video1_149-018_opened_cc27.png']), array([  1.        , 299.65619778,   8.95314215,   2.        ,\n",
       "         2.03701692])),\n",
       "       (741, '/media/alessandro/DATA/tesi/Nebbia/pre-processed_data/170619/video1_149/trigger_thr0.005_cl9_op3/cc_filtered_2den0.81_gausrad2.0/', list(['mean_170619-video1_149-019_opened_cc38.png']), array([  1.        , 119.23969646,   8.22771965,   2.        ,\n",
       "         1.19792013])),\n",
       "       (742, '/media/alessandro/DATA/tesi/Nebbia/pre-processed_data/170619/video1_149/trigger_thr0.005_cl9_op3/cc_filtered_2den0.81_gausrad2.0/', list(['mean_170619-video1_149-019_opened_cc39.png']), array([  1.        , 116.06726419,  11.93273581,   1.        ,\n",
       "         1.04497275])),\n",
       "       (743, '/media/alessandro/DATA/tesi/Nebbia/pre-processed_data/170619/video1_149/trigger_thr0.005_cl9_op3/cc_filtered_2den0.81_gausrad2.0/', list(['mean_170619-video1_149-039_opened_cc08.png']), array([  1.        , 111.54018478,  11.95981522,   1.        ,\n",
       "         1.        ])),\n",
       "       (744, '/media/alessandro/DATA/tesi/Nebbia/pre-processed_data/170619/video1_149/trigger_thr0.005_cl9_op3/cc_filtered_2den0.81_gausrad2.0/', list(['mean_170619-video1_149-047_opened_cc03.png', 'mean_170619-video1_149-048_opened_cc04.png']), array([  2.        , 223.7733082 ,  11.26905747,   1.5       ,\n",
       "         1.47197135])),\n",
       "       (745, '/media/alessandro/DATA/tesi/Nebbia/pre-processed_data/170619/video1_150/trigger_thr0.005_cl9_op3/cc_filtered_2den0.81_gausrad2.0/', list(['mean_170619-video1_150-031_opened_cc14.png', 'mean_170619-video1_150-032_opened_cc36.png']), array([  2.        , 174.3559284 ,  11.17145566,   1.5       ,\n",
       "         1.55136039])),\n",
       "       (746, '/media/alessandro/DATA/tesi/Nebbia/pre-processed_data/170619/video1_150/trigger_thr0.005_cl9_op3/cc_filtered_2den0.81_gausrad2.0/', list(['mean_170619-video1_150-032_opened_cc40.png']), array([  1.        , 132.94102184,   4.13671279,   3.        ,\n",
       "         1.42939072])),\n",
       "       (747, '/media/alessandro/DATA/tesi/Nebbia/pre-processed_data/170619/video1_150/trigger_thr0.005_cl9_op3/cc_filtered_2den0.81_gausrad2.0/', list(['mean_170619-video1_150-045_opened_cc38.png']), array([  1.        , 126.00851844,   4.69523868,   2.        ,\n",
       "         1.5034076 ])),\n",
       "       (748, '/media/alessandro/DATA/tesi/Nebbia/pre-processed_data/170619/video1_151/trigger_thr0.005_cl9_op3/cc_filtered_2den0.81_gausrad2.0/', list(['mean_170619-video1_151-008_opened_cc26.png']), array([ 1.        , 84.34906691,  6.65093309,  1.        ,  1.33284308])),\n",
       "       (749, '/media/alessandro/DATA/tesi/Nebbia/pre-processed_data/170619/video1_151/trigger_thr0.005_cl9_op3/cc_filtered_2den0.81_gausrad2.0/', list(['mean_170619-video1_151-031_opened_cc16.png']), array([ 1.        , 87.21001792,  6.10076147,  3.        ,  1.10569737])),\n",
       "       (750, '/media/alessandro/DATA/tesi/Nebbia/pre-processed_data/170619/video1_151/trigger_thr0.005_cl9_op3/cc_filtered_2den0.81_gausrad2.0/', list(['mean_170619-video1_151-044_opened_cc09.png']), array([ 1.        , 76.96719547, 16.03280453,  1.        ,  1.16751052])),\n",
       "       (751, '/media/alessandro/DATA/tesi/Nebbia/pre-processed_data/170619/video1_152/trigger_thr0.005_cl9_op3/cc_filtered_2den0.81_gausrad2.0/', list(['mean_170619-video1_152-010_opened_cc25.png']), array([  1.        , 130.96061771,   4.03938229,   1.        ,\n",
       "         2.17184475])),\n",
       "       (752, '/media/alessandro/DATA/tesi/Nebbia/pre-processed_data/170619/video1_152/trigger_thr0.005_cl9_op3/cc_filtered_2den0.81_gausrad2.0/', list(['mean_170619-video1_152-013_opened_cc01.png']), array([  1.        , 138.78070231,  13.43488794,   2.        ,\n",
       "         1.5660704 ])),\n",
       "       (753, '/media/alessandro/DATA/tesi/Nebbia/pre-processed_data/170619/video1_152/trigger_thr0.005_cl9_op3/cc_filtered_2den0.81_gausrad2.0/', list(['mean_170619-video1_152-028_opened_cc04.png']), array([ 1.        , 73.18194132,  7.71840497,  2.        ,  1.03032287])),\n",
       "       (754, '/media/alessandro/DATA/tesi/Nebbia/pre-processed_data/170619/video1_152/trigger_thr0.005_cl9_op3/cc_filtered_2den0.81_gausrad2.0/', list(['mean_170619-video1_152-030_opened_cc13.png']), array([ 1.        , 74.11171357,  2.38828643,  1.        ,  5.32091094])),\n",
       "       (755, '/media/alessandro/DATA/tesi/Nebbia/pre-processed_data/170619/video1_153/trigger_thr0.005_cl9_op3/cc_filtered_2den0.81_gausrad2.0/', list(['mean_170619-video1_153-032_opened_cc18.png']), array([ 1.        , 90.37530974, 11.31490412,  2.        ,  1.06977378])),\n",
       "       (756, '/media/alessandro/DATA/tesi/Nebbia/pre-processed_data/170619/video1_154/trigger_thr0.005_cl9_op3/cc_filtered_2den0.81_gausrad2.0/', list(['mean_170619-video1_154-022_opened_cc03.png']), array([  1.        , 293.48091457,   8.97460478,   3.        ,\n",
       "         1.70100283])),\n",
       "       (757, '/media/alessandro/DATA/tesi/Nebbia/pre-processed_data/170619/video1_154/trigger_thr0.005_cl9_op3/cc_filtered_2den0.81_gausrad2.0/', list(['mean_170619-video1_154-022_opened_cc35.png']), array([  1.        , 105.6637853 ,   4.93576902,   2.        ,\n",
       "         1.42399368])),\n",
       "       (758, '/media/alessandro/DATA/tesi/Nebbia/pre-processed_data/170619/video1_155/trigger_thr0.005_cl9_op3/cc_filtered_2den0.81_gausrad2.0/', list(['mean_170619-video1_155-028_opened_cc06.png']), array([  1.        , 147.21140526,   3.91481115,   2.        ,\n",
       "         1.35329983])),\n",
       "       (759, '/media/alessandro/DATA/tesi/Nebbia/pre-processed_data/170619/video1_155/trigger_thr0.005_cl9_op3/cc_filtered_2den0.81_gausrad2.0/', list(['mean_170619-video1_155-038_opened_cc07.png']), array([  1.        , 167.618992  ,   5.63122572,   2.        ,\n",
       "         1.61015872])),\n",
       "       (760, '/media/alessandro/DATA/tesi/Nebbia/pre-processed_data/170619/video1_155/trigger_thr0.005_cl9_op3/cc_filtered_2den0.81_gausrad2.0/', list(['mean_170619-video1_155-039_opened_cc01.png']), array([ 1.        , 94.45988579, 10.51389962,  2.        ,  1.44301885])),\n",
       "       (761, '/media/alessandro/DATA/tesi/Nebbia/pre-processed_data/170619/video1_157/trigger_thr0.005_cl9_op3/cc_filtered_2den0.81_gausrad2.0/', list(['mean_170619-video1_157-040_opened_cc18.png']), array([  1.        , 112.29443662,  10.5       ,   2.        ,\n",
       "         1.00370968])),\n",
       "       (762, '/media/alessandro/DATA/tesi/Nebbia/pre-processed_data/170619/video1_158/trigger_thr0.005_cl9_op3/cc_filtered_2den0.81_gausrad2.0/', list(['mean_170619-video1_158-013_opened_cc08.png']), array([ 1.        , 92.58596865,  7.71754214,  2.        ,  1.4044307 ])),\n",
       "       (763, '/media/alessandro/DATA/tesi/Nebbia/pre-processed_data/170619/video1_158/trigger_thr0.005_cl9_op3/cc_filtered_2den0.81_gausrad2.0/', list(['mean_170619-video1_158-013_opened_cc31.png']), array([  1.        , 145.46454286,  11.53545714,   1.        ,\n",
       "         1.13065969])),\n",
       "       (764, '/media/alessandro/DATA/tesi/Nebbia/pre-processed_data/170619/video1_158/trigger_thr0.005_cl9_op3/cc_filtered_2den0.81_gausrad2.0/', list(['mean_170619-video1_158-015_opened_cc12.png']), array([  1.        , 313.19722404,   8.81833791,   5.        ,\n",
       "         1.74619353])),\n",
       "       (765, '/media/alessandro/DATA/tesi/Nebbia/pre-processed_data/170619/video1_158/trigger_thr0.005_cl9_op3/cc_filtered_2den0.81_gausrad2.0/', list(['mean_170619-video1_158-015_opened_cc31.png']), array([  1.        , 183.32162803,   4.08385855,   3.        ,\n",
       "         1.94255069])),\n",
       "       (766, '/media/alessandro/DATA/tesi/Nebbia/pre-processed_data/170619/video1_158/trigger_thr0.005_cl9_op3/cc_filtered_2den0.81_gausrad2.0/', list(['mean_170619-video1_158-015_opened_cc63.png']), array([  1.        , 178.13927638,  12.86072362,   1.        ,\n",
       "         1.12710264])),\n",
       "       (767, '/media/alessandro/DATA/tesi/Nebbia/pre-processed_data/170619/video1_158/trigger_thr0.005_cl9_op3/cc_filtered_2den0.81_gausrad2.0/', list(['mean_170619-video1_158-015_opened_cc72.png']), array([ 1.        , 90.21711018,  7.10805154,  2.        ,  1.20044307])),\n",
       "       (768, '/media/alessandro/DATA/tesi/Nebbia/pre-processed_data/170619/video1_158/trigger_thr0.005_cl9_op3/cc_filtered_2den0.81_gausrad2.0/', list(['mean_170619-video1_158-034_opened_cc03.png']), array([  1.        , 215.57875262,   3.1404705 ,   4.        ,\n",
       "         2.42085825])),\n",
       "       (769, '/media/alessandro/DATA/tesi/Nebbia/pre-processed_data/170619/video1_158/trigger_thr0.005_cl9_op3/cc_filtered_2den0.81_gausrad2.0/', list(['mean_170619-video1_158-038_opened_cc11.png']), array([  1.        , 127.16789214,  13.83210786,   1.        ,\n",
       "         1.17466402])),\n",
       "       (770, '/media/alessandro/DATA/tesi/Nebbia/pre-processed_data/170619/video1_159/trigger_thr0.005_cl9_op3/cc_filtered_2den0.81_gausrad2.0/', list(['mean_170619-video1_159-007_opened_cc04.png']), array([  1.        , 191.42701351,   5.57092803,   4.        ,\n",
       "         1.74190189])),\n",
       "       (771, '/media/alessandro/DATA/tesi/Nebbia/pre-processed_data/170619/video1_159/trigger_thr0.005_cl9_op3/cc_filtered_2den0.81_gausrad2.0/', list(['mean_170619-video1_159-008_opened_cc12.png']), array([ 1.        , 59.84108407,  9.65891593,  1.        ,  1.32328319])),\n",
       "       (772, '/media/alessandro/DATA/tesi/Nebbia/pre-processed_data/170619/video1_159/trigger_thr0.005_cl9_op3/cc_filtered_2den0.81_gausrad2.0/', list(['mean_170619-video1_159-010_opened_cc21.png']), array([  1.        , 109.29890255,   6.66317703,   2.        ,\n",
       "         1.27040227])),\n",
       "       (773, '/media/alessandro/DATA/tesi/Nebbia/pre-processed_data/170619/video1_159/trigger_thr0.005_cl9_op3/cc_filtered_2den0.81_gausrad2.0/', list(['mean_170619-video1_159-019_opened_cc13.png']), array([ 1.        , 76.87922572,  6.62077428,  1.        ,  1.23042202])),\n",
       "       (774, '/media/alessandro/DATA/tesi/Nebbia/pre-processed_data/170619/video1_160/trigger_thr0.005_cl9_op3/cc_filtered_2den0.81_gausrad2.0/', list(['mean_170619-video1_160-005_opened_cc17.png', 'mean_170619-video1_160-006_opened_cc56.png']), array([ 2.        , 90.21305129,  9.28694871,  1.        ,  1.46756215])),\n",
       "       (775, '/media/alessandro/DATA/tesi/Nebbia/pre-processed_data/170619/video1_160/trigger_thr0.005_cl9_op3/cc_filtered_2den0.81_gausrad2.0/', list(['mean_170619-video1_160-007_opened_cc32.png']), array([ 1.        , 98.005137  ,  7.96853512,  2.        ,  1.03786163])),\n",
       "       (776, '/media/alessandro/DATA/tesi/Nebbia/pre-processed_data/170619/video1_160/trigger_thr0.005_cl9_op3/cc_filtered_2den0.81_gausrad2.0/', list(['mean_170619-video1_160-011_opened_cc21.png']), array([  1.        , 133.72230304,   9.83967139,   2.        ,\n",
       "         1.        ])),\n",
       "       (777, '/media/alessandro/DATA/tesi/Nebbia/pre-processed_data/170619/video1_160/trigger_thr0.005_cl9_op3/cc_filtered_2den0.81_gausrad2.0/', list(['mean_170619-video1_160-012_opened_cc26.png']), array([ 1.        , 93.45206829, 10.04793171,  1.        ,  1.19987972])),\n",
       "       (778, '/media/alessandro/DATA/tesi/Nebbia/pre-processed_data/170619/video1_160/trigger_thr0.005_cl9_op3/cc_filtered_2den0.81_gausrad2.0/', list(['mean_170619-video1_160-012_opened_cc44.png']), array([  1.        , 260.75746994,  10.40553169,   3.        ,\n",
       "         1.52596767])),\n",
       "       (779, '/media/alessandro/DATA/tesi/Nebbia/pre-processed_data/170619/video1_160/trigger_thr0.005_cl9_op3/cc_filtered_2den0.81_gausrad2.0/', list(['mean_170619-video1_160-014_opened_cc27.png']), array([ 1.        , 80.86015946,  5.42991445,  2.        ,  1.76241647])),\n",
       "       (780, '/media/alessandro/DATA/tesi/Nebbia/pre-processed_data/170619/video1_160/trigger_thr0.005_cl9_op3/cc_filtered_2den0.81_gausrad2.0/', list(['mean_170619-video1_160-033_opened_cc06.png']), array([  1.        , 127.40630827,  10.09369173,   1.        ,\n",
       "         1.19763719])),\n",
       "       (781, '/media/alessandro/DATA/tesi/Nebbia/pre-processed_data/170619/video1_160/trigger_thr0.005_cl9_op3/cc_filtered_2den0.81_gausrad2.0/', list(['mean_170619-video1_160-034_opened_cc34.png']), array([ 1.        , 89.21467561, 23.78532439,  1.        ,  1.02390155])),\n",
       "       (782, '/media/alessandro/DATA/tesi/Nebbia/pre-processed_data/170619/video1_160/trigger_thr0.005_cl9_op3/cc_filtered_2den0.81_gausrad2.0/', list(['mean_170619-video1_160-036_opened_cc04.png']), array([  1.        , 243.81276395,   9.70356929,   4.        ,\n",
       "         1.48921236])),\n",
       "       (783, '/media/alessandro/DATA/tesi/Nebbia/pre-processed_data/170619/video1_160/trigger_thr0.005_cl9_op3/cc_filtered_2den0.81_gausrad2.0/', list(['mean_170619-video1_160-036_opened_cc46.png']), array([ 1.        , 59.76784887, 21.23215113,  1.        ,  1.        ])),\n",
       "       (784, '/media/alessandro/DATA/tesi/Nebbia/pre-processed_data/170619/video1_161/trigger_thr0.005_cl9_op3/cc_filtered_2den0.81_gausrad2.0/', list(['mean_170619-video1_161-010_opened_cc03.png']), array([  1.        , 113.55549535,   7.87958389,   2.        ,\n",
       "         1.23656544])),\n",
       "       (785, '/media/alessandro/DATA/tesi/Nebbia/pre-processed_data/170619/video1_161/trigger_thr0.005_cl9_op3/cc_filtered_2den0.81_gausrad2.0/', list(['mean_170619-video1_161-018_opened_cc40.png']), array([  1.        , 225.94974297,   3.69087439,   3.        ,\n",
       "         2.17611744])),\n",
       "       (786, '/media/alessandro/DATA/tesi/Nebbia/pre-processed_data/170619/video1_161/trigger_thr0.005_cl9_op3/cc_filtered_2den0.81_gausrad2.0/', list(['mean_170619-video1_161-018_opened_cc73.png']), array([  1.        , 266.07006169,  12.15787037,   3.        ,\n",
       "         1.398955  ])),\n",
       "       (787, '/media/alessandro/DATA/tesi/Nebbia/pre-processed_data/170619/video1_161/trigger_thr0.005_cl9_op3/cc_filtered_2den0.81_gausrad2.0/', list(['mean_170619-video1_161-018_opened_cc90.png']), array([  1.        , 219.92601204,   8.40410128,   4.        ,\n",
       "         1.86498562])),\n",
       "       (788, '/media/alessandro/DATA/tesi/Nebbia/pre-processed_data/170619/video1_161/trigger_thr0.005_cl9_op3/cc_filtered_2den0.81_gausrad2.0/', list(['mean_170619-video1_161-020_opened_cc01.png']), array([  1.        , 117.31473186,   9.55154874,   2.        ,\n",
       "         1.33312195])),\n",
       "       (789, '/media/alessandro/DATA/tesi/Nebbia/pre-processed_data/170619/video1_161/trigger_thr0.005_cl9_op3/cc_filtered_2den0.81_gausrad2.0/', list(['mean_170619-video1_161-021_opened_cc31.png']), array([ 1.        , 49.68729304, 30.81270696,  1.        ,  1.        ])),\n",
       "       (790, '/media/alessandro/DATA/tesi/Nebbia/pre-processed_data/170619/video1_161/trigger_thr0.005_cl9_op3/cc_filtered_2den0.81_gausrad2.0/', list(['mean_170619-video1_161-021_opened_cc35.png']), array([ 1.        , 58.35523802, 10.14476198,  1.        ,  1.69591466])),\n",
       "       (791, '/media/alessandro/DATA/tesi/Nebbia/pre-processed_data/170619/video1_162/trigger_thr0.005_cl9_op3/cc_filtered_2den0.81_gausrad2.0/', list(['mean_170619-video1_162-007_opened_cc06.png', 'mean_170619-video1_162-008_opened_cc42.png', 'mean_170619-video1_162-009_opened_cc51.png']), array([  3.        , 189.17593664,  29.138279  ,   2.        ,\n",
       "         1.29651866])),\n",
       "       (792, '/media/alessandro/DATA/tesi/Nebbia/pre-processed_data/170619/video1_162/trigger_thr0.005_cl9_op3/cc_filtered_2den0.81_gausrad2.0/', list(['mean_170619-video1_162-009_opened_cc38.png']), array([  1.        , 111.86867241,   5.13837119,   2.        ,\n",
       "         1.61941541])),\n",
       "       (793, '/media/alessandro/DATA/tesi/Nebbia/pre-processed_data/170619/video1_162/trigger_thr0.005_cl9_op3/cc_filtered_2den0.81_gausrad2.0/', list(['mean_170619-video1_162-042_opened_cc02.png', 'mean_170619-video1_162-043_opened_cc05.png']), array([  2.        , 134.65459246,  11.25472619,   1.5       ,\n",
       "         1.02143912])),\n",
       "       (794, '/media/alessandro/DATA/tesi/Nebbia/pre-processed_data/170619/video1_163/trigger_thr0.005_cl9_op3/cc_filtered_2den0.81_gausrad2.0/', list(['mean_170619-video1_163-011_opened_cc01.png']), array([  1.        , 103.12930502,   8.87189744,   2.        ,\n",
       "         1.02103218])),\n",
       "       (795, '/media/alessandro/DATA/tesi/Nebbia/pre-processed_data/170619/video1_163/trigger_thr0.005_cl9_op3/cc_filtered_2den0.81_gausrad2.0/', list(['mean_170619-video1_163-047_opened_cc01.png']), array([  1.        , 333.75359543,   4.76003978,   4.        ,\n",
       "         1.52515015])),\n",
       "       (796, '/media/alessandro/DATA/tesi/Nebbia/pre-processed_data/170619/video1_163/trigger_thr0.005_cl9_op3/cc_filtered_2den0.81_gausrad2.0/', list(['mean_170619-video1_163-047_opened_cc07.png']), array([ 1.        , 87.52959374, 11.47040626,  1.        ,  1.17280907])),\n",
       "       (797, '/media/alessandro/DATA/tesi/Nebbia/pre-processed_data/170619/video1_164/trigger_thr0.005_cl9_op3/cc_filtered_2den0.81_gausrad2.0/', list(['mean_170619-video1_164-008_opened_cc05.png']), array([  1.        , 190.43661698,   9.06338302,   1.        ,\n",
       "         1.02012948])),\n",
       "       (798, '/media/alessandro/DATA/tesi/Nebbia/pre-processed_data/170619/video1_164/trigger_thr0.005_cl9_op3/cc_filtered_2den0.81_gausrad2.0/', list(['mean_170619-video1_164-014_opened_cc08.png']), array([  1.        , 170.25656094,  12.26574441,   2.        ,\n",
       "         1.        ])),\n",
       "       (799, '/media/alessandro/DATA/tesi/Nebbia/pre-processed_data/170619/video1_164/trigger_thr0.005_cl9_op3/cc_filtered_2den0.81_gausrad2.0/', list(['mean_170619-video1_164-014_opened_cc51.png']), array([  1.        , 121.44684086,   8.7959395 ,   2.        ,\n",
       "         1.84094909])),\n",
       "       (800, '/media/alessandro/DATA/tesi/Nebbia/pre-processed_data/170619/video1_164/trigger_thr0.005_cl9_op3/cc_filtered_2den0.81_gausrad2.0/', list(['mean_170619-video1_164-014_opened_cc58.png']), array([  1.        , 163.06310183,   6.54782776,   2.        ,\n",
       "         1.16340167])),\n",
       "       (801, '/media/alessandro/DATA/tesi/Nebbia/pre-processed_data/170619/video1_164/trigger_thr0.005_cl9_op3/cc_filtered_2den0.81_gausrad2.0/', list(['mean_170619-video1_164-044_opened_cc47.png']), array([  1.        , 168.06351465,  12.82266314,   4.        ,\n",
       "         1.        ])),\n",
       "       (802, '/media/alessandro/DATA/tesi/Nebbia/pre-processed_data/170619/video1_164/trigger_thr0.005_cl9_op3/cc_filtered_2den0.81_gausrad2.0/', list(['mean_170619-video1_164-044_opened_cc52.png']), array([ 1.       , 64.6354706, 18.3645294,  1.       ,  1.       ])),\n",
       "       (803, '/media/alessandro/DATA/tesi/Nebbia/pre-processed_data/170619/video1_165/trigger_thr0.005_cl9_op3/cc_filtered_2den0.81_gausrad2.0/', list(['mean_170619-video1_165-005_opened_cc12.png', 'mean_170619-video1_165-006_opened_cc11.png', 'mean_170619-video1_165-007_opened_cc08.png']), array([  3.        , 138.2812563 ,  22.05207703,   1.        ,\n",
       "         1.14314253])),\n",
       "       (804, '/media/alessandro/DATA/tesi/Nebbia/pre-processed_data/170619/video1_165/trigger_thr0.005_cl9_op3/cc_filtered_2den0.81_gausrad2.0/', list(['mean_170619-video1_165-006_opened_cc58.png', 'mean_170619-video1_165-007_opened_cc45.png']), array([ 2.        , 90.99237337,  8.49761409,  1.5       ,  1.32504611])),\n",
       "       (805, '/media/alessandro/DATA/tesi/Nebbia/pre-processed_data/170619/video1_165/trigger_thr0.005_cl9_op3/cc_filtered_2den0.81_gausrad2.0/', list(['mean_170619-video1_165-007_opened_cc10.png']), array([  1.        , 180.02619572,   5.72691376,   2.        ,\n",
       "         1.38789997])),\n",
       "       (806, '/media/alessandro/DATA/tesi/Nebbia/pre-processed_data/170619/video1_165/trigger_thr0.005_cl9_op3/cc_filtered_2den0.81_gausrad2.0/', list(['mean_170619-video1_165-020_opened_cc03.png']), array([  1.        , 101.88376169,   7.76975053,   2.        ,\n",
       "         1.07460605])),\n",
       "       (807, '/media/alessandro/DATA/tesi/Nebbia/pre-processed_data/170619/video1_165/trigger_thr0.005_cl9_op3/cc_filtered_2den0.81_gausrad2.0/', list(['mean_170619-video1_165-030_opened_cc11.png']), array([ 1.        , 92.84678264,  8.15321736,  1.        ,  1.09872079])),\n",
       "       (808, '/media/alessandro/DATA/tesi/Nebbia/pre-processed_data/170619/video1_165/trigger_thr0.005_cl9_op3/cc_filtered_2den0.81_gausrad2.0/', list(['mean_170619-video1_165-037_opened_cc12.png', 'mean_170619-video1_165-038_opened_cc12.png']), array([ 2.        , 91.99941894, 14.25058106,  1.        ,  1.        ])),\n",
       "       (809, '/media/alessandro/DATA/tesi/Nebbia/pre-processed_data/170619/video1_166/trigger_thr0.005_cl9_op3/cc_filtered_2den0.81_gausrad2.0/', list(['mean_170619-video1_166-006_opened_cc73.png']), array([  1.        , 145.07496162,   7.70416725,   3.        ,\n",
       "         1.55769618])),\n",
       "       (810, '/media/alessandro/DATA/tesi/Nebbia/pre-processed_data/170619/video1_166/trigger_thr0.005_cl9_op3/cc_filtered_2den0.81_gausrad2.0/', list(['mean_170619-video1_166-007_opened_cc45.png']), array([  1.        , 126.1499038 ,  12.20215065,   2.        ,\n",
       "         1.14210757])),\n",
       "       (811, '/media/alessandro/DATA/tesi/Nebbia/pre-processed_data/170619/video1_166/trigger_thr0.005_cl9_op3/cc_filtered_2den0.81_gausrad2.0/', list(['mean_170619-video1_166-025_opened_cc02.png']), array([  1.        , 101.40253158,   6.59746842,   1.        ,\n",
       "         1.5027958 ])),\n",
       "       (812, '/media/alessandro/DATA/tesi/Nebbia/pre-processed_data/170619/video1_166/trigger_thr0.005_cl9_op3/cc_filtered_2den0.81_gausrad2.0/', list(['mean_170619-video1_166-025_opened_cc15.png']), array([  1.        , 262.88329147,   8.31239973,   5.        ,\n",
       "         1.23921618])),\n",
       "       (813, '/media/alessandro/DATA/tesi/Nebbia/pre-processed_data/170619/video1_166/trigger_thr0.005_cl9_op3/cc_filtered_2den0.81_gausrad2.0/', list(['mean_170619-video1_166-031_opened_cc03.png']), array([  1.        , 208.06939426,   6.43305564,   4.        ,\n",
       "         1.40095807])),\n",
       "       (814, '/media/alessandro/DATA/tesi/Nebbia/pre-processed_data/170619/video1_167/trigger_thr0.005_cl9_op3/cc_filtered_2den0.81_gausrad2.0/', list(['mean_170619-video1_167-013_opened_cc51.png']), array([  1.        , 253.74005334,  11.89324577,   2.        ,\n",
       "         1.6105692 ])),\n",
       "       (815, '/media/alessandro/DATA/tesi/Nebbia/pre-processed_data/170619/video1_167/trigger_thr0.005_cl9_op3/cc_filtered_2den0.81_gausrad2.0/', list(['mean_170619-video1_167-018_opened_cc40.png']), array([  1.        , 178.97789679,   6.5129914 ,   3.        ,\n",
       "         1.73470874])),\n",
       "       (816, '/media/alessandro/DATA/tesi/Nebbia/pre-processed_data/170619/video1_167/trigger_thr0.005_cl9_op3/cc_filtered_2den0.81_gausrad2.0/', list(['mean_170619-video1_167-018_opened_cc42.png']), array([  1.        , 273.14663777,   8.64148258,   6.        ,\n",
       "         1.62239884])),\n",
       "       (817, '/media/alessandro/DATA/tesi/Nebbia/pre-processed_data/170619/video1_167/trigger_thr0.005_cl9_op3/cc_filtered_2den0.81_gausrad2.0/', list(['mean_170619-video1_167-019_opened_cc03.png']), array([  1.        , 134.73692457,   5.59575668,   3.        ,\n",
       "         1.63717872])),\n",
       "       (818, '/media/alessandro/DATA/tesi/Nebbia/pre-processed_data/170619/video1_167/trigger_thr0.005_cl9_op3/cc_filtered_2den0.81_gausrad2.0/', list(['mean_170619-video1_167-019_opened_cc05.png']), array([  1.        , 162.95388012,   8.0159403 ,   2.        ,\n",
       "         1.17039324])),\n",
       "       (819, '/media/alessandro/DATA/tesi/Nebbia/pre-processed_data/170619/video1_167/trigger_thr0.005_cl9_op3/cc_filtered_2den0.81_gausrad2.0/', list(['mean_170619-video1_167-020_opened_cc06.png']), array([  1.        , 508.79898919,  11.70612189,   6.        ,\n",
       "         1.96777775])),\n",
       "       (820, '/media/alessandro/DATA/tesi/Nebbia/pre-processed_data/170619/video1_167/trigger_thr0.005_cl9_op3/cc_filtered_2den0.81_gausrad2.0/', list(['mean_170619-video1_167-048_opened_cc01.png']), array([  1.        , 118.92160234,  10.57839766,   1.        ,\n",
       "         1.19130263])),\n",
       "       (821, '/media/alessandro/DATA/tesi/Nebbia/pre-processed_data/170619/video1_168/trigger_thr0.005_cl9_op3/cc_filtered_2den0.81_gausrad2.0/', list(['mean_170619-video1_168-003_opened_cc14.png', 'mean_170619-video1_168-004_opened_cc26.png']), array([  2.        , 221.81851116,   6.40611172,   4.5       ,\n",
       "         1.30006982])),\n",
       "       (822, '/media/alessandro/DATA/tesi/Nebbia/pre-processed_data/170619/video1_168/trigger_thr0.005_cl9_op3/cc_filtered_2den0.81_gausrad2.0/', list(['mean_170619-video1_168-003_opened_cc35.png']), array([  1.        , 303.71838636,  10.75509278,   2.        ,\n",
       "         1.34304549])),\n",
       "       (823, '/media/alessandro/DATA/tesi/Nebbia/pre-processed_data/170619/video1_168/trigger_thr0.005_cl9_op3/cc_filtered_2den0.81_gausrad2.0/', list(['mean_170619-video1_168-004_opened_cc57.png']), array([  1.        , 187.6763295 ,   7.89841284,   4.        ,\n",
       "         1.30643022])),\n",
       "       (824, '/media/alessandro/DATA/tesi/Nebbia/pre-processed_data/170619/video1_168/trigger_thr0.005_cl9_op3/cc_filtered_2den0.81_gausrad2.0/', list(['mean_170619-video1_168-004_opened_cc75.png']), array([ 1.        , 89.73820063, 13.17405446,  2.        ,  1.04851233])),\n",
       "       (825, '/media/alessandro/DATA/tesi/Nebbia/pre-processed_data/170619/video1_168/trigger_thr0.005_cl9_op3/cc_filtered_2den0.81_gausrad2.0/', list(['mean_170619-video1_168-038_opened_cc01.png']), array([  1.        , 196.45516456,  12.39448768,   3.        ,\n",
       "         1.38658498])),\n",
       "       (826, '/media/alessandro/DATA/tesi/Nebbia/pre-processed_data/170619/video1_168/trigger_thr0.005_cl9_op3/cc_filtered_2den0.81_gausrad2.0/', list(['mean_170619-video1_168-038_opened_cc02.png']), array([  1.        , 210.74781248,  10.75218752,   1.        ,\n",
       "         1.        ])),\n",
       "       (827, '/media/alessandro/DATA/tesi/Nebbia/pre-processed_data/170619/video1_168/trigger_thr0.005_cl9_op3/cc_filtered_2den0.81_gausrad2.0/', list(['mean_170619-video1_168-039_opened_cc05.png']), array([  1.        , 158.39904008,   2.67765966,   3.        ,\n",
       "         1.7995244 ])),\n",
       "       (828, '/media/alessandro/DATA/tesi/Nebbia/pre-processed_data/170619/video1_169/trigger_thr0.005_cl9_op3/cc_filtered_2den0.81_gausrad2.0/', list(['mean_170619-video1_169-006_opened_cc15.png']), array([ 1.        , 92.17855557,  9.25604957,  2.        ,  1.19111239])),\n",
       "       (829, '/media/alessandro/DATA/tesi/Nebbia/pre-processed_data/170619/video1_169/trigger_thr0.005_cl9_op3/cc_filtered_2den0.81_gausrad2.0/', list(['mean_170619-video1_169-030_opened_cc46.png']), array([  1.        , 110.85446426,   6.25588398,   2.        ,\n",
       "         1.16098661])),\n",
       "       (830, '/media/alessandro/DATA/tesi/Nebbia/pre-processed_data/170619/video1_170/trigger_thr0.005_cl9_op3/cc_filtered_2den0.81_gausrad2.0/', list(['mean_170619-video1_170-037_opened_cc11.png']), array([  1.        , 120.83677767,   7.89312908,   2.        ,\n",
       "         1.14195318])),\n",
       "       (831, '/media/alessandro/DATA/tesi/Nebbia/pre-processed_data/170619/video1_171/trigger_thr0.005_cl9_op3/cc_filtered_2den0.81_gausrad2.0/', list(['mean_170619-video1_171-007_opened_cc01.png']), array([  1.        , 109.04959357,   5.32338751,   3.        ,\n",
       "         1.23968027])),\n",
       "       (832, '/media/alessandro/DATA/tesi/Nebbia/pre-processed_data/170619/video1_171/trigger_thr0.005_cl9_op3/cc_filtered_2den0.81_gausrad2.0/', list(['mean_170619-video1_171-025_opened_cc51.png']), array([  1.        , 143.94749004,   4.66262686,   3.        ,\n",
       "         1.36377275])),\n",
       "       (833, '/media/alessandro/DATA/tesi/Nebbia/pre-processed_data/170619/video1_171/trigger_thr0.005_cl9_op3/cc_filtered_2den0.81_gausrad2.0/', list(['mean_170619-video1_171-030_opened_cc35.png']), array([ 1.        , 96.76950427, 10.23049573,  1.        ,  1.09894414])),\n",
       "       (834, '/media/alessandro/DATA/tesi/Nebbia/pre-processed_data/170619/video1_171/trigger_thr0.005_cl9_op3/cc_filtered_2den0.81_gausrad2.0/', list(['mean_170619-video1_171-031_opened_cc36.png']), array([ 1.        , 78.1949174 , 11.3050826 ,  1.        ,  1.01827003])),\n",
       "       (835, '/media/alessandro/DATA/tesi/Nebbia/pre-processed_data/170619/video1_172/trigger_thr0.005_cl9_op3/cc_filtered_2den0.81_gausrad2.0/', list(['mean_170619-video1_172-020_opened_cc15.png', 'mean_170619-video1_172-021_opened_cc07.png']), array([  2.        , 108.29118707,  15.5328518 ,   2.        ,\n",
       "         1.00797606])),\n",
       "       (836, '/media/alessandro/DATA/tesi/Nebbia/pre-processed_data/170619/video1_172/trigger_thr0.005_cl9_op3/cc_filtered_2den0.81_gausrad2.0/', list(['mean_170619-video1_172-020_opened_cc38.png']), array([  1.        , 116.01069396,  22.48930604,   1.        ,\n",
       "         1.        ])),\n",
       "       (837, '/media/alessandro/DATA/tesi/Nebbia/pre-processed_data/170619/video1_172/trigger_thr0.005_cl9_op3/cc_filtered_2den0.81_gausrad2.0/', list(['mean_170619-video1_172-043_opened_cc01.png']), array([  1.        , 280.14271243,  12.39916726,   3.        ,\n",
       "         1.98882949])),\n",
       "       (838, '/media/alessandro/DATA/tesi/Nebbia/pre-processed_data/170619/video1_172/trigger_thr0.005_cl9_op3/cc_filtered_2den0.81_gausrad2.0/', list(['mean_170619-video1_172-044_opened_cc04.png']), array([  1.        , 502.81015495,   5.03753081,   7.        ,\n",
       "         1.96239611])),\n",
       "       (839, '/media/alessandro/DATA/tesi/Nebbia/pre-processed_data/170619/video1_172/trigger_thr0.005_cl9_op3/cc_filtered_2den0.81_gausrad2.0/', list(['mean_170619-video1_172-044_opened_cc37.png']), array([  1.        , 163.61081365,   9.43446687,   2.        ,\n",
       "         1.40912964])),\n",
       "       (840, '/media/alessandro/DATA/tesi/Nebbia/pre-processed_data/170619/video1_173/trigger_thr0.005_cl9_op3/cc_filtered_2den0.81_gausrad2.0/', list(['mean_170619-video1_173-016_opened_cc05.png']), array([  1.        , 190.13542073,   8.44907762,   2.        ,\n",
       "         1.17365308])),\n",
       "       (841, '/media/alessandro/DATA/tesi/Nebbia/pre-processed_data/170619/video1_173/trigger_thr0.005_cl9_op3/cc_filtered_2den0.81_gausrad2.0/', list(['mean_170619-video1_173-019_opened_cc02.png', 'mean_170619-video1_173-020_opened_cc03.png']), array([  2.        , 269.42041286,  11.15846667,   3.        ,\n",
       "         1.78845061])),\n",
       "       (842, '/media/alessandro/DATA/tesi/Nebbia/pre-processed_data/170619/video1_173/trigger_thr0.005_cl9_op3/cc_filtered_2den0.81_gausrad2.0/', list(['mean_170619-video1_173-019_opened_cc06.png']), array([  1.        , 123.90384939,   9.59615061,   1.        ,\n",
       "         1.        ])),\n",
       "       (843, '/media/alessandro/DATA/tesi/Nebbia/pre-processed_data/170619/video1_173/trigger_thr0.005_cl9_op3/cc_filtered_2den0.81_gausrad2.0/', list(['mean_170619-video1_173-020_opened_cc14.png']), array([  1.        , 155.07206697,   6.78865951,   3.        ,\n",
       "         1.19075017])),\n",
       "       (844, '/media/alessandro/DATA/tesi/Nebbia/pre-processed_data/170619/video1_174/trigger_thr0.005_cl9_op3/cc_filtered_2den0.81_gausrad2.0/', list(['mean_170619-video1_174-016_opened_cc16.png']), array([ 1.        , 80.45145737, 13.54854263,  1.        ,  1.        ])),\n",
       "       (845, '/media/alessandro/DATA/tesi/Nebbia/pre-processed_data/170619/video1_174/trigger_thr0.005_cl9_op3/cc_filtered_2den0.81_gausrad2.0/', list(['mean_170619-video1_174-016_opened_cc40.png']), array([  1.        , 126.15959734,   9.93853902,   2.        ,\n",
       "         1.05655227])),\n",
       "       (846, '/media/alessandro/DATA/tesi/Nebbia/pre-processed_data/170619/video1_174/trigger_thr0.005_cl9_op3/cc_filtered_2den0.81_gausrad2.0/', list(['mean_170619-video1_174-048_opened_cc01.png']), array([  1.        , 167.81176331,   8.640745  ,   4.        ,\n",
       "         1.32666848])),\n",
       "       (847, '/media/alessandro/DATA/tesi/Nebbia/pre-processed_data/170619/video1_175/trigger_thr0.005_cl9_op3/cc_filtered_2den0.81_gausrad2.0/', list(['mean_170619-video1_175-039_opened_cc06.png']), array([  1.        , 212.20709103,  11.79435341,   3.        ,\n",
       "         2.00213189])),\n",
       "       (849, '/media/alessandro/DATA/tesi/Nebbia/pre-processed_data/170619/video1_176/trigger_thr0.005_cl9_op3/cc_filtered_2den0.81_gausrad2.0/', list(['mean_170619-video1_176-006_opened_cc04.png']), array([  1.        , 117.11862938,   7.38951489,   3.        ,\n",
       "         1.1794717 ])),\n",
       "       (850, '/media/alessandro/DATA/tesi/Nebbia/pre-processed_data/170619/video1_176/trigger_thr0.005_cl9_op3/cc_filtered_2den0.81_gausrad2.0/', list(['mean_170619-video1_176-016_opened_cc01.png']), array([  1.        , 108.19563263,   8.11145618,   2.        ,\n",
       "         1.79827226]))],\n",
       "      dtype=[('ID', '<i8'), ('path', '<U200'), ('names', 'O'), ('values', 'O')])"
      ]
     },
     "execution_count": 52,
     "metadata": {},
     "output_type": "execute_result"
    }
   ],
   "source": [
    "d.slim_particles"
   ]
  },
  {
   "cell_type": "code",
   "execution_count": 98,
   "metadata": {},
   "outputs": [],
   "source": [
    "d.slim_particles[321][3] = np.array([4.,200,21,1.5,1.02])\n",
    "d.values[321] = np.array([4.,200,21,1.5,1.02])\n",
    "d.labels[321] = 1"
   ]
  },
  {
   "cell_type": "code",
   "execution_count": 13,
   "metadata": {
    "scrolled": false
   },
   "outputs": [
    {
     "name": "stdout",
     "output_type": "stream",
     "text": [
      "Help on method plot in module Clusterizer:\n",
      "\n",
      "plot(labels=[]) method of Clusterizer.Clusterizer instance\n",
      "    Before running this function type\n",
      "    \n",
      "        %matplotlib notebook\n",
      "        \n",
      "    Use the lists to select axis\n",
      "    \n",
      "    Click near a data point to select it:\n",
      "        press 'f' to view its pre-processed Frame picture\n",
      "        press 't' to view its Trace analysis (takes a bit of time)\n",
      "        press 'n' to go to the Next trace of that particle\n",
      "        press 'r' to Recall the selected particle after you changed the axis\n",
      "        press 'e' to view its frame from the vidEo\n",
      "        press 'a' to highlight All components in the same video frame of the selected particle\n",
      "        press 'w' to close (Waste) all figures windows \n",
      "        press 'b' to change the laBel of the selected particle\n",
      "        press 's' to Save the capacitor\n",
      "        \n",
      "    If you want to use diffrent labels for the data point run plot(labels=<mylabels>)\n",
      "\n"
     ]
    }
   ],
   "source": [
    "help(d.plot)"
   ]
  },
  {
   "cell_type": "code",
   "execution_count": 49,
   "metadata": {},
   "outputs": [
    {
     "data": {
      "application/vnd.jupyter.widget-view+json": {
       "model_id": "694f8d6b0a1d47bab0790b52883d62e7"
      }
     },
     "metadata": {},
     "output_type": "display_data"
    }
   ],
   "source": [
    "%matplotlib notebook\n",
    "d.plot()"
   ]
  },
  {
   "cell_type": "markdown",
   "metadata": {},
   "source": [
    "# Big Clusterizer (alla data)"
   ]
  },
  {
   "cell_type": "code",
   "execution_count": 2,
   "metadata": {},
   "outputs": [],
   "source": [
    "big_c = Clusterizer.load_Clusterizer(path='./Clusterizers/',name='all')"
   ]
  },
  {
   "cell_type": "code",
   "execution_count": 3,
   "metadata": {},
   "outputs": [],
   "source": [
    "reduced_c = Clusterizer.sub_Clusterizer(big_c,newname='reduced')"
   ]
  },
  {
   "cell_type": "code",
   "execution_count": 12,
   "metadata": {},
   "outputs": [
    {
     "name": "stdout",
     "output_type": "stream",
     "text": [
      "real signals, believed signals, false signals, missed signals\n",
      "81 38 0 43\n",
      "0.4691358024691358 1.0\n",
      "3380\n"
     ]
    }
   ],
   "source": [
    "c = big_c\n",
    "\n",
    "labels,e,p = Clusterizer.classify(c,thrs=[2,400,17,4,1.8],verbose=True)\n",
    "print(e,p)\n",
    "print(len(c.labels))"
   ]
  },
  {
   "cell_type": "code",
   "execution_count": 9,
   "metadata": {
    "scrolled": false
   },
   "outputs": [
    {
     "data": {
      "application/javascript": [
       "/* Put everything inside the global mpl namespace */\n",
       "window.mpl = {};\n",
       "\n",
       "\n",
       "mpl.get_websocket_type = function() {\n",
       "    if (typeof(WebSocket) !== 'undefined') {\n",
       "        return WebSocket;\n",
       "    } else if (typeof(MozWebSocket) !== 'undefined') {\n",
       "        return MozWebSocket;\n",
       "    } else {\n",
       "        alert('Your browser does not have WebSocket support.' +\n",
       "              'Please try Chrome, Safari or Firefox ≥ 6. ' +\n",
       "              'Firefox 4 and 5 are also supported but you ' +\n",
       "              'have to enable WebSockets in about:config.');\n",
       "    };\n",
       "}\n",
       "\n",
       "mpl.figure = function(figure_id, websocket, ondownload, parent_element) {\n",
       "    this.id = figure_id;\n",
       "\n",
       "    this.ws = websocket;\n",
       "\n",
       "    this.supports_binary = (this.ws.binaryType != undefined);\n",
       "\n",
       "    if (!this.supports_binary) {\n",
       "        var warnings = document.getElementById(\"mpl-warnings\");\n",
       "        if (warnings) {\n",
       "            warnings.style.display = 'block';\n",
       "            warnings.textContent = (\n",
       "                \"This browser does not support binary websocket messages. \" +\n",
       "                    \"Performance may be slow.\");\n",
       "        }\n",
       "    }\n",
       "\n",
       "    this.imageObj = new Image();\n",
       "\n",
       "    this.context = undefined;\n",
       "    this.message = undefined;\n",
       "    this.canvas = undefined;\n",
       "    this.rubberband_canvas = undefined;\n",
       "    this.rubberband_context = undefined;\n",
       "    this.format_dropdown = undefined;\n",
       "\n",
       "    this.image_mode = 'full';\n",
       "\n",
       "    this.root = $('<div/>');\n",
       "    this._root_extra_style(this.root)\n",
       "    this.root.attr('style', 'display: inline-block');\n",
       "\n",
       "    $(parent_element).append(this.root);\n",
       "\n",
       "    this._init_header(this);\n",
       "    this._init_canvas(this);\n",
       "    this._init_toolbar(this);\n",
       "\n",
       "    var fig = this;\n",
       "\n",
       "    this.waiting = false;\n",
       "\n",
       "    this.ws.onopen =  function () {\n",
       "            fig.send_message(\"supports_binary\", {value: fig.supports_binary});\n",
       "            fig.send_message(\"send_image_mode\", {});\n",
       "            if (mpl.ratio != 1) {\n",
       "                fig.send_message(\"set_dpi_ratio\", {'dpi_ratio': mpl.ratio});\n",
       "            }\n",
       "            fig.send_message(\"refresh\", {});\n",
       "        }\n",
       "\n",
       "    this.imageObj.onload = function() {\n",
       "            if (fig.image_mode == 'full') {\n",
       "                // Full images could contain transparency (where diff images\n",
       "                // almost always do), so we need to clear the canvas so that\n",
       "                // there is no ghosting.\n",
       "                fig.context.clearRect(0, 0, fig.canvas.width, fig.canvas.height);\n",
       "            }\n",
       "            fig.context.drawImage(fig.imageObj, 0, 0);\n",
       "        };\n",
       "\n",
       "    this.imageObj.onunload = function() {\n",
       "        fig.ws.close();\n",
       "    }\n",
       "\n",
       "    this.ws.onmessage = this._make_on_message_function(this);\n",
       "\n",
       "    this.ondownload = ondownload;\n",
       "}\n",
       "\n",
       "mpl.figure.prototype._init_header = function() {\n",
       "    var titlebar = $(\n",
       "        '<div class=\"ui-dialog-titlebar ui-widget-header ui-corner-all ' +\n",
       "        'ui-helper-clearfix\"/>');\n",
       "    var titletext = $(\n",
       "        '<div class=\"ui-dialog-title\" style=\"width: 100%; ' +\n",
       "        'text-align: center; padding: 3px;\"/>');\n",
       "    titlebar.append(titletext)\n",
       "    this.root.append(titlebar);\n",
       "    this.header = titletext[0];\n",
       "}\n",
       "\n",
       "\n",
       "\n",
       "mpl.figure.prototype._canvas_extra_style = function(canvas_div) {\n",
       "\n",
       "}\n",
       "\n",
       "\n",
       "mpl.figure.prototype._root_extra_style = function(canvas_div) {\n",
       "\n",
       "}\n",
       "\n",
       "mpl.figure.prototype._init_canvas = function() {\n",
       "    var fig = this;\n",
       "\n",
       "    var canvas_div = $('<div/>');\n",
       "\n",
       "    canvas_div.attr('style', 'position: relative; clear: both; outline: 0');\n",
       "\n",
       "    function canvas_keyboard_event(event) {\n",
       "        return fig.key_event(event, event['data']);\n",
       "    }\n",
       "\n",
       "    canvas_div.keydown('key_press', canvas_keyboard_event);\n",
       "    canvas_div.keyup('key_release', canvas_keyboard_event);\n",
       "    this.canvas_div = canvas_div\n",
       "    this._canvas_extra_style(canvas_div)\n",
       "    this.root.append(canvas_div);\n",
       "\n",
       "    var canvas = $('<canvas/>');\n",
       "    canvas.addClass('mpl-canvas');\n",
       "    canvas.attr('style', \"left: 0; top: 0; z-index: 0; outline: 0\")\n",
       "\n",
       "    this.canvas = canvas[0];\n",
       "    this.context = canvas[0].getContext(\"2d\");\n",
       "\n",
       "    var backingStore = this.context.backingStorePixelRatio ||\n",
       "\tthis.context.webkitBackingStorePixelRatio ||\n",
       "\tthis.context.mozBackingStorePixelRatio ||\n",
       "\tthis.context.msBackingStorePixelRatio ||\n",
       "\tthis.context.oBackingStorePixelRatio ||\n",
       "\tthis.context.backingStorePixelRatio || 1;\n",
       "\n",
       "    mpl.ratio = (window.devicePixelRatio || 1) / backingStore;\n",
       "\n",
       "    var rubberband = $('<canvas/>');\n",
       "    rubberband.attr('style', \"position: absolute; left: 0; top: 0; z-index: 1;\")\n",
       "\n",
       "    var pass_mouse_events = true;\n",
       "\n",
       "    canvas_div.resizable({\n",
       "        start: function(event, ui) {\n",
       "            pass_mouse_events = false;\n",
       "        },\n",
       "        resize: function(event, ui) {\n",
       "            fig.request_resize(ui.size.width, ui.size.height);\n",
       "        },\n",
       "        stop: function(event, ui) {\n",
       "            pass_mouse_events = true;\n",
       "            fig.request_resize(ui.size.width, ui.size.height);\n",
       "        },\n",
       "    });\n",
       "\n",
       "    function mouse_event_fn(event) {\n",
       "        if (pass_mouse_events)\n",
       "            return fig.mouse_event(event, event['data']);\n",
       "    }\n",
       "\n",
       "    rubberband.mousedown('button_press', mouse_event_fn);\n",
       "    rubberband.mouseup('button_release', mouse_event_fn);\n",
       "    // Throttle sequential mouse events to 1 every 20ms.\n",
       "    rubberband.mousemove('motion_notify', mouse_event_fn);\n",
       "\n",
       "    rubberband.mouseenter('figure_enter', mouse_event_fn);\n",
       "    rubberband.mouseleave('figure_leave', mouse_event_fn);\n",
       "\n",
       "    canvas_div.on(\"wheel\", function (event) {\n",
       "        event = event.originalEvent;\n",
       "        event['data'] = 'scroll'\n",
       "        if (event.deltaY < 0) {\n",
       "            event.step = 1;\n",
       "        } else {\n",
       "            event.step = -1;\n",
       "        }\n",
       "        mouse_event_fn(event);\n",
       "    });\n",
       "\n",
       "    canvas_div.append(canvas);\n",
       "    canvas_div.append(rubberband);\n",
       "\n",
       "    this.rubberband = rubberband;\n",
       "    this.rubberband_canvas = rubberband[0];\n",
       "    this.rubberband_context = rubberband[0].getContext(\"2d\");\n",
       "    this.rubberband_context.strokeStyle = \"#000000\";\n",
       "\n",
       "    this._resize_canvas = function(width, height) {\n",
       "        // Keep the size of the canvas, canvas container, and rubber band\n",
       "        // canvas in synch.\n",
       "        canvas_div.css('width', width)\n",
       "        canvas_div.css('height', height)\n",
       "\n",
       "        canvas.attr('width', width * mpl.ratio);\n",
       "        canvas.attr('height', height * mpl.ratio);\n",
       "        canvas.attr('style', 'width: ' + width + 'px; height: ' + height + 'px;');\n",
       "\n",
       "        rubberband.attr('width', width);\n",
       "        rubberband.attr('height', height);\n",
       "    }\n",
       "\n",
       "    // Set the figure to an initial 600x600px, this will subsequently be updated\n",
       "    // upon first draw.\n",
       "    this._resize_canvas(600, 600);\n",
       "\n",
       "    // Disable right mouse context menu.\n",
       "    $(this.rubberband_canvas).bind(\"contextmenu\",function(e){\n",
       "        return false;\n",
       "    });\n",
       "\n",
       "    function set_focus () {\n",
       "        canvas.focus();\n",
       "        canvas_div.focus();\n",
       "    }\n",
       "\n",
       "    window.setTimeout(set_focus, 100);\n",
       "}\n",
       "\n",
       "mpl.figure.prototype._init_toolbar = function() {\n",
       "    var fig = this;\n",
       "\n",
       "    var nav_element = $('<div/>')\n",
       "    nav_element.attr('style', 'width: 100%');\n",
       "    this.root.append(nav_element);\n",
       "\n",
       "    // Define a callback function for later on.\n",
       "    function toolbar_event(event) {\n",
       "        return fig.toolbar_button_onclick(event['data']);\n",
       "    }\n",
       "    function toolbar_mouse_event(event) {\n",
       "        return fig.toolbar_button_onmouseover(event['data']);\n",
       "    }\n",
       "\n",
       "    for(var toolbar_ind in mpl.toolbar_items) {\n",
       "        var name = mpl.toolbar_items[toolbar_ind][0];\n",
       "        var tooltip = mpl.toolbar_items[toolbar_ind][1];\n",
       "        var image = mpl.toolbar_items[toolbar_ind][2];\n",
       "        var method_name = mpl.toolbar_items[toolbar_ind][3];\n",
       "\n",
       "        if (!name) {\n",
       "            // put a spacer in here.\n",
       "            continue;\n",
       "        }\n",
       "        var button = $('<button/>');\n",
       "        button.addClass('ui-button ui-widget ui-state-default ui-corner-all ' +\n",
       "                        'ui-button-icon-only');\n",
       "        button.attr('role', 'button');\n",
       "        button.attr('aria-disabled', 'false');\n",
       "        button.click(method_name, toolbar_event);\n",
       "        button.mouseover(tooltip, toolbar_mouse_event);\n",
       "\n",
       "        var icon_img = $('<span/>');\n",
       "        icon_img.addClass('ui-button-icon-primary ui-icon');\n",
       "        icon_img.addClass(image);\n",
       "        icon_img.addClass('ui-corner-all');\n",
       "\n",
       "        var tooltip_span = $('<span/>');\n",
       "        tooltip_span.addClass('ui-button-text');\n",
       "        tooltip_span.html(tooltip);\n",
       "\n",
       "        button.append(icon_img);\n",
       "        button.append(tooltip_span);\n",
       "\n",
       "        nav_element.append(button);\n",
       "    }\n",
       "\n",
       "    var fmt_picker_span = $('<span/>');\n",
       "\n",
       "    var fmt_picker = $('<select/>');\n",
       "    fmt_picker.addClass('mpl-toolbar-option ui-widget ui-widget-content');\n",
       "    fmt_picker_span.append(fmt_picker);\n",
       "    nav_element.append(fmt_picker_span);\n",
       "    this.format_dropdown = fmt_picker[0];\n",
       "\n",
       "    for (var ind in mpl.extensions) {\n",
       "        var fmt = mpl.extensions[ind];\n",
       "        var option = $(\n",
       "            '<option/>', {selected: fmt === mpl.default_extension}).html(fmt);\n",
       "        fmt_picker.append(option)\n",
       "    }\n",
       "\n",
       "    // Add hover states to the ui-buttons\n",
       "    $( \".ui-button\" ).hover(\n",
       "        function() { $(this).addClass(\"ui-state-hover\");},\n",
       "        function() { $(this).removeClass(\"ui-state-hover\");}\n",
       "    );\n",
       "\n",
       "    var status_bar = $('<span class=\"mpl-message\"/>');\n",
       "    nav_element.append(status_bar);\n",
       "    this.message = status_bar[0];\n",
       "}\n",
       "\n",
       "mpl.figure.prototype.request_resize = function(x_pixels, y_pixels) {\n",
       "    // Request matplotlib to resize the figure. Matplotlib will then trigger a resize in the client,\n",
       "    // which will in turn request a refresh of the image.\n",
       "    this.send_message('resize', {'width': x_pixels, 'height': y_pixels});\n",
       "}\n",
       "\n",
       "mpl.figure.prototype.send_message = function(type, properties) {\n",
       "    properties['type'] = type;\n",
       "    properties['figure_id'] = this.id;\n",
       "    this.ws.send(JSON.stringify(properties));\n",
       "}\n",
       "\n",
       "mpl.figure.prototype.send_draw_message = function() {\n",
       "    if (!this.waiting) {\n",
       "        this.waiting = true;\n",
       "        this.ws.send(JSON.stringify({type: \"draw\", figure_id: this.id}));\n",
       "    }\n",
       "}\n",
       "\n",
       "\n",
       "mpl.figure.prototype.handle_save = function(fig, msg) {\n",
       "    var format_dropdown = fig.format_dropdown;\n",
       "    var format = format_dropdown.options[format_dropdown.selectedIndex].value;\n",
       "    fig.ondownload(fig, format);\n",
       "}\n",
       "\n",
       "\n",
       "mpl.figure.prototype.handle_resize = function(fig, msg) {\n",
       "    var size = msg['size'];\n",
       "    if (size[0] != fig.canvas.width || size[1] != fig.canvas.height) {\n",
       "        fig._resize_canvas(size[0], size[1]);\n",
       "        fig.send_message(\"refresh\", {});\n",
       "    };\n",
       "}\n",
       "\n",
       "mpl.figure.prototype.handle_rubberband = function(fig, msg) {\n",
       "    var x0 = msg['x0'] / mpl.ratio;\n",
       "    var y0 = (fig.canvas.height - msg['y0']) / mpl.ratio;\n",
       "    var x1 = msg['x1'] / mpl.ratio;\n",
       "    var y1 = (fig.canvas.height - msg['y1']) / mpl.ratio;\n",
       "    x0 = Math.floor(x0) + 0.5;\n",
       "    y0 = Math.floor(y0) + 0.5;\n",
       "    x1 = Math.floor(x1) + 0.5;\n",
       "    y1 = Math.floor(y1) + 0.5;\n",
       "    var min_x = Math.min(x0, x1);\n",
       "    var min_y = Math.min(y0, y1);\n",
       "    var width = Math.abs(x1 - x0);\n",
       "    var height = Math.abs(y1 - y0);\n",
       "\n",
       "    fig.rubberband_context.clearRect(\n",
       "        0, 0, fig.canvas.width, fig.canvas.height);\n",
       "\n",
       "    fig.rubberband_context.strokeRect(min_x, min_y, width, height);\n",
       "}\n",
       "\n",
       "mpl.figure.prototype.handle_figure_label = function(fig, msg) {\n",
       "    // Updates the figure title.\n",
       "    fig.header.textContent = msg['label'];\n",
       "}\n",
       "\n",
       "mpl.figure.prototype.handle_cursor = function(fig, msg) {\n",
       "    var cursor = msg['cursor'];\n",
       "    switch(cursor)\n",
       "    {\n",
       "    case 0:\n",
       "        cursor = 'pointer';\n",
       "        break;\n",
       "    case 1:\n",
       "        cursor = 'default';\n",
       "        break;\n",
       "    case 2:\n",
       "        cursor = 'crosshair';\n",
       "        break;\n",
       "    case 3:\n",
       "        cursor = 'move';\n",
       "        break;\n",
       "    }\n",
       "    fig.rubberband_canvas.style.cursor = cursor;\n",
       "}\n",
       "\n",
       "mpl.figure.prototype.handle_message = function(fig, msg) {\n",
       "    fig.message.textContent = msg['message'];\n",
       "}\n",
       "\n",
       "mpl.figure.prototype.handle_draw = function(fig, msg) {\n",
       "    // Request the server to send over a new figure.\n",
       "    fig.send_draw_message();\n",
       "}\n",
       "\n",
       "mpl.figure.prototype.handle_image_mode = function(fig, msg) {\n",
       "    fig.image_mode = msg['mode'];\n",
       "}\n",
       "\n",
       "mpl.figure.prototype.updated_canvas_event = function() {\n",
       "    // Called whenever the canvas gets updated.\n",
       "    this.send_message(\"ack\", {});\n",
       "}\n",
       "\n",
       "// A function to construct a web socket function for onmessage handling.\n",
       "// Called in the figure constructor.\n",
       "mpl.figure.prototype._make_on_message_function = function(fig) {\n",
       "    return function socket_on_message(evt) {\n",
       "        if (evt.data instanceof Blob) {\n",
       "            /* FIXME: We get \"Resource interpreted as Image but\n",
       "             * transferred with MIME type text/plain:\" errors on\n",
       "             * Chrome.  But how to set the MIME type?  It doesn't seem\n",
       "             * to be part of the websocket stream */\n",
       "            evt.data.type = \"image/png\";\n",
       "\n",
       "            /* Free the memory for the previous frames */\n",
       "            if (fig.imageObj.src) {\n",
       "                (window.URL || window.webkitURL).revokeObjectURL(\n",
       "                    fig.imageObj.src);\n",
       "            }\n",
       "\n",
       "            fig.imageObj.src = (window.URL || window.webkitURL).createObjectURL(\n",
       "                evt.data);\n",
       "            fig.updated_canvas_event();\n",
       "            fig.waiting = false;\n",
       "            return;\n",
       "        }\n",
       "        else if (typeof evt.data === 'string' && evt.data.slice(0, 21) == \"data:image/png;base64\") {\n",
       "            fig.imageObj.src = evt.data;\n",
       "            fig.updated_canvas_event();\n",
       "            fig.waiting = false;\n",
       "            return;\n",
       "        }\n",
       "\n",
       "        var msg = JSON.parse(evt.data);\n",
       "        var msg_type = msg['type'];\n",
       "\n",
       "        // Call the  \"handle_{type}\" callback, which takes\n",
       "        // the figure and JSON message as its only arguments.\n",
       "        try {\n",
       "            var callback = fig[\"handle_\" + msg_type];\n",
       "        } catch (e) {\n",
       "            console.log(\"No handler for the '\" + msg_type + \"' message type: \", msg);\n",
       "            return;\n",
       "        }\n",
       "\n",
       "        if (callback) {\n",
       "            try {\n",
       "                // console.log(\"Handling '\" + msg_type + \"' message: \", msg);\n",
       "                callback(fig, msg);\n",
       "            } catch (e) {\n",
       "                console.log(\"Exception inside the 'handler_\" + msg_type + \"' callback:\", e, e.stack, msg);\n",
       "            }\n",
       "        }\n",
       "    };\n",
       "}\n",
       "\n",
       "// from http://stackoverflow.com/questions/1114465/getting-mouse-location-in-canvas\n",
       "mpl.findpos = function(e) {\n",
       "    //this section is from http://www.quirksmode.org/js/events_properties.html\n",
       "    var targ;\n",
       "    if (!e)\n",
       "        e = window.event;\n",
       "    if (e.target)\n",
       "        targ = e.target;\n",
       "    else if (e.srcElement)\n",
       "        targ = e.srcElement;\n",
       "    if (targ.nodeType == 3) // defeat Safari bug\n",
       "        targ = targ.parentNode;\n",
       "\n",
       "    // jQuery normalizes the pageX and pageY\n",
       "    // pageX,Y are the mouse positions relative to the document\n",
       "    // offset() returns the position of the element relative to the document\n",
       "    var x = e.pageX - $(targ).offset().left;\n",
       "    var y = e.pageY - $(targ).offset().top;\n",
       "\n",
       "    return {\"x\": x, \"y\": y};\n",
       "};\n",
       "\n",
       "/*\n",
       " * return a copy of an object with only non-object keys\n",
       " * we need this to avoid circular references\n",
       " * http://stackoverflow.com/a/24161582/3208463\n",
       " */\n",
       "function simpleKeys (original) {\n",
       "  return Object.keys(original).reduce(function (obj, key) {\n",
       "    if (typeof original[key] !== 'object')\n",
       "        obj[key] = original[key]\n",
       "    return obj;\n",
       "  }, {});\n",
       "}\n",
       "\n",
       "mpl.figure.prototype.mouse_event = function(event, name) {\n",
       "    var canvas_pos = mpl.findpos(event)\n",
       "\n",
       "    if (name === 'button_press')\n",
       "    {\n",
       "        this.canvas.focus();\n",
       "        this.canvas_div.focus();\n",
       "    }\n",
       "\n",
       "    var x = canvas_pos.x * mpl.ratio;\n",
       "    var y = canvas_pos.y * mpl.ratio;\n",
       "\n",
       "    this.send_message(name, {x: x, y: y, button: event.button,\n",
       "                             step: event.step,\n",
       "                             guiEvent: simpleKeys(event)});\n",
       "\n",
       "    /* This prevents the web browser from automatically changing to\n",
       "     * the text insertion cursor when the button is pressed.  We want\n",
       "     * to control all of the cursor setting manually through the\n",
       "     * 'cursor' event from matplotlib */\n",
       "    event.preventDefault();\n",
       "    return false;\n",
       "}\n",
       "\n",
       "mpl.figure.prototype._key_event_extra = function(event, name) {\n",
       "    // Handle any extra behaviour associated with a key event\n",
       "}\n",
       "\n",
       "mpl.figure.prototype.key_event = function(event, name) {\n",
       "\n",
       "    // Prevent repeat events\n",
       "    if (name == 'key_press')\n",
       "    {\n",
       "        if (event.which === this._key)\n",
       "            return;\n",
       "        else\n",
       "            this._key = event.which;\n",
       "    }\n",
       "    if (name == 'key_release')\n",
       "        this._key = null;\n",
       "\n",
       "    var value = '';\n",
       "    if (event.ctrlKey && event.which != 17)\n",
       "        value += \"ctrl+\";\n",
       "    if (event.altKey && event.which != 18)\n",
       "        value += \"alt+\";\n",
       "    if (event.shiftKey && event.which != 16)\n",
       "        value += \"shift+\";\n",
       "\n",
       "    value += 'k';\n",
       "    value += event.which.toString();\n",
       "\n",
       "    this._key_event_extra(event, name);\n",
       "\n",
       "    this.send_message(name, {key: value,\n",
       "                             guiEvent: simpleKeys(event)});\n",
       "    return false;\n",
       "}\n",
       "\n",
       "mpl.figure.prototype.toolbar_button_onclick = function(name) {\n",
       "    if (name == 'download') {\n",
       "        this.handle_save(this, null);\n",
       "    } else {\n",
       "        this.send_message(\"toolbar_button\", {name: name});\n",
       "    }\n",
       "};\n",
       "\n",
       "mpl.figure.prototype.toolbar_button_onmouseover = function(tooltip) {\n",
       "    this.message.textContent = tooltip;\n",
       "};\n",
       "mpl.toolbar_items = [[\"Home\", \"Reset original view\", \"fa fa-home icon-home\", \"home\"], [\"Back\", \"Back to previous view\", \"fa fa-arrow-left icon-arrow-left\", \"back\"], [\"Forward\", \"Forward to next view\", \"fa fa-arrow-right icon-arrow-right\", \"forward\"], [\"\", \"\", \"\", \"\"], [\"Pan\", \"Pan axes with left mouse, zoom with right\", \"fa fa-arrows icon-move\", \"pan\"], [\"Zoom\", \"Zoom to rectangle\", \"fa fa-square-o icon-check-empty\", \"zoom\"], [\"\", \"\", \"\", \"\"], [\"Download\", \"Download plot\", \"fa fa-floppy-o icon-save\", \"download\"]];\n",
       "\n",
       "mpl.extensions = [\"eps\", \"jpeg\", \"pdf\", \"png\", \"ps\", \"raw\", \"svg\", \"tif\"];\n",
       "\n",
       "mpl.default_extension = \"png\";var comm_websocket_adapter = function(comm) {\n",
       "    // Create a \"websocket\"-like object which calls the given IPython comm\n",
       "    // object with the appropriate methods. Currently this is a non binary\n",
       "    // socket, so there is still some room for performance tuning.\n",
       "    var ws = {};\n",
       "\n",
       "    ws.close = function() {\n",
       "        comm.close()\n",
       "    };\n",
       "    ws.send = function(m) {\n",
       "        //console.log('sending', m);\n",
       "        comm.send(m);\n",
       "    };\n",
       "    // Register the callback with on_msg.\n",
       "    comm.on_msg(function(msg) {\n",
       "        //console.log('receiving', msg['content']['data'], msg);\n",
       "        // Pass the mpl event to the overridden (by mpl) onmessage function.\n",
       "        ws.onmessage(msg['content']['data'])\n",
       "    });\n",
       "    return ws;\n",
       "}\n",
       "\n",
       "mpl.mpl_figure_comm = function(comm, msg) {\n",
       "    // This is the function which gets called when the mpl process\n",
       "    // starts-up an IPython Comm through the \"matplotlib\" channel.\n",
       "\n",
       "    var id = msg.content.data.id;\n",
       "    // Get hold of the div created by the display call when the Comm\n",
       "    // socket was opened in Python.\n",
       "    var element = $(\"#\" + id);\n",
       "    var ws_proxy = comm_websocket_adapter(comm)\n",
       "\n",
       "    function ondownload(figure, format) {\n",
       "        window.open(figure.imageObj.src);\n",
       "    }\n",
       "\n",
       "    var fig = new mpl.figure(id, ws_proxy,\n",
       "                           ondownload,\n",
       "                           element.get(0));\n",
       "\n",
       "    // Call onopen now - mpl needs it, as it is assuming we've passed it a real\n",
       "    // web socket which is closed, not our websocket->open comm proxy.\n",
       "    ws_proxy.onopen();\n",
       "\n",
       "    fig.parent_element = element.get(0);\n",
       "    fig.cell_info = mpl.find_output_cell(\"<div id='\" + id + \"'></div>\");\n",
       "    if (!fig.cell_info) {\n",
       "        console.error(\"Failed to find cell for figure\", id, fig);\n",
       "        return;\n",
       "    }\n",
       "\n",
       "    var output_index = fig.cell_info[2]\n",
       "    var cell = fig.cell_info[0];\n",
       "\n",
       "};\n",
       "\n",
       "mpl.figure.prototype.handle_close = function(fig, msg) {\n",
       "    var width = fig.canvas.width/mpl.ratio\n",
       "    fig.root.unbind('remove')\n",
       "\n",
       "    // Update the output cell to use the data from the current canvas.\n",
       "    fig.push_to_output();\n",
       "    var dataURL = fig.canvas.toDataURL();\n",
       "    // Re-enable the keyboard manager in IPython - without this line, in FF,\n",
       "    // the notebook keyboard shortcuts fail.\n",
       "    IPython.keyboard_manager.enable()\n",
       "    $(fig.parent_element).html('<img src=\"' + dataURL + '\" width=\"' + width + '\">');\n",
       "    fig.close_ws(fig, msg);\n",
       "}\n",
       "\n",
       "mpl.figure.prototype.close_ws = function(fig, msg){\n",
       "    fig.send_message('closing', msg);\n",
       "    // fig.ws.close()\n",
       "}\n",
       "\n",
       "mpl.figure.prototype.push_to_output = function(remove_interactive) {\n",
       "    // Turn the data on the canvas into data in the output cell.\n",
       "    var width = this.canvas.width/mpl.ratio\n",
       "    var dataURL = this.canvas.toDataURL();\n",
       "    this.cell_info[1]['text/html'] = '<img src=\"' + dataURL + '\" width=\"' + width + '\">';\n",
       "}\n",
       "\n",
       "mpl.figure.prototype.updated_canvas_event = function() {\n",
       "    // Tell IPython that the notebook contents must change.\n",
       "    IPython.notebook.set_dirty(true);\n",
       "    this.send_message(\"ack\", {});\n",
       "    var fig = this;\n",
       "    // Wait a second, then push the new image to the DOM so\n",
       "    // that it is saved nicely (might be nice to debounce this).\n",
       "    setTimeout(function () { fig.push_to_output() }, 1000);\n",
       "}\n",
       "\n",
       "mpl.figure.prototype._init_toolbar = function() {\n",
       "    var fig = this;\n",
       "\n",
       "    var nav_element = $('<div/>')\n",
       "    nav_element.attr('style', 'width: 100%');\n",
       "    this.root.append(nav_element);\n",
       "\n",
       "    // Define a callback function for later on.\n",
       "    function toolbar_event(event) {\n",
       "        return fig.toolbar_button_onclick(event['data']);\n",
       "    }\n",
       "    function toolbar_mouse_event(event) {\n",
       "        return fig.toolbar_button_onmouseover(event['data']);\n",
       "    }\n",
       "\n",
       "    for(var toolbar_ind in mpl.toolbar_items){\n",
       "        var name = mpl.toolbar_items[toolbar_ind][0];\n",
       "        var tooltip = mpl.toolbar_items[toolbar_ind][1];\n",
       "        var image = mpl.toolbar_items[toolbar_ind][2];\n",
       "        var method_name = mpl.toolbar_items[toolbar_ind][3];\n",
       "\n",
       "        if (!name) { continue; };\n",
       "\n",
       "        var button = $('<button class=\"btn btn-default\" href=\"#\" title=\"' + name + '\"><i class=\"fa ' + image + ' fa-lg\"></i></button>');\n",
       "        button.click(method_name, toolbar_event);\n",
       "        button.mouseover(tooltip, toolbar_mouse_event);\n",
       "        nav_element.append(button);\n",
       "    }\n",
       "\n",
       "    // Add the status bar.\n",
       "    var status_bar = $('<span class=\"mpl-message\" style=\"text-align:right; float: right;\"/>');\n",
       "    nav_element.append(status_bar);\n",
       "    this.message = status_bar[0];\n",
       "\n",
       "    // Add the close button to the window.\n",
       "    var buttongrp = $('<div class=\"btn-group inline pull-right\"></div>');\n",
       "    var button = $('<button class=\"btn btn-mini btn-primary\" href=\"#\" title=\"Stop Interaction\"><i class=\"fa fa-power-off icon-remove icon-large\"></i></button>');\n",
       "    button.click(function (evt) { fig.handle_close(fig, {}); } );\n",
       "    button.mouseover('Stop Interaction', toolbar_mouse_event);\n",
       "    buttongrp.append(button);\n",
       "    var titlebar = this.root.find($('.ui-dialog-titlebar'));\n",
       "    titlebar.prepend(buttongrp);\n",
       "}\n",
       "\n",
       "mpl.figure.prototype._root_extra_style = function(el){\n",
       "    var fig = this\n",
       "    el.on(\"remove\", function(){\n",
       "\tfig.close_ws(fig, {});\n",
       "    });\n",
       "}\n",
       "\n",
       "mpl.figure.prototype._canvas_extra_style = function(el){\n",
       "    // this is important to make the div 'focusable\n",
       "    el.attr('tabindex', 0)\n",
       "    // reach out to IPython and tell the keyboard manager to turn it's self\n",
       "    // off when our div gets focus\n",
       "\n",
       "    // location in version 3\n",
       "    if (IPython.notebook.keyboard_manager) {\n",
       "        IPython.notebook.keyboard_manager.register_events(el);\n",
       "    }\n",
       "    else {\n",
       "        // location in version 2\n",
       "        IPython.keyboard_manager.register_events(el);\n",
       "    }\n",
       "\n",
       "}\n",
       "\n",
       "mpl.figure.prototype._key_event_extra = function(event, name) {\n",
       "    var manager = IPython.notebook.keyboard_manager;\n",
       "    if (!manager)\n",
       "        manager = IPython.keyboard_manager;\n",
       "\n",
       "    // Check for shift+enter\n",
       "    if (event.shiftKey && event.which == 13) {\n",
       "        this.canvas_div.blur();\n",
       "        event.shiftKey = false;\n",
       "        // Send a \"J\" for go to next cell\n",
       "        event.which = 74;\n",
       "        event.keyCode = 74;\n",
       "        manager.command_mode();\n",
       "        manager.handle_keydown(event);\n",
       "    }\n",
       "}\n",
       "\n",
       "mpl.figure.prototype.handle_save = function(fig, msg) {\n",
       "    fig.ondownload(fig, null);\n",
       "}\n",
       "\n",
       "\n",
       "mpl.find_output_cell = function(html_output) {\n",
       "    // Return the cell and output element which can be found *uniquely* in the notebook.\n",
       "    // Note - this is a bit hacky, but it is done because the \"notebook_saving.Notebook\"\n",
       "    // IPython event is triggered only after the cells have been serialised, which for\n",
       "    // our purposes (turning an active figure into a static one), is too late.\n",
       "    var cells = IPython.notebook.get_cells();\n",
       "    var ncells = cells.length;\n",
       "    for (var i=0; i<ncells; i++) {\n",
       "        var cell = cells[i];\n",
       "        if (cell.cell_type === 'code'){\n",
       "            for (var j=0; j<cell.output_area.outputs.length; j++) {\n",
       "                var data = cell.output_area.outputs[j];\n",
       "                if (data.data) {\n",
       "                    // IPython >= 3 moved mimebundle to data attribute of output\n",
       "                    data = data.data;\n",
       "                }\n",
       "                if (data['text/html'] == html_output) {\n",
       "                    return [cell, data, j];\n",
       "                }\n",
       "            }\n",
       "        }\n",
       "    }\n",
       "}\n",
       "\n",
       "// Register the function which deals with the matplotlib target/channel.\n",
       "// The kernel may be null if the page has been refreshed.\n",
       "if (IPython.notebook.kernel != null) {\n",
       "    IPython.notebook.kernel.comm_manager.register_target('matplotlib', mpl.mpl_figure_comm);\n",
       "}\n"
      ],
      "text/plain": [
       "<IPython.core.display.Javascript object>"
      ]
     },
     "metadata": {},
     "output_type": "display_data"
    },
    {
     "data": {
      "text/html": [
       "<img src=\"data:image/png;base64,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\" width=\"640\">"
      ],
      "text/plain": [
       "<IPython.core.display.HTML object>"
      ]
     },
     "metadata": {},
     "output_type": "display_data"
    }
   ],
   "source": [
    "c = big_c\n",
    "\n",
    "min_persistence = 2\n",
    "max_lenght = 400\n",
    "min_thickness = 17\n",
    "max_n_components = 4\n",
    "max_curvature = 1.8\n",
    "\n",
    "centers = [min_persistence,max_lenght,min_thickness,max_n_components,max_curvature]\n",
    "names = ['persistence','lenght','thickness','n_components','curvature']\n",
    "\n",
    "persistence_fluctuation = np.arange(1,5,1)\n",
    "lenght_fluctuation = np.arange(80,900,10)\n",
    "thickness_fluctuation = np.arange(13,25,0.5)\n",
    "n_components_fluctuation = np.arange(1,10,1)\n",
    "curvature_fluctuation = np.arange(1.1,4,0.1)\n",
    "\n",
    "fluctuations = [persistence_fluctuation,lenght_fluctuation,thickness_fluctuation,\n",
    "                n_components_fluctuation,curvature_fluctuation]\n",
    "\n",
    "plt.figure()\n",
    "plt.xlabel('efficiency')\n",
    "plt.ylabel('purity')\n",
    "\n",
    "big_vep = []\n",
    "for i,f in enumerate(fluctuations):\n",
    "    vep = []\n",
    "    for v in f:\n",
    "        thrs = np.copy(centers)\n",
    "        thrs[i] = v\n",
    "        #print(thrs)\n",
    "        labels,e,p = Clusterizer.classify(c,thrs=thrs,verbose=False)\n",
    "        vep.append([v,e,p])\n",
    "    vep = np.array(vep)\n",
    "    big_vep.append(vep)\n",
    "    plt.plot(vep[:,1],vep[:,2],label='varying '+names[i])\n",
    "    \n",
    "plt.legend()\n",
    "plt.show()"
   ]
  },
  {
   "cell_type": "code",
   "execution_count": 10,
   "metadata": {
    "scrolled": false
   },
   "outputs": [
    {
     "data": {
      "image/png": "[encoded data removed]",
      "text/plain": [
       "<Figure size 432x288 with 1 Axes>"
      ]
     },
     "metadata": {
      "needs_background": "light"
     },
     "output_type": "display_data"
    },
    {
     "data": {
      "image/png": "[encoded data removed]",
      "text/plain": [
       "<Figure size 432x288 with 1 Axes>"
      ]
     },
     "metadata": {
      "needs_background": "light"
     },
     "output_type": "display_data"
    },
    {
     "data": {
      "image/png": "[encoded data removed]",
      "text/plain": [
       "<Figure size 432x288 with 1 Axes>"
      ]
     },
     "metadata": {
      "needs_background": "light"
     },
     "output_type": "display_data"
    },
    {
     "data": {
      "image/png": "[encoded data removed]",
      "text/plain": [
       "<Figure size 432x288 with 1 Axes>"
      ]
     },
     "metadata": {
      "needs_background": "light"
     },
     "output_type": "display_data"
    },
    {
     "data": {
      "image/png": "[encoded data removed]",
      "text/plain": [
       "<Figure size 432x288 with 1 Axes>"
      ]
     },
     "metadata": {
      "needs_background": "light"
     },
     "output_type": "display_data"
    }
   ],
   "source": [
    "%matplotlib inline\n",
    "for index in range(5):\n",
    "\n",
    "    plt.figure()\n",
    "    plt.xlabel(names[index])\n",
    "    plt.plot(big_vep[index][:,0],big_vep[index][:,1],label='efficiency')\n",
    "    plt.plot(big_vep[index][:,0],big_vep[index][:,2],label='purity')\n",
    "    plt.legend()\n",
    "    plt.show()"
   ]
  },
  {
   "cell_type": "code",
   "execution_count": 9,
   "metadata": {},
   "outputs": [
    {
     "data": {
      "text/plain": [
       "79"
      ]
     },
     "execution_count": 9,
     "metadata": {},
     "output_type": "execute_result"
    }
   ],
   "source": [
    "np.sum(big_c.labels % 2)"
   ]
  },
  {
   "cell_type": "code",
   "execution_count": 8,
   "metadata": {},
   "outputs": [
    {
     "data": {
      "application/vnd.jupyter.widget-view+json": {
       "model_id": "1e80082af9b343539a9bf32ee4af49a5"
      }
     },
     "metadata": {},
     "output_type": "display_data"
    }
   ],
   "source": [
    "%matplotlib notebook\n",
    "big_c.plot()"
   ]
  },
  {
   "cell_type": "code",
   "execution_count": 102,
   "metadata": {},
   "outputs": [],
   "source": [
    "# joining Clusterizers\n",
    "path = './Clusterizers/280519/'\n",
    "c3b = Clusterizer.load_Clusterizer(path,'video3b_e5') #\n",
    "c6 = Clusterizer.load_Clusterizer(path,'video6_e5') #\n",
    "c7 = Clusterizer.load_Clusterizer(path,'video7_e5') #\n",
    "c8 = Clusterizer.load_Clusterizer(path,'video8_e5') #\n",
    "#c9 = Clusterizer.load_Clusterizer(path,'video9_r6') # low E field\n",
    "c1 = Clusterizer.load_Clusterizer('./Clusterizers/060619/','video1_e5') #\n",
    "c2 = Clusterizer.load_Clusterizer('./Clusterizers/060619/','video2_e5') #\n",
    "c3 = Clusterizer.load_Clusterizer('./Clusterizers/060619/','video3_e5') #\n",
    "l0 = Clusterizer.load_Clusterizer('./Clusterizers/170619/','video1_e5') \n",
    "l1 = Clusterizer.load_Clusterizer('./Clusterizers/270619/','video1_e5') #\n",
    "l2 = Clusterizer.load_Clusterizer('./Clusterizers/270619/','video2_e5') #\n",
    "l3 = Clusterizer.load_Clusterizer('./Clusterizers/270619/','video3_e5') #\n",
    "l4 = Clusterizer.load_Clusterizer('./Clusterizers/270619/','video4_e5') #\n",
    "c_list = [c3b,c6,c7,c8,c1,c2,c3,l0,l1,l2,l3,l4]\n",
    "big_c = Clusterizer.join_Clusterizers(c_list=c_list,name='all')\n",
    "big_c.save(path='./Clusterizers/',name='all')"
   ]
  },
  {
   "cell_type": "code",
   "execution_count": 56,
   "metadata": {},
   "outputs": [
    {
     "name": "stderr",
     "output_type": "stream",
     "text": [
      "Widget Javascript not detected.  It may not be installed or enabled properly.\n"
     ]
    },
    {
     "data": {
      "application/vnd.jupyter.widget-view+json": {
       "model_id": "9dfa5ebe8b2f4a368f8559bb7633b0e2"
      }
     },
     "metadata": {},
     "output_type": "display_data"
    },
    {
     "name": "stderr",
     "output_type": "stream",
     "text": [
      "Widget Javascript not detected.  It may not be installed or enabled properly.\n"
     ]
    },
    {
     "data": {
      "application/vnd.jupyter.widget-view+json": {
       "model_id": "889d0c894ab641c2a371cbcbda4e4529"
      }
     },
     "metadata": {},
     "output_type": "display_data"
    },
    {
     "name": "stderr",
     "output_type": "stream",
     "text": [
      "Widget Javascript not detected.  It may not be installed or enabled properly.\n"
     ]
    },
    {
     "data": {
      "application/vnd.jupyter.widget-view+json": {
       "model_id": "f02f96733e7344afa294f7e5832b185f"
      }
     },
     "metadata": {},
     "output_type": "display_data"
    },
    {
     "name": "stderr",
     "output_type": "stream",
     "text": [
      "Widget Javascript not detected.  It may not be installed or enabled properly.\n"
     ]
    },
    {
     "data": {
      "application/vnd.jupyter.widget-view+json": {
       "model_id": "7349c68782c04b5a9e7f4a3a07c392ee"
      }
     },
     "metadata": {},
     "output_type": "display_data"
    },
    {
     "name": "stderr",
     "output_type": "stream",
     "text": [
      "Widget Javascript not detected.  It may not be installed or enabled properly.\n"
     ]
    },
    {
     "data": {
      "application/vnd.jupyter.widget-view+json": {
       "model_id": "0d2ab74d2eb2417db9451f8f9005b5a5"
      }
     },
     "metadata": {},
     "output_type": "display_data"
    },
    {
     "name": "stderr",
     "output_type": "stream",
     "text": [
      "Widget Javascript not detected.  It may not be installed or enabled properly.\n"
     ]
    },
    {
     "data": {
      "application/vnd.jupyter.widget-view+json": {
       "model_id": "aac238a91e1c4f6396d14f40ad3c4480"
      }
     },
     "metadata": {},
     "output_type": "display_data"
    },
    {
     "name": "stderr",
     "output_type": "stream",
     "text": [
      "Widget Javascript not detected.  It may not be installed or enabled properly.\n"
     ]
    },
    {
     "data": {
      "application/vnd.jupyter.widget-view+json": {
       "model_id": "f89a7a5eb0e745288d561588442eced0"
      }
     },
     "metadata": {},
     "output_type": "display_data"
    },
    {
     "name": "stderr",
     "output_type": "stream",
     "text": [
      "Widget Javascript not detected.  It may not be installed or enabled properly.\n"
     ]
    },
    {
     "data": {
      "application/vnd.jupyter.widget-view+json": {
       "model_id": "bfd1dd4e3b4b4a90a7f62c2c714084b4"
      }
     },
     "metadata": {},
     "output_type": "display_data"
    },
    {
     "name": "stderr",
     "output_type": "stream",
     "text": [
      "Widget Javascript not detected.  It may not be installed or enabled properly.\n"
     ]
    },
    {
     "data": {
      "application/vnd.jupyter.widget-view+json": {
       "model_id": "d83dd2af742a4c6ba3a49696b7d278d1"
      }
     },
     "metadata": {},
     "output_type": "display_data"
    },
    {
     "name": "stderr",
     "output_type": "stream",
     "text": [
      "Widget Javascript not detected.  It may not be installed or enabled properly.\n"
     ]
    },
    {
     "data": {
      "application/vnd.jupyter.widget-view+json": {
       "model_id": "8b896cb540044407862a1b865176230e"
      }
     },
     "metadata": {},
     "output_type": "display_data"
    },
    {
     "name": "stderr",
     "output_type": "stream",
     "text": [
      "Widget Javascript not detected.  It may not be installed or enabled properly.\n"
     ]
    },
    {
     "data": {
      "application/vnd.jupyter.widget-view+json": {
       "model_id": "8821eab2d12141b3ab06bb726274d975"
      }
     },
     "metadata": {},
     "output_type": "display_data"
    },
    {
     "name": "stderr",
     "output_type": "stream",
     "text": [
      "Widget Javascript not detected.  It may not be installed or enabled properly.\n"
     ]
    },
    {
     "data": {
      "application/vnd.jupyter.widget-view+json": {
       "model_id": "c00a63fac0df4e48ae87ef1165e5eb4d"
      }
     },
     "metadata": {},
     "output_type": "display_data"
    }
   ],
   "source": [
    "%matplotlib notebook\n",
    "for c in c_list:\n",
    "    c.plot()"
   ]
  },
  {
   "cell_type": "markdown",
   "metadata": {},
   "source": [
    "### Trying things"
   ]
  },
  {
   "cell_type": "code",
   "execution_count": null,
   "metadata": {},
   "outputs": [],
   "source": [
    "alpha_count = 0\n",
    "for i in big_c.labels:\n",
    "    if i == 1:\n",
    "        alpha_count += 1\n",
    "print(alpha_count)"
   ]
  },
  {
   "cell_type": "code",
   "execution_count": null,
   "metadata": {},
   "outputs": [],
   "source": [
    "# tryes with plt\n",
    "\n",
    "\n",
    "\n",
    "%matplotlib notebook\n",
    "\n",
    "def plot(i):\n",
    "    x = np.arange(0,10)\n",
    "    y = x**i\n",
    "    la = np.ones(10)\n",
    "    \n",
    "\n",
    "    fig, ax = plt.subplots()\n",
    "    ax = plt.scatter(x,y,c=la)\n",
    "\n",
    "\n",
    "\n",
    "    def onclick(event):\n",
    "        global ex,ey,ix,iy\n",
    "        ix = event.xdata\n",
    "        iy = event.ydata\n",
    "        #ax = plt.scatter(ix,iy)\n",
    "        \n",
    "    def onpress(event):\n",
    "        if event.key == 'a':\n",
    "            ax = plt.scatter(ix,iy)\n",
    "        elif event.key == 'w':\n",
    "            os.system('killall eog')\n",
    "        elif event.key == 't':\n",
    "            os.system('eog test.jpg &')\n",
    "        elif event.key == 'd':\n",
    "            ax = plt.suptitle('you pressed d')\n",
    "        elif event.key == 'f':\n",
    "            ax = plt.suptitle('you pressed f')\n",
    "            \n",
    "    cid = fig.canvas.mpl_connect('button_press_event', onclick)\n",
    "    cid2 = fig.canvas.mpl_connect('key_press_event', onpress)\n",
    "\n",
    "ipywidgets.interact(plot, i=[1,2,3,4])"
   ]
  },
  {
   "cell_type": "code",
   "execution_count": null,
   "metadata": {},
   "outputs": [],
   "source": [
    "print(ex,ey,ix,iy)"
   ]
  },
  {
   "cell_type": "code",
   "execution_count": null,
   "metadata": {},
   "outputs": [],
   "source": [
    "ID = os.system('eog test.jpg')\n",
    "print(ID)"
   ]
  },
  {
   "cell_type": "code",
   "execution_count": null,
   "metadata": {},
   "outputs": [],
   "source": [
    "def plot(i):\n",
    "    x = np.arange(0,10)\n",
    "    y = x**i\n",
    "\n",
    "    fig, ax = plt.subplots()\n",
    "    ax = plt.scatter(x,y)\n",
    "    ax = plt.suptitle('ciao')\n",
    "plot(2)"
   ]
  },
  {
   "cell_type": "code",
   "execution_count": null,
   "metadata": {},
   "outputs": [],
   "source": [
    "a = 'x %d, y %.2f, ' % (13.6,3.14159265)\n",
    "print(a)"
   ]
  },
  {
   "cell_type": "code",
   "execution_count": null,
   "metadata": {},
   "outputs": [],
   "source": [
    "X = d.values[:,3]\n",
    "plt.figure()\n",
    "plt.hist(X,bins=30,histtype='step')\n",
    "plt.show()"
   ]
  },
  {
   "cell_type": "code",
   "execution_count": null,
   "metadata": {},
   "outputs": [],
   "source": [
    "color_list = ['black','yellow','green']\n",
    "\n",
    "\n",
    "def color(n):\n",
    "    if type(n) == int:\n",
    "        return color_list[n%len(color_list)]\n",
    "    elif type(n) == np.ndarray:\n",
    "        r = []\n",
    "        for nn in n:\n",
    "            r.append(color_list[nn%len(color_list)])\n",
    "        return np.array(r)\n",
    "    else:\n",
    "        raise TypeError\n",
    "\n"
   ]
  },
  {
   "cell_type": "code",
   "execution_count": null,
   "metadata": {},
   "outputs": [],
   "source": [
    "a = 0\n",
    "color(a)"
   ]
  },
  {
   "cell_type": "code",
   "execution_count": 19,
   "metadata": {},
   "outputs": [
    {
     "data": {
      "text/plain": [
       "(0, 8, 20)"
      ]
     },
     "execution_count": 19,
     "metadata": {},
     "output_type": "execute_result"
    }
   ],
   "source": [
    "secs = 60+300*6 +120+1800\n",
    "secs_source = 500\n",
    "\n",
    "def hms(seconds):\n",
    "    hours = int(seconds/3600)\n",
    "    mins = int(seconds/60 - hours*60)\n",
    "    secs = seconds - mins*60 - hours*3600\n",
    "    return hours,mins,secs\n",
    "\n",
    "hms(secs_source)"
   ]
  },
  {
   "cell_type": "code",
   "execution_count": null,
   "metadata": {},
   "outputs": [],
   "source": []
  }
 ],
 "metadata": {
  "kernelspec": {
   "display_name": "Python 3",
   "language": "python",
   "name": "python3"
  },
  "language_info": {
   "codemirror_mode": {
    "name": "ipython",
    "version": 3
   },
   "file_extension": ".py",
   "mimetype": "text/x-python",
   "name": "python",
   "nbconvert_exporter": "python",
   "pygments_lexer": "ipython3",
   "version": "3.7.3"
  }
 },
 "nbformat": 4,
 "nbformat_minor": 2
}
