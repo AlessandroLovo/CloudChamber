{
 "cells": [
  {
   "cell_type": "code",
   "execution_count": 1,
   "metadata": {},
   "outputs": [],
   "source": [
    "from Trace import Trace\n",
    "import Particle\n",
    "import Clusterizer\n",
    "\n",
    "import numpy as np\n",
    "import matplotlib.pyplot as plt\n",
    "import ipywidgets\n",
    "import os"
   ]
  },
  {
   "cell_type": "markdown",
   "metadata": {},
   "source": [
    "# Single Clusterizer"
   ]
  },
  {
   "cell_type": "code",
   "execution_count": 2,
   "metadata": {},
   "outputs": [
    {
     "name": "stderr",
     "output_type": "stream",
     "text": [
      "\r",
      "  0%|          | 0/20 [00:00<?, ?it/s]"
     ]
    },
    {
     "name": "stdout",
     "output_type": "stream",
     "text": [
      "found video2_009/trigger_thr0.005_cl9_op3/cc_filtered_2den0.81_gausrad2.0/\n"
     ]
    },
    {
     "name": "stderr",
     "output_type": "stream",
     "text": [
      "\r",
      "  5%|▌         | 1/20 [00:00<00:13,  1.40it/s]"
     ]
    },
    {
     "name": "stdout",
     "output_type": "stream",
     "text": [
      "\n",
      "mean_270619-video2_009-002_opened_cc03.png is INTERESTING\n"
     ]
    },
    {
     "name": "stderr",
     "output_type": "stream",
     "text": [
      "\r",
      " 10%|█         | 2/20 [00:01<00:13,  1.38it/s]"
     ]
    },
    {
     "name": "stdout",
     "output_type": "stream",
     "text": [
      "\n",
      "mean_270619-video2_009-002_opened_cc07.png is INTERESTING\n"
     ]
    },
    {
     "name": "stderr",
     "output_type": "stream",
     "text": [
      "\r",
      " 15%|█▌        | 3/20 [00:02<00:12,  1.40it/s]"
     ]
    },
    {
     "name": "stdout",
     "output_type": "stream",
     "text": [
      "\n",
      "mean_270619-video2_009-002_opened_cc28.png is INTERESTING\n"
     ]
    },
    {
     "name": "stderr",
     "output_type": "stream",
     "text": [
      "\r",
      " 20%|██        | 4/20 [00:02<00:11,  1.42it/s]"
     ]
    },
    {
     "name": "stdout",
     "output_type": "stream",
     "text": [
      "\n",
      "mean_270619-video2_009-002_opened_cc55.png: too spherical 4.5377070678421525\n"
     ]
    },
    {
     "name": "stderr",
     "output_type": "stream",
     "text": [
      "\r",
      " 25%|██▌       | 5/20 [00:03<00:10,  1.43it/s]"
     ]
    },
    {
     "name": "stdout",
     "output_type": "stream",
     "text": [
      "\n",
      "mean_270619-video2_009-005_opened_cc02.png: too spherical 5.251967711830305\n"
     ]
    },
    {
     "name": "stderr",
     "output_type": "stream",
     "text": [
      "\r",
      " 30%|███       | 6/20 [00:04<00:09,  1.40it/s]"
     ]
    },
    {
     "name": "stdout",
     "output_type": "stream",
     "text": [
      "\n",
      "mean_270619-video2_009-005_opened_cc08.png: too spherical 2.1945724940238547\n"
     ]
    },
    {
     "name": "stderr",
     "output_type": "stream",
     "text": [
      "\r",
      " 35%|███▌      | 7/20 [00:05<00:09,  1.32it/s]"
     ]
    },
    {
     "name": "stdout",
     "output_type": "stream",
     "text": [
      "\n",
      "mean_270619-video2_009-005_opened_cc19.png is INTERESTING\n"
     ]
    },
    {
     "name": "stderr",
     "output_type": "stream",
     "text": [
      "\r",
      " 40%|████      | 8/20 [00:05<00:08,  1.36it/s]"
     ]
    },
    {
     "name": "stdout",
     "output_type": "stream",
     "text": [
      "\n",
      "mean_270619-video2_009-005_opened_cc36.png: too spherical 1.1656196964389178\n"
     ]
    },
    {
     "name": "stderr",
     "output_type": "stream",
     "text": [
      "\r",
      " 45%|████▌     | 9/20 [00:06<00:07,  1.41it/s]"
     ]
    },
    {
     "name": "stdout",
     "output_type": "stream",
     "text": [
      "\n",
      "mean_270619-video2_009-005_opened_cc63.png: too spherical 1.9693104268680885\n"
     ]
    },
    {
     "name": "stderr",
     "output_type": "stream",
     "text": [
      "\r",
      " 50%|█████     | 10/20 [00:07<00:06,  1.47it/s]"
     ]
    },
    {
     "name": "stdout",
     "output_type": "stream",
     "text": [
      "\n",
      "mean_270619-video2_009-005_opened_cc77.png: too spherical 5.559647514440199\n"
     ]
    },
    {
     "name": "stderr",
     "output_type": "stream",
     "text": [
      "\r",
      " 55%|█████▌    | 11/20 [00:07<00:06,  1.48it/s]"
     ]
    },
    {
     "name": "stdout",
     "output_type": "stream",
     "text": [
      "\n",
      "mean_270619-video2_009-005_opened_cc86.png: too spherical 6.393178630647735\n"
     ]
    },
    {
     "name": "stderr",
     "output_type": "stream",
     "text": [
      "\r",
      " 60%|██████    | 12/20 [00:08<00:05,  1.51it/s]"
     ]
    },
    {
     "name": "stdout",
     "output_type": "stream",
     "text": [
      "\n",
      "mean_270619-video2_009-015_opened_cc02.png: too spherical 1.7302418361296725\n"
     ]
    },
    {
     "name": "stderr",
     "output_type": "stream",
     "text": [
      "\r",
      " 65%|██████▌   | 13/20 [00:09<00:04,  1.51it/s]"
     ]
    },
    {
     "name": "stdout",
     "output_type": "stream",
     "text": [
      "\n",
      "mean_270619-video2_009-015_opened_cc26.png: too spherical 4.580397040004467\n"
     ]
    },
    {
     "name": "stderr",
     "output_type": "stream",
     "text": [
      "\r",
      " 70%|███████   | 14/20 [00:09<00:03,  1.56it/s]"
     ]
    },
    {
     "name": "stdout",
     "output_type": "stream",
     "text": [
      "\n",
      "mean_270619-video2_009-015_opened_cc35.png: too spherical 3.135297146109233\n"
     ]
    },
    {
     "name": "stderr",
     "output_type": "stream",
     "text": [
      "\r",
      " 75%|███████▌  | 15/20 [00:10<00:03,  1.54it/s]"
     ]
    },
    {
     "name": "stdout",
     "output_type": "stream",
     "text": [
      "\n",
      "mean_270619-video2_009-015_opened_cc44.png: too spherical 5.088367178878803\n"
     ]
    },
    {
     "name": "stderr",
     "output_type": "stream",
     "text": [
      "\r",
      " 80%|████████  | 16/20 [00:10<00:02,  1.55it/s]"
     ]
    },
    {
     "name": "stdout",
     "output_type": "stream",
     "text": [
      "\n",
      "mean_270619-video2_009-015_opened_cc70.png: too spherical 1.1265242942878062\n"
     ]
    },
    {
     "name": "stderr",
     "output_type": "stream",
     "text": [
      "\r",
      " 85%|████████▌ | 17/20 [00:11<00:01,  1.51it/s]"
     ]
    },
    {
     "name": "stdout",
     "output_type": "stream",
     "text": [
      "\n",
      "mean_270619-video2_009-031_opened_cc02.png is INTERESTING\n"
     ]
    },
    {
     "name": "stderr",
     "output_type": "stream",
     "text": [
      "\r",
      " 90%|█████████ | 18/20 [00:12<00:01,  1.53it/s]"
     ]
    },
    {
     "name": "stdout",
     "output_type": "stream",
     "text": [
      "\n",
      "mean_270619-video2_009-031_opened_cc09.png: too spherical 2.403257226577185\n"
     ]
    },
    {
     "name": "stderr",
     "output_type": "stream",
     "text": [
      "\r",
      " 95%|█████████▌| 19/20 [00:12<00:00,  1.56it/s]"
     ]
    },
    {
     "name": "stdout",
     "output_type": "stream",
     "text": [
      "\n",
      "mean_270619-video2_009-031_opened_cc32.png: too spherical 3.532155293183181\n"
     ]
    },
    {
     "name": "stderr",
     "output_type": "stream",
     "text": [
      "100%|██████████| 20/20 [00:13<00:00,  1.57it/s]\n",
      "  0%|          | 0/51 [00:00<?, ?it/s]"
     ]
    },
    {
     "name": "stdout",
     "output_type": "stream",
     "text": [
      "\n",
      "mean_270619-video2_009-031_opened_cc39.png is INTERESTING\n",
      "found video3_019/trigger_thr0.005_cl9_op3/cc_filtered_2den0.81_gausrad2.0/\n",
      "found video4_009/trigger_thr0.005_cl9_op3/cc_filtered_2den0.81_gausrad2.0/\n",
      "found video1_000/trigger_thr0.005_cl9_op3/cc_filtered_2den0.81_gausrad2.0/\n",
      "found video1_001/trigger_thr0.005_cl9_op3/cc_filtered_2den0.81_gausrad2.0/\n",
      "found video1_002/trigger_thr0.005_cl9_op3/cc_filtered_2den0.81_gausrad2.0/\n",
      "found video1_003/trigger_thr0.005_cl9_op3/cc_filtered_2den0.81_gausrad2.0/\n",
      "found video1_004/trigger_thr0.005_cl9_op3/cc_filtered_2den0.81_gausrad2.0/\n",
      "found video1_005/trigger_thr0.005_cl9_op3/cc_filtered_2den0.81_gausrad2.0/\n",
      "found video1_006/trigger_thr0.005_cl9_op3/cc_filtered_2den0.81_gausrad2.0/\n",
      "found video1_007/trigger_thr0.005_cl9_op3/cc_filtered_2den0.81_gausrad2.0/\n",
      "found video1_008/trigger_thr0.005_cl9_op3/cc_filtered_2den0.81_gausrad2.0/\n",
      "found video1_009/trigger_thr0.005_cl9_op3/cc_filtered_2den0.81_gausrad2.0/\n",
      "found video2_000/trigger_thr0.005_cl9_op3/cc_filtered_2den0.81_gausrad2.0/\n"
     ]
    },
    {
     "name": "stderr",
     "output_type": "stream",
     "text": [
      "\r",
      "  2%|▏         | 1/51 [00:00<00:32,  1.52it/s]"
     ]
    },
    {
     "name": "stdout",
     "output_type": "stream",
     "text": [
      "\n",
      "mean_270619-video2_000-004_opened_cc13.png is INTERESTING\n"
     ]
    },
    {
     "name": "stderr",
     "output_type": "stream",
     "text": [
      "\r",
      "  4%|▍         | 2/51 [00:01<00:31,  1.55it/s]"
     ]
    },
    {
     "name": "stdout",
     "output_type": "stream",
     "text": [
      "\n",
      "mean_270619-video2_000-004_opened_cc16.png: too spherical 2.780706644421938\n"
     ]
    },
    {
     "name": "stderr",
     "output_type": "stream",
     "text": [
      "\r",
      "  6%|▌         | 3/51 [00:01<00:30,  1.57it/s]"
     ]
    },
    {
     "name": "stdout",
     "output_type": "stream",
     "text": [
      "\n",
      "mean_270619-video2_000-004_opened_cc17.png: too spherical 3.561508778743651\n"
     ]
    },
    {
     "name": "stderr",
     "output_type": "stream",
     "text": [
      "\r",
      "  8%|▊         | 4/51 [00:02<00:29,  1.57it/s]"
     ]
    },
    {
     "name": "stdout",
     "output_type": "stream",
     "text": [
      "\n",
      "mean_270619-video2_000-004_opened_cc23.png: too spherical 5.049293177269465\n"
     ]
    },
    {
     "name": "stderr",
     "output_type": "stream",
     "text": [
      "\r",
      " 10%|▉         | 5/51 [00:03<00:29,  1.56it/s]"
     ]
    },
    {
     "name": "stdout",
     "output_type": "stream",
     "text": [
      "\n",
      "mean_270619-video2_000-004_opened_cc26.png: too spherical 9.181466037850498\n"
     ]
    },
    {
     "name": "stderr",
     "output_type": "stream",
     "text": [
      "\r",
      " 12%|█▏        | 6/51 [00:03<00:28,  1.57it/s]"
     ]
    },
    {
     "name": "stdout",
     "output_type": "stream",
     "text": [
      "\n",
      "mean_270619-video2_000-014_opened_cc15.png: too spherical 6.274416046929966\n"
     ]
    },
    {
     "name": "stderr",
     "output_type": "stream",
     "text": [
      "\r",
      " 14%|█▎        | 7/51 [00:04<00:27,  1.58it/s]"
     ]
    },
    {
     "name": "stdout",
     "output_type": "stream",
     "text": [
      "\n",
      "mean_270619-video2_000-014_opened_cc32.png is INTERESTING\n"
     ]
    },
    {
     "name": "stderr",
     "output_type": "stream",
     "text": [
      "\r",
      " 16%|█▌        | 8/51 [00:05<00:27,  1.58it/s]"
     ]
    },
    {
     "name": "stdout",
     "output_type": "stream",
     "text": [
      "\n",
      "mean_270619-video2_000-014_opened_cc33.png: too spherical 2.4723754005862175\n"
     ]
    },
    {
     "name": "stderr",
     "output_type": "stream",
     "text": [
      "\r",
      " 18%|█▊        | 9/51 [00:05<00:26,  1.60it/s]"
     ]
    },
    {
     "name": "stdout",
     "output_type": "stream",
     "text": [
      "\n",
      "mean_270619-video2_000-014_opened_cc37.png: too spherical 7.861141013127848\n"
     ]
    },
    {
     "name": "stderr",
     "output_type": "stream",
     "text": [
      "\r",
      " 20%|█▉        | 10/51 [00:06<00:25,  1.59it/s]"
     ]
    },
    {
     "name": "stdout",
     "output_type": "stream",
     "text": [
      "\n",
      "mean_270619-video2_000-014_opened_cc60.png is INTERESTING\n",
      "\n",
      "mean_270619-video2_000-015_opened_cc09.png is INTERESTING\n",
      "\n",
      "video2_000-014-video2_000-015: overlap = 0.0\n"
     ]
    },
    {
     "name": "stderr",
     "output_type": "stream",
     "text": [
      "\r",
      " 22%|██▏       | 11/51 [00:08<00:38,  1.04it/s]"
     ]
    },
    {
     "name": "stdout",
     "output_type": "stream",
     "text": [
      "\n",
      "video2_000-014-video2_000-015: overlap = 0.0\n"
     ]
    },
    {
     "name": "stderr",
     "output_type": "stream",
     "text": [
      "\r",
      " 24%|██▎       | 12/51 [00:08<00:33,  1.15it/s]"
     ]
    },
    {
     "name": "stdout",
     "output_type": "stream",
     "text": [
      "\n",
      "mean_270619-video2_000-015_opened_cc16.png: too spherical 3.0864380731132086\n",
      "\n",
      "mean_270619-video2_000-015_opened_cc28.png is INTERESTING\n"
     ]
    },
    {
     "name": "stderr",
     "output_type": "stream",
     "text": [
      "\r",
      " 25%|██▌       | 13/51 [00:09<00:36,  1.04it/s]"
     ]
    },
    {
     "name": "stdout",
     "output_type": "stream",
     "text": [
      "\n",
      "video2_000-014-video2_000-015: overlap = 0.7485408560311284\n"
     ]
    },
    {
     "name": "stderr",
     "output_type": "stream",
     "text": [
      "\r",
      " 27%|██▋       | 14/51 [00:10<00:32,  1.14it/s]"
     ]
    },
    {
     "name": "stdout",
     "output_type": "stream",
     "text": [
      "\n",
      "mean_270619-video2_000-015_opened_cc31.png: too spherical 9.910032351990873\n",
      "\n",
      "mean_270619-video2_000-015_opened_cc49.png is INTERESTING\n"
     ]
    },
    {
     "name": "stderr",
     "output_type": "stream",
     "text": [
      "\r",
      " 29%|██▉       | 15/51 [00:11<00:35,  1.02it/s]"
     ]
    },
    {
     "name": "stdout",
     "output_type": "stream",
     "text": [
      "\n",
      "video2_000-014-video2_000-015: overlap = 0.0\n"
     ]
    },
    {
     "name": "stderr",
     "output_type": "stream",
     "text": [
      "\r",
      " 31%|███▏      | 16/51 [00:12<00:31,  1.12it/s]"
     ]
    },
    {
     "name": "stdout",
     "output_type": "stream",
     "text": [
      "\n",
      "mean_270619-video2_000-015_opened_cc55.png: too spherical 4.602057561750913\n"
     ]
    },
    {
     "name": "stderr",
     "output_type": "stream",
     "text": [
      "\r",
      " 33%|███▎      | 17/51 [00:13<00:28,  1.19it/s]"
     ]
    },
    {
     "name": "stdout",
     "output_type": "stream",
     "text": [
      "\n",
      "mean_270619-video2_000-024_opened_cc04.png: too spherical 5.522721871840964\n"
     ]
    },
    {
     "name": "stderr",
     "output_type": "stream",
     "text": [
      "\r",
      " 35%|███▌      | 18/51 [00:13<00:25,  1.27it/s]"
     ]
    },
    {
     "name": "stdout",
     "output_type": "stream",
     "text": [
      "\n",
      "mean_270619-video2_000-024_opened_cc08.png is INTERESTING\n"
     ]
    },
    {
     "name": "stderr",
     "output_type": "stream",
     "text": [
      "\r",
      " 37%|███▋      | 19/51 [00:14<00:24,  1.33it/s]"
     ]
    },
    {
     "name": "stdout",
     "output_type": "stream",
     "text": [
      "\n",
      "mean_270619-video2_000-024_opened_cc33.png: too spherical 8.491853909557314\n"
     ]
    },
    {
     "name": "stderr",
     "output_type": "stream",
     "text": [
      "\r",
      " 39%|███▉      | 20/51 [00:15<00:22,  1.39it/s]"
     ]
    },
    {
     "name": "stdout",
     "output_type": "stream",
     "text": [
      "\n",
      "mean_270619-video2_000-024_opened_cc36.png is INTERESTING\n"
     ]
    },
    {
     "name": "stderr",
     "output_type": "stream",
     "text": [
      "\r",
      " 41%|████      | 21/51 [00:15<00:20,  1.43it/s]"
     ]
    },
    {
     "name": "stdout",
     "output_type": "stream",
     "text": [
      "\n",
      "mean_270619-video2_000-036_opened_cc08.png: too spherical 6.651317288977264\n"
     ]
    },
    {
     "name": "stderr",
     "output_type": "stream",
     "text": [
      "\r",
      " 43%|████▎     | 22/51 [00:16<00:19,  1.49it/s]"
     ]
    },
    {
     "name": "stdout",
     "output_type": "stream",
     "text": [
      "\n",
      "mean_270619-video2_000-036_opened_cc14.png is INTERESTING\n"
     ]
    },
    {
     "name": "stderr",
     "output_type": "stream",
     "text": [
      "\r",
      " 45%|████▌     | 23/51 [00:17<00:18,  1.50it/s]"
     ]
    },
    {
     "name": "stdout",
     "output_type": "stream",
     "text": [
      "\n",
      "mean_270619-video2_000-036_opened_cc43.png: too spherical 6.9265355721098505\n"
     ]
    },
    {
     "name": "stderr",
     "output_type": "stream",
     "text": [
      "\r",
      " 47%|████▋     | 24/51 [00:17<00:17,  1.51it/s]"
     ]
    },
    {
     "name": "stdout",
     "output_type": "stream",
     "text": [
      "\n",
      "mean_270619-video2_000-036_opened_cc62.png: too spherical 4.723581045139431\n",
      "\n",
      "mean_270619-video2_000-037_opened_cc15.png is INTERESTING\n"
     ]
    },
    {
     "name": "stderr",
     "output_type": "stream",
     "text": [
      "\r",
      " 49%|████▉     | 25/51 [00:18<00:21,  1.22it/s]"
     ]
    },
    {
     "name": "stdout",
     "output_type": "stream",
     "text": [
      "\n",
      "video2_000-036-video2_000-037: overlap = 0.0\n"
     ]
    },
    {
     "name": "stderr",
     "output_type": "stream",
     "text": [
      "\r",
      " 51%|█████     | 26/51 [00:19<00:19,  1.29it/s]"
     ]
    },
    {
     "name": "stdout",
     "output_type": "stream",
     "text": [
      "\n",
      "mean_270619-video2_000-037_opened_cc36.png: too spherical 6.002256561807814\n",
      "\n",
      "mean_270619-video2_000-037_opened_cc64.png is INTERESTING\n"
     ]
    },
    {
     "name": "stderr",
     "output_type": "stream",
     "text": [
      "\r",
      " 53%|█████▎    | 27/51 [00:20<00:21,  1.11it/s]"
     ]
    },
    {
     "name": "stdout",
     "output_type": "stream",
     "text": [
      "\n",
      "video2_000-036-video2_000-037: overlap = 0.0\n"
     ]
    },
    {
     "name": "stderr",
     "output_type": "stream",
     "text": [
      "\r",
      " 55%|█████▍    | 28/51 [00:21<00:19,  1.16it/s]"
     ]
    },
    {
     "name": "stdout",
     "output_type": "stream",
     "text": [
      "\n",
      "mean_270619-video2_000-038_opened_cc05.png: too spherical 5.253670102167572\n",
      "\n",
      "mean_270619-video2_000-038_opened_cc11.png is INTERESTING\n",
      "\n",
      "video2_000-037-video2_000-038: overlap = 0.0\n"
     ]
    },
    {
     "name": "stderr",
     "output_type": "stream",
     "text": [
      "\r",
      " 57%|█████▋    | 29/51 [00:23<00:25,  1.18s/it]"
     ]
    },
    {
     "name": "stdout",
     "output_type": "stream",
     "text": [
      "\n",
      "video2_000-037-video2_000-038: overlap = 0.0\n",
      "\n",
      "mean_270619-video2_000-038_opened_cc21.png is INTERESTING\n"
     ]
    },
    {
     "name": "stderr",
     "output_type": "stream",
     "text": [
      "\r",
      " 59%|█████▉    | 30/51 [00:24<00:25,  1.20s/it]"
     ]
    },
    {
     "name": "stdout",
     "output_type": "stream",
     "text": [
      "\n",
      "video2_000-037-video2_000-038: overlap = 0.6925260170293284\n"
     ]
    },
    {
     "name": "stderr",
     "output_type": "stream",
     "text": [
      "\r",
      " 61%|██████    | 31/51 [00:25<00:20,  1.04s/it]"
     ]
    },
    {
     "name": "stdout",
     "output_type": "stream",
     "text": [
      "\n",
      "mean_270619-video2_000-038_opened_cc28.png: too spherical 1.6843445035380658\n"
     ]
    },
    {
     "name": "stderr",
     "output_type": "stream",
     "text": [
      "\r",
      " 63%|██████▎   | 32/51 [00:26<00:17,  1.09it/s]"
     ]
    },
    {
     "name": "stdout",
     "output_type": "stream",
     "text": [
      "\n",
      "mean_270619-video2_000-038_opened_cc32.png: too spherical 1.5753072282850336\n"
     ]
    },
    {
     "name": "stderr",
     "output_type": "stream",
     "text": [
      "\r",
      " 65%|██████▍   | 33/51 [00:26<00:14,  1.20it/s]"
     ]
    },
    {
     "name": "stdout",
     "output_type": "stream",
     "text": [
      "\n",
      "mean_270619-video2_000-038_opened_cc44.png: too spherical 3.4992855514020373\n"
     ]
    },
    {
     "name": "stderr",
     "output_type": "stream",
     "text": [
      "\r",
      " 67%|██████▋   | 34/51 [00:27<00:13,  1.30it/s]"
     ]
    },
    {
     "name": "stdout",
     "output_type": "stream",
     "text": [
      "\n",
      "mean_270619-video2_000-038_opened_cc45.png: too spherical 2.687739568942516\n",
      "\n",
      "mean_270619-video2_000-038_opened_cc60.png is INTERESTING\n"
     ]
    },
    {
     "name": "stderr",
     "output_type": "stream",
     "text": [
      "\r",
      " 69%|██████▊   | 35/51 [00:28<00:14,  1.10it/s]"
     ]
    },
    {
     "name": "stdout",
     "output_type": "stream",
     "text": [
      "\n",
      "video2_000-037-video2_000-038: overlap = 0.0\n"
     ]
    },
    {
     "name": "stderr",
     "output_type": "stream",
     "text": [
      "\r",
      " 71%|███████   | 36/51 [00:29<00:12,  1.18it/s]"
     ]
    },
    {
     "name": "stdout",
     "output_type": "stream",
     "text": [
      "\n",
      "mean_270619-video2_000-015_opened_cc30.png: too spherical 9.388673011676037\n",
      "\n",
      "mean_270619-video2_000-037_opened_cc03.png is INTERESTING\n"
     ]
    },
    {
     "name": "stderr",
     "output_type": "stream",
     "text": [
      "\r",
      " 73%|███████▎  | 37/51 [00:30<00:13,  1.02it/s]"
     ]
    },
    {
     "name": "stdout",
     "output_type": "stream",
     "text": [
      "\n",
      "video2_000-036-video2_000-037: overlap = 0.0\n",
      "\n",
      "mean_270619-video2_000-039_opened_cc02.png is INTERESTING\n",
      "\n",
      "video2_000-038-video2_000-039: overlap = 0.0\n",
      "\n",
      "video2_000-038-video2_000-039: overlap = 0.0\n"
     ]
    },
    {
     "name": "stderr",
     "output_type": "stream",
     "text": [
      "\r",
      " 75%|███████▍  | 38/51 [00:32<00:18,  1.42s/it]"
     ]
    },
    {
     "name": "stdout",
     "output_type": "stream",
     "text": [
      "\n",
      "video2_000-038-video2_000-039: overlap = 0.0\n",
      "\n",
      "mean_270619-video2_000-039_opened_cc28.png is INTERESTING\n",
      "\n",
      "video2_000-038-video2_000-039: overlap = 0.0\n",
      "\n",
      "video2_000-038-video2_000-039: overlap = 0.0\n"
     ]
    },
    {
     "name": "stderr",
     "output_type": "stream",
     "text": [
      "\r",
      " 76%|███████▋  | 39/51 [00:35<00:20,  1.71s/it]"
     ]
    },
    {
     "name": "stdout",
     "output_type": "stream",
     "text": [
      "\n",
      "video2_000-038-video2_000-039: overlap = 0.0\n"
     ]
    },
    {
     "name": "stderr",
     "output_type": "stream",
     "text": [
      "\r",
      " 78%|███████▊  | 40/51 [00:36<00:15,  1.40s/it]"
     ]
    },
    {
     "name": "stdout",
     "output_type": "stream",
     "text": [
      "\n",
      "mean_270619-video2_000-039_opened_cc54.png: too spherical 2.404690702348381\n",
      "\n",
      "mean_270619-video2_000-039_opened_cc59.png is INTERESTING\n",
      "\n",
      "video2_000-038-video2_000-039: overlap = 0.0\n",
      "\n",
      "video2_000-038-video2_000-039: overlap = 0.0\n"
     ]
    },
    {
     "name": "stderr",
     "output_type": "stream",
     "text": [
      "\r",
      " 80%|████████  | 41/51 [00:38<00:16,  1.69s/it]"
     ]
    },
    {
     "name": "stdout",
     "output_type": "stream",
     "text": [
      "\n",
      "video2_000-038-video2_000-039: overlap = 0.0\n"
     ]
    },
    {
     "name": "stderr",
     "output_type": "stream",
     "text": [
      "\r",
      " 82%|████████▏ | 42/51 [00:39<00:12,  1.39s/it]"
     ]
    },
    {
     "name": "stdout",
     "output_type": "stream",
     "text": [
      "\n",
      "mean_270619-video2_000-039_opened_cc76.png: too spherical 4.084308325562981\n",
      "\n",
      "mean_270619-video2_000-039_opened_cc77.png is INTERESTING\n",
      "\n",
      "video2_000-038-video2_000-039: overlap = 0.0\n",
      "\n",
      "video2_000-038-video2_000-039: overlap = 0.0\n"
     ]
    },
    {
     "name": "stderr",
     "output_type": "stream",
     "text": [
      "\r",
      " 84%|████████▍ | 43/51 [00:41<00:13,  1.68s/it]"
     ]
    },
    {
     "name": "stdout",
     "output_type": "stream",
     "text": [
      "\n",
      "video2_000-038-video2_000-039: overlap = 0.510958904109589\n"
     ]
    },
    {
     "name": "stderr",
     "output_type": "stream",
     "text": [
      "\r",
      " 86%|████████▋ | 44/51 [00:42<00:09,  1.38s/it]"
     ]
    },
    {
     "name": "stdout",
     "output_type": "stream",
     "text": [
      "\n",
      "mean_270619-video2_000-043_opened_cc05.png is INTERESTING\n"
     ]
    },
    {
     "name": "stderr",
     "output_type": "stream",
     "text": [
      "\r",
      " 88%|████████▊ | 45/51 [00:42<00:06,  1.15s/it]"
     ]
    },
    {
     "name": "stdout",
     "output_type": "stream",
     "text": [
      "\n",
      "mean_270619-video2_000-043_opened_cc13.png: too spherical 3.624042257090934\n"
     ]
    },
    {
     "name": "stderr",
     "output_type": "stream",
     "text": [
      "\r",
      " 90%|█████████ | 46/51 [00:43<00:04,  1.01it/s]"
     ]
    },
    {
     "name": "stdout",
     "output_type": "stream",
     "text": [
      "\n",
      "mean_270619-video2_000-043_opened_cc31.png is INTERESTING\n"
     ]
    },
    {
     "name": "stderr",
     "output_type": "stream",
     "text": [
      "\r",
      " 92%|█████████▏| 47/51 [00:43<00:03,  1.14it/s]"
     ]
    },
    {
     "name": "stdout",
     "output_type": "stream",
     "text": [
      "\n",
      "mean_270619-video2_000-044_opened_cc02.png: too spherical 9.032512560103408\n"
     ]
    },
    {
     "name": "stderr",
     "output_type": "stream",
     "text": [
      "\r",
      " 94%|█████████▍| 48/51 [00:44<00:02,  1.25it/s]"
     ]
    },
    {
     "name": "stdout",
     "output_type": "stream",
     "text": [
      "\n",
      "mean_270619-video2_000-044_opened_cc14.png: too spherical 2.512104156399837\n"
     ]
    },
    {
     "name": "stderr",
     "output_type": "stream",
     "text": [
      "\r",
      " 96%|█████████▌| 49/51 [00:45<00:01,  1.34it/s]"
     ]
    },
    {
     "name": "stdout",
     "output_type": "stream",
     "text": [
      "\n",
      "mean_270619-video2_000-044_opened_cc38.png: too spherical 2.6712674186204164\n",
      "\n",
      "mean_270619-video2_000-044_opened_cc49.png is INTERESTING\n",
      "\n",
      "video2_000-043-video2_000-044: overlap = 0.0\n"
     ]
    },
    {
     "name": "stderr",
     "output_type": "stream",
     "text": [
      "\r",
      " 98%|█████████▊| 50/51 [00:46<00:01,  1.06s/it]"
     ]
    },
    {
     "name": "stdout",
     "output_type": "stream",
     "text": [
      "\n",
      "video2_000-043-video2_000-044: overlap = 0.0\n"
     ]
    },
    {
     "name": "stderr",
     "output_type": "stream",
     "text": [
      "100%|██████████| 51/51 [00:47<00:00,  1.08it/s]\n",
      "  0%|          | 0/32 [00:00<?, ?it/s]"
     ]
    },
    {
     "name": "stdout",
     "output_type": "stream",
     "text": [
      "\n",
      "mean_270619-video2_000-044_opened_cc50.png: too spherical 2.043606834032354\n",
      "found video2_001/trigger_thr0.005_cl9_op3/cc_filtered_2den0.81_gausrad2.0/\n"
     ]
    },
    {
     "name": "stderr",
     "output_type": "stream",
     "text": [
      "\r",
      "  3%|▎         | 1/32 [00:00<00:23,  1.31it/s]"
     ]
    },
    {
     "name": "stdout",
     "output_type": "stream",
     "text": [
      "\n",
      "mean_270619-video2_001-001_opened_cc26.png: too spherical 4.853474919191273\n"
     ]
    },
    {
     "name": "stderr",
     "output_type": "stream",
     "text": [
      "\r",
      "  6%|▋         | 2/32 [00:01<00:21,  1.38it/s]"
     ]
    },
    {
     "name": "stdout",
     "output_type": "stream",
     "text": [
      "\n",
      "mean_270619-video2_001-002_opened_cc01.png is INTERESTING\n"
     ]
    },
    {
     "name": "stderr",
     "output_type": "stream",
     "text": [
      "\r",
      "  9%|▉         | 3/32 [00:02<00:20,  1.45it/s]"
     ]
    },
    {
     "name": "stdout",
     "output_type": "stream",
     "text": [
      "\n",
      "mean_270619-video2_001-002_opened_cc11.png: too spherical 7.7247900150889235\n"
     ]
    },
    {
     "name": "stderr",
     "output_type": "stream",
     "text": [
      "\r",
      " 12%|█▎        | 4/32 [00:02<00:18,  1.47it/s]"
     ]
    },
    {
     "name": "stdout",
     "output_type": "stream",
     "text": [
      "\n",
      "mean_270619-video2_001-002_opened_cc14.png: too spherical 8.112582819179659\n"
     ]
    },
    {
     "name": "stderr",
     "output_type": "stream",
     "text": [
      "\r",
      " 16%|█▌        | 5/32 [00:03<00:17,  1.51it/s]"
     ]
    },
    {
     "name": "stdout",
     "output_type": "stream",
     "text": [
      "\n",
      "mean_270619-video2_001-002_opened_cc24.png is INTERESTING\n"
     ]
    },
    {
     "name": "stderr",
     "output_type": "stream",
     "text": [
      "\r",
      " 19%|█▉        | 6/32 [00:03<00:17,  1.50it/s]"
     ]
    },
    {
     "name": "stdout",
     "output_type": "stream",
     "text": [
      "\n",
      "mean_270619-video2_001-002_opened_cc32.png: too spherical 3.382034136121451\n"
     ]
    },
    {
     "name": "stderr",
     "output_type": "stream",
     "text": [
      "\r",
      " 22%|██▏       | 7/32 [00:04<00:16,  1.53it/s]"
     ]
    },
    {
     "name": "stdout",
     "output_type": "stream",
     "text": [
      "\n",
      "mean_270619-video2_001-020_opened_cc22.png: too spherical 7.361916736688792\n"
     ]
    },
    {
     "name": "stderr",
     "output_type": "stream",
     "text": [
      "\r",
      " 25%|██▌       | 8/32 [00:05<00:15,  1.53it/s]"
     ]
    },
    {
     "name": "stdout",
     "output_type": "stream",
     "text": [
      "\n",
      "mean_270619-video2_001-020_opened_cc24.png: too spherical 6.820297011292038\n"
     ]
    },
    {
     "name": "stderr",
     "output_type": "stream",
     "text": [
      "\r",
      " 28%|██▊       | 9/32 [00:05<00:14,  1.55it/s]"
     ]
    },
    {
     "name": "stdout",
     "output_type": "stream",
     "text": [
      "\n",
      "mean_270619-video2_001-020_opened_cc31.png is INTERESTING\n"
     ]
    },
    {
     "name": "stderr",
     "output_type": "stream",
     "text": [
      "\r",
      " 31%|███▏      | 10/32 [00:06<00:14,  1.55it/s]"
     ]
    },
    {
     "name": "stdout",
     "output_type": "stream",
     "text": [
      "\n",
      "mean_270619-video2_001-020_opened_cc61.png: too spherical 5.307218924192093\n"
     ]
    },
    {
     "name": "stderr",
     "output_type": "stream",
     "text": [
      "\r",
      " 34%|███▍      | 11/32 [00:07<00:14,  1.48it/s]"
     ]
    },
    {
     "name": "stdout",
     "output_type": "stream",
     "text": [
      "\n",
      "mean_270619-video2_001-023_opened_cc03.png: too spherical 1.9250944484536174\n"
     ]
    },
    {
     "name": "stderr",
     "output_type": "stream",
     "text": [
      "\r",
      " 38%|███▊      | 12/32 [00:07<00:13,  1.52it/s]"
     ]
    },
    {
     "name": "stdout",
     "output_type": "stream",
     "text": [
      "\n",
      "mean_270619-video2_001-023_opened_cc35.png is INTERESTING\n"
     ]
    },
    {
     "name": "stderr",
     "output_type": "stream",
     "text": [
      "\r",
      " 41%|████      | 13/32 [00:08<00:12,  1.54it/s]"
     ]
    },
    {
     "name": "stdout",
     "output_type": "stream",
     "text": [
      "\n",
      "mean_270619-video2_001-023_opened_cc65.png is INTERESTING\n"
     ]
    },
    {
     "name": "stderr",
     "output_type": "stream",
     "text": [
      "\r",
      " 44%|████▍     | 14/32 [00:09<00:11,  1.55it/s]"
     ]
    },
    {
     "name": "stdout",
     "output_type": "stream",
     "text": [
      "\n",
      "mean_270619-video2_001-024_opened_cc31.png: too spherical 6.754487589402103\n"
     ]
    },
    {
     "name": "stderr",
     "output_type": "stream",
     "text": [
      "\r",
      " 47%|████▋     | 15/32 [00:09<00:11,  1.49it/s]"
     ]
    },
    {
     "name": "stdout",
     "output_type": "stream",
     "text": [
      "\n",
      "mean_270619-video2_001-024_opened_cc45.png: too spherical 1.3608077215256167\n",
      "\n",
      "mean_270619-video2_001-024_opened_cc50.png is INTERESTING\n"
     ]
    },
    {
     "name": "stderr",
     "output_type": "stream",
     "text": [
      "\r",
      " 50%|█████     | 16/32 [00:11<00:13,  1.21it/s]"
     ]
    },
    {
     "name": "stdout",
     "output_type": "stream",
     "text": [
      "\n",
      "video2_001-023-video2_001-024: overlap = 0.5925206410879067\n"
     ]
    },
    {
     "name": "stderr",
     "output_type": "stream",
     "text": [
      "\r",
      " 53%|█████▎    | 17/32 [00:11<00:11,  1.32it/s]"
     ]
    },
    {
     "name": "stdout",
     "output_type": "stream",
     "text": [
      "\n",
      "mean_270619-video2_001-025_opened_cc05.png: too spherical 1.309000357674428\n"
     ]
    },
    {
     "name": "stderr",
     "output_type": "stream",
     "text": [
      "\r",
      " 56%|█████▋    | 18/32 [00:12<00:10,  1.39it/s]"
     ]
    },
    {
     "name": "stdout",
     "output_type": "stream",
     "text": [
      "\n",
      "mean_270619-video2_001-025_opened_cc34.png: too spherical 3.2092369091076525\n",
      "\n",
      "mean_270619-video2_001-025_opened_cc55.png is INTERESTING\n"
     ]
    },
    {
     "name": "stderr",
     "output_type": "stream",
     "text": [
      "\r",
      " 59%|█████▉    | 19/32 [00:13<00:11,  1.16it/s]"
     ]
    },
    {
     "name": "stdout",
     "output_type": "stream",
     "text": [
      "\n",
      "video2_001-024-video2_001-025: overlap = 0.7962382445141065\n"
     ]
    },
    {
     "name": "stderr",
     "output_type": "stream",
     "text": [
      "\r",
      " 62%|██████▎   | 20/32 [00:14<00:09,  1.27it/s]"
     ]
    },
    {
     "name": "stdout",
     "output_type": "stream",
     "text": [
      "\n",
      "mean_270619-video2_001-025_opened_cc57.png: too spherical 3.284258887686728\n"
     ]
    },
    {
     "name": "stderr",
     "output_type": "stream",
     "text": [
      "\r",
      " 66%|██████▌   | 21/32 [00:14<00:08,  1.36it/s]"
     ]
    },
    {
     "name": "stdout",
     "output_type": "stream",
     "text": [
      "\n",
      "mean_270619-video2_001-025_opened_cc60.png is INTERESTING\n"
     ]
    },
    {
     "name": "stderr",
     "output_type": "stream",
     "text": [
      "\r",
      " 69%|██████▉   | 22/32 [00:15<00:07,  1.41it/s]"
     ]
    },
    {
     "name": "stdout",
     "output_type": "stream",
     "text": [
      "\n",
      "mean_270619-video2_001-025_opened_cc72.png is INTERESTING\n",
      "\n",
      "mean_270619-video2_001-026_opened_cc03.png is INTERESTING\n",
      "\n",
      "video2_001-025-video2_001-026: overlap = 0.0\n",
      "\n",
      "video2_001-025-video2_001-026: overlap = 0.0\n"
     ]
    },
    {
     "name": "stderr",
     "output_type": "stream",
     "text": [
      "\r",
      " 72%|███████▏  | 23/32 [00:17<00:10,  1.20s/it]"
     ]
    },
    {
     "name": "stdout",
     "output_type": "stream",
     "text": [
      "\n",
      "video2_001-025-video2_001-026: overlap = 0.0\n"
     ]
    },
    {
     "name": "stderr",
     "output_type": "stream",
     "text": [
      "\r",
      " 75%|███████▌  | 24/32 [00:18<00:08,  1.03s/it]"
     ]
    },
    {
     "name": "stdout",
     "output_type": "stream",
     "text": [
      "\n",
      "mean_270619-video2_001-026_opened_cc10.png: too spherical 6.991406829790614\n"
     ]
    },
    {
     "name": "stderr",
     "output_type": "stream",
     "text": [
      "\r",
      " 78%|███████▊  | 25/32 [00:18<00:06,  1.10it/s]"
     ]
    },
    {
     "name": "stdout",
     "output_type": "stream",
     "text": [
      "\n",
      "mean_270619-video2_001-026_opened_cc22.png: too spherical 3.139761326490548\n"
     ]
    },
    {
     "name": "stderr",
     "output_type": "stream",
     "text": [
      "\r",
      " 81%|████████▏ | 26/32 [00:19<00:04,  1.21it/s]"
     ]
    },
    {
     "name": "stdout",
     "output_type": "stream",
     "text": [
      "\n",
      "mean_270619-video2_001-026_opened_cc29.png: too spherical 8.230404443124828\n"
     ]
    },
    {
     "name": "stderr",
     "output_type": "stream",
     "text": [
      "\r",
      " 84%|████████▍ | 27/32 [00:20<00:03,  1.31it/s]"
     ]
    },
    {
     "name": "stdout",
     "output_type": "stream",
     "text": [
      "\n",
      "mean_270619-video2_001-026_opened_cc48.png: too spherical 7.071379779546126\n"
     ]
    },
    {
     "name": "stderr",
     "output_type": "stream",
     "text": [
      "\r",
      " 88%|████████▊ | 28/32 [00:20<00:02,  1.39it/s]"
     ]
    },
    {
     "name": "stdout",
     "output_type": "stream",
     "text": [
      "\n",
      "mean_270619-video2_001-041_opened_cc40.png is INTERESTING\n"
     ]
    },
    {
     "name": "stderr",
     "output_type": "stream",
     "text": [
      "\r",
      " 91%|█████████ | 29/32 [00:21<00:02,  1.45it/s]"
     ]
    },
    {
     "name": "stdout",
     "output_type": "stream",
     "text": [
      "\n",
      "mean_270619-video2_001-041_opened_cc56.png: too spherical 5.373369753728831\n"
     ]
    },
    {
     "name": "stderr",
     "output_type": "stream",
     "text": [
      "\r",
      " 94%|█████████▍| 30/32 [00:22<00:01,  1.50it/s]"
     ]
    },
    {
     "name": "stdout",
     "output_type": "stream",
     "text": [
      "\n",
      "mean_270619-video2_001-041_opened_cc73.png: too spherical 1.4087341210845394\n"
     ]
    },
    {
     "name": "stderr",
     "output_type": "stream",
     "text": [
      "\r",
      " 97%|█████████▋| 31/32 [00:22<00:00,  1.52it/s]"
     ]
    },
    {
     "name": "stdout",
     "output_type": "stream",
     "text": [
      "\n",
      "mean_270619-video2_001-020_opened_cc13.png: too spherical 6.930780194196621\n"
     ]
    },
    {
     "name": "stderr",
     "output_type": "stream",
     "text": [
      "100%|██████████| 32/32 [00:23<00:00,  1.55it/s]\n",
      "  0%|          | 0/45 [00:00<?, ?it/s]"
     ]
    },
    {
     "name": "stdout",
     "output_type": "stream",
     "text": [
      "\n",
      "mean_270619-video2_001-025_opened_cc108.png: too spherical 1.6247547941392049\n",
      "found video2_002/trigger_thr0.005_cl9_op3/cc_filtered_2den0.81_gausrad2.0/\n"
     ]
    },
    {
     "name": "stderr",
     "output_type": "stream",
     "text": [
      "\r",
      "  2%|▏         | 1/45 [00:00<00:28,  1.54it/s]"
     ]
    },
    {
     "name": "stdout",
     "output_type": "stream",
     "text": [
      "\n",
      "mean_270619-video2_002-017_opened_cc02.png is INTERESTING\n",
      "\n",
      "mean_270619-video2_002-018_opened_cc03.png is INTERESTING\n"
     ]
    },
    {
     "name": "stderr",
     "output_type": "stream",
     "text": [
      "\r",
      "  4%|▍         | 2/45 [00:01<00:36,  1.18it/s]"
     ]
    },
    {
     "name": "stdout",
     "output_type": "stream",
     "text": [
      "\n",
      "video2_002-017-video2_002-018: overlap = 0.839238845144357\n"
     ]
    },
    {
     "name": "stderr",
     "output_type": "stream",
     "text": [
      "\r",
      "  7%|▋         | 3/45 [00:02<00:33,  1.26it/s]"
     ]
    },
    {
     "name": "stdout",
     "output_type": "stream",
     "text": [
      "\n",
      "mean_270619-video2_002-018_opened_cc07.png: too spherical 7.993138783238395\n"
     ]
    },
    {
     "name": "stderr",
     "output_type": "stream",
     "text": [
      "\r",
      "  9%|▉         | 4/45 [00:03<00:30,  1.33it/s]"
     ]
    },
    {
     "name": "stdout",
     "output_type": "stream",
     "text": [
      "\n",
      "mean_270619-video2_002-018_opened_cc15.png: too spherical 2.757082018578729\n"
     ]
    },
    {
     "name": "stderr",
     "output_type": "stream",
     "text": [
      "\r",
      " 11%|█         | 5/45 [00:03<00:29,  1.38it/s]"
     ]
    },
    {
     "name": "stdout",
     "output_type": "stream",
     "text": [
      "\n",
      "mean_270619-video2_002-018_opened_cc26.png is INTERESTING\n"
     ]
    },
    {
     "name": "stderr",
     "output_type": "stream",
     "text": [
      "\r",
      " 13%|█▎        | 6/45 [00:04<00:27,  1.42it/s]"
     ]
    },
    {
     "name": "stdout",
     "output_type": "stream",
     "text": [
      "\n",
      "mean_270619-video2_002-018_opened_cc47.png is INTERESTING\n"
     ]
    },
    {
     "name": "stderr",
     "output_type": "stream",
     "text": [
      "\r",
      " 16%|█▌        | 7/45 [00:05<00:25,  1.46it/s]"
     ]
    },
    {
     "name": "stdout",
     "output_type": "stream",
     "text": [
      "\n",
      "mean_270619-video2_002-018_opened_cc51.png: too spherical 8.973486484972291\n"
     ]
    },
    {
     "name": "stderr",
     "output_type": "stream",
     "text": [
      "\r",
      " 18%|█▊        | 8/45 [00:05<00:24,  1.49it/s]"
     ]
    },
    {
     "name": "stdout",
     "output_type": "stream",
     "text": [
      "\n",
      "mean_270619-video2_002-018_opened_cc58.png: too spherical 3.671642462434248\n",
      "\n",
      "mean_270619-video2_002-019_opened_cc08.png is INTERESTING\n",
      "\n",
      "video2_002-018-video2_002-019: overlap = 0.0\n",
      "\n",
      "video2_002-018-video2_002-019: overlap = 0.0\n"
     ]
    },
    {
     "name": "stderr",
     "output_type": "stream",
     "text": [
      "\r",
      " 20%|██        | 9/45 [00:08<00:42,  1.19s/it]"
     ]
    },
    {
     "name": "stdout",
     "output_type": "stream",
     "text": [
      "\n",
      "video2_002-018-video2_002-019: overlap = 0.0\n"
     ]
    },
    {
     "name": "stderr",
     "output_type": "stream",
     "text": [
      "\r",
      " 22%|██▏       | 10/45 [00:08<00:35,  1.02s/it]"
     ]
    },
    {
     "name": "stdout",
     "output_type": "stream",
     "text": [
      "\n",
      "mean_270619-video2_002-019_opened_cc12.png: too spherical 7.956121307548559\n",
      "\n",
      "mean_270619-video2_002-019_opened_cc19.png is INTERESTING\n",
      "\n",
      "video2_002-018-video2_002-019: overlap = 0.0\n",
      "\n",
      "video2_002-018-video2_002-019: overlap = 0.0\n"
     ]
    },
    {
     "name": "stderr",
     "output_type": "stream",
     "text": [
      "\r",
      " 24%|██▍       | 11/45 [00:11<00:48,  1.42s/it]"
     ]
    },
    {
     "name": "stdout",
     "output_type": "stream",
     "text": [
      "\n",
      "video2_002-018-video2_002-019: overlap = 0.0\n"
     ]
    },
    {
     "name": "stderr",
     "output_type": "stream",
     "text": [
      "\r",
      " 27%|██▋       | 12/45 [00:11<00:38,  1.18s/it]"
     ]
    },
    {
     "name": "stdout",
     "output_type": "stream",
     "text": [
      "\n",
      "mean_270619-video2_002-019_opened_cc31.png: too spherical 4.390116504699563\n"
     ]
    },
    {
     "name": "stderr",
     "output_type": "stream",
     "text": [
      "\r",
      " 29%|██▉       | 13/45 [00:12<00:32,  1.02s/it]"
     ]
    },
    {
     "name": "stdout",
     "output_type": "stream",
     "text": [
      "\n",
      "mean_270619-video2_002-019_opened_cc41.png: too spherical 4.7434794363093395\n"
     ]
    },
    {
     "name": "stderr",
     "output_type": "stream",
     "text": [
      "\r",
      " 31%|███       | 14/45 [00:13<00:28,  1.10it/s]"
     ]
    },
    {
     "name": "stdout",
     "output_type": "stream",
     "text": [
      "\n",
      "mean_270619-video2_002-020_opened_cc02.png: too spherical 4.381299076165145\n"
     ]
    },
    {
     "name": "stderr",
     "output_type": "stream",
     "text": [
      "\r",
      " 33%|███▎      | 15/45 [00:13<00:25,  1.18it/s]"
     ]
    },
    {
     "name": "stdout",
     "output_type": "stream",
     "text": [
      "\n",
      "mean_270619-video2_002-020_opened_cc09.png: too spherical 2.1703066282455974\n"
     ]
    },
    {
     "name": "stderr",
     "output_type": "stream",
     "text": [
      "\r",
      " 36%|███▌      | 16/45 [00:14<00:22,  1.28it/s]"
     ]
    },
    {
     "name": "stdout",
     "output_type": "stream",
     "text": [
      "\n",
      "mean_270619-video2_002-020_opened_cc15.png: too spherical 5.757998843812614\n",
      "\n",
      "mean_270619-video2_002-020_opened_cc40.png is INTERESTING\n",
      "\n",
      "video2_002-019-video2_002-020: overlap = 0.0\n"
     ]
    },
    {
     "name": "stderr",
     "output_type": "stream",
     "text": [
      "\r",
      " 38%|███▊      | 17/45 [00:16<00:29,  1.07s/it]"
     ]
    },
    {
     "name": "stdout",
     "output_type": "stream",
     "text": [
      "\n",
      "video2_002-019-video2_002-020: overlap = 0.0\n"
     ]
    },
    {
     "name": "stderr",
     "output_type": "stream",
     "text": [
      "\r",
      " 40%|████      | 18/45 [00:16<00:25,  1.07it/s]"
     ]
    },
    {
     "name": "stdout",
     "output_type": "stream",
     "text": [
      "\n",
      "mean_270619-video2_002-020_opened_cc49.png: too spherical 9.151195685724451\n"
     ]
    },
    {
     "name": "stderr",
     "output_type": "stream",
     "text": [
      "\r",
      " 42%|████▏     | 19/45 [00:17<00:21,  1.19it/s]"
     ]
    },
    {
     "name": "stdout",
     "output_type": "stream",
     "text": [
      "\n",
      "mean_270619-video2_002-027_opened_cc03.png is INTERESTING\n"
     ]
    },
    {
     "name": "stderr",
     "output_type": "stream",
     "text": [
      "\r",
      " 44%|████▍     | 20/45 [00:18<00:19,  1.26it/s]"
     ]
    },
    {
     "name": "stdout",
     "output_type": "stream",
     "text": [
      "\n",
      "mean_270619-video2_002-027_opened_cc22.png: too spherical 5.374683299191739\n"
     ]
    },
    {
     "name": "stderr",
     "output_type": "stream",
     "text": [
      "\r",
      " 47%|████▋     | 21/45 [00:18<00:17,  1.35it/s]"
     ]
    },
    {
     "name": "stdout",
     "output_type": "stream",
     "text": [
      "\n",
      "mean_270619-video2_002-027_opened_cc38.png: too spherical 3.7262126905110797\n"
     ]
    },
    {
     "name": "stderr",
     "output_type": "stream",
     "text": [
      "\r",
      " 49%|████▉     | 22/45 [00:19<00:16,  1.40it/s]"
     ]
    },
    {
     "name": "stdout",
     "output_type": "stream",
     "text": [
      "\n",
      "mean_270619-video2_002-027_opened_cc65.png is INTERESTING\n",
      "\n",
      "mean_270619-video2_002-028_opened_cc05.png is INTERESTING\n",
      "\n",
      "video2_002-027-video2_002-028: overlap = 0.2837127845884413\n"
     ]
    },
    {
     "name": "stderr",
     "output_type": "stream",
     "text": [
      "\r",
      " 51%|█████     | 23/45 [00:21<00:23,  1.05s/it]"
     ]
    },
    {
     "name": "stdout",
     "output_type": "stream",
     "text": [
      "\n",
      "video2_002-027-video2_002-028: overlap = 0.0\n",
      "\n",
      "mean_270619-video2_002-028_opened_cc09.png is INTERESTING\n",
      "\n",
      "video2_002-027-video2_002-028: overlap = 0.0\n"
     ]
    },
    {
     "name": "stderr",
     "output_type": "stream",
     "text": [
      "\r",
      " 53%|█████▎    | 24/45 [00:23<00:26,  1.27s/it]"
     ]
    },
    {
     "name": "stdout",
     "output_type": "stream",
     "text": [
      "\n",
      "video2_002-027-video2_002-028: overlap = 0.0\n"
     ]
    },
    {
     "name": "stderr",
     "output_type": "stream",
     "text": [
      "\r",
      " 56%|█████▌    | 25/45 [00:23<00:21,  1.08s/it]"
     ]
    },
    {
     "name": "stdout",
     "output_type": "stream",
     "text": [
      "\n",
      "mean_270619-video2_002-028_opened_cc10.png: too spherical 1.6539213963722526\n"
     ]
    },
    {
     "name": "stderr",
     "output_type": "stream",
     "text": [
      "\r",
      " 58%|█████▊    | 26/45 [00:24<00:18,  1.05it/s]"
     ]
    },
    {
     "name": "stdout",
     "output_type": "stream",
     "text": [
      "\n",
      "mean_270619-video2_002-028_opened_cc20.png: too spherical 1.416322331822595\n"
     ]
    },
    {
     "name": "stderr",
     "output_type": "stream",
     "text": [
      "\r",
      " 60%|██████    | 27/45 [00:24<00:15,  1.17it/s]"
     ]
    },
    {
     "name": "stdout",
     "output_type": "stream",
     "text": [
      "\n",
      "mean_270619-video2_002-028_opened_cc69.png: too spherical 1.417287915805048\n",
      "\n",
      "mean_270619-video2_002-029_opened_cc05.png is INTERESTING\n"
     ]
    },
    {
     "name": "stderr",
     "output_type": "stream",
     "text": [
      "\r",
      " 62%|██████▏   | 28/45 [00:26<00:17,  1.00s/it]"
     ]
    },
    {
     "name": "stdout",
     "output_type": "stream",
     "text": [
      "\n",
      "video2_002-028-video2_002-029: overlap = 0.5157088122605364\n"
     ]
    },
    {
     "name": "stderr",
     "output_type": "stream",
     "text": [
      "\r",
      " 64%|██████▍   | 29/45 [00:27<00:14,  1.10it/s]"
     ]
    },
    {
     "name": "stdout",
     "output_type": "stream",
     "text": [
      "\n",
      "mean_270619-video2_002-029_opened_cc11.png: too spherical 2.915861575833194\n"
     ]
    },
    {
     "name": "stderr",
     "output_type": "stream",
     "text": [
      "\r",
      " 67%|██████▋   | 30/45 [00:27<00:12,  1.18it/s]"
     ]
    },
    {
     "name": "stdout",
     "output_type": "stream",
     "text": [
      "\n",
      "mean_270619-video2_002-029_opened_cc21.png: too spherical 4.404026606986247\n"
     ]
    },
    {
     "name": "stderr",
     "output_type": "stream",
     "text": [
      "\r",
      " 69%|██████▉   | 31/45 [00:28<00:12,  1.16it/s]"
     ]
    },
    {
     "name": "stdout",
     "output_type": "stream",
     "text": [
      "\n",
      "mean_270619-video2_002-019_opened_cc01.png: too spherical 3.5829403640549744\n"
     ]
    },
    {
     "name": "stderr",
     "output_type": "stream",
     "text": [
      "\r",
      " 71%|███████   | 32/45 [00:29<00:12,  1.05it/s]"
     ]
    },
    {
     "name": "stdout",
     "output_type": "stream",
     "text": [
      "\n",
      "mean_270619-video2_002-027_opened_cc11.png is INTERESTING\n"
     ]
    },
    {
     "name": "stderr",
     "output_type": "stream",
     "text": [
      "\r",
      " 73%|███████▎  | 33/45 [00:30<00:12,  1.00s/it]"
     ]
    },
    {
     "name": "stdout",
     "output_type": "stream",
     "text": [
      "\n",
      "mean_270619-video2_002-029_opened_cc37.png: too spherical 2.3751797492845457\n"
     ]
    },
    {
     "name": "stderr",
     "output_type": "stream",
     "text": [
      "\r",
      " 76%|███████▌  | 34/45 [00:32<00:11,  1.04s/it]"
     ]
    },
    {
     "name": "stdout",
     "output_type": "stream",
     "text": [
      "\n",
      "mean_270619-video2_002-030_opened_cc07.png: too spherical 5.821894009513413\n"
     ]
    },
    {
     "name": "stderr",
     "output_type": "stream",
     "text": [
      "\r",
      " 78%|███████▊  | 35/45 [00:33<00:10,  1.04s/it]"
     ]
    },
    {
     "name": "stdout",
     "output_type": "stream",
     "text": [
      "\n",
      "mean_270619-video2_002-030_opened_cc21.png: too spherical 5.135665105930967\n"
     ]
    },
    {
     "name": "stderr",
     "output_type": "stream",
     "text": [
      "\r",
      " 80%|████████  | 36/45 [00:34<00:09,  1.07s/it]"
     ]
    },
    {
     "name": "stdout",
     "output_type": "stream",
     "text": [
      "\n",
      "mean_270619-video2_002-030_opened_cc40.png: too spherical 2.333939783829976\n"
     ]
    },
    {
     "name": "stderr",
     "output_type": "stream",
     "text": [
      "\r",
      " 82%|████████▏ | 37/45 [00:35<00:08,  1.01s/it]"
     ]
    },
    {
     "name": "stdout",
     "output_type": "stream",
     "text": [
      "\n",
      "mean_270619-video2_002-030_opened_cc43.png: too spherical 3.6903395953009603\n"
     ]
    },
    {
     "name": "stderr",
     "output_type": "stream",
     "text": [
      "\r",
      " 84%|████████▍ | 38/45 [00:36<00:06,  1.02it/s]"
     ]
    },
    {
     "name": "stdout",
     "output_type": "stream",
     "text": [
      "\n",
      "mean_270619-video2_002-030_opened_cc59.png: too spherical 4.359525264313313\n"
     ]
    },
    {
     "name": "stderr",
     "output_type": "stream",
     "text": [
      "\r",
      " 87%|████████▋ | 39/45 [00:36<00:05,  1.15it/s]"
     ]
    },
    {
     "name": "stdout",
     "output_type": "stream",
     "text": [
      "\n",
      "mean_270619-video2_002-030_opened_cc62.png: too spherical 5.091888649212216\n"
     ]
    },
    {
     "name": "stderr",
     "output_type": "stream",
     "text": [
      "\r",
      " 89%|████████▉ | 40/45 [00:37<00:04,  1.24it/s]"
     ]
    },
    {
     "name": "stdout",
     "output_type": "stream",
     "text": [
      "\n",
      "mean_270619-video2_002-030_opened_cc65.png: too spherical 8.081619339115656\n"
     ]
    },
    {
     "name": "stderr",
     "output_type": "stream",
     "text": [
      "\r",
      " 91%|█████████ | 41/45 [00:37<00:03,  1.32it/s]"
     ]
    },
    {
     "name": "stdout",
     "output_type": "stream",
     "text": [
      "\n",
      "mean_270619-video2_002-030_opened_cc80.png: too spherical 7.4812934247877845\n"
     ]
    },
    {
     "name": "stderr",
     "output_type": "stream",
     "text": [
      "\r",
      " 93%|█████████▎| 42/45 [00:38<00:02,  1.17it/s]"
     ]
    },
    {
     "name": "stdout",
     "output_type": "stream",
     "text": [
      "\n",
      "mean_270619-video2_002-031_opened_cc19.png: too spherical 3.249166072995379\n"
     ]
    },
    {
     "name": "stderr",
     "output_type": "stream",
     "text": [
      "\r",
      " 96%|█████████▌| 43/45 [00:40<00:01,  1.10it/s]"
     ]
    },
    {
     "name": "stdout",
     "output_type": "stream",
     "text": [
      "\n",
      "mean_270619-video2_002-031_opened_cc26.png is INTERESTING\n"
     ]
    },
    {
     "name": "stderr",
     "output_type": "stream",
     "text": [
      "\r",
      " 98%|█████████▊| 44/45 [00:41<00:00,  1.02it/s]"
     ]
    },
    {
     "name": "stdout",
     "output_type": "stream",
     "text": [
      "\n",
      "mean_270619-video2_002-031_opened_cc38.png: too spherical 1.3950471891783143\n"
     ]
    },
    {
     "name": "stderr",
     "output_type": "stream",
     "text": [
      "100%|██████████| 45/45 [00:42<00:00,  1.02s/it]\n",
      "  0%|          | 0/46 [00:00<?, ?it/s]"
     ]
    },
    {
     "name": "stdout",
     "output_type": "stream",
     "text": [
      "\n",
      "mean_270619-video2_002-031_opened_cc57.png: too spherical 2.624561348753169\n",
      "found video2_003/trigger_thr0.005_cl9_op3/cc_filtered_2den0.81_gausrad2.0/\n"
     ]
    },
    {
     "name": "stderr",
     "output_type": "stream",
     "text": [
      "\r",
      "  2%|▏         | 1/46 [00:00<00:29,  1.53it/s]"
     ]
    },
    {
     "name": "stdout",
     "output_type": "stream",
     "text": [
      "\n",
      "mean_270619-video2_003-004_opened_cc10.png: too spherical 5.5567569350857\n"
     ]
    },
    {
     "name": "stderr",
     "output_type": "stream",
     "text": [
      "\r",
      "  4%|▍         | 2/46 [00:01<00:28,  1.53it/s]"
     ]
    },
    {
     "name": "stdout",
     "output_type": "stream",
     "text": [
      "\n",
      "mean_270619-video2_003-004_opened_cc52.png is INTERESTING\n",
      "\n",
      "mean_270619-video2_003-005_opened_cc17.png is INTERESTING\n"
     ]
    },
    {
     "name": "stderr",
     "output_type": "stream",
     "text": [
      "\r",
      "  7%|▋         | 3/46 [00:02<00:38,  1.10it/s]"
     ]
    },
    {
     "name": "stdout",
     "output_type": "stream",
     "text": [
      "\n",
      "video2_003-004-video2_003-005: overlap = 0.0\n"
     ]
    },
    {
     "name": "stderr",
     "output_type": "stream",
     "text": [
      "\r",
      "  9%|▊         | 4/46 [00:03<00:38,  1.10it/s]"
     ]
    },
    {
     "name": "stdout",
     "output_type": "stream",
     "text": [
      "\n",
      "mean_270619-video2_003-005_opened_cc24.png: too spherical 7.429010953885581\n",
      "\n",
      "mean_270619-video2_003-005_opened_cc43.png is INTERESTING\n"
     ]
    },
    {
     "name": "stderr",
     "output_type": "stream",
     "text": [
      "\r",
      " 11%|█         | 5/46 [00:04<00:40,  1.02it/s]"
     ]
    },
    {
     "name": "stdout",
     "output_type": "stream",
     "text": [
      "\n",
      "video2_003-004-video2_003-005: overlap = 0.0\n",
      "\n",
      "mean_270619-video2_003-005_opened_cc47.png is INTERESTING\n"
     ]
    },
    {
     "name": "stderr",
     "output_type": "stream",
     "text": [
      "\r",
      " 13%|█▎        | 6/46 [00:06<00:41,  1.04s/it]"
     ]
    },
    {
     "name": "stdout",
     "output_type": "stream",
     "text": [
      "\n",
      "video2_003-004-video2_003-005: overlap = 0.86158948845516\n"
     ]
    },
    {
     "name": "stderr",
     "output_type": "stream",
     "text": [
      "\r",
      " 15%|█▌        | 7/46 [00:06<00:35,  1.10it/s]"
     ]
    },
    {
     "name": "stdout",
     "output_type": "stream",
     "text": [
      "\n",
      "mean_270619-video2_003-005_opened_cc48.png is INTERESTING\n",
      "\n",
      "mean_270619-video2_003-006_opened_cc01.png is INTERESTING\n",
      "\n",
      "video2_003-005-video2_003-006: overlap = 0.0\n",
      "\n",
      "video2_003-005-video2_003-006: overlap = 0.0\n",
      "\n",
      "video2_003-005-video2_003-006: overlap = 0.0\n"
     ]
    },
    {
     "name": "stderr",
     "output_type": "stream",
     "text": [
      "\r",
      " 17%|█▋        | 8/46 [00:09<00:58,  1.54s/it]"
     ]
    },
    {
     "name": "stdout",
     "output_type": "stream",
     "text": [
      "\n",
      "video2_003-005-video2_003-006: overlap = 0.0\n"
     ]
    },
    {
     "name": "stderr",
     "output_type": "stream",
     "text": [
      "\r",
      " 20%|█▉        | 9/46 [00:10<00:48,  1.32s/it]"
     ]
    },
    {
     "name": "stdout",
     "output_type": "stream",
     "text": [
      "\n",
      "mean_270619-video2_003-006_opened_cc13.png: too spherical 5.401796941912322\n"
     ]
    },
    {
     "name": "stderr",
     "output_type": "stream",
     "text": [
      "\r",
      " 22%|██▏       | 10/46 [00:11<00:40,  1.13s/it]"
     ]
    },
    {
     "name": "stdout",
     "output_type": "stream",
     "text": [
      "\n",
      "mean_270619-video2_003-006_opened_cc21.png: too spherical 3.328053393747667\n",
      "\n",
      "mean_270619-video2_003-006_opened_cc23.png is INTERESTING\n",
      "\n",
      "video2_003-005-video2_003-006: overlap = 0.0\n",
      "\n",
      "video2_003-005-video2_003-006: overlap = 0.0\n",
      "\n",
      "video2_003-005-video2_003-006: overlap = 0.0\n"
     ]
    },
    {
     "name": "stderr",
     "output_type": "stream",
     "text": [
      "\r",
      " 24%|██▍       | 11/46 [00:14<01:01,  1.76s/it]"
     ]
    },
    {
     "name": "stdout",
     "output_type": "stream",
     "text": [
      "\n",
      "video2_003-005-video2_003-006: overlap = 0.0\n",
      "\n",
      "mean_270619-video2_003-006_opened_cc36.png is INTERESTING\n",
      "\n",
      "video2_003-005-video2_003-006: overlap = 0.0\n",
      "\n",
      "video2_003-005-video2_003-006: overlap = 0.0\n"
     ]
    },
    {
     "name": "stderr",
     "output_type": "stream",
     "text": [
      "\r",
      " 26%|██▌       | 12/46 [00:16<01:06,  1.96s/it]"
     ]
    },
    {
     "name": "stdout",
     "output_type": "stream",
     "text": [
      "\n",
      "video2_003-005-video2_003-006: overlap = 0.7511111111111111\n",
      "\n",
      "mean_270619-video2_003-006_opened_cc38.png is INTERESTING\n",
      "\n",
      "video2_003-005-video2_003-006: overlap = 0.0\n",
      "\n",
      "video2_003-005-video2_003-006: overlap = 0.0\n"
     ]
    },
    {
     "name": "stderr",
     "output_type": "stream",
     "text": [
      "\r",
      " 28%|██▊       | 13/46 [00:19<01:09,  2.12s/it]"
     ]
    },
    {
     "name": "stdout",
     "output_type": "stream",
     "text": [
      "\n",
      "video2_003-005-video2_003-006: overlap = 0.0\n",
      "\n",
      "mean_270619-video2_003-006_opened_cc40.png is INTERESTING\n"
     ]
    },
    {
     "name": "stderr",
     "output_type": "stream",
     "text": [
      "\r",
      " 30%|███       | 14/46 [00:20<00:59,  1.84s/it]"
     ]
    },
    {
     "name": "stdout",
     "output_type": "stream",
     "text": [
      "\n",
      "video2_003-005-video2_003-006: overlap = 0.8548136645962733\n",
      "\n",
      "mean_270619-video2_003-006_opened_cc42.png is INTERESTING\n",
      "\n",
      "video2_003-005-video2_003-006: overlap = 0.0\n"
     ]
    },
    {
     "name": "stderr",
     "output_type": "stream",
     "text": [
      "\r",
      " 33%|███▎      | 15/46 [00:22<00:58,  1.89s/it]"
     ]
    },
    {
     "name": "stdout",
     "output_type": "stream",
     "text": [
      "\n",
      "video2_003-005-video2_003-006: overlap = 0.294289897510981\n",
      "\n",
      "mean_270619-video2_003-007_opened_cc02.png is INTERESTING\n",
      "\n",
      "video2_003-006-video2_003-007: overlap = 0.0\n",
      "\n",
      "video2_003-006-video2_003-007: overlap = 0.0\n",
      "\n",
      "video2_003-006-video2_003-007: overlap = 0.24658618642390662\n",
      "\n",
      "video2_003-006-video2_003-007: overlap = 0.0\n",
      "\n",
      "video2_003-006-video2_003-007: overlap = 0.0\n"
     ]
    },
    {
     "name": "stderr",
     "output_type": "stream",
     "text": [
      "\r",
      " 35%|███▍      | 16/46 [00:27<01:21,  2.71s/it]"
     ]
    },
    {
     "name": "stdout",
     "output_type": "stream",
     "text": [
      "\n",
      "video2_003-006-video2_003-007: overlap = 0.0\n",
      "\n",
      "mean_270619-video2_003-007_opened_cc08.png is INTERESTING\n",
      "\n",
      "video2_003-006-video2_003-007: overlap = 0.0\n",
      "\n",
      "video2_003-006-video2_003-007: overlap = 0.0\n",
      "\n",
      "video2_003-006-video2_003-007: overlap = 0.0\n",
      "\n",
      "video2_003-006-video2_003-007: overlap = 0.0\n",
      "\n",
      "video2_003-006-video2_003-007: overlap = 0.0\n"
     ]
    },
    {
     "name": "stderr",
     "output_type": "stream",
     "text": [
      "\r",
      " 37%|███▋      | 17/46 [00:31<01:30,  3.12s/it]"
     ]
    },
    {
     "name": "stdout",
     "output_type": "stream",
     "text": [
      "\n",
      "video2_003-006-video2_003-007: overlap = 0.0\n"
     ]
    },
    {
     "name": "stderr",
     "output_type": "stream",
     "text": [
      "\r",
      " 39%|███▉      | 18/46 [00:31<01:06,  2.37s/it]"
     ]
    },
    {
     "name": "stdout",
     "output_type": "stream",
     "text": [
      "\n",
      "mean_270619-video2_003-007_opened_cc54.png: too spherical 3.2351371719569135\n"
     ]
    },
    {
     "name": "stderr",
     "output_type": "stream",
     "text": [
      "\r",
      " 41%|████▏     | 19/46 [00:32<00:49,  1.85s/it]"
     ]
    },
    {
     "name": "stdout",
     "output_type": "stream",
     "text": [
      "\n",
      "mean_270619-video2_003-007_opened_cc65.png: too spherical 8.846537596141179\n",
      "\n",
      "mean_270619-video2_003-008_opened_cc09.png is INTERESTING\n",
      "\n",
      "video2_003-007-video2_003-008: overlap = 0.0\n"
     ]
    },
    {
     "name": "stderr",
     "output_type": "stream",
     "text": [
      "\r",
      " 43%|████▎     | 20/46 [00:34<00:47,  1.82s/it]"
     ]
    },
    {
     "name": "stdout",
     "output_type": "stream",
     "text": [
      "\n",
      "video2_003-007-video2_003-008: overlap = 0.0\n"
     ]
    },
    {
     "name": "stderr",
     "output_type": "stream",
     "text": [
      "\r",
      " 46%|████▌     | 21/46 [00:34<00:36,  1.45s/it]"
     ]
    },
    {
     "name": "stdout",
     "output_type": "stream",
     "text": [
      "\n",
      "mean_270619-video2_003-008_opened_cc15.png: too spherical 7.210005765560857\n"
     ]
    },
    {
     "name": "stderr",
     "output_type": "stream",
     "text": [
      "\r",
      " 48%|████▊     | 22/46 [00:35<00:28,  1.20s/it]"
     ]
    },
    {
     "name": "stdout",
     "output_type": "stream",
     "text": [
      "\n",
      "mean_270619-video2_003-008_opened_cc47.png: too spherical 3.008495086045375\n"
     ]
    },
    {
     "name": "stderr",
     "output_type": "stream",
     "text": [
      "\r",
      " 50%|█████     | 23/46 [00:36<00:24,  1.05s/it]"
     ]
    },
    {
     "name": "stdout",
     "output_type": "stream",
     "text": [
      "\n",
      "mean_270619-video2_003-008_opened_cc66.png: too spherical 3.1121642894078185\n",
      "\n",
      "mean_270619-video2_003-008_opened_cc89.png is INTERESTING\n",
      "\n",
      "video2_003-007-video2_003-008: overlap = 0.0\n"
     ]
    },
    {
     "name": "stderr",
     "output_type": "stream",
     "text": [
      "\r",
      " 52%|█████▏    | 24/46 [00:37<00:28,  1.28s/it]"
     ]
    },
    {
     "name": "stdout",
     "output_type": "stream",
     "text": [
      "\n",
      "video2_003-007-video2_003-008: overlap = 0.0\n"
     ]
    },
    {
     "name": "stderr",
     "output_type": "stream",
     "text": [
      "\r",
      " 54%|█████▍    | 25/46 [00:38<00:22,  1.08s/it]"
     ]
    },
    {
     "name": "stdout",
     "output_type": "stream",
     "text": [
      "\n",
      "mean_270619-video2_003-040_opened_cc04.png: too spherical 4.211346745250106\n"
     ]
    },
    {
     "name": "stderr",
     "output_type": "stream",
     "text": [
      "\r",
      " 57%|█████▋    | 26/46 [00:39<00:18,  1.07it/s]"
     ]
    },
    {
     "name": "stdout",
     "output_type": "stream",
     "text": [
      "\n",
      "mean_270619-video2_003-040_opened_cc05.png is INTERESTING\n"
     ]
    },
    {
     "name": "stderr",
     "output_type": "stream",
     "text": [
      "\r",
      " 59%|█████▊    | 27/46 [00:39<00:16,  1.18it/s]"
     ]
    },
    {
     "name": "stdout",
     "output_type": "stream",
     "text": [
      "\n",
      "mean_270619-video2_003-040_opened_cc06.png is INTERESTING\n"
     ]
    },
    {
     "name": "stderr",
     "output_type": "stream",
     "text": [
      "\r",
      " 61%|██████    | 28/46 [00:40<00:14,  1.27it/s]"
     ]
    },
    {
     "name": "stdout",
     "output_type": "stream",
     "text": [
      "\n",
      "mean_270619-video2_003-040_opened_cc10.png is INTERESTING\n"
     ]
    },
    {
     "name": "stderr",
     "output_type": "stream",
     "text": [
      "\r",
      " 63%|██████▎   | 29/46 [00:41<00:12,  1.37it/s]"
     ]
    },
    {
     "name": "stdout",
     "output_type": "stream",
     "text": [
      "\n",
      "mean_270619-video2_003-040_opened_cc49.png: too spherical 9.33243403197895\n",
      "\n",
      "mean_270619-video2_003-041_opened_cc04.png is INTERESTING\n",
      "\n",
      "video2_003-040-video2_003-041: overlap = 0.0\n",
      "\n",
      "video2_003-040-video2_003-041: overlap = 0.0\n"
     ]
    },
    {
     "name": "stderr",
     "output_type": "stream",
     "text": [
      "\r",
      " 65%|██████▌   | 30/46 [00:43<00:19,  1.21s/it]"
     ]
    },
    {
     "name": "stdout",
     "output_type": "stream",
     "text": [
      "\n",
      "video2_003-040-video2_003-041: overlap = 0.0\n",
      "\n",
      "mean_270619-video2_003-006_opened_cc07.png is INTERESTING\n",
      "\n",
      "video2_003-005-video2_003-006: overlap = 0.0\n"
     ]
    },
    {
     "name": "stderr",
     "output_type": "stream",
     "text": [
      "\r",
      " 67%|██████▋   | 31/46 [00:45<00:20,  1.38s/it]"
     ]
    },
    {
     "name": "stdout",
     "output_type": "stream",
     "text": [
      "\n",
      "video2_003-005-video2_003-006: overlap = 0.0\n"
     ]
    },
    {
     "name": "stderr",
     "output_type": "stream",
     "text": [
      "\r",
      " 70%|██████▉   | 32/46 [00:45<00:16,  1.15s/it]"
     ]
    },
    {
     "name": "stdout",
     "output_type": "stream",
     "text": [
      "\n",
      "mean_270619-video2_003-008_opened_cc03.png: too spherical 8.860086819856148\n"
     ]
    },
    {
     "name": "stderr",
     "output_type": "stream",
     "text": [
      "\r",
      " 72%|███████▏  | 33/46 [00:46<00:13,  1.01s/it]"
     ]
    },
    {
     "name": "stdout",
     "output_type": "stream",
     "text": [
      "\n",
      "mean_270619-video2_003-041_opened_cc05.png: too spherical 1.992805208562306\n",
      "\n",
      "mean_270619-video2_003-041_opened_cc08.png is INTERESTING\n",
      "\n",
      "video2_003-040-video2_003-041: overlap = 0.0\n",
      "\n",
      "video2_003-040-video2_003-041: overlap = 0.0\n"
     ]
    },
    {
     "name": "stderr",
     "output_type": "stream",
     "text": [
      "\r",
      " 74%|███████▍  | 34/46 [00:48<00:17,  1.42s/it]"
     ]
    },
    {
     "name": "stdout",
     "output_type": "stream",
     "text": [
      "\n",
      "video2_003-040-video2_003-041: overlap = 0.0\n",
      "\n",
      "mean_270619-video2_003-041_opened_cc17.png is INTERESTING\n",
      "\n",
      "video2_003-040-video2_003-041: overlap = 0.0\n",
      "\n",
      "video2_003-040-video2_003-041: overlap = 0.0\n"
     ]
    },
    {
     "name": "stderr",
     "output_type": "stream",
     "text": [
      "\r",
      " 76%|███████▌  | 35/46 [00:51<00:18,  1.69s/it]"
     ]
    },
    {
     "name": "stdout",
     "output_type": "stream",
     "text": [
      "\n",
      "video2_003-040-video2_003-041: overlap = 0.0\n"
     ]
    },
    {
     "name": "stderr",
     "output_type": "stream",
     "text": [
      "\r",
      " 78%|███████▊  | 36/46 [00:51<00:13,  1.38s/it]"
     ]
    },
    {
     "name": "stdout",
     "output_type": "stream",
     "text": [
      "\n",
      "mean_270619-video2_003-042_opened_cc05.png: too spherical 1.299486207744466\n",
      "\n",
      "mean_270619-video2_003-042_opened_cc06.png is INTERESTING\n",
      "\n",
      "video2_003-041-video2_003-042: overlap = 0.0\n",
      "\n",
      "video2_003-041-video2_003-042: overlap = 0.4035455278001612\n"
     ]
    },
    {
     "name": "stderr",
     "output_type": "stream",
     "text": [
      "\r",
      " 80%|████████  | 37/46 [00:54<00:15,  1.69s/it]"
     ]
    },
    {
     "name": "stdout",
     "output_type": "stream",
     "text": [
      "\n",
      "video2_003-041-video2_003-042: overlap = 0.0\n",
      "\n",
      "mean_270619-video2_003-042_opened_cc39.png is INTERESTING\n",
      "\n",
      "video2_003-041-video2_003-042: overlap = 0.0\n",
      "\n",
      "video2_003-041-video2_003-042: overlap = 0.0\n"
     ]
    },
    {
     "name": "stderr",
     "output_type": "stream",
     "text": [
      "\r",
      " 83%|████████▎ | 38/46 [00:56<00:15,  1.89s/it]"
     ]
    },
    {
     "name": "stdout",
     "output_type": "stream",
     "text": [
      "\n",
      "video2_003-041-video2_003-042: overlap = 0.0\n",
      "\n",
      "mean_270619-video2_003-043_opened_cc03.png is INTERESTING\n",
      "\n",
      "video2_003-042-video2_003-043: overlap = 0.0\n"
     ]
    },
    {
     "name": "stderr",
     "output_type": "stream",
     "text": [
      "\r",
      " 85%|████████▍ | 39/46 [00:58<00:12,  1.85s/it]"
     ]
    },
    {
     "name": "stdout",
     "output_type": "stream",
     "text": [
      "\n",
      "video2_003-042-video2_003-043: overlap = 0.0\n"
     ]
    },
    {
     "name": "stderr",
     "output_type": "stream",
     "text": [
      "\r",
      " 87%|████████▋ | 40/46 [00:59<00:09,  1.50s/it]"
     ]
    },
    {
     "name": "stdout",
     "output_type": "stream",
     "text": [
      "\n",
      "mean_270619-video2_003-043_opened_cc04.png: too spherical 7.544166074428864\n",
      "\n",
      "mean_270619-video2_003-043_opened_cc10.png is INTERESTING\n",
      "\n",
      "video2_003-042-video2_003-043: overlap = 0.0\n"
     ]
    },
    {
     "name": "stderr",
     "output_type": "stream",
     "text": [
      "\r",
      " 89%|████████▉ | 41/46 [01:00<00:08,  1.63s/it]"
     ]
    },
    {
     "name": "stdout",
     "output_type": "stream",
     "text": [
      "\n",
      "video2_003-042-video2_003-043: overlap = 0.0\n",
      "\n",
      "mean_270619-video2_003-043_opened_cc23.png is INTERESTING\n",
      "\n",
      "video2_003-042-video2_003-043: overlap = 0.0\n"
     ]
    },
    {
     "name": "stderr",
     "output_type": "stream",
     "text": [
      "\r",
      " 91%|█████████▏| 42/46 [01:02<00:06,  1.69s/it]"
     ]
    },
    {
     "name": "stdout",
     "output_type": "stream",
     "text": [
      "\n",
      "video2_003-042-video2_003-043: overlap = 0.0\n",
      "\n",
      "mean_270619-video2_003-043_opened_cc32.png is INTERESTING\n",
      "\n",
      "video2_003-042-video2_003-043: overlap = 0.0\n"
     ]
    },
    {
     "name": "stderr",
     "output_type": "stream",
     "text": [
      "\r",
      " 93%|█████████▎| 43/46 [01:04<00:05,  1.73s/it]"
     ]
    },
    {
     "name": "stdout",
     "output_type": "stream",
     "text": [
      "\n",
      "video2_003-042-video2_003-043: overlap = 0.0\n",
      "\n",
      "mean_270619-video2_003-043_opened_cc38.png is INTERESTING\n",
      "\n",
      "video2_003-042-video2_003-043: overlap = 0.0\n"
     ]
    },
    {
     "name": "stderr",
     "output_type": "stream",
     "text": [
      "\r",
      " 96%|█████████▌| 44/46 [01:06<00:03,  1.78s/it]"
     ]
    },
    {
     "name": "stdout",
     "output_type": "stream",
     "text": [
      "\n",
      "video2_003-042-video2_003-043: overlap = 0.0\n",
      "\n",
      "mean_270619-video2_003-043_opened_cc46.png is INTERESTING\n",
      "\n",
      "video2_003-042-video2_003-043: overlap = 0.0\n"
     ]
    },
    {
     "name": "stderr",
     "output_type": "stream",
     "text": [
      "\r",
      " 98%|█████████▊| 45/46 [01:08<00:01,  1.79s/it]"
     ]
    },
    {
     "name": "stdout",
     "output_type": "stream",
     "text": [
      "\n",
      "video2_003-042-video2_003-043: overlap = 0.0\n"
     ]
    },
    {
     "name": "stderr",
     "output_type": "stream",
     "text": [
      "100%|██████████| 46/46 [01:08<00:00,  1.43s/it]\n",
      "  0%|          | 0/43 [00:00<?, ?it/s]"
     ]
    },
    {
     "name": "stdout",
     "output_type": "stream",
     "text": [
      "\n",
      "mean_270619-video2_003-043_opened_cc61.png: too spherical 2.9240175119930782\n",
      "found video2_004/trigger_thr0.005_cl9_op3/cc_filtered_2den0.81_gausrad2.0/\n"
     ]
    },
    {
     "name": "stderr",
     "output_type": "stream",
     "text": [
      "\r",
      "  2%|▏         | 1/43 [00:00<00:30,  1.37it/s]"
     ]
    },
    {
     "name": "stdout",
     "output_type": "stream",
     "text": [
      "\n",
      "mean_270619-video2_004-001_opened_cc05.png is INTERESTING\n"
     ]
    },
    {
     "name": "stderr",
     "output_type": "stream",
     "text": [
      "\r",
      "  5%|▍         | 2/43 [00:01<00:28,  1.44it/s]"
     ]
    },
    {
     "name": "stdout",
     "output_type": "stream",
     "text": [
      "\n",
      "mean_270619-video2_004-001_opened_cc08.png: too spherical 6.974688467911011\n"
     ]
    },
    {
     "name": "stderr",
     "output_type": "stream",
     "text": [
      "\r",
      "  7%|▋         | 3/43 [00:02<00:27,  1.46it/s]"
     ]
    },
    {
     "name": "stdout",
     "output_type": "stream",
     "text": [
      "\n",
      "mean_270619-video2_004-001_opened_cc19.png: too spherical 4.559983919075375\n"
     ]
    },
    {
     "name": "stderr",
     "output_type": "stream",
     "text": [
      "\r",
      "  9%|▉         | 4/43 [00:02<00:25,  1.51it/s]"
     ]
    },
    {
     "name": "stdout",
     "output_type": "stream",
     "text": [
      "\n",
      "mean_270619-video2_004-001_opened_cc32.png: too spherical 1.5642399260368443\n"
     ]
    },
    {
     "name": "stderr",
     "output_type": "stream",
     "text": [
      "\r",
      " 12%|█▏        | 5/43 [00:03<00:24,  1.53it/s]"
     ]
    },
    {
     "name": "stdout",
     "output_type": "stream",
     "text": [
      "\n",
      "mean_270619-video2_004-001_opened_cc53.png: too spherical 3.3919849221303804\n"
     ]
    },
    {
     "name": "stderr",
     "output_type": "stream",
     "text": [
      "\r",
      " 14%|█▍        | 6/43 [00:03<00:23,  1.56it/s]"
     ]
    },
    {
     "name": "stdout",
     "output_type": "stream",
     "text": [
      "\n",
      "mean_270619-video2_004-001_opened_cc62.png is INTERESTING\n"
     ]
    },
    {
     "name": "stderr",
     "output_type": "stream",
     "text": [
      "\r",
      " 16%|█▋        | 7/43 [00:04<00:23,  1.55it/s]"
     ]
    },
    {
     "name": "stdout",
     "output_type": "stream",
     "text": [
      "\n",
      "mean_270619-video2_004-026_opened_cc02.png is INTERESTING\n"
     ]
    },
    {
     "name": "stderr",
     "output_type": "stream",
     "text": [
      "\r",
      " 19%|█▊        | 8/43 [00:05<00:22,  1.54it/s]"
     ]
    },
    {
     "name": "stdout",
     "output_type": "stream",
     "text": [
      "\n",
      "mean_270619-video2_004-026_opened_cc35.png: too spherical 9.769214554513237\n"
     ]
    },
    {
     "name": "stderr",
     "output_type": "stream",
     "text": [
      "\r",
      " 21%|██        | 9/43 [00:05<00:22,  1.55it/s]"
     ]
    },
    {
     "name": "stdout",
     "output_type": "stream",
     "text": [
      "\n",
      "mean_270619-video2_004-026_opened_cc37.png: too spherical 8.481492794639195\n"
     ]
    },
    {
     "name": "stderr",
     "output_type": "stream",
     "text": [
      "\r",
      " 23%|██▎       | 10/43 [00:06<00:21,  1.52it/s]"
     ]
    },
    {
     "name": "stdout",
     "output_type": "stream",
     "text": [
      "\n",
      "mean_270619-video2_004-026_opened_cc40.png: too spherical 1.4092193655819516\n"
     ]
    },
    {
     "name": "stderr",
     "output_type": "stream",
     "text": [
      "\r",
      " 26%|██▌       | 11/43 [00:07<00:20,  1.54it/s]"
     ]
    },
    {
     "name": "stdout",
     "output_type": "stream",
     "text": [
      "\n",
      "mean_270619-video2_004-026_opened_cc59.png: too spherical 1.6362123325640499\n"
     ]
    },
    {
     "name": "stderr",
     "output_type": "stream",
     "text": [
      "\r",
      " 28%|██▊       | 12/43 [00:07<00:19,  1.56it/s]"
     ]
    },
    {
     "name": "stdout",
     "output_type": "stream",
     "text": [
      "\n",
      "mean_270619-video2_004-030_opened_cc03.png: too spherical 7.506935628709233\n"
     ]
    },
    {
     "name": "stderr",
     "output_type": "stream",
     "text": [
      "\r",
      " 30%|███       | 13/43 [00:08<00:19,  1.55it/s]"
     ]
    },
    {
     "name": "stdout",
     "output_type": "stream",
     "text": [
      "\n",
      "mean_270619-video2_004-030_opened_cc08.png: too spherical 3.8745428468978638\n"
     ]
    },
    {
     "name": "stderr",
     "output_type": "stream",
     "text": [
      "\r",
      " 33%|███▎      | 14/43 [00:09<00:18,  1.56it/s]"
     ]
    },
    {
     "name": "stdout",
     "output_type": "stream",
     "text": [
      "\n",
      "mean_270619-video2_004-030_opened_cc15.png is INTERESTING\n"
     ]
    },
    {
     "name": "stderr",
     "output_type": "stream",
     "text": [
      "\r",
      " 35%|███▍      | 15/43 [00:09<00:17,  1.56it/s]"
     ]
    },
    {
     "name": "stdout",
     "output_type": "stream",
     "text": [
      "\n",
      "mean_270619-video2_004-030_opened_cc42.png is INTERESTING\n"
     ]
    },
    {
     "name": "stderr",
     "output_type": "stream",
     "text": [
      "\r",
      " 37%|███▋      | 16/43 [00:10<00:17,  1.56it/s]"
     ]
    },
    {
     "name": "stdout",
     "output_type": "stream",
     "text": [
      "\n",
      "mean_270619-video2_004-031_opened_cc11.png: too spherical 2.5286810661849937\n"
     ]
    },
    {
     "name": "stderr",
     "output_type": "stream",
     "text": [
      "\r",
      " 40%|███▉      | 17/43 [00:11<00:17,  1.45it/s]"
     ]
    },
    {
     "name": "stdout",
     "output_type": "stream",
     "text": [
      "\n",
      "mean_270619-video2_004-034_opened_cc03.png is INTERESTING\n"
     ]
    },
    {
     "name": "stderr",
     "output_type": "stream",
     "text": [
      "\r",
      " 42%|████▏     | 18/43 [00:11<00:16,  1.50it/s]"
     ]
    },
    {
     "name": "stdout",
     "output_type": "stream",
     "text": [
      "\n",
      "mean_270619-video2_004-034_opened_cc13.png: too spherical 5.3590874314270165\n"
     ]
    },
    {
     "name": "stderr",
     "output_type": "stream",
     "text": [
      "\r",
      " 44%|████▍     | 19/43 [00:12<00:15,  1.54it/s]"
     ]
    },
    {
     "name": "stdout",
     "output_type": "stream",
     "text": [
      "\n",
      "mean_270619-video2_004-034_opened_cc27.png is INTERESTING\n"
     ]
    },
    {
     "name": "stderr",
     "output_type": "stream",
     "text": [
      "\r",
      " 47%|████▋     | 20/43 [00:12<00:14,  1.56it/s]"
     ]
    },
    {
     "name": "stdout",
     "output_type": "stream",
     "text": [
      "\n",
      "mean_270619-video2_004-034_opened_cc44.png: too spherical 2.8258551094400675\n"
     ]
    },
    {
     "name": "stderr",
     "output_type": "stream",
     "text": [
      "\r",
      " 49%|████▉     | 21/43 [00:13<00:13,  1.58it/s]"
     ]
    },
    {
     "name": "stdout",
     "output_type": "stream",
     "text": [
      "\n",
      "mean_270619-video2_004-035_opened_cc05.png: too spherical 2.8369438312247426\n",
      "\n",
      "mean_270619-video2_004-035_opened_cc07.png is INTERESTING\n",
      "\n",
      "video2_004-034-video2_004-035: overlap = 0.24710596616206593\n"
     ]
    },
    {
     "name": "stderr",
     "output_type": "stream",
     "text": [
      "\r",
      " 51%|█████     | 22/43 [00:15<00:20,  1.01it/s]"
     ]
    },
    {
     "name": "stdout",
     "output_type": "stream",
     "text": [
      "\n",
      "video2_004-034-video2_004-035: overlap = 0.0\n"
     ]
    },
    {
     "name": "stderr",
     "output_type": "stream",
     "text": [
      "\r",
      " 53%|█████▎    | 23/43 [00:16<00:18,  1.10it/s]"
     ]
    },
    {
     "name": "stdout",
     "output_type": "stream",
     "text": [
      "\n",
      "mean_270619-video2_004-035_opened_cc11.png: too spherical 3.395578508349894\n"
     ]
    },
    {
     "name": "stderr",
     "output_type": "stream",
     "text": [
      "\r",
      " 56%|█████▌    | 24/43 [00:16<00:15,  1.19it/s]"
     ]
    },
    {
     "name": "stdout",
     "output_type": "stream",
     "text": [
      "\n",
      "mean_270619-video2_004-035_opened_cc18.png: too spherical 5.097215609746356\n"
     ]
    },
    {
     "name": "stderr",
     "output_type": "stream",
     "text": [
      "\r",
      " 58%|█████▊    | 25/43 [00:17<00:13,  1.29it/s]"
     ]
    },
    {
     "name": "stdout",
     "output_type": "stream",
     "text": [
      "\n",
      "mean_270619-video2_004-035_opened_cc32.png: too spherical 2.5355576129311337\n",
      "\n",
      "mean_270619-video2_004-035_opened_cc50.png is INTERESTING\n",
      "\n",
      "video2_004-034-video2_004-035: overlap = 0.0\n"
     ]
    },
    {
     "name": "stderr",
     "output_type": "stream",
     "text": [
      "\r",
      " 60%|██████    | 26/43 [00:19<00:18,  1.08s/it]"
     ]
    },
    {
     "name": "stdout",
     "output_type": "stream",
     "text": [
      "\n",
      "video2_004-034-video2_004-035: overlap = 0.0\n"
     ]
    },
    {
     "name": "stderr",
     "output_type": "stream",
     "text": [
      "\r",
      " 63%|██████▎   | 27/43 [00:19<00:15,  1.07it/s]"
     ]
    },
    {
     "name": "stdout",
     "output_type": "stream",
     "text": [
      "\n",
      "mean_270619-video2_004-036_opened_cc03.png: too spherical 3.051935123633024\n"
     ]
    },
    {
     "name": "stderr",
     "output_type": "stream",
     "text": [
      "\r",
      " 65%|██████▌   | 28/43 [00:20<00:12,  1.17it/s]"
     ]
    },
    {
     "name": "stdout",
     "output_type": "stream",
     "text": [
      "\n",
      "mean_270619-video2_004-036_opened_cc08.png: too spherical 6.327784412987579\n"
     ]
    },
    {
     "name": "stderr",
     "output_type": "stream",
     "text": [
      "\r",
      " 67%|██████▋   | 29/43 [00:21<00:11,  1.27it/s]"
     ]
    },
    {
     "name": "stdout",
     "output_type": "stream",
     "text": [
      "\n",
      "mean_270619-video2_004-036_opened_cc21.png: too spherical 3.392638081763092\n"
     ]
    },
    {
     "name": "stderr",
     "output_type": "stream",
     "text": [
      "\r",
      " 70%|██████▉   | 30/43 [00:21<00:09,  1.36it/s]"
     ]
    },
    {
     "name": "stdout",
     "output_type": "stream",
     "text": [
      "\n",
      "mean_270619-video2_004-036_opened_cc32.png: too spherical 2.1867039291620327\n"
     ]
    },
    {
     "name": "stderr",
     "output_type": "stream",
     "text": [
      "\r",
      " 72%|███████▏  | 31/43 [00:22<00:08,  1.42it/s]"
     ]
    },
    {
     "name": "stdout",
     "output_type": "stream",
     "text": [
      "\n",
      "mean_270619-video2_004-036_opened_cc38.png: too spherical 8.066494942823494\n"
     ]
    },
    {
     "name": "stderr",
     "output_type": "stream",
     "text": [
      "\r",
      " 74%|███████▍  | 32/43 [00:22<00:07,  1.46it/s]"
     ]
    },
    {
     "name": "stdout",
     "output_type": "stream",
     "text": [
      "\n",
      "mean_270619-video2_004-036_opened_cc53.png: too spherical 5.517389023516397\n"
     ]
    },
    {
     "name": "stderr",
     "output_type": "stream",
     "text": [
      "\r",
      " 77%|███████▋  | 33/43 [00:23<00:06,  1.47it/s]"
     ]
    },
    {
     "name": "stdout",
     "output_type": "stream",
     "text": [
      "\n",
      "mean_270619-video2_004-041_opened_cc02.png: too spherical 2.9456840533540234\n"
     ]
    },
    {
     "name": "stderr",
     "output_type": "stream",
     "text": [
      "\r",
      " 79%|███████▉  | 34/43 [00:24<00:05,  1.51it/s]"
     ]
    },
    {
     "name": "stdout",
     "output_type": "stream",
     "text": [
      "\n",
      "mean_270619-video2_004-041_opened_cc05.png is INTERESTING\n"
     ]
    },
    {
     "name": "stderr",
     "output_type": "stream",
     "text": [
      "\r",
      " 81%|████████▏ | 35/43 [00:24<00:05,  1.51it/s]"
     ]
    },
    {
     "name": "stdout",
     "output_type": "stream",
     "text": [
      "\n",
      "mean_270619-video2_004-041_opened_cc10.png is INTERESTING\n"
     ]
    },
    {
     "name": "stderr",
     "output_type": "stream",
     "text": [
      "\r",
      " 84%|████████▎ | 36/43 [00:25<00:04,  1.51it/s]"
     ]
    },
    {
     "name": "stdout",
     "output_type": "stream",
     "text": [
      "\n",
      "mean_270619-video2_004-041_opened_cc20.png: too spherical 9.971749472011151\n"
     ]
    },
    {
     "name": "stderr",
     "output_type": "stream",
     "text": [
      "\r",
      " 86%|████████▌ | 37/43 [00:26<00:04,  1.50it/s]"
     ]
    },
    {
     "name": "stdout",
     "output_type": "stream",
     "text": [
      "\n",
      "mean_270619-video2_004-041_opened_cc39.png is INTERESTING\n"
     ]
    },
    {
     "name": "stderr",
     "output_type": "stream",
     "text": [
      "\r",
      " 88%|████████▊ | 38/43 [00:26<00:03,  1.51it/s]"
     ]
    },
    {
     "name": "stdout",
     "output_type": "stream",
     "text": [
      "\n",
      "mean_270619-video2_004-042_opened_cc03.png: too spherical 4.379148744902544\n",
      "\n",
      "mean_270619-video2_004-042_opened_cc22.png is INTERESTING\n",
      "\n",
      "video2_004-041-video2_004-042: overlap = 0.0\n",
      "\n",
      "video2_004-041-video2_004-042: overlap = 0.0\n"
     ]
    },
    {
     "name": "stderr",
     "output_type": "stream",
     "text": [
      "\r",
      " 91%|█████████ | 39/43 [00:29<00:04,  1.20s/it]"
     ]
    },
    {
     "name": "stdout",
     "output_type": "stream",
     "text": [
      "\n",
      "video2_004-041-video2_004-042: overlap = 0.0\n"
     ]
    },
    {
     "name": "stderr",
     "output_type": "stream",
     "text": [
      "\r",
      " 93%|█████████▎| 40/43 [00:30<00:03,  1.06s/it]"
     ]
    },
    {
     "name": "stdout",
     "output_type": "stream",
     "text": [
      "\n",
      "mean_270619-video2_004-042_opened_cc37.png: too spherical 6.6532003723570075\n",
      "\n",
      "mean_270619-video2_004-042_opened_cc61.png is INTERESTING\n",
      "\n",
      "video2_004-041-video2_004-042: overlap = 0.0\n",
      "\n",
      "video2_004-041-video2_004-042: overlap = 0.0\n"
     ]
    },
    {
     "name": "stderr",
     "output_type": "stream",
     "text": [
      "\r",
      " 95%|█████████▌| 41/43 [00:32<00:02,  1.44s/it]"
     ]
    },
    {
     "name": "stdout",
     "output_type": "stream",
     "text": [
      "\n",
      "video2_004-041-video2_004-042: overlap = 0.0\n"
     ]
    },
    {
     "name": "stderr",
     "output_type": "stream",
     "text": [
      "\r",
      " 98%|█████████▊| 42/43 [00:33<00:01,  1.20s/it]"
     ]
    },
    {
     "name": "stdout",
     "output_type": "stream",
     "text": [
      "\n",
      "mean_270619-video2_004-026_opened_cc07.png is INTERESTING\n"
     ]
    },
    {
     "name": "stderr",
     "output_type": "stream",
     "text": [
      "100%|██████████| 43/43 [00:33<00:00,  1.03s/it]\n",
      "  0%|          | 0/35 [00:00<?, ?it/s]"
     ]
    },
    {
     "name": "stdout",
     "output_type": "stream",
     "text": [
      "\n",
      "mean_270619-video2_004-034_opened_cc15.png is INTERESTING\n",
      "found video2_005/trigger_thr0.005_cl9_op3/cc_filtered_2den0.81_gausrad2.0/\n"
     ]
    },
    {
     "name": "stderr",
     "output_type": "stream",
     "text": [
      "\r",
      "  3%|▎         | 1/35 [00:00<00:21,  1.58it/s]"
     ]
    },
    {
     "name": "stdout",
     "output_type": "stream",
     "text": [
      "\n",
      "mean_270619-video2_005-001_opened_cc02.png: too spherical 5.7749244006605815\n"
     ]
    },
    {
     "name": "stderr",
     "output_type": "stream",
     "text": [
      "\r",
      "  6%|▌         | 2/35 [00:01<00:21,  1.52it/s]"
     ]
    },
    {
     "name": "stdout",
     "output_type": "stream",
     "text": [
      "\n",
      "mean_270619-video2_005-001_opened_cc15.png: too spherical 5.094464812353211\n"
     ]
    },
    {
     "name": "stderr",
     "output_type": "stream",
     "text": [
      "\r",
      "  9%|▊         | 3/35 [00:01<00:20,  1.53it/s]"
     ]
    },
    {
     "name": "stdout",
     "output_type": "stream",
     "text": [
      "\n",
      "mean_270619-video2_005-001_opened_cc43.png: too spherical 2.773294786523098\n"
     ]
    },
    {
     "name": "stderr",
     "output_type": "stream",
     "text": [
      "\r",
      " 11%|█▏        | 4/35 [00:02<00:19,  1.55it/s]"
     ]
    },
    {
     "name": "stdout",
     "output_type": "stream",
     "text": [
      "\n",
      "mean_270619-video2_005-001_opened_cc51.png: too spherical 3.0587624976837797\n"
     ]
    },
    {
     "name": "stderr",
     "output_type": "stream",
     "text": [
      "\r",
      " 14%|█▍        | 5/35 [00:03<00:19,  1.57it/s]"
     ]
    },
    {
     "name": "stdout",
     "output_type": "stream",
     "text": [
      "\n",
      "mean_270619-video2_005-001_opened_cc56.png: too spherical 2.5072879916003963\n"
     ]
    },
    {
     "name": "stderr",
     "output_type": "stream",
     "text": [
      "\r",
      " 17%|█▋        | 6/35 [00:03<00:19,  1.52it/s]"
     ]
    },
    {
     "name": "stdout",
     "output_type": "stream",
     "text": [
      "\n",
      "mean_270619-video2_005-001_opened_cc57.png is INTERESTING\n"
     ]
    },
    {
     "name": "stderr",
     "output_type": "stream",
     "text": [
      "\r",
      " 20%|██        | 7/35 [00:04<00:18,  1.51it/s]"
     ]
    },
    {
     "name": "stdout",
     "output_type": "stream",
     "text": [
      "\n",
      "mean_270619-video2_005-001_opened_cc58.png is INTERESTING\n"
     ]
    },
    {
     "name": "stderr",
     "output_type": "stream",
     "text": [
      "\r",
      " 23%|██▎       | 8/35 [00:05<00:18,  1.47it/s]"
     ]
    },
    {
     "name": "stdout",
     "output_type": "stream",
     "text": [
      "\n",
      "mean_270619-video2_005-002_opened_cc24.png: too spherical 6.899166385479784\n"
     ]
    },
    {
     "name": "stderr",
     "output_type": "stream",
     "text": [
      "\r",
      " 26%|██▌       | 9/35 [00:05<00:17,  1.49it/s]"
     ]
    },
    {
     "name": "stdout",
     "output_type": "stream",
     "text": [
      "\n",
      "mean_270619-video2_005-002_opened_cc37.png: too spherical 7.051489240459692\n"
     ]
    },
    {
     "name": "stderr",
     "output_type": "stream",
     "text": [
      "\r",
      " 29%|██▊       | 10/35 [00:06<00:16,  1.50it/s]"
     ]
    },
    {
     "name": "stdout",
     "output_type": "stream",
     "text": [
      "\n",
      "mean_270619-video2_005-009_opened_cc03.png is INTERESTING\n"
     ]
    },
    {
     "name": "stderr",
     "output_type": "stream",
     "text": [
      "\r",
      " 31%|███▏      | 11/35 [00:07<00:15,  1.50it/s]"
     ]
    },
    {
     "name": "stdout",
     "output_type": "stream",
     "text": [
      "\n",
      "mean_270619-video2_005-009_opened_cc24.png: too spherical 4.290516383140072\n"
     ]
    },
    {
     "name": "stderr",
     "output_type": "stream",
     "text": [
      "\r",
      " 34%|███▍      | 12/35 [00:07<00:15,  1.52it/s]"
     ]
    },
    {
     "name": "stdout",
     "output_type": "stream",
     "text": [
      "\n",
      "mean_270619-video2_005-009_opened_cc31.png: too spherical 1.5755585553071614\n"
     ]
    },
    {
     "name": "stderr",
     "output_type": "stream",
     "text": [
      "\r",
      " 37%|███▋      | 13/35 [00:08<00:14,  1.53it/s]"
     ]
    },
    {
     "name": "stdout",
     "output_type": "stream",
     "text": [
      "\n",
      "mean_270619-video2_005-009_opened_cc32.png is INTERESTING\n"
     ]
    },
    {
     "name": "stderr",
     "output_type": "stream",
     "text": [
      "\r",
      " 40%|████      | 14/35 [00:09<00:13,  1.57it/s]"
     ]
    },
    {
     "name": "stdout",
     "output_type": "stream",
     "text": [
      "\n",
      "mean_270619-video2_005-009_opened_cc42.png is INTERESTING\n"
     ]
    },
    {
     "name": "stderr",
     "output_type": "stream",
     "text": [
      "\r",
      " 43%|████▎     | 15/35 [00:09<00:12,  1.57it/s]"
     ]
    },
    {
     "name": "stdout",
     "output_type": "stream",
     "text": [
      "\n",
      "mean_270619-video2_005-013_opened_cc16.png: too spherical 6.256585222032615\n"
     ]
    },
    {
     "name": "stderr",
     "output_type": "stream",
     "text": [
      "\r",
      " 46%|████▌     | 16/35 [00:10<00:12,  1.56it/s]"
     ]
    },
    {
     "name": "stdout",
     "output_type": "stream",
     "text": [
      "\n",
      "mean_270619-video2_005-013_opened_cc28.png is INTERESTING\n"
     ]
    },
    {
     "name": "stderr",
     "output_type": "stream",
     "text": [
      "\r",
      " 49%|████▊     | 17/35 [00:11<00:11,  1.57it/s]"
     ]
    },
    {
     "name": "stdout",
     "output_type": "stream",
     "text": [
      "\n",
      "mean_270619-video2_005-021_opened_cc02.png: too spherical 8.187140670977522\n"
     ]
    },
    {
     "name": "stderr",
     "output_type": "stream",
     "text": [
      "\r",
      " 51%|█████▏    | 18/35 [00:11<00:10,  1.55it/s]"
     ]
    },
    {
     "name": "stdout",
     "output_type": "stream",
     "text": [
      "\n",
      "mean_270619-video2_005-021_opened_cc03.png: too spherical 2.91088299320226\n"
     ]
    },
    {
     "name": "stderr",
     "output_type": "stream",
     "text": [
      "\r",
      " 54%|█████▍    | 19/35 [00:12<00:10,  1.58it/s]"
     ]
    },
    {
     "name": "stdout",
     "output_type": "stream",
     "text": [
      "\n",
      "mean_270619-video2_005-021_opened_cc24.png: too spherical 8.767073194018616\n"
     ]
    },
    {
     "name": "stderr",
     "output_type": "stream",
     "text": [
      "\r",
      " 57%|█████▋    | 20/35 [00:12<00:09,  1.59it/s]"
     ]
    },
    {
     "name": "stdout",
     "output_type": "stream",
     "text": [
      "\n",
      "mean_270619-video2_005-021_opened_cc47.png is INTERESTING\n"
     ]
    },
    {
     "name": "stderr",
     "output_type": "stream",
     "text": [
      "\r",
      " 60%|██████    | 21/35 [00:13<00:08,  1.60it/s]"
     ]
    },
    {
     "name": "stdout",
     "output_type": "stream",
     "text": [
      "\n",
      "mean_270619-video2_005-021_opened_cc51.png is INTERESTING\n"
     ]
    },
    {
     "name": "stderr",
     "output_type": "stream",
     "text": [
      "\r",
      " 63%|██████▎   | 22/35 [00:14<00:08,  1.61it/s]"
     ]
    },
    {
     "name": "stdout",
     "output_type": "stream",
     "text": [
      "\n",
      "mean_270619-video2_005-029_opened_cc16.png is INTERESTING\n"
     ]
    },
    {
     "name": "stderr",
     "output_type": "stream",
     "text": [
      "\r",
      " 66%|██████▌   | 23/35 [00:14<00:07,  1.56it/s]"
     ]
    },
    {
     "name": "stdout",
     "output_type": "stream",
     "text": [
      "\n",
      "mean_270619-video2_005-029_opened_cc27.png: too spherical 9.474200861145023\n"
     ]
    },
    {
     "name": "stderr",
     "output_type": "stream",
     "text": [
      "\r",
      " 69%|██████▊   | 24/35 [00:15<00:06,  1.57it/s]"
     ]
    },
    {
     "name": "stdout",
     "output_type": "stream",
     "text": [
      "\n",
      "mean_270619-video2_005-029_opened_cc31.png: too spherical 3.2827432305724478\n"
     ]
    },
    {
     "name": "stderr",
     "output_type": "stream",
     "text": [
      "\r",
      " 71%|███████▏  | 25/35 [00:16<00:06,  1.58it/s]"
     ]
    },
    {
     "name": "stdout",
     "output_type": "stream",
     "text": [
      "\n",
      "mean_270619-video2_005-029_opened_cc82.png is INTERESTING\n",
      "\n",
      "mean_270619-video2_005-030_opened_cc07.png is INTERESTING\n"
     ]
    },
    {
     "name": "stderr",
     "output_type": "stream",
     "text": [
      "\r",
      " 74%|███████▍  | 26/35 [00:17<00:07,  1.24it/s]"
     ]
    },
    {
     "name": "stdout",
     "output_type": "stream",
     "text": [
      "\n",
      "video2_005-029-video2_005-030: overlap = 0.6609547123623011\n",
      "\n",
      "mean_270619-video2_005-030_opened_cc13.png is INTERESTING\n"
     ]
    },
    {
     "name": "stderr",
     "output_type": "stream",
     "text": [
      "\r",
      " 77%|███████▋  | 27/35 [00:18<00:07,  1.07it/s]"
     ]
    },
    {
     "name": "stdout",
     "output_type": "stream",
     "text": [
      "\n",
      "video2_005-029-video2_005-030: overlap = 0.0\n"
     ]
    },
    {
     "name": "stderr",
     "output_type": "stream",
     "text": [
      "\r",
      " 80%|████████  | 28/35 [00:19<00:05,  1.18it/s]"
     ]
    },
    {
     "name": "stdout",
     "output_type": "stream",
     "text": [
      "\n",
      "mean_270619-video2_005-030_opened_cc19.png: too spherical 2.5529145695790625\n",
      "\n",
      "mean_270619-video2_005-030_opened_cc29.png is INTERESTING\n"
     ]
    },
    {
     "name": "stderr",
     "output_type": "stream",
     "text": [
      "\r",
      " 83%|████████▎ | 29/35 [00:20<00:05,  1.02it/s]"
     ]
    },
    {
     "name": "stdout",
     "output_type": "stream",
     "text": [
      "\n",
      "video2_005-029-video2_005-030: overlap = 0.0\n",
      "\n",
      "mean_270619-video2_005-030_opened_cc61.png is INTERESTING\n"
     ]
    },
    {
     "name": "stderr",
     "output_type": "stream",
     "text": [
      "\r",
      " 86%|████████▌ | 30/35 [00:21<00:05,  1.06s/it]"
     ]
    },
    {
     "name": "stdout",
     "output_type": "stream",
     "text": [
      "\n",
      "video2_005-029-video2_005-030: overlap = 0.495970695970696\n"
     ]
    },
    {
     "name": "stderr",
     "output_type": "stream",
     "text": [
      "\r",
      " 89%|████████▊ | 31/35 [00:22<00:03,  1.07it/s]"
     ]
    },
    {
     "name": "stdout",
     "output_type": "stream",
     "text": [
      "\n",
      "mean_270619-video2_005-040_opened_cc07.png is INTERESTING\n"
     ]
    },
    {
     "name": "stderr",
     "output_type": "stream",
     "text": [
      "\r",
      " 91%|█████████▏| 32/35 [00:23<00:02,  1.17it/s]"
     ]
    },
    {
     "name": "stdout",
     "output_type": "stream",
     "text": [
      "\n",
      "mean_270619-video2_005-040_opened_cc14.png is INTERESTING\n"
     ]
    },
    {
     "name": "stderr",
     "output_type": "stream",
     "text": [
      "\r",
      " 94%|█████████▍| 33/35 [00:23<00:01,  1.24it/s]"
     ]
    },
    {
     "name": "stdout",
     "output_type": "stream",
     "text": [
      "\n",
      "mean_270619-video2_005-040_opened_cc24.png is INTERESTING\n"
     ]
    },
    {
     "name": "stderr",
     "output_type": "stream",
     "text": [
      "\r",
      " 97%|█████████▋| 34/35 [00:24<00:00,  1.32it/s]"
     ]
    },
    {
     "name": "stdout",
     "output_type": "stream",
     "text": [
      "\n",
      "mean_270619-video2_005-001_opened_cc64.png: too spherical 3.219886417754613\n"
     ]
    },
    {
     "name": "stderr",
     "output_type": "stream",
     "text": [
      "100%|██████████| 35/35 [00:25<00:00,  1.39it/s]\n",
      "  0%|          | 0/28 [00:00<?, ?it/s]"
     ]
    },
    {
     "name": "stdout",
     "output_type": "stream",
     "text": [
      "\n",
      "mean_270619-video2_005-021_opened_cc10.png is INTERESTING\n",
      "found video2_006/trigger_thr0.005_cl9_op3/cc_filtered_2den0.81_gausrad2.0/\n"
     ]
    },
    {
     "name": "stderr",
     "output_type": "stream",
     "text": [
      "\r",
      "  4%|▎         | 1/28 [00:00<00:17,  1.56it/s]"
     ]
    },
    {
     "name": "stdout",
     "output_type": "stream",
     "text": [
      "\n",
      "mean_270619-video2_006-033_opened_cc18.png: too spherical 1.6370419649000243\n"
     ]
    },
    {
     "name": "stderr",
     "output_type": "stream",
     "text": [
      "\r",
      "  7%|▋         | 2/28 [00:01<00:16,  1.55it/s]"
     ]
    },
    {
     "name": "stdout",
     "output_type": "stream",
     "text": [
      "\n",
      "mean_270619-video2_006-005_opened_cc03.png: too spherical 4.457276272760965\n"
     ]
    },
    {
     "name": "stderr",
     "output_type": "stream",
     "text": [
      "\r",
      " 11%|█         | 3/28 [00:01<00:15,  1.57it/s]"
     ]
    },
    {
     "name": "stdout",
     "output_type": "stream",
     "text": [
      "\n",
      "mean_270619-video2_006-005_opened_cc18.png is INTERESTING\n"
     ]
    },
    {
     "name": "stderr",
     "output_type": "stream",
     "text": [
      "\r",
      " 14%|█▍        | 4/28 [00:02<00:15,  1.58it/s]"
     ]
    },
    {
     "name": "stdout",
     "output_type": "stream",
     "text": [
      "\n",
      "mean_270619-video2_006-006_opened_cc04.png: too spherical 2.068010300616091\n",
      "\n",
      "mean_270619-video2_006-006_opened_cc16.png is INTERESTING\n"
     ]
    },
    {
     "name": "stderr",
     "output_type": "stream",
     "text": [
      "\r",
      " 18%|█▊        | 5/28 [00:03<00:18,  1.23it/s]"
     ]
    },
    {
     "name": "stdout",
     "output_type": "stream",
     "text": [
      "\n",
      "video2_006-005-video2_006-006: overlap = 0.0\n",
      "\n",
      "mean_270619-video2_006-006_opened_cc20.png is INTERESTING\n"
     ]
    },
    {
     "name": "stderr",
     "output_type": "stream",
     "text": [
      "\r",
      " 21%|██▏       | 6/28 [00:04<00:20,  1.08it/s]"
     ]
    },
    {
     "name": "stdout",
     "output_type": "stream",
     "text": [
      "\n",
      "video2_006-005-video2_006-006: overlap = 0.0\n"
     ]
    },
    {
     "name": "stderr",
     "output_type": "stream",
     "text": [
      "\r",
      " 25%|██▌       | 7/28 [00:05<00:17,  1.20it/s]"
     ]
    },
    {
     "name": "stdout",
     "output_type": "stream",
     "text": [
      "\n",
      "mean_270619-video2_006-006_opened_cc41.png: too spherical 4.247419380450616\n",
      "\n",
      "mean_270619-video2_006-006_opened_cc45.png is INTERESTING\n"
     ]
    },
    {
     "name": "stderr",
     "output_type": "stream",
     "text": [
      "\r",
      " 29%|██▊       | 8/28 [00:06<00:18,  1.06it/s]"
     ]
    },
    {
     "name": "stdout",
     "output_type": "stream",
     "text": [
      "\n",
      "video2_006-005-video2_006-006: overlap = 0.3994856408058294\n"
     ]
    },
    {
     "name": "stderr",
     "output_type": "stream",
     "text": [
      "\r",
      " 32%|███▏      | 9/28 [00:07<00:16,  1.18it/s]"
     ]
    },
    {
     "name": "stdout",
     "output_type": "stream",
     "text": [
      "\n",
      "mean_270619-video2_006-006_opened_cc89.png: too spherical 2.370168483774635\n"
     ]
    },
    {
     "name": "stderr",
     "output_type": "stream",
     "text": [
      "\r",
      " 36%|███▌      | 10/28 [00:08<00:14,  1.27it/s]"
     ]
    },
    {
     "name": "stdout",
     "output_type": "stream",
     "text": [
      "\n",
      "mean_270619-video2_006-027_opened_cc02.png is INTERESTING\n"
     ]
    },
    {
     "name": "stderr",
     "output_type": "stream",
     "text": [
      "\r",
      " 39%|███▉      | 11/28 [00:08<00:12,  1.32it/s]"
     ]
    },
    {
     "name": "stdout",
     "output_type": "stream",
     "text": [
      "\n",
      "mean_270619-video2_006-027_opened_cc12.png is INTERESTING\n"
     ]
    },
    {
     "name": "stderr",
     "output_type": "stream",
     "text": [
      "\r",
      " 43%|████▎     | 12/28 [00:09<00:11,  1.38it/s]"
     ]
    },
    {
     "name": "stdout",
     "output_type": "stream",
     "text": [
      "\n",
      "mean_270619-video2_006-027_opened_cc51.png is INTERESTING\n"
     ]
    },
    {
     "name": "stderr",
     "output_type": "stream",
     "text": [
      "\r",
      " 46%|████▋     | 13/28 [00:10<00:10,  1.42it/s]"
     ]
    },
    {
     "name": "stdout",
     "output_type": "stream",
     "text": [
      "\n",
      "mean_270619-video2_006-027_opened_cc59.png: too spherical 3.5594891806018527\n"
     ]
    },
    {
     "name": "stderr",
     "output_type": "stream",
     "text": [
      "\r",
      " 50%|█████     | 14/28 [00:10<00:09,  1.43it/s]"
     ]
    },
    {
     "name": "stdout",
     "output_type": "stream",
     "text": [
      "\n",
      "mean_270619-video2_006-033_opened_cc03.png: too spherical 2.1377690774824436\n"
     ]
    },
    {
     "name": "stderr",
     "output_type": "stream",
     "text": [
      "\r",
      " 54%|█████▎    | 15/28 [00:11<00:08,  1.49it/s]"
     ]
    },
    {
     "name": "stdout",
     "output_type": "stream",
     "text": [
      "\n",
      "mean_270619-video2_006-033_opened_cc40.png is INTERESTING\n"
     ]
    },
    {
     "name": "stderr",
     "output_type": "stream",
     "text": [
      "\r",
      " 57%|█████▋    | 16/28 [00:11<00:07,  1.53it/s]"
     ]
    },
    {
     "name": "stdout",
     "output_type": "stream",
     "text": [
      "\n",
      "mean_270619-video2_006-033_opened_cc42.png is INTERESTING\n"
     ]
    },
    {
     "name": "stderr",
     "output_type": "stream",
     "text": [
      "\r",
      " 61%|██████    | 17/28 [00:12<00:07,  1.52it/s]"
     ]
    },
    {
     "name": "stdout",
     "output_type": "stream",
     "text": [
      "\n",
      "mean_270619-video2_006-034_opened_cc02.png: too spherical 8.58237456820914\n",
      "\n",
      "mean_270619-video2_006-034_opened_cc16.png is INTERESTING\n",
      "\n",
      "video2_006-033-video2_006-034: overlap = 0.0\n"
     ]
    },
    {
     "name": "stderr",
     "output_type": "stream",
     "text": [
      "\r",
      " 64%|██████▍   | 18/28 [00:14<00:10,  1.00s/it]"
     ]
    },
    {
     "name": "stdout",
     "output_type": "stream",
     "text": [
      "\n",
      "video2_006-033-video2_006-034: overlap = 0.0\n",
      "\n",
      "mean_270619-video2_006-034_opened_cc17.png is INTERESTING\n",
      "\n",
      "video2_006-033-video2_006-034: overlap = 0.0\n"
     ]
    },
    {
     "name": "stderr",
     "output_type": "stream",
     "text": [
      "\r",
      " 68%|██████▊   | 19/28 [00:16<00:11,  1.25s/it]"
     ]
    },
    {
     "name": "stdout",
     "output_type": "stream",
     "text": [
      "\n",
      "video2_006-033-video2_006-034: overlap = 0.0\n",
      "\n",
      "mean_270619-video2_006-035_opened_cc02.png is INTERESTING\n",
      "\n",
      "video2_006-034-video2_006-035: overlap = 0.0\n"
     ]
    },
    {
     "name": "stderr",
     "output_type": "stream",
     "text": [
      "\r",
      " 71%|███████▏  | 20/28 [00:18<00:11,  1.45s/it]"
     ]
    },
    {
     "name": "stdout",
     "output_type": "stream",
     "text": [
      "\n",
      "video2_006-034-video2_006-035: overlap = 0.0\n"
     ]
    },
    {
     "name": "stderr",
     "output_type": "stream",
     "text": [
      "\r",
      " 75%|███████▌  | 21/28 [00:18<00:08,  1.21s/it]"
     ]
    },
    {
     "name": "stdout",
     "output_type": "stream",
     "text": [
      "\n",
      "mean_270619-video2_006-035_opened_cc17.png: too spherical 9.540694086100652\n",
      "\n",
      "mean_270619-video2_006-036_opened_cc03.png is INTERESTING\n"
     ]
    },
    {
     "name": "stderr",
     "output_type": "stream",
     "text": [
      "\r",
      " 79%|███████▊  | 22/28 [00:20<00:07,  1.22s/it]"
     ]
    },
    {
     "name": "stdout",
     "output_type": "stream",
     "text": [
      "\n",
      "video2_006-035-video2_006-036: overlap = 0.8427352985186294\n"
     ]
    },
    {
     "name": "stderr",
     "output_type": "stream",
     "text": [
      "\r",
      " 82%|████████▏ | 23/28 [00:20<00:05,  1.04s/it]"
     ]
    },
    {
     "name": "stdout",
     "output_type": "stream",
     "text": [
      "\n",
      "mean_270619-video2_006-036_opened_cc18.png: too spherical 3.883191802581891\n"
     ]
    },
    {
     "name": "stderr",
     "output_type": "stream",
     "text": [
      "\r",
      " 86%|████████▌ | 24/28 [00:21<00:03,  1.08it/s]"
     ]
    },
    {
     "name": "stdout",
     "output_type": "stream",
     "text": [
      "\n",
      "mean_270619-video2_006-036_opened_cc31.png is INTERESTING\n"
     ]
    },
    {
     "name": "stderr",
     "output_type": "stream",
     "text": [
      "\r",
      " 89%|████████▉ | 25/28 [00:21<00:02,  1.21it/s]"
     ]
    },
    {
     "name": "stdout",
     "output_type": "stream",
     "text": [
      "\n",
      "mean_270619-video2_006-036_opened_cc33.png: too spherical 3.930726052903479\n"
     ]
    },
    {
     "name": "stderr",
     "output_type": "stream",
     "text": [
      "\r",
      " 93%|█████████▎| 26/28 [00:22<00:01,  1.30it/s]"
     ]
    },
    {
     "name": "stdout",
     "output_type": "stream",
     "text": [
      "\n",
      "mean_270619-video2_006-036_opened_cc35.png: too spherical 6.59802369584388\n"
     ]
    },
    {
     "name": "stderr",
     "output_type": "stream",
     "text": [
      "\r",
      " 96%|█████████▋| 27/28 [00:23<00:00,  1.38it/s]"
     ]
    },
    {
     "name": "stdout",
     "output_type": "stream",
     "text": [
      "\n",
      "mean_270619-video2_006-036_opened_cc45.png: too spherical 6.011467397801276\n"
     ]
    },
    {
     "name": "stderr",
     "output_type": "stream",
     "text": [
      "100%|██████████| 28/28 [00:23<00:00,  1.44it/s]\n",
      "  0%|          | 0/37 [00:00<?, ?it/s]"
     ]
    },
    {
     "name": "stdout",
     "output_type": "stream",
     "text": [
      "\n",
      "mean_270619-video2_006-036_opened_cc84.png is INTERESTING\n",
      "found video2_007/trigger_thr0.005_cl9_op3/cc_filtered_2den0.81_gausrad2.0/\n"
     ]
    },
    {
     "name": "stderr",
     "output_type": "stream",
     "text": [
      "\r",
      "  3%|▎         | 1/37 [00:00<00:22,  1.59it/s]"
     ]
    },
    {
     "name": "stdout",
     "output_type": "stream",
     "text": [
      "\n",
      "mean_270619-video2_007-006_opened_cc08.png: too spherical 2.2382389931465005\n"
     ]
    },
    {
     "name": "stderr",
     "output_type": "stream",
     "text": [
      "\r",
      "  5%|▌         | 2/37 [00:01<00:22,  1.59it/s]"
     ]
    },
    {
     "name": "stdout",
     "output_type": "stream",
     "text": [
      "\n",
      "mean_270619-video2_007-006_opened_cc09.png is INTERESTING\n"
     ]
    },
    {
     "name": "stderr",
     "output_type": "stream",
     "text": [
      "\r",
      "  8%|▊         | 3/37 [00:01<00:21,  1.60it/s]"
     ]
    },
    {
     "name": "stdout",
     "output_type": "stream",
     "text": [
      "\n",
      "mean_270619-video2_007-006_opened_cc11.png: too spherical 3.6631139932870878\n"
     ]
    },
    {
     "name": "stderr",
     "output_type": "stream",
     "text": [
      "\r",
      " 11%|█         | 4/37 [00:02<00:20,  1.61it/s]"
     ]
    },
    {
     "name": "stdout",
     "output_type": "stream",
     "text": [
      "\n",
      "mean_270619-video2_007-006_opened_cc17.png is INTERESTING\n"
     ]
    },
    {
     "name": "stderr",
     "output_type": "stream",
     "text": [
      "\r",
      " 14%|█▎        | 5/37 [00:03<00:19,  1.60it/s]"
     ]
    },
    {
     "name": "stdout",
     "output_type": "stream",
     "text": [
      "\n",
      "mean_270619-video2_007-006_opened_cc23.png: too spherical 1.2708124238389262\n"
     ]
    },
    {
     "name": "stderr",
     "output_type": "stream",
     "text": [
      "\r",
      " 16%|█▌        | 6/37 [00:03<00:19,  1.62it/s]"
     ]
    },
    {
     "name": "stdout",
     "output_type": "stream",
     "text": [
      "\n",
      "mean_270619-video2_007-006_opened_cc27.png is INTERESTING\n"
     ]
    },
    {
     "name": "stderr",
     "output_type": "stream",
     "text": [
      "\r",
      " 19%|█▉        | 7/37 [00:04<00:18,  1.59it/s]"
     ]
    },
    {
     "name": "stdout",
     "output_type": "stream",
     "text": [
      "\n",
      "mean_270619-video2_007-006_opened_cc42.png: too spherical 2.86921237575475\n"
     ]
    },
    {
     "name": "stderr",
     "output_type": "stream",
     "text": [
      "\r",
      " 22%|██▏       | 8/37 [00:05<00:18,  1.57it/s]"
     ]
    },
    {
     "name": "stdout",
     "output_type": "stream",
     "text": [
      "\n",
      "mean_270619-video2_007-006_opened_cc43.png: too spherical 5.740315083944177\n"
     ]
    },
    {
     "name": "stderr",
     "output_type": "stream",
     "text": [
      "\r",
      " 24%|██▍       | 9/37 [00:05<00:17,  1.59it/s]"
     ]
    },
    {
     "name": "stdout",
     "output_type": "stream",
     "text": [
      "\n",
      "mean_270619-video2_007-006_opened_cc45.png is INTERESTING\n"
     ]
    },
    {
     "name": "stderr",
     "output_type": "stream",
     "text": [
      "\r",
      " 27%|██▋       | 10/37 [00:06<00:16,  1.59it/s]"
     ]
    },
    {
     "name": "stdout",
     "output_type": "stream",
     "text": [
      "\n",
      "mean_270619-video2_007-006_opened_cc58.png: too spherical 6.69187908122899\n"
     ]
    },
    {
     "name": "stderr",
     "output_type": "stream",
     "text": [
      "\r",
      " 30%|██▉       | 11/37 [00:06<00:16,  1.59it/s]"
     ]
    },
    {
     "name": "stdout",
     "output_type": "stream",
     "text": [
      "\n",
      "mean_270619-video2_007-006_opened_cc66.png: too spherical 3.1188239879378923\n"
     ]
    },
    {
     "name": "stderr",
     "output_type": "stream",
     "text": [
      "\r",
      " 32%|███▏      | 12/37 [00:07<00:16,  1.55it/s]"
     ]
    },
    {
     "name": "stdout",
     "output_type": "stream",
     "text": [
      "\n",
      "mean_270619-video2_007-007_opened_cc07.png: too spherical 2.3654133899297127\n"
     ]
    },
    {
     "name": "stderr",
     "output_type": "stream",
     "text": [
      "\r",
      " 35%|███▌      | 13/37 [00:08<00:15,  1.54it/s]"
     ]
    },
    {
     "name": "stdout",
     "output_type": "stream",
     "text": [
      "\n",
      "mean_270619-video2_007-007_opened_cc11.png: too spherical 6.553453152440905\n",
      "\n",
      "mean_270619-video2_007-007_opened_cc12.png is INTERESTING\n"
     ]
    },
    {
     "name": "stderr",
     "output_type": "stream",
     "text": [
      "\r",
      " 38%|███▊      | 14/37 [00:09<00:18,  1.21it/s]"
     ]
    },
    {
     "name": "stdout",
     "output_type": "stream",
     "text": [
      "\n",
      "video2_007-006-video2_007-007: overlap = 0.6084129242023979\n"
     ]
    },
    {
     "name": "stderr",
     "output_type": "stream",
     "text": [
      "\r",
      " 41%|████      | 15/37 [00:10<00:16,  1.32it/s]"
     ]
    },
    {
     "name": "stdout",
     "output_type": "stream",
     "text": [
      "\n",
      "mean_270619-video2_007-007_opened_cc23.png: too spherical 8.470698887167616\n",
      "\n",
      "mean_270619-video2_007-007_opened_cc39.png is INTERESTING\n",
      "\n",
      "video2_007-006-video2_007-007: overlap = 0.0\n",
      "\n",
      "video2_007-006-video2_007-007: overlap = 0.0\n"
     ]
    },
    {
     "name": "stderr",
     "output_type": "stream",
     "text": [
      "\r",
      " 43%|████▎     | 16/37 [00:12<00:25,  1.24s/it]"
     ]
    },
    {
     "name": "stdout",
     "output_type": "stream",
     "text": [
      "\n",
      "video2_007-006-video2_007-007: overlap = 0.0\n",
      "\n",
      "mean_270619-video2_007-007_opened_cc57.png is INTERESTING\n",
      "\n",
      "video2_007-006-video2_007-007: overlap = 0.0\n",
      "\n",
      "video2_007-006-video2_007-007: overlap = 0.0\n"
     ]
    },
    {
     "name": "stderr",
     "output_type": "stream",
     "text": [
      "\r",
      " 46%|████▌     | 17/37 [00:14<00:31,  1.56s/it]"
     ]
    },
    {
     "name": "stdout",
     "output_type": "stream",
     "text": [
      "\n",
      "video2_007-006-video2_007-007: overlap = 0.0\n",
      "\n",
      "mean_270619-video2_007-007_opened_cc58.png is INTERESTING\n",
      "\n",
      "video2_007-006-video2_007-007: overlap = 0.0\n",
      "\n",
      "video2_007-006-video2_007-007: overlap = 0.0\n"
     ]
    },
    {
     "name": "stderr",
     "output_type": "stream",
     "text": [
      "\r",
      " 49%|████▊     | 18/37 [00:17<00:33,  1.79s/it]"
     ]
    },
    {
     "name": "stdout",
     "output_type": "stream",
     "text": [
      "\n",
      "video2_007-006-video2_007-007: overlap = 0.0\n"
     ]
    },
    {
     "name": "stderr",
     "output_type": "stream",
     "text": [
      "\r",
      " 51%|█████▏    | 19/37 [00:17<00:25,  1.43s/it]"
     ]
    },
    {
     "name": "stdout",
     "output_type": "stream",
     "text": [
      "\n",
      "mean_270619-video2_007-035_opened_cc05.png: too spherical 2.740128246295991\n"
     ]
    },
    {
     "name": "stderr",
     "output_type": "stream",
     "text": [
      "\r",
      " 54%|█████▍    | 20/37 [00:18<00:20,  1.20s/it]"
     ]
    },
    {
     "name": "stdout",
     "output_type": "stream",
     "text": [
      "\n",
      "mean_270619-video2_007-035_opened_cc12.png: too spherical 2.9430957601571355\n"
     ]
    },
    {
     "name": "stderr",
     "output_type": "stream",
     "text": [
      "\r",
      " 57%|█████▋    | 21/37 [00:18<00:16,  1.03s/it]"
     ]
    },
    {
     "name": "stdout",
     "output_type": "stream",
     "text": [
      "\n",
      "mean_270619-video2_007-035_opened_cc33.png: too spherical 9.324439961605908\n"
     ]
    },
    {
     "name": "stderr",
     "output_type": "stream",
     "text": [
      "\r",
      " 59%|█████▉    | 22/37 [00:19<00:13,  1.11it/s]"
     ]
    },
    {
     "name": "stdout",
     "output_type": "stream",
     "text": [
      "\n",
      "mean_270619-video2_007-036_opened_cc08.png is INTERESTING\n"
     ]
    },
    {
     "name": "stderr",
     "output_type": "stream",
     "text": [
      "\r",
      " 62%|██████▏   | 23/37 [00:20<00:11,  1.23it/s]"
     ]
    },
    {
     "name": "stdout",
     "output_type": "stream",
     "text": [
      "\n",
      "mean_270619-video2_007-036_opened_cc15.png: too spherical 2.4322937940266396\n"
     ]
    },
    {
     "name": "stderr",
     "output_type": "stream",
     "text": [
      "\r",
      " 65%|██████▍   | 24/37 [00:20<00:09,  1.30it/s]"
     ]
    },
    {
     "name": "stdout",
     "output_type": "stream",
     "text": [
      "\n",
      "mean_270619-video2_007-036_opened_cc21.png: too spherical 1.86249227906021\n"
     ]
    },
    {
     "name": "stderr",
     "output_type": "stream",
     "text": [
      "\r",
      " 68%|██████▊   | 25/37 [00:21<00:08,  1.36it/s]"
     ]
    },
    {
     "name": "stdout",
     "output_type": "stream",
     "text": [
      "\n",
      "mean_270619-video2_007-036_opened_cc28.png: too spherical 5.4767648918493075\n"
     ]
    },
    {
     "name": "stderr",
     "output_type": "stream",
     "text": [
      "\r",
      " 70%|███████   | 26/37 [00:22<00:07,  1.43it/s]"
     ]
    },
    {
     "name": "stdout",
     "output_type": "stream",
     "text": [
      "\n",
      "mean_270619-video2_007-036_opened_cc44.png: too spherical 2.010074757867788\n"
     ]
    },
    {
     "name": "stderr",
     "output_type": "stream",
     "text": [
      "\r",
      " 73%|███████▎  | 27/37 [00:22<00:06,  1.48it/s]"
     ]
    },
    {
     "name": "stdout",
     "output_type": "stream",
     "text": [
      "\n",
      "mean_270619-video2_007-036_opened_cc48.png is INTERESTING\n"
     ]
    },
    {
     "name": "stderr",
     "output_type": "stream",
     "text": [
      "\r",
      " 76%|███████▌  | 28/37 [00:23<00:05,  1.51it/s]"
     ]
    },
    {
     "name": "stdout",
     "output_type": "stream",
     "text": [
      "\n",
      "mean_270619-video2_007-036_opened_cc55.png: too spherical 8.293687643710713\n",
      "\n",
      "mean_270619-video2_007-037_opened_cc08.png is INTERESTING\n",
      "\n",
      "video2_007-036-video2_007-037: overlap = 0.0\n"
     ]
    },
    {
     "name": "stderr",
     "output_type": "stream",
     "text": [
      "\r",
      " 78%|███████▊  | 29/37 [00:25<00:08,  1.01s/it]"
     ]
    },
    {
     "name": "stdout",
     "output_type": "stream",
     "text": [
      "\n",
      "video2_007-036-video2_007-037: overlap = 0.0\n"
     ]
    },
    {
     "name": "stderr",
     "output_type": "stream",
     "text": [
      "\r",
      " 81%|████████  | 30/37 [00:25<00:06,  1.12it/s]"
     ]
    },
    {
     "name": "stdout",
     "output_type": "stream",
     "text": [
      "\n",
      "mean_270619-video2_007-037_opened_cc27.png: too spherical 4.003173326614964\n"
     ]
    },
    {
     "name": "stderr",
     "output_type": "stream",
     "text": [
      "\r",
      " 84%|████████▍ | 31/37 [00:26<00:04,  1.23it/s]"
     ]
    },
    {
     "name": "stdout",
     "output_type": "stream",
     "text": [
      "\n",
      "mean_270619-video2_007-037_opened_cc33.png: too spherical 1.969782502486944\n"
     ]
    },
    {
     "name": "stderr",
     "output_type": "stream",
     "text": [
      "\r",
      " 86%|████████▋ | 32/37 [00:27<00:03,  1.33it/s]"
     ]
    },
    {
     "name": "stdout",
     "output_type": "stream",
     "text": [
      "\n",
      "mean_270619-video2_007-037_opened_cc52.png: too spherical 4.043940279485868\n"
     ]
    },
    {
     "name": "stderr",
     "output_type": "stream",
     "text": [
      "\r",
      " 89%|████████▉ | 33/37 [00:27<00:02,  1.40it/s]"
     ]
    },
    {
     "name": "stdout",
     "output_type": "stream",
     "text": [
      "\n",
      "mean_270619-video2_007-037_opened_cc65.png: too spherical 7.954410508058826\n"
     ]
    },
    {
     "name": "stderr",
     "output_type": "stream",
     "text": [
      "\r",
      " 92%|█████████▏| 34/37 [00:28<00:02,  1.43it/s]"
     ]
    },
    {
     "name": "stdout",
     "output_type": "stream",
     "text": [
      "\n",
      "mean_270619-video2_007-048_opened_cc24.png: too spherical 1.5096631489241013\n"
     ]
    },
    {
     "name": "stderr",
     "output_type": "stream",
     "text": [
      "\r",
      " 95%|█████████▍| 35/37 [00:28<00:01,  1.47it/s]"
     ]
    },
    {
     "name": "stdout",
     "output_type": "stream",
     "text": [
      "\n",
      "mean_270619-video2_007-048_opened_cc46.png is INTERESTING\n"
     ]
    },
    {
     "name": "stderr",
     "output_type": "stream",
     "text": [
      "\r",
      " 97%|█████████▋| 36/37 [00:29<00:00,  1.51it/s]"
     ]
    },
    {
     "name": "stdout",
     "output_type": "stream",
     "text": [
      "\n",
      "mean_270619-video2_007-006_opened_cc49.png: too spherical 9.892631035739873\n"
     ]
    },
    {
     "name": "stderr",
     "output_type": "stream",
     "text": [
      "100%|██████████| 37/37 [00:30<00:00,  1.53it/s]\n",
      "  0%|          | 0/48 [00:00<?, ?it/s]"
     ]
    },
    {
     "name": "stdout",
     "output_type": "stream",
     "text": [
      "\n",
      "mean_270619-video2_007-035_opened_cc30.png is INTERESTING\n",
      "found video2_008/trigger_thr0.005_cl9_op3/cc_filtered_2den0.81_gausrad2.0/\n"
     ]
    },
    {
     "name": "stderr",
     "output_type": "stream",
     "text": [
      "\r",
      "  2%|▏         | 1/48 [00:00<00:33,  1.41it/s]"
     ]
    },
    {
     "name": "stdout",
     "output_type": "stream",
     "text": [
      "\n",
      "mean_270619-video2_008-001_opened_cc17.png: too spherical 3.3978702995749672\n"
     ]
    },
    {
     "name": "stderr",
     "output_type": "stream",
     "text": [
      "\r",
      "  4%|▍         | 2/48 [00:01<00:32,  1.41it/s]"
     ]
    },
    {
     "name": "stdout",
     "output_type": "stream",
     "text": [
      "\n",
      "mean_270619-video2_008-002_opened_cc24.png: too spherical 4.341792746044707\n"
     ]
    },
    {
     "name": "stderr",
     "output_type": "stream",
     "text": [
      "\r",
      "  6%|▋         | 3/48 [00:02<00:30,  1.45it/s]"
     ]
    },
    {
     "name": "stdout",
     "output_type": "stream",
     "text": [
      "\n",
      "mean_270619-video2_008-002_opened_cc38.png: too spherical 4.4970878230765505\n"
     ]
    },
    {
     "name": "stderr",
     "output_type": "stream",
     "text": [
      "\r",
      "  8%|▊         | 4/48 [00:02<00:29,  1.50it/s]"
     ]
    },
    {
     "name": "stdout",
     "output_type": "stream",
     "text": [
      "\n",
      "mean_270619-video2_008-002_opened_cc42.png: too spherical 7.4734093721653485\n"
     ]
    },
    {
     "name": "stderr",
     "output_type": "stream",
     "text": [
      "\r",
      " 10%|█         | 5/48 [00:03<00:28,  1.52it/s]"
     ]
    },
    {
     "name": "stdout",
     "output_type": "stream",
     "text": [
      "\n",
      "mean_270619-video2_008-002_opened_cc44.png is INTERESTING\n"
     ]
    },
    {
     "name": "stderr",
     "output_type": "stream",
     "text": [
      "\r",
      " 12%|█▎        | 6/48 [00:03<00:27,  1.55it/s]"
     ]
    },
    {
     "name": "stdout",
     "output_type": "stream",
     "text": [
      "\n",
      "mean_270619-video2_008-002_opened_cc70.png is INTERESTING\n"
     ]
    },
    {
     "name": "stderr",
     "output_type": "stream",
     "text": [
      "\r",
      " 15%|█▍        | 7/48 [00:04<00:26,  1.55it/s]"
     ]
    },
    {
     "name": "stdout",
     "output_type": "stream",
     "text": [
      "\n",
      "mean_270619-video2_008-003_opened_cc17.png: too spherical 3.4683712491828294\n"
     ]
    },
    {
     "name": "stderr",
     "output_type": "stream",
     "text": [
      "\r",
      " 17%|█▋        | 8/48 [00:05<00:25,  1.56it/s]"
     ]
    },
    {
     "name": "stdout",
     "output_type": "stream",
     "text": [
      "\n",
      "mean_270619-video2_008-003_opened_cc41.png: too spherical 4.972151895074777\n"
     ]
    },
    {
     "name": "stderr",
     "output_type": "stream",
     "text": [
      "\r",
      " 19%|█▉        | 9/48 [00:05<00:25,  1.52it/s]"
     ]
    },
    {
     "name": "stdout",
     "output_type": "stream",
     "text": [
      "\n",
      "mean_270619-video2_008-004_opened_cc11.png: too spherical 2.6087807405666648\n"
     ]
    },
    {
     "name": "stderr",
     "output_type": "stream",
     "text": [
      "\r",
      " 21%|██        | 10/48 [00:06<00:24,  1.55it/s]"
     ]
    },
    {
     "name": "stdout",
     "output_type": "stream",
     "text": [
      "\n",
      "mean_270619-video2_008-004_opened_cc116.png is INTERESTING\n"
     ]
    },
    {
     "name": "stderr",
     "output_type": "stream",
     "text": [
      "\r",
      " 23%|██▎       | 11/48 [00:07<00:23,  1.58it/s]"
     ]
    },
    {
     "name": "stdout",
     "output_type": "stream",
     "text": [
      "\n",
      "mean_270619-video2_008-004_opened_cc28.png: too spherical 2.8736371671597998\n"
     ]
    },
    {
     "name": "stderr",
     "output_type": "stream",
     "text": [
      "\r",
      " 25%|██▌       | 12/48 [00:07<00:22,  1.60it/s]"
     ]
    },
    {
     "name": "stdout",
     "output_type": "stream",
     "text": [
      "\n",
      "mean_270619-video2_008-004_opened_cc35.png: too spherical 2.8880519466969243\n"
     ]
    },
    {
     "name": "stderr",
     "output_type": "stream",
     "text": [
      "\r",
      " 27%|██▋       | 13/48 [00:08<00:22,  1.59it/s]"
     ]
    },
    {
     "name": "stdout",
     "output_type": "stream",
     "text": [
      "\n",
      "mean_270619-video2_008-004_opened_cc43.png is INTERESTING\n"
     ]
    },
    {
     "name": "stderr",
     "output_type": "stream",
     "text": [
      "\r",
      " 29%|██▉       | 14/48 [00:08<00:21,  1.59it/s]"
     ]
    },
    {
     "name": "stdout",
     "output_type": "stream",
     "text": [
      "\n",
      "mean_270619-video2_008-004_opened_cc57.png: too spherical 4.206684113347683\n"
     ]
    },
    {
     "name": "stderr",
     "output_type": "stream",
     "text": [
      "\r",
      " 31%|███▏      | 15/48 [00:09<00:20,  1.61it/s]"
     ]
    },
    {
     "name": "stdout",
     "output_type": "stream",
     "text": [
      "\n",
      "mean_270619-video2_008-004_opened_cc58.png is INTERESTING\n"
     ]
    },
    {
     "name": "stderr",
     "output_type": "stream",
     "text": [
      "\r",
      " 33%|███▎      | 16/48 [00:10<00:19,  1.62it/s]"
     ]
    },
    {
     "name": "stdout",
     "output_type": "stream",
     "text": [
      "\n",
      "mean_270619-video2_008-004_opened_cc85.png: too spherical 4.20995591311665\n",
      "\n",
      "mean_270619-video2_008-005_opened_cc06.png is INTERESTING\n",
      "\n",
      "video2_008-004-video2_008-005: overlap = 0.0\n",
      "\n",
      "video2_008-004-video2_008-005: overlap = 0.0\n"
     ]
    },
    {
     "name": "stderr",
     "output_type": "stream",
     "text": [
      "\r",
      " 35%|███▌      | 17/48 [00:12<00:35,  1.13s/it]"
     ]
    },
    {
     "name": "stdout",
     "output_type": "stream",
     "text": [
      "\n",
      "video2_008-004-video2_008-005: overlap = 0.0\n",
      "\n",
      "mean_270619-video2_008-005_opened_cc45.png is INTERESTING\n",
      "\n",
      "video2_008-004-video2_008-005: overlap = 0.0\n",
      "\n",
      "video2_008-004-video2_008-005: overlap = 0.320855614973262\n"
     ]
    },
    {
     "name": "stderr",
     "output_type": "stream",
     "text": [
      "\r",
      " 38%|███▊      | 18/48 [00:14<00:45,  1.50s/it]"
     ]
    },
    {
     "name": "stdout",
     "output_type": "stream",
     "text": [
      "\n",
      "video2_008-004-video2_008-005: overlap = 0.0\n"
     ]
    },
    {
     "name": "stderr",
     "output_type": "stream",
     "text": [
      "\r",
      " 40%|███▉      | 19/48 [00:15<00:36,  1.26s/it]"
     ]
    },
    {
     "name": "stdout",
     "output_type": "stream",
     "text": [
      "\n",
      "mean_270619-video2_008-011_opened_cc04.png: too spherical 6.188426998044078\n"
     ]
    },
    {
     "name": "stderr",
     "output_type": "stream",
     "text": [
      "\r",
      " 42%|████▏     | 20/48 [00:16<00:30,  1.08s/it]"
     ]
    },
    {
     "name": "stdout",
     "output_type": "stream",
     "text": [
      "\n",
      "mean_270619-video2_008-011_opened_cc05.png: too spherical 1.8117380886620362\n"
     ]
    },
    {
     "name": "stderr",
     "output_type": "stream",
     "text": [
      "\r",
      " 44%|████▍     | 21/48 [00:16<00:25,  1.05it/s]"
     ]
    },
    {
     "name": "stdout",
     "output_type": "stream",
     "text": [
      "\n",
      "mean_270619-video2_008-011_opened_cc51.png: too spherical 3.2161602211800955\n"
     ]
    },
    {
     "name": "stderr",
     "output_type": "stream",
     "text": [
      "\r",
      " 46%|████▌     | 22/48 [00:17<00:22,  1.17it/s]"
     ]
    },
    {
     "name": "stdout",
     "output_type": "stream",
     "text": [
      "\n",
      "mean_270619-video2_008-011_opened_cc55.png is INTERESTING\n"
     ]
    },
    {
     "name": "stderr",
     "output_type": "stream",
     "text": [
      "\r",
      " 48%|████▊     | 23/48 [00:18<00:19,  1.27it/s]"
     ]
    },
    {
     "name": "stdout",
     "output_type": "stream",
     "text": [
      "\n",
      "mean_270619-video2_008-011_opened_cc70.png is INTERESTING\n"
     ]
    },
    {
     "name": "stderr",
     "output_type": "stream",
     "text": [
      "\r",
      " 50%|█████     | 24/48 [00:18<00:17,  1.34it/s]"
     ]
    },
    {
     "name": "stdout",
     "output_type": "stream",
     "text": [
      "\n",
      "mean_270619-video2_008-012_opened_cc03.png: too spherical 2.2883378922796203\n"
     ]
    },
    {
     "name": "stderr",
     "output_type": "stream",
     "text": [
      "\r",
      " 52%|█████▏    | 25/48 [00:19<00:17,  1.35it/s]"
     ]
    },
    {
     "name": "stdout",
     "output_type": "stream",
     "text": [
      "\n",
      "mean_270619-video2_008-012_opened_cc07.png: too spherical 3.880161382745908\n"
     ]
    },
    {
     "name": "stderr",
     "output_type": "stream",
     "text": [
      "\r",
      " 54%|█████▍    | 26/48 [00:20<00:15,  1.41it/s]"
     ]
    },
    {
     "name": "stdout",
     "output_type": "stream",
     "text": [
      "\n",
      "mean_270619-video2_008-012_opened_cc17.png: too spherical 5.221310113214375\n"
     ]
    },
    {
     "name": "stderr",
     "output_type": "stream",
     "text": [
      "\r",
      " 56%|█████▋    | 27/48 [00:20<00:14,  1.47it/s]"
     ]
    },
    {
     "name": "stdout",
     "output_type": "stream",
     "text": [
      "\n",
      "mean_270619-video2_008-012_opened_cc34.png: too spherical 6.625910722704522\n"
     ]
    },
    {
     "name": "stderr",
     "output_type": "stream",
     "text": [
      "\r",
      " 58%|█████▊    | 28/48 [00:21<00:13,  1.50it/s]"
     ]
    },
    {
     "name": "stdout",
     "output_type": "stream",
     "text": [
      "\n",
      "mean_270619-video2_008-012_opened_cc45.png: too spherical 4.253996703627043\n"
     ]
    },
    {
     "name": "stderr",
     "output_type": "stream",
     "text": [
      "\r",
      " 60%|██████    | 29/48 [00:22<00:12,  1.54it/s]"
     ]
    },
    {
     "name": "stdout",
     "output_type": "stream",
     "text": [
      "\n",
      "mean_270619-video2_008-012_opened_cc62.png: too spherical 4.547050282302043\n"
     ]
    },
    {
     "name": "stderr",
     "output_type": "stream",
     "text": [
      "\r",
      " 62%|██████▎   | 30/48 [00:22<00:11,  1.54it/s]"
     ]
    },
    {
     "name": "stdout",
     "output_type": "stream",
     "text": [
      "\n",
      "mean_270619-video2_008-003_opened_cc29.png: too spherical 8.512157230342275\n",
      "\n",
      "mean_270619-video2_008-005_opened_cc79.png is INTERESTING\n"
     ]
    },
    {
     "name": "stderr",
     "output_type": "stream",
     "text": [
      "\r",
      " 65%|██████▍   | 31/48 [00:23<00:13,  1.23it/s]"
     ]
    },
    {
     "name": "stdout",
     "output_type": "stream",
     "text": [
      "\n",
      "video2_008-004-video2_008-005: overlap = 0.6284796573875804\n"
     ]
    },
    {
     "name": "stderr",
     "output_type": "stream",
     "text": [
      "\r",
      " 67%|██████▋   | 32/48 [00:24<00:12,  1.28it/s]"
     ]
    },
    {
     "name": "stdout",
     "output_type": "stream",
     "text": [
      "\n",
      "mean_270619-video2_008-013_opened_cc01.png: too spherical 7.3190392794212835\n"
     ]
    },
    {
     "name": "stderr",
     "output_type": "stream",
     "text": [
      "\r",
      " 69%|██████▉   | 33/48 [00:25<00:11,  1.34it/s]"
     ]
    },
    {
     "name": "stdout",
     "output_type": "stream",
     "text": [
      "\n",
      "mean_270619-video2_008-013_opened_cc04.png: too spherical 6.190799285749345\n"
     ]
    },
    {
     "name": "stderr",
     "output_type": "stream",
     "text": [
      "\r",
      " 71%|███████   | 34/48 [00:25<00:09,  1.43it/s]"
     ]
    },
    {
     "name": "stdout",
     "output_type": "stream",
     "text": [
      "\n",
      "mean_270619-video2_008-013_opened_cc11.png: too spherical 7.9829017368537265\n"
     ]
    },
    {
     "name": "stderr",
     "output_type": "stream",
     "text": [
      "\r",
      " 73%|███████▎  | 35/48 [00:26<00:08,  1.48it/s]"
     ]
    },
    {
     "name": "stdout",
     "output_type": "stream",
     "text": [
      "\n",
      "mean_270619-video2_008-013_opened_cc32.png: too spherical 6.47707595455535\n"
     ]
    },
    {
     "name": "stderr",
     "output_type": "stream",
     "text": [
      "\r",
      " 75%|███████▌  | 36/48 [00:27<00:07,  1.52it/s]"
     ]
    },
    {
     "name": "stdout",
     "output_type": "stream",
     "text": [
      "\n",
      "mean_270619-video2_008-013_opened_cc37.png: too spherical 6.331099985074288\n"
     ]
    },
    {
     "name": "stderr",
     "output_type": "stream",
     "text": [
      "\r",
      " 77%|███████▋  | 37/48 [00:27<00:07,  1.54it/s]"
     ]
    },
    {
     "name": "stdout",
     "output_type": "stream",
     "text": [
      "\n",
      "mean_270619-video2_008-013_opened_cc59.png: too spherical 1.3091814105064536\n"
     ]
    },
    {
     "name": "stderr",
     "output_type": "stream",
     "text": [
      "\r",
      " 79%|███████▉  | 38/48 [00:28<00:06,  1.57it/s]"
     ]
    },
    {
     "name": "stdout",
     "output_type": "stream",
     "text": [
      "\n",
      "mean_270619-video2_008-013_opened_cc71.png: too spherical 2.311105211155934\n"
     ]
    },
    {
     "name": "stderr",
     "output_type": "stream",
     "text": [
      "\r",
      " 81%|████████▏ | 39/48 [00:28<00:05,  1.58it/s]"
     ]
    },
    {
     "name": "stdout",
     "output_type": "stream",
     "text": [
      "\n",
      "mean_270619-video2_008-013_opened_cc75.png is INTERESTING\n"
     ]
    },
    {
     "name": "stderr",
     "output_type": "stream",
     "text": [
      "\r",
      " 83%|████████▎ | 40/48 [00:29<00:05,  1.60it/s]"
     ]
    },
    {
     "name": "stdout",
     "output_type": "stream",
     "text": [
      "\n",
      "mean_270619-video2_008-013_opened_cc92.png is INTERESTING\n"
     ]
    },
    {
     "name": "stderr",
     "output_type": "stream",
     "text": [
      "\r",
      " 85%|████████▌ | 41/48 [00:30<00:04,  1.57it/s]"
     ]
    },
    {
     "name": "stdout",
     "output_type": "stream",
     "text": [
      "\n",
      "mean_270619-video2_008-014_opened_cc11.png: too spherical 4.846542400212201\n"
     ]
    },
    {
     "name": "stderr",
     "output_type": "stream",
     "text": [
      "\r",
      " 88%|████████▊ | 42/48 [00:30<00:03,  1.56it/s]"
     ]
    },
    {
     "name": "stdout",
     "output_type": "stream",
     "text": [
      "\n",
      "mean_270619-video2_008-014_opened_cc16.png: too spherical 3.569072792448525\n"
     ]
    },
    {
     "name": "stderr",
     "output_type": "stream",
     "text": [
      "\r",
      " 90%|████████▉ | 43/48 [00:31<00:03,  1.56it/s]"
     ]
    },
    {
     "name": "stdout",
     "output_type": "stream",
     "text": [
      "\n",
      "mean_270619-video2_008-015_opened_cc12.png: too spherical 7.296277464362657\n"
     ]
    },
    {
     "name": "stderr",
     "output_type": "stream",
     "text": [
      "\r",
      " 92%|█████████▏| 44/48 [00:32<00:02,  1.53it/s]"
     ]
    },
    {
     "name": "stdout",
     "output_type": "stream",
     "text": [
      "\n",
      "mean_270619-video2_008-015_opened_cc16.png: too spherical 3.000731422722822\n"
     ]
    },
    {
     "name": "stderr",
     "output_type": "stream",
     "text": [
      "\r",
      " 94%|█████████▍| 45/48 [00:32<00:01,  1.55it/s]"
     ]
    },
    {
     "name": "stdout",
     "output_type": "stream",
     "text": [
      "\n",
      "mean_270619-video2_008-016_opened_cc03.png is INTERESTING\n"
     ]
    },
    {
     "name": "stderr",
     "output_type": "stream",
     "text": [
      "\r",
      " 96%|█████████▌| 46/48 [00:33<00:01,  1.58it/s]"
     ]
    },
    {
     "name": "stdout",
     "output_type": "stream",
     "text": [
      "\n",
      "mean_270619-video2_008-016_opened_cc15.png is INTERESTING\n"
     ]
    },
    {
     "name": "stderr",
     "output_type": "stream",
     "text": [
      "\r",
      " 98%|█████████▊| 47/48 [00:34<00:00,  1.59it/s]"
     ]
    },
    {
     "name": "stdout",
     "output_type": "stream",
     "text": [
      "\n",
      "mean_270619-video2_008-016_opened_cc20.png is INTERESTING\n"
     ]
    },
    {
     "name": "stderr",
     "output_type": "stream",
     "text": [
      "\r",
      "100%|██████████| 48/48 [00:34<00:00,  1.61it/s]"
     ]
    },
    {
     "name": "stdout",
     "output_type": "stream",
     "text": [
      "\n",
      "mean_270619-video2_008-016_opened_cc50.png is INTERESTING\n",
      "found video3_000/trigger_thr0.005_cl9_op3/cc_filtered_2den0.81_gausrad2.0/\n",
      "found video3_001/trigger_thr0.005_cl9_op3/cc_filtered_2den0.81_gausrad2.0/\n",
      "found video3_002/trigger_thr0.005_cl9_op3/cc_filtered_2den0.81_gausrad2.0/\n",
      "found video3_003/trigger_thr0.005_cl9_op3/cc_filtered_2den0.81_gausrad2.0/\n",
      "found video3_004/trigger_thr0.005_cl9_op3/cc_filtered_2den0.81_gausrad2.0/\n",
      "found video3_005/trigger_thr0.005_cl9_op3/cc_filtered_2den0.81_gausrad2.0/\n",
      "found video3_006/trigger_thr0.005_cl9_op3/cc_filtered_2den0.81_gausrad2.0/\n",
      "found video3_007/trigger_thr0.005_cl9_op3/cc_filtered_2den0.81_gausrad2.0/\n",
      "found video3_008/trigger_thr0.005_cl9_op3/cc_filtered_2den0.81_gausrad2.0/\n",
      "found video3_009/trigger_thr0.005_cl9_op3/cc_filtered_2den0.81_gausrad2.0/\n",
      "found video3_010/trigger_thr0.005_cl9_op3/cc_filtered_2den0.81_gausrad2.0/\n",
      "found video3_011/trigger_thr0.005_cl9_op3/cc_filtered_2den0.81_gausrad2.0/\n",
      "found video3_012/trigger_thr0.005_cl9_op3/cc_filtered_2den0.81_gausrad2.0/\n",
      "found video3_013/trigger_thr0.005_cl9_op3/cc_filtered_2den0.81_gausrad2.0/\n",
      "found video3_014/trigger_thr0.005_cl9_op3/cc_filtered_2den0.81_gausrad2.0/\n",
      "found video3_015/trigger_thr0.005_cl9_op3/cc_filtered_2den0.81_gausrad2.0/\n",
      "found video3_016/trigger_thr0.005_cl9_op3/cc_filtered_2den0.81_gausrad2.0/\n",
      "found video3_017/trigger_thr0.005_cl9_op3/cc_filtered_2den0.81_gausrad2.0/\n",
      "found video3_018/trigger_thr0.005_cl9_op3/cc_filtered_2den0.81_gausrad2.0/\n",
      "found video3_020/trigger_thr0.005_cl9_op3/cc_filtered_2den0.81_gausrad2.0/\n",
      "found video3_021/trigger_thr0.005_cl9_op3/cc_filtered_2den0.81_gausrad2.0/\n",
      "found video3_022/trigger_thr0.005_cl9_op3/cc_filtered_2den0.81_gausrad2.0/\n",
      "found video3_023/trigger_thr0.005_cl9_op3/cc_filtered_2den0.81_gausrad2.0/\n",
      "found video3_024/trigger_thr0.005_cl9_op3/cc_filtered_2den0.81_gausrad2.0/\n",
      "found video3_025/trigger_thr0.005_cl9_op3/cc_filtered_2den0.81_gausrad2.0/\n",
      "found video3_026/trigger_thr0.005_cl9_op3/cc_filtered_2den0.81_gausrad2.0/\n",
      "found video3_027/trigger_thr0.005_cl9_op3/cc_filtered_2den0.81_gausrad2.0/\n",
      "found video3_028/trigger_thr0.005_cl9_op3/cc_filtered_2den0.81_gausrad2.0/\n",
      "found video3_029/trigger_thr0.005_cl9_op3/cc_filtered_2den0.81_gausrad2.0/\n",
      "found video4_000/trigger_thr0.005_cl9_op3/cc_filtered_2den0.81_gausrad2.0/\n",
      "found video4_001/trigger_thr0.005_cl9_op3/cc_filtered_2den0.81_gausrad2.0/\n",
      "found video4_002/trigger_thr0.005_cl9_op3/cc_filtered_2den0.81_gausrad2.0/\n",
      "found video4_003/trigger_thr0.005_cl9_op3/cc_filtered_2den0.81_gausrad2.0/\n",
      "found video4_004/trigger_thr0.005_cl9_op3/cc_filtered_2den0.81_gausrad2.0/\n",
      "found video4_005/trigger_thr0.005_cl9_op3/cc_filtered_2den0.81_gausrad2.0/\n",
      "found video4_006/trigger_thr0.005_cl9_op3/cc_filtered_2den0.81_gausrad2.0/\n",
      "found video4_007/trigger_thr0.005_cl9_op3/cc_filtered_2den0.81_gausrad2.0/\n",
      "found video4_008/trigger_thr0.005_cl9_op3/cc_filtered_2den0.81_gausrad2.0/\n",
      "found video4_010/trigger_thr0.005_cl9_op3/cc_filtered_2den0.81_gausrad2.0/\n",
      "found video4_011/trigger_thr0.005_cl9_op3/cc_filtered_2den0.81_gausrad2.0/\n",
      "found video4_012/trigger_thr0.005_cl9_op3/cc_filtered_2den0.81_gausrad2.0/\n",
      "found video4_013/trigger_thr0.005_cl9_op3/cc_filtered_2den0.81_gausrad2.0/\n",
      "found video4_014/trigger_thr0.005_cl9_op3/cc_filtered_2den0.81_gausrad2.0/\n",
      "found video4_015/trigger_thr0.005_cl9_op3/cc_filtered_2den0.81_gausrad2.0/\n",
      "found video4_016/trigger_thr0.005_cl9_op3/cc_filtered_2den0.81_gausrad2.0/\n",
      "found video4_017/trigger_thr0.005_cl9_op3/cc_filtered_2den0.81_gausrad2.0/\n",
      "found video4_018/trigger_thr0.005_cl9_op3/cc_filtered_2den0.81_gausrad2.0/\n",
      "found video4_019/trigger_thr0.005_cl9_op3/cc_filtered_2den0.81_gausrad2.0/\n",
      "found video4_020/trigger_thr0.005_cl9_op3/cc_filtered_2den0.81_gausrad2.0/\n",
      "found video4_021/trigger_thr0.005_cl9_op3/cc_filtered_2den0.81_gausrad2.0/\n",
      "found video4_022/trigger_thr0.005_cl9_op3/cc_filtered_2den0.81_gausrad2.0/\n",
      "found video4_023/trigger_thr0.005_cl9_op3/cc_filtered_2den0.81_gausrad2.0/\n",
      "found video4_024/trigger_thr0.005_cl9_op3/cc_filtered_2den0.81_gausrad2.0/\n",
      "found video4_025/trigger_thr0.005_cl9_op3/cc_filtered_2den0.81_gausrad2.0/\n",
      "found video4_026/trigger_thr0.005_cl9_op3/cc_filtered_2den0.81_gausrad2.0/\n",
      "found video4_027/trigger_thr0.005_cl9_op3/cc_filtered_2den0.81_gausrad2.0/\n",
      "found video4_028/trigger_thr0.005_cl9_op3/cc_filtered_2den0.81_gausrad2.0/\n",
      "\n",
      "Slimming 148 particles\n"
     ]
    },
    {
     "name": "stderr",
     "output_type": "stream",
     "text": [
      "\n"
     ]
    },
    {
     "name": "stdout",
     "output_type": "stream",
     "text": [
      "Total time: 0 h 11 min 46 s\n"
     ]
    }
   ],
   "source": [
    "# create clusterizer\n",
    "\n",
    "particles = []\n",
    "\n",
    "particles,n_part,slim = Particle.Big_iteration(path='/media/alessandro/DATA/tesi/Nebbia/pre-processed_data/270619/',\n",
    "                                               slim=True,video_name='video2')\n",
    "c = Clusterizer.Clusterizer('video2_r6',particles,slim)\n",
    "c.save(path='./Clusterizers/270619/')"
   ]
  },
  {
   "cell_type": "code",
   "execution_count": null,
   "metadata": {},
   "outputs": [],
   "source": [
    "c = Clusterizer.Clusterizer('video9_r6',particles,slim)\n",
    "c.save()"
   ]
  },
  {
   "cell_type": "code",
   "execution_count": null,
   "metadata": {},
   "outputs": [],
   "source": [
    "c.save()"
   ]
  },
  {
   "cell_type": "code",
   "execution_count": null,
   "metadata": {},
   "outputs": [],
   "source": [
    "particles"
   ]
  },
  {
   "cell_type": "code",
   "execution_count": null,
   "metadata": {},
   "outputs": [],
   "source": [
    "%matplotlib notebook\n",
    "c.plot()"
   ]
  },
  {
   "cell_type": "code",
   "execution_count": 100,
   "metadata": {},
   "outputs": [],
   "source": [
    "d = Clusterizer.load_Clusterizer(path='./Clusterizers/270619/',name='video4_r6')"
   ]
  },
  {
   "cell_type": "code",
   "execution_count": 94,
   "metadata": {},
   "outputs": [
    {
     "data": {
      "text/plain": [
       "array([(  1, '/media/alessandro/DATA/tesi/Nebbia/pre-processed_data/270619/video4_009/trigger_thr0.005_cl9_op3/cc_filtered_2den0.81_gausrad2.0/', list(['mean_270619-video4_009-005_opened_cc21.png']), array([ 1.        , 83.45545227, 10.54454773,  1.        ,  1.        ])),\n",
       "       (  2, '/media/alessandro/DATA/tesi/Nebbia/pre-processed_data/270619/video4_009/trigger_thr0.005_cl9_op3/cc_filtered_2den0.81_gausrad2.0/', list(['mean_270619-video4_009-005_opened_cc40.png', 'mean_270619-video4_009-006_opened_cc68.png']), array([ 2.        , 91.37324105, 29.62675895,  1.        ,  1.        ])),\n",
       "       (  3, '/media/alessandro/DATA/tesi/Nebbia/pre-processed_data/270619/video4_009/trigger_thr0.005_cl9_op3/cc_filtered_2den0.81_gausrad2.0/', list(['mean_270619-video4_009-007_opened_cc05.png']), array([  1.        , 144.56453695,   5.89095614,   2.        ,\n",
       "         1.48008815])),\n",
       "       (  4, '/media/alessandro/DATA/tesi/Nebbia/pre-processed_data/270619/video4_009/trigger_thr0.005_cl9_op3/cc_filtered_2den0.81_gausrad2.0/', list(['mean_270619-video4_009-007_opened_cc91.png']), array([ 1.        , 68.5713315 , 13.02226629,  2.        ,  1.        ])),\n",
       "       (  5, '/media/alessandro/DATA/tesi/Nebbia/pre-processed_data/270619/video4_009/trigger_thr0.005_cl9_op3/cc_filtered_2den0.81_gausrad2.0/', list(['mean_270619-video4_009-009_opened_cc10.png']), array([ 1.        , 83.77052461, 17.37101199,  2.        ,  1.08646391])),\n",
       "       (  6, '/media/alessandro/DATA/tesi/Nebbia/pre-processed_data/270619/video4_009/trigger_thr0.005_cl9_op3/cc_filtered_2den0.81_gausrad2.0/', list(['mean_270619-video4_009-009_opened_cc20.png']), array([ 1.        , 90.12308015, 16.87691985,  1.        ,  1.        ])),\n",
       "       (  7, '/media/alessandro/DATA/tesi/Nebbia/pre-processed_data/270619/video4_009/trigger_thr0.005_cl9_op3/cc_filtered_2den0.81_gausrad2.0/', list(['mean_270619-video4_009-009_opened_cc23.png', 'mean_270619-video4_009-010_opened_cc61.png']), array([ 2.        , 78.59184619, 24.65815381,  1.        ,  1.        ])),\n",
       "       (  8, '/media/alessandro/DATA/tesi/Nebbia/pre-processed_data/270619/video4_009/trigger_thr0.005_cl9_op3/cc_filtered_2den0.81_gausrad2.0/', list(['mean_270619-video4_009-010_opened_cc36.png']), array([  1.        , 125.41876554,  13.10152678,   2.        ,\n",
       "         1.06887543])),\n",
       "       (  9, '/media/alessandro/DATA/tesi/Nebbia/pre-processed_data/270619/video4_009/trigger_thr0.005_cl9_op3/cc_filtered_2den0.81_gausrad2.0/', list(['mean_270619-video4_009-006_opened_cc57.png']), array([ 1.        , 90.57835113, 13.92164887,  1.        ,  1.01651586])),\n",
       "       ( 10, '/media/alessandro/DATA/tesi/Nebbia/pre-processed_data/270619/video4_000/trigger_thr0.005_cl9_op3/cc_filtered_2den0.81_gausrad2.0/', list(['mean_270619-video4_000-023_opened_cc15.png']), array([  1.        , 423.39118286,   6.82596979,   7.        ,\n",
       "         1.6887351 ])),\n",
       "       ( 11, '/media/alessandro/DATA/tesi/Nebbia/pre-processed_data/270619/video4_000/trigger_thr0.005_cl9_op3/cc_filtered_2den0.81_gausrad2.0/', list(['mean_270619-video4_000-023_opened_cc17.png']), array([  1.        , 231.53115106,   7.22954927,   4.        ,\n",
       "         1.41947517])),\n",
       "       ( 12, '/media/alessandro/DATA/tesi/Nebbia/pre-processed_data/270619/video4_000/trigger_thr0.005_cl9_op3/cc_filtered_2den0.81_gausrad2.0/', list(['mean_270619-video4_000-023_opened_cc37.png']), array([ 1.        , 74.67902039,  6.84450558,  2.        ,  1.17813117])),\n",
       "       ( 13, '/media/alessandro/DATA/tesi/Nebbia/pre-processed_data/270619/video4_000/trigger_thr0.005_cl9_op3/cc_filtered_2den0.81_gausrad2.0/', list(['mean_270619-video4_000-024_opened_cc19.png']), array([ 1.        , 66.44292531,  9.55707469,  1.        ,  1.05771875])),\n",
       "       ( 14, '/media/alessandro/DATA/tesi/Nebbia/pre-processed_data/270619/video4_000/trigger_thr0.005_cl9_op3/cc_filtered_2den0.81_gausrad2.0/', list(['mean_270619-video4_000-024_opened_cc23.png']), array([  1.        , 269.4684431 ,  18.58993352,   3.        ,\n",
       "         1.43737458])),\n",
       "       ( 15, '/media/alessandro/DATA/tesi/Nebbia/pre-processed_data/270619/video4_000/trigger_thr0.005_cl9_op3/cc_filtered_2den0.81_gausrad2.0/', list(['mean_270619-video4_000-024_opened_cc25.png']), array([ 1.        , 49.39650628,  3.60349372,  1.        ,  3.39256598])),\n",
       "       ( 16, '/media/alessandro/DATA/tesi/Nebbia/pre-processed_data/270619/video4_000/trigger_thr0.005_cl9_op3/cc_filtered_2den0.81_gausrad2.0/', list(['mean_270619-video4_000-024_opened_cc73.png']), array([  1.        , 103.6782866 ,   8.91689687,   2.        ,\n",
       "         1.18390933])),\n",
       "       ( 17, '/media/alessandro/DATA/tesi/Nebbia/pre-processed_data/270619/video4_000/trigger_thr0.005_cl9_op3/cc_filtered_2den0.81_gausrad2.0/', list(['mean_270619-video4_000-034_opened_cc03.png']), array([1.00000000e+00, 1.04660246e+03, 6.14595049e+00, 1.80000000e+01,\n",
       "       1.96667951e+00])),\n",
       "       ( 18, '/media/alessandro/DATA/tesi/Nebbia/pre-processed_data/270619/video4_000/trigger_thr0.005_cl9_op3/cc_filtered_2den0.81_gausrad2.0/', list(['mean_270619-video4_000-034_opened_cc19.png']), array([  1.        , 695.90853774,   7.20925664,  14.        ,\n",
       "         2.44552059])),\n",
       "       ( 19, '/media/alessandro/DATA/tesi/Nebbia/pre-processed_data/270619/video4_000/trigger_thr0.005_cl9_op3/cc_filtered_2den0.81_gausrad2.0/', list(['mean_270619-video4_000-034_opened_cc32.png']), array([  1.        , 299.23409104,  10.50697946,   6.        ,\n",
       "         1.65070962])),\n",
       "       ( 20, '/media/alessandro/DATA/tesi/Nebbia/pre-processed_data/270619/video4_000/trigger_thr0.005_cl9_op3/cc_filtered_2den0.81_gausrad2.0/', list(['mean_270619-video4_000-034_opened_cc53.png']), array([  1.        , 123.52205406,  21.47794594,   1.        ,\n",
       "         1.        ])),\n",
       "       ( 21, '/media/alessandro/DATA/tesi/Nebbia/pre-processed_data/270619/video4_000/trigger_thr0.005_cl9_op3/cc_filtered_2den0.81_gausrad2.0/', list(['mean_270619-video4_000-034_opened_cc55.png']), array([  1.        , 247.92928596,   9.08186058,   5.        ,\n",
       "         1.57626046])),\n",
       "       ( 22, '/media/alessandro/DATA/tesi/Nebbia/pre-processed_data/270619/video4_000/trigger_thr0.005_cl9_op3/cc_filtered_2den0.81_gausrad2.0/', list(['mean_270619-video4_000-025_opened_cc70.png']), array([  1.        , 256.02484432,   6.82798179,   5.        ,\n",
       "         1.30122889])),\n",
       "       ( 23, '/media/alessandro/DATA/tesi/Nebbia/pre-processed_data/270619/video4_000/trigger_thr0.005_cl9_op3/cc_filtered_2den0.81_gausrad2.0/', list(['mean_270619-video4_000-043_opened_cc26.png']), array([  1.        , 874.00512009,   4.54415214,  13.        ,\n",
       "         3.08512323])),\n",
       "       ( 24, '/media/alessandro/DATA/tesi/Nebbia/pre-processed_data/270619/video4_000/trigger_thr0.005_cl9_op3/cc_filtered_2den0.81_gausrad2.0/', list(['mean_270619-video4_000-043_opened_cc75.png']), array([  1.        , 321.07293732,   6.        ,   4.        ,\n",
       "         1.57779685])),\n",
       "       ( 25, '/media/alessandro/DATA/tesi/Nebbia/pre-processed_data/270619/video4_000/trigger_thr0.005_cl9_op3/cc_filtered_2den0.81_gausrad2.0/', list(['mean_270619-video4_000-043_opened_cc83.png']), array([  1.        , 221.65804394,   5.45072714,   4.        ,\n",
       "         1.64078645])),\n",
       "       ( 26, '/media/alessandro/DATA/tesi/Nebbia/pre-processed_data/270619/video4_000/trigger_thr0.005_cl9_op3/cc_filtered_2den0.81_gausrad2.0/', list(['mean_270619-video4_000-044_opened_cc10.png']), array([ 1.        , 70.43256531,  4.47676929,  2.        ,  1.57492004])),\n",
       "       ( 27, '/media/alessandro/DATA/tesi/Nebbia/pre-processed_data/270619/video4_000/trigger_thr0.005_cl9_op3/cc_filtered_2den0.81_gausrad2.0/', list(['mean_270619-video4_000-042_opened_cc33.png']), array([  1.        , 142.38380736,   2.01282473,   2.        ,\n",
       "         2.02662328])),\n",
       "       ( 28, '/media/alessandro/DATA/tesi/Nebbia/pre-processed_data/270619/video4_001/trigger_thr0.005_cl9_op3/cc_filtered_2den0.81_gausrad2.0/', list(['mean_270619-video4_001-013_opened_cc04.png']), array([1.00000000e+00, 1.15908333e+03, 8.55298900e+00, 1.40000000e+01,\n",
       "       1.79831052e+00])),\n",
       "       ( 29, '/media/alessandro/DATA/tesi/Nebbia/pre-processed_data/270619/video4_001/trigger_thr0.005_cl9_op3/cc_filtered_2den0.81_gausrad2.0/', list(['mean_270619-video4_001-013_opened_cc106.png', 'mean_270619-video4_001-014_opened_cc76.png']), array([  2.        , 248.39904333,  11.13346841,   4.        ,\n",
       "         1.21544089])),\n",
       "       ( 30, '/media/alessandro/DATA/tesi/Nebbia/pre-processed_data/270619/video4_001/trigger_thr0.005_cl9_op3/cc_filtered_2den0.81_gausrad2.0/', list(['mean_270619-video4_001-014_opened_cc17.png']), array([  1.        , 433.79319551,   5.03507897,   5.        ,\n",
       "         1.44052961])),\n",
       "       ( 31, '/media/alessandro/DATA/tesi/Nebbia/pre-processed_data/270619/video4_001/trigger_thr0.005_cl9_op3/cc_filtered_2den0.81_gausrad2.0/', list(['mean_270619-video4_001-014_opened_cc35.png']), array([  1.        , 158.66351047,   4.41724007,   3.        ,\n",
       "         1.80439301])),\n",
       "       ( 32, '/media/alessandro/DATA/tesi/Nebbia/pre-processed_data/270619/video4_001/trigger_thr0.005_cl9_op3/cc_filtered_2den0.81_gausrad2.0/', list(['mean_270619-video4_001-014_opened_cc60.png']), array([  1.        , 293.45516642,   6.82529426,   4.        ,\n",
       "         1.50933058])),\n",
       "       ( 33, '/media/alessandro/DATA/tesi/Nebbia/pre-processed_data/270619/video4_001/trigger_thr0.005_cl9_op3/cc_filtered_2den0.81_gausrad2.0/', list(['mean_270619-video4_001-024_opened_cc17.png']), array([  1.        , 179.44229276,  10.28112592,   3.        ,\n",
       "         1.42499814])),\n",
       "       ( 34, '/media/alessandro/DATA/tesi/Nebbia/pre-processed_data/270619/video4_001/trigger_thr0.005_cl9_op3/cc_filtered_2den0.81_gausrad2.0/', list(['mean_270619-video4_001-024_opened_cc49.png']), array([ 1.        , 66.15275655,  5.32122012,  2.        ,  1.69399851])),\n",
       "       ( 35, '/media/alessandro/DATA/tesi/Nebbia/pre-processed_data/270619/video4_001/trigger_thr0.005_cl9_op3/cc_filtered_2den0.81_gausrad2.0/', list(['mean_270619-video4_001-024_opened_cc50.png']), array([ 1.        , 82.89208898,  8.36675042,  2.        ,  1.16645341])),\n",
       "       ( 36, '/media/alessandro/DATA/tesi/Nebbia/pre-processed_data/270619/video4_001/trigger_thr0.005_cl9_op3/cc_filtered_2den0.81_gausrad2.0/', list(['mean_270619-video4_001-025_opened_cc35.png']), array([  1.        , 245.2882914 ,   3.05775646,   3.        ,\n",
       "         2.11880999])),\n",
       "       ( 37, '/media/alessandro/DATA/tesi/Nebbia/pre-processed_data/270619/video4_001/trigger_thr0.005_cl9_op3/cc_filtered_2den0.81_gausrad2.0/', list(['mean_270619-video4_001-024_opened_cc20.png']), array([  1.        , 128.54016084,   7.80880991,   3.        ,\n",
       "         1.32487471])),\n",
       "       ( 38, '/media/alessandro/DATA/tesi/Nebbia/pre-processed_data/270619/video4_001/trigger_thr0.005_cl9_op3/cc_filtered_2den0.81_gausrad2.0/', list(['mean_270619-video4_001-025_opened_cc68.png']), array([  1.        , 151.2484514 ,   9.56219953,   4.        ,\n",
       "         1.05572147])),\n",
       "       ( 39, '/media/alessandro/DATA/tesi/Nebbia/pre-processed_data/270619/video4_001/trigger_thr0.005_cl9_op3/cc_filtered_2den0.81_gausrad2.0/', list(['mean_270619-video4_001-045_opened_cc09.png']), array([1.00000000e+00, 1.04684497e+03, 8.29227651e+00, 8.00000000e+00,\n",
       "       2.50879702e+00])),\n",
       "       ( 40, '/media/alessandro/DATA/tesi/Nebbia/pre-processed_data/270619/video4_001/trigger_thr0.005_cl9_op3/cc_filtered_2den0.81_gausrad2.0/', list(['mean_270619-video4_001-045_opened_cc78.png']), array([  1.        , 127.43839155,   6.5344166 ,   2.        ,\n",
       "         1.44872488])),\n",
       "       ( 41, '/media/alessandro/DATA/tesi/Nebbia/pre-processed_data/270619/video4_001/trigger_thr0.005_cl9_op3/cc_filtered_2den0.81_gausrad2.0/', list(['mean_270619-video4_001-046_opened_cc03.png']), array([  1.        , 173.98628378,   5.74530558,   2.        ,\n",
       "         1.39363061])),\n",
       "       ( 42, '/media/alessandro/DATA/tesi/Nebbia/pre-processed_data/270619/video4_001/trigger_thr0.005_cl9_op3/cc_filtered_2den0.81_gausrad2.0/', list(['mean_270619-video4_001-046_opened_cc04.png']), array([ 1.        , 87.06944203, 10.29681089,  2.        ,  1.07435841])),\n",
       "       ( 43, '/media/alessandro/DATA/tesi/Nebbia/pre-processed_data/270619/video4_001/trigger_thr0.005_cl9_op3/cc_filtered_2den0.81_gausrad2.0/', list(['mean_270619-video4_001-046_opened_cc07.png']), array([  1.        , 100.28331239,   9.86851185,   2.        ,\n",
       "         1.29964355])),\n",
       "       ( 44, '/media/alessandro/DATA/tesi/Nebbia/pre-processed_data/270619/video4_001/trigger_thr0.005_cl9_op3/cc_filtered_2den0.81_gausrad2.0/', list(['mean_270619-video4_001-046_opened_cc18.png']), array([ 1.        , 89.20071543,  9.98114549,  2.        ,  1.00485924])),\n",
       "       ( 45, '/media/alessandro/DATA/tesi/Nebbia/pre-processed_data/270619/video4_002/trigger_thr0.005_cl9_op3/cc_filtered_2den0.81_gausrad2.0/', list(['mean_270619-video4_002-027_opened_cc78.png']), array([  1.        , 103.85947894,   8.63926867,   2.        ,\n",
       "         1.26912965])),\n",
       "       ( 46, '/media/alessandro/DATA/tesi/Nebbia/pre-processed_data/270619/video4_002/trigger_thr0.005_cl9_op3/cc_filtered_2den0.81_gausrad2.0/', list(['mean_270619-video4_002-028_opened_cc56.png']), array([  1.        , 115.2995957 ,   1.36852236,   2.        ,\n",
       "         2.71612899])),\n",
       "       ( 47, '/media/alessandro/DATA/tesi/Nebbia/pre-processed_data/270619/video4_002/trigger_thr0.005_cl9_op3/cc_filtered_2den0.81_gausrad2.0/', list(['mean_270619-video4_002-029_opened_cc03.png']), array([  1.        , 213.38037979,   5.68116699,   4.        ,\n",
       "         1.88588659])),\n",
       "       ( 48, '/media/alessandro/DATA/tesi/Nebbia/pre-processed_data/270619/video4_002/trigger_thr0.005_cl9_op3/cc_filtered_2den0.81_gausrad2.0/', list(['mean_270619-video4_002-029_opened_cc14.png']), array([  1.        , 116.371981  ,  11.24298085,   3.        ,\n",
       "         1.22044641])),\n",
       "       ( 49, '/media/alessandro/DATA/tesi/Nebbia/pre-processed_data/270619/video4_002/trigger_thr0.005_cl9_op3/cc_filtered_2den0.81_gausrad2.0/', list(['mean_270619-video4_002-033_opened_cc05.png']), array([  1.        , 157.36372047,   3.01149881,   3.        ,\n",
       "         1.62067088])),\n",
       "       ( 50, '/media/alessandro/DATA/tesi/Nebbia/pre-processed_data/270619/video4_002/trigger_thr0.005_cl9_op3/cc_filtered_2den0.81_gausrad2.0/', list(['mean_270619-video4_002-034_opened_cc07.png']), array([ 1.        , 76.69083721, 12.30916279,  1.        ,  1.        ])),\n",
       "       ( 51, '/media/alessandro/DATA/tesi/Nebbia/pre-processed_data/270619/video4_002/trigger_thr0.005_cl9_op3/cc_filtered_2den0.81_gausrad2.0/', list(['mean_270619-video4_002-048_opened_cc04.png']), array([  1.        , 998.1595165 ,   6.9757003 ,  12.        ,\n",
       "         2.88806441])),\n",
       "       ( 52, '/media/alessandro/DATA/tesi/Nebbia/pre-processed_data/270619/video4_002/trigger_thr0.005_cl9_op3/cc_filtered_2den0.81_gausrad2.0/', list(['mean_270619-video4_002-048_opened_cc12.png']), array([  1.        , 152.99861525,   6.04882701,   2.        ,\n",
       "         1.65445003])),\n",
       "       ( 53, '/media/alessandro/DATA/tesi/Nebbia/pre-processed_data/270619/video4_003/trigger_thr0.005_cl9_op3/cc_filtered_2den0.81_gausrad2.0/', list(['mean_270619-video4_003-011_opened_cc11.png']), array([ 1.        , 90.81560502,  8.25427413,  2.        ,  1.27354707])),\n",
       "       ( 54, '/media/alessandro/DATA/tesi/Nebbia/pre-processed_data/270619/video4_003/trigger_thr0.005_cl9_op3/cc_filtered_2den0.81_gausrad2.0/', list(['mean_270619-video4_003-012_opened_cc10.png']), array([ 1.        , 92.9633983 , 11.0366017 ,  1.        ,  1.02529695])),\n",
       "       ( 55, '/media/alessandro/DATA/tesi/Nebbia/pre-processed_data/270619/video4_003/trigger_thr0.005_cl9_op3/cc_filtered_2den0.81_gausrad2.0/', list(['mean_270619-video4_003-037_opened_cc06.png']), array([  1.        , 661.61564365,  10.12380671,   8.        ,\n",
       "         2.27877938])),\n",
       "       ( 56, '/media/alessandro/DATA/tesi/Nebbia/pre-processed_data/270619/video4_003/trigger_thr0.005_cl9_op3/cc_filtered_2den0.81_gausrad2.0/', list(['mean_270619-video4_003-037_opened_cc10.png']), array([  1.        , 110.26083813,   6.58729342,   2.        ,\n",
       "         1.14830123])),\n",
       "       ( 57, '/media/alessandro/DATA/tesi/Nebbia/pre-processed_data/270619/video4_003/trigger_thr0.005_cl9_op3/cc_filtered_2den0.81_gausrad2.0/', list(['mean_270619-video4_003-037_opened_cc19.png']), array([  1.        , 160.71916385,   6.3690278 ,   3.        ,\n",
       "         1.25892688])),\n",
       "       ( 58, '/media/alessandro/DATA/tesi/Nebbia/pre-processed_data/270619/video4_003/trigger_thr0.005_cl9_op3/cc_filtered_2den0.81_gausrad2.0/', list(['mean_270619-video4_003-038_opened_cc11.png']), array([  1.        , 306.34393371,  11.77973677,   4.        ,\n",
       "         1.14848383])),\n",
       "       ( 59, '/media/alessandro/DATA/tesi/Nebbia/pre-processed_data/270619/video4_004/trigger_thr0.005_cl9_op3/cc_filtered_2den0.81_gausrad2.0/', list(['mean_270619-video4_004-012_opened_cc01.png']), array([  1.        , 842.95599836,   6.10855345,   8.        ,\n",
       "         2.40815085])),\n",
       "       ( 60, '/media/alessandro/DATA/tesi/Nebbia/pre-processed_data/270619/video4_004/trigger_thr0.005_cl9_op3/cc_filtered_2den0.81_gausrad2.0/', list(['mean_270619-video4_004-012_opened_cc25.png']), array([  1.        , 258.16099339,   8.78558764,   6.        ,\n",
       "         1.62998486])),\n",
       "       ( 61, '/media/alessandro/DATA/tesi/Nebbia/pre-processed_data/270619/video4_004/trigger_thr0.005_cl9_op3/cc_filtered_2den0.81_gausrad2.0/', list(['mean_270619-video4_004-012_opened_cc27.png']), array([  1.        , 364.3135749 ,   5.42031655,   7.        ,\n",
       "         1.88281407])),\n",
       "       ( 62, '/media/alessandro/DATA/tesi/Nebbia/pre-processed_data/270619/video4_004/trigger_thr0.005_cl9_op3/cc_filtered_2den0.81_gausrad2.0/', list(['mean_270619-video4_004-012_opened_cc37.png', 'mean_270619-video4_004-013_opened_cc09.png']), array([ 2.        , 87.75414461, 31.74585539,  1.        ,  1.        ])),\n",
       "       ( 63, '/media/alessandro/DATA/tesi/Nebbia/pre-processed_data/270619/video4_004/trigger_thr0.005_cl9_op3/cc_filtered_2den0.81_gausrad2.0/', list(['mean_270619-video4_004-013_opened_cc13.png']), array([ 1.        , 76.46640106,  9.53359894,  1.        ,  1.        ])),\n",
       "       ( 64, '/media/alessandro/DATA/tesi/Nebbia/pre-processed_data/270619/video4_004/trigger_thr0.005_cl9_op3/cc_filtered_2den0.81_gausrad2.0/', list(['mean_270619-video4_004-014_opened_cc04.png']), array([  1.        , 135.37733897,   7.40839162,   2.        ,\n",
       "         1.29614474])),\n",
       "       ( 65, '/media/alessandro/DATA/tesi/Nebbia/pre-processed_data/270619/video4_004/trigger_thr0.005_cl9_op3/cc_filtered_2den0.81_gausrad2.0/', list(['mean_270619-video4_004-014_opened_cc13.png', 'mean_270619-video4_004-015_opened_cc51.png']), array([ 2.        , 88.26830731, 29.98169269,  1.        ,  1.        ])),\n",
       "       ( 66, '/media/alessandro/DATA/tesi/Nebbia/pre-processed_data/270619/video4_004/trigger_thr0.005_cl9_op3/cc_filtered_2den0.81_gausrad2.0/', list(['mean_270619-video4_004-015_opened_cc06.png']), array([  1.        , 225.29702275,   9.46876109,   2.        ,\n",
       "         1.06622678])),\n",
       "       ( 67, '/media/alessandro/DATA/tesi/Nebbia/pre-processed_data/270619/video4_004/trigger_thr0.005_cl9_op3/cc_filtered_2den0.81_gausrad2.0/', list(['mean_270619-video4_004-015_opened_cc36.png']), array([  1.        , 113.13273593,   7.11659522,   2.        ,\n",
       "         1.25633263])),\n",
       "       ( 68, '/media/alessandro/DATA/tesi/Nebbia/pre-processed_data/270619/video4_004/trigger_thr0.005_cl9_op3/cc_filtered_2den0.81_gausrad2.0/', list(['mean_270619-video4_004-015_opened_cc37.png']), array([ 1.        , 73.29994975, 11.92012759,  2.        ,  1.07147181])),\n",
       "       ( 69, '/media/alessandro/DATA/tesi/Nebbia/pre-processed_data/270619/video4_004/trigger_thr0.005_cl9_op3/cc_filtered_2den0.81_gausrad2.0/', list(['mean_270619-video4_004-015_opened_cc56.png']), array([  1.        , 286.78257834,  11.74299188,   4.        ,\n",
       "         1.4359246 ])),\n",
       "       ( 70, '/media/alessandro/DATA/tesi/Nebbia/pre-processed_data/270619/video4_004/trigger_thr0.005_cl9_op3/cc_filtered_2den0.81_gausrad2.0/', list(['mean_270619-video4_004-033_opened_cc02.png']), array([  1.        , 163.58419829,  12.12930192,   2.        ,\n",
       "         1.16747615])),\n",
       "       ( 71, '/media/alessandro/DATA/tesi/Nebbia/pre-processed_data/270619/video4_004/trigger_thr0.005_cl9_op3/cc_filtered_2den0.81_gausrad2.0/', list(['mean_270619-video4_004-033_opened_cc06.png']), array([  1.        , 113.18021674,  10.18635037,   2.        ,\n",
       "         1.12540553])),\n",
       "       ( 72, '/media/alessandro/DATA/tesi/Nebbia/pre-processed_data/270619/video4_004/trigger_thr0.005_cl9_op3/cc_filtered_2den0.81_gausrad2.0/', list(['mean_270619-video4_004-033_opened_cc16.png']), array([  1.        , 172.98107702,   6.10195921,   3.        ,\n",
       "         1.13136883])),\n",
       "       ( 73, '/media/alessandro/DATA/tesi/Nebbia/pre-processed_data/270619/video4_004/trigger_thr0.005_cl9_op3/cc_filtered_2den0.81_gausrad2.0/', list(['mean_270619-video4_004-045_opened_cc06.png']), array([ 1.        , 88.3572237 ,  6.06795314,  2.        ,  1.45950327])),\n",
       "       ( 74, '/media/alessandro/DATA/tesi/Nebbia/pre-processed_data/270619/video4_004/trigger_thr0.005_cl9_op3/cc_filtered_2den0.81_gausrad2.0/', list(['mean_270619-video4_004-046_opened_cc06.png']), array([  1.        , 250.98694457,   3.33755342,   3.        ,\n",
       "         1.35399866])),\n",
       "       ( 75, '/media/alessandro/DATA/tesi/Nebbia/pre-processed_data/270619/video4_004/trigger_thr0.005_cl9_op3/cc_filtered_2den0.81_gausrad2.0/', list(['mean_270619-video4_004-046_opened_cc21.png']), array([  1.        , 170.94278134,   2.55516604,   2.        ,\n",
       "         2.48895949])),\n",
       "       ( 76, '/media/alessandro/DATA/tesi/Nebbia/pre-processed_data/270619/video4_004/trigger_thr0.005_cl9_op3/cc_filtered_2den0.81_gausrad2.0/', list(['mean_270619-video4_004-047_opened_cc25.png']), array([  1.        , 790.00590537,   4.87040399,  14.        ,\n",
       "         2.21910896])),\n",
       "       ( 77, '/media/alessandro/DATA/tesi/Nebbia/pre-processed_data/270619/video4_004/trigger_thr0.005_cl9_op3/cc_filtered_2den0.81_gausrad2.0/', list(['mean_270619-video4_004-048_opened_cc05.png']), array([  1.        , 320.96054825,   4.75231496,   5.        ,\n",
       "         1.47868839])),\n",
       "       ( 78, '/media/alessandro/DATA/tesi/Nebbia/pre-processed_data/270619/video4_005/trigger_thr0.005_cl9_op3/cc_filtered_2den0.81_gausrad2.0/', list(['mean_270619-video4_005-001_opened_cc11.png']), array([ 1.        , 77.50340132,  9.3244771 ,  2.        ,  1.21679736])),\n",
       "       ( 79, '/media/alessandro/DATA/tesi/Nebbia/pre-processed_data/270619/video4_005/trigger_thr0.005_cl9_op3/cc_filtered_2den0.81_gausrad2.0/', list(['mean_270619-video4_005-001_opened_cc25.png']), array([  1.        , 201.81720097,  27.16230764,   2.        ,\n",
       "         1.61412444])),\n",
       "       ( 80, '/media/alessandro/DATA/tesi/Nebbia/pre-processed_data/270619/video4_005/trigger_thr0.005_cl9_op3/cc_filtered_2den0.81_gausrad2.0/', list(['mean_270619-video4_005-001_opened_cc62.png']), array([  1.        , 130.03979794,   5.79202463,   3.        ,\n",
       "         1.65350851])),\n",
       "       ( 81, '/media/alessandro/DATA/tesi/Nebbia/pre-processed_data/270619/video4_005/trigger_thr0.005_cl9_op3/cc_filtered_2den0.81_gausrad2.0/', list(['mean_270619-video4_005-001_opened_cc85.png']), array([  1.        , 122.90634233,   8.4141998 ,   3.        ,\n",
       "         1.1564103 ])),\n",
       "       ( 82, '/media/alessandro/DATA/tesi/Nebbia/pre-processed_data/270619/video4_005/trigger_thr0.005_cl9_op3/cc_filtered_2den0.81_gausrad2.0/', list(['mean_270619-video4_005-007_opened_cc04.png']), array([  1.        , 227.41719643,   5.98803424,   6.        ,\n",
       "         1.38235404])),\n",
       "       ( 83, '/media/alessandro/DATA/tesi/Nebbia/pre-processed_data/270619/video4_005/trigger_thr0.005_cl9_op3/cc_filtered_2den0.81_gausrad2.0/', list(['mean_270619-video4_005-008_opened_cc31.png']), array([ 1.        , 81.05966492, 10.75277812,  2.        ,  1.        ])),\n",
       "       ( 84, '/media/alessandro/DATA/tesi/Nebbia/pre-processed_data/270619/video4_005/trigger_thr0.005_cl9_op3/cc_filtered_2den0.81_gausrad2.0/', list(['mean_270619-video4_005-009_opened_cc13.png']), array([  1.        , 146.16751681,   2.72047453,   3.        ,\n",
       "         1.60006527])),\n",
       "       ( 85, '/media/alessandro/DATA/tesi/Nebbia/pre-processed_data/270619/video4_005/trigger_thr0.005_cl9_op3/cc_filtered_2den0.81_gausrad2.0/', list(['mean_270619-video4_005-009_opened_cc26.png']), array([  1.        , 193.12857421,   6.39082532,   4.        ,\n",
       "         1.70649836])),\n",
       "       ( 86, '/media/alessandro/DATA/tesi/Nebbia/pre-processed_data/270619/video4_005/trigger_thr0.005_cl9_op3/cc_filtered_2den0.81_gausrad2.0/', list(['mean_270619-video4_005-009_opened_cc35.png']), array([ 1.        , 97.33243136,  2.366206  ,  2.        ,  2.47065277])),\n",
       "       ( 87, '/media/alessandro/DATA/tesi/Nebbia/pre-processed_data/270619/video4_005/trigger_thr0.005_cl9_op3/cc_filtered_2den0.81_gausrad2.0/', list(['mean_270619-video4_005-011_opened_cc04.png']), array([  1.        , 223.01400877,   5.95532258,   4.        ,\n",
       "         1.38635733])),\n",
       "       ( 88, '/media/alessandro/DATA/tesi/Nebbia/pre-processed_data/270619/video4_005/trigger_thr0.005_cl9_op3/cc_filtered_2den0.81_gausrad2.0/', list(['mean_270619-video4_005-011_opened_cc06.png']), array([  1.        , 188.63516131,   7.57813488,   4.        ,\n",
       "         1.33448605])),\n",
       "       ( 89, '/media/alessandro/DATA/tesi/Nebbia/pre-processed_data/270619/video4_005/trigger_thr0.005_cl9_op3/cc_filtered_2den0.81_gausrad2.0/', list(['mean_270619-video4_005-007_opened_cc17.png']), array([ 1.       , 59.9465906, 22.5534094,  1.       ,  1.       ])),\n",
       "       ( 90, '/media/alessandro/DATA/tesi/Nebbia/pre-processed_data/270619/video4_005/trigger_thr0.005_cl9_op3/cc_filtered_2den0.81_gausrad2.0/', list(['mean_270619-video4_005-034_opened_cc09.png']), array([  1.        , 328.59505564,   4.08135125,   5.        ,\n",
       "         1.34622628])),\n",
       "       ( 91, '/media/alessandro/DATA/tesi/Nebbia/pre-processed_data/270619/video4_005/trigger_thr0.005_cl9_op3/cc_filtered_2den0.81_gausrad2.0/', list(['mean_270619-video4_005-012_opened_cc06.png']), array([  1.        , 167.19900397,   4.56809029,   2.        ,\n",
       "         1.36933412])),\n",
       "       ( 92, '/media/alessandro/DATA/tesi/Nebbia/pre-processed_data/270619/video4_005/trigger_thr0.005_cl9_op3/cc_filtered_2den0.81_gausrad2.0/', list(['mean_270619-video4_005-012_opened_cc26.png']), array([ 1.        , 82.99319665,  9.50680335,  1.        ,  1.20482615])),\n",
       "       ( 93, '/media/alessandro/DATA/tesi/Nebbia/pre-processed_data/270619/video4_005/trigger_thr0.005_cl9_op3/cc_filtered_2den0.81_gausrad2.0/', list(['mean_270619-video4_005-012_opened_cc27.png']), array([  1.        , 120.7469317 ,  13.88101959,   2.        ,\n",
       "         1.01813704])),\n",
       "       ( 94, '/media/alessandro/DATA/tesi/Nebbia/pre-processed_data/270619/video4_005/trigger_thr0.005_cl9_op3/cc_filtered_2den0.81_gausrad2.0/', list(['mean_270619-video4_005-012_opened_cc29.png']), array([  1.        , 167.73386769,   6.06958809,   4.        ,\n",
       "         1.36617554])),\n",
       "       ( 95, '/media/alessandro/DATA/tesi/Nebbia/pre-processed_data/270619/video4_005/trigger_thr0.005_cl9_op3/cc_filtered_2den0.81_gausrad2.0/', list(['mean_270619-video4_005-012_opened_cc34.png']), array([  1.        , 152.95060461,  12.41716344,   2.        ,\n",
       "         1.05420519])),\n",
       "       ( 96, '/media/alessandro/DATA/tesi/Nebbia/pre-processed_data/270619/video4_005/trigger_thr0.005_cl9_op3/cc_filtered_2den0.81_gausrad2.0/', list(['mean_270619-video4_005-012_opened_cc44.png']), array([ 1.        , 99.38394593,  7.80293666,  2.        ,  1.17575036])),\n",
       "       ( 97, '/media/alessandro/DATA/tesi/Nebbia/pre-processed_data/270619/video4_005/trigger_thr0.005_cl9_op3/cc_filtered_2den0.81_gausrad2.0/', list(['mean_270619-video4_005-031_opened_cc04.png']), array([  1.        , 647.09996779,   8.89312006,   8.        ,\n",
       "         1.11719671])),\n",
       "       ( 98, '/media/alessandro/DATA/tesi/Nebbia/pre-processed_data/270619/video4_005/trigger_thr0.005_cl9_op3/cc_filtered_2den0.81_gausrad2.0/', list(['mean_270619-video4_005-031_opened_cc08.png']), array([ 1.        , 78.73588   , 12.3137501 ,  2.        ,  1.02245767])),\n",
       "       ( 99, '/media/alessandro/DATA/tesi/Nebbia/pre-processed_data/270619/video4_005/trigger_thr0.005_cl9_op3/cc_filtered_2den0.81_gausrad2.0/', list(['mean_270619-video4_005-033_opened_cc13.png']), array([ 1.        , 95.94431806,  7.05181672,  2.        ,  1.11083575])),\n",
       "       (100, '/media/alessandro/DATA/tesi/Nebbia/pre-processed_data/270619/video4_005/trigger_thr0.005_cl9_op3/cc_filtered_2den0.81_gausrad2.0/', list(['mean_270619-video4_005-033_opened_cc39.png']), array([  1.        , 239.08451723,   9.91695477,   2.        ,\n",
       "         1.79276976])),\n",
       "       (101, '/media/alessandro/DATA/tesi/Nebbia/pre-processed_data/270619/video4_005/trigger_thr0.005_cl9_op3/cc_filtered_2den0.81_gausrad2.0/', list(['mean_270619-video4_005-034_opened_cc08.png']), array([1.00000000e+00, 1.52366855e+03, 6.65845406e+00, 2.10000000e+01,\n",
       "       3.35971054e+00])),\n",
       "       (102, '/media/alessandro/DATA/tesi/Nebbia/pre-processed_data/270619/video4_005/trigger_thr0.005_cl9_op3/cc_filtered_2den0.81_gausrad2.0/', list(['mean_270619-video4_005-034_opened_cc76.png']), array([  1.        , 146.11686764,   8.24894964,   3.        ,\n",
       "         1.87083478])),\n",
       "       (103, '/media/alessandro/DATA/tesi/Nebbia/pre-processed_data/270619/video4_005/trigger_thr0.005_cl9_op3/cc_filtered_2den0.81_gausrad2.0/', list(['mean_270619-video4_005-034_opened_cc80.png']), array([ 1.        , 90.18944134,  8.86744756,  2.        ,  1.50273999])),\n",
       "       (104, '/media/alessandro/DATA/tesi/Nebbia/pre-processed_data/270619/video4_006/trigger_thr0.005_cl9_op3/cc_filtered_2den0.81_gausrad2.0/', list(['mean_270619-video4_006-018_opened_cc03.png']), array([ 1.        , 83.04408906, 14.95591094,  1.        ,  1.        ])),\n",
       "       (105, '/media/alessandro/DATA/tesi/Nebbia/pre-processed_data/270619/video4_006/trigger_thr0.005_cl9_op3/cc_filtered_2den0.81_gausrad2.0/', list(['mean_270619-video4_006-018_opened_cc09.png']), array([ 1.        , 94.26247937,  5.42984132,  2.        ,  1.28824859])),\n",
       "       (106, '/media/alessandro/DATA/tesi/Nebbia/pre-processed_data/270619/video4_006/trigger_thr0.005_cl9_op3/cc_filtered_2den0.81_gausrad2.0/', list(['mean_270619-video4_006-018_opened_cc16.png']), array([  1.        , 188.03253896,   6.88828643,   2.        ,\n",
       "         1.56411627])),\n",
       "       (107, '/media/alessandro/DATA/tesi/Nebbia/pre-processed_data/270619/video4_006/trigger_thr0.005_cl9_op3/cc_filtered_2den0.81_gausrad2.0/', list(['mean_270619-video4_006-026_opened_cc27.png']), array([ 1.        , 36.08673845,  1.41326155,  1.        ,  5.37949335])),\n",
       "       (108, '/media/alessandro/DATA/tesi/Nebbia/pre-processed_data/270619/video4_006/trigger_thr0.005_cl9_op3/cc_filtered_2den0.81_gausrad2.0/', list(['mean_270619-video4_006-026_opened_cc90.png']), array([  1.        , 108.2890223 ,   1.45262029,   2.        ,\n",
       "         2.54533615])),\n",
       "       (109, '/media/alessandro/DATA/tesi/Nebbia/pre-processed_data/270619/video4_006/trigger_thr0.005_cl9_op3/cc_filtered_2den0.81_gausrad2.0/', list(['mean_270619-video4_006-035_opened_cc17.png']), array([  1.        , 145.76218304,   7.23781696,   1.        ,\n",
       "         1.35144694])),\n",
       "       (110, '/media/alessandro/DATA/tesi/Nebbia/pre-processed_data/270619/video4_006/trigger_thr0.005_cl9_op3/cc_filtered_2den0.81_gausrad2.0/', list(['mean_270619-video4_006-035_opened_cc55.png']), array([  1.        , 237.24887652,   7.57559438,   2.        ,\n",
       "         1.59052008])),\n",
       "       (111, '/media/alessandro/DATA/tesi/Nebbia/pre-processed_data/270619/video4_007/trigger_thr0.005_cl9_op3/cc_filtered_2den0.81_gausrad2.0/', list(['mean_270619-video4_007-001_opened_cc18.png']), array([ 1.        , 94.61455151,  9.38544849,  1.        ,  1.0369691 ])),\n",
       "       (112, '/media/alessandro/DATA/tesi/Nebbia/pre-processed_data/270619/video4_007/trigger_thr0.005_cl9_op3/cc_filtered_2den0.81_gausrad2.0/', list(['mean_270619-video4_007-009_opened_cc03.png']), array([  1.        , 258.75103392,   9.7405142 ,   2.        ,\n",
       "         1.24653342])),\n",
       "       (113, '/media/alessandro/DATA/tesi/Nebbia/pre-processed_data/270619/video4_007/trigger_thr0.005_cl9_op3/cc_filtered_2den0.81_gausrad2.0/', list(['mean_270619-video4_007-009_opened_cc21.png']), array([  1.        , 252.67035253,   4.46823143,   4.        ,\n",
       "         2.20422845])),\n",
       "       (114, '/media/alessandro/DATA/tesi/Nebbia/pre-processed_data/270619/video4_007/trigger_thr0.005_cl9_op3/cc_filtered_2den0.81_gausrad2.0/', list(['mean_270619-video4_007-009_opened_cc22.png']), array([  1.        , 100.42103306,   5.39023626,   2.        ,\n",
       "         1.54475617])),\n",
       "       (115, '/media/alessandro/DATA/tesi/Nebbia/pre-processed_data/270619/video4_007/trigger_thr0.005_cl9_op3/cc_filtered_2den0.81_gausrad2.0/', list(['mean_270619-video4_007-036_opened_cc03.png']), array([ 1.        , 86.10397046,  3.76683783,  2.        ,  1.95237562])),\n",
       "       (116, '/media/alessandro/DATA/tesi/Nebbia/pre-processed_data/270619/video4_007/trigger_thr0.005_cl9_op3/cc_filtered_2den0.81_gausrad2.0/', list(['mean_270619-video4_007-036_opened_cc19.png']), array([  1.        , 643.18536961,   7.72476665,   7.        ,\n",
       "         2.31337698])),\n",
       "       (117, '/media/alessandro/DATA/tesi/Nebbia/pre-processed_data/270619/video4_007/trigger_thr0.005_cl9_op3/cc_filtered_2den0.81_gausrad2.0/', list(['mean_270619-video4_007-036_opened_cc34.png']), array([  1.        , 692.00534404,  11.67024337,   6.        ,\n",
       "         2.13243943])),\n",
       "       (118, '/media/alessandro/DATA/tesi/Nebbia/pre-processed_data/270619/video4_007/trigger_thr0.005_cl9_op3/cc_filtered_2den0.81_gausrad2.0/', list(['mean_270619-video4_007-037_opened_cc26.png']), array([  1.        , 557.72671019,  11.03674223,   5.        ,\n",
       "         1.78960904])),\n",
       "       (119, '/media/alessandro/DATA/tesi/Nebbia/pre-processed_data/270619/video4_007/trigger_thr0.005_cl9_op3/cc_filtered_2den0.81_gausrad2.0/', list(['mean_270619-video4_007-037_opened_cc38.png']), array([  1.        , 107.14323848,   2.20115611,   2.        ,\n",
       "         2.15453082])),\n",
       "       (120, '/media/alessandro/DATA/tesi/Nebbia/pre-processed_data/270619/video4_007/trigger_thr0.005_cl9_op3/cc_filtered_2den0.81_gausrad2.0/', list(['mean_270619-video4_007-037_opened_cc40.png']), array([  1.        , 153.10181283,   4.20983143,   2.        ,\n",
       "         1.57161884])),\n",
       "       (121, '/media/alessandro/DATA/tesi/Nebbia/pre-processed_data/270619/video4_007/trigger_thr0.005_cl9_op3/cc_filtered_2den0.81_gausrad2.0/', list(['mean_270619-video4_007-041_opened_cc16.png']), array([  1.        , 299.08168931,   7.66547622,   4.        ,\n",
       "         1.79061942])),\n",
       "       (122, '/media/alessandro/DATA/tesi/Nebbia/pre-processed_data/270619/video4_007/trigger_thr0.005_cl9_op3/cc_filtered_2den0.81_gausrad2.0/', list(['mean_270619-video4_007-041_opened_cc49.png']), array([  1.        , 117.29142347,  14.98149417,   2.        ,\n",
       "         1.        ])),\n",
       "       (123, '/media/alessandro/DATA/tesi/Nebbia/pre-processed_data/270619/video4_007/trigger_thr0.005_cl9_op3/cc_filtered_2den0.81_gausrad2.0/', list(['mean_270619-video4_007-041_opened_cc80.png']), array([  1.        , 144.43784618,   8.42148684,   2.        ,\n",
       "         1.14528657])),\n",
       "       (124, '/media/alessandro/DATA/tesi/Nebbia/pre-processed_data/270619/video4_007/trigger_thr0.005_cl9_op3/cc_filtered_2den0.81_gausrad2.0/', list(['mean_270619-video4_007-041_opened_cc93.png']), array([  1.        , 170.86411744,  10.25204088,   2.        ,\n",
       "         1.09733637])),\n",
       "       (125, '/media/alessandro/DATA/tesi/Nebbia/pre-processed_data/270619/video4_007/trigger_thr0.005_cl9_op3/cc_filtered_2den0.81_gausrad2.0/', list(['mean_270619-video4_007-037_opened_cc07.png']), array([  1.        , 196.59543856,   3.39058858,   3.        ,\n",
       "         1.78715741])),\n",
       "       (126, '/media/alessandro/DATA/tesi/Nebbia/pre-processed_data/270619/video4_008/trigger_thr0.005_cl9_op3/cc_filtered_2den0.81_gausrad2.0/', list(['mean_270619-video4_008-011_opened_cc06.png']), array([  1.        , 916.08532772,   9.29047642,   7.        ,\n",
       "         2.45598401])),\n",
       "       (127, '/media/alessandro/DATA/tesi/Nebbia/pre-processed_data/270619/video4_008/trigger_thr0.005_cl9_op3/cc_filtered_2den0.81_gausrad2.0/', list(['mean_270619-video4_008-011_opened_cc23.png']), array([ 1.       , 99.6457164,  6.8542836,  1.       ,  1.4308291])),\n",
       "       (128, '/media/alessandro/DATA/tesi/Nebbia/pre-processed_data/270619/video4_008/trigger_thr0.005_cl9_op3/cc_filtered_2den0.81_gausrad2.0/', list(['mean_270619-video4_008-013_opened_cc06.png']), array([ 1.        , 92.78355856,  5.21644144,  1.        ,  1.64793999])),\n",
       "       (129, '/media/alessandro/DATA/tesi/Nebbia/pre-processed_data/270619/video4_008/trigger_thr0.005_cl9_op3/cc_filtered_2den0.81_gausrad2.0/', list(['mean_270619-video4_008-015_opened_cc03.png']), array([ 1.        , 93.33686266,  4.13063629,  2.        ,  1.89187706])),\n",
       "       (130, '/media/alessandro/DATA/tesi/Nebbia/pre-processed_data/270619/video4_008/trigger_thr0.005_cl9_op3/cc_filtered_2den0.81_gausrad2.0/', list(['mean_270619-video4_008-015_opened_cc17.png', 'mean_270619-video4_008-016_opened_cc12.png']), array([ 2.       , 71.9118891, 18.8381109,  1.       ,  1.       ])),\n",
       "       (131, '/media/alessandro/DATA/tesi/Nebbia/pre-processed_data/270619/video4_008/trigger_thr0.005_cl9_op3/cc_filtered_2den0.81_gausrad2.0/', list(['mean_270619-video4_008-016_opened_cc05.png']), array([  1.        , 156.75447833,   7.84369937,   3.        ,\n",
       "         1.09615836])),\n",
       "       (132, '/media/alessandro/DATA/tesi/Nebbia/pre-processed_data/270619/video4_008/trigger_thr0.005_cl9_op3/cc_filtered_2den0.81_gausrad2.0/', list(['mean_270619-video4_008-016_opened_cc06.png']), array([  1.        , 145.63834695,   6.8298333 ,   2.        ,\n",
       "         1.23724812])),\n",
       "       (133, '/media/alessandro/DATA/tesi/Nebbia/pre-processed_data/270619/video4_008/trigger_thr0.005_cl9_op3/cc_filtered_2den0.81_gausrad2.0/', list(['mean_270619-video4_008-017_opened_cc16.png']), array([  1.        , 156.0393088 ,   7.85905281,   3.        ,\n",
       "         1.10444189])),\n",
       "       (134, '/media/alessandro/DATA/tesi/Nebbia/pre-processed_data/270619/video4_008/trigger_thr0.005_cl9_op3/cc_filtered_2den0.81_gausrad2.0/', list(['mean_270619-video4_008-017_opened_cc37.png']), array([  1.        , 262.84924856,   7.56299256,   3.        ,\n",
       "         1.26730641])),\n",
       "       (135, '/media/alessandro/DATA/tesi/Nebbia/pre-processed_data/270619/video4_008/trigger_thr0.005_cl9_op3/cc_filtered_2den0.81_gausrad2.0/', list(['mean_270619-video4_008-017_opened_cc02.png']), array([  1.        , 207.10351479,   3.55361249,   2.        ,\n",
       "         1.57403305])),\n",
       "       (136, '/media/alessandro/DATA/tesi/Nebbia/pre-processed_data/270619/video4_008/trigger_thr0.005_cl9_op3/cc_filtered_2den0.81_gausrad2.0/', list(['mean_270619-video4_008-020_opened_cc45.png']), array([  1.        , 157.33988145,   9.14557998,   2.        ,\n",
       "         1.29993012])),\n",
       "       (137, '/media/alessandro/DATA/tesi/Nebbia/pre-processed_data/270619/video4_008/trigger_thr0.005_cl9_op3/cc_filtered_2den0.81_gausrad2.0/', list(['mean_270619-video4_008-020_opened_cc79.png']), array([  1.        , 162.93477481,   4.99065747,   4.        ,\n",
       "         1.95739513])),\n",
       "       (138, '/media/alessandro/DATA/tesi/Nebbia/pre-processed_data/270619/video4_008/trigger_thr0.005_cl9_op3/cc_filtered_2den0.81_gausrad2.0/', list(['mean_270619-video4_008-020_opened_cc86.png', 'mean_270619-video4_008-021_opened_cc105.png']), array([ 2.        , 84.03408106, 14.1725562 ,  1.5       ,  1.        ])),\n",
       "       (139, '/media/alessandro/DATA/tesi/Nebbia/pre-processed_data/270619/video4_008/trigger_thr0.005_cl9_op3/cc_filtered_2den0.81_gausrad2.0/', list(['mean_270619-video4_008-021_opened_cc06.png']), array([ 1.        , 96.04022798,  0.89845059,  2.        ,  4.36096211])),\n",
       "       (140, '/media/alessandro/DATA/tesi/Nebbia/pre-processed_data/270619/video4_008/trigger_thr0.005_cl9_op3/cc_filtered_2den0.81_gausrad2.0/', list(['mean_270619-video4_008-021_opened_cc33.png']), array([  1.        , 137.26371015,  12.1731416 ,   3.        ,\n",
       "         1.02647337])),\n",
       "       (141, '/media/alessandro/DATA/tesi/Nebbia/pre-processed_data/270619/video4_008/trigger_thr0.005_cl9_op3/cc_filtered_2den0.81_gausrad2.0/', list(['mean_270619-video4_008-021_opened_cc61.png']), array([  1.        , 499.14293988,  10.28625816,   4.        ,\n",
       "         1.76445009])),\n",
       "       (142, '/media/alessandro/DATA/tesi/Nebbia/pre-processed_data/270619/video4_008/trigger_thr0.005_cl9_op3/cc_filtered_2den0.81_gausrad2.0/', list(['mean_270619-video4_008-025_opened_cc05.png']), array([  1.        , 307.11459236,   2.94569619,   5.        ,\n",
       "         1.6678945 ])),\n",
       "       (143, '/media/alessandro/DATA/tesi/Nebbia/pre-processed_data/270619/video4_010/trigger_thr0.005_cl9_op3/cc_filtered_2den0.81_gausrad2.0/', list(['mean_270619-video4_010-013_opened_cc12.png', 'mean_270619-video4_010-014_opened_cc04.png']), array([  2.        , 111.56442981,  12.18557019,   1.        ,\n",
       "         1.00816203])),\n",
       "       (144, '/media/alessandro/DATA/tesi/Nebbia/pre-processed_data/270619/video4_010/trigger_thr0.005_cl9_op3/cc_filtered_2den0.81_gausrad2.0/', list(['mean_270619-video4_010-013_opened_cc17.png']), array([  1.        , 414.37318075,   5.3239189 ,   8.        ,\n",
       "         1.93219294])),\n",
       "       (145, '/media/alessandro/DATA/tesi/Nebbia/pre-processed_data/270619/video4_010/trigger_thr0.005_cl9_op3/cc_filtered_2den0.81_gausrad2.0/', list(['mean_270619-video4_010-013_opened_cc34.png']), array([  1.        , 268.33658177,   7.33136683,   3.        ,\n",
       "         1.65851707])),\n",
       "       (146, '/media/alessandro/DATA/tesi/Nebbia/pre-processed_data/270619/video4_010/trigger_thr0.005_cl9_op3/cc_filtered_2den0.81_gausrad2.0/', list(['mean_270619-video4_010-027_opened_cc06.png']), array([  1.        , 925.66805922,  14.19922395,   6.        ,\n",
       "         2.0201609 ])),\n",
       "       (147, '/media/alessandro/DATA/tesi/Nebbia/pre-processed_data/270619/video4_010/trigger_thr0.005_cl9_op3/cc_filtered_2den0.81_gausrad2.0/', list(['mean_270619-video4_010-027_opened_cc22.png', 'mean_270619-video4_010-028_opened_cc05.png']), array([  2.        , 135.37356756,  10.78015586,   1.5       ,\n",
       "         1.06439834])),\n",
       "       (148, '/media/alessandro/DATA/tesi/Nebbia/pre-processed_data/270619/video4_010/trigger_thr0.005_cl9_op3/cc_filtered_2den0.81_gausrad2.0/', list(['mean_270619-video4_010-028_opened_cc18.png', 'mean_270619-video4_010-029_opened_cc19.png']), array([ 2.        , 83.43885353, 30.06114647,  1.        ,  1.        ])),\n",
       "       (149, '/media/alessandro/DATA/tesi/Nebbia/pre-processed_data/270619/video4_010/trigger_thr0.005_cl9_op3/cc_filtered_2den0.81_gausrad2.0/', list(['mean_270619-video4_010-029_opened_cc12.png']), array([  1.        , 226.47065229,   9.08065918,   4.        ,\n",
       "         1.01519607])),\n",
       "       (150, '/media/alessandro/DATA/tesi/Nebbia/pre-processed_data/270619/video4_010/trigger_thr0.005_cl9_op3/cc_filtered_2den0.81_gausrad2.0/', list(['mean_270619-video4_010-030_opened_cc07.png']), array([  1.        , 183.53954258,   4.51342524,   2.        ,\n",
       "         1.33315058])),\n",
       "       (151, '/media/alessandro/DATA/tesi/Nebbia/pre-processed_data/270619/video4_010/trigger_thr0.005_cl9_op3/cc_filtered_2den0.81_gausrad2.0/', list(['mean_270619-video4_010-030_opened_cc16.png']), array([  1.        , 128.73277807,   4.64604523,   2.        ,\n",
       "         1.32265133])),\n",
       "       (152, '/media/alessandro/DATA/tesi/Nebbia/pre-processed_data/270619/video4_010/trigger_thr0.005_cl9_op3/cc_filtered_2den0.81_gausrad2.0/', list(['mean_270619-video4_010-030_opened_cc17.png']), array([ 1.        , 89.59556626,  8.40443374,  1.        ,  1.00039672])),\n",
       "       (153, '/media/alessandro/DATA/tesi/Nebbia/pre-processed_data/270619/video4_010/trigger_thr0.005_cl9_op3/cc_filtered_2den0.81_gausrad2.0/', list(['mean_270619-video4_010-030_opened_cc28.png']), array([  1.        , 325.5922234 ,   5.35884889,   2.        ,\n",
       "         2.14567911])),\n",
       "       (154, '/media/alessandro/DATA/tesi/Nebbia/pre-processed_data/270619/video4_010/trigger_thr0.005_cl9_op3/cc_filtered_2den0.81_gausrad2.0/', list(['mean_270619-video4_010-030_opened_cc36.png']), array([ 1.        , 80.79944521,  8.70055479,  1.        ,  1.        ])),\n",
       "       (155, '/media/alessandro/DATA/tesi/Nebbia/pre-processed_data/270619/video4_010/trigger_thr0.005_cl9_op3/cc_filtered_2den0.81_gausrad2.0/', list(['mean_270619-video4_010-031_opened_cc18.png']), array([ 1.        , 86.94658104,  6.681762  ,  2.        ,  1.13804035])),\n",
       "       (156, '/media/alessandro/DATA/tesi/Nebbia/pre-processed_data/270619/video4_010/trigger_thr0.005_cl9_op3/cc_filtered_2den0.81_gausrad2.0/', list(['mean_270619-video4_010-031_opened_cc19.png']), array([  1.        , 134.23532214,  10.76467786,   1.        ,\n",
       "         1.        ])),\n",
       "       (157, '/media/alessandro/DATA/tesi/Nebbia/pre-processed_data/270619/video4_011/trigger_thr0.005_cl9_op3/cc_filtered_2den0.81_gausrad2.0/', list(['mean_270619-video4_011-014_opened_cc03.png']), array([  1.        , 163.89245766,   8.56763544,   4.        ,\n",
       "         1.25829374])),\n",
       "       (158, '/media/alessandro/DATA/tesi/Nebbia/pre-processed_data/270619/video4_011/trigger_thr0.005_cl9_op3/cc_filtered_2den0.81_gausrad2.0/', list(['mean_270619-video4_011-014_opened_cc49.png']), array([  1.        , 900.80272716,  10.23579544,   7.        ,\n",
       "         1.85931819])),\n",
       "       (159, '/media/alessandro/DATA/tesi/Nebbia/pre-processed_data/270619/video4_011/trigger_thr0.005_cl9_op3/cc_filtered_2den0.81_gausrad2.0/', list(['mean_270619-video4_011-014_opened_cc62.png', 'mean_270619-video4_011-015_opened_cc81.png', 'mean_270619-video4_011-016_opened_cc86.png']), array([  3.        , 159.98507767,  14.84825567,   1.        ,\n",
       "         1.15522974])),\n",
       "       (160, '/media/alessandro/DATA/tesi/Nebbia/pre-processed_data/270619/video4_011/trigger_thr0.005_cl9_op3/cc_filtered_2den0.81_gausrad2.0/', list(['mean_270619-video4_011-015_opened_cc20.png']), array([ 1.        , 86.29657197,  1.70342803,  1.        ,  6.46820153])),\n",
       "       (161, '/media/alessandro/DATA/tesi/Nebbia/pre-processed_data/270619/video4_011/trigger_thr0.005_cl9_op3/cc_filtered_2den0.81_gausrad2.0/', list(['mean_270619-video4_011-015_opened_cc64.png']), array([  1.        , 121.45431884,  12.04568116,   1.        ,\n",
       "         1.        ])),\n",
       "       (162, '/media/alessandro/DATA/tesi/Nebbia/pre-processed_data/270619/video4_011/trigger_thr0.005_cl9_op3/cc_filtered_2den0.81_gausrad2.0/', list(['mean_270619-video4_011-016_opened_cc102.png']), array([  1.        , 189.93283959,   5.48225969,   3.        ,\n",
       "         1.32612808])),\n",
       "       (163, '/media/alessandro/DATA/tesi/Nebbia/pre-processed_data/270619/video4_011/trigger_thr0.005_cl9_op3/cc_filtered_2den0.81_gausrad2.0/', list(['mean_270619-video4_011-021_opened_cc06.png']), array([  1.        , 556.03252545,   7.89066569,   7.        ,\n",
       "         1.64569338])),\n",
       "       (164, '/media/alessandro/DATA/tesi/Nebbia/pre-processed_data/270619/video4_011/trigger_thr0.005_cl9_op3/cc_filtered_2den0.81_gausrad2.0/', list(['mean_270619-video4_011-047_opened_cc02.png']), array([  1.        , 161.90866009,   9.7398802 ,   2.        ,\n",
       "         1.1282628 ])),\n",
       "       (165, '/media/alessandro/DATA/tesi/Nebbia/pre-processed_data/270619/video4_011/trigger_thr0.005_cl9_op3/cc_filtered_2den0.81_gausrad2.0/', list(['mean_270619-video4_011-047_opened_cc12.png', 'mean_270619-video4_011-048_opened_cc16.png']), array([  2.        , 112.54390617,  13.95609383,   1.        ,\n",
       "         1.14658962])),\n",
       "       (166, '/media/alessandro/DATA/tesi/Nebbia/pre-processed_data/270619/video4_012/trigger_thr0.005_cl9_op3/cc_filtered_2den0.81_gausrad2.0/', list(['mean_270619-video4_012-036_opened_cc13.png']), array([  1.        , 399.47482713,   3.06517944,   5.        ,\n",
       "         2.22722394])),\n",
       "       (167, '/media/alessandro/DATA/tesi/Nebbia/pre-processed_data/270619/video4_012/trigger_thr0.005_cl9_op3/cc_filtered_2den0.81_gausrad2.0/', list(['mean_270619-video4_012-036_opened_cc36.png']), array([  1.        , 422.99557086,   4.22111352,   6.        ,\n",
       "         1.53926522])),\n",
       "       (168, '/media/alessandro/DATA/tesi/Nebbia/pre-processed_data/270619/video4_012/trigger_thr0.005_cl9_op3/cc_filtered_2den0.81_gausrad2.0/', list(['mean_270619-video4_012-037_opened_cc03.png']), array([ 1.        , 87.34044001,  9.15955999,  1.        ,  1.168702  ])),\n",
       "       (169, '/media/alessandro/DATA/tesi/Nebbia/pre-processed_data/270619/video4_012/trigger_thr0.005_cl9_op3/cc_filtered_2den0.81_gausrad2.0/', list(['mean_270619-video4_012-037_opened_cc09.png']), array([1.00000000e+00, 1.02078672e+03, 1.26507795e+01, 7.00000000e+00,\n",
       "       2.14427806e+00])),\n",
       "       (170, '/media/alessandro/DATA/tesi/Nebbia/pre-processed_data/270619/video4_012/trigger_thr0.005_cl9_op3/cc_filtered_2den0.81_gausrad2.0/', list(['mean_270619-video4_012-037_opened_cc39.png']), array([  1.        , 118.91890921,   6.26290032,   4.        ,\n",
       "         1.1303078 ])),\n",
       "       (171, '/media/alessandro/DATA/tesi/Nebbia/pre-processed_data/270619/video4_012/trigger_thr0.005_cl9_op3/cc_filtered_2den0.81_gausrad2.0/', list(['mean_270619-video4_012-037_opened_cc58.png']), array([  1.        , 165.43593039,   7.27554572,   4.        ,\n",
       "         1.34341017])),\n",
       "       (172, '/media/alessandro/DATA/tesi/Nebbia/pre-processed_data/270619/video4_012/trigger_thr0.005_cl9_op3/cc_filtered_2den0.81_gausrad2.0/', list(['mean_270619-video4_012-037_opened_cc36.png']), array([  1.        , 120.16299421,  21.83700579,   1.        ,\n",
       "         1.        ])),\n",
       "       (173, '/media/alessandro/DATA/tesi/Nebbia/pre-processed_data/270619/video4_012/trigger_thr0.005_cl9_op3/cc_filtered_2den0.81_gausrad2.0/', list(['mean_270619-video4_012-047_opened_cc43.png']), array([  1.        , 121.3063721 ,   4.73512958,   3.        ,\n",
       "         1.479346  ])),\n",
       "       (174, '/media/alessandro/DATA/tesi/Nebbia/pre-processed_data/270619/video4_012/trigger_thr0.005_cl9_op3/cc_filtered_2den0.81_gausrad2.0/', list(['mean_270619-video4_012-048_opened_cc25.png']), array([ 1.        , 50.1273147 ,  2.8726853 ,  1.        ,  2.90379737])),\n",
       "       (175, '/media/alessandro/DATA/tesi/Nebbia/pre-processed_data/270619/video4_012/trigger_thr0.005_cl9_op3/cc_filtered_2den0.81_gausrad2.0/', list(['mean_270619-video4_012-048_opened_cc37.png']), array([  1.        , 289.96573835,   9.93147276,   3.        ,\n",
       "         1.4425442 ])),\n",
       "       (176, '/media/alessandro/DATA/tesi/Nebbia/pre-processed_data/270619/video4_012/trigger_thr0.005_cl9_op3/cc_filtered_2den0.81_gausrad2.0/', list(['mean_270619-video4_012-048_opened_cc91.png']), array([ 1.        , 50.39668714,  2.10331286,  1.        ,  4.1708595 ])),\n",
       "       (177, '/media/alessandro/DATA/tesi/Nebbia/pre-processed_data/270619/video4_013/trigger_thr0.005_cl9_op3/cc_filtered_2den0.81_gausrad2.0/', list(['mean_270619-video4_013-001_opened_cc22.png']), array([  1.        , 296.56869764,   6.31950032,   4.        ,\n",
       "         1.68111932])),\n",
       "       (178, '/media/alessandro/DATA/tesi/Nebbia/pre-processed_data/270619/video4_013/trigger_thr0.005_cl9_op3/cc_filtered_2den0.81_gausrad2.0/', list(['mean_270619-video4_013-001_opened_cc46.png']), array([ 1.        , 49.44013949,  3.55986051,  1.        ,  3.80308765])),\n",
       "       (179, '/media/alessandro/DATA/tesi/Nebbia/pre-processed_data/270619/video4_013/trigger_thr0.005_cl9_op3/cc_filtered_2den0.81_gausrad2.0/', list(['mean_270619-video4_013-002_opened_cc12.png']), array([  1.        , 758.4423562 ,  10.30061051,  10.        ,\n",
       "         1.82583942])),\n",
       "       (180, '/media/alessandro/DATA/tesi/Nebbia/pre-processed_data/270619/video4_013/trigger_thr0.005_cl9_op3/cc_filtered_2den0.81_gausrad2.0/', list(['mean_270619-video4_013-002_opened_cc66.png']), array([  1.        , 111.99744401,   7.85948066,   2.        ,\n",
       "         1.58451698])),\n",
       "       (181, '/media/alessandro/DATA/tesi/Nebbia/pre-processed_data/270619/video4_013/trigger_thr0.005_cl9_op3/cc_filtered_2den0.81_gausrad2.0/', list(['mean_270619-video4_013-003_opened_cc02.png', 'mean_270619-video4_013-004_opened_cc04.png']), array([ 2.        , 88.48712393, 23.76287607,  1.        ,  1.        ])),\n",
       "       (182, '/media/alessandro/DATA/tesi/Nebbia/pre-processed_data/270619/video4_013/trigger_thr0.005_cl9_op3/cc_filtered_2den0.81_gausrad2.0/', list(['mean_270619-video4_013-003_opened_cc17.png']), array([ 1.        , 83.17200571, 10.32799429,  1.        ,  1.        ])),\n",
       "       (183, '/media/alessandro/DATA/tesi/Nebbia/pre-processed_data/270619/video4_013/trigger_thr0.005_cl9_op3/cc_filtered_2den0.81_gausrad2.0/', list(['mean_270619-video4_013-004_opened_cc12.png']), array([  1.        , 678.08640196,   9.49736852,   7.        ,\n",
       "         2.28101265])),\n",
       "       (184, '/media/alessandro/DATA/tesi/Nebbia/pre-processed_data/270619/video4_013/trigger_thr0.005_cl9_op3/cc_filtered_2den0.81_gausrad2.0/', list(['mean_270619-video4_013-004_opened_cc13.png']), array([ 1.        , 89.44068862, 22.05931138,  1.        ,  1.        ])),\n",
       "       (185, '/media/alessandro/DATA/tesi/Nebbia/pre-processed_data/270619/video4_013/trigger_thr0.005_cl9_op3/cc_filtered_2den0.81_gausrad2.0/', list(['mean_270619-video4_013-005_opened_cc09.png']), array([  1.        , 130.92270867,   9.10801657,   3.        ,\n",
       "         1.26816897])),\n",
       "       (186, '/media/alessandro/DATA/tesi/Nebbia/pre-processed_data/270619/video4_014/trigger_thr0.005_cl9_op3/cc_filtered_2den0.81_gausrad2.0/', list(['mean_270619-video4_014-003_opened_cc20.png']), array([  1.        , 214.13100502,   5.22455675,   5.        ,\n",
       "         1.6718274 ])),\n",
       "       (187, '/media/alessandro/DATA/tesi/Nebbia/pre-processed_data/270619/video4_014/trigger_thr0.005_cl9_op3/cc_filtered_2den0.81_gausrad2.0/', list(['mean_270619-video4_014-021_opened_cc45.png']), array([ 1.        , 57.7124687 , 12.7875313 ,  1.        ,  1.24990226])),\n",
       "       (188, '/media/alessandro/DATA/tesi/Nebbia/pre-processed_data/270619/video4_014/trigger_thr0.005_cl9_op3/cc_filtered_2den0.81_gausrad2.0/', list(['mean_270619-video4_014-034_opened_cc18.png']), array([  1.        , 134.23603051,   5.32004415,   2.        ,\n",
       "         1.38534975])),\n",
       "       (189, '/media/alessandro/DATA/tesi/Nebbia/pre-processed_data/270619/video4_014/trigger_thr0.005_cl9_op3/cc_filtered_2den0.81_gausrad2.0/', list(['mean_270619-video4_014-034_opened_cc21.png']), array([  1.        , 155.14041493,   8.45839104,   3.        ,\n",
       "         1.18149293])),\n",
       "       (190, '/media/alessandro/DATA/tesi/Nebbia/pre-processed_data/270619/video4_014/trigger_thr0.005_cl9_op3/cc_filtered_2den0.81_gausrad2.0/', list(['mean_270619-video4_014-034_opened_cc46.png']), array([  1.        , 130.5020833 ,  10.4979167 ,   1.        ,\n",
       "         1.21916654])),\n",
       "       (191, '/media/alessandro/DATA/tesi/Nebbia/pre-processed_data/270619/video4_014/trigger_thr0.005_cl9_op3/cc_filtered_2den0.81_gausrad2.0/', list(['mean_270619-video4_014-034_opened_cc53.png', 'mean_270619-video4_014-035_opened_cc43.png']), array([  2.        , 100.99605652,  12.50394348,   1.        ,\n",
       "         1.08889778])),\n",
       "       (192, '/media/alessandro/DATA/tesi/Nebbia/pre-processed_data/270619/video4_014/trigger_thr0.005_cl9_op3/cc_filtered_2den0.81_gausrad2.0/', list(['mean_270619-video4_014-035_opened_cc24.png']), array([  1.        , 210.39708384,   3.30745117,   2.        ,\n",
       "         2.07947338])),\n",
       "       (193, '/media/alessandro/DATA/tesi/Nebbia/pre-processed_data/270619/video4_014/trigger_thr0.005_cl9_op3/cc_filtered_2den0.81_gausrad2.0/', list(['mean_270619-video4_014-035_opened_cc40.png']), array([  1.        , 126.83543951,   1.2837023 ,   2.        ,\n",
       "         2.92992042])),\n",
       "       (194, '/media/alessandro/DATA/tesi/Nebbia/pre-processed_data/270619/video4_014/trigger_thr0.005_cl9_op3/cc_filtered_2den0.81_gausrad2.0/', list(['mean_270619-video4_014-035_opened_cc41.png']), array([  1.        , 281.12302685,   3.0987221 ,   5.        ,\n",
       "         2.28246239])),\n",
       "       (195, '/media/alessandro/DATA/tesi/Nebbia/pre-processed_data/270619/video4_014/trigger_thr0.005_cl9_op3/cc_filtered_2den0.81_gausrad2.0/', list(['mean_270619-video4_014-021_opened_cc15.png']), array([1.00000000e+00, 1.32813633e+03, 7.42827100e+00, 1.90000000e+01,\n",
       "       3.17379230e+00])),\n",
       "       (196, '/media/alessandro/DATA/tesi/Nebbia/pre-processed_data/270619/video4_014/trigger_thr0.005_cl9_op3/cc_filtered_2den0.81_gausrad2.0/', list(['mean_270619-video4_014-037_opened_cc05.png']), array([  1.        , 174.27452064,  10.33333333,   3.        ,\n",
       "         1.60807902])),\n",
       "       (197, '/media/alessandro/DATA/tesi/Nebbia/pre-processed_data/270619/video4_014/trigger_thr0.005_cl9_op3/cc_filtered_2den0.81_gausrad2.0/', list(['mean_270619-video4_014-036_opened_cc06.png']), array([  1.        , 377.31735604,   6.92063371,   5.        ,\n",
       "         1.80278917])),\n",
       "       (198, '/media/alessandro/DATA/tesi/Nebbia/pre-processed_data/270619/video4_014/trigger_thr0.005_cl9_op3/cc_filtered_2den0.81_gausrad2.0/', list(['mean_270619-video4_014-036_opened_cc08.png']), array([  1.        , 105.35767654,   9.12334081,   2.        ,\n",
       "         1.54587127])),\n",
       "       (199, '/media/alessandro/DATA/tesi/Nebbia/pre-processed_data/270619/video4_014/trigger_thr0.005_cl9_op3/cc_filtered_2den0.81_gausrad2.0/', list(['mean_270619-video4_014-036_opened_cc11.png']), array([  1.        , 210.03082603,  14.00751965,   2.        ,\n",
       "         1.14908274])),\n",
       "       (200, '/media/alessandro/DATA/tesi/Nebbia/pre-processed_data/270619/video4_014/trigger_thr0.005_cl9_op3/cc_filtered_2den0.81_gausrad2.0/', list(['mean_270619-video4_014-036_opened_cc79.png']), array([  1.        , 120.22376618,   8.27623382,   1.        ,\n",
       "         1.17031389])),\n",
       "       (201, '/media/alessandro/DATA/tesi/Nebbia/pre-processed_data/270619/video4_014/trigger_thr0.005_cl9_op3/cc_filtered_2den0.81_gausrad2.0/', list(['mean_270619-video4_014-037_opened_cc68.png']), array([  1.        , 209.59715513,  10.45160572,   3.        ,\n",
       "         1.16541823])),\n",
       "       (202, '/media/alessandro/DATA/tesi/Nebbia/pre-processed_data/270619/video4_014/trigger_thr0.005_cl9_op3/cc_filtered_2den0.81_gausrad2.0/', list(['mean_270619-video4_014-038_opened_cc06.png']), array([1.00000000e+00, 1.07986916e+03, 1.40092728e+01, 1.10000000e+01,\n",
       "       2.06807364e+00])),\n",
       "       (203, '/media/alessandro/DATA/tesi/Nebbia/pre-processed_data/270619/video4_014/trigger_thr0.005_cl9_op3/cc_filtered_2den0.81_gausrad2.0/', list(['mean_270619-video4_014-039_opened_cc06.png']), array([  1.        , 102.66158069,   9.40034543,   2.        ,\n",
       "         1.44723025])),\n",
       "       (204, '/media/alessandro/DATA/tesi/Nebbia/pre-processed_data/270619/video4_015/trigger_thr0.005_cl9_op3/cc_filtered_2den0.81_gausrad2.0/', list(['mean_270619-video4_015-013_opened_cc35.png']), array([ 1.        , 16.6160623 ,  7.8839377 ,  1.        ,  1.05089205])),\n",
       "       (205, '/media/alessandro/DATA/tesi/Nebbia/pre-processed_data/270619/video4_015/trigger_thr0.005_cl9_op3/cc_filtered_2den0.81_gausrad2.0/', list(['mean_270619-video4_015-014_opened_cc07.png']), array([  1.        , 481.00034666,   6.76595881,   7.        ,\n",
       "         1.93260127])),\n",
       "       (206, '/media/alessandro/DATA/tesi/Nebbia/pre-processed_data/270619/video4_015/trigger_thr0.005_cl9_op3/cc_filtered_2den0.81_gausrad2.0/', list(['mean_270619-video4_015-036_opened_cc08.png']), array([1.00000000e+00, 1.02303089e+03, 1.50701929e+01, 8.00000000e+00,\n",
       "       2.19706084e+00])),\n",
       "       (207, '/media/alessandro/DATA/tesi/Nebbia/pre-processed_data/270619/video4_015/trigger_thr0.005_cl9_op3/cc_filtered_2den0.81_gausrad2.0/', list(['mean_270619-video4_015-041_opened_cc09.png']), array([  1.        , 306.94965235,   8.5558017 ,   2.        ,\n",
       "         2.04315524])),\n",
       "       (208, '/media/alessandro/DATA/tesi/Nebbia/pre-processed_data/270619/video4_015/trigger_thr0.005_cl9_op3/cc_filtered_2den0.81_gausrad2.0/', list(['mean_270619-video4_015-041_opened_cc55.png']), array([  1.        , 385.28478419,  20.51637703,   5.        ,\n",
       "         1.82599424])),\n",
       "       (209, '/media/alessandro/DATA/tesi/Nebbia/pre-processed_data/270619/video4_016/trigger_thr0.005_cl9_op3/cc_filtered_2den0.81_gausrad2.0/', list(['mean_270619-video4_016-020_opened_cc47.png']), array([ 1.        , 68.81934729, 19.18065271,  1.        ,  1.        ])),\n",
       "       (210, '/media/alessandro/DATA/tesi/Nebbia/pre-processed_data/270619/video4_016/trigger_thr0.005_cl9_op3/cc_filtered_2den0.81_gausrad2.0/', list(['mean_270619-video4_016-020_opened_cc66.png']), array([  1.        , 130.36176478,  11.13823522,   1.        ,\n",
       "         1.26708223])),\n",
       "       (211, '/media/alessandro/DATA/tesi/Nebbia/pre-processed_data/270619/video4_016/trigger_thr0.005_cl9_op3/cc_filtered_2den0.81_gausrad2.0/', list(['mean_270619-video4_016-020_opened_cc76.png']), array([  1.        , 154.1440866 ,  10.30075615,   2.        ,\n",
       "         1.20764606])),\n",
       "       (212, '/media/alessandro/DATA/tesi/Nebbia/pre-processed_data/270619/video4_016/trigger_thr0.005_cl9_op3/cc_filtered_2den0.81_gausrad2.0/', list(['mean_270619-video4_016-021_opened_cc09.png']), array([ 1.        , 82.88873605,  2.11126395,  1.        ,  5.14054119])),\n",
       "       (213, '/media/alessandro/DATA/tesi/Nebbia/pre-processed_data/270619/video4_016/trigger_thr0.005_cl9_op3/cc_filtered_2den0.81_gausrad2.0/', list(['mean_270619-video4_016-021_opened_cc25.png']), array([  1.        , 258.26386728,   4.9581427 ,   3.        ,\n",
       "         1.43958361])),\n",
       "       (214, '/media/alessandro/DATA/tesi/Nebbia/pre-processed_data/270619/video4_016/trigger_thr0.005_cl9_op3/cc_filtered_2den0.81_gausrad2.0/', list(['mean_270619-video4_016-027_opened_cc09.png']), array([  1.        , 156.51911441,   5.37062389,   3.        ,\n",
       "         1.48897101])),\n",
       "       (215, '/media/alessandro/DATA/tesi/Nebbia/pre-processed_data/270619/video4_016/trigger_thr0.005_cl9_op3/cc_filtered_2den0.81_gausrad2.0/', list(['mean_270619-video4_016-027_opened_cc18.png']), array([  1.        , 190.90020958,  12.56798046,   4.        ,\n",
       "         1.15750254])),\n",
       "       (216, '/media/alessandro/DATA/tesi/Nebbia/pre-processed_data/270619/video4_016/trigger_thr0.005_cl9_op3/cc_filtered_2den0.81_gausrad2.0/', list(['mean_270619-video4_016-027_opened_cc58.png']), array([  1.        , 125.71481612,  10.28518388,   1.        ,\n",
       "         1.10005621])),\n",
       "       (217, '/media/alessandro/DATA/tesi/Nebbia/pre-processed_data/270619/video4_016/trigger_thr0.005_cl9_op3/cc_filtered_2den0.81_gausrad2.0/', list(['mean_270619-video4_016-027_opened_cc80.png']), array([  1.        , 153.09186032,   6.88694461,   4.        ,\n",
       "         1.34105492])),\n",
       "       (218, '/media/alessandro/DATA/tesi/Nebbia/pre-processed_data/270619/video4_017/trigger_thr0.005_cl9_op3/cc_filtered_2den0.81_gausrad2.0/', list(['mean_270619-video4_017-006_opened_cc50.png']), array([  1.        , 108.81675405,   9.9276878 ,   2.        ,\n",
       "         1.        ])),\n",
       "       (219, '/media/alessandro/DATA/tesi/Nebbia/pre-processed_data/270619/video4_017/trigger_thr0.005_cl9_op3/cc_filtered_2den0.81_gausrad2.0/', list(['mean_270619-video4_017-006_opened_cc59.png']), array([  1.        , 129.44404336,   9.86647001,   3.        ,\n",
       "         1.18991595])),\n",
       "       (220, '/media/alessandro/DATA/tesi/Nebbia/pre-processed_data/270619/video4_017/trigger_thr0.005_cl9_op3/cc_filtered_2den0.81_gausrad2.0/', list(['mean_270619-video4_017-007_opened_cc01.png']), array([  1.        , 669.14628953,   6.20006961,  13.        ,\n",
       "         2.20797075])),\n",
       "       (221, '/media/alessandro/DATA/tesi/Nebbia/pre-processed_data/270619/video4_017/trigger_thr0.005_cl9_op3/cc_filtered_2den0.81_gausrad2.0/', list(['mean_270619-video4_017-007_opened_cc03.png']), array([1.00000000e+00, 1.83930720e+03, 7.98769550e+00, 2.40000000e+01,\n",
       "       3.92919292e+00])),\n",
       "       (222, '/media/alessandro/DATA/tesi/Nebbia/pre-processed_data/270619/video4_017/trigger_thr0.005_cl9_op3/cc_filtered_2den0.81_gausrad2.0/', list(['mean_270619-video4_017-007_opened_cc04.png']), array([ 1.        , 94.36277258,  3.31185347,  2.        ,  1.47280114])),\n",
       "       (223, '/media/alessandro/DATA/tesi/Nebbia/pre-processed_data/270619/video4_017/trigger_thr0.005_cl9_op3/cc_filtered_2den0.81_gausrad2.0/', list(['mean_270619-video4_017-007_opened_cc21.png', 'mean_270619-video4_017-008_opened_cc24.png']), array([  2.        , 221.66967964,   9.16939225,   4.        ,\n",
       "         1.18313452])),\n",
       "       (224, '/media/alessandro/DATA/tesi/Nebbia/pre-processed_data/270619/video4_017/trigger_thr0.005_cl9_op3/cc_filtered_2den0.81_gausrad2.0/', list(['mean_270619-video4_017-007_opened_cc57.png']), array([ 1.        , 80.75193073,  8.11399906,  2.        ,  1.2353399 ])),\n",
       "       (225, '/media/alessandro/DATA/tesi/Nebbia/pre-processed_data/270619/video4_017/trigger_thr0.005_cl9_op3/cc_filtered_2den0.81_gausrad2.0/', list(['mean_270619-video4_017-008_opened_cc57.png']), array([ 1.        , 39.42738339,  5.07261661,  1.        ,  1.98632288])),\n",
       "       (226, '/media/alessandro/DATA/tesi/Nebbia/pre-processed_data/270619/video4_017/trigger_thr0.005_cl9_op3/cc_filtered_2den0.81_gausrad2.0/', list(['mean_270619-video4_017-008_opened_cc64.png']), array([  1.        , 123.32032231,   2.39201523,   3.        ,\n",
       "         1.83733037])),\n",
       "       (227, '/media/alessandro/DATA/tesi/Nebbia/pre-processed_data/270619/video4_017/trigger_thr0.005_cl9_op3/cc_filtered_2den0.81_gausrad2.0/', list(['mean_270619-video4_017-009_opened_cc07.png']), array([1.00000000e+00, 1.48896958e+03, 1.06240932e+01, 2.00000000e+01,\n",
       "       3.06837114e+00])),\n",
       "       (228, '/media/alessandro/DATA/tesi/Nebbia/pre-processed_data/270619/video4_017/trigger_thr0.005_cl9_op3/cc_filtered_2den0.81_gausrad2.0/', list(['mean_270619-video4_017-009_opened_cc75.png']), array([  1.        , 102.19045534,   4.80632235,   2.        ,\n",
       "         1.34589345])),\n",
       "       (229, '/media/alessandro/DATA/tesi/Nebbia/pre-processed_data/270619/video4_017/trigger_thr0.005_cl9_op3/cc_filtered_2den0.81_gausrad2.0/', list(['mean_270619-video4_017-009_opened_cc85.png']), array([ 1.        , 66.70286949, 12.14981061,  2.        ,  1.        ])),\n",
       "       (230, '/media/alessandro/DATA/tesi/Nebbia/pre-processed_data/270619/video4_017/trigger_thr0.005_cl9_op3/cc_filtered_2den0.81_gausrad2.0/', list(['mean_270619-video4_017-014_opened_cc04.png']), array([  1.        , 211.1631572 ,   4.73590559,   4.        ,\n",
       "         1.35749233])),\n",
       "       (231, '/media/alessandro/DATA/tesi/Nebbia/pre-processed_data/270619/video4_017/trigger_thr0.005_cl9_op3/cc_filtered_2den0.81_gausrad2.0/', list(['mean_270619-video4_017-014_opened_cc08.png']), array([  1.        , 106.47959956,   7.04850092,   3.        ,\n",
       "         1.33759475])),\n",
       "       (232, '/media/alessandro/DATA/tesi/Nebbia/pre-processed_data/270619/video4_017/trigger_thr0.005_cl9_op3/cc_filtered_2den0.81_gausrad2.0/', list(['mean_270619-video4_017-020_opened_cc03.png']), array([  1.        , 112.63110528,  12.68944608,   2.        ,\n",
       "         1.03475092])),\n",
       "       (233, '/media/alessandro/DATA/tesi/Nebbia/pre-processed_data/270619/video4_017/trigger_thr0.005_cl9_op3/cc_filtered_2den0.81_gausrad2.0/', list(['mean_270619-video4_017-020_opened_cc09.png']), array([  1.        , 108.03942046,   5.35171402,   2.        ,\n",
       "         1.58812825])),\n",
       "       (234, '/media/alessandro/DATA/tesi/Nebbia/pre-processed_data/270619/video4_017/trigger_thr0.005_cl9_op3/cc_filtered_2den0.81_gausrad2.0/', list(['mean_270619-video4_017-028_opened_cc07.png']), array([  1.        , 148.73524313,   7.53648607,   2.        ,\n",
       "         1.27703849])),\n",
       "       (235, '/media/alessandro/DATA/tesi/Nebbia/pre-processed_data/270619/video4_017/trigger_thr0.005_cl9_op3/cc_filtered_2den0.81_gausrad2.0/', list(['mean_270619-video4_017-028_opened_cc11.png']), array([ 1.        , 89.93860406,  8.56139594,  1.        ,  1.        ])),\n",
       "       (236, '/media/alessandro/DATA/tesi/Nebbia/pre-processed_data/270619/video4_018/trigger_thr0.005_cl9_op3/cc_filtered_2den0.81_gausrad2.0/', list(['mean_270619-video4_018-010_opened_cc10.png']), array([  1.        , 149.78637223,  11.46736204,   3.        ,\n",
       "         1.        ])),\n",
       "       (237, '/media/alessandro/DATA/tesi/Nebbia/pre-processed_data/270619/video4_018/trigger_thr0.005_cl9_op3/cc_filtered_2den0.81_gausrad2.0/', list(['mean_270619-video4_018-010_opened_cc35.png']), array([  1.        , 366.00155916,  11.91879543,   2.        ,\n",
       "         2.73677103])),\n",
       "       (238, '/media/alessandro/DATA/tesi/Nebbia/pre-processed_data/270619/video4_018/trigger_thr0.005_cl9_op3/cc_filtered_2den0.81_gausrad2.0/', list(['mean_270619-video4_018-010_opened_cc61.png']), array([  1.        , 121.77946452,   5.80863133,   2.        ,\n",
       "         1.3906079 ])),\n",
       "       (239, '/media/alessandro/DATA/tesi/Nebbia/pre-processed_data/270619/video4_018/trigger_thr0.005_cl9_op3/cc_filtered_2den0.81_gausrad2.0/', list(['mean_270619-video4_018-022_opened_cc01.png']), array([  1.        , 108.64551583,   8.85448417,   1.        ,\n",
       "         1.3175204 ])),\n",
       "       (240, '/media/alessandro/DATA/tesi/Nebbia/pre-processed_data/270619/video4_019/trigger_thr0.005_cl9_op3/cc_filtered_2den0.81_gausrad2.0/', list(['mean_270619-video4_019-008_opened_cc10.png']), array([ 1.        , 77.66071611,  9.58262414,  2.        ,  1.        ])),\n",
       "       (241, '/media/alessandro/DATA/tesi/Nebbia/pre-processed_data/270619/video4_019/trigger_thr0.005_cl9_op3/cc_filtered_2den0.81_gausrad2.0/', list(['mean_270619-video4_019-008_opened_cc15.png']), array([ 1.        , 86.76428443,  7.29648084,  2.        ,  1.54714374])),\n",
       "       (242, '/media/alessandro/DATA/tesi/Nebbia/pre-processed_data/270619/video4_019/trigger_thr0.005_cl9_op3/cc_filtered_2den0.81_gausrad2.0/', list(['mean_270619-video4_019-008_opened_cc38.png']), array([  1.        , 356.82603291,   5.45642681,   6.        ,\n",
       "         1.2789135 ])),\n",
       "       (243, '/media/alessandro/DATA/tesi/Nebbia/pre-processed_data/270619/video4_019/trigger_thr0.005_cl9_op3/cc_filtered_2den0.81_gausrad2.0/', list(['mean_270619-video4_019-009_opened_cc04.png']), array([  1.        , 107.50773134,  10.49226866,   1.        ,\n",
       "         1.16029801])),\n",
       "       (244, '/media/alessandro/DATA/tesi/Nebbia/pre-processed_data/270619/video4_019/trigger_thr0.005_cl9_op3/cc_filtered_2den0.81_gausrad2.0/', list(['mean_270619-video4_019-009_opened_cc18.png']), array([  1.        , 150.66264488,   7.66666667,   3.        ,\n",
       "         1.19913903])),\n",
       "       (245, '/media/alessandro/DATA/tesi/Nebbia/pre-processed_data/270619/video4_019/trigger_thr0.005_cl9_op3/cc_filtered_2den0.81_gausrad2.0/', list(['mean_270619-video4_019-010_opened_cc05.png']), array([  1.        , 553.04360823,   9.27883692,   8.        ,\n",
       "         1.83443077])),\n",
       "       (246, '/media/alessandro/DATA/tesi/Nebbia/pre-processed_data/270619/video4_019/trigger_thr0.005_cl9_op3/cc_filtered_2den0.81_gausrad2.0/', list(['mean_270619-video4_019-011_opened_cc01.png']), array([  1.        , 143.10399562,   3.66666667,   3.        ,\n",
       "         1.82139282])),\n",
       "       (247, '/media/alessandro/DATA/tesi/Nebbia/pre-processed_data/270619/video4_019/trigger_thr0.005_cl9_op3/cc_filtered_2den0.81_gausrad2.0/', list(['mean_270619-video4_019-011_opened_cc08.png']), array([  1.        , 206.93016932,   7.25200328,   3.        ,\n",
       "         1.62811011])),\n",
       "       (248, '/media/alessandro/DATA/tesi/Nebbia/pre-processed_data/270619/video4_019/trigger_thr0.005_cl9_op3/cc_filtered_2den0.81_gausrad2.0/', list(['mean_270619-video4_019-011_opened_cc71.png']), array([  1.        , 321.90818704,   8.16823101,   5.        ,\n",
       "         1.89406918])),\n",
       "       (249, '/media/alessandro/DATA/tesi/Nebbia/pre-processed_data/270619/video4_019/trigger_thr0.005_cl9_op3/cc_filtered_2den0.81_gausrad2.0/', list(['mean_270619-video4_019-016_opened_cc30.png', 'mean_270619-video4_019-017_opened_cc31.png', 'mean_270619-video4_019-018_opened_cc45.png']), array([  3.        , 180.7292674 ,  22.24195683,   1.66666667,\n",
       "         1.12311727])),\n",
       "       (250, '/media/alessandro/DATA/tesi/Nebbia/pre-processed_data/270619/video4_019/trigger_thr0.005_cl9_op3/cc_filtered_2den0.81_gausrad2.0/', list(['mean_270619-video4_019-016_opened_cc53.png']), array([ 1.        , 92.21326438, 12.28673562,  1.        ,  1.        ])),\n",
       "       (251, '/media/alessandro/DATA/tesi/Nebbia/pre-processed_data/270619/video4_019/trigger_thr0.005_cl9_op3/cc_filtered_2den0.81_gausrad2.0/', list(['mean_270619-video4_019-017_opened_cc15.png']), array([ 1.        , 80.42900652, 10.07099348,  1.        ,  1.27729469])),\n",
       "       (252, '/media/alessandro/DATA/tesi/Nebbia/pre-processed_data/270619/video4_019/trigger_thr0.005_cl9_op3/cc_filtered_2den0.81_gausrad2.0/', list(['mean_270619-video4_019-017_opened_cc68.png', 'mean_270619-video4_019-018_opened_cc90.png']), array([ 2.        , 97.382954  ,  8.23063004,  2.        ,  1.25627629])),\n",
       "       (253, '/media/alessandro/DATA/tesi/Nebbia/pre-processed_data/270619/video4_019/trigger_thr0.005_cl9_op3/cc_filtered_2den0.81_gausrad2.0/', list(['mean_270619-video4_019-018_opened_cc11.png']), array([ 1.        , 41.66809723,  2.83190277,  1.        ,  3.32547619])),\n",
       "       (254, '/media/alessandro/DATA/tesi/Nebbia/pre-processed_data/270619/video4_019/trigger_thr0.005_cl9_op3/cc_filtered_2den0.81_gausrad2.0/', list(['mean_270619-video4_019-009_opened_cc59.png']), array([  1.        , 170.7148811 ,  14.60020597,   2.        ,\n",
       "         1.40132799])),\n",
       "       (255, '/media/alessandro/DATA/tesi/Nebbia/pre-processed_data/270619/video4_019/trigger_thr0.005_cl9_op3/cc_filtered_2den0.81_gausrad2.0/', list(['mean_270619-video4_019-026_opened_cc08.png']), array([  1.        , 426.32335569,  11.83171525,   4.        ,\n",
       "         1.35199117])),\n",
       "       (256, '/media/alessandro/DATA/tesi/Nebbia/pre-processed_data/270619/video4_019/trigger_thr0.005_cl9_op3/cc_filtered_2den0.81_gausrad2.0/', list(['mean_270619-video4_019-026_opened_cc10.png']), array([  1.        , 106.35405729,   7.14594271,   1.        ,\n",
       "         1.08434262])),\n",
       "       (257, '/media/alessandro/DATA/tesi/Nebbia/pre-processed_data/270619/video4_019/trigger_thr0.005_cl9_op3/cc_filtered_2den0.81_gausrad2.0/', list(['mean_270619-video4_019-027_opened_cc05.png']), array([  1.        , 119.22020198,  12.27979802,   1.        ,\n",
       "         1.        ])),\n",
       "       (258, '/media/alessandro/DATA/tesi/Nebbia/pre-processed_data/270619/video4_019/trigger_thr0.005_cl9_op3/cc_filtered_2den0.81_gausrad2.0/', list(['mean_270619-video4_019-027_opened_cc14.png']), array([  1.        , 417.67925152,   7.82094518,   5.        ,\n",
       "         2.00786449])),\n",
       "       (259, '/media/alessandro/DATA/tesi/Nebbia/pre-processed_data/270619/video4_019/trigger_thr0.005_cl9_op3/cc_filtered_2den0.81_gausrad2.0/', list(['mean_270619-video4_019-038_opened_cc34.png']), array([  1.        , 139.61109273,   6.47502673,   3.        ,\n",
       "         1.38059734])),\n",
       "       (260, '/media/alessandro/DATA/tesi/Nebbia/pre-processed_data/270619/video4_019/trigger_thr0.005_cl9_op3/cc_filtered_2den0.81_gausrad2.0/', list(['mean_270619-video4_019-038_opened_cc56.png']), array([  1.        , 167.49850012,   9.71111303,   2.        ,\n",
       "         1.13203091])),\n",
       "       (261, '/media/alessandro/DATA/tesi/Nebbia/pre-processed_data/270619/video4_019/trigger_thr0.005_cl9_op3/cc_filtered_2den0.81_gausrad2.0/', list(['mean_270619-video4_019-038_opened_cc57.png']), array([  1.        , 292.66041939,  14.        ,   5.        ,\n",
       "         1.30050748])),\n",
       "       (262, '/media/alessandro/DATA/tesi/Nebbia/pre-processed_data/270619/video4_020/trigger_thr0.005_cl9_op3/cc_filtered_2den0.81_gausrad2.0/', list(['mean_270619-video4_020-004_opened_cc07.png']), array([  1.        , 202.8352522 ,   6.90747448,   5.        ,\n",
       "         1.18975701])),\n",
       "       (263, '/media/alessandro/DATA/tesi/Nebbia/pre-processed_data/270619/video4_020/trigger_thr0.005_cl9_op3/cc_filtered_2den0.81_gausrad2.0/', list(['mean_270619-video4_020-004_opened_cc08.png', 'mean_270619-video4_020-005_opened_cc11.png']), array([  2.        , 165.82185438,   8.33595727,   2.5       ,\n",
       "         1.28568666])),\n",
       "       (264, '/media/alessandro/DATA/tesi/Nebbia/pre-processed_data/270619/video4_020/trigger_thr0.005_cl9_op3/cc_filtered_2den0.81_gausrad2.0/', list(['mean_270619-video4_020-007_opened_cc12.png']), array([  1.        , 176.39232505,   9.42881274,   4.        ,\n",
       "         1.27085259])),\n",
       "       (265, '/media/alessandro/DATA/tesi/Nebbia/pre-processed_data/270619/video4_020/trigger_thr0.005_cl9_op3/cc_filtered_2den0.81_gausrad2.0/', list(['mean_270619-video4_020-007_opened_cc58.png']), array([  1.        , 440.20400342,  10.00790662,   6.        ,\n",
       "         1.81333648])),\n",
       "       (266, '/media/alessandro/DATA/tesi/Nebbia/pre-processed_data/270619/video4_020/trigger_thr0.005_cl9_op3/cc_filtered_2den0.81_gausrad2.0/', list(['mean_270619-video4_020-008_opened_cc01.png']), array([  1.        , 131.6150886 ,   4.98734583,   2.        ,\n",
       "         1.44631965])),\n",
       "       (267, '/media/alessandro/DATA/tesi/Nebbia/pre-processed_data/270619/video4_020/trigger_thr0.005_cl9_op3/cc_filtered_2den0.81_gausrad2.0/', list(['mean_270619-video4_020-008_opened_cc09.png']), array([  1.        , 188.81620209,   3.54203217,   3.        ,\n",
       "         1.38487713])),\n",
       "       (268, '/media/alessandro/DATA/tesi/Nebbia/pre-processed_data/270619/video4_020/trigger_thr0.005_cl9_op3/cc_filtered_2den0.81_gausrad2.0/', list(['mean_270619-video4_020-037_opened_cc20.png']), array([ 1.        , 64.62473176,  6.37526824,  1.        ,  1.4928424 ])),\n",
       "       (269, '/media/alessandro/DATA/tesi/Nebbia/pre-processed_data/270619/video4_020/trigger_thr0.005_cl9_op3/cc_filtered_2den0.81_gausrad2.0/', list(['mean_270619-video4_020-037_opened_cc24.png']), array([  1.        , 148.01643093,  10.21420688,   3.        ,\n",
       "         1.30129678])),\n",
       "       (270, '/media/alessandro/DATA/tesi/Nebbia/pre-processed_data/270619/video4_020/trigger_thr0.005_cl9_op3/cc_filtered_2den0.81_gausrad2.0/', list(['mean_270619-video4_020-037_opened_cc38.png']), array([  1.        , 839.00027534,   9.66853786,   6.        ,\n",
       "         1.67224124])),\n",
       "       (271, '/media/alessandro/DATA/tesi/Nebbia/pre-processed_data/270619/video4_020/trigger_thr0.005_cl9_op3/cc_filtered_2den0.81_gausrad2.0/', list(['mean_270619-video4_020-037_opened_cc39.png']), array([  1.        , 346.32117268,   7.526386  ,   5.        ,\n",
       "         2.10854181])),\n",
       "       (272, '/media/alessandro/DATA/tesi/Nebbia/pre-processed_data/270619/video4_020/trigger_thr0.005_cl9_op3/cc_filtered_2den0.81_gausrad2.0/', list(['mean_270619-video4_020-037_opened_cc44.png']), array([  1.        , 377.01222485,   5.40131295,   5.        ,\n",
       "         1.73708843])),\n",
       "       (273, '/media/alessandro/DATA/tesi/Nebbia/pre-processed_data/270619/video4_020/trigger_thr0.005_cl9_op3/cc_filtered_2den0.81_gausrad2.0/', list(['mean_270619-video4_020-037_opened_cc46.png']), array([  1.        , 251.98936819,   3.50817212,   5.        ,\n",
       "         1.60970393])),\n",
       "       (274, '/media/alessandro/DATA/tesi/Nebbia/pre-processed_data/270619/video4_020/trigger_thr0.005_cl9_op3/cc_filtered_2den0.81_gausrad2.0/', list(['mean_270619-video4_020-037_opened_cc88.png']), array([ 1.        , 94.33984677, 13.63437852,  2.        ,  1.        ])),\n",
       "       (275, '/media/alessandro/DATA/tesi/Nebbia/pre-processed_data/270619/video4_020/trigger_thr0.005_cl9_op3/cc_filtered_2den0.81_gausrad2.0/', list(['mean_270619-video4_020-044_opened_cc37.png']), array([ 1.        , 80.73372925,  7.76627075,  1.        ,  1.00917162])),\n",
       "       (276, '/media/alessandro/DATA/tesi/Nebbia/pre-processed_data/270619/video4_020/trigger_thr0.005_cl9_op3/cc_filtered_2den0.81_gausrad2.0/', list(['mean_270619-video4_020-046_opened_cc04.png']), array([  1.        , 416.36371313,  11.58166673,   5.        ,\n",
       "         1.69052528])),\n",
       "       (277, '/media/alessandro/DATA/tesi/Nebbia/pre-processed_data/270619/video4_020/trigger_thr0.005_cl9_op3/cc_filtered_2den0.81_gausrad2.0/', list(['mean_270619-video4_020-046_opened_cc47.png']), array([  1.        , 143.2142717 ,   1.48276681,   2.        ,\n",
       "         1.83037315])),\n",
       "       (278, '/media/alessandro/DATA/tesi/Nebbia/pre-processed_data/270619/video4_020/trigger_thr0.005_cl9_op3/cc_filtered_2den0.81_gausrad2.0/', list(['mean_270619-video4_020-005_opened_cc27.png']), array([  1.        , 228.66777125,  10.67787622,   4.        ,\n",
       "         1.35334807])),\n",
       "       (279, '/media/alessandro/DATA/tesi/Nebbia/pre-processed_data/270619/video4_020/trigger_thr0.005_cl9_op3/cc_filtered_2den0.81_gausrad2.0/', list(['mean_270619-video4_020-006_opened_cc10.png']), array([ 1.        , 44.92669822,  4.07330178,  1.        ,  1.51104838])),\n",
       "       (280, '/media/alessandro/DATA/tesi/Nebbia/pre-processed_data/270619/video4_020/trigger_thr0.005_cl9_op3/cc_filtered_2den0.81_gausrad2.0/', list(['mean_270619-video4_020-006_opened_cc46.png']), array([ 1.        , 57.81757676,  3.18242324,  1.        ,  2.45643345])),\n",
       "       (281, '/media/alessandro/DATA/tesi/Nebbia/pre-processed_data/270619/video4_020/trigger_thr0.005_cl9_op3/cc_filtered_2den0.81_gausrad2.0/', list(['mean_270619-video4_020-007_opened_cc02.png']), array([  1.        , 134.37487575,   8.62512425,   1.        ,\n",
       "         1.24160658])),\n",
       "       (282, '/media/alessandro/DATA/tesi/Nebbia/pre-processed_data/270619/video4_021/trigger_thr0.005_cl9_op3/cc_filtered_2den0.81_gausrad2.0/', list(['mean_270619-video4_021-027_opened_cc19.png']), array([  1.        , 167.07630049,   8.87600117,   3.        ,\n",
       "         1.07788918])),\n",
       "       (283, '/media/alessandro/DATA/tesi/Nebbia/pre-processed_data/270619/video4_021/trigger_thr0.005_cl9_op3/cc_filtered_2den0.81_gausrad2.0/', list(['mean_270619-video4_021-021_opened_cc26.png']), array([ 1.        , 78.39774004,  7.60225996,  1.        ,  1.51864036])),\n",
       "       (284, '/media/alessandro/DATA/tesi/Nebbia/pre-processed_data/270619/video4_021/trigger_thr0.005_cl9_op3/cc_filtered_2den0.81_gausrad2.0/', list(['mean_270619-video4_021-021_opened_cc47.png']), array([  1.        , 210.99495076,   8.64076311,   3.        ,\n",
       "         1.27835822])),\n",
       "       (285, '/media/alessandro/DATA/tesi/Nebbia/pre-processed_data/270619/video4_021/trigger_thr0.005_cl9_op3/cc_filtered_2den0.81_gausrad2.0/', list(['mean_270619-video4_021-027_opened_cc12.png']), array([ 1.        , 93.74349752,  7.04123565,  3.        ,  1.29353682])),\n",
       "       (286, '/media/alessandro/DATA/tesi/Nebbia/pre-processed_data/270619/video4_021/trigger_thr0.005_cl9_op3/cc_filtered_2den0.81_gausrad2.0/', list(['mean_270619-video4_021-027_opened_cc27.png']), array([  1.        , 242.81218133,   8.95777661,   3.        ,\n",
       "         1.5736201 ])),\n",
       "       (287, '/media/alessandro/DATA/tesi/Nebbia/pre-processed_data/270619/video4_021/trigger_thr0.005_cl9_op3/cc_filtered_2den0.81_gausrad2.0/', list(['mean_270619-video4_021-027_opened_cc36.png']), array([  1.        , 160.53752198,   2.14327608,   2.        ,\n",
       "         2.2122598 ])),\n",
       "       (288, '/media/alessandro/DATA/tesi/Nebbia/pre-processed_data/270619/video4_021/trigger_thr0.005_cl9_op3/cc_filtered_2den0.81_gausrad2.0/', list(['mean_270619-video4_021-027_opened_cc56.png']), array([  1.        , 176.38201698,  12.03965066,   3.        ,\n",
       "         1.00814416])),\n",
       "       (289, '/media/alessandro/DATA/tesi/Nebbia/pre-processed_data/270619/video4_021/trigger_thr0.005_cl9_op3/cc_filtered_2den0.81_gausrad2.0/', list(['mean_270619-video4_021-036_opened_cc14.png']), array([  1.        , 316.88139091,   8.29342584,   5.        ,\n",
       "         1.7311013 ])),\n",
       "       (290, '/media/alessandro/DATA/tesi/Nebbia/pre-processed_data/270619/video4_021/trigger_thr0.005_cl9_op3/cc_filtered_2den0.81_gausrad2.0/', list(['mean_270619-video4_021-036_opened_cc72.png']), array([  1.        , 448.44646444,  11.91588968,   6.        ,\n",
       "         1.60757251])),\n",
       "       (291, '/media/alessandro/DATA/tesi/Nebbia/pre-processed_data/270619/video4_022/trigger_thr0.005_cl9_op3/cc_filtered_2den0.81_gausrad2.0/', list(['mean_270619-video4_022-007_opened_cc07.png']), array([  1.        , 196.88010093,   1.98327062,   3.        ,\n",
       "         1.80867682])),\n",
       "       (292, '/media/alessandro/DATA/tesi/Nebbia/pre-processed_data/270619/video4_022/trigger_thr0.005_cl9_op3/cc_filtered_2den0.81_gausrad2.0/', list(['mean_270619-video4_022-012_opened_cc17.png']), array([  1.        , 238.69086806,   8.50833719,   5.        ,\n",
       "         1.39997654])),\n",
       "       (293, '/media/alessandro/DATA/tesi/Nebbia/pre-processed_data/270619/video4_022/trigger_thr0.005_cl9_op3/cc_filtered_2den0.81_gausrad2.0/', list(['mean_270619-video4_022-012_opened_cc63.png']), array([  1.        , 119.02218663,   5.8619057 ,   3.        ,\n",
       "         1.19839888])),\n",
       "       (294, '/media/alessandro/DATA/tesi/Nebbia/pre-processed_data/270619/video4_022/trigger_thr0.005_cl9_op3/cc_filtered_2den0.81_gausrad2.0/', list(['mean_270619-video4_022-012_opened_cc98.png']), array([ 1.        , 82.87041833, 14.87262687,  2.        ,  1.        ])),\n",
       "       (295, '/media/alessandro/DATA/tesi/Nebbia/pre-processed_data/270619/video4_022/trigger_thr0.005_cl9_op3/cc_filtered_2den0.81_gausrad2.0/', list(['mean_270619-video4_022-013_opened_cc13.png']), array([  1.        , 124.46628589,   2.72554121,   2.        ,\n",
       "         1.80518677])),\n",
       "       (296, '/media/alessandro/DATA/tesi/Nebbia/pre-processed_data/270619/video4_022/trigger_thr0.005_cl9_op3/cc_filtered_2den0.81_gausrad2.0/', list(['mean_270619-video4_022-013_opened_cc28.png']), array([  1.        , 100.46951978,   6.33333333,   3.        ,\n",
       "         1.19395244])),\n",
       "       (297, '/media/alessandro/DATA/tesi/Nebbia/pre-processed_data/270619/video4_022/trigger_thr0.005_cl9_op3/cc_filtered_2den0.81_gausrad2.0/', list(['mean_270619-video4_022-013_opened_cc29.png']), array([  1.        , 227.3787397 ,   3.36735509,   5.        ,\n",
       "         2.19918114])),\n",
       "       (298, '/media/alessandro/DATA/tesi/Nebbia/pre-processed_data/270619/video4_022/trigger_thr0.005_cl9_op3/cc_filtered_2den0.81_gausrad2.0/', list(['mean_270619-video4_022-013_opened_cc30.png']), array([  1.        , 305.62345455,   7.21599954,   6.        ,\n",
       "         1.58288269])),\n",
       "       (299, '/media/alessandro/DATA/tesi/Nebbia/pre-processed_data/270619/video4_022/trigger_thr0.005_cl9_op3/cc_filtered_2den0.81_gausrad2.0/', list(['mean_270619-video4_022-013_opened_cc48.png']), array([  1.        , 180.51925339,   6.43171415,   3.        ,\n",
       "         1.98576739])),\n",
       "       (300, '/media/alessandro/DATA/tesi/Nebbia/pre-processed_data/270619/video4_022/trigger_thr0.005_cl9_op3/cc_filtered_2den0.81_gausrad2.0/', list(['mean_270619-video4_022-013_opened_cc57.png', 'mean_270619-video4_022-014_opened_cc15.png']), array([  2.        , 116.19608244,  10.57423998,   1.5       ,\n",
       "         1.        ])),\n",
       "       (301, '/media/alessandro/DATA/tesi/Nebbia/pre-processed_data/270619/video4_022/trigger_thr0.005_cl9_op3/cc_filtered_2den0.81_gausrad2.0/', list(['mean_270619-video4_022-014_opened_cc01.png']), array([  1.        , 408.62306704,  10.8322791 ,   4.        ,\n",
       "         1.1437726 ])),\n",
       "       (302, '/media/alessandro/DATA/tesi/Nebbia/pre-processed_data/270619/video4_022/trigger_thr0.005_cl9_op3/cc_filtered_2den0.81_gausrad2.0/', list(['mean_270619-video4_022-019_opened_cc06.png']), array([  1.        , 279.93618641,   6.18050975,   6.        ,\n",
       "         1.5109848 ])),\n",
       "       (303, '/media/alessandro/DATA/tesi/Nebbia/pre-processed_data/270619/video4_022/trigger_thr0.005_cl9_op3/cc_filtered_2den0.81_gausrad2.0/', list(['mean_270619-video4_022-019_opened_cc18.png']), array([  1.        , 347.85146039,   7.4679474 ,   6.        ,\n",
       "         2.31648871])),\n",
       "       (304, '/media/alessandro/DATA/tesi/Nebbia/pre-processed_data/270619/video4_022/trigger_thr0.005_cl9_op3/cc_filtered_2den0.81_gausrad2.0/', list(['mean_270619-video4_022-013_opened_cc08.png']), array([  1.        , 261.4900052 ,  12.65258635,   3.        ,\n",
       "         1.52970454])),\n",
       "       (305, '/media/alessandro/DATA/tesi/Nebbia/pre-processed_data/270619/video4_022/trigger_thr0.005_cl9_op3/cc_filtered_2den0.81_gausrad2.0/', list(['mean_270619-video4_022-019_opened_cc83.png']), array([  1.        , 685.80503114,  13.29730997,   8.        ,\n",
       "         2.10912127])),\n",
       "       (306, '/media/alessandro/DATA/tesi/Nebbia/pre-processed_data/270619/video4_022/trigger_thr0.005_cl9_op3/cc_filtered_2den0.81_gausrad2.0/', list(['mean_270619-video4_022-020_opened_cc01.png']), array([1.00000000e+00, 1.08156162e+03, 7.71072946e+00, 9.00000000e+00,\n",
       "       2.30412780e+00])),\n",
       "       (307, '/media/alessandro/DATA/tesi/Nebbia/pre-processed_data/270619/video4_022/trigger_thr0.005_cl9_op3/cc_filtered_2den0.81_gausrad2.0/', list(['mean_270619-video4_022-020_opened_cc04.png']), array([ 1.        , 86.02860206,  7.04863555,  2.        ,  1.38737765])),\n",
       "       (308, '/media/alessandro/DATA/tesi/Nebbia/pre-processed_data/270619/video4_022/trigger_thr0.005_cl9_op3/cc_filtered_2den0.81_gausrad2.0/', list(['mean_270619-video4_022-020_opened_cc11.png']), array([  1.        , 168.634424  ,   7.34050345,   3.        ,\n",
       "         1.114246  ])),\n",
       "       (309, '/media/alessandro/DATA/tesi/Nebbia/pre-processed_data/270619/video4_022/trigger_thr0.005_cl9_op3/cc_filtered_2den0.81_gausrad2.0/', list(['mean_270619-video4_022-020_opened_cc26.png']), array([  1.        , 312.74779483,   7.66387736,   3.        ,\n",
       "         1.91898706])),\n",
       "       (310, '/media/alessandro/DATA/tesi/Nebbia/pre-processed_data/270619/video4_022/trigger_thr0.005_cl9_op3/cc_filtered_2den0.81_gausrad2.0/', list(['mean_270619-video4_022-020_opened_cc28.png']), array([  1.        , 144.81461988,   6.67262095,   4.        ,\n",
       "         1.30739803])),\n",
       "       (311, '/media/alessandro/DATA/tesi/Nebbia/pre-processed_data/270619/video4_022/trigger_thr0.005_cl9_op3/cc_filtered_2den0.81_gausrad2.0/', list(['mean_270619-video4_022-021_opened_cc12.png']), array([ 1.        , 85.76770311, 25.73229689,  1.        ,  1.        ])),\n",
       "       (312, '/media/alessandro/DATA/tesi/Nebbia/pre-processed_data/270619/video4_022/trigger_thr0.005_cl9_op3/cc_filtered_2den0.81_gausrad2.0/', list(['mean_270619-video4_022-021_opened_cc15.png']), array([ 1.        , 74.76517528,  4.73482472,  1.        ,  1.59909504])),\n",
       "       (313, '/media/alessandro/DATA/tesi/Nebbia/pre-processed_data/270619/video4_022/trigger_thr0.005_cl9_op3/cc_filtered_2den0.81_gausrad2.0/', list(['mean_270619-video4_022-022_opened_cc45.png']), array([  1.        , 178.65890792,   7.52560622,   2.        ,\n",
       "         1.21827366])),\n",
       "       (314, '/media/alessandro/DATA/tesi/Nebbia/pre-processed_data/270619/video4_022/trigger_thr0.005_cl9_op3/cc_filtered_2den0.81_gausrad2.0/', list(['mean_270619-video4_022-022_opened_cc57.png']), array([  1.        , 135.92503357,  10.41376829,   2.        ,\n",
       "         1.04465039])),\n",
       "       (315, '/media/alessandro/DATA/tesi/Nebbia/pre-processed_data/270619/video4_023/trigger_thr0.005_cl9_op3/cc_filtered_2den0.81_gausrad2.0/', list(['mean_270619-video4_023-004_opened_cc05.png', 'mean_270619-video4_023-005_opened_cc11.png', 'mean_270619-video4_023-006_opened_cc06.png']), array([  3.        , 120.37723273,  24.12276727,   1.        ,\n",
       "         1.00719642])),\n",
       "       (316, '/media/alessandro/DATA/tesi/Nebbia/pre-processed_data/270619/video4_023/trigger_thr0.005_cl9_op3/cc_filtered_2den0.81_gausrad2.0/', list(['mean_270619-video4_023-005_opened_cc05.png']), array([  1.        , 255.18054735,   6.0933611 ,   5.        ,\n",
       "         1.21282379])),\n",
       "       (317, '/media/alessandro/DATA/tesi/Nebbia/pre-processed_data/270619/video4_023/trigger_thr0.005_cl9_op3/cc_filtered_2den0.81_gausrad2.0/', list(['mean_270619-video4_023-005_opened_cc14.png']), array([  1.        , 300.30769629,   4.89931508,   5.        ,\n",
       "         2.13960374])),\n",
       "       (318, '/media/alessandro/DATA/tesi/Nebbia/pre-processed_data/270619/video4_023/trigger_thr0.005_cl9_op3/cc_filtered_2den0.81_gausrad2.0/', list(['mean_270619-video4_023-007_opened_cc08.png']), array([  1.        , 241.79660117,   5.71196455,   3.        ,\n",
       "         1.21469027])),\n",
       "       (319, '/media/alessandro/DATA/tesi/Nebbia/pre-processed_data/270619/video4_023/trigger_thr0.005_cl9_op3/cc_filtered_2den0.81_gausrad2.0/', list(['mean_270619-video4_023-008_opened_cc05.png']), array([  1.        , 147.28733949,  21.71266051,   1.        ,\n",
       "         1.01403995])),\n",
       "       (320, '/media/alessandro/DATA/tesi/Nebbia/pre-processed_data/270619/video4_023/trigger_thr0.005_cl9_op3/cc_filtered_2den0.81_gausrad2.0/', list(['mean_270619-video4_023-008_opened_cc15.png', 'mean_270619-video4_023-009_opened_cc09.png']), array([  2.        , 108.99158825,  10.00870059,   1.5       ,\n",
       "         1.04312916])),\n",
       "       (321, '/media/alessandro/DATA/tesi/Nebbia/pre-processed_data/270619/video4_023/trigger_thr0.005_cl9_op3/cc_filtered_2den0.81_gausrad2.0/', list(['mean_270619-video4_023-009_opened_cc08.png']), array([  1.        , 145.60396388,   9.24030335,   2.        ,\n",
       "         1.13721866])),\n",
       "       (322, '/media/alessandro/DATA/tesi/Nebbia/pre-processed_data/270619/video4_023/trigger_thr0.005_cl9_op3/cc_filtered_2den0.81_gausrad2.0/', list(['mean_270619-video4_023-041_opened_cc15.png', 'mean_270619-video4_023-042_opened_cc41.png', 'mean_270619-video4_023-043_opened_cc108.png', 'mean_270619-video4_023-044_opened_cc68.png']), array([4. , nan, nan, 1.5, nan])),\n",
       "       (323, '/media/alessandro/DATA/tesi/Nebbia/pre-processed_data/270619/video4_023/trigger_thr0.005_cl9_op3/cc_filtered_2den0.81_gausrad2.0/', list(['mean_270619-video4_023-043_opened_cc73.png']), array([  1.        , 109.24821516,  14.57208314,   2.        ,\n",
       "         1.16392875])),\n",
       "       (324, '/media/alessandro/DATA/tesi/Nebbia/pre-processed_data/270619/video4_023/trigger_thr0.005_cl9_op3/cc_filtered_2den0.81_gausrad2.0/', list(['mean_270619-video4_023-044_opened_cc34.png']), array([1.00000000e+00, 1.16374161e+03, 4.78769619e+00, 1.80000000e+01,\n",
       "       2.61973102e+00])),\n",
       "       (325, '/media/alessandro/DATA/tesi/Nebbia/pre-processed_data/270619/video4_023/trigger_thr0.005_cl9_op3/cc_filtered_2den0.81_gausrad2.0/', list(['mean_270619-video4_023-044_opened_cc50.png']), array([  1.        , 441.52266345,   6.46654568,   8.        ,\n",
       "         2.16638399])),\n",
       "       (326, '/media/alessandro/DATA/tesi/Nebbia/pre-processed_data/270619/video4_023/trigger_thr0.005_cl9_op3/cc_filtered_2den0.81_gausrad2.0/', list(['mean_270619-video4_023-044_opened_cc59.png']), array([ 1.        , 90.5207846 ,  7.35899607,  2.        ,  1.50513015])),\n",
       "       (327, '/media/alessandro/DATA/tesi/Nebbia/pre-processed_data/270619/video4_023/trigger_thr0.005_cl9_op3/cc_filtered_2den0.81_gausrad2.0/', list(['mean_270619-video4_023-006_opened_cc02.png']), array([  1.        , 138.69169325,   4.55365957,   3.        ,\n",
       "         1.81719898])),\n",
       "       (328, '/media/alessandro/DATA/tesi/Nebbia/pre-processed_data/270619/video4_023/trigger_thr0.005_cl9_op3/cc_filtered_2den0.81_gausrad2.0/', list(['mean_270619-video4_023-042_opened_cc02.png']), array([  1.        , 335.17608902,   7.5080157 ,   7.        ,\n",
       "         1.46152056])),\n",
       "       (329, '/media/alessandro/DATA/tesi/Nebbia/pre-processed_data/270619/video4_024/trigger_thr0.005_cl9_op3/cc_filtered_2den0.81_gausrad2.0/', list(['mean_270619-video4_024-016_opened_cc02.png']), array([1.00000000e+00, 1.00248999e+03, 7.02345084e+00, 1.10000000e+01,\n",
       "       1.85774711e+00])),\n",
       "       (330, '/media/alessandro/DATA/tesi/Nebbia/pre-processed_data/270619/video4_024/trigger_thr0.005_cl9_op3/cc_filtered_2den0.81_gausrad2.0/', list(['mean_270619-video4_024-030_opened_cc08.png']), array([  1.        , 117.65470485,  10.84529515,   1.        ,\n",
       "         1.06341027])),\n",
       "       (331, '/media/alessandro/DATA/tesi/Nebbia/pre-processed_data/270619/video4_024/trigger_thr0.005_cl9_op3/cc_filtered_2den0.81_gausrad2.0/', list(['mean_270619-video4_024-033_opened_cc07.png']), array([  1.        , 115.62485294,   9.37514706,   1.        ,\n",
       "         1.04836614])),\n",
       "       (332, '/media/alessandro/DATA/tesi/Nebbia/pre-processed_data/270619/video4_024/trigger_thr0.005_cl9_op3/cc_filtered_2den0.81_gausrad2.0/', list(['mean_270619-video4_024-033_opened_cc11.png']), array([ 1.        , 75.93743885, 12.06256115,  1.        ,  1.        ])),\n",
       "       (333, '/media/alessandro/DATA/tesi/Nebbia/pre-processed_data/270619/video4_024/trigger_thr0.005_cl9_op3/cc_filtered_2den0.81_gausrad2.0/', list(['mean_270619-video4_024-033_opened_cc12.png']), array([  1.        , 109.15282291,  10.84717709,   1.        ,\n",
       "         1.01692725])),\n",
       "       (334, '/media/alessandro/DATA/tesi/Nebbia/pre-processed_data/270619/video4_024/trigger_thr0.005_cl9_op3/cc_filtered_2den0.81_gausrad2.0/', list(['mean_270619-video4_024-033_opened_cc13.png']), array([  1.        , 148.20822786,  10.1071257 ,   3.        ,\n",
       "         1.18441574])),\n",
       "       (335, '/media/alessandro/DATA/tesi/Nebbia/pre-processed_data/270619/video4_024/trigger_thr0.005_cl9_op3/cc_filtered_2den0.81_gausrad2.0/', list(['mean_270619-video4_024-034_opened_cc05.png']), array([  1.        , 240.03589905,  12.43962617,   2.        ,\n",
       "         1.        ])),\n",
       "       (336, '/media/alessandro/DATA/tesi/Nebbia/pre-processed_data/270619/video4_024/trigger_thr0.005_cl9_op3/cc_filtered_2den0.81_gausrad2.0/', list(['mean_270619-video4_024-037_opened_cc06.png']), array([  1.        , 103.81484476,  12.18515524,   1.        ,\n",
       "         1.01990242])),\n",
       "       (337, '/media/alessandro/DATA/tesi/Nebbia/pre-processed_data/270619/video4_025/trigger_thr0.005_cl9_op3/cc_filtered_2den0.81_gausrad2.0/', list(['mean_270619-video4_025-003_opened_cc04.png']), array([ 1.        , 99.32848459,  7.67151541,  1.        ,  1.44793094])),\n",
       "       (338, '/media/alessandro/DATA/tesi/Nebbia/pre-processed_data/270619/video4_025/trigger_thr0.005_cl9_op3/cc_filtered_2den0.81_gausrad2.0/', list(['mean_270619-video4_025-011_opened_cc21.png']), array([  1.        , 252.45702149,   5.6749856 ,   4.        ,\n",
       "         2.66513136])),\n",
       "       (339, '/media/alessandro/DATA/tesi/Nebbia/pre-processed_data/270619/video4_025/trigger_thr0.005_cl9_op3/cc_filtered_2den0.81_gausrad2.0/', list(['mean_270619-video4_025-011_opened_cc54.png']), array([  1.        , 139.33863397,   7.43481152,   3.        ,\n",
       "         1.45802449])),\n",
       "       (340, '/media/alessandro/DATA/tesi/Nebbia/pre-processed_data/270619/video4_025/trigger_thr0.005_cl9_op3/cc_filtered_2den0.81_gausrad2.0/', list(['mean_270619-video4_025-037_opened_cc03.png']), array([ 1.        , 88.20409589,  8.9094224 ,  2.        ,  1.07470115])),\n",
       "       (341, '/media/alessandro/DATA/tesi/Nebbia/pre-processed_data/270619/video4_025/trigger_thr0.005_cl9_op3/cc_filtered_2den0.81_gausrad2.0/', list(['mean_270619-video4_025-040_opened_cc01.png']), array([1.00000000e+00, 1.63272126e+03, 7.62859019e+00, 2.30000000e+01,\n",
       "       2.97734696e+00])),\n",
       "       (342, '/media/alessandro/DATA/tesi/Nebbia/pre-processed_data/270619/video4_025/trigger_thr0.005_cl9_op3/cc_filtered_2den0.81_gausrad2.0/', list(['mean_270619-video4_025-040_opened_cc15.png']), array([  1.        , 196.48010863,   2.79523404,   3.        ,\n",
       "         1.91154197])),\n",
       "       (343, '/media/alessandro/DATA/tesi/Nebbia/pre-processed_data/270619/video4_025/trigger_thr0.005_cl9_op3/cc_filtered_2den0.81_gausrad2.0/', list(['mean_270619-video4_025-040_opened_cc32.png']), array([  1.        , 133.78125417,   3.61845853,   3.        ,\n",
       "         1.86582738])),\n",
       "       (344, '/media/alessandro/DATA/tesi/Nebbia/pre-processed_data/270619/video4_025/trigger_thr0.005_cl9_op3/cc_filtered_2den0.81_gausrad2.0/', list(['mean_270619-video4_025-040_opened_cc61.png']), array([  1.        , 101.37276276,   8.46743741,   3.        ,\n",
       "         1.54091136])),\n",
       "       (345, '/media/alessandro/DATA/tesi/Nebbia/pre-processed_data/270619/video4_026/trigger_thr0.005_cl9_op3/cc_filtered_2den0.81_gausrad2.0/', list(['mean_270619-video4_026-016_opened_cc09.png']), array([ 1.        , 39.03121954,  6.96878046,  1.        ,  1.17844361])),\n",
       "       (346, '/media/alessandro/DATA/tesi/Nebbia/pre-processed_data/270619/video4_026/trigger_thr0.005_cl9_op3/cc_filtered_2den0.81_gausrad2.0/', list(['mean_270619-video4_026-016_opened_cc60.png', 'mean_270619-video4_026-017_opened_cc35.png']), array([  2.        , 148.60391686,   8.26919997,   2.        ,\n",
       "         1.09536016])),\n",
       "       (347, '/media/alessandro/DATA/tesi/Nebbia/pre-processed_data/270619/video4_026/trigger_thr0.005_cl9_op3/cc_filtered_2den0.81_gausrad2.0/', list(['mean_270619-video4_026-016_opened_cc76.png']), array([  1.        , 362.12354421,   5.98109761,   6.        ,\n",
       "         1.75794342])),\n",
       "       (348, '/media/alessandro/DATA/tesi/Nebbia/pre-processed_data/270619/video4_026/trigger_thr0.005_cl9_op3/cc_filtered_2den0.81_gausrad2.0/', list(['mean_270619-video4_026-016_opened_cc84.png']), array([  1.        , 119.54979041,   3.56088625,   2.        ,\n",
       "         1.71681195])),\n",
       "       (349, '/media/alessandro/DATA/tesi/Nebbia/pre-processed_data/270619/video4_026/trigger_thr0.005_cl9_op3/cc_filtered_2den0.81_gausrad2.0/', list(['mean_270619-video4_026-018_opened_cc11.png']), array([  1.        , 111.42037688,  15.49600051,   2.        ,\n",
       "         1.        ])),\n",
       "       (350, '/media/alessandro/DATA/tesi/Nebbia/pre-processed_data/270619/video4_026/trigger_thr0.005_cl9_op3/cc_filtered_2den0.81_gausrad2.0/', list(['mean_270619-video4_026-021_opened_cc79.png']), array([  1.        , 223.7255429 ,   8.37250018,   3.        ,\n",
       "         1.26457154])),\n",
       "       (351, '/media/alessandro/DATA/tesi/Nebbia/pre-processed_data/270619/video4_026/trigger_thr0.005_cl9_op3/cc_filtered_2den0.81_gausrad2.0/', list(['mean_270619-video4_026-021_opened_cc82.png']), array([  1.        , 255.02368001,   8.52281147,   3.        ,\n",
       "         1.28791626])),\n",
       "       (352, '/media/alessandro/DATA/tesi/Nebbia/pre-processed_data/270619/video4_026/trigger_thr0.005_cl9_op3/cc_filtered_2den0.81_gausrad2.0/', list(['mean_270619-video4_026-031_opened_cc10.png']), array([  1.        , 995.94175653,  13.33056535,   8.        ,\n",
       "         2.27111253])),\n",
       "       (353, '/media/alessandro/DATA/tesi/Nebbia/pre-processed_data/270619/video4_026/trigger_thr0.005_cl9_op3/cc_filtered_2den0.81_gausrad2.0/', list(['mean_270619-video4_026-031_opened_cc18.png']), array([  1.        , 137.81839276,   9.17972504,   3.        ,\n",
       "         1.03766673])),\n",
       "       (354, '/media/alessandro/DATA/tesi/Nebbia/pre-processed_data/270619/video4_026/trigger_thr0.005_cl9_op3/cc_filtered_2den0.81_gausrad2.0/', list(['mean_270619-video4_026-037_opened_cc20.png']), array([  1.        , 168.40660644,   8.79585023,   2.        ,\n",
       "         1.28044574])),\n",
       "       (355, '/media/alessandro/DATA/tesi/Nebbia/pre-processed_data/270619/video4_026/trigger_thr0.005_cl9_op3/cc_filtered_2den0.81_gausrad2.0/', list(['mean_270619-video4_026-016_opened_cc25.png']), array([  1.        , 306.97429419,   7.60121707,   4.        ,\n",
       "         1.92624179])),\n",
       "       (356, '/media/alessandro/DATA/tesi/Nebbia/pre-processed_data/270619/video4_027/trigger_thr0.005_cl9_op3/cc_filtered_2den0.81_gausrad2.0/', list(['mean_270619-video4_027-011_opened_cc26.png']), array([  1.        , 124.61460885,   6.606309  ,   3.        ,\n",
       "         1.20797329])),\n",
       "       (357, '/media/alessandro/DATA/tesi/Nebbia/pre-processed_data/270619/video4_027/trigger_thr0.005_cl9_op3/cc_filtered_2den0.81_gausrad2.0/', list(['mean_270619-video4_027-034_opened_cc04.png', 'mean_270619-video4_027-035_opened_cc04.png']), array([  2.        , 216.04088012,   8.99351295,   2.        ,\n",
       "         1.12062724])),\n",
       "       (358, '/media/alessandro/DATA/tesi/Nebbia/pre-processed_data/270619/video4_027/trigger_thr0.005_cl9_op3/cc_filtered_2den0.81_gausrad2.0/', list(['mean_270619-video4_027-035_opened_cc16.png']), array([  1.        , 117.39895008,   8.02823639,   3.        ,\n",
       "         1.03864411])),\n",
       "       (359, '/media/alessandro/DATA/tesi/Nebbia/pre-processed_data/270619/video4_027/trigger_thr0.005_cl9_op3/cc_filtered_2den0.81_gausrad2.0/', list(['mean_270619-video4_027-043_opened_cc66.png']), array([  1.        , 204.15588086,  11.80877402,   2.        ,\n",
       "         1.17759595])),\n",
       "       (360, '/media/alessandro/DATA/tesi/Nebbia/pre-processed_data/270619/video4_027/trigger_thr0.005_cl9_op3/cc_filtered_2den0.81_gausrad2.0/', list(['mean_270619-video4_027-048_opened_cc19.png']), array([  1.        , 108.61468162,  10.11157216,   3.        ,\n",
       "         1.09706203])),\n",
       "       (361, '/media/alessandro/DATA/tesi/Nebbia/pre-processed_data/270619/video4_028/trigger_thr0.005_cl9_op3/cc_filtered_2den0.81_gausrad2.0/', list(['mean_270619-video4_028-007_opened_cc06.png']), array([  1.        , 694.14423131,   7.21309048,  11.        ,\n",
       "         2.13002851])),\n",
       "       (362, '/media/alessandro/DATA/tesi/Nebbia/pre-processed_data/270619/video4_028/trigger_thr0.005_cl9_op3/cc_filtered_2den0.81_gausrad2.0/', list(['mean_270619-video4_028-007_opened_cc16.png']), array([ 1.        , 89.17329305,  5.32670695,  1.        ,  1.6267191 ])),\n",
       "       (363, '/media/alessandro/DATA/tesi/Nebbia/pre-processed_data/270619/video4_028/trigger_thr0.005_cl9_op3/cc_filtered_2den0.81_gausrad2.0/', list(['mean_270619-video4_028-007_opened_cc24.png']), array([  1.        , 257.7803274 ,   5.00666815,   5.        ,\n",
       "         1.44526491])),\n",
       "       (364, '/media/alessandro/DATA/tesi/Nebbia/pre-processed_data/270619/video4_028/trigger_thr0.005_cl9_op3/cc_filtered_2den0.81_gausrad2.0/', list(['mean_270619-video4_028-007_opened_cc28.png', 'mean_270619-video4_028-008_opened_cc06.png']), array([  2.        , 124.68171378,  16.56828622,   1.        ,\n",
       "         1.        ])),\n",
       "       (365, '/media/alessandro/DATA/tesi/Nebbia/pre-processed_data/270619/video4_028/trigger_thr0.005_cl9_op3/cc_filtered_2den0.81_gausrad2.0/', list(['mean_270619-video4_028-007_opened_cc56.png']), array([  1.        , 124.44053962,   8.85810167,   3.        ,\n",
       "         1.34211096])),\n",
       "       (366, '/media/alessandro/DATA/tesi/Nebbia/pre-processed_data/270619/video4_028/trigger_thr0.005_cl9_op3/cc_filtered_2den0.81_gausrad2.0/', list(['mean_270619-video4_028-010_opened_cc38.png']), array([  1.        , 670.08348179,   4.84640638,  12.        ,\n",
       "         2.58758068])),\n",
       "       (367, '/media/alessandro/DATA/tesi/Nebbia/pre-processed_data/270619/video4_028/trigger_thr0.005_cl9_op3/cc_filtered_2den0.81_gausrad2.0/', list(['mean_270619-video4_028-010_opened_cc44.png']), array([  1.        , 107.29995312,   3.83147125,   2.        ,\n",
       "         1.65468958])),\n",
       "       (368, '/media/alessandro/DATA/tesi/Nebbia/pre-processed_data/270619/video4_028/trigger_thr0.005_cl9_op3/cc_filtered_2den0.81_gausrad2.0/', list(['mean_270619-video4_028-011_opened_cc03.png']), array([  1.        , 894.92582224,  12.30343382,   4.        ,\n",
       "         1.65883518]))],\n",
       "      dtype=[('ID', '<i8'), ('path', '<U200'), ('names', 'O'), ('values', 'O')])"
      ]
     },
     "execution_count": 94,
     "metadata": {},
     "output_type": "execute_result"
    }
   ],
   "source": [
    "d.slim_particles"
   ]
  },
  {
   "cell_type": "code",
   "execution_count": 98,
   "metadata": {},
   "outputs": [],
   "source": [
    "d.slim_particles[321][3] = np.array([4.,200,21,1.5,1.02])\n",
    "d.values[321] = np.array([4.,200,21,1.5,1.02])\n",
    "d.labels[321] = 1"
   ]
  },
  {
   "cell_type": "code",
   "execution_count": 41,
   "metadata": {
    "scrolled": false
   },
   "outputs": [
    {
     "name": "stdout",
     "output_type": "stream",
     "text": [
      "Help on method plot in module Clusterizer:\n",
      "\n",
      "plot(labels=[]) method of Clusterizer.Clusterizer instance\n",
      "    Before running this function type\n",
      "    \n",
      "        %matplotlib notebook\n",
      "        \n",
      "    Use the lists to select axis\n",
      "    \n",
      "    Click near a data point to select it:\n",
      "        press 'f' to view its pre-processed Frame picture\n",
      "        press 't' to view its Trace analysis (takes a bit of time)\n",
      "        press 'n' to go to the Next trace of that particle\n",
      "        press 'r' to Recall the selected particle after you changed the axis\n",
      "        press 'e' to view its frame from the vidEo\n",
      "        press 'a' to highlight All components in the same video frame of the selected particle\n",
      "        press 'w' to close (Waste) all figures windows \n",
      "        press 'b' to change the laBel of the selected particle\n",
      "        press 's' to Save the capacitor\n",
      "        \n",
      "    If you want to use diffrent labels for the data point run plot(labels=<mylabels>)\n",
      "\n"
     ]
    }
   ],
   "source": [
    "help(d.plot)"
   ]
  },
  {
   "cell_type": "code",
   "execution_count": 101,
   "metadata": {},
   "outputs": [
    {
     "name": "stderr",
     "output_type": "stream",
     "text": [
      "Widget Javascript not detected.  It may not be installed or enabled properly.\n"
     ]
    },
    {
     "data": {
      "application/vnd.jupyter.widget-view+json": {
       "model_id": "7be67e8a9bd24eac868933c892294a91"
      }
     },
     "metadata": {},
     "output_type": "display_data"
    }
   ],
   "source": [
    "%matplotlib notebook\n",
    "d.plot()"
   ]
  },
  {
   "cell_type": "markdown",
   "metadata": {},
   "source": [
    "# Big Clusterizer (alla data)"
   ]
  },
  {
   "cell_type": "code",
   "execution_count": 2,
   "metadata": {},
   "outputs": [],
   "source": [
    "big_c = Clusterizer.load_Clusterizer(path='./Clusterizers/',name='all')"
   ]
  },
  {
   "cell_type": "code",
   "execution_count": 3,
   "metadata": {},
   "outputs": [],
   "source": [
    "reduced_c = Clusterizer.sub_Clusterizer(big_c,newname='reduced')"
   ]
  },
  {
   "cell_type": "code",
   "execution_count": 5,
   "metadata": {},
   "outputs": [
    {
     "name": "stdout",
     "output_type": "stream",
     "text": [
      "real signals, believed signals, false signals, missed signals\n",
      "81 38 0 43\n",
      "0.4691358024691358 1.0\n",
      "3380\n"
     ]
    }
   ],
   "source": [
    "c = big_c\n",
    "\n",
    "labels,e,p = Clusterizer.classify(c,thrs=[2,400,17,4,1.8],verbose=True)\n",
    "print(e,p)\n",
    "print(len(c.labels))"
   ]
  },
  {
   "cell_type": "code",
   "execution_count": 16,
   "metadata": {
    "scrolled": false
   },
   "outputs": [
    {
     "data": {
      "application/javascript": [
       "/* Put everything inside the global mpl namespace */\n",
       "window.mpl = {};\n",
       "\n",
       "\n",
       "mpl.get_websocket_type = function() {\n",
       "    if (typeof(WebSocket) !== 'undefined') {\n",
       "        return WebSocket;\n",
       "    } else if (typeof(MozWebSocket) !== 'undefined') {\n",
       "        return MozWebSocket;\n",
       "    } else {\n",
       "        alert('Your browser does not have WebSocket support.' +\n",
       "              'Please try Chrome, Safari or Firefox ≥ 6. ' +\n",
       "              'Firefox 4 and 5 are also supported but you ' +\n",
       "              'have to enable WebSockets in about:config.');\n",
       "    };\n",
       "}\n",
       "\n",
       "mpl.figure = function(figure_id, websocket, ondownload, parent_element) {\n",
       "    this.id = figure_id;\n",
       "\n",
       "    this.ws = websocket;\n",
       "\n",
       "    this.supports_binary = (this.ws.binaryType != undefined);\n",
       "\n",
       "    if (!this.supports_binary) {\n",
       "        var warnings = document.getElementById(\"mpl-warnings\");\n",
       "        if (warnings) {\n",
       "            warnings.style.display = 'block';\n",
       "            warnings.textContent = (\n",
       "                \"This browser does not support binary websocket messages. \" +\n",
       "                    \"Performance may be slow.\");\n",
       "        }\n",
       "    }\n",
       "\n",
       "    this.imageObj = new Image();\n",
       "\n",
       "    this.context = undefined;\n",
       "    this.message = undefined;\n",
       "    this.canvas = undefined;\n",
       "    this.rubberband_canvas = undefined;\n",
       "    this.rubberband_context = undefined;\n",
       "    this.format_dropdown = undefined;\n",
       "\n",
       "    this.image_mode = 'full';\n",
       "\n",
       "    this.root = $('<div/>');\n",
       "    this._root_extra_style(this.root)\n",
       "    this.root.attr('style', 'display: inline-block');\n",
       "\n",
       "    $(parent_element).append(this.root);\n",
       "\n",
       "    this._init_header(this);\n",
       "    this._init_canvas(this);\n",
       "    this._init_toolbar(this);\n",
       "\n",
       "    var fig = this;\n",
       "\n",
       "    this.waiting = false;\n",
       "\n",
       "    this.ws.onopen =  function () {\n",
       "            fig.send_message(\"supports_binary\", {value: fig.supports_binary});\n",
       "            fig.send_message(\"send_image_mode\", {});\n",
       "            if (mpl.ratio != 1) {\n",
       "                fig.send_message(\"set_dpi_ratio\", {'dpi_ratio': mpl.ratio});\n",
       "            }\n",
       "            fig.send_message(\"refresh\", {});\n",
       "        }\n",
       "\n",
       "    this.imageObj.onload = function() {\n",
       "            if (fig.image_mode == 'full') {\n",
       "                // Full images could contain transparency (where diff images\n",
       "                // almost always do), so we need to clear the canvas so that\n",
       "                // there is no ghosting.\n",
       "                fig.context.clearRect(0, 0, fig.canvas.width, fig.canvas.height);\n",
       "            }\n",
       "            fig.context.drawImage(fig.imageObj, 0, 0);\n",
       "        };\n",
       "\n",
       "    this.imageObj.onunload = function() {\n",
       "        fig.ws.close();\n",
       "    }\n",
       "\n",
       "    this.ws.onmessage = this._make_on_message_function(this);\n",
       "\n",
       "    this.ondownload = ondownload;\n",
       "}\n",
       "\n",
       "mpl.figure.prototype._init_header = function() {\n",
       "    var titlebar = $(\n",
       "        '<div class=\"ui-dialog-titlebar ui-widget-header ui-corner-all ' +\n",
       "        'ui-helper-clearfix\"/>');\n",
       "    var titletext = $(\n",
       "        '<div class=\"ui-dialog-title\" style=\"width: 100%; ' +\n",
       "        'text-align: center; padding: 3px;\"/>');\n",
       "    titlebar.append(titletext)\n",
       "    this.root.append(titlebar);\n",
       "    this.header = titletext[0];\n",
       "}\n",
       "\n",
       "\n",
       "\n",
       "mpl.figure.prototype._canvas_extra_style = function(canvas_div) {\n",
       "\n",
       "}\n",
       "\n",
       "\n",
       "mpl.figure.prototype._root_extra_style = function(canvas_div) {\n",
       "\n",
       "}\n",
       "\n",
       "mpl.figure.prototype._init_canvas = function() {\n",
       "    var fig = this;\n",
       "\n",
       "    var canvas_div = $('<div/>');\n",
       "\n",
       "    canvas_div.attr('style', 'position: relative; clear: both; outline: 0');\n",
       "\n",
       "    function canvas_keyboard_event(event) {\n",
       "        return fig.key_event(event, event['data']);\n",
       "    }\n",
       "\n",
       "    canvas_div.keydown('key_press', canvas_keyboard_event);\n",
       "    canvas_div.keyup('key_release', canvas_keyboard_event);\n",
       "    this.canvas_div = canvas_div\n",
       "    this._canvas_extra_style(canvas_div)\n",
       "    this.root.append(canvas_div);\n",
       "\n",
       "    var canvas = $('<canvas/>');\n",
       "    canvas.addClass('mpl-canvas');\n",
       "    canvas.attr('style', \"left: 0; top: 0; z-index: 0; outline: 0\")\n",
       "\n",
       "    this.canvas = canvas[0];\n",
       "    this.context = canvas[0].getContext(\"2d\");\n",
       "\n",
       "    var backingStore = this.context.backingStorePixelRatio ||\n",
       "\tthis.context.webkitBackingStorePixelRatio ||\n",
       "\tthis.context.mozBackingStorePixelRatio ||\n",
       "\tthis.context.msBackingStorePixelRatio ||\n",
       "\tthis.context.oBackingStorePixelRatio ||\n",
       "\tthis.context.backingStorePixelRatio || 1;\n",
       "\n",
       "    mpl.ratio = (window.devicePixelRatio || 1) / backingStore;\n",
       "\n",
       "    var rubberband = $('<canvas/>');\n",
       "    rubberband.attr('style', \"position: absolute; left: 0; top: 0; z-index: 1;\")\n",
       "\n",
       "    var pass_mouse_events = true;\n",
       "\n",
       "    canvas_div.resizable({\n",
       "        start: function(event, ui) {\n",
       "            pass_mouse_events = false;\n",
       "        },\n",
       "        resize: function(event, ui) {\n",
       "            fig.request_resize(ui.size.width, ui.size.height);\n",
       "        },\n",
       "        stop: function(event, ui) {\n",
       "            pass_mouse_events = true;\n",
       "            fig.request_resize(ui.size.width, ui.size.height);\n",
       "        },\n",
       "    });\n",
       "\n",
       "    function mouse_event_fn(event) {\n",
       "        if (pass_mouse_events)\n",
       "            return fig.mouse_event(event, event['data']);\n",
       "    }\n",
       "\n",
       "    rubberband.mousedown('button_press', mouse_event_fn);\n",
       "    rubberband.mouseup('button_release', mouse_event_fn);\n",
       "    // Throttle sequential mouse events to 1 every 20ms.\n",
       "    rubberband.mousemove('motion_notify', mouse_event_fn);\n",
       "\n",
       "    rubberband.mouseenter('figure_enter', mouse_event_fn);\n",
       "    rubberband.mouseleave('figure_leave', mouse_event_fn);\n",
       "\n",
       "    canvas_div.on(\"wheel\", function (event) {\n",
       "        event = event.originalEvent;\n",
       "        event['data'] = 'scroll'\n",
       "        if (event.deltaY < 0) {\n",
       "            event.step = 1;\n",
       "        } else {\n",
       "            event.step = -1;\n",
       "        }\n",
       "        mouse_event_fn(event);\n",
       "    });\n",
       "\n",
       "    canvas_div.append(canvas);\n",
       "    canvas_div.append(rubberband);\n",
       "\n",
       "    this.rubberband = rubberband;\n",
       "    this.rubberband_canvas = rubberband[0];\n",
       "    this.rubberband_context = rubberband[0].getContext(\"2d\");\n",
       "    this.rubberband_context.strokeStyle = \"#000000\";\n",
       "\n",
       "    this._resize_canvas = function(width, height) {\n",
       "        // Keep the size of the canvas, canvas container, and rubber band\n",
       "        // canvas in synch.\n",
       "        canvas_div.css('width', width)\n",
       "        canvas_div.css('height', height)\n",
       "\n",
       "        canvas.attr('width', width * mpl.ratio);\n",
       "        canvas.attr('height', height * mpl.ratio);\n",
       "        canvas.attr('style', 'width: ' + width + 'px; height: ' + height + 'px;');\n",
       "\n",
       "        rubberband.attr('width', width);\n",
       "        rubberband.attr('height', height);\n",
       "    }\n",
       "\n",
       "    // Set the figure to an initial 600x600px, this will subsequently be updated\n",
       "    // upon first draw.\n",
       "    this._resize_canvas(600, 600);\n",
       "\n",
       "    // Disable right mouse context menu.\n",
       "    $(this.rubberband_canvas).bind(\"contextmenu\",function(e){\n",
       "        return false;\n",
       "    });\n",
       "\n",
       "    function set_focus () {\n",
       "        canvas.focus();\n",
       "        canvas_div.focus();\n",
       "    }\n",
       "\n",
       "    window.setTimeout(set_focus, 100);\n",
       "}\n",
       "\n",
       "mpl.figure.prototype._init_toolbar = function() {\n",
       "    var fig = this;\n",
       "\n",
       "    var nav_element = $('<div/>')\n",
       "    nav_element.attr('style', 'width: 100%');\n",
       "    this.root.append(nav_element);\n",
       "\n",
       "    // Define a callback function for later on.\n",
       "    function toolbar_event(event) {\n",
       "        return fig.toolbar_button_onclick(event['data']);\n",
       "    }\n",
       "    function toolbar_mouse_event(event) {\n",
       "        return fig.toolbar_button_onmouseover(event['data']);\n",
       "    }\n",
       "\n",
       "    for(var toolbar_ind in mpl.toolbar_items) {\n",
       "        var name = mpl.toolbar_items[toolbar_ind][0];\n",
       "        var tooltip = mpl.toolbar_items[toolbar_ind][1];\n",
       "        var image = mpl.toolbar_items[toolbar_ind][2];\n",
       "        var method_name = mpl.toolbar_items[toolbar_ind][3];\n",
       "\n",
       "        if (!name) {\n",
       "            // put a spacer in here.\n",
       "            continue;\n",
       "        }\n",
       "        var button = $('<button/>');\n",
       "        button.addClass('ui-button ui-widget ui-state-default ui-corner-all ' +\n",
       "                        'ui-button-icon-only');\n",
       "        button.attr('role', 'button');\n",
       "        button.attr('aria-disabled', 'false');\n",
       "        button.click(method_name, toolbar_event);\n",
       "        button.mouseover(tooltip, toolbar_mouse_event);\n",
       "\n",
       "        var icon_img = $('<span/>');\n",
       "        icon_img.addClass('ui-button-icon-primary ui-icon');\n",
       "        icon_img.addClass(image);\n",
       "        icon_img.addClass('ui-corner-all');\n",
       "\n",
       "        var tooltip_span = $('<span/>');\n",
       "        tooltip_span.addClass('ui-button-text');\n",
       "        tooltip_span.html(tooltip);\n",
       "\n",
       "        button.append(icon_img);\n",
       "        button.append(tooltip_span);\n",
       "\n",
       "        nav_element.append(button);\n",
       "    }\n",
       "\n",
       "    var fmt_picker_span = $('<span/>');\n",
       "\n",
       "    var fmt_picker = $('<select/>');\n",
       "    fmt_picker.addClass('mpl-toolbar-option ui-widget ui-widget-content');\n",
       "    fmt_picker_span.append(fmt_picker);\n",
       "    nav_element.append(fmt_picker_span);\n",
       "    this.format_dropdown = fmt_picker[0];\n",
       "\n",
       "    for (var ind in mpl.extensions) {\n",
       "        var fmt = mpl.extensions[ind];\n",
       "        var option = $(\n",
       "            '<option/>', {selected: fmt === mpl.default_extension}).html(fmt);\n",
       "        fmt_picker.append(option)\n",
       "    }\n",
       "\n",
       "    // Add hover states to the ui-buttons\n",
       "    $( \".ui-button\" ).hover(\n",
       "        function() { $(this).addClass(\"ui-state-hover\");},\n",
       "        function() { $(this).removeClass(\"ui-state-hover\");}\n",
       "    );\n",
       "\n",
       "    var status_bar = $('<span class=\"mpl-message\"/>');\n",
       "    nav_element.append(status_bar);\n",
       "    this.message = status_bar[0];\n",
       "}\n",
       "\n",
       "mpl.figure.prototype.request_resize = function(x_pixels, y_pixels) {\n",
       "    // Request matplotlib to resize the figure. Matplotlib will then trigger a resize in the client,\n",
       "    // which will in turn request a refresh of the image.\n",
       "    this.send_message('resize', {'width': x_pixels, 'height': y_pixels});\n",
       "}\n",
       "\n",
       "mpl.figure.prototype.send_message = function(type, properties) {\n",
       "    properties['type'] = type;\n",
       "    properties['figure_id'] = this.id;\n",
       "    this.ws.send(JSON.stringify(properties));\n",
       "}\n",
       "\n",
       "mpl.figure.prototype.send_draw_message = function() {\n",
       "    if (!this.waiting) {\n",
       "        this.waiting = true;\n",
       "        this.ws.send(JSON.stringify({type: \"draw\", figure_id: this.id}));\n",
       "    }\n",
       "}\n",
       "\n",
       "\n",
       "mpl.figure.prototype.handle_save = function(fig, msg) {\n",
       "    var format_dropdown = fig.format_dropdown;\n",
       "    var format = format_dropdown.options[format_dropdown.selectedIndex].value;\n",
       "    fig.ondownload(fig, format);\n",
       "}\n",
       "\n",
       "\n",
       "mpl.figure.prototype.handle_resize = function(fig, msg) {\n",
       "    var size = msg['size'];\n",
       "    if (size[0] != fig.canvas.width || size[1] != fig.canvas.height) {\n",
       "        fig._resize_canvas(size[0], size[1]);\n",
       "        fig.send_message(\"refresh\", {});\n",
       "    };\n",
       "}\n",
       "\n",
       "mpl.figure.prototype.handle_rubberband = function(fig, msg) {\n",
       "    var x0 = msg['x0'] / mpl.ratio;\n",
       "    var y0 = (fig.canvas.height - msg['y0']) / mpl.ratio;\n",
       "    var x1 = msg['x1'] / mpl.ratio;\n",
       "    var y1 = (fig.canvas.height - msg['y1']) / mpl.ratio;\n",
       "    x0 = Math.floor(x0) + 0.5;\n",
       "    y0 = Math.floor(y0) + 0.5;\n",
       "    x1 = Math.floor(x1) + 0.5;\n",
       "    y1 = Math.floor(y1) + 0.5;\n",
       "    var min_x = Math.min(x0, x1);\n",
       "    var min_y = Math.min(y0, y1);\n",
       "    var width = Math.abs(x1 - x0);\n",
       "    var height = Math.abs(y1 - y0);\n",
       "\n",
       "    fig.rubberband_context.clearRect(\n",
       "        0, 0, fig.canvas.width, fig.canvas.height);\n",
       "\n",
       "    fig.rubberband_context.strokeRect(min_x, min_y, width, height);\n",
       "}\n",
       "\n",
       "mpl.figure.prototype.handle_figure_label = function(fig, msg) {\n",
       "    // Updates the figure title.\n",
       "    fig.header.textContent = msg['label'];\n",
       "}\n",
       "\n",
       "mpl.figure.prototype.handle_cursor = function(fig, msg) {\n",
       "    var cursor = msg['cursor'];\n",
       "    switch(cursor)\n",
       "    {\n",
       "    case 0:\n",
       "        cursor = 'pointer';\n",
       "        break;\n",
       "    case 1:\n",
       "        cursor = 'default';\n",
       "        break;\n",
       "    case 2:\n",
       "        cursor = 'crosshair';\n",
       "        break;\n",
       "    case 3:\n",
       "        cursor = 'move';\n",
       "        break;\n",
       "    }\n",
       "    fig.rubberband_canvas.style.cursor = cursor;\n",
       "}\n",
       "\n",
       "mpl.figure.prototype.handle_message = function(fig, msg) {\n",
       "    fig.message.textContent = msg['message'];\n",
       "}\n",
       "\n",
       "mpl.figure.prototype.handle_draw = function(fig, msg) {\n",
       "    // Request the server to send over a new figure.\n",
       "    fig.send_draw_message();\n",
       "}\n",
       "\n",
       "mpl.figure.prototype.handle_image_mode = function(fig, msg) {\n",
       "    fig.image_mode = msg['mode'];\n",
       "}\n",
       "\n",
       "mpl.figure.prototype.updated_canvas_event = function() {\n",
       "    // Called whenever the canvas gets updated.\n",
       "    this.send_message(\"ack\", {});\n",
       "}\n",
       "\n",
       "// A function to construct a web socket function for onmessage handling.\n",
       "// Called in the figure constructor.\n",
       "mpl.figure.prototype._make_on_message_function = function(fig) {\n",
       "    return function socket_on_message(evt) {\n",
       "        if (evt.data instanceof Blob) {\n",
       "            /* FIXME: We get \"Resource interpreted as Image but\n",
       "             * transferred with MIME type text/plain:\" errors on\n",
       "             * Chrome.  But how to set the MIME type?  It doesn't seem\n",
       "             * to be part of the websocket stream */\n",
       "            evt.data.type = \"image/png\";\n",
       "\n",
       "            /* Free the memory for the previous frames */\n",
       "            if (fig.imageObj.src) {\n",
       "                (window.URL || window.webkitURL).revokeObjectURL(\n",
       "                    fig.imageObj.src);\n",
       "            }\n",
       "\n",
       "            fig.imageObj.src = (window.URL || window.webkitURL).createObjectURL(\n",
       "                evt.data);\n",
       "            fig.updated_canvas_event();\n",
       "            fig.waiting = false;\n",
       "            return;\n",
       "        }\n",
       "        else if (typeof evt.data === 'string' && evt.data.slice(0, 21) == \"data:image/png;base64\") {\n",
       "            fig.imageObj.src = evt.data;\n",
       "            fig.updated_canvas_event();\n",
       "            fig.waiting = false;\n",
       "            return;\n",
       "        }\n",
       "\n",
       "        var msg = JSON.parse(evt.data);\n",
       "        var msg_type = msg['type'];\n",
       "\n",
       "        // Call the  \"handle_{type}\" callback, which takes\n",
       "        // the figure and JSON message as its only arguments.\n",
       "        try {\n",
       "            var callback = fig[\"handle_\" + msg_type];\n",
       "        } catch (e) {\n",
       "            console.log(\"No handler for the '\" + msg_type + \"' message type: \", msg);\n",
       "            return;\n",
       "        }\n",
       "\n",
       "        if (callback) {\n",
       "            try {\n",
       "                // console.log(\"Handling '\" + msg_type + \"' message: \", msg);\n",
       "                callback(fig, msg);\n",
       "            } catch (e) {\n",
       "                console.log(\"Exception inside the 'handler_\" + msg_type + \"' callback:\", e, e.stack, msg);\n",
       "            }\n",
       "        }\n",
       "    };\n",
       "}\n",
       "\n",
       "// from http://stackoverflow.com/questions/1114465/getting-mouse-location-in-canvas\n",
       "mpl.findpos = function(e) {\n",
       "    //this section is from http://www.quirksmode.org/js/events_properties.html\n",
       "    var targ;\n",
       "    if (!e)\n",
       "        e = window.event;\n",
       "    if (e.target)\n",
       "        targ = e.target;\n",
       "    else if (e.srcElement)\n",
       "        targ = e.srcElement;\n",
       "    if (targ.nodeType == 3) // defeat Safari bug\n",
       "        targ = targ.parentNode;\n",
       "\n",
       "    // jQuery normalizes the pageX and pageY\n",
       "    // pageX,Y are the mouse positions relative to the document\n",
       "    // offset() returns the position of the element relative to the document\n",
       "    var x = e.pageX - $(targ).offset().left;\n",
       "    var y = e.pageY - $(targ).offset().top;\n",
       "\n",
       "    return {\"x\": x, \"y\": y};\n",
       "};\n",
       "\n",
       "/*\n",
       " * return a copy of an object with only non-object keys\n",
       " * we need this to avoid circular references\n",
       " * http://stackoverflow.com/a/24161582/3208463\n",
       " */\n",
       "function simpleKeys (original) {\n",
       "  return Object.keys(original).reduce(function (obj, key) {\n",
       "    if (typeof original[key] !== 'object')\n",
       "        obj[key] = original[key]\n",
       "    return obj;\n",
       "  }, {});\n",
       "}\n",
       "\n",
       "mpl.figure.prototype.mouse_event = function(event, name) {\n",
       "    var canvas_pos = mpl.findpos(event)\n",
       "\n",
       "    if (name === 'button_press')\n",
       "    {\n",
       "        this.canvas.focus();\n",
       "        this.canvas_div.focus();\n",
       "    }\n",
       "\n",
       "    var x = canvas_pos.x * mpl.ratio;\n",
       "    var y = canvas_pos.y * mpl.ratio;\n",
       "\n",
       "    this.send_message(name, {x: x, y: y, button: event.button,\n",
       "                             step: event.step,\n",
       "                             guiEvent: simpleKeys(event)});\n",
       "\n",
       "    /* This prevents the web browser from automatically changing to\n",
       "     * the text insertion cursor when the button is pressed.  We want\n",
       "     * to control all of the cursor setting manually through the\n",
       "     * 'cursor' event from matplotlib */\n",
       "    event.preventDefault();\n",
       "    return false;\n",
       "}\n",
       "\n",
       "mpl.figure.prototype._key_event_extra = function(event, name) {\n",
       "    // Handle any extra behaviour associated with a key event\n",
       "}\n",
       "\n",
       "mpl.figure.prototype.key_event = function(event, name) {\n",
       "\n",
       "    // Prevent repeat events\n",
       "    if (name == 'key_press')\n",
       "    {\n",
       "        if (event.which === this._key)\n",
       "            return;\n",
       "        else\n",
       "            this._key = event.which;\n",
       "    }\n",
       "    if (name == 'key_release')\n",
       "        this._key = null;\n",
       "\n",
       "    var value = '';\n",
       "    if (event.ctrlKey && event.which != 17)\n",
       "        value += \"ctrl+\";\n",
       "    if (event.altKey && event.which != 18)\n",
       "        value += \"alt+\";\n",
       "    if (event.shiftKey && event.which != 16)\n",
       "        value += \"shift+\";\n",
       "\n",
       "    value += 'k';\n",
       "    value += event.which.toString();\n",
       "\n",
       "    this._key_event_extra(event, name);\n",
       "\n",
       "    this.send_message(name, {key: value,\n",
       "                             guiEvent: simpleKeys(event)});\n",
       "    return false;\n",
       "}\n",
       "\n",
       "mpl.figure.prototype.toolbar_button_onclick = function(name) {\n",
       "    if (name == 'download') {\n",
       "        this.handle_save(this, null);\n",
       "    } else {\n",
       "        this.send_message(\"toolbar_button\", {name: name});\n",
       "    }\n",
       "};\n",
       "\n",
       "mpl.figure.prototype.toolbar_button_onmouseover = function(tooltip) {\n",
       "    this.message.textContent = tooltip;\n",
       "};\n",
       "mpl.toolbar_items = [[\"Home\", \"Reset original view\", \"fa fa-home icon-home\", \"home\"], [\"Back\", \"Back to previous view\", \"fa fa-arrow-left icon-arrow-left\", \"back\"], [\"Forward\", \"Forward to next view\", \"fa fa-arrow-right icon-arrow-right\", \"forward\"], [\"\", \"\", \"\", \"\"], [\"Pan\", \"Pan axes with left mouse, zoom with right\", \"fa fa-arrows icon-move\", \"pan\"], [\"Zoom\", \"Zoom to rectangle\", \"fa fa-square-o icon-check-empty\", \"zoom\"], [\"\", \"\", \"\", \"\"], [\"Download\", \"Download plot\", \"fa fa-floppy-o icon-save\", \"download\"]];\n",
       "\n",
       "mpl.extensions = [\"eps\", \"jpeg\", \"pdf\", \"png\", \"ps\", \"raw\", \"svg\", \"tif\"];\n",
       "\n",
       "mpl.default_extension = \"png\";var comm_websocket_adapter = function(comm) {\n",
       "    // Create a \"websocket\"-like object which calls the given IPython comm\n",
       "    // object with the appropriate methods. Currently this is a non binary\n",
       "    // socket, so there is still some room for performance tuning.\n",
       "    var ws = {};\n",
       "\n",
       "    ws.close = function() {\n",
       "        comm.close()\n",
       "    };\n",
       "    ws.send = function(m) {\n",
       "        //console.log('sending', m);\n",
       "        comm.send(m);\n",
       "    };\n",
       "    // Register the callback with on_msg.\n",
       "    comm.on_msg(function(msg) {\n",
       "        //console.log('receiving', msg['content']['data'], msg);\n",
       "        // Pass the mpl event to the overridden (by mpl) onmessage function.\n",
       "        ws.onmessage(msg['content']['data'])\n",
       "    });\n",
       "    return ws;\n",
       "}\n",
       "\n",
       "mpl.mpl_figure_comm = function(comm, msg) {\n",
       "    // This is the function which gets called when the mpl process\n",
       "    // starts-up an IPython Comm through the \"matplotlib\" channel.\n",
       "\n",
       "    var id = msg.content.data.id;\n",
       "    // Get hold of the div created by the display call when the Comm\n",
       "    // socket was opened in Python.\n",
       "    var element = $(\"#\" + id);\n",
       "    var ws_proxy = comm_websocket_adapter(comm)\n",
       "\n",
       "    function ondownload(figure, format) {\n",
       "        window.open(figure.imageObj.src);\n",
       "    }\n",
       "\n",
       "    var fig = new mpl.figure(id, ws_proxy,\n",
       "                           ondownload,\n",
       "                           element.get(0));\n",
       "\n",
       "    // Call onopen now - mpl needs it, as it is assuming we've passed it a real\n",
       "    // web socket which is closed, not our websocket->open comm proxy.\n",
       "    ws_proxy.onopen();\n",
       "\n",
       "    fig.parent_element = element.get(0);\n",
       "    fig.cell_info = mpl.find_output_cell(\"<div id='\" + id + \"'></div>\");\n",
       "    if (!fig.cell_info) {\n",
       "        console.error(\"Failed to find cell for figure\", id, fig);\n",
       "        return;\n",
       "    }\n",
       "\n",
       "    var output_index = fig.cell_info[2]\n",
       "    var cell = fig.cell_info[0];\n",
       "\n",
       "};\n",
       "\n",
       "mpl.figure.prototype.handle_close = function(fig, msg) {\n",
       "    var width = fig.canvas.width/mpl.ratio\n",
       "    fig.root.unbind('remove')\n",
       "\n",
       "    // Update the output cell to use the data from the current canvas.\n",
       "    fig.push_to_output();\n",
       "    var dataURL = fig.canvas.toDataURL();\n",
       "    // Re-enable the keyboard manager in IPython - without this line, in FF,\n",
       "    // the notebook keyboard shortcuts fail.\n",
       "    IPython.keyboard_manager.enable()\n",
       "    $(fig.parent_element).html('<img src=\"' + dataURL + '\" width=\"' + width + '\">');\n",
       "    fig.close_ws(fig, msg);\n",
       "}\n",
       "\n",
       "mpl.figure.prototype.close_ws = function(fig, msg){\n",
       "    fig.send_message('closing', msg);\n",
       "    // fig.ws.close()\n",
       "}\n",
       "\n",
       "mpl.figure.prototype.push_to_output = function(remove_interactive) {\n",
       "    // Turn the data on the canvas into data in the output cell.\n",
       "    var width = this.canvas.width/mpl.ratio\n",
       "    var dataURL = this.canvas.toDataURL();\n",
       "    this.cell_info[1]['text/html'] = '<img src=\"' + dataURL + '\" width=\"' + width + '\">';\n",
       "}\n",
       "\n",
       "mpl.figure.prototype.updated_canvas_event = function() {\n",
       "    // Tell IPython that the notebook contents must change.\n",
       "    IPython.notebook.set_dirty(true);\n",
       "    this.send_message(\"ack\", {});\n",
       "    var fig = this;\n",
       "    // Wait a second, then push the new image to the DOM so\n",
       "    // that it is saved nicely (might be nice to debounce this).\n",
       "    setTimeout(function () { fig.push_to_output() }, 1000);\n",
       "}\n",
       "\n",
       "mpl.figure.prototype._init_toolbar = function() {\n",
       "    var fig = this;\n",
       "\n",
       "    var nav_element = $('<div/>')\n",
       "    nav_element.attr('style', 'width: 100%');\n",
       "    this.root.append(nav_element);\n",
       "\n",
       "    // Define a callback function for later on.\n",
       "    function toolbar_event(event) {\n",
       "        return fig.toolbar_button_onclick(event['data']);\n",
       "    }\n",
       "    function toolbar_mouse_event(event) {\n",
       "        return fig.toolbar_button_onmouseover(event['data']);\n",
       "    }\n",
       "\n",
       "    for(var toolbar_ind in mpl.toolbar_items){\n",
       "        var name = mpl.toolbar_items[toolbar_ind][0];\n",
       "        var tooltip = mpl.toolbar_items[toolbar_ind][1];\n",
       "        var image = mpl.toolbar_items[toolbar_ind][2];\n",
       "        var method_name = mpl.toolbar_items[toolbar_ind][3];\n",
       "\n",
       "        if (!name) { continue; };\n",
       "\n",
       "        var button = $('<button class=\"btn btn-default\" href=\"#\" title=\"' + name + '\"><i class=\"fa ' + image + ' fa-lg\"></i></button>');\n",
       "        button.click(method_name, toolbar_event);\n",
       "        button.mouseover(tooltip, toolbar_mouse_event);\n",
       "        nav_element.append(button);\n",
       "    }\n",
       "\n",
       "    // Add the status bar.\n",
       "    var status_bar = $('<span class=\"mpl-message\" style=\"text-align:right; float: right;\"/>');\n",
       "    nav_element.append(status_bar);\n",
       "    this.message = status_bar[0];\n",
       "\n",
       "    // Add the close button to the window.\n",
       "    var buttongrp = $('<div class=\"btn-group inline pull-right\"></div>');\n",
       "    var button = $('<button class=\"btn btn-mini btn-primary\" href=\"#\" title=\"Stop Interaction\"><i class=\"fa fa-power-off icon-remove icon-large\"></i></button>');\n",
       "    button.click(function (evt) { fig.handle_close(fig, {}); } );\n",
       "    button.mouseover('Stop Interaction', toolbar_mouse_event);\n",
       "    buttongrp.append(button);\n",
       "    var titlebar = this.root.find($('.ui-dialog-titlebar'));\n",
       "    titlebar.prepend(buttongrp);\n",
       "}\n",
       "\n",
       "mpl.figure.prototype._root_extra_style = function(el){\n",
       "    var fig = this\n",
       "    el.on(\"remove\", function(){\n",
       "\tfig.close_ws(fig, {});\n",
       "    });\n",
       "}\n",
       "\n",
       "mpl.figure.prototype._canvas_extra_style = function(el){\n",
       "    // this is important to make the div 'focusable\n",
       "    el.attr('tabindex', 0)\n",
       "    // reach out to IPython and tell the keyboard manager to turn it's self\n",
       "    // off when our div gets focus\n",
       "\n",
       "    // location in version 3\n",
       "    if (IPython.notebook.keyboard_manager) {\n",
       "        IPython.notebook.keyboard_manager.register_events(el);\n",
       "    }\n",
       "    else {\n",
       "        // location in version 2\n",
       "        IPython.keyboard_manager.register_events(el);\n",
       "    }\n",
       "\n",
       "}\n",
       "\n",
       "mpl.figure.prototype._key_event_extra = function(event, name) {\n",
       "    var manager = IPython.notebook.keyboard_manager;\n",
       "    if (!manager)\n",
       "        manager = IPython.keyboard_manager;\n",
       "\n",
       "    // Check for shift+enter\n",
       "    if (event.shiftKey && event.which == 13) {\n",
       "        this.canvas_div.blur();\n",
       "        event.shiftKey = false;\n",
       "        // Send a \"J\" for go to next cell\n",
       "        event.which = 74;\n",
       "        event.keyCode = 74;\n",
       "        manager.command_mode();\n",
       "        manager.handle_keydown(event);\n",
       "    }\n",
       "}\n",
       "\n",
       "mpl.figure.prototype.handle_save = function(fig, msg) {\n",
       "    fig.ondownload(fig, null);\n",
       "}\n",
       "\n",
       "\n",
       "mpl.find_output_cell = function(html_output) {\n",
       "    // Return the cell and output element which can be found *uniquely* in the notebook.\n",
       "    // Note - this is a bit hacky, but it is done because the \"notebook_saving.Notebook\"\n",
       "    // IPython event is triggered only after the cells have been serialised, which for\n",
       "    // our purposes (turning an active figure into a static one), is too late.\n",
       "    var cells = IPython.notebook.get_cells();\n",
       "    var ncells = cells.length;\n",
       "    for (var i=0; i<ncells; i++) {\n",
       "        var cell = cells[i];\n",
       "        if (cell.cell_type === 'code'){\n",
       "            for (var j=0; j<cell.output_area.outputs.length; j++) {\n",
       "                var data = cell.output_area.outputs[j];\n",
       "                if (data.data) {\n",
       "                    // IPython >= 3 moved mimebundle to data attribute of output\n",
       "                    data = data.data;\n",
       "                }\n",
       "                if (data['text/html'] == html_output) {\n",
       "                    return [cell, data, j];\n",
       "                }\n",
       "            }\n",
       "        }\n",
       "    }\n",
       "}\n",
       "\n",
       "// Register the function which deals with the matplotlib target/channel.\n",
       "// The kernel may be null if the page has been refreshed.\n",
       "if (IPython.notebook.kernel != null) {\n",
       "    IPython.notebook.kernel.comm_manager.register_target('matplotlib', mpl.mpl_figure_comm);\n",
       "}\n"
      ],
      "text/plain": [
       "<IPython.core.display.Javascript object>"
      ]
     },
     "metadata": {},
     "output_type": "display_data"
    },
    {
     "data": {
      "text/html": [
       "<img src=\"data:image/png;base64,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\" width=\"640\">"
      ],
      "text/plain": [
       "<IPython.core.display.HTML object>"
      ]
     },
     "metadata": {},
     "output_type": "display_data"
    },
    {
     "name": "stdout",
     "output_type": "stream",
     "text": [
      "[  1.  400.   17.    4.    1.8]\n",
      "[  2.  400.   17.    4.    1.8]\n",
      "[  3.  400.   17.    4.    1.8]\n",
      "[  4.  400.   17.    4.    1.8]\n",
      "[ 2.  80.  17.   4.   1.8]\n",
      "[ 2.  90.  17.   4.   1.8]\n",
      "[  2.  100.   17.    4.    1.8]\n",
      "[  2.  110.   17.    4.    1.8]\n",
      "[  2.  120.   17.    4.    1.8]\n",
      "[  2.  130.   17.    4.    1.8]\n",
      "[  2.  140.   17.    4.    1.8]\n",
      "[  2.  150.   17.    4.    1.8]\n",
      "[  2.  160.   17.    4.    1.8]\n",
      "[  2.  170.   17.    4.    1.8]\n",
      "[  2.  180.   17.    4.    1.8]\n",
      "[  2.  190.   17.    4.    1.8]\n",
      "[  2.  200.   17.    4.    1.8]\n",
      "[  2.  210.   17.    4.    1.8]\n",
      "[  2.  220.   17.    4.    1.8]\n",
      "[  2.  230.   17.    4.    1.8]\n",
      "[  2.  240.   17.    4.    1.8]\n",
      "[  2.  250.   17.    4.    1.8]\n",
      "[  2.  260.   17.    4.    1.8]\n",
      "[  2.  270.   17.    4.    1.8]\n",
      "[  2.  280.   17.    4.    1.8]\n",
      "[  2.  290.   17.    4.    1.8]\n",
      "[  2.  300.   17.    4.    1.8]\n",
      "[  2.  310.   17.    4.    1.8]\n",
      "[  2.  320.   17.    4.    1.8]\n",
      "[  2.  330.   17.    4.    1.8]\n",
      "[  2.  340.   17.    4.    1.8]\n",
      "[  2.  350.   17.    4.    1.8]\n",
      "[  2.  360.   17.    4.    1.8]\n",
      "[  2.  370.   17.    4.    1.8]\n",
      "[  2.  380.   17.    4.    1.8]\n",
      "[  2.  390.   17.    4.    1.8]\n",
      "[  2.  400.   17.    4.    1.8]\n",
      "[  2.  410.   17.    4.    1.8]\n",
      "[  2.  420.   17.    4.    1.8]\n",
      "[  2.  430.   17.    4.    1.8]\n",
      "[  2.  440.   17.    4.    1.8]\n",
      "[  2.  450.   17.    4.    1.8]\n",
      "[  2.  460.   17.    4.    1.8]\n",
      "[  2.  470.   17.    4.    1.8]\n",
      "[  2.  480.   17.    4.    1.8]\n",
      "[  2.  490.   17.    4.    1.8]\n",
      "[  2.  500.   17.    4.    1.8]\n",
      "[  2.  510.   17.    4.    1.8]\n",
      "[  2.  520.   17.    4.    1.8]\n",
      "[  2.  530.   17.    4.    1.8]\n",
      "[  2.  540.   17.    4.    1.8]\n",
      "[  2.  550.   17.    4.    1.8]\n",
      "[  2.  560.   17.    4.    1.8]\n",
      "[  2.  570.   17.    4.    1.8]\n",
      "[  2.  580.   17.    4.    1.8]\n",
      "[  2.  590.   17.    4.    1.8]\n",
      "[  2.  600.   17.    4.    1.8]\n",
      "[  2.  610.   17.    4.    1.8]\n",
      "[  2.  620.   17.    4.    1.8]\n",
      "[  2.  630.   17.    4.    1.8]\n",
      "[  2.  640.   17.    4.    1.8]\n",
      "[  2.  650.   17.    4.    1.8]\n",
      "[  2.  660.   17.    4.    1.8]\n",
      "[  2.  670.   17.    4.    1.8]\n",
      "[  2.  680.   17.    4.    1.8]\n",
      "[  2.  690.   17.    4.    1.8]\n",
      "[  2.  700.   17.    4.    1.8]\n",
      "[  2.  710.   17.    4.    1.8]\n",
      "[  2.  720.   17.    4.    1.8]\n",
      "[  2.  730.   17.    4.    1.8]\n",
      "[  2.  740.   17.    4.    1.8]\n",
      "[  2.  750.   17.    4.    1.8]\n",
      "[  2.  760.   17.    4.    1.8]\n",
      "[  2.  770.   17.    4.    1.8]\n",
      "[  2.  780.   17.    4.    1.8]\n",
      "[  2.  790.   17.    4.    1.8]\n",
      "[  2.  800.   17.    4.    1.8]\n",
      "[  2.  810.   17.    4.    1.8]\n",
      "[  2.  820.   17.    4.    1.8]\n",
      "[  2.  830.   17.    4.    1.8]\n",
      "[  2.  840.   17.    4.    1.8]\n",
      "[  2.  850.   17.    4.    1.8]\n",
      "[  2.  860.   17.    4.    1.8]\n",
      "[  2.  870.   17.    4.    1.8]\n",
      "[  2.  880.   17.    4.    1.8]\n",
      "[  2.  890.   17.    4.    1.8]\n",
      "[  2.  400.   13.    4.    1.8]\n",
      "[  2.  400.   13.5   4.    1.8]\n",
      "[  2.  400.   14.    4.    1.8]\n",
      "[  2.  400.   14.5   4.    1.8]\n",
      "[  2.  400.   15.    4.    1.8]\n",
      "[  2.  400.   15.5   4.    1.8]\n",
      "[  2.  400.   16.    4.    1.8]\n",
      "[  2.  400.   16.5   4.    1.8]\n",
      "[  2.  400.   17.    4.    1.8]\n",
      "[  2.  400.   17.5   4.    1.8]\n",
      "[  2.  400.   18.    4.    1.8]\n",
      "[  2.  400.   18.5   4.    1.8]\n",
      "[  2.  400.   19.    4.    1.8]\n",
      "[  2.  400.   19.5   4.    1.8]\n",
      "[  2.  400.   20.    4.    1.8]\n",
      "[  2.  400.   20.5   4.    1.8]\n",
      "[  2.  400.   21.    4.    1.8]\n",
      "[  2.  400.   21.5   4.    1.8]\n",
      "[  2.  400.   22.    4.    1.8]\n",
      "[  2.  400.   22.5   4.    1.8]\n",
      "[  2.  400.   23.    4.    1.8]\n",
      "[  2.  400.   23.5   4.    1.8]\n",
      "[  2.  400.   24.    4.    1.8]\n",
      "[  2.  400.   24.5   4.    1.8]\n",
      "[  2.  400.   17.    1.    1.8]\n",
      "[  2.  400.   17.    2.    1.8]\n",
      "[  2.  400.   17.    3.    1.8]\n",
      "[  2.  400.   17.    4.    1.8]\n",
      "[  2.  400.   17.    5.    1.8]\n",
      "[  2.  400.   17.    6.    1.8]\n",
      "[  2.  400.   17.    7.    1.8]\n",
      "[  2.  400.   17.    8.    1.8]\n",
      "[  2.  400.   17.    9.    1.8]\n",
      "[  2.  400.   17.    4.    1.1]\n",
      "[  2.  400.   17.    4.    1.2]\n",
      "[  2.  400.   17.    4.    1.3]\n",
      "[  2.  400.   17.    4.    1.4]\n",
      "[  2.  400.   17.    4.    1.5]\n",
      "[  2.  400.   17.    4.    1.6]\n",
      "[  2.  400.   17.    4.    1.7]\n",
      "[  2.  400.   17.    4.    1.8]\n",
      "[  2.  400.   17.    4.    1.9]\n",
      "[  2. 400.  17.   4.   2.]\n",
      "[  2.  400.   17.    4.    2.1]\n",
      "[  2.  400.   17.    4.    2.2]\n",
      "[  2.  400.   17.    4.    2.3]\n",
      "[  2.  400.   17.    4.    2.4]\n",
      "[  2.  400.   17.    4.    2.5]\n",
      "[  2.  400.   17.    4.    2.6]\n",
      "[  2.  400.   17.    4.    2.7]\n",
      "[  2.  400.   17.    4.    2.8]\n",
      "[  2.  400.   17.    4.    2.9]\n",
      "[  2. 400.  17.   4.   3.]\n",
      "[  2.  400.   17.    4.    3.1]\n",
      "[  2.  400.   17.    4.    3.2]\n",
      "[  2.  400.   17.    4.    3.3]\n",
      "[  2.  400.   17.    4.    3.4]\n",
      "[  2.  400.   17.    4.    3.5]\n",
      "[  2.  400.   17.    4.    3.6]\n",
      "[  2.  400.   17.    4.    3.7]\n",
      "[  2.  400.   17.    4.    3.8]\n",
      "[  2.  400.   17.    4.    3.9]\n"
     ]
    }
   ],
   "source": [
    "c = big_c\n",
    "\n",
    "min_persistence = 2\n",
    "max_lenght = 400\n",
    "min_thickness = 17\n",
    "max_n_components = 4\n",
    "max_curvature = 1.8\n",
    "\n",
    "centers = [min_persistence,max_lenght,min_thickness,max_n_components,max_curvature]\n",
    "names = ['persistence','lenght','thickness','n_components','curvature']\n",
    "\n",
    "persistence_fluctuation = np.arange(1,5,1)\n",
    "lenght_fluctuation = np.arange(80,900,10)\n",
    "thickness_fluctuation = np.arange(13,25,0.5)\n",
    "n_components_fluctuation = np.arange(1,10,1)\n",
    "curvature_fluctuation = np.arange(1.1,4,0.1)\n",
    "\n",
    "fluctuations = [persistence_fluctuation,lenght_fluctuation,thickness_fluctuation,\n",
    "                n_components_fluctuation,curvature_fluctuation]\n",
    "\n",
    "plt.figure()\n",
    "plt.xlabel('efficiency')\n",
    "plt.ylabel('purity')\n",
    "\n",
    "big_vep = []\n",
    "for i,f in enumerate(fluctuations):\n",
    "    vep = []\n",
    "    for v in f:\n",
    "        thrs = np.copy(centers)\n",
    "        thrs[i] = v\n",
    "        #print(thrs)\n",
    "        labels,e,p = Clusterizer.classify(c,thrs=thrs,verbose=False)\n",
    "        vep.append([v,e,p])\n",
    "    vep = np.array(vep)\n",
    "    big_vep.append(vep)\n",
    "    plt.plot(vep[:,1],vep[:,2],label='varying '+names[i])\n",
    "    \n",
    "plt.legend()\n",
    "plt.show()"
   ]
  },
  {
   "cell_type": "code",
   "execution_count": 17,
   "metadata": {
    "scrolled": false
   },
   "outputs": [
    {
     "data": {
      "image/png": "[encoded data removed]",
      "text/plain": [
       "<Figure size 432x288 with 1 Axes>"
      ]
     },
     "metadata": {
      "needs_background": "light"
     },
     "output_type": "display_data"
    },
    {
     "data": {
      "image/png": "[encoded data removed]",
      "text/plain": [
       "<Figure size 432x288 with 1 Axes>"
      ]
     },
     "metadata": {
      "needs_background": "light"
     },
     "output_type": "display_data"
    },
    {
     "data": {
      "image/png": "[encoded data removed]",
      "text/plain": [
       "<Figure size 432x288 with 1 Axes>"
      ]
     },
     "metadata": {
      "needs_background": "light"
     },
     "output_type": "display_data"
    },
    {
     "data": {
      "image/png": "[encoded data removed]",
      "text/plain": [
       "<Figure size 432x288 with 1 Axes>"
      ]
     },
     "metadata": {
      "needs_background": "light"
     },
     "output_type": "display_data"
    },
    {
     "data": {
      "image/png": "[encoded data removed]",
      "text/plain": [
       "<Figure size 432x288 with 1 Axes>"
      ]
     },
     "metadata": {
      "needs_background": "light"
     },
     "output_type": "display_data"
    }
   ],
   "source": [
    "%matplotlib inline\n",
    "for index in range(5):\n",
    "\n",
    "    plt.figure()\n",
    "    plt.xlabel(names[index])\n",
    "    plt.plot(big_vep[index][:,0],big_vep[index][:,1],label='efficiency')\n",
    "    plt.plot(big_vep[index][:,0],big_vep[index][:,2],label='purity')\n",
    "    plt.legend()\n",
    "    plt.show()"
   ]
  },
  {
   "cell_type": "code",
   "execution_count": 9,
   "metadata": {},
   "outputs": [
    {
     "data": {
      "text/plain": [
       "79"
      ]
     },
     "execution_count": 9,
     "metadata": {},
     "output_type": "execute_result"
    }
   ],
   "source": [
    "np.sum(big_c.labels % 2)"
   ]
  },
  {
   "cell_type": "code",
   "execution_count": 8,
   "metadata": {},
   "outputs": [
    {
     "data": {
      "application/vnd.jupyter.widget-view+json": {
       "model_id": "1e80082af9b343539a9bf32ee4af49a5"
      }
     },
     "metadata": {},
     "output_type": "display_data"
    }
   ],
   "source": [
    "%matplotlib notebook\n",
    "big_c.plot()"
   ]
  },
  {
   "cell_type": "code",
   "execution_count": 102,
   "metadata": {},
   "outputs": [],
   "source": [
    "# joining Clusterizers\n",
    "path = './Clusterizers/280519/'\n",
    "c3b = Clusterizer.load_Clusterizer(path,'video3b_r6')\n",
    "c6 = Clusterizer.load_Clusterizer(path,'video6_r6')\n",
    "c7 = Clusterizer.load_Clusterizer(path,'video7_r6')\n",
    "c8 = Clusterizer.load_Clusterizer(path,'video8_r6')\n",
    "#c9 = Clusterizer.load_Clusterizer(path,'video9_r6') # low E field\n",
    "c1 = Clusterizer.load_Clusterizer('./Clusterizers/060619/','video1_r6')\n",
    "c2 = Clusterizer.load_Clusterizer('./Clusterizers/060619/','video2_r6')\n",
    "c3 = Clusterizer.load_Clusterizer('./Clusterizers/060619/','video3_r6')\n",
    "l0 = Clusterizer.load_Clusterizer('./Clusterizers/170619/','video1_r6')\n",
    "l1 = Clusterizer.load_Clusterizer('./Clusterizers/270619/','video1_r6')\n",
    "l2 = Clusterizer.load_Clusterizer('./Clusterizers/270619/','video2_r6')\n",
    "l3 = Clusterizer.load_Clusterizer('./Clusterizers/270619/','video3_r6')\n",
    "l4 = Clusterizer.load_Clusterizer('./Clusterizers/270619/','video4_r6')\n",
    "c_list = [c3b,c6,c7,c8,c1,c2,c3,l0,l1,l2,l3,l4]\n",
    "big_c = Clusterizer.join_Clusterizers(c_list=c_list,name='all')\n",
    "big_c.save(path='./Clusterizers/',name='all')"
   ]
  },
  {
   "cell_type": "code",
   "execution_count": 56,
   "metadata": {},
   "outputs": [
    {
     "name": "stderr",
     "output_type": "stream",
     "text": [
      "Widget Javascript not detected.  It may not be installed or enabled properly.\n"
     ]
    },
    {
     "data": {
      "application/vnd.jupyter.widget-view+json": {
       "model_id": "9dfa5ebe8b2f4a368f8559bb7633b0e2"
      }
     },
     "metadata": {},
     "output_type": "display_data"
    },
    {
     "name": "stderr",
     "output_type": "stream",
     "text": [
      "Widget Javascript not detected.  It may not be installed or enabled properly.\n"
     ]
    },
    {
     "data": {
      "application/vnd.jupyter.widget-view+json": {
       "model_id": "889d0c894ab641c2a371cbcbda4e4529"
      }
     },
     "metadata": {},
     "output_type": "display_data"
    },
    {
     "name": "stderr",
     "output_type": "stream",
     "text": [
      "Widget Javascript not detected.  It may not be installed or enabled properly.\n"
     ]
    },
    {
     "data": {
      "application/vnd.jupyter.widget-view+json": {
       "model_id": "f02f96733e7344afa294f7e5832b185f"
      }
     },
     "metadata": {},
     "output_type": "display_data"
    },
    {
     "name": "stderr",
     "output_type": "stream",
     "text": [
      "Widget Javascript not detected.  It may not be installed or enabled properly.\n"
     ]
    },
    {
     "data": {
      "application/vnd.jupyter.widget-view+json": {
       "model_id": "7349c68782c04b5a9e7f4a3a07c392ee"
      }
     },
     "metadata": {},
     "output_type": "display_data"
    },
    {
     "name": "stderr",
     "output_type": "stream",
     "text": [
      "Widget Javascript not detected.  It may not be installed or enabled properly.\n"
     ]
    },
    {
     "data": {
      "application/vnd.jupyter.widget-view+json": {
       "model_id": "0d2ab74d2eb2417db9451f8f9005b5a5"
      }
     },
     "metadata": {},
     "output_type": "display_data"
    },
    {
     "name": "stderr",
     "output_type": "stream",
     "text": [
      "Widget Javascript not detected.  It may not be installed or enabled properly.\n"
     ]
    },
    {
     "data": {
      "application/vnd.jupyter.widget-view+json": {
       "model_id": "aac238a91e1c4f6396d14f40ad3c4480"
      }
     },
     "metadata": {},
     "output_type": "display_data"
    },
    {
     "name": "stderr",
     "output_type": "stream",
     "text": [
      "Widget Javascript not detected.  It may not be installed or enabled properly.\n"
     ]
    },
    {
     "data": {
      "application/vnd.jupyter.widget-view+json": {
       "model_id": "f89a7a5eb0e745288d561588442eced0"
      }
     },
     "metadata": {},
     "output_type": "display_data"
    },
    {
     "name": "stderr",
     "output_type": "stream",
     "text": [
      "Widget Javascript not detected.  It may not be installed or enabled properly.\n"
     ]
    },
    {
     "data": {
      "application/vnd.jupyter.widget-view+json": {
       "model_id": "bfd1dd4e3b4b4a90a7f62c2c714084b4"
      }
     },
     "metadata": {},
     "output_type": "display_data"
    },
    {
     "name": "stderr",
     "output_type": "stream",
     "text": [
      "Widget Javascript not detected.  It may not be installed or enabled properly.\n"
     ]
    },
    {
     "data": {
      "application/vnd.jupyter.widget-view+json": {
       "model_id": "d83dd2af742a4c6ba3a49696b7d278d1"
      }
     },
     "metadata": {},
     "output_type": "display_data"
    },
    {
     "name": "stderr",
     "output_type": "stream",
     "text": [
      "Widget Javascript not detected.  It may not be installed or enabled properly.\n"
     ]
    },
    {
     "data": {
      "application/vnd.jupyter.widget-view+json": {
       "model_id": "8b896cb540044407862a1b865176230e"
      }
     },
     "metadata": {},
     "output_type": "display_data"
    },
    {
     "name": "stderr",
     "output_type": "stream",
     "text": [
      "Widget Javascript not detected.  It may not be installed or enabled properly.\n"
     ]
    },
    {
     "data": {
      "application/vnd.jupyter.widget-view+json": {
       "model_id": "8821eab2d12141b3ab06bb726274d975"
      }
     },
     "metadata": {},
     "output_type": "display_data"
    },
    {
     "name": "stderr",
     "output_type": "stream",
     "text": [
      "Widget Javascript not detected.  It may not be installed or enabled properly.\n"
     ]
    },
    {
     "data": {
      "application/vnd.jupyter.widget-view+json": {
       "model_id": "c00a63fac0df4e48ae87ef1165e5eb4d"
      }
     },
     "metadata": {},
     "output_type": "display_data"
    }
   ],
   "source": [
    "%matplotlib notebook\n",
    "for c in c_list:\n",
    "    c.plot()"
   ]
  },
  {
   "cell_type": "markdown",
   "metadata": {},
   "source": [
    "### Trying things"
   ]
  },
  {
   "cell_type": "code",
   "execution_count": null,
   "metadata": {},
   "outputs": [],
   "source": [
    "alpha_count = 0\n",
    "for i in big_c.labels:\n",
    "    if i == 1:\n",
    "        alpha_count += 1\n",
    "print(alpha_count)"
   ]
  },
  {
   "cell_type": "code",
   "execution_count": null,
   "metadata": {},
   "outputs": [],
   "source": [
    "# tryes with plt\n",
    "\n",
    "\n",
    "\n",
    "%matplotlib notebook\n",
    "\n",
    "def plot(i):\n",
    "    x = np.arange(0,10)\n",
    "    y = x**i\n",
    "    la = np.ones(10)\n",
    "    \n",
    "\n",
    "    fig, ax = plt.subplots()\n",
    "    ax = plt.scatter(x,y,c=la)\n",
    "\n",
    "\n",
    "\n",
    "    def onclick(event):\n",
    "        global ex,ey,ix,iy\n",
    "        ix = event.xdata\n",
    "        iy = event.ydata\n",
    "        #ax = plt.scatter(ix,iy)\n",
    "        \n",
    "    def onpress(event):\n",
    "        if event.key == 'a':\n",
    "            ax = plt.scatter(ix,iy)\n",
    "        elif event.key == 'w':\n",
    "            os.system('killall eog')\n",
    "        elif event.key == 't':\n",
    "            os.system('eog test.jpg &')\n",
    "        elif event.key == 'd':\n",
    "            ax = plt.suptitle('you pressed d')\n",
    "        elif event.key == 'f':\n",
    "            ax = plt.suptitle('you pressed f')\n",
    "            \n",
    "    cid = fig.canvas.mpl_connect('button_press_event', onclick)\n",
    "    cid2 = fig.canvas.mpl_connect('key_press_event', onpress)\n",
    "\n",
    "ipywidgets.interact(plot, i=[1,2,3,4])"
   ]
  },
  {
   "cell_type": "code",
   "execution_count": null,
   "metadata": {},
   "outputs": [],
   "source": [
    "print(ex,ey,ix,iy)"
   ]
  },
  {
   "cell_type": "code",
   "execution_count": null,
   "metadata": {},
   "outputs": [],
   "source": [
    "ID = os.system('eog test.jpg')\n",
    "print(ID)"
   ]
  },
  {
   "cell_type": "code",
   "execution_count": null,
   "metadata": {},
   "outputs": [],
   "source": [
    "def plot(i):\n",
    "    x = np.arange(0,10)\n",
    "    y = x**i\n",
    "\n",
    "    fig, ax = plt.subplots()\n",
    "    ax = plt.scatter(x,y)\n",
    "    ax = plt.suptitle('ciao')\n",
    "plot(2)"
   ]
  },
  {
   "cell_type": "code",
   "execution_count": null,
   "metadata": {},
   "outputs": [],
   "source": [
    "a = 'x %d, y %.2f, ' % (13.6,3.14159265)\n",
    "print(a)"
   ]
  },
  {
   "cell_type": "code",
   "execution_count": null,
   "metadata": {},
   "outputs": [],
   "source": [
    "X = d.values[:,3]\n",
    "plt.figure()\n",
    "plt.hist(X,bins=30,histtype='step')\n",
    "plt.show()"
   ]
  },
  {
   "cell_type": "code",
   "execution_count": null,
   "metadata": {},
   "outputs": [],
   "source": [
    "color_list = ['black','yellow','green']\n",
    "\n",
    "\n",
    "def color(n):\n",
    "    if type(n) == int:\n",
    "        return color_list[n%len(color_list)]\n",
    "    elif type(n) == np.ndarray:\n",
    "        r = []\n",
    "        for nn in n:\n",
    "            r.append(color_list[nn%len(color_list)])\n",
    "        return np.array(r)\n",
    "    else:\n",
    "        raise TypeError\n",
    "\n"
   ]
  },
  {
   "cell_type": "code",
   "execution_count": null,
   "metadata": {},
   "outputs": [],
   "source": [
    "a = 0\n",
    "color(a)"
   ]
  },
  {
   "cell_type": "code",
   "execution_count": null,
   "metadata": {},
   "outputs": [],
   "source": []
  }
 ],
 "metadata": {
  "kernelspec": {
   "display_name": "Python 3",
   "language": "python",
   "name": "python3"
  },
  "language_info": {
   "codemirror_mode": {
    "name": "ipython",
    "version": 3
   },
   "file_extension": ".py",
   "mimetype": "text/x-python",
   "name": "python",
   "nbconvert_exporter": "python",
   "pygments_lexer": "ipython3",
   "version": "3.7.3"
  }
 },
 "nbformat": 4,
 "nbformat_minor": 2
}
