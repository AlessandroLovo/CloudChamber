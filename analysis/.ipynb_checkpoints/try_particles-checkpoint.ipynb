{
 "cells": [
  {
   "cell_type": "code",
   "execution_count": 1,
   "metadata": {},
   "outputs": [],
   "source": [
    "from Trace import Trace\n",
    "import Particle\n",
    "import Clusterizer\n",
    "\n",
    "import numpy as np\n",
    "import matplotlib.pyplot as plt\n",
    "import ipywidgets\n",
    "import os"
   ]
  },
  {
   "cell_type": "code",
   "execution_count": null,
   "metadata": {},
   "outputs": [],
   "source": [
    "# try to join_particles\n",
    "\n",
    "folder = '../../pre-processed_data/280519/video7_000/trigger_thr0.005_cl9_op3/cc_filtered_2den0.81_gausrad2.0/'\n",
    "\n",
    "particles, n_particles = Particle.Join_Particles(folder=folder)"
   ]
  },
  {
   "cell_type": "code",
   "execution_count": 2,
   "metadata": {},
   "outputs": [
    {
     "name": "stderr",
     "output_type": "stream",
     "text": [
      "\r",
      "  0%|          | 0/20 [00:00<?, ?it/s]"
     ]
    },
    {
     "name": "stdout",
     "output_type": "stream",
     "text": [
      "found video2_009/trigger_thr0.005_cl9_op3/cc_filtered_2den0.81_gausrad2.0/\n"
     ]
    },
    {
     "name": "stderr",
     "output_type": "stream",
     "text": [
      "\r",
      "  5%|▌         | 1/20 [00:00<00:13,  1.40it/s]"
     ]
    },
    {
     "name": "stdout",
     "output_type": "stream",
     "text": [
      "\n",
      "mean_270619-video2_009-002_opened_cc03.png is INTERESTING\n"
     ]
    },
    {
     "name": "stderr",
     "output_type": "stream",
     "text": [
      "\r",
      " 10%|█         | 2/20 [00:01<00:13,  1.38it/s]"
     ]
    },
    {
     "name": "stdout",
     "output_type": "stream",
     "text": [
      "\n",
      "mean_270619-video2_009-002_opened_cc07.png is INTERESTING\n"
     ]
    },
    {
     "name": "stderr",
     "output_type": "stream",
     "text": [
      "\r",
      " 15%|█▌        | 3/20 [00:02<00:12,  1.40it/s]"
     ]
    },
    {
     "name": "stdout",
     "output_type": "stream",
     "text": [
      "\n",
      "mean_270619-video2_009-002_opened_cc28.png is INTERESTING\n"
     ]
    },
    {
     "name": "stderr",
     "output_type": "stream",
     "text": [
      "\r",
      " 20%|██        | 4/20 [00:02<00:11,  1.42it/s]"
     ]
    },
    {
     "name": "stdout",
     "output_type": "stream",
     "text": [
      "\n",
      "mean_270619-video2_009-002_opened_cc55.png: too spherical 4.5377070678421525\n"
     ]
    },
    {
     "name": "stderr",
     "output_type": "stream",
     "text": [
      "\r",
      " 25%|██▌       | 5/20 [00:03<00:10,  1.43it/s]"
     ]
    },
    {
     "name": "stdout",
     "output_type": "stream",
     "text": [
      "\n",
      "mean_270619-video2_009-005_opened_cc02.png: too spherical 5.251967711830305\n"
     ]
    },
    {
     "name": "stderr",
     "output_type": "stream",
     "text": [
      "\r",
      " 30%|███       | 6/20 [00:04<00:09,  1.40it/s]"
     ]
    },
    {
     "name": "stdout",
     "output_type": "stream",
     "text": [
      "\n",
      "mean_270619-video2_009-005_opened_cc08.png: too spherical 2.1945724940238547\n"
     ]
    },
    {
     "name": "stderr",
     "output_type": "stream",
     "text": [
      "\r",
      " 35%|███▌      | 7/20 [00:05<00:09,  1.32it/s]"
     ]
    },
    {
     "name": "stdout",
     "output_type": "stream",
     "text": [
      "\n",
      "mean_270619-video2_009-005_opened_cc19.png is INTERESTING\n"
     ]
    },
    {
     "name": "stderr",
     "output_type": "stream",
     "text": [
      "\r",
      " 40%|████      | 8/20 [00:05<00:08,  1.36it/s]"
     ]
    },
    {
     "name": "stdout",
     "output_type": "stream",
     "text": [
      "\n",
      "mean_270619-video2_009-005_opened_cc36.png: too spherical 1.1656196964389178\n"
     ]
    },
    {
     "name": "stderr",
     "output_type": "stream",
     "text": [
      "\r",
      " 45%|████▌     | 9/20 [00:06<00:07,  1.41it/s]"
     ]
    },
    {
     "name": "stdout",
     "output_type": "stream",
     "text": [
      "\n",
      "mean_270619-video2_009-005_opened_cc63.png: too spherical 1.9693104268680885\n"
     ]
    },
    {
     "name": "stderr",
     "output_type": "stream",
     "text": [
      "\r",
      " 50%|█████     | 10/20 [00:07<00:06,  1.47it/s]"
     ]
    },
    {
     "name": "stdout",
     "output_type": "stream",
     "text": [
      "\n",
      "mean_270619-video2_009-005_opened_cc77.png: too spherical 5.559647514440199\n"
     ]
    },
    {
     "name": "stderr",
     "output_type": "stream",
     "text": [
      "\r",
      " 55%|█████▌    | 11/20 [00:07<00:06,  1.48it/s]"
     ]
    },
    {
     "name": "stdout",
     "output_type": "stream",
     "text": [
      "\n",
      "mean_270619-video2_009-005_opened_cc86.png: too spherical 6.393178630647735\n"
     ]
    },
    {
     "name": "stderr",
     "output_type": "stream",
     "text": [
      "\r",
      " 60%|██████    | 12/20 [00:08<00:05,  1.51it/s]"
     ]
    },
    {
     "name": "stdout",
     "output_type": "stream",
     "text": [
      "\n",
      "mean_270619-video2_009-015_opened_cc02.png: too spherical 1.7302418361296725\n"
     ]
    },
    {
     "name": "stderr",
     "output_type": "stream",
     "text": [
      "\r",
      " 65%|██████▌   | 13/20 [00:09<00:04,  1.51it/s]"
     ]
    },
    {
     "name": "stdout",
     "output_type": "stream",
     "text": [
      "\n",
      "mean_270619-video2_009-015_opened_cc26.png: too spherical 4.580397040004467\n"
     ]
    },
    {
     "name": "stderr",
     "output_type": "stream",
     "text": [
      "\r",
      " 70%|███████   | 14/20 [00:09<00:03,  1.56it/s]"
     ]
    },
    {
     "name": "stdout",
     "output_type": "stream",
     "text": [
      "\n",
      "mean_270619-video2_009-015_opened_cc35.png: too spherical 3.135297146109233\n"
     ]
    },
    {
     "name": "stderr",
     "output_type": "stream",
     "text": [
      "\r",
      " 75%|███████▌  | 15/20 [00:10<00:03,  1.54it/s]"
     ]
    },
    {
     "name": "stdout",
     "output_type": "stream",
     "text": [
      "\n",
      "mean_270619-video2_009-015_opened_cc44.png: too spherical 5.088367178878803\n"
     ]
    },
    {
     "name": "stderr",
     "output_type": "stream",
     "text": [
      "\r",
      " 80%|████████  | 16/20 [00:10<00:02,  1.55it/s]"
     ]
    },
    {
     "name": "stdout",
     "output_type": "stream",
     "text": [
      "\n",
      "mean_270619-video2_009-015_opened_cc70.png: too spherical 1.1265242942878062\n"
     ]
    },
    {
     "name": "stderr",
     "output_type": "stream",
     "text": [
      "\r",
      " 85%|████████▌ | 17/20 [00:11<00:01,  1.51it/s]"
     ]
    },
    {
     "name": "stdout",
     "output_type": "stream",
     "text": [
      "\n",
      "mean_270619-video2_009-031_opened_cc02.png is INTERESTING\n"
     ]
    },
    {
     "name": "stderr",
     "output_type": "stream",
     "text": [
      "\r",
      " 90%|█████████ | 18/20 [00:12<00:01,  1.53it/s]"
     ]
    },
    {
     "name": "stdout",
     "output_type": "stream",
     "text": [
      "\n",
      "mean_270619-video2_009-031_opened_cc09.png: too spherical 2.403257226577185\n"
     ]
    },
    {
     "name": "stderr",
     "output_type": "stream",
     "text": [
      "\r",
      " 95%|█████████▌| 19/20 [00:12<00:00,  1.56it/s]"
     ]
    },
    {
     "name": "stdout",
     "output_type": "stream",
     "text": [
      "\n",
      "mean_270619-video2_009-031_opened_cc32.png: too spherical 3.532155293183181\n"
     ]
    },
    {
     "name": "stderr",
     "output_type": "stream",
     "text": [
      "100%|██████████| 20/20 [00:13<00:00,  1.57it/s]\n",
      "  0%|          | 0/51 [00:00<?, ?it/s]"
     ]
    },
    {
     "name": "stdout",
     "output_type": "stream",
     "text": [
      "\n",
      "mean_270619-video2_009-031_opened_cc39.png is INTERESTING\n",
      "found video3_019/trigger_thr0.005_cl9_op3/cc_filtered_2den0.81_gausrad2.0/\n",
      "found video4_009/trigger_thr0.005_cl9_op3/cc_filtered_2den0.81_gausrad2.0/\n",
      "found video1_000/trigger_thr0.005_cl9_op3/cc_filtered_2den0.81_gausrad2.0/\n",
      "found video1_001/trigger_thr0.005_cl9_op3/cc_filtered_2den0.81_gausrad2.0/\n",
      "found video1_002/trigger_thr0.005_cl9_op3/cc_filtered_2den0.81_gausrad2.0/\n",
      "found video1_003/trigger_thr0.005_cl9_op3/cc_filtered_2den0.81_gausrad2.0/\n",
      "found video1_004/trigger_thr0.005_cl9_op3/cc_filtered_2den0.81_gausrad2.0/\n",
      "found video1_005/trigger_thr0.005_cl9_op3/cc_filtered_2den0.81_gausrad2.0/\n",
      "found video1_006/trigger_thr0.005_cl9_op3/cc_filtered_2den0.81_gausrad2.0/\n",
      "found video1_007/trigger_thr0.005_cl9_op3/cc_filtered_2den0.81_gausrad2.0/\n",
      "found video1_008/trigger_thr0.005_cl9_op3/cc_filtered_2den0.81_gausrad2.0/\n",
      "found video1_009/trigger_thr0.005_cl9_op3/cc_filtered_2den0.81_gausrad2.0/\n",
      "found video2_000/trigger_thr0.005_cl9_op3/cc_filtered_2den0.81_gausrad2.0/\n"
     ]
    },
    {
     "name": "stderr",
     "output_type": "stream",
     "text": [
      "\r",
      "  2%|▏         | 1/51 [00:00<00:32,  1.52it/s]"
     ]
    },
    {
     "name": "stdout",
     "output_type": "stream",
     "text": [
      "\n",
      "mean_270619-video2_000-004_opened_cc13.png is INTERESTING\n"
     ]
    },
    {
     "name": "stderr",
     "output_type": "stream",
     "text": [
      "\r",
      "  4%|▍         | 2/51 [00:01<00:31,  1.55it/s]"
     ]
    },
    {
     "name": "stdout",
     "output_type": "stream",
     "text": [
      "\n",
      "mean_270619-video2_000-004_opened_cc16.png: too spherical 2.780706644421938\n"
     ]
    },
    {
     "name": "stderr",
     "output_type": "stream",
     "text": [
      "\r",
      "  6%|▌         | 3/51 [00:01<00:30,  1.57it/s]"
     ]
    },
    {
     "name": "stdout",
     "output_type": "stream",
     "text": [
      "\n",
      "mean_270619-video2_000-004_opened_cc17.png: too spherical 3.561508778743651\n"
     ]
    },
    {
     "name": "stderr",
     "output_type": "stream",
     "text": [
      "\r",
      "  8%|▊         | 4/51 [00:02<00:29,  1.57it/s]"
     ]
    },
    {
     "name": "stdout",
     "output_type": "stream",
     "text": [
      "\n",
      "mean_270619-video2_000-004_opened_cc23.png: too spherical 5.049293177269465\n"
     ]
    },
    {
     "name": "stderr",
     "output_type": "stream",
     "text": [
      "\r",
      " 10%|▉         | 5/51 [00:03<00:29,  1.56it/s]"
     ]
    },
    {
     "name": "stdout",
     "output_type": "stream",
     "text": [
      "\n",
      "mean_270619-video2_000-004_opened_cc26.png: too spherical 9.181466037850498\n"
     ]
    },
    {
     "name": "stderr",
     "output_type": "stream",
     "text": [
      "\r",
      " 12%|█▏        | 6/51 [00:03<00:28,  1.57it/s]"
     ]
    },
    {
     "name": "stdout",
     "output_type": "stream",
     "text": [
      "\n",
      "mean_270619-video2_000-014_opened_cc15.png: too spherical 6.274416046929966\n"
     ]
    },
    {
     "name": "stderr",
     "output_type": "stream",
     "text": [
      "\r",
      " 14%|█▎        | 7/51 [00:04<00:27,  1.58it/s]"
     ]
    },
    {
     "name": "stdout",
     "output_type": "stream",
     "text": [
      "\n",
      "mean_270619-video2_000-014_opened_cc32.png is INTERESTING\n"
     ]
    },
    {
     "name": "stderr",
     "output_type": "stream",
     "text": [
      "\r",
      " 16%|█▌        | 8/51 [00:05<00:27,  1.58it/s]"
     ]
    },
    {
     "name": "stdout",
     "output_type": "stream",
     "text": [
      "\n",
      "mean_270619-video2_000-014_opened_cc33.png: too spherical 2.4723754005862175\n"
     ]
    },
    {
     "name": "stderr",
     "output_type": "stream",
     "text": [
      "\r",
      " 18%|█▊        | 9/51 [00:05<00:26,  1.60it/s]"
     ]
    },
    {
     "name": "stdout",
     "output_type": "stream",
     "text": [
      "\n",
      "mean_270619-video2_000-014_opened_cc37.png: too spherical 7.861141013127848\n"
     ]
    },
    {
     "name": "stderr",
     "output_type": "stream",
     "text": [
      "\r",
      " 20%|█▉        | 10/51 [00:06<00:25,  1.59it/s]"
     ]
    },
    {
     "name": "stdout",
     "output_type": "stream",
     "text": [
      "\n",
      "mean_270619-video2_000-014_opened_cc60.png is INTERESTING\n",
      "\n",
      "mean_270619-video2_000-015_opened_cc09.png is INTERESTING\n",
      "\n",
      "video2_000-014-video2_000-015: overlap = 0.0\n"
     ]
    },
    {
     "name": "stderr",
     "output_type": "stream",
     "text": [
      "\r",
      " 22%|██▏       | 11/51 [00:08<00:38,  1.04it/s]"
     ]
    },
    {
     "name": "stdout",
     "output_type": "stream",
     "text": [
      "\n",
      "video2_000-014-video2_000-015: overlap = 0.0\n"
     ]
    },
    {
     "name": "stderr",
     "output_type": "stream",
     "text": [
      "\r",
      " 24%|██▎       | 12/51 [00:08<00:33,  1.15it/s]"
     ]
    },
    {
     "name": "stdout",
     "output_type": "stream",
     "text": [
      "\n",
      "mean_270619-video2_000-015_opened_cc16.png: too spherical 3.0864380731132086\n",
      "\n",
      "mean_270619-video2_000-015_opened_cc28.png is INTERESTING\n"
     ]
    },
    {
     "name": "stderr",
     "output_type": "stream",
     "text": [
      "\r",
      " 25%|██▌       | 13/51 [00:09<00:36,  1.04it/s]"
     ]
    },
    {
     "name": "stdout",
     "output_type": "stream",
     "text": [
      "\n",
      "video2_000-014-video2_000-015: overlap = 0.7485408560311284\n"
     ]
    },
    {
     "name": "stderr",
     "output_type": "stream",
     "text": [
      "\r",
      " 27%|██▋       | 14/51 [00:10<00:32,  1.14it/s]"
     ]
    },
    {
     "name": "stdout",
     "output_type": "stream",
     "text": [
      "\n",
      "mean_270619-video2_000-015_opened_cc31.png: too spherical 9.910032351990873\n",
      "\n",
      "mean_270619-video2_000-015_opened_cc49.png is INTERESTING\n"
     ]
    },
    {
     "name": "stderr",
     "output_type": "stream",
     "text": [
      "\r",
      " 29%|██▉       | 15/51 [00:11<00:35,  1.02it/s]"
     ]
    },
    {
     "name": "stdout",
     "output_type": "stream",
     "text": [
      "\n",
      "video2_000-014-video2_000-015: overlap = 0.0\n"
     ]
    },
    {
     "name": "stderr",
     "output_type": "stream",
     "text": [
      "\r",
      " 31%|███▏      | 16/51 [00:12<00:31,  1.12it/s]"
     ]
    },
    {
     "name": "stdout",
     "output_type": "stream",
     "text": [
      "\n",
      "mean_270619-video2_000-015_opened_cc55.png: too spherical 4.602057561750913\n"
     ]
    },
    {
     "name": "stderr",
     "output_type": "stream",
     "text": [
      "\r",
      " 33%|███▎      | 17/51 [00:13<00:28,  1.19it/s]"
     ]
    },
    {
     "name": "stdout",
     "output_type": "stream",
     "text": [
      "\n",
      "mean_270619-video2_000-024_opened_cc04.png: too spherical 5.522721871840964\n"
     ]
    },
    {
     "name": "stderr",
     "output_type": "stream",
     "text": [
      "\r",
      " 35%|███▌      | 18/51 [00:13<00:25,  1.27it/s]"
     ]
    },
    {
     "name": "stdout",
     "output_type": "stream",
     "text": [
      "\n",
      "mean_270619-video2_000-024_opened_cc08.png is INTERESTING\n"
     ]
    },
    {
     "name": "stderr",
     "output_type": "stream",
     "text": [
      "\r",
      " 37%|███▋      | 19/51 [00:14<00:24,  1.33it/s]"
     ]
    },
    {
     "name": "stdout",
     "output_type": "stream",
     "text": [
      "\n",
      "mean_270619-video2_000-024_opened_cc33.png: too spherical 8.491853909557314\n"
     ]
    },
    {
     "name": "stderr",
     "output_type": "stream",
     "text": [
      "\r",
      " 39%|███▉      | 20/51 [00:15<00:22,  1.39it/s]"
     ]
    },
    {
     "name": "stdout",
     "output_type": "stream",
     "text": [
      "\n",
      "mean_270619-video2_000-024_opened_cc36.png is INTERESTING\n"
     ]
    },
    {
     "name": "stderr",
     "output_type": "stream",
     "text": [
      "\r",
      " 41%|████      | 21/51 [00:15<00:20,  1.43it/s]"
     ]
    },
    {
     "name": "stdout",
     "output_type": "stream",
     "text": [
      "\n",
      "mean_270619-video2_000-036_opened_cc08.png: too spherical 6.651317288977264\n"
     ]
    },
    {
     "name": "stderr",
     "output_type": "stream",
     "text": [
      "\r",
      " 43%|████▎     | 22/51 [00:16<00:19,  1.49it/s]"
     ]
    },
    {
     "name": "stdout",
     "output_type": "stream",
     "text": [
      "\n",
      "mean_270619-video2_000-036_opened_cc14.png is INTERESTING\n"
     ]
    },
    {
     "name": "stderr",
     "output_type": "stream",
     "text": [
      "\r",
      " 45%|████▌     | 23/51 [00:17<00:18,  1.50it/s]"
     ]
    },
    {
     "name": "stdout",
     "output_type": "stream",
     "text": [
      "\n",
      "mean_270619-video2_000-036_opened_cc43.png: too spherical 6.9265355721098505\n"
     ]
    },
    {
     "name": "stderr",
     "output_type": "stream",
     "text": [
      "\r",
      " 47%|████▋     | 24/51 [00:17<00:17,  1.51it/s]"
     ]
    },
    {
     "name": "stdout",
     "output_type": "stream",
     "text": [
      "\n",
      "mean_270619-video2_000-036_opened_cc62.png: too spherical 4.723581045139431\n",
      "\n",
      "mean_270619-video2_000-037_opened_cc15.png is INTERESTING\n"
     ]
    },
    {
     "name": "stderr",
     "output_type": "stream",
     "text": [
      "\r",
      " 49%|████▉     | 25/51 [00:18<00:21,  1.22it/s]"
     ]
    },
    {
     "name": "stdout",
     "output_type": "stream",
     "text": [
      "\n",
      "video2_000-036-video2_000-037: overlap = 0.0\n"
     ]
    },
    {
     "name": "stderr",
     "output_type": "stream",
     "text": [
      "\r",
      " 51%|█████     | 26/51 [00:19<00:19,  1.29it/s]"
     ]
    },
    {
     "name": "stdout",
     "output_type": "stream",
     "text": [
      "\n",
      "mean_270619-video2_000-037_opened_cc36.png: too spherical 6.002256561807814\n",
      "\n",
      "mean_270619-video2_000-037_opened_cc64.png is INTERESTING\n"
     ]
    },
    {
     "name": "stderr",
     "output_type": "stream",
     "text": [
      "\r",
      " 53%|█████▎    | 27/51 [00:20<00:21,  1.11it/s]"
     ]
    },
    {
     "name": "stdout",
     "output_type": "stream",
     "text": [
      "\n",
      "video2_000-036-video2_000-037: overlap = 0.0\n"
     ]
    },
    {
     "name": "stderr",
     "output_type": "stream",
     "text": [
      "\r",
      " 55%|█████▍    | 28/51 [00:21<00:19,  1.16it/s]"
     ]
    },
    {
     "name": "stdout",
     "output_type": "stream",
     "text": [
      "\n",
      "mean_270619-video2_000-038_opened_cc05.png: too spherical 5.253670102167572\n",
      "\n",
      "mean_270619-video2_000-038_opened_cc11.png is INTERESTING\n",
      "\n",
      "video2_000-037-video2_000-038: overlap = 0.0\n"
     ]
    },
    {
     "name": "stderr",
     "output_type": "stream",
     "text": [
      "\r",
      " 57%|█████▋    | 29/51 [00:23<00:25,  1.18s/it]"
     ]
    },
    {
     "name": "stdout",
     "output_type": "stream",
     "text": [
      "\n",
      "video2_000-037-video2_000-038: overlap = 0.0\n",
      "\n",
      "mean_270619-video2_000-038_opened_cc21.png is INTERESTING\n"
     ]
    },
    {
     "name": "stderr",
     "output_type": "stream",
     "text": [
      "\r",
      " 59%|█████▉    | 30/51 [00:24<00:25,  1.20s/it]"
     ]
    },
    {
     "name": "stdout",
     "output_type": "stream",
     "text": [
      "\n",
      "video2_000-037-video2_000-038: overlap = 0.6925260170293284\n"
     ]
    },
    {
     "name": "stderr",
     "output_type": "stream",
     "text": [
      "\r",
      " 61%|██████    | 31/51 [00:25<00:20,  1.04s/it]"
     ]
    },
    {
     "name": "stdout",
     "output_type": "stream",
     "text": [
      "\n",
      "mean_270619-video2_000-038_opened_cc28.png: too spherical 1.6843445035380658\n"
     ]
    },
    {
     "name": "stderr",
     "output_type": "stream",
     "text": [
      "\r",
      " 63%|██████▎   | 32/51 [00:26<00:17,  1.09it/s]"
     ]
    },
    {
     "name": "stdout",
     "output_type": "stream",
     "text": [
      "\n",
      "mean_270619-video2_000-038_opened_cc32.png: too spherical 1.5753072282850336\n"
     ]
    },
    {
     "name": "stderr",
     "output_type": "stream",
     "text": [
      "\r",
      " 65%|██████▍   | 33/51 [00:26<00:14,  1.20it/s]"
     ]
    },
    {
     "name": "stdout",
     "output_type": "stream",
     "text": [
      "\n",
      "mean_270619-video2_000-038_opened_cc44.png: too spherical 3.4992855514020373\n"
     ]
    },
    {
     "name": "stderr",
     "output_type": "stream",
     "text": [
      "\r",
      " 67%|██████▋   | 34/51 [00:27<00:13,  1.30it/s]"
     ]
    },
    {
     "name": "stdout",
     "output_type": "stream",
     "text": [
      "\n",
      "mean_270619-video2_000-038_opened_cc45.png: too spherical 2.687739568942516\n",
      "\n",
      "mean_270619-video2_000-038_opened_cc60.png is INTERESTING\n"
     ]
    },
    {
     "name": "stderr",
     "output_type": "stream",
     "text": [
      "\r",
      " 69%|██████▊   | 35/51 [00:28<00:14,  1.10it/s]"
     ]
    },
    {
     "name": "stdout",
     "output_type": "stream",
     "text": [
      "\n",
      "video2_000-037-video2_000-038: overlap = 0.0\n"
     ]
    },
    {
     "name": "stderr",
     "output_type": "stream",
     "text": [
      "\r",
      " 71%|███████   | 36/51 [00:29<00:12,  1.18it/s]"
     ]
    },
    {
     "name": "stdout",
     "output_type": "stream",
     "text": [
      "\n",
      "mean_270619-video2_000-015_opened_cc30.png: too spherical 9.388673011676037\n",
      "\n",
      "mean_270619-video2_000-037_opened_cc03.png is INTERESTING\n"
     ]
    },
    {
     "name": "stderr",
     "output_type": "stream",
     "text": [
      "\r",
      " 73%|███████▎  | 37/51 [00:30<00:13,  1.02it/s]"
     ]
    },
    {
     "name": "stdout",
     "output_type": "stream",
     "text": [
      "\n",
      "video2_000-036-video2_000-037: overlap = 0.0\n",
      "\n",
      "mean_270619-video2_000-039_opened_cc02.png is INTERESTING\n",
      "\n",
      "video2_000-038-video2_000-039: overlap = 0.0\n",
      "\n",
      "video2_000-038-video2_000-039: overlap = 0.0\n"
     ]
    },
    {
     "name": "stderr",
     "output_type": "stream",
     "text": [
      "\r",
      " 75%|███████▍  | 38/51 [00:32<00:18,  1.42s/it]"
     ]
    },
    {
     "name": "stdout",
     "output_type": "stream",
     "text": [
      "\n",
      "video2_000-038-video2_000-039: overlap = 0.0\n",
      "\n",
      "mean_270619-video2_000-039_opened_cc28.png is INTERESTING\n",
      "\n",
      "video2_000-038-video2_000-039: overlap = 0.0\n",
      "\n",
      "video2_000-038-video2_000-039: overlap = 0.0\n"
     ]
    },
    {
     "name": "stderr",
     "output_type": "stream",
     "text": [
      "\r",
      " 76%|███████▋  | 39/51 [00:35<00:20,  1.71s/it]"
     ]
    },
    {
     "name": "stdout",
     "output_type": "stream",
     "text": [
      "\n",
      "video2_000-038-video2_000-039: overlap = 0.0\n"
     ]
    },
    {
     "name": "stderr",
     "output_type": "stream",
     "text": [
      "\r",
      " 78%|███████▊  | 40/51 [00:36<00:15,  1.40s/it]"
     ]
    },
    {
     "name": "stdout",
     "output_type": "stream",
     "text": [
      "\n",
      "mean_270619-video2_000-039_opened_cc54.png: too spherical 2.404690702348381\n",
      "\n",
      "mean_270619-video2_000-039_opened_cc59.png is INTERESTING\n",
      "\n",
      "video2_000-038-video2_000-039: overlap = 0.0\n",
      "\n",
      "video2_000-038-video2_000-039: overlap = 0.0\n"
     ]
    },
    {
     "name": "stderr",
     "output_type": "stream",
     "text": [
      "\r",
      " 80%|████████  | 41/51 [00:38<00:16,  1.69s/it]"
     ]
    },
    {
     "name": "stdout",
     "output_type": "stream",
     "text": [
      "\n",
      "video2_000-038-video2_000-039: overlap = 0.0\n"
     ]
    },
    {
     "name": "stderr",
     "output_type": "stream",
     "text": [
      "\r",
      " 82%|████████▏ | 42/51 [00:39<00:12,  1.39s/it]"
     ]
    },
    {
     "name": "stdout",
     "output_type": "stream",
     "text": [
      "\n",
      "mean_270619-video2_000-039_opened_cc76.png: too spherical 4.084308325562981\n",
      "\n",
      "mean_270619-video2_000-039_opened_cc77.png is INTERESTING\n",
      "\n",
      "video2_000-038-video2_000-039: overlap = 0.0\n",
      "\n",
      "video2_000-038-video2_000-039: overlap = 0.0\n"
     ]
    },
    {
     "name": "stderr",
     "output_type": "stream",
     "text": [
      "\r",
      " 84%|████████▍ | 43/51 [00:41<00:13,  1.68s/it]"
     ]
    },
    {
     "name": "stdout",
     "output_type": "stream",
     "text": [
      "\n",
      "video2_000-038-video2_000-039: overlap = 0.510958904109589\n"
     ]
    },
    {
     "name": "stderr",
     "output_type": "stream",
     "text": [
      "\r",
      " 86%|████████▋ | 44/51 [00:42<00:09,  1.38s/it]"
     ]
    },
    {
     "name": "stdout",
     "output_type": "stream",
     "text": [
      "\n",
      "mean_270619-video2_000-043_opened_cc05.png is INTERESTING\n"
     ]
    },
    {
     "name": "stderr",
     "output_type": "stream",
     "text": [
      "\r",
      " 88%|████████▊ | 45/51 [00:42<00:06,  1.15s/it]"
     ]
    },
    {
     "name": "stdout",
     "output_type": "stream",
     "text": [
      "\n",
      "mean_270619-video2_000-043_opened_cc13.png: too spherical 3.624042257090934\n"
     ]
    },
    {
     "name": "stderr",
     "output_type": "stream",
     "text": [
      "\r",
      " 90%|█████████ | 46/51 [00:43<00:04,  1.01it/s]"
     ]
    },
    {
     "name": "stdout",
     "output_type": "stream",
     "text": [
      "\n",
      "mean_270619-video2_000-043_opened_cc31.png is INTERESTING\n"
     ]
    },
    {
     "name": "stderr",
     "output_type": "stream",
     "text": [
      "\r",
      " 92%|█████████▏| 47/51 [00:43<00:03,  1.14it/s]"
     ]
    },
    {
     "name": "stdout",
     "output_type": "stream",
     "text": [
      "\n",
      "mean_270619-video2_000-044_opened_cc02.png: too spherical 9.032512560103408\n"
     ]
    },
    {
     "name": "stderr",
     "output_type": "stream",
     "text": [
      "\r",
      " 94%|█████████▍| 48/51 [00:44<00:02,  1.25it/s]"
     ]
    },
    {
     "name": "stdout",
     "output_type": "stream",
     "text": [
      "\n",
      "mean_270619-video2_000-044_opened_cc14.png: too spherical 2.512104156399837\n"
     ]
    },
    {
     "name": "stderr",
     "output_type": "stream",
     "text": [
      "\r",
      " 96%|█████████▌| 49/51 [00:45<00:01,  1.34it/s]"
     ]
    },
    {
     "name": "stdout",
     "output_type": "stream",
     "text": [
      "\n",
      "mean_270619-video2_000-044_opened_cc38.png: too spherical 2.6712674186204164\n",
      "\n",
      "mean_270619-video2_000-044_opened_cc49.png is INTERESTING\n",
      "\n",
      "video2_000-043-video2_000-044: overlap = 0.0\n"
     ]
    },
    {
     "name": "stderr",
     "output_type": "stream",
     "text": [
      "\r",
      " 98%|█████████▊| 50/51 [00:46<00:01,  1.06s/it]"
     ]
    },
    {
     "name": "stdout",
     "output_type": "stream",
     "text": [
      "\n",
      "video2_000-043-video2_000-044: overlap = 0.0\n"
     ]
    },
    {
     "name": "stderr",
     "output_type": "stream",
     "text": [
      "100%|██████████| 51/51 [00:47<00:00,  1.08it/s]\n",
      "  0%|          | 0/32 [00:00<?, ?it/s]"
     ]
    },
    {
     "name": "stdout",
     "output_type": "stream",
     "text": [
      "\n",
      "mean_270619-video2_000-044_opened_cc50.png: too spherical 2.043606834032354\n",
      "found video2_001/trigger_thr0.005_cl9_op3/cc_filtered_2den0.81_gausrad2.0/\n"
     ]
    },
    {
     "name": "stderr",
     "output_type": "stream",
     "text": [
      "\r",
      "  3%|▎         | 1/32 [00:00<00:23,  1.31it/s]"
     ]
    },
    {
     "name": "stdout",
     "output_type": "stream",
     "text": [
      "\n",
      "mean_270619-video2_001-001_opened_cc26.png: too spherical 4.853474919191273\n"
     ]
    },
    {
     "name": "stderr",
     "output_type": "stream",
     "text": [
      "\r",
      "  6%|▋         | 2/32 [00:01<00:21,  1.38it/s]"
     ]
    },
    {
     "name": "stdout",
     "output_type": "stream",
     "text": [
      "\n",
      "mean_270619-video2_001-002_opened_cc01.png is INTERESTING\n"
     ]
    },
    {
     "name": "stderr",
     "output_type": "stream",
     "text": [
      "\r",
      "  9%|▉         | 3/32 [00:02<00:20,  1.45it/s]"
     ]
    },
    {
     "name": "stdout",
     "output_type": "stream",
     "text": [
      "\n",
      "mean_270619-video2_001-002_opened_cc11.png: too spherical 7.7247900150889235\n"
     ]
    },
    {
     "name": "stderr",
     "output_type": "stream",
     "text": [
      "\r",
      " 12%|█▎        | 4/32 [00:02<00:18,  1.47it/s]"
     ]
    },
    {
     "name": "stdout",
     "output_type": "stream",
     "text": [
      "\n",
      "mean_270619-video2_001-002_opened_cc14.png: too spherical 8.112582819179659\n"
     ]
    },
    {
     "name": "stderr",
     "output_type": "stream",
     "text": [
      "\r",
      " 16%|█▌        | 5/32 [00:03<00:17,  1.51it/s]"
     ]
    },
    {
     "name": "stdout",
     "output_type": "stream",
     "text": [
      "\n",
      "mean_270619-video2_001-002_opened_cc24.png is INTERESTING\n"
     ]
    },
    {
     "name": "stderr",
     "output_type": "stream",
     "text": [
      "\r",
      " 19%|█▉        | 6/32 [00:03<00:17,  1.50it/s]"
     ]
    },
    {
     "name": "stdout",
     "output_type": "stream",
     "text": [
      "\n",
      "mean_270619-video2_001-002_opened_cc32.png: too spherical 3.382034136121451\n"
     ]
    },
    {
     "name": "stderr",
     "output_type": "stream",
     "text": [
      "\r",
      " 22%|██▏       | 7/32 [00:04<00:16,  1.53it/s]"
     ]
    },
    {
     "name": "stdout",
     "output_type": "stream",
     "text": [
      "\n",
      "mean_270619-video2_001-020_opened_cc22.png: too spherical 7.361916736688792\n"
     ]
    },
    {
     "name": "stderr",
     "output_type": "stream",
     "text": [
      "\r",
      " 25%|██▌       | 8/32 [00:05<00:15,  1.53it/s]"
     ]
    },
    {
     "name": "stdout",
     "output_type": "stream",
     "text": [
      "\n",
      "mean_270619-video2_001-020_opened_cc24.png: too spherical 6.820297011292038\n"
     ]
    },
    {
     "name": "stderr",
     "output_type": "stream",
     "text": [
      "\r",
      " 28%|██▊       | 9/32 [00:05<00:14,  1.55it/s]"
     ]
    },
    {
     "name": "stdout",
     "output_type": "stream",
     "text": [
      "\n",
      "mean_270619-video2_001-020_opened_cc31.png is INTERESTING\n"
     ]
    },
    {
     "name": "stderr",
     "output_type": "stream",
     "text": [
      "\r",
      " 31%|███▏      | 10/32 [00:06<00:14,  1.55it/s]"
     ]
    },
    {
     "name": "stdout",
     "output_type": "stream",
     "text": [
      "\n",
      "mean_270619-video2_001-020_opened_cc61.png: too spherical 5.307218924192093\n"
     ]
    },
    {
     "name": "stderr",
     "output_type": "stream",
     "text": [
      "\r",
      " 34%|███▍      | 11/32 [00:07<00:14,  1.48it/s]"
     ]
    },
    {
     "name": "stdout",
     "output_type": "stream",
     "text": [
      "\n",
      "mean_270619-video2_001-023_opened_cc03.png: too spherical 1.9250944484536174\n"
     ]
    },
    {
     "name": "stderr",
     "output_type": "stream",
     "text": [
      "\r",
      " 38%|███▊      | 12/32 [00:07<00:13,  1.52it/s]"
     ]
    },
    {
     "name": "stdout",
     "output_type": "stream",
     "text": [
      "\n",
      "mean_270619-video2_001-023_opened_cc35.png is INTERESTING\n"
     ]
    },
    {
     "name": "stderr",
     "output_type": "stream",
     "text": [
      "\r",
      " 41%|████      | 13/32 [00:08<00:12,  1.54it/s]"
     ]
    },
    {
     "name": "stdout",
     "output_type": "stream",
     "text": [
      "\n",
      "mean_270619-video2_001-023_opened_cc65.png is INTERESTING\n"
     ]
    },
    {
     "name": "stderr",
     "output_type": "stream",
     "text": [
      "\r",
      " 44%|████▍     | 14/32 [00:09<00:11,  1.55it/s]"
     ]
    },
    {
     "name": "stdout",
     "output_type": "stream",
     "text": [
      "\n",
      "mean_270619-video2_001-024_opened_cc31.png: too spherical 6.754487589402103\n"
     ]
    },
    {
     "name": "stderr",
     "output_type": "stream",
     "text": [
      "\r",
      " 47%|████▋     | 15/32 [00:09<00:11,  1.49it/s]"
     ]
    },
    {
     "name": "stdout",
     "output_type": "stream",
     "text": [
      "\n",
      "mean_270619-video2_001-024_opened_cc45.png: too spherical 1.3608077215256167\n",
      "\n",
      "mean_270619-video2_001-024_opened_cc50.png is INTERESTING\n"
     ]
    },
    {
     "name": "stderr",
     "output_type": "stream",
     "text": [
      "\r",
      " 50%|█████     | 16/32 [00:11<00:13,  1.21it/s]"
     ]
    },
    {
     "name": "stdout",
     "output_type": "stream",
     "text": [
      "\n",
      "video2_001-023-video2_001-024: overlap = 0.5925206410879067\n"
     ]
    },
    {
     "name": "stderr",
     "output_type": "stream",
     "text": [
      "\r",
      " 53%|█████▎    | 17/32 [00:11<00:11,  1.32it/s]"
     ]
    },
    {
     "name": "stdout",
     "output_type": "stream",
     "text": [
      "\n",
      "mean_270619-video2_001-025_opened_cc05.png: too spherical 1.309000357674428\n"
     ]
    },
    {
     "name": "stderr",
     "output_type": "stream",
     "text": [
      "\r",
      " 56%|█████▋    | 18/32 [00:12<00:10,  1.39it/s]"
     ]
    },
    {
     "name": "stdout",
     "output_type": "stream",
     "text": [
      "\n",
      "mean_270619-video2_001-025_opened_cc34.png: too spherical 3.2092369091076525\n",
      "\n",
      "mean_270619-video2_001-025_opened_cc55.png is INTERESTING\n"
     ]
    },
    {
     "name": "stderr",
     "output_type": "stream",
     "text": [
      "\r",
      " 59%|█████▉    | 19/32 [00:13<00:11,  1.16it/s]"
     ]
    },
    {
     "name": "stdout",
     "output_type": "stream",
     "text": [
      "\n",
      "video2_001-024-video2_001-025: overlap = 0.7962382445141065\n"
     ]
    },
    {
     "name": "stderr",
     "output_type": "stream",
     "text": [
      "\r",
      " 62%|██████▎   | 20/32 [00:14<00:09,  1.27it/s]"
     ]
    },
    {
     "name": "stdout",
     "output_type": "stream",
     "text": [
      "\n",
      "mean_270619-video2_001-025_opened_cc57.png: too spherical 3.284258887686728\n"
     ]
    },
    {
     "name": "stderr",
     "output_type": "stream",
     "text": [
      "\r",
      " 66%|██████▌   | 21/32 [00:14<00:08,  1.36it/s]"
     ]
    },
    {
     "name": "stdout",
     "output_type": "stream",
     "text": [
      "\n",
      "mean_270619-video2_001-025_opened_cc60.png is INTERESTING\n"
     ]
    },
    {
     "name": "stderr",
     "output_type": "stream",
     "text": [
      "\r",
      " 69%|██████▉   | 22/32 [00:15<00:07,  1.41it/s]"
     ]
    },
    {
     "name": "stdout",
     "output_type": "stream",
     "text": [
      "\n",
      "mean_270619-video2_001-025_opened_cc72.png is INTERESTING\n",
      "\n",
      "mean_270619-video2_001-026_opened_cc03.png is INTERESTING\n",
      "\n",
      "video2_001-025-video2_001-026: overlap = 0.0\n",
      "\n",
      "video2_001-025-video2_001-026: overlap = 0.0\n"
     ]
    },
    {
     "name": "stderr",
     "output_type": "stream",
     "text": [
      "\r",
      " 72%|███████▏  | 23/32 [00:17<00:10,  1.20s/it]"
     ]
    },
    {
     "name": "stdout",
     "output_type": "stream",
     "text": [
      "\n",
      "video2_001-025-video2_001-026: overlap = 0.0\n"
     ]
    },
    {
     "name": "stderr",
     "output_type": "stream",
     "text": [
      "\r",
      " 75%|███████▌  | 24/32 [00:18<00:08,  1.03s/it]"
     ]
    },
    {
     "name": "stdout",
     "output_type": "stream",
     "text": [
      "\n",
      "mean_270619-video2_001-026_opened_cc10.png: too spherical 6.991406829790614\n"
     ]
    },
    {
     "name": "stderr",
     "output_type": "stream",
     "text": [
      "\r",
      " 78%|███████▊  | 25/32 [00:18<00:06,  1.10it/s]"
     ]
    },
    {
     "name": "stdout",
     "output_type": "stream",
     "text": [
      "\n",
      "mean_270619-video2_001-026_opened_cc22.png: too spherical 3.139761326490548\n"
     ]
    },
    {
     "name": "stderr",
     "output_type": "stream",
     "text": [
      "\r",
      " 81%|████████▏ | 26/32 [00:19<00:04,  1.21it/s]"
     ]
    },
    {
     "name": "stdout",
     "output_type": "stream",
     "text": [
      "\n",
      "mean_270619-video2_001-026_opened_cc29.png: too spherical 8.230404443124828\n"
     ]
    },
    {
     "name": "stderr",
     "output_type": "stream",
     "text": [
      "\r",
      " 84%|████████▍ | 27/32 [00:20<00:03,  1.31it/s]"
     ]
    },
    {
     "name": "stdout",
     "output_type": "stream",
     "text": [
      "\n",
      "mean_270619-video2_001-026_opened_cc48.png: too spherical 7.071379779546126\n"
     ]
    },
    {
     "name": "stderr",
     "output_type": "stream",
     "text": [
      "\r",
      " 88%|████████▊ | 28/32 [00:20<00:02,  1.39it/s]"
     ]
    },
    {
     "name": "stdout",
     "output_type": "stream",
     "text": [
      "\n",
      "mean_270619-video2_001-041_opened_cc40.png is INTERESTING\n"
     ]
    },
    {
     "name": "stderr",
     "output_type": "stream",
     "text": [
      "\r",
      " 91%|█████████ | 29/32 [00:21<00:02,  1.45it/s]"
     ]
    },
    {
     "name": "stdout",
     "output_type": "stream",
     "text": [
      "\n",
      "mean_270619-video2_001-041_opened_cc56.png: too spherical 5.373369753728831\n"
     ]
    },
    {
     "name": "stderr",
     "output_type": "stream",
     "text": [
      "\r",
      " 94%|█████████▍| 30/32 [00:22<00:01,  1.50it/s]"
     ]
    },
    {
     "name": "stdout",
     "output_type": "stream",
     "text": [
      "\n",
      "mean_270619-video2_001-041_opened_cc73.png: too spherical 1.4087341210845394\n"
     ]
    },
    {
     "name": "stderr",
     "output_type": "stream",
     "text": [
      "\r",
      " 97%|█████████▋| 31/32 [00:22<00:00,  1.52it/s]"
     ]
    },
    {
     "name": "stdout",
     "output_type": "stream",
     "text": [
      "\n",
      "mean_270619-video2_001-020_opened_cc13.png: too spherical 6.930780194196621\n"
     ]
    },
    {
     "name": "stderr",
     "output_type": "stream",
     "text": [
      "100%|██████████| 32/32 [00:23<00:00,  1.55it/s]\n",
      "  0%|          | 0/45 [00:00<?, ?it/s]"
     ]
    },
    {
     "name": "stdout",
     "output_type": "stream",
     "text": [
      "\n",
      "mean_270619-video2_001-025_opened_cc108.png: too spherical 1.6247547941392049\n",
      "found video2_002/trigger_thr0.005_cl9_op3/cc_filtered_2den0.81_gausrad2.0/\n"
     ]
    },
    {
     "name": "stderr",
     "output_type": "stream",
     "text": [
      "\r",
      "  2%|▏         | 1/45 [00:00<00:28,  1.54it/s]"
     ]
    },
    {
     "name": "stdout",
     "output_type": "stream",
     "text": [
      "\n",
      "mean_270619-video2_002-017_opened_cc02.png is INTERESTING\n",
      "\n",
      "mean_270619-video2_002-018_opened_cc03.png is INTERESTING\n"
     ]
    },
    {
     "name": "stderr",
     "output_type": "stream",
     "text": [
      "\r",
      "  4%|▍         | 2/45 [00:01<00:36,  1.18it/s]"
     ]
    },
    {
     "name": "stdout",
     "output_type": "stream",
     "text": [
      "\n",
      "video2_002-017-video2_002-018: overlap = 0.839238845144357\n"
     ]
    },
    {
     "name": "stderr",
     "output_type": "stream",
     "text": [
      "\r",
      "  7%|▋         | 3/45 [00:02<00:33,  1.26it/s]"
     ]
    },
    {
     "name": "stdout",
     "output_type": "stream",
     "text": [
      "\n",
      "mean_270619-video2_002-018_opened_cc07.png: too spherical 7.993138783238395\n"
     ]
    },
    {
     "name": "stderr",
     "output_type": "stream",
     "text": [
      "\r",
      "  9%|▉         | 4/45 [00:03<00:30,  1.33it/s]"
     ]
    },
    {
     "name": "stdout",
     "output_type": "stream",
     "text": [
      "\n",
      "mean_270619-video2_002-018_opened_cc15.png: too spherical 2.757082018578729\n"
     ]
    },
    {
     "name": "stderr",
     "output_type": "stream",
     "text": [
      "\r",
      " 11%|█         | 5/45 [00:03<00:29,  1.38it/s]"
     ]
    },
    {
     "name": "stdout",
     "output_type": "stream",
     "text": [
      "\n",
      "mean_270619-video2_002-018_opened_cc26.png is INTERESTING\n"
     ]
    },
    {
     "name": "stderr",
     "output_type": "stream",
     "text": [
      "\r",
      " 13%|█▎        | 6/45 [00:04<00:27,  1.42it/s]"
     ]
    },
    {
     "name": "stdout",
     "output_type": "stream",
     "text": [
      "\n",
      "mean_270619-video2_002-018_opened_cc47.png is INTERESTING\n"
     ]
    },
    {
     "name": "stderr",
     "output_type": "stream",
     "text": [
      "\r",
      " 16%|█▌        | 7/45 [00:05<00:25,  1.46it/s]"
     ]
    },
    {
     "name": "stdout",
     "output_type": "stream",
     "text": [
      "\n",
      "mean_270619-video2_002-018_opened_cc51.png: too spherical 8.973486484972291\n"
     ]
    },
    {
     "name": "stderr",
     "output_type": "stream",
     "text": [
      "\r",
      " 18%|█▊        | 8/45 [00:05<00:24,  1.49it/s]"
     ]
    },
    {
     "name": "stdout",
     "output_type": "stream",
     "text": [
      "\n",
      "mean_270619-video2_002-018_opened_cc58.png: too spherical 3.671642462434248\n",
      "\n",
      "mean_270619-video2_002-019_opened_cc08.png is INTERESTING\n",
      "\n",
      "video2_002-018-video2_002-019: overlap = 0.0\n",
      "\n",
      "video2_002-018-video2_002-019: overlap = 0.0\n"
     ]
    },
    {
     "name": "stderr",
     "output_type": "stream",
     "text": [
      "\r",
      " 20%|██        | 9/45 [00:08<00:42,  1.19s/it]"
     ]
    },
    {
     "name": "stdout",
     "output_type": "stream",
     "text": [
      "\n",
      "video2_002-018-video2_002-019: overlap = 0.0\n"
     ]
    },
    {
     "name": "stderr",
     "output_type": "stream",
     "text": [
      "\r",
      " 22%|██▏       | 10/45 [00:08<00:35,  1.02s/it]"
     ]
    },
    {
     "name": "stdout",
     "output_type": "stream",
     "text": [
      "\n",
      "mean_270619-video2_002-019_opened_cc12.png: too spherical 7.956121307548559\n",
      "\n",
      "mean_270619-video2_002-019_opened_cc19.png is INTERESTING\n",
      "\n",
      "video2_002-018-video2_002-019: overlap = 0.0\n",
      "\n",
      "video2_002-018-video2_002-019: overlap = 0.0\n"
     ]
    },
    {
     "name": "stderr",
     "output_type": "stream",
     "text": [
      "\r",
      " 24%|██▍       | 11/45 [00:11<00:48,  1.42s/it]"
     ]
    },
    {
     "name": "stdout",
     "output_type": "stream",
     "text": [
      "\n",
      "video2_002-018-video2_002-019: overlap = 0.0\n"
     ]
    },
    {
     "name": "stderr",
     "output_type": "stream",
     "text": [
      "\r",
      " 27%|██▋       | 12/45 [00:11<00:38,  1.18s/it]"
     ]
    },
    {
     "name": "stdout",
     "output_type": "stream",
     "text": [
      "\n",
      "mean_270619-video2_002-019_opened_cc31.png: too spherical 4.390116504699563\n"
     ]
    },
    {
     "name": "stderr",
     "output_type": "stream",
     "text": [
      "\r",
      " 29%|██▉       | 13/45 [00:12<00:32,  1.02s/it]"
     ]
    },
    {
     "name": "stdout",
     "output_type": "stream",
     "text": [
      "\n",
      "mean_270619-video2_002-019_opened_cc41.png: too spherical 4.7434794363093395\n"
     ]
    },
    {
     "name": "stderr",
     "output_type": "stream",
     "text": [
      "\r",
      " 31%|███       | 14/45 [00:13<00:28,  1.10it/s]"
     ]
    },
    {
     "name": "stdout",
     "output_type": "stream",
     "text": [
      "\n",
      "mean_270619-video2_002-020_opened_cc02.png: too spherical 4.381299076165145\n"
     ]
    },
    {
     "name": "stderr",
     "output_type": "stream",
     "text": [
      "\r",
      " 33%|███▎      | 15/45 [00:13<00:25,  1.18it/s]"
     ]
    },
    {
     "name": "stdout",
     "output_type": "stream",
     "text": [
      "\n",
      "mean_270619-video2_002-020_opened_cc09.png: too spherical 2.1703066282455974\n"
     ]
    },
    {
     "name": "stderr",
     "output_type": "stream",
     "text": [
      "\r",
      " 36%|███▌      | 16/45 [00:14<00:22,  1.28it/s]"
     ]
    },
    {
     "name": "stdout",
     "output_type": "stream",
     "text": [
      "\n",
      "mean_270619-video2_002-020_opened_cc15.png: too spherical 5.757998843812614\n",
      "\n",
      "mean_270619-video2_002-020_opened_cc40.png is INTERESTING\n",
      "\n",
      "video2_002-019-video2_002-020: overlap = 0.0\n"
     ]
    },
    {
     "name": "stderr",
     "output_type": "stream",
     "text": [
      "\r",
      " 38%|███▊      | 17/45 [00:16<00:29,  1.07s/it]"
     ]
    },
    {
     "name": "stdout",
     "output_type": "stream",
     "text": [
      "\n",
      "video2_002-019-video2_002-020: overlap = 0.0\n"
     ]
    },
    {
     "name": "stderr",
     "output_type": "stream",
     "text": [
      "\r",
      " 40%|████      | 18/45 [00:16<00:25,  1.07it/s]"
     ]
    },
    {
     "name": "stdout",
     "output_type": "stream",
     "text": [
      "\n",
      "mean_270619-video2_002-020_opened_cc49.png: too spherical 9.151195685724451\n"
     ]
    },
    {
     "name": "stderr",
     "output_type": "stream",
     "text": [
      "\r",
      " 42%|████▏     | 19/45 [00:17<00:21,  1.19it/s]"
     ]
    },
    {
     "name": "stdout",
     "output_type": "stream",
     "text": [
      "\n",
      "mean_270619-video2_002-027_opened_cc03.png is INTERESTING\n"
     ]
    },
    {
     "name": "stderr",
     "output_type": "stream",
     "text": [
      "\r",
      " 44%|████▍     | 20/45 [00:18<00:19,  1.26it/s]"
     ]
    },
    {
     "name": "stdout",
     "output_type": "stream",
     "text": [
      "\n",
      "mean_270619-video2_002-027_opened_cc22.png: too spherical 5.374683299191739\n"
     ]
    },
    {
     "name": "stderr",
     "output_type": "stream",
     "text": [
      "\r",
      " 47%|████▋     | 21/45 [00:18<00:17,  1.35it/s]"
     ]
    },
    {
     "name": "stdout",
     "output_type": "stream",
     "text": [
      "\n",
      "mean_270619-video2_002-027_opened_cc38.png: too spherical 3.7262126905110797\n"
     ]
    },
    {
     "name": "stderr",
     "output_type": "stream",
     "text": [
      "\r",
      " 49%|████▉     | 22/45 [00:19<00:16,  1.40it/s]"
     ]
    },
    {
     "name": "stdout",
     "output_type": "stream",
     "text": [
      "\n",
      "mean_270619-video2_002-027_opened_cc65.png is INTERESTING\n",
      "\n",
      "mean_270619-video2_002-028_opened_cc05.png is INTERESTING\n",
      "\n",
      "video2_002-027-video2_002-028: overlap = 0.2837127845884413\n"
     ]
    },
    {
     "name": "stderr",
     "output_type": "stream",
     "text": [
      "\r",
      " 51%|█████     | 23/45 [00:21<00:23,  1.05s/it]"
     ]
    },
    {
     "name": "stdout",
     "output_type": "stream",
     "text": [
      "\n",
      "video2_002-027-video2_002-028: overlap = 0.0\n",
      "\n",
      "mean_270619-video2_002-028_opened_cc09.png is INTERESTING\n",
      "\n",
      "video2_002-027-video2_002-028: overlap = 0.0\n"
     ]
    },
    {
     "name": "stderr",
     "output_type": "stream",
     "text": [
      "\r",
      " 53%|█████▎    | 24/45 [00:23<00:26,  1.27s/it]"
     ]
    },
    {
     "name": "stdout",
     "output_type": "stream",
     "text": [
      "\n",
      "video2_002-027-video2_002-028: overlap = 0.0\n"
     ]
    },
    {
     "name": "stderr",
     "output_type": "stream",
     "text": [
      "\r",
      " 56%|█████▌    | 25/45 [00:23<00:21,  1.08s/it]"
     ]
    },
    {
     "name": "stdout",
     "output_type": "stream",
     "text": [
      "\n",
      "mean_270619-video2_002-028_opened_cc10.png: too spherical 1.6539213963722526\n"
     ]
    },
    {
     "name": "stderr",
     "output_type": "stream",
     "text": [
      "\r",
      " 58%|█████▊    | 26/45 [00:24<00:18,  1.05it/s]"
     ]
    },
    {
     "name": "stdout",
     "output_type": "stream",
     "text": [
      "\n",
      "mean_270619-video2_002-028_opened_cc20.png: too spherical 1.416322331822595\n"
     ]
    },
    {
     "name": "stderr",
     "output_type": "stream",
     "text": [
      "\r",
      " 60%|██████    | 27/45 [00:24<00:15,  1.17it/s]"
     ]
    },
    {
     "name": "stdout",
     "output_type": "stream",
     "text": [
      "\n",
      "mean_270619-video2_002-028_opened_cc69.png: too spherical 1.417287915805048\n",
      "\n",
      "mean_270619-video2_002-029_opened_cc05.png is INTERESTING\n"
     ]
    },
    {
     "name": "stderr",
     "output_type": "stream",
     "text": [
      "\r",
      " 62%|██████▏   | 28/45 [00:26<00:17,  1.00s/it]"
     ]
    },
    {
     "name": "stdout",
     "output_type": "stream",
     "text": [
      "\n",
      "video2_002-028-video2_002-029: overlap = 0.5157088122605364\n"
     ]
    },
    {
     "name": "stderr",
     "output_type": "stream",
     "text": [
      "\r",
      " 64%|██████▍   | 29/45 [00:27<00:14,  1.10it/s]"
     ]
    },
    {
     "name": "stdout",
     "output_type": "stream",
     "text": [
      "\n",
      "mean_270619-video2_002-029_opened_cc11.png: too spherical 2.915861575833194\n"
     ]
    },
    {
     "name": "stderr",
     "output_type": "stream",
     "text": [
      "\r",
      " 67%|██████▋   | 30/45 [00:27<00:12,  1.18it/s]"
     ]
    },
    {
     "name": "stdout",
     "output_type": "stream",
     "text": [
      "\n",
      "mean_270619-video2_002-029_opened_cc21.png: too spherical 4.404026606986247\n"
     ]
    },
    {
     "name": "stderr",
     "output_type": "stream",
     "text": [
      "\r",
      " 69%|██████▉   | 31/45 [00:28<00:12,  1.16it/s]"
     ]
    },
    {
     "name": "stdout",
     "output_type": "stream",
     "text": [
      "\n",
      "mean_270619-video2_002-019_opened_cc01.png: too spherical 3.5829403640549744\n"
     ]
    },
    {
     "name": "stderr",
     "output_type": "stream",
     "text": [
      "\r",
      " 71%|███████   | 32/45 [00:29<00:12,  1.05it/s]"
     ]
    },
    {
     "name": "stdout",
     "output_type": "stream",
     "text": [
      "\n",
      "mean_270619-video2_002-027_opened_cc11.png is INTERESTING\n"
     ]
    },
    {
     "name": "stderr",
     "output_type": "stream",
     "text": [
      "\r",
      " 73%|███████▎  | 33/45 [00:30<00:12,  1.00s/it]"
     ]
    },
    {
     "name": "stdout",
     "output_type": "stream",
     "text": [
      "\n",
      "mean_270619-video2_002-029_opened_cc37.png: too spherical 2.3751797492845457\n"
     ]
    },
    {
     "name": "stderr",
     "output_type": "stream",
     "text": [
      "\r",
      " 76%|███████▌  | 34/45 [00:32<00:11,  1.04s/it]"
     ]
    },
    {
     "name": "stdout",
     "output_type": "stream",
     "text": [
      "\n",
      "mean_270619-video2_002-030_opened_cc07.png: too spherical 5.821894009513413\n"
     ]
    },
    {
     "name": "stderr",
     "output_type": "stream",
     "text": [
      "\r",
      " 78%|███████▊  | 35/45 [00:33<00:10,  1.04s/it]"
     ]
    },
    {
     "name": "stdout",
     "output_type": "stream",
     "text": [
      "\n",
      "mean_270619-video2_002-030_opened_cc21.png: too spherical 5.135665105930967\n"
     ]
    },
    {
     "name": "stderr",
     "output_type": "stream",
     "text": [
      "\r",
      " 80%|████████  | 36/45 [00:34<00:09,  1.07s/it]"
     ]
    },
    {
     "name": "stdout",
     "output_type": "stream",
     "text": [
      "\n",
      "mean_270619-video2_002-030_opened_cc40.png: too spherical 2.333939783829976\n"
     ]
    },
    {
     "name": "stderr",
     "output_type": "stream",
     "text": [
      "\r",
      " 82%|████████▏ | 37/45 [00:35<00:08,  1.01s/it]"
     ]
    },
    {
     "name": "stdout",
     "output_type": "stream",
     "text": [
      "\n",
      "mean_270619-video2_002-030_opened_cc43.png: too spherical 3.6903395953009603\n"
     ]
    },
    {
     "name": "stderr",
     "output_type": "stream",
     "text": [
      "\r",
      " 84%|████████▍ | 38/45 [00:36<00:06,  1.02it/s]"
     ]
    },
    {
     "name": "stdout",
     "output_type": "stream",
     "text": [
      "\n",
      "mean_270619-video2_002-030_opened_cc59.png: too spherical 4.359525264313313\n"
     ]
    },
    {
     "name": "stderr",
     "output_type": "stream",
     "text": [
      "\r",
      " 87%|████████▋ | 39/45 [00:36<00:05,  1.15it/s]"
     ]
    },
    {
     "name": "stdout",
     "output_type": "stream",
     "text": [
      "\n",
      "mean_270619-video2_002-030_opened_cc62.png: too spherical 5.091888649212216\n"
     ]
    },
    {
     "name": "stderr",
     "output_type": "stream",
     "text": [
      "\r",
      " 89%|████████▉ | 40/45 [00:37<00:04,  1.24it/s]"
     ]
    },
    {
     "name": "stdout",
     "output_type": "stream",
     "text": [
      "\n",
      "mean_270619-video2_002-030_opened_cc65.png: too spherical 8.081619339115656\n"
     ]
    },
    {
     "name": "stderr",
     "output_type": "stream",
     "text": [
      "\r",
      " 91%|█████████ | 41/45 [00:37<00:03,  1.32it/s]"
     ]
    },
    {
     "name": "stdout",
     "output_type": "stream",
     "text": [
      "\n",
      "mean_270619-video2_002-030_opened_cc80.png: too spherical 7.4812934247877845\n"
     ]
    },
    {
     "name": "stderr",
     "output_type": "stream",
     "text": [
      "\r",
      " 93%|█████████▎| 42/45 [00:38<00:02,  1.17it/s]"
     ]
    },
    {
     "name": "stdout",
     "output_type": "stream",
     "text": [
      "\n",
      "mean_270619-video2_002-031_opened_cc19.png: too spherical 3.249166072995379\n"
     ]
    },
    {
     "name": "stderr",
     "output_type": "stream",
     "text": [
      "\r",
      " 96%|█████████▌| 43/45 [00:40<00:01,  1.10it/s]"
     ]
    },
    {
     "name": "stdout",
     "output_type": "stream",
     "text": [
      "\n",
      "mean_270619-video2_002-031_opened_cc26.png is INTERESTING\n"
     ]
    },
    {
     "name": "stderr",
     "output_type": "stream",
     "text": [
      "\r",
      " 98%|█████████▊| 44/45 [00:41<00:00,  1.02it/s]"
     ]
    },
    {
     "name": "stdout",
     "output_type": "stream",
     "text": [
      "\n",
      "mean_270619-video2_002-031_opened_cc38.png: too spherical 1.3950471891783143\n"
     ]
    },
    {
     "name": "stderr",
     "output_type": "stream",
     "text": [
      "100%|██████████| 45/45 [00:42<00:00,  1.02s/it]\n",
      "  0%|          | 0/46 [00:00<?, ?it/s]"
     ]
    },
    {
     "name": "stdout",
     "output_type": "stream",
     "text": [
      "\n",
      "mean_270619-video2_002-031_opened_cc57.png: too spherical 2.624561348753169\n",
      "found video2_003/trigger_thr0.005_cl9_op3/cc_filtered_2den0.81_gausrad2.0/\n"
     ]
    },
    {
     "name": "stderr",
     "output_type": "stream",
     "text": [
      "\r",
      "  2%|▏         | 1/46 [00:00<00:29,  1.53it/s]"
     ]
    },
    {
     "name": "stdout",
     "output_type": "stream",
     "text": [
      "\n",
      "mean_270619-video2_003-004_opened_cc10.png: too spherical 5.5567569350857\n"
     ]
    },
    {
     "name": "stderr",
     "output_type": "stream",
     "text": [
      "\r",
      "  4%|▍         | 2/46 [00:01<00:28,  1.53it/s]"
     ]
    },
    {
     "name": "stdout",
     "output_type": "stream",
     "text": [
      "\n",
      "mean_270619-video2_003-004_opened_cc52.png is INTERESTING\n",
      "\n",
      "mean_270619-video2_003-005_opened_cc17.png is INTERESTING\n"
     ]
    },
    {
     "name": "stderr",
     "output_type": "stream",
     "text": [
      "\r",
      "  7%|▋         | 3/46 [00:02<00:38,  1.10it/s]"
     ]
    },
    {
     "name": "stdout",
     "output_type": "stream",
     "text": [
      "\n",
      "video2_003-004-video2_003-005: overlap = 0.0\n"
     ]
    },
    {
     "name": "stderr",
     "output_type": "stream",
     "text": [
      "\r",
      "  9%|▊         | 4/46 [00:03<00:38,  1.10it/s]"
     ]
    },
    {
     "name": "stdout",
     "output_type": "stream",
     "text": [
      "\n",
      "mean_270619-video2_003-005_opened_cc24.png: too spherical 7.429010953885581\n",
      "\n",
      "mean_270619-video2_003-005_opened_cc43.png is INTERESTING\n"
     ]
    },
    {
     "name": "stderr",
     "output_type": "stream",
     "text": [
      "\r",
      " 11%|█         | 5/46 [00:04<00:40,  1.02it/s]"
     ]
    },
    {
     "name": "stdout",
     "output_type": "stream",
     "text": [
      "\n",
      "video2_003-004-video2_003-005: overlap = 0.0\n",
      "\n",
      "mean_270619-video2_003-005_opened_cc47.png is INTERESTING\n"
     ]
    },
    {
     "name": "stderr",
     "output_type": "stream",
     "text": [
      "\r",
      " 13%|█▎        | 6/46 [00:06<00:41,  1.04s/it]"
     ]
    },
    {
     "name": "stdout",
     "output_type": "stream",
     "text": [
      "\n",
      "video2_003-004-video2_003-005: overlap = 0.86158948845516\n"
     ]
    },
    {
     "name": "stderr",
     "output_type": "stream",
     "text": [
      "\r",
      " 15%|█▌        | 7/46 [00:06<00:35,  1.10it/s]"
     ]
    },
    {
     "name": "stdout",
     "output_type": "stream",
     "text": [
      "\n",
      "mean_270619-video2_003-005_opened_cc48.png is INTERESTING\n",
      "\n",
      "mean_270619-video2_003-006_opened_cc01.png is INTERESTING\n",
      "\n",
      "video2_003-005-video2_003-006: overlap = 0.0\n",
      "\n",
      "video2_003-005-video2_003-006: overlap = 0.0\n",
      "\n",
      "video2_003-005-video2_003-006: overlap = 0.0\n"
     ]
    },
    {
     "name": "stderr",
     "output_type": "stream",
     "text": [
      "\r",
      " 17%|█▋        | 8/46 [00:09<00:58,  1.54s/it]"
     ]
    },
    {
     "name": "stdout",
     "output_type": "stream",
     "text": [
      "\n",
      "video2_003-005-video2_003-006: overlap = 0.0\n"
     ]
    },
    {
     "name": "stderr",
     "output_type": "stream",
     "text": [
      "\r",
      " 20%|█▉        | 9/46 [00:10<00:48,  1.32s/it]"
     ]
    },
    {
     "name": "stdout",
     "output_type": "stream",
     "text": [
      "\n",
      "mean_270619-video2_003-006_opened_cc13.png: too spherical 5.401796941912322\n"
     ]
    },
    {
     "name": "stderr",
     "output_type": "stream",
     "text": [
      "\r",
      " 22%|██▏       | 10/46 [00:11<00:40,  1.13s/it]"
     ]
    },
    {
     "name": "stdout",
     "output_type": "stream",
     "text": [
      "\n",
      "mean_270619-video2_003-006_opened_cc21.png: too spherical 3.328053393747667\n",
      "\n",
      "mean_270619-video2_003-006_opened_cc23.png is INTERESTING\n",
      "\n",
      "video2_003-005-video2_003-006: overlap = 0.0\n",
      "\n",
      "video2_003-005-video2_003-006: overlap = 0.0\n",
      "\n",
      "video2_003-005-video2_003-006: overlap = 0.0\n"
     ]
    },
    {
     "name": "stderr",
     "output_type": "stream",
     "text": [
      "\r",
      " 24%|██▍       | 11/46 [00:14<01:01,  1.76s/it]"
     ]
    },
    {
     "name": "stdout",
     "output_type": "stream",
     "text": [
      "\n",
      "video2_003-005-video2_003-006: overlap = 0.0\n",
      "\n",
      "mean_270619-video2_003-006_opened_cc36.png is INTERESTING\n",
      "\n",
      "video2_003-005-video2_003-006: overlap = 0.0\n",
      "\n",
      "video2_003-005-video2_003-006: overlap = 0.0\n"
     ]
    },
    {
     "name": "stderr",
     "output_type": "stream",
     "text": [
      "\r",
      " 26%|██▌       | 12/46 [00:16<01:06,  1.96s/it]"
     ]
    },
    {
     "name": "stdout",
     "output_type": "stream",
     "text": [
      "\n",
      "video2_003-005-video2_003-006: overlap = 0.7511111111111111\n",
      "\n",
      "mean_270619-video2_003-006_opened_cc38.png is INTERESTING\n",
      "\n",
      "video2_003-005-video2_003-006: overlap = 0.0\n",
      "\n",
      "video2_003-005-video2_003-006: overlap = 0.0\n"
     ]
    },
    {
     "name": "stderr",
     "output_type": "stream",
     "text": [
      "\r",
      " 28%|██▊       | 13/46 [00:19<01:09,  2.12s/it]"
     ]
    },
    {
     "name": "stdout",
     "output_type": "stream",
     "text": [
      "\n",
      "video2_003-005-video2_003-006: overlap = 0.0\n",
      "\n",
      "mean_270619-video2_003-006_opened_cc40.png is INTERESTING\n"
     ]
    },
    {
     "name": "stderr",
     "output_type": "stream",
     "text": [
      "\r",
      " 30%|███       | 14/46 [00:20<00:59,  1.84s/it]"
     ]
    },
    {
     "name": "stdout",
     "output_type": "stream",
     "text": [
      "\n",
      "video2_003-005-video2_003-006: overlap = 0.8548136645962733\n",
      "\n",
      "mean_270619-video2_003-006_opened_cc42.png is INTERESTING\n",
      "\n",
      "video2_003-005-video2_003-006: overlap = 0.0\n"
     ]
    },
    {
     "name": "stderr",
     "output_type": "stream",
     "text": [
      "\r",
      " 33%|███▎      | 15/46 [00:22<00:58,  1.89s/it]"
     ]
    },
    {
     "name": "stdout",
     "output_type": "stream",
     "text": [
      "\n",
      "video2_003-005-video2_003-006: overlap = 0.294289897510981\n",
      "\n",
      "mean_270619-video2_003-007_opened_cc02.png is INTERESTING\n",
      "\n",
      "video2_003-006-video2_003-007: overlap = 0.0\n",
      "\n",
      "video2_003-006-video2_003-007: overlap = 0.0\n",
      "\n",
      "video2_003-006-video2_003-007: overlap = 0.24658618642390662\n",
      "\n",
      "video2_003-006-video2_003-007: overlap = 0.0\n",
      "\n",
      "video2_003-006-video2_003-007: overlap = 0.0\n"
     ]
    },
    {
     "name": "stderr",
     "output_type": "stream",
     "text": [
      "\r",
      " 35%|███▍      | 16/46 [00:27<01:21,  2.71s/it]"
     ]
    },
    {
     "name": "stdout",
     "output_type": "stream",
     "text": [
      "\n",
      "video2_003-006-video2_003-007: overlap = 0.0\n",
      "\n",
      "mean_270619-video2_003-007_opened_cc08.png is INTERESTING\n",
      "\n",
      "video2_003-006-video2_003-007: overlap = 0.0\n",
      "\n",
      "video2_003-006-video2_003-007: overlap = 0.0\n",
      "\n",
      "video2_003-006-video2_003-007: overlap = 0.0\n",
      "\n",
      "video2_003-006-video2_003-007: overlap = 0.0\n",
      "\n",
      "video2_003-006-video2_003-007: overlap = 0.0\n"
     ]
    },
    {
     "name": "stderr",
     "output_type": "stream",
     "text": [
      "\r",
      " 37%|███▋      | 17/46 [00:31<01:30,  3.12s/it]"
     ]
    },
    {
     "name": "stdout",
     "output_type": "stream",
     "text": [
      "\n",
      "video2_003-006-video2_003-007: overlap = 0.0\n"
     ]
    },
    {
     "name": "stderr",
     "output_type": "stream",
     "text": [
      "\r",
      " 39%|███▉      | 18/46 [00:31<01:06,  2.37s/it]"
     ]
    },
    {
     "name": "stdout",
     "output_type": "stream",
     "text": [
      "\n",
      "mean_270619-video2_003-007_opened_cc54.png: too spherical 3.2351371719569135\n"
     ]
    },
    {
     "name": "stderr",
     "output_type": "stream",
     "text": [
      "\r",
      " 41%|████▏     | 19/46 [00:32<00:49,  1.85s/it]"
     ]
    },
    {
     "name": "stdout",
     "output_type": "stream",
     "text": [
      "\n",
      "mean_270619-video2_003-007_opened_cc65.png: too spherical 8.846537596141179\n",
      "\n",
      "mean_270619-video2_003-008_opened_cc09.png is INTERESTING\n",
      "\n",
      "video2_003-007-video2_003-008: overlap = 0.0\n"
     ]
    },
    {
     "name": "stderr",
     "output_type": "stream",
     "text": [
      "\r",
      " 43%|████▎     | 20/46 [00:34<00:47,  1.82s/it]"
     ]
    },
    {
     "name": "stdout",
     "output_type": "stream",
     "text": [
      "\n",
      "video2_003-007-video2_003-008: overlap = 0.0\n"
     ]
    },
    {
     "name": "stderr",
     "output_type": "stream",
     "text": [
      "\r",
      " 46%|████▌     | 21/46 [00:34<00:36,  1.45s/it]"
     ]
    },
    {
     "name": "stdout",
     "output_type": "stream",
     "text": [
      "\n",
      "mean_270619-video2_003-008_opened_cc15.png: too spherical 7.210005765560857\n"
     ]
    },
    {
     "name": "stderr",
     "output_type": "stream",
     "text": [
      "\r",
      " 48%|████▊     | 22/46 [00:35<00:28,  1.20s/it]"
     ]
    },
    {
     "name": "stdout",
     "output_type": "stream",
     "text": [
      "\n",
      "mean_270619-video2_003-008_opened_cc47.png: too spherical 3.008495086045375\n"
     ]
    },
    {
     "name": "stderr",
     "output_type": "stream",
     "text": [
      "\r",
      " 50%|█████     | 23/46 [00:36<00:24,  1.05s/it]"
     ]
    },
    {
     "name": "stdout",
     "output_type": "stream",
     "text": [
      "\n",
      "mean_270619-video2_003-008_opened_cc66.png: too spherical 3.1121642894078185\n",
      "\n",
      "mean_270619-video2_003-008_opened_cc89.png is INTERESTING\n",
      "\n",
      "video2_003-007-video2_003-008: overlap = 0.0\n"
     ]
    },
    {
     "name": "stderr",
     "output_type": "stream",
     "text": [
      "\r",
      " 52%|█████▏    | 24/46 [00:37<00:28,  1.28s/it]"
     ]
    },
    {
     "name": "stdout",
     "output_type": "stream",
     "text": [
      "\n",
      "video2_003-007-video2_003-008: overlap = 0.0\n"
     ]
    },
    {
     "name": "stderr",
     "output_type": "stream",
     "text": [
      "\r",
      " 54%|█████▍    | 25/46 [00:38<00:22,  1.08s/it]"
     ]
    },
    {
     "name": "stdout",
     "output_type": "stream",
     "text": [
      "\n",
      "mean_270619-video2_003-040_opened_cc04.png: too spherical 4.211346745250106\n"
     ]
    },
    {
     "name": "stderr",
     "output_type": "stream",
     "text": [
      "\r",
      " 57%|█████▋    | 26/46 [00:39<00:18,  1.07it/s]"
     ]
    },
    {
     "name": "stdout",
     "output_type": "stream",
     "text": [
      "\n",
      "mean_270619-video2_003-040_opened_cc05.png is INTERESTING\n"
     ]
    },
    {
     "name": "stderr",
     "output_type": "stream",
     "text": [
      "\r",
      " 59%|█████▊    | 27/46 [00:39<00:16,  1.18it/s]"
     ]
    },
    {
     "name": "stdout",
     "output_type": "stream",
     "text": [
      "\n",
      "mean_270619-video2_003-040_opened_cc06.png is INTERESTING\n"
     ]
    },
    {
     "name": "stderr",
     "output_type": "stream",
     "text": [
      "\r",
      " 61%|██████    | 28/46 [00:40<00:14,  1.27it/s]"
     ]
    },
    {
     "name": "stdout",
     "output_type": "stream",
     "text": [
      "\n",
      "mean_270619-video2_003-040_opened_cc10.png is INTERESTING\n"
     ]
    },
    {
     "name": "stderr",
     "output_type": "stream",
     "text": [
      "\r",
      " 63%|██████▎   | 29/46 [00:41<00:12,  1.37it/s]"
     ]
    },
    {
     "name": "stdout",
     "output_type": "stream",
     "text": [
      "\n",
      "mean_270619-video2_003-040_opened_cc49.png: too spherical 9.33243403197895\n",
      "\n",
      "mean_270619-video2_003-041_opened_cc04.png is INTERESTING\n",
      "\n",
      "video2_003-040-video2_003-041: overlap = 0.0\n",
      "\n",
      "video2_003-040-video2_003-041: overlap = 0.0\n"
     ]
    },
    {
     "name": "stderr",
     "output_type": "stream",
     "text": [
      "\r",
      " 65%|██████▌   | 30/46 [00:43<00:19,  1.21s/it]"
     ]
    },
    {
     "name": "stdout",
     "output_type": "stream",
     "text": [
      "\n",
      "video2_003-040-video2_003-041: overlap = 0.0\n",
      "\n",
      "mean_270619-video2_003-006_opened_cc07.png is INTERESTING\n",
      "\n",
      "video2_003-005-video2_003-006: overlap = 0.0\n"
     ]
    },
    {
     "name": "stderr",
     "output_type": "stream",
     "text": [
      "\r",
      " 67%|██████▋   | 31/46 [00:45<00:20,  1.38s/it]"
     ]
    },
    {
     "name": "stdout",
     "output_type": "stream",
     "text": [
      "\n",
      "video2_003-005-video2_003-006: overlap = 0.0\n"
     ]
    },
    {
     "name": "stderr",
     "output_type": "stream",
     "text": [
      "\r",
      " 70%|██████▉   | 32/46 [00:45<00:16,  1.15s/it]"
     ]
    },
    {
     "name": "stdout",
     "output_type": "stream",
     "text": [
      "\n",
      "mean_270619-video2_003-008_opened_cc03.png: too spherical 8.860086819856148\n"
     ]
    },
    {
     "name": "stderr",
     "output_type": "stream",
     "text": [
      "\r",
      " 72%|███████▏  | 33/46 [00:46<00:13,  1.01s/it]"
     ]
    },
    {
     "name": "stdout",
     "output_type": "stream",
     "text": [
      "\n",
      "mean_270619-video2_003-041_opened_cc05.png: too spherical 1.992805208562306\n",
      "\n",
      "mean_270619-video2_003-041_opened_cc08.png is INTERESTING\n",
      "\n",
      "video2_003-040-video2_003-041: overlap = 0.0\n",
      "\n",
      "video2_003-040-video2_003-041: overlap = 0.0\n"
     ]
    },
    {
     "name": "stderr",
     "output_type": "stream",
     "text": [
      "\r",
      " 74%|███████▍  | 34/46 [00:48<00:17,  1.42s/it]"
     ]
    },
    {
     "name": "stdout",
     "output_type": "stream",
     "text": [
      "\n",
      "video2_003-040-video2_003-041: overlap = 0.0\n",
      "\n",
      "mean_270619-video2_003-041_opened_cc17.png is INTERESTING\n",
      "\n",
      "video2_003-040-video2_003-041: overlap = 0.0\n",
      "\n",
      "video2_003-040-video2_003-041: overlap = 0.0\n"
     ]
    },
    {
     "name": "stderr",
     "output_type": "stream",
     "text": [
      "\r",
      " 76%|███████▌  | 35/46 [00:51<00:18,  1.69s/it]"
     ]
    },
    {
     "name": "stdout",
     "output_type": "stream",
     "text": [
      "\n",
      "video2_003-040-video2_003-041: overlap = 0.0\n"
     ]
    },
    {
     "name": "stderr",
     "output_type": "stream",
     "text": [
      "\r",
      " 78%|███████▊  | 36/46 [00:51<00:13,  1.38s/it]"
     ]
    },
    {
     "name": "stdout",
     "output_type": "stream",
     "text": [
      "\n",
      "mean_270619-video2_003-042_opened_cc05.png: too spherical 1.299486207744466\n",
      "\n",
      "mean_270619-video2_003-042_opened_cc06.png is INTERESTING\n",
      "\n",
      "video2_003-041-video2_003-042: overlap = 0.0\n",
      "\n",
      "video2_003-041-video2_003-042: overlap = 0.4035455278001612\n"
     ]
    },
    {
     "name": "stderr",
     "output_type": "stream",
     "text": [
      "\r",
      " 80%|████████  | 37/46 [00:54<00:15,  1.69s/it]"
     ]
    },
    {
     "name": "stdout",
     "output_type": "stream",
     "text": [
      "\n",
      "video2_003-041-video2_003-042: overlap = 0.0\n",
      "\n",
      "mean_270619-video2_003-042_opened_cc39.png is INTERESTING\n",
      "\n",
      "video2_003-041-video2_003-042: overlap = 0.0\n",
      "\n",
      "video2_003-041-video2_003-042: overlap = 0.0\n"
     ]
    },
    {
     "name": "stderr",
     "output_type": "stream",
     "text": [
      "\r",
      " 83%|████████▎ | 38/46 [00:56<00:15,  1.89s/it]"
     ]
    },
    {
     "name": "stdout",
     "output_type": "stream",
     "text": [
      "\n",
      "video2_003-041-video2_003-042: overlap = 0.0\n",
      "\n",
      "mean_270619-video2_003-043_opened_cc03.png is INTERESTING\n",
      "\n",
      "video2_003-042-video2_003-043: overlap = 0.0\n"
     ]
    },
    {
     "name": "stderr",
     "output_type": "stream",
     "text": [
      "\r",
      " 85%|████████▍ | 39/46 [00:58<00:12,  1.85s/it]"
     ]
    },
    {
     "name": "stdout",
     "output_type": "stream",
     "text": [
      "\n",
      "video2_003-042-video2_003-043: overlap = 0.0\n"
     ]
    },
    {
     "name": "stderr",
     "output_type": "stream",
     "text": [
      "\r",
      " 87%|████████▋ | 40/46 [00:59<00:09,  1.50s/it]"
     ]
    },
    {
     "name": "stdout",
     "output_type": "stream",
     "text": [
      "\n",
      "mean_270619-video2_003-043_opened_cc04.png: too spherical 7.544166074428864\n",
      "\n",
      "mean_270619-video2_003-043_opened_cc10.png is INTERESTING\n",
      "\n",
      "video2_003-042-video2_003-043: overlap = 0.0\n"
     ]
    },
    {
     "name": "stderr",
     "output_type": "stream",
     "text": [
      "\r",
      " 89%|████████▉ | 41/46 [01:00<00:08,  1.63s/it]"
     ]
    },
    {
     "name": "stdout",
     "output_type": "stream",
     "text": [
      "\n",
      "video2_003-042-video2_003-043: overlap = 0.0\n",
      "\n",
      "mean_270619-video2_003-043_opened_cc23.png is INTERESTING\n",
      "\n",
      "video2_003-042-video2_003-043: overlap = 0.0\n"
     ]
    },
    {
     "name": "stderr",
     "output_type": "stream",
     "text": [
      "\r",
      " 91%|█████████▏| 42/46 [01:02<00:06,  1.69s/it]"
     ]
    },
    {
     "name": "stdout",
     "output_type": "stream",
     "text": [
      "\n",
      "video2_003-042-video2_003-043: overlap = 0.0\n",
      "\n",
      "mean_270619-video2_003-043_opened_cc32.png is INTERESTING\n",
      "\n",
      "video2_003-042-video2_003-043: overlap = 0.0\n"
     ]
    },
    {
     "name": "stderr",
     "output_type": "stream",
     "text": [
      "\r",
      " 93%|█████████▎| 43/46 [01:04<00:05,  1.73s/it]"
     ]
    },
    {
     "name": "stdout",
     "output_type": "stream",
     "text": [
      "\n",
      "video2_003-042-video2_003-043: overlap = 0.0\n",
      "\n",
      "mean_270619-video2_003-043_opened_cc38.png is INTERESTING\n",
      "\n",
      "video2_003-042-video2_003-043: overlap = 0.0\n"
     ]
    },
    {
     "name": "stderr",
     "output_type": "stream",
     "text": [
      "\r",
      " 96%|█████████▌| 44/46 [01:06<00:03,  1.78s/it]"
     ]
    },
    {
     "name": "stdout",
     "output_type": "stream",
     "text": [
      "\n",
      "video2_003-042-video2_003-043: overlap = 0.0\n",
      "\n",
      "mean_270619-video2_003-043_opened_cc46.png is INTERESTING\n",
      "\n",
      "video2_003-042-video2_003-043: overlap = 0.0\n"
     ]
    },
    {
     "name": "stderr",
     "output_type": "stream",
     "text": [
      "\r",
      " 98%|█████████▊| 45/46 [01:08<00:01,  1.79s/it]"
     ]
    },
    {
     "name": "stdout",
     "output_type": "stream",
     "text": [
      "\n",
      "video2_003-042-video2_003-043: overlap = 0.0\n"
     ]
    },
    {
     "name": "stderr",
     "output_type": "stream",
     "text": [
      "100%|██████████| 46/46 [01:08<00:00,  1.43s/it]\n",
      "  0%|          | 0/43 [00:00<?, ?it/s]"
     ]
    },
    {
     "name": "stdout",
     "output_type": "stream",
     "text": [
      "\n",
      "mean_270619-video2_003-043_opened_cc61.png: too spherical 2.9240175119930782\n",
      "found video2_004/trigger_thr0.005_cl9_op3/cc_filtered_2den0.81_gausrad2.0/\n"
     ]
    },
    {
     "name": "stderr",
     "output_type": "stream",
     "text": [
      "\r",
      "  2%|▏         | 1/43 [00:00<00:30,  1.37it/s]"
     ]
    },
    {
     "name": "stdout",
     "output_type": "stream",
     "text": [
      "\n",
      "mean_270619-video2_004-001_opened_cc05.png is INTERESTING\n"
     ]
    },
    {
     "name": "stderr",
     "output_type": "stream",
     "text": [
      "\r",
      "  5%|▍         | 2/43 [00:01<00:28,  1.44it/s]"
     ]
    },
    {
     "name": "stdout",
     "output_type": "stream",
     "text": [
      "\n",
      "mean_270619-video2_004-001_opened_cc08.png: too spherical 6.974688467911011\n"
     ]
    },
    {
     "name": "stderr",
     "output_type": "stream",
     "text": [
      "\r",
      "  7%|▋         | 3/43 [00:02<00:27,  1.46it/s]"
     ]
    },
    {
     "name": "stdout",
     "output_type": "stream",
     "text": [
      "\n",
      "mean_270619-video2_004-001_opened_cc19.png: too spherical 4.559983919075375\n"
     ]
    },
    {
     "name": "stderr",
     "output_type": "stream",
     "text": [
      "\r",
      "  9%|▉         | 4/43 [00:02<00:25,  1.51it/s]"
     ]
    },
    {
     "name": "stdout",
     "output_type": "stream",
     "text": [
      "\n",
      "mean_270619-video2_004-001_opened_cc32.png: too spherical 1.5642399260368443\n"
     ]
    },
    {
     "name": "stderr",
     "output_type": "stream",
     "text": [
      "\r",
      " 12%|█▏        | 5/43 [00:03<00:24,  1.53it/s]"
     ]
    },
    {
     "name": "stdout",
     "output_type": "stream",
     "text": [
      "\n",
      "mean_270619-video2_004-001_opened_cc53.png: too spherical 3.3919849221303804\n"
     ]
    },
    {
     "name": "stderr",
     "output_type": "stream",
     "text": [
      "\r",
      " 14%|█▍        | 6/43 [00:03<00:23,  1.56it/s]"
     ]
    },
    {
     "name": "stdout",
     "output_type": "stream",
     "text": [
      "\n",
      "mean_270619-video2_004-001_opened_cc62.png is INTERESTING\n"
     ]
    },
    {
     "name": "stderr",
     "output_type": "stream",
     "text": [
      "\r",
      " 16%|█▋        | 7/43 [00:04<00:23,  1.55it/s]"
     ]
    },
    {
     "name": "stdout",
     "output_type": "stream",
     "text": [
      "\n",
      "mean_270619-video2_004-026_opened_cc02.png is INTERESTING\n"
     ]
    },
    {
     "name": "stderr",
     "output_type": "stream",
     "text": [
      "\r",
      " 19%|█▊        | 8/43 [00:05<00:22,  1.54it/s]"
     ]
    },
    {
     "name": "stdout",
     "output_type": "stream",
     "text": [
      "\n",
      "mean_270619-video2_004-026_opened_cc35.png: too spherical 9.769214554513237\n"
     ]
    },
    {
     "name": "stderr",
     "output_type": "stream",
     "text": [
      "\r",
      " 21%|██        | 9/43 [00:05<00:22,  1.55it/s]"
     ]
    },
    {
     "name": "stdout",
     "output_type": "stream",
     "text": [
      "\n",
      "mean_270619-video2_004-026_opened_cc37.png: too spherical 8.481492794639195\n"
     ]
    },
    {
     "name": "stderr",
     "output_type": "stream",
     "text": [
      "\r",
      " 23%|██▎       | 10/43 [00:06<00:21,  1.52it/s]"
     ]
    },
    {
     "name": "stdout",
     "output_type": "stream",
     "text": [
      "\n",
      "mean_270619-video2_004-026_opened_cc40.png: too spherical 1.4092193655819516\n"
     ]
    },
    {
     "name": "stderr",
     "output_type": "stream",
     "text": [
      "\r",
      " 26%|██▌       | 11/43 [00:07<00:20,  1.54it/s]"
     ]
    },
    {
     "name": "stdout",
     "output_type": "stream",
     "text": [
      "\n",
      "mean_270619-video2_004-026_opened_cc59.png: too spherical 1.6362123325640499\n"
     ]
    },
    {
     "name": "stderr",
     "output_type": "stream",
     "text": [
      "\r",
      " 28%|██▊       | 12/43 [00:07<00:19,  1.56it/s]"
     ]
    },
    {
     "name": "stdout",
     "output_type": "stream",
     "text": [
      "\n",
      "mean_270619-video2_004-030_opened_cc03.png: too spherical 7.506935628709233\n"
     ]
    },
    {
     "name": "stderr",
     "output_type": "stream",
     "text": [
      "\r",
      " 30%|███       | 13/43 [00:08<00:19,  1.55it/s]"
     ]
    },
    {
     "name": "stdout",
     "output_type": "stream",
     "text": [
      "\n",
      "mean_270619-video2_004-030_opened_cc08.png: too spherical 3.8745428468978638\n"
     ]
    },
    {
     "name": "stderr",
     "output_type": "stream",
     "text": [
      "\r",
      " 33%|███▎      | 14/43 [00:09<00:18,  1.56it/s]"
     ]
    },
    {
     "name": "stdout",
     "output_type": "stream",
     "text": [
      "\n",
      "mean_270619-video2_004-030_opened_cc15.png is INTERESTING\n"
     ]
    },
    {
     "name": "stderr",
     "output_type": "stream",
     "text": [
      "\r",
      " 35%|███▍      | 15/43 [00:09<00:17,  1.56it/s]"
     ]
    },
    {
     "name": "stdout",
     "output_type": "stream",
     "text": [
      "\n",
      "mean_270619-video2_004-030_opened_cc42.png is INTERESTING\n"
     ]
    },
    {
     "name": "stderr",
     "output_type": "stream",
     "text": [
      "\r",
      " 37%|███▋      | 16/43 [00:10<00:17,  1.56it/s]"
     ]
    },
    {
     "name": "stdout",
     "output_type": "stream",
     "text": [
      "\n",
      "mean_270619-video2_004-031_opened_cc11.png: too spherical 2.5286810661849937\n"
     ]
    },
    {
     "name": "stderr",
     "output_type": "stream",
     "text": [
      "\r",
      " 40%|███▉      | 17/43 [00:11<00:17,  1.45it/s]"
     ]
    },
    {
     "name": "stdout",
     "output_type": "stream",
     "text": [
      "\n",
      "mean_270619-video2_004-034_opened_cc03.png is INTERESTING\n"
     ]
    },
    {
     "name": "stderr",
     "output_type": "stream",
     "text": [
      "\r",
      " 42%|████▏     | 18/43 [00:11<00:16,  1.50it/s]"
     ]
    },
    {
     "name": "stdout",
     "output_type": "stream",
     "text": [
      "\n",
      "mean_270619-video2_004-034_opened_cc13.png: too spherical 5.3590874314270165\n"
     ]
    },
    {
     "name": "stderr",
     "output_type": "stream",
     "text": [
      "\r",
      " 44%|████▍     | 19/43 [00:12<00:15,  1.54it/s]"
     ]
    },
    {
     "name": "stdout",
     "output_type": "stream",
     "text": [
      "\n",
      "mean_270619-video2_004-034_opened_cc27.png is INTERESTING\n"
     ]
    },
    {
     "name": "stderr",
     "output_type": "stream",
     "text": [
      "\r",
      " 47%|████▋     | 20/43 [00:12<00:14,  1.56it/s]"
     ]
    },
    {
     "name": "stdout",
     "output_type": "stream",
     "text": [
      "\n",
      "mean_270619-video2_004-034_opened_cc44.png: too spherical 2.8258551094400675\n"
     ]
    },
    {
     "name": "stderr",
     "output_type": "stream",
     "text": [
      "\r",
      " 49%|████▉     | 21/43 [00:13<00:13,  1.58it/s]"
     ]
    },
    {
     "name": "stdout",
     "output_type": "stream",
     "text": [
      "\n",
      "mean_270619-video2_004-035_opened_cc05.png: too spherical 2.8369438312247426\n",
      "\n",
      "mean_270619-video2_004-035_opened_cc07.png is INTERESTING\n",
      "\n",
      "video2_004-034-video2_004-035: overlap = 0.24710596616206593\n"
     ]
    },
    {
     "name": "stderr",
     "output_type": "stream",
     "text": [
      "\r",
      " 51%|█████     | 22/43 [00:15<00:20,  1.01it/s]"
     ]
    },
    {
     "name": "stdout",
     "output_type": "stream",
     "text": [
      "\n",
      "video2_004-034-video2_004-035: overlap = 0.0\n"
     ]
    },
    {
     "name": "stderr",
     "output_type": "stream",
     "text": [
      "\r",
      " 53%|█████▎    | 23/43 [00:16<00:18,  1.10it/s]"
     ]
    },
    {
     "name": "stdout",
     "output_type": "stream",
     "text": [
      "\n",
      "mean_270619-video2_004-035_opened_cc11.png: too spherical 3.395578508349894\n"
     ]
    },
    {
     "name": "stderr",
     "output_type": "stream",
     "text": [
      "\r",
      " 56%|█████▌    | 24/43 [00:16<00:15,  1.19it/s]"
     ]
    },
    {
     "name": "stdout",
     "output_type": "stream",
     "text": [
      "\n",
      "mean_270619-video2_004-035_opened_cc18.png: too spherical 5.097215609746356\n"
     ]
    },
    {
     "name": "stderr",
     "output_type": "stream",
     "text": [
      "\r",
      " 58%|█████▊    | 25/43 [00:17<00:13,  1.29it/s]"
     ]
    },
    {
     "name": "stdout",
     "output_type": "stream",
     "text": [
      "\n",
      "mean_270619-video2_004-035_opened_cc32.png: too spherical 2.5355576129311337\n",
      "\n",
      "mean_270619-video2_004-035_opened_cc50.png is INTERESTING\n",
      "\n",
      "video2_004-034-video2_004-035: overlap = 0.0\n"
     ]
    },
    {
     "name": "stderr",
     "output_type": "stream",
     "text": [
      "\r",
      " 60%|██████    | 26/43 [00:19<00:18,  1.08s/it]"
     ]
    },
    {
     "name": "stdout",
     "output_type": "stream",
     "text": [
      "\n",
      "video2_004-034-video2_004-035: overlap = 0.0\n"
     ]
    },
    {
     "name": "stderr",
     "output_type": "stream",
     "text": [
      "\r",
      " 63%|██████▎   | 27/43 [00:19<00:15,  1.07it/s]"
     ]
    },
    {
     "name": "stdout",
     "output_type": "stream",
     "text": [
      "\n",
      "mean_270619-video2_004-036_opened_cc03.png: too spherical 3.051935123633024\n"
     ]
    },
    {
     "name": "stderr",
     "output_type": "stream",
     "text": [
      "\r",
      " 65%|██████▌   | 28/43 [00:20<00:12,  1.17it/s]"
     ]
    },
    {
     "name": "stdout",
     "output_type": "stream",
     "text": [
      "\n",
      "mean_270619-video2_004-036_opened_cc08.png: too spherical 6.327784412987579\n"
     ]
    },
    {
     "name": "stderr",
     "output_type": "stream",
     "text": [
      "\r",
      " 67%|██████▋   | 29/43 [00:21<00:11,  1.27it/s]"
     ]
    },
    {
     "name": "stdout",
     "output_type": "stream",
     "text": [
      "\n",
      "mean_270619-video2_004-036_opened_cc21.png: too spherical 3.392638081763092\n"
     ]
    },
    {
     "name": "stderr",
     "output_type": "stream",
     "text": [
      "\r",
      " 70%|██████▉   | 30/43 [00:21<00:09,  1.36it/s]"
     ]
    },
    {
     "name": "stdout",
     "output_type": "stream",
     "text": [
      "\n",
      "mean_270619-video2_004-036_opened_cc32.png: too spherical 2.1867039291620327\n"
     ]
    },
    {
     "name": "stderr",
     "output_type": "stream",
     "text": [
      "\r",
      " 72%|███████▏  | 31/43 [00:22<00:08,  1.42it/s]"
     ]
    },
    {
     "name": "stdout",
     "output_type": "stream",
     "text": [
      "\n",
      "mean_270619-video2_004-036_opened_cc38.png: too spherical 8.066494942823494\n"
     ]
    },
    {
     "name": "stderr",
     "output_type": "stream",
     "text": [
      "\r",
      " 74%|███████▍  | 32/43 [00:22<00:07,  1.46it/s]"
     ]
    },
    {
     "name": "stdout",
     "output_type": "stream",
     "text": [
      "\n",
      "mean_270619-video2_004-036_opened_cc53.png: too spherical 5.517389023516397\n"
     ]
    },
    {
     "name": "stderr",
     "output_type": "stream",
     "text": [
      "\r",
      " 77%|███████▋  | 33/43 [00:23<00:06,  1.47it/s]"
     ]
    },
    {
     "name": "stdout",
     "output_type": "stream",
     "text": [
      "\n",
      "mean_270619-video2_004-041_opened_cc02.png: too spherical 2.9456840533540234\n"
     ]
    },
    {
     "name": "stderr",
     "output_type": "stream",
     "text": [
      "\r",
      " 79%|███████▉  | 34/43 [00:24<00:05,  1.51it/s]"
     ]
    },
    {
     "name": "stdout",
     "output_type": "stream",
     "text": [
      "\n",
      "mean_270619-video2_004-041_opened_cc05.png is INTERESTING\n"
     ]
    },
    {
     "name": "stderr",
     "output_type": "stream",
     "text": [
      "\r",
      " 81%|████████▏ | 35/43 [00:24<00:05,  1.51it/s]"
     ]
    },
    {
     "name": "stdout",
     "output_type": "stream",
     "text": [
      "\n",
      "mean_270619-video2_004-041_opened_cc10.png is INTERESTING\n"
     ]
    },
    {
     "name": "stderr",
     "output_type": "stream",
     "text": [
      "\r",
      " 84%|████████▎ | 36/43 [00:25<00:04,  1.51it/s]"
     ]
    },
    {
     "name": "stdout",
     "output_type": "stream",
     "text": [
      "\n",
      "mean_270619-video2_004-041_opened_cc20.png: too spherical 9.971749472011151\n"
     ]
    },
    {
     "name": "stderr",
     "output_type": "stream",
     "text": [
      "\r",
      " 86%|████████▌ | 37/43 [00:26<00:04,  1.50it/s]"
     ]
    },
    {
     "name": "stdout",
     "output_type": "stream",
     "text": [
      "\n",
      "mean_270619-video2_004-041_opened_cc39.png is INTERESTING\n"
     ]
    },
    {
     "name": "stderr",
     "output_type": "stream",
     "text": [
      "\r",
      " 88%|████████▊ | 38/43 [00:26<00:03,  1.51it/s]"
     ]
    },
    {
     "name": "stdout",
     "output_type": "stream",
     "text": [
      "\n",
      "mean_270619-video2_004-042_opened_cc03.png: too spherical 4.379148744902544\n",
      "\n",
      "mean_270619-video2_004-042_opened_cc22.png is INTERESTING\n",
      "\n",
      "video2_004-041-video2_004-042: overlap = 0.0\n",
      "\n",
      "video2_004-041-video2_004-042: overlap = 0.0\n"
     ]
    },
    {
     "name": "stderr",
     "output_type": "stream",
     "text": [
      "\r",
      " 91%|█████████ | 39/43 [00:29<00:04,  1.20s/it]"
     ]
    },
    {
     "name": "stdout",
     "output_type": "stream",
     "text": [
      "\n",
      "video2_004-041-video2_004-042: overlap = 0.0\n"
     ]
    },
    {
     "name": "stderr",
     "output_type": "stream",
     "text": [
      "\r",
      " 93%|█████████▎| 40/43 [00:30<00:03,  1.06s/it]"
     ]
    },
    {
     "name": "stdout",
     "output_type": "stream",
     "text": [
      "\n",
      "mean_270619-video2_004-042_opened_cc37.png: too spherical 6.6532003723570075\n",
      "\n",
      "mean_270619-video2_004-042_opened_cc61.png is INTERESTING\n",
      "\n",
      "video2_004-041-video2_004-042: overlap = 0.0\n",
      "\n",
      "video2_004-041-video2_004-042: overlap = 0.0\n"
     ]
    },
    {
     "name": "stderr",
     "output_type": "stream",
     "text": [
      "\r",
      " 95%|█████████▌| 41/43 [00:32<00:02,  1.44s/it]"
     ]
    },
    {
     "name": "stdout",
     "output_type": "stream",
     "text": [
      "\n",
      "video2_004-041-video2_004-042: overlap = 0.0\n"
     ]
    },
    {
     "name": "stderr",
     "output_type": "stream",
     "text": [
      "\r",
      " 98%|█████████▊| 42/43 [00:33<00:01,  1.20s/it]"
     ]
    },
    {
     "name": "stdout",
     "output_type": "stream",
     "text": [
      "\n",
      "mean_270619-video2_004-026_opened_cc07.png is INTERESTING\n"
     ]
    },
    {
     "name": "stderr",
     "output_type": "stream",
     "text": [
      "100%|██████████| 43/43 [00:33<00:00,  1.03s/it]\n",
      "  0%|          | 0/35 [00:00<?, ?it/s]"
     ]
    },
    {
     "name": "stdout",
     "output_type": "stream",
     "text": [
      "\n",
      "mean_270619-video2_004-034_opened_cc15.png is INTERESTING\n",
      "found video2_005/trigger_thr0.005_cl9_op3/cc_filtered_2den0.81_gausrad2.0/\n"
     ]
    },
    {
     "name": "stderr",
     "output_type": "stream",
     "text": [
      "\r",
      "  3%|▎         | 1/35 [00:00<00:21,  1.58it/s]"
     ]
    },
    {
     "name": "stdout",
     "output_type": "stream",
     "text": [
      "\n",
      "mean_270619-video2_005-001_opened_cc02.png: too spherical 5.7749244006605815\n"
     ]
    },
    {
     "name": "stderr",
     "output_type": "stream",
     "text": [
      "\r",
      "  6%|▌         | 2/35 [00:01<00:21,  1.52it/s]"
     ]
    },
    {
     "name": "stdout",
     "output_type": "stream",
     "text": [
      "\n",
      "mean_270619-video2_005-001_opened_cc15.png: too spherical 5.094464812353211\n"
     ]
    },
    {
     "name": "stderr",
     "output_type": "stream",
     "text": [
      "\r",
      "  9%|▊         | 3/35 [00:01<00:20,  1.53it/s]"
     ]
    },
    {
     "name": "stdout",
     "output_type": "stream",
     "text": [
      "\n",
      "mean_270619-video2_005-001_opened_cc43.png: too spherical 2.773294786523098\n"
     ]
    },
    {
     "name": "stderr",
     "output_type": "stream",
     "text": [
      "\r",
      " 11%|█▏        | 4/35 [00:02<00:19,  1.55it/s]"
     ]
    },
    {
     "name": "stdout",
     "output_type": "stream",
     "text": [
      "\n",
      "mean_270619-video2_005-001_opened_cc51.png: too spherical 3.0587624976837797\n"
     ]
    },
    {
     "name": "stderr",
     "output_type": "stream",
     "text": [
      "\r",
      " 14%|█▍        | 5/35 [00:03<00:19,  1.57it/s]"
     ]
    },
    {
     "name": "stdout",
     "output_type": "stream",
     "text": [
      "\n",
      "mean_270619-video2_005-001_opened_cc56.png: too spherical 2.5072879916003963\n"
     ]
    },
    {
     "name": "stderr",
     "output_type": "stream",
     "text": [
      "\r",
      " 17%|█▋        | 6/35 [00:03<00:19,  1.52it/s]"
     ]
    },
    {
     "name": "stdout",
     "output_type": "stream",
     "text": [
      "\n",
      "mean_270619-video2_005-001_opened_cc57.png is INTERESTING\n"
     ]
    },
    {
     "name": "stderr",
     "output_type": "stream",
     "text": [
      "\r",
      " 20%|██        | 7/35 [00:04<00:18,  1.51it/s]"
     ]
    },
    {
     "name": "stdout",
     "output_type": "stream",
     "text": [
      "\n",
      "mean_270619-video2_005-001_opened_cc58.png is INTERESTING\n"
     ]
    },
    {
     "name": "stderr",
     "output_type": "stream",
     "text": [
      "\r",
      " 23%|██▎       | 8/35 [00:05<00:18,  1.47it/s]"
     ]
    },
    {
     "name": "stdout",
     "output_type": "stream",
     "text": [
      "\n",
      "mean_270619-video2_005-002_opened_cc24.png: too spherical 6.899166385479784\n"
     ]
    },
    {
     "name": "stderr",
     "output_type": "stream",
     "text": [
      "\r",
      " 26%|██▌       | 9/35 [00:05<00:17,  1.49it/s]"
     ]
    },
    {
     "name": "stdout",
     "output_type": "stream",
     "text": [
      "\n",
      "mean_270619-video2_005-002_opened_cc37.png: too spherical 7.051489240459692\n"
     ]
    },
    {
     "name": "stderr",
     "output_type": "stream",
     "text": [
      "\r",
      " 29%|██▊       | 10/35 [00:06<00:16,  1.50it/s]"
     ]
    },
    {
     "name": "stdout",
     "output_type": "stream",
     "text": [
      "\n",
      "mean_270619-video2_005-009_opened_cc03.png is INTERESTING\n"
     ]
    },
    {
     "name": "stderr",
     "output_type": "stream",
     "text": [
      "\r",
      " 31%|███▏      | 11/35 [00:07<00:15,  1.50it/s]"
     ]
    },
    {
     "name": "stdout",
     "output_type": "stream",
     "text": [
      "\n",
      "mean_270619-video2_005-009_opened_cc24.png: too spherical 4.290516383140072\n"
     ]
    },
    {
     "name": "stderr",
     "output_type": "stream",
     "text": [
      "\r",
      " 34%|███▍      | 12/35 [00:07<00:15,  1.52it/s]"
     ]
    },
    {
     "name": "stdout",
     "output_type": "stream",
     "text": [
      "\n",
      "mean_270619-video2_005-009_opened_cc31.png: too spherical 1.5755585553071614\n"
     ]
    },
    {
     "name": "stderr",
     "output_type": "stream",
     "text": [
      "\r",
      " 37%|███▋      | 13/35 [00:08<00:14,  1.53it/s]"
     ]
    },
    {
     "name": "stdout",
     "output_type": "stream",
     "text": [
      "\n",
      "mean_270619-video2_005-009_opened_cc32.png is INTERESTING\n"
     ]
    },
    {
     "name": "stderr",
     "output_type": "stream",
     "text": [
      "\r",
      " 40%|████      | 14/35 [00:09<00:13,  1.57it/s]"
     ]
    },
    {
     "name": "stdout",
     "output_type": "stream",
     "text": [
      "\n",
      "mean_270619-video2_005-009_opened_cc42.png is INTERESTING\n"
     ]
    },
    {
     "name": "stderr",
     "output_type": "stream",
     "text": [
      "\r",
      " 43%|████▎     | 15/35 [00:09<00:12,  1.57it/s]"
     ]
    },
    {
     "name": "stdout",
     "output_type": "stream",
     "text": [
      "\n",
      "mean_270619-video2_005-013_opened_cc16.png: too spherical 6.256585222032615\n"
     ]
    },
    {
     "name": "stderr",
     "output_type": "stream",
     "text": [
      "\r",
      " 46%|████▌     | 16/35 [00:10<00:12,  1.56it/s]"
     ]
    },
    {
     "name": "stdout",
     "output_type": "stream",
     "text": [
      "\n",
      "mean_270619-video2_005-013_opened_cc28.png is INTERESTING\n"
     ]
    },
    {
     "name": "stderr",
     "output_type": "stream",
     "text": [
      "\r",
      " 49%|████▊     | 17/35 [00:11<00:11,  1.57it/s]"
     ]
    },
    {
     "name": "stdout",
     "output_type": "stream",
     "text": [
      "\n",
      "mean_270619-video2_005-021_opened_cc02.png: too spherical 8.187140670977522\n"
     ]
    },
    {
     "name": "stderr",
     "output_type": "stream",
     "text": [
      "\r",
      " 51%|█████▏    | 18/35 [00:11<00:10,  1.55it/s]"
     ]
    },
    {
     "name": "stdout",
     "output_type": "stream",
     "text": [
      "\n",
      "mean_270619-video2_005-021_opened_cc03.png: too spherical 2.91088299320226\n"
     ]
    },
    {
     "name": "stderr",
     "output_type": "stream",
     "text": [
      "\r",
      " 54%|█████▍    | 19/35 [00:12<00:10,  1.58it/s]"
     ]
    },
    {
     "name": "stdout",
     "output_type": "stream",
     "text": [
      "\n",
      "mean_270619-video2_005-021_opened_cc24.png: too spherical 8.767073194018616\n"
     ]
    },
    {
     "name": "stderr",
     "output_type": "stream",
     "text": [
      "\r",
      " 57%|█████▋    | 20/35 [00:12<00:09,  1.59it/s]"
     ]
    },
    {
     "name": "stdout",
     "output_type": "stream",
     "text": [
      "\n",
      "mean_270619-video2_005-021_opened_cc47.png is INTERESTING\n"
     ]
    },
    {
     "name": "stderr",
     "output_type": "stream",
     "text": [
      "\r",
      " 60%|██████    | 21/35 [00:13<00:08,  1.60it/s]"
     ]
    },
    {
     "name": "stdout",
     "output_type": "stream",
     "text": [
      "\n",
      "mean_270619-video2_005-021_opened_cc51.png is INTERESTING\n"
     ]
    },
    {
     "name": "stderr",
     "output_type": "stream",
     "text": [
      "\r",
      " 63%|██████▎   | 22/35 [00:14<00:08,  1.61it/s]"
     ]
    },
    {
     "name": "stdout",
     "output_type": "stream",
     "text": [
      "\n",
      "mean_270619-video2_005-029_opened_cc16.png is INTERESTING\n"
     ]
    },
    {
     "name": "stderr",
     "output_type": "stream",
     "text": [
      "\r",
      " 66%|██████▌   | 23/35 [00:14<00:07,  1.56it/s]"
     ]
    },
    {
     "name": "stdout",
     "output_type": "stream",
     "text": [
      "\n",
      "mean_270619-video2_005-029_opened_cc27.png: too spherical 9.474200861145023\n"
     ]
    },
    {
     "name": "stderr",
     "output_type": "stream",
     "text": [
      "\r",
      " 69%|██████▊   | 24/35 [00:15<00:06,  1.57it/s]"
     ]
    },
    {
     "name": "stdout",
     "output_type": "stream",
     "text": [
      "\n",
      "mean_270619-video2_005-029_opened_cc31.png: too spherical 3.2827432305724478\n"
     ]
    },
    {
     "name": "stderr",
     "output_type": "stream",
     "text": [
      "\r",
      " 71%|███████▏  | 25/35 [00:16<00:06,  1.58it/s]"
     ]
    },
    {
     "name": "stdout",
     "output_type": "stream",
     "text": [
      "\n",
      "mean_270619-video2_005-029_opened_cc82.png is INTERESTING\n",
      "\n",
      "mean_270619-video2_005-030_opened_cc07.png is INTERESTING\n"
     ]
    },
    {
     "name": "stderr",
     "output_type": "stream",
     "text": [
      "\r",
      " 74%|███████▍  | 26/35 [00:17<00:07,  1.24it/s]"
     ]
    },
    {
     "name": "stdout",
     "output_type": "stream",
     "text": [
      "\n",
      "video2_005-029-video2_005-030: overlap = 0.6609547123623011\n",
      "\n",
      "mean_270619-video2_005-030_opened_cc13.png is INTERESTING\n"
     ]
    },
    {
     "name": "stderr",
     "output_type": "stream",
     "text": [
      "\r",
      " 77%|███████▋  | 27/35 [00:18<00:07,  1.07it/s]"
     ]
    },
    {
     "name": "stdout",
     "output_type": "stream",
     "text": [
      "\n",
      "video2_005-029-video2_005-030: overlap = 0.0\n"
     ]
    },
    {
     "name": "stderr",
     "output_type": "stream",
     "text": [
      "\r",
      " 80%|████████  | 28/35 [00:19<00:05,  1.18it/s]"
     ]
    },
    {
     "name": "stdout",
     "output_type": "stream",
     "text": [
      "\n",
      "mean_270619-video2_005-030_opened_cc19.png: too spherical 2.5529145695790625\n",
      "\n",
      "mean_270619-video2_005-030_opened_cc29.png is INTERESTING\n"
     ]
    },
    {
     "name": "stderr",
     "output_type": "stream",
     "text": [
      "\r",
      " 83%|████████▎ | 29/35 [00:20<00:05,  1.02it/s]"
     ]
    },
    {
     "name": "stdout",
     "output_type": "stream",
     "text": [
      "\n",
      "video2_005-029-video2_005-030: overlap = 0.0\n",
      "\n",
      "mean_270619-video2_005-030_opened_cc61.png is INTERESTING\n"
     ]
    },
    {
     "name": "stderr",
     "output_type": "stream",
     "text": [
      "\r",
      " 86%|████████▌ | 30/35 [00:21<00:05,  1.06s/it]"
     ]
    },
    {
     "name": "stdout",
     "output_type": "stream",
     "text": [
      "\n",
      "video2_005-029-video2_005-030: overlap = 0.495970695970696\n"
     ]
    },
    {
     "name": "stderr",
     "output_type": "stream",
     "text": [
      "\r",
      " 89%|████████▊ | 31/35 [00:22<00:03,  1.07it/s]"
     ]
    },
    {
     "name": "stdout",
     "output_type": "stream",
     "text": [
      "\n",
      "mean_270619-video2_005-040_opened_cc07.png is INTERESTING\n"
     ]
    },
    {
     "name": "stderr",
     "output_type": "stream",
     "text": [
      "\r",
      " 91%|█████████▏| 32/35 [00:23<00:02,  1.17it/s]"
     ]
    },
    {
     "name": "stdout",
     "output_type": "stream",
     "text": [
      "\n",
      "mean_270619-video2_005-040_opened_cc14.png is INTERESTING\n"
     ]
    },
    {
     "name": "stderr",
     "output_type": "stream",
     "text": [
      "\r",
      " 94%|█████████▍| 33/35 [00:23<00:01,  1.24it/s]"
     ]
    },
    {
     "name": "stdout",
     "output_type": "stream",
     "text": [
      "\n",
      "mean_270619-video2_005-040_opened_cc24.png is INTERESTING\n"
     ]
    },
    {
     "name": "stderr",
     "output_type": "stream",
     "text": [
      "\r",
      " 97%|█████████▋| 34/35 [00:24<00:00,  1.32it/s]"
     ]
    },
    {
     "name": "stdout",
     "output_type": "stream",
     "text": [
      "\n",
      "mean_270619-video2_005-001_opened_cc64.png: too spherical 3.219886417754613\n"
     ]
    },
    {
     "name": "stderr",
     "output_type": "stream",
     "text": [
      "100%|██████████| 35/35 [00:25<00:00,  1.39it/s]\n",
      "  0%|          | 0/28 [00:00<?, ?it/s]"
     ]
    },
    {
     "name": "stdout",
     "output_type": "stream",
     "text": [
      "\n",
      "mean_270619-video2_005-021_opened_cc10.png is INTERESTING\n",
      "found video2_006/trigger_thr0.005_cl9_op3/cc_filtered_2den0.81_gausrad2.0/\n"
     ]
    },
    {
     "name": "stderr",
     "output_type": "stream",
     "text": [
      "\r",
      "  4%|▎         | 1/28 [00:00<00:17,  1.56it/s]"
     ]
    },
    {
     "name": "stdout",
     "output_type": "stream",
     "text": [
      "\n",
      "mean_270619-video2_006-033_opened_cc18.png: too spherical 1.6370419649000243\n"
     ]
    },
    {
     "name": "stderr",
     "output_type": "stream",
     "text": [
      "\r",
      "  7%|▋         | 2/28 [00:01<00:16,  1.55it/s]"
     ]
    },
    {
     "name": "stdout",
     "output_type": "stream",
     "text": [
      "\n",
      "mean_270619-video2_006-005_opened_cc03.png: too spherical 4.457276272760965\n"
     ]
    },
    {
     "name": "stderr",
     "output_type": "stream",
     "text": [
      "\r",
      " 11%|█         | 3/28 [00:01<00:15,  1.57it/s]"
     ]
    },
    {
     "name": "stdout",
     "output_type": "stream",
     "text": [
      "\n",
      "mean_270619-video2_006-005_opened_cc18.png is INTERESTING\n"
     ]
    },
    {
     "name": "stderr",
     "output_type": "stream",
     "text": [
      "\r",
      " 14%|█▍        | 4/28 [00:02<00:15,  1.58it/s]"
     ]
    },
    {
     "name": "stdout",
     "output_type": "stream",
     "text": [
      "\n",
      "mean_270619-video2_006-006_opened_cc04.png: too spherical 2.068010300616091\n",
      "\n",
      "mean_270619-video2_006-006_opened_cc16.png is INTERESTING\n"
     ]
    },
    {
     "name": "stderr",
     "output_type": "stream",
     "text": [
      "\r",
      " 18%|█▊        | 5/28 [00:03<00:18,  1.23it/s]"
     ]
    },
    {
     "name": "stdout",
     "output_type": "stream",
     "text": [
      "\n",
      "video2_006-005-video2_006-006: overlap = 0.0\n",
      "\n",
      "mean_270619-video2_006-006_opened_cc20.png is INTERESTING\n"
     ]
    },
    {
     "name": "stderr",
     "output_type": "stream",
     "text": [
      "\r",
      " 21%|██▏       | 6/28 [00:04<00:20,  1.08it/s]"
     ]
    },
    {
     "name": "stdout",
     "output_type": "stream",
     "text": [
      "\n",
      "video2_006-005-video2_006-006: overlap = 0.0\n"
     ]
    },
    {
     "name": "stderr",
     "output_type": "stream",
     "text": [
      "\r",
      " 25%|██▌       | 7/28 [00:05<00:17,  1.20it/s]"
     ]
    },
    {
     "name": "stdout",
     "output_type": "stream",
     "text": [
      "\n",
      "mean_270619-video2_006-006_opened_cc41.png: too spherical 4.247419380450616\n",
      "\n",
      "mean_270619-video2_006-006_opened_cc45.png is INTERESTING\n"
     ]
    },
    {
     "name": "stderr",
     "output_type": "stream",
     "text": [
      "\r",
      " 29%|██▊       | 8/28 [00:06<00:18,  1.06it/s]"
     ]
    },
    {
     "name": "stdout",
     "output_type": "stream",
     "text": [
      "\n",
      "video2_006-005-video2_006-006: overlap = 0.3994856408058294\n"
     ]
    },
    {
     "name": "stderr",
     "output_type": "stream",
     "text": [
      "\r",
      " 32%|███▏      | 9/28 [00:07<00:16,  1.18it/s]"
     ]
    },
    {
     "name": "stdout",
     "output_type": "stream",
     "text": [
      "\n",
      "mean_270619-video2_006-006_opened_cc89.png: too spherical 2.370168483774635\n"
     ]
    },
    {
     "name": "stderr",
     "output_type": "stream",
     "text": [
      "\r",
      " 36%|███▌      | 10/28 [00:08<00:14,  1.27it/s]"
     ]
    },
    {
     "name": "stdout",
     "output_type": "stream",
     "text": [
      "\n",
      "mean_270619-video2_006-027_opened_cc02.png is INTERESTING\n"
     ]
    },
    {
     "name": "stderr",
     "output_type": "stream",
     "text": [
      "\r",
      " 39%|███▉      | 11/28 [00:08<00:12,  1.32it/s]"
     ]
    },
    {
     "name": "stdout",
     "output_type": "stream",
     "text": [
      "\n",
      "mean_270619-video2_006-027_opened_cc12.png is INTERESTING\n"
     ]
    },
    {
     "name": "stderr",
     "output_type": "stream",
     "text": [
      "\r",
      " 43%|████▎     | 12/28 [00:09<00:11,  1.38it/s]"
     ]
    },
    {
     "name": "stdout",
     "output_type": "stream",
     "text": [
      "\n",
      "mean_270619-video2_006-027_opened_cc51.png is INTERESTING\n"
     ]
    },
    {
     "name": "stderr",
     "output_type": "stream",
     "text": [
      "\r",
      " 46%|████▋     | 13/28 [00:10<00:10,  1.42it/s]"
     ]
    },
    {
     "name": "stdout",
     "output_type": "stream",
     "text": [
      "\n",
      "mean_270619-video2_006-027_opened_cc59.png: too spherical 3.5594891806018527\n"
     ]
    },
    {
     "name": "stderr",
     "output_type": "stream",
     "text": [
      "\r",
      " 50%|█████     | 14/28 [00:10<00:09,  1.43it/s]"
     ]
    },
    {
     "name": "stdout",
     "output_type": "stream",
     "text": [
      "\n",
      "mean_270619-video2_006-033_opened_cc03.png: too spherical 2.1377690774824436\n"
     ]
    },
    {
     "name": "stderr",
     "output_type": "stream",
     "text": [
      "\r",
      " 54%|█████▎    | 15/28 [00:11<00:08,  1.49it/s]"
     ]
    },
    {
     "name": "stdout",
     "output_type": "stream",
     "text": [
      "\n",
      "mean_270619-video2_006-033_opened_cc40.png is INTERESTING\n"
     ]
    },
    {
     "name": "stderr",
     "output_type": "stream",
     "text": [
      "\r",
      " 57%|█████▋    | 16/28 [00:11<00:07,  1.53it/s]"
     ]
    },
    {
     "name": "stdout",
     "output_type": "stream",
     "text": [
      "\n",
      "mean_270619-video2_006-033_opened_cc42.png is INTERESTING\n"
     ]
    },
    {
     "name": "stderr",
     "output_type": "stream",
     "text": [
      "\r",
      " 61%|██████    | 17/28 [00:12<00:07,  1.52it/s]"
     ]
    },
    {
     "name": "stdout",
     "output_type": "stream",
     "text": [
      "\n",
      "mean_270619-video2_006-034_opened_cc02.png: too spherical 8.58237456820914\n",
      "\n",
      "mean_270619-video2_006-034_opened_cc16.png is INTERESTING\n",
      "\n",
      "video2_006-033-video2_006-034: overlap = 0.0\n"
     ]
    },
    {
     "name": "stderr",
     "output_type": "stream",
     "text": [
      "\r",
      " 64%|██████▍   | 18/28 [00:14<00:10,  1.00s/it]"
     ]
    },
    {
     "name": "stdout",
     "output_type": "stream",
     "text": [
      "\n",
      "video2_006-033-video2_006-034: overlap = 0.0\n",
      "\n",
      "mean_270619-video2_006-034_opened_cc17.png is INTERESTING\n",
      "\n",
      "video2_006-033-video2_006-034: overlap = 0.0\n"
     ]
    },
    {
     "name": "stderr",
     "output_type": "stream",
     "text": [
      "\r",
      " 68%|██████▊   | 19/28 [00:16<00:11,  1.25s/it]"
     ]
    },
    {
     "name": "stdout",
     "output_type": "stream",
     "text": [
      "\n",
      "video2_006-033-video2_006-034: overlap = 0.0\n",
      "\n",
      "mean_270619-video2_006-035_opened_cc02.png is INTERESTING\n",
      "\n",
      "video2_006-034-video2_006-035: overlap = 0.0\n"
     ]
    },
    {
     "name": "stderr",
     "output_type": "stream",
     "text": [
      "\r",
      " 71%|███████▏  | 20/28 [00:18<00:11,  1.45s/it]"
     ]
    },
    {
     "name": "stdout",
     "output_type": "stream",
     "text": [
      "\n",
      "video2_006-034-video2_006-035: overlap = 0.0\n"
     ]
    },
    {
     "name": "stderr",
     "output_type": "stream",
     "text": [
      "\r",
      " 75%|███████▌  | 21/28 [00:18<00:08,  1.21s/it]"
     ]
    },
    {
     "name": "stdout",
     "output_type": "stream",
     "text": [
      "\n",
      "mean_270619-video2_006-035_opened_cc17.png: too spherical 9.540694086100652\n",
      "\n",
      "mean_270619-video2_006-036_opened_cc03.png is INTERESTING\n"
     ]
    },
    {
     "name": "stderr",
     "output_type": "stream",
     "text": [
      "\r",
      " 79%|███████▊  | 22/28 [00:20<00:07,  1.22s/it]"
     ]
    },
    {
     "name": "stdout",
     "output_type": "stream",
     "text": [
      "\n",
      "video2_006-035-video2_006-036: overlap = 0.8427352985186294\n"
     ]
    },
    {
     "name": "stderr",
     "output_type": "stream",
     "text": [
      "\r",
      " 82%|████████▏ | 23/28 [00:20<00:05,  1.04s/it]"
     ]
    },
    {
     "name": "stdout",
     "output_type": "stream",
     "text": [
      "\n",
      "mean_270619-video2_006-036_opened_cc18.png: too spherical 3.883191802581891\n"
     ]
    },
    {
     "name": "stderr",
     "output_type": "stream",
     "text": [
      "\r",
      " 86%|████████▌ | 24/28 [00:21<00:03,  1.08it/s]"
     ]
    },
    {
     "name": "stdout",
     "output_type": "stream",
     "text": [
      "\n",
      "mean_270619-video2_006-036_opened_cc31.png is INTERESTING\n"
     ]
    },
    {
     "name": "stderr",
     "output_type": "stream",
     "text": [
      "\r",
      " 89%|████████▉ | 25/28 [00:21<00:02,  1.21it/s]"
     ]
    },
    {
     "name": "stdout",
     "output_type": "stream",
     "text": [
      "\n",
      "mean_270619-video2_006-036_opened_cc33.png: too spherical 3.930726052903479\n"
     ]
    },
    {
     "name": "stderr",
     "output_type": "stream",
     "text": [
      "\r",
      " 93%|█████████▎| 26/28 [00:22<00:01,  1.30it/s]"
     ]
    },
    {
     "name": "stdout",
     "output_type": "stream",
     "text": [
      "\n",
      "mean_270619-video2_006-036_opened_cc35.png: too spherical 6.59802369584388\n"
     ]
    },
    {
     "name": "stderr",
     "output_type": "stream",
     "text": [
      "\r",
      " 96%|█████████▋| 27/28 [00:23<00:00,  1.38it/s]"
     ]
    },
    {
     "name": "stdout",
     "output_type": "stream",
     "text": [
      "\n",
      "mean_270619-video2_006-036_opened_cc45.png: too spherical 6.011467397801276\n"
     ]
    },
    {
     "name": "stderr",
     "output_type": "stream",
     "text": [
      "100%|██████████| 28/28 [00:23<00:00,  1.44it/s]\n",
      "  0%|          | 0/37 [00:00<?, ?it/s]"
     ]
    },
    {
     "name": "stdout",
     "output_type": "stream",
     "text": [
      "\n",
      "mean_270619-video2_006-036_opened_cc84.png is INTERESTING\n",
      "found video2_007/trigger_thr0.005_cl9_op3/cc_filtered_2den0.81_gausrad2.0/\n"
     ]
    },
    {
     "name": "stderr",
     "output_type": "stream",
     "text": [
      "\r",
      "  3%|▎         | 1/37 [00:00<00:22,  1.59it/s]"
     ]
    },
    {
     "name": "stdout",
     "output_type": "stream",
     "text": [
      "\n",
      "mean_270619-video2_007-006_opened_cc08.png: too spherical 2.2382389931465005\n"
     ]
    },
    {
     "name": "stderr",
     "output_type": "stream",
     "text": [
      "\r",
      "  5%|▌         | 2/37 [00:01<00:22,  1.59it/s]"
     ]
    },
    {
     "name": "stdout",
     "output_type": "stream",
     "text": [
      "\n",
      "mean_270619-video2_007-006_opened_cc09.png is INTERESTING\n"
     ]
    },
    {
     "name": "stderr",
     "output_type": "stream",
     "text": [
      "\r",
      "  8%|▊         | 3/37 [00:01<00:21,  1.60it/s]"
     ]
    },
    {
     "name": "stdout",
     "output_type": "stream",
     "text": [
      "\n",
      "mean_270619-video2_007-006_opened_cc11.png: too spherical 3.6631139932870878\n"
     ]
    },
    {
     "name": "stderr",
     "output_type": "stream",
     "text": [
      "\r",
      " 11%|█         | 4/37 [00:02<00:20,  1.61it/s]"
     ]
    },
    {
     "name": "stdout",
     "output_type": "stream",
     "text": [
      "\n",
      "mean_270619-video2_007-006_opened_cc17.png is INTERESTING\n"
     ]
    },
    {
     "name": "stderr",
     "output_type": "stream",
     "text": [
      "\r",
      " 14%|█▎        | 5/37 [00:03<00:19,  1.60it/s]"
     ]
    },
    {
     "name": "stdout",
     "output_type": "stream",
     "text": [
      "\n",
      "mean_270619-video2_007-006_opened_cc23.png: too spherical 1.2708124238389262\n"
     ]
    },
    {
     "name": "stderr",
     "output_type": "stream",
     "text": [
      "\r",
      " 16%|█▌        | 6/37 [00:03<00:19,  1.62it/s]"
     ]
    },
    {
     "name": "stdout",
     "output_type": "stream",
     "text": [
      "\n",
      "mean_270619-video2_007-006_opened_cc27.png is INTERESTING\n"
     ]
    },
    {
     "name": "stderr",
     "output_type": "stream",
     "text": [
      "\r",
      " 19%|█▉        | 7/37 [00:04<00:18,  1.59it/s]"
     ]
    },
    {
     "name": "stdout",
     "output_type": "stream",
     "text": [
      "\n",
      "mean_270619-video2_007-006_opened_cc42.png: too spherical 2.86921237575475\n"
     ]
    },
    {
     "name": "stderr",
     "output_type": "stream",
     "text": [
      "\r",
      " 22%|██▏       | 8/37 [00:05<00:18,  1.57it/s]"
     ]
    },
    {
     "name": "stdout",
     "output_type": "stream",
     "text": [
      "\n",
      "mean_270619-video2_007-006_opened_cc43.png: too spherical 5.740315083944177\n"
     ]
    },
    {
     "name": "stderr",
     "output_type": "stream",
     "text": [
      "\r",
      " 24%|██▍       | 9/37 [00:05<00:17,  1.59it/s]"
     ]
    },
    {
     "name": "stdout",
     "output_type": "stream",
     "text": [
      "\n",
      "mean_270619-video2_007-006_opened_cc45.png is INTERESTING\n"
     ]
    },
    {
     "name": "stderr",
     "output_type": "stream",
     "text": [
      "\r",
      " 27%|██▋       | 10/37 [00:06<00:16,  1.59it/s]"
     ]
    },
    {
     "name": "stdout",
     "output_type": "stream",
     "text": [
      "\n",
      "mean_270619-video2_007-006_opened_cc58.png: too spherical 6.69187908122899\n"
     ]
    },
    {
     "name": "stderr",
     "output_type": "stream",
     "text": [
      "\r",
      " 30%|██▉       | 11/37 [00:06<00:16,  1.59it/s]"
     ]
    },
    {
     "name": "stdout",
     "output_type": "stream",
     "text": [
      "\n",
      "mean_270619-video2_007-006_opened_cc66.png: too spherical 3.1188239879378923\n"
     ]
    },
    {
     "name": "stderr",
     "output_type": "stream",
     "text": [
      "\r",
      " 32%|███▏      | 12/37 [00:07<00:16,  1.55it/s]"
     ]
    },
    {
     "name": "stdout",
     "output_type": "stream",
     "text": [
      "\n",
      "mean_270619-video2_007-007_opened_cc07.png: too spherical 2.3654133899297127\n"
     ]
    },
    {
     "name": "stderr",
     "output_type": "stream",
     "text": [
      "\r",
      " 35%|███▌      | 13/37 [00:08<00:15,  1.54it/s]"
     ]
    },
    {
     "name": "stdout",
     "output_type": "stream",
     "text": [
      "\n",
      "mean_270619-video2_007-007_opened_cc11.png: too spherical 6.553453152440905\n",
      "\n",
      "mean_270619-video2_007-007_opened_cc12.png is INTERESTING\n"
     ]
    },
    {
     "name": "stderr",
     "output_type": "stream",
     "text": [
      "\r",
      " 38%|███▊      | 14/37 [00:09<00:18,  1.21it/s]"
     ]
    },
    {
     "name": "stdout",
     "output_type": "stream",
     "text": [
      "\n",
      "video2_007-006-video2_007-007: overlap = 0.6084129242023979\n"
     ]
    },
    {
     "name": "stderr",
     "output_type": "stream",
     "text": [
      "\r",
      " 41%|████      | 15/37 [00:10<00:16,  1.32it/s]"
     ]
    },
    {
     "name": "stdout",
     "output_type": "stream",
     "text": [
      "\n",
      "mean_270619-video2_007-007_opened_cc23.png: too spherical 8.470698887167616\n",
      "\n",
      "mean_270619-video2_007-007_opened_cc39.png is INTERESTING\n",
      "\n",
      "video2_007-006-video2_007-007: overlap = 0.0\n",
      "\n",
      "video2_007-006-video2_007-007: overlap = 0.0\n"
     ]
    },
    {
     "name": "stderr",
     "output_type": "stream",
     "text": [
      "\r",
      " 43%|████▎     | 16/37 [00:12<00:25,  1.24s/it]"
     ]
    },
    {
     "name": "stdout",
     "output_type": "stream",
     "text": [
      "\n",
      "video2_007-006-video2_007-007: overlap = 0.0\n",
      "\n",
      "mean_270619-video2_007-007_opened_cc57.png is INTERESTING\n",
      "\n",
      "video2_007-006-video2_007-007: overlap = 0.0\n",
      "\n",
      "video2_007-006-video2_007-007: overlap = 0.0\n"
     ]
    },
    {
     "name": "stderr",
     "output_type": "stream",
     "text": [
      "\r",
      " 46%|████▌     | 17/37 [00:14<00:31,  1.56s/it]"
     ]
    },
    {
     "name": "stdout",
     "output_type": "stream",
     "text": [
      "\n",
      "video2_007-006-video2_007-007: overlap = 0.0\n",
      "\n",
      "mean_270619-video2_007-007_opened_cc58.png is INTERESTING\n",
      "\n",
      "video2_007-006-video2_007-007: overlap = 0.0\n",
      "\n",
      "video2_007-006-video2_007-007: overlap = 0.0\n"
     ]
    },
    {
     "name": "stderr",
     "output_type": "stream",
     "text": [
      "\r",
      " 49%|████▊     | 18/37 [00:17<00:33,  1.79s/it]"
     ]
    },
    {
     "name": "stdout",
     "output_type": "stream",
     "text": [
      "\n",
      "video2_007-006-video2_007-007: overlap = 0.0\n"
     ]
    },
    {
     "name": "stderr",
     "output_type": "stream",
     "text": [
      "\r",
      " 51%|█████▏    | 19/37 [00:17<00:25,  1.43s/it]"
     ]
    },
    {
     "name": "stdout",
     "output_type": "stream",
     "text": [
      "\n",
      "mean_270619-video2_007-035_opened_cc05.png: too spherical 2.740128246295991\n"
     ]
    },
    {
     "name": "stderr",
     "output_type": "stream",
     "text": [
      "\r",
      " 54%|█████▍    | 20/37 [00:18<00:20,  1.20s/it]"
     ]
    },
    {
     "name": "stdout",
     "output_type": "stream",
     "text": [
      "\n",
      "mean_270619-video2_007-035_opened_cc12.png: too spherical 2.9430957601571355\n"
     ]
    },
    {
     "name": "stderr",
     "output_type": "stream",
     "text": [
      "\r",
      " 57%|█████▋    | 21/37 [00:18<00:16,  1.03s/it]"
     ]
    },
    {
     "name": "stdout",
     "output_type": "stream",
     "text": [
      "\n",
      "mean_270619-video2_007-035_opened_cc33.png: too spherical 9.324439961605908\n"
     ]
    },
    {
     "name": "stderr",
     "output_type": "stream",
     "text": [
      "\r",
      " 59%|█████▉    | 22/37 [00:19<00:13,  1.11it/s]"
     ]
    },
    {
     "name": "stdout",
     "output_type": "stream",
     "text": [
      "\n",
      "mean_270619-video2_007-036_opened_cc08.png is INTERESTING\n"
     ]
    },
    {
     "name": "stderr",
     "output_type": "stream",
     "text": [
      "\r",
      " 62%|██████▏   | 23/37 [00:20<00:11,  1.23it/s]"
     ]
    },
    {
     "name": "stdout",
     "output_type": "stream",
     "text": [
      "\n",
      "mean_270619-video2_007-036_opened_cc15.png: too spherical 2.4322937940266396\n"
     ]
    },
    {
     "name": "stderr",
     "output_type": "stream",
     "text": [
      "\r",
      " 65%|██████▍   | 24/37 [00:20<00:09,  1.30it/s]"
     ]
    },
    {
     "name": "stdout",
     "output_type": "stream",
     "text": [
      "\n",
      "mean_270619-video2_007-036_opened_cc21.png: too spherical 1.86249227906021\n"
     ]
    },
    {
     "name": "stderr",
     "output_type": "stream",
     "text": [
      "\r",
      " 68%|██████▊   | 25/37 [00:21<00:08,  1.36it/s]"
     ]
    },
    {
     "name": "stdout",
     "output_type": "stream",
     "text": [
      "\n",
      "mean_270619-video2_007-036_opened_cc28.png: too spherical 5.4767648918493075\n"
     ]
    },
    {
     "name": "stderr",
     "output_type": "stream",
     "text": [
      "\r",
      " 70%|███████   | 26/37 [00:22<00:07,  1.43it/s]"
     ]
    },
    {
     "name": "stdout",
     "output_type": "stream",
     "text": [
      "\n",
      "mean_270619-video2_007-036_opened_cc44.png: too spherical 2.010074757867788\n"
     ]
    },
    {
     "name": "stderr",
     "output_type": "stream",
     "text": [
      "\r",
      " 73%|███████▎  | 27/37 [00:22<00:06,  1.48it/s]"
     ]
    },
    {
     "name": "stdout",
     "output_type": "stream",
     "text": [
      "\n",
      "mean_270619-video2_007-036_opened_cc48.png is INTERESTING\n"
     ]
    },
    {
     "name": "stderr",
     "output_type": "stream",
     "text": [
      "\r",
      " 76%|███████▌  | 28/37 [00:23<00:05,  1.51it/s]"
     ]
    },
    {
     "name": "stdout",
     "output_type": "stream",
     "text": [
      "\n",
      "mean_270619-video2_007-036_opened_cc55.png: too spherical 8.293687643710713\n",
      "\n",
      "mean_270619-video2_007-037_opened_cc08.png is INTERESTING\n",
      "\n",
      "video2_007-036-video2_007-037: overlap = 0.0\n"
     ]
    },
    {
     "name": "stderr",
     "output_type": "stream",
     "text": [
      "\r",
      " 78%|███████▊  | 29/37 [00:25<00:08,  1.01s/it]"
     ]
    },
    {
     "name": "stdout",
     "output_type": "stream",
     "text": [
      "\n",
      "video2_007-036-video2_007-037: overlap = 0.0\n"
     ]
    },
    {
     "name": "stderr",
     "output_type": "stream",
     "text": [
      "\r",
      " 81%|████████  | 30/37 [00:25<00:06,  1.12it/s]"
     ]
    },
    {
     "name": "stdout",
     "output_type": "stream",
     "text": [
      "\n",
      "mean_270619-video2_007-037_opened_cc27.png: too spherical 4.003173326614964\n"
     ]
    },
    {
     "name": "stderr",
     "output_type": "stream",
     "text": [
      "\r",
      " 84%|████████▍ | 31/37 [00:26<00:04,  1.23it/s]"
     ]
    },
    {
     "name": "stdout",
     "output_type": "stream",
     "text": [
      "\n",
      "mean_270619-video2_007-037_opened_cc33.png: too spherical 1.969782502486944\n"
     ]
    },
    {
     "name": "stderr",
     "output_type": "stream",
     "text": [
      "\r",
      " 86%|████████▋ | 32/37 [00:27<00:03,  1.33it/s]"
     ]
    },
    {
     "name": "stdout",
     "output_type": "stream",
     "text": [
      "\n",
      "mean_270619-video2_007-037_opened_cc52.png: too spherical 4.043940279485868\n"
     ]
    },
    {
     "name": "stderr",
     "output_type": "stream",
     "text": [
      "\r",
      " 89%|████████▉ | 33/37 [00:27<00:02,  1.40it/s]"
     ]
    },
    {
     "name": "stdout",
     "output_type": "stream",
     "text": [
      "\n",
      "mean_270619-video2_007-037_opened_cc65.png: too spherical 7.954410508058826\n"
     ]
    },
    {
     "name": "stderr",
     "output_type": "stream",
     "text": [
      "\r",
      " 92%|█████████▏| 34/37 [00:28<00:02,  1.43it/s]"
     ]
    },
    {
     "name": "stdout",
     "output_type": "stream",
     "text": [
      "\n",
      "mean_270619-video2_007-048_opened_cc24.png: too spherical 1.5096631489241013\n"
     ]
    },
    {
     "name": "stderr",
     "output_type": "stream",
     "text": [
      "\r",
      " 95%|█████████▍| 35/37 [00:28<00:01,  1.47it/s]"
     ]
    },
    {
     "name": "stdout",
     "output_type": "stream",
     "text": [
      "\n",
      "mean_270619-video2_007-048_opened_cc46.png is INTERESTING\n"
     ]
    },
    {
     "name": "stderr",
     "output_type": "stream",
     "text": [
      "\r",
      " 97%|█████████▋| 36/37 [00:29<00:00,  1.51it/s]"
     ]
    },
    {
     "name": "stdout",
     "output_type": "stream",
     "text": [
      "\n",
      "mean_270619-video2_007-006_opened_cc49.png: too spherical 9.892631035739873\n"
     ]
    },
    {
     "name": "stderr",
     "output_type": "stream",
     "text": [
      "100%|██████████| 37/37 [00:30<00:00,  1.53it/s]\n",
      "  0%|          | 0/48 [00:00<?, ?it/s]"
     ]
    },
    {
     "name": "stdout",
     "output_type": "stream",
     "text": [
      "\n",
      "mean_270619-video2_007-035_opened_cc30.png is INTERESTING\n",
      "found video2_008/trigger_thr0.005_cl9_op3/cc_filtered_2den0.81_gausrad2.0/\n"
     ]
    },
    {
     "name": "stderr",
     "output_type": "stream",
     "text": [
      "\r",
      "  2%|▏         | 1/48 [00:00<00:33,  1.41it/s]"
     ]
    },
    {
     "name": "stdout",
     "output_type": "stream",
     "text": [
      "\n",
      "mean_270619-video2_008-001_opened_cc17.png: too spherical 3.3978702995749672\n"
     ]
    },
    {
     "name": "stderr",
     "output_type": "stream",
     "text": [
      "\r",
      "  4%|▍         | 2/48 [00:01<00:32,  1.41it/s]"
     ]
    },
    {
     "name": "stdout",
     "output_type": "stream",
     "text": [
      "\n",
      "mean_270619-video2_008-002_opened_cc24.png: too spherical 4.341792746044707\n"
     ]
    },
    {
     "name": "stderr",
     "output_type": "stream",
     "text": [
      "\r",
      "  6%|▋         | 3/48 [00:02<00:30,  1.45it/s]"
     ]
    },
    {
     "name": "stdout",
     "output_type": "stream",
     "text": [
      "\n",
      "mean_270619-video2_008-002_opened_cc38.png: too spherical 4.4970878230765505\n"
     ]
    },
    {
     "name": "stderr",
     "output_type": "stream",
     "text": [
      "\r",
      "  8%|▊         | 4/48 [00:02<00:29,  1.50it/s]"
     ]
    },
    {
     "name": "stdout",
     "output_type": "stream",
     "text": [
      "\n",
      "mean_270619-video2_008-002_opened_cc42.png: too spherical 7.4734093721653485\n"
     ]
    },
    {
     "name": "stderr",
     "output_type": "stream",
     "text": [
      "\r",
      " 10%|█         | 5/48 [00:03<00:28,  1.52it/s]"
     ]
    },
    {
     "name": "stdout",
     "output_type": "stream",
     "text": [
      "\n",
      "mean_270619-video2_008-002_opened_cc44.png is INTERESTING\n"
     ]
    },
    {
     "name": "stderr",
     "output_type": "stream",
     "text": [
      "\r",
      " 12%|█▎        | 6/48 [00:03<00:27,  1.55it/s]"
     ]
    },
    {
     "name": "stdout",
     "output_type": "stream",
     "text": [
      "\n",
      "mean_270619-video2_008-002_opened_cc70.png is INTERESTING\n"
     ]
    },
    {
     "name": "stderr",
     "output_type": "stream",
     "text": [
      "\r",
      " 15%|█▍        | 7/48 [00:04<00:26,  1.55it/s]"
     ]
    },
    {
     "name": "stdout",
     "output_type": "stream",
     "text": [
      "\n",
      "mean_270619-video2_008-003_opened_cc17.png: too spherical 3.4683712491828294\n"
     ]
    },
    {
     "name": "stderr",
     "output_type": "stream",
     "text": [
      "\r",
      " 17%|█▋        | 8/48 [00:05<00:25,  1.56it/s]"
     ]
    },
    {
     "name": "stdout",
     "output_type": "stream",
     "text": [
      "\n",
      "mean_270619-video2_008-003_opened_cc41.png: too spherical 4.972151895074777\n"
     ]
    },
    {
     "name": "stderr",
     "output_type": "stream",
     "text": [
      "\r",
      " 19%|█▉        | 9/48 [00:05<00:25,  1.52it/s]"
     ]
    },
    {
     "name": "stdout",
     "output_type": "stream",
     "text": [
      "\n",
      "mean_270619-video2_008-004_opened_cc11.png: too spherical 2.6087807405666648\n"
     ]
    },
    {
     "name": "stderr",
     "output_type": "stream",
     "text": [
      "\r",
      " 21%|██        | 10/48 [00:06<00:24,  1.55it/s]"
     ]
    },
    {
     "name": "stdout",
     "output_type": "stream",
     "text": [
      "\n",
      "mean_270619-video2_008-004_opened_cc116.png is INTERESTING\n"
     ]
    },
    {
     "name": "stderr",
     "output_type": "stream",
     "text": [
      "\r",
      " 23%|██▎       | 11/48 [00:07<00:23,  1.58it/s]"
     ]
    },
    {
     "name": "stdout",
     "output_type": "stream",
     "text": [
      "\n",
      "mean_270619-video2_008-004_opened_cc28.png: too spherical 2.8736371671597998\n"
     ]
    },
    {
     "name": "stderr",
     "output_type": "stream",
     "text": [
      "\r",
      " 25%|██▌       | 12/48 [00:07<00:22,  1.60it/s]"
     ]
    },
    {
     "name": "stdout",
     "output_type": "stream",
     "text": [
      "\n",
      "mean_270619-video2_008-004_opened_cc35.png: too spherical 2.8880519466969243\n"
     ]
    },
    {
     "name": "stderr",
     "output_type": "stream",
     "text": [
      "\r",
      " 27%|██▋       | 13/48 [00:08<00:22,  1.59it/s]"
     ]
    },
    {
     "name": "stdout",
     "output_type": "stream",
     "text": [
      "\n",
      "mean_270619-video2_008-004_opened_cc43.png is INTERESTING\n"
     ]
    },
    {
     "name": "stderr",
     "output_type": "stream",
     "text": [
      "\r",
      " 29%|██▉       | 14/48 [00:08<00:21,  1.59it/s]"
     ]
    },
    {
     "name": "stdout",
     "output_type": "stream",
     "text": [
      "\n",
      "mean_270619-video2_008-004_opened_cc57.png: too spherical 4.206684113347683\n"
     ]
    },
    {
     "name": "stderr",
     "output_type": "stream",
     "text": [
      "\r",
      " 31%|███▏      | 15/48 [00:09<00:20,  1.61it/s]"
     ]
    },
    {
     "name": "stdout",
     "output_type": "stream",
     "text": [
      "\n",
      "mean_270619-video2_008-004_opened_cc58.png is INTERESTING\n"
     ]
    },
    {
     "name": "stderr",
     "output_type": "stream",
     "text": [
      "\r",
      " 33%|███▎      | 16/48 [00:10<00:19,  1.62it/s]"
     ]
    },
    {
     "name": "stdout",
     "output_type": "stream",
     "text": [
      "\n",
      "mean_270619-video2_008-004_opened_cc85.png: too spherical 4.20995591311665\n",
      "\n",
      "mean_270619-video2_008-005_opened_cc06.png is INTERESTING\n",
      "\n",
      "video2_008-004-video2_008-005: overlap = 0.0\n",
      "\n",
      "video2_008-004-video2_008-005: overlap = 0.0\n"
     ]
    },
    {
     "name": "stderr",
     "output_type": "stream",
     "text": [
      "\r",
      " 35%|███▌      | 17/48 [00:12<00:35,  1.13s/it]"
     ]
    },
    {
     "name": "stdout",
     "output_type": "stream",
     "text": [
      "\n",
      "video2_008-004-video2_008-005: overlap = 0.0\n",
      "\n",
      "mean_270619-video2_008-005_opened_cc45.png is INTERESTING\n",
      "\n",
      "video2_008-004-video2_008-005: overlap = 0.0\n",
      "\n",
      "video2_008-004-video2_008-005: overlap = 0.320855614973262\n"
     ]
    },
    {
     "name": "stderr",
     "output_type": "stream",
     "text": [
      "\r",
      " 38%|███▊      | 18/48 [00:14<00:45,  1.50s/it]"
     ]
    },
    {
     "name": "stdout",
     "output_type": "stream",
     "text": [
      "\n",
      "video2_008-004-video2_008-005: overlap = 0.0\n"
     ]
    },
    {
     "name": "stderr",
     "output_type": "stream",
     "text": [
      "\r",
      " 40%|███▉      | 19/48 [00:15<00:36,  1.26s/it]"
     ]
    },
    {
     "name": "stdout",
     "output_type": "stream",
     "text": [
      "\n",
      "mean_270619-video2_008-011_opened_cc04.png: too spherical 6.188426998044078\n"
     ]
    },
    {
     "name": "stderr",
     "output_type": "stream",
     "text": [
      "\r",
      " 42%|████▏     | 20/48 [00:16<00:30,  1.08s/it]"
     ]
    },
    {
     "name": "stdout",
     "output_type": "stream",
     "text": [
      "\n",
      "mean_270619-video2_008-011_opened_cc05.png: too spherical 1.8117380886620362\n"
     ]
    },
    {
     "name": "stderr",
     "output_type": "stream",
     "text": [
      "\r",
      " 44%|████▍     | 21/48 [00:16<00:25,  1.05it/s]"
     ]
    },
    {
     "name": "stdout",
     "output_type": "stream",
     "text": [
      "\n",
      "mean_270619-video2_008-011_opened_cc51.png: too spherical 3.2161602211800955\n"
     ]
    },
    {
     "name": "stderr",
     "output_type": "stream",
     "text": [
      "\r",
      " 46%|████▌     | 22/48 [00:17<00:22,  1.17it/s]"
     ]
    },
    {
     "name": "stdout",
     "output_type": "stream",
     "text": [
      "\n",
      "mean_270619-video2_008-011_opened_cc55.png is INTERESTING\n"
     ]
    },
    {
     "name": "stderr",
     "output_type": "stream",
     "text": [
      "\r",
      " 48%|████▊     | 23/48 [00:18<00:19,  1.27it/s]"
     ]
    },
    {
     "name": "stdout",
     "output_type": "stream",
     "text": [
      "\n",
      "mean_270619-video2_008-011_opened_cc70.png is INTERESTING\n"
     ]
    },
    {
     "name": "stderr",
     "output_type": "stream",
     "text": [
      "\r",
      " 50%|█████     | 24/48 [00:18<00:17,  1.34it/s]"
     ]
    },
    {
     "name": "stdout",
     "output_type": "stream",
     "text": [
      "\n",
      "mean_270619-video2_008-012_opened_cc03.png: too spherical 2.2883378922796203\n"
     ]
    },
    {
     "name": "stderr",
     "output_type": "stream",
     "text": [
      "\r",
      " 52%|█████▏    | 25/48 [00:19<00:17,  1.35it/s]"
     ]
    },
    {
     "name": "stdout",
     "output_type": "stream",
     "text": [
      "\n",
      "mean_270619-video2_008-012_opened_cc07.png: too spherical 3.880161382745908\n"
     ]
    },
    {
     "name": "stderr",
     "output_type": "stream",
     "text": [
      "\r",
      " 54%|█████▍    | 26/48 [00:20<00:15,  1.41it/s]"
     ]
    },
    {
     "name": "stdout",
     "output_type": "stream",
     "text": [
      "\n",
      "mean_270619-video2_008-012_opened_cc17.png: too spherical 5.221310113214375\n"
     ]
    },
    {
     "name": "stderr",
     "output_type": "stream",
     "text": [
      "\r",
      " 56%|█████▋    | 27/48 [00:20<00:14,  1.47it/s]"
     ]
    },
    {
     "name": "stdout",
     "output_type": "stream",
     "text": [
      "\n",
      "mean_270619-video2_008-012_opened_cc34.png: too spherical 6.625910722704522\n"
     ]
    },
    {
     "name": "stderr",
     "output_type": "stream",
     "text": [
      "\r",
      " 58%|█████▊    | 28/48 [00:21<00:13,  1.50it/s]"
     ]
    },
    {
     "name": "stdout",
     "output_type": "stream",
     "text": [
      "\n",
      "mean_270619-video2_008-012_opened_cc45.png: too spherical 4.253996703627043\n"
     ]
    },
    {
     "name": "stderr",
     "output_type": "stream",
     "text": [
      "\r",
      " 60%|██████    | 29/48 [00:22<00:12,  1.54it/s]"
     ]
    },
    {
     "name": "stdout",
     "output_type": "stream",
     "text": [
      "\n",
      "mean_270619-video2_008-012_opened_cc62.png: too spherical 4.547050282302043\n"
     ]
    },
    {
     "name": "stderr",
     "output_type": "stream",
     "text": [
      "\r",
      " 62%|██████▎   | 30/48 [00:22<00:11,  1.54it/s]"
     ]
    },
    {
     "name": "stdout",
     "output_type": "stream",
     "text": [
      "\n",
      "mean_270619-video2_008-003_opened_cc29.png: too spherical 8.512157230342275\n",
      "\n",
      "mean_270619-video2_008-005_opened_cc79.png is INTERESTING\n"
     ]
    },
    {
     "name": "stderr",
     "output_type": "stream",
     "text": [
      "\r",
      " 65%|██████▍   | 31/48 [00:23<00:13,  1.23it/s]"
     ]
    },
    {
     "name": "stdout",
     "output_type": "stream",
     "text": [
      "\n",
      "video2_008-004-video2_008-005: overlap = 0.6284796573875804\n"
     ]
    },
    {
     "name": "stderr",
     "output_type": "stream",
     "text": [
      "\r",
      " 67%|██████▋   | 32/48 [00:24<00:12,  1.28it/s]"
     ]
    },
    {
     "name": "stdout",
     "output_type": "stream",
     "text": [
      "\n",
      "mean_270619-video2_008-013_opened_cc01.png: too spherical 7.3190392794212835\n"
     ]
    },
    {
     "name": "stderr",
     "output_type": "stream",
     "text": [
      "\r",
      " 69%|██████▉   | 33/48 [00:25<00:11,  1.34it/s]"
     ]
    },
    {
     "name": "stdout",
     "output_type": "stream",
     "text": [
      "\n",
      "mean_270619-video2_008-013_opened_cc04.png: too spherical 6.190799285749345\n"
     ]
    },
    {
     "name": "stderr",
     "output_type": "stream",
     "text": [
      "\r",
      " 71%|███████   | 34/48 [00:25<00:09,  1.43it/s]"
     ]
    },
    {
     "name": "stdout",
     "output_type": "stream",
     "text": [
      "\n",
      "mean_270619-video2_008-013_opened_cc11.png: too spherical 7.9829017368537265\n"
     ]
    },
    {
     "name": "stderr",
     "output_type": "stream",
     "text": [
      "\r",
      " 73%|███████▎  | 35/48 [00:26<00:08,  1.48it/s]"
     ]
    },
    {
     "name": "stdout",
     "output_type": "stream",
     "text": [
      "\n",
      "mean_270619-video2_008-013_opened_cc32.png: too spherical 6.47707595455535\n"
     ]
    },
    {
     "name": "stderr",
     "output_type": "stream",
     "text": [
      "\r",
      " 75%|███████▌  | 36/48 [00:27<00:07,  1.52it/s]"
     ]
    },
    {
     "name": "stdout",
     "output_type": "stream",
     "text": [
      "\n",
      "mean_270619-video2_008-013_opened_cc37.png: too spherical 6.331099985074288\n"
     ]
    },
    {
     "name": "stderr",
     "output_type": "stream",
     "text": [
      "\r",
      " 77%|███████▋  | 37/48 [00:27<00:07,  1.54it/s]"
     ]
    },
    {
     "name": "stdout",
     "output_type": "stream",
     "text": [
      "\n",
      "mean_270619-video2_008-013_opened_cc59.png: too spherical 1.3091814105064536\n"
     ]
    },
    {
     "name": "stderr",
     "output_type": "stream",
     "text": [
      "\r",
      " 79%|███████▉  | 38/48 [00:28<00:06,  1.57it/s]"
     ]
    },
    {
     "name": "stdout",
     "output_type": "stream",
     "text": [
      "\n",
      "mean_270619-video2_008-013_opened_cc71.png: too spherical 2.311105211155934\n"
     ]
    },
    {
     "name": "stderr",
     "output_type": "stream",
     "text": [
      "\r",
      " 81%|████████▏ | 39/48 [00:28<00:05,  1.58it/s]"
     ]
    },
    {
     "name": "stdout",
     "output_type": "stream",
     "text": [
      "\n",
      "mean_270619-video2_008-013_opened_cc75.png is INTERESTING\n"
     ]
    },
    {
     "name": "stderr",
     "output_type": "stream",
     "text": [
      "\r",
      " 83%|████████▎ | 40/48 [00:29<00:05,  1.60it/s]"
     ]
    },
    {
     "name": "stdout",
     "output_type": "stream",
     "text": [
      "\n",
      "mean_270619-video2_008-013_opened_cc92.png is INTERESTING\n"
     ]
    },
    {
     "name": "stderr",
     "output_type": "stream",
     "text": [
      "\r",
      " 85%|████████▌ | 41/48 [00:30<00:04,  1.57it/s]"
     ]
    },
    {
     "name": "stdout",
     "output_type": "stream",
     "text": [
      "\n",
      "mean_270619-video2_008-014_opened_cc11.png: too spherical 4.846542400212201\n"
     ]
    },
    {
     "name": "stderr",
     "output_type": "stream",
     "text": [
      "\r",
      " 88%|████████▊ | 42/48 [00:30<00:03,  1.56it/s]"
     ]
    },
    {
     "name": "stdout",
     "output_type": "stream",
     "text": [
      "\n",
      "mean_270619-video2_008-014_opened_cc16.png: too spherical 3.569072792448525\n"
     ]
    },
    {
     "name": "stderr",
     "output_type": "stream",
     "text": [
      "\r",
      " 90%|████████▉ | 43/48 [00:31<00:03,  1.56it/s]"
     ]
    },
    {
     "name": "stdout",
     "output_type": "stream",
     "text": [
      "\n",
      "mean_270619-video2_008-015_opened_cc12.png: too spherical 7.296277464362657\n"
     ]
    },
    {
     "name": "stderr",
     "output_type": "stream",
     "text": [
      "\r",
      " 92%|█████████▏| 44/48 [00:32<00:02,  1.53it/s]"
     ]
    },
    {
     "name": "stdout",
     "output_type": "stream",
     "text": [
      "\n",
      "mean_270619-video2_008-015_opened_cc16.png: too spherical 3.000731422722822\n"
     ]
    },
    {
     "name": "stderr",
     "output_type": "stream",
     "text": [
      "\r",
      " 94%|█████████▍| 45/48 [00:32<00:01,  1.55it/s]"
     ]
    },
    {
     "name": "stdout",
     "output_type": "stream",
     "text": [
      "\n",
      "mean_270619-video2_008-016_opened_cc03.png is INTERESTING\n"
     ]
    },
    {
     "name": "stderr",
     "output_type": "stream",
     "text": [
      "\r",
      " 96%|█████████▌| 46/48 [00:33<00:01,  1.58it/s]"
     ]
    },
    {
     "name": "stdout",
     "output_type": "stream",
     "text": [
      "\n",
      "mean_270619-video2_008-016_opened_cc15.png is INTERESTING\n"
     ]
    },
    {
     "name": "stderr",
     "output_type": "stream",
     "text": [
      "\r",
      " 98%|█████████▊| 47/48 [00:34<00:00,  1.59it/s]"
     ]
    },
    {
     "name": "stdout",
     "output_type": "stream",
     "text": [
      "\n",
      "mean_270619-video2_008-016_opened_cc20.png is INTERESTING\n"
     ]
    },
    {
     "name": "stderr",
     "output_type": "stream",
     "text": [
      "\r",
      "100%|██████████| 48/48 [00:34<00:00,  1.61it/s]"
     ]
    },
    {
     "name": "stdout",
     "output_type": "stream",
     "text": [
      "\n",
      "mean_270619-video2_008-016_opened_cc50.png is INTERESTING\n",
      "found video3_000/trigger_thr0.005_cl9_op3/cc_filtered_2den0.81_gausrad2.0/\n",
      "found video3_001/trigger_thr0.005_cl9_op3/cc_filtered_2den0.81_gausrad2.0/\n",
      "found video3_002/trigger_thr0.005_cl9_op3/cc_filtered_2den0.81_gausrad2.0/\n",
      "found video3_003/trigger_thr0.005_cl9_op3/cc_filtered_2den0.81_gausrad2.0/\n",
      "found video3_004/trigger_thr0.005_cl9_op3/cc_filtered_2den0.81_gausrad2.0/\n",
      "found video3_005/trigger_thr0.005_cl9_op3/cc_filtered_2den0.81_gausrad2.0/\n",
      "found video3_006/trigger_thr0.005_cl9_op3/cc_filtered_2den0.81_gausrad2.0/\n",
      "found video3_007/trigger_thr0.005_cl9_op3/cc_filtered_2den0.81_gausrad2.0/\n",
      "found video3_008/trigger_thr0.005_cl9_op3/cc_filtered_2den0.81_gausrad2.0/\n",
      "found video3_009/trigger_thr0.005_cl9_op3/cc_filtered_2den0.81_gausrad2.0/\n",
      "found video3_010/trigger_thr0.005_cl9_op3/cc_filtered_2den0.81_gausrad2.0/\n",
      "found video3_011/trigger_thr0.005_cl9_op3/cc_filtered_2den0.81_gausrad2.0/\n",
      "found video3_012/trigger_thr0.005_cl9_op3/cc_filtered_2den0.81_gausrad2.0/\n",
      "found video3_013/trigger_thr0.005_cl9_op3/cc_filtered_2den0.81_gausrad2.0/\n",
      "found video3_014/trigger_thr0.005_cl9_op3/cc_filtered_2den0.81_gausrad2.0/\n",
      "found video3_015/trigger_thr0.005_cl9_op3/cc_filtered_2den0.81_gausrad2.0/\n",
      "found video3_016/trigger_thr0.005_cl9_op3/cc_filtered_2den0.81_gausrad2.0/\n",
      "found video3_017/trigger_thr0.005_cl9_op3/cc_filtered_2den0.81_gausrad2.0/\n",
      "found video3_018/trigger_thr0.005_cl9_op3/cc_filtered_2den0.81_gausrad2.0/\n",
      "found video3_020/trigger_thr0.005_cl9_op3/cc_filtered_2den0.81_gausrad2.0/\n",
      "found video3_021/trigger_thr0.005_cl9_op3/cc_filtered_2den0.81_gausrad2.0/\n",
      "found video3_022/trigger_thr0.005_cl9_op3/cc_filtered_2den0.81_gausrad2.0/\n",
      "found video3_023/trigger_thr0.005_cl9_op3/cc_filtered_2den0.81_gausrad2.0/\n",
      "found video3_024/trigger_thr0.005_cl9_op3/cc_filtered_2den0.81_gausrad2.0/\n",
      "found video3_025/trigger_thr0.005_cl9_op3/cc_filtered_2den0.81_gausrad2.0/\n",
      "found video3_026/trigger_thr0.005_cl9_op3/cc_filtered_2den0.81_gausrad2.0/\n",
      "found video3_027/trigger_thr0.005_cl9_op3/cc_filtered_2den0.81_gausrad2.0/\n",
      "found video3_028/trigger_thr0.005_cl9_op3/cc_filtered_2den0.81_gausrad2.0/\n",
      "found video3_029/trigger_thr0.005_cl9_op3/cc_filtered_2den0.81_gausrad2.0/\n",
      "found video4_000/trigger_thr0.005_cl9_op3/cc_filtered_2den0.81_gausrad2.0/\n",
      "found video4_001/trigger_thr0.005_cl9_op3/cc_filtered_2den0.81_gausrad2.0/\n",
      "found video4_002/trigger_thr0.005_cl9_op3/cc_filtered_2den0.81_gausrad2.0/\n",
      "found video4_003/trigger_thr0.005_cl9_op3/cc_filtered_2den0.81_gausrad2.0/\n",
      "found video4_004/trigger_thr0.005_cl9_op3/cc_filtered_2den0.81_gausrad2.0/\n",
      "found video4_005/trigger_thr0.005_cl9_op3/cc_filtered_2den0.81_gausrad2.0/\n",
      "found video4_006/trigger_thr0.005_cl9_op3/cc_filtered_2den0.81_gausrad2.0/\n",
      "found video4_007/trigger_thr0.005_cl9_op3/cc_filtered_2den0.81_gausrad2.0/\n",
      "found video4_008/trigger_thr0.005_cl9_op3/cc_filtered_2den0.81_gausrad2.0/\n",
      "found video4_010/trigger_thr0.005_cl9_op3/cc_filtered_2den0.81_gausrad2.0/\n",
      "found video4_011/trigger_thr0.005_cl9_op3/cc_filtered_2den0.81_gausrad2.0/\n",
      "found video4_012/trigger_thr0.005_cl9_op3/cc_filtered_2den0.81_gausrad2.0/\n",
      "found video4_013/trigger_thr0.005_cl9_op3/cc_filtered_2den0.81_gausrad2.0/\n",
      "found video4_014/trigger_thr0.005_cl9_op3/cc_filtered_2den0.81_gausrad2.0/\n",
      "found video4_015/trigger_thr0.005_cl9_op3/cc_filtered_2den0.81_gausrad2.0/\n",
      "found video4_016/trigger_thr0.005_cl9_op3/cc_filtered_2den0.81_gausrad2.0/\n",
      "found video4_017/trigger_thr0.005_cl9_op3/cc_filtered_2den0.81_gausrad2.0/\n",
      "found video4_018/trigger_thr0.005_cl9_op3/cc_filtered_2den0.81_gausrad2.0/\n",
      "found video4_019/trigger_thr0.005_cl9_op3/cc_filtered_2den0.81_gausrad2.0/\n",
      "found video4_020/trigger_thr0.005_cl9_op3/cc_filtered_2den0.81_gausrad2.0/\n",
      "found video4_021/trigger_thr0.005_cl9_op3/cc_filtered_2den0.81_gausrad2.0/\n",
      "found video4_022/trigger_thr0.005_cl9_op3/cc_filtered_2den0.81_gausrad2.0/\n",
      "found video4_023/trigger_thr0.005_cl9_op3/cc_filtered_2den0.81_gausrad2.0/\n",
      "found video4_024/trigger_thr0.005_cl9_op3/cc_filtered_2den0.81_gausrad2.0/\n",
      "found video4_025/trigger_thr0.005_cl9_op3/cc_filtered_2den0.81_gausrad2.0/\n",
      "found video4_026/trigger_thr0.005_cl9_op3/cc_filtered_2den0.81_gausrad2.0/\n",
      "found video4_027/trigger_thr0.005_cl9_op3/cc_filtered_2den0.81_gausrad2.0/\n",
      "found video4_028/trigger_thr0.005_cl9_op3/cc_filtered_2den0.81_gausrad2.0/\n",
      "\n",
      "Slimming 148 particles\n"
     ]
    },
    {
     "name": "stderr",
     "output_type": "stream",
     "text": [
      "\n"
     ]
    },
    {
     "name": "stdout",
     "output_type": "stream",
     "text": [
      "Total time: 0 h 11 min 46 s\n"
     ]
    }
   ],
   "source": [
    "# create clusterizer\n",
    "\n",
    "particles = []\n",
    "\n",
    "particles,n_part,slim = Particle.Big_iteration(path='/media/alessandro/DATA/tesi/Nebbia/pre-processed_data/270619/',\n",
    "                                               slim=True,video_name='video2')\n",
    "c = Clusterizer.Clusterizer('video2_r6',particles,slim)\n",
    "c.save(path='./Clusterizers/270619/')"
   ]
  },
  {
   "cell_type": "code",
   "execution_count": null,
   "metadata": {},
   "outputs": [],
   "source": [
    "c = Clusterizer.Clusterizer('video9_r6',particles,slim)\n",
    "c.save()"
   ]
  },
  {
   "cell_type": "code",
   "execution_count": null,
   "metadata": {},
   "outputs": [],
   "source": [
    "c.save()"
   ]
  },
  {
   "cell_type": "code",
   "execution_count": null,
   "metadata": {},
   "outputs": [],
   "source": [
    "particles"
   ]
  },
  {
   "cell_type": "code",
   "execution_count": null,
   "metadata": {},
   "outputs": [],
   "source": [
    "%matplotlib notebook\n",
    "c.plot()"
   ]
  },
  {
   "cell_type": "code",
   "execution_count": 17,
   "metadata": {},
   "outputs": [],
   "source": [
    "d = Clusterizer.load_Clusterizer(path='./Clusterizers/270619/',name='video4_r6')"
   ]
  },
  {
   "cell_type": "code",
   "execution_count": 18,
   "metadata": {},
   "outputs": [
    {
     "data": {
      "text/plain": [
       "array([(  1, '/media/alessandro/DATA/tesi/Nebbia/pre-processed_data/270619/video4_009/trigger_thr0.005_cl9_op3/cc_filtered_2den0.81_gausrad2.0/', list(['mean_270619-video4_009-005_opened_cc21.png']), array([ 1.        , 83.45545227, 10.54454773,  1.        ,  1.        ])),\n",
       "       (  2, '/media/alessandro/DATA/tesi/Nebbia/pre-processed_data/270619/video4_009/trigger_thr0.005_cl9_op3/cc_filtered_2den0.81_gausrad2.0/', list(['mean_270619-video4_009-005_opened_cc40.png', 'mean_270619-video4_009-006_opened_cc68.png']), array([ 2.        , 91.37324105, 29.62675895,  1.        ,  1.        ])),\n",
       "       (  3, '/media/alessandro/DATA/tesi/Nebbia/pre-processed_data/270619/video4_009/trigger_thr0.005_cl9_op3/cc_filtered_2den0.81_gausrad2.0/', list(['mean_270619-video4_009-007_opened_cc05.png']), array([  1.        , 144.56453695,   5.89095614,   2.        ,\n",
       "         1.48008815])),\n",
       "       (  4, '/media/alessandro/DATA/tesi/Nebbia/pre-processed_data/270619/video4_009/trigger_thr0.005_cl9_op3/cc_filtered_2den0.81_gausrad2.0/', list(['mean_270619-video4_009-007_opened_cc91.png']), array([ 1.        , 68.5713315 , 13.02226629,  2.        ,  1.        ])),\n",
       "       (  5, '/media/alessandro/DATA/tesi/Nebbia/pre-processed_data/270619/video4_009/trigger_thr0.005_cl9_op3/cc_filtered_2den0.81_gausrad2.0/', list(['mean_270619-video4_009-009_opened_cc10.png']), array([ 1.        , 83.77052461, 17.37101199,  2.        ,  1.08646391])),\n",
       "       (  6, '/media/alessandro/DATA/tesi/Nebbia/pre-processed_data/270619/video4_009/trigger_thr0.005_cl9_op3/cc_filtered_2den0.81_gausrad2.0/', list(['mean_270619-video4_009-009_opened_cc20.png']), array([ 1.        , 90.12308015, 16.87691985,  1.        ,  1.        ])),\n",
       "       (  7, '/media/alessandro/DATA/tesi/Nebbia/pre-processed_data/270619/video4_009/trigger_thr0.005_cl9_op3/cc_filtered_2den0.81_gausrad2.0/', list(['mean_270619-video4_009-009_opened_cc23.png', 'mean_270619-video4_009-010_opened_cc61.png']), array([ 2.        , 78.59184619, 24.65815381,  1.        ,  1.        ])),\n",
       "       (  8, '/media/alessandro/DATA/tesi/Nebbia/pre-processed_data/270619/video4_009/trigger_thr0.005_cl9_op3/cc_filtered_2den0.81_gausrad2.0/', list(['mean_270619-video4_009-010_opened_cc36.png']), array([  1.        , 125.41876554,  13.10152678,   2.        ,\n",
       "         1.06887543])),\n",
       "       (  9, '/media/alessandro/DATA/tesi/Nebbia/pre-processed_data/270619/video4_009/trigger_thr0.005_cl9_op3/cc_filtered_2den0.81_gausrad2.0/', list(['mean_270619-video4_009-006_opened_cc57.png']), array([ 1.        , 90.57835113, 13.92164887,  1.        ,  1.01651586])),\n",
       "       ( 10, '/media/alessandro/DATA/tesi/Nebbia/pre-processed_data/270619/video4_000/trigger_thr0.005_cl9_op3/cc_filtered_2den0.81_gausrad2.0/', list(['mean_270619-video4_000-023_opened_cc15.png']), array([  1.        , 423.39118286,   6.82596979,   7.        ,\n",
       "         1.6887351 ])),\n",
       "       ( 11, '/media/alessandro/DATA/tesi/Nebbia/pre-processed_data/270619/video4_000/trigger_thr0.005_cl9_op3/cc_filtered_2den0.81_gausrad2.0/', list(['mean_270619-video4_000-023_opened_cc17.png']), array([  1.        , 231.53115106,   7.22954927,   4.        ,\n",
       "         1.41947517])),\n",
       "       ( 12, '/media/alessandro/DATA/tesi/Nebbia/pre-processed_data/270619/video4_000/trigger_thr0.005_cl9_op3/cc_filtered_2den0.81_gausrad2.0/', list(['mean_270619-video4_000-023_opened_cc37.png']), array([ 1.        , 74.67902039,  6.84450558,  2.        ,  1.17813117])),\n",
       "       ( 13, '/media/alessandro/DATA/tesi/Nebbia/pre-processed_data/270619/video4_000/trigger_thr0.005_cl9_op3/cc_filtered_2den0.81_gausrad2.0/', list(['mean_270619-video4_000-024_opened_cc19.png']), array([ 1.        , 66.44292531,  9.55707469,  1.        ,  1.05771875])),\n",
       "       ( 14, '/media/alessandro/DATA/tesi/Nebbia/pre-processed_data/270619/video4_000/trigger_thr0.005_cl9_op3/cc_filtered_2den0.81_gausrad2.0/', list(['mean_270619-video4_000-024_opened_cc23.png']), array([  1.        , 269.4684431 ,  18.58993352,   3.        ,\n",
       "         1.43737458])),\n",
       "       ( 15, '/media/alessandro/DATA/tesi/Nebbia/pre-processed_data/270619/video4_000/trigger_thr0.005_cl9_op3/cc_filtered_2den0.81_gausrad2.0/', list(['mean_270619-video4_000-024_opened_cc25.png']), array([ 1.        , 49.39650628,  3.60349372,  1.        ,  3.39256598])),\n",
       "       ( 16, '/media/alessandro/DATA/tesi/Nebbia/pre-processed_data/270619/video4_000/trigger_thr0.005_cl9_op3/cc_filtered_2den0.81_gausrad2.0/', list(['mean_270619-video4_000-024_opened_cc73.png']), array([  1.        , 103.6782866 ,   8.91689687,   2.        ,\n",
       "         1.18390933])),\n",
       "       ( 17, '/media/alessandro/DATA/tesi/Nebbia/pre-processed_data/270619/video4_000/trigger_thr0.005_cl9_op3/cc_filtered_2den0.81_gausrad2.0/', list(['mean_270619-video4_000-034_opened_cc03.png']), array([1.00000000e+00, 1.04660246e+03, 6.14595049e+00, 1.80000000e+01,\n",
       "       1.96667951e+00])),\n",
       "       ( 18, '/media/alessandro/DATA/tesi/Nebbia/pre-processed_data/270619/video4_000/trigger_thr0.005_cl9_op3/cc_filtered_2den0.81_gausrad2.0/', list(['mean_270619-video4_000-034_opened_cc19.png']), array([  1.        , 695.90853774,   7.20925664,  14.        ,\n",
       "         2.44552059])),\n",
       "       ( 19, '/media/alessandro/DATA/tesi/Nebbia/pre-processed_data/270619/video4_000/trigger_thr0.005_cl9_op3/cc_filtered_2den0.81_gausrad2.0/', list(['mean_270619-video4_000-034_opened_cc32.png']), array([  1.        , 299.23409104,  10.50697946,   6.        ,\n",
       "         1.65070962])),\n",
       "       ( 20, '/media/alessandro/DATA/tesi/Nebbia/pre-processed_data/270619/video4_000/trigger_thr0.005_cl9_op3/cc_filtered_2den0.81_gausrad2.0/', list(['mean_270619-video4_000-034_opened_cc53.png']), array([  1.        , 123.52205406,  21.47794594,   1.        ,\n",
       "         1.        ])),\n",
       "       ( 21, '/media/alessandro/DATA/tesi/Nebbia/pre-processed_data/270619/video4_000/trigger_thr0.005_cl9_op3/cc_filtered_2den0.81_gausrad2.0/', list(['mean_270619-video4_000-034_opened_cc55.png']), array([  1.        , 247.92928596,   9.08186058,   5.        ,\n",
       "         1.57626046])),\n",
       "       ( 22, '/media/alessandro/DATA/tesi/Nebbia/pre-processed_data/270619/video4_000/trigger_thr0.005_cl9_op3/cc_filtered_2den0.81_gausrad2.0/', list(['mean_270619-video4_000-025_opened_cc70.png']), array([  1.        , 256.02484432,   6.82798179,   5.        ,\n",
       "         1.30122889])),\n",
       "       ( 23, '/media/alessandro/DATA/tesi/Nebbia/pre-processed_data/270619/video4_000/trigger_thr0.005_cl9_op3/cc_filtered_2den0.81_gausrad2.0/', list(['mean_270619-video4_000-043_opened_cc26.png']), array([  1.        , 874.00512009,   4.54415214,  13.        ,\n",
       "         3.08512323])),\n",
       "       ( 24, '/media/alessandro/DATA/tesi/Nebbia/pre-processed_data/270619/video4_000/trigger_thr0.005_cl9_op3/cc_filtered_2den0.81_gausrad2.0/', list(['mean_270619-video4_000-043_opened_cc75.png']), array([  1.        , 321.07293732,   6.        ,   4.        ,\n",
       "         1.57779685])),\n",
       "       ( 25, '/media/alessandro/DATA/tesi/Nebbia/pre-processed_data/270619/video4_000/trigger_thr0.005_cl9_op3/cc_filtered_2den0.81_gausrad2.0/', list(['mean_270619-video4_000-043_opened_cc83.png']), array([  1.        , 221.65804394,   5.45072714,   4.        ,\n",
       "         1.64078645])),\n",
       "       ( 26, '/media/alessandro/DATA/tesi/Nebbia/pre-processed_data/270619/video4_000/trigger_thr0.005_cl9_op3/cc_filtered_2den0.81_gausrad2.0/', list(['mean_270619-video4_000-044_opened_cc10.png']), array([ 1.        , 70.43256531,  4.47676929,  2.        ,  1.57492004])),\n",
       "       ( 27, '/media/alessandro/DATA/tesi/Nebbia/pre-processed_data/270619/video4_000/trigger_thr0.005_cl9_op3/cc_filtered_2den0.81_gausrad2.0/', list(['mean_270619-video4_000-042_opened_cc33.png']), array([  1.        , 142.38380736,   2.01282473,   2.        ,\n",
       "         2.02662328])),\n",
       "       ( 28, '/media/alessandro/DATA/tesi/Nebbia/pre-processed_data/270619/video4_001/trigger_thr0.005_cl9_op3/cc_filtered_2den0.81_gausrad2.0/', list(['mean_270619-video4_001-013_opened_cc04.png']), array([1.00000000e+00, 1.15908333e+03, 8.55298900e+00, 1.40000000e+01,\n",
       "       1.79831052e+00])),\n",
       "       ( 29, '/media/alessandro/DATA/tesi/Nebbia/pre-processed_data/270619/video4_001/trigger_thr0.005_cl9_op3/cc_filtered_2den0.81_gausrad2.0/', list(['mean_270619-video4_001-013_opened_cc106.png', 'mean_270619-video4_001-014_opened_cc76.png']), array([  2.        , 248.39904333,  11.13346841,   4.        ,\n",
       "         1.21544089])),\n",
       "       ( 30, '/media/alessandro/DATA/tesi/Nebbia/pre-processed_data/270619/video4_001/trigger_thr0.005_cl9_op3/cc_filtered_2den0.81_gausrad2.0/', list(['mean_270619-video4_001-014_opened_cc17.png']), array([  1.        , 433.79319551,   5.03507897,   5.        ,\n",
       "         1.44052961])),\n",
       "       ( 31, '/media/alessandro/DATA/tesi/Nebbia/pre-processed_data/270619/video4_001/trigger_thr0.005_cl9_op3/cc_filtered_2den0.81_gausrad2.0/', list(['mean_270619-video4_001-014_opened_cc35.png']), array([  1.        , 158.66351047,   4.41724007,   3.        ,\n",
       "         1.80439301])),\n",
       "       ( 32, '/media/alessandro/DATA/tesi/Nebbia/pre-processed_data/270619/video4_001/trigger_thr0.005_cl9_op3/cc_filtered_2den0.81_gausrad2.0/', list(['mean_270619-video4_001-014_opened_cc60.png']), array([  1.        , 293.45516642,   6.82529426,   4.        ,\n",
       "         1.50933058])),\n",
       "       ( 33, '/media/alessandro/DATA/tesi/Nebbia/pre-processed_data/270619/video4_001/trigger_thr0.005_cl9_op3/cc_filtered_2den0.81_gausrad2.0/', list(['mean_270619-video4_001-024_opened_cc17.png']), array([  1.        , 179.44229276,  10.28112592,   3.        ,\n",
       "         1.42499814])),\n",
       "       ( 34, '/media/alessandro/DATA/tesi/Nebbia/pre-processed_data/270619/video4_001/trigger_thr0.005_cl9_op3/cc_filtered_2den0.81_gausrad2.0/', list(['mean_270619-video4_001-024_opened_cc49.png']), array([ 1.        , 66.15275655,  5.32122012,  2.        ,  1.69399851])),\n",
       "       ( 35, '/media/alessandro/DATA/tesi/Nebbia/pre-processed_data/270619/video4_001/trigger_thr0.005_cl9_op3/cc_filtered_2den0.81_gausrad2.0/', list(['mean_270619-video4_001-024_opened_cc50.png']), array([ 1.        , 82.89208898,  8.36675042,  2.        ,  1.16645341])),\n",
       "       ( 36, '/media/alessandro/DATA/tesi/Nebbia/pre-processed_data/270619/video4_001/trigger_thr0.005_cl9_op3/cc_filtered_2den0.81_gausrad2.0/', list(['mean_270619-video4_001-025_opened_cc35.png']), array([  1.        , 245.2882914 ,   3.05775646,   3.        ,\n",
       "         2.11880999])),\n",
       "       ( 37, '/media/alessandro/DATA/tesi/Nebbia/pre-processed_data/270619/video4_001/trigger_thr0.005_cl9_op3/cc_filtered_2den0.81_gausrad2.0/', list(['mean_270619-video4_001-024_opened_cc20.png']), array([  1.        , 128.54016084,   7.80880991,   3.        ,\n",
       "         1.32487471])),\n",
       "       ( 38, '/media/alessandro/DATA/tesi/Nebbia/pre-processed_data/270619/video4_001/trigger_thr0.005_cl9_op3/cc_filtered_2den0.81_gausrad2.0/', list(['mean_270619-video4_001-025_opened_cc68.png']), array([  1.        , 151.2484514 ,   9.56219953,   4.        ,\n",
       "         1.05572147])),\n",
       "       ( 39, '/media/alessandro/DATA/tesi/Nebbia/pre-processed_data/270619/video4_001/trigger_thr0.005_cl9_op3/cc_filtered_2den0.81_gausrad2.0/', list(['mean_270619-video4_001-045_opened_cc09.png']), array([1.00000000e+00, 1.04684497e+03, 8.29227651e+00, 8.00000000e+00,\n",
       "       2.50879702e+00])),\n",
       "       ( 40, '/media/alessandro/DATA/tesi/Nebbia/pre-processed_data/270619/video4_001/trigger_thr0.005_cl9_op3/cc_filtered_2den0.81_gausrad2.0/', list(['mean_270619-video4_001-045_opened_cc78.png']), array([  1.        , 127.43839155,   6.5344166 ,   2.        ,\n",
       "         1.44872488])),\n",
       "       ( 41, '/media/alessandro/DATA/tesi/Nebbia/pre-processed_data/270619/video4_001/trigger_thr0.005_cl9_op3/cc_filtered_2den0.81_gausrad2.0/', list(['mean_270619-video4_001-046_opened_cc03.png']), array([  1.        , 173.98628378,   5.74530558,   2.        ,\n",
       "         1.39363061])),\n",
       "       ( 42, '/media/alessandro/DATA/tesi/Nebbia/pre-processed_data/270619/video4_001/trigger_thr0.005_cl9_op3/cc_filtered_2den0.81_gausrad2.0/', list(['mean_270619-video4_001-046_opened_cc04.png']), array([ 1.        , 87.06944203, 10.29681089,  2.        ,  1.07435841])),\n",
       "       ( 43, '/media/alessandro/DATA/tesi/Nebbia/pre-processed_data/270619/video4_001/trigger_thr0.005_cl9_op3/cc_filtered_2den0.81_gausrad2.0/', list(['mean_270619-video4_001-046_opened_cc07.png']), array([  1.        , 100.28331239,   9.86851185,   2.        ,\n",
       "         1.29964355])),\n",
       "       ( 44, '/media/alessandro/DATA/tesi/Nebbia/pre-processed_data/270619/video4_001/trigger_thr0.005_cl9_op3/cc_filtered_2den0.81_gausrad2.0/', list(['mean_270619-video4_001-046_opened_cc18.png']), array([ 1.        , 89.20071543,  9.98114549,  2.        ,  1.00485924])),\n",
       "       ( 45, '/media/alessandro/DATA/tesi/Nebbia/pre-processed_data/270619/video4_002/trigger_thr0.005_cl9_op3/cc_filtered_2den0.81_gausrad2.0/', list(['mean_270619-video4_002-027_opened_cc78.png']), array([  1.        , 103.85947894,   8.63926867,   2.        ,\n",
       "         1.26912965])),\n",
       "       ( 46, '/media/alessandro/DATA/tesi/Nebbia/pre-processed_data/270619/video4_002/trigger_thr0.005_cl9_op3/cc_filtered_2den0.81_gausrad2.0/', list(['mean_270619-video4_002-028_opened_cc56.png']), array([  1.        , 115.2995957 ,   1.36852236,   2.        ,\n",
       "         2.71612899])),\n",
       "       ( 47, '/media/alessandro/DATA/tesi/Nebbia/pre-processed_data/270619/video4_002/trigger_thr0.005_cl9_op3/cc_filtered_2den0.81_gausrad2.0/', list(['mean_270619-video4_002-029_opened_cc03.png']), array([  1.        , 213.38037979,   5.68116699,   4.        ,\n",
       "         1.88588659])),\n",
       "       ( 48, '/media/alessandro/DATA/tesi/Nebbia/pre-processed_data/270619/video4_002/trigger_thr0.005_cl9_op3/cc_filtered_2den0.81_gausrad2.0/', list(['mean_270619-video4_002-029_opened_cc14.png']), array([  1.        , 116.371981  ,  11.24298085,   3.        ,\n",
       "         1.22044641])),\n",
       "       ( 49, '/media/alessandro/DATA/tesi/Nebbia/pre-processed_data/270619/video4_002/trigger_thr0.005_cl9_op3/cc_filtered_2den0.81_gausrad2.0/', list(['mean_270619-video4_002-033_opened_cc05.png']), array([  1.        , 157.36372047,   3.01149881,   3.        ,\n",
       "         1.62067088])),\n",
       "       ( 50, '/media/alessandro/DATA/tesi/Nebbia/pre-processed_data/270619/video4_002/trigger_thr0.005_cl9_op3/cc_filtered_2den0.81_gausrad2.0/', list(['mean_270619-video4_002-034_opened_cc07.png']), array([ 1.        , 76.69083721, 12.30916279,  1.        ,  1.        ])),\n",
       "       ( 51, '/media/alessandro/DATA/tesi/Nebbia/pre-processed_data/270619/video4_002/trigger_thr0.005_cl9_op3/cc_filtered_2den0.81_gausrad2.0/', list(['mean_270619-video4_002-048_opened_cc04.png']), array([  1.        , 998.1595165 ,   6.9757003 ,  12.        ,\n",
       "         2.88806441])),\n",
       "       ( 52, '/media/alessandro/DATA/tesi/Nebbia/pre-processed_data/270619/video4_002/trigger_thr0.005_cl9_op3/cc_filtered_2den0.81_gausrad2.0/', list(['mean_270619-video4_002-048_opened_cc12.png']), array([  1.        , 152.99861525,   6.04882701,   2.        ,\n",
       "         1.65445003])),\n",
       "       ( 53, '/media/alessandro/DATA/tesi/Nebbia/pre-processed_data/270619/video4_003/trigger_thr0.005_cl9_op3/cc_filtered_2den0.81_gausrad2.0/', list(['mean_270619-video4_003-011_opened_cc11.png']), array([ 1.        , 90.81560502,  8.25427413,  2.        ,  1.27354707])),\n",
       "       ( 54, '/media/alessandro/DATA/tesi/Nebbia/pre-processed_data/270619/video4_003/trigger_thr0.005_cl9_op3/cc_filtered_2den0.81_gausrad2.0/', list(['mean_270619-video4_003-012_opened_cc10.png']), array([ 1.        , 92.9633983 , 11.0366017 ,  1.        ,  1.02529695])),\n",
       "       ( 55, '/media/alessandro/DATA/tesi/Nebbia/pre-processed_data/270619/video4_003/trigger_thr0.005_cl9_op3/cc_filtered_2den0.81_gausrad2.0/', list(['mean_270619-video4_003-037_opened_cc06.png']), array([  1.        , 661.61564365,  10.12380671,   8.        ,\n",
       "         2.27877938])),\n",
       "       ( 56, '/media/alessandro/DATA/tesi/Nebbia/pre-processed_data/270619/video4_003/trigger_thr0.005_cl9_op3/cc_filtered_2den0.81_gausrad2.0/', list(['mean_270619-video4_003-037_opened_cc10.png']), array([  1.        , 110.26083813,   6.58729342,   2.        ,\n",
       "         1.14830123])),\n",
       "       ( 57, '/media/alessandro/DATA/tesi/Nebbia/pre-processed_data/270619/video4_003/trigger_thr0.005_cl9_op3/cc_filtered_2den0.81_gausrad2.0/', list(['mean_270619-video4_003-037_opened_cc19.png']), array([  1.        , 160.71916385,   6.3690278 ,   3.        ,\n",
       "         1.25892688])),\n",
       "       ( 58, '/media/alessandro/DATA/tesi/Nebbia/pre-processed_data/270619/video4_003/trigger_thr0.005_cl9_op3/cc_filtered_2den0.81_gausrad2.0/', list(['mean_270619-video4_003-038_opened_cc11.png']), array([  1.        , 306.34393371,  11.77973677,   4.        ,\n",
       "         1.14848383])),\n",
       "       ( 59, '/media/alessandro/DATA/tesi/Nebbia/pre-processed_data/270619/video4_004/trigger_thr0.005_cl9_op3/cc_filtered_2den0.81_gausrad2.0/', list(['mean_270619-video4_004-012_opened_cc01.png']), array([  1.        , 842.95599836,   6.10855345,   8.        ,\n",
       "         2.40815085])),\n",
       "       ( 60, '/media/alessandro/DATA/tesi/Nebbia/pre-processed_data/270619/video4_004/trigger_thr0.005_cl9_op3/cc_filtered_2den0.81_gausrad2.0/', list(['mean_270619-video4_004-012_opened_cc25.png']), array([  1.        , 258.16099339,   8.78558764,   6.        ,\n",
       "         1.62998486])),\n",
       "       ( 61, '/media/alessandro/DATA/tesi/Nebbia/pre-processed_data/270619/video4_004/trigger_thr0.005_cl9_op3/cc_filtered_2den0.81_gausrad2.0/', list(['mean_270619-video4_004-012_opened_cc27.png']), array([  1.        , 364.3135749 ,   5.42031655,   7.        ,\n",
       "         1.88281407])),\n",
       "       ( 62, '/media/alessandro/DATA/tesi/Nebbia/pre-processed_data/270619/video4_004/trigger_thr0.005_cl9_op3/cc_filtered_2den0.81_gausrad2.0/', list(['mean_270619-video4_004-012_opened_cc37.png', 'mean_270619-video4_004-013_opened_cc09.png']), array([ 2.        , 87.75414461, 31.74585539,  1.        ,  1.        ])),\n",
       "       ( 63, '/media/alessandro/DATA/tesi/Nebbia/pre-processed_data/270619/video4_004/trigger_thr0.005_cl9_op3/cc_filtered_2den0.81_gausrad2.0/', list(['mean_270619-video4_004-013_opened_cc13.png']), array([ 1.        , 76.46640106,  9.53359894,  1.        ,  1.        ])),\n",
       "       ( 64, '/media/alessandro/DATA/tesi/Nebbia/pre-processed_data/270619/video4_004/trigger_thr0.005_cl9_op3/cc_filtered_2den0.81_gausrad2.0/', list(['mean_270619-video4_004-014_opened_cc04.png']), array([  1.        , 135.37733897,   7.40839162,   2.        ,\n",
       "         1.29614474])),\n",
       "       ( 65, '/media/alessandro/DATA/tesi/Nebbia/pre-processed_data/270619/video4_004/trigger_thr0.005_cl9_op3/cc_filtered_2den0.81_gausrad2.0/', list(['mean_270619-video4_004-014_opened_cc13.png', 'mean_270619-video4_004-015_opened_cc51.png']), array([ 2.        , 88.26830731, 29.98169269,  1.        ,  1.        ])),\n",
       "       ( 66, '/media/alessandro/DATA/tesi/Nebbia/pre-processed_data/270619/video4_004/trigger_thr0.005_cl9_op3/cc_filtered_2den0.81_gausrad2.0/', list(['mean_270619-video4_004-015_opened_cc06.png']), array([  1.        , 225.29702275,   9.46876109,   2.        ,\n",
       "         1.06622678])),\n",
       "       ( 67, '/media/alessandro/DATA/tesi/Nebbia/pre-processed_data/270619/video4_004/trigger_thr0.005_cl9_op3/cc_filtered_2den0.81_gausrad2.0/', list(['mean_270619-video4_004-015_opened_cc36.png']), array([  1.        , 113.13273593,   7.11659522,   2.        ,\n",
       "         1.25633263])),\n",
       "       ( 68, '/media/alessandro/DATA/tesi/Nebbia/pre-processed_data/270619/video4_004/trigger_thr0.005_cl9_op3/cc_filtered_2den0.81_gausrad2.0/', list(['mean_270619-video4_004-015_opened_cc37.png']), array([ 1.        , 73.29994975, 11.92012759,  2.        ,  1.07147181])),\n",
       "       ( 69, '/media/alessandro/DATA/tesi/Nebbia/pre-processed_data/270619/video4_004/trigger_thr0.005_cl9_op3/cc_filtered_2den0.81_gausrad2.0/', list(['mean_270619-video4_004-015_opened_cc56.png']), array([  1.        , 286.78257834,  11.74299188,   4.        ,\n",
       "         1.4359246 ])),\n",
       "       ( 70, '/media/alessandro/DATA/tesi/Nebbia/pre-processed_data/270619/video4_004/trigger_thr0.005_cl9_op3/cc_filtered_2den0.81_gausrad2.0/', list(['mean_270619-video4_004-033_opened_cc02.png']), array([  1.        , 163.58419829,  12.12930192,   2.        ,\n",
       "         1.16747615])),\n",
       "       ( 71, '/media/alessandro/DATA/tesi/Nebbia/pre-processed_data/270619/video4_004/trigger_thr0.005_cl9_op3/cc_filtered_2den0.81_gausrad2.0/', list(['mean_270619-video4_004-033_opened_cc06.png']), array([  1.        , 113.18021674,  10.18635037,   2.        ,\n",
       "         1.12540553])),\n",
       "       ( 72, '/media/alessandro/DATA/tesi/Nebbia/pre-processed_data/270619/video4_004/trigger_thr0.005_cl9_op3/cc_filtered_2den0.81_gausrad2.0/', list(['mean_270619-video4_004-033_opened_cc16.png']), array([  1.        , 172.98107702,   6.10195921,   3.        ,\n",
       "         1.13136883])),\n",
       "       ( 73, '/media/alessandro/DATA/tesi/Nebbia/pre-processed_data/270619/video4_004/trigger_thr0.005_cl9_op3/cc_filtered_2den0.81_gausrad2.0/', list(['mean_270619-video4_004-045_opened_cc06.png']), array([ 1.        , 88.3572237 ,  6.06795314,  2.        ,  1.45950327])),\n",
       "       ( 74, '/media/alessandro/DATA/tesi/Nebbia/pre-processed_data/270619/video4_004/trigger_thr0.005_cl9_op3/cc_filtered_2den0.81_gausrad2.0/', list(['mean_270619-video4_004-046_opened_cc06.png']), array([  1.        , 250.98694457,   3.33755342,   3.        ,\n",
       "         1.35399866])),\n",
       "       ( 75, '/media/alessandro/DATA/tesi/Nebbia/pre-processed_data/270619/video4_004/trigger_thr0.005_cl9_op3/cc_filtered_2den0.81_gausrad2.0/', list(['mean_270619-video4_004-046_opened_cc21.png']), array([  1.        , 170.94278134,   2.55516604,   2.        ,\n",
       "         2.48895949])),\n",
       "       ( 76, '/media/alessandro/DATA/tesi/Nebbia/pre-processed_data/270619/video4_004/trigger_thr0.005_cl9_op3/cc_filtered_2den0.81_gausrad2.0/', list(['mean_270619-video4_004-047_opened_cc25.png']), array([  1.        , 790.00590537,   4.87040399,  14.        ,\n",
       "         2.21910896])),\n",
       "       ( 77, '/media/alessandro/DATA/tesi/Nebbia/pre-processed_data/270619/video4_004/trigger_thr0.005_cl9_op3/cc_filtered_2den0.81_gausrad2.0/', list(['mean_270619-video4_004-048_opened_cc05.png']), array([  1.        , 320.96054825,   4.75231496,   5.        ,\n",
       "         1.47868839])),\n",
       "       ( 78, '/media/alessandro/DATA/tesi/Nebbia/pre-processed_data/270619/video4_005/trigger_thr0.005_cl9_op3/cc_filtered_2den0.81_gausrad2.0/', list(['mean_270619-video4_005-001_opened_cc11.png']), array([ 1.        , 77.50340132,  9.3244771 ,  2.        ,  1.21679736])),\n",
       "       ( 79, '/media/alessandro/DATA/tesi/Nebbia/pre-processed_data/270619/video4_005/trigger_thr0.005_cl9_op3/cc_filtered_2den0.81_gausrad2.0/', list(['mean_270619-video4_005-001_opened_cc25.png']), array([  1.        , 201.81720097,  27.16230764,   2.        ,\n",
       "         1.61412444])),\n",
       "       ( 80, '/media/alessandro/DATA/tesi/Nebbia/pre-processed_data/270619/video4_005/trigger_thr0.005_cl9_op3/cc_filtered_2den0.81_gausrad2.0/', list(['mean_270619-video4_005-001_opened_cc62.png']), array([  1.        , 130.03979794,   5.79202463,   3.        ,\n",
       "         1.65350851])),\n",
       "       ( 81, '/media/alessandro/DATA/tesi/Nebbia/pre-processed_data/270619/video4_005/trigger_thr0.005_cl9_op3/cc_filtered_2den0.81_gausrad2.0/', list(['mean_270619-video4_005-001_opened_cc85.png']), array([  1.        , 122.90634233,   8.4141998 ,   3.        ,\n",
       "         1.1564103 ])),\n",
       "       ( 82, '/media/alessandro/DATA/tesi/Nebbia/pre-processed_data/270619/video4_005/trigger_thr0.005_cl9_op3/cc_filtered_2den0.81_gausrad2.0/', list(['mean_270619-video4_005-007_opened_cc04.png']), array([  1.        , 227.41719643,   5.98803424,   6.        ,\n",
       "         1.38235404])),\n",
       "       ( 83, '/media/alessandro/DATA/tesi/Nebbia/pre-processed_data/270619/video4_005/trigger_thr0.005_cl9_op3/cc_filtered_2den0.81_gausrad2.0/', list(['mean_270619-video4_005-008_opened_cc31.png']), array([ 1.        , 81.05966492, 10.75277812,  2.        ,  1.        ])),\n",
       "       ( 84, '/media/alessandro/DATA/tesi/Nebbia/pre-processed_data/270619/video4_005/trigger_thr0.005_cl9_op3/cc_filtered_2den0.81_gausrad2.0/', list(['mean_270619-video4_005-009_opened_cc13.png']), array([  1.        , 146.16751681,   2.72047453,   3.        ,\n",
       "         1.60006527])),\n",
       "       ( 85, '/media/alessandro/DATA/tesi/Nebbia/pre-processed_data/270619/video4_005/trigger_thr0.005_cl9_op3/cc_filtered_2den0.81_gausrad2.0/', list(['mean_270619-video4_005-009_opened_cc26.png']), array([  1.        , 193.12857421,   6.39082532,   4.        ,\n",
       "         1.70649836])),\n",
       "       ( 86, '/media/alessandro/DATA/tesi/Nebbia/pre-processed_data/270619/video4_005/trigger_thr0.005_cl9_op3/cc_filtered_2den0.81_gausrad2.0/', list(['mean_270619-video4_005-009_opened_cc35.png']), array([ 1.        , 97.33243136,  2.366206  ,  2.        ,  2.47065277])),\n",
       "       ( 87, '/media/alessandro/DATA/tesi/Nebbia/pre-processed_data/270619/video4_005/trigger_thr0.005_cl9_op3/cc_filtered_2den0.81_gausrad2.0/', list(['mean_270619-video4_005-011_opened_cc04.png']), array([  1.        , 223.01400877,   5.95532258,   4.        ,\n",
       "         1.38635733])),\n",
       "       ( 88, '/media/alessandro/DATA/tesi/Nebbia/pre-processed_data/270619/video4_005/trigger_thr0.005_cl9_op3/cc_filtered_2den0.81_gausrad2.0/', list(['mean_270619-video4_005-011_opened_cc06.png']), array([  1.        , 188.63516131,   7.57813488,   4.        ,\n",
       "         1.33448605])),\n",
       "       ( 89, '/media/alessandro/DATA/tesi/Nebbia/pre-processed_data/270619/video4_005/trigger_thr0.005_cl9_op3/cc_filtered_2den0.81_gausrad2.0/', list(['mean_270619-video4_005-007_opened_cc17.png']), array([ 1.       , 59.9465906, 22.5534094,  1.       ,  1.       ])),\n",
       "       ( 90, '/media/alessandro/DATA/tesi/Nebbia/pre-processed_data/270619/video4_005/trigger_thr0.005_cl9_op3/cc_filtered_2den0.81_gausrad2.0/', list(['mean_270619-video4_005-034_opened_cc09.png']), array([  1.        , 328.59505564,   4.08135125,   5.        ,\n",
       "         1.34622628])),\n",
       "       ( 91, '/media/alessandro/DATA/tesi/Nebbia/pre-processed_data/270619/video4_005/trigger_thr0.005_cl9_op3/cc_filtered_2den0.81_gausrad2.0/', list(['mean_270619-video4_005-012_opened_cc06.png']), array([  1.        , 167.19900397,   4.56809029,   2.        ,\n",
       "         1.36933412])),\n",
       "       ( 92, '/media/alessandro/DATA/tesi/Nebbia/pre-processed_data/270619/video4_005/trigger_thr0.005_cl9_op3/cc_filtered_2den0.81_gausrad2.0/', list(['mean_270619-video4_005-012_opened_cc26.png']), array([ 1.        , 82.99319665,  9.50680335,  1.        ,  1.20482615])),\n",
       "       ( 93, '/media/alessandro/DATA/tesi/Nebbia/pre-processed_data/270619/video4_005/trigger_thr0.005_cl9_op3/cc_filtered_2den0.81_gausrad2.0/', list(['mean_270619-video4_005-012_opened_cc27.png']), array([  1.        , 120.7469317 ,  13.88101959,   2.        ,\n",
       "         1.01813704])),\n",
       "       ( 94, '/media/alessandro/DATA/tesi/Nebbia/pre-processed_data/270619/video4_005/trigger_thr0.005_cl9_op3/cc_filtered_2den0.81_gausrad2.0/', list(['mean_270619-video4_005-012_opened_cc29.png']), array([  1.        , 167.73386769,   6.06958809,   4.        ,\n",
       "         1.36617554])),\n",
       "       ( 95, '/media/alessandro/DATA/tesi/Nebbia/pre-processed_data/270619/video4_005/trigger_thr0.005_cl9_op3/cc_filtered_2den0.81_gausrad2.0/', list(['mean_270619-video4_005-012_opened_cc34.png']), array([  1.        , 152.95060461,  12.41716344,   2.        ,\n",
       "         1.05420519])),\n",
       "       ( 96, '/media/alessandro/DATA/tesi/Nebbia/pre-processed_data/270619/video4_005/trigger_thr0.005_cl9_op3/cc_filtered_2den0.81_gausrad2.0/', list(['mean_270619-video4_005-012_opened_cc44.png']), array([ 1.        , 99.38394593,  7.80293666,  2.        ,  1.17575036])),\n",
       "       ( 97, '/media/alessandro/DATA/tesi/Nebbia/pre-processed_data/270619/video4_005/trigger_thr0.005_cl9_op3/cc_filtered_2den0.81_gausrad2.0/', list(['mean_270619-video4_005-031_opened_cc04.png']), array([  1.        , 647.09996779,   8.89312006,   8.        ,\n",
       "         1.11719671])),\n",
       "       ( 98, '/media/alessandro/DATA/tesi/Nebbia/pre-processed_data/270619/video4_005/trigger_thr0.005_cl9_op3/cc_filtered_2den0.81_gausrad2.0/', list(['mean_270619-video4_005-031_opened_cc08.png']), array([ 1.        , 78.73588   , 12.3137501 ,  2.        ,  1.02245767])),\n",
       "       ( 99, '/media/alessandro/DATA/tesi/Nebbia/pre-processed_data/270619/video4_005/trigger_thr0.005_cl9_op3/cc_filtered_2den0.81_gausrad2.0/', list(['mean_270619-video4_005-033_opened_cc13.png']), array([ 1.        , 95.94431806,  7.05181672,  2.        ,  1.11083575])),\n",
       "       (100, '/media/alessandro/DATA/tesi/Nebbia/pre-processed_data/270619/video4_005/trigger_thr0.005_cl9_op3/cc_filtered_2den0.81_gausrad2.0/', list(['mean_270619-video4_005-033_opened_cc39.png']), array([  1.        , 239.08451723,   9.91695477,   2.        ,\n",
       "         1.79276976])),\n",
       "       (101, '/media/alessandro/DATA/tesi/Nebbia/pre-processed_data/270619/video4_005/trigger_thr0.005_cl9_op3/cc_filtered_2den0.81_gausrad2.0/', list(['mean_270619-video4_005-034_opened_cc08.png']), array([1.00000000e+00, 1.52366855e+03, 6.65845406e+00, 2.10000000e+01,\n",
       "       3.35971054e+00])),\n",
       "       (102, '/media/alessandro/DATA/tesi/Nebbia/pre-processed_data/270619/video4_005/trigger_thr0.005_cl9_op3/cc_filtered_2den0.81_gausrad2.0/', list(['mean_270619-video4_005-034_opened_cc76.png']), array([  1.        , 146.11686764,   8.24894964,   3.        ,\n",
       "         1.87083478])),\n",
       "       (103, '/media/alessandro/DATA/tesi/Nebbia/pre-processed_data/270619/video4_005/trigger_thr0.005_cl9_op3/cc_filtered_2den0.81_gausrad2.0/', list(['mean_270619-video4_005-034_opened_cc80.png']), array([ 1.        , 90.18944134,  8.86744756,  2.        ,  1.50273999])),\n",
       "       (104, '/media/alessandro/DATA/tesi/Nebbia/pre-processed_data/270619/video4_006/trigger_thr0.005_cl9_op3/cc_filtered_2den0.81_gausrad2.0/', list(['mean_270619-video4_006-018_opened_cc03.png']), array([ 1.        , 83.04408906, 14.95591094,  1.        ,  1.        ])),\n",
       "       (105, '/media/alessandro/DATA/tesi/Nebbia/pre-processed_data/270619/video4_006/trigger_thr0.005_cl9_op3/cc_filtered_2den0.81_gausrad2.0/', list(['mean_270619-video4_006-018_opened_cc09.png']), array([ 1.        , 94.26247937,  5.42984132,  2.        ,  1.28824859])),\n",
       "       (106, '/media/alessandro/DATA/tesi/Nebbia/pre-processed_data/270619/video4_006/trigger_thr0.005_cl9_op3/cc_filtered_2den0.81_gausrad2.0/', list(['mean_270619-video4_006-018_opened_cc16.png']), array([  1.        , 188.03253896,   6.88828643,   2.        ,\n",
       "         1.56411627])),\n",
       "       (107, '/media/alessandro/DATA/tesi/Nebbia/pre-processed_data/270619/video4_006/trigger_thr0.005_cl9_op3/cc_filtered_2den0.81_gausrad2.0/', list(['mean_270619-video4_006-026_opened_cc27.png']), array([ 1.        , 36.08673845,  1.41326155,  1.        ,  5.37949335])),\n",
       "       (108, '/media/alessandro/DATA/tesi/Nebbia/pre-processed_data/270619/video4_006/trigger_thr0.005_cl9_op3/cc_filtered_2den0.81_gausrad2.0/', list(['mean_270619-video4_006-026_opened_cc90.png']), array([  1.        , 108.2890223 ,   1.45262029,   2.        ,\n",
       "         2.54533615])),\n",
       "       (109, '/media/alessandro/DATA/tesi/Nebbia/pre-processed_data/270619/video4_006/trigger_thr0.005_cl9_op3/cc_filtered_2den0.81_gausrad2.0/', list(['mean_270619-video4_006-035_opened_cc17.png']), array([  1.        , 145.76218304,   7.23781696,   1.        ,\n",
       "         1.35144694])),\n",
       "       (110, '/media/alessandro/DATA/tesi/Nebbia/pre-processed_data/270619/video4_006/trigger_thr0.005_cl9_op3/cc_filtered_2den0.81_gausrad2.0/', list(['mean_270619-video4_006-035_opened_cc55.png']), array([  1.        , 237.24887652,   7.57559438,   2.        ,\n",
       "         1.59052008])),\n",
       "       (111, '/media/alessandro/DATA/tesi/Nebbia/pre-processed_data/270619/video4_007/trigger_thr0.005_cl9_op3/cc_filtered_2den0.81_gausrad2.0/', list(['mean_270619-video4_007-001_opened_cc18.png']), array([ 1.        , 94.61455151,  9.38544849,  1.        ,  1.0369691 ])),\n",
       "       (112, '/media/alessandro/DATA/tesi/Nebbia/pre-processed_data/270619/video4_007/trigger_thr0.005_cl9_op3/cc_filtered_2den0.81_gausrad2.0/', list(['mean_270619-video4_007-009_opened_cc03.png']), array([  1.        , 258.75103392,   9.7405142 ,   2.        ,\n",
       "         1.24653342])),\n",
       "       (113, '/media/alessandro/DATA/tesi/Nebbia/pre-processed_data/270619/video4_007/trigger_thr0.005_cl9_op3/cc_filtered_2den0.81_gausrad2.0/', list(['mean_270619-video4_007-009_opened_cc21.png']), array([  1.        , 252.67035253,   4.46823143,   4.        ,\n",
       "         2.20422845])),\n",
       "       (114, '/media/alessandro/DATA/tesi/Nebbia/pre-processed_data/270619/video4_007/trigger_thr0.005_cl9_op3/cc_filtered_2den0.81_gausrad2.0/', list(['mean_270619-video4_007-009_opened_cc22.png']), array([  1.        , 100.42103306,   5.39023626,   2.        ,\n",
       "         1.54475617])),\n",
       "       (115, '/media/alessandro/DATA/tesi/Nebbia/pre-processed_data/270619/video4_007/trigger_thr0.005_cl9_op3/cc_filtered_2den0.81_gausrad2.0/', list(['mean_270619-video4_007-036_opened_cc03.png']), array([ 1.        , 86.10397046,  3.76683783,  2.        ,  1.95237562])),\n",
       "       (116, '/media/alessandro/DATA/tesi/Nebbia/pre-processed_data/270619/video4_007/trigger_thr0.005_cl9_op3/cc_filtered_2den0.81_gausrad2.0/', list(['mean_270619-video4_007-036_opened_cc19.png']), array([  1.        , 643.18536961,   7.72476665,   7.        ,\n",
       "         2.31337698])),\n",
       "       (117, '/media/alessandro/DATA/tesi/Nebbia/pre-processed_data/270619/video4_007/trigger_thr0.005_cl9_op3/cc_filtered_2den0.81_gausrad2.0/', list(['mean_270619-video4_007-036_opened_cc34.png']), array([  1.        , 692.00534404,  11.67024337,   6.        ,\n",
       "         2.13243943])),\n",
       "       (118, '/media/alessandro/DATA/tesi/Nebbia/pre-processed_data/270619/video4_007/trigger_thr0.005_cl9_op3/cc_filtered_2den0.81_gausrad2.0/', list(['mean_270619-video4_007-037_opened_cc26.png']), array([  1.        , 557.72671019,  11.03674223,   5.        ,\n",
       "         1.78960904])),\n",
       "       (119, '/media/alessandro/DATA/tesi/Nebbia/pre-processed_data/270619/video4_007/trigger_thr0.005_cl9_op3/cc_filtered_2den0.81_gausrad2.0/', list(['mean_270619-video4_007-037_opened_cc38.png']), array([  1.        , 107.14323848,   2.20115611,   2.        ,\n",
       "         2.15453082])),\n",
       "       (120, '/media/alessandro/DATA/tesi/Nebbia/pre-processed_data/270619/video4_007/trigger_thr0.005_cl9_op3/cc_filtered_2den0.81_gausrad2.0/', list(['mean_270619-video4_007-037_opened_cc40.png']), array([  1.        , 153.10181283,   4.20983143,   2.        ,\n",
       "         1.57161884])),\n",
       "       (121, '/media/alessandro/DATA/tesi/Nebbia/pre-processed_data/270619/video4_007/trigger_thr0.005_cl9_op3/cc_filtered_2den0.81_gausrad2.0/', list(['mean_270619-video4_007-041_opened_cc16.png']), array([  1.        , 299.08168931,   7.66547622,   4.        ,\n",
       "         1.79061942])),\n",
       "       (122, '/media/alessandro/DATA/tesi/Nebbia/pre-processed_data/270619/video4_007/trigger_thr0.005_cl9_op3/cc_filtered_2den0.81_gausrad2.0/', list(['mean_270619-video4_007-041_opened_cc49.png']), array([  1.        , 117.29142347,  14.98149417,   2.        ,\n",
       "         1.        ])),\n",
       "       (123, '/media/alessandro/DATA/tesi/Nebbia/pre-processed_data/270619/video4_007/trigger_thr0.005_cl9_op3/cc_filtered_2den0.81_gausrad2.0/', list(['mean_270619-video4_007-041_opened_cc80.png']), array([  1.        , 144.43784618,   8.42148684,   2.        ,\n",
       "         1.14528657])),\n",
       "       (124, '/media/alessandro/DATA/tesi/Nebbia/pre-processed_data/270619/video4_007/trigger_thr0.005_cl9_op3/cc_filtered_2den0.81_gausrad2.0/', list(['mean_270619-video4_007-041_opened_cc93.png']), array([  1.        , 170.86411744,  10.25204088,   2.        ,\n",
       "         1.09733637])),\n",
       "       (125, '/media/alessandro/DATA/tesi/Nebbia/pre-processed_data/270619/video4_007/trigger_thr0.005_cl9_op3/cc_filtered_2den0.81_gausrad2.0/', list(['mean_270619-video4_007-037_opened_cc07.png']), array([  1.        , 196.59543856,   3.39058858,   3.        ,\n",
       "         1.78715741])),\n",
       "       (126, '/media/alessandro/DATA/tesi/Nebbia/pre-processed_data/270619/video4_008/trigger_thr0.005_cl9_op3/cc_filtered_2den0.81_gausrad2.0/', list(['mean_270619-video4_008-011_opened_cc06.png']), array([  1.        , 916.08532772,   9.29047642,   7.        ,\n",
       "         2.45598401])),\n",
       "       (127, '/media/alessandro/DATA/tesi/Nebbia/pre-processed_data/270619/video4_008/trigger_thr0.005_cl9_op3/cc_filtered_2den0.81_gausrad2.0/', list(['mean_270619-video4_008-011_opened_cc23.png']), array([ 1.       , 99.6457164,  6.8542836,  1.       ,  1.4308291])),\n",
       "       (128, '/media/alessandro/DATA/tesi/Nebbia/pre-processed_data/270619/video4_008/trigger_thr0.005_cl9_op3/cc_filtered_2den0.81_gausrad2.0/', list(['mean_270619-video4_008-013_opened_cc06.png']), array([ 1.        , 92.78355856,  5.21644144,  1.        ,  1.64793999])),\n",
       "       (129, '/media/alessandro/DATA/tesi/Nebbia/pre-processed_data/270619/video4_008/trigger_thr0.005_cl9_op3/cc_filtered_2den0.81_gausrad2.0/', list(['mean_270619-video4_008-015_opened_cc03.png']), array([ 1.        , 93.33686266,  4.13063629,  2.        ,  1.89187706])),\n",
       "       (130, '/media/alessandro/DATA/tesi/Nebbia/pre-processed_data/270619/video4_008/trigger_thr0.005_cl9_op3/cc_filtered_2den0.81_gausrad2.0/', list(['mean_270619-video4_008-015_opened_cc17.png', 'mean_270619-video4_008-016_opened_cc12.png']), array([ 2.       , 71.9118891, 18.8381109,  1.       ,  1.       ])),\n",
       "       (131, '/media/alessandro/DATA/tesi/Nebbia/pre-processed_data/270619/video4_008/trigger_thr0.005_cl9_op3/cc_filtered_2den0.81_gausrad2.0/', list(['mean_270619-video4_008-016_opened_cc05.png']), array([  1.        , 156.75447833,   7.84369937,   3.        ,\n",
       "         1.09615836])),\n",
       "       (132, '/media/alessandro/DATA/tesi/Nebbia/pre-processed_data/270619/video4_008/trigger_thr0.005_cl9_op3/cc_filtered_2den0.81_gausrad2.0/', list(['mean_270619-video4_008-016_opened_cc06.png']), array([  1.        , 145.63834695,   6.8298333 ,   2.        ,\n",
       "         1.23724812])),\n",
       "       (133, '/media/alessandro/DATA/tesi/Nebbia/pre-processed_data/270619/video4_008/trigger_thr0.005_cl9_op3/cc_filtered_2den0.81_gausrad2.0/', list(['mean_270619-video4_008-017_opened_cc16.png']), array([  1.        , 156.0393088 ,   7.85905281,   3.        ,\n",
       "         1.10444189])),\n",
       "       (134, '/media/alessandro/DATA/tesi/Nebbia/pre-processed_data/270619/video4_008/trigger_thr0.005_cl9_op3/cc_filtered_2den0.81_gausrad2.0/', list(['mean_270619-video4_008-017_opened_cc37.png']), array([  1.        , 262.84924856,   7.56299256,   3.        ,\n",
       "         1.26730641])),\n",
       "       (135, '/media/alessandro/DATA/tesi/Nebbia/pre-processed_data/270619/video4_008/trigger_thr0.005_cl9_op3/cc_filtered_2den0.81_gausrad2.0/', list(['mean_270619-video4_008-017_opened_cc02.png']), array([  1.        , 207.10351479,   3.55361249,   2.        ,\n",
       "         1.57403305])),\n",
       "       (136, '/media/alessandro/DATA/tesi/Nebbia/pre-processed_data/270619/video4_008/trigger_thr0.005_cl9_op3/cc_filtered_2den0.81_gausrad2.0/', list(['mean_270619-video4_008-020_opened_cc45.png']), array([  1.        , 157.33988145,   9.14557998,   2.        ,\n",
       "         1.29993012])),\n",
       "       (137, '/media/alessandro/DATA/tesi/Nebbia/pre-processed_data/270619/video4_008/trigger_thr0.005_cl9_op3/cc_filtered_2den0.81_gausrad2.0/', list(['mean_270619-video4_008-020_opened_cc79.png']), array([  1.        , 162.93477481,   4.99065747,   4.        ,\n",
       "         1.95739513])),\n",
       "       (138, '/media/alessandro/DATA/tesi/Nebbia/pre-processed_data/270619/video4_008/trigger_thr0.005_cl9_op3/cc_filtered_2den0.81_gausrad2.0/', list(['mean_270619-video4_008-020_opened_cc86.png', 'mean_270619-video4_008-021_opened_cc105.png']), array([ 2.        , 84.03408106, 14.1725562 ,  1.5       ,  1.        ])),\n",
       "       (139, '/media/alessandro/DATA/tesi/Nebbia/pre-processed_data/270619/video4_008/trigger_thr0.005_cl9_op3/cc_filtered_2den0.81_gausrad2.0/', list(['mean_270619-video4_008-021_opened_cc06.png']), array([ 1.        , 96.04022798,  0.89845059,  2.        ,  4.36096211])),\n",
       "       (140, '/media/alessandro/DATA/tesi/Nebbia/pre-processed_data/270619/video4_008/trigger_thr0.005_cl9_op3/cc_filtered_2den0.81_gausrad2.0/', list(['mean_270619-video4_008-021_opened_cc33.png']), array([  1.        , 137.26371015,  12.1731416 ,   3.        ,\n",
       "         1.02647337])),\n",
       "       (141, '/media/alessandro/DATA/tesi/Nebbia/pre-processed_data/270619/video4_008/trigger_thr0.005_cl9_op3/cc_filtered_2den0.81_gausrad2.0/', list(['mean_270619-video4_008-021_opened_cc61.png']), array([  1.        , 499.14293988,  10.28625816,   4.        ,\n",
       "         1.76445009])),\n",
       "       (142, '/media/alessandro/DATA/tesi/Nebbia/pre-processed_data/270619/video4_008/trigger_thr0.005_cl9_op3/cc_filtered_2den0.81_gausrad2.0/', list(['mean_270619-video4_008-025_opened_cc05.png']), array([  1.        , 307.11459236,   2.94569619,   5.        ,\n",
       "         1.6678945 ])),\n",
       "       (143, '/media/alessandro/DATA/tesi/Nebbia/pre-processed_data/270619/video4_010/trigger_thr0.005_cl9_op3/cc_filtered_2den0.81_gausrad2.0/', list(['mean_270619-video4_010-013_opened_cc12.png', 'mean_270619-video4_010-014_opened_cc04.png']), array([  2.        , 111.56442981,  12.18557019,   1.        ,\n",
       "         1.00816203])),\n",
       "       (144, '/media/alessandro/DATA/tesi/Nebbia/pre-processed_data/270619/video4_010/trigger_thr0.005_cl9_op3/cc_filtered_2den0.81_gausrad2.0/', list(['mean_270619-video4_010-013_opened_cc17.png']), array([  1.        , 414.37318075,   5.3239189 ,   8.        ,\n",
       "         1.93219294])),\n",
       "       (145, '/media/alessandro/DATA/tesi/Nebbia/pre-processed_data/270619/video4_010/trigger_thr0.005_cl9_op3/cc_filtered_2den0.81_gausrad2.0/', list(['mean_270619-video4_010-013_opened_cc34.png']), array([  1.        , 268.33658177,   7.33136683,   3.        ,\n",
       "         1.65851707])),\n",
       "       (146, '/media/alessandro/DATA/tesi/Nebbia/pre-processed_data/270619/video4_010/trigger_thr0.005_cl9_op3/cc_filtered_2den0.81_gausrad2.0/', list(['mean_270619-video4_010-027_opened_cc06.png']), array([  1.        , 925.66805922,  14.19922395,   6.        ,\n",
       "         2.0201609 ])),\n",
       "       (147, '/media/alessandro/DATA/tesi/Nebbia/pre-processed_data/270619/video4_010/trigger_thr0.005_cl9_op3/cc_filtered_2den0.81_gausrad2.0/', list(['mean_270619-video4_010-027_opened_cc22.png', 'mean_270619-video4_010-028_opened_cc05.png']), array([  2.        , 135.37356756,  10.78015586,   1.5       ,\n",
       "         1.06439834])),\n",
       "       (148, '/media/alessandro/DATA/tesi/Nebbia/pre-processed_data/270619/video4_010/trigger_thr0.005_cl9_op3/cc_filtered_2den0.81_gausrad2.0/', list(['mean_270619-video4_010-028_opened_cc18.png', 'mean_270619-video4_010-029_opened_cc19.png']), array([ 2.        , 83.43885353, 30.06114647,  1.        ,  1.        ])),\n",
       "       (149, '/media/alessandro/DATA/tesi/Nebbia/pre-processed_data/270619/video4_010/trigger_thr0.005_cl9_op3/cc_filtered_2den0.81_gausrad2.0/', list(['mean_270619-video4_010-029_opened_cc12.png']), array([  1.        , 226.47065229,   9.08065918,   4.        ,\n",
       "         1.01519607])),\n",
       "       (150, '/media/alessandro/DATA/tesi/Nebbia/pre-processed_data/270619/video4_010/trigger_thr0.005_cl9_op3/cc_filtered_2den0.81_gausrad2.0/', list(['mean_270619-video4_010-030_opened_cc07.png']), array([  1.        , 183.53954258,   4.51342524,   2.        ,\n",
       "         1.33315058])),\n",
       "       (151, '/media/alessandro/DATA/tesi/Nebbia/pre-processed_data/270619/video4_010/trigger_thr0.005_cl9_op3/cc_filtered_2den0.81_gausrad2.0/', list(['mean_270619-video4_010-030_opened_cc16.png']), array([  1.        , 128.73277807,   4.64604523,   2.        ,\n",
       "         1.32265133])),\n",
       "       (152, '/media/alessandro/DATA/tesi/Nebbia/pre-processed_data/270619/video4_010/trigger_thr0.005_cl9_op3/cc_filtered_2den0.81_gausrad2.0/', list(['mean_270619-video4_010-030_opened_cc17.png']), array([ 1.        , 89.59556626,  8.40443374,  1.        ,  1.00039672])),\n",
       "       (153, '/media/alessandro/DATA/tesi/Nebbia/pre-processed_data/270619/video4_010/trigger_thr0.005_cl9_op3/cc_filtered_2den0.81_gausrad2.0/', list(['mean_270619-video4_010-030_opened_cc28.png']), array([  1.        , 325.5922234 ,   5.35884889,   2.        ,\n",
       "         2.14567911])),\n",
       "       (154, '/media/alessandro/DATA/tesi/Nebbia/pre-processed_data/270619/video4_010/trigger_thr0.005_cl9_op3/cc_filtered_2den0.81_gausrad2.0/', list(['mean_270619-video4_010-030_opened_cc36.png']), array([ 1.        , 80.79944521,  8.70055479,  1.        ,  1.        ])),\n",
       "       (155, '/media/alessandro/DATA/tesi/Nebbia/pre-processed_data/270619/video4_010/trigger_thr0.005_cl9_op3/cc_filtered_2den0.81_gausrad2.0/', list(['mean_270619-video4_010-031_opened_cc18.png']), array([ 1.        , 86.94658104,  6.681762  ,  2.        ,  1.13804035])),\n",
       "       (156, '/media/alessandro/DATA/tesi/Nebbia/pre-processed_data/270619/video4_010/trigger_thr0.005_cl9_op3/cc_filtered_2den0.81_gausrad2.0/', list(['mean_270619-video4_010-031_opened_cc19.png']), array([  1.        , 134.23532214,  10.76467786,   1.        ,\n",
       "         1.        ])),\n",
       "       (157, '/media/alessandro/DATA/tesi/Nebbia/pre-processed_data/270619/video4_011/trigger_thr0.005_cl9_op3/cc_filtered_2den0.81_gausrad2.0/', list(['mean_270619-video4_011-014_opened_cc03.png']), array([  1.        , 163.89245766,   8.56763544,   4.        ,\n",
       "         1.25829374])),\n",
       "       (158, '/media/alessandro/DATA/tesi/Nebbia/pre-processed_data/270619/video4_011/trigger_thr0.005_cl9_op3/cc_filtered_2den0.81_gausrad2.0/', list(['mean_270619-video4_011-014_opened_cc49.png']), array([  1.        , 900.80272716,  10.23579544,   7.        ,\n",
       "         1.85931819])),\n",
       "       (159, '/media/alessandro/DATA/tesi/Nebbia/pre-processed_data/270619/video4_011/trigger_thr0.005_cl9_op3/cc_filtered_2den0.81_gausrad2.0/', list(['mean_270619-video4_011-014_opened_cc62.png', 'mean_270619-video4_011-015_opened_cc81.png', 'mean_270619-video4_011-016_opened_cc86.png']), array([  3.        , 159.98507767,  14.84825567,   1.        ,\n",
       "         1.15522974])),\n",
       "       (160, '/media/alessandro/DATA/tesi/Nebbia/pre-processed_data/270619/video4_011/trigger_thr0.005_cl9_op3/cc_filtered_2den0.81_gausrad2.0/', list(['mean_270619-video4_011-015_opened_cc20.png']), array([ 1.        , 86.29657197,  1.70342803,  1.        ,  6.46820153])),\n",
       "       (161, '/media/alessandro/DATA/tesi/Nebbia/pre-processed_data/270619/video4_011/trigger_thr0.005_cl9_op3/cc_filtered_2den0.81_gausrad2.0/', list(['mean_270619-video4_011-015_opened_cc64.png']), array([  1.        , 121.45431884,  12.04568116,   1.        ,\n",
       "         1.        ])),\n",
       "       (162, '/media/alessandro/DATA/tesi/Nebbia/pre-processed_data/270619/video4_011/trigger_thr0.005_cl9_op3/cc_filtered_2den0.81_gausrad2.0/', list(['mean_270619-video4_011-016_opened_cc102.png']), array([  1.        , 189.93283959,   5.48225969,   3.        ,\n",
       "         1.32612808])),\n",
       "       (163, '/media/alessandro/DATA/tesi/Nebbia/pre-processed_data/270619/video4_011/trigger_thr0.005_cl9_op3/cc_filtered_2den0.81_gausrad2.0/', list(['mean_270619-video4_011-021_opened_cc06.png']), array([  1.        , 556.03252545,   7.89066569,   7.        ,\n",
       "         1.64569338])),\n",
       "       (164, '/media/alessandro/DATA/tesi/Nebbia/pre-processed_data/270619/video4_011/trigger_thr0.005_cl9_op3/cc_filtered_2den0.81_gausrad2.0/', list(['mean_270619-video4_011-047_opened_cc02.png']), array([  1.        , 161.90866009,   9.7398802 ,   2.        ,\n",
       "         1.1282628 ])),\n",
       "       (165, '/media/alessandro/DATA/tesi/Nebbia/pre-processed_data/270619/video4_011/trigger_thr0.005_cl9_op3/cc_filtered_2den0.81_gausrad2.0/', list(['mean_270619-video4_011-047_opened_cc12.png', 'mean_270619-video4_011-048_opened_cc16.png']), array([  2.        , 112.54390617,  13.95609383,   1.        ,\n",
       "         1.14658962])),\n",
       "       (166, '/media/alessandro/DATA/tesi/Nebbia/pre-processed_data/270619/video4_012/trigger_thr0.005_cl9_op3/cc_filtered_2den0.81_gausrad2.0/', list(['mean_270619-video4_012-036_opened_cc13.png']), array([  1.        , 399.47482713,   3.06517944,   5.        ,\n",
       "         2.22722394])),\n",
       "       (167, '/media/alessandro/DATA/tesi/Nebbia/pre-processed_data/270619/video4_012/trigger_thr0.005_cl9_op3/cc_filtered_2den0.81_gausrad2.0/', list(['mean_270619-video4_012-036_opened_cc36.png']), array([  1.        , 422.99557086,   4.22111352,   6.        ,\n",
       "         1.53926522])),\n",
       "       (168, '/media/alessandro/DATA/tesi/Nebbia/pre-processed_data/270619/video4_012/trigger_thr0.005_cl9_op3/cc_filtered_2den0.81_gausrad2.0/', list(['mean_270619-video4_012-037_opened_cc03.png']), array([ 1.        , 87.34044001,  9.15955999,  1.        ,  1.168702  ])),\n",
       "       (169, '/media/alessandro/DATA/tesi/Nebbia/pre-processed_data/270619/video4_012/trigger_thr0.005_cl9_op3/cc_filtered_2den0.81_gausrad2.0/', list(['mean_270619-video4_012-037_opened_cc09.png']), array([1.00000000e+00, 1.02078672e+03, 1.26507795e+01, 7.00000000e+00,\n",
       "       2.14427806e+00])),\n",
       "       (170, '/media/alessandro/DATA/tesi/Nebbia/pre-processed_data/270619/video4_012/trigger_thr0.005_cl9_op3/cc_filtered_2den0.81_gausrad2.0/', list(['mean_270619-video4_012-037_opened_cc39.png']), array([  1.        , 118.91890921,   6.26290032,   4.        ,\n",
       "         1.1303078 ])),\n",
       "       (171, '/media/alessandro/DATA/tesi/Nebbia/pre-processed_data/270619/video4_012/trigger_thr0.005_cl9_op3/cc_filtered_2den0.81_gausrad2.0/', list(['mean_270619-video4_012-037_opened_cc58.png']), array([  1.        , 165.43593039,   7.27554572,   4.        ,\n",
       "         1.34341017])),\n",
       "       (172, '/media/alessandro/DATA/tesi/Nebbia/pre-processed_data/270619/video4_012/trigger_thr0.005_cl9_op3/cc_filtered_2den0.81_gausrad2.0/', list(['mean_270619-video4_012-037_opened_cc36.png']), array([  1.        , 120.16299421,  21.83700579,   1.        ,\n",
       "         1.        ])),\n",
       "       (173, '/media/alessandro/DATA/tesi/Nebbia/pre-processed_data/270619/video4_012/trigger_thr0.005_cl9_op3/cc_filtered_2den0.81_gausrad2.0/', list(['mean_270619-video4_012-047_opened_cc43.png']), array([  1.        , 121.3063721 ,   4.73512958,   3.        ,\n",
       "         1.479346  ])),\n",
       "       (174, '/media/alessandro/DATA/tesi/Nebbia/pre-processed_data/270619/video4_012/trigger_thr0.005_cl9_op3/cc_filtered_2den0.81_gausrad2.0/', list(['mean_270619-video4_012-048_opened_cc25.png']), array([ 1.        , 50.1273147 ,  2.8726853 ,  1.        ,  2.90379737])),\n",
       "       (175, '/media/alessandro/DATA/tesi/Nebbia/pre-processed_data/270619/video4_012/trigger_thr0.005_cl9_op3/cc_filtered_2den0.81_gausrad2.0/', list(['mean_270619-video4_012-048_opened_cc37.png']), array([  1.        , 289.96573835,   9.93147276,   3.        ,\n",
       "         1.4425442 ])),\n",
       "       (176, '/media/alessandro/DATA/tesi/Nebbia/pre-processed_data/270619/video4_012/trigger_thr0.005_cl9_op3/cc_filtered_2den0.81_gausrad2.0/', list(['mean_270619-video4_012-048_opened_cc91.png']), array([ 1.        , 50.39668714,  2.10331286,  1.        ,  4.1708595 ])),\n",
       "       (177, '/media/alessandro/DATA/tesi/Nebbia/pre-processed_data/270619/video4_013/trigger_thr0.005_cl9_op3/cc_filtered_2den0.81_gausrad2.0/', list(['mean_270619-video4_013-001_opened_cc22.png']), array([  1.        , 296.56869764,   6.31950032,   4.        ,\n",
       "         1.68111932])),\n",
       "       (178, '/media/alessandro/DATA/tesi/Nebbia/pre-processed_data/270619/video4_013/trigger_thr0.005_cl9_op3/cc_filtered_2den0.81_gausrad2.0/', list(['mean_270619-video4_013-001_opened_cc46.png']), array([ 1.        , 49.44013949,  3.55986051,  1.        ,  3.80308765])),\n",
       "       (179, '/media/alessandro/DATA/tesi/Nebbia/pre-processed_data/270619/video4_013/trigger_thr0.005_cl9_op3/cc_filtered_2den0.81_gausrad2.0/', list(['mean_270619-video4_013-002_opened_cc12.png']), array([  1.        , 758.4423562 ,  10.30061051,  10.        ,\n",
       "         1.82583942])),\n",
       "       (180, '/media/alessandro/DATA/tesi/Nebbia/pre-processed_data/270619/video4_013/trigger_thr0.005_cl9_op3/cc_filtered_2den0.81_gausrad2.0/', list(['mean_270619-video4_013-002_opened_cc66.png']), array([  1.        , 111.99744401,   7.85948066,   2.        ,\n",
       "         1.58451698])),\n",
       "       (181, '/media/alessandro/DATA/tesi/Nebbia/pre-processed_data/270619/video4_013/trigger_thr0.005_cl9_op3/cc_filtered_2den0.81_gausrad2.0/', list(['mean_270619-video4_013-003_opened_cc02.png', 'mean_270619-video4_013-004_opened_cc04.png']), array([ 2.        , 88.48712393, 23.76287607,  1.        ,  1.        ])),\n",
       "       (182, '/media/alessandro/DATA/tesi/Nebbia/pre-processed_data/270619/video4_013/trigger_thr0.005_cl9_op3/cc_filtered_2den0.81_gausrad2.0/', list(['mean_270619-video4_013-003_opened_cc17.png']), array([ 1.        , 83.17200571, 10.32799429,  1.        ,  1.        ])),\n",
       "       (183, '/media/alessandro/DATA/tesi/Nebbia/pre-processed_data/270619/video4_013/trigger_thr0.005_cl9_op3/cc_filtered_2den0.81_gausrad2.0/', list(['mean_270619-video4_013-004_opened_cc12.png']), array([  1.        , 678.08640196,   9.49736852,   7.        ,\n",
       "         2.28101265])),\n",
       "       (184, '/media/alessandro/DATA/tesi/Nebbia/pre-processed_data/270619/video4_013/trigger_thr0.005_cl9_op3/cc_filtered_2den0.81_gausrad2.0/', list(['mean_270619-video4_013-004_opened_cc13.png']), array([ 1.        , 89.44068862, 22.05931138,  1.        ,  1.        ])),\n",
       "       (185, '/media/alessandro/DATA/tesi/Nebbia/pre-processed_data/270619/video4_013/trigger_thr0.005_cl9_op3/cc_filtered_2den0.81_gausrad2.0/', list(['mean_270619-video4_013-005_opened_cc09.png']), array([  1.        , 130.92270867,   9.10801657,   3.        ,\n",
       "         1.26816897])),\n",
       "       (186, '/media/alessandro/DATA/tesi/Nebbia/pre-processed_data/270619/video4_014/trigger_thr0.005_cl9_op3/cc_filtered_2den0.81_gausrad2.0/', list(['mean_270619-video4_014-003_opened_cc20.png']), array([  1.        , 214.13100502,   5.22455675,   5.        ,\n",
       "         1.6718274 ])),\n",
       "       (187, '/media/alessandro/DATA/tesi/Nebbia/pre-processed_data/270619/video4_014/trigger_thr0.005_cl9_op3/cc_filtered_2den0.81_gausrad2.0/', list(['mean_270619-video4_014-021_opened_cc45.png']), array([ 1.        , 57.7124687 , 12.7875313 ,  1.        ,  1.24990226])),\n",
       "       (188, '/media/alessandro/DATA/tesi/Nebbia/pre-processed_data/270619/video4_014/trigger_thr0.005_cl9_op3/cc_filtered_2den0.81_gausrad2.0/', list(['mean_270619-video4_014-034_opened_cc18.png']), array([  1.        , 134.23603051,   5.32004415,   2.        ,\n",
       "         1.38534975])),\n",
       "       (189, '/media/alessandro/DATA/tesi/Nebbia/pre-processed_data/270619/video4_014/trigger_thr0.005_cl9_op3/cc_filtered_2den0.81_gausrad2.0/', list(['mean_270619-video4_014-034_opened_cc21.png']), array([  1.        , 155.14041493,   8.45839104,   3.        ,\n",
       "         1.18149293])),\n",
       "       (190, '/media/alessandro/DATA/tesi/Nebbia/pre-processed_data/270619/video4_014/trigger_thr0.005_cl9_op3/cc_filtered_2den0.81_gausrad2.0/', list(['mean_270619-video4_014-034_opened_cc46.png']), array([  1.        , 130.5020833 ,  10.4979167 ,   1.        ,\n",
       "         1.21916654])),\n",
       "       (191, '/media/alessandro/DATA/tesi/Nebbia/pre-processed_data/270619/video4_014/trigger_thr0.005_cl9_op3/cc_filtered_2den0.81_gausrad2.0/', list(['mean_270619-video4_014-034_opened_cc53.png', 'mean_270619-video4_014-035_opened_cc43.png']), array([  2.        , 100.99605652,  12.50394348,   1.        ,\n",
       "         1.08889778])),\n",
       "       (192, '/media/alessandro/DATA/tesi/Nebbia/pre-processed_data/270619/video4_014/trigger_thr0.005_cl9_op3/cc_filtered_2den0.81_gausrad2.0/', list(['mean_270619-video4_014-035_opened_cc24.png']), array([  1.        , 210.39708384,   3.30745117,   2.        ,\n",
       "         2.07947338])),\n",
       "       (193, '/media/alessandro/DATA/tesi/Nebbia/pre-processed_data/270619/video4_014/trigger_thr0.005_cl9_op3/cc_filtered_2den0.81_gausrad2.0/', list(['mean_270619-video4_014-035_opened_cc40.png']), array([  1.        , 126.83543951,   1.2837023 ,   2.        ,\n",
       "         2.92992042])),\n",
       "       (194, '/media/alessandro/DATA/tesi/Nebbia/pre-processed_data/270619/video4_014/trigger_thr0.005_cl9_op3/cc_filtered_2den0.81_gausrad2.0/', list(['mean_270619-video4_014-035_opened_cc41.png']), array([  1.        , 281.12302685,   3.0987221 ,   5.        ,\n",
       "         2.28246239])),\n",
       "       (195, '/media/alessandro/DATA/tesi/Nebbia/pre-processed_data/270619/video4_014/trigger_thr0.005_cl9_op3/cc_filtered_2den0.81_gausrad2.0/', list(['mean_270619-video4_014-021_opened_cc15.png']), array([1.00000000e+00, 1.32813633e+03, 7.42827100e+00, 1.90000000e+01,\n",
       "       3.17379230e+00])),\n",
       "       (196, '/media/alessandro/DATA/tesi/Nebbia/pre-processed_data/270619/video4_014/trigger_thr0.005_cl9_op3/cc_filtered_2den0.81_gausrad2.0/', list(['mean_270619-video4_014-037_opened_cc05.png']), array([  1.        , 174.27452064,  10.33333333,   3.        ,\n",
       "         1.60807902])),\n",
       "       (197, '/media/alessandro/DATA/tesi/Nebbia/pre-processed_data/270619/video4_014/trigger_thr0.005_cl9_op3/cc_filtered_2den0.81_gausrad2.0/', list(['mean_270619-video4_014-036_opened_cc06.png']), array([  1.        , 377.31735604,   6.92063371,   5.        ,\n",
       "         1.80278917])),\n",
       "       (198, '/media/alessandro/DATA/tesi/Nebbia/pre-processed_data/270619/video4_014/trigger_thr0.005_cl9_op3/cc_filtered_2den0.81_gausrad2.0/', list(['mean_270619-video4_014-036_opened_cc08.png']), array([  1.        , 105.35767654,   9.12334081,   2.        ,\n",
       "         1.54587127])),\n",
       "       (199, '/media/alessandro/DATA/tesi/Nebbia/pre-processed_data/270619/video4_014/trigger_thr0.005_cl9_op3/cc_filtered_2den0.81_gausrad2.0/', list(['mean_270619-video4_014-036_opened_cc11.png']), array([  1.        , 210.03082603,  14.00751965,   2.        ,\n",
       "         1.14908274])),\n",
       "       (200, '/media/alessandro/DATA/tesi/Nebbia/pre-processed_data/270619/video4_014/trigger_thr0.005_cl9_op3/cc_filtered_2den0.81_gausrad2.0/', list(['mean_270619-video4_014-036_opened_cc79.png']), array([  1.        , 120.22376618,   8.27623382,   1.        ,\n",
       "         1.17031389])),\n",
       "       (201, '/media/alessandro/DATA/tesi/Nebbia/pre-processed_data/270619/video4_014/trigger_thr0.005_cl9_op3/cc_filtered_2den0.81_gausrad2.0/', list(['mean_270619-video4_014-037_opened_cc68.png']), array([  1.        , 209.59715513,  10.45160572,   3.        ,\n",
       "         1.16541823])),\n",
       "       (202, '/media/alessandro/DATA/tesi/Nebbia/pre-processed_data/270619/video4_014/trigger_thr0.005_cl9_op3/cc_filtered_2den0.81_gausrad2.0/', list(['mean_270619-video4_014-038_opened_cc06.png']), array([1.00000000e+00, 1.07986916e+03, 1.40092728e+01, 1.10000000e+01,\n",
       "       2.06807364e+00])),\n",
       "       (203, '/media/alessandro/DATA/tesi/Nebbia/pre-processed_data/270619/video4_014/trigger_thr0.005_cl9_op3/cc_filtered_2den0.81_gausrad2.0/', list(['mean_270619-video4_014-039_opened_cc06.png']), array([  1.        , 102.66158069,   9.40034543,   2.        ,\n",
       "         1.44723025])),\n",
       "       (204, '/media/alessandro/DATA/tesi/Nebbia/pre-processed_data/270619/video4_015/trigger_thr0.005_cl9_op3/cc_filtered_2den0.81_gausrad2.0/', list(['mean_270619-video4_015-013_opened_cc35.png']), array([ 1.        , 16.6160623 ,  7.8839377 ,  1.        ,  1.05089205])),\n",
       "       (205, '/media/alessandro/DATA/tesi/Nebbia/pre-processed_data/270619/video4_015/trigger_thr0.005_cl9_op3/cc_filtered_2den0.81_gausrad2.0/', list(['mean_270619-video4_015-014_opened_cc07.png']), array([  1.        , 481.00034666,   6.76595881,   7.        ,\n",
       "         1.93260127])),\n",
       "       (206, '/media/alessandro/DATA/tesi/Nebbia/pre-processed_data/270619/video4_015/trigger_thr0.005_cl9_op3/cc_filtered_2den0.81_gausrad2.0/', list(['mean_270619-video4_015-036_opened_cc08.png']), array([1.00000000e+00, 1.02303089e+03, 1.50701929e+01, 8.00000000e+00,\n",
       "       2.19706084e+00])),\n",
       "       (207, '/media/alessandro/DATA/tesi/Nebbia/pre-processed_data/270619/video4_015/trigger_thr0.005_cl9_op3/cc_filtered_2den0.81_gausrad2.0/', list(['mean_270619-video4_015-041_opened_cc09.png']), array([  1.        , 306.94965235,   8.5558017 ,   2.        ,\n",
       "         2.04315524])),\n",
       "       (208, '/media/alessandro/DATA/tesi/Nebbia/pre-processed_data/270619/video4_015/trigger_thr0.005_cl9_op3/cc_filtered_2den0.81_gausrad2.0/', list(['mean_270619-video4_015-041_opened_cc55.png']), array([  1.        , 385.28478419,  20.51637703,   5.        ,\n",
       "         1.82599424])),\n",
       "       (209, '/media/alessandro/DATA/tesi/Nebbia/pre-processed_data/270619/video4_016/trigger_thr0.005_cl9_op3/cc_filtered_2den0.81_gausrad2.0/', list(['mean_270619-video4_016-020_opened_cc47.png']), array([ 1.        , 68.81934729, 19.18065271,  1.        ,  1.        ])),\n",
       "       (210, '/media/alessandro/DATA/tesi/Nebbia/pre-processed_data/270619/video4_016/trigger_thr0.005_cl9_op3/cc_filtered_2den0.81_gausrad2.0/', list(['mean_270619-video4_016-020_opened_cc66.png']), array([  1.        , 130.36176478,  11.13823522,   1.        ,\n",
       "         1.26708223])),\n",
       "       (211, '/media/alessandro/DATA/tesi/Nebbia/pre-processed_data/270619/video4_016/trigger_thr0.005_cl9_op3/cc_filtered_2den0.81_gausrad2.0/', list(['mean_270619-video4_016-020_opened_cc76.png']), array([  1.        , 154.1440866 ,  10.30075615,   2.        ,\n",
       "         1.20764606])),\n",
       "       (212, '/media/alessandro/DATA/tesi/Nebbia/pre-processed_data/270619/video4_016/trigger_thr0.005_cl9_op3/cc_filtered_2den0.81_gausrad2.0/', list(['mean_270619-video4_016-021_opened_cc09.png']), array([ 1.        , 82.88873605,  2.11126395,  1.        ,  5.14054119])),\n",
       "       (213, '/media/alessandro/DATA/tesi/Nebbia/pre-processed_data/270619/video4_016/trigger_thr0.005_cl9_op3/cc_filtered_2den0.81_gausrad2.0/', list(['mean_270619-video4_016-021_opened_cc25.png']), array([  1.        , 258.26386728,   4.9581427 ,   3.        ,\n",
       "         1.43958361])),\n",
       "       (214, '/media/alessandro/DATA/tesi/Nebbia/pre-processed_data/270619/video4_016/trigger_thr0.005_cl9_op3/cc_filtered_2den0.81_gausrad2.0/', list(['mean_270619-video4_016-027_opened_cc09.png']), array([  1.        , 156.51911441,   5.37062389,   3.        ,\n",
       "         1.48897101])),\n",
       "       (215, '/media/alessandro/DATA/tesi/Nebbia/pre-processed_data/270619/video4_016/trigger_thr0.005_cl9_op3/cc_filtered_2den0.81_gausrad2.0/', list(['mean_270619-video4_016-027_opened_cc18.png']), array([  1.        , 190.90020958,  12.56798046,   4.        ,\n",
       "         1.15750254])),\n",
       "       (216, '/media/alessandro/DATA/tesi/Nebbia/pre-processed_data/270619/video4_016/trigger_thr0.005_cl9_op3/cc_filtered_2den0.81_gausrad2.0/', list(['mean_270619-video4_016-027_opened_cc58.png']), array([  1.        , 125.71481612,  10.28518388,   1.        ,\n",
       "         1.10005621])),\n",
       "       (217, '/media/alessandro/DATA/tesi/Nebbia/pre-processed_data/270619/video4_016/trigger_thr0.005_cl9_op3/cc_filtered_2den0.81_gausrad2.0/', list(['mean_270619-video4_016-027_opened_cc80.png']), array([  1.        , 153.09186032,   6.88694461,   4.        ,\n",
       "         1.34105492])),\n",
       "       (218, '/media/alessandro/DATA/tesi/Nebbia/pre-processed_data/270619/video4_017/trigger_thr0.005_cl9_op3/cc_filtered_2den0.81_gausrad2.0/', list(['mean_270619-video4_017-006_opened_cc50.png']), array([  1.        , 108.81675405,   9.9276878 ,   2.        ,\n",
       "         1.        ])),\n",
       "       (219, '/media/alessandro/DATA/tesi/Nebbia/pre-processed_data/270619/video4_017/trigger_thr0.005_cl9_op3/cc_filtered_2den0.81_gausrad2.0/', list(['mean_270619-video4_017-006_opened_cc59.png']), array([  1.        , 129.44404336,   9.86647001,   3.        ,\n",
       "         1.18991595])),\n",
       "       (220, '/media/alessandro/DATA/tesi/Nebbia/pre-processed_data/270619/video4_017/trigger_thr0.005_cl9_op3/cc_filtered_2den0.81_gausrad2.0/', list(['mean_270619-video4_017-007_opened_cc01.png']), array([  1.        , 669.14628953,   6.20006961,  13.        ,\n",
       "         2.20797075])),\n",
       "       (221, '/media/alessandro/DATA/tesi/Nebbia/pre-processed_data/270619/video4_017/trigger_thr0.005_cl9_op3/cc_filtered_2den0.81_gausrad2.0/', list(['mean_270619-video4_017-007_opened_cc03.png']), array([1.00000000e+00, 1.83930720e+03, 7.98769550e+00, 2.40000000e+01,\n",
       "       3.92919292e+00])),\n",
       "       (222, '/media/alessandro/DATA/tesi/Nebbia/pre-processed_data/270619/video4_017/trigger_thr0.005_cl9_op3/cc_filtered_2den0.81_gausrad2.0/', list(['mean_270619-video4_017-007_opened_cc04.png']), array([ 1.        , 94.36277258,  3.31185347,  2.        ,  1.47280114])),\n",
       "       (223, '/media/alessandro/DATA/tesi/Nebbia/pre-processed_data/270619/video4_017/trigger_thr0.005_cl9_op3/cc_filtered_2den0.81_gausrad2.0/', list(['mean_270619-video4_017-007_opened_cc21.png', 'mean_270619-video4_017-008_opened_cc24.png']), array([  2.        , 221.66967964,   9.16939225,   4.        ,\n",
       "         1.18313452])),\n",
       "       (224, '/media/alessandro/DATA/tesi/Nebbia/pre-processed_data/270619/video4_017/trigger_thr0.005_cl9_op3/cc_filtered_2den0.81_gausrad2.0/', list(['mean_270619-video4_017-007_opened_cc57.png']), array([ 1.        , 80.75193073,  8.11399906,  2.        ,  1.2353399 ])),\n",
       "       (225, '/media/alessandro/DATA/tesi/Nebbia/pre-processed_data/270619/video4_017/trigger_thr0.005_cl9_op3/cc_filtered_2den0.81_gausrad2.0/', list(['mean_270619-video4_017-008_opened_cc57.png']), array([ 1.        , 39.42738339,  5.07261661,  1.        ,  1.98632288])),\n",
       "       (226, '/media/alessandro/DATA/tesi/Nebbia/pre-processed_data/270619/video4_017/trigger_thr0.005_cl9_op3/cc_filtered_2den0.81_gausrad2.0/', list(['mean_270619-video4_017-008_opened_cc64.png']), array([  1.        , 123.32032231,   2.39201523,   3.        ,\n",
       "         1.83733037])),\n",
       "       (227, '/media/alessandro/DATA/tesi/Nebbia/pre-processed_data/270619/video4_017/trigger_thr0.005_cl9_op3/cc_filtered_2den0.81_gausrad2.0/', list(['mean_270619-video4_017-009_opened_cc07.png']), array([1.00000000e+00, 1.48896958e+03, 1.06240932e+01, 2.00000000e+01,\n",
       "       3.06837114e+00])),\n",
       "       (228, '/media/alessandro/DATA/tesi/Nebbia/pre-processed_data/270619/video4_017/trigger_thr0.005_cl9_op3/cc_filtered_2den0.81_gausrad2.0/', list(['mean_270619-video4_017-009_opened_cc75.png']), array([  1.        , 102.19045534,   4.80632235,   2.        ,\n",
       "         1.34589345])),\n",
       "       (229, '/media/alessandro/DATA/tesi/Nebbia/pre-processed_data/270619/video4_017/trigger_thr0.005_cl9_op3/cc_filtered_2den0.81_gausrad2.0/', list(['mean_270619-video4_017-009_opened_cc85.png']), array([ 1.        , 66.70286949, 12.14981061,  2.        ,  1.        ])),\n",
       "       (230, '/media/alessandro/DATA/tesi/Nebbia/pre-processed_data/270619/video4_017/trigger_thr0.005_cl9_op3/cc_filtered_2den0.81_gausrad2.0/', list(['mean_270619-video4_017-014_opened_cc04.png']), array([  1.        , 211.1631572 ,   4.73590559,   4.        ,\n",
       "         1.35749233])),\n",
       "       (231, '/media/alessandro/DATA/tesi/Nebbia/pre-processed_data/270619/video4_017/trigger_thr0.005_cl9_op3/cc_filtered_2den0.81_gausrad2.0/', list(['mean_270619-video4_017-014_opened_cc08.png']), array([  1.        , 106.47959956,   7.04850092,   3.        ,\n",
       "         1.33759475])),\n",
       "       (232, '/media/alessandro/DATA/tesi/Nebbia/pre-processed_data/270619/video4_017/trigger_thr0.005_cl9_op3/cc_filtered_2den0.81_gausrad2.0/', list(['mean_270619-video4_017-020_opened_cc03.png']), array([  1.        , 112.63110528,  12.68944608,   2.        ,\n",
       "         1.03475092])),\n",
       "       (233, '/media/alessandro/DATA/tesi/Nebbia/pre-processed_data/270619/video4_017/trigger_thr0.005_cl9_op3/cc_filtered_2den0.81_gausrad2.0/', list(['mean_270619-video4_017-020_opened_cc09.png']), array([  1.        , 108.03942046,   5.35171402,   2.        ,\n",
       "         1.58812825])),\n",
       "       (234, '/media/alessandro/DATA/tesi/Nebbia/pre-processed_data/270619/video4_017/trigger_thr0.005_cl9_op3/cc_filtered_2den0.81_gausrad2.0/', list(['mean_270619-video4_017-028_opened_cc07.png']), array([  1.        , 148.73524313,   7.53648607,   2.        ,\n",
       "         1.27703849])),\n",
       "       (235, '/media/alessandro/DATA/tesi/Nebbia/pre-processed_data/270619/video4_017/trigger_thr0.005_cl9_op3/cc_filtered_2den0.81_gausrad2.0/', list(['mean_270619-video4_017-028_opened_cc11.png']), array([ 1.        , 89.93860406,  8.56139594,  1.        ,  1.        ])),\n",
       "       (236, '/media/alessandro/DATA/tesi/Nebbia/pre-processed_data/270619/video4_018/trigger_thr0.005_cl9_op3/cc_filtered_2den0.81_gausrad2.0/', list(['mean_270619-video4_018-010_opened_cc10.png']), array([  1.        , 149.78637223,  11.46736204,   3.        ,\n",
       "         1.        ])),\n",
       "       (237, '/media/alessandro/DATA/tesi/Nebbia/pre-processed_data/270619/video4_018/trigger_thr0.005_cl9_op3/cc_filtered_2den0.81_gausrad2.0/', list(['mean_270619-video4_018-010_opened_cc35.png']), array([  1.        , 366.00155916,  11.91879543,   2.        ,\n",
       "         2.73677103])),\n",
       "       (238, '/media/alessandro/DATA/tesi/Nebbia/pre-processed_data/270619/video4_018/trigger_thr0.005_cl9_op3/cc_filtered_2den0.81_gausrad2.0/', list(['mean_270619-video4_018-010_opened_cc61.png']), array([  1.        , 121.77946452,   5.80863133,   2.        ,\n",
       "         1.3906079 ])),\n",
       "       (239, '/media/alessandro/DATA/tesi/Nebbia/pre-processed_data/270619/video4_018/trigger_thr0.005_cl9_op3/cc_filtered_2den0.81_gausrad2.0/', list(['mean_270619-video4_018-022_opened_cc01.png']), array([  1.        , 108.64551583,   8.85448417,   1.        ,\n",
       "         1.3175204 ])),\n",
       "       (240, '/media/alessandro/DATA/tesi/Nebbia/pre-processed_data/270619/video4_019/trigger_thr0.005_cl9_op3/cc_filtered_2den0.81_gausrad2.0/', list(['mean_270619-video4_019-008_opened_cc10.png']), array([ 1.        , 77.66071611,  9.58262414,  2.        ,  1.        ])),\n",
       "       (241, '/media/alessandro/DATA/tesi/Nebbia/pre-processed_data/270619/video4_019/trigger_thr0.005_cl9_op3/cc_filtered_2den0.81_gausrad2.0/', list(['mean_270619-video4_019-008_opened_cc15.png']), array([ 1.        , 86.76428443,  7.29648084,  2.        ,  1.54714374])),\n",
       "       (242, '/media/alessandro/DATA/tesi/Nebbia/pre-processed_data/270619/video4_019/trigger_thr0.005_cl9_op3/cc_filtered_2den0.81_gausrad2.0/', list(['mean_270619-video4_019-008_opened_cc38.png']), array([  1.        , 356.82603291,   5.45642681,   6.        ,\n",
       "         1.2789135 ])),\n",
       "       (243, '/media/alessandro/DATA/tesi/Nebbia/pre-processed_data/270619/video4_019/trigger_thr0.005_cl9_op3/cc_filtered_2den0.81_gausrad2.0/', list(['mean_270619-video4_019-009_opened_cc04.png']), array([  1.        , 107.50773134,  10.49226866,   1.        ,\n",
       "         1.16029801])),\n",
       "       (244, '/media/alessandro/DATA/tesi/Nebbia/pre-processed_data/270619/video4_019/trigger_thr0.005_cl9_op3/cc_filtered_2den0.81_gausrad2.0/', list(['mean_270619-video4_019-009_opened_cc18.png']), array([  1.        , 150.66264488,   7.66666667,   3.        ,\n",
       "         1.19913903])),\n",
       "       (245, '/media/alessandro/DATA/tesi/Nebbia/pre-processed_data/270619/video4_019/trigger_thr0.005_cl9_op3/cc_filtered_2den0.81_gausrad2.0/', list(['mean_270619-video4_019-010_opened_cc05.png']), array([  1.        , 553.04360823,   9.27883692,   8.        ,\n",
       "         1.83443077])),\n",
       "       (246, '/media/alessandro/DATA/tesi/Nebbia/pre-processed_data/270619/video4_019/trigger_thr0.005_cl9_op3/cc_filtered_2den0.81_gausrad2.0/', list(['mean_270619-video4_019-011_opened_cc01.png']), array([  1.        , 143.10399562,   3.66666667,   3.        ,\n",
       "         1.82139282])),\n",
       "       (247, '/media/alessandro/DATA/tesi/Nebbia/pre-processed_data/270619/video4_019/trigger_thr0.005_cl9_op3/cc_filtered_2den0.81_gausrad2.0/', list(['mean_270619-video4_019-011_opened_cc08.png']), array([  1.        , 206.93016932,   7.25200328,   3.        ,\n",
       "         1.62811011])),\n",
       "       (248, '/media/alessandro/DATA/tesi/Nebbia/pre-processed_data/270619/video4_019/trigger_thr0.005_cl9_op3/cc_filtered_2den0.81_gausrad2.0/', list(['mean_270619-video4_019-011_opened_cc71.png']), array([  1.        , 321.90818704,   8.16823101,   5.        ,\n",
       "         1.89406918])),\n",
       "       (249, '/media/alessandro/DATA/tesi/Nebbia/pre-processed_data/270619/video4_019/trigger_thr0.005_cl9_op3/cc_filtered_2den0.81_gausrad2.0/', list(['mean_270619-video4_019-016_opened_cc30.png', 'mean_270619-video4_019-017_opened_cc31.png', 'mean_270619-video4_019-018_opened_cc45.png']), array([  3.        , 180.7292674 ,  22.24195683,   1.66666667,\n",
       "         1.12311727])),\n",
       "       (250, '/media/alessandro/DATA/tesi/Nebbia/pre-processed_data/270619/video4_019/trigger_thr0.005_cl9_op3/cc_filtered_2den0.81_gausrad2.0/', list(['mean_270619-video4_019-016_opened_cc53.png']), array([ 1.        , 92.21326438, 12.28673562,  1.        ,  1.        ])),\n",
       "       (251, '/media/alessandro/DATA/tesi/Nebbia/pre-processed_data/270619/video4_019/trigger_thr0.005_cl9_op3/cc_filtered_2den0.81_gausrad2.0/', list(['mean_270619-video4_019-017_opened_cc15.png']), array([ 1.        , 80.42900652, 10.07099348,  1.        ,  1.27729469])),\n",
       "       (252, '/media/alessandro/DATA/tesi/Nebbia/pre-processed_data/270619/video4_019/trigger_thr0.005_cl9_op3/cc_filtered_2den0.81_gausrad2.0/', list(['mean_270619-video4_019-017_opened_cc68.png', 'mean_270619-video4_019-018_opened_cc90.png']), array([ 2.        , 97.382954  ,  8.23063004,  2.        ,  1.25627629])),\n",
       "       (253, '/media/alessandro/DATA/tesi/Nebbia/pre-processed_data/270619/video4_019/trigger_thr0.005_cl9_op3/cc_filtered_2den0.81_gausrad2.0/', list(['mean_270619-video4_019-018_opened_cc11.png']), array([ 1.        , 41.66809723,  2.83190277,  1.        ,  3.32547619])),\n",
       "       (254, '/media/alessandro/DATA/tesi/Nebbia/pre-processed_data/270619/video4_019/trigger_thr0.005_cl9_op3/cc_filtered_2den0.81_gausrad2.0/', list(['mean_270619-video4_019-009_opened_cc59.png']), array([  1.        , 170.7148811 ,  14.60020597,   2.        ,\n",
       "         1.40132799])),\n",
       "       (255, '/media/alessandro/DATA/tesi/Nebbia/pre-processed_data/270619/video4_019/trigger_thr0.005_cl9_op3/cc_filtered_2den0.81_gausrad2.0/', list(['mean_270619-video4_019-026_opened_cc08.png']), array([  1.        , 426.32335569,  11.83171525,   4.        ,\n",
       "         1.35199117])),\n",
       "       (256, '/media/alessandro/DATA/tesi/Nebbia/pre-processed_data/270619/video4_019/trigger_thr0.005_cl9_op3/cc_filtered_2den0.81_gausrad2.0/', list(['mean_270619-video4_019-026_opened_cc10.png']), array([  1.        , 106.35405729,   7.14594271,   1.        ,\n",
       "         1.08434262])),\n",
       "       (257, '/media/alessandro/DATA/tesi/Nebbia/pre-processed_data/270619/video4_019/trigger_thr0.005_cl9_op3/cc_filtered_2den0.81_gausrad2.0/', list(['mean_270619-video4_019-027_opened_cc05.png']), array([  1.        , 119.22020198,  12.27979802,   1.        ,\n",
       "         1.        ])),\n",
       "       (258, '/media/alessandro/DATA/tesi/Nebbia/pre-processed_data/270619/video4_019/trigger_thr0.005_cl9_op3/cc_filtered_2den0.81_gausrad2.0/', list(['mean_270619-video4_019-027_opened_cc14.png']), array([  1.        , 417.67925152,   7.82094518,   5.        ,\n",
       "         2.00786449])),\n",
       "       (259, '/media/alessandro/DATA/tesi/Nebbia/pre-processed_data/270619/video4_019/trigger_thr0.005_cl9_op3/cc_filtered_2den0.81_gausrad2.0/', list(['mean_270619-video4_019-038_opened_cc34.png']), array([  1.        , 139.61109273,   6.47502673,   3.        ,\n",
       "         1.38059734])),\n",
       "       (260, '/media/alessandro/DATA/tesi/Nebbia/pre-processed_data/270619/video4_019/trigger_thr0.005_cl9_op3/cc_filtered_2den0.81_gausrad2.0/', list(['mean_270619-video4_019-038_opened_cc56.png']), array([  1.        , 167.49850012,   9.71111303,   2.        ,\n",
       "         1.13203091])),\n",
       "       (261, '/media/alessandro/DATA/tesi/Nebbia/pre-processed_data/270619/video4_019/trigger_thr0.005_cl9_op3/cc_filtered_2den0.81_gausrad2.0/', list(['mean_270619-video4_019-038_opened_cc57.png']), array([  1.        , 292.66041939,  14.        ,   5.        ,\n",
       "         1.30050748])),\n",
       "       (262, '/media/alessandro/DATA/tesi/Nebbia/pre-processed_data/270619/video4_020/trigger_thr0.005_cl9_op3/cc_filtered_2den0.81_gausrad2.0/', list(['mean_270619-video4_020-004_opened_cc07.png']), array([  1.        , 202.8352522 ,   6.90747448,   5.        ,\n",
       "         1.18975701])),\n",
       "       (263, '/media/alessandro/DATA/tesi/Nebbia/pre-processed_data/270619/video4_020/trigger_thr0.005_cl9_op3/cc_filtered_2den0.81_gausrad2.0/', list(['mean_270619-video4_020-004_opened_cc08.png', 'mean_270619-video4_020-005_opened_cc11.png']), array([  2.        , 165.82185438,   8.33595727,   2.5       ,\n",
       "         1.28568666])),\n",
       "       (264, '/media/alessandro/DATA/tesi/Nebbia/pre-processed_data/270619/video4_020/trigger_thr0.005_cl9_op3/cc_filtered_2den0.81_gausrad2.0/', list(['mean_270619-video4_020-007_opened_cc12.png']), array([  1.        , 176.39232505,   9.42881274,   4.        ,\n",
       "         1.27085259])),\n",
       "       (265, '/media/alessandro/DATA/tesi/Nebbia/pre-processed_data/270619/video4_020/trigger_thr0.005_cl9_op3/cc_filtered_2den0.81_gausrad2.0/', list(['mean_270619-video4_020-007_opened_cc58.png']), array([  1.        , 440.20400342,  10.00790662,   6.        ,\n",
       "         1.81333648])),\n",
       "       (266, '/media/alessandro/DATA/tesi/Nebbia/pre-processed_data/270619/video4_020/trigger_thr0.005_cl9_op3/cc_filtered_2den0.81_gausrad2.0/', list(['mean_270619-video4_020-008_opened_cc01.png']), array([  1.        , 131.6150886 ,   4.98734583,   2.        ,\n",
       "         1.44631965])),\n",
       "       (267, '/media/alessandro/DATA/tesi/Nebbia/pre-processed_data/270619/video4_020/trigger_thr0.005_cl9_op3/cc_filtered_2den0.81_gausrad2.0/', list(['mean_270619-video4_020-008_opened_cc09.png']), array([  1.        , 188.81620209,   3.54203217,   3.        ,\n",
       "         1.38487713])),\n",
       "       (268, '/media/alessandro/DATA/tesi/Nebbia/pre-processed_data/270619/video4_020/trigger_thr0.005_cl9_op3/cc_filtered_2den0.81_gausrad2.0/', list(['mean_270619-video4_020-037_opened_cc20.png']), array([ 1.        , 64.62473176,  6.37526824,  1.        ,  1.4928424 ])),\n",
       "       (269, '/media/alessandro/DATA/tesi/Nebbia/pre-processed_data/270619/video4_020/trigger_thr0.005_cl9_op3/cc_filtered_2den0.81_gausrad2.0/', list(['mean_270619-video4_020-037_opened_cc24.png']), array([  1.        , 148.01643093,  10.21420688,   3.        ,\n",
       "         1.30129678])),\n",
       "       (270, '/media/alessandro/DATA/tesi/Nebbia/pre-processed_data/270619/video4_020/trigger_thr0.005_cl9_op3/cc_filtered_2den0.81_gausrad2.0/', list(['mean_270619-video4_020-037_opened_cc38.png']), array([  1.        , 839.00027534,   9.66853786,   6.        ,\n",
       "         1.67224124])),\n",
       "       (271, '/media/alessandro/DATA/tesi/Nebbia/pre-processed_data/270619/video4_020/trigger_thr0.005_cl9_op3/cc_filtered_2den0.81_gausrad2.0/', list(['mean_270619-video4_020-037_opened_cc39.png']), array([  1.        , 346.32117268,   7.526386  ,   5.        ,\n",
       "         2.10854181])),\n",
       "       (272, '/media/alessandro/DATA/tesi/Nebbia/pre-processed_data/270619/video4_020/trigger_thr0.005_cl9_op3/cc_filtered_2den0.81_gausrad2.0/', list(['mean_270619-video4_020-037_opened_cc44.png']), array([  1.        , 377.01222485,   5.40131295,   5.        ,\n",
       "         1.73708843])),\n",
       "       (273, '/media/alessandro/DATA/tesi/Nebbia/pre-processed_data/270619/video4_020/trigger_thr0.005_cl9_op3/cc_filtered_2den0.81_gausrad2.0/', list(['mean_270619-video4_020-037_opened_cc46.png']), array([  1.        , 251.98936819,   3.50817212,   5.        ,\n",
       "         1.60970393])),\n",
       "       (274, '/media/alessandro/DATA/tesi/Nebbia/pre-processed_data/270619/video4_020/trigger_thr0.005_cl9_op3/cc_filtered_2den0.81_gausrad2.0/', list(['mean_270619-video4_020-037_opened_cc88.png']), array([ 1.        , 94.33984677, 13.63437852,  2.        ,  1.        ])),\n",
       "       (275, '/media/alessandro/DATA/tesi/Nebbia/pre-processed_data/270619/video4_020/trigger_thr0.005_cl9_op3/cc_filtered_2den0.81_gausrad2.0/', list(['mean_270619-video4_020-044_opened_cc37.png']), array([ 1.        , 80.73372925,  7.76627075,  1.        ,  1.00917162])),\n",
       "       (276, '/media/alessandro/DATA/tesi/Nebbia/pre-processed_data/270619/video4_020/trigger_thr0.005_cl9_op3/cc_filtered_2den0.81_gausrad2.0/', list(['mean_270619-video4_020-046_opened_cc04.png']), array([  1.        , 416.36371313,  11.58166673,   5.        ,\n",
       "         1.69052528])),\n",
       "       (277, '/media/alessandro/DATA/tesi/Nebbia/pre-processed_data/270619/video4_020/trigger_thr0.005_cl9_op3/cc_filtered_2den0.81_gausrad2.0/', list(['mean_270619-video4_020-046_opened_cc47.png']), array([  1.        , 143.2142717 ,   1.48276681,   2.        ,\n",
       "         1.83037315])),\n",
       "       (278, '/media/alessandro/DATA/tesi/Nebbia/pre-processed_data/270619/video4_020/trigger_thr0.005_cl9_op3/cc_filtered_2den0.81_gausrad2.0/', list(['mean_270619-video4_020-005_opened_cc27.png']), array([  1.        , 228.66777125,  10.67787622,   4.        ,\n",
       "         1.35334807])),\n",
       "       (279, '/media/alessandro/DATA/tesi/Nebbia/pre-processed_data/270619/video4_020/trigger_thr0.005_cl9_op3/cc_filtered_2den0.81_gausrad2.0/', list(['mean_270619-video4_020-006_opened_cc10.png']), array([ 1.        , 44.92669822,  4.07330178,  1.        ,  1.51104838])),\n",
       "       (280, '/media/alessandro/DATA/tesi/Nebbia/pre-processed_data/270619/video4_020/trigger_thr0.005_cl9_op3/cc_filtered_2den0.81_gausrad2.0/', list(['mean_270619-video4_020-006_opened_cc46.png']), array([ 1.        , 57.81757676,  3.18242324,  1.        ,  2.45643345])),\n",
       "       (281, '/media/alessandro/DATA/tesi/Nebbia/pre-processed_data/270619/video4_020/trigger_thr0.005_cl9_op3/cc_filtered_2den0.81_gausrad2.0/', list(['mean_270619-video4_020-007_opened_cc02.png']), array([  1.        , 134.37487575,   8.62512425,   1.        ,\n",
       "         1.24160658])),\n",
       "       (282, '/media/alessandro/DATA/tesi/Nebbia/pre-processed_data/270619/video4_021/trigger_thr0.005_cl9_op3/cc_filtered_2den0.81_gausrad2.0/', list(['mean_270619-video4_021-027_opened_cc19.png']), array([  1.        , 167.07630049,   8.87600117,   3.        ,\n",
       "         1.07788918])),\n",
       "       (283, '/media/alessandro/DATA/tesi/Nebbia/pre-processed_data/270619/video4_021/trigger_thr0.005_cl9_op3/cc_filtered_2den0.81_gausrad2.0/', list(['mean_270619-video4_021-021_opened_cc26.png']), array([ 1.        , 78.39774004,  7.60225996,  1.        ,  1.51864036])),\n",
       "       (284, '/media/alessandro/DATA/tesi/Nebbia/pre-processed_data/270619/video4_021/trigger_thr0.005_cl9_op3/cc_filtered_2den0.81_gausrad2.0/', list(['mean_270619-video4_021-021_opened_cc47.png']), array([  1.        , 210.99495076,   8.64076311,   3.        ,\n",
       "         1.27835822])),\n",
       "       (285, '/media/alessandro/DATA/tesi/Nebbia/pre-processed_data/270619/video4_021/trigger_thr0.005_cl9_op3/cc_filtered_2den0.81_gausrad2.0/', list(['mean_270619-video4_021-027_opened_cc12.png']), array([ 1.        , 93.74349752,  7.04123565,  3.        ,  1.29353682])),\n",
       "       (286, '/media/alessandro/DATA/tesi/Nebbia/pre-processed_data/270619/video4_021/trigger_thr0.005_cl9_op3/cc_filtered_2den0.81_gausrad2.0/', list(['mean_270619-video4_021-027_opened_cc27.png']), array([  1.        , 242.81218133,   8.95777661,   3.        ,\n",
       "         1.5736201 ])),\n",
       "       (287, '/media/alessandro/DATA/tesi/Nebbia/pre-processed_data/270619/video4_021/trigger_thr0.005_cl9_op3/cc_filtered_2den0.81_gausrad2.0/', list(['mean_270619-video4_021-027_opened_cc36.png']), array([  1.        , 160.53752198,   2.14327608,   2.        ,\n",
       "         2.2122598 ])),\n",
       "       (288, '/media/alessandro/DATA/tesi/Nebbia/pre-processed_data/270619/video4_021/trigger_thr0.005_cl9_op3/cc_filtered_2den0.81_gausrad2.0/', list(['mean_270619-video4_021-027_opened_cc56.png']), array([  1.        , 176.38201698,  12.03965066,   3.        ,\n",
       "         1.00814416])),\n",
       "       (289, '/media/alessandro/DATA/tesi/Nebbia/pre-processed_data/270619/video4_021/trigger_thr0.005_cl9_op3/cc_filtered_2den0.81_gausrad2.0/', list(['mean_270619-video4_021-036_opened_cc14.png']), array([  1.        , 316.88139091,   8.29342584,   5.        ,\n",
       "         1.7311013 ])),\n",
       "       (290, '/media/alessandro/DATA/tesi/Nebbia/pre-processed_data/270619/video4_021/trigger_thr0.005_cl9_op3/cc_filtered_2den0.81_gausrad2.0/', list(['mean_270619-video4_021-036_opened_cc72.png']), array([  1.        , 448.44646444,  11.91588968,   6.        ,\n",
       "         1.60757251])),\n",
       "       (291, '/media/alessandro/DATA/tesi/Nebbia/pre-processed_data/270619/video4_022/trigger_thr0.005_cl9_op3/cc_filtered_2den0.81_gausrad2.0/', list(['mean_270619-video4_022-007_opened_cc07.png']), array([  1.        , 196.88010093,   1.98327062,   3.        ,\n",
       "         1.80867682])),\n",
       "       (292, '/media/alessandro/DATA/tesi/Nebbia/pre-processed_data/270619/video4_022/trigger_thr0.005_cl9_op3/cc_filtered_2den0.81_gausrad2.0/', list(['mean_270619-video4_022-012_opened_cc17.png']), array([  1.        , 238.69086806,   8.50833719,   5.        ,\n",
       "         1.39997654])),\n",
       "       (293, '/media/alessandro/DATA/tesi/Nebbia/pre-processed_data/270619/video4_022/trigger_thr0.005_cl9_op3/cc_filtered_2den0.81_gausrad2.0/', list(['mean_270619-video4_022-012_opened_cc63.png']), array([  1.        , 119.02218663,   5.8619057 ,   3.        ,\n",
       "         1.19839888])),\n",
       "       (294, '/media/alessandro/DATA/tesi/Nebbia/pre-processed_data/270619/video4_022/trigger_thr0.005_cl9_op3/cc_filtered_2den0.81_gausrad2.0/', list(['mean_270619-video4_022-012_opened_cc98.png']), array([ 1.        , 82.87041833, 14.87262687,  2.        ,  1.        ])),\n",
       "       (295, '/media/alessandro/DATA/tesi/Nebbia/pre-processed_data/270619/video4_022/trigger_thr0.005_cl9_op3/cc_filtered_2den0.81_gausrad2.0/', list(['mean_270619-video4_022-013_opened_cc13.png']), array([  1.        , 124.46628589,   2.72554121,   2.        ,\n",
       "         1.80518677])),\n",
       "       (296, '/media/alessandro/DATA/tesi/Nebbia/pre-processed_data/270619/video4_022/trigger_thr0.005_cl9_op3/cc_filtered_2den0.81_gausrad2.0/', list(['mean_270619-video4_022-013_opened_cc28.png']), array([  1.        , 100.46951978,   6.33333333,   3.        ,\n",
       "         1.19395244])),\n",
       "       (297, '/media/alessandro/DATA/tesi/Nebbia/pre-processed_data/270619/video4_022/trigger_thr0.005_cl9_op3/cc_filtered_2den0.81_gausrad2.0/', list(['mean_270619-video4_022-013_opened_cc29.png']), array([  1.        , 227.3787397 ,   3.36735509,   5.        ,\n",
       "         2.19918114])),\n",
       "       (298, '/media/alessandro/DATA/tesi/Nebbia/pre-processed_data/270619/video4_022/trigger_thr0.005_cl9_op3/cc_filtered_2den0.81_gausrad2.0/', list(['mean_270619-video4_022-013_opened_cc30.png']), array([  1.        , 305.62345455,   7.21599954,   6.        ,\n",
       "         1.58288269])),\n",
       "       (299, '/media/alessandro/DATA/tesi/Nebbia/pre-processed_data/270619/video4_022/trigger_thr0.005_cl9_op3/cc_filtered_2den0.81_gausrad2.0/', list(['mean_270619-video4_022-013_opened_cc48.png']), array([  1.        , 180.51925339,   6.43171415,   3.        ,\n",
       "         1.98576739])),\n",
       "       (300, '/media/alessandro/DATA/tesi/Nebbia/pre-processed_data/270619/video4_022/trigger_thr0.005_cl9_op3/cc_filtered_2den0.81_gausrad2.0/', list(['mean_270619-video4_022-013_opened_cc57.png', 'mean_270619-video4_022-014_opened_cc15.png']), array([  2.        , 116.19608244,  10.57423998,   1.5       ,\n",
       "         1.        ])),\n",
       "       (301, '/media/alessandro/DATA/tesi/Nebbia/pre-processed_data/270619/video4_022/trigger_thr0.005_cl9_op3/cc_filtered_2den0.81_gausrad2.0/', list(['mean_270619-video4_022-014_opened_cc01.png']), array([  1.        , 408.62306704,  10.8322791 ,   4.        ,\n",
       "         1.1437726 ])),\n",
       "       (302, '/media/alessandro/DATA/tesi/Nebbia/pre-processed_data/270619/video4_022/trigger_thr0.005_cl9_op3/cc_filtered_2den0.81_gausrad2.0/', list(['mean_270619-video4_022-019_opened_cc06.png']), array([  1.        , 279.93618641,   6.18050975,   6.        ,\n",
       "         1.5109848 ])),\n",
       "       (303, '/media/alessandro/DATA/tesi/Nebbia/pre-processed_data/270619/video4_022/trigger_thr0.005_cl9_op3/cc_filtered_2den0.81_gausrad2.0/', list(['mean_270619-video4_022-019_opened_cc18.png']), array([  1.        , 347.85146039,   7.4679474 ,   6.        ,\n",
       "         2.31648871])),\n",
       "       (304, '/media/alessandro/DATA/tesi/Nebbia/pre-processed_data/270619/video4_022/trigger_thr0.005_cl9_op3/cc_filtered_2den0.81_gausrad2.0/', list(['mean_270619-video4_022-013_opened_cc08.png']), array([  1.        , 261.4900052 ,  12.65258635,   3.        ,\n",
       "         1.52970454])),\n",
       "       (305, '/media/alessandro/DATA/tesi/Nebbia/pre-processed_data/270619/video4_022/trigger_thr0.005_cl9_op3/cc_filtered_2den0.81_gausrad2.0/', list(['mean_270619-video4_022-019_opened_cc83.png']), array([  1.        , 685.80503114,  13.29730997,   8.        ,\n",
       "         2.10912127])),\n",
       "       (306, '/media/alessandro/DATA/tesi/Nebbia/pre-processed_data/270619/video4_022/trigger_thr0.005_cl9_op3/cc_filtered_2den0.81_gausrad2.0/', list(['mean_270619-video4_022-020_opened_cc01.png']), array([1.00000000e+00, 1.08156162e+03, 7.71072946e+00, 9.00000000e+00,\n",
       "       2.30412780e+00])),\n",
       "       (307, '/media/alessandro/DATA/tesi/Nebbia/pre-processed_data/270619/video4_022/trigger_thr0.005_cl9_op3/cc_filtered_2den0.81_gausrad2.0/', list(['mean_270619-video4_022-020_opened_cc04.png']), array([ 1.        , 86.02860206,  7.04863555,  2.        ,  1.38737765])),\n",
       "       (308, '/media/alessandro/DATA/tesi/Nebbia/pre-processed_data/270619/video4_022/trigger_thr0.005_cl9_op3/cc_filtered_2den0.81_gausrad2.0/', list(['mean_270619-video4_022-020_opened_cc11.png']), array([  1.        , 168.634424  ,   7.34050345,   3.        ,\n",
       "         1.114246  ])),\n",
       "       (309, '/media/alessandro/DATA/tesi/Nebbia/pre-processed_data/270619/video4_022/trigger_thr0.005_cl9_op3/cc_filtered_2den0.81_gausrad2.0/', list(['mean_270619-video4_022-020_opened_cc26.png']), array([  1.        , 312.74779483,   7.66387736,   3.        ,\n",
       "         1.91898706])),\n",
       "       (310, '/media/alessandro/DATA/tesi/Nebbia/pre-processed_data/270619/video4_022/trigger_thr0.005_cl9_op3/cc_filtered_2den0.81_gausrad2.0/', list(['mean_270619-video4_022-020_opened_cc28.png']), array([  1.        , 144.81461988,   6.67262095,   4.        ,\n",
       "         1.30739803])),\n",
       "       (311, '/media/alessandro/DATA/tesi/Nebbia/pre-processed_data/270619/video4_022/trigger_thr0.005_cl9_op3/cc_filtered_2den0.81_gausrad2.0/', list(['mean_270619-video4_022-021_opened_cc12.png']), array([ 1.        , 85.76770311, 25.73229689,  1.        ,  1.        ])),\n",
       "       (312, '/media/alessandro/DATA/tesi/Nebbia/pre-processed_data/270619/video4_022/trigger_thr0.005_cl9_op3/cc_filtered_2den0.81_gausrad2.0/', list(['mean_270619-video4_022-021_opened_cc15.png']), array([ 1.        , 74.76517528,  4.73482472,  1.        ,  1.59909504])),\n",
       "       (313, '/media/alessandro/DATA/tesi/Nebbia/pre-processed_data/270619/video4_022/trigger_thr0.005_cl9_op3/cc_filtered_2den0.81_gausrad2.0/', list(['mean_270619-video4_022-022_opened_cc45.png']), array([  1.        , 178.65890792,   7.52560622,   2.        ,\n",
       "         1.21827366])),\n",
       "       (314, '/media/alessandro/DATA/tesi/Nebbia/pre-processed_data/270619/video4_022/trigger_thr0.005_cl9_op3/cc_filtered_2den0.81_gausrad2.0/', list(['mean_270619-video4_022-022_opened_cc57.png']), array([  1.        , 135.92503357,  10.41376829,   2.        ,\n",
       "         1.04465039])),\n",
       "       (315, '/media/alessandro/DATA/tesi/Nebbia/pre-processed_data/270619/video4_023/trigger_thr0.005_cl9_op3/cc_filtered_2den0.81_gausrad2.0/', list(['mean_270619-video4_023-004_opened_cc05.png', 'mean_270619-video4_023-005_opened_cc11.png', 'mean_270619-video4_023-006_opened_cc06.png']), array([  3.        , 120.37723273,  24.12276727,   1.        ,\n",
       "         1.00719642])),\n",
       "       (316, '/media/alessandro/DATA/tesi/Nebbia/pre-processed_data/270619/video4_023/trigger_thr0.005_cl9_op3/cc_filtered_2den0.81_gausrad2.0/', list(['mean_270619-video4_023-005_opened_cc05.png']), array([  1.        , 255.18054735,   6.0933611 ,   5.        ,\n",
       "         1.21282379])),\n",
       "       (317, '/media/alessandro/DATA/tesi/Nebbia/pre-processed_data/270619/video4_023/trigger_thr0.005_cl9_op3/cc_filtered_2den0.81_gausrad2.0/', list(['mean_270619-video4_023-005_opened_cc14.png']), array([  1.        , 300.30769629,   4.89931508,   5.        ,\n",
       "         2.13960374])),\n",
       "       (318, '/media/alessandro/DATA/tesi/Nebbia/pre-processed_data/270619/video4_023/trigger_thr0.005_cl9_op3/cc_filtered_2den0.81_gausrad2.0/', list(['mean_270619-video4_023-007_opened_cc08.png']), array([  1.        , 241.79660117,   5.71196455,   3.        ,\n",
       "         1.21469027])),\n",
       "       (319, '/media/alessandro/DATA/tesi/Nebbia/pre-processed_data/270619/video4_023/trigger_thr0.005_cl9_op3/cc_filtered_2den0.81_gausrad2.0/', list(['mean_270619-video4_023-008_opened_cc05.png']), array([  1.        , 147.28733949,  21.71266051,   1.        ,\n",
       "         1.01403995])),\n",
       "       (320, '/media/alessandro/DATA/tesi/Nebbia/pre-processed_data/270619/video4_023/trigger_thr0.005_cl9_op3/cc_filtered_2den0.81_gausrad2.0/', list(['mean_270619-video4_023-008_opened_cc15.png', 'mean_270619-video4_023-009_opened_cc09.png']), array([  2.        , 108.99158825,  10.00870059,   1.5       ,\n",
       "         1.04312916])),\n",
       "       (321, '/media/alessandro/DATA/tesi/Nebbia/pre-processed_data/270619/video4_023/trigger_thr0.005_cl9_op3/cc_filtered_2den0.81_gausrad2.0/', list(['mean_270619-video4_023-009_opened_cc08.png']), array([  1.        , 145.60396388,   9.24030335,   2.        ,\n",
       "         1.13721866])),\n",
       "       (322, '/media/alessandro/DATA/tesi/Nebbia/pre-processed_data/270619/video4_023/trigger_thr0.005_cl9_op3/cc_filtered_2den0.81_gausrad2.0/', list(['mean_270619-video4_023-041_opened_cc15.png', 'mean_270619-video4_023-042_opened_cc41.png', 'mean_270619-video4_023-043_opened_cc108.png', 'mean_270619-video4_023-044_opened_cc68.png']), array([4. , nan, nan, 1.5, nan])),\n",
       "       (323, '/media/alessandro/DATA/tesi/Nebbia/pre-processed_data/270619/video4_023/trigger_thr0.005_cl9_op3/cc_filtered_2den0.81_gausrad2.0/', list(['mean_270619-video4_023-043_opened_cc73.png']), array([  1.        , 109.24821516,  14.57208314,   2.        ,\n",
       "         1.16392875])),\n",
       "       (324, '/media/alessandro/DATA/tesi/Nebbia/pre-processed_data/270619/video4_023/trigger_thr0.005_cl9_op3/cc_filtered_2den0.81_gausrad2.0/', list(['mean_270619-video4_023-044_opened_cc34.png']), array([1.00000000e+00, 1.16374161e+03, 4.78769619e+00, 1.80000000e+01,\n",
       "       2.61973102e+00])),\n",
       "       (325, '/media/alessandro/DATA/tesi/Nebbia/pre-processed_data/270619/video4_023/trigger_thr0.005_cl9_op3/cc_filtered_2den0.81_gausrad2.0/', list(['mean_270619-video4_023-044_opened_cc50.png']), array([  1.        , 441.52266345,   6.46654568,   8.        ,\n",
       "         2.16638399])),\n",
       "       (326, '/media/alessandro/DATA/tesi/Nebbia/pre-processed_data/270619/video4_023/trigger_thr0.005_cl9_op3/cc_filtered_2den0.81_gausrad2.0/', list(['mean_270619-video4_023-044_opened_cc59.png']), array([ 1.        , 90.5207846 ,  7.35899607,  2.        ,  1.50513015])),\n",
       "       (327, '/media/alessandro/DATA/tesi/Nebbia/pre-processed_data/270619/video4_023/trigger_thr0.005_cl9_op3/cc_filtered_2den0.81_gausrad2.0/', list(['mean_270619-video4_023-006_opened_cc02.png']), array([  1.        , 138.69169325,   4.55365957,   3.        ,\n",
       "         1.81719898])),\n",
       "       (328, '/media/alessandro/DATA/tesi/Nebbia/pre-processed_data/270619/video4_023/trigger_thr0.005_cl9_op3/cc_filtered_2den0.81_gausrad2.0/', list(['mean_270619-video4_023-042_opened_cc02.png']), array([  1.        , 335.17608902,   7.5080157 ,   7.        ,\n",
       "         1.46152056])),\n",
       "       (329, '/media/alessandro/DATA/tesi/Nebbia/pre-processed_data/270619/video4_024/trigger_thr0.005_cl9_op3/cc_filtered_2den0.81_gausrad2.0/', list(['mean_270619-video4_024-016_opened_cc02.png']), array([1.00000000e+00, 1.00248999e+03, 7.02345084e+00, 1.10000000e+01,\n",
       "       1.85774711e+00])),\n",
       "       (330, '/media/alessandro/DATA/tesi/Nebbia/pre-processed_data/270619/video4_024/trigger_thr0.005_cl9_op3/cc_filtered_2den0.81_gausrad2.0/', list(['mean_270619-video4_024-030_opened_cc08.png']), array([  1.        , 117.65470485,  10.84529515,   1.        ,\n",
       "         1.06341027])),\n",
       "       (331, '/media/alessandro/DATA/tesi/Nebbia/pre-processed_data/270619/video4_024/trigger_thr0.005_cl9_op3/cc_filtered_2den0.81_gausrad2.0/', list(['mean_270619-video4_024-033_opened_cc07.png']), array([  1.        , 115.62485294,   9.37514706,   1.        ,\n",
       "         1.04836614])),\n",
       "       (332, '/media/alessandro/DATA/tesi/Nebbia/pre-processed_data/270619/video4_024/trigger_thr0.005_cl9_op3/cc_filtered_2den0.81_gausrad2.0/', list(['mean_270619-video4_024-033_opened_cc11.png']), array([ 1.        , 75.93743885, 12.06256115,  1.        ,  1.        ])),\n",
       "       (333, '/media/alessandro/DATA/tesi/Nebbia/pre-processed_data/270619/video4_024/trigger_thr0.005_cl9_op3/cc_filtered_2den0.81_gausrad2.0/', list(['mean_270619-video4_024-033_opened_cc12.png']), array([  1.        , 109.15282291,  10.84717709,   1.        ,\n",
       "         1.01692725])),\n",
       "       (334, '/media/alessandro/DATA/tesi/Nebbia/pre-processed_data/270619/video4_024/trigger_thr0.005_cl9_op3/cc_filtered_2den0.81_gausrad2.0/', list(['mean_270619-video4_024-033_opened_cc13.png']), array([  1.        , 148.20822786,  10.1071257 ,   3.        ,\n",
       "         1.18441574])),\n",
       "       (335, '/media/alessandro/DATA/tesi/Nebbia/pre-processed_data/270619/video4_024/trigger_thr0.005_cl9_op3/cc_filtered_2den0.81_gausrad2.0/', list(['mean_270619-video4_024-034_opened_cc05.png']), array([  1.        , 240.03589905,  12.43962617,   2.        ,\n",
       "         1.        ])),\n",
       "       (336, '/media/alessandro/DATA/tesi/Nebbia/pre-processed_data/270619/video4_024/trigger_thr0.005_cl9_op3/cc_filtered_2den0.81_gausrad2.0/', list(['mean_270619-video4_024-037_opened_cc06.png']), array([  1.        , 103.81484476,  12.18515524,   1.        ,\n",
       "         1.01990242])),\n",
       "       (337, '/media/alessandro/DATA/tesi/Nebbia/pre-processed_data/270619/video4_025/trigger_thr0.005_cl9_op3/cc_filtered_2den0.81_gausrad2.0/', list(['mean_270619-video4_025-003_opened_cc04.png']), array([ 1.        , 99.32848459,  7.67151541,  1.        ,  1.44793094])),\n",
       "       (338, '/media/alessandro/DATA/tesi/Nebbia/pre-processed_data/270619/video4_025/trigger_thr0.005_cl9_op3/cc_filtered_2den0.81_gausrad2.0/', list(['mean_270619-video4_025-011_opened_cc21.png']), array([  1.        , 252.45702149,   5.6749856 ,   4.        ,\n",
       "         2.66513136])),\n",
       "       (339, '/media/alessandro/DATA/tesi/Nebbia/pre-processed_data/270619/video4_025/trigger_thr0.005_cl9_op3/cc_filtered_2den0.81_gausrad2.0/', list(['mean_270619-video4_025-011_opened_cc54.png']), array([  1.        , 139.33863397,   7.43481152,   3.        ,\n",
       "         1.45802449])),\n",
       "       (340, '/media/alessandro/DATA/tesi/Nebbia/pre-processed_data/270619/video4_025/trigger_thr0.005_cl9_op3/cc_filtered_2den0.81_gausrad2.0/', list(['mean_270619-video4_025-037_opened_cc03.png']), array([ 1.        , 88.20409589,  8.9094224 ,  2.        ,  1.07470115])),\n",
       "       (341, '/media/alessandro/DATA/tesi/Nebbia/pre-processed_data/270619/video4_025/trigger_thr0.005_cl9_op3/cc_filtered_2den0.81_gausrad2.0/', list(['mean_270619-video4_025-040_opened_cc01.png']), array([1.00000000e+00, 1.63272126e+03, 7.62859019e+00, 2.30000000e+01,\n",
       "       2.97734696e+00])),\n",
       "       (342, '/media/alessandro/DATA/tesi/Nebbia/pre-processed_data/270619/video4_025/trigger_thr0.005_cl9_op3/cc_filtered_2den0.81_gausrad2.0/', list(['mean_270619-video4_025-040_opened_cc15.png']), array([  1.        , 196.48010863,   2.79523404,   3.        ,\n",
       "         1.91154197])),\n",
       "       (343, '/media/alessandro/DATA/tesi/Nebbia/pre-processed_data/270619/video4_025/trigger_thr0.005_cl9_op3/cc_filtered_2den0.81_gausrad2.0/', list(['mean_270619-video4_025-040_opened_cc32.png']), array([  1.        , 133.78125417,   3.61845853,   3.        ,\n",
       "         1.86582738])),\n",
       "       (344, '/media/alessandro/DATA/tesi/Nebbia/pre-processed_data/270619/video4_025/trigger_thr0.005_cl9_op3/cc_filtered_2den0.81_gausrad2.0/', list(['mean_270619-video4_025-040_opened_cc61.png']), array([  1.        , 101.37276276,   8.46743741,   3.        ,\n",
       "         1.54091136])),\n",
       "       (345, '/media/alessandro/DATA/tesi/Nebbia/pre-processed_data/270619/video4_026/trigger_thr0.005_cl9_op3/cc_filtered_2den0.81_gausrad2.0/', list(['mean_270619-video4_026-016_opened_cc09.png']), array([ 1.        , 39.03121954,  6.96878046,  1.        ,  1.17844361])),\n",
       "       (346, '/media/alessandro/DATA/tesi/Nebbia/pre-processed_data/270619/video4_026/trigger_thr0.005_cl9_op3/cc_filtered_2den0.81_gausrad2.0/', list(['mean_270619-video4_026-016_opened_cc60.png', 'mean_270619-video4_026-017_opened_cc35.png']), array([  2.        , 148.60391686,   8.26919997,   2.        ,\n",
       "         1.09536016])),\n",
       "       (347, '/media/alessandro/DATA/tesi/Nebbia/pre-processed_data/270619/video4_026/trigger_thr0.005_cl9_op3/cc_filtered_2den0.81_gausrad2.0/', list(['mean_270619-video4_026-016_opened_cc76.png']), array([  1.        , 362.12354421,   5.98109761,   6.        ,\n",
       "         1.75794342])),\n",
       "       (348, '/media/alessandro/DATA/tesi/Nebbia/pre-processed_data/270619/video4_026/trigger_thr0.005_cl9_op3/cc_filtered_2den0.81_gausrad2.0/', list(['mean_270619-video4_026-016_opened_cc84.png']), array([  1.        , 119.54979041,   3.56088625,   2.        ,\n",
       "         1.71681195])),\n",
       "       (349, '/media/alessandro/DATA/tesi/Nebbia/pre-processed_data/270619/video4_026/trigger_thr0.005_cl9_op3/cc_filtered_2den0.81_gausrad2.0/', list(['mean_270619-video4_026-018_opened_cc11.png']), array([  1.        , 111.42037688,  15.49600051,   2.        ,\n",
       "         1.        ])),\n",
       "       (350, '/media/alessandro/DATA/tesi/Nebbia/pre-processed_data/270619/video4_026/trigger_thr0.005_cl9_op3/cc_filtered_2den0.81_gausrad2.0/', list(['mean_270619-video4_026-021_opened_cc79.png']), array([  1.        , 223.7255429 ,   8.37250018,   3.        ,\n",
       "         1.26457154])),\n",
       "       (351, '/media/alessandro/DATA/tesi/Nebbia/pre-processed_data/270619/video4_026/trigger_thr0.005_cl9_op3/cc_filtered_2den0.81_gausrad2.0/', list(['mean_270619-video4_026-021_opened_cc82.png']), array([  1.        , 255.02368001,   8.52281147,   3.        ,\n",
       "         1.28791626])),\n",
       "       (352, '/media/alessandro/DATA/tesi/Nebbia/pre-processed_data/270619/video4_026/trigger_thr0.005_cl9_op3/cc_filtered_2den0.81_gausrad2.0/', list(['mean_270619-video4_026-031_opened_cc10.png']), array([  1.        , 995.94175653,  13.33056535,   8.        ,\n",
       "         2.27111253])),\n",
       "       (353, '/media/alessandro/DATA/tesi/Nebbia/pre-processed_data/270619/video4_026/trigger_thr0.005_cl9_op3/cc_filtered_2den0.81_gausrad2.0/', list(['mean_270619-video4_026-031_opened_cc18.png']), array([  1.        , 137.81839276,   9.17972504,   3.        ,\n",
       "         1.03766673])),\n",
       "       (354, '/media/alessandro/DATA/tesi/Nebbia/pre-processed_data/270619/video4_026/trigger_thr0.005_cl9_op3/cc_filtered_2den0.81_gausrad2.0/', list(['mean_270619-video4_026-037_opened_cc20.png']), array([  1.        , 168.40660644,   8.79585023,   2.        ,\n",
       "         1.28044574])),\n",
       "       (355, '/media/alessandro/DATA/tesi/Nebbia/pre-processed_data/270619/video4_026/trigger_thr0.005_cl9_op3/cc_filtered_2den0.81_gausrad2.0/', list(['mean_270619-video4_026-016_opened_cc25.png']), array([  1.        , 306.97429419,   7.60121707,   4.        ,\n",
       "         1.92624179])),\n",
       "       (356, '/media/alessandro/DATA/tesi/Nebbia/pre-processed_data/270619/video4_027/trigger_thr0.005_cl9_op3/cc_filtered_2den0.81_gausrad2.0/', list(['mean_270619-video4_027-011_opened_cc26.png']), array([  1.        , 124.61460885,   6.606309  ,   3.        ,\n",
       "         1.20797329])),\n",
       "       (357, '/media/alessandro/DATA/tesi/Nebbia/pre-processed_data/270619/video4_027/trigger_thr0.005_cl9_op3/cc_filtered_2den0.81_gausrad2.0/', list(['mean_270619-video4_027-034_opened_cc04.png', 'mean_270619-video4_027-035_opened_cc04.png']), array([  2.        , 216.04088012,   8.99351295,   2.        ,\n",
       "         1.12062724])),\n",
       "       (358, '/media/alessandro/DATA/tesi/Nebbia/pre-processed_data/270619/video4_027/trigger_thr0.005_cl9_op3/cc_filtered_2den0.81_gausrad2.0/', list(['mean_270619-video4_027-035_opened_cc16.png']), array([  1.        , 117.39895008,   8.02823639,   3.        ,\n",
       "         1.03864411])),\n",
       "       (359, '/media/alessandro/DATA/tesi/Nebbia/pre-processed_data/270619/video4_027/trigger_thr0.005_cl9_op3/cc_filtered_2den0.81_gausrad2.0/', list(['mean_270619-video4_027-043_opened_cc66.png']), array([  1.        , 204.15588086,  11.80877402,   2.        ,\n",
       "         1.17759595])),\n",
       "       (360, '/media/alessandro/DATA/tesi/Nebbia/pre-processed_data/270619/video4_027/trigger_thr0.005_cl9_op3/cc_filtered_2den0.81_gausrad2.0/', list(['mean_270619-video4_027-048_opened_cc19.png']), array([  1.        , 108.61468162,  10.11157216,   3.        ,\n",
       "         1.09706203])),\n",
       "       (361, '/media/alessandro/DATA/tesi/Nebbia/pre-processed_data/270619/video4_028/trigger_thr0.005_cl9_op3/cc_filtered_2den0.81_gausrad2.0/', list(['mean_270619-video4_028-007_opened_cc06.png']), array([  1.        , 694.14423131,   7.21309048,  11.        ,\n",
       "         2.13002851])),\n",
       "       (362, '/media/alessandro/DATA/tesi/Nebbia/pre-processed_data/270619/video4_028/trigger_thr0.005_cl9_op3/cc_filtered_2den0.81_gausrad2.0/', list(['mean_270619-video4_028-007_opened_cc16.png']), array([ 1.        , 89.17329305,  5.32670695,  1.        ,  1.6267191 ])),\n",
       "       (363, '/media/alessandro/DATA/tesi/Nebbia/pre-processed_data/270619/video4_028/trigger_thr0.005_cl9_op3/cc_filtered_2den0.81_gausrad2.0/', list(['mean_270619-video4_028-007_opened_cc24.png']), array([  1.        , 257.7803274 ,   5.00666815,   5.        ,\n",
       "         1.44526491])),\n",
       "       (364, '/media/alessandro/DATA/tesi/Nebbia/pre-processed_data/270619/video4_028/trigger_thr0.005_cl9_op3/cc_filtered_2den0.81_gausrad2.0/', list(['mean_270619-video4_028-007_opened_cc28.png', 'mean_270619-video4_028-008_opened_cc06.png']), array([  2.        , 124.68171378,  16.56828622,   1.        ,\n",
       "         1.        ])),\n",
       "       (365, '/media/alessandro/DATA/tesi/Nebbia/pre-processed_data/270619/video4_028/trigger_thr0.005_cl9_op3/cc_filtered_2den0.81_gausrad2.0/', list(['mean_270619-video4_028-007_opened_cc56.png']), array([  1.        , 124.44053962,   8.85810167,   3.        ,\n",
       "         1.34211096])),\n",
       "       (366, '/media/alessandro/DATA/tesi/Nebbia/pre-processed_data/270619/video4_028/trigger_thr0.005_cl9_op3/cc_filtered_2den0.81_gausrad2.0/', list(['mean_270619-video4_028-010_opened_cc38.png']), array([  1.        , 670.08348179,   4.84640638,  12.        ,\n",
       "         2.58758068])),\n",
       "       (367, '/media/alessandro/DATA/tesi/Nebbia/pre-processed_data/270619/video4_028/trigger_thr0.005_cl9_op3/cc_filtered_2den0.81_gausrad2.0/', list(['mean_270619-video4_028-010_opened_cc44.png']), array([  1.        , 107.29995312,   3.83147125,   2.        ,\n",
       "         1.65468958])),\n",
       "       (368, '/media/alessandro/DATA/tesi/Nebbia/pre-processed_data/270619/video4_028/trigger_thr0.005_cl9_op3/cc_filtered_2den0.81_gausrad2.0/', list(['mean_270619-video4_028-011_opened_cc03.png']), array([  1.        , 894.92582224,  12.30343382,   4.        ,\n",
       "         1.65883518]))],\n",
       "      dtype=[('ID', '<i8'), ('path', '<U200'), ('names', 'O'), ('values', 'O')])"
      ]
     },
     "execution_count": 18,
     "metadata": {},
     "output_type": "execute_result"
    }
   ],
   "source": [
    "d.slim_particles"
   ]
  },
  {
   "cell_type": "code",
   "execution_count": 41,
   "metadata": {
    "scrolled": false
   },
   "outputs": [
    {
     "name": "stdout",
     "output_type": "stream",
     "text": [
      "Help on method plot in module Clusterizer:\n",
      "\n",
      "plot(labels=[]) method of Clusterizer.Clusterizer instance\n",
      "    Before running this function type\n",
      "    \n",
      "        %matplotlib notebook\n",
      "        \n",
      "    Use the lists to select axis\n",
      "    \n",
      "    Click near a data point to select it:\n",
      "        press 'f' to view its pre-processed Frame picture\n",
      "        press 't' to view its Trace analysis (takes a bit of time)\n",
      "        press 'n' to go to the Next trace of that particle\n",
      "        press 'r' to Recall the selected particle after you changed the axis\n",
      "        press 'e' to view its frame from the vidEo\n",
      "        press 'a' to highlight All components in the same video frame of the selected particle\n",
      "        press 'w' to close (Waste) all figures windows \n",
      "        press 'b' to change the laBel of the selected particle\n",
      "        press 's' to Save the capacitor\n",
      "        \n",
      "    If you want to use diffrent labels for the data point run plot(labels=<mylabels>)\n",
      "\n"
     ]
    }
   ],
   "source": [
    "help(d.plot)"
   ]
  },
  {
   "cell_type": "code",
   "execution_count": 16,
   "metadata": {},
   "outputs": [
    {
     "data": {
      "application/vnd.jupyter.widget-view+json": {
       "model_id": "95bcfe3b2887400881b4d5d9ec4351ab"
      }
     },
     "metadata": {},
     "output_type": "display_data"
    }
   ],
   "source": [
    "%matplotlib notebook\n",
    "d.plot()"
   ]
  },
  {
   "cell_type": "code",
   "execution_count": 24,
   "metadata": {},
   "outputs": [
    {
     "data": {
      "text/plain": [
       "array([45,  2,  3])"
      ]
     },
     "execution_count": 24,
     "metadata": {},
     "output_type": "execute_result"
    }
   ],
   "source": [
    "a = [1,2,3]\n",
    "b = np.copy(a)\n",
    "b[0] = 45\n",
    "b"
   ]
  },
  {
   "cell_type": "code",
   "execution_count": 20,
   "metadata": {
    "scrolled": false
   },
   "outputs": [
    {
     "data": {
      "application/javascript": [
       "/* Put everything inside the global mpl namespace */\n",
       "window.mpl = {};\n",
       "\n",
       "\n",
       "mpl.get_websocket_type = function() {\n",
       "    if (typeof(WebSocket) !== 'undefined') {\n",
       "        return WebSocket;\n",
       "    } else if (typeof(MozWebSocket) !== 'undefined') {\n",
       "        return MozWebSocket;\n",
       "    } else {\n",
       "        alert('Your browser does not have WebSocket support.' +\n",
       "              'Please try Chrome, Safari or Firefox ≥ 6. ' +\n",
       "              'Firefox 4 and 5 are also supported but you ' +\n",
       "              'have to enable WebSockets in about:config.');\n",
       "    };\n",
       "}\n",
       "\n",
       "mpl.figure = function(figure_id, websocket, ondownload, parent_element) {\n",
       "    this.id = figure_id;\n",
       "\n",
       "    this.ws = websocket;\n",
       "\n",
       "    this.supports_binary = (this.ws.binaryType != undefined);\n",
       "\n",
       "    if (!this.supports_binary) {\n",
       "        var warnings = document.getElementById(\"mpl-warnings\");\n",
       "        if (warnings) {\n",
       "            warnings.style.display = 'block';\n",
       "            warnings.textContent = (\n",
       "                \"This browser does not support binary websocket messages. \" +\n",
       "                    \"Performance may be slow.\");\n",
       "        }\n",
       "    }\n",
       "\n",
       "    this.imageObj = new Image();\n",
       "\n",
       "    this.context = undefined;\n",
       "    this.message = undefined;\n",
       "    this.canvas = undefined;\n",
       "    this.rubberband_canvas = undefined;\n",
       "    this.rubberband_context = undefined;\n",
       "    this.format_dropdown = undefined;\n",
       "\n",
       "    this.image_mode = 'full';\n",
       "\n",
       "    this.root = $('<div/>');\n",
       "    this._root_extra_style(this.root)\n",
       "    this.root.attr('style', 'display: inline-block');\n",
       "\n",
       "    $(parent_element).append(this.root);\n",
       "\n",
       "    this._init_header(this);\n",
       "    this._init_canvas(this);\n",
       "    this._init_toolbar(this);\n",
       "\n",
       "    var fig = this;\n",
       "\n",
       "    this.waiting = false;\n",
       "\n",
       "    this.ws.onopen =  function () {\n",
       "            fig.send_message(\"supports_binary\", {value: fig.supports_binary});\n",
       "            fig.send_message(\"send_image_mode\", {});\n",
       "            if (mpl.ratio != 1) {\n",
       "                fig.send_message(\"set_dpi_ratio\", {'dpi_ratio': mpl.ratio});\n",
       "            }\n",
       "            fig.send_message(\"refresh\", {});\n",
       "        }\n",
       "\n",
       "    this.imageObj.onload = function() {\n",
       "            if (fig.image_mode == 'full') {\n",
       "                // Full images could contain transparency (where diff images\n",
       "                // almost always do), so we need to clear the canvas so that\n",
       "                // there is no ghosting.\n",
       "                fig.context.clearRect(0, 0, fig.canvas.width, fig.canvas.height);\n",
       "            }\n",
       "            fig.context.drawImage(fig.imageObj, 0, 0);\n",
       "        };\n",
       "\n",
       "    this.imageObj.onunload = function() {\n",
       "        fig.ws.close();\n",
       "    }\n",
       "\n",
       "    this.ws.onmessage = this._make_on_message_function(this);\n",
       "\n",
       "    this.ondownload = ondownload;\n",
       "}\n",
       "\n",
       "mpl.figure.prototype._init_header = function() {\n",
       "    var titlebar = $(\n",
       "        '<div class=\"ui-dialog-titlebar ui-widget-header ui-corner-all ' +\n",
       "        'ui-helper-clearfix\"/>');\n",
       "    var titletext = $(\n",
       "        '<div class=\"ui-dialog-title\" style=\"width: 100%; ' +\n",
       "        'text-align: center; padding: 3px;\"/>');\n",
       "    titlebar.append(titletext)\n",
       "    this.root.append(titlebar);\n",
       "    this.header = titletext[0];\n",
       "}\n",
       "\n",
       "\n",
       "\n",
       "mpl.figure.prototype._canvas_extra_style = function(canvas_div) {\n",
       "\n",
       "}\n",
       "\n",
       "\n",
       "mpl.figure.prototype._root_extra_style = function(canvas_div) {\n",
       "\n",
       "}\n",
       "\n",
       "mpl.figure.prototype._init_canvas = function() {\n",
       "    var fig = this;\n",
       "\n",
       "    var canvas_div = $('<div/>');\n",
       "\n",
       "    canvas_div.attr('style', 'position: relative; clear: both; outline: 0');\n",
       "\n",
       "    function canvas_keyboard_event(event) {\n",
       "        return fig.key_event(event, event['data']);\n",
       "    }\n",
       "\n",
       "    canvas_div.keydown('key_press', canvas_keyboard_event);\n",
       "    canvas_div.keyup('key_release', canvas_keyboard_event);\n",
       "    this.canvas_div = canvas_div\n",
       "    this._canvas_extra_style(canvas_div)\n",
       "    this.root.append(canvas_div);\n",
       "\n",
       "    var canvas = $('<canvas/>');\n",
       "    canvas.addClass('mpl-canvas');\n",
       "    canvas.attr('style', \"left: 0; top: 0; z-index: 0; outline: 0\")\n",
       "\n",
       "    this.canvas = canvas[0];\n",
       "    this.context = canvas[0].getContext(\"2d\");\n",
       "\n",
       "    var backingStore = this.context.backingStorePixelRatio ||\n",
       "\tthis.context.webkitBackingStorePixelRatio ||\n",
       "\tthis.context.mozBackingStorePixelRatio ||\n",
       "\tthis.context.msBackingStorePixelRatio ||\n",
       "\tthis.context.oBackingStorePixelRatio ||\n",
       "\tthis.context.backingStorePixelRatio || 1;\n",
       "\n",
       "    mpl.ratio = (window.devicePixelRatio || 1) / backingStore;\n",
       "\n",
       "    var rubberband = $('<canvas/>');\n",
       "    rubberband.attr('style', \"position: absolute; left: 0; top: 0; z-index: 1;\")\n",
       "\n",
       "    var pass_mouse_events = true;\n",
       "\n",
       "    canvas_div.resizable({\n",
       "        start: function(event, ui) {\n",
       "            pass_mouse_events = false;\n",
       "        },\n",
       "        resize: function(event, ui) {\n",
       "            fig.request_resize(ui.size.width, ui.size.height);\n",
       "        },\n",
       "        stop: function(event, ui) {\n",
       "            pass_mouse_events = true;\n",
       "            fig.request_resize(ui.size.width, ui.size.height);\n",
       "        },\n",
       "    });\n",
       "\n",
       "    function mouse_event_fn(event) {\n",
       "        if (pass_mouse_events)\n",
       "            return fig.mouse_event(event, event['data']);\n",
       "    }\n",
       "\n",
       "    rubberband.mousedown('button_press', mouse_event_fn);\n",
       "    rubberband.mouseup('button_release', mouse_event_fn);\n",
       "    // Throttle sequential mouse events to 1 every 20ms.\n",
       "    rubberband.mousemove('motion_notify', mouse_event_fn);\n",
       "\n",
       "    rubberband.mouseenter('figure_enter', mouse_event_fn);\n",
       "    rubberband.mouseleave('figure_leave', mouse_event_fn);\n",
       "\n",
       "    canvas_div.on(\"wheel\", function (event) {\n",
       "        event = event.originalEvent;\n",
       "        event['data'] = 'scroll'\n",
       "        if (event.deltaY < 0) {\n",
       "            event.step = 1;\n",
       "        } else {\n",
       "            event.step = -1;\n",
       "        }\n",
       "        mouse_event_fn(event);\n",
       "    });\n",
       "\n",
       "    canvas_div.append(canvas);\n",
       "    canvas_div.append(rubberband);\n",
       "\n",
       "    this.rubberband = rubberband;\n",
       "    this.rubberband_canvas = rubberband[0];\n",
       "    this.rubberband_context = rubberband[0].getContext(\"2d\");\n",
       "    this.rubberband_context.strokeStyle = \"#000000\";\n",
       "\n",
       "    this._resize_canvas = function(width, height) {\n",
       "        // Keep the size of the canvas, canvas container, and rubber band\n",
       "        // canvas in synch.\n",
       "        canvas_div.css('width', width)\n",
       "        canvas_div.css('height', height)\n",
       "\n",
       "        canvas.attr('width', width * mpl.ratio);\n",
       "        canvas.attr('height', height * mpl.ratio);\n",
       "        canvas.attr('style', 'width: ' + width + 'px; height: ' + height + 'px;');\n",
       "\n",
       "        rubberband.attr('width', width);\n",
       "        rubberband.attr('height', height);\n",
       "    }\n",
       "\n",
       "    // Set the figure to an initial 600x600px, this will subsequently be updated\n",
       "    // upon first draw.\n",
       "    this._resize_canvas(600, 600);\n",
       "\n",
       "    // Disable right mouse context menu.\n",
       "    $(this.rubberband_canvas).bind(\"contextmenu\",function(e){\n",
       "        return false;\n",
       "    });\n",
       "\n",
       "    function set_focus () {\n",
       "        canvas.focus();\n",
       "        canvas_div.focus();\n",
       "    }\n",
       "\n",
       "    window.setTimeout(set_focus, 100);\n",
       "}\n",
       "\n",
       "mpl.figure.prototype._init_toolbar = function() {\n",
       "    var fig = this;\n",
       "\n",
       "    var nav_element = $('<div/>')\n",
       "    nav_element.attr('style', 'width: 100%');\n",
       "    this.root.append(nav_element);\n",
       "\n",
       "    // Define a callback function for later on.\n",
       "    function toolbar_event(event) {\n",
       "        return fig.toolbar_button_onclick(event['data']);\n",
       "    }\n",
       "    function toolbar_mouse_event(event) {\n",
       "        return fig.toolbar_button_onmouseover(event['data']);\n",
       "    }\n",
       "\n",
       "    for(var toolbar_ind in mpl.toolbar_items) {\n",
       "        var name = mpl.toolbar_items[toolbar_ind][0];\n",
       "        var tooltip = mpl.toolbar_items[toolbar_ind][1];\n",
       "        var image = mpl.toolbar_items[toolbar_ind][2];\n",
       "        var method_name = mpl.toolbar_items[toolbar_ind][3];\n",
       "\n",
       "        if (!name) {\n",
       "            // put a spacer in here.\n",
       "            continue;\n",
       "        }\n",
       "        var button = $('<button/>');\n",
       "        button.addClass('ui-button ui-widget ui-state-default ui-corner-all ' +\n",
       "                        'ui-button-icon-only');\n",
       "        button.attr('role', 'button');\n",
       "        button.attr('aria-disabled', 'false');\n",
       "        button.click(method_name, toolbar_event);\n",
       "        button.mouseover(tooltip, toolbar_mouse_event);\n",
       "\n",
       "        var icon_img = $('<span/>');\n",
       "        icon_img.addClass('ui-button-icon-primary ui-icon');\n",
       "        icon_img.addClass(image);\n",
       "        icon_img.addClass('ui-corner-all');\n",
       "\n",
       "        var tooltip_span = $('<span/>');\n",
       "        tooltip_span.addClass('ui-button-text');\n",
       "        tooltip_span.html(tooltip);\n",
       "\n",
       "        button.append(icon_img);\n",
       "        button.append(tooltip_span);\n",
       "\n",
       "        nav_element.append(button);\n",
       "    }\n",
       "\n",
       "    var fmt_picker_span = $('<span/>');\n",
       "\n",
       "    var fmt_picker = $('<select/>');\n",
       "    fmt_picker.addClass('mpl-toolbar-option ui-widget ui-widget-content');\n",
       "    fmt_picker_span.append(fmt_picker);\n",
       "    nav_element.append(fmt_picker_span);\n",
       "    this.format_dropdown = fmt_picker[0];\n",
       "\n",
       "    for (var ind in mpl.extensions) {\n",
       "        var fmt = mpl.extensions[ind];\n",
       "        var option = $(\n",
       "            '<option/>', {selected: fmt === mpl.default_extension}).html(fmt);\n",
       "        fmt_picker.append(option)\n",
       "    }\n",
       "\n",
       "    // Add hover states to the ui-buttons\n",
       "    $( \".ui-button\" ).hover(\n",
       "        function() { $(this).addClass(\"ui-state-hover\");},\n",
       "        function() { $(this).removeClass(\"ui-state-hover\");}\n",
       "    );\n",
       "\n",
       "    var status_bar = $('<span class=\"mpl-message\"/>');\n",
       "    nav_element.append(status_bar);\n",
       "    this.message = status_bar[0];\n",
       "}\n",
       "\n",
       "mpl.figure.prototype.request_resize = function(x_pixels, y_pixels) {\n",
       "    // Request matplotlib to resize the figure. Matplotlib will then trigger a resize in the client,\n",
       "    // which will in turn request a refresh of the image.\n",
       "    this.send_message('resize', {'width': x_pixels, 'height': y_pixels});\n",
       "}\n",
       "\n",
       "mpl.figure.prototype.send_message = function(type, properties) {\n",
       "    properties['type'] = type;\n",
       "    properties['figure_id'] = this.id;\n",
       "    this.ws.send(JSON.stringify(properties));\n",
       "}\n",
       "\n",
       "mpl.figure.prototype.send_draw_message = function() {\n",
       "    if (!this.waiting) {\n",
       "        this.waiting = true;\n",
       "        this.ws.send(JSON.stringify({type: \"draw\", figure_id: this.id}));\n",
       "    }\n",
       "}\n",
       "\n",
       "\n",
       "mpl.figure.prototype.handle_save = function(fig, msg) {\n",
       "    var format_dropdown = fig.format_dropdown;\n",
       "    var format = format_dropdown.options[format_dropdown.selectedIndex].value;\n",
       "    fig.ondownload(fig, format);\n",
       "}\n",
       "\n",
       "\n",
       "mpl.figure.prototype.handle_resize = function(fig, msg) {\n",
       "    var size = msg['size'];\n",
       "    if (size[0] != fig.canvas.width || size[1] != fig.canvas.height) {\n",
       "        fig._resize_canvas(size[0], size[1]);\n",
       "        fig.send_message(\"refresh\", {});\n",
       "    };\n",
       "}\n",
       "\n",
       "mpl.figure.prototype.handle_rubberband = function(fig, msg) {\n",
       "    var x0 = msg['x0'] / mpl.ratio;\n",
       "    var y0 = (fig.canvas.height - msg['y0']) / mpl.ratio;\n",
       "    var x1 = msg['x1'] / mpl.ratio;\n",
       "    var y1 = (fig.canvas.height - msg['y1']) / mpl.ratio;\n",
       "    x0 = Math.floor(x0) + 0.5;\n",
       "    y0 = Math.floor(y0) + 0.5;\n",
       "    x1 = Math.floor(x1) + 0.5;\n",
       "    y1 = Math.floor(y1) + 0.5;\n",
       "    var min_x = Math.min(x0, x1);\n",
       "    var min_y = Math.min(y0, y1);\n",
       "    var width = Math.abs(x1 - x0);\n",
       "    var height = Math.abs(y1 - y0);\n",
       "\n",
       "    fig.rubberband_context.clearRect(\n",
       "        0, 0, fig.canvas.width, fig.canvas.height);\n",
       "\n",
       "    fig.rubberband_context.strokeRect(min_x, min_y, width, height);\n",
       "}\n",
       "\n",
       "mpl.figure.prototype.handle_figure_label = function(fig, msg) {\n",
       "    // Updates the figure title.\n",
       "    fig.header.textContent = msg['label'];\n",
       "}\n",
       "\n",
       "mpl.figure.prototype.handle_cursor = function(fig, msg) {\n",
       "    var cursor = msg['cursor'];\n",
       "    switch(cursor)\n",
       "    {\n",
       "    case 0:\n",
       "        cursor = 'pointer';\n",
       "        break;\n",
       "    case 1:\n",
       "        cursor = 'default';\n",
       "        break;\n",
       "    case 2:\n",
       "        cursor = 'crosshair';\n",
       "        break;\n",
       "    case 3:\n",
       "        cursor = 'move';\n",
       "        break;\n",
       "    }\n",
       "    fig.rubberband_canvas.style.cursor = cursor;\n",
       "}\n",
       "\n",
       "mpl.figure.prototype.handle_message = function(fig, msg) {\n",
       "    fig.message.textContent = msg['message'];\n",
       "}\n",
       "\n",
       "mpl.figure.prototype.handle_draw = function(fig, msg) {\n",
       "    // Request the server to send over a new figure.\n",
       "    fig.send_draw_message();\n",
       "}\n",
       "\n",
       "mpl.figure.prototype.handle_image_mode = function(fig, msg) {\n",
       "    fig.image_mode = msg['mode'];\n",
       "}\n",
       "\n",
       "mpl.figure.prototype.updated_canvas_event = function() {\n",
       "    // Called whenever the canvas gets updated.\n",
       "    this.send_message(\"ack\", {});\n",
       "}\n",
       "\n",
       "// A function to construct a web socket function for onmessage handling.\n",
       "// Called in the figure constructor.\n",
       "mpl.figure.prototype._make_on_message_function = function(fig) {\n",
       "    return function socket_on_message(evt) {\n",
       "        if (evt.data instanceof Blob) {\n",
       "            /* FIXME: We get \"Resource interpreted as Image but\n",
       "             * transferred with MIME type text/plain:\" errors on\n",
       "             * Chrome.  But how to set the MIME type?  It doesn't seem\n",
       "             * to be part of the websocket stream */\n",
       "            evt.data.type = \"image/png\";\n",
       "\n",
       "            /* Free the memory for the previous frames */\n",
       "            if (fig.imageObj.src) {\n",
       "                (window.URL || window.webkitURL).revokeObjectURL(\n",
       "                    fig.imageObj.src);\n",
       "            }\n",
       "\n",
       "            fig.imageObj.src = (window.URL || window.webkitURL).createObjectURL(\n",
       "                evt.data);\n",
       "            fig.updated_canvas_event();\n",
       "            fig.waiting = false;\n",
       "            return;\n",
       "        }\n",
       "        else if (typeof evt.data === 'string' && evt.data.slice(0, 21) == \"data:image/png;base64\") {\n",
       "            fig.imageObj.src = evt.data;\n",
       "            fig.updated_canvas_event();\n",
       "            fig.waiting = false;\n",
       "            return;\n",
       "        }\n",
       "\n",
       "        var msg = JSON.parse(evt.data);\n",
       "        var msg_type = msg['type'];\n",
       "\n",
       "        // Call the  \"handle_{type}\" callback, which takes\n",
       "        // the figure and JSON message as its only arguments.\n",
       "        try {\n",
       "            var callback = fig[\"handle_\" + msg_type];\n",
       "        } catch (e) {\n",
       "            console.log(\"No handler for the '\" + msg_type + \"' message type: \", msg);\n",
       "            return;\n",
       "        }\n",
       "\n",
       "        if (callback) {\n",
       "            try {\n",
       "                // console.log(\"Handling '\" + msg_type + \"' message: \", msg);\n",
       "                callback(fig, msg);\n",
       "            } catch (e) {\n",
       "                console.log(\"Exception inside the 'handler_\" + msg_type + \"' callback:\", e, e.stack, msg);\n",
       "            }\n",
       "        }\n",
       "    };\n",
       "}\n",
       "\n",
       "// from http://stackoverflow.com/questions/1114465/getting-mouse-location-in-canvas\n",
       "mpl.findpos = function(e) {\n",
       "    //this section is from http://www.quirksmode.org/js/events_properties.html\n",
       "    var targ;\n",
       "    if (!e)\n",
       "        e = window.event;\n",
       "    if (e.target)\n",
       "        targ = e.target;\n",
       "    else if (e.srcElement)\n",
       "        targ = e.srcElement;\n",
       "    if (targ.nodeType == 3) // defeat Safari bug\n",
       "        targ = targ.parentNode;\n",
       "\n",
       "    // jQuery normalizes the pageX and pageY\n",
       "    // pageX,Y are the mouse positions relative to the document\n",
       "    // offset() returns the position of the element relative to the document\n",
       "    var x = e.pageX - $(targ).offset().left;\n",
       "    var y = e.pageY - $(targ).offset().top;\n",
       "\n",
       "    return {\"x\": x, \"y\": y};\n",
       "};\n",
       "\n",
       "/*\n",
       " * return a copy of an object with only non-object keys\n",
       " * we need this to avoid circular references\n",
       " * http://stackoverflow.com/a/24161582/3208463\n",
       " */\n",
       "function simpleKeys (original) {\n",
       "  return Object.keys(original).reduce(function (obj, key) {\n",
       "    if (typeof original[key] !== 'object')\n",
       "        obj[key] = original[key]\n",
       "    return obj;\n",
       "  }, {});\n",
       "}\n",
       "\n",
       "mpl.figure.prototype.mouse_event = function(event, name) {\n",
       "    var canvas_pos = mpl.findpos(event)\n",
       "\n",
       "    if (name === 'button_press')\n",
       "    {\n",
       "        this.canvas.focus();\n",
       "        this.canvas_div.focus();\n",
       "    }\n",
       "\n",
       "    var x = canvas_pos.x * mpl.ratio;\n",
       "    var y = canvas_pos.y * mpl.ratio;\n",
       "\n",
       "    this.send_message(name, {x: x, y: y, button: event.button,\n",
       "                             step: event.step,\n",
       "                             guiEvent: simpleKeys(event)});\n",
       "\n",
       "    /* This prevents the web browser from automatically changing to\n",
       "     * the text insertion cursor when the button is pressed.  We want\n",
       "     * to control all of the cursor setting manually through the\n",
       "     * 'cursor' event from matplotlib */\n",
       "    event.preventDefault();\n",
       "    return false;\n",
       "}\n",
       "\n",
       "mpl.figure.prototype._key_event_extra = function(event, name) {\n",
       "    // Handle any extra behaviour associated with a key event\n",
       "}\n",
       "\n",
       "mpl.figure.prototype.key_event = function(event, name) {\n",
       "\n",
       "    // Prevent repeat events\n",
       "    if (name == 'key_press')\n",
       "    {\n",
       "        if (event.which === this._key)\n",
       "            return;\n",
       "        else\n",
       "            this._key = event.which;\n",
       "    }\n",
       "    if (name == 'key_release')\n",
       "        this._key = null;\n",
       "\n",
       "    var value = '';\n",
       "    if (event.ctrlKey && event.which != 17)\n",
       "        value += \"ctrl+\";\n",
       "    if (event.altKey && event.which != 18)\n",
       "        value += \"alt+\";\n",
       "    if (event.shiftKey && event.which != 16)\n",
       "        value += \"shift+\";\n",
       "\n",
       "    value += 'k';\n",
       "    value += event.which.toString();\n",
       "\n",
       "    this._key_event_extra(event, name);\n",
       "\n",
       "    this.send_message(name, {key: value,\n",
       "                             guiEvent: simpleKeys(event)});\n",
       "    return false;\n",
       "}\n",
       "\n",
       "mpl.figure.prototype.toolbar_button_onclick = function(name) {\n",
       "    if (name == 'download') {\n",
       "        this.handle_save(this, null);\n",
       "    } else {\n",
       "        this.send_message(\"toolbar_button\", {name: name});\n",
       "    }\n",
       "};\n",
       "\n",
       "mpl.figure.prototype.toolbar_button_onmouseover = function(tooltip) {\n",
       "    this.message.textContent = tooltip;\n",
       "};\n",
       "mpl.toolbar_items = [[\"Home\", \"Reset original view\", \"fa fa-home icon-home\", \"home\"], [\"Back\", \"Back to previous view\", \"fa fa-arrow-left icon-arrow-left\", \"back\"], [\"Forward\", \"Forward to next view\", \"fa fa-arrow-right icon-arrow-right\", \"forward\"], [\"\", \"\", \"\", \"\"], [\"Pan\", \"Pan axes with left mouse, zoom with right\", \"fa fa-arrows icon-move\", \"pan\"], [\"Zoom\", \"Zoom to rectangle\", \"fa fa-square-o icon-check-empty\", \"zoom\"], [\"\", \"\", \"\", \"\"], [\"Download\", \"Download plot\", \"fa fa-floppy-o icon-save\", \"download\"]];\n",
       "\n",
       "mpl.extensions = [\"eps\", \"jpeg\", \"pdf\", \"png\", \"ps\", \"raw\", \"svg\", \"tif\"];\n",
       "\n",
       "mpl.default_extension = \"png\";var comm_websocket_adapter = function(comm) {\n",
       "    // Create a \"websocket\"-like object which calls the given IPython comm\n",
       "    // object with the appropriate methods. Currently this is a non binary\n",
       "    // socket, so there is still some room for performance tuning.\n",
       "    var ws = {};\n",
       "\n",
       "    ws.close = function() {\n",
       "        comm.close()\n",
       "    };\n",
       "    ws.send = function(m) {\n",
       "        //console.log('sending', m);\n",
       "        comm.send(m);\n",
       "    };\n",
       "    // Register the callback with on_msg.\n",
       "    comm.on_msg(function(msg) {\n",
       "        //console.log('receiving', msg['content']['data'], msg);\n",
       "        // Pass the mpl event to the overridden (by mpl) onmessage function.\n",
       "        ws.onmessage(msg['content']['data'])\n",
       "    });\n",
       "    return ws;\n",
       "}\n",
       "\n",
       "mpl.mpl_figure_comm = function(comm, msg) {\n",
       "    // This is the function which gets called when the mpl process\n",
       "    // starts-up an IPython Comm through the \"matplotlib\" channel.\n",
       "\n",
       "    var id = msg.content.data.id;\n",
       "    // Get hold of the div created by the display call when the Comm\n",
       "    // socket was opened in Python.\n",
       "    var element = $(\"#\" + id);\n",
       "    var ws_proxy = comm_websocket_adapter(comm)\n",
       "\n",
       "    function ondownload(figure, format) {\n",
       "        window.open(figure.imageObj.src);\n",
       "    }\n",
       "\n",
       "    var fig = new mpl.figure(id, ws_proxy,\n",
       "                           ondownload,\n",
       "                           element.get(0));\n",
       "\n",
       "    // Call onopen now - mpl needs it, as it is assuming we've passed it a real\n",
       "    // web socket which is closed, not our websocket->open comm proxy.\n",
       "    ws_proxy.onopen();\n",
       "\n",
       "    fig.parent_element = element.get(0);\n",
       "    fig.cell_info = mpl.find_output_cell(\"<div id='\" + id + \"'></div>\");\n",
       "    if (!fig.cell_info) {\n",
       "        console.error(\"Failed to find cell for figure\", id, fig);\n",
       "        return;\n",
       "    }\n",
       "\n",
       "    var output_index = fig.cell_info[2]\n",
       "    var cell = fig.cell_info[0];\n",
       "\n",
       "};\n",
       "\n",
       "mpl.figure.prototype.handle_close = function(fig, msg) {\n",
       "    var width = fig.canvas.width/mpl.ratio\n",
       "    fig.root.unbind('remove')\n",
       "\n",
       "    // Update the output cell to use the data from the current canvas.\n",
       "    fig.push_to_output();\n",
       "    var dataURL = fig.canvas.toDataURL();\n",
       "    // Re-enable the keyboard manager in IPython - without this line, in FF,\n",
       "    // the notebook keyboard shortcuts fail.\n",
       "    IPython.keyboard_manager.enable()\n",
       "    $(fig.parent_element).html('<img src=\"' + dataURL + '\" width=\"' + width + '\">');\n",
       "    fig.close_ws(fig, msg);\n",
       "}\n",
       "\n",
       "mpl.figure.prototype.close_ws = function(fig, msg){\n",
       "    fig.send_message('closing', msg);\n",
       "    // fig.ws.close()\n",
       "}\n",
       "\n",
       "mpl.figure.prototype.push_to_output = function(remove_interactive) {\n",
       "    // Turn the data on the canvas into data in the output cell.\n",
       "    var width = this.canvas.width/mpl.ratio\n",
       "    var dataURL = this.canvas.toDataURL();\n",
       "    this.cell_info[1]['text/html'] = '<img src=\"' + dataURL + '\" width=\"' + width + '\">';\n",
       "}\n",
       "\n",
       "mpl.figure.prototype.updated_canvas_event = function() {\n",
       "    // Tell IPython that the notebook contents must change.\n",
       "    IPython.notebook.set_dirty(true);\n",
       "    this.send_message(\"ack\", {});\n",
       "    var fig = this;\n",
       "    // Wait a second, then push the new image to the DOM so\n",
       "    // that it is saved nicely (might be nice to debounce this).\n",
       "    setTimeout(function () { fig.push_to_output() }, 1000);\n",
       "}\n",
       "\n",
       "mpl.figure.prototype._init_toolbar = function() {\n",
       "    var fig = this;\n",
       "\n",
       "    var nav_element = $('<div/>')\n",
       "    nav_element.attr('style', 'width: 100%');\n",
       "    this.root.append(nav_element);\n",
       "\n",
       "    // Define a callback function for later on.\n",
       "    function toolbar_event(event) {\n",
       "        return fig.toolbar_button_onclick(event['data']);\n",
       "    }\n",
       "    function toolbar_mouse_event(event) {\n",
       "        return fig.toolbar_button_onmouseover(event['data']);\n",
       "    }\n",
       "\n",
       "    for(var toolbar_ind in mpl.toolbar_items){\n",
       "        var name = mpl.toolbar_items[toolbar_ind][0];\n",
       "        var tooltip = mpl.toolbar_items[toolbar_ind][1];\n",
       "        var image = mpl.toolbar_items[toolbar_ind][2];\n",
       "        var method_name = mpl.toolbar_items[toolbar_ind][3];\n",
       "\n",
       "        if (!name) { continue; };\n",
       "\n",
       "        var button = $('<button class=\"btn btn-default\" href=\"#\" title=\"' + name + '\"><i class=\"fa ' + image + ' fa-lg\"></i></button>');\n",
       "        button.click(method_name, toolbar_event);\n",
       "        button.mouseover(tooltip, toolbar_mouse_event);\n",
       "        nav_element.append(button);\n",
       "    }\n",
       "\n",
       "    // Add the status bar.\n",
       "    var status_bar = $('<span class=\"mpl-message\" style=\"text-align:right; float: right;\"/>');\n",
       "    nav_element.append(status_bar);\n",
       "    this.message = status_bar[0];\n",
       "\n",
       "    // Add the close button to the window.\n",
       "    var buttongrp = $('<div class=\"btn-group inline pull-right\"></div>');\n",
       "    var button = $('<button class=\"btn btn-mini btn-primary\" href=\"#\" title=\"Stop Interaction\"><i class=\"fa fa-power-off icon-remove icon-large\"></i></button>');\n",
       "    button.click(function (evt) { fig.handle_close(fig, {}); } );\n",
       "    button.mouseover('Stop Interaction', toolbar_mouse_event);\n",
       "    buttongrp.append(button);\n",
       "    var titlebar = this.root.find($('.ui-dialog-titlebar'));\n",
       "    titlebar.prepend(buttongrp);\n",
       "}\n",
       "\n",
       "mpl.figure.prototype._root_extra_style = function(el){\n",
       "    var fig = this\n",
       "    el.on(\"remove\", function(){\n",
       "\tfig.close_ws(fig, {});\n",
       "    });\n",
       "}\n",
       "\n",
       "mpl.figure.prototype._canvas_extra_style = function(el){\n",
       "    // this is important to make the div 'focusable\n",
       "    el.attr('tabindex', 0)\n",
       "    // reach out to IPython and tell the keyboard manager to turn it's self\n",
       "    // off when our div gets focus\n",
       "\n",
       "    // location in version 3\n",
       "    if (IPython.notebook.keyboard_manager) {\n",
       "        IPython.notebook.keyboard_manager.register_events(el);\n",
       "    }\n",
       "    else {\n",
       "        // location in version 2\n",
       "        IPython.keyboard_manager.register_events(el);\n",
       "    }\n",
       "\n",
       "}\n",
       "\n",
       "mpl.figure.prototype._key_event_extra = function(event, name) {\n",
       "    var manager = IPython.notebook.keyboard_manager;\n",
       "    if (!manager)\n",
       "        manager = IPython.keyboard_manager;\n",
       "\n",
       "    // Check for shift+enter\n",
       "    if (event.shiftKey && event.which == 13) {\n",
       "        this.canvas_div.blur();\n",
       "        event.shiftKey = false;\n",
       "        // Send a \"J\" for go to next cell\n",
       "        event.which = 74;\n",
       "        event.keyCode = 74;\n",
       "        manager.command_mode();\n",
       "        manager.handle_keydown(event);\n",
       "    }\n",
       "}\n",
       "\n",
       "mpl.figure.prototype.handle_save = function(fig, msg) {\n",
       "    fig.ondownload(fig, null);\n",
       "}\n",
       "\n",
       "\n",
       "mpl.find_output_cell = function(html_output) {\n",
       "    // Return the cell and output element which can be found *uniquely* in the notebook.\n",
       "    // Note - this is a bit hacky, but it is done because the \"notebook_saving.Notebook\"\n",
       "    // IPython event is triggered only after the cells have been serialised, which for\n",
       "    // our purposes (turning an active figure into a static one), is too late.\n",
       "    var cells = IPython.notebook.get_cells();\n",
       "    var ncells = cells.length;\n",
       "    for (var i=0; i<ncells; i++) {\n",
       "        var cell = cells[i];\n",
       "        if (cell.cell_type === 'code'){\n",
       "            for (var j=0; j<cell.output_area.outputs.length; j++) {\n",
       "                var data = cell.output_area.outputs[j];\n",
       "                if (data.data) {\n",
       "                    // IPython >= 3 moved mimebundle to data attribute of output\n",
       "                    data = data.data;\n",
       "                }\n",
       "                if (data['text/html'] == html_output) {\n",
       "                    return [cell, data, j];\n",
       "                }\n",
       "            }\n",
       "        }\n",
       "    }\n",
       "}\n",
       "\n",
       "// Register the function which deals with the matplotlib target/channel.\n",
       "// The kernel may be null if the page has been refreshed.\n",
       "if (IPython.notebook.kernel != null) {\n",
       "    IPython.notebook.kernel.comm_manager.register_target('matplotlib', mpl.mpl_figure_comm);\n",
       "}\n"
      ],
      "text/plain": [
       "<IPython.core.display.Javascript object>"
      ]
     },
     "metadata": {},
     "output_type": "display_data"
    },
    {
     "data": {
      "text/html": [
       "<img src=\"data:image/png;base64,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\" width=\"640\">"
      ],
      "text/plain": [
       "<IPython.core.display.HTML object>"
      ]
     },
     "metadata": {},
     "output_type": "display_data"
    }
   ],
   "source": [
    "min_persistence = 2\n",
    "max_lenght = 400\n",
    "min_thickness = 17\n",
    "max_n_components = 4\n",
    "max_curvature = 1.8\n",
    "\n",
    "centers = [min_persistence,max_lenght,min_thickness,max_n_components,max_curvature]\n",
    "names = ['persistence','lenght','thickness','n_components','curvature']\n",
    "\n",
    "persistence_fluctuation = np.arange(1,5,1)\n",
    "lenght_fluctuation = np.arange(50,900,10)\n",
    "thickness_fluctuation = np.arange(13,25,0.5)\n",
    "n_components_fluctuation = np.arange(1,10,1)\n",
    "curvature_fluctuation = np.arange(1.1,4,0.1)\n",
    "\n",
    "fluctuations = [persistence_fluctuation,lenght_fluctuation,thickness_fluctuation,\n",
    "                n_components_fluctuation,curvature_fluctuation]\n",
    "\n",
    "plt.figure()\n",
    "plt.xlabel('efficiency')\n",
    "plt.ylabel('pureness')\n",
    "\n",
    "big_vep = []\n",
    "for i,f in enumerate(fluctuations):\n",
    "    vep = []\n",
    "    for v in f:\n",
    "        thrs = np.copy(centers)\n",
    "        thrs[i] = v\n",
    "        labels,e,p = Clusterizer.classify(big_c,thrs=thrs,verbose=False)\n",
    "        vep.append([v,e,p])\n",
    "    vep = np.array(vep)\n",
    "    big_vep.append(vep)\n",
    "    plt.plot(vep[:,1],vep[:,2],label='varying '+names[i])\n",
    "    \n",
    "plt.legend()\n",
    "plt.show()"
   ]
  },
  {
   "cell_type": "code",
   "execution_count": 19,
   "metadata": {
    "scrolled": false
   },
   "outputs": [
    {
     "data": {
      "application/javascript": [
       "/* Put everything inside the global mpl namespace */\n",
       "window.mpl = {};\n",
       "\n",
       "\n",
       "mpl.get_websocket_type = function() {\n",
       "    if (typeof(WebSocket) !== 'undefined') {\n",
       "        return WebSocket;\n",
       "    } else if (typeof(MozWebSocket) !== 'undefined') {\n",
       "        return MozWebSocket;\n",
       "    } else {\n",
       "        alert('Your browser does not have WebSocket support.' +\n",
       "              'Please try Chrome, Safari or Firefox ≥ 6. ' +\n",
       "              'Firefox 4 and 5 are also supported but you ' +\n",
       "              'have to enable WebSockets in about:config.');\n",
       "    };\n",
       "}\n",
       "\n",
       "mpl.figure = function(figure_id, websocket, ondownload, parent_element) {\n",
       "    this.id = figure_id;\n",
       "\n",
       "    this.ws = websocket;\n",
       "\n",
       "    this.supports_binary = (this.ws.binaryType != undefined);\n",
       "\n",
       "    if (!this.supports_binary) {\n",
       "        var warnings = document.getElementById(\"mpl-warnings\");\n",
       "        if (warnings) {\n",
       "            warnings.style.display = 'block';\n",
       "            warnings.textContent = (\n",
       "                \"This browser does not support binary websocket messages. \" +\n",
       "                    \"Performance may be slow.\");\n",
       "        }\n",
       "    }\n",
       "\n",
       "    this.imageObj = new Image();\n",
       "\n",
       "    this.context = undefined;\n",
       "    this.message = undefined;\n",
       "    this.canvas = undefined;\n",
       "    this.rubberband_canvas = undefined;\n",
       "    this.rubberband_context = undefined;\n",
       "    this.format_dropdown = undefined;\n",
       "\n",
       "    this.image_mode = 'full';\n",
       "\n",
       "    this.root = $('<div/>');\n",
       "    this._root_extra_style(this.root)\n",
       "    this.root.attr('style', 'display: inline-block');\n",
       "\n",
       "    $(parent_element).append(this.root);\n",
       "\n",
       "    this._init_header(this);\n",
       "    this._init_canvas(this);\n",
       "    this._init_toolbar(this);\n",
       "\n",
       "    var fig = this;\n",
       "\n",
       "    this.waiting = false;\n",
       "\n",
       "    this.ws.onopen =  function () {\n",
       "            fig.send_message(\"supports_binary\", {value: fig.supports_binary});\n",
       "            fig.send_message(\"send_image_mode\", {});\n",
       "            if (mpl.ratio != 1) {\n",
       "                fig.send_message(\"set_dpi_ratio\", {'dpi_ratio': mpl.ratio});\n",
       "            }\n",
       "            fig.send_message(\"refresh\", {});\n",
       "        }\n",
       "\n",
       "    this.imageObj.onload = function() {\n",
       "            if (fig.image_mode == 'full') {\n",
       "                // Full images could contain transparency (where diff images\n",
       "                // almost always do), so we need to clear the canvas so that\n",
       "                // there is no ghosting.\n",
       "                fig.context.clearRect(0, 0, fig.canvas.width, fig.canvas.height);\n",
       "            }\n",
       "            fig.context.drawImage(fig.imageObj, 0, 0);\n",
       "        };\n",
       "\n",
       "    this.imageObj.onunload = function() {\n",
       "        fig.ws.close();\n",
       "    }\n",
       "\n",
       "    this.ws.onmessage = this._make_on_message_function(this);\n",
       "\n",
       "    this.ondownload = ondownload;\n",
       "}\n",
       "\n",
       "mpl.figure.prototype._init_header = function() {\n",
       "    var titlebar = $(\n",
       "        '<div class=\"ui-dialog-titlebar ui-widget-header ui-corner-all ' +\n",
       "        'ui-helper-clearfix\"/>');\n",
       "    var titletext = $(\n",
       "        '<div class=\"ui-dialog-title\" style=\"width: 100%; ' +\n",
       "        'text-align: center; padding: 3px;\"/>');\n",
       "    titlebar.append(titletext)\n",
       "    this.root.append(titlebar);\n",
       "    this.header = titletext[0];\n",
       "}\n",
       "\n",
       "\n",
       "\n",
       "mpl.figure.prototype._canvas_extra_style = function(canvas_div) {\n",
       "\n",
       "}\n",
       "\n",
       "\n",
       "mpl.figure.prototype._root_extra_style = function(canvas_div) {\n",
       "\n",
       "}\n",
       "\n",
       "mpl.figure.prototype._init_canvas = function() {\n",
       "    var fig = this;\n",
       "\n",
       "    var canvas_div = $('<div/>');\n",
       "\n",
       "    canvas_div.attr('style', 'position: relative; clear: both; outline: 0');\n",
       "\n",
       "    function canvas_keyboard_event(event) {\n",
       "        return fig.key_event(event, event['data']);\n",
       "    }\n",
       "\n",
       "    canvas_div.keydown('key_press', canvas_keyboard_event);\n",
       "    canvas_div.keyup('key_release', canvas_keyboard_event);\n",
       "    this.canvas_div = canvas_div\n",
       "    this._canvas_extra_style(canvas_div)\n",
       "    this.root.append(canvas_div);\n",
       "\n",
       "    var canvas = $('<canvas/>');\n",
       "    canvas.addClass('mpl-canvas');\n",
       "    canvas.attr('style', \"left: 0; top: 0; z-index: 0; outline: 0\")\n",
       "\n",
       "    this.canvas = canvas[0];\n",
       "    this.context = canvas[0].getContext(\"2d\");\n",
       "\n",
       "    var backingStore = this.context.backingStorePixelRatio ||\n",
       "\tthis.context.webkitBackingStorePixelRatio ||\n",
       "\tthis.context.mozBackingStorePixelRatio ||\n",
       "\tthis.context.msBackingStorePixelRatio ||\n",
       "\tthis.context.oBackingStorePixelRatio ||\n",
       "\tthis.context.backingStorePixelRatio || 1;\n",
       "\n",
       "    mpl.ratio = (window.devicePixelRatio || 1) / backingStore;\n",
       "\n",
       "    var rubberband = $('<canvas/>');\n",
       "    rubberband.attr('style', \"position: absolute; left: 0; top: 0; z-index: 1;\")\n",
       "\n",
       "    var pass_mouse_events = true;\n",
       "\n",
       "    canvas_div.resizable({\n",
       "        start: function(event, ui) {\n",
       "            pass_mouse_events = false;\n",
       "        },\n",
       "        resize: function(event, ui) {\n",
       "            fig.request_resize(ui.size.width, ui.size.height);\n",
       "        },\n",
       "        stop: function(event, ui) {\n",
       "            pass_mouse_events = true;\n",
       "            fig.request_resize(ui.size.width, ui.size.height);\n",
       "        },\n",
       "    });\n",
       "\n",
       "    function mouse_event_fn(event) {\n",
       "        if (pass_mouse_events)\n",
       "            return fig.mouse_event(event, event['data']);\n",
       "    }\n",
       "\n",
       "    rubberband.mousedown('button_press', mouse_event_fn);\n",
       "    rubberband.mouseup('button_release', mouse_event_fn);\n",
       "    // Throttle sequential mouse events to 1 every 20ms.\n",
       "    rubberband.mousemove('motion_notify', mouse_event_fn);\n",
       "\n",
       "    rubberband.mouseenter('figure_enter', mouse_event_fn);\n",
       "    rubberband.mouseleave('figure_leave', mouse_event_fn);\n",
       "\n",
       "    canvas_div.on(\"wheel\", function (event) {\n",
       "        event = event.originalEvent;\n",
       "        event['data'] = 'scroll'\n",
       "        if (event.deltaY < 0) {\n",
       "            event.step = 1;\n",
       "        } else {\n",
       "            event.step = -1;\n",
       "        }\n",
       "        mouse_event_fn(event);\n",
       "    });\n",
       "\n",
       "    canvas_div.append(canvas);\n",
       "    canvas_div.append(rubberband);\n",
       "\n",
       "    this.rubberband = rubberband;\n",
       "    this.rubberband_canvas = rubberband[0];\n",
       "    this.rubberband_context = rubberband[0].getContext(\"2d\");\n",
       "    this.rubberband_context.strokeStyle = \"#000000\";\n",
       "\n",
       "    this._resize_canvas = function(width, height) {\n",
       "        // Keep the size of the canvas, canvas container, and rubber band\n",
       "        // canvas in synch.\n",
       "        canvas_div.css('width', width)\n",
       "        canvas_div.css('height', height)\n",
       "\n",
       "        canvas.attr('width', width * mpl.ratio);\n",
       "        canvas.attr('height', height * mpl.ratio);\n",
       "        canvas.attr('style', 'width: ' + width + 'px; height: ' + height + 'px;');\n",
       "\n",
       "        rubberband.attr('width', width);\n",
       "        rubberband.attr('height', height);\n",
       "    }\n",
       "\n",
       "    // Set the figure to an initial 600x600px, this will subsequently be updated\n",
       "    // upon first draw.\n",
       "    this._resize_canvas(600, 600);\n",
       "\n",
       "    // Disable right mouse context menu.\n",
       "    $(this.rubberband_canvas).bind(\"contextmenu\",function(e){\n",
       "        return false;\n",
       "    });\n",
       "\n",
       "    function set_focus () {\n",
       "        canvas.focus();\n",
       "        canvas_div.focus();\n",
       "    }\n",
       "\n",
       "    window.setTimeout(set_focus, 100);\n",
       "}\n",
       "\n",
       "mpl.figure.prototype._init_toolbar = function() {\n",
       "    var fig = this;\n",
       "\n",
       "    var nav_element = $('<div/>')\n",
       "    nav_element.attr('style', 'width: 100%');\n",
       "    this.root.append(nav_element);\n",
       "\n",
       "    // Define a callback function for later on.\n",
       "    function toolbar_event(event) {\n",
       "        return fig.toolbar_button_onclick(event['data']);\n",
       "    }\n",
       "    function toolbar_mouse_event(event) {\n",
       "        return fig.toolbar_button_onmouseover(event['data']);\n",
       "    }\n",
       "\n",
       "    for(var toolbar_ind in mpl.toolbar_items) {\n",
       "        var name = mpl.toolbar_items[toolbar_ind][0];\n",
       "        var tooltip = mpl.toolbar_items[toolbar_ind][1];\n",
       "        var image = mpl.toolbar_items[toolbar_ind][2];\n",
       "        var method_name = mpl.toolbar_items[toolbar_ind][3];\n",
       "\n",
       "        if (!name) {\n",
       "            // put a spacer in here.\n",
       "            continue;\n",
       "        }\n",
       "        var button = $('<button/>');\n",
       "        button.addClass('ui-button ui-widget ui-state-default ui-corner-all ' +\n",
       "                        'ui-button-icon-only');\n",
       "        button.attr('role', 'button');\n",
       "        button.attr('aria-disabled', 'false');\n",
       "        button.click(method_name, toolbar_event);\n",
       "        button.mouseover(tooltip, toolbar_mouse_event);\n",
       "\n",
       "        var icon_img = $('<span/>');\n",
       "        icon_img.addClass('ui-button-icon-primary ui-icon');\n",
       "        icon_img.addClass(image);\n",
       "        icon_img.addClass('ui-corner-all');\n",
       "\n",
       "        var tooltip_span = $('<span/>');\n",
       "        tooltip_span.addClass('ui-button-text');\n",
       "        tooltip_span.html(tooltip);\n",
       "\n",
       "        button.append(icon_img);\n",
       "        button.append(tooltip_span);\n",
       "\n",
       "        nav_element.append(button);\n",
       "    }\n",
       "\n",
       "    var fmt_picker_span = $('<span/>');\n",
       "\n",
       "    var fmt_picker = $('<select/>');\n",
       "    fmt_picker.addClass('mpl-toolbar-option ui-widget ui-widget-content');\n",
       "    fmt_picker_span.append(fmt_picker);\n",
       "    nav_element.append(fmt_picker_span);\n",
       "    this.format_dropdown = fmt_picker[0];\n",
       "\n",
       "    for (var ind in mpl.extensions) {\n",
       "        var fmt = mpl.extensions[ind];\n",
       "        var option = $(\n",
       "            '<option/>', {selected: fmt === mpl.default_extension}).html(fmt);\n",
       "        fmt_picker.append(option)\n",
       "    }\n",
       "\n",
       "    // Add hover states to the ui-buttons\n",
       "    $( \".ui-button\" ).hover(\n",
       "        function() { $(this).addClass(\"ui-state-hover\");},\n",
       "        function() { $(this).removeClass(\"ui-state-hover\");}\n",
       "    );\n",
       "\n",
       "    var status_bar = $('<span class=\"mpl-message\"/>');\n",
       "    nav_element.append(status_bar);\n",
       "    this.message = status_bar[0];\n",
       "}\n",
       "\n",
       "mpl.figure.prototype.request_resize = function(x_pixels, y_pixels) {\n",
       "    // Request matplotlib to resize the figure. Matplotlib will then trigger a resize in the client,\n",
       "    // which will in turn request a refresh of the image.\n",
       "    this.send_message('resize', {'width': x_pixels, 'height': y_pixels});\n",
       "}\n",
       "\n",
       "mpl.figure.prototype.send_message = function(type, properties) {\n",
       "    properties['type'] = type;\n",
       "    properties['figure_id'] = this.id;\n",
       "    this.ws.send(JSON.stringify(properties));\n",
       "}\n",
       "\n",
       "mpl.figure.prototype.send_draw_message = function() {\n",
       "    if (!this.waiting) {\n",
       "        this.waiting = true;\n",
       "        this.ws.send(JSON.stringify({type: \"draw\", figure_id: this.id}));\n",
       "    }\n",
       "}\n",
       "\n",
       "\n",
       "mpl.figure.prototype.handle_save = function(fig, msg) {\n",
       "    var format_dropdown = fig.format_dropdown;\n",
       "    var format = format_dropdown.options[format_dropdown.selectedIndex].value;\n",
       "    fig.ondownload(fig, format);\n",
       "}\n",
       "\n",
       "\n",
       "mpl.figure.prototype.handle_resize = function(fig, msg) {\n",
       "    var size = msg['size'];\n",
       "    if (size[0] != fig.canvas.width || size[1] != fig.canvas.height) {\n",
       "        fig._resize_canvas(size[0], size[1]);\n",
       "        fig.send_message(\"refresh\", {});\n",
       "    };\n",
       "}\n",
       "\n",
       "mpl.figure.prototype.handle_rubberband = function(fig, msg) {\n",
       "    var x0 = msg['x0'] / mpl.ratio;\n",
       "    var y0 = (fig.canvas.height - msg['y0']) / mpl.ratio;\n",
       "    var x1 = msg['x1'] / mpl.ratio;\n",
       "    var y1 = (fig.canvas.height - msg['y1']) / mpl.ratio;\n",
       "    x0 = Math.floor(x0) + 0.5;\n",
       "    y0 = Math.floor(y0) + 0.5;\n",
       "    x1 = Math.floor(x1) + 0.5;\n",
       "    y1 = Math.floor(y1) + 0.5;\n",
       "    var min_x = Math.min(x0, x1);\n",
       "    var min_y = Math.min(y0, y1);\n",
       "    var width = Math.abs(x1 - x0);\n",
       "    var height = Math.abs(y1 - y0);\n",
       "\n",
       "    fig.rubberband_context.clearRect(\n",
       "        0, 0, fig.canvas.width, fig.canvas.height);\n",
       "\n",
       "    fig.rubberband_context.strokeRect(min_x, min_y, width, height);\n",
       "}\n",
       "\n",
       "mpl.figure.prototype.handle_figure_label = function(fig, msg) {\n",
       "    // Updates the figure title.\n",
       "    fig.header.textContent = msg['label'];\n",
       "}\n",
       "\n",
       "mpl.figure.prototype.handle_cursor = function(fig, msg) {\n",
       "    var cursor = msg['cursor'];\n",
       "    switch(cursor)\n",
       "    {\n",
       "    case 0:\n",
       "        cursor = 'pointer';\n",
       "        break;\n",
       "    case 1:\n",
       "        cursor = 'default';\n",
       "        break;\n",
       "    case 2:\n",
       "        cursor = 'crosshair';\n",
       "        break;\n",
       "    case 3:\n",
       "        cursor = 'move';\n",
       "        break;\n",
       "    }\n",
       "    fig.rubberband_canvas.style.cursor = cursor;\n",
       "}\n",
       "\n",
       "mpl.figure.prototype.handle_message = function(fig, msg) {\n",
       "    fig.message.textContent = msg['message'];\n",
       "}\n",
       "\n",
       "mpl.figure.prototype.handle_draw = function(fig, msg) {\n",
       "    // Request the server to send over a new figure.\n",
       "    fig.send_draw_message();\n",
       "}\n",
       "\n",
       "mpl.figure.prototype.handle_image_mode = function(fig, msg) {\n",
       "    fig.image_mode = msg['mode'];\n",
       "}\n",
       "\n",
       "mpl.figure.prototype.updated_canvas_event = function() {\n",
       "    // Called whenever the canvas gets updated.\n",
       "    this.send_message(\"ack\", {});\n",
       "}\n",
       "\n",
       "// A function to construct a web socket function for onmessage handling.\n",
       "// Called in the figure constructor.\n",
       "mpl.figure.prototype._make_on_message_function = function(fig) {\n",
       "    return function socket_on_message(evt) {\n",
       "        if (evt.data instanceof Blob) {\n",
       "            /* FIXME: We get \"Resource interpreted as Image but\n",
       "             * transferred with MIME type text/plain:\" errors on\n",
       "             * Chrome.  But how to set the MIME type?  It doesn't seem\n",
       "             * to be part of the websocket stream */\n",
       "            evt.data.type = \"image/png\";\n",
       "\n",
       "            /* Free the memory for the previous frames */\n",
       "            if (fig.imageObj.src) {\n",
       "                (window.URL || window.webkitURL).revokeObjectURL(\n",
       "                    fig.imageObj.src);\n",
       "            }\n",
       "\n",
       "            fig.imageObj.src = (window.URL || window.webkitURL).createObjectURL(\n",
       "                evt.data);\n",
       "            fig.updated_canvas_event();\n",
       "            fig.waiting = false;\n",
       "            return;\n",
       "        }\n",
       "        else if (typeof evt.data === 'string' && evt.data.slice(0, 21) == \"data:image/png;base64\") {\n",
       "            fig.imageObj.src = evt.data;\n",
       "            fig.updated_canvas_event();\n",
       "            fig.waiting = false;\n",
       "            return;\n",
       "        }\n",
       "\n",
       "        var msg = JSON.parse(evt.data);\n",
       "        var msg_type = msg['type'];\n",
       "\n",
       "        // Call the  \"handle_{type}\" callback, which takes\n",
       "        // the figure and JSON message as its only arguments.\n",
       "        try {\n",
       "            var callback = fig[\"handle_\" + msg_type];\n",
       "        } catch (e) {\n",
       "            console.log(\"No handler for the '\" + msg_type + \"' message type: \", msg);\n",
       "            return;\n",
       "        }\n",
       "\n",
       "        if (callback) {\n",
       "            try {\n",
       "                // console.log(\"Handling '\" + msg_type + \"' message: \", msg);\n",
       "                callback(fig, msg);\n",
       "            } catch (e) {\n",
       "                console.log(\"Exception inside the 'handler_\" + msg_type + \"' callback:\", e, e.stack, msg);\n",
       "            }\n",
       "        }\n",
       "    };\n",
       "}\n",
       "\n",
       "// from http://stackoverflow.com/questions/1114465/getting-mouse-location-in-canvas\n",
       "mpl.findpos = function(e) {\n",
       "    //this section is from http://www.quirksmode.org/js/events_properties.html\n",
       "    var targ;\n",
       "    if (!e)\n",
       "        e = window.event;\n",
       "    if (e.target)\n",
       "        targ = e.target;\n",
       "    else if (e.srcElement)\n",
       "        targ = e.srcElement;\n",
       "    if (targ.nodeType == 3) // defeat Safari bug\n",
       "        targ = targ.parentNode;\n",
       "\n",
       "    // jQuery normalizes the pageX and pageY\n",
       "    // pageX,Y are the mouse positions relative to the document\n",
       "    // offset() returns the position of the element relative to the document\n",
       "    var x = e.pageX - $(targ).offset().left;\n",
       "    var y = e.pageY - $(targ).offset().top;\n",
       "\n",
       "    return {\"x\": x, \"y\": y};\n",
       "};\n",
       "\n",
       "/*\n",
       " * return a copy of an object with only non-object keys\n",
       " * we need this to avoid circular references\n",
       " * http://stackoverflow.com/a/24161582/3208463\n",
       " */\n",
       "function simpleKeys (original) {\n",
       "  return Object.keys(original).reduce(function (obj, key) {\n",
       "    if (typeof original[key] !== 'object')\n",
       "        obj[key] = original[key]\n",
       "    return obj;\n",
       "  }, {});\n",
       "}\n",
       "\n",
       "mpl.figure.prototype.mouse_event = function(event, name) {\n",
       "    var canvas_pos = mpl.findpos(event)\n",
       "\n",
       "    if (name === 'button_press')\n",
       "    {\n",
       "        this.canvas.focus();\n",
       "        this.canvas_div.focus();\n",
       "    }\n",
       "\n",
       "    var x = canvas_pos.x * mpl.ratio;\n",
       "    var y = canvas_pos.y * mpl.ratio;\n",
       "\n",
       "    this.send_message(name, {x: x, y: y, button: event.button,\n",
       "                             step: event.step,\n",
       "                             guiEvent: simpleKeys(event)});\n",
       "\n",
       "    /* This prevents the web browser from automatically changing to\n",
       "     * the text insertion cursor when the button is pressed.  We want\n",
       "     * to control all of the cursor setting manually through the\n",
       "     * 'cursor' event from matplotlib */\n",
       "    event.preventDefault();\n",
       "    return false;\n",
       "}\n",
       "\n",
       "mpl.figure.prototype._key_event_extra = function(event, name) {\n",
       "    // Handle any extra behaviour associated with a key event\n",
       "}\n",
       "\n",
       "mpl.figure.prototype.key_event = function(event, name) {\n",
       "\n",
       "    // Prevent repeat events\n",
       "    if (name == 'key_press')\n",
       "    {\n",
       "        if (event.which === this._key)\n",
       "            return;\n",
       "        else\n",
       "            this._key = event.which;\n",
       "    }\n",
       "    if (name == 'key_release')\n",
       "        this._key = null;\n",
       "\n",
       "    var value = '';\n",
       "    if (event.ctrlKey && event.which != 17)\n",
       "        value += \"ctrl+\";\n",
       "    if (event.altKey && event.which != 18)\n",
       "        value += \"alt+\";\n",
       "    if (event.shiftKey && event.which != 16)\n",
       "        value += \"shift+\";\n",
       "\n",
       "    value += 'k';\n",
       "    value += event.which.toString();\n",
       "\n",
       "    this._key_event_extra(event, name);\n",
       "\n",
       "    this.send_message(name, {key: value,\n",
       "                             guiEvent: simpleKeys(event)});\n",
       "    return false;\n",
       "}\n",
       "\n",
       "mpl.figure.prototype.toolbar_button_onclick = function(name) {\n",
       "    if (name == 'download') {\n",
       "        this.handle_save(this, null);\n",
       "    } else {\n",
       "        this.send_message(\"toolbar_button\", {name: name});\n",
       "    }\n",
       "};\n",
       "\n",
       "mpl.figure.prototype.toolbar_button_onmouseover = function(tooltip) {\n",
       "    this.message.textContent = tooltip;\n",
       "};\n",
       "mpl.toolbar_items = [[\"Home\", \"Reset original view\", \"fa fa-home icon-home\", \"home\"], [\"Back\", \"Back to previous view\", \"fa fa-arrow-left icon-arrow-left\", \"back\"], [\"Forward\", \"Forward to next view\", \"fa fa-arrow-right icon-arrow-right\", \"forward\"], [\"\", \"\", \"\", \"\"], [\"Pan\", \"Pan axes with left mouse, zoom with right\", \"fa fa-arrows icon-move\", \"pan\"], [\"Zoom\", \"Zoom to rectangle\", \"fa fa-square-o icon-check-empty\", \"zoom\"], [\"\", \"\", \"\", \"\"], [\"Download\", \"Download plot\", \"fa fa-floppy-o icon-save\", \"download\"]];\n",
       "\n",
       "mpl.extensions = [\"eps\", \"jpeg\", \"pdf\", \"png\", \"ps\", \"raw\", \"svg\", \"tif\"];\n",
       "\n",
       "mpl.default_extension = \"png\";var comm_websocket_adapter = function(comm) {\n",
       "    // Create a \"websocket\"-like object which calls the given IPython comm\n",
       "    // object with the appropriate methods. Currently this is a non binary\n",
       "    // socket, so there is still some room for performance tuning.\n",
       "    var ws = {};\n",
       "\n",
       "    ws.close = function() {\n",
       "        comm.close()\n",
       "    };\n",
       "    ws.send = function(m) {\n",
       "        //console.log('sending', m);\n",
       "        comm.send(m);\n",
       "    };\n",
       "    // Register the callback with on_msg.\n",
       "    comm.on_msg(function(msg) {\n",
       "        //console.log('receiving', msg['content']['data'], msg);\n",
       "        // Pass the mpl event to the overridden (by mpl) onmessage function.\n",
       "        ws.onmessage(msg['content']['data'])\n",
       "    });\n",
       "    return ws;\n",
       "}\n",
       "\n",
       "mpl.mpl_figure_comm = function(comm, msg) {\n",
       "    // This is the function which gets called when the mpl process\n",
       "    // starts-up an IPython Comm through the \"matplotlib\" channel.\n",
       "\n",
       "    var id = msg.content.data.id;\n",
       "    // Get hold of the div created by the display call when the Comm\n",
       "    // socket was opened in Python.\n",
       "    var element = $(\"#\" + id);\n",
       "    var ws_proxy = comm_websocket_adapter(comm)\n",
       "\n",
       "    function ondownload(figure, format) {\n",
       "        window.open(figure.imageObj.src);\n",
       "    }\n",
       "\n",
       "    var fig = new mpl.figure(id, ws_proxy,\n",
       "                           ondownload,\n",
       "                           element.get(0));\n",
       "\n",
       "    // Call onopen now - mpl needs it, as it is assuming we've passed it a real\n",
       "    // web socket which is closed, not our websocket->open comm proxy.\n",
       "    ws_proxy.onopen();\n",
       "\n",
       "    fig.parent_element = element.get(0);\n",
       "    fig.cell_info = mpl.find_output_cell(\"<div id='\" + id + \"'></div>\");\n",
       "    if (!fig.cell_info) {\n",
       "        console.error(\"Failed to find cell for figure\", id, fig);\n",
       "        return;\n",
       "    }\n",
       "\n",
       "    var output_index = fig.cell_info[2]\n",
       "    var cell = fig.cell_info[0];\n",
       "\n",
       "};\n",
       "\n",
       "mpl.figure.prototype.handle_close = function(fig, msg) {\n",
       "    var width = fig.canvas.width/mpl.ratio\n",
       "    fig.root.unbind('remove')\n",
       "\n",
       "    // Update the output cell to use the data from the current canvas.\n",
       "    fig.push_to_output();\n",
       "    var dataURL = fig.canvas.toDataURL();\n",
       "    // Re-enable the keyboard manager in IPython - without this line, in FF,\n",
       "    // the notebook keyboard shortcuts fail.\n",
       "    IPython.keyboard_manager.enable()\n",
       "    $(fig.parent_element).html('<img src=\"' + dataURL + '\" width=\"' + width + '\">');\n",
       "    fig.close_ws(fig, msg);\n",
       "}\n",
       "\n",
       "mpl.figure.prototype.close_ws = function(fig, msg){\n",
       "    fig.send_message('closing', msg);\n",
       "    // fig.ws.close()\n",
       "}\n",
       "\n",
       "mpl.figure.prototype.push_to_output = function(remove_interactive) {\n",
       "    // Turn the data on the canvas into data in the output cell.\n",
       "    var width = this.canvas.width/mpl.ratio\n",
       "    var dataURL = this.canvas.toDataURL();\n",
       "    this.cell_info[1]['text/html'] = '<img src=\"' + dataURL + '\" width=\"' + width + '\">';\n",
       "}\n",
       "\n",
       "mpl.figure.prototype.updated_canvas_event = function() {\n",
       "    // Tell IPython that the notebook contents must change.\n",
       "    IPython.notebook.set_dirty(true);\n",
       "    this.send_message(\"ack\", {});\n",
       "    var fig = this;\n",
       "    // Wait a second, then push the new image to the DOM so\n",
       "    // that it is saved nicely (might be nice to debounce this).\n",
       "    setTimeout(function () { fig.push_to_output() }, 1000);\n",
       "}\n",
       "\n",
       "mpl.figure.prototype._init_toolbar = function() {\n",
       "    var fig = this;\n",
       "\n",
       "    var nav_element = $('<div/>')\n",
       "    nav_element.attr('style', 'width: 100%');\n",
       "    this.root.append(nav_element);\n",
       "\n",
       "    // Define a callback function for later on.\n",
       "    function toolbar_event(event) {\n",
       "        return fig.toolbar_button_onclick(event['data']);\n",
       "    }\n",
       "    function toolbar_mouse_event(event) {\n",
       "        return fig.toolbar_button_onmouseover(event['data']);\n",
       "    }\n",
       "\n",
       "    for(var toolbar_ind in mpl.toolbar_items){\n",
       "        var name = mpl.toolbar_items[toolbar_ind][0];\n",
       "        var tooltip = mpl.toolbar_items[toolbar_ind][1];\n",
       "        var image = mpl.toolbar_items[toolbar_ind][2];\n",
       "        var method_name = mpl.toolbar_items[toolbar_ind][3];\n",
       "\n",
       "        if (!name) { continue; };\n",
       "\n",
       "        var button = $('<button class=\"btn btn-default\" href=\"#\" title=\"' + name + '\"><i class=\"fa ' + image + ' fa-lg\"></i></button>');\n",
       "        button.click(method_name, toolbar_event);\n",
       "        button.mouseover(tooltip, toolbar_mouse_event);\n",
       "        nav_element.append(button);\n",
       "    }\n",
       "\n",
       "    // Add the status bar.\n",
       "    var status_bar = $('<span class=\"mpl-message\" style=\"text-align:right; float: right;\"/>');\n",
       "    nav_element.append(status_bar);\n",
       "    this.message = status_bar[0];\n",
       "\n",
       "    // Add the close button to the window.\n",
       "    var buttongrp = $('<div class=\"btn-group inline pull-right\"></div>');\n",
       "    var button = $('<button class=\"btn btn-mini btn-primary\" href=\"#\" title=\"Stop Interaction\"><i class=\"fa fa-power-off icon-remove icon-large\"></i></button>');\n",
       "    button.click(function (evt) { fig.handle_close(fig, {}); } );\n",
       "    button.mouseover('Stop Interaction', toolbar_mouse_event);\n",
       "    buttongrp.append(button);\n",
       "    var titlebar = this.root.find($('.ui-dialog-titlebar'));\n",
       "    titlebar.prepend(buttongrp);\n",
       "}\n",
       "\n",
       "mpl.figure.prototype._root_extra_style = function(el){\n",
       "    var fig = this\n",
       "    el.on(\"remove\", function(){\n",
       "\tfig.close_ws(fig, {});\n",
       "    });\n",
       "}\n",
       "\n",
       "mpl.figure.prototype._canvas_extra_style = function(el){\n",
       "    // this is important to make the div 'focusable\n",
       "    el.attr('tabindex', 0)\n",
       "    // reach out to IPython and tell the keyboard manager to turn it's self\n",
       "    // off when our div gets focus\n",
       "\n",
       "    // location in version 3\n",
       "    if (IPython.notebook.keyboard_manager) {\n",
       "        IPython.notebook.keyboard_manager.register_events(el);\n",
       "    }\n",
       "    else {\n",
       "        // location in version 2\n",
       "        IPython.keyboard_manager.register_events(el);\n",
       "    }\n",
       "\n",
       "}\n",
       "\n",
       "mpl.figure.prototype._key_event_extra = function(event, name) {\n",
       "    var manager = IPython.notebook.keyboard_manager;\n",
       "    if (!manager)\n",
       "        manager = IPython.keyboard_manager;\n",
       "\n",
       "    // Check for shift+enter\n",
       "    if (event.shiftKey && event.which == 13) {\n",
       "        this.canvas_div.blur();\n",
       "        event.shiftKey = false;\n",
       "        // Send a \"J\" for go to next cell\n",
       "        event.which = 74;\n",
       "        event.keyCode = 74;\n",
       "        manager.command_mode();\n",
       "        manager.handle_keydown(event);\n",
       "    }\n",
       "}\n",
       "\n",
       "mpl.figure.prototype.handle_save = function(fig, msg) {\n",
       "    fig.ondownload(fig, null);\n",
       "}\n",
       "\n",
       "\n",
       "mpl.find_output_cell = function(html_output) {\n",
       "    // Return the cell and output element which can be found *uniquely* in the notebook.\n",
       "    // Note - this is a bit hacky, but it is done because the \"notebook_saving.Notebook\"\n",
       "    // IPython event is triggered only after the cells have been serialised, which for\n",
       "    // our purposes (turning an active figure into a static one), is too late.\n",
       "    var cells = IPython.notebook.get_cells();\n",
       "    var ncells = cells.length;\n",
       "    for (var i=0; i<ncells; i++) {\n",
       "        var cell = cells[i];\n",
       "        if (cell.cell_type === 'code'){\n",
       "            for (var j=0; j<cell.output_area.outputs.length; j++) {\n",
       "                var data = cell.output_area.outputs[j];\n",
       "                if (data.data) {\n",
       "                    // IPython >= 3 moved mimebundle to data attribute of output\n",
       "                    data = data.data;\n",
       "                }\n",
       "                if (data['text/html'] == html_output) {\n",
       "                    return [cell, data, j];\n",
       "                }\n",
       "            }\n",
       "        }\n",
       "    }\n",
       "}\n",
       "\n",
       "// Register the function which deals with the matplotlib target/channel.\n",
       "// The kernel may be null if the page has been refreshed.\n",
       "if (IPython.notebook.kernel != null) {\n",
       "    IPython.notebook.kernel.comm_manager.register_target('matplotlib', mpl.mpl_figure_comm);\n",
       "}\n"
      ],
      "text/plain": [
       "<IPython.core.display.Javascript object>"
      ]
     },
     "metadata": {},
     "output_type": "display_data"
    },
    {
     "data": {
      "text/html": [
       "<img src=\"data:image/png;base64,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\" width=\"640\">"
      ],
      "text/plain": [
       "<IPython.core.display.HTML object>"
      ]
     },
     "metadata": {},
     "output_type": "display_data"
    },
    {
     "data": {
      "application/javascript": [
       "/* Put everything inside the global mpl namespace */\n",
       "window.mpl = {};\n",
       "\n",
       "\n",
       "mpl.get_websocket_type = function() {\n",
       "    if (typeof(WebSocket) !== 'undefined') {\n",
       "        return WebSocket;\n",
       "    } else if (typeof(MozWebSocket) !== 'undefined') {\n",
       "        return MozWebSocket;\n",
       "    } else {\n",
       "        alert('Your browser does not have WebSocket support.' +\n",
       "              'Please try Chrome, Safari or Firefox ≥ 6. ' +\n",
       "              'Firefox 4 and 5 are also supported but you ' +\n",
       "              'have to enable WebSockets in about:config.');\n",
       "    };\n",
       "}\n",
       "\n",
       "mpl.figure = function(figure_id, websocket, ondownload, parent_element) {\n",
       "    this.id = figure_id;\n",
       "\n",
       "    this.ws = websocket;\n",
       "\n",
       "    this.supports_binary = (this.ws.binaryType != undefined);\n",
       "\n",
       "    if (!this.supports_binary) {\n",
       "        var warnings = document.getElementById(\"mpl-warnings\");\n",
       "        if (warnings) {\n",
       "            warnings.style.display = 'block';\n",
       "            warnings.textContent = (\n",
       "                \"This browser does not support binary websocket messages. \" +\n",
       "                    \"Performance may be slow.\");\n",
       "        }\n",
       "    }\n",
       "\n",
       "    this.imageObj = new Image();\n",
       "\n",
       "    this.context = undefined;\n",
       "    this.message = undefined;\n",
       "    this.canvas = undefined;\n",
       "    this.rubberband_canvas = undefined;\n",
       "    this.rubberband_context = undefined;\n",
       "    this.format_dropdown = undefined;\n",
       "\n",
       "    this.image_mode = 'full';\n",
       "\n",
       "    this.root = $('<div/>');\n",
       "    this._root_extra_style(this.root)\n",
       "    this.root.attr('style', 'display: inline-block');\n",
       "\n",
       "    $(parent_element).append(this.root);\n",
       "\n",
       "    this._init_header(this);\n",
       "    this._init_canvas(this);\n",
       "    this._init_toolbar(this);\n",
       "\n",
       "    var fig = this;\n",
       "\n",
       "    this.waiting = false;\n",
       "\n",
       "    this.ws.onopen =  function () {\n",
       "            fig.send_message(\"supports_binary\", {value: fig.supports_binary});\n",
       "            fig.send_message(\"send_image_mode\", {});\n",
       "            if (mpl.ratio != 1) {\n",
       "                fig.send_message(\"set_dpi_ratio\", {'dpi_ratio': mpl.ratio});\n",
       "            }\n",
       "            fig.send_message(\"refresh\", {});\n",
       "        }\n",
       "\n",
       "    this.imageObj.onload = function() {\n",
       "            if (fig.image_mode == 'full') {\n",
       "                // Full images could contain transparency (where diff images\n",
       "                // almost always do), so we need to clear the canvas so that\n",
       "                // there is no ghosting.\n",
       "                fig.context.clearRect(0, 0, fig.canvas.width, fig.canvas.height);\n",
       "            }\n",
       "            fig.context.drawImage(fig.imageObj, 0, 0);\n",
       "        };\n",
       "\n",
       "    this.imageObj.onunload = function() {\n",
       "        fig.ws.close();\n",
       "    }\n",
       "\n",
       "    this.ws.onmessage = this._make_on_message_function(this);\n",
       "\n",
       "    this.ondownload = ondownload;\n",
       "}\n",
       "\n",
       "mpl.figure.prototype._init_header = function() {\n",
       "    var titlebar = $(\n",
       "        '<div class=\"ui-dialog-titlebar ui-widget-header ui-corner-all ' +\n",
       "        'ui-helper-clearfix\"/>');\n",
       "    var titletext = $(\n",
       "        '<div class=\"ui-dialog-title\" style=\"width: 100%; ' +\n",
       "        'text-align: center; padding: 3px;\"/>');\n",
       "    titlebar.append(titletext)\n",
       "    this.root.append(titlebar);\n",
       "    this.header = titletext[0];\n",
       "}\n",
       "\n",
       "\n",
       "\n",
       "mpl.figure.prototype._canvas_extra_style = function(canvas_div) {\n",
       "\n",
       "}\n",
       "\n",
       "\n",
       "mpl.figure.prototype._root_extra_style = function(canvas_div) {\n",
       "\n",
       "}\n",
       "\n",
       "mpl.figure.prototype._init_canvas = function() {\n",
       "    var fig = this;\n",
       "\n",
       "    var canvas_div = $('<div/>');\n",
       "\n",
       "    canvas_div.attr('style', 'position: relative; clear: both; outline: 0');\n",
       "\n",
       "    function canvas_keyboard_event(event) {\n",
       "        return fig.key_event(event, event['data']);\n",
       "    }\n",
       "\n",
       "    canvas_div.keydown('key_press', canvas_keyboard_event);\n",
       "    canvas_div.keyup('key_release', canvas_keyboard_event);\n",
       "    this.canvas_div = canvas_div\n",
       "    this._canvas_extra_style(canvas_div)\n",
       "    this.root.append(canvas_div);\n",
       "\n",
       "    var canvas = $('<canvas/>');\n",
       "    canvas.addClass('mpl-canvas');\n",
       "    canvas.attr('style', \"left: 0; top: 0; z-index: 0; outline: 0\")\n",
       "\n",
       "    this.canvas = canvas[0];\n",
       "    this.context = canvas[0].getContext(\"2d\");\n",
       "\n",
       "    var backingStore = this.context.backingStorePixelRatio ||\n",
       "\tthis.context.webkitBackingStorePixelRatio ||\n",
       "\tthis.context.mozBackingStorePixelRatio ||\n",
       "\tthis.context.msBackingStorePixelRatio ||\n",
       "\tthis.context.oBackingStorePixelRatio ||\n",
       "\tthis.context.backingStorePixelRatio || 1;\n",
       "\n",
       "    mpl.ratio = (window.devicePixelRatio || 1) / backingStore;\n",
       "\n",
       "    var rubberband = $('<canvas/>');\n",
       "    rubberband.attr('style', \"position: absolute; left: 0; top: 0; z-index: 1;\")\n",
       "\n",
       "    var pass_mouse_events = true;\n",
       "\n",
       "    canvas_div.resizable({\n",
       "        start: function(event, ui) {\n",
       "            pass_mouse_events = false;\n",
       "        },\n",
       "        resize: function(event, ui) {\n",
       "            fig.request_resize(ui.size.width, ui.size.height);\n",
       "        },\n",
       "        stop: function(event, ui) {\n",
       "            pass_mouse_events = true;\n",
       "            fig.request_resize(ui.size.width, ui.size.height);\n",
       "        },\n",
       "    });\n",
       "\n",
       "    function mouse_event_fn(event) {\n",
       "        if (pass_mouse_events)\n",
       "            return fig.mouse_event(event, event['data']);\n",
       "    }\n",
       "\n",
       "    rubberband.mousedown('button_press', mouse_event_fn);\n",
       "    rubberband.mouseup('button_release', mouse_event_fn);\n",
       "    // Throttle sequential mouse events to 1 every 20ms.\n",
       "    rubberband.mousemove('motion_notify', mouse_event_fn);\n",
       "\n",
       "    rubberband.mouseenter('figure_enter', mouse_event_fn);\n",
       "    rubberband.mouseleave('figure_leave', mouse_event_fn);\n",
       "\n",
       "    canvas_div.on(\"wheel\", function (event) {\n",
       "        event = event.originalEvent;\n",
       "        event['data'] = 'scroll'\n",
       "        if (event.deltaY < 0) {\n",
       "            event.step = 1;\n",
       "        } else {\n",
       "            event.step = -1;\n",
       "        }\n",
       "        mouse_event_fn(event);\n",
       "    });\n",
       "\n",
       "    canvas_div.append(canvas);\n",
       "    canvas_div.append(rubberband);\n",
       "\n",
       "    this.rubberband = rubberband;\n",
       "    this.rubberband_canvas = rubberband[0];\n",
       "    this.rubberband_context = rubberband[0].getContext(\"2d\");\n",
       "    this.rubberband_context.strokeStyle = \"#000000\";\n",
       "\n",
       "    this._resize_canvas = function(width, height) {\n",
       "        // Keep the size of the canvas, canvas container, and rubber band\n",
       "        // canvas in synch.\n",
       "        canvas_div.css('width', width)\n",
       "        canvas_div.css('height', height)\n",
       "\n",
       "        canvas.attr('width', width * mpl.ratio);\n",
       "        canvas.attr('height', height * mpl.ratio);\n",
       "        canvas.attr('style', 'width: ' + width + 'px; height: ' + height + 'px;');\n",
       "\n",
       "        rubberband.attr('width', width);\n",
       "        rubberband.attr('height', height);\n",
       "    }\n",
       "\n",
       "    // Set the figure to an initial 600x600px, this will subsequently be updated\n",
       "    // upon first draw.\n",
       "    this._resize_canvas(600, 600);\n",
       "\n",
       "    // Disable right mouse context menu.\n",
       "    $(this.rubberband_canvas).bind(\"contextmenu\",function(e){\n",
       "        return false;\n",
       "    });\n",
       "\n",
       "    function set_focus () {\n",
       "        canvas.focus();\n",
       "        canvas_div.focus();\n",
       "    }\n",
       "\n",
       "    window.setTimeout(set_focus, 100);\n",
       "}\n",
       "\n",
       "mpl.figure.prototype._init_toolbar = function() {\n",
       "    var fig = this;\n",
       "\n",
       "    var nav_element = $('<div/>')\n",
       "    nav_element.attr('style', 'width: 100%');\n",
       "    this.root.append(nav_element);\n",
       "\n",
       "    // Define a callback function for later on.\n",
       "    function toolbar_event(event) {\n",
       "        return fig.toolbar_button_onclick(event['data']);\n",
       "    }\n",
       "    function toolbar_mouse_event(event) {\n",
       "        return fig.toolbar_button_onmouseover(event['data']);\n",
       "    }\n",
       "\n",
       "    for(var toolbar_ind in mpl.toolbar_items) {\n",
       "        var name = mpl.toolbar_items[toolbar_ind][0];\n",
       "        var tooltip = mpl.toolbar_items[toolbar_ind][1];\n",
       "        var image = mpl.toolbar_items[toolbar_ind][2];\n",
       "        var method_name = mpl.toolbar_items[toolbar_ind][3];\n",
       "\n",
       "        if (!name) {\n",
       "            // put a spacer in here.\n",
       "            continue;\n",
       "        }\n",
       "        var button = $('<button/>');\n",
       "        button.addClass('ui-button ui-widget ui-state-default ui-corner-all ' +\n",
       "                        'ui-button-icon-only');\n",
       "        button.attr('role', 'button');\n",
       "        button.attr('aria-disabled', 'false');\n",
       "        button.click(method_name, toolbar_event);\n",
       "        button.mouseover(tooltip, toolbar_mouse_event);\n",
       "\n",
       "        var icon_img = $('<span/>');\n",
       "        icon_img.addClass('ui-button-icon-primary ui-icon');\n",
       "        icon_img.addClass(image);\n",
       "        icon_img.addClass('ui-corner-all');\n",
       "\n",
       "        var tooltip_span = $('<span/>');\n",
       "        tooltip_span.addClass('ui-button-text');\n",
       "        tooltip_span.html(tooltip);\n",
       "\n",
       "        button.append(icon_img);\n",
       "        button.append(tooltip_span);\n",
       "\n",
       "        nav_element.append(button);\n",
       "    }\n",
       "\n",
       "    var fmt_picker_span = $('<span/>');\n",
       "\n",
       "    var fmt_picker = $('<select/>');\n",
       "    fmt_picker.addClass('mpl-toolbar-option ui-widget ui-widget-content');\n",
       "    fmt_picker_span.append(fmt_picker);\n",
       "    nav_element.append(fmt_picker_span);\n",
       "    this.format_dropdown = fmt_picker[0];\n",
       "\n",
       "    for (var ind in mpl.extensions) {\n",
       "        var fmt = mpl.extensions[ind];\n",
       "        var option = $(\n",
       "            '<option/>', {selected: fmt === mpl.default_extension}).html(fmt);\n",
       "        fmt_picker.append(option)\n",
       "    }\n",
       "\n",
       "    // Add hover states to the ui-buttons\n",
       "    $( \".ui-button\" ).hover(\n",
       "        function() { $(this).addClass(\"ui-state-hover\");},\n",
       "        function() { $(this).removeClass(\"ui-state-hover\");}\n",
       "    );\n",
       "\n",
       "    var status_bar = $('<span class=\"mpl-message\"/>');\n",
       "    nav_element.append(status_bar);\n",
       "    this.message = status_bar[0];\n",
       "}\n",
       "\n",
       "mpl.figure.prototype.request_resize = function(x_pixels, y_pixels) {\n",
       "    // Request matplotlib to resize the figure. Matplotlib will then trigger a resize in the client,\n",
       "    // which will in turn request a refresh of the image.\n",
       "    this.send_message('resize', {'width': x_pixels, 'height': y_pixels});\n",
       "}\n",
       "\n",
       "mpl.figure.prototype.send_message = function(type, properties) {\n",
       "    properties['type'] = type;\n",
       "    properties['figure_id'] = this.id;\n",
       "    this.ws.send(JSON.stringify(properties));\n",
       "}\n",
       "\n",
       "mpl.figure.prototype.send_draw_message = function() {\n",
       "    if (!this.waiting) {\n",
       "        this.waiting = true;\n",
       "        this.ws.send(JSON.stringify({type: \"draw\", figure_id: this.id}));\n",
       "    }\n",
       "}\n",
       "\n",
       "\n",
       "mpl.figure.prototype.handle_save = function(fig, msg) {\n",
       "    var format_dropdown = fig.format_dropdown;\n",
       "    var format = format_dropdown.options[format_dropdown.selectedIndex].value;\n",
       "    fig.ondownload(fig, format);\n",
       "}\n",
       "\n",
       "\n",
       "mpl.figure.prototype.handle_resize = function(fig, msg) {\n",
       "    var size = msg['size'];\n",
       "    if (size[0] != fig.canvas.width || size[1] != fig.canvas.height) {\n",
       "        fig._resize_canvas(size[0], size[1]);\n",
       "        fig.send_message(\"refresh\", {});\n",
       "    };\n",
       "}\n",
       "\n",
       "mpl.figure.prototype.handle_rubberband = function(fig, msg) {\n",
       "    var x0 = msg['x0'] / mpl.ratio;\n",
       "    var y0 = (fig.canvas.height - msg['y0']) / mpl.ratio;\n",
       "    var x1 = msg['x1'] / mpl.ratio;\n",
       "    var y1 = (fig.canvas.height - msg['y1']) / mpl.ratio;\n",
       "    x0 = Math.floor(x0) + 0.5;\n",
       "    y0 = Math.floor(y0) + 0.5;\n",
       "    x1 = Math.floor(x1) + 0.5;\n",
       "    y1 = Math.floor(y1) + 0.5;\n",
       "    var min_x = Math.min(x0, x1);\n",
       "    var min_y = Math.min(y0, y1);\n",
       "    var width = Math.abs(x1 - x0);\n",
       "    var height = Math.abs(y1 - y0);\n",
       "\n",
       "    fig.rubberband_context.clearRect(\n",
       "        0, 0, fig.canvas.width, fig.canvas.height);\n",
       "\n",
       "    fig.rubberband_context.strokeRect(min_x, min_y, width, height);\n",
       "}\n",
       "\n",
       "mpl.figure.prototype.handle_figure_label = function(fig, msg) {\n",
       "    // Updates the figure title.\n",
       "    fig.header.textContent = msg['label'];\n",
       "}\n",
       "\n",
       "mpl.figure.prototype.handle_cursor = function(fig, msg) {\n",
       "    var cursor = msg['cursor'];\n",
       "    switch(cursor)\n",
       "    {\n",
       "    case 0:\n",
       "        cursor = 'pointer';\n",
       "        break;\n",
       "    case 1:\n",
       "        cursor = 'default';\n",
       "        break;\n",
       "    case 2:\n",
       "        cursor = 'crosshair';\n",
       "        break;\n",
       "    case 3:\n",
       "        cursor = 'move';\n",
       "        break;\n",
       "    }\n",
       "    fig.rubberband_canvas.style.cursor = cursor;\n",
       "}\n",
       "\n",
       "mpl.figure.prototype.handle_message = function(fig, msg) {\n",
       "    fig.message.textContent = msg['message'];\n",
       "}\n",
       "\n",
       "mpl.figure.prototype.handle_draw = function(fig, msg) {\n",
       "    // Request the server to send over a new figure.\n",
       "    fig.send_draw_message();\n",
       "}\n",
       "\n",
       "mpl.figure.prototype.handle_image_mode = function(fig, msg) {\n",
       "    fig.image_mode = msg['mode'];\n",
       "}\n",
       "\n",
       "mpl.figure.prototype.updated_canvas_event = function() {\n",
       "    // Called whenever the canvas gets updated.\n",
       "    this.send_message(\"ack\", {});\n",
       "}\n",
       "\n",
       "// A function to construct a web socket function for onmessage handling.\n",
       "// Called in the figure constructor.\n",
       "mpl.figure.prototype._make_on_message_function = function(fig) {\n",
       "    return function socket_on_message(evt) {\n",
       "        if (evt.data instanceof Blob) {\n",
       "            /* FIXME: We get \"Resource interpreted as Image but\n",
       "             * transferred with MIME type text/plain:\" errors on\n",
       "             * Chrome.  But how to set the MIME type?  It doesn't seem\n",
       "             * to be part of the websocket stream */\n",
       "            evt.data.type = \"image/png\";\n",
       "\n",
       "            /* Free the memory for the previous frames */\n",
       "            if (fig.imageObj.src) {\n",
       "                (window.URL || window.webkitURL).revokeObjectURL(\n",
       "                    fig.imageObj.src);\n",
       "            }\n",
       "\n",
       "            fig.imageObj.src = (window.URL || window.webkitURL).createObjectURL(\n",
       "                evt.data);\n",
       "            fig.updated_canvas_event();\n",
       "            fig.waiting = false;\n",
       "            return;\n",
       "        }\n",
       "        else if (typeof evt.data === 'string' && evt.data.slice(0, 21) == \"data:image/png;base64\") {\n",
       "            fig.imageObj.src = evt.data;\n",
       "            fig.updated_canvas_event();\n",
       "            fig.waiting = false;\n",
       "            return;\n",
       "        }\n",
       "\n",
       "        var msg = JSON.parse(evt.data);\n",
       "        var msg_type = msg['type'];\n",
       "\n",
       "        // Call the  \"handle_{type}\" callback, which takes\n",
       "        // the figure and JSON message as its only arguments.\n",
       "        try {\n",
       "            var callback = fig[\"handle_\" + msg_type];\n",
       "        } catch (e) {\n",
       "            console.log(\"No handler for the '\" + msg_type + \"' message type: \", msg);\n",
       "            return;\n",
       "        }\n",
       "\n",
       "        if (callback) {\n",
       "            try {\n",
       "                // console.log(\"Handling '\" + msg_type + \"' message: \", msg);\n",
       "                callback(fig, msg);\n",
       "            } catch (e) {\n",
       "                console.log(\"Exception inside the 'handler_\" + msg_type + \"' callback:\", e, e.stack, msg);\n",
       "            }\n",
       "        }\n",
       "    };\n",
       "}\n",
       "\n",
       "// from http://stackoverflow.com/questions/1114465/getting-mouse-location-in-canvas\n",
       "mpl.findpos = function(e) {\n",
       "    //this section is from http://www.quirksmode.org/js/events_properties.html\n",
       "    var targ;\n",
       "    if (!e)\n",
       "        e = window.event;\n",
       "    if (e.target)\n",
       "        targ = e.target;\n",
       "    else if (e.srcElement)\n",
       "        targ = e.srcElement;\n",
       "    if (targ.nodeType == 3) // defeat Safari bug\n",
       "        targ = targ.parentNode;\n",
       "\n",
       "    // jQuery normalizes the pageX and pageY\n",
       "    // pageX,Y are the mouse positions relative to the document\n",
       "    // offset() returns the position of the element relative to the document\n",
       "    var x = e.pageX - $(targ).offset().left;\n",
       "    var y = e.pageY - $(targ).offset().top;\n",
       "\n",
       "    return {\"x\": x, \"y\": y};\n",
       "};\n",
       "\n",
       "/*\n",
       " * return a copy of an object with only non-object keys\n",
       " * we need this to avoid circular references\n",
       " * http://stackoverflow.com/a/24161582/3208463\n",
       " */\n",
       "function simpleKeys (original) {\n",
       "  return Object.keys(original).reduce(function (obj, key) {\n",
       "    if (typeof original[key] !== 'object')\n",
       "        obj[key] = original[key]\n",
       "    return obj;\n",
       "  }, {});\n",
       "}\n",
       "\n",
       "mpl.figure.prototype.mouse_event = function(event, name) {\n",
       "    var canvas_pos = mpl.findpos(event)\n",
       "\n",
       "    if (name === 'button_press')\n",
       "    {\n",
       "        this.canvas.focus();\n",
       "        this.canvas_div.focus();\n",
       "    }\n",
       "\n",
       "    var x = canvas_pos.x * mpl.ratio;\n",
       "    var y = canvas_pos.y * mpl.ratio;\n",
       "\n",
       "    this.send_message(name, {x: x, y: y, button: event.button,\n",
       "                             step: event.step,\n",
       "                             guiEvent: simpleKeys(event)});\n",
       "\n",
       "    /* This prevents the web browser from automatically changing to\n",
       "     * the text insertion cursor when the button is pressed.  We want\n",
       "     * to control all of the cursor setting manually through the\n",
       "     * 'cursor' event from matplotlib */\n",
       "    event.preventDefault();\n",
       "    return false;\n",
       "}\n",
       "\n",
       "mpl.figure.prototype._key_event_extra = function(event, name) {\n",
       "    // Handle any extra behaviour associated with a key event\n",
       "}\n",
       "\n",
       "mpl.figure.prototype.key_event = function(event, name) {\n",
       "\n",
       "    // Prevent repeat events\n",
       "    if (name == 'key_press')\n",
       "    {\n",
       "        if (event.which === this._key)\n",
       "            return;\n",
       "        else\n",
       "            this._key = event.which;\n",
       "    }\n",
       "    if (name == 'key_release')\n",
       "        this._key = null;\n",
       "\n",
       "    var value = '';\n",
       "    if (event.ctrlKey && event.which != 17)\n",
       "        value += \"ctrl+\";\n",
       "    if (event.altKey && event.which != 18)\n",
       "        value += \"alt+\";\n",
       "    if (event.shiftKey && event.which != 16)\n",
       "        value += \"shift+\";\n",
       "\n",
       "    value += 'k';\n",
       "    value += event.which.toString();\n",
       "\n",
       "    this._key_event_extra(event, name);\n",
       "\n",
       "    this.send_message(name, {key: value,\n",
       "                             guiEvent: simpleKeys(event)});\n",
       "    return false;\n",
       "}\n",
       "\n",
       "mpl.figure.prototype.toolbar_button_onclick = function(name) {\n",
       "    if (name == 'download') {\n",
       "        this.handle_save(this, null);\n",
       "    } else {\n",
       "        this.send_message(\"toolbar_button\", {name: name});\n",
       "    }\n",
       "};\n",
       "\n",
       "mpl.figure.prototype.toolbar_button_onmouseover = function(tooltip) {\n",
       "    this.message.textContent = tooltip;\n",
       "};\n",
       "mpl.toolbar_items = [[\"Home\", \"Reset original view\", \"fa fa-home icon-home\", \"home\"], [\"Back\", \"Back to previous view\", \"fa fa-arrow-left icon-arrow-left\", \"back\"], [\"Forward\", \"Forward to next view\", \"fa fa-arrow-right icon-arrow-right\", \"forward\"], [\"\", \"\", \"\", \"\"], [\"Pan\", \"Pan axes with left mouse, zoom with right\", \"fa fa-arrows icon-move\", \"pan\"], [\"Zoom\", \"Zoom to rectangle\", \"fa fa-square-o icon-check-empty\", \"zoom\"], [\"\", \"\", \"\", \"\"], [\"Download\", \"Download plot\", \"fa fa-floppy-o icon-save\", \"download\"]];\n",
       "\n",
       "mpl.extensions = [\"eps\", \"jpeg\", \"pdf\", \"png\", \"ps\", \"raw\", \"svg\", \"tif\"];\n",
       "\n",
       "mpl.default_extension = \"png\";var comm_websocket_adapter = function(comm) {\n",
       "    // Create a \"websocket\"-like object which calls the given IPython comm\n",
       "    // object with the appropriate methods. Currently this is a non binary\n",
       "    // socket, so there is still some room for performance tuning.\n",
       "    var ws = {};\n",
       "\n",
       "    ws.close = function() {\n",
       "        comm.close()\n",
       "    };\n",
       "    ws.send = function(m) {\n",
       "        //console.log('sending', m);\n",
       "        comm.send(m);\n",
       "    };\n",
       "    // Register the callback with on_msg.\n",
       "    comm.on_msg(function(msg) {\n",
       "        //console.log('receiving', msg['content']['data'], msg);\n",
       "        // Pass the mpl event to the overridden (by mpl) onmessage function.\n",
       "        ws.onmessage(msg['content']['data'])\n",
       "    });\n",
       "    return ws;\n",
       "}\n",
       "\n",
       "mpl.mpl_figure_comm = function(comm, msg) {\n",
       "    // This is the function which gets called when the mpl process\n",
       "    // starts-up an IPython Comm through the \"matplotlib\" channel.\n",
       "\n",
       "    var id = msg.content.data.id;\n",
       "    // Get hold of the div created by the display call when the Comm\n",
       "    // socket was opened in Python.\n",
       "    var element = $(\"#\" + id);\n",
       "    var ws_proxy = comm_websocket_adapter(comm)\n",
       "\n",
       "    function ondownload(figure, format) {\n",
       "        window.open(figure.imageObj.src);\n",
       "    }\n",
       "\n",
       "    var fig = new mpl.figure(id, ws_proxy,\n",
       "                           ondownload,\n",
       "                           element.get(0));\n",
       "\n",
       "    // Call onopen now - mpl needs it, as it is assuming we've passed it a real\n",
       "    // web socket which is closed, not our websocket->open comm proxy.\n",
       "    ws_proxy.onopen();\n",
       "\n",
       "    fig.parent_element = element.get(0);\n",
       "    fig.cell_info = mpl.find_output_cell(\"<div id='\" + id + \"'></div>\");\n",
       "    if (!fig.cell_info) {\n",
       "        console.error(\"Failed to find cell for figure\", id, fig);\n",
       "        return;\n",
       "    }\n",
       "\n",
       "    var output_index = fig.cell_info[2]\n",
       "    var cell = fig.cell_info[0];\n",
       "\n",
       "};\n",
       "\n",
       "mpl.figure.prototype.handle_close = function(fig, msg) {\n",
       "    var width = fig.canvas.width/mpl.ratio\n",
       "    fig.root.unbind('remove')\n",
       "\n",
       "    // Update the output cell to use the data from the current canvas.\n",
       "    fig.push_to_output();\n",
       "    var dataURL = fig.canvas.toDataURL();\n",
       "    // Re-enable the keyboard manager in IPython - without this line, in FF,\n",
       "    // the notebook keyboard shortcuts fail.\n",
       "    IPython.keyboard_manager.enable()\n",
       "    $(fig.parent_element).html('<img src=\"' + dataURL + '\" width=\"' + width + '\">');\n",
       "    fig.close_ws(fig, msg);\n",
       "}\n",
       "\n",
       "mpl.figure.prototype.close_ws = function(fig, msg){\n",
       "    fig.send_message('closing', msg);\n",
       "    // fig.ws.close()\n",
       "}\n",
       "\n",
       "mpl.figure.prototype.push_to_output = function(remove_interactive) {\n",
       "    // Turn the data on the canvas into data in the output cell.\n",
       "    var width = this.canvas.width/mpl.ratio\n",
       "    var dataURL = this.canvas.toDataURL();\n",
       "    this.cell_info[1]['text/html'] = '<img src=\"' + dataURL + '\" width=\"' + width + '\">';\n",
       "}\n",
       "\n",
       "mpl.figure.prototype.updated_canvas_event = function() {\n",
       "    // Tell IPython that the notebook contents must change.\n",
       "    IPython.notebook.set_dirty(true);\n",
       "    this.send_message(\"ack\", {});\n",
       "    var fig = this;\n",
       "    // Wait a second, then push the new image to the DOM so\n",
       "    // that it is saved nicely (might be nice to debounce this).\n",
       "    setTimeout(function () { fig.push_to_output() }, 1000);\n",
       "}\n",
       "\n",
       "mpl.figure.prototype._init_toolbar = function() {\n",
       "    var fig = this;\n",
       "\n",
       "    var nav_element = $('<div/>')\n",
       "    nav_element.attr('style', 'width: 100%');\n",
       "    this.root.append(nav_element);\n",
       "\n",
       "    // Define a callback function for later on.\n",
       "    function toolbar_event(event) {\n",
       "        return fig.toolbar_button_onclick(event['data']);\n",
       "    }\n",
       "    function toolbar_mouse_event(event) {\n",
       "        return fig.toolbar_button_onmouseover(event['data']);\n",
       "    }\n",
       "\n",
       "    for(var toolbar_ind in mpl.toolbar_items){\n",
       "        var name = mpl.toolbar_items[toolbar_ind][0];\n",
       "        var tooltip = mpl.toolbar_items[toolbar_ind][1];\n",
       "        var image = mpl.toolbar_items[toolbar_ind][2];\n",
       "        var method_name = mpl.toolbar_items[toolbar_ind][3];\n",
       "\n",
       "        if (!name) { continue; };\n",
       "\n",
       "        var button = $('<button class=\"btn btn-default\" href=\"#\" title=\"' + name + '\"><i class=\"fa ' + image + ' fa-lg\"></i></button>');\n",
       "        button.click(method_name, toolbar_event);\n",
       "        button.mouseover(tooltip, toolbar_mouse_event);\n",
       "        nav_element.append(button);\n",
       "    }\n",
       "\n",
       "    // Add the status bar.\n",
       "    var status_bar = $('<span class=\"mpl-message\" style=\"text-align:right; float: right;\"/>');\n",
       "    nav_element.append(status_bar);\n",
       "    this.message = status_bar[0];\n",
       "\n",
       "    // Add the close button to the window.\n",
       "    var buttongrp = $('<div class=\"btn-group inline pull-right\"></div>');\n",
       "    var button = $('<button class=\"btn btn-mini btn-primary\" href=\"#\" title=\"Stop Interaction\"><i class=\"fa fa-power-off icon-remove icon-large\"></i></button>');\n",
       "    button.click(function (evt) { fig.handle_close(fig, {}); } );\n",
       "    button.mouseover('Stop Interaction', toolbar_mouse_event);\n",
       "    buttongrp.append(button);\n",
       "    var titlebar = this.root.find($('.ui-dialog-titlebar'));\n",
       "    titlebar.prepend(buttongrp);\n",
       "}\n",
       "\n",
       "mpl.figure.prototype._root_extra_style = function(el){\n",
       "    var fig = this\n",
       "    el.on(\"remove\", function(){\n",
       "\tfig.close_ws(fig, {});\n",
       "    });\n",
       "}\n",
       "\n",
       "mpl.figure.prototype._canvas_extra_style = function(el){\n",
       "    // this is important to make the div 'focusable\n",
       "    el.attr('tabindex', 0)\n",
       "    // reach out to IPython and tell the keyboard manager to turn it's self\n",
       "    // off when our div gets focus\n",
       "\n",
       "    // location in version 3\n",
       "    if (IPython.notebook.keyboard_manager) {\n",
       "        IPython.notebook.keyboard_manager.register_events(el);\n",
       "    }\n",
       "    else {\n",
       "        // location in version 2\n",
       "        IPython.keyboard_manager.register_events(el);\n",
       "    }\n",
       "\n",
       "}\n",
       "\n",
       "mpl.figure.prototype._key_event_extra = function(event, name) {\n",
       "    var manager = IPython.notebook.keyboard_manager;\n",
       "    if (!manager)\n",
       "        manager = IPython.keyboard_manager;\n",
       "\n",
       "    // Check for shift+enter\n",
       "    if (event.shiftKey && event.which == 13) {\n",
       "        this.canvas_div.blur();\n",
       "        event.shiftKey = false;\n",
       "        // Send a \"J\" for go to next cell\n",
       "        event.which = 74;\n",
       "        event.keyCode = 74;\n",
       "        manager.command_mode();\n",
       "        manager.handle_keydown(event);\n",
       "    }\n",
       "}\n",
       "\n",
       "mpl.figure.prototype.handle_save = function(fig, msg) {\n",
       "    fig.ondownload(fig, null);\n",
       "}\n",
       "\n",
       "\n",
       "mpl.find_output_cell = function(html_output) {\n",
       "    // Return the cell and output element which can be found *uniquely* in the notebook.\n",
       "    // Note - this is a bit hacky, but it is done because the \"notebook_saving.Notebook\"\n",
       "    // IPython event is triggered only after the cells have been serialised, which for\n",
       "    // our purposes (turning an active figure into a static one), is too late.\n",
       "    var cells = IPython.notebook.get_cells();\n",
       "    var ncells = cells.length;\n",
       "    for (var i=0; i<ncells; i++) {\n",
       "        var cell = cells[i];\n",
       "        if (cell.cell_type === 'code'){\n",
       "            for (var j=0; j<cell.output_area.outputs.length; j++) {\n",
       "                var data = cell.output_area.outputs[j];\n",
       "                if (data.data) {\n",
       "                    // IPython >= 3 moved mimebundle to data attribute of output\n",
       "                    data = data.data;\n",
       "                }\n",
       "                if (data['text/html'] == html_output) {\n",
       "                    return [cell, data, j];\n",
       "                }\n",
       "            }\n",
       "        }\n",
       "    }\n",
       "}\n",
       "\n",
       "// Register the function which deals with the matplotlib target/channel.\n",
       "// The kernel may be null if the page has been refreshed.\n",
       "if (IPython.notebook.kernel != null) {\n",
       "    IPython.notebook.kernel.comm_manager.register_target('matplotlib', mpl.mpl_figure_comm);\n",
       "}\n"
      ],
      "text/plain": [
       "<IPython.core.display.Javascript object>"
      ]
     },
     "metadata": {},
     "output_type": "display_data"
    },
    {
     "data": {
      "text/html": [
       "<img src=\"data:image/png;base64,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\" width=\"640\">"
      ],
      "text/plain": [
       "<IPython.core.display.HTML object>"
      ]
     },
     "metadata": {},
     "output_type": "display_data"
    },
    {
     "data": {
      "application/javascript": [
       "/* Put everything inside the global mpl namespace */\n",
       "window.mpl = {};\n",
       "\n",
       "\n",
       "mpl.get_websocket_type = function() {\n",
       "    if (typeof(WebSocket) !== 'undefined') {\n",
       "        return WebSocket;\n",
       "    } else if (typeof(MozWebSocket) !== 'undefined') {\n",
       "        return MozWebSocket;\n",
       "    } else {\n",
       "        alert('Your browser does not have WebSocket support.' +\n",
       "              'Please try Chrome, Safari or Firefox ≥ 6. ' +\n",
       "              'Firefox 4 and 5 are also supported but you ' +\n",
       "              'have to enable WebSockets in about:config.');\n",
       "    };\n",
       "}\n",
       "\n",
       "mpl.figure = function(figure_id, websocket, ondownload, parent_element) {\n",
       "    this.id = figure_id;\n",
       "\n",
       "    this.ws = websocket;\n",
       "\n",
       "    this.supports_binary = (this.ws.binaryType != undefined);\n",
       "\n",
       "    if (!this.supports_binary) {\n",
       "        var warnings = document.getElementById(\"mpl-warnings\");\n",
       "        if (warnings) {\n",
       "            warnings.style.display = 'block';\n",
       "            warnings.textContent = (\n",
       "                \"This browser does not support binary websocket messages. \" +\n",
       "                    \"Performance may be slow.\");\n",
       "        }\n",
       "    }\n",
       "\n",
       "    this.imageObj = new Image();\n",
       "\n",
       "    this.context = undefined;\n",
       "    this.message = undefined;\n",
       "    this.canvas = undefined;\n",
       "    this.rubberband_canvas = undefined;\n",
       "    this.rubberband_context = undefined;\n",
       "    this.format_dropdown = undefined;\n",
       "\n",
       "    this.image_mode = 'full';\n",
       "\n",
       "    this.root = $('<div/>');\n",
       "    this._root_extra_style(this.root)\n",
       "    this.root.attr('style', 'display: inline-block');\n",
       "\n",
       "    $(parent_element).append(this.root);\n",
       "\n",
       "    this._init_header(this);\n",
       "    this._init_canvas(this);\n",
       "    this._init_toolbar(this);\n",
       "\n",
       "    var fig = this;\n",
       "\n",
       "    this.waiting = false;\n",
       "\n",
       "    this.ws.onopen =  function () {\n",
       "            fig.send_message(\"supports_binary\", {value: fig.supports_binary});\n",
       "            fig.send_message(\"send_image_mode\", {});\n",
       "            if (mpl.ratio != 1) {\n",
       "                fig.send_message(\"set_dpi_ratio\", {'dpi_ratio': mpl.ratio});\n",
       "            }\n",
       "            fig.send_message(\"refresh\", {});\n",
       "        }\n",
       "\n",
       "    this.imageObj.onload = function() {\n",
       "            if (fig.image_mode == 'full') {\n",
       "                // Full images could contain transparency (where diff images\n",
       "                // almost always do), so we need to clear the canvas so that\n",
       "                // there is no ghosting.\n",
       "                fig.context.clearRect(0, 0, fig.canvas.width, fig.canvas.height);\n",
       "            }\n",
       "            fig.context.drawImage(fig.imageObj, 0, 0);\n",
       "        };\n",
       "\n",
       "    this.imageObj.onunload = function() {\n",
       "        fig.ws.close();\n",
       "    }\n",
       "\n",
       "    this.ws.onmessage = this._make_on_message_function(this);\n",
       "\n",
       "    this.ondownload = ondownload;\n",
       "}\n",
       "\n",
       "mpl.figure.prototype._init_header = function() {\n",
       "    var titlebar = $(\n",
       "        '<div class=\"ui-dialog-titlebar ui-widget-header ui-corner-all ' +\n",
       "        'ui-helper-clearfix\"/>');\n",
       "    var titletext = $(\n",
       "        '<div class=\"ui-dialog-title\" style=\"width: 100%; ' +\n",
       "        'text-align: center; padding: 3px;\"/>');\n",
       "    titlebar.append(titletext)\n",
       "    this.root.append(titlebar);\n",
       "    this.header = titletext[0];\n",
       "}\n",
       "\n",
       "\n",
       "\n",
       "mpl.figure.prototype._canvas_extra_style = function(canvas_div) {\n",
       "\n",
       "}\n",
       "\n",
       "\n",
       "mpl.figure.prototype._root_extra_style = function(canvas_div) {\n",
       "\n",
       "}\n",
       "\n",
       "mpl.figure.prototype._init_canvas = function() {\n",
       "    var fig = this;\n",
       "\n",
       "    var canvas_div = $('<div/>');\n",
       "\n",
       "    canvas_div.attr('style', 'position: relative; clear: both; outline: 0');\n",
       "\n",
       "    function canvas_keyboard_event(event) {\n",
       "        return fig.key_event(event, event['data']);\n",
       "    }\n",
       "\n",
       "    canvas_div.keydown('key_press', canvas_keyboard_event);\n",
       "    canvas_div.keyup('key_release', canvas_keyboard_event);\n",
       "    this.canvas_div = canvas_div\n",
       "    this._canvas_extra_style(canvas_div)\n",
       "    this.root.append(canvas_div);\n",
       "\n",
       "    var canvas = $('<canvas/>');\n",
       "    canvas.addClass('mpl-canvas');\n",
       "    canvas.attr('style', \"left: 0; top: 0; z-index: 0; outline: 0\")\n",
       "\n",
       "    this.canvas = canvas[0];\n",
       "    this.context = canvas[0].getContext(\"2d\");\n",
       "\n",
       "    var backingStore = this.context.backingStorePixelRatio ||\n",
       "\tthis.context.webkitBackingStorePixelRatio ||\n",
       "\tthis.context.mozBackingStorePixelRatio ||\n",
       "\tthis.context.msBackingStorePixelRatio ||\n",
       "\tthis.context.oBackingStorePixelRatio ||\n",
       "\tthis.context.backingStorePixelRatio || 1;\n",
       "\n",
       "    mpl.ratio = (window.devicePixelRatio || 1) / backingStore;\n",
       "\n",
       "    var rubberband = $('<canvas/>');\n",
       "    rubberband.attr('style', \"position: absolute; left: 0; top: 0; z-index: 1;\")\n",
       "\n",
       "    var pass_mouse_events = true;\n",
       "\n",
       "    canvas_div.resizable({\n",
       "        start: function(event, ui) {\n",
       "            pass_mouse_events = false;\n",
       "        },\n",
       "        resize: function(event, ui) {\n",
       "            fig.request_resize(ui.size.width, ui.size.height);\n",
       "        },\n",
       "        stop: function(event, ui) {\n",
       "            pass_mouse_events = true;\n",
       "            fig.request_resize(ui.size.width, ui.size.height);\n",
       "        },\n",
       "    });\n",
       "\n",
       "    function mouse_event_fn(event) {\n",
       "        if (pass_mouse_events)\n",
       "            return fig.mouse_event(event, event['data']);\n",
       "    }\n",
       "\n",
       "    rubberband.mousedown('button_press', mouse_event_fn);\n",
       "    rubberband.mouseup('button_release', mouse_event_fn);\n",
       "    // Throttle sequential mouse events to 1 every 20ms.\n",
       "    rubberband.mousemove('motion_notify', mouse_event_fn);\n",
       "\n",
       "    rubberband.mouseenter('figure_enter', mouse_event_fn);\n",
       "    rubberband.mouseleave('figure_leave', mouse_event_fn);\n",
       "\n",
       "    canvas_div.on(\"wheel\", function (event) {\n",
       "        event = event.originalEvent;\n",
       "        event['data'] = 'scroll'\n",
       "        if (event.deltaY < 0) {\n",
       "            event.step = 1;\n",
       "        } else {\n",
       "            event.step = -1;\n",
       "        }\n",
       "        mouse_event_fn(event);\n",
       "    });\n",
       "\n",
       "    canvas_div.append(canvas);\n",
       "    canvas_div.append(rubberband);\n",
       "\n",
       "    this.rubberband = rubberband;\n",
       "    this.rubberband_canvas = rubberband[0];\n",
       "    this.rubberband_context = rubberband[0].getContext(\"2d\");\n",
       "    this.rubberband_context.strokeStyle = \"#000000\";\n",
       "\n",
       "    this._resize_canvas = function(width, height) {\n",
       "        // Keep the size of the canvas, canvas container, and rubber band\n",
       "        // canvas in synch.\n",
       "        canvas_div.css('width', width)\n",
       "        canvas_div.css('height', height)\n",
       "\n",
       "        canvas.attr('width', width * mpl.ratio);\n",
       "        canvas.attr('height', height * mpl.ratio);\n",
       "        canvas.attr('style', 'width: ' + width + 'px; height: ' + height + 'px;');\n",
       "\n",
       "        rubberband.attr('width', width);\n",
       "        rubberband.attr('height', height);\n",
       "    }\n",
       "\n",
       "    // Set the figure to an initial 600x600px, this will subsequently be updated\n",
       "    // upon first draw.\n",
       "    this._resize_canvas(600, 600);\n",
       "\n",
       "    // Disable right mouse context menu.\n",
       "    $(this.rubberband_canvas).bind(\"contextmenu\",function(e){\n",
       "        return false;\n",
       "    });\n",
       "\n",
       "    function set_focus () {\n",
       "        canvas.focus();\n",
       "        canvas_div.focus();\n",
       "    }\n",
       "\n",
       "    window.setTimeout(set_focus, 100);\n",
       "}\n",
       "\n",
       "mpl.figure.prototype._init_toolbar = function() {\n",
       "    var fig = this;\n",
       "\n",
       "    var nav_element = $('<div/>')\n",
       "    nav_element.attr('style', 'width: 100%');\n",
       "    this.root.append(nav_element);\n",
       "\n",
       "    // Define a callback function for later on.\n",
       "    function toolbar_event(event) {\n",
       "        return fig.toolbar_button_onclick(event['data']);\n",
       "    }\n",
       "    function toolbar_mouse_event(event) {\n",
       "        return fig.toolbar_button_onmouseover(event['data']);\n",
       "    }\n",
       "\n",
       "    for(var toolbar_ind in mpl.toolbar_items) {\n",
       "        var name = mpl.toolbar_items[toolbar_ind][0];\n",
       "        var tooltip = mpl.toolbar_items[toolbar_ind][1];\n",
       "        var image = mpl.toolbar_items[toolbar_ind][2];\n",
       "        var method_name = mpl.toolbar_items[toolbar_ind][3];\n",
       "\n",
       "        if (!name) {\n",
       "            // put a spacer in here.\n",
       "            continue;\n",
       "        }\n",
       "        var button = $('<button/>');\n",
       "        button.addClass('ui-button ui-widget ui-state-default ui-corner-all ' +\n",
       "                        'ui-button-icon-only');\n",
       "        button.attr('role', 'button');\n",
       "        button.attr('aria-disabled', 'false');\n",
       "        button.click(method_name, toolbar_event);\n",
       "        button.mouseover(tooltip, toolbar_mouse_event);\n",
       "\n",
       "        var icon_img = $('<span/>');\n",
       "        icon_img.addClass('ui-button-icon-primary ui-icon');\n",
       "        icon_img.addClass(image);\n",
       "        icon_img.addClass('ui-corner-all');\n",
       "\n",
       "        var tooltip_span = $('<span/>');\n",
       "        tooltip_span.addClass('ui-button-text');\n",
       "        tooltip_span.html(tooltip);\n",
       "\n",
       "        button.append(icon_img);\n",
       "        button.append(tooltip_span);\n",
       "\n",
       "        nav_element.append(button);\n",
       "    }\n",
       "\n",
       "    var fmt_picker_span = $('<span/>');\n",
       "\n",
       "    var fmt_picker = $('<select/>');\n",
       "    fmt_picker.addClass('mpl-toolbar-option ui-widget ui-widget-content');\n",
       "    fmt_picker_span.append(fmt_picker);\n",
       "    nav_element.append(fmt_picker_span);\n",
       "    this.format_dropdown = fmt_picker[0];\n",
       "\n",
       "    for (var ind in mpl.extensions) {\n",
       "        var fmt = mpl.extensions[ind];\n",
       "        var option = $(\n",
       "            '<option/>', {selected: fmt === mpl.default_extension}).html(fmt);\n",
       "        fmt_picker.append(option)\n",
       "    }\n",
       "\n",
       "    // Add hover states to the ui-buttons\n",
       "    $( \".ui-button\" ).hover(\n",
       "        function() { $(this).addClass(\"ui-state-hover\");},\n",
       "        function() { $(this).removeClass(\"ui-state-hover\");}\n",
       "    );\n",
       "\n",
       "    var status_bar = $('<span class=\"mpl-message\"/>');\n",
       "    nav_element.append(status_bar);\n",
       "    this.message = status_bar[0];\n",
       "}\n",
       "\n",
       "mpl.figure.prototype.request_resize = function(x_pixels, y_pixels) {\n",
       "    // Request matplotlib to resize the figure. Matplotlib will then trigger a resize in the client,\n",
       "    // which will in turn request a refresh of the image.\n",
       "    this.send_message('resize', {'width': x_pixels, 'height': y_pixels});\n",
       "}\n",
       "\n",
       "mpl.figure.prototype.send_message = function(type, properties) {\n",
       "    properties['type'] = type;\n",
       "    properties['figure_id'] = this.id;\n",
       "    this.ws.send(JSON.stringify(properties));\n",
       "}\n",
       "\n",
       "mpl.figure.prototype.send_draw_message = function() {\n",
       "    if (!this.waiting) {\n",
       "        this.waiting = true;\n",
       "        this.ws.send(JSON.stringify({type: \"draw\", figure_id: this.id}));\n",
       "    }\n",
       "}\n",
       "\n",
       "\n",
       "mpl.figure.prototype.handle_save = function(fig, msg) {\n",
       "    var format_dropdown = fig.format_dropdown;\n",
       "    var format = format_dropdown.options[format_dropdown.selectedIndex].value;\n",
       "    fig.ondownload(fig, format);\n",
       "}\n",
       "\n",
       "\n",
       "mpl.figure.prototype.handle_resize = function(fig, msg) {\n",
       "    var size = msg['size'];\n",
       "    if (size[0] != fig.canvas.width || size[1] != fig.canvas.height) {\n",
       "        fig._resize_canvas(size[0], size[1]);\n",
       "        fig.send_message(\"refresh\", {});\n",
       "    };\n",
       "}\n",
       "\n",
       "mpl.figure.prototype.handle_rubberband = function(fig, msg) {\n",
       "    var x0 = msg['x0'] / mpl.ratio;\n",
       "    var y0 = (fig.canvas.height - msg['y0']) / mpl.ratio;\n",
       "    var x1 = msg['x1'] / mpl.ratio;\n",
       "    var y1 = (fig.canvas.height - msg['y1']) / mpl.ratio;\n",
       "    x0 = Math.floor(x0) + 0.5;\n",
       "    y0 = Math.floor(y0) + 0.5;\n",
       "    x1 = Math.floor(x1) + 0.5;\n",
       "    y1 = Math.floor(y1) + 0.5;\n",
       "    var min_x = Math.min(x0, x1);\n",
       "    var min_y = Math.min(y0, y1);\n",
       "    var width = Math.abs(x1 - x0);\n",
       "    var height = Math.abs(y1 - y0);\n",
       "\n",
       "    fig.rubberband_context.clearRect(\n",
       "        0, 0, fig.canvas.width, fig.canvas.height);\n",
       "\n",
       "    fig.rubberband_context.strokeRect(min_x, min_y, width, height);\n",
       "}\n",
       "\n",
       "mpl.figure.prototype.handle_figure_label = function(fig, msg) {\n",
       "    // Updates the figure title.\n",
       "    fig.header.textContent = msg['label'];\n",
       "}\n",
       "\n",
       "mpl.figure.prototype.handle_cursor = function(fig, msg) {\n",
       "    var cursor = msg['cursor'];\n",
       "    switch(cursor)\n",
       "    {\n",
       "    case 0:\n",
       "        cursor = 'pointer';\n",
       "        break;\n",
       "    case 1:\n",
       "        cursor = 'default';\n",
       "        break;\n",
       "    case 2:\n",
       "        cursor = 'crosshair';\n",
       "        break;\n",
       "    case 3:\n",
       "        cursor = 'move';\n",
       "        break;\n",
       "    }\n",
       "    fig.rubberband_canvas.style.cursor = cursor;\n",
       "}\n",
       "\n",
       "mpl.figure.prototype.handle_message = function(fig, msg) {\n",
       "    fig.message.textContent = msg['message'];\n",
       "}\n",
       "\n",
       "mpl.figure.prototype.handle_draw = function(fig, msg) {\n",
       "    // Request the server to send over a new figure.\n",
       "    fig.send_draw_message();\n",
       "}\n",
       "\n",
       "mpl.figure.prototype.handle_image_mode = function(fig, msg) {\n",
       "    fig.image_mode = msg['mode'];\n",
       "}\n",
       "\n",
       "mpl.figure.prototype.updated_canvas_event = function() {\n",
       "    // Called whenever the canvas gets updated.\n",
       "    this.send_message(\"ack\", {});\n",
       "}\n",
       "\n",
       "// A function to construct a web socket function for onmessage handling.\n",
       "// Called in the figure constructor.\n",
       "mpl.figure.prototype._make_on_message_function = function(fig) {\n",
       "    return function socket_on_message(evt) {\n",
       "        if (evt.data instanceof Blob) {\n",
       "            /* FIXME: We get \"Resource interpreted as Image but\n",
       "             * transferred with MIME type text/plain:\" errors on\n",
       "             * Chrome.  But how to set the MIME type?  It doesn't seem\n",
       "             * to be part of the websocket stream */\n",
       "            evt.data.type = \"image/png\";\n",
       "\n",
       "            /* Free the memory for the previous frames */\n",
       "            if (fig.imageObj.src) {\n",
       "                (window.URL || window.webkitURL).revokeObjectURL(\n",
       "                    fig.imageObj.src);\n",
       "            }\n",
       "\n",
       "            fig.imageObj.src = (window.URL || window.webkitURL).createObjectURL(\n",
       "                evt.data);\n",
       "            fig.updated_canvas_event();\n",
       "            fig.waiting = false;\n",
       "            return;\n",
       "        }\n",
       "        else if (typeof evt.data === 'string' && evt.data.slice(0, 21) == \"data:image/png;base64\") {\n",
       "            fig.imageObj.src = evt.data;\n",
       "            fig.updated_canvas_event();\n",
       "            fig.waiting = false;\n",
       "            return;\n",
       "        }\n",
       "\n",
       "        var msg = JSON.parse(evt.data);\n",
       "        var msg_type = msg['type'];\n",
       "\n",
       "        // Call the  \"handle_{type}\" callback, which takes\n",
       "        // the figure and JSON message as its only arguments.\n",
       "        try {\n",
       "            var callback = fig[\"handle_\" + msg_type];\n",
       "        } catch (e) {\n",
       "            console.log(\"No handler for the '\" + msg_type + \"' message type: \", msg);\n",
       "            return;\n",
       "        }\n",
       "\n",
       "        if (callback) {\n",
       "            try {\n",
       "                // console.log(\"Handling '\" + msg_type + \"' message: \", msg);\n",
       "                callback(fig, msg);\n",
       "            } catch (e) {\n",
       "                console.log(\"Exception inside the 'handler_\" + msg_type + \"' callback:\", e, e.stack, msg);\n",
       "            }\n",
       "        }\n",
       "    };\n",
       "}\n",
       "\n",
       "// from http://stackoverflow.com/questions/1114465/getting-mouse-location-in-canvas\n",
       "mpl.findpos = function(e) {\n",
       "    //this section is from http://www.quirksmode.org/js/events_properties.html\n",
       "    var targ;\n",
       "    if (!e)\n",
       "        e = window.event;\n",
       "    if (e.target)\n",
       "        targ = e.target;\n",
       "    else if (e.srcElement)\n",
       "        targ = e.srcElement;\n",
       "    if (targ.nodeType == 3) // defeat Safari bug\n",
       "        targ = targ.parentNode;\n",
       "\n",
       "    // jQuery normalizes the pageX and pageY\n",
       "    // pageX,Y are the mouse positions relative to the document\n",
       "    // offset() returns the position of the element relative to the document\n",
       "    var x = e.pageX - $(targ).offset().left;\n",
       "    var y = e.pageY - $(targ).offset().top;\n",
       "\n",
       "    return {\"x\": x, \"y\": y};\n",
       "};\n",
       "\n",
       "/*\n",
       " * return a copy of an object with only non-object keys\n",
       " * we need this to avoid circular references\n",
       " * http://stackoverflow.com/a/24161582/3208463\n",
       " */\n",
       "function simpleKeys (original) {\n",
       "  return Object.keys(original).reduce(function (obj, key) {\n",
       "    if (typeof original[key] !== 'object')\n",
       "        obj[key] = original[key]\n",
       "    return obj;\n",
       "  }, {});\n",
       "}\n",
       "\n",
       "mpl.figure.prototype.mouse_event = function(event, name) {\n",
       "    var canvas_pos = mpl.findpos(event)\n",
       "\n",
       "    if (name === 'button_press')\n",
       "    {\n",
       "        this.canvas.focus();\n",
       "        this.canvas_div.focus();\n",
       "    }\n",
       "\n",
       "    var x = canvas_pos.x * mpl.ratio;\n",
       "    var y = canvas_pos.y * mpl.ratio;\n",
       "\n",
       "    this.send_message(name, {x: x, y: y, button: event.button,\n",
       "                             step: event.step,\n",
       "                             guiEvent: simpleKeys(event)});\n",
       "\n",
       "    /* This prevents the web browser from automatically changing to\n",
       "     * the text insertion cursor when the button is pressed.  We want\n",
       "     * to control all of the cursor setting manually through the\n",
       "     * 'cursor' event from matplotlib */\n",
       "    event.preventDefault();\n",
       "    return false;\n",
       "}\n",
       "\n",
       "mpl.figure.prototype._key_event_extra = function(event, name) {\n",
       "    // Handle any extra behaviour associated with a key event\n",
       "}\n",
       "\n",
       "mpl.figure.prototype.key_event = function(event, name) {\n",
       "\n",
       "    // Prevent repeat events\n",
       "    if (name == 'key_press')\n",
       "    {\n",
       "        if (event.which === this._key)\n",
       "            return;\n",
       "        else\n",
       "            this._key = event.which;\n",
       "    }\n",
       "    if (name == 'key_release')\n",
       "        this._key = null;\n",
       "\n",
       "    var value = '';\n",
       "    if (event.ctrlKey && event.which != 17)\n",
       "        value += \"ctrl+\";\n",
       "    if (event.altKey && event.which != 18)\n",
       "        value += \"alt+\";\n",
       "    if (event.shiftKey && event.which != 16)\n",
       "        value += \"shift+\";\n",
       "\n",
       "    value += 'k';\n",
       "    value += event.which.toString();\n",
       "\n",
       "    this._key_event_extra(event, name);\n",
       "\n",
       "    this.send_message(name, {key: value,\n",
       "                             guiEvent: simpleKeys(event)});\n",
       "    return false;\n",
       "}\n",
       "\n",
       "mpl.figure.prototype.toolbar_button_onclick = function(name) {\n",
       "    if (name == 'download') {\n",
       "        this.handle_save(this, null);\n",
       "    } else {\n",
       "        this.send_message(\"toolbar_button\", {name: name});\n",
       "    }\n",
       "};\n",
       "\n",
       "mpl.figure.prototype.toolbar_button_onmouseover = function(tooltip) {\n",
       "    this.message.textContent = tooltip;\n",
       "};\n",
       "mpl.toolbar_items = [[\"Home\", \"Reset original view\", \"fa fa-home icon-home\", \"home\"], [\"Back\", \"Back to previous view\", \"fa fa-arrow-left icon-arrow-left\", \"back\"], [\"Forward\", \"Forward to next view\", \"fa fa-arrow-right icon-arrow-right\", \"forward\"], [\"\", \"\", \"\", \"\"], [\"Pan\", \"Pan axes with left mouse, zoom with right\", \"fa fa-arrows icon-move\", \"pan\"], [\"Zoom\", \"Zoom to rectangle\", \"fa fa-square-o icon-check-empty\", \"zoom\"], [\"\", \"\", \"\", \"\"], [\"Download\", \"Download plot\", \"fa fa-floppy-o icon-save\", \"download\"]];\n",
       "\n",
       "mpl.extensions = [\"eps\", \"jpeg\", \"pdf\", \"png\", \"ps\", \"raw\", \"svg\", \"tif\"];\n",
       "\n",
       "mpl.default_extension = \"png\";var comm_websocket_adapter = function(comm) {\n",
       "    // Create a \"websocket\"-like object which calls the given IPython comm\n",
       "    // object with the appropriate methods. Currently this is a non binary\n",
       "    // socket, so there is still some room for performance tuning.\n",
       "    var ws = {};\n",
       "\n",
       "    ws.close = function() {\n",
       "        comm.close()\n",
       "    };\n",
       "    ws.send = function(m) {\n",
       "        //console.log('sending', m);\n",
       "        comm.send(m);\n",
       "    };\n",
       "    // Register the callback with on_msg.\n",
       "    comm.on_msg(function(msg) {\n",
       "        //console.log('receiving', msg['content']['data'], msg);\n",
       "        // Pass the mpl event to the overridden (by mpl) onmessage function.\n",
       "        ws.onmessage(msg['content']['data'])\n",
       "    });\n",
       "    return ws;\n",
       "}\n",
       "\n",
       "mpl.mpl_figure_comm = function(comm, msg) {\n",
       "    // This is the function which gets called when the mpl process\n",
       "    // starts-up an IPython Comm through the \"matplotlib\" channel.\n",
       "\n",
       "    var id = msg.content.data.id;\n",
       "    // Get hold of the div created by the display call when the Comm\n",
       "    // socket was opened in Python.\n",
       "    var element = $(\"#\" + id);\n",
       "    var ws_proxy = comm_websocket_adapter(comm)\n",
       "\n",
       "    function ondownload(figure, format) {\n",
       "        window.open(figure.imageObj.src);\n",
       "    }\n",
       "\n",
       "    var fig = new mpl.figure(id, ws_proxy,\n",
       "                           ondownload,\n",
       "                           element.get(0));\n",
       "\n",
       "    // Call onopen now - mpl needs it, as it is assuming we've passed it a real\n",
       "    // web socket which is closed, not our websocket->open comm proxy.\n",
       "    ws_proxy.onopen();\n",
       "\n",
       "    fig.parent_element = element.get(0);\n",
       "    fig.cell_info = mpl.find_output_cell(\"<div id='\" + id + \"'></div>\");\n",
       "    if (!fig.cell_info) {\n",
       "        console.error(\"Failed to find cell for figure\", id, fig);\n",
       "        return;\n",
       "    }\n",
       "\n",
       "    var output_index = fig.cell_info[2]\n",
       "    var cell = fig.cell_info[0];\n",
       "\n",
       "};\n",
       "\n",
       "mpl.figure.prototype.handle_close = function(fig, msg) {\n",
       "    var width = fig.canvas.width/mpl.ratio\n",
       "    fig.root.unbind('remove')\n",
       "\n",
       "    // Update the output cell to use the data from the current canvas.\n",
       "    fig.push_to_output();\n",
       "    var dataURL = fig.canvas.toDataURL();\n",
       "    // Re-enable the keyboard manager in IPython - without this line, in FF,\n",
       "    // the notebook keyboard shortcuts fail.\n",
       "    IPython.keyboard_manager.enable()\n",
       "    $(fig.parent_element).html('<img src=\"' + dataURL + '\" width=\"' + width + '\">');\n",
       "    fig.close_ws(fig, msg);\n",
       "}\n",
       "\n",
       "mpl.figure.prototype.close_ws = function(fig, msg){\n",
       "    fig.send_message('closing', msg);\n",
       "    // fig.ws.close()\n",
       "}\n",
       "\n",
       "mpl.figure.prototype.push_to_output = function(remove_interactive) {\n",
       "    // Turn the data on the canvas into data in the output cell.\n",
       "    var width = this.canvas.width/mpl.ratio\n",
       "    var dataURL = this.canvas.toDataURL();\n",
       "    this.cell_info[1]['text/html'] = '<img src=\"' + dataURL + '\" width=\"' + width + '\">';\n",
       "}\n",
       "\n",
       "mpl.figure.prototype.updated_canvas_event = function() {\n",
       "    // Tell IPython that the notebook contents must change.\n",
       "    IPython.notebook.set_dirty(true);\n",
       "    this.send_message(\"ack\", {});\n",
       "    var fig = this;\n",
       "    // Wait a second, then push the new image to the DOM so\n",
       "    // that it is saved nicely (might be nice to debounce this).\n",
       "    setTimeout(function () { fig.push_to_output() }, 1000);\n",
       "}\n",
       "\n",
       "mpl.figure.prototype._init_toolbar = function() {\n",
       "    var fig = this;\n",
       "\n",
       "    var nav_element = $('<div/>')\n",
       "    nav_element.attr('style', 'width: 100%');\n",
       "    this.root.append(nav_element);\n",
       "\n",
       "    // Define a callback function for later on.\n",
       "    function toolbar_event(event) {\n",
       "        return fig.toolbar_button_onclick(event['data']);\n",
       "    }\n",
       "    function toolbar_mouse_event(event) {\n",
       "        return fig.toolbar_button_onmouseover(event['data']);\n",
       "    }\n",
       "\n",
       "    for(var toolbar_ind in mpl.toolbar_items){\n",
       "        var name = mpl.toolbar_items[toolbar_ind][0];\n",
       "        var tooltip = mpl.toolbar_items[toolbar_ind][1];\n",
       "        var image = mpl.toolbar_items[toolbar_ind][2];\n",
       "        var method_name = mpl.toolbar_items[toolbar_ind][3];\n",
       "\n",
       "        if (!name) { continue; };\n",
       "\n",
       "        var button = $('<button class=\"btn btn-default\" href=\"#\" title=\"' + name + '\"><i class=\"fa ' + image + ' fa-lg\"></i></button>');\n",
       "        button.click(method_name, toolbar_event);\n",
       "        button.mouseover(tooltip, toolbar_mouse_event);\n",
       "        nav_element.append(button);\n",
       "    }\n",
       "\n",
       "    // Add the status bar.\n",
       "    var status_bar = $('<span class=\"mpl-message\" style=\"text-align:right; float: right;\"/>');\n",
       "    nav_element.append(status_bar);\n",
       "    this.message = status_bar[0];\n",
       "\n",
       "    // Add the close button to the window.\n",
       "    var buttongrp = $('<div class=\"btn-group inline pull-right\"></div>');\n",
       "    var button = $('<button class=\"btn btn-mini btn-primary\" href=\"#\" title=\"Stop Interaction\"><i class=\"fa fa-power-off icon-remove icon-large\"></i></button>');\n",
       "    button.click(function (evt) { fig.handle_close(fig, {}); } );\n",
       "    button.mouseover('Stop Interaction', toolbar_mouse_event);\n",
       "    buttongrp.append(button);\n",
       "    var titlebar = this.root.find($('.ui-dialog-titlebar'));\n",
       "    titlebar.prepend(buttongrp);\n",
       "}\n",
       "\n",
       "mpl.figure.prototype._root_extra_style = function(el){\n",
       "    var fig = this\n",
       "    el.on(\"remove\", function(){\n",
       "\tfig.close_ws(fig, {});\n",
       "    });\n",
       "}\n",
       "\n",
       "mpl.figure.prototype._canvas_extra_style = function(el){\n",
       "    // this is important to make the div 'focusable\n",
       "    el.attr('tabindex', 0)\n",
       "    // reach out to IPython and tell the keyboard manager to turn it's self\n",
       "    // off when our div gets focus\n",
       "\n",
       "    // location in version 3\n",
       "    if (IPython.notebook.keyboard_manager) {\n",
       "        IPython.notebook.keyboard_manager.register_events(el);\n",
       "    }\n",
       "    else {\n",
       "        // location in version 2\n",
       "        IPython.keyboard_manager.register_events(el);\n",
       "    }\n",
       "\n",
       "}\n",
       "\n",
       "mpl.figure.prototype._key_event_extra = function(event, name) {\n",
       "    var manager = IPython.notebook.keyboard_manager;\n",
       "    if (!manager)\n",
       "        manager = IPython.keyboard_manager;\n",
       "\n",
       "    // Check for shift+enter\n",
       "    if (event.shiftKey && event.which == 13) {\n",
       "        this.canvas_div.blur();\n",
       "        event.shiftKey = false;\n",
       "        // Send a \"J\" for go to next cell\n",
       "        event.which = 74;\n",
       "        event.keyCode = 74;\n",
       "        manager.command_mode();\n",
       "        manager.handle_keydown(event);\n",
       "    }\n",
       "}\n",
       "\n",
       "mpl.figure.prototype.handle_save = function(fig, msg) {\n",
       "    fig.ondownload(fig, null);\n",
       "}\n",
       "\n",
       "\n",
       "mpl.find_output_cell = function(html_output) {\n",
       "    // Return the cell and output element which can be found *uniquely* in the notebook.\n",
       "    // Note - this is a bit hacky, but it is done because the \"notebook_saving.Notebook\"\n",
       "    // IPython event is triggered only after the cells have been serialised, which for\n",
       "    // our purposes (turning an active figure into a static one), is too late.\n",
       "    var cells = IPython.notebook.get_cells();\n",
       "    var ncells = cells.length;\n",
       "    for (var i=0; i<ncells; i++) {\n",
       "        var cell = cells[i];\n",
       "        if (cell.cell_type === 'code'){\n",
       "            for (var j=0; j<cell.output_area.outputs.length; j++) {\n",
       "                var data = cell.output_area.outputs[j];\n",
       "                if (data.data) {\n",
       "                    // IPython >= 3 moved mimebundle to data attribute of output\n",
       "                    data = data.data;\n",
       "                }\n",
       "                if (data['text/html'] == html_output) {\n",
       "                    return [cell, data, j];\n",
       "                }\n",
       "            }\n",
       "        }\n",
       "    }\n",
       "}\n",
       "\n",
       "// Register the function which deals with the matplotlib target/channel.\n",
       "// The kernel may be null if the page has been refreshed.\n",
       "if (IPython.notebook.kernel != null) {\n",
       "    IPython.notebook.kernel.comm_manager.register_target('matplotlib', mpl.mpl_figure_comm);\n",
       "}\n"
      ],
      "text/plain": [
       "<IPython.core.display.Javascript object>"
      ]
     },
     "metadata": {},
     "output_type": "display_data"
    },
    {
     "data": {
      "text/html": [
       "<img src=\"data:image/png;base64,iVBORw0KGgoAAAANSUhEUgAABQAAAAPACAYAAABq3NR5AAAgAElEQVR4nOzdd3xVRcLG8UOLEFhIFFBAQGVBwYKKKIos6rs0C2tZV18brquyi+WVRdduaAEBFSmC9CqgoCAoSAfpCUUBAekdQugBQtp93j8mOZuQc0PKvTk3J7/v5zN/bO45c+YSZpZ5nDljCQAAAAAAAIBnWW43AAAAAAAAAEDwEAACAAAAAAAAHkYACAAAAAAAAHgYASAAAAAAAADgYQSAAAAAAAAAgIcRAAIAAAAAAAAeRgAIAAAAAAAAeBgBIAAAAAAAAOBhBIAAAAAAAACAhxEAAgAAAAAAAB5GAAgAAAAAAAB4GAEgAAAAAAAA4GEEgAAAAAAAAICHEQACAAAAAAAAHkYACAAAAAAAAHgYASAAAAAAAADgYQSAAAAAAAAAgIcRAAIAAAAAAAAeRgAIAAAAAAAAeBgBIAAAAAAAAOBhBIAAAAAAAACAhxEAAgAAAAAAAB5GAAgAAAAAAAB4GAEgAAAAAAAA4GEEgAAAAAAAAICHEQACAAAAAAAAHkYACAAAAAAAAHgYASAAAAAAAADgYQSAAAAAAAAAgIcRAAIAAAAAAAAeRgAIAAAAAAAAeBgBIAAAAAAAAOBhBIAAAAAAAACAhxEAAgAAAAAAAB5GAAgAAAAAAAB4GAEgAAAAAAAA4GEEgAAAAAAAAICHEQACAAAAAAAAHkYACAAAAAAAAHgYASAAAAAAAADgYQSAAAAAAAAAgIcRAAIAAAAAAAAeRgAIAAAAAAAAeBgBIAAAAAAAAOBhBIAAAAAAAACAhxEAAgAAAAAAAB5GAAgAAAAAAAB4GAEgAAAAAAAA4GEEgAAAAAAAAICHEQACAAAAAAAAHkYACAAAAAAAAHgYASAAAAAAAADgYQSAAAAAAAAAgIcRAAIAAAAAAAAeRgAIAAAAAAAAeBgBIAAAAAAAAOBhBIAAAAAAAACAhxEAAgAAAAAAAB5GAAgAAAAAAAB4GAEgAAAAAAAA4GEEgAAAAAAAAICHEQACAAAAAAAAHkYACAAAAAAAAHgYASAAAAAAAADgYQSAAAAAAAAAgIcRAAIAAAAAAAAeRgAIAAAAAAAAeBgBIAAAAAAAAOBhBIAAAAAAAACAhxEAAgAAAAAAAB5GAAgAAAAAAAB4GAEgAAAAAAAA4GEEgAAAAAAAAICHEQACAAAAAAAAHkYACAAAAAAAAHgYASAAAAAAAADgYQSAAAAAAAAAgIcRAAIAAAAAAAAeRgAIAAAAAAAAeBgBIAAAAAAAAOBhBIAAAAAAAACAhxEAAgAAAAAAAB5GAAgAAAAAAAB4GAEgAAAAAAAA4GEEgAAAAAAAAICHEQACAAAAAAAAHkYACAAAAAAAAHgYASAAAAAAAADgYQSAAAAAAAAAgIcRAAIAAAAAAAAeRgAIAAAAAAAAeBgBIAAAAAAAAOBhBIAAAAAAAACAhxEAAgAAAAAAAB5GAAgAAAAAAAB4GAEgAAAAAAAA4GEEgAAAAAAAAICHEQACAAAAAAAAHkYACAAAAAAAAHgYASAAAAAAAADgYQSAAAAAAAAAgIcRAAIAAAAAAAAeRgAIAAAAAAAAeBgBIAAAAAAAAOBhBIAAAAAAAACAhxEAAgAAAAAAAB5GAAgAAAAAAAB4GAEgAAAAAAAA4GEEgAAAAAAAAICHEQACAAAAAAAAHkYACAAAAAAAAHgYASAAAAAAAADgYQSAcEViYqJiYmIUExOjXbt2ad++fRQKhUKhUCgUCoVCoVACXHbt2mXPvxMTE92OA+ASAkC4IiYmRpZlUSgUCoVCoVAoFAqFQimkEhMT43YcAJcQAIaQuLg4zZgxQx9++KFat26tyy67zO6k7dq1C8ozJ06cqJYtW+qKK67QJZdcotq1a+uZZ57RihUrgvK8DASAFAqFQqFQKBQKhUKhFG4hACy+CABDSE6dNNABYGJioh588EG/zytZsqS6du0a0GdmtmvXriwDkNtLoikUCoVCoVAoFAqFQvFiybwAZ9euXUGb5yO0EQCGkMwBXM2aNdWyZcugBYBPPfWUXfe9996radOmKSYmRiNGjFCdOnXsz4YNGxbQ52bYt2+f/Yx9+/YF5RkAAAAAABR3zL8hEQCGlI8++kgzZszQ4cOHJWVdJRfIAHDRokV2vQ899JBSU1OzfB4fH69atWrJsixFRkbqxIkTAXt2BgYgAAAAAACCj/k3JALAkBasAPD++++XZVkqVaqU384/ceJE+9mffPJJwJ6dgQEIAAAAAIDgY/4NiQAwpAUjAExISNAll1wiy7LUunVrv9clJSWpYsWKsixLd911V0CenRkDEAAAAAAAwcf8GxIBYEgLRgA4f/58u86ePXvmeG3GOwhLly6t5OTkgDw/AwMQAAAAAADBx/wbEgFgSAtGADhw4EC7zqlTp+Z47euvv25f+9tvvwXk+RkYgAAAAAAACD7m35AIAENaMALAt99+264zNjY2x2v79OljX/vTTz/l6Tl5OYacAQgAAAAAgOAgAIREABjSghEAdujQwa5z8+bNOV47aNAg+9opU6bk6TkZ9+WmMAABAAAAABAcBICQCABDWjACwBdeeMGuc8eOHTleO2LECPvacePG5ek5BIAAAAAAALiPABASAWBIK8orANkCDAAAAACA+wgAIREAhrSi/A7Ai2EAAgAAAAAg+Jh/QyIADGnBCAAHDBjgqVOAExMTdejQIe3YsUNbt26lUCgulR07dmjfvn06deqU0tLSAjhaAAAAACgIAkBIBIAhLRgB4Pz58+06e/bsmeO1LVu2lGVZKl26tJKSkgLy/AwFHYB8Pp8OHDigTZs2USiUECubN2/W6dOnAzpmAAAAAMgfAkBIBIAhLRgB4OnTpxUWFibLstS6dWu/1yUlJalixYqyLEt33nlnQJ6dWUEHoPj4+Gyhg9sroCiU4lw2b95MCAgAAACEIAJASASAIS0YAaAktWnTxl7Z56/zT5w40X527969A/bsDAUZgJKSkrIEDUePHlVqamrA2wgg93w+n86cOaO9e/dmCQHZDgwAAAC4iwAQEgFgSMtPADhq1Cj7nqioKMdrMm8Dbtu2bbbwLD4+XrVq1ZJlWYqIiNDx48cL+E2yK8gAdOzYMTtgiIuLC3jbAOSfz+fLEgKeOnXK7SYBAAAAxRoBICQCwJCyZMkSjRo1yi6ZT+Ft2rRpls9GjRrlWEduAkBJevLJJ+3r7r33Xn3//feKjY3VyJEjVadOHfuzL7/8MijftSADUOZwITExMSjtA5B/Z86csfso/8AAAAAA3EUACIkAMKS0a9fO7pS5KU5yGwCeO3dO999/v9+6S5YsmeP9BVWQAWj79u329kKfzxekFgLIL5/PZ78TcMeOHW43BwAAACjWCAAhEQCGlMIMADN89dVXatGihapWraqwsDDVrFlTTz31lJYvXx7gb5dVQQagrVu32od+AAhN9FMAAAAgNBAAQiIAhEsIAAFvo58CAAAAoYEAEBIBIFxCAAh4G/0UAAAACA0EgJAIAOESAkDA2+inAAAAQGggAIREAAiXEAAC3kY/BQAAAEIDASAkAkC4hACw+Dl69Kg6deqk6667TmXLlrV//3379s1y3YYNG/T000/ryiuvVJkyZezr1q1bJ0lq3ry5LMtS8+bNA97GYNZd3NBPAQAAgNBAAAiJABAuIQAsXk6ePKm6des6nmadOQBcvXq1ypUr53gdAWDRQj8FAAAAQgMBICQCQLiEALB4iY6Otn/f//nPf7RkyRJt2LBBGzZs0NGjR+3rWrRoIcuyVLFiRQ0aNEgxMTH2dYmJiZIIAIsK+ikAAAAQGggAIREAwiUEgMXLvffeK8uydNttt/m9Jjk5WWFhYbIsS2+++WYhtg7BQD8FAAAAQgMBICQCQLiEALB4qVevnizL0lNPPeX3moMHD9p/J4YOHVqIrUMw0E8BAACA0EAACIkAEC4hACxeateuLcuy1K5dO7/X7Nq1y/47MWrUqEJrG4KDfgoAAACEBgJASASAcAkBYNG0atUqvfjii6pbt67Kly+v8PBwXXvtterQoUO238fChQsdD/PIXJo3b66oqKiLXhcVFWXXm9v39B05ckRdunTRXXfdpSpVqigsLExXXnml7rrrLnXp0kVbtmzJdk9u6z5+/Li6deumJk2a6LLLLlNYWJiqVaumtm3b6ttvv83x3gu/U0xMjJ588knVqFFDYWFhql69up555hlt2rQpx3oybNiwQa+++qpuuOEGRUREqFy5cqpTp45atWqlQYMG6ciRI/a1HTt2lGVZKlWqlPbv33/Rum+99VZZlqV69erlqi2Z0U9R6Hw+6fBv0rZ50o5F0q6l0p6V0r7V0oG10qH1UtwmKX6rdGyHdGKPdOqAlBAnnT0mnTshnU+QkhOl1BRTHwAAgAcQAEIiAIRLCACLlpSUFP3rX//KMaQrU6ZMlq27bgaA48ePV/ny5XOss3bt2tnuy03dP/74oyIiInKs+4EHHlBCQoLj/Zm/04ABA1S6dGnHOsLDw7V48WK/7UhNTVXHjh1VsmTJHNuSedXlb7/9Zv+8Z8+efuuWpF9//TXX1zqhn6JQHfldGtJciqoY2NI5UupaRepeTepRU/q4ttS7jvTJtdJn10uf3yT1v1UaeLs06C7py2bSkHukYX+WRrSWRj0gjfmLNO4x6asnpIlPSV8/J01+Qfr2JWnqv6TvX5VmvCH9+KY06x1p9vvS3ChpfjdpQQ9pUW/p50+lpf2k5V9IK4dIMcOl1aOlteOlXyZK6ydLG7+TNk2XtsyUts6Rts+Xdi6Wdi/LFISukw5tkOI2S/HbpGM7pRN7pVMH/xuEJp6Uks5IKeeltFSCUAAAPIAAEBIBIFxCAFi0PPfcc/bvq02bNho/frxiYmIUGxurYcOG6frrr7c/nz59uiTpzJkz9gm+1atXl2VZ+stf/mL/bMOGDdq5c6fi4uK0YcMGzZ49266je/fuWa6Li4uz23KxkG7MmDF2PWXLltVrr72mmTNnau3atfr55581cOBAtWrVStdcc022ey9W95w5c1SqVClZlqWrrrpKvXr10qJFi7R27VrNmDFDzzzzjP3sRx991LGOjM+bNGmiEiVKqGHDhho5cqRiY2P1888/Zwn1atWqpaSkJMd6XnjhBbuuatWqKTo6WgsXLtTatWs1e/ZsdevWTQ0bNsy27frOO+/M1aq+N954w14tePDgwRyvdUI/RaHw+aSYYVK3ywMf/lH+W7pcKnWrKkVXTw9Cr5J6/1H65DrpsxukzxtK/RtJA++QBjU1QejQe6XhLaSRbaTRD0pjH5bG/1Wa8KQ06elMQejL0tQO0vevSTM6Sj++Jc16V5r9wX+D0IU9pcW9pSWfScv6SysGSauGSrEjMgWhk9KD0KnSphnSllnS1rnS9gX/DUL3rpL2r5YO/iId3igd2SId3S4d3yWd3JcehB5JD0JPSUlnpZQkKS3N5b/oAAAUDAEgJAJAuCTYAWBamk9HE84Xq5KWFpxVGlOmTLF/V8OGDXO8JjExUffdd58djKWkpGT5PJDvAMwppDtw4IDCw8NlWZaqVq2qDRs2+K3H6e9dTnWfOXNGl19+uSzLUsuWLXX27FnHeocOHWp/j3nz5mX7PPPqvPvvv98x4Ovevbt9zXfffZft82nTptmf33nnnTpx4kSuv+fIkSPte5ctW+Z4T3JysqpUqSLLsvTggw/6rTsnBIAIuoQj0ld/cz8coxSTUknqctl/g9CeNaVeV0t96kqf1pf63iD1u1kacFumIPRP0tD7pOEtpZH3S6MfksY+Io1//L9B6DftpCn/kL5rL03rIE1/Xfrh39LM/5ggdG6UWQEaM9wEnFvnmBWdcZvMFvbzCazSBABcFAEgJAJAuCTYAeDRhPOq/fYPxaocTThf0F+Lo0aNGsmyLD3yyCM5Xrdp0yb7dzp37twsnxVWAPjOO+/YdUydOjXH9ua17gEDBtirCjOvSHRy++23y7IsPf3009k+y7w60V89p0+fVlhYmCzLUseOHbN93qRJE3ubcG7e5ZfZmTNnVLFiRVmWpRdffNHxmm+//TbHADI3CAARVL//ZLbiOgU1Pa40n318lVmt1r2a2cbbOTIEQiQKJQilc6TZnt73Rmnw3Wbr+cSnpO/+aYLEBdHSsgHSmrHSb9OkHQul/WvM6scz8WaVIwDA0wgAIREAwiUEgEUjANy/f7/9e5o4ceJFr69cubIsy1LXrl2z/LywAsAbb7xRlmXp6quvli8fKyJyqvvPf/6zLMtSq1atLlrPm2++KcuyHLcZZ3zHhx56KMc6MrZV/+Uvf8ny86NHj6pEiRKyLEvPP//8Rdvi5OWXX5ZlWfrDH/7guJLxwQcflGVZqlKlipKTk/P1DAJABEXSWbM6yl8Q8uObUvI5//f7fOaAj+REs3Iq8aTZ7pkQZ1ZTndhjDgiJ32pWWB1abw4Q2bfarLratdQcMLJtnvT7bGnzj9Jv30sbvjWrs36ZKK0dJ60eZbYmr/xSWj5QWvq59PMn5n1+C3pI87pKcz6SfnpPmvm29EMnafr/SdNeMe8F/PYlafLfpa+fNUHOV3+Txj0qjWlrwp0Rrc17BofcYwKfL+6UBjSW+t1iQqBPG0h96qUHobVNKNr9CqlrZalzhPuBFSX0SrfLzWrG/o3MqsWxD5vVid+/Zt5Lubi3ef/kL5PMeyZ3LTXvkzyxx/QjtkkDQEgjAIREAAiXEAAWjQAw81bTvJQOHTpkqacwAsDk5GQ7GHvuuefy9X1zCgAvdvCHUwkPD89WT8Znb731Vo5tadasmSzL0n333Zfl5/PmzbPrGDlyZL6+Z0xMjF3H2LFjs3x26NAh+2CSf//73/mqXyIARBAc/MVsr3QKL3r/0WyNRO6kpUmpySYsPZ9gTkA+c1Q6fVg6uV86vtusDjvyuzlZ2Q5CY6U9K6RdS8wqsm1zzWrMzT/8Nwj99Rtp3QSz2ix2pHlX34rBZgWaHYT2MqvS5nWR5nyYHoT+x4S70183Qeh3/5SmvCh987w06Rlpwv+arbNjHzFbaUc9II1oJQ37H3MAzOCm0hdNzN+RfjebLbkZQWiva6SetaToGibo6nKZ+4Gb50olEzR/dr0JpEe0NsH1ty+ZgHteF/P7jx1p/p5smyvtjTF/x04fMn8X2coMAEFDAAiJABAuIQAsGgFg5vfZ5aVcuDKtMALAw4cP2/e//fbb+fq+OYWL+flzsKzsQ2zGzzOfbJyXtkyaNMmuY9asWfn6npLUsGFDWZale++9N8vPe/XqZde/cePGfNdPAIiASUuVlvT1H9p89YR5HyCQV1mC0NPSueNmS+zpQ+ZQkOO7sgahB381W2f3xki7l0s7fzaHjGydaw4d2fyD2WK7YYr069fSuq+kNWPMYSWrhprDS5YNMH+fF/eRFn4sze8uze1sDj2Z9a45BMUOQjuYg1LG/9UcqDLwDnPwSnT1EAj8glC6XGbeq9jvZvP+xNEPmfckTu1g/mwW9jR/hmvHm4Nedi42J1sf22lW8qamXPRXDgDFFQEgJAJAuIRDQIrGISCDBw+2f09fffVVlpN5cyoXvpeusAPAd955J1/f11/diYmJdt1/+9vfcv3n4HQISSADwJ9++ilf31P67zsNS5QooZ07d9o/r1+/vizL0h133JHvuiUCQATIib1mpZdTWNDtchOssGoIxVFqigm9ju8yq2N3/mxCsXVfmRWXCz82KyundTArKMe0NSsl+91iVkR2rex+4BeM0r2a9Mm10sDbzTb5cY+Z7fTT/89su//5E7M9/9dvzOrVPStMuHtyvwmBGU8AeBQBICQCQLgk2AEgAuObb76xf08TJkzIdz2FtQW4ZMmSQdsCnHG6cMuWLfNVd4aCBoCB2AIsSSdOnFDZsmWztGXFihV23UOGDMl33RL9FAGwfrI5xMNpkv/ln8x7+gDkX3Ki2fYdv9Vs7942z2zPXT1KWtrPvKvyxzfNNt6vnpBGtpEG3SV9dkN636zkfuAX6NI5wmwX73uD2VY+8n6z/fy79mZ15vzu0rL+ZmXnxqnS9vnS/tVS/DazEjklOAeyAUBBEQBCIgCESwgAi4Zt27b53dabF4V1CMhNN90kywrOISBNmzaVZVkqX76848EZuVXQAPDYsWMFPgQkw9NPPy3LslS7dm35fD699NJL9rsLT506VaC66afIt8STJnBwnKBXMtslObUUcF9ampR4yqzUPbxR2r3MbIX+ZZLZ8ry4j9naPP11c6DI2EfMOxsH3GbezdjtcvcDv2CUrlXMe0n73yoNvVca8xdzoM/3r5pVmYt6mwOCfploDhLatcS8Z/P4bvM+zrRUt3+zADyIABASASBcQgBYdDRo0ECWZals2bLas2dPvuoorADw/ffft+uYOnVqntuZU92Z343Xu3fvPNedoaABoPTfMDI8PFwHDhzId1sWLVpkt2fGjBmqWLFigVZQZkY/Rb7sXm5WFzlNqj+73pw8CsA7UpLMexePbjcHzexYaA6UWTPWnKC9oIc5KXvqv8yJ2KMekL5sJn1+k/TxVVLnSPcDv2CU6BrmEJsvmpjDbsY/Lk35h3k/5NzO5j2SsSPMSumtc6W9q6QjW6RTB81p6WxlBnABAkBIBIBwCQFg0TFhwgT7d9WoUSMdOeL/Zfvnz5/XF198ocTExCw/L6wA8NChQypfvrwsy1LVqlUd38GXwenvXU51nzp1SpUrV5ZlWbrkkks0c+ZMv3VL0tKlS7V48eJsPw9EADh9+nS7nrvuuksnT570W8/F+lfdunVlWZauuOIKu85FixbleE9u0E+RJ6nJZrth5wjnyfCUf5iVMQCQmc8nJZ0xwVfcZhOEbZ1jgrGY4dKSz0xgNqOjGUfG/1Ua3tIEa5/WN0Gb22FfMEqXS01A+nlDE5iOftAEqFP/Jc16xwSry7+Q1o4zgeuORSaAPbbDnAiemuz2bxZAgBEAQiIAhEsIAIuWdu3a2b+vypUr6/3339ecOXO0bt06LV26VGPGjNGLL76oSy+9VJZlKSEhIcv9hRUAStLYsWPtesqVK6fXX39ds2bN0rp167RkyRINHjxYbdq00TXXXJPnuufOnavSpUvLsiyVLFlSjz/+uCZNmqTY2FjFxsZq+vTpioqKsrciDxgwIFsdgQgAJekf//iHXVf16tXVo0cPLV68WOvWrdPcuXPVs2dP3XLLLTn+mUvSxx9/bNdjWZbq1KmTr+3TF6KfIteObpeG3OM8ie1xpXlZPwAES1qqOQH6+G5z0vOuJeZE53UTzIEqi3qlH6jyitnKO6atGbP63yr1ruPhA1WuMFu1BzQ2W7fHPSp987zZ0j3nQ7PFe9VQc+L1lllmBffhjeYE7cRTZos4gJBBAAiJABAuIQAsWlJTU/Wf//xHpUqVyhIWOZXy5cvr3LlzWe4vzABQkkaPHq1y5crl2M7atWvnq+758+dnWS2XUxkzZky2+wMVAKampurVV1+13wfor1wsADx8+LAdalqWpejo6Byvzy36KS7K5zOHDXS/wnnyOaK1dCJ/rx0AgEKVnCglxKUfqLLaHA6y8Ttp9WhzoMr8buYQkW9fliY8mX6gSlNz2EhPjx6oElXJfLfPbjDfdWQb892/+6dZhbiol7RyiAkQt86R9saYw1TOxJtTrgEEFAEgJAJAuIQAsGj6/fff1alTJ91yyy2KjIxUqVKl9Ic//EHXX3+9nn76aY0ZM0anT5/Odl9hB4CSdPDgQb3//vtq1KiRIiIiFBYWplq1aunuu+9WdHS0du7cme+6z549q4EDB6p169aqVq2awsLCVLZsWdWsWVMtW7ZUdHS0tmzZ4nhvoALADGvWrNHLL7+sevXqqXz58goPD1fdunV1//33a9iwYTp+/HiO90tSmzZtZFmWSpUqpf3791/0+tygnyJHZ46akzX9bV37+VNehA+g+Mg4UOXkvvQDVZZLv/9kwrGMA1XmfChN/z+zCm/co+kHqjSWPrnW/39IKcoluoYJDwc3NVuYJz0jff+a+XNY8pkUO9KErDsWSgfWmRWciSd5/yHgBwEgJAJAuIQAEAgNPp9PtWrVkmVZatOmTcDqpZ/Cr21zpT51nSd8/RuZ91ABAPImNdn8x5VjO9IPVFkkbZpu3vO3/Avz3r9Z70hTO5j3AY5+MP1AlYbmfYFdLnU/9AtE6Rxpvk+/W8wpzOMelSa/IP3QyazEXD5QWjvenMC8e5l0+DfzDsnkcxf/MwaKMAJASASAcAkBIBAa5syZY/fFKVOmBKxe+imyST4nzfyP/0nbjDfMy/wBAIXP5zMnCJ86aE4U3rvKnDC8YYo5cXhJX3Ogyg//lqa8aE4mHtEq/UCVBt44UKVbVfPew4F3mO9mb1l+12xZXjXUvJd261xpX2z6luWjbFlGkUAACIkAEC4hAARCQ4sWLWRZlqpVq6bk5MCd+kc/RRaHNpgJldOEq9c10pacT9UGABQBaanmxPbju6VD69MPVPlR+mWitPJLE6LNetecRjzhSfOu14F3mG3M3aq6HwAWpPS4Mn3L8t1mdeXXz6ZvWf7IbFlePUraONWszDz4S/qW5VNsWUahIQCERAAIlxAAAu44ffq0tm3bpjVr1uj111+3++Enn3wS0OfQTyHJvNdq2QD/p2SOe0w6fdjtVgIAQkHyObMCMW6TeQ/i5h+ldV+Zbbvzu5ttvFP+Ybb1Dr3PbPPtdbXZ9ut2AJjf0jnSfId+t5jvNO5R8x1/6GS+8/KB5s9g84/mzyRuU/qW5US3f1soYggAIREAwiUEgIA7Ro0ale2k4JtvvllJSUkBfQ79FDp1QBr9kP9tVquGsvIBAFBwPp9ZTXdij1ldt2ORWW23epRZfTfnI7Ma7+tnzeq8wXeb1Xo9rnQ/ACxI6VbVrJ4ceIdZTTnhSbO6cta70qLe5v9n109O37K8Wjq6XTp7jIlvD10AACAASURBVEO2iikCQEgEgHAJASDgjowAsGTJkqpdu7ZeffVVHT16NODPoZ8WcxunSj1rOU9YBjeV4ja73UIAAMz7+84cNeHYvlgTlv36jQnPMrYsf/fP9C3LrUzY1qeeN7Ys983YsvyQCUenv56+ZbmvCU9/m5a+ZflXE66eP81/uCvCCAAhEQDCJQSAgLfRT4up86fN6gPHCUclafYHUsp5t1sJAEDBZdmyvMxs0107Pn3LcjezjXfyC+lblu8123w/vkrqHOF+AJjf0uVSs2W5/63pW5YfM1uWf3wzfcvyF2bL8paZ6VuWN0unD7FlOQQQAEIiAIRLCAABb6OfFkN7V0mf3+Q8Yfi0vrRzsdstBADAfRlblo/vTt+yvNCsnI8dmb5l+UOzZXnSM+lblpt6ZMvy5WbL8hdN0rcs/6/5j4Y/vZd1y/I2tiwHAwEgJAJAuIQAEPA2+mkxkpoiLejh/yXs37STzh13u5UAABR9GVuW47elb1meY7YsrxySvmX5HbNl+asnsm5Z7lrF/QCwIKVHTbNl+ctm6VuWnzNbludGpW9ZHm22LO9cnL5leS9bli9AAAiJABAuIQAEvI1+Wkwc2yEN+x/nf6xH15DWTeAf3wAAhIKMLcuHf0vfsvyD2bK8bED6luV/my3LYx/x2Jbla6T+jcy/V8Y9Jk150WxZXhCdvmV5gtmyvGdF+pblw558XQkBICQCQLiEABDwNvqpx/l80tpxUnR1539wD28hHd/ldisBAEBBpaVJiSfNluUD69K3LH9ntiz//Gn6luVXs29Zjq7hfgBYkNL9CumT66Qv7pRGtknfstzBbFlefMGW5SLwjkMCQEgEgHAJASDgbfRTDzt7zPwj3+kfy50jzXt8UlPcbiUAAHBbarJ0Jt5sWd4bk75l+WuzZXnhxw5blm8vmluWzxx1+0/6oggAIREAwiUEgIC30U89avsC8wJvp3/89rvZvI8IAACgoJLPSacOmC3Lu5amb1kel8OW5Zvd27JcBP7DJwEgJAJAuIQAEPA2+qnHpJw3W178/cN32ivS+QS3WwkAAIo7e8vyLrNlefuC9C3LI7JvWR71QPqW5evzv2U5uobb3zhXCAAhEQDCJQSAgLfRTz0kbpM06C7nf/R+XFvaNN3tFgIAABScvWV5q9my/Ptshy3L7c2W5eEtzZblIfe43epcIQCERAAIlxAAAt5GP/WAtDRpxWD/7+EZ8xdzmiAAAABCGgEgJAJAuIQAEPA2+mkRd/qQeaeOU/DXtYq0YpAJCAEAABDyCAAhEQDCJQSAgLfRT4uwTTPMS7Sdwr8v7pQOb3S7hQAAAMgDAkBIBIBwCQEg4G300yIo6Yz0/Wv+X3I9610pOdHtVgIAACCPCAAhEQDCJQSAgLfRT4uY/aulfrc4B3996knb57vdQgAAAOQTASAkAkC4hAAQ8Db6aRGRliot7i11udQ5/Jv0tHT2mNutBAAAQAEQAEIiAIRLCAABb6OfFgHHd0nDWzoHf92rSWvGSj6f260EAABAAREAQiIAhEsIAAFvo5+GMJ9P+mWiFF3DOfwbep90dLvbrQQAAECAEABCIgCESwgAAW+jn4aoc8elb553Dv46R0gLoqXUZLdbCQAAgAAiAIREAAiXEAAC3kY/DUE7f5Y+beAc/vW9Udqz0u0WAgAAIAgIACERAMIlBICAt9FPQ0hKkjTnQymqknP4990/pcRTbrcSAAAAQUIACIkAEC4hACw6oqKi7N+VJJ04cUIfffSRGjRooPLlyysyMlLNmzfX+PHj/daRcX9UVFSOz2revLksy1Lz5s2zfbZw4UK7noULFyotLU0jRozQPffco6pVq6pEiRJq165dtvt8Pp8mT56sRx99VFdeeaUuueQSRUREqHHjxuratatOnDjhtz3t2rWTZVmqXbu2/d0//PBDNWjQQOHh4apUqZKaNWuW43fP7OzZs+rbt6/d5jJlyqhKlSpq0aKFRo4cqdTU1Bzvnz9/vp588kldddVVKlu2rMqVK6fatWvrjjvuUKdOnTR//nzH+06cOKHu3burSZMmioiIUOnSpVW5cmXVr19fDz/8sAYNGqS4uLhcfYfcop+GiCNbpMF3Owd/PWtJG79zu4UAAAAIMgJASASAcAkBYNGROQDcuXOn6tSpY//vC8tf//pXpaSkZKsj0AHgrFmz9Oc//znb8y8MAI8cOaKmTZv6ba9lWbr88su1cqXz1sfMAeDmzZt11VVX+a3nlVdeyfG7xcTEqEaNGjm25fbbb9fhw4cd7+/YsWOO91qWpcsuuyzbfZs2bVL16tUveu+AAQNybH9e0U9d5vNJq4ZK3S53Dv9GPyid3O92KwEAAFAICAAhEQDCJQSARUfmALBx48YqWbKk/vnPf2revHmKjY3ViBEjVK9ePfua1157LVsdgQ4Ab7rpJlmWpbZt2+q7777TmjVrNHPmTE2aNMm+/syZM6pfv74sy1JYWJjat2+v77//XmvXrtWSJUsUHR2tyy67TJZlKTIyUrt37872zIwAsEqVKqpbt67+8Ic/6IMPPtCiRYu0evVqDRs2TFdeeaXdrp9++snxe61fv17ly5eXZVmqWrWqoqKiNG/ePK1bt06zZ8/WK6+8otKlS8uyLN1xxx1KTs56CMOMGTOyfPfBgwdr0aJFWrdunRYtWqQvv/xSjz32mKpXr57t2Y0aNZJlWSpTpow6dOigGTNmKDY2VqtWrdLUqVP17rvvql69egSAXpIQJ41/3Dn461pZWtZfSktzu5UAAAAoJASAkAgA4ZKgB4BpadKZ+OJVgjShzxwAWpalCRMmZLvm9OnTatiwoSzLUsmSJbV+/fosnwc6ALQsSx9++GGOdb366quyLEuVKlVSbGys4zW7d+9WtWrVZFmWnnnmmWyfZwSAlmUpIiJCGzduzHbNtm3bVLZsWTuQvJDP57MDy4YNGyo+Pt6xLbNmzVLJkiVlWZaGDx+e5bNnn33WXomYkJDg9zsfO3Ysy//esWNHrlb4+Xw+HT9+3O/n+UEA6JIts6Re1ziHfwNvlw6tv3gdAAAA8BQCQEgEgHBJ0APAM/HOE2AvlzPOwVJBZQ4AH3zwQb/XrVq1yr6uQ4cOWT4LdABYr169HN+XFx8fb4dy/fr1y/GZgwYNslfInT17NstnmQPA/v37+63jySeftFcSXijz6r1ff/01x7b87W9/k2VZatq0aZaft2jRQpZl6ZFHHsnx/gstW7Ys188ONALAQpZ0VprR0f/48ONbUvI5t1sJAAAAFxAAQiIAhEsIAItmAPjtt9/meO31119vB3SZBToAvNjqv/Hjx9vXHjp0KMdrN27caF/7888/Z/ksIwAsUaKEjh496reOPn362HVceKjIiy++KMuydO211+bYDkkaOHCgvWU5c8D53HPP2e/42759+0XrybBz5067XR07dsz1fYFAAFiIDqyTBtzmPC70/qO0dY7bLQQAAICLCAAhEQDCJQSARTMA3Lt3b47X/v3vf7cDs6SkJPvngQ4AJ0+enGM9b7zxxkUPvXAq33zzTZZ6Mr8DMCcjRozw+2d0880356stR44cseuYN2+e/fOyZcvqiSee0MiRI7Vt27Yc2yVJzZo1s+9t0KCBPvzwQ82fPz/basdAIwAsBGmp0pLPpC6XOY8JE54M2rgAAACAooMAEBIBIFxCAFg0A8Dz58/neO0777xjX5v5NNtAB4Dz5s3LsZ6nnnoqX6Hb6NGjs9ST+RTgnIwaNcquY9euXVk+y80JvE7lwkNJBg4cqHLlymW7rkaNGmrfvr1++eUXx7bt379fd955Z7b7ypQpoz/96U8aPHiwEhMTc/x++UEAGGQn9koj73ceC7pfIcWONCcBAwAAoNgjAIREAAiXcAhI0TwEJPOqPidvv/12oQSACxcuzLGeJ554wt5Ku2HDhlyXC7fvBiIAvPzyy2VZ5r1+eWnLhScBS1JcXJz69u2r+++/X5UqVcoS6JUoUULvv/++3zbOmzdPHTp00PXXX68SJUpkubdOnTr6/fffc/yOeUUAGETrJ0s9ajqHf0OaS/EXXxkKAACA4oMAEBIBIFwS9AAQAROILcAZgdPF3t132223BSQA7NChg33twYMHc7w2J4EIABs0aCDLyv5exIJKS0vTmjVr9P777ysiIsJ+/rRp0y5679GjRzVp0iTdd9999n0333xzQNtHPw2CxJPSlBf9rAKuJM3rIqVmD44BAABQvBEAQiIAhEsIAIuOvBwCcsMNNziGXRUrVpRlWXr11Vf93puWlmavaitoADhs2DC/23rzIhAB4NNPP+13W2+grFmzxn7GU089lad727Zta98byD5FPw2w3cukz25wDv8+u8F8DgAAADggAIREAAiXEAAWHZkDwLZt2/q9LjY21r6uQ4cOWT5r2LChLMtSkyZN/N4/Y8YM+/6CBoD79+9XmTJlZFmWGjZsqJSUlByv9ycQAeDXX3/t988lkCIjI2VZllq2bJmn+/r162e3b/ny5QFrD/00QFKTzcq+zhHO4d+UF83KQAAAAMAPAkBIBIBwCQFg0ZE5ALQsS19//XW2axISEnTLLbfIsiyVLFlSv/76a5bPX3/9dXtr8NKlS7Pdf/DgQV199dUBCwAl6eWXX7avf+GFF3IMAePi4jRs2LBsPw9EAJiamqr69evb33/48OE51rVhwwZNnz49y88mTZqkc+fO+b0nc/javn17++fr1q3TunXr/N7n8/n00EMP2W0ryHbpC9FPAyB+m3mnn1Pw16OmeRcgAAAAcBEEgJAIAOESAsCiI3MAeNttt6lUqVLq0KGDFixYoNWrV2vkyJG69tpr7Wtee+21bHVs3LhRpUuXlmVZioyMVN++fRUbG6tly5apd+/euvzyy3XZZZepbt26AQsAExIS7C3JlmWpQYMG+vzzz7VkyRKtW7dOCxcu1MCBA/Xwww8rLCxMjRo1ylZHIAJASVq/fr0qVKhgX9OqVSuNGTNGK1eu1Jo1azRr1iz16NFDd911lyzLUqdOnbLcX7t2bUVERKhdu3YaMWKElixZorVr12ru3LmKiorSpZdeKsuyVKpUKa1evTpbuxo3bqyuXbvqhx9+0OrVq7VixQpNmDBBLVq0sNv08MMPX/TPNC/opwXg85lTfLtf4Rz+jbzfnAIMAAAA5AIBICQCQLiEALDoyBwA7ty5M8tKvQvLY4895nel3Weffeb3vsjISC1evDhgpwBnOHbsmFq3bu33uZnLvffem+3+QAWAkvTrr7/aAefFSpcuXbLcW7t27YveU7ZsWY0ZM8Zvu3Iqd999t44dO5arP9Pcop/m05l4acL/Ogd/XS6VlnwmpaW63UoAAAAUIQSAkAgA4RICwKIjcwAoScePH9d7772n+vXrKzw8XJUqVdKf/vQnjR8//qJ1/fTTT2rVqpUiIyN1ySWX6Oqrr9Yrr7yiPXv2SFLAA8AM8+fP19///nfVrVtXFSpUUOnSpXXppZeqcePGeuWVVzRz5kylpmYPVQIZAEpSSkqKxowZo4cfflg1a9ZU2bJlFRYWpmrVqumee+7RBx98oDVr1mS7b8+ePRo+fLieeOIJ3XjjjapSpYpKly6tihUr6tZbb9Vbb72lnTt3ZrsvKSlJCxcu1HvvvadmzZrp6quvVnh4uMLCwnTllVeqbdu2mjBhgtLS0i76Z5hX9NN82DpX6lPXOfzr30g6sNbtFgIAAKAIIgCERAAYsvbs2aNOnTrpuuuuU3h4uCIjI9W4cWP16dNHZ8+eDcgzdu7cqTfeeEPXX3+9KlSooPDwcNWtW1cdOnTQxo0bA/IMfwgAi44LA0AgN+ineZB8TvrxLefgL6qiNOMNKSkw4z4AAACKHwJASASAIemHH35QpUqV/G7Xu/baa7Vjx44CPWPIkCEKCwvz+4ywsDANGjQoQN8oOwLAooMAEPlBP82lQ+ulgXc4B3+9rpG2zHS7hQAAACjiCAAhEQCGnF9++UXh4eGyLEsVKlRQdHS0li9frvnz5+ull16yO+11112nhISEfD1j4sSJdj2VKlVS165dtXTpUsXGxmro0KH64x//aJ8KOnlycE6ZJAAsOggAkR/004tIS5OW9Ze6VnYO/8b/VUqIc7uVAAAA8AACQEgEgCHnnnvukWVZKl26tJYvX57t8969e/s9KCA3zp49q6pVq9oB44YNG7Jdc+rUKd14442yLEtXXHGFzpw5k6/vkhMCwKKDABD5QT/Nwcn90ugHnYO/blWlVUPNScAAAABAABAAQiIADCkxMTF2p2zfvr3jNWlpaapfv759cmpycnKenjFlyhT7Ge+//77f6+bOnWtfN3DgwDw9IzcIAIsOAkDkB/3Uj41TpZ61nMO/wXdLR7a43UIAAAB4DAEgJALAkPLee+/ZnXLlypV+r+vZs6d93Zw5c/L0jLffftu+d+nSpX6vS0lJUdmyZWVZlu655548PSM3CACLDgJA5Af99ALnT0tT/+XnoI9K0pwPpZQkt1sJAAAADyIAhEQAGFKaNWsmy7JUvnx5paSk+L1u+fLlduf96KOP8vSMzO8R3LZtW47XVq9e3T4QJKf25AcBIOBt9NNM9q6SPr/JOfz7tL60c7HbLQQAAICHEQBCIgAMKZUrV5ZlWWrYsGGO1x0/ftzuvI8//nienvHGG2/Y965evdrvdT6fTxUqVLCv3bx5c56eczEEgIC30U8lpaZIC3pInSOdw79vnpfOHXe7lQAAAPA4AkBIBIAhIzEx0e6QDzzwwEWvL1++vCzLUpMmTfL0nCFDhtjP+fTTT/1et2bNGvs6y7I0e/bsPD1n3759OZbM7zskAAS8p9j306PbpaH3OQd/0TWkXyZy0AcAAAAKBQEgJALAkHHkyBG7Qz7xxBMXvT7jJN8bbrghT8/Zt2+fypQpI8uyVKNGDcXHx2e7Ji0tTa1bt84SAE6ZMiVPz8l878UKASDgPcW2n/p80pqxUvdqzuHf8JbS8V1utxIAAADFCAEgJALAkLF37167Qz777LMXvb5mzZqyLEt16tTJ87Nef/11+1n16tXTtGnTdOrUKSUmJmrFihVq1aqV/e6/jOvGjRuXp2cQAALFW7Hsp2ePSZOedg7+OkdKi3qbbcEAAABAISIAhEQAGDIKawWgJCUlJemhhx7KMZS75ppr9Oabb9r/e9q0aXl6BluAgeKt2PXT7QukT651Dv/63Szt8//OVQAAACCYCAAhEQCGjMJ6B2AGn8+nUaNGqVGjRipZsqT97IiICL322ms6efKkOnXqZP988eLAnlLJISCAt/3+++/Fo58mJ0qz3nUO/qIqSt+/Kp1PcLuVAAAAKMYIACERAIaUwjgF2ElCQoK2b9+uvXv3KjU11f55ixYt7Oc4vSuwIAoyAO3YsUObNm3S5s2blZaWFtB2ASi41NRUbdq0SZs2bdKOHTvcbk7wHP5N+uJO5+Dv46ukTTPcbiEAAABAAAhJBIAhpVmzZrIsS+XLl1dKiv/3RC1fvtzuvB999FFQ2pKUlKRKlSrZ24EDrSAD0IEDB+xw4dSpUwFvG4CCOXr0qN1HDx065HZzAi8tTVoxSOpaxTn8G/uIdNqD3xsAAABFEgEgJALAkPLuu+/anXLlypV+r+vZs6d93ezZs4PSlqlTp9rPeOeddwJef0EGoISEBDtc+P3333Xq1ClWAgIu8/l8SkxMVFxcnN0/N23apPPnz7vdtMA6fUga+7Bz8Ne1irRisAkIAQAAgBBBAAiJADCkrFq1yu6U7du3d7wmLS1N9evXt9/Xl5ycHPB2pKSk6KabbpJlWSpTpkxQtvAVZADy+XzatWtXlpBh8+bN2rp1K4VCcals3rw5S5/ctGmTDhw4EPCxw1WbZpitvU7h36C7zJZgAAAAIMQQAEIiAAw5GduAS5cureXLl2f7vHfv3nbHjYqKyvb5woUL7c/btWvn+Iz4+HidPXvW8bOkpCQ9++yzdh0ffPBBQb6OXwUdgNLS0rKFgBQKJXRKfHy8fD5fEEYPF5xPMId5+Dvo46f3zGEgAAAAQAgiAIREABhy1q5dq3LlysmyLFWoUEE9evTQihUrtGDBAr388st2p61Xr55Onz6d7f7cBICTJ09WRESEXnnlFU2dOlVr1qzRkiVL1L9/fzVo0MC+v2XLlkpKSgrK9wzEAOTz+ZSQkKCDBw9qx44drq+AolCKc8k4SOjYsWNBGzdcsW+11O9m5+Dvk2ul7QvcbiEAAACQIwJASASAIWn69OmqWLGi3UEvLPXq1dO2bdsc781tAOiv7ozy/PPPKzExeCtaGIAAhLTUFGlRb6lzpHP4N+kZ6ewxt1sJAAAAXBTzb0gEgCFr9+7d6tixo+rVq6fw8HBFRETotttuU69evfxu35VyFwAePnxYffr0UZs2bXT11VcrPDxcFSpUUL169dS+fXutWLEiSN/qvxiAAISs47uk4S2dg7/o6tLacZJXtjcDAADA85h/QyIAhEsYgACEHJ9PWjdBiq7hHP4N+x/pWOAPRQIAAACCifk3JAJAuIQBCEBIOXdc+qadc/DXOUJa0MNsCwYAAACKGObfkAgA4RIGIAAhY+di6dP6zuHf5zdJe1e53UIAAAAg35h/QyIAhEsYgAC4LiVJmvOhFFXJOfyb+i/pfPbT1gEAAICihPk3JAJAuIQBCICrjmyRBjd1Dv561pI2TnW7hQAAAEBAMP+GRAAIlzAAAXCFzyetGip1q+oc/o1+SDq53+1WAgAAAAHD/BsSASBcwgAEoNAlxEnj/+oc/HWtLC3rL6Wlud1KAAAAIKCYf0MiAIRLGIAAFKots6Re1ziHfwNvlw6td7uFAAAAQFAw/4ZEAAiXMAABKBRJZ6UZbzgHf1EVpR/fkpLPud1KAAAAIGiYf0MiAIRLGIAABN2BtVL/Rs7BX5+60ta5brcQAAAACDrm35AIAOESBiAAQZOWKv38qdTlUufwb8L/Smfi3W4lAAAAUCiYf0MiAIRLGIAABMWJvdLINs7BX/crpNWjzEnAAAAAQDHB/BsSASBcwgAEIODWT5Z61HQO/4Y0l+K3ud1CAAAAoNAx/4ZEAAiXMAABCJjEk9KUF52Dv84R0ryuUmqy260EAAAAXMH8GxIBIFzCAAQgIHYvkz67wTn8++wG8zkAAABQjDH/hkQACJcwAAEokJQkaV4Xs8LPKfz79iWzMhAAAAAo5ph/QyIAhEsYgADkW/xW6cs/OQd/PWqadwECAAAAkMT8GwYBIFzBAAQgz3w+KXaEOc3XKfwbeb85BRgAAACAjfk3JAJAuIQBCECenImXJjzpHPx1uUxa8pmUlup2KwEAAICQw/wbEgEgXMIABCDXts6Rev/ROfzr30g6sM7tFgIAAAAhi/k3JAJAuIQBCMBFJZ+TfnzTOfiLqij98G8p6azbrQQAAABCGvNvSASAcAkDEIAcHfxVGni7c/DXu470+09utxAAAAAoEph/QyIAhEsYgAA4SkuTlvYz7/VzCv/GPy4lxLndSgAAAKDIYP4NiQAQLmEAApDNyf3S6Aedg79ul0sxw8xJwAAAAAByjfk3JAJAuIQBCEAWG7+TetZyDv8G3y0d2eJ2CwEAAIAiifk3JAJAuIQBCIAkKfGU9N0//Rz0UUma85GUkuR2KwEAAIAii/k3JAJAuIQBCID2rJT63ugc/n3aQNr5s9stBAAAAIo85t+QCADhEgYgoBhLTZYWREudI5zDv8l/l84dd7uVAAAAgCcw/4ZEAAiXMAABxdTR7dLQ+5yDvx5XSr9M4qAPAAAAIICYf0MiAIRLGICAYsbnk9aMkbpXcw7/RrSSju92u5UAAACA5zD/hkQACJcwAAHFyNlj0qSnnYO/LpdKi3tLaalutxIAAADwJObfkAgA4RIGIKCY2D5f+uRa5/Cv3y3S/tVutxAAAADwNObfkAgA4RIGIMDjkhOlWe86B39RFaXvX5POJ7jdSgAAAMDzmH9DIgCESxiAAA87vFH64k7n4O/jq6TNP7jdQgAAAKDYYP4NiQAQLmEAAjwoLU1a/oXUtYpz+Df2Een0IbdbCQAAABQrzL8hEQDCJQxAgMecOiiN+Ytz8Ne1irRisAkIAQAAABQq5t+QCADhEgYgwEM2TTdbe53Cv0F3SYd/c7uFAAAAQLHF/BsSASBcwgAEeMD5BGnaK/4P+vjpPSnlvNutBAAAAIo15t+QCADhEgYgoIjbFyv1u9k5+PvkOmnHQrdbCAAAAEDMv2EQAMIVDEBAEZWaIi3qJXWOdA7/vn5WOnvM7VYCAAAASMf8GxIBIFzCAAQUQcd3ScNbOAd/0dWlteMln8/tVgIAAADIhPk3JAJAuIQBCChCfD5p3QQpuoZz+Dfsf6RjO9xuJQAAAAAHzL8hEQDCJQxAQBFx7rj0TTvn4K9zpLSwp9kWDAAAACAkMf+GRAAIlzAAAUXAzsXSp/Wdw7/Pb5L2rnK7hQAAAAAugvk3JAJAuIQBCAhhKeel2R9IUZWcw7+pHaTzp91uJQAAAIBcYP4NiQAQLmEAAkJU3GZpcFPn4K9nLem3aW63EAAAAEAeMP+GRAAIlzAAASHG55NWDpG6VXUO/0Y/JJ064HYrAQAAAOQR829IBIBwCQMQEEJOH5bGPeYc/HWtLC0bIKWlud1KAAAAAPnA/BsSASBcwgAEhIgtM6Ve1ziHfwPvkA6td7uFAAAAAAqA+TckAkC4hAEIcFlqsjSjo3PwF1VRmvm2lHzO7VYCAAAAKCDm35AIAOESBiDAZdP/zzn461NX2jbX7dYBAAAACBDm35AIAOESBiDARTHDncO/iU9JZ4663ToAAAAAAcT8GxIBIFzCAAS4ZNdSqculWYO/blWl1aPNScAAAAAAPIX5NyQCQLiEAQhwwYk9Uq+rs6/82zDF7ZYBAAAACBLm35AIAOESBiCgkCWdifU/KwAAIABJREFUkQY3zR7+ze3sdssAAAAABBHzb0gEgHAJAxBQiHw+6evnsod/4x+X0lLdbh0AAACAIGL+DYkAEC5hAAIK0eI+2cO/AbdJiSfdbhkAAACAIGP+DYkAEC5hAAIKyZaZUlSlrOFfj5pS/Da3WwYAAACgEDD/hkQACJcwAAGFIG6zFF0ja/jXOULaOtftlgEAAAAoJMy/IREAwiUMQECQnTsu9bs5+9bfpf3cbhkAAACAQsT8GxIBIFzCAAQEUWqKNPbh7OHflBfNgSAAAAAAig3m35AIAOESBiAgiH56L3v4N6S5lHzO7ZYBAAAAKGTMvyERAMIlDEBAkPwyMXv41/uP0sn9brcMAAAAgAuYf0MiAIRLGICAINi3WupaJWv417WytGel2y0DAAAA4BLm35AIAOESBiAgwE4fkj65NvvqvzVj3W4ZAAAAABcx/4ZEAAiXMAABAZScKA37n+zh349vud0yAAAAAC5j/g2JABAuYQACAsTnk6b+K3v4N+oBKTXZ7dYBAAAAcBnzb0gEgHAJAxAQICsGZw//+t4onT3mdssAAAAAhADm35AIAEPWnj171KlTJ1133XUKDw9XZGSkGjdurD59+ujs2bMBecbu3bv19ttv69Zbb1WlSpVUunRpRUZG6s4771TXrl115MiRgDzHCQMQEAA7FkqdI7OGf92rSYc3ut0yAPh/9u48PKr6bv/4saLVBIU8Im21lAoaocVaH/GR2ge31tYWbWtbSqu1aqtSaxdRH5Wo7EkkrLIIiIqKKCgIshNIwhImC1tYQiAhBBK2BLKQkG2Smfv3R3R+hEMSkszkOzN5v65r/mjnzJzPqOe+rs99nckAAAA/wf4NiQLQLy1fvlydOnXyXKDnPm688UZlZ2e36hzz5s1TSEhIg+ewLEtXXXWV4uLivPSp6iOAgFYqzJaiv2O/+y/9C9OTAQAAAPAj7N+QKAD9TlpamqeY69ixoyIjI+VwOBQXF6ennnrKc9H26tVLZWVlLTqHw+HQxRdfLMuy9LWvfU1PPPGElixZotTUVC1cuFAPPvig5zyhoaHKycnx7ocUAQS0SlWpNO12e/kXH2V6MgAAAAB+hv0bEgWg37n77rtlWZY6dOggh8Nhez4mJsZz4Y4cObJF53jggQc87zF9+vTzHvP88897jvnXv/7VovM0hgACWsjlkj552F7+ffJw3XMAAAAAcBb2b0gUgH4lNTXVc1EOHjz4vMe4XC717t1blmUpLCxMTmfzf+UzLCzM8xXfhpSUlHhmufXWW5t9jqYQQEALxUfZy7/p/eruCgQAAACAc7B/Q6IA9CsRERGeizI5ObnB46Kjoz3HxcbGNvs8oaGhsixLffv2bfS4Ll26yLIs9enTp9nnaAoBBLRA+hJ7+fdGd6nwoOnJAAAAAPgp9m9IFIB+pX///p6/u1dTU9PgcQ6Hw3PxDhs2rNnnueWWW5q8A/D06dOec/z2t79t9jmaQgABzXR8d90v/J5d/o0Iq/slYAAAAABoAPs3JApAv/LVHXc333xzo8cVFRV5Lt6BAwc2+zwzZ870vH7GjBnnPebFF1/0HLNmzZpmn6MpBBDQDGdOSZP62O/+Szr/9QsAAAAAX2H/hkQB6DcqKys9F+SAAQOaPP6rr/H269ev2eeqra3VI4884vkV4CeffFJLly7Vli1btGjRIj300EOeWV5++eWWfBzl5eU1+jj77x0SQEAjap3SnAH28m/xPyS32/R0AAAAAPwcBSAkCkC/UVBQ4LkgBw0a1OTxXbt2bfXf51uwYIHn68DnPu65555W3fl3vvds6EEAAY1Y8X/28m/2T6SaKtOTAQAAAAgAFICQKAD9Rm5urueCfPTRR5s8vlu3brIsSz179mzR+TIyMvTrX/9aHTp0OG8pd9lll+mRRx7RsWPHWvT+FICAF2z7wF7+je8llR43PRkAAACAAEEBCIkC0G+05R2AGzduVOfOnWVZlrp37665c+fqxIkTcjqdysvL0/Tp0xUWFibLsvTtb39be/fubfY5+Aow0EqHk6WRV9Uv/0ZdLR3ZanoyAAAAAAGEAhASBaDfaKu/AVhVVaVrr71WlmXpm9/8po4fP/+dRHv27NFll10my7LUt2/fZp3jQhBAQCNK8qSY6+13/6V9YnoyAAAAAAGG/RsSBaBfaYtfAV6yZInntZGRkY0e++STT3qOTUtLa9Z5mkIAAQ1wVkgz77SXf6sjTE8GAAAAIACxf0OiAPQr/fv3l2VZCg0NVU1NTYPHORwOz8U7bNiwZp0jOjra89pVq1Y1euyMGTM8x86fP79Z52kKAQSch9stLXzSXv59+BvJVWt6OgAAAAABiP0bEgWgXxk6dKjnokxOTm7wuLNLvOb+Uu+4ceM8r122bFmjx06ZMsVz7MKFC5t1nqYQQMB5JE62l39v3iJVFJmeDAAAAECAYv+GRAHoV1JSUjwX5eDBg897jMvlUu/evWVZljp37iyn09mscyxcuNBzjpdeeqnRY3/3u995jt22bVuzztMUAgg4R+ZaaXin+uVf5LVSwT7TkwEAAAAIYOzfkCgA/c5XXwPu0KGDHA6H7fmYmBjPhTt8+HDb8wkJCZ7nH3vsMdvzxcXFCgkJkWVZuuKKK7Rr167zzrFy5Up97Wtfk2VZuvbaa+VyuVr70eohgICznMyUorqdc/dfJ2nfStOTAQAAAAhw7N+QKAD9zvbt23X55ZfLsix17NhRUVFRSkpKUnx8vJ5++mnPRRseHq7S0lLb65sqACVp1KhRnmM6duyooUOHKj4+Xjt27NDq1av1zDPPqEOHDp5j5s6d6/XPSQABX6oskabcav/q74ZxpicDAAAAEATYvyFRAPqlpUuX6sorr/RcoOc+wsPDlZWVdd7XXkgB6Ha79dxzz+miiy5q8ByWZemSSy7RuHG+KSEIIEB1P+zx0UB7+ffp43U/CAIAAAAArcT+DYkC0G8dOnRIQ4YMUXh4uEJCQtS5c2f17dtXY8eOVXl5eYOvu5AC8Ctbt27V3//+d/Xp00dXXHGFLr74YnXq1Em33nqrnn/+ee3fv9/Ln+r/I4AASWuH28u/GT+Wqs+YngwAAABAkGD/hkQBCEMIILR7uz6zl39je0jFuaYnAwAAABBE2L8hUQDCEAII7drRHdLob9Qv/0b+l5STaHoyAAAAAEGG/RsSBSAMIYDQbpXlSxN62+/+S33H9GQAAAAAghD7NyQKQBhCAKFdqqmW3v25vfxb9pzpyQAAAAAEKfZvSBSAMIQAQrvjdktL/20v/969v64YBAAAAAAfYP+GRAEIQwggtDups+3l38TvS2UFpicDAAAAEMTYvyFRAMIQAgjtSs6muh/5OLv8G/0N6Via6ckAAAAABDn2b0gUgDCEAEK7UXRIGnud/e6/3QtNTwYAAACgHWD/hkQBCEMIILQL1Wekt35sL//WjTQ9GQAAAIB2gv0bEgUgDCGAEPTcbmnBX+zl37w/SC6X6ekAAAAAtBPs35AoAGEIAYSgtyHGXv5NvU2qPG16MgAAAADtCPs3JApAGEIAIahlrLCXf9HdpFMHTE8GAAAAoJ1h/4ZEAQhDCCAErfy9UuQ19cu/EZ2lrLWmJwMAAADQDrF/Q6IAhCEEEIJSeaE0+Wb73X+bp5ieDAAAAEA7xf4NiQIQhhBACDq1NdIHv7aXf4ueqvtBEAAAAAAwgP0bEgUgDCGAEHRWR9jLv1l3S84K05MBAAAAaMfYvyFRAMIQAghBZcfH9vJv3A3S6aOmJwMAAADQzrF/Q6IAhCEEEIJG3hZp1NX1y79RXaTcFNOTAQAAAAD7NyRRAMIQAghB4fQxaVy4/e6/7XNNTwYAAAAAkti/UYcCEEYQQAh4zkrp7Xvt5d/Kl0xPBgAAAAAe7N+QKABhCAGEgOZ2S5//3V7+vf9A3a8BAwAAAICfYP+GRAEIQwggBDTHdHv5N+kmqbzQ9GQAAAAAUA/7NyQKQBhCACFgHYiXRnSuX/6N+ZZ0Yo/pyQAAAADAhv0bEgUgDCGAEJAKs6Xo79jv/tu71PRkAAAAAHBe7N+QKABhCAGEgFNVKk273V7+JUSbngwAAAAAGsT+DYkCEIYQQAgoLpf08Z/s5d/8R+qeAwAAAAA/xf4NiQIQhhBACChxY+zl3/R+UlWZ6ckAAAAAoFHs35AoAGEIAYSAsWexvfx7o7tUeND0ZAAAAADQJPZvSBSAMIQAQkA4vlsa88365d+IMCl7venJAAAAAOCCsH9DogCEIQQQ/N6ZU9KkPva7/5Jnmp4MAAAAAC4Y+zckCkAYQgDBr9U6pTkD7OXfkmclt9v0dAAAAABwwdi/IVEAwhACCH5t+Qv28u+d+6SaKtOTAQAAAECzsH9DogCEIQQQ/NbWOfbyb3wvqfSE6ckAAAAAoNnYvyFRAMIQAgh+6XCSNPKq+uXf6K7SkW2mJwMAAACAFmH/hkQBCEMIIPidkjwppqf97r+dC0xPBgAAAAAtxv4NiQIQhhBA8CvV5dLM/vbyb81rpicDAAAAgFZh/4ZEAQhDCCD4Dbdb+uyv9vJv7m8lV63p6QAAAACgVdi/IVEAwhACCH5j0yR7+ffmLVJFsenJAAAAAKDV2L8hUQDCEAIIfmH/Gml4p/rlX9S3pYL9picDAAAAAK9g/4ZEAQhDCCAYdzJTiup2zt1/naT9q01PBgAAAABew/4NiQIQhhBAMKqiWJry3/av/m6cYHoyAAAAAPAq9m9IFIAwhACCMa5aae7v7OXfZ0/U/SAIAAAAAAQR9m9IFIAwhACCMbHD7OXfjP+VqstNTwYAAAAAXsf+DYkCEIYQQDBi12f28m9sD6k41/RkAAAAAOAT7N+QKABhCAGENnd0uzS6a/3yb+RV0qHNpicDAAAAAJ9h/4ZEAQhDCCC0qbJ8aUJv+91/W94zPRkAAAAA+BT7NyQKQBhCAKHN1FRJ7/zMXv4tG2J6MgAAAADwOfZvSBSAMIQAQptwu6Uv/mkv/977hVTrND0dAAAAAPgc+zckCkAYQgChTaS8bS//Jn5fOnPS9GQAAAAA0CbYvyFRAMIQAgg+d3CjNPK/6pd/Y74pHdtpejIAAAAAaDPs35AoAGEIAQSfKjokvfFd+91/ez43PRkAAAAAtCn2b0gUgDCEAILPVJVJb91hL//WjTI9GQAAAAC0OfZvSBSAMIQAgk+43dL8P9vLv3mDJJfL9HQAAAAA0ObYvyFRAMIQAgg+sT7GXv5NvU2qPG16MgAAAAAwgv0bEgUgDCGA4HUZy+3lX3Q36dQB05MBAAAAgDHs35AoAGEIAQSvyt8rRV5Tv/wb0VnKWmd6MgAAAAAwiv0bEgUgDCGA4DXlhdLkm+13/22eanoyAAAAADCO/RsSBSAMIYDgFbU10ge/spd/nw+u+0EQAAAAAGjn2L8hUQDCEAIIXrFqqL38m3W35Kw0PRkAAAAA+AX2b0gUgDCEAEKr7ZhnL//GhUunj5qeDAAAAAD8Bvs3JApAGEIAoVXytkijutQv/0Z1kXJTTU8GAAAAAH6F/RsSBSAMIYDQYqeP1d3pd+7df9s/Mj0ZAAAAAPgd9m9IFIAwhABCizgrpbfvsZd/q14xPRkAAAAA+CX2b0gUgDCEAEKzud3S53+3l3/vP1j3a8AAAAAAABv2b0gUgDCEAEKzOabZy7/JP5DKC01PBgAAAAB+i/0bEgUgDCGA0CwH4qQRneuXf5HXSPl7TU8GAAAAAH6N/RsSBSAMIYBwwU4dkKK/Y7/7L2O56ckAAAAAwO+xf0OiAPRbhw8f1gsvvKBevXopJCREYWFhuu222zRu3DiVl5e3+H1zcnI8F/6FPrp37+69D/YlAggXpPK0NPU2e/m3fqzpyQAAAAAgILB/Q6IA9EvLly9Xp06dGizkbrzxRmVnZ7fovVtSAP7sZz/z8ickgHABXC7p4z/ay7/5f657DgAAAADQJPZvSBSAfictLU0hISGyLEsdO3ZUZGSkHA6H4uLi9NRTT3ku2l69eqmsrKzZ7+90OrV79+4mHw8//LDnXPPmzfP65ySA0KS40fby7607pKrm/3cPAAAAAO0V+zckCkC/c/fdd8uyLHXo0EEOh8P2fExMjOfCHTlypE9mqK2t1TXXXCPLsnTFFVe06ivHDSGA0Kg9n9vLvze+KxXlmJ4MAAAAAAIK+zckCkC/kpqa6rkoBw8efN5jXC6XevfuLcuyFBYWJqfT6fU5Vq9e7ZnjiSee8Pr7SwQQGnFspzTmm/XLvxFh0sENpicDAAAAgIDD/g2JAtCvREREeC7K5OTkBo+Ljo72HBcbG+v1Oc7++u/69eu9/v4SAYQGnDkpTexjv/sv5W3TkwEAAABAQGL/hkQB6Ff69+8vy7IUGhqqmpqaBo9zOByei3fYsGFenaG0tNTzNwi7d+8ut9vt1ff/CgEEm1qn9N4v7eXfF/+UfPTfIQAAAAAEO/ZvSBSAfqVLly6yLEs333xzo8cVFRV5Lt6BAwd6dYb33nvP896vv/66V9/7bAQQbJY/by//3rlPqqkyPRkAAAAABCz2b0gUgH6jsrLSc0EOGDCgyeNDQ0NlWZb69evn1Tm++hESy7KUlZXV4vfJy8tr9HH23zskgKAt79nLvwm9pbJ805MBAAAAQECjAIREAeg3CgoKPBfkoEGDmjy+a9eusixLffr08doMhw8f1kUXXSTLsnTHHXe06r2++iwX8iCA2rlDDmnkVfXLv9FdpaPbTU8GAAAAAAGPAhASBaDfyM3N9VyQjz76aJPHd+vWTZZlqWfPnl6bITIy0jPDzJkzW/VeFIC4IMW50tge9rv/dn5qejIAAAAACAoUgJAoAP2GP9wB2KtXL1mWpa9//esqLi5u1XvxFWA0qbpcmtnfXv7F+u5vTwIAAABAe0MBCIkC0G+Y/huAKSkpPvthkfMhgNo5t1v67Al7+Tf3d5Kr1vR0AAAAABA02L8hUQD6FZO/Avzss8963nPZsmVeec/GEEDt3KaJ9vJvyn9LFa278xQAAAAAUB/7NyQKQL/Sv39/WZal0NBQ1dTUNHicw+HwXLzDhg1r9XmdTqenfOzatWuj5/YWAqgd279aGt6pfvkX9W3pZKbpyQAAAAAg6LB/Q6IA9CtDhw71XJTJyckNHhcdHe05bs2aNa0+7+LFiz3v99xzz7X6/S4EAdROFeyvK/vq3f3XSdrf+v+OAQAAAAB27N+QKAD9ytl/h2/w4MHnPcblcql3796yLEudO3eW0+ls9Xkfeughz3l37NjR6ve7EARQO1RRXPc133O/+rtpounJAAAAACBosX9DogD0O199DbhDhw5yOBy252NiYjwX7vDhw23PJyQkeJ5/7LHHmjxfYWGhLr30UlmWpZtuuskLn+DCEEDtjKtWmvtbe/n32V/rfhAEAAAAAOAT7N+QKAD9zvbt23X55ZfLsix17NhRUVFRSkpKUnx8vJ5++mnPRRseHq7S0lLb65tbAE6fPt1z/Pjx433wic6PAGpnYl+3l38z+0vV5aYnAwAAAICgxv4NiQLQLy1dulRXXnml5wI99xEeHq6srKzzvra5BeDtt98uy7J08cUX6/jx417+JA0jgNqRnQvs5V9MT6mEf+8AAAAA4Gvs35AoAP3WoUOHNGTIEIWHhyskJESdO3dW3759NXbsWJWXN3zXVHMKwMzMTM+x999/v5c/QeMIoHbiyDZpdNf65d/Iq6RD9q+3AwAAAAC8j/0bEgUgDCGA2oHSE9KE3va7/7bOMT0ZAAAAALQb7N+QKABhCAEU5GqqpHfus5d/y583PRkAAAAAtCvs35AoAGEIARTE3G5pybP28u+9X0q1TtPTAQAAAEC7wv4NiQIQhhBAQSx5lr38m9hHOnPS9GQAAAAA0O6wf0OiAIQhBFCQOrhBGhFWv/wb803p+C7TkwEAAABAu8T+DYkCEIYQQEGoKEd647v2u//2fG56MgAAAABot9i/IVEAwhACKMhUlUnTf2Qv/+JGm54MAAAAANo19m9IFIAwhAAKIi6XNP/P9vLv4z/WPQcAAAAAMIb9GxIFIAwhgIJIwhv28m/a/0iVp01PBgAAAADtHvs3JApAGEIABYm9y+zlX/R3pMJs05MBAAAAAMT+jToUgDCCAAoCJ9KlyGvql38jOksH4kxPBgAAAAD4Evs3JApAGEIABbjyQmnSTfa7/xzTTE8GAAAAADgL+zckCkAYQgAFsNoa6f0H7eXf53+X3G7T0wEAAAAAzsL+DYkCEIYQQAFs5cv28u/teyVnpenJAAAAAADnYP+GRAEIQwigALV9rr38GxcunT5mejIAAAAAwHmwf0OiAIQhBFAAyk2RRnWpX/6N6iLlbTE9GQAAAACgAezfkCgAYQgBFGBOH5XG3WC/+2/HPNOTAQAAAAAawf4NiQIQhhBAAcRZKc26217+rRpqejIAAAAAQBPYvyFRAMIQAihAuN3Soqft5d8Hv677NWAAAAAAgF9j/4ZEAQhDCKAAsXmqvfybfLNUXmh6MgAAAADABWD/hkQBCEMIoACQtVYa0bl++Rd5jZS/1/RkAAAAAIALxP4NiQIQhhBAfu7UASm6m/3uv4wVpicDAAAAADQD+zckCkAYQgD5scrT0tTb7OXf+hjTkwEAAAAAmon9GxIFIAwhgPyUyyXNG2Qv/xY8WveDIAAAAACAgML+DYkCEIYQQH5q3Sh7+ffWHVL1GdOTAQAAAABagP0bEgUgDCGA/NDuRfbyb+x1UtEh05MBAAAAAFqI/RsSBSAMIYD8zLGd0uhv1C//Rv6XlLPJ9GQAAAAAgFZg/4ZEAQhDCCA/cuakNPH79rv/Ut42PRkAAAAAoJXYvyFRAMIQAshP1FRL7/3CXv598S9+9AMAAAAAggD7NyQKQBhCAPmJZUPs5d87P6srBgEAAAAAAY/9GxIFIAwhgPzAlnft5d+E70ll+aYnAwAAAAB4Cfs3JApAGEIAGXZoc92PfJxd/o3uKh3dYXoyAAAAAIAXsX9DogCEIQSQQcW50tge9rv/dn1mejIAAAAAgJexf0OiAIQhBJAh1eXSjP+1l3+xw0xPBgAAAADwAfZvSBSAMIQAMsDtlj593F7+ffR7yVVrejoAAAAAgA+wf0OiAIQhBJABG8fby78pt0qVJaYnAwAAAAD4CPs3JApAGEIAtbF9q6ThneqXf1HdpJOZpicDAAAAAPgQ+zckCkAYQgC1oYJ9UuS159z910nKjDU9GQAAAADAx9i/IVEAwhACqI1UFElv3mL/6u+mSaYnAwAAAAC0AfZvSBSAMIQAagOuWunDh+zl38K/1f0gCAAAAAAg6LF/Q6IAhCEEUBtY86q9/Jt5p+SsMD0ZAAAAAKCNsH9DogCEIQSQj6XNt5d/MddLJUdMTwYAAAAAaEPs35AoAGEIAeRDR7ZJo66uX/6NvEo6nGR6MgAAAABAG2P/hkQBCEMIIB8pPS6N72W/+2/r+6YnAwAAAAAYwP4NiQIQhhBAPlBTJc3+qb38W/Gi6ckAAAAAAIawf0OiAIQhBJCXud3Skn/Yy785A6Rap+npAAAAAACGsH9DogCEIQSQlyXPtJd/k/pIZ06ZngwAAAAAYBD7NyQKQBhCAHlR9nppRFj98m/MN6Xju01PBgAAAAAwjP0bEgUgDCGAvKTwoPRGd/vdf+lLTE8GAAAAAPAD7N+QKABhCAHkBVVl0vR+9vIvPtL0ZAAAAAAAP8H+DYkCEIYQQK3kckmfPGwv/z55uO45AAAAAADE/o06FIAwggBqpYRoe/k37XapqtT0ZAAAAAAAP8L+DYkCEIYQQK2wd6m9/Iv+jlSYbXoyAAAAAICfYf+GRAEIQwigFjqxRxrzrfrl34gw6UC86ckAAAAAAH6I/RsSBSAMIYBaoLxQmnST/e6/pLdMTwYAAAAA8FPs35AoAGEIAdRMtU7p/Qfs5d/iZyS32/R0AAAAAAA/xf4NiQIQhhBAzbTyJXv5N/snUk2V6ckAAAAAAH6M/RsSBSAMIYCaYduH9vJv/I1S6XHTkwEAAAAA/Bz7NyQKQBhCAF2g3BRpVJf65d+oq6W8raYnAwAAAAAEAPZvSBSAMIQAugAlR6SY6+13/+342PRkAAAAAIAAwf4NiQIQhhBATXBWSLPuspd/qyNMTwYAAAAACCDs35AoAGEIAdQIt1ta9JS9/PvwN1JtjenpAAAAAAABhP0bEgUgDCGAGrF5ir38e/OHUkWR6ckAAAAAAAGG/RsSBSAMIYAakLVWGtG5fvkXea2Un2F6MgAAAABAAGL/hkQBCEMIoPM4mSVFdTvn7r9O0r6VpicDAAAAAAQo9m9IFIAwhAA6R2WJNLWv/au/G2JMTwYAAAAACGDs35AoAGEIAXQWV6300UB7+bfgL3U/CAIAAAAAQAuxf0OiAIQhBNBZ1o20l39v/ViqPmN6MgAAAABAgGP/hkQB6LcOHz6sF154Qb169VJISIjCwsJ02223ady4cSovL/fquVJSUvTMM8+oV69euuKKKxQaGqoePXrol7/8pSZMmKCCggKvnk8igDx2L7SXf2Ovk4oPm54MAAAAABAE2L8hUQD6peXLl6tTp06eC/Tcx4033qjs7OxWn6eqqkpPPvmkLrroogbPZVmWFi9e7IVPVR8BJOlYmjT6G/XLv5H/JeVsMj0ZAAAAACBIsH9DogD0O2lpaQoJCZFlWerYsaMiIyPlcDgUFxenp556ynPR9urVS2VlZS0+T3V1tX7xi1943q9///6aPXu2EhMTlZycrAULFigiIkI33HADBaAvlBVIE75nv/svdbbpyQAAAAAAQaTd79+QRAHod+6++25ZlqUOHTrI4XDYno+JifFcuCNHjmzxeV5//XXP+4wfP77RY51OZ4vP05B2HUA11dK799vLv6X/MT0ZAAAAACDItOv9Gx4UgH4kNTWRLJszAAAgAElEQVTVc1EOHjz4vMe4XC717t1blmUpLCysReVcdna2LrnkElmWpccff7y1Y7dIuw6gZc/Zy793f15XDAIAAAAA4EXtev+GBwWgH4mIiPBclMnJyQ0eFx0d7TkuNja22ed5+eWXZVmWLrroIh08eLA1I7dYuw2g1Hfs5d+E79V9JRgAAAAAAC9rt/s36qEA9CP9+/eXZVkKDQ1VTU1Ng8c5HA7PxTts2LBmn6dHjx6yLEu33Xab5/9zuVzKy8vTwYMHVVFR0aL5m6NdBlBOYt2PfJxd/o3+hnR0h+nJAAAAAABBql3u37ChAPQjXbp0kWVZuvnmmxs9rqioyHPxDhw4sFnnKCgo8Lz23//+t06fPq3//Oc/CgsL8/z/HTp00J133qnly5e35uM0qt0FUPFhaex19rv/di80PRkAAAAAIIi1u/0b50UB6CcqKys9F+SAAQOaPD40NFSWZalfv37NOs/69es953n55ZfVs2dPz/8+32PIkCEt+jx5eXmNPs7+e4dBH0DVZ6QZP7aXf2tHmJ4MAAAAABDkKAAhUQD6jbPvzBs0aFCTx3ft2lWWZalPnz7NOs/nn3/uOc/Xv/51WZalO+64Qxs2bFBFRYWKioo0b948fetb3/IcN2PGjGZ/nsZKxXMfQR1Abrf06WP28u+jgZKr1vR0AAAAAIAgRwEIiQLQb+Tm5nouyEcffbTJ47t16ybLstSzZ89mnWfu3Ln1yrdbb71VlZWVtuMyMzM9dxleffXVzf67gBSAX9owzl7+Te0rVZaYngwAAAAA0A5QAEKiAPQbbXUH4GeffVavfFu9enWDx7744oue45YuXdqs8/AVYEn7VkrDO9Uv/6K6SSezTE8GAAAAAGgnKAAhUQD6jbb6G4CrV6/2nOfSSy9VdXV1g8euXbvWc+zrr7/erPM0JegDKD9Diry2fvk3orOUudb0ZAAAAACAdiTo929cEApAP9IWvwKcnp7ueW23bt0aPXbfvn2eYwcPHtys8zQlqAOookh684f2r/4mvml6MgAAAABAOxPU+zcuGAWgH+nfv78sy1JoaKhqamoaPM7hcHgu3mHDhjXrHE6nU5dccoksy9I111zT6LFnl4XPPvtss87TlKANoNoa6cPf2Mu/hU/W/SAIAAAAAABtKGj3bzQLBaAfGTp0qOeiTE5ObvC46Ohoz3Fr1qxp9nnuvPNOWZaliy++WGfOnGnwuKVLl3rOExUV1ezzNCZoA2h1hL38m3WX5Gzej6gAAAAAAOANQbt/o1koAP1ISkpKk1+5dblc6t27tyzLUufOneV0Opt9njfffNNznnnz5jV43OOPP+45btOmTc0+T2OCMoDSPrGXfzHXSyVHTE8GAAAAAGingnL/RrNRAPqZr74G3KFDBzkcDtvzMTExngt3+PDhtucTEhI8zz/22GPnPUdZWZnnV4S7d++uEydOnPd9Lr74Ys8vDbu9/PXVoAugvK3SqKvrl3+jukiHG76TEwAAAAAAXwu6/RstQgHoZ7Zv367LL79clmWpY8eOioqKUlJSkuLj4/X00097Ltrw8HCVlpbaXn8hBaAkzZ8/XxdddJHnx0CmT5+uLVu2aNOmTYqIiPDM0KFDByUmJnr9cwZVAJUel8bfaL/7b9uHpicDAAAAALRzQbV/o8UoAP3Q0qVLdeWVV3ou0HMf4eHhysrKOu9rL7QAlKRp06bp0ksvbfA8HTt21JIlS3zwCYMogGqqpNk/sZd/K/7P9GQAAAAAAATP/o1WoQD0U4cOHdKQIUMUHh6ukJAQde7cWX379tXYsWNVXl7e4OuaUwBK0p49e/TMM8/o+uuv1+WXX66OHTvqBz/4gV566SUdO3bMi5+ovqAIILdbWvwPe/k3Z4BU2/y/zQgAAAAAgLcFxf6NVqMAhBFBEUBJM+zl36SbpPJC05MBAAAAACApSPZvtBoFIIwI+ADKTpBGhNUv/8Z8Szqxx/RkAAAAAAB4BPz+Da+gAIQRAR1AhdlS9Hfsd/+lf2F6MgAAAAAA6gno/RteQwEIIwI2gKpKpWm328u/+CjTkwEAAAAAYBOw+ze8igIQRgRkALlc0icP28u/Tx6uew4AAAAAAD8TkPs3vI4CEEYEZADFR9nLv+n96u4KBAAAAADADwXk/g2vowCEEQEXQOlL7OXfG92lwoOmJwMAAAAAoEEBt3/DJygAYUTABVDqO/V/9XdEWN0vAQMAAAAA4McCbv+GT1AAwoiADKDs9XV3/Q2/UkqaYXoaAAAAAACaFJD7N7yOAhBGBGwAFR6U1o+V3G7TkwAAAAAA0KSA3b/hVRSAMIIAAgAAAADA99i/IVEAwhACCAAAAAAA32P/hkQBCEMIIAAAAAAAfI/9GxIFIAwhgAAAAAAA8D32b0gUgDCEAAIAAAAAwPfYvyFRAMIQAggAAAAAAN9j/4ZEAQhDCCAAAAAAAHyP/RsSBSAMIYAAAAAAAPA99m9IFIAwhAACAAAAAMD32L8hUQDCEAIIAAAAAADfY/+GRAEIQwggAAAAAAB8j/0bEgUgDCGAAAAAAADwPfZvSBSAMIQAAgAAAADA99i/IVEAwhACCAAAAAAA32P/hkQBCEMIIAAAAAAAfI/9GxIFIAwhgAAAAAAA8D32b0gUgDCEAAIAAAAAwPfYvyFRAMIQAggAAAAAAN9j/4ZEAQhDCCAAAAAAAHyP/RsSBSAMIYAAAAAAAPA99m9IFIAwhAACAAAAAMD32L8hUQDCEAIIAAAAAADfY/+GRAEIQwggAAAAAAB8j/0bEgUgDCGAAAAAAADwPfZvSBSAMIQAAgAAAADA99i/IVEAwhACCAAAAAAA32P/hkQBCEMIIAAAAAAAfI/9GxIFIAwhgAAAAAAA8D32b0gUgDCEAAIAAAAAwPfYvyFRAMIQAggAAAAAAN9j/4ZEAQhDCCAAAAAAAHyP/RsSBSAMIYAAAAAAAPA99m9IFIAwhAACAAAAAMD32L8hUQDCEAIIAAAAAADfY/+GRAEIQwggAAAAAAB8j/0bEgUgDCGAAAAAAADwPfZvSBSAMIQAAgAAAADA99i/IVEAwhACCAAAAAAA32P/hkQBCEMIIAAAAAAAfI/9GxIFIAwhgAAAAAAA8D32b0gUgDCEAAIAAAAAwPfYvyFRAMIQAggAAAAAAN9j/4ZEAQhDCCAAAAAAAHyP/RsSBSAMIYAAAAAAAPA99m9IFIAwhAACAAAAAMD32L8hUQDCEAIIAAAAAADfY/+GRAEIQwggAAAAAAB8j/0bEgUgDCGAAAAAAADwPfZvSBSAMIQAAgAAAADA99i/IVEAwhACCAAAAAAA32P/hkQBCEMIIAAAAAAAfI/9GxIFIAwhgAAAAAAA8D32b0gUgDCEAAIAAAAAwPfYvyFRAMIQAggAAAAAAN9j/4ZEAQhDCCAAAAAAAHyP/RsSBSAMIYAAAAAAAPA99m9IFIAwhAACAAAAAMD32L8hUQD6rcOHD+uFF15Qr169FBISorCwMN12220aN26cysvLW/Xec+bM8Vz8TT3mzJnjnQ90DgIIAAAAAADfY/+GRAHol5YvX65OnTo1WMrdeOONys7ObvH7UwACAAAAANA+sH9DogD0O2lpaQoJCZFlWerYsaMiIyPlcDgUFxenp556ynPR9urVS2VlZS06x9kF4Jo1a7R79+4GH8XFxV7+hHUCMYAS9uVrU+ZJ7cwrVs7JMyo8Uy1nrcv0WAAAAAAANCgQ9294HwWgn7n77rtlWZY6dOggh8Nhez4mJsZz4Y4cObJF5zi7AMzJyWnlxC0TiAH036Ni1f3l5bZH79dX6fbIdbpv4nr99q3Nevy9FP37k+16bfFuxazO0Mz1B/RxymEt33lMGzMLlJZbrIMnz+hUWZWqaygQAQAAAAC+E4j7N7yPAtCPpKamei7KwYMHn/cYl8ul3r17y7IshYWFyel0Nvs8FIDN53a7dX3EivMWgK193PjaSt02Zq1+MmG9HpqeqMfeS9G/Pt6uVxfv0thVGZqx/oDmJR/Wsp1HtX5/gbYfLtKBgjIVlFapqqbW9D8aAAAAAIAfC7T9G75BAehHIiIiPBdlcnJyg8dFR0d7jouNjW32eSgAm6+iutYn5Z83HuGvrlTfMWt17/gE/WZ6ov7ybor++fF2RXy+S9ErMzQ9IUtzkw7pi7SjStiXr22Hi5SVX6b80kpVOikQAQAAACCYBdr+Dd+gAPQj/fv3l2VZCg0NVU1NTYPHORwOz8U7bNiwZp+HArD5Cs9U655xCbp1dKzP7gQ09bjh1ZW6dfRa3TM+Qb+alqg/v5Osf8zbplcW7VLUyr2aFp+lD5MOacmOI4rfl6+th4qUlV+q/NN1BaLb7Tb9rwcAAAAA0IBA27/hGxSAfqRLly6yLEs333xzo8cVFRV5Lt6BAwc2+zxnF4B33XWXunbtqksuuURXXXWVbr/9dr366qs6cuRISz/GBQnkAHK73ap01ir/dKWy8ku19VCR4vfla8mOI/ow6ZCmxWcpemWGhn6+S8/O26ZH303Rr6cl6p7xCbp19FrdELHSeOnnzcf1ESv036Nidfe4BP1q6qa6AvGjbXpl0U5FrfiyQHTkaMmOI4rLOKEtOYXaf6JUx0sqVV5dQ4EIAAAAAD4UyPs3vIcC0E9UVlZ6LsgBAwY0eXxoaKgsy1K/fv2afa6zC8CGHpdddplmzpzZko8iqS5gGnuc/fcO22MAVTprlV9aqaz8Mm07XKT1+wu0NO2oPko+pLcSDuiNVRmK+HyX/vnxdv3l3RT9Znqi7h2foL5j1ir81eAqEHsOXaFbRsXqrph4PTh1kx6ZnaxnPtqqlxfu1Jjl6ZqyLlPvb87R59vztG7vCaXmFGrf8VIdK6nQmSoKRAAAAABoDAUgJApAv1FQUOC5IAcNGtTk8V27dpVlWerTp0+zzzVnzhz16NFDL774ohYtWqTU1FSlpqZq/vz5GjhwoC666CLPLLNmzWrJx2myYDz7QQA1X1VNrU6WVSm7oEw7cou1YX+Blu08qnnJhzVj/QGNXZWhVxfv0r8+3q7H3kvRQ9MT9dMJ6/U/kWvV67VVxks/bz56DF2hH45coztj4vXAlE3609tJGvzhVv3fZ2kavSxdb67L1JzEg1q0LU9r008o5WChMo6f1tHiCpVRIAIAAAAIchSAkCgA/UZubq7ngnz00UebPL5bt26yLEs9e/Zs9rlKSkoaLT2WLVumSy65RJZlKSQkRMePH2/2OSgA/Vt1jUunyqp08OQZpeUWa2NmgZbvPKaPUw5r5voDilmdodeX7NZ/PtmuJ+ak6ndvbdZ9E9fr9sh16v16cBWI172yXD8YsUb/OzZOv3xzo/44K0lPf7hFL36aplHL0jV5babeSzyohVvzFJt+QknZp5R+9LTyisp1utIpl4sCEQAAAID/ogCERAHoN9ryDsALMWbMGM88Y8aMafbr+QpwcHPWulR4plo5J89oZ16xNmWe1MpdxzQ/9bDe3pCt8Wv2adiS3Xpu/g79dU6qfj9js342cYP6Ra3T94KsQPzuK8t10/DV+vEbcfrF5I0aNMuhpz7Yohc+TdPIpemaGLtf72w6qE+35Gr1nuNyHDilPUdLlFtYrpIKCkQAAAAAvkUBCIkC0G+05d8AvBD5+fmerwLfd999Xn9/Aqh9q6l1qbi8WodPlWv3kRJtzjqpVbuPaUFqrmZvzNaENfs0/Is9GjJ/h/72fqoGznDo55M26I7oOPUZttp46eftArHP8NW6IzpO90/eqIEzHfrb+1s0ZMEODf9ijybE7tfsjdlasCVXq3Yf1+YDJ7X7yJcFYrlTtRSIAAAAABrB/g2JAtCvtNWvAF+oq6++WpZl6Xvf+57X35sAQmvUutwqKXcqt/DLAvHASa3afVwLtnxZIMbu14ile/T8gjQ9+cEW/WGmQ/dP3lhXIA4PrgKx+8vL9f1hq/WjqHX6+aQNGjjDob+9n6oh878sENfsqysQU3O1avcxJWad1K68Eh06dUZFZ6pVU+sy/a8TAAAAgA+xf0OiAPQr/fv3l2VZCg0NVU1NTYPHORwOz8U7bNgwn83zVSFJAYhgU+tyq6SirkDcc7REjgOntGbPcX22NU/vbjqoSWv3a+TSdL3waZqe+mCLBs1y6BeTN+rHb8TppuGr9d1XzJd+3nz8T+RaPTQ9Uf/6eLvGrsrQvOTD2rC/QNkFZap01pr+1wUAAACgFdi/IVEA+pWhQ4d6Lsrk5OQGj4uOjvYct2bNGp/McvZXgH/60596/f0JIAQyl8ut0kqnjhRXaO+x00rOPqXY9BNauDVP7yUe1OS1mRq1LF0vfpqmpz/coj/OStKAKRvVf2y8bh65RtcFWIHYd8xa/WZ6ov758Xa9sSpDHyUfUsK+fGXlUxACAAAA/o79GxIFoF9JSUnxXJSDBw8+7zEul0u9e/eWZVnq3LmznE6nT2YZPXq0Z5bRo0d7/f0JILRnbrdbZVU1OlpcoYzjp5VysFBr009o0bY8zUk8qDfXZWr0snS99NlO/X3uVj08O0kPTNmkO2Pi9cORa9Rj6ArjpeDZj1tHr9WvpyXq2XnbFLVyrz5MOqT4ffnKyi9VRTUFIQAAAGAS+zckCkC/89XXgDt06CCHw2F7PiYmxnPhDh8+3PZ8QkKC5/nHHnvM9nxOTo62b9/e6AzLli3TpZdeKsuydNlll+nIkSMt/TgNIoCAlnO73TpTVaNjJRXad7xUqTmFWrf3hBZvP6IPHDmaGpepyBV79fLCnXrmo616ZHayHpy6SXfFxOuWUbHq2cYF4q2jY/WrqZv0j4+2KWrFXn3oyFF8Rr4yT5SqvLrhP3cAAAAAoPXYvyFRAPqd7du36/LLL5dlWerYsaOioqKUlJSk+Ph4Pf30056LNjw8XKWlpbbXN1UAfvX8j370I0VFRWnlypXaunWrtmzZogULFmjgwIGer/5alqVp06b55HMSQIA5brdb5dU1OnG6UulHTys2/YTeSzyoUcvS9fSHWzRgykbdPHJNmxWEt4yK1YNTN+mZj7YqcsVefeDIUVzGCe07XqozVRSEAAAAQGuwf0OiAPRLS5cu1ZVXXum5QM99hIeHKysr67yvvdACsKlHSEiIZs2a5bPPSAAB/q+00qmM46e1Nv2E5iQe1Jjl6fr73K16YMom/bANC8IfjlyjB6Zs0t/nbtWY5emak3hQa9NPKOP4aZVREAIAAACNYv+GRAHotw4dOqQhQ4YoPDxcISEh6ty5s/r27auxY8eqvLy8wdc1VQCWlpbqo48+0rPPPqvbb79d3/nOdxQSEqJLL71U3/jGN3TvvfcqMjJS+fn5Pvx0BBAQDMqqarTveKniMk7oA0eOIlfs1TMfbdWDUzfpllGxbVYQ3jxyjQZM2ainP9yiUcvS9V7iQcWmn9DeY6d1utI3fycVAAAACBTs35AoAGEIAQQEv/LqGmWeKFV8Rr4+dOQoasVe/eOjbfrVtETdOrrtCsKbhq/WLyZv1FMfbNHIpel6d9NBrdlzXHuOlqikgoIQAAAAwY39GxIFIAwhgACUV9coK79U8fvy9WHSIUWvzNCz87bp19MSdevotW1WEPYZvlr3T96oJz/YohFL92j2xmyt2n1cu4+UqKTcKbfbbfofFQAAANBi7N+QKABhCAEEoCkV1bXKyi/T+v0F+ij5kN5YlaF/frxdv5meqL5j2rAgHLZaP5+0QX97P1XDv/iqIDym3UdKVFxeTUEIAAAAv8b+DYkCEIYQQABaq9JZq+yCMm3YX6B5yYc1dlWG/vXxdj00PVH/E9l2BeH3Xl+ln03coL/OSdWwJbv19oZsrdx1TDvzilV4hoIQAAAAZrF/Q6IAhCEEEABfq3TW6uDJM9qYWaCPUw5r3Op9+s8n2/W7tzbr9sh1+u4rbVMQ9n59le6buF5PzEnV60t2a+b6A1q+85jScot1qqyKghAAAAA+xf4NiQIQhhBAAEyrqqlVzskzSsw6qfmphzV+zT49N3+Hfj9js/pFtV1B2Ou1VfrphPV6/L0Uvbp4l2asP6BlO49qR26xTlIQAgAAoJXYvyFRAMIQAgiAv6uucenwqXJtzjqpBam5mrBmn4bM36GBMxy6IzpO17VRQXjjayt17/gE/eXdFEV8vktvJRzQ0rSj2n64SPmllRSEAAAAaBT7NyQKQBhCAAEIdM5al3ILy7X5wEkt2JKrCbH79fyCNP1hZtsWhOGvrtQ94xP06LspGvr5Lk1PyNKSHUe09VCR8k9XyuWiIAQAAGjP2L8hUQDCEAIIQLD7qiB0HDilz7bmadLa/Xrh0zQNmuXQj9+IU4+hK9qkILzh1ZW6Z1yC/vxOsl5ZtFPT4r8qCAt1goIQAAAg6LF/Q6IAhCEEEID2rqbWpSPFFUrOPqWFW/M0eW2mXvw0TX+claT+Y+PVs60KwoiVuismXo/MTtbLC3dqalymFm8/oi05hTpWUqFaCkIAAICAxv4NiQIQhhBAANC4WpdbR4srlHKwUIu25enNdZl66bOdenh2ku6Midf1EW1TEF4fsUJ3xsTr4dlJeumznZqyLlOLtuUp5WChjhZTEAIAAPg79m9IFIAwhAACgNapdbl1rKRCqTmFWrz9iKbGZerlhTv1yOxk3dWGBWHPoSvUf2y8/vR2kl78NE2T12Zq4dY8JWef0pHiCtXUukz/owIAAGjX2L8hUQDCEAIIAHzL5XLrxOlKbT1UqCU7jmhafJZeWbRTf34nWXePS9ANESvbrCD88RtxGjTLoRc+TdOktfv12dY8JWWfUm5hOQUhAACAj7F/Q6IAhCEEEACY5XK5lX+6UlsPFZ1VEO7So++m6J7xCbrh1bYpCHsMXaE7ouP0h5kOPb8gTRNj9+vTLbnafOCkcgvL5aQgBAAAaBX2b0gUgDCEAAIA/+ZyuZVfWqlth4v0RdpRvZVwQBGf79Jf3k3RveMTFN5GBeF1ryzXHdFxGjjToSELdmjCmn1akJqrzVkndfgUBSEAAEBT2L8hUQDCEAIIAAKb2+1WQWmVduQWa9nOo5qx/oBeXbxLj72Xop9MWK9er61qs4KwX9Q6/X7GZj03f4emJ2Rp66EiikEAAIAvsX9DogCEIQQQAAQ3t9utU2VVSsst1vKdxzRz/QG9tni3npiTqvsmrlfv131bEPZ6bZX+/E6ypsVnaUtOoaprKAQBAED7xP4NiQIQhhBAANC+ud1uFZ6p1s68Yq3YdUxvb8jWsCW79dc5qfrZxA36npcLwhtfW6lHZidryrpMpeYUqqqm1vQ/AgAAgDbB/g2JAhCGEEAAgMa43W4VnanW7iMlWrX7mGZvzNbwL/bob++n6ueTNuj7w1a3uhD809tJenNdplIOUggCAIDgxf4NiQIQhhBAAIDWcLvdKil3flkQHtfsjdl6dfEu/XzShhYVguGvrtQfZyVp8tpMJWWfUqWTQhAAAAQH9m9IFIAwhAACAPhK4Zlqrdp9TMO/2NPiQvCGV1dq0CyHJsbul+MAhSAAAAhc7N+QKABhCAEEAGgrRWeqtXrPcY1Yukf3T96o777SskJw4EyHJsTu1+YDJykEAQBAwGD/hkQBCEMIIACAKcXl1Vqz57hGLk3XL99sYSEYsVIDZzg0Yc0+JWadVEU1hSAAAPBP7N+QKABhCAEEAPAXJeVOxaaf0Ohl6RowpWWF4PURK/T7GZs1bvU+bcqkEAQAAP6D/RsSBSAMIYAAAP6qpMKpdXtPaMzydD0wZZOua2Eh+Nu3NitmdYY2ZhaovLrG9McCAADtFPs3JApAGEIAAQACxelKp+IyTihyxV79amrLCsGeQ1fooemJGrsqQ+v3F+hMFYUgAABoG+zfkCgAYQgBBAAIVKWVTsVn5Ctq5V79alqiegxd0aJC8DfTE/XGqgwl7MtXGYUgAADwEfZvSBSAMIQAAgAEi9JKp+L35St6ZYZ+3cJCsMfQFfrVtERFrdyr+H35Kq10mv5YAAAgSLB/Q6IAhCEEEAAgWJVV1Wj9/gK9sSpDD01PVM8WFILXvbJcv5q6SVEr9iou44ROUwgCAIAWYv+GRAEIQwggAEB7caaqRhv2FyhmdYZ++9bmFheCD07dpMgVe7VuL4UgAAC4cOzfkCgAYQgBBABor8qra7Qp86TGrd6n3721WddHtKwQfGDKJo1elq616SdUUkEhCAAAzo/9GxIFIAwhgAAAqFNRXavErJMav2afBs5wtKgQ/O4ry/XLNzdq1LJ0xaafUEk5hSAAAKjD/g2JAhCGEEAAAJxfRXWtNmed1ITY/Ro406EbIla2qBD8xeSNGrk0Xav3HFdxebXpjwUAAAxh/4ZEAQhDCCAAAC5MpbNWjgOnNDF2v/4w06EbXm1ZIXj/5I0a/sUerdp9XEVnKAQBAGgv2L8hUQDCEAIIAICWqXTWKin7lCat3a8/zkpqUSHY/eXl+vmkDV8WgsdUSCEIAEDQYv+GRAEIQwggAAC8o9JZq+TsU3pzXab+9HaSwltYCP5s4gYNW7JbK3Yd06myKtMfCwAAeAn7NyQKQBhCAAEA4BtVNbVKzSnUlHWZenh2km58rWWF4H0T1+u1xbu1fOcxnaQQBAAgYLF/Q6IAhCEEEAAAbaO6xqUtOYWaGpepP7+TrF6vrWpRIfiTCev16uJdWrbzqApKKQQBAAgU7N+QKABhCAEEAIAZ1TUubT1UqGnxWa0qBO8dn6CIz3fpi7Sjyj9dafpjAQCABrB/Q6IAhCEEEAAA/sFZ69K2w0WanpClR99NUe/XW1YI3jM+Qa8s2vX/2Lvz8KjKu//jB4mgCSBUaluRCxHZlGoRtKhFtP11E2urPurTWosr1K1WaZU9ggKyWhWr1lpcWQSUNSGEJIQlCSGEQNjJHghZWEIWss58fn/4cIoyk0yGmdyTyft1Xfc/zj1n7mnv873y/XDOHC3fcViFBHh7V0MAACAASURBVIIAAAQM+m9IBIAwhAIEAEBgqq13KDX3hP4Zl6ER/9mqa7wMBG+fFacxy3Zq+Y7DOlpKIAgAgCn035AIAGEIBQgAgJahrt6hHXkn9d6GDD3yn626dtJarwLBYTNj9fLSnfoyNV8FpadNfy0AAFoN+m9IBIAwhAIEAEDLVFfv0M78k3o/PkOPzk/WAC8DwdtmxurvS9K0bHu+jpwkEAQAwF/ovyERAMIQChAAAMGh3uHUrvxS/Ss+U49/lKwB4d4Fgj+ZEaO/fZGmpSn5yj9RafprAQAQNOi/IREAwhAKEAAAwane4VT64VJ9sDFTj3+0TT/0MhC89fUYjf4iTUtS8pV3nEAQAABv0X9DIgCEIRQgAABah3qHU7uPlOrfm7L0xMfbdN0rUV4FgrdMj9GLi9O0eFue8o5Xyul0mv5qAAC0CPTfkAgAYQgFCACA1snhcGrPkVP6cFOWRn6yTddP9i4QvHnaer2waIcWJ+cp9xiBIAAA7tB/QyIAhCEUIAAAIH0dCO4tOKX5m7M06pMU/cjLQHDItPX666IdWpScq+ySCgJBAAD+D/03JAJAGEIBAgAArjgcTu0/WqaPtmTrz5+maOCUdV4Fgj+eul7PL0zVgq25yiIQBAC0YvTfkAgAYQgFCAAAeMLhcOpAYZk+TsjW059t1w1eBoI3vhat5xak6vOkXGUWlxMIAgBaDfpvSASAMIQCBAAAvOF0OnWwsEyfJObo6c+3a9Cr3gWCg1+L1rMLUvVZUo4OFREIAgCCF/03JAJAGEIBAgAAvuB0OnWoqFyfJubomc+3a/Br0V4FgoNejdYzn2/XJ4k5OlRURiAIAAga9N+QCABhCAUIAAD4g9PpVEZxuT5LytFzC1J1o9eB4Do9/dl2fZKQrYOFBIIAgJaL/hsSASAMoQABAIDm4HQ6lVlcrgVbc/WXham6aap3geANU9bpqc9S9HFCtvYfLZPDQSAIAGgZ6L8hEQDCEAoQAAAwwel0KrukQgu35ur5han68dT1XgWCA6es058/TdH8zVnad/QUgSAAIGDRf0MiAIQhFCAAABAInE6nco5VaFFyrl5YtENDpnkXCP5ocpRGfrJN/9mcpb0FBIIAgMBB/w2JABCGUIAAAEAgcjqdyj1WqcXb8vTC4h26ZXqMV4Hg9ZOj9OTH2/ThpiztPlJKIAgAMIb+GxIBIAyhAAEAgJYi73ilvtiWpxcXp+nW170LBK97JUpPfLxNH2zMVPrhUtUTCAIAmgn9NyQCQBhCAQIAAC1V3vFKLUnJ19++SNNPZngXCP4wfK0e/yiZQBAA4Hf035AIAGEIBQgAAASLwydPa9n2fP19SZqGzoj1KhAcEL5Wj81P1r/iM7Uz/6Tq6h2mvxYAIEjQf0MiAIQhFCAAABCsjpw8rS9T8/XSkp0aNtPLQHDS11cIbjpYYvrrAABaOPpvSASAMIQCBAAAWouC0tP6KvWwxizbqdtnxTU5DHxuQaqKyqpMfw0AQAtF/w2JABCGUIAAAEBrVXiqSst3HNaYZbt0h4eB4IDwtfo0MYenCQMAmoz+GxIBIAyhAAEAAHyt6FSVVqQd0dgvd+mnsxsOBH/3zmbtLThleskAgBaE/hsSASAMoQABAAC4VlRWpY8TsnXdK1EuQ8Crxq7R1DV7VVlTZ3qpAIAWgP4bEgEgDKEAAQAANKykvFp/XbTD7dWAt0yP0fq9haaXCQAIcPTfkAgAYQgFCAAAwDObDpY0+PCQUZ+kqKD0tOllAgACFP03JAJAGEIBAgAA8FxVbb3mrDug3uMiXIaA10yM1IebslTPQ0IAAN9C/w2JADBg5ebmavTo0erXr59CQ0PVpUsX3XjjjZo1a5YqKyv98pmVlZXq2bOnXRh69Ojhl8+RKEAAAADeyCgu14PvJ7i9GnD4Wxu1K7/U9DIBAAGE/hsSAWBAWr16tS655BL7BP326Nu3rzIzM33+uaNHj/7G5xAAAgAABB6n06mlKfkaOGWdyxCw55jVCl+xW2VVtaaXCgAIAPTfkAgAA05aWppCQ0NlWZY6dOigqVOnKiEhQTExMXryySftk7Zfv34qLy/32eempqaqbdu2uuiii9SxY0cCQAAAgAB3oqJGf1+S5vZqwJumRitiV4GcTm4LBoDWjP4bEgFgwLn99ttlWZZCQkKUkJBwzuszZ860T9zJkyf75DPr6+s1aNAgWZalKVOmqEePHgSAAAAALcTWrOP62ZwNboPAR+cnK++4f35CBgAQ+Oi/IREABpTk5GT7pBw1apTLOQ6HQ/3795dlWerSpYtqa8//1o45c+bYtxbX1NQQAAIAALQwNXUOzYs9pD7jXT8kpN+ESL23IUO19Q7TSwUANDP6b0gEgAFl3Lhx9kmZlJTkdt706dPteevWrTuvz8zJyVFYWJgsy1JsbKwkEQACAAC0UDnHKvTHfye5vRrwl2/EKyXnhOllAgCaEf03JALAgDJ06FBZlqWwsDDV1dW5nZeQkGCfvJMmTTqvz7zzzjtlWZYefvhh+78RAAIAALRcTqdTK9KOaNCr0S5DwCvHrNbYL3eptJKHhABAa0D/DYkAMKB07dpVlmXp+uuvb3DeiRMn7JP3/vvv9/rzFi5caN9KXFRUZP93AkAAAICWr/R0rcZ/tUtXjnF9NeCgV9dp+Y7DPCQEAIIc/TckAsCAUVVVZZ+Qw4cPb3T+mdt2hwwZ4tXnnThxQt/73vdkWZbef//9b7zmiwAwPz+/wXH27x1SgAAAAPwnNfeEfvlGvNvbgv/47yRll1SYXiYAwE8IACERAAaM4uJi+4R88MEHG51/2WWXybIsDRgwwKvPe/zxx2VZlm6++eZz/tXXFwHgme/iyaAAAQAA+FdtvUPvx2eo34RIlyFg7/ERemv9QVXX1ZteKgDAxwgAIREABoy8vDz7hDz79/jc6d69uyzLUq9evZr8WfHx8WrTpo1CQkK0c+fOc14nAAQAAAhO+Scq9fhHyW6vBvzp7DglZh4zvUwAgA8RAEIiAAwYzXUFYHV1tfr27SvLsjR69GiXc7gFGAAAIHg5nU5Fph/Vj6eudxsE/u2LNB2vqDG9VACADxAAQiIADBjN9RuAEydOlGVZ6t69u8rLy13O4SEgAAAAwa+8uk6vrNytnm4eEvKjyVH6YlseDwkBgBaO/hsSAWBAaY6nALdr106WZenRRx/VwoULXY4z6+jatav932JiYs7nq52DAgQAABAY0g+X6jdvb3J7NeAD7yXoUJHrfzgGAAQ++m9IBIABZejQobIsS2FhYaqrq3M7LyEhwT55J02a1KTPaMpv8509hg0bdp7f7psoQAAAAIGj3uHU/M1ZunbSWpch4NXj1mhO1H5V1fKQEABoaei/IREABpSxY8faJ2VSUpLbedOnT7fnRUVFNekzCAABAADgztHSKj31WYrbqwGHzYzVpoMlppcJAGgC+m9IBIABZevWrfZJOWrUKJdzHA6H+vfvL8uy1LlzZ9XW1vp8HfwGIAAAQOsWs69Qt0yPcRsE/mVhqorLqk0vEwDgAfpvSASAAefMbcAhISFKSEg45/WZM2faJ254ePg5r8fFxdmvjxgxwqs1EAACAACgsqZO0yL2qtfYNS5DwB+Gr9VnSTlyOHhICAAEMvpvSASAASc1NVUXX3yxLMtShw4dNG3aNCUmJio2NlYjR460T9o+ffqorKzsnPcTAAIAAMCX9h09pXve2ez2asB73tmsfUdPmV4mAMAN+m9IBIABaeXKlerUqZPb3+Pr06ePDh065PK9BIAAAADwNYfDqc+TcvXDcNcPCek1do2mRexVZY37B9kBAMyg/4ZEABiwcnJy9MILL6hPnz4KDQ1V586dNXjwYM2YMUOVlZVu30cACAAAAH8pLqvWXxamur0a8JbpMYrZV2h6mQCAs9B/QyIAhCEUIAAAgJZr48FiDZsZ6zYIfOqzFBWeqjK9TACA6L/xNQJAGEEBAgAAaNmqaus1J2q/rh7n+iEh105aq/mbs1TPQ0IAwCj6b0gEgDCEAgQAABAcDhWV6YH3EtxeDfibtzcp/XCp6WUCQKtF/w2JABCGUIAAAACCh9Pp1Bfb8vSjyVEuQ8CeY1brlZW7VV7NQ0IAoLnRf0MiAIQhFCAAAIDgc7yiRn/7Is3t1YA/nrpekelH5XRyWzAANBf6b0gEgDCEAgQAABC8EjOP6aez49wGgY9/lKz8E5WmlwkArQL9NyQCQBhCAQIAAAhu1XX1emv9QfUeH+EyBOw3IVLvx2eott5heqkAENTovyERAMIQChAAAEDrkF1SoT/+O8nt1YC/fCNe23NPmF4mAAQt+m9IBIAwhAIEAADQejidTi3fcViDXo12GQJeOWa1xn+1S6Wna00vFQCCDv03JAJAGEIBAgAAaH1KK2s19stdbq8GHPxatFakHeEhIQDgQ/TfkAgAYQgFCAAAoPVKyTmhX74R7zYI/OO/k5RzrML0MgEgKNB/QyIAhCEUIAAAgNattt6h9zZkqN+ESJchYJ/xEZoXe0g1dTwkBADOB/03JAJAGEIBAgAAgCTlHa/Uo/OT3V4N+P/mbNDWrOOmlwkALRb9NyQCQBhCAQIAAMAZTqdTEbsKdNNU1w8J6fHyav19SZpOVNSYXioAtDj035AIAGEIBQgAAADfVlZVq/AVu9VzjOsQcOCUdVqaks9DQgCgCei/IREAwhAKEAAAANzZlV+q4W9tdHs14P++n6iM4nLTywSAFoH+GxIBIAyhAAEAAKAhdfUOfbgpS9dMdP2QkN7jIjRn3QFV1dabXioABDT6b0gEgDCEAgQAAABPFJSe1qhPUtxeDXj7rDhtPlRiepkAELDovyERAMIQChAAAACaYv3eQt0yPcZtEPjXRTtUUl5tepkAEHDovyERAMIQChAAAACaqrKmTlPX7NVVY9e4DAGveyVKC7bmyuHgISEAcAb9NyQCQBhCAQIAAIC39hw5pd+9s9nt1YD3/XOL9h8tM71MAAgI9N+QCABhCAUIAAAA58PhcOrTxBwNCF/rMgTsNXaNXo/cp9M1PCQEQOtG/w2JABCGUIAAAADgC0VlVXpuQarbqwF/MiNGsfuLTC8TAIyh/4ZEAAhDKEAAAADwpfgDxRo6I9ZtEPj0Z9tVeKrK9DIBoNnRf0MiAIQhFCAAAAD4WlVtvWat3a+rx7l+SMiASWv10ZZs1fOQEACtCP03JAJAGEIBAgAAgL8cKirT/e8muL0a8O63Nyn9cKnpZQJAs6D/hkQACEMoQAAAAPAnh8Opxcl5un5ylMsQsOeY1Zqyao8qqutMLxUA/Ir+GxIBIAyhAAEAAKA5HCuv1ouL09xeDThk2nqt3X3U9DIBwG/ovyERAMIQChAAAACaU0LGMd0xO85tEPjEx9t05ORp08sEAJ+j/4ZEAAhDKEAAAABobtV19Xpz/UH1Hh/hMgTsPzFSH2zMVF29w/RSAcBn6L8hEQDCEAoQAAAATMkqqdAfPkh0ezXgr/+xUTvyTppeJgD4BP03JAJAGEIBAgAAgElOp1NfpR7WoFfXuQwBrxyzWhO+StepqlrTSwWA80L/DYkAEIZQgAAAABAISitrNWbZLrdXAw5+LVqrdh6R0+k0vVQA8Ar9NyQCQBhCAQIAAEAg2ZZ9XL+YG+82CPzTh1uVe6zS9DIBoMnovyERAMIQChAAAAACTW29Q/+My1DfCa4fEtJnfITmxR5STR0PCQHQctB/QyIAhCEUIAAAAASqvOOVeuQ/W91eDfjzuRuUnH3c9DIBwCP035AIAGEIBQgAAACBzOl0as2uAt34WrTbIPDlpTt1srLG9FIBoEH035AIAGEIBQgAAAAtwamqWk1anq4rx7gOAW+Ysk7LtufzkBAAAYv+GxIBIAyhAAEAAKAlScs7qTvf3Oj2asDf/ytRmcXlppcJAOeg/4ZEAAhDKEAAAABoaerqHfr3pixdMzHSZQjYe1yE3og+oOq6etNLBQAb/TckAkAYQgECAABAS3Xk5Gk9+fE2t1cD3jErTlsySkwvEwAk0X/jawSAMIICBAAAgJZu3Z5C3Txtvdsg8IVFO3SsvNr0MgG0cvTfkAgAYQgFCAAAAMGgorpOr63eo6vGrnEZAl73SpQWJefK4eAhIQDMoP+GRAAIQyhAAAAACCa7j5Tq7nmb3V4N+D/vbtGBwjLTywTQCtF/QyIAhCEUIAAAAASbeodTnyRka8CktS5DwF5j12hG5D6druEhIQCaD/03JAJAGEIBAgAAQLAqOlWlZz7f7vZqwJ/MiFHc/iLTywTQStB/QyIAhCEUIAAAAAS7DQeK9ZMZMW6DwGc+366iU1WmlwkgyNF/QyIAhCEUIAAAALQGp2vqNSNyn3q5eUjIgElr9UlCtup5SAgAP6H/hkQACEMoQAAAAGhNDhSW6X/e3eL2asC7523W7iOlppcJIAjRf0MiAIQhFCAAAAC0Ng6HU4uSc3XdK1EuQ8Crxq7Ra6v3qKK6zvRSAQQR+m9IBIAwhAIEAACA1qqkvFovLNrh9mrAm6et17o9haaXCSBI0H9DIgCEIRQgAAAAtHZbDpXojllxboPAJz/epiMnT5teJoAWjv4bEgEgDKEAAQAAAFJ1Xb3eiD6g3uMiXIaA10yM1AcbM1VX7zC9VAAtFP03JAJAGEIBAgAAAP4rs7hcv/9XoturAe98c6PS8k6aXiaAFoj+GxIBIAyhAAEAAADf5HQ6tWx7vm6Yss5lCHjlmNWatDxdp6pqTS8VQAtC/w2JABCGUIAAAAAA105W1ujlpTvdXg1442vRWr2zQE6n0/RSAbQA9N+QCABhCAUIAAAAaFhy9nH9fO4Gt0HgI//ZqrzjlaaXCSDA0X9DIgCEIRQgAAAAoHE1dQ7Niz2kPuNdPySk74QI/TMuQ7U8JASAG/TfkAgAYQgFCAAAAPBc7rFK/enDrW6vBvzF3Hil5Bw3vUwAAYj+GxIBIAyhAAEAAABN43Q6tWrnEQ1+LdptEDhm2U6drKwxvVQAAYT+GxIBIAyhAAEAAADeOVVVq4nL03XlGNch4A1T1umr1MM8JASAJPpvfI0AEEZQgAAAAIDzsyPvpH79j41urwZ86IMkZZVUmF4mAMPovyERAMIQChAAAABw/urqHfpgY6b6T4x0GQL2Hh+hf0QfVHVdvemlAjCE/hsSASAMoQABAAAAvnP45Gk98fE2t1cD3jE7TgkZx0wvE4AB9N+QCABhCAUIAAAA8L21u49qyLT1boPAFxen6XgFDwkBWhP6b0gEgDCEAgQAAAD4R3l1naas2qOebh4Scv3kKC1OzuMhIUArQf8NiQAQhlCAAAAAAP9KP1yqu9/e5PZqwPvfTdDBwjLTywTgZ/TfkAgAYQgFCAAAAPC/eodTHydk69pJa12GgFePW6NZa/erqpaHhADBiv4bEgFgwMrNzdXo0aPVr18/hYaGqkuXLrrxxhs1a9YsVVZWntex9+7dq7ffflt/+tOfNHDgQHXr1k3t27dXaGioevbsqQceeEDLly/36y0BFCAAAACg+RSeqtLTn213ezXgbTNjFX+g2PQyAfgB/TckAsCAtHr1al1yySX2Cfrt0bdvX2VmZnp9/Iceesjtsc8ew4YN0/Hjx334zf6LAgQAAAA0v9j9Rbr19Ri3QeCzC1JVVFZlepkAfIj+GxIBYMBJS0tTaGioLMtShw4dNHXqVCUkJCgmJkZPPvmkfdL269dP5eXlXn3GiBEj9OMf/1gvvvii5s+fr8jISKWkpCg6Olpvv/22BgwYYH/OLbfcIofD4eNvSQECAAAATDldU6/XI/ep19g1LkPAAeFr9WlijhwOHhICBAP6b0gEgAHn9ttvl2VZCgkJUUJCwjmvz5w50z5xJ0+e7NVn1NXVNfh6fX297r33XvtzVq5c6dXnNIQCBAAAAJi1/2iZ7v3nFrdXA/7unc3aW3DK9DIBnCf6b0gEgAElOTnZPilHjRrlco7D4VD//v1lWZa6dOmi2tpav6wlKSnJXsvf/vY3nx+fAgQAAACY53A4tWBrrq57JcplCHjV2DWaumavKmsavogAQOCi/4ZEABhQxo0bZ5+USUlJbudNnz7dnrdu3Tq/rCU9Pd3+jGeffdbnx6cAAQAAAIGjpLxaf120w+3VgLdMj1H0nkLTywTgBfpvSASAAWXo0KGyLEthYWEN3qabkJBgn7yTJk3yy1rODiPnzZvn8+NTgAAAAIDAs+lgiW6fFec2CBz1SYoKSk+bXiaAJqD/hkQAGFC6du0qy7J0/fXXNzjvxIkT9sl7//33++zzS0pKlJCQoMcee0xt2rSRZVm69NJLdfLkSZ99xhkUIAAAACAwVdXWa866A+o9LsJlCHjNxEh9uClL9TwkBGgR6L8hEQAGjKqqKvuEHD58eKPzw8LCZFmWhgwZcl6fO2zYMPtzvz2+853vKD4+3qvj5ufnNzjO/r1DChAAAAAQeDKKy/Xg+wlurwYc/tZG7cz3/cUCAHyLABASAWDAKC4utk/IBx98sNH5l112mSzL0oABA87rc90FgM8995yKioq8Pq67UNHVoAABAAAAgcnpdGppSr4GTlnnMgTsOWa1wlfsVlmVfx5OCOD8EQBCIgAMGHl5efYJ+fDDDzc6v3v37rIsS7169Tqvz83KylJ6erp27dqljRs3au7cuerdu7cuuOAC3XXXXSos9O6HfgkAAQAAgOBxoqJGf1+S5vZqwJumRitiV4GcTm4LBgINASAkAsCAYeoKQFeqqqp01113ybIsde/e3asCwS3AAAAAQPDZmnVcP5uzwW0Q+Oj8ZOUdrzS9TABnIQCERAAYMEz9BqA7JSUlCg0NlWVZ+v3vf+/z41OAAAAAgJapps6hebGH1Ge864eE9JsQqXc3ZKi23mF6qQBE/42vEQAGENNPAf62n//857IsS6Ghoaqrq/PpsSlAAAAAQMuWc6xCf/x3kturAX/5RrxSck6YXibQ6tF/QyIADChDhw6VZVkKCwtrMHBLSEiwT95Jkyb5bT1/+MMf7M8pKCjw6bEpQAAAAEDL53Q6tSLtiAa9Gu0yBLxyzGqN/XKXSit5SAhgCv03JALAgDJ27Fj7pExKSnI7b/r06fa8qKgov63n7CcEl5WV+fTYFCAAAAAgeJSertX4r3bpyjGurwYc9Oo6LUrO1emaetNLBVod+m9IBIABZevWrfZJOWrUKJdzHA6H+vfvL8uy1LlzZ9XW+udf0g4fPqx27drJsiz16NHD58enAAEAAADBJzX3hH75Rrzb24KvnbRWf1+Spq1Zx3liMNBM6L8hEQAGnDO3AYeEhCghIeGc12fOnGmfuOHh4ee8HhcXZ78+YsSIc14/cOCAYmJiGlxDaWmpvQ7LsjRhwgRvv45bFCAAAAAgONXWO/R+fIb6TYh0GwT2eHm1hs6I1T+iD/LUYMDP6L8hEQAGnNTUVF188cWyLEsdOnTQtGnTlJiYqNjYWI0cOdI+afv06ePyttzGAsAzr19//fUKDw/XypUrlZycrNTUVEVERGj8+PH6/ve/bx9jwIABqqio8Pn3pAABAAAAwS3/RKUe/yi5wRDwzHjw/QR9sS1PFdW+ffggAPpvfI0AMACtXLlSnTp1sk/Qb48+ffro0KFDLt/raQDoyRg+fLiKi4v98h0pQAAAAEDwczqdWr+3UA9/uFU93fw+4Nmj/8RIvbg4TVsySuRwcIsw4Av035AIAANWTk6OXnjhBfXp00ehoaHq3LmzBg8erBkzZqiy0v0l8o0FgLW1tYqPj1d4eLh+9rOfqXfv3urUqZNCQkL0ne98R4MGDdLTTz+tzZs3+/HbUYAAAACA1uZoaZX+GZehn86O8+iqwFumx2hO1H7lHPP9HUlAa0L/DYkAEIZQgAAAAIDWyel0akfeSY3/apd+GL7WozDwf97dooVbc1VW5Z+HIALBjP4bEgEgDKEAAQAAAKiqrdfqnQV6dH6yrhq7ptEgsO+ECP1lYao2HixWPbcIAx6h/4ZEAAhDKEAAAAAAzlZUVqV/xWfqF3PjPboqcMi09ZoRuU8ZxeWmlw4ENPpvSASAMIQCBAAAAMAVp9Op9MOlCl+xWz+aHOVRGPi7dzbrs6QclZ7mFmHg2+i/IREAwhAKEAAAAIDG1NQ5FJl+VE98vE29PLhFuPf4CD3z+XbF7i9SXb3D9PKBgED/DYkAEIZQgAAAAAA0RUl5tT7clKVf/2OjR1cF3vhatKat2asDhWWmlw4YRf8NiQAQhlCAAAAAAHhrz5FTmrJqjwa9us6jMPA3b2/SxwnZOlFRY3rpQLOj/4ZEAAhDKEAAAAAAzldtvUPRewr1509TdPW4xm8RvnrcGv350xRF7ylULbcIo5Wg/4ZEAAhDKEAAAAAAfOlERY0+TsjWb97e5NFVgYNeXacpq/Zob8Ep00sH/Ir+GxIBIAyhAAEAAADwlwOFZZq2Zq9ufC3aozDw1//YqA83ZelYebXppQM+R/8NiQAQhlCAAAAAAPhbXb1DsfuL9Mzn29V7fESjQWCvsWv0xMfbFJl+VDV13CKM4ED/DYkAEIZQgAAAAAA0p9LKWn2WlKPfvbPZo6sCfzQ5SuErdiv9cKmcTqfp5QNeo/+GRAAIQyhAAAAAAEzJKC7XjMh9GjJtvUdh4C/mxutf8ZkqKqsyvXSgyei/IREAwhAKEAAAAADT6h1ObTxYrOcXpqrvhMZvEb5q7Bo9Oj9Zq3cWqKq23vTyAY/Qf0MiAIQhFCAAAAAAgaSsqlaLknP1P+9u8eiqwOteidL4r3ZpR95JbhFGQKP/hkQACEMoQAAAAAACVXZJheZE7dct02M8CgN/OjtO/4zL0NFSbhFG4KH/hkQACEMoQAAAAAACncPh1JaMEr24OE39J0Y2GgT2HLNaD3+4Vct3HOYWYQQM+m9IBIAwhAIEAAAAoCWpqK7TR0X89gAAIABJREFUkpR8Pfh+gkdXBQ6YtFZjlu1USs5xbhGGUfTfkAgAYQgFCAAAAEBLlXe8Uv+IPqihM2I9CgNvnxWnt2MO6vDJ06aXjlaI/hsSASAMoQABAAAAaOmcTqe2Zh3XS0t26tpJaxsNAq8cs1p/+CBRy7bnq7KmzvTy0UrQf0MiAIQhFCAAAAAAwaSypk5fpubroQ+SdOWYxq8KvGZipP6+JE1Jmce4RRh+Rf8NiQAQhlCAAAAAAASrIydPa17sId0xK86jW4SHzojVG9EHlHe80vTSEYTovyERAMIQChAAAACAYOd0OpWSc0Jjv9ylAeGN3yLc4+XVeuC9BC3elqfyam4Rhm/Qf0MiAIQhFCAAAAAArUlVbb1Wph3Rnz7cqp4e3CLcb0KkXli0Q1sOlcjh4BZheI/+GxIBIAyhAAEAAABorQpPVendDRn62ZwNHl0VeMv0GM2O2q/skgrTS0cLRP8NiQAQhlCAAAAAALR2TqdTaXknNeGrdF33SpRHYeB9/9yihVtzdaqq1vTy0ULQf0MiAIQhFCAAAAAA+K/qunqt2VWgx+Yn66qxaxoNAvuMj9BfFqYq/kCx6rlFGA2g/4ZEAAhDKEAAAAAA4FpxWbU+2JipX74R79FVgT+eul6vR+7ToaJy00tHAKL/hkQACEMoQAAAAADQMKfTqfTDpQpfsVsDp6zzKAz87bzN+jQxR6WV3CKMr9F/QyIAhCEUIAAAAADwXE2dQ2t3H9WTH29TLw9uEe49PkJPf75dsfuKVFfvML18GET/DYkAEIZQgAAAAADAO8fKq/WfzVm6882NHl0VOPi1aE1ds1f7j5aZXjoMoP+GRAAIQyhAAAAAAHD+9hac0qur9mjQq9EehYF3vbVJH23J1omKGtNLRzOh/4ZEAAhDKEAAAAAA4Dt19Q7F7CvUU5+lqPe4iEaDwKvHrdGoT1K0bk+harlFOKjRf0MiAIQhFCAAAAAA8I+TlTX6JCFbd7+9yaOrAm+Ysk6TV+7RniOnTC8dfkD/DYkAEIZQgAAAAADA/w4WlmlaxF7d+Jpntwj/6h8b9e9NWSoprza9dPgI/TckAkAYQgECAAAAgOZTV+9Q3P4iPbsgVb3HN36LcK+xa/T4R9sUmV6gmjpuEW7J6L8hEQDCEAoQAAAAAJhRerpWnyfl6p53Nnt0VeCPJkdp0vJ07covldPpNL18NBH9NyQCQBhCAQIAAAAA8zKLyzVz7T4NmbbeozDw53M36P34DBWdqjK9dHiI/hsSASAMoQABAAAAQOCodzi16WCJ/rpoh/pOaPwW4Z5jVuuR/2zVqp1HVFVbb3r5aAD9NyQCQBhCAQIAAACAwFRWVavFyXm6/90Ej64K/GH4Wo37cpdSc09wi3AAov+GRAAIQyhAAAAAABD4co5VaM66A7r19RiPwsA7ZsfpnbhDOlrKLcKBgv4bEgEgDKEAAQAAAEDL4XA4lZBxTKO/SFP/iZGNBoFXjlmtP/47Sct3HNbpGm4RNon+GxIBIAyhAAEAAABAy1RRXaelKfn63/cTPboqcMCktRqzbKe2ZR/nFmED6L8hEQDCEAoQAAAAALR8eccr9eb6g7ptZqxHYeCwmbF6a/1BHT552vTSWw36b0gEgDCEAgQAAAAAwcPpdCo5+7heXrpT105a69Etwr//V6KWpuSrsqbO9PKDGv03JAJAGEIBAgAAAIDgdLqmXst3HNYf/52kK8c0flXgNRMjNfqLNCVmHpPDwS3Cvkb/DYkAEIZQgAAAAAAg+BWUnta82EO6Y3acR7cI3/p6jOauO6DcY5Wmlx406L8hEQDCEAoQAAAAALQeTqdT23NPaNyXuzQgvPFbhHu8vFr3v5egxdvyVF7NLcLng/4bEgEgDKEAAQAAAEDrVFVbr1U7j2jEf7aqpwe3CPebEKkXFu3Q5kMl3CLsBfpvSASAMIQCBAAAAAAoPFWl9zZk6P/N2eDRVYG3TI/RrLX7lVVSYXrpLQb9NyQCQBhCAQIAAAAAnOF0OrUz/6QmLU/X9ZOjPAoD7/3nFi3YmqtTVbWmlx/Q6L8hEQDCEAoQAAAAAMCV6rp6RaYX6PGPknXV2DWNBoF9xkfouQWp2nCgWPXcInwO+m9IBIAwhAIEAAAAAGhMcVm1PtiYqV++Ee/RVYE3TY3W9Ih9OlRUZnrpAYP+GxIBIAyhAAEAAAAAmmL3kVJNXrlHA6es8ygMvHveZn2SmKPSytZ9izD9NyQCQBhCAQIAAAAAeKO23qF1ewo18pNtunpc47cI9x4Xoac/266YfYWqq3eYXn6zo/+GRAAIQyhAAAAAAIDzdbyiRvM3Z+mutzZ5dFXgoFej9drqPdp39JTppTcb+m9IBIAwhAIEAAAAAPCl/UfLNHXNXg16NdqjMHD4Wxs1f3OWjlfUmF66X9F/QyIAhCEUIAAAAACAP9TVOxS7r0hPf7ZdvcdFNBoEXj1ujUZ+sk1Ru4+qNghvEab/hkQACEMoQAAAAAAAfztZWaNPEnN097zNHl0VeMOUdXpl5W7tPlJqeuk+Q/8NiQAQhlCAAAAAAADN6VBRmV6P3Kebpnp2i/Av34jXBxszVVJebXrp54X+GxIBIAyhAAEAAAAATKh3OBV/oFjPLUhVn/GN3yJ81dg1evyjZEXsKlB1Xb3p5TcZ/TckAkAYQgECAAAAAJh2qqpWC7bm6r5/bvHoqsDrJ0dp4vJ07cw/KafTaXr5HqH/hkQACEMoQAAAAACAQJJVUqHZUft187T1HoWB/2/OBsXtLzK97EbRf0MiAIQhFCAAAAAAQCByOJzafKhELyzaoX4TIhsMARMzj5lebqPovyERAMIQChAAAAAAINCVV9dp8bY8PfBewjnh309mxMjhCPzbgOm/IREAwhAKEAAAAACgJck9Vqk3og/oJzNi1OPl1Xoj+oDpJXmE/hsSASAMoQABAAAAAFoih8OppMxjOlpaZXopHqH/hkQAGLByc3M1evRo9evXT6GhoerSpYtuvPFGzZo1S5WVled17KqqKi1fvlzPPvusbrrpJnXp0kUhISHq0qWLhgwZovDwcBUUFPjom7hGAQIAAAAAwP/ovyERAAak1atX65JLLrFP0G+Pvn37KjMz06tj79y5Ux07dnR77DOjY8eOWrx4sY+/2X9RgAAAAAAA8D/6b0gEgAEnLS1NoaGhsixLHTp00NSpU5WQkKCYmBg9+eST9knbr18/lZeXN/n4mzZtso9x6623avr06YqOjlZqaqqioqI0atQotW3bVpZlqW3btoqIiPDDt6QAAQAAAADQHOi/IREABpzbb79dlmUpJCRECQkJ57w+c+ZM+8SdPHlyk4+/ZcsWPfDAA9qzZ4/bOcuXL1ebNm1kWZZ69eolp9P3TzWiAAEAAAAA4H/035AIAANKcnKyfVKOGjXK5RyHw6H+/fvLsix16dJFtbW1flnLfffdZ68lNTXV58enAAEAAAAA4H/035AIAAPKuHHj7JMyKSnJ7bzp06fb89atW+eXtcybN8/+jCVLlvj8+BQgAAAAAAD8j/4bEgFgQBk6dKgsy1JYWJjq6urczktISLBP3kmTJvllLXPmzLE/Y9myZT4/PgUIAAAAAAD/o/+GRAAYULp27SrLsnT99dc3OO/EiRP2yXv//ff7ZS133323/RkN/V6gtyhAAAAAAAD4H/03JALAgFFVVWWfkMOHD290flhYmCzL0pAhQ3y+lrS0NPtJwNdee61Xx8jPz29wnP17hxQgAAAAAAD8gwAQEgFgwCguLrZPyAcffLDR+Zdddpksy9KAAQN8uo7q6moNHjzYXsuKFSu8Os6Z93syKEAAAAAAAPgHASAkAsCAkZeXZ5+QDz/8cKPzu3fvLsuy1KtXL5+u44knnrDXMWLECK+PQwAIAAAAAIB5BICQCAADRiBcATht2jR7DYMGDVJFRYXXx+IWYAAAAAAAzCMAhEQAGDBM/wbge++9Z39+3759VVxc7JPjukMBAgAAAADA/+i/IREABhRTTwFesGCBLrjgAlmWpR49ejRLQaAAAQAAAADgf/TfkAgAA8rQoUNlWZbCwsJUV1fndl5CQoJ98k6aNOm8PnPFihUKCQmRZVn6wQ9+oIyMjPM6nqcoQAAAAAAA+B/9NyQCwIAyduxY+6RMSkpyO2/69On2vKioKK8/b/369Wrfvr0sy9Kll16q3bt3e32spqIAAQAAAADgf/TfkAgAA8rWrVvtk3LUqFEu5zgcDvXv31+WZalz586qra316rO2bNli/45gp06dlJKScj5LbzIKEAAAAAAA/kf/DYkAMOCcuQ04JCRECQkJ57w+c+ZM+8QNDw8/5/W4uDj79REjRrj8jB07dqhz58727cabN2/28bdoHAUIAAAAAAD/o/+GRAAYcFJTU3XxxRfLsix16NBB06ZNU2JiomJjYzVy5Ej7pO3Tp4/KysrOeX9jAWBGRoYuu+wye84bb7yh9PT0BkdRUZHPvycFCAAAAAAA/6P/hkQAGJBWrlypTp062Sfot0efPn106NAhl+9tLACcP3++2+O6G66uNDxfFCAAAAAAAPyP/hsSAWDAysnJ0QsvvKA+ffooNDRUnTt31uDBgzVjxgxVVla6fR8BIAAAAAAAOIP+GxIBIAyhAAEAAAAA4H/035AIAGEIBQgAAAAAAP+j/4ZEAAhDKEAAAAAAAPgf/TckAkAYQgECAAAAAMD/6L8hEQDCEAoQAAAAAAD+R/8NiQAQhlCAAAAAAADwP/pvSASAMIQCBAAAAACA/9F/QyIAhCHZ2dl2AUpOTlZ+fj6DwWAwGAwGg8FgMBgMH4/k5GS7/87OzjYdB8AQAkAYcXYBYjAYDAaDwWAwGAwGg+H/kZycbDoOgCEEgDCCAJDBYDAYDAaDwWAwGIzmHQSArRcBIIyoqqpScnKykpOTlZ2dbfySaEbgjLPDYW4PZwTDYE8zgmmwnxnBNNjPjGAb7GmGu5GdnW3331VVVabjABhCAAggoOTn8wO1CC7saQQT9jOCCfsZwYY9DaAhBIAAAgp/uCDYsKcRTNjPCCbsZwQb9jSAhhAAAggo/OGCYMOeRjBhPyOYsJ8RbNjTABpCAAggoPCHC4INexrBhP2MYMJ+RrBhTwNoCAEggIDCHy4INuxpBBP2M4IJ+xnBhj0NoCEEgAACCn+4INiwpxFM2M8IJuxnBBv2NICGEAACCCj84YJgw55GMGE/I5iwnxFs2NMAGkIACCCg8IcLgg17GsGE/Yxgwn5GsGFPA2gIASAAAAAAAAAQxAgAAQAAAAAAgCBGAAgAAAAAAAAEMQJAAAAAAAAAIIgRAAIAAAAAAABBjAAQAAAAAAAACGIEgAAAAAAAAEAQIwAEAAAAAAAAghgBIAAAAAAAABDECAABAAAAAACAIEYACAAAAAAAAAQxAkAAflVUVKRVq1Zp4sSJ+tWvfqVLL71UlmXJsiyNGDHivI5dWVmpnj172sfr0aOHT9YMuOOP/bx161Y99dRT6tevnzp27KiwsDBdddVVuvPOOzVnzhwVFxf79ksA/8eX+zknJ0cvv/yybrjhBl1yySUKCQlRly5ddPPNN2vKlCnsYzSL7du3a+rUqfrVr36lK664Qu3atVNYWJh69+6tESNGaOPGjU06XmRkpO655x5169ZN7dq1U7du3XTPPfcoMjLST98A+C9f7OeqqiotX75czz77rG666SZ16dLFrs9DhgxReHi4CgoKmuHbAAgEBIAA/OpMM+lqnG8AOHr06G8cjwAQ/ubL/VxdXa0nnnhCbdq0afC4X331lX++DFo9X+3nzz//XKGhoQ0e79JLL1VMTIz/vgxavdtuu63BPXhmPPzww6qpqWnwWE6nUyNHjmzwOCNHjpTT6Wymb4fWxhf7eefOnerYsWOjx+jYsaMWL17czN8QgAkEgAD86uw/MLp3765f/OIXPgkAU1NT1bZtW1100UX2HzcEgPA3X+3nmpoa/frXv7bfO3ToUH3wwQfavHmzkpKStHjxYo0bN069e/cmAITf+GI/JyQkqG3btrIsSxdccIEeffRRLV++XMnJyVq6dKl+85vf2McMCwtTdna2X78TWq9evXrJsixdfvnlev7557V06VIlJycrMTFRc+fOVbdu3ey9+Pvf/77BY40bN86eO3DgQC1cuFDJyclauHChBg4caL82fvz4Zvp2aG18sZ83bdpkz7n11ls1ffp0RUdHKzU1VVFRURo1apRdv9u2bauIiIhm/pYAmhsBIAC/mjRpklatWqXCwkJJUnZ29nkHgPX19Ro0aJAsy9KUKVPUo0cPAkA0C1/t54kTJ9rvmz17doNza2trz2fJgFu+2M933XWX/Z533nnH5ZwXX3zRnvPcc8/5avnANwwfPlyLFy9WfX29y9dLSkrUp08fey+6u33y0KFDCgkJkWVZGjx4sE6fPv2N1ysrKzV48GBZlqWQkBBlZGT4/LsAvtjPW7Zs0QMPPKA9e/a4/Zzly5fbdyL06tWLq1qBIEcACKBZ+SIAnDNnjizLUt++fVVTU0MACGO82c+ZmZm68MILZVmWHnnkEf8uEGgCb/Zzly5d7Ft83SktLbWPO2jQIB+tFmi6VatW2XvxL3/5i8s5Tz/9tD0nMTHR5ZzExER7zrPPPuvPJQNuebKfPXHffffZx0lNTfXhCgEEGgJAAM3qfAPAnJwchYWFybIsxcbGShIBIIzxZj+//PLLsixLbdq0UVZWln8XCDSBN/v5TD0ePHhwg/O6du0qy7I0YMAAH6wU8E55ebm9x4cPH37O606n0761sl+/fg0eq2/fvrIsS1dccQVXTcGIxvazp+bNm2cfZ8mSJT5cIYBAQwAIoFmdbwB455132j96fAYBIEzxZj9fddVVsixLN954o/3fHA6H8vPzlZWVdc7tZkBz8WY/n/k9tIauADx16pR93HvvvddHqwWa7vjx4/Ze/M1vfnPO65mZmfbro0aNavBYZz8khH/MgQmN7WdPnbmzxrIsLVu2zIcrBBBoCAABNKvzCQAXLlwoy7LUpUsXFRUV2f+dABCmNHU/FxcXf+N2nVOnTun555+3b6M885tSt912m1avXu3/LwCcxZv6/N5779nveffdd13O+dvf/mbPiYqK8uGKgab58ssv7b3497///ZzXV69ebb/+xhtvNHisuXPn2nPXrFnjryUDbjW2nz11991328dp6PcCAbR8BIAAmpW3AeCJEyf0ve99T5Zl6f333//GawSAMKWp+3nDhg32/Jdfftl+yp+78cILL/j/SwD/x5v6XF9fr4ceekiW9fVTgJ944gmtXLlS27Zt07Jly3TPPfd8Y88DpjgcDt100032fty2bds5c959912Pb4VcsmSJPfe9997z17IBlzzZz55IS0uznwR87bXX+niVAAINASCAZuVtAPj444/LsizdfPPN5/zWDgEgTGnqfj77X+vbt28vy7J0yy23KD4+XqdPn9aJEyf0+eef6wc/+EGjV1UBvnY+V2gvXrzYvh342+OOO+7gyj8YN3v2bHtP3nPPPS7nzJw5054TGRnZ4PEiIiLsuY09zR3wNU/2c2Oqq6vtJ1pblqUVK1b4eJUAAg0BIIBm5U2DGR8frzZt2igkJEQ7d+4853UCQJjS1P386aeffiMYGTRokKqqqs6Zd/DgQfvhCt/97nf5XUA0C28DwH379um3v/2tQkJCXAaAF110kR566CEVFBT4b/FAAzZs2GDvz8suu0yFhYUu502ZMsXetzExMQ0eMyYmxp776quv+mPZgEue7ufGPPHEE+f1u9wAWh4CQADNqqkNZnV1tf2kvdGjR7ucQwAIU5q6n8++ZcyyLK1du9bt3LN/N23lypU+XDXgmjcB4MaNG9W5c2e7Bn/66acqLCxUbW2t8vPz9c4779i/cXnFFVdo7969/v0SwLfs3r3b3oPt27fXhg0b3M7lCkAEuqbs54ZMmzbtG/8YWVFR4eOVAghEBIAAmlVTG8yJEyfKsix1795d5eXlLucQAMKUpu7ntWvX2vPbtWunmpoat3Ojo6PtuRMnTvThqgHXvPkHmm7dusmyLH3/+9/X0aNHXc7bvXu3LrroIlmWpcGDB/t41YB7WVlZuvzyy2VZltq2basvv/yywfn8BiACWVP3sztnP7ypb9++Ki4u9vFKAQQqAkAAzaqpDWa7du1kWZYeffRRLVy40OXo2rWrLMtS165d7f/W2K07gC80dT/v2bPHnt+9e/cG5+7fv9+eO2rUKB+tGHCvqft5+fLl9vypU6c2OPfsW83S0tJ8tGLAvSNHjuiqq66SZVlq06aNPv7440bfs2rVKnuf8hRgBBJv9rMrCxYs0AUXXGD/w3l+fr6PVwogkBEAAmhWTW0wXf2elCdj2LBhfv8uQFP3c21trS688EJZlqXLL7+8wblnh4XPPPOMj1YMuNfU/Tx9+nSPb5c8+8qqRYsW+WjFgGslJSW65ppr7D03b948j96XmZnp8T+8jBw50p6blZXli2UDLnm7n79txYoV9m8H/uAHP1BGRoaPVwog0BEAAmhWBIAIJt78Ztptt91m377T0G/urFy50j72tGnTfLRiwL2m7udZs2bZ81etWtXg3Lfeesueu3TpUh+tGDhXaWmpbrjhBnu/vf766x6/1+l02rdY9uvXr8G5/fr1k2VZ6tatm5xO5/kuG3DpfPbz2davX6/27dvLsixdeuml2r17t49XCqAlIAAE0Ky8fcpkQ/gNQJjizX5+88037fd8/vnnbuc98sgj9rxNmzb5aMWAe03dz0uXLrXnv/TSSw3Ove++++y527dv99GKgW+qrKzUrbfeau+18ePHN/kYTz31lP3+xMREl3MSExPtOU8//fT5LhtwyRf7WZK2bNmisLAwWZalTp06KSUlxccrBdBSEAACaFYEgAgm3uzn8vJyXXbZZfaeLSwsPGdOXFyc2rZtK8uyNGDAAK4uQbNo6n4+efKkQkNDZVmWOnbsqF27drmcFxERYf/mVLdu3eRwOHy8ckCqqanRL37xC3sPP//8814d58CBA/ZtkoMHD9bp06e/8frp06c1ePBgWZalkJAQHTx40BfLB77BV/t5x44d9pPaw8LCtHnzZh+vFEBLQgAIwK82bdqk+fPn2+PsW8ZuvfXWb7w2f/58rz6DABDNxVf7edGiRWrTpo0s6+uHgbzzzjvatm2bNm3apHHjxuniiy+2m0v+WIe/+GI/T5kyxX5Phw4dNHbsWMXGxmrHjh1au3atnnrqKTtMsSxLn376afN+SbQa9957r73PfvrTn2rXrl1KT093Ow4cOOD2WGPGjLGPNXDgQC1atEjbtm3TokWLNHDgQPu1sWPHNuM3RGvii/2ckZFh/4OjZX39YJuGjpGenq6ioiID3xZAcyEABOBXI0aMaNJv93mDABDNxZf7ed68efZTrl2NDh06aPny5c30zdAa+WI/O51O/fWvf7UDbXfjwgsv1KxZs5r5G6I1acpebuxvBofDoccee6zB9z/++ONczQq/8cV+nj9/fpOPEx4e3uzfFUDzIQAE4FcEgAgmvt7Pu3fv1lNPPaWrr75aF198sTp06KDrrrtOL730kgoKCprhG6E18+V+TklJ0Z///GcNGDBAHTt2VNu2bXXJJZdo0KBBevHFFxu82grwBV8GgGesWbNGv/3tb3X55ZerXbt2uvzyy/Xb3/5WERER/v9CaNUIAAH4AwEgAAAAAAAAEMQIAAEAAAAAAIAgRgAIAAAAAAAABDECQAAAAAAAACCIEQACAAAAAAAAQYwAEAAAAAAAAAhiBIAAAAAAAABAECMABAAAAAAAAIIYASAAAAAAAAAQxAgAAQAAAAAAgCBGAAgAAAAAAAAEMQJAAAAAAAAAIIgRAAIAAAAAAABBjAAQAAAAAAAACGIEgAAAAAAAAEAQIwAEAAAAAAAAghgBIAAAAAAAABDECAABAAD8aMSIEbIsSz169Div4/To0UOWZWnEiBE+WdfZLMuSZVkKDw/3+bEBAABgHgEgAACAHxEAAgAAwDQCQAAAAC/Mnz/fDs6ys7PdziMABAAAgGkEgAAAAF5o7gDQnwgAAQAAghsBIAAAgBcIAAEAANBSEAACAAB4gQAQAAAALQUBIAAAQBPExcXZgVlDIy4uTtK5AeDJkyc1ceJEXXPNNQoNDdUll1yioUOH6rPPPmvwcz39DcDs7Gy99NJLuuGGG/Sd73xH7du315VXXqnbb79ds2fPVm5u7jnvaSwAdDqdeuaZZ+x5f/7zn+VwONy+Pzk5Wf/7v/+rbt26qV27drr88sv1xz/+UXv37m1w7Wfs379fzz33nK655hp16tRJF110kXr27KlHHnlE27dvb/C9VVVVevPNNzVs2DBdeumlCgkJUZcuXdS3b1/9+te/1ty5c90GtikpKXrsscfUu3dvhYaGqn379rriiit0ww036Omnn9aKFSvkdDo9+g4AAACBhAAQAACgCc4nANy3b5+uvPJKt+955pln3H6uJwHgrFmzdOGFFza4rmHDhp3zvoYCwLq6Ov3hD3+w54wdO7bB97/99tsKCQlx+dmhoaGKj49v8H/fKVOmuH2/ZVlq06aNJk2a5PK9BQUFuuaaaxr9/2b06NHnvHfu3Lm64IILGn1veXl5g+sHAAAIRASAAAAATVBRUaH09HS99tprdigUFRWl9PT0b4yKigpJ/w0Av/vd76p3797q2LGjJkyYoA0bNiglJUUffPCBrrjiCvtYa9eudfm5jQWAU6ZMsY/RuXNnjRs3TtHR0UpNTVVsbKxmz56tW2+9Vbfffvv/b+/OQqL6+ziO/2wsLTXaVyqsEFqgbAGLJCgokhbKiiCjCLopaCHqpkwqUMii6Maikm6siMo2icTSFjK1tJUWW62oqNCEdu3zv3iY31+fOTM681SPHd4vmAvnnO/BA2sjAAAIZElEQVTvnOPlm3Pm+Mz6C4CfP39WUlKS3b5161bHY3u3JyQkKCwsTMOGDVN2drbKysp08eJFrVq1ysa1vn376tu3b47rpKam2rXGjh2rvXv3qri4WNeuXVNOTo7GjBljt+/cudNnPjk52W5PSUnRsWPHdPXqVZWVlen06dPauHGj4uPjfQLgzZs37fnFxsZq27ZtOnfunCoqKnTp0iVlZ2drwYIFio6OJgACAIC/EgEQAAAgBMH+BqA3zN25c8dnn8rKSkVGRsoYo+nTpzuuEygAXr9+3QasuLg4vXjxwu/5OG1zCoA1NTUaN26cjDHyeDzKzs72u2bDO+SSkpIcA1/DYHrs2DGf7aWlpfYa1q9f73ic+vp6paSkyBijmJgYVVdX221fvnyxdz863eHX0IcPHxr97Q2PUVFRevPmjd+5mpqaRo8+AwAA/C0IgAAAACEIJQA63bXmNW/ePBlj1LFjR8ftgQKgdzYsLEzl5eXBXopPAHzz5o2GDRsmY4wiIiIcg53TfGRkpN6+feu4T21trdq0aSNjjFatWuWz3Xv33siRIwP+zl51dbUiIiJkjNGePXvs969evbLnceLEiWZc9b+WLFkiY4zi4+ODmgMAAPhbEAABAABCEGwADAsL0/v37/3ul5mZaddreGebl78AWF9frw4dOsgY4/h4b3M0DIBPnz7VwIEDZYxRdHS0CgoKmj0/bdq0gPsNGTJExhjNmDGj0fffv39Xu3btZIxRRkZGk8cbNWqUjDFavHix/e7r1682MM6ePVs/fvxoch2vDRs22NhZUlLS7DkAAIC/BQEQAAAgBMEGwK5duwZcb9++fXa9qqoqn+3+AuCjR4/snL+XYzTFOz937lz17t1bxhh17ty52THMO79mzZqA+yUmJsoYowkTJjT6/saNG02+fMPpk5SU1GidBQsW2G39+vXTmjVrlJeXp5qamoDnde/ePfv4cHh4uKZOnaqsrCzduXOHt/4CAABXIAACAACEINgA2K9fv/9pPX8B8OrVq3YuKysr+AuRHOPa4cOHg553eotwQ+PHj5cxvm8izs/PDykA/vcdjx8/ftS0adN89vN4PBo9erQyMzP18eNHx3M7cuSIOnbs6DPbpUsXpaSk6OLFi83+fwAAALQ0BEAAAIAQtMQAuGvXruAvRP8GvMmTJysqKkrGGHXr1k13794Naj7UAHjmzBm7RmZmps8blf19njx54nickpISrV69WiNGjJDH42kU9Lp166YrV644ztXU1Gj37t2aNWuWunbt6hMDFy5cyEtAAADAX4kACAAAEIKWEgB/5SPAaWlpKioqsr/H16NHD92/fz+o+UD8BcDS0lK7Rnp6ekjX4E9tba1OnjypmTNn2mP07NlTnz9/bnL27t27ysjIUK9evezsjh07fun5AQAA/AkEQAAAgBDs37+/RQTA+vp6++jqr3gJiCSdP39ebdu2tbHs4cOHQc374y8Afvr0yb7AI9RraI7ly5fbc83Pz2/2XFVVlb0zcuzYsb/t/AAAAH4XAiAAAEAIDh06ZGNSoLvkfncAlKT58+fLmP+8abi8vDzIK3EOeAUFBTYC9u7dW5WVlUHNO/EXACVpypQpdp3f9SbeEydO2GMcOHAgqNn4+HgZYxQXF/dbzg0AAOB3IgACAACE4MKFCzYm5eXl+d3vTwTAiooKtWrVygaqFy9e+D2O0zZ/AS8/P1+RkZEyxqhPnz56/Pix45q/IgBevnxZYWFhMsYoNjZWjx498rtOXV2dcnJyGl3L48ePVVRUFPD4y5Yts+daXFxsv8/NzVV1dbXfuaqqKhtDJ0+eHPAYAAAALREBEAAAIAS1tbU2jo0YMUJnz57VgwcPVFlZqcrKSvsbc38iAErS5s2b7XyHDh20bt06FRQUqKKiQoWFhdq+fbsSExMdH7ENFPDOnDmjiIgIew3Pnj0Lar6hQAFQktLS0uxa0dHRWrFihfLy8lReXq7i4mIdPHhQy5cvt7/Jd/v2bTtbWFgoY4wGDx6sdevWKTc3V6WlpSotLdXRo0c1d+5cu3Z8fLx+/vzZ6LzatWunOXPmKCsrS0VFRaqoqND58+e1ZcsW9enTx84eP3484DUCAAC0RARAAACAEK1du9bnTbHeT2FhoaQ/FwAlKT09XeHh4X7PyV98ayrg5eXl2d/oi42N1fPnz4Oa92oqAErS9u3bbXAM9GnTpk2jx5K9AbCpz6BBg3z+v97zCvTxeDy//AUlAAAAfwoBEAAAIEQ/f/7Unj17lJiYqE6dOsnj8fxfA6AkPXz4UCtXrtTQoUPVvn17RUZGqn///po4caJ27Nih169f+8w0J+CdOnXKRsABAwY0evz2VwZASXr58qVSU1OVkJCgLl26KDw8XFFRUYqLi1NycrJ27dqld+/eNZqpq6tTcXGxNm3apAkTJmjgwIGKiYlR69at1b17d02aNEm7d+/Wt2/ffI739u1b5eTkaNGiRRo+fLh69Oih8PBwRUdHa+jQoVq6dKlu3boV8JwBAABaMgIgAAAAAAAA4GIEQAAAAAAAAMDFCIAAAAAAAACAixEAAQAAAAAAABcjAAIAAAAAAAAuRgAEAAAAAAAAXIwACAAAAAAAALgYARAAAAAAAABwMQIgAAAAAAAA4GIEQAAAAAAAAMDFCIAAAAAAAACAixEAAQAAAAAAABcjAAIAAAAAAAAuRgAEAAAAAAAAXIwACAAAAAAAALgYARAAAAAAAABwMQIgAAAAAAAA4GIEQAAAAAAAAMDFCIAAAAAAAACAixEAAQAAAAAAABcjAAIAAAAAAAAuRgAEAAAAAAAAXIwACAAAAAAAALgYARAAAAAAAABwMQIgAAAAAAAA4GL/AAoavzMX1OUkAAAAAElFTkSuQmCC\" width=\"640\">"
      ],
      "text/plain": [
       "<IPython.core.display.HTML object>"
      ]
     },
     "metadata": {},
     "output_type": "display_data"
    },
    {
     "data": {
      "application/javascript": [
       "/* Put everything inside the global mpl namespace */\n",
       "window.mpl = {};\n",
       "\n",
       "\n",
       "mpl.get_websocket_type = function() {\n",
       "    if (typeof(WebSocket) !== 'undefined') {\n",
       "        return WebSocket;\n",
       "    } else if (typeof(MozWebSocket) !== 'undefined') {\n",
       "        return MozWebSocket;\n",
       "    } else {\n",
       "        alert('Your browser does not have WebSocket support.' +\n",
       "              'Please try Chrome, Safari or Firefox ≥ 6. ' +\n",
       "              'Firefox 4 and 5 are also supported but you ' +\n",
       "              'have to enable WebSockets in about:config.');\n",
       "    };\n",
       "}\n",
       "\n",
       "mpl.figure = function(figure_id, websocket, ondownload, parent_element) {\n",
       "    this.id = figure_id;\n",
       "\n",
       "    this.ws = websocket;\n",
       "\n",
       "    this.supports_binary = (this.ws.binaryType != undefined);\n",
       "\n",
       "    if (!this.supports_binary) {\n",
       "        var warnings = document.getElementById(\"mpl-warnings\");\n",
       "        if (warnings) {\n",
       "            warnings.style.display = 'block';\n",
       "            warnings.textContent = (\n",
       "                \"This browser does not support binary websocket messages. \" +\n",
       "                    \"Performance may be slow.\");\n",
       "        }\n",
       "    }\n",
       "\n",
       "    this.imageObj = new Image();\n",
       "\n",
       "    this.context = undefined;\n",
       "    this.message = undefined;\n",
       "    this.canvas = undefined;\n",
       "    this.rubberband_canvas = undefined;\n",
       "    this.rubberband_context = undefined;\n",
       "    this.format_dropdown = undefined;\n",
       "\n",
       "    this.image_mode = 'full';\n",
       "\n",
       "    this.root = $('<div/>');\n",
       "    this._root_extra_style(this.root)\n",
       "    this.root.attr('style', 'display: inline-block');\n",
       "\n",
       "    $(parent_element).append(this.root);\n",
       "\n",
       "    this._init_header(this);\n",
       "    this._init_canvas(this);\n",
       "    this._init_toolbar(this);\n",
       "\n",
       "    var fig = this;\n",
       "\n",
       "    this.waiting = false;\n",
       "\n",
       "    this.ws.onopen =  function () {\n",
       "            fig.send_message(\"supports_binary\", {value: fig.supports_binary});\n",
       "            fig.send_message(\"send_image_mode\", {});\n",
       "            if (mpl.ratio != 1) {\n",
       "                fig.send_message(\"set_dpi_ratio\", {'dpi_ratio': mpl.ratio});\n",
       "            }\n",
       "            fig.send_message(\"refresh\", {});\n",
       "        }\n",
       "\n",
       "    this.imageObj.onload = function() {\n",
       "            if (fig.image_mode == 'full') {\n",
       "                // Full images could contain transparency (where diff images\n",
       "                // almost always do), so we need to clear the canvas so that\n",
       "                // there is no ghosting.\n",
       "                fig.context.clearRect(0, 0, fig.canvas.width, fig.canvas.height);\n",
       "            }\n",
       "            fig.context.drawImage(fig.imageObj, 0, 0);\n",
       "        };\n",
       "\n",
       "    this.imageObj.onunload = function() {\n",
       "        fig.ws.close();\n",
       "    }\n",
       "\n",
       "    this.ws.onmessage = this._make_on_message_function(this);\n",
       "\n",
       "    this.ondownload = ondownload;\n",
       "}\n",
       "\n",
       "mpl.figure.prototype._init_header = function() {\n",
       "    var titlebar = $(\n",
       "        '<div class=\"ui-dialog-titlebar ui-widget-header ui-corner-all ' +\n",
       "        'ui-helper-clearfix\"/>');\n",
       "    var titletext = $(\n",
       "        '<div class=\"ui-dialog-title\" style=\"width: 100%; ' +\n",
       "        'text-align: center; padding: 3px;\"/>');\n",
       "    titlebar.append(titletext)\n",
       "    this.root.append(titlebar);\n",
       "    this.header = titletext[0];\n",
       "}\n",
       "\n",
       "\n",
       "\n",
       "mpl.figure.prototype._canvas_extra_style = function(canvas_div) {\n",
       "\n",
       "}\n",
       "\n",
       "\n",
       "mpl.figure.prototype._root_extra_style = function(canvas_div) {\n",
       "\n",
       "}\n",
       "\n",
       "mpl.figure.prototype._init_canvas = function() {\n",
       "    var fig = this;\n",
       "\n",
       "    var canvas_div = $('<div/>');\n",
       "\n",
       "    canvas_div.attr('style', 'position: relative; clear: both; outline: 0');\n",
       "\n",
       "    function canvas_keyboard_event(event) {\n",
       "        return fig.key_event(event, event['data']);\n",
       "    }\n",
       "\n",
       "    canvas_div.keydown('key_press', canvas_keyboard_event);\n",
       "    canvas_div.keyup('key_release', canvas_keyboard_event);\n",
       "    this.canvas_div = canvas_div\n",
       "    this._canvas_extra_style(canvas_div)\n",
       "    this.root.append(canvas_div);\n",
       "\n",
       "    var canvas = $('<canvas/>');\n",
       "    canvas.addClass('mpl-canvas');\n",
       "    canvas.attr('style', \"left: 0; top: 0; z-index: 0; outline: 0\")\n",
       "\n",
       "    this.canvas = canvas[0];\n",
       "    this.context = canvas[0].getContext(\"2d\");\n",
       "\n",
       "    var backingStore = this.context.backingStorePixelRatio ||\n",
       "\tthis.context.webkitBackingStorePixelRatio ||\n",
       "\tthis.context.mozBackingStorePixelRatio ||\n",
       "\tthis.context.msBackingStorePixelRatio ||\n",
       "\tthis.context.oBackingStorePixelRatio ||\n",
       "\tthis.context.backingStorePixelRatio || 1;\n",
       "\n",
       "    mpl.ratio = (window.devicePixelRatio || 1) / backingStore;\n",
       "\n",
       "    var rubberband = $('<canvas/>');\n",
       "    rubberband.attr('style', \"position: absolute; left: 0; top: 0; z-index: 1;\")\n",
       "\n",
       "    var pass_mouse_events = true;\n",
       "\n",
       "    canvas_div.resizable({\n",
       "        start: function(event, ui) {\n",
       "            pass_mouse_events = false;\n",
       "        },\n",
       "        resize: function(event, ui) {\n",
       "            fig.request_resize(ui.size.width, ui.size.height);\n",
       "        },\n",
       "        stop: function(event, ui) {\n",
       "            pass_mouse_events = true;\n",
       "            fig.request_resize(ui.size.width, ui.size.height);\n",
       "        },\n",
       "    });\n",
       "\n",
       "    function mouse_event_fn(event) {\n",
       "        if (pass_mouse_events)\n",
       "            return fig.mouse_event(event, event['data']);\n",
       "    }\n",
       "\n",
       "    rubberband.mousedown('button_press', mouse_event_fn);\n",
       "    rubberband.mouseup('button_release', mouse_event_fn);\n",
       "    // Throttle sequential mouse events to 1 every 20ms.\n",
       "    rubberband.mousemove('motion_notify', mouse_event_fn);\n",
       "\n",
       "    rubberband.mouseenter('figure_enter', mouse_event_fn);\n",
       "    rubberband.mouseleave('figure_leave', mouse_event_fn);\n",
       "\n",
       "    canvas_div.on(\"wheel\", function (event) {\n",
       "        event = event.originalEvent;\n",
       "        event['data'] = 'scroll'\n",
       "        if (event.deltaY < 0) {\n",
       "            event.step = 1;\n",
       "        } else {\n",
       "            event.step = -1;\n",
       "        }\n",
       "        mouse_event_fn(event);\n",
       "    });\n",
       "\n",
       "    canvas_div.append(canvas);\n",
       "    canvas_div.append(rubberband);\n",
       "\n",
       "    this.rubberband = rubberband;\n",
       "    this.rubberband_canvas = rubberband[0];\n",
       "    this.rubberband_context = rubberband[0].getContext(\"2d\");\n",
       "    this.rubberband_context.strokeStyle = \"#000000\";\n",
       "\n",
       "    this._resize_canvas = function(width, height) {\n",
       "        // Keep the size of the canvas, canvas container, and rubber band\n",
       "        // canvas in synch.\n",
       "        canvas_div.css('width', width)\n",
       "        canvas_div.css('height', height)\n",
       "\n",
       "        canvas.attr('width', width * mpl.ratio);\n",
       "        canvas.attr('height', height * mpl.ratio);\n",
       "        canvas.attr('style', 'width: ' + width + 'px; height: ' + height + 'px;');\n",
       "\n",
       "        rubberband.attr('width', width);\n",
       "        rubberband.attr('height', height);\n",
       "    }\n",
       "\n",
       "    // Set the figure to an initial 600x600px, this will subsequently be updated\n",
       "    // upon first draw.\n",
       "    this._resize_canvas(600, 600);\n",
       "\n",
       "    // Disable right mouse context menu.\n",
       "    $(this.rubberband_canvas).bind(\"contextmenu\",function(e){\n",
       "        return false;\n",
       "    });\n",
       "\n",
       "    function set_focus () {\n",
       "        canvas.focus();\n",
       "        canvas_div.focus();\n",
       "    }\n",
       "\n",
       "    window.setTimeout(set_focus, 100);\n",
       "}\n",
       "\n",
       "mpl.figure.prototype._init_toolbar = function() {\n",
       "    var fig = this;\n",
       "\n",
       "    var nav_element = $('<div/>')\n",
       "    nav_element.attr('style', 'width: 100%');\n",
       "    this.root.append(nav_element);\n",
       "\n",
       "    // Define a callback function for later on.\n",
       "    function toolbar_event(event) {\n",
       "        return fig.toolbar_button_onclick(event['data']);\n",
       "    }\n",
       "    function toolbar_mouse_event(event) {\n",
       "        return fig.toolbar_button_onmouseover(event['data']);\n",
       "    }\n",
       "\n",
       "    for(var toolbar_ind in mpl.toolbar_items) {\n",
       "        var name = mpl.toolbar_items[toolbar_ind][0];\n",
       "        var tooltip = mpl.toolbar_items[toolbar_ind][1];\n",
       "        var image = mpl.toolbar_items[toolbar_ind][2];\n",
       "        var method_name = mpl.toolbar_items[toolbar_ind][3];\n",
       "\n",
       "        if (!name) {\n",
       "            // put a spacer in here.\n",
       "            continue;\n",
       "        }\n",
       "        var button = $('<button/>');\n",
       "        button.addClass('ui-button ui-widget ui-state-default ui-corner-all ' +\n",
       "                        'ui-button-icon-only');\n",
       "        button.attr('role', 'button');\n",
       "        button.attr('aria-disabled', 'false');\n",
       "        button.click(method_name, toolbar_event);\n",
       "        button.mouseover(tooltip, toolbar_mouse_event);\n",
       "\n",
       "        var icon_img = $('<span/>');\n",
       "        icon_img.addClass('ui-button-icon-primary ui-icon');\n",
       "        icon_img.addClass(image);\n",
       "        icon_img.addClass('ui-corner-all');\n",
       "\n",
       "        var tooltip_span = $('<span/>');\n",
       "        tooltip_span.addClass('ui-button-text');\n",
       "        tooltip_span.html(tooltip);\n",
       "\n",
       "        button.append(icon_img);\n",
       "        button.append(tooltip_span);\n",
       "\n",
       "        nav_element.append(button);\n",
       "    }\n",
       "\n",
       "    var fmt_picker_span = $('<span/>');\n",
       "\n",
       "    var fmt_picker = $('<select/>');\n",
       "    fmt_picker.addClass('mpl-toolbar-option ui-widget ui-widget-content');\n",
       "    fmt_picker_span.append(fmt_picker);\n",
       "    nav_element.append(fmt_picker_span);\n",
       "    this.format_dropdown = fmt_picker[0];\n",
       "\n",
       "    for (var ind in mpl.extensions) {\n",
       "        var fmt = mpl.extensions[ind];\n",
       "        var option = $(\n",
       "            '<option/>', {selected: fmt === mpl.default_extension}).html(fmt);\n",
       "        fmt_picker.append(option)\n",
       "    }\n",
       "\n",
       "    // Add hover states to the ui-buttons\n",
       "    $( \".ui-button\" ).hover(\n",
       "        function() { $(this).addClass(\"ui-state-hover\");},\n",
       "        function() { $(this).removeClass(\"ui-state-hover\");}\n",
       "    );\n",
       "\n",
       "    var status_bar = $('<span class=\"mpl-message\"/>');\n",
       "    nav_element.append(status_bar);\n",
       "    this.message = status_bar[0];\n",
       "}\n",
       "\n",
       "mpl.figure.prototype.request_resize = function(x_pixels, y_pixels) {\n",
       "    // Request matplotlib to resize the figure. Matplotlib will then trigger a resize in the client,\n",
       "    // which will in turn request a refresh of the image.\n",
       "    this.send_message('resize', {'width': x_pixels, 'height': y_pixels});\n",
       "}\n",
       "\n",
       "mpl.figure.prototype.send_message = function(type, properties) {\n",
       "    properties['type'] = type;\n",
       "    properties['figure_id'] = this.id;\n",
       "    this.ws.send(JSON.stringify(properties));\n",
       "}\n",
       "\n",
       "mpl.figure.prototype.send_draw_message = function() {\n",
       "    if (!this.waiting) {\n",
       "        this.waiting = true;\n",
       "        this.ws.send(JSON.stringify({type: \"draw\", figure_id: this.id}));\n",
       "    }\n",
       "}\n",
       "\n",
       "\n",
       "mpl.figure.prototype.handle_save = function(fig, msg) {\n",
       "    var format_dropdown = fig.format_dropdown;\n",
       "    var format = format_dropdown.options[format_dropdown.selectedIndex].value;\n",
       "    fig.ondownload(fig, format);\n",
       "}\n",
       "\n",
       "\n",
       "mpl.figure.prototype.handle_resize = function(fig, msg) {\n",
       "    var size = msg['size'];\n",
       "    if (size[0] != fig.canvas.width || size[1] != fig.canvas.height) {\n",
       "        fig._resize_canvas(size[0], size[1]);\n",
       "        fig.send_message(\"refresh\", {});\n",
       "    };\n",
       "}\n",
       "\n",
       "mpl.figure.prototype.handle_rubberband = function(fig, msg) {\n",
       "    var x0 = msg['x0'] / mpl.ratio;\n",
       "    var y0 = (fig.canvas.height - msg['y0']) / mpl.ratio;\n",
       "    var x1 = msg['x1'] / mpl.ratio;\n",
       "    var y1 = (fig.canvas.height - msg['y1']) / mpl.ratio;\n",
       "    x0 = Math.floor(x0) + 0.5;\n",
       "    y0 = Math.floor(y0) + 0.5;\n",
       "    x1 = Math.floor(x1) + 0.5;\n",
       "    y1 = Math.floor(y1) + 0.5;\n",
       "    var min_x = Math.min(x0, x1);\n",
       "    var min_y = Math.min(y0, y1);\n",
       "    var width = Math.abs(x1 - x0);\n",
       "    var height = Math.abs(y1 - y0);\n",
       "\n",
       "    fig.rubberband_context.clearRect(\n",
       "        0, 0, fig.canvas.width, fig.canvas.height);\n",
       "\n",
       "    fig.rubberband_context.strokeRect(min_x, min_y, width, height);\n",
       "}\n",
       "\n",
       "mpl.figure.prototype.handle_figure_label = function(fig, msg) {\n",
       "    // Updates the figure title.\n",
       "    fig.header.textContent = msg['label'];\n",
       "}\n",
       "\n",
       "mpl.figure.prototype.handle_cursor = function(fig, msg) {\n",
       "    var cursor = msg['cursor'];\n",
       "    switch(cursor)\n",
       "    {\n",
       "    case 0:\n",
       "        cursor = 'pointer';\n",
       "        break;\n",
       "    case 1:\n",
       "        cursor = 'default';\n",
       "        break;\n",
       "    case 2:\n",
       "        cursor = 'crosshair';\n",
       "        break;\n",
       "    case 3:\n",
       "        cursor = 'move';\n",
       "        break;\n",
       "    }\n",
       "    fig.rubberband_canvas.style.cursor = cursor;\n",
       "}\n",
       "\n",
       "mpl.figure.prototype.handle_message = function(fig, msg) {\n",
       "    fig.message.textContent = msg['message'];\n",
       "}\n",
       "\n",
       "mpl.figure.prototype.handle_draw = function(fig, msg) {\n",
       "    // Request the server to send over a new figure.\n",
       "    fig.send_draw_message();\n",
       "}\n",
       "\n",
       "mpl.figure.prototype.handle_image_mode = function(fig, msg) {\n",
       "    fig.image_mode = msg['mode'];\n",
       "}\n",
       "\n",
       "mpl.figure.prototype.updated_canvas_event = function() {\n",
       "    // Called whenever the canvas gets updated.\n",
       "    this.send_message(\"ack\", {});\n",
       "}\n",
       "\n",
       "// A function to construct a web socket function for onmessage handling.\n",
       "// Called in the figure constructor.\n",
       "mpl.figure.prototype._make_on_message_function = function(fig) {\n",
       "    return function socket_on_message(evt) {\n",
       "        if (evt.data instanceof Blob) {\n",
       "            /* FIXME: We get \"Resource interpreted as Image but\n",
       "             * transferred with MIME type text/plain:\" errors on\n",
       "             * Chrome.  But how to set the MIME type?  It doesn't seem\n",
       "             * to be part of the websocket stream */\n",
       "            evt.data.type = \"image/png\";\n",
       "\n",
       "            /* Free the memory for the previous frames */\n",
       "            if (fig.imageObj.src) {\n",
       "                (window.URL || window.webkitURL).revokeObjectURL(\n",
       "                    fig.imageObj.src);\n",
       "            }\n",
       "\n",
       "            fig.imageObj.src = (window.URL || window.webkitURL).createObjectURL(\n",
       "                evt.data);\n",
       "            fig.updated_canvas_event();\n",
       "            fig.waiting = false;\n",
       "            return;\n",
       "        }\n",
       "        else if (typeof evt.data === 'string' && evt.data.slice(0, 21) == \"data:image/png;base64\") {\n",
       "            fig.imageObj.src = evt.data;\n",
       "            fig.updated_canvas_event();\n",
       "            fig.waiting = false;\n",
       "            return;\n",
       "        }\n",
       "\n",
       "        var msg = JSON.parse(evt.data);\n",
       "        var msg_type = msg['type'];\n",
       "\n",
       "        // Call the  \"handle_{type}\" callback, which takes\n",
       "        // the figure and JSON message as its only arguments.\n",
       "        try {\n",
       "            var callback = fig[\"handle_\" + msg_type];\n",
       "        } catch (e) {\n",
       "            console.log(\"No handler for the '\" + msg_type + \"' message type: \", msg);\n",
       "            return;\n",
       "        }\n",
       "\n",
       "        if (callback) {\n",
       "            try {\n",
       "                // console.log(\"Handling '\" + msg_type + \"' message: \", msg);\n",
       "                callback(fig, msg);\n",
       "            } catch (e) {\n",
       "                console.log(\"Exception inside the 'handler_\" + msg_type + \"' callback:\", e, e.stack, msg);\n",
       "            }\n",
       "        }\n",
       "    };\n",
       "}\n",
       "\n",
       "// from http://stackoverflow.com/questions/1114465/getting-mouse-location-in-canvas\n",
       "mpl.findpos = function(e) {\n",
       "    //this section is from http://www.quirksmode.org/js/events_properties.html\n",
       "    var targ;\n",
       "    if (!e)\n",
       "        e = window.event;\n",
       "    if (e.target)\n",
       "        targ = e.target;\n",
       "    else if (e.srcElement)\n",
       "        targ = e.srcElement;\n",
       "    if (targ.nodeType == 3) // defeat Safari bug\n",
       "        targ = targ.parentNode;\n",
       "\n",
       "    // jQuery normalizes the pageX and pageY\n",
       "    // pageX,Y are the mouse positions relative to the document\n",
       "    // offset() returns the position of the element relative to the document\n",
       "    var x = e.pageX - $(targ).offset().left;\n",
       "    var y = e.pageY - $(targ).offset().top;\n",
       "\n",
       "    return {\"x\": x, \"y\": y};\n",
       "};\n",
       "\n",
       "/*\n",
       " * return a copy of an object with only non-object keys\n",
       " * we need this to avoid circular references\n",
       " * http://stackoverflow.com/a/24161582/3208463\n",
       " */\n",
       "function simpleKeys (original) {\n",
       "  return Object.keys(original).reduce(function (obj, key) {\n",
       "    if (typeof original[key] !== 'object')\n",
       "        obj[key] = original[key]\n",
       "    return obj;\n",
       "  }, {});\n",
       "}\n",
       "\n",
       "mpl.figure.prototype.mouse_event = function(event, name) {\n",
       "    var canvas_pos = mpl.findpos(event)\n",
       "\n",
       "    if (name === 'button_press')\n",
       "    {\n",
       "        this.canvas.focus();\n",
       "        this.canvas_div.focus();\n",
       "    }\n",
       "\n",
       "    var x = canvas_pos.x * mpl.ratio;\n",
       "    var y = canvas_pos.y * mpl.ratio;\n",
       "\n",
       "    this.send_message(name, {x: x, y: y, button: event.button,\n",
       "                             step: event.step,\n",
       "                             guiEvent: simpleKeys(event)});\n",
       "\n",
       "    /* This prevents the web browser from automatically changing to\n",
       "     * the text insertion cursor when the button is pressed.  We want\n",
       "     * to control all of the cursor setting manually through the\n",
       "     * 'cursor' event from matplotlib */\n",
       "    event.preventDefault();\n",
       "    return false;\n",
       "}\n",
       "\n",
       "mpl.figure.prototype._key_event_extra = function(event, name) {\n",
       "    // Handle any extra behaviour associated with a key event\n",
       "}\n",
       "\n",
       "mpl.figure.prototype.key_event = function(event, name) {\n",
       "\n",
       "    // Prevent repeat events\n",
       "    if (name == 'key_press')\n",
       "    {\n",
       "        if (event.which === this._key)\n",
       "            return;\n",
       "        else\n",
       "            this._key = event.which;\n",
       "    }\n",
       "    if (name == 'key_release')\n",
       "        this._key = null;\n",
       "\n",
       "    var value = '';\n",
       "    if (event.ctrlKey && event.which != 17)\n",
       "        value += \"ctrl+\";\n",
       "    if (event.altKey && event.which != 18)\n",
       "        value += \"alt+\";\n",
       "    if (event.shiftKey && event.which != 16)\n",
       "        value += \"shift+\";\n",
       "\n",
       "    value += 'k';\n",
       "    value += event.which.toString();\n",
       "\n",
       "    this._key_event_extra(event, name);\n",
       "\n",
       "    this.send_message(name, {key: value,\n",
       "                             guiEvent: simpleKeys(event)});\n",
       "    return false;\n",
       "}\n",
       "\n",
       "mpl.figure.prototype.toolbar_button_onclick = function(name) {\n",
       "    if (name == 'download') {\n",
       "        this.handle_save(this, null);\n",
       "    } else {\n",
       "        this.send_message(\"toolbar_button\", {name: name});\n",
       "    }\n",
       "};\n",
       "\n",
       "mpl.figure.prototype.toolbar_button_onmouseover = function(tooltip) {\n",
       "    this.message.textContent = tooltip;\n",
       "};\n",
       "mpl.toolbar_items = [[\"Home\", \"Reset original view\", \"fa fa-home icon-home\", \"home\"], [\"Back\", \"Back to previous view\", \"fa fa-arrow-left icon-arrow-left\", \"back\"], [\"Forward\", \"Forward to next view\", \"fa fa-arrow-right icon-arrow-right\", \"forward\"], [\"\", \"\", \"\", \"\"], [\"Pan\", \"Pan axes with left mouse, zoom with right\", \"fa fa-arrows icon-move\", \"pan\"], [\"Zoom\", \"Zoom to rectangle\", \"fa fa-square-o icon-check-empty\", \"zoom\"], [\"\", \"\", \"\", \"\"], [\"Download\", \"Download plot\", \"fa fa-floppy-o icon-save\", \"download\"]];\n",
       "\n",
       "mpl.extensions = [\"eps\", \"jpeg\", \"pdf\", \"png\", \"ps\", \"raw\", \"svg\", \"tif\"];\n",
       "\n",
       "mpl.default_extension = \"png\";var comm_websocket_adapter = function(comm) {\n",
       "    // Create a \"websocket\"-like object which calls the given IPython comm\n",
       "    // object with the appropriate methods. Currently this is a non binary\n",
       "    // socket, so there is still some room for performance tuning.\n",
       "    var ws = {};\n",
       "\n",
       "    ws.close = function() {\n",
       "        comm.close()\n",
       "    };\n",
       "    ws.send = function(m) {\n",
       "        //console.log('sending', m);\n",
       "        comm.send(m);\n",
       "    };\n",
       "    // Register the callback with on_msg.\n",
       "    comm.on_msg(function(msg) {\n",
       "        //console.log('receiving', msg['content']['data'], msg);\n",
       "        // Pass the mpl event to the overridden (by mpl) onmessage function.\n",
       "        ws.onmessage(msg['content']['data'])\n",
       "    });\n",
       "    return ws;\n",
       "}\n",
       "\n",
       "mpl.mpl_figure_comm = function(comm, msg) {\n",
       "    // This is the function which gets called when the mpl process\n",
       "    // starts-up an IPython Comm through the \"matplotlib\" channel.\n",
       "\n",
       "    var id = msg.content.data.id;\n",
       "    // Get hold of the div created by the display call when the Comm\n",
       "    // socket was opened in Python.\n",
       "    var element = $(\"#\" + id);\n",
       "    var ws_proxy = comm_websocket_adapter(comm)\n",
       "\n",
       "    function ondownload(figure, format) {\n",
       "        window.open(figure.imageObj.src);\n",
       "    }\n",
       "\n",
       "    var fig = new mpl.figure(id, ws_proxy,\n",
       "                           ondownload,\n",
       "                           element.get(0));\n",
       "\n",
       "    // Call onopen now - mpl needs it, as it is assuming we've passed it a real\n",
       "    // web socket which is closed, not our websocket->open comm proxy.\n",
       "    ws_proxy.onopen();\n",
       "\n",
       "    fig.parent_element = element.get(0);\n",
       "    fig.cell_info = mpl.find_output_cell(\"<div id='\" + id + \"'></div>\");\n",
       "    if (!fig.cell_info) {\n",
       "        console.error(\"Failed to find cell for figure\", id, fig);\n",
       "        return;\n",
       "    }\n",
       "\n",
       "    var output_index = fig.cell_info[2]\n",
       "    var cell = fig.cell_info[0];\n",
       "\n",
       "};\n",
       "\n",
       "mpl.figure.prototype.handle_close = function(fig, msg) {\n",
       "    var width = fig.canvas.width/mpl.ratio\n",
       "    fig.root.unbind('remove')\n",
       "\n",
       "    // Update the output cell to use the data from the current canvas.\n",
       "    fig.push_to_output();\n",
       "    var dataURL = fig.canvas.toDataURL();\n",
       "    // Re-enable the keyboard manager in IPython - without this line, in FF,\n",
       "    // the notebook keyboard shortcuts fail.\n",
       "    IPython.keyboard_manager.enable()\n",
       "    $(fig.parent_element).html('<img src=\"' + dataURL + '\" width=\"' + width + '\">');\n",
       "    fig.close_ws(fig, msg);\n",
       "}\n",
       "\n",
       "mpl.figure.prototype.close_ws = function(fig, msg){\n",
       "    fig.send_message('closing', msg);\n",
       "    // fig.ws.close()\n",
       "}\n",
       "\n",
       "mpl.figure.prototype.push_to_output = function(remove_interactive) {\n",
       "    // Turn the data on the canvas into data in the output cell.\n",
       "    var width = this.canvas.width/mpl.ratio\n",
       "    var dataURL = this.canvas.toDataURL();\n",
       "    this.cell_info[1]['text/html'] = '<img src=\"' + dataURL + '\" width=\"' + width + '\">';\n",
       "}\n",
       "\n",
       "mpl.figure.prototype.updated_canvas_event = function() {\n",
       "    // Tell IPython that the notebook contents must change.\n",
       "    IPython.notebook.set_dirty(true);\n",
       "    this.send_message(\"ack\", {});\n",
       "    var fig = this;\n",
       "    // Wait a second, then push the new image to the DOM so\n",
       "    // that it is saved nicely (might be nice to debounce this).\n",
       "    setTimeout(function () { fig.push_to_output() }, 1000);\n",
       "}\n",
       "\n",
       "mpl.figure.prototype._init_toolbar = function() {\n",
       "    var fig = this;\n",
       "\n",
       "    var nav_element = $('<div/>')\n",
       "    nav_element.attr('style', 'width: 100%');\n",
       "    this.root.append(nav_element);\n",
       "\n",
       "    // Define a callback function for later on.\n",
       "    function toolbar_event(event) {\n",
       "        return fig.toolbar_button_onclick(event['data']);\n",
       "    }\n",
       "    function toolbar_mouse_event(event) {\n",
       "        return fig.toolbar_button_onmouseover(event['data']);\n",
       "    }\n",
       "\n",
       "    for(var toolbar_ind in mpl.toolbar_items){\n",
       "        var name = mpl.toolbar_items[toolbar_ind][0];\n",
       "        var tooltip = mpl.toolbar_items[toolbar_ind][1];\n",
       "        var image = mpl.toolbar_items[toolbar_ind][2];\n",
       "        var method_name = mpl.toolbar_items[toolbar_ind][3];\n",
       "\n",
       "        if (!name) { continue; };\n",
       "\n",
       "        var button = $('<button class=\"btn btn-default\" href=\"#\" title=\"' + name + '\"><i class=\"fa ' + image + ' fa-lg\"></i></button>');\n",
       "        button.click(method_name, toolbar_event);\n",
       "        button.mouseover(tooltip, toolbar_mouse_event);\n",
       "        nav_element.append(button);\n",
       "    }\n",
       "\n",
       "    // Add the status bar.\n",
       "    var status_bar = $('<span class=\"mpl-message\" style=\"text-align:right; float: right;\"/>');\n",
       "    nav_element.append(status_bar);\n",
       "    this.message = status_bar[0];\n",
       "\n",
       "    // Add the close button to the window.\n",
       "    var buttongrp = $('<div class=\"btn-group inline pull-right\"></div>');\n",
       "    var button = $('<button class=\"btn btn-mini btn-primary\" href=\"#\" title=\"Stop Interaction\"><i class=\"fa fa-power-off icon-remove icon-large\"></i></button>');\n",
       "    button.click(function (evt) { fig.handle_close(fig, {}); } );\n",
       "    button.mouseover('Stop Interaction', toolbar_mouse_event);\n",
       "    buttongrp.append(button);\n",
       "    var titlebar = this.root.find($('.ui-dialog-titlebar'));\n",
       "    titlebar.prepend(buttongrp);\n",
       "}\n",
       "\n",
       "mpl.figure.prototype._root_extra_style = function(el){\n",
       "    var fig = this\n",
       "    el.on(\"remove\", function(){\n",
       "\tfig.close_ws(fig, {});\n",
       "    });\n",
       "}\n",
       "\n",
       "mpl.figure.prototype._canvas_extra_style = function(el){\n",
       "    // this is important to make the div 'focusable\n",
       "    el.attr('tabindex', 0)\n",
       "    // reach out to IPython and tell the keyboard manager to turn it's self\n",
       "    // off when our div gets focus\n",
       "\n",
       "    // location in version 3\n",
       "    if (IPython.notebook.keyboard_manager) {\n",
       "        IPython.notebook.keyboard_manager.register_events(el);\n",
       "    }\n",
       "    else {\n",
       "        // location in version 2\n",
       "        IPython.keyboard_manager.register_events(el);\n",
       "    }\n",
       "\n",
       "}\n",
       "\n",
       "mpl.figure.prototype._key_event_extra = function(event, name) {\n",
       "    var manager = IPython.notebook.keyboard_manager;\n",
       "    if (!manager)\n",
       "        manager = IPython.keyboard_manager;\n",
       "\n",
       "    // Check for shift+enter\n",
       "    if (event.shiftKey && event.which == 13) {\n",
       "        this.canvas_div.blur();\n",
       "        event.shiftKey = false;\n",
       "        // Send a \"J\" for go to next cell\n",
       "        event.which = 74;\n",
       "        event.keyCode = 74;\n",
       "        manager.command_mode();\n",
       "        manager.handle_keydown(event);\n",
       "    }\n",
       "}\n",
       "\n",
       "mpl.figure.prototype.handle_save = function(fig, msg) {\n",
       "    fig.ondownload(fig, null);\n",
       "}\n",
       "\n",
       "\n",
       "mpl.find_output_cell = function(html_output) {\n",
       "    // Return the cell and output element which can be found *uniquely* in the notebook.\n",
       "    // Note - this is a bit hacky, but it is done because the \"notebook_saving.Notebook\"\n",
       "    // IPython event is triggered only after the cells have been serialised, which for\n",
       "    // our purposes (turning an active figure into a static one), is too late.\n",
       "    var cells = IPython.notebook.get_cells();\n",
       "    var ncells = cells.length;\n",
       "    for (var i=0; i<ncells; i++) {\n",
       "        var cell = cells[i];\n",
       "        if (cell.cell_type === 'code'){\n",
       "            for (var j=0; j<cell.output_area.outputs.length; j++) {\n",
       "                var data = cell.output_area.outputs[j];\n",
       "                if (data.data) {\n",
       "                    // IPython >= 3 moved mimebundle to data attribute of output\n",
       "                    data = data.data;\n",
       "                }\n",
       "                if (data['text/html'] == html_output) {\n",
       "                    return [cell, data, j];\n",
       "                }\n",
       "            }\n",
       "        }\n",
       "    }\n",
       "}\n",
       "\n",
       "// Register the function which deals with the matplotlib target/channel.\n",
       "// The kernel may be null if the page has been refreshed.\n",
       "if (IPython.notebook.kernel != null) {\n",
       "    IPython.notebook.kernel.comm_manager.register_target('matplotlib', mpl.mpl_figure_comm);\n",
       "}\n"
      ],
      "text/plain": [
       "<IPython.core.display.Javascript object>"
      ]
     },
     "metadata": {},
     "output_type": "display_data"
    },
    {
     "data": {
      "text/html": [
       "<img src=\"data:image/png;base64,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\" width=\"640\">"
      ],
      "text/plain": [
       "<IPython.core.display.HTML object>"
      ]
     },
     "metadata": {},
     "output_type": "display_data"
    },
    {
     "data": {
      "application/javascript": [
       "/* Put everything inside the global mpl namespace */\n",
       "window.mpl = {};\n",
       "\n",
       "\n",
       "mpl.get_websocket_type = function() {\n",
       "    if (typeof(WebSocket) !== 'undefined') {\n",
       "        return WebSocket;\n",
       "    } else if (typeof(MozWebSocket) !== 'undefined') {\n",
       "        return MozWebSocket;\n",
       "    } else {\n",
       "        alert('Your browser does not have WebSocket support.' +\n",
       "              'Please try Chrome, Safari or Firefox ≥ 6. ' +\n",
       "              'Firefox 4 and 5 are also supported but you ' +\n",
       "              'have to enable WebSockets in about:config.');\n",
       "    };\n",
       "}\n",
       "\n",
       "mpl.figure = function(figure_id, websocket, ondownload, parent_element) {\n",
       "    this.id = figure_id;\n",
       "\n",
       "    this.ws = websocket;\n",
       "\n",
       "    this.supports_binary = (this.ws.binaryType != undefined);\n",
       "\n",
       "    if (!this.supports_binary) {\n",
       "        var warnings = document.getElementById(\"mpl-warnings\");\n",
       "        if (warnings) {\n",
       "            warnings.style.display = 'block';\n",
       "            warnings.textContent = (\n",
       "                \"This browser does not support binary websocket messages. \" +\n",
       "                    \"Performance may be slow.\");\n",
       "        }\n",
       "    }\n",
       "\n",
       "    this.imageObj = new Image();\n",
       "\n",
       "    this.context = undefined;\n",
       "    this.message = undefined;\n",
       "    this.canvas = undefined;\n",
       "    this.rubberband_canvas = undefined;\n",
       "    this.rubberband_context = undefined;\n",
       "    this.format_dropdown = undefined;\n",
       "\n",
       "    this.image_mode = 'full';\n",
       "\n",
       "    this.root = $('<div/>');\n",
       "    this._root_extra_style(this.root)\n",
       "    this.root.attr('style', 'display: inline-block');\n",
       "\n",
       "    $(parent_element).append(this.root);\n",
       "\n",
       "    this._init_header(this);\n",
       "    this._init_canvas(this);\n",
       "    this._init_toolbar(this);\n",
       "\n",
       "    var fig = this;\n",
       "\n",
       "    this.waiting = false;\n",
       "\n",
       "    this.ws.onopen =  function () {\n",
       "            fig.send_message(\"supports_binary\", {value: fig.supports_binary});\n",
       "            fig.send_message(\"send_image_mode\", {});\n",
       "            if (mpl.ratio != 1) {\n",
       "                fig.send_message(\"set_dpi_ratio\", {'dpi_ratio': mpl.ratio});\n",
       "            }\n",
       "            fig.send_message(\"refresh\", {});\n",
       "        }\n",
       "\n",
       "    this.imageObj.onload = function() {\n",
       "            if (fig.image_mode == 'full') {\n",
       "                // Full images could contain transparency (where diff images\n",
       "                // almost always do), so we need to clear the canvas so that\n",
       "                // there is no ghosting.\n",
       "                fig.context.clearRect(0, 0, fig.canvas.width, fig.canvas.height);\n",
       "            }\n",
       "            fig.context.drawImage(fig.imageObj, 0, 0);\n",
       "        };\n",
       "\n",
       "    this.imageObj.onunload = function() {\n",
       "        fig.ws.close();\n",
       "    }\n",
       "\n",
       "    this.ws.onmessage = this._make_on_message_function(this);\n",
       "\n",
       "    this.ondownload = ondownload;\n",
       "}\n",
       "\n",
       "mpl.figure.prototype._init_header = function() {\n",
       "    var titlebar = $(\n",
       "        '<div class=\"ui-dialog-titlebar ui-widget-header ui-corner-all ' +\n",
       "        'ui-helper-clearfix\"/>');\n",
       "    var titletext = $(\n",
       "        '<div class=\"ui-dialog-title\" style=\"width: 100%; ' +\n",
       "        'text-align: center; padding: 3px;\"/>');\n",
       "    titlebar.append(titletext)\n",
       "    this.root.append(titlebar);\n",
       "    this.header = titletext[0];\n",
       "}\n",
       "\n",
       "\n",
       "\n",
       "mpl.figure.prototype._canvas_extra_style = function(canvas_div) {\n",
       "\n",
       "}\n",
       "\n",
       "\n",
       "mpl.figure.prototype._root_extra_style = function(canvas_div) {\n",
       "\n",
       "}\n",
       "\n",
       "mpl.figure.prototype._init_canvas = function() {\n",
       "    var fig = this;\n",
       "\n",
       "    var canvas_div = $('<div/>');\n",
       "\n",
       "    canvas_div.attr('style', 'position: relative; clear: both; outline: 0');\n",
       "\n",
       "    function canvas_keyboard_event(event) {\n",
       "        return fig.key_event(event, event['data']);\n",
       "    }\n",
       "\n",
       "    canvas_div.keydown('key_press', canvas_keyboard_event);\n",
       "    canvas_div.keyup('key_release', canvas_keyboard_event);\n",
       "    this.canvas_div = canvas_div\n",
       "    this._canvas_extra_style(canvas_div)\n",
       "    this.root.append(canvas_div);\n",
       "\n",
       "    var canvas = $('<canvas/>');\n",
       "    canvas.addClass('mpl-canvas');\n",
       "    canvas.attr('style', \"left: 0; top: 0; z-index: 0; outline: 0\")\n",
       "\n",
       "    this.canvas = canvas[0];\n",
       "    this.context = canvas[0].getContext(\"2d\");\n",
       "\n",
       "    var backingStore = this.context.backingStorePixelRatio ||\n",
       "\tthis.context.webkitBackingStorePixelRatio ||\n",
       "\tthis.context.mozBackingStorePixelRatio ||\n",
       "\tthis.context.msBackingStorePixelRatio ||\n",
       "\tthis.context.oBackingStorePixelRatio ||\n",
       "\tthis.context.backingStorePixelRatio || 1;\n",
       "\n",
       "    mpl.ratio = (window.devicePixelRatio || 1) / backingStore;\n",
       "\n",
       "    var rubberband = $('<canvas/>');\n",
       "    rubberband.attr('style', \"position: absolute; left: 0; top: 0; z-index: 1;\")\n",
       "\n",
       "    var pass_mouse_events = true;\n",
       "\n",
       "    canvas_div.resizable({\n",
       "        start: function(event, ui) {\n",
       "            pass_mouse_events = false;\n",
       "        },\n",
       "        resize: function(event, ui) {\n",
       "            fig.request_resize(ui.size.width, ui.size.height);\n",
       "        },\n",
       "        stop: function(event, ui) {\n",
       "            pass_mouse_events = true;\n",
       "            fig.request_resize(ui.size.width, ui.size.height);\n",
       "        },\n",
       "    });\n",
       "\n",
       "    function mouse_event_fn(event) {\n",
       "        if (pass_mouse_events)\n",
       "            return fig.mouse_event(event, event['data']);\n",
       "    }\n",
       "\n",
       "    rubberband.mousedown('button_press', mouse_event_fn);\n",
       "    rubberband.mouseup('button_release', mouse_event_fn);\n",
       "    // Throttle sequential mouse events to 1 every 20ms.\n",
       "    rubberband.mousemove('motion_notify', mouse_event_fn);\n",
       "\n",
       "    rubberband.mouseenter('figure_enter', mouse_event_fn);\n",
       "    rubberband.mouseleave('figure_leave', mouse_event_fn);\n",
       "\n",
       "    canvas_div.on(\"wheel\", function (event) {\n",
       "        event = event.originalEvent;\n",
       "        event['data'] = 'scroll'\n",
       "        if (event.deltaY < 0) {\n",
       "            event.step = 1;\n",
       "        } else {\n",
       "            event.step = -1;\n",
       "        }\n",
       "        mouse_event_fn(event);\n",
       "    });\n",
       "\n",
       "    canvas_div.append(canvas);\n",
       "    canvas_div.append(rubberband);\n",
       "\n",
       "    this.rubberband = rubberband;\n",
       "    this.rubberband_canvas = rubberband[0];\n",
       "    this.rubberband_context = rubberband[0].getContext(\"2d\");\n",
       "    this.rubberband_context.strokeStyle = \"#000000\";\n",
       "\n",
       "    this._resize_canvas = function(width, height) {\n",
       "        // Keep the size of the canvas, canvas container, and rubber band\n",
       "        // canvas in synch.\n",
       "        canvas_div.css('width', width)\n",
       "        canvas_div.css('height', height)\n",
       "\n",
       "        canvas.attr('width', width * mpl.ratio);\n",
       "        canvas.attr('height', height * mpl.ratio);\n",
       "        canvas.attr('style', 'width: ' + width + 'px; height: ' + height + 'px;');\n",
       "\n",
       "        rubberband.attr('width', width);\n",
       "        rubberband.attr('height', height);\n",
       "    }\n",
       "\n",
       "    // Set the figure to an initial 600x600px, this will subsequently be updated\n",
       "    // upon first draw.\n",
       "    this._resize_canvas(600, 600);\n",
       "\n",
       "    // Disable right mouse context menu.\n",
       "    $(this.rubberband_canvas).bind(\"contextmenu\",function(e){\n",
       "        return false;\n",
       "    });\n",
       "\n",
       "    function set_focus () {\n",
       "        canvas.focus();\n",
       "        canvas_div.focus();\n",
       "    }\n",
       "\n",
       "    window.setTimeout(set_focus, 100);\n",
       "}\n",
       "\n",
       "mpl.figure.prototype._init_toolbar = function() {\n",
       "    var fig = this;\n",
       "\n",
       "    var nav_element = $('<div/>')\n",
       "    nav_element.attr('style', 'width: 100%');\n",
       "    this.root.append(nav_element);\n",
       "\n",
       "    // Define a callback function for later on.\n",
       "    function toolbar_event(event) {\n",
       "        return fig.toolbar_button_onclick(event['data']);\n",
       "    }\n",
       "    function toolbar_mouse_event(event) {\n",
       "        return fig.toolbar_button_onmouseover(event['data']);\n",
       "    }\n",
       "\n",
       "    for(var toolbar_ind in mpl.toolbar_items) {\n",
       "        var name = mpl.toolbar_items[toolbar_ind][0];\n",
       "        var tooltip = mpl.toolbar_items[toolbar_ind][1];\n",
       "        var image = mpl.toolbar_items[toolbar_ind][2];\n",
       "        var method_name = mpl.toolbar_items[toolbar_ind][3];\n",
       "\n",
       "        if (!name) {\n",
       "            // put a spacer in here.\n",
       "            continue;\n",
       "        }\n",
       "        var button = $('<button/>');\n",
       "        button.addClass('ui-button ui-widget ui-state-default ui-corner-all ' +\n",
       "                        'ui-button-icon-only');\n",
       "        button.attr('role', 'button');\n",
       "        button.attr('aria-disabled', 'false');\n",
       "        button.click(method_name, toolbar_event);\n",
       "        button.mouseover(tooltip, toolbar_mouse_event);\n",
       "\n",
       "        var icon_img = $('<span/>');\n",
       "        icon_img.addClass('ui-button-icon-primary ui-icon');\n",
       "        icon_img.addClass(image);\n",
       "        icon_img.addClass('ui-corner-all');\n",
       "\n",
       "        var tooltip_span = $('<span/>');\n",
       "        tooltip_span.addClass('ui-button-text');\n",
       "        tooltip_span.html(tooltip);\n",
       "\n",
       "        button.append(icon_img);\n",
       "        button.append(tooltip_span);\n",
       "\n",
       "        nav_element.append(button);\n",
       "    }\n",
       "\n",
       "    var fmt_picker_span = $('<span/>');\n",
       "\n",
       "    var fmt_picker = $('<select/>');\n",
       "    fmt_picker.addClass('mpl-toolbar-option ui-widget ui-widget-content');\n",
       "    fmt_picker_span.append(fmt_picker);\n",
       "    nav_element.append(fmt_picker_span);\n",
       "    this.format_dropdown = fmt_picker[0];\n",
       "\n",
       "    for (var ind in mpl.extensions) {\n",
       "        var fmt = mpl.extensions[ind];\n",
       "        var option = $(\n",
       "            '<option/>', {selected: fmt === mpl.default_extension}).html(fmt);\n",
       "        fmt_picker.append(option)\n",
       "    }\n",
       "\n",
       "    // Add hover states to the ui-buttons\n",
       "    $( \".ui-button\" ).hover(\n",
       "        function() { $(this).addClass(\"ui-state-hover\");},\n",
       "        function() { $(this).removeClass(\"ui-state-hover\");}\n",
       "    );\n",
       "\n",
       "    var status_bar = $('<span class=\"mpl-message\"/>');\n",
       "    nav_element.append(status_bar);\n",
       "    this.message = status_bar[0];\n",
       "}\n",
       "\n",
       "mpl.figure.prototype.request_resize = function(x_pixels, y_pixels) {\n",
       "    // Request matplotlib to resize the figure. Matplotlib will then trigger a resize in the client,\n",
       "    // which will in turn request a refresh of the image.\n",
       "    this.send_message('resize', {'width': x_pixels, 'height': y_pixels});\n",
       "}\n",
       "\n",
       "mpl.figure.prototype.send_message = function(type, properties) {\n",
       "    properties['type'] = type;\n",
       "    properties['figure_id'] = this.id;\n",
       "    this.ws.send(JSON.stringify(properties));\n",
       "}\n",
       "\n",
       "mpl.figure.prototype.send_draw_message = function() {\n",
       "    if (!this.waiting) {\n",
       "        this.waiting = true;\n",
       "        this.ws.send(JSON.stringify({type: \"draw\", figure_id: this.id}));\n",
       "    }\n",
       "}\n",
       "\n",
       "\n",
       "mpl.figure.prototype.handle_save = function(fig, msg) {\n",
       "    var format_dropdown = fig.format_dropdown;\n",
       "    var format = format_dropdown.options[format_dropdown.selectedIndex].value;\n",
       "    fig.ondownload(fig, format);\n",
       "}\n",
       "\n",
       "\n",
       "mpl.figure.prototype.handle_resize = function(fig, msg) {\n",
       "    var size = msg['size'];\n",
       "    if (size[0] != fig.canvas.width || size[1] != fig.canvas.height) {\n",
       "        fig._resize_canvas(size[0], size[1]);\n",
       "        fig.send_message(\"refresh\", {});\n",
       "    };\n",
       "}\n",
       "\n",
       "mpl.figure.prototype.handle_rubberband = function(fig, msg) {\n",
       "    var x0 = msg['x0'] / mpl.ratio;\n",
       "    var y0 = (fig.canvas.height - msg['y0']) / mpl.ratio;\n",
       "    var x1 = msg['x1'] / mpl.ratio;\n",
       "    var y1 = (fig.canvas.height - msg['y1']) / mpl.ratio;\n",
       "    x0 = Math.floor(x0) + 0.5;\n",
       "    y0 = Math.floor(y0) + 0.5;\n",
       "    x1 = Math.floor(x1) + 0.5;\n",
       "    y1 = Math.floor(y1) + 0.5;\n",
       "    var min_x = Math.min(x0, x1);\n",
       "    var min_y = Math.min(y0, y1);\n",
       "    var width = Math.abs(x1 - x0);\n",
       "    var height = Math.abs(y1 - y0);\n",
       "\n",
       "    fig.rubberband_context.clearRect(\n",
       "        0, 0, fig.canvas.width, fig.canvas.height);\n",
       "\n",
       "    fig.rubberband_context.strokeRect(min_x, min_y, width, height);\n",
       "}\n",
       "\n",
       "mpl.figure.prototype.handle_figure_label = function(fig, msg) {\n",
       "    // Updates the figure title.\n",
       "    fig.header.textContent = msg['label'];\n",
       "}\n",
       "\n",
       "mpl.figure.prototype.handle_cursor = function(fig, msg) {\n",
       "    var cursor = msg['cursor'];\n",
       "    switch(cursor)\n",
       "    {\n",
       "    case 0:\n",
       "        cursor = 'pointer';\n",
       "        break;\n",
       "    case 1:\n",
       "        cursor = 'default';\n",
       "        break;\n",
       "    case 2:\n",
       "        cursor = 'crosshair';\n",
       "        break;\n",
       "    case 3:\n",
       "        cursor = 'move';\n",
       "        break;\n",
       "    }\n",
       "    fig.rubberband_canvas.style.cursor = cursor;\n",
       "}\n",
       "\n",
       "mpl.figure.prototype.handle_message = function(fig, msg) {\n",
       "    fig.message.textContent = msg['message'];\n",
       "}\n",
       "\n",
       "mpl.figure.prototype.handle_draw = function(fig, msg) {\n",
       "    // Request the server to send over a new figure.\n",
       "    fig.send_draw_message();\n",
       "}\n",
       "\n",
       "mpl.figure.prototype.handle_image_mode = function(fig, msg) {\n",
       "    fig.image_mode = msg['mode'];\n",
       "}\n",
       "\n",
       "mpl.figure.prototype.updated_canvas_event = function() {\n",
       "    // Called whenever the canvas gets updated.\n",
       "    this.send_message(\"ack\", {});\n",
       "}\n",
       "\n",
       "// A function to construct a web socket function for onmessage handling.\n",
       "// Called in the figure constructor.\n",
       "mpl.figure.prototype._make_on_message_function = function(fig) {\n",
       "    return function socket_on_message(evt) {\n",
       "        if (evt.data instanceof Blob) {\n",
       "            /* FIXME: We get \"Resource interpreted as Image but\n",
       "             * transferred with MIME type text/plain:\" errors on\n",
       "             * Chrome.  But how to set the MIME type?  It doesn't seem\n",
       "             * to be part of the websocket stream */\n",
       "            evt.data.type = \"image/png\";\n",
       "\n",
       "            /* Free the memory for the previous frames */\n",
       "            if (fig.imageObj.src) {\n",
       "                (window.URL || window.webkitURL).revokeObjectURL(\n",
       "                    fig.imageObj.src);\n",
       "            }\n",
       "\n",
       "            fig.imageObj.src = (window.URL || window.webkitURL).createObjectURL(\n",
       "                evt.data);\n",
       "            fig.updated_canvas_event();\n",
       "            fig.waiting = false;\n",
       "            return;\n",
       "        }\n",
       "        else if (typeof evt.data === 'string' && evt.data.slice(0, 21) == \"data:image/png;base64\") {\n",
       "            fig.imageObj.src = evt.data;\n",
       "            fig.updated_canvas_event();\n",
       "            fig.waiting = false;\n",
       "            return;\n",
       "        }\n",
       "\n",
       "        var msg = JSON.parse(evt.data);\n",
       "        var msg_type = msg['type'];\n",
       "\n",
       "        // Call the  \"handle_{type}\" callback, which takes\n",
       "        // the figure and JSON message as its only arguments.\n",
       "        try {\n",
       "            var callback = fig[\"handle_\" + msg_type];\n",
       "        } catch (e) {\n",
       "            console.log(\"No handler for the '\" + msg_type + \"' message type: \", msg);\n",
       "            return;\n",
       "        }\n",
       "\n",
       "        if (callback) {\n",
       "            try {\n",
       "                // console.log(\"Handling '\" + msg_type + \"' message: \", msg);\n",
       "                callback(fig, msg);\n",
       "            } catch (e) {\n",
       "                console.log(\"Exception inside the 'handler_\" + msg_type + \"' callback:\", e, e.stack, msg);\n",
       "            }\n",
       "        }\n",
       "    };\n",
       "}\n",
       "\n",
       "// from http://stackoverflow.com/questions/1114465/getting-mouse-location-in-canvas\n",
       "mpl.findpos = function(e) {\n",
       "    //this section is from http://www.quirksmode.org/js/events_properties.html\n",
       "    var targ;\n",
       "    if (!e)\n",
       "        e = window.event;\n",
       "    if (e.target)\n",
       "        targ = e.target;\n",
       "    else if (e.srcElement)\n",
       "        targ = e.srcElement;\n",
       "    if (targ.nodeType == 3) // defeat Safari bug\n",
       "        targ = targ.parentNode;\n",
       "\n",
       "    // jQuery normalizes the pageX and pageY\n",
       "    // pageX,Y are the mouse positions relative to the document\n",
       "    // offset() returns the position of the element relative to the document\n",
       "    var x = e.pageX - $(targ).offset().left;\n",
       "    var y = e.pageY - $(targ).offset().top;\n",
       "\n",
       "    return {\"x\": x, \"y\": y};\n",
       "};\n",
       "\n",
       "/*\n",
       " * return a copy of an object with only non-object keys\n",
       " * we need this to avoid circular references\n",
       " * http://stackoverflow.com/a/24161582/3208463\n",
       " */\n",
       "function simpleKeys (original) {\n",
       "  return Object.keys(original).reduce(function (obj, key) {\n",
       "    if (typeof original[key] !== 'object')\n",
       "        obj[key] = original[key]\n",
       "    return obj;\n",
       "  }, {});\n",
       "}\n",
       "\n",
       "mpl.figure.prototype.mouse_event = function(event, name) {\n",
       "    var canvas_pos = mpl.findpos(event)\n",
       "\n",
       "    if (name === 'button_press')\n",
       "    {\n",
       "        this.canvas.focus();\n",
       "        this.canvas_div.focus();\n",
       "    }\n",
       "\n",
       "    var x = canvas_pos.x * mpl.ratio;\n",
       "    var y = canvas_pos.y * mpl.ratio;\n",
       "\n",
       "    this.send_message(name, {x: x, y: y, button: event.button,\n",
       "                             step: event.step,\n",
       "                             guiEvent: simpleKeys(event)});\n",
       "\n",
       "    /* This prevents the web browser from automatically changing to\n",
       "     * the text insertion cursor when the button is pressed.  We want\n",
       "     * to control all of the cursor setting manually through the\n",
       "     * 'cursor' event from matplotlib */\n",
       "    event.preventDefault();\n",
       "    return false;\n",
       "}\n",
       "\n",
       "mpl.figure.prototype._key_event_extra = function(event, name) {\n",
       "    // Handle any extra behaviour associated with a key event\n",
       "}\n",
       "\n",
       "mpl.figure.prototype.key_event = function(event, name) {\n",
       "\n",
       "    // Prevent repeat events\n",
       "    if (name == 'key_press')\n",
       "    {\n",
       "        if (event.which === this._key)\n",
       "            return;\n",
       "        else\n",
       "            this._key = event.which;\n",
       "    }\n",
       "    if (name == 'key_release')\n",
       "        this._key = null;\n",
       "\n",
       "    var value = '';\n",
       "    if (event.ctrlKey && event.which != 17)\n",
       "        value += \"ctrl+\";\n",
       "    if (event.altKey && event.which != 18)\n",
       "        value += \"alt+\";\n",
       "    if (event.shiftKey && event.which != 16)\n",
       "        value += \"shift+\";\n",
       "\n",
       "    value += 'k';\n",
       "    value += event.which.toString();\n",
       "\n",
       "    this._key_event_extra(event, name);\n",
       "\n",
       "    this.send_message(name, {key: value,\n",
       "                             guiEvent: simpleKeys(event)});\n",
       "    return false;\n",
       "}\n",
       "\n",
       "mpl.figure.prototype.toolbar_button_onclick = function(name) {\n",
       "    if (name == 'download') {\n",
       "        this.handle_save(this, null);\n",
       "    } else {\n",
       "        this.send_message(\"toolbar_button\", {name: name});\n",
       "    }\n",
       "};\n",
       "\n",
       "mpl.figure.prototype.toolbar_button_onmouseover = function(tooltip) {\n",
       "    this.message.textContent = tooltip;\n",
       "};\n",
       "mpl.toolbar_items = [[\"Home\", \"Reset original view\", \"fa fa-home icon-home\", \"home\"], [\"Back\", \"Back to previous view\", \"fa fa-arrow-left icon-arrow-left\", \"back\"], [\"Forward\", \"Forward to next view\", \"fa fa-arrow-right icon-arrow-right\", \"forward\"], [\"\", \"\", \"\", \"\"], [\"Pan\", \"Pan axes with left mouse, zoom with right\", \"fa fa-arrows icon-move\", \"pan\"], [\"Zoom\", \"Zoom to rectangle\", \"fa fa-square-o icon-check-empty\", \"zoom\"], [\"\", \"\", \"\", \"\"], [\"Download\", \"Download plot\", \"fa fa-floppy-o icon-save\", \"download\"]];\n",
       "\n",
       "mpl.extensions = [\"eps\", \"jpeg\", \"pdf\", \"png\", \"ps\", \"raw\", \"svg\", \"tif\"];\n",
       "\n",
       "mpl.default_extension = \"png\";var comm_websocket_adapter = function(comm) {\n",
       "    // Create a \"websocket\"-like object which calls the given IPython comm\n",
       "    // object with the appropriate methods. Currently this is a non binary\n",
       "    // socket, so there is still some room for performance tuning.\n",
       "    var ws = {};\n",
       "\n",
       "    ws.close = function() {\n",
       "        comm.close()\n",
       "    };\n",
       "    ws.send = function(m) {\n",
       "        //console.log('sending', m);\n",
       "        comm.send(m);\n",
       "    };\n",
       "    // Register the callback with on_msg.\n",
       "    comm.on_msg(function(msg) {\n",
       "        //console.log('receiving', msg['content']['data'], msg);\n",
       "        // Pass the mpl event to the overridden (by mpl) onmessage function.\n",
       "        ws.onmessage(msg['content']['data'])\n",
       "    });\n",
       "    return ws;\n",
       "}\n",
       "\n",
       "mpl.mpl_figure_comm = function(comm, msg) {\n",
       "    // This is the function which gets called when the mpl process\n",
       "    // starts-up an IPython Comm through the \"matplotlib\" channel.\n",
       "\n",
       "    var id = msg.content.data.id;\n",
       "    // Get hold of the div created by the display call when the Comm\n",
       "    // socket was opened in Python.\n",
       "    var element = $(\"#\" + id);\n",
       "    var ws_proxy = comm_websocket_adapter(comm)\n",
       "\n",
       "    function ondownload(figure, format) {\n",
       "        window.open(figure.imageObj.src);\n",
       "    }\n",
       "\n",
       "    var fig = new mpl.figure(id, ws_proxy,\n",
       "                           ondownload,\n",
       "                           element.get(0));\n",
       "\n",
       "    // Call onopen now - mpl needs it, as it is assuming we've passed it a real\n",
       "    // web socket which is closed, not our websocket->open comm proxy.\n",
       "    ws_proxy.onopen();\n",
       "\n",
       "    fig.parent_element = element.get(0);\n",
       "    fig.cell_info = mpl.find_output_cell(\"<div id='\" + id + \"'></div>\");\n",
       "    if (!fig.cell_info) {\n",
       "        console.error(\"Failed to find cell for figure\", id, fig);\n",
       "        return;\n",
       "    }\n",
       "\n",
       "    var output_index = fig.cell_info[2]\n",
       "    var cell = fig.cell_info[0];\n",
       "\n",
       "};\n",
       "\n",
       "mpl.figure.prototype.handle_close = function(fig, msg) {\n",
       "    var width = fig.canvas.width/mpl.ratio\n",
       "    fig.root.unbind('remove')\n",
       "\n",
       "    // Update the output cell to use the data from the current canvas.\n",
       "    fig.push_to_output();\n",
       "    var dataURL = fig.canvas.toDataURL();\n",
       "    // Re-enable the keyboard manager in IPython - without this line, in FF,\n",
       "    // the notebook keyboard shortcuts fail.\n",
       "    IPython.keyboard_manager.enable()\n",
       "    $(fig.parent_element).html('<img src=\"' + dataURL + '\" width=\"' + width + '\">');\n",
       "    fig.close_ws(fig, msg);\n",
       "}\n",
       "\n",
       "mpl.figure.prototype.close_ws = function(fig, msg){\n",
       "    fig.send_message('closing', msg);\n",
       "    // fig.ws.close()\n",
       "}\n",
       "\n",
       "mpl.figure.prototype.push_to_output = function(remove_interactive) {\n",
       "    // Turn the data on the canvas into data in the output cell.\n",
       "    var width = this.canvas.width/mpl.ratio\n",
       "    var dataURL = this.canvas.toDataURL();\n",
       "    this.cell_info[1]['text/html'] = '<img src=\"' + dataURL + '\" width=\"' + width + '\">';\n",
       "}\n",
       "\n",
       "mpl.figure.prototype.updated_canvas_event = function() {\n",
       "    // Tell IPython that the notebook contents must change.\n",
       "    IPython.notebook.set_dirty(true);\n",
       "    this.send_message(\"ack\", {});\n",
       "    var fig = this;\n",
       "    // Wait a second, then push the new image to the DOM so\n",
       "    // that it is saved nicely (might be nice to debounce this).\n",
       "    setTimeout(function () { fig.push_to_output() }, 1000);\n",
       "}\n",
       "\n",
       "mpl.figure.prototype._init_toolbar = function() {\n",
       "    var fig = this;\n",
       "\n",
       "    var nav_element = $('<div/>')\n",
       "    nav_element.attr('style', 'width: 100%');\n",
       "    this.root.append(nav_element);\n",
       "\n",
       "    // Define a callback function for later on.\n",
       "    function toolbar_event(event) {\n",
       "        return fig.toolbar_button_onclick(event['data']);\n",
       "    }\n",
       "    function toolbar_mouse_event(event) {\n",
       "        return fig.toolbar_button_onmouseover(event['data']);\n",
       "    }\n",
       "\n",
       "    for(var toolbar_ind in mpl.toolbar_items){\n",
       "        var name = mpl.toolbar_items[toolbar_ind][0];\n",
       "        var tooltip = mpl.toolbar_items[toolbar_ind][1];\n",
       "        var image = mpl.toolbar_items[toolbar_ind][2];\n",
       "        var method_name = mpl.toolbar_items[toolbar_ind][3];\n",
       "\n",
       "        if (!name) { continue; };\n",
       "\n",
       "        var button = $('<button class=\"btn btn-default\" href=\"#\" title=\"' + name + '\"><i class=\"fa ' + image + ' fa-lg\"></i></button>');\n",
       "        button.click(method_name, toolbar_event);\n",
       "        button.mouseover(tooltip, toolbar_mouse_event);\n",
       "        nav_element.append(button);\n",
       "    }\n",
       "\n",
       "    // Add the status bar.\n",
       "    var status_bar = $('<span class=\"mpl-message\" style=\"text-align:right; float: right;\"/>');\n",
       "    nav_element.append(status_bar);\n",
       "    this.message = status_bar[0];\n",
       "\n",
       "    // Add the close button to the window.\n",
       "    var buttongrp = $('<div class=\"btn-group inline pull-right\"></div>');\n",
       "    var button = $('<button class=\"btn btn-mini btn-primary\" href=\"#\" title=\"Stop Interaction\"><i class=\"fa fa-power-off icon-remove icon-large\"></i></button>');\n",
       "    button.click(function (evt) { fig.handle_close(fig, {}); } );\n",
       "    button.mouseover('Stop Interaction', toolbar_mouse_event);\n",
       "    buttongrp.append(button);\n",
       "    var titlebar = this.root.find($('.ui-dialog-titlebar'));\n",
       "    titlebar.prepend(buttongrp);\n",
       "}\n",
       "\n",
       "mpl.figure.prototype._root_extra_style = function(el){\n",
       "    var fig = this\n",
       "    el.on(\"remove\", function(){\n",
       "\tfig.close_ws(fig, {});\n",
       "    });\n",
       "}\n",
       "\n",
       "mpl.figure.prototype._canvas_extra_style = function(el){\n",
       "    // this is important to make the div 'focusable\n",
       "    el.attr('tabindex', 0)\n",
       "    // reach out to IPython and tell the keyboard manager to turn it's self\n",
       "    // off when our div gets focus\n",
       "\n",
       "    // location in version 3\n",
       "    if (IPython.notebook.keyboard_manager) {\n",
       "        IPython.notebook.keyboard_manager.register_events(el);\n",
       "    }\n",
       "    else {\n",
       "        // location in version 2\n",
       "        IPython.keyboard_manager.register_events(el);\n",
       "    }\n",
       "\n",
       "}\n",
       "\n",
       "mpl.figure.prototype._key_event_extra = function(event, name) {\n",
       "    var manager = IPython.notebook.keyboard_manager;\n",
       "    if (!manager)\n",
       "        manager = IPython.keyboard_manager;\n",
       "\n",
       "    // Check for shift+enter\n",
       "    if (event.shiftKey && event.which == 13) {\n",
       "        this.canvas_div.blur();\n",
       "        event.shiftKey = false;\n",
       "        // Send a \"J\" for go to next cell\n",
       "        event.which = 74;\n",
       "        event.keyCode = 74;\n",
       "        manager.command_mode();\n",
       "        manager.handle_keydown(event);\n",
       "    }\n",
       "}\n",
       "\n",
       "mpl.figure.prototype.handle_save = function(fig, msg) {\n",
       "    fig.ondownload(fig, null);\n",
       "}\n",
       "\n",
       "\n",
       "mpl.find_output_cell = function(html_output) {\n",
       "    // Return the cell and output element which can be found *uniquely* in the notebook.\n",
       "    // Note - this is a bit hacky, but it is done because the \"notebook_saving.Notebook\"\n",
       "    // IPython event is triggered only after the cells have been serialised, which for\n",
       "    // our purposes (turning an active figure into a static one), is too late.\n",
       "    var cells = IPython.notebook.get_cells();\n",
       "    var ncells = cells.length;\n",
       "    for (var i=0; i<ncells; i++) {\n",
       "        var cell = cells[i];\n",
       "        if (cell.cell_type === 'code'){\n",
       "            for (var j=0; j<cell.output_area.outputs.length; j++) {\n",
       "                var data = cell.output_area.outputs[j];\n",
       "                if (data.data) {\n",
       "                    // IPython >= 3 moved mimebundle to data attribute of output\n",
       "                    data = data.data;\n",
       "                }\n",
       "                if (data['text/html'] == html_output) {\n",
       "                    return [cell, data, j];\n",
       "                }\n",
       "            }\n",
       "        }\n",
       "    }\n",
       "}\n",
       "\n",
       "// Register the function which deals with the matplotlib target/channel.\n",
       "// The kernel may be null if the page has been refreshed.\n",
       "if (IPython.notebook.kernel != null) {\n",
       "    IPython.notebook.kernel.comm_manager.register_target('matplotlib', mpl.mpl_figure_comm);\n",
       "}\n"
      ],
      "text/plain": [
       "<IPython.core.display.Javascript object>"
      ]
     },
     "metadata": {},
     "output_type": "display_data"
    },
    {
     "data": {
      "text/html": [
       "<img src=\"data:image/png;base64,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\" width=\"640\">"
      ],
      "text/plain": [
       "<IPython.core.display.HTML object>"
      ]
     },
     "metadata": {},
     "output_type": "display_data"
    }
   ],
   "source": [
    "for index in range(5):\n",
    "\n",
    "    plt.figure()\n",
    "    plt.xlabel(names[index])\n",
    "    plt.plot(big_vep[index][:,0],big_vep[index][:,1],label='efficiency')\n",
    "    plt.plot(big_vep[index][:,0],big_vep[index][:,2],label='pureness')\n",
    "    plt.legend()\n",
    "    plt.show()"
   ]
  },
  {
   "cell_type": "code",
   "execution_count": 17,
   "metadata": {},
   "outputs": [
    {
     "data": {
      "application/vnd.jupyter.widget-view+json": {
       "model_id": "6ab58c6b1ca94a67bf6214b6450edd0b"
      }
     },
     "metadata": {},
     "output_type": "display_data"
    }
   ],
   "source": [
    "%matplotlib notebook\n",
    "big_c.plot(labels=labels)"
   ]
  },
  {
   "cell_type": "code",
   "execution_count": 2,
   "metadata": {},
   "outputs": [],
   "source": [
    "# joining Clusterizers\n",
    "path = './Clusterizers/280519/'\n",
    "c3b = Clusterizer.load_Clusterizer(path,'video3b_r6')\n",
    "c6 = Clusterizer.load_Clusterizer(path,'video6_r6')\n",
    "c7 = Clusterizer.load_Clusterizer(path,'video7_r6')\n",
    "c8 = Clusterizer.load_Clusterizer(path,'video8_r6')\n",
    "#c9 = Clusterizer.load_Clusterizer(path,'video9_r6') # low E field\n",
    "c1 = Clusterizer.load_Clusterizer('./Clusterizers/060619/','video1_r6')\n",
    "c2 = Clusterizer.load_Clusterizer('./Clusterizers/060619/','video2_r6')\n",
    "c3 = Clusterizer.load_Clusterizer('./Clusterizers/060619/','video3_r6')\n",
    "l0 = Clusterizer.load_Clusterizer('./Clusterizers/170619/','video1_r6')\n",
    "l1 = Clusterizer.load_Clusterizer('./Clusterizers/270619/','video1_r6')\n",
    "l2 = Clusterizer.load_Clusterizer('./Clusterizers/270619/','video2_r6')\n",
    "l3 = Clusterizer.load_Clusterizer('./Clusterizers/270619/','video3_r6')\n",
    "l4 = Clusterizer.load_Clusterizer('./Clusterizers/270619/','video4_r6')\n",
    "big_c = Clusterizer.join_Clusterizers([c3b,c6,c7,c8,c1,c2,c3,l0,l1,l2,l3,l4],'all')"
   ]
  },
  {
   "cell_type": "code",
   "execution_count": 21,
   "metadata": {},
   "outputs": [
    {
     "data": {
      "application/vnd.jupyter.widget-view+json": {
       "model_id": "9d4ff9943292467ebc1146c10b93d1f2"
      }
     },
     "metadata": {},
     "output_type": "display_data"
    }
   ],
   "source": [
    "\n",
    "#Clusterizer.plot_Clusterizers([c6,c7,c8,c9],['black','green','blue','red'])\n",
    "big_c.plot()"
   ]
  },
  {
   "cell_type": "code",
   "execution_count": null,
   "metadata": {},
   "outputs": [],
   "source": [
    "alpha_count = 0\n",
    "for i in big_c.labels:\n",
    "    if i == 1:\n",
    "        alpha_count += 1\n",
    "print(alpha_count)"
   ]
  },
  {
   "cell_type": "code",
   "execution_count": null,
   "metadata": {},
   "outputs": [],
   "source": [
    "# tryes with plt\n",
    "\n",
    "\n",
    "\n",
    "%matplotlib notebook\n",
    "\n",
    "def plot(i):\n",
    "    x = np.arange(0,10)\n",
    "    y = x**i\n",
    "    la = np.ones(10)\n",
    "    \n",
    "\n",
    "    fig, ax = plt.subplots()\n",
    "    ax = plt.scatter(x,y,c=la)\n",
    "\n",
    "\n",
    "\n",
    "    def onclick(event):\n",
    "        global ex,ey,ix,iy\n",
    "        ix = event.xdata\n",
    "        iy = event.ydata\n",
    "        #ax = plt.scatter(ix,iy)\n",
    "        \n",
    "    def onpress(event):\n",
    "        if event.key == 'a':\n",
    "            ax = plt.scatter(ix,iy)\n",
    "        elif event.key == 'w':\n",
    "            os.system('killall eog')\n",
    "        elif event.key == 't':\n",
    "            os.system('eog test.jpg &')\n",
    "        elif event.key == 'd':\n",
    "            ax = plt.suptitle('you pressed d')\n",
    "        elif event.key == 'f':\n",
    "            ax = plt.suptitle('you pressed f')\n",
    "            \n",
    "    cid = fig.canvas.mpl_connect('button_press_event', onclick)\n",
    "    cid2 = fig.canvas.mpl_connect('key_press_event', onpress)\n",
    "\n",
    "ipywidgets.interact(plot, i=[1,2,3,4])"
   ]
  },
  {
   "cell_type": "code",
   "execution_count": null,
   "metadata": {},
   "outputs": [],
   "source": [
    "print(ex,ey,ix,iy)"
   ]
  },
  {
   "cell_type": "code",
   "execution_count": null,
   "metadata": {},
   "outputs": [],
   "source": [
    "ID = os.system('eog test.jpg')\n",
    "print(ID)"
   ]
  },
  {
   "cell_type": "code",
   "execution_count": null,
   "metadata": {},
   "outputs": [],
   "source": [
    "def plot(i):\n",
    "    x = np.arange(0,10)\n",
    "    y = x**i\n",
    "\n",
    "    fig, ax = plt.subplots()\n",
    "    ax = plt.scatter(x,y)\n",
    "    ax = plt.suptitle('ciao')\n",
    "plot(2)"
   ]
  },
  {
   "cell_type": "code",
   "execution_count": null,
   "metadata": {},
   "outputs": [],
   "source": [
    "a = 'x %d, y %.2f, ' % (13.6,3.14159265)\n",
    "print(a)"
   ]
  },
  {
   "cell_type": "code",
   "execution_count": null,
   "metadata": {},
   "outputs": [],
   "source": [
    "X = d.values[:,3]\n",
    "plt.figure()\n",
    "plt.hist(X,bins=30,histtype='step')\n",
    "plt.show()"
   ]
  },
  {
   "cell_type": "code",
   "execution_count": null,
   "metadata": {},
   "outputs": [],
   "source": [
    "color_list = ['black','yellow','green']\n",
    "\n",
    "\n",
    "def color(n):\n",
    "    if type(n) == int:\n",
    "        return color_list[n%len(color_list)]\n",
    "    elif type(n) == np.ndarray:\n",
    "        r = []\n",
    "        for nn in n:\n",
    "            r.append(color_list[nn%len(color_list)])\n",
    "        return np.array(r)\n",
    "    else:\n",
    "        raise TypeError\n",
    "\n"
   ]
  },
  {
   "cell_type": "code",
   "execution_count": null,
   "metadata": {},
   "outputs": [],
   "source": [
    "a = 0\n",
    "color(a)"
   ]
  },
  {
   "cell_type": "code",
   "execution_count": null,
   "metadata": {},
   "outputs": [],
   "source": []
  }
 ],
 "metadata": {
  "kernelspec": {
   "display_name": "Python 3",
   "language": "python",
   "name": "python3"
  },
  "language_info": {
   "codemirror_mode": {
    "name": "ipython",
    "version": 3
   },
   "file_extension": ".py",
   "mimetype": "text/x-python",
   "name": "python",
   "nbconvert_exporter": "python",
   "pygments_lexer": "ipython3",
   "version": "3.7.3"
  }
 },
 "nbformat": 4,
 "nbformat_minor": 2
}
