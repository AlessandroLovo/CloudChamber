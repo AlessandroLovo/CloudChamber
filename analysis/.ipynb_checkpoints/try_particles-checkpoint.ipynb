{
 "cells": [
  {
   "cell_type": "code",
   "execution_count": 1,
   "metadata": {},
   "outputs": [],
   "source": [
    "from Trace import Trace\n",
    "import Particle\n",
    "import Clusterizer\n",
    "\n",
    "import numpy as np\n",
    "import matplotlib.pyplot as plt\n",
    "import ipywidgets\n",
    "import os"
   ]
  },
  {
   "cell_type": "code",
   "execution_count": null,
   "metadata": {},
   "outputs": [],
   "source": [
    "# try to join_particles\n",
    "\n",
    "folder = '../../pre-processed_data/280519/video7_000/trigger_thr0.005_cl9_op3/cc_filtered_2den0.81_gausrad2.0/'\n",
    "\n",
    "particles, n_particles = Particle.Join_Particles(folder=folder)"
   ]
  },
  {
   "cell_type": "code",
   "execution_count": 3,
   "metadata": {},
   "outputs": [
    {
     "name": "stderr",
     "output_type": "stream",
     "text": [
      "\r",
      "  0%|          | 0/38 [00:00<?, ?it/s]"
     ]
    },
    {
     "name": "stdout",
     "output_type": "stream",
     "text": [
      "found video2_009/trigger_thr0.005_cl9_op3/cc_filtered_2den0.81_gausrad2.0/\n",
      "found video3_019/trigger_thr0.005_cl9_op3/cc_filtered_2den0.81_gausrad2.0/\n",
      "found video4_009/trigger_thr0.005_cl9_op3/cc_filtered_2den0.81_gausrad2.0/\n"
     ]
    },
    {
     "name": "stderr",
     "output_type": "stream",
     "text": [
      "\r",
      "  3%|▎         | 1/38 [00:00<00:27,  1.35it/s]"
     ]
    },
    {
     "name": "stdout",
     "output_type": "stream",
     "text": [
      "\n",
      "mean_270619-video4_009-005_opened_cc21.png is INTERESTING\n"
     ]
    },
    {
     "name": "stderr",
     "output_type": "stream",
     "text": [
      "\r",
      "  5%|▌         | 2/38 [00:01<00:26,  1.37it/s]"
     ]
    },
    {
     "name": "stdout",
     "output_type": "stream",
     "text": [
      "\n",
      "mean_270619-video4_009-005_opened_cc29.png: too spherical 9.10099709608189\n"
     ]
    },
    {
     "name": "stderr",
     "output_type": "stream",
     "text": [
      "\r",
      "  8%|▊         | 3/38 [00:02<00:26,  1.33it/s]"
     ]
    },
    {
     "name": "stdout",
     "output_type": "stream",
     "text": [
      "\n",
      "mean_270619-video4_009-005_opened_cc40.png is INTERESTING\n"
     ]
    },
    {
     "name": "stderr",
     "output_type": "stream",
     "text": [
      "\r",
      " 11%|█         | 4/38 [00:02<00:25,  1.36it/s]"
     ]
    },
    {
     "name": "stdout",
     "output_type": "stream",
     "text": [
      "\n",
      "mean_270619-video4_009-005_opened_cc41.png: too spherical 6.293966694190389\n"
     ]
    },
    {
     "name": "stderr",
     "output_type": "stream",
     "text": [
      "\r",
      " 13%|█▎        | 5/38 [00:03<00:24,  1.37it/s]"
     ]
    },
    {
     "name": "stdout",
     "output_type": "stream",
     "text": [
      "\n",
      "mean_270619-video4_009-006_opened_cc08.png: too spherical 1.7394570587905964\n"
     ]
    },
    {
     "name": "stderr",
     "output_type": "stream",
     "text": [
      "\r",
      " 16%|█▌        | 6/38 [00:04<00:23,  1.37it/s]"
     ]
    },
    {
     "name": "stdout",
     "output_type": "stream",
     "text": [
      "\n",
      "mean_270619-video4_009-006_opened_cc14.png: too spherical 9.251493219967\n"
     ]
    },
    {
     "name": "stderr",
     "output_type": "stream",
     "text": [
      "\r",
      " 18%|█▊        | 7/38 [00:05<00:22,  1.37it/s]"
     ]
    },
    {
     "name": "stdout",
     "output_type": "stream",
     "text": [
      "\n",
      "mean_270619-video4_009-006_opened_cc22.png: too spherical 2.2378539686622507\n"
     ]
    },
    {
     "name": "stderr",
     "output_type": "stream",
     "text": [
      "\r",
      " 21%|██        | 8/38 [00:05<00:21,  1.37it/s]"
     ]
    },
    {
     "name": "stdout",
     "output_type": "stream",
     "text": [
      "\n",
      "mean_270619-video4_009-006_opened_cc38.png: too spherical 2.113129612409053\n",
      "\n",
      "mean_270619-video4_009-006_opened_cc68.png is INTERESTING\n",
      "\n",
      "video4_009-005-video4_009-006: overlap = 0.0\n"
     ]
    },
    {
     "name": "stderr",
     "output_type": "stream",
     "text": [
      "\r",
      " 24%|██▎       | 9/38 [00:07<00:33,  1.14s/it]"
     ]
    },
    {
     "name": "stdout",
     "output_type": "stream",
     "text": [
      "\n",
      "video4_009-005-video4_009-006: overlap = 0.8094887826406767\n"
     ]
    },
    {
     "name": "stderr",
     "output_type": "stream",
     "text": [
      "\r",
      " 26%|██▋       | 10/38 [00:08<00:28,  1.03s/it]"
     ]
    },
    {
     "name": "stdout",
     "output_type": "stream",
     "text": [
      "\n",
      "mean_270619-video4_009-007_opened_cc04.png: too spherical 2.7748995107686403\n",
      "\n",
      "mean_270619-video4_009-007_opened_cc05.png is INTERESTING\n"
     ]
    },
    {
     "name": "stderr",
     "output_type": "stream",
     "text": [
      "\r",
      " 29%|██▉       | 11/38 [00:10<00:30,  1.13s/it]"
     ]
    },
    {
     "name": "stdout",
     "output_type": "stream",
     "text": [
      "\n",
      "video4_009-006-video4_009-007: overlap = 0.0\n"
     ]
    },
    {
     "name": "stderr",
     "output_type": "stream",
     "text": [
      "\r",
      " 32%|███▏      | 12/38 [00:10<00:27,  1.06s/it]"
     ]
    },
    {
     "name": "stdout",
     "output_type": "stream",
     "text": [
      "\n",
      "mean_270619-video4_009-007_opened_cc22.png: too spherical 8.002731811830646\n"
     ]
    },
    {
     "name": "stderr",
     "output_type": "stream",
     "text": [
      "\r",
      " 34%|███▍      | 13/38 [00:11<00:23,  1.05it/s]"
     ]
    },
    {
     "name": "stdout",
     "output_type": "stream",
     "text": [
      "\n",
      "mean_270619-video4_009-007_opened_cc27.png: too spherical 3.78850457903882\n"
     ]
    },
    {
     "name": "stderr",
     "output_type": "stream",
     "text": [
      "\r",
      " 37%|███▋      | 14/38 [00:12<00:21,  1.12it/s]"
     ]
    },
    {
     "name": "stdout",
     "output_type": "stream",
     "text": [
      "\n",
      "mean_270619-video4_009-007_opened_cc37.png: too spherical 6.001692175760022\n",
      "\n",
      "mean_270619-video4_009-007_opened_cc91.png is INTERESTING\n"
     ]
    },
    {
     "name": "stderr",
     "output_type": "stream",
     "text": [
      "\r",
      " 39%|███▉      | 15/38 [00:13<00:24,  1.05s/it]"
     ]
    },
    {
     "name": "stdout",
     "output_type": "stream",
     "text": [
      "\n",
      "video4_009-006-video4_009-007: overlap = 0.0\n"
     ]
    },
    {
     "name": "stderr",
     "output_type": "stream",
     "text": [
      "\r",
      " 42%|████▏     | 16/38 [00:14<00:20,  1.05it/s]"
     ]
    },
    {
     "name": "stdout",
     "output_type": "stream",
     "text": [
      "\n",
      "mean_270619-video4_009-007_opened_cc96.png: too spherical 8.568492901650936\n"
     ]
    },
    {
     "name": "stderr",
     "output_type": "stream",
     "text": [
      "\r",
      " 45%|████▍     | 17/38 [00:15<00:19,  1.08it/s]"
     ]
    },
    {
     "name": "stdout",
     "output_type": "stream",
     "text": [
      "\n",
      "mean_270619-video4_009-008_opened_cc03.png: too spherical 5.729311941469321\n"
     ]
    },
    {
     "name": "stderr",
     "output_type": "stream",
     "text": [
      "\r",
      " 47%|████▋     | 18/38 [00:16<00:17,  1.16it/s]"
     ]
    },
    {
     "name": "stdout",
     "output_type": "stream",
     "text": [
      "\n",
      "mean_270619-video4_009-008_opened_cc10.png: too spherical 7.50367982024484\n"
     ]
    },
    {
     "name": "stderr",
     "output_type": "stream",
     "text": [
      "\r",
      " 50%|█████     | 19/38 [00:16<00:15,  1.21it/s]"
     ]
    },
    {
     "name": "stdout",
     "output_type": "stream",
     "text": [
      "\n",
      "mean_270619-video4_009-008_opened_cc13.png: too spherical 1.9609796292532629\n"
     ]
    },
    {
     "name": "stderr",
     "output_type": "stream",
     "text": [
      "\r",
      " 53%|█████▎    | 20/38 [00:17<00:14,  1.28it/s]"
     ]
    },
    {
     "name": "stdout",
     "output_type": "stream",
     "text": [
      "\n",
      "mean_270619-video4_009-008_opened_cc38.png: too spherical 3.226060460788662\n"
     ]
    },
    {
     "name": "stderr",
     "output_type": "stream",
     "text": [
      "\r",
      " 55%|█████▌    | 21/38 [00:18<00:13,  1.26it/s]"
     ]
    },
    {
     "name": "stdout",
     "output_type": "stream",
     "text": [
      "\n",
      "mean_270619-video4_009-008_opened_cc47.png: too spherical 1.9419196337779856\n"
     ]
    },
    {
     "name": "stderr",
     "output_type": "stream",
     "text": [
      "\r",
      " 58%|█████▊    | 22/38 [00:19<00:12,  1.28it/s]"
     ]
    },
    {
     "name": "stdout",
     "output_type": "stream",
     "text": [
      "\n",
      "mean_270619-video4_009-008_opened_cc51.png: too spherical 5.717365504987886\n"
     ]
    },
    {
     "name": "stderr",
     "output_type": "stream",
     "text": [
      "\r",
      " 61%|██████    | 23/38 [00:19<00:11,  1.31it/s]"
     ]
    },
    {
     "name": "stdout",
     "output_type": "stream",
     "text": [
      "\n",
      "mean_270619-video4_009-008_opened_cc69.png: too spherical 2.490123353135953\n"
     ]
    },
    {
     "name": "stderr",
     "output_type": "stream",
     "text": [
      "\r",
      " 63%|██████▎   | 24/38 [00:20<00:10,  1.33it/s]"
     ]
    },
    {
     "name": "stdout",
     "output_type": "stream",
     "text": [
      "\n",
      "mean_270619-video4_009-009_opened_cc10.png is INTERESTING\n"
     ]
    },
    {
     "name": "stderr",
     "output_type": "stream",
     "text": [
      "\r",
      " 66%|██████▌   | 25/38 [00:21<00:09,  1.33it/s]"
     ]
    },
    {
     "name": "stdout",
     "output_type": "stream",
     "text": [
      "\n",
      "mean_270619-video4_009-009_opened_cc16.png: too spherical 2.225730322680358\n"
     ]
    },
    {
     "name": "stderr",
     "output_type": "stream",
     "text": [
      "\r",
      " 68%|██████▊   | 26/38 [00:22<00:08,  1.35it/s]"
     ]
    },
    {
     "name": "stdout",
     "output_type": "stream",
     "text": [
      "\n",
      "mean_270619-video4_009-009_opened_cc20.png is INTERESTING\n"
     ]
    },
    {
     "name": "stderr",
     "output_type": "stream",
     "text": [
      "\r",
      " 71%|███████   | 27/38 [00:22<00:08,  1.36it/s]"
     ]
    },
    {
     "name": "stdout",
     "output_type": "stream",
     "text": [
      "\n",
      "mean_270619-video4_009-009_opened_cc23.png is INTERESTING\n",
      "\n",
      "mean_270619-video4_009-010_opened_cc36.png is INTERESTING\n",
      "\n",
      "video4_009-009-video4_009-010: overlap = 0.0\n",
      "\n",
      "video4_009-009-video4_009-010: overlap = 0.0\n"
     ]
    },
    {
     "name": "stderr",
     "output_type": "stream",
     "text": [
      "\r",
      " 74%|███████▎  | 28/38 [00:25<00:13,  1.32s/it]"
     ]
    },
    {
     "name": "stdout",
     "output_type": "stream",
     "text": [
      "\n",
      "video4_009-009-video4_009-010: overlap = 0.0\n"
     ]
    },
    {
     "name": "stderr",
     "output_type": "stream",
     "text": [
      "\r",
      " 76%|███████▋  | 29/38 [00:26<00:10,  1.14s/it]"
     ]
    },
    {
     "name": "stdout",
     "output_type": "stream",
     "text": [
      "\n",
      "mean_270619-video4_009-010_opened_cc40.png: too spherical 3.951561873525848\n"
     ]
    },
    {
     "name": "stderr",
     "output_type": "stream",
     "text": [
      "\r",
      " 79%|███████▉  | 30/38 [00:26<00:08,  1.01s/it]"
     ]
    },
    {
     "name": "stdout",
     "output_type": "stream",
     "text": [
      "\n",
      "mean_270619-video4_009-010_opened_cc41.png: too spherical 6.2089464571180155\n",
      "\n",
      "mean_270619-video4_009-010_opened_cc61.png is INTERESTING\n",
      "\n",
      "video4_009-009-video4_009-010: overlap = 0.0\n",
      "\n",
      "video4_009-009-video4_009-010: overlap = 0.0\n"
     ]
    },
    {
     "name": "stderr",
     "output_type": "stream",
     "text": [
      "\r",
      " 82%|████████▏ | 31/38 [00:29<00:10,  1.51s/it]"
     ]
    },
    {
     "name": "stdout",
     "output_type": "stream",
     "text": [
      "\n",
      "video4_009-009-video4_009-010: overlap = 0.8702057404114808\n"
     ]
    },
    {
     "name": "stderr",
     "output_type": "stream",
     "text": [
      "\r",
      " 84%|████████▍ | 32/38 [00:30<00:07,  1.27s/it]"
     ]
    },
    {
     "name": "stdout",
     "output_type": "stream",
     "text": [
      "\n",
      "mean_270619-video4_009-047_opened_cc01.png: too spherical 3.4859609214829117\n"
     ]
    },
    {
     "name": "stderr",
     "output_type": "stream",
     "text": [
      "\r",
      " 87%|████████▋ | 33/38 [00:31<00:05,  1.11s/it]"
     ]
    },
    {
     "name": "stdout",
     "output_type": "stream",
     "text": [
      "\n",
      "mean_270619-video4_009-047_opened_cc34.png: too spherical 4.551898316346604\n"
     ]
    },
    {
     "name": "stderr",
     "output_type": "stream",
     "text": [
      "\r",
      " 89%|████████▉ | 34/38 [00:31<00:03,  1.00it/s]"
     ]
    },
    {
     "name": "stdout",
     "output_type": "stream",
     "text": [
      "\n",
      "mean_270619-video4_009-047_opened_cc37.png: too spherical 1.878123692684032\n"
     ]
    },
    {
     "name": "stderr",
     "output_type": "stream",
     "text": [
      "\r",
      " 92%|█████████▏| 35/38 [00:32<00:02,  1.07it/s]"
     ]
    },
    {
     "name": "stdout",
     "output_type": "stream",
     "text": [
      "\n",
      "mean_270619-video4_009-048_opened_cc49.png: too spherical 2.508296457632487\n"
     ]
    },
    {
     "name": "stderr",
     "output_type": "stream",
     "text": [
      "\r",
      " 95%|█████████▍| 36/38 [00:33<00:01,  1.13it/s]"
     ]
    },
    {
     "name": "stdout",
     "output_type": "stream",
     "text": [
      "\n",
      "mean_270619-video4_009-048_opened_cc50.png: too spherical 8.159171480045668\n",
      "\n",
      "mean_270619-video4_009-006_opened_cc57.png is INTERESTING\n"
     ]
    },
    {
     "name": "stderr",
     "output_type": "stream",
     "text": [
      "\r",
      " 97%|█████████▋| 37/38 [00:34<00:01,  1.03s/it]"
     ]
    },
    {
     "name": "stdout",
     "output_type": "stream",
     "text": [
      "\n",
      "video4_009-005-video4_009-006: overlap = 0.0\n"
     ]
    },
    {
     "name": "stderr",
     "output_type": "stream",
     "text": [
      "100%|██████████| 38/38 [00:35<00:00,  1.08it/s]\n",
      "  0%|          | 0/73 [00:00<?, ?it/s]"
     ]
    },
    {
     "name": "stdout",
     "output_type": "stream",
     "text": [
      "\n",
      "mean_270619-video4_009-008_opened_cc19.png: too spherical 4.905301564853664\n",
      "found video1_000/trigger_thr0.005_cl9_op3/cc_filtered_2den0.81_gausrad2.0/\n",
      "found video1_001/trigger_thr0.005_cl9_op3/cc_filtered_2den0.81_gausrad2.0/\n",
      "found video1_002/trigger_thr0.005_cl9_op3/cc_filtered_2den0.81_gausrad2.0/\n",
      "found video1_003/trigger_thr0.005_cl9_op3/cc_filtered_2den0.81_gausrad2.0/\n",
      "found video1_004/trigger_thr0.005_cl9_op3/cc_filtered_2den0.81_gausrad2.0/\n",
      "found video1_005/trigger_thr0.005_cl9_op3/cc_filtered_2den0.81_gausrad2.0/\n",
      "found video1_006/trigger_thr0.005_cl9_op3/cc_filtered_2den0.81_gausrad2.0/\n",
      "found video1_007/trigger_thr0.005_cl9_op3/cc_filtered_2den0.81_gausrad2.0/\n",
      "found video1_008/trigger_thr0.005_cl9_op3/cc_filtered_2den0.81_gausrad2.0/\n",
      "found video1_009/trigger_thr0.005_cl9_op3/cc_filtered_2den0.81_gausrad2.0/\n",
      "found video2_000/trigger_thr0.005_cl9_op3/cc_filtered_2den0.81_gausrad2.0/\n",
      "found video2_001/trigger_thr0.005_cl9_op3/cc_filtered_2den0.81_gausrad2.0/\n",
      "found video2_002/trigger_thr0.005_cl9_op3/cc_filtered_2den0.81_gausrad2.0/\n",
      "found video2_003/trigger_thr0.005_cl9_op3/cc_filtered_2den0.81_gausrad2.0/\n",
      "found video2_004/trigger_thr0.005_cl9_op3/cc_filtered_2den0.81_gausrad2.0/\n",
      "found video2_005/trigger_thr0.005_cl9_op3/cc_filtered_2den0.81_gausrad2.0/\n",
      "found video2_006/trigger_thr0.005_cl9_op3/cc_filtered_2den0.81_gausrad2.0/\n",
      "found video2_007/trigger_thr0.005_cl9_op3/cc_filtered_2den0.81_gausrad2.0/\n",
      "found video2_008/trigger_thr0.005_cl9_op3/cc_filtered_2den0.81_gausrad2.0/\n",
      "found video3_000/trigger_thr0.005_cl9_op3/cc_filtered_2den0.81_gausrad2.0/\n",
      "found video3_001/trigger_thr0.005_cl9_op3/cc_filtered_2den0.81_gausrad2.0/\n",
      "found video3_002/trigger_thr0.005_cl9_op3/cc_filtered_2den0.81_gausrad2.0/\n",
      "found video3_003/trigger_thr0.005_cl9_op3/cc_filtered_2den0.81_gausrad2.0/\n",
      "found video3_004/trigger_thr0.005_cl9_op3/cc_filtered_2den0.81_gausrad2.0/\n",
      "found video3_005/trigger_thr0.005_cl9_op3/cc_filtered_2den0.81_gausrad2.0/\n",
      "found video3_006/trigger_thr0.005_cl9_op3/cc_filtered_2den0.81_gausrad2.0/\n",
      "found video3_007/trigger_thr0.005_cl9_op3/cc_filtered_2den0.81_gausrad2.0/\n",
      "found video3_008/trigger_thr0.005_cl9_op3/cc_filtered_2den0.81_gausrad2.0/\n",
      "found video3_009/trigger_thr0.005_cl9_op3/cc_filtered_2den0.81_gausrad2.0/\n",
      "found video3_010/trigger_thr0.005_cl9_op3/cc_filtered_2den0.81_gausrad2.0/\n",
      "found video3_011/trigger_thr0.005_cl9_op3/cc_filtered_2den0.81_gausrad2.0/\n",
      "found video3_012/trigger_thr0.005_cl9_op3/cc_filtered_2den0.81_gausrad2.0/\n",
      "found video3_013/trigger_thr0.005_cl9_op3/cc_filtered_2den0.81_gausrad2.0/\n",
      "found video3_014/trigger_thr0.005_cl9_op3/cc_filtered_2den0.81_gausrad2.0/\n",
      "found video3_015/trigger_thr0.005_cl9_op3/cc_filtered_2den0.81_gausrad2.0/\n",
      "found video3_016/trigger_thr0.005_cl9_op3/cc_filtered_2den0.81_gausrad2.0/\n",
      "found video3_017/trigger_thr0.005_cl9_op3/cc_filtered_2den0.81_gausrad2.0/\n",
      "found video3_018/trigger_thr0.005_cl9_op3/cc_filtered_2den0.81_gausrad2.0/\n",
      "found video3_020/trigger_thr0.005_cl9_op3/cc_filtered_2den0.81_gausrad2.0/\n",
      "found video3_021/trigger_thr0.005_cl9_op3/cc_filtered_2den0.81_gausrad2.0/\n",
      "found video3_022/trigger_thr0.005_cl9_op3/cc_filtered_2den0.81_gausrad2.0/\n",
      "found video3_023/trigger_thr0.005_cl9_op3/cc_filtered_2den0.81_gausrad2.0/\n",
      "found video3_024/trigger_thr0.005_cl9_op3/cc_filtered_2den0.81_gausrad2.0/\n",
      "found video3_025/trigger_thr0.005_cl9_op3/cc_filtered_2den0.81_gausrad2.0/\n",
      "found video3_026/trigger_thr0.005_cl9_op3/cc_filtered_2den0.81_gausrad2.0/\n",
      "found video3_027/trigger_thr0.005_cl9_op3/cc_filtered_2den0.81_gausrad2.0/\n",
      "found video3_028/trigger_thr0.005_cl9_op3/cc_filtered_2den0.81_gausrad2.0/\n",
      "found video3_029/trigger_thr0.005_cl9_op3/cc_filtered_2den0.81_gausrad2.0/\n",
      "found video4_000/trigger_thr0.005_cl9_op3/cc_filtered_2den0.81_gausrad2.0/\n"
     ]
    },
    {
     "name": "stderr",
     "output_type": "stream",
     "text": [
      "\r",
      "  1%|▏         | 1/73 [00:00<00:53,  1.35it/s]"
     ]
    },
    {
     "name": "stdout",
     "output_type": "stream",
     "text": [
      "\n",
      "mean_270619-video4_000-023_opened_cc15.png is INTERESTING\n"
     ]
    },
    {
     "name": "stderr",
     "output_type": "stream",
     "text": [
      "\r",
      "  3%|▎         | 2/73 [00:01<00:52,  1.36it/s]"
     ]
    },
    {
     "name": "stdout",
     "output_type": "stream",
     "text": [
      "\n",
      "mean_270619-video4_000-023_opened_cc17.png is INTERESTING\n"
     ]
    },
    {
     "name": "stderr",
     "output_type": "stream",
     "text": [
      "\r",
      "  4%|▍         | 3/73 [00:02<00:51,  1.37it/s]"
     ]
    },
    {
     "name": "stdout",
     "output_type": "stream",
     "text": [
      "\n",
      "mean_270619-video4_000-023_opened_cc20.png: too spherical 5.834871680123845\n"
     ]
    },
    {
     "name": "stderr",
     "output_type": "stream",
     "text": [
      "\r",
      "  5%|▌         | 4/73 [00:02<00:49,  1.39it/s]"
     ]
    },
    {
     "name": "stdout",
     "output_type": "stream",
     "text": [
      "\n",
      "mean_270619-video4_000-023_opened_cc37.png is INTERESTING\n"
     ]
    },
    {
     "name": "stderr",
     "output_type": "stream",
     "text": [
      "\r",
      "  7%|▋         | 5/73 [00:03<00:48,  1.39it/s]"
     ]
    },
    {
     "name": "stdout",
     "output_type": "stream",
     "text": [
      "\n",
      "mean_270619-video4_000-024_opened_cc18.png: too spherical 4.055249565418009\n",
      "\n",
      "mean_270619-video4_000-024_opened_cc19.png is INTERESTING\n",
      "\n",
      "video4_000-023-video4_000-024: overlap = 0.3209796970673542\n",
      "\n",
      "video4_000-023-video4_000-024: overlap = 0.0\n"
     ]
    },
    {
     "name": "stderr",
     "output_type": "stream",
     "text": [
      "\r",
      "  8%|▊         | 6/73 [00:06<01:27,  1.31s/it]"
     ]
    },
    {
     "name": "stdout",
     "output_type": "stream",
     "text": [
      "\n",
      "video4_000-023-video4_000-024: overlap = 0.0\n",
      "\n",
      "mean_270619-video4_000-024_opened_cc23.png is INTERESTING\n",
      "\n",
      "video4_000-023-video4_000-024: overlap = 0.0\n",
      "\n",
      "video4_000-023-video4_000-024: overlap = 0.0\n"
     ]
    },
    {
     "name": "stderr",
     "output_type": "stream",
     "text": [
      "\r",
      " 10%|▉         | 7/73 [00:09<01:54,  1.73s/it]"
     ]
    },
    {
     "name": "stdout",
     "output_type": "stream",
     "text": [
      "\n",
      "video4_000-023-video4_000-024: overlap = 0.0\n",
      "\n",
      "mean_270619-video4_000-024_opened_cc25.png is INTERESTING\n",
      "\n",
      "video4_000-023-video4_000-024: overlap = 0.0467121810995329\n",
      "\n",
      "video4_000-023-video4_000-024: overlap = 0.0\n"
     ]
    },
    {
     "name": "stderr",
     "output_type": "stream",
     "text": [
      "\r",
      " 11%|█         | 8/73 [00:11<02:11,  2.03s/it]"
     ]
    },
    {
     "name": "stdout",
     "output_type": "stream",
     "text": [
      "\n",
      "video4_000-023-video4_000-024: overlap = 0.0\n"
     ]
    },
    {
     "name": "stderr",
     "output_type": "stream",
     "text": [
      "\r",
      " 12%|█▏        | 9/73 [00:12<01:44,  1.63s/it]"
     ]
    },
    {
     "name": "stdout",
     "output_type": "stream",
     "text": [
      "\n",
      "mean_270619-video4_000-024_opened_cc35.png: too spherical 3.741549988559248\n"
     ]
    },
    {
     "name": "stderr",
     "output_type": "stream",
     "text": [
      "\r",
      " 14%|█▎        | 10/73 [00:13<01:24,  1.34s/it]"
     ]
    },
    {
     "name": "stdout",
     "output_type": "stream",
     "text": [
      "\n",
      "mean_270619-video4_000-024_opened_cc39.png: too spherical 5.078092506159372\n"
     ]
    },
    {
     "name": "stderr",
     "output_type": "stream",
     "text": [
      "\r",
      " 15%|█▌        | 11/73 [00:13<01:11,  1.15s/it]"
     ]
    },
    {
     "name": "stdout",
     "output_type": "stream",
     "text": [
      "\n",
      "mean_270619-video4_000-024_opened_cc49.png: too spherical 6.0350066295869835\n"
     ]
    },
    {
     "name": "stderr",
     "output_type": "stream",
     "text": [
      "\r",
      " 16%|█▋        | 12/73 [00:14<01:01,  1.01s/it]"
     ]
    },
    {
     "name": "stdout",
     "output_type": "stream",
     "text": [
      "\n",
      "mean_270619-video4_000-024_opened_cc52.png: too spherical 1.9358727338818138\n"
     ]
    },
    {
     "name": "stderr",
     "output_type": "stream",
     "text": [
      "\r",
      " 18%|█▊        | 13/73 [00:15<00:55,  1.08it/s]"
     ]
    },
    {
     "name": "stdout",
     "output_type": "stream",
     "text": [
      "\n",
      "mean_270619-video4_000-024_opened_cc65.png: too spherical 2.257341024039328\n",
      "\n",
      "mean_270619-video4_000-024_opened_cc73.png is INTERESTING\n",
      "\n",
      "video4_000-023-video4_000-024: overlap = 0.0\n",
      "\n",
      "video4_000-023-video4_000-024: overlap = 0.0\n"
     ]
    },
    {
     "name": "stderr",
     "output_type": "stream",
     "text": [
      "\r",
      " 19%|█▉        | 14/73 [00:17<01:25,  1.45s/it]"
     ]
    },
    {
     "name": "stdout",
     "output_type": "stream",
     "text": [
      "\n",
      "video4_000-023-video4_000-024: overlap = 0.0\n"
     ]
    },
    {
     "name": "stderr",
     "output_type": "stream",
     "text": [
      "\r",
      " 21%|██        | 15/73 [00:18<01:10,  1.22s/it]"
     ]
    },
    {
     "name": "stdout",
     "output_type": "stream",
     "text": [
      "\n",
      "mean_270619-video4_000-025_opened_cc01.png: too spherical 3.3995817833071\n"
     ]
    },
    {
     "name": "stderr",
     "output_type": "stream",
     "text": [
      "\r",
      " 22%|██▏       | 16/73 [00:19<01:00,  1.07s/it]"
     ]
    },
    {
     "name": "stdout",
     "output_type": "stream",
     "text": [
      "\n",
      "mean_270619-video4_000-025_opened_cc17.png: too spherical 3.9220026535324353\n"
     ]
    },
    {
     "name": "stderr",
     "output_type": "stream",
     "text": [
      "\r",
      " 23%|██▎       | 17/73 [00:20<00:54,  1.03it/s]"
     ]
    },
    {
     "name": "stdout",
     "output_type": "stream",
     "text": [
      "\n",
      "mean_270619-video4_000-025_opened_cc47.png: too spherical 1.6069912055290458\n"
     ]
    },
    {
     "name": "stderr",
     "output_type": "stream",
     "text": [
      "\r",
      " 25%|██▍       | 18/73 [00:20<00:48,  1.12it/s]"
     ]
    },
    {
     "name": "stdout",
     "output_type": "stream",
     "text": [
      "\n",
      "mean_270619-video4_000-025_opened_cc54.png: too spherical 2.27900162669377\n"
     ]
    },
    {
     "name": "stderr",
     "output_type": "stream",
     "text": [
      "\r",
      " 26%|██▌       | 19/73 [00:21<00:46,  1.17it/s]"
     ]
    },
    {
     "name": "stdout",
     "output_type": "stream",
     "text": [
      "\n",
      "mean_270619-video4_000-025_opened_cc57.png: too spherical 5.792164081066393\n"
     ]
    },
    {
     "name": "stderr",
     "output_type": "stream",
     "text": [
      "\r",
      " 27%|██▋       | 20/73 [00:22<00:44,  1.19it/s]"
     ]
    },
    {
     "name": "stdout",
     "output_type": "stream",
     "text": [
      "\n",
      "mean_270619-video4_000-034_opened_cc01.png: too crowded: 12.997878086419753\n"
     ]
    },
    {
     "name": "stderr",
     "output_type": "stream",
     "text": [
      "\r",
      " 29%|██▉       | 21/73 [00:23<00:42,  1.22it/s]"
     ]
    },
    {
     "name": "stdout",
     "output_type": "stream",
     "text": [
      "\n",
      "mean_270619-video4_000-034_opened_cc03.png is INTERESTING\n"
     ]
    },
    {
     "name": "stderr",
     "output_type": "stream",
     "text": [
      "\r",
      " 30%|███       | 22/73 [00:23<00:40,  1.26it/s]"
     ]
    },
    {
     "name": "stdout",
     "output_type": "stream",
     "text": [
      "\n",
      "mean_270619-video4_000-034_opened_cc05.png: too crowded: 3.2565586419753085\n"
     ]
    },
    {
     "name": "stderr",
     "output_type": "stream",
     "text": [
      "\r",
      " 32%|███▏      | 23/73 [00:24<00:38,  1.30it/s]"
     ]
    },
    {
     "name": "stdout",
     "output_type": "stream",
     "text": [
      "\n",
      "mean_270619-video4_000-034_opened_cc06.png: too spherical 4.902390893027843\n"
     ]
    },
    {
     "name": "stderr",
     "output_type": "stream",
     "text": [
      "\r",
      " 33%|███▎      | 24/73 [00:25<00:37,  1.32it/s]"
     ]
    },
    {
     "name": "stdout",
     "output_type": "stream",
     "text": [
      "\n",
      "mean_270619-video4_000-034_opened_cc19.png is INTERESTING\n"
     ]
    },
    {
     "name": "stderr",
     "output_type": "stream",
     "text": [
      "\r",
      " 34%|███▍      | 25/73 [00:25<00:35,  1.34it/s]"
     ]
    },
    {
     "name": "stdout",
     "output_type": "stream",
     "text": [
      "\n",
      "mean_270619-video4_000-034_opened_cc23.png: too spherical 3.8783575440705254\n"
     ]
    },
    {
     "name": "stderr",
     "output_type": "stream",
     "text": [
      "\r",
      " 36%|███▌      | 26/73 [00:26<00:34,  1.36it/s]"
     ]
    },
    {
     "name": "stdout",
     "output_type": "stream",
     "text": [
      "\n",
      "mean_270619-video4_000-034_opened_cc32.png is INTERESTING\n"
     ]
    },
    {
     "name": "stderr",
     "output_type": "stream",
     "text": [
      "\r",
      " 37%|███▋      | 27/73 [00:27<00:33,  1.37it/s]"
     ]
    },
    {
     "name": "stdout",
     "output_type": "stream",
     "text": [
      "\n",
      "mean_270619-video4_000-034_opened_cc53.png is INTERESTING\n"
     ]
    },
    {
     "name": "stderr",
     "output_type": "stream",
     "text": [
      "\r",
      " 38%|███▊      | 28/73 [00:28<00:32,  1.39it/s]"
     ]
    },
    {
     "name": "stdout",
     "output_type": "stream",
     "text": [
      "\n",
      "mean_270619-video4_000-034_opened_cc55.png is INTERESTING\n"
     ]
    },
    {
     "name": "stderr",
     "output_type": "stream",
     "text": [
      "\r",
      " 40%|███▉      | 29/73 [00:28<00:32,  1.34it/s]"
     ]
    },
    {
     "name": "stdout",
     "output_type": "stream",
     "text": [
      "\n",
      "mean_270619-video4_000-042_opened_cc01.png: too spherical 9.218919010544468\n"
     ]
    },
    {
     "name": "stderr",
     "output_type": "stream",
     "text": [
      "\r",
      " 41%|████      | 30/73 [00:29<00:32,  1.31it/s]"
     ]
    },
    {
     "name": "stdout",
     "output_type": "stream",
     "text": [
      "\n",
      "mean_270619-video4_000-042_opened_cc07.png: too spherical 5.636437519217676\n"
     ]
    },
    {
     "name": "stderr",
     "output_type": "stream",
     "text": [
      "\r",
      " 42%|████▏     | 31/73 [00:30<00:31,  1.34it/s]"
     ]
    },
    {
     "name": "stdout",
     "output_type": "stream",
     "text": [
      "\n",
      "mean_270619-video4_000-024_opened_cc30.png: too spherical 3.106103586432956\n",
      "\n",
      "mean_270619-video4_000-025_opened_cc70.png is INTERESTING\n",
      "\n",
      "video4_000-024-video4_000-025: overlap = 0.0\n",
      "\n",
      "video4_000-024-video4_000-025: overlap = 0.0\n",
      "\n",
      "video4_000-024-video4_000-025: overlap = 0.0\n"
     ]
    },
    {
     "name": "stderr",
     "output_type": "stream",
     "text": [
      "\r",
      " 44%|████▍     | 32/73 [00:33<01:02,  1.53s/it]"
     ]
    },
    {
     "name": "stdout",
     "output_type": "stream",
     "text": [
      "\n",
      "video4_000-024-video4_000-025: overlap = 0.013906996957844364\n"
     ]
    },
    {
     "name": "stderr",
     "output_type": "stream",
     "text": [
      "\r",
      " 45%|████▌     | 33/73 [00:34<00:51,  1.29s/it]"
     ]
    },
    {
     "name": "stdout",
     "output_type": "stream",
     "text": [
      "\n",
      "mean_270619-video4_000-042_opened_cc31.png: too spherical 3.0935384885028037\n"
     ]
    },
    {
     "name": "stderr",
     "output_type": "stream",
     "text": [
      "\r",
      " 47%|████▋     | 34/73 [00:35<00:43,  1.13s/it]"
     ]
    },
    {
     "name": "stdout",
     "output_type": "stream",
     "text": [
      "\n",
      "mean_270619-video4_000-043_opened_cc26.png is INTERESTING\n"
     ]
    },
    {
     "name": "stderr",
     "output_type": "stream",
     "text": [
      "\r",
      " 48%|████▊     | 35/73 [00:35<00:37,  1.01it/s]"
     ]
    },
    {
     "name": "stdout",
     "output_type": "stream",
     "text": [
      "\n",
      "mean_270619-video4_000-044_opened_cc60.png: too spherical 2.758083418874955\n"
     ]
    },
    {
     "name": "stderr",
     "output_type": "stream",
     "text": [
      "\r",
      " 49%|████▉     | 36/73 [00:36<00:33,  1.10it/s]"
     ]
    },
    {
     "name": "stdout",
     "output_type": "stream",
     "text": [
      "\n",
      "mean_270619-video4_000-043_opened_cc74.png: too spherical 3.5870973513162756\n"
     ]
    },
    {
     "name": "stderr",
     "output_type": "stream",
     "text": [
      "\r",
      " 51%|█████     | 37/73 [00:37<00:30,  1.18it/s]"
     ]
    },
    {
     "name": "stdout",
     "output_type": "stream",
     "text": [
      "\n",
      "mean_270619-video4_000-043_opened_cc75.png is INTERESTING\n"
     ]
    },
    {
     "name": "stderr",
     "output_type": "stream",
     "text": [
      "\r",
      " 52%|█████▏    | 38/73 [00:38<00:28,  1.24it/s]"
     ]
    },
    {
     "name": "stdout",
     "output_type": "stream",
     "text": [
      "\n",
      "mean_270619-video4_000-043_opened_cc83.png is INTERESTING\n"
     ]
    },
    {
     "name": "stderr",
     "output_type": "stream",
     "text": [
      "\r",
      " 53%|█████▎    | 39/73 [00:38<00:28,  1.20it/s]"
     ]
    },
    {
     "name": "stdout",
     "output_type": "stream",
     "text": [
      "\n",
      "mean_270619-video4_000-044_opened_cc06.png: too spherical 2.798555115654425\n",
      "\n",
      "mean_270619-video4_000-044_opened_cc10.png is INTERESTING\n",
      "\n",
      "video4_000-043-video4_000-044: overlap = 0.0\n",
      "\n",
      "video4_000-043-video4_000-044: overlap = 0.0\n"
     ]
    },
    {
     "name": "stderr",
     "output_type": "stream",
     "text": [
      "\r",
      " 55%|█████▍    | 40/73 [00:41<00:45,  1.39s/it]"
     ]
    },
    {
     "name": "stdout",
     "output_type": "stream",
     "text": [
      "\n",
      "video4_000-043-video4_000-044: overlap = 0.0\n"
     ]
    },
    {
     "name": "stderr",
     "output_type": "stream",
     "text": [
      "\r",
      " 56%|█████▌    | 41/73 [00:42<00:38,  1.21s/it]"
     ]
    },
    {
     "name": "stdout",
     "output_type": "stream",
     "text": [
      "\n",
      "mean_270619-video4_000-044_opened_cc12.png: too spherical 4.419061821404846\n"
     ]
    },
    {
     "name": "stderr",
     "output_type": "stream",
     "text": [
      "\r",
      " 58%|█████▊    | 42/73 [00:43<00:32,  1.06s/it]"
     ]
    },
    {
     "name": "stdout",
     "output_type": "stream",
     "text": [
      "\n",
      "mean_270619-video4_000-044_opened_cc35.png: too spherical 3.3796261433658925\n"
     ]
    },
    {
     "name": "stderr",
     "output_type": "stream",
     "text": [
      "\r",
      " 59%|█████▉    | 43/73 [00:43<00:28,  1.05it/s]"
     ]
    },
    {
     "name": "stdout",
     "output_type": "stream",
     "text": [
      "\n",
      "mean_270619-video4_000-044_opened_cc44.png: too spherical 5.684236595734533\n"
     ]
    },
    {
     "name": "stderr",
     "output_type": "stream",
     "text": [
      "\r",
      " 60%|██████    | 44/73 [00:44<00:25,  1.14it/s]"
     ]
    },
    {
     "name": "stdout",
     "output_type": "stream",
     "text": [
      "\n",
      "mean_270619-video4_000-044_opened_cc47.png: too spherical 3.018091744066857\n"
     ]
    },
    {
     "name": "stderr",
     "output_type": "stream",
     "text": [
      "\r",
      " 62%|██████▏   | 45/73 [00:45<00:23,  1.20it/s]"
     ]
    },
    {
     "name": "stdout",
     "output_type": "stream",
     "text": [
      "\n",
      "mean_270619-video4_000-044_opened_cc54.png: too spherical 5.845235477312367\n"
     ]
    },
    {
     "name": "stderr",
     "output_type": "stream",
     "text": [
      "\r",
      " 63%|██████▎   | 46/73 [00:45<00:21,  1.26it/s]"
     ]
    },
    {
     "name": "stdout",
     "output_type": "stream",
     "text": [
      "\n",
      "mean_270619-video4_000-044_opened_cc58.png: too spherical 5.695772926331422\n"
     ]
    },
    {
     "name": "stderr",
     "output_type": "stream",
     "text": [
      "\r",
      " 64%|██████▍   | 47/73 [00:46<00:19,  1.31it/s]"
     ]
    },
    {
     "name": "stdout",
     "output_type": "stream",
     "text": [
      "\n",
      "mean_270619-video4_000-044_opened_cc67.png: too spherical 6.912388229699534\n"
     ]
    },
    {
     "name": "stderr",
     "output_type": "stream",
     "text": [
      "\r",
      " 66%|██████▌   | 48/73 [00:47<00:18,  1.32it/s]"
     ]
    },
    {
     "name": "stdout",
     "output_type": "stream",
     "text": [
      "\n",
      "mean_270619-video4_000-045_opened_cc05.png: too spherical 4.277859457817282\n"
     ]
    },
    {
     "name": "stderr",
     "output_type": "stream",
     "text": [
      "\r",
      " 67%|██████▋   | 49/73 [00:48<00:17,  1.34it/s]"
     ]
    },
    {
     "name": "stdout",
     "output_type": "stream",
     "text": [
      "\n",
      "mean_270619-video4_000-045_opened_cc11.png: too spherical 6.598950553722941\n"
     ]
    },
    {
     "name": "stderr",
     "output_type": "stream",
     "text": [
      "\r",
      " 68%|██████▊   | 50/73 [00:48<00:17,  1.34it/s]"
     ]
    },
    {
     "name": "stdout",
     "output_type": "stream",
     "text": [
      "\n",
      "mean_270619-video4_000-045_opened_cc19.png: too spherical 4.983654292939854\n"
     ]
    },
    {
     "name": "stderr",
     "output_type": "stream",
     "text": [
      "\r",
      " 70%|██████▉   | 51/73 [00:49<00:16,  1.33it/s]"
     ]
    },
    {
     "name": "stdout",
     "output_type": "stream",
     "text": [
      "\n",
      "mean_270619-video4_000-045_opened_cc20.png: too spherical 2.1841462073097793\n"
     ]
    },
    {
     "name": "stderr",
     "output_type": "stream",
     "text": [
      "\r",
      " 71%|███████   | 52/73 [00:50<00:15,  1.35it/s]"
     ]
    },
    {
     "name": "stdout",
     "output_type": "stream",
     "text": [
      "\n",
      "mean_270619-video4_000-045_opened_cc27.png: too spherical 6.205415437239742\n"
     ]
    },
    {
     "name": "stderr",
     "output_type": "stream",
     "text": [
      "\r",
      " 73%|███████▎  | 53/73 [00:51<00:14,  1.36it/s]"
     ]
    },
    {
     "name": "stdout",
     "output_type": "stream",
     "text": [
      "\n",
      "mean_270619-video4_000-045_opened_cc39.png: too spherical 1.8056800375773476\n"
     ]
    },
    {
     "name": "stderr",
     "output_type": "stream",
     "text": [
      "\r",
      " 74%|███████▍  | 54/73 [00:51<00:13,  1.38it/s]"
     ]
    },
    {
     "name": "stdout",
     "output_type": "stream",
     "text": [
      "\n",
      "mean_270619-video4_000-045_opened_cc41.png: too spherical 1.62582875200915\n"
     ]
    },
    {
     "name": "stderr",
     "output_type": "stream",
     "text": [
      "\r",
      " 75%|███████▌  | 55/73 [00:52<00:12,  1.39it/s]"
     ]
    },
    {
     "name": "stdout",
     "output_type": "stream",
     "text": [
      "\n",
      "mean_270619-video4_000-045_opened_cc46.png: too spherical 8.353187878632491\n"
     ]
    },
    {
     "name": "stderr",
     "output_type": "stream",
     "text": [
      "\r",
      " 77%|███████▋  | 56/73 [00:53<00:12,  1.40it/s]"
     ]
    },
    {
     "name": "stdout",
     "output_type": "stream",
     "text": [
      "\n",
      "mean_270619-video4_000-045_opened_cc60.png: too spherical 3.56953869662422\n"
     ]
    },
    {
     "name": "stderr",
     "output_type": "stream",
     "text": [
      "\r",
      " 78%|███████▊  | 57/73 [00:53<00:11,  1.40it/s]"
     ]
    },
    {
     "name": "stdout",
     "output_type": "stream",
     "text": [
      "\n",
      "mean_270619-video4_000-045_opened_cc64.png: too spherical 2.684936516554596\n"
     ]
    },
    {
     "name": "stderr",
     "output_type": "stream",
     "text": [
      "\r",
      " 79%|███████▉  | 58/73 [00:54<00:10,  1.40it/s]"
     ]
    },
    {
     "name": "stdout",
     "output_type": "stream",
     "text": [
      "\n",
      "mean_270619-video4_000-045_opened_cc65.png: too spherical 7.7275153196110224\n"
     ]
    },
    {
     "name": "stderr",
     "output_type": "stream",
     "text": [
      "\r",
      " 81%|████████  | 59/73 [00:55<00:09,  1.42it/s]"
     ]
    },
    {
     "name": "stdout",
     "output_type": "stream",
     "text": [
      "\n",
      "mean_270619-video4_000-045_opened_cc69.png: too spherical 6.61304356931569\n"
     ]
    },
    {
     "name": "stderr",
     "output_type": "stream",
     "text": [
      "\r",
      " 82%|████████▏ | 60/73 [00:56<00:09,  1.42it/s]"
     ]
    },
    {
     "name": "stdout",
     "output_type": "stream",
     "text": [
      "\n",
      "mean_270619-video4_000-045_opened_cc70.png: too spherical 2.865312317687794\n"
     ]
    },
    {
     "name": "stderr",
     "output_type": "stream",
     "text": [
      "\r",
      " 84%|████████▎ | 61/73 [00:56<00:08,  1.43it/s]"
     ]
    },
    {
     "name": "stdout",
     "output_type": "stream",
     "text": [
      "\n",
      "mean_270619-video4_000-045_opened_cc80.png: too spherical 2.672654759744567\n"
     ]
    },
    {
     "name": "stderr",
     "output_type": "stream",
     "text": [
      "\r",
      " 85%|████████▍ | 62/73 [00:57<00:07,  1.43it/s]"
     ]
    },
    {
     "name": "stdout",
     "output_type": "stream",
     "text": [
      "\n",
      "mean_270619-video4_000-042_opened_cc33.png is INTERESTING\n"
     ]
    },
    {
     "name": "stderr",
     "output_type": "stream",
     "text": [
      "\r",
      " 86%|████████▋ | 63/73 [00:58<00:07,  1.43it/s]"
     ]
    },
    {
     "name": "stdout",
     "output_type": "stream",
     "text": [
      "\n",
      "mean_270619-video4_000-042_opened_cc38.png: too spherical 7.651654027376423\n"
     ]
    },
    {
     "name": "stderr",
     "output_type": "stream",
     "text": [
      "\r",
      " 88%|████████▊ | 64/73 [00:58<00:06,  1.43it/s]"
     ]
    },
    {
     "name": "stdout",
     "output_type": "stream",
     "text": [
      "\n",
      "mean_270619-video4_000-042_opened_cc43.png: too spherical 5.549715036962871\n"
     ]
    },
    {
     "name": "stderr",
     "output_type": "stream",
     "text": [
      "\r",
      " 89%|████████▉ | 65/73 [00:59<00:05,  1.43it/s]"
     ]
    },
    {
     "name": "stdout",
     "output_type": "stream",
     "text": [
      "\n",
      "mean_270619-video4_000-042_opened_cc46.png: too spherical 8.346688980391281\n"
     ]
    },
    {
     "name": "stderr",
     "output_type": "stream",
     "text": [
      "\r",
      " 90%|█████████ | 66/73 [01:00<00:04,  1.44it/s]"
     ]
    },
    {
     "name": "stdout",
     "output_type": "stream",
     "text": [
      "\n",
      "mean_270619-video4_000-042_opened_cc52.png: too spherical 2.4366566538643633\n"
     ]
    },
    {
     "name": "stderr",
     "output_type": "stream",
     "text": [
      "\r",
      " 92%|█████████▏| 67/73 [01:00<00:04,  1.44it/s]"
     ]
    },
    {
     "name": "stdout",
     "output_type": "stream",
     "text": [
      "\n",
      "mean_270619-video4_000-042_opened_cc53.png: too spherical 2.608817450390299\n"
     ]
    },
    {
     "name": "stderr",
     "output_type": "stream",
     "text": [
      "\r",
      " 93%|█████████▎| 68/73 [01:01<00:03,  1.44it/s]"
     ]
    },
    {
     "name": "stdout",
     "output_type": "stream",
     "text": [
      "\n",
      "mean_270619-video4_000-042_opened_cc66.png: too spherical 2.271537856306656\n"
     ]
    },
    {
     "name": "stderr",
     "output_type": "stream",
     "text": [
      "\r",
      " 95%|█████████▍| 69/73 [01:02<00:02,  1.42it/s]"
     ]
    },
    {
     "name": "stdout",
     "output_type": "stream",
     "text": [
      "\n",
      "mean_270619-video4_000-042_opened_cc67.png: too spherical 2.1662957619056016\n"
     ]
    },
    {
     "name": "stderr",
     "output_type": "stream",
     "text": [
      "\r",
      " 96%|█████████▌| 70/73 [01:02<00:02,  1.43it/s]"
     ]
    },
    {
     "name": "stdout",
     "output_type": "stream",
     "text": [
      "\n",
      "mean_270619-video4_000-042_opened_cc89.png: too spherical 2.765626898397474\n"
     ]
    },
    {
     "name": "stderr",
     "output_type": "stream",
     "text": [
      "\r",
      " 97%|█████████▋| 71/73 [01:03<00:01,  1.43it/s]"
     ]
    },
    {
     "name": "stdout",
     "output_type": "stream",
     "text": [
      "\n",
      "mean_270619-video4_000-042_opened_cc98.png: too spherical 5.381070806471156\n"
     ]
    },
    {
     "name": "stderr",
     "output_type": "stream",
     "text": [
      "\r",
      " 99%|█████████▊| 72/73 [01:04<00:00,  1.44it/s]"
     ]
    },
    {
     "name": "stdout",
     "output_type": "stream",
     "text": [
      "\n",
      "mean_270619-video4_000-043_opened_cc06.png: too spherical 4.109943338509627\n"
     ]
    },
    {
     "name": "stderr",
     "output_type": "stream",
     "text": [
      "100%|██████████| 73/73 [01:05<00:00,  1.41it/s]\n",
      "  0%|          | 0/53 [00:00<?, ?it/s]"
     ]
    },
    {
     "name": "stdout",
     "output_type": "stream",
     "text": [
      "\n",
      "mean_270619-video4_000-043_opened_cc15.png: too spherical 7.925503805774543\n",
      "found video4_001/trigger_thr0.005_cl9_op3/cc_filtered_2den0.81_gausrad2.0/\n"
     ]
    },
    {
     "name": "stderr",
     "output_type": "stream",
     "text": [
      "\r",
      "  2%|▏         | 1/53 [00:00<00:36,  1.42it/s]"
     ]
    },
    {
     "name": "stdout",
     "output_type": "stream",
     "text": [
      "\n",
      "mean_270619-video4_001-007_opened_cc02.png: too crowded: 3.0690586419753085\n"
     ]
    },
    {
     "name": "stderr",
     "output_type": "stream",
     "text": [
      "\r",
      "  4%|▍         | 2/53 [00:01<00:36,  1.41it/s]"
     ]
    },
    {
     "name": "stdout",
     "output_type": "stream",
     "text": [
      "\n",
      "mean_270619-video4_001-007_opened_cc03.png: too spherical 9.627359467326917\n"
     ]
    },
    {
     "name": "stderr",
     "output_type": "stream",
     "text": [
      "\r",
      "  6%|▌         | 3/53 [00:02<00:36,  1.36it/s]"
     ]
    },
    {
     "name": "stdout",
     "output_type": "stream",
     "text": [
      "\n",
      "mean_270619-video4_001-013_opened_cc04.png is INTERESTING\n"
     ]
    },
    {
     "name": "stderr",
     "output_type": "stream",
     "text": [
      "\r",
      "  8%|▊         | 4/53 [00:02<00:35,  1.36it/s]"
     ]
    },
    {
     "name": "stdout",
     "output_type": "stream",
     "text": [
      "\n",
      "mean_270619-video4_001-013_opened_cc106.png is INTERESTING\n"
     ]
    },
    {
     "name": "stderr",
     "output_type": "stream",
     "text": [
      "\r",
      "  9%|▉         | 5/53 [00:03<00:34,  1.38it/s]"
     ]
    },
    {
     "name": "stdout",
     "output_type": "stream",
     "text": [
      "\n",
      "mean_270619-video4_001-013_opened_cc16.png: too spherical 7.292334102267131\n"
     ]
    },
    {
     "name": "stderr",
     "output_type": "stream",
     "text": [
      "\r",
      " 11%|█▏        | 6/53 [00:04<00:34,  1.37it/s]"
     ]
    },
    {
     "name": "stdout",
     "output_type": "stream",
     "text": [
      "\n",
      "mean_270619-video4_001-013_opened_cc21.png: too spherical 1.1022749064073556\n"
     ]
    },
    {
     "name": "stderr",
     "output_type": "stream",
     "text": [
      "\r",
      " 13%|█▎        | 7/53 [00:05<00:33,  1.38it/s]"
     ]
    },
    {
     "name": "stdout",
     "output_type": "stream",
     "text": [
      "\n",
      "mean_270619-video4_001-013_opened_cc25.png: too spherical 5.203843313374335\n"
     ]
    },
    {
     "name": "stderr",
     "output_type": "stream",
     "text": [
      "\r",
      " 15%|█▌        | 8/53 [00:05<00:32,  1.40it/s]"
     ]
    },
    {
     "name": "stdout",
     "output_type": "stream",
     "text": [
      "\n",
      "mean_270619-video4_001-014_opened_cc01.png: too crowded: 3.5362654320987654\n"
     ]
    },
    {
     "name": "stderr",
     "output_type": "stream",
     "text": [
      "\r",
      " 17%|█▋        | 9/53 [00:06<00:31,  1.38it/s]"
     ]
    },
    {
     "name": "stdout",
     "output_type": "stream",
     "text": [
      "\n",
      "mean_270619-video4_001-014_opened_cc16.png: too spherical 6.271575971010992\n",
      "\n",
      "mean_270619-video4_001-014_opened_cc17.png is INTERESTING\n",
      "\n",
      "video4_001-013-video4_001-014: overlap = 0.0\n"
     ]
    },
    {
     "name": "stderr",
     "output_type": "stream",
     "text": [
      "\r",
      " 19%|█▉        | 10/53 [00:08<00:49,  1.16s/it]"
     ]
    },
    {
     "name": "stdout",
     "output_type": "stream",
     "text": [
      "\n",
      "video4_001-013-video4_001-014: overlap = 0.0\n",
      "\n",
      "mean_270619-video4_001-014_opened_cc35.png is INTERESTING\n",
      "\n",
      "video4_001-013-video4_001-014: overlap = 0.0\n"
     ]
    },
    {
     "name": "stderr",
     "output_type": "stream",
     "text": [
      "\r",
      " 21%|██        | 11/53 [00:10<00:59,  1.41s/it]"
     ]
    },
    {
     "name": "stdout",
     "output_type": "stream",
     "text": [
      "\n",
      "video4_001-013-video4_001-014: overlap = 0.0\n",
      "\n",
      "mean_270619-video4_001-014_opened_cc60.png is INTERESTING\n",
      "\n",
      "video4_001-013-video4_001-014: overlap = 0.2512114750920721\n"
     ]
    },
    {
     "name": "stderr",
     "output_type": "stream",
     "text": [
      "\r",
      " 23%|██▎       | 12/53 [00:12<01:05,  1.60s/it]"
     ]
    },
    {
     "name": "stdout",
     "output_type": "stream",
     "text": [
      "\n",
      "video4_001-013-video4_001-014: overlap = 0.0\n",
      "\n",
      "mean_270619-video4_001-014_opened_cc76.png is INTERESTING\n",
      "\n",
      "video4_001-013-video4_001-014: overlap = 0.0\n"
     ]
    },
    {
     "name": "stderr",
     "output_type": "stream",
     "text": [
      "\r",
      " 25%|██▍       | 13/53 [00:14<01:09,  1.74s/it]"
     ]
    },
    {
     "name": "stdout",
     "output_type": "stream",
     "text": [
      "\n",
      "video4_001-013-video4_001-014: overlap = 0.669171270718232\n"
     ]
    },
    {
     "name": "stderr",
     "output_type": "stream",
     "text": [
      "\r",
      " 26%|██▋       | 14/53 [00:15<00:55,  1.43s/it]"
     ]
    },
    {
     "name": "stdout",
     "output_type": "stream",
     "text": [
      "\n",
      "mean_270619-video4_001-024_opened_cc01.png: too spherical 5.682062352916837\n"
     ]
    },
    {
     "name": "stderr",
     "output_type": "stream",
     "text": [
      "\r",
      " 28%|██▊       | 15/53 [00:16<00:46,  1.23s/it]"
     ]
    },
    {
     "name": "stdout",
     "output_type": "stream",
     "text": [
      "\n",
      "mean_270619-video4_001-024_opened_cc03.png: too spherical 4.684081422802778\n"
     ]
    },
    {
     "name": "stderr",
     "output_type": "stream",
     "text": [
      "\r",
      " 30%|███       | 16/53 [00:17<00:39,  1.08s/it]"
     ]
    },
    {
     "name": "stdout",
     "output_type": "stream",
     "text": [
      "\n",
      "mean_270619-video4_001-024_opened_cc05.png: too spherical 3.2829881176056013\n"
     ]
    },
    {
     "name": "stderr",
     "output_type": "stream",
     "text": [
      "\r",
      " 32%|███▏      | 17/53 [00:17<00:34,  1.04it/s]"
     ]
    },
    {
     "name": "stdout",
     "output_type": "stream",
     "text": [
      "\n",
      "mean_270619-video4_001-024_opened_cc09.png: too spherical 7.541145876123427\n"
     ]
    },
    {
     "name": "stderr",
     "output_type": "stream",
     "text": [
      "\r",
      " 34%|███▍      | 18/53 [00:18<00:30,  1.13it/s]"
     ]
    },
    {
     "name": "stdout",
     "output_type": "stream",
     "text": [
      "\n",
      "mean_270619-video4_001-024_opened_cc17.png is INTERESTING\n"
     ]
    },
    {
     "name": "stderr",
     "output_type": "stream",
     "text": [
      "\r",
      " 36%|███▌      | 19/53 [00:19<00:28,  1.19it/s]"
     ]
    },
    {
     "name": "stdout",
     "output_type": "stream",
     "text": [
      "\n",
      "mean_270619-video4_001-024_opened_cc29.png: too spherical 5.68108930086194\n"
     ]
    },
    {
     "name": "stderr",
     "output_type": "stream",
     "text": [
      "\r",
      " 38%|███▊      | 20/53 [00:19<00:27,  1.19it/s]"
     ]
    },
    {
     "name": "stdout",
     "output_type": "stream",
     "text": [
      "\n",
      "mean_270619-video4_001-024_opened_cc48.png: too spherical 3.1763247025153234\n"
     ]
    },
    {
     "name": "stderr",
     "output_type": "stream",
     "text": [
      "\r",
      " 40%|███▉      | 21/53 [00:20<00:25,  1.25it/s]"
     ]
    },
    {
     "name": "stdout",
     "output_type": "stream",
     "text": [
      "\n",
      "mean_270619-video4_001-024_opened_cc49.png is INTERESTING\n"
     ]
    },
    {
     "name": "stderr",
     "output_type": "stream",
     "text": [
      "\r",
      " 42%|████▏     | 22/53 [00:21<00:23,  1.31it/s]"
     ]
    },
    {
     "name": "stdout",
     "output_type": "stream",
     "text": [
      "\n",
      "mean_270619-video4_001-024_opened_cc50.png is INTERESTING\n"
     ]
    },
    {
     "name": "stderr",
     "output_type": "stream",
     "text": [
      "\r",
      " 43%|████▎     | 23/53 [00:22<00:22,  1.35it/s]"
     ]
    },
    {
     "name": "stdout",
     "output_type": "stream",
     "text": [
      "\n",
      "mean_270619-video4_001-024_opened_cc53.png: too spherical 1.9008683273198081\n"
     ]
    },
    {
     "name": "stderr",
     "output_type": "stream",
     "text": [
      "\r",
      " 45%|████▌     | 24/53 [00:22<00:21,  1.37it/s]"
     ]
    },
    {
     "name": "stdout",
     "output_type": "stream",
     "text": [
      "\n",
      "mean_270619-video4_001-024_opened_cc58.png: too spherical 2.0130943616678105\n"
     ]
    },
    {
     "name": "stderr",
     "output_type": "stream",
     "text": [
      "\r",
      " 47%|████▋     | 25/53 [00:23<00:20,  1.39it/s]"
     ]
    },
    {
     "name": "stdout",
     "output_type": "stream",
     "text": [
      "\n",
      "mean_270619-video4_001-024_opened_cc68.png: too spherical 5.998565744408911\n"
     ]
    },
    {
     "name": "stderr",
     "output_type": "stream",
     "text": [
      "\r",
      " 49%|████▉     | 26/53 [00:24<00:19,  1.39it/s]"
     ]
    },
    {
     "name": "stdout",
     "output_type": "stream",
     "text": [
      "\n",
      "mean_270619-video4_001-024_opened_cc73.png: too spherical 2.4839549931774036\n"
     ]
    },
    {
     "name": "stderr",
     "output_type": "stream",
     "text": [
      "\r",
      " 51%|█████     | 27/53 [00:24<00:18,  1.38it/s]"
     ]
    },
    {
     "name": "stdout",
     "output_type": "stream",
     "text": [
      "\n",
      "mean_270619-video4_001-025_opened_cc08.png: too spherical 1.7337640440171274\n",
      "\n",
      "mean_270619-video4_001-025_opened_cc35.png is INTERESTING\n",
      "\n",
      "video4_001-024-video4_001-025: overlap = 0.0\n",
      "\n",
      "video4_001-024-video4_001-025: overlap = 0.0\n"
     ]
    },
    {
     "name": "stderr",
     "output_type": "stream",
     "text": [
      "\r",
      " 53%|█████▎    | 28/53 [00:27<00:33,  1.33s/it]"
     ]
    },
    {
     "name": "stdout",
     "output_type": "stream",
     "text": [
      "\n",
      "video4_001-024-video4_001-025: overlap = 0.0\n"
     ]
    },
    {
     "name": "stderr",
     "output_type": "stream",
     "text": [
      "\r",
      " 55%|█████▍    | 29/53 [00:28<00:27,  1.14s/it]"
     ]
    },
    {
     "name": "stdout",
     "output_type": "stream",
     "text": [
      "\n",
      "mean_270619-video4_001-025_opened_cc37.png: too spherical 6.146419039078369\n"
     ]
    },
    {
     "name": "stderr",
     "output_type": "stream",
     "text": [
      "\r",
      " 57%|█████▋    | 30/53 [00:29<00:23,  1.02s/it]"
     ]
    },
    {
     "name": "stdout",
     "output_type": "stream",
     "text": [
      "\n",
      "mean_270619-video4_001-013_opened_cc54.png: too spherical 2.874651808766577\n"
     ]
    },
    {
     "name": "stderr",
     "output_type": "stream",
     "text": [
      "\r",
      " 58%|█████▊    | 31/53 [00:29<00:20,  1.08it/s]"
     ]
    },
    {
     "name": "stdout",
     "output_type": "stream",
     "text": [
      "\n",
      "mean_270619-video4_001-024_opened_cc20.png is INTERESTING\n"
     ]
    },
    {
     "name": "stderr",
     "output_type": "stream",
     "text": [
      "\r",
      " 60%|██████    | 32/53 [00:30<00:18,  1.16it/s]"
     ]
    },
    {
     "name": "stdout",
     "output_type": "stream",
     "text": [
      "\n",
      "mean_270619-video4_001-025_opened_cc42.png: too spherical 5.2513003747499605\n"
     ]
    },
    {
     "name": "stderr",
     "output_type": "stream",
     "text": [
      "\r",
      " 62%|██████▏   | 33/53 [00:31<00:16,  1.23it/s]"
     ]
    },
    {
     "name": "stdout",
     "output_type": "stream",
     "text": [
      "\n",
      "mean_270619-video4_001-025_opened_cc49.png: too spherical 2.5247324936896653\n",
      "\n",
      "mean_270619-video4_001-025_opened_cc68.png is INTERESTING\n",
      "\n",
      "video4_001-024-video4_001-025: overlap = 0.0\n",
      "\n",
      "video4_001-024-video4_001-025: overlap = 0.0\n",
      "\n",
      "video4_001-024-video4_001-025: overlap = 0.0\n"
     ]
    },
    {
     "name": "stderr",
     "output_type": "stream",
     "text": [
      "\r",
      " 64%|██████▍   | 34/53 [00:34<00:29,  1.57s/it]"
     ]
    },
    {
     "name": "stdout",
     "output_type": "stream",
     "text": [
      "\n",
      "video4_001-024-video4_001-025: overlap = 0.0\n"
     ]
    },
    {
     "name": "stderr",
     "output_type": "stream",
     "text": [
      "\r",
      " 66%|██████▌   | 35/53 [00:35<00:24,  1.34s/it]"
     ]
    },
    {
     "name": "stdout",
     "output_type": "stream",
     "text": [
      "\n",
      "mean_270619-video4_001-025_opened_cc78.png: too spherical 3.0358949405888356\n"
     ]
    },
    {
     "name": "stderr",
     "output_type": "stream",
     "text": [
      "\r",
      " 68%|██████▊   | 36/53 [00:36<00:19,  1.15s/it]"
     ]
    },
    {
     "name": "stdout",
     "output_type": "stream",
     "text": [
      "\n",
      "mean_270619-video4_001-025_opened_cc81.png: too spherical 8.562897045354708\n"
     ]
    },
    {
     "name": "stderr",
     "output_type": "stream",
     "text": [
      "\r",
      " 70%|██████▉   | 37/53 [00:36<00:16,  1.02s/it]"
     ]
    },
    {
     "name": "stdout",
     "output_type": "stream",
     "text": [
      "\n",
      "mean_270619-video4_001-025_opened_cc83.png: too spherical 3.9817709193183464\n"
     ]
    },
    {
     "name": "stderr",
     "output_type": "stream",
     "text": [
      "\r",
      " 72%|███████▏  | 38/53 [00:37<00:13,  1.07it/s]"
     ]
    },
    {
     "name": "stdout",
     "output_type": "stream",
     "text": [
      "\n",
      "mean_270619-video4_001-045_opened_cc01.png: too crowded: 5.974151234567901\n"
     ]
    },
    {
     "name": "stderr",
     "output_type": "stream",
     "text": [
      "\r",
      " 74%|███████▎  | 39/53 [00:38<00:12,  1.15it/s]"
     ]
    },
    {
     "name": "stdout",
     "output_type": "stream",
     "text": [
      "\n",
      "mean_270619-video4_001-045_opened_cc03.png: too spherical 2.4790528314087292\n"
     ]
    },
    {
     "name": "stderr",
     "output_type": "stream",
     "text": [
      "\r",
      " 75%|███████▌  | 40/53 [00:38<00:10,  1.22it/s]"
     ]
    },
    {
     "name": "stdout",
     "output_type": "stream",
     "text": [
      "\n",
      "mean_270619-video4_001-045_opened_cc04.png: too spherical 2.8816820800834932\n"
     ]
    },
    {
     "name": "stderr",
     "output_type": "stream",
     "text": [
      "\r",
      " 77%|███████▋  | 41/53 [00:39<00:09,  1.27it/s]"
     ]
    },
    {
     "name": "stdout",
     "output_type": "stream",
     "text": [
      "\n",
      "mean_270619-video4_001-045_opened_cc07.png: too spherical 4.443692786052526\n"
     ]
    },
    {
     "name": "stderr",
     "output_type": "stream",
     "text": [
      "\r",
      " 79%|███████▉  | 42/53 [00:40<00:08,  1.27it/s]"
     ]
    },
    {
     "name": "stdout",
     "output_type": "stream",
     "text": [
      "\n",
      "mean_270619-video4_001-045_opened_cc09.png is INTERESTING\n"
     ]
    },
    {
     "name": "stderr",
     "output_type": "stream",
     "text": [
      "\r",
      " 81%|████████  | 43/53 [00:41<00:07,  1.32it/s]"
     ]
    },
    {
     "name": "stdout",
     "output_type": "stream",
     "text": [
      "\n",
      "mean_270619-video4_001-045_opened_cc10.png: too spherical 2.894492125934486\n"
     ]
    },
    {
     "name": "stderr",
     "output_type": "stream",
     "text": [
      "\r",
      " 83%|████████▎ | 44/53 [00:41<00:06,  1.35it/s]"
     ]
    },
    {
     "name": "stdout",
     "output_type": "stream",
     "text": [
      "\n",
      "mean_270619-video4_001-045_opened_cc19.png: too spherical 3.337008620744155\n"
     ]
    },
    {
     "name": "stderr",
     "output_type": "stream",
     "text": [
      "\r",
      " 85%|████████▍ | 45/53 [00:42<00:05,  1.37it/s]"
     ]
    },
    {
     "name": "stdout",
     "output_type": "stream",
     "text": [
      "\n",
      "mean_270619-video4_001-045_opened_cc26.png: too spherical 5.798482506665931\n"
     ]
    },
    {
     "name": "stderr",
     "output_type": "stream",
     "text": [
      "\r",
      " 87%|████████▋ | 46/53 [00:43<00:05,  1.38it/s]"
     ]
    },
    {
     "name": "stdout",
     "output_type": "stream",
     "text": [
      "\n",
      "mean_270619-video4_001-045_opened_cc38.png: too spherical 7.385789409410895\n"
     ]
    },
    {
     "name": "stderr",
     "output_type": "stream",
     "text": [
      "\r",
      " 89%|████████▊ | 47/53 [00:43<00:04,  1.40it/s]"
     ]
    },
    {
     "name": "stdout",
     "output_type": "stream",
     "text": [
      "\n",
      "mean_270619-video4_001-045_opened_cc59.png: too spherical 1.5003946569397852\n"
     ]
    },
    {
     "name": "stderr",
     "output_type": "stream",
     "text": [
      "\r",
      " 91%|█████████ | 48/53 [00:44<00:03,  1.40it/s]"
     ]
    },
    {
     "name": "stdout",
     "output_type": "stream",
     "text": [
      "\n",
      "mean_270619-video4_001-045_opened_cc73.png: too spherical 5.684886163449624\n"
     ]
    },
    {
     "name": "stderr",
     "output_type": "stream",
     "text": [
      "\r",
      " 92%|█████████▏| 49/53 [00:45<00:02,  1.42it/s]"
     ]
    },
    {
     "name": "stdout",
     "output_type": "stream",
     "text": [
      "\n",
      "mean_270619-video4_001-045_opened_cc78.png is INTERESTING\n",
      "\n",
      "mean_270619-video4_001-046_opened_cc03.png is INTERESTING\n",
      "\n",
      "video4_001-045-video4_001-046: overlap = 0.0\n"
     ]
    },
    {
     "name": "stderr",
     "output_type": "stream",
     "text": [
      "\r",
      " 94%|█████████▍| 50/53 [00:47<00:03,  1.10s/it]"
     ]
    },
    {
     "name": "stdout",
     "output_type": "stream",
     "text": [
      "\n",
      "video4_001-045-video4_001-046: overlap = 0.0\n",
      "\n",
      "mean_270619-video4_001-046_opened_cc04.png is INTERESTING\n",
      "\n",
      "video4_001-045-video4_001-046: overlap = 0.0\n"
     ]
    },
    {
     "name": "stderr",
     "output_type": "stream",
     "text": [
      "\r",
      " 96%|█████████▌| 51/53 [00:49<00:02,  1.37s/it]"
     ]
    },
    {
     "name": "stdout",
     "output_type": "stream",
     "text": [
      "\n",
      "video4_001-045-video4_001-046: overlap = 0.0\n",
      "\n",
      "mean_270619-video4_001-046_opened_cc07.png is INTERESTING\n",
      "\n",
      "video4_001-045-video4_001-046: overlap = 0.0\n"
     ]
    },
    {
     "name": "stderr",
     "output_type": "stream",
     "text": [
      "\r",
      " 98%|█████████▊| 52/53 [00:51<00:01,  1.57s/it]"
     ]
    },
    {
     "name": "stdout",
     "output_type": "stream",
     "text": [
      "\n",
      "video4_001-045-video4_001-046: overlap = 0.0\n",
      "\n",
      "mean_270619-video4_001-046_opened_cc18.png is INTERESTING\n",
      "\n",
      "video4_001-045-video4_001-046: overlap = 0.0\n"
     ]
    },
    {
     "name": "stderr",
     "output_type": "stream",
     "text": [
      "100%|██████████| 53/53 [00:53<00:00,  1.70s/it]\n",
      "  0%|          | 0/35 [00:00<?, ?it/s]"
     ]
    },
    {
     "name": "stdout",
     "output_type": "stream",
     "text": [
      "\n",
      "video4_001-045-video4_001-046: overlap = 0.0\n",
      "found video4_002/trigger_thr0.005_cl9_op3/cc_filtered_2den0.81_gausrad2.0/\n"
     ]
    },
    {
     "name": "stderr",
     "output_type": "stream",
     "text": [
      "\r",
      "  3%|▎         | 1/35 [00:00<00:25,  1.33it/s]"
     ]
    },
    {
     "name": "stdout",
     "output_type": "stream",
     "text": [
      "\n",
      "mean_270619-video4_002-027_opened_cc06.png: too spherical 3.9260826871890817\n"
     ]
    },
    {
     "name": "stderr",
     "output_type": "stream",
     "text": [
      "\r",
      "  6%|▌         | 2/35 [00:01<00:24,  1.35it/s]"
     ]
    },
    {
     "name": "stdout",
     "output_type": "stream",
     "text": [
      "\n",
      "mean_270619-video4_002-027_opened_cc101.png: too spherical 6.4792335721203225\n"
     ]
    },
    {
     "name": "stderr",
     "output_type": "stream",
     "text": [
      "\r",
      "  9%|▊         | 3/35 [00:02<00:23,  1.38it/s]"
     ]
    },
    {
     "name": "stdout",
     "output_type": "stream",
     "text": [
      "\n",
      "mean_270619-video4_002-027_opened_cc56.png: too spherical 4.14650563294511\n"
     ]
    },
    {
     "name": "stderr",
     "output_type": "stream",
     "text": [
      "\r",
      " 11%|█▏        | 4/35 [00:02<00:22,  1.40it/s]"
     ]
    },
    {
     "name": "stdout",
     "output_type": "stream",
     "text": [
      "\n",
      "mean_270619-video4_002-027_opened_cc78.png is INTERESTING\n"
     ]
    },
    {
     "name": "stderr",
     "output_type": "stream",
     "text": [
      "\r",
      " 14%|█▍        | 5/35 [00:03<00:21,  1.40it/s]"
     ]
    },
    {
     "name": "stdout",
     "output_type": "stream",
     "text": [
      "\n",
      "mean_270619-video4_002-027_opened_cc99.png: too spherical 3.1216836026940156\n"
     ]
    },
    {
     "name": "stderr",
     "output_type": "stream",
     "text": [
      "\r",
      " 17%|█▋        | 6/35 [00:04<00:20,  1.40it/s]"
     ]
    },
    {
     "name": "stdout",
     "output_type": "stream",
     "text": [
      "\n",
      "mean_270619-video4_002-028_opened_cc04.png: too spherical 1.4198143516030923\n"
     ]
    },
    {
     "name": "stderr",
     "output_type": "stream",
     "text": [
      "\r",
      " 20%|██        | 7/35 [00:04<00:19,  1.41it/s]"
     ]
    },
    {
     "name": "stdout",
     "output_type": "stream",
     "text": [
      "\n",
      "mean_270619-video4_002-028_opened_cc50.png: too spherical 6.597539976233751\n",
      "\n",
      "mean_270619-video4_002-028_opened_cc56.png is INTERESTING\n"
     ]
    },
    {
     "name": "stderr",
     "output_type": "stream",
     "text": [
      "\r",
      " 23%|██▎       | 8/35 [00:06<00:24,  1.11it/s]"
     ]
    },
    {
     "name": "stdout",
     "output_type": "stream",
     "text": [
      "\n",
      "video4_002-027-video4_002-028: overlap = 0.0\n",
      "\n",
      "mean_270619-video4_002-029_opened_cc03.png is INTERESTING\n"
     ]
    },
    {
     "name": "stderr",
     "output_type": "stream",
     "text": [
      "\r",
      " 26%|██▌       | 9/35 [00:07<00:26,  1.04s/it]"
     ]
    },
    {
     "name": "stdout",
     "output_type": "stream",
     "text": [
      "\n",
      "video4_002-028-video4_002-029: overlap = 0.0\n",
      "\n",
      "mean_270619-video4_002-029_opened_cc14.png is INTERESTING\n"
     ]
    },
    {
     "name": "stderr",
     "output_type": "stream",
     "text": [
      "\r",
      " 29%|██▊       | 10/35 [00:09<00:28,  1.13s/it]"
     ]
    },
    {
     "name": "stdout",
     "output_type": "stream",
     "text": [
      "\n",
      "video4_002-028-video4_002-029: overlap = 0.0\n"
     ]
    },
    {
     "name": "stderr",
     "output_type": "stream",
     "text": [
      "\r",
      " 31%|███▏      | 11/35 [00:09<00:24,  1.01s/it]"
     ]
    },
    {
     "name": "stdout",
     "output_type": "stream",
     "text": [
      "\n",
      "mean_270619-video4_002-029_opened_cc28.png: too spherical 2.711394657673636\n"
     ]
    },
    {
     "name": "stderr",
     "output_type": "stream",
     "text": [
      "\r",
      " 34%|███▍      | 12/35 [00:10<00:21,  1.09it/s]"
     ]
    },
    {
     "name": "stdout",
     "output_type": "stream",
     "text": [
      "\n",
      "mean_270619-video4_002-029_opened_cc35.png: too spherical 4.337489607297759\n"
     ]
    },
    {
     "name": "stderr",
     "output_type": "stream",
     "text": [
      "\r",
      " 37%|███▋      | 13/35 [00:11<00:18,  1.18it/s]"
     ]
    },
    {
     "name": "stdout",
     "output_type": "stream",
     "text": [
      "\n",
      "mean_270619-video4_002-029_opened_cc37.png: too spherical 1.475779879223112\n"
     ]
    },
    {
     "name": "stderr",
     "output_type": "stream",
     "text": [
      "\r",
      " 40%|████      | 14/35 [00:11<00:16,  1.25it/s]"
     ]
    },
    {
     "name": "stdout",
     "output_type": "stream",
     "text": [
      "\n",
      "mean_270619-video4_002-029_opened_cc58.png: too spherical 6.877614934558786\n"
     ]
    },
    {
     "name": "stderr",
     "output_type": "stream",
     "text": [
      "\r",
      " 43%|████▎     | 15/35 [00:12<00:15,  1.30it/s]"
     ]
    },
    {
     "name": "stdout",
     "output_type": "stream",
     "text": [
      "\n",
      "mean_270619-video4_002-029_opened_cc76.png: too spherical 8.041787191490041\n"
     ]
    },
    {
     "name": "stderr",
     "output_type": "stream",
     "text": [
      "\r",
      " 46%|████▌     | 16/35 [00:13<00:14,  1.34it/s]"
     ]
    },
    {
     "name": "stdout",
     "output_type": "stream",
     "text": [
      "\n",
      "mean_270619-video4_002-033_opened_cc05.png is INTERESTING\n",
      "\n",
      "mean_270619-video4_002-034_opened_cc07.png is INTERESTING\n"
     ]
    },
    {
     "name": "stderr",
     "output_type": "stream",
     "text": [
      "\r",
      " 49%|████▊     | 17/35 [00:14<00:16,  1.07it/s]"
     ]
    },
    {
     "name": "stdout",
     "output_type": "stream",
     "text": [
      "\n",
      "video4_002-033-video4_002-034: overlap = 0.0\n"
     ]
    },
    {
     "name": "stderr",
     "output_type": "stream",
     "text": [
      "\r",
      " 51%|█████▏    | 18/35 [00:15<00:15,  1.13it/s]"
     ]
    },
    {
     "name": "stdout",
     "output_type": "stream",
     "text": [
      "\n",
      "mean_270619-video4_002-047_opened_cc43.png: too spherical 1.6113464593837115\n"
     ]
    },
    {
     "name": "stderr",
     "output_type": "stream",
     "text": [
      "\r",
      " 54%|█████▍    | 19/35 [00:16<00:13,  1.20it/s]"
     ]
    },
    {
     "name": "stdout",
     "output_type": "stream",
     "text": [
      "\n",
      "mean_270619-video4_002-047_opened_cc62.png: too spherical 1.5793270882701065\n"
     ]
    },
    {
     "name": "stderr",
     "output_type": "stream",
     "text": [
      "\r",
      " 57%|█████▋    | 20/35 [00:16<00:12,  1.25it/s]"
     ]
    },
    {
     "name": "stdout",
     "output_type": "stream",
     "text": [
      "\n",
      "mean_270619-video4_002-048_opened_cc01.png: too spherical 5.129784471320874\n"
     ]
    },
    {
     "name": "stderr",
     "output_type": "stream",
     "text": [
      "\r",
      " 60%|██████    | 21/35 [00:17<00:11,  1.26it/s]"
     ]
    },
    {
     "name": "stdout",
     "output_type": "stream",
     "text": [
      "\n",
      "mean_270619-video4_002-048_opened_cc03.png: too spherical 1.7582837407346505\n"
     ]
    },
    {
     "name": "stderr",
     "output_type": "stream",
     "text": [
      "\r",
      " 63%|██████▎   | 22/35 [00:18<00:10,  1.28it/s]"
     ]
    },
    {
     "name": "stdout",
     "output_type": "stream",
     "text": [
      "\n",
      "mean_270619-video4_002-048_opened_cc04.png is INTERESTING\n"
     ]
    },
    {
     "name": "stderr",
     "output_type": "stream",
     "text": [
      "\r",
      " 66%|██████▌   | 23/35 [00:19<00:09,  1.30it/s]"
     ]
    },
    {
     "name": "stdout",
     "output_type": "stream",
     "text": [
      "\n",
      "mean_270619-video4_002-048_opened_cc05.png: too spherical 3.2356184176389906\n"
     ]
    },
    {
     "name": "stderr",
     "output_type": "stream",
     "text": [
      "\r",
      " 69%|██████▊   | 24/35 [00:19<00:08,  1.33it/s]"
     ]
    },
    {
     "name": "stdout",
     "output_type": "stream",
     "text": [
      "\n",
      "mean_270619-video4_002-048_opened_cc07.png: too spherical 3.888598183375008\n"
     ]
    },
    {
     "name": "stderr",
     "output_type": "stream",
     "text": [
      "\r",
      " 71%|███████▏  | 25/35 [00:20<00:07,  1.35it/s]"
     ]
    },
    {
     "name": "stdout",
     "output_type": "stream",
     "text": [
      "\n",
      "mean_270619-video4_002-048_opened_cc12.png is INTERESTING\n"
     ]
    },
    {
     "name": "stderr",
     "output_type": "stream",
     "text": [
      "\r",
      " 74%|███████▍  | 26/35 [00:21<00:06,  1.37it/s]"
     ]
    },
    {
     "name": "stdout",
     "output_type": "stream",
     "text": [
      "\n",
      "mean_270619-video4_002-048_opened_cc13.png: too spherical 4.241147431783227\n"
     ]
    },
    {
     "name": "stderr",
     "output_type": "stream",
     "text": [
      "\r",
      " 77%|███████▋  | 27/35 [00:21<00:05,  1.35it/s]"
     ]
    },
    {
     "name": "stdout",
     "output_type": "stream",
     "text": [
      "\n",
      "mean_270619-video4_002-048_opened_cc14.png: too spherical 2.9089565875189076\n"
     ]
    },
    {
     "name": "stderr",
     "output_type": "stream",
     "text": [
      "\r",
      " 80%|████████  | 28/35 [00:22<00:05,  1.37it/s]"
     ]
    },
    {
     "name": "stdout",
     "output_type": "stream",
     "text": [
      "\n",
      "mean_270619-video4_002-048_opened_cc18.png: too crowded: 3.7403549382716053\n"
     ]
    },
    {
     "name": "stderr",
     "output_type": "stream",
     "text": [
      "\r",
      " 83%|████████▎ | 29/35 [00:23<00:04,  1.37it/s]"
     ]
    },
    {
     "name": "stdout",
     "output_type": "stream",
     "text": [
      "\n",
      "mean_270619-video4_002-048_opened_cc25.png: too spherical 2.8179052865396343\n"
     ]
    },
    {
     "name": "stderr",
     "output_type": "stream",
     "text": [
      "\r",
      " 86%|████████▌ | 30/35 [00:24<00:03,  1.37it/s]"
     ]
    },
    {
     "name": "stdout",
     "output_type": "stream",
     "text": [
      "\n",
      "mean_270619-video4_002-048_opened_cc30.png: too spherical 3.0797609716480743\n"
     ]
    },
    {
     "name": "stderr",
     "output_type": "stream",
     "text": [
      "\r",
      " 89%|████████▊ | 31/35 [00:24<00:02,  1.37it/s]"
     ]
    },
    {
     "name": "stdout",
     "output_type": "stream",
     "text": [
      "\n",
      "mean_270619-video4_002-048_opened_cc34.png: too spherical 9.286984325363113\n"
     ]
    },
    {
     "name": "stderr",
     "output_type": "stream",
     "text": [
      "\r",
      " 91%|█████████▏| 32/35 [00:25<00:02,  1.39it/s]"
     ]
    },
    {
     "name": "stdout",
     "output_type": "stream",
     "text": [
      "\n",
      "mean_270619-video4_002-048_opened_cc42.png: too spherical 6.204530638947261\n"
     ]
    },
    {
     "name": "stderr",
     "output_type": "stream",
     "text": [
      "\r",
      " 94%|█████████▍| 33/35 [00:26<00:01,  1.41it/s]"
     ]
    },
    {
     "name": "stdout",
     "output_type": "stream",
     "text": [
      "\n",
      "mean_270619-video4_002-048_opened_cc50.png: too spherical 7.9435672132186435\n"
     ]
    },
    {
     "name": "stderr",
     "output_type": "stream",
     "text": [
      "\r",
      " 97%|█████████▋| 34/35 [00:26<00:00,  1.41it/s]"
     ]
    },
    {
     "name": "stdout",
     "output_type": "stream",
     "text": [
      "\n",
      "mean_270619-video4_002-028_opened_cc36.png: too spherical 8.053476142632219\n"
     ]
    },
    {
     "name": "stderr",
     "output_type": "stream",
     "text": [
      "100%|██████████| 35/35 [00:27<00:00,  1.40it/s]\n",
      "  0%|          | 0/19 [00:00<?, ?it/s]"
     ]
    },
    {
     "name": "stdout",
     "output_type": "stream",
     "text": [
      "\n",
      "mean_270619-video4_002-047_opened_cc30.png: too spherical 6.6523615941164485\n",
      "found video4_003/trigger_thr0.005_cl9_op3/cc_filtered_2den0.81_gausrad2.0/\n"
     ]
    },
    {
     "name": "stderr",
     "output_type": "stream",
     "text": [
      "\r",
      "  5%|▌         | 1/19 [00:00<00:14,  1.22it/s]"
     ]
    },
    {
     "name": "stdout",
     "output_type": "stream",
     "text": [
      "\n",
      "mean_270619-video4_003-023_opened_cc14.png: too spherical 7.432890397169826\n"
     ]
    },
    {
     "name": "stderr",
     "output_type": "stream",
     "text": [
      "\r",
      " 11%|█         | 2/19 [00:01<00:13,  1.28it/s]"
     ]
    },
    {
     "name": "stdout",
     "output_type": "stream",
     "text": [
      "\n",
      "mean_270619-video4_003-011_opened_cc11.png is INTERESTING\n",
      "\n",
      "mean_270619-video4_003-012_opened_cc10.png is INTERESTING\n"
     ]
    },
    {
     "name": "stderr",
     "output_type": "stream",
     "text": [
      "\r",
      " 16%|█▌        | 3/19 [00:02<00:15,  1.05it/s]"
     ]
    },
    {
     "name": "stdout",
     "output_type": "stream",
     "text": [
      "\n",
      "video4_003-011-video4_003-012: overlap = 0.0\n"
     ]
    },
    {
     "name": "stderr",
     "output_type": "stream",
     "text": [
      "\r",
      " 21%|██        | 4/19 [00:03<00:13,  1.14it/s]"
     ]
    },
    {
     "name": "stdout",
     "output_type": "stream",
     "text": [
      "\n",
      "mean_270619-video4_003-015_opened_cc11.png: too spherical 8.314815053401935\n"
     ]
    },
    {
     "name": "stderr",
     "output_type": "stream",
     "text": [
      "\r",
      " 26%|██▋       | 5/19 [00:04<00:11,  1.21it/s]"
     ]
    },
    {
     "name": "stdout",
     "output_type": "stream",
     "text": [
      "\n",
      "mean_270619-video4_003-023_opened_cc01.png: too spherical 2.958662269775914\n"
     ]
    },
    {
     "name": "stderr",
     "output_type": "stream",
     "text": [
      "\r",
      " 32%|███▏      | 6/19 [00:04<00:10,  1.26it/s]"
     ]
    },
    {
     "name": "stdout",
     "output_type": "stream",
     "text": [
      "\n",
      "mean_270619-video4_003-023_opened_cc04.png: too spherical 1.164218685475473\n"
     ]
    },
    {
     "name": "stderr",
     "output_type": "stream",
     "text": [
      "\r",
      " 37%|███▋      | 7/19 [00:05<00:09,  1.29it/s]"
     ]
    },
    {
     "name": "stdout",
     "output_type": "stream",
     "text": [
      "\n",
      "mean_270619-video4_003-023_opened_cc05.png: too spherical 2.0925077848950133\n"
     ]
    },
    {
     "name": "stderr",
     "output_type": "stream",
     "text": [
      "\r",
      " 42%|████▏     | 8/19 [00:06<00:08,  1.31it/s]"
     ]
    },
    {
     "name": "stdout",
     "output_type": "stream",
     "text": [
      "\n",
      "mean_270619-video4_003-023_opened_cc23.png: too spherical 1.9311289568393966\n"
     ]
    },
    {
     "name": "stderr",
     "output_type": "stream",
     "text": [
      "\r",
      " 47%|████▋     | 9/19 [00:07<00:07,  1.33it/s]"
     ]
    },
    {
     "name": "stdout",
     "output_type": "stream",
     "text": [
      "\n",
      "mean_270619-video4_003-023_opened_cc24.png: too spherical 4.021465041800078\n"
     ]
    },
    {
     "name": "stderr",
     "output_type": "stream",
     "text": [
      "\r",
      " 53%|█████▎    | 10/19 [00:07<00:06,  1.36it/s]"
     ]
    },
    {
     "name": "stdout",
     "output_type": "stream",
     "text": [
      "\n",
      "mean_270619-video4_003-023_opened_cc32.png: too spherical 1.7164376477767431\n"
     ]
    },
    {
     "name": "stderr",
     "output_type": "stream",
     "text": [
      "\r",
      " 58%|█████▊    | 11/19 [00:08<00:05,  1.37it/s]"
     ]
    },
    {
     "name": "stdout",
     "output_type": "stream",
     "text": [
      "\n",
      "mean_270619-video4_003-023_opened_cc36.png: too spherical 2.5653145717111503\n"
     ]
    },
    {
     "name": "stderr",
     "output_type": "stream",
     "text": [
      "\r",
      " 63%|██████▎   | 12/19 [00:09<00:05,  1.38it/s]"
     ]
    },
    {
     "name": "stdout",
     "output_type": "stream",
     "text": [
      "\n",
      "mean_270619-video4_003-023_opened_cc65.png: too spherical 2.635369311208282\n"
     ]
    },
    {
     "name": "stderr",
     "output_type": "stream",
     "text": [
      "\r",
      " 68%|██████▊   | 13/19 [00:10<00:04,  1.39it/s]"
     ]
    },
    {
     "name": "stdout",
     "output_type": "stream",
     "text": [
      "\n",
      "mean_270619-video4_003-023_opened_cc78.png: too spherical 4.145805705883489\n"
     ]
    },
    {
     "name": "stderr",
     "output_type": "stream",
     "text": [
      "\r",
      " 74%|███████▎  | 14/19 [00:10<00:03,  1.39it/s]"
     ]
    },
    {
     "name": "stdout",
     "output_type": "stream",
     "text": [
      "\n",
      "mean_270619-video4_003-023_opened_cc91.png: too spherical 4.262354119218388\n"
     ]
    },
    {
     "name": "stderr",
     "output_type": "stream",
     "text": [
      "\r",
      " 79%|███████▉  | 15/19 [00:11<00:02,  1.37it/s]"
     ]
    },
    {
     "name": "stdout",
     "output_type": "stream",
     "text": [
      "\n",
      "mean_270619-video4_003-037_opened_cc02.png: too crowded: 7.172453703703704\n"
     ]
    },
    {
     "name": "stderr",
     "output_type": "stream",
     "text": [
      "\r",
      " 84%|████████▍ | 16/19 [00:12<00:02,  1.34it/s]"
     ]
    },
    {
     "name": "stdout",
     "output_type": "stream",
     "text": [
      "\n",
      "mean_270619-video4_003-037_opened_cc06.png is INTERESTING\n"
     ]
    },
    {
     "name": "stderr",
     "output_type": "stream",
     "text": [
      "\r",
      " 89%|████████▉ | 17/19 [00:13<00:01,  1.34it/s]"
     ]
    },
    {
     "name": "stdout",
     "output_type": "stream",
     "text": [
      "\n",
      "mean_270619-video4_003-037_opened_cc10.png is INTERESTING\n"
     ]
    },
    {
     "name": "stderr",
     "output_type": "stream",
     "text": [
      "\r",
      " 95%|█████████▍| 18/19 [00:13<00:00,  1.35it/s]"
     ]
    },
    {
     "name": "stdout",
     "output_type": "stream",
     "text": [
      "\n",
      "mean_270619-video4_003-037_opened_cc19.png is INTERESTING\n",
      "\n",
      "mean_270619-video4_003-038_opened_cc11.png is INTERESTING\n",
      "\n",
      "video4_003-037-video4_003-038: overlap = 0.0\n",
      "\n",
      "video4_003-037-video4_003-038: overlap = 0.0\n"
     ]
    },
    {
     "name": "stderr",
     "output_type": "stream",
     "text": [
      "100%|██████████| 19/19 [00:16<00:00,  1.35s/it]\n",
      "  0%|          | 0/51 [00:00<?, ?it/s]"
     ]
    },
    {
     "name": "stdout",
     "output_type": "stream",
     "text": [
      "\n",
      "video4_003-037-video4_003-038: overlap = 0.0\n",
      "found video4_004/trigger_thr0.005_cl9_op3/cc_filtered_2den0.81_gausrad2.0/\n"
     ]
    },
    {
     "name": "stderr",
     "output_type": "stream",
     "text": [
      "\r",
      "  2%|▏         | 1/51 [00:00<00:40,  1.25it/s]"
     ]
    },
    {
     "name": "stdout",
     "output_type": "stream",
     "text": [
      "\n",
      "mean_270619-video4_004-012_opened_cc01.png is INTERESTING\n"
     ]
    },
    {
     "name": "stderr",
     "output_type": "stream",
     "text": [
      "\r",
      "  4%|▍         | 2/51 [00:01<00:38,  1.28it/s]"
     ]
    },
    {
     "name": "stdout",
     "output_type": "stream",
     "text": [
      "\n",
      "mean_270619-video4_004-012_opened_cc11.png: too spherical 8.145294006241373\n"
     ]
    },
    {
     "name": "stderr",
     "output_type": "stream",
     "text": [
      "\r",
      "  6%|▌         | 3/51 [00:02<00:37,  1.27it/s]"
     ]
    },
    {
     "name": "stdout",
     "output_type": "stream",
     "text": [
      "\n",
      "mean_270619-video4_004-012_opened_cc13.png: too spherical 5.542512970080377\n"
     ]
    },
    {
     "name": "stderr",
     "output_type": "stream",
     "text": [
      "\r",
      "  8%|▊         | 4/51 [00:03<00:36,  1.29it/s]"
     ]
    },
    {
     "name": "stdout",
     "output_type": "stream",
     "text": [
      "\n",
      "mean_270619-video4_004-012_opened_cc25.png is INTERESTING\n"
     ]
    },
    {
     "name": "stderr",
     "output_type": "stream",
     "text": [
      "\r",
      " 10%|▉         | 5/51 [00:03<00:35,  1.30it/s]"
     ]
    },
    {
     "name": "stdout",
     "output_type": "stream",
     "text": [
      "\n",
      "mean_270619-video4_004-012_opened_cc27.png is INTERESTING\n"
     ]
    },
    {
     "name": "stderr",
     "output_type": "stream",
     "text": [
      "\r",
      " 12%|█▏        | 6/51 [00:04<00:33,  1.33it/s]"
     ]
    },
    {
     "name": "stdout",
     "output_type": "stream",
     "text": [
      "\n",
      "mean_270619-video4_004-012_opened_cc37.png is INTERESTING\n"
     ]
    },
    {
     "name": "stderr",
     "output_type": "stream",
     "text": [
      "\r",
      " 14%|█▎        | 7/51 [00:05<00:32,  1.34it/s]"
     ]
    },
    {
     "name": "stdout",
     "output_type": "stream",
     "text": [
      "\n",
      "mean_270619-video4_004-012_opened_cc40.png: too spherical 6.521868866023442\n",
      "\n",
      "mean_270619-video4_004-013_opened_cc13.png is INTERESTING\n",
      "\n",
      "video4_004-012-video4_004-013: overlap = 0.0\n",
      "\n",
      "video4_004-012-video4_004-013: overlap = 0.0\n",
      "\n",
      "video4_004-012-video4_004-013: overlap = 0.0\n"
     ]
    },
    {
     "name": "stderr",
     "output_type": "stream",
     "text": [
      "\r",
      " 16%|█▌        | 8/51 [00:08<01:05,  1.53s/it]"
     ]
    },
    {
     "name": "stdout",
     "output_type": "stream",
     "text": [
      "\n",
      "video4_004-012-video4_004-013: overlap = 0.0\n",
      "\n",
      "mean_270619-video4_004-014_opened_cc04.png is INTERESTING\n"
     ]
    },
    {
     "name": "stderr",
     "output_type": "stream",
     "text": [
      "\r",
      " 18%|█▊        | 9/51 [00:10<01:02,  1.48s/it]"
     ]
    },
    {
     "name": "stdout",
     "output_type": "stream",
     "text": [
      "\n",
      "video4_004-013-video4_004-014: overlap = 0.0\n",
      "\n",
      "mean_270619-video4_004-014_opened_cc13.png is INTERESTING\n"
     ]
    },
    {
     "name": "stderr",
     "output_type": "stream",
     "text": [
      "\r",
      " 20%|█▉        | 10/51 [00:11<00:59,  1.45s/it]"
     ]
    },
    {
     "name": "stdout",
     "output_type": "stream",
     "text": [
      "\n",
      "video4_004-013-video4_004-014: overlap = 0.0\n",
      "\n",
      "mean_270619-video4_004-015_opened_cc06.png is INTERESTING\n",
      "\n",
      "video4_004-014-video4_004-015: overlap = 0.4082201323580634\n"
     ]
    },
    {
     "name": "stderr",
     "output_type": "stream",
     "text": [
      "\r",
      " 22%|██▏       | 11/51 [00:13<01:05,  1.64s/it]"
     ]
    },
    {
     "name": "stdout",
     "output_type": "stream",
     "text": [
      "\n",
      "video4_004-014-video4_004-015: overlap = 0.0\n"
     ]
    },
    {
     "name": "stderr",
     "output_type": "stream",
     "text": [
      "\r",
      " 24%|██▎       | 12/51 [00:14<00:52,  1.36s/it]"
     ]
    },
    {
     "name": "stdout",
     "output_type": "stream",
     "text": [
      "\n",
      "mean_270619-video4_004-015_opened_cc19.png: too spherical 2.8121135787100227\n",
      "\n",
      "mean_270619-video4_004-015_opened_cc36.png is INTERESTING\n",
      "\n",
      "video4_004-014-video4_004-015: overlap = 0.0\n"
     ]
    },
    {
     "name": "stderr",
     "output_type": "stream",
     "text": [
      "\r",
      " 25%|██▌       | 13/51 [00:16<00:58,  1.55s/it]"
     ]
    },
    {
     "name": "stdout",
     "output_type": "stream",
     "text": [
      "\n",
      "video4_004-014-video4_004-015: overlap = 0.0\n",
      "\n",
      "mean_270619-video4_004-015_opened_cc37.png is INTERESTING\n",
      "\n",
      "video4_004-014-video4_004-015: overlap = 0.0\n"
     ]
    },
    {
     "name": "stderr",
     "output_type": "stream",
     "text": [
      "\r",
      " 27%|██▋       | 14/51 [00:18<01:02,  1.69s/it]"
     ]
    },
    {
     "name": "stdout",
     "output_type": "stream",
     "text": [
      "\n",
      "video4_004-014-video4_004-015: overlap = 0.0\n",
      "\n",
      "mean_270619-video4_004-015_opened_cc51.png is INTERESTING\n",
      "\n",
      "video4_004-014-video4_004-015: overlap = 0.0\n"
     ]
    },
    {
     "name": "stderr",
     "output_type": "stream",
     "text": [
      "\r",
      " 29%|██▉       | 15/51 [00:20<01:04,  1.80s/it]"
     ]
    },
    {
     "name": "stdout",
     "output_type": "stream",
     "text": [
      "\n",
      "video4_004-014-video4_004-015: overlap = 0.8624299065420561\n",
      "\n",
      "mean_270619-video4_004-015_opened_cc56.png is INTERESTING\n"
     ]
    },
    {
     "name": "stderr",
     "output_type": "stream",
     "text": [
      "\r",
      " 31%|███▏      | 16/51 [00:21<00:58,  1.68s/it]"
     ]
    },
    {
     "name": "stdout",
     "output_type": "stream",
     "text": [
      "\n",
      "video4_004-014-video4_004-015: overlap = 0.0\n"
     ]
    },
    {
     "name": "stderr",
     "output_type": "stream",
     "text": [
      "\r",
      " 33%|███▎      | 17/51 [00:22<00:47,  1.38s/it]"
     ]
    },
    {
     "name": "stdout",
     "output_type": "stream",
     "text": [
      "\n",
      "mean_270619-video4_004-015_opened_cc67.png: too spherical 9.553215314295887\n"
     ]
    },
    {
     "name": "stderr",
     "output_type": "stream",
     "text": [
      "\r",
      " 35%|███▌      | 18/51 [00:23<00:39,  1.20s/it]"
     ]
    },
    {
     "name": "stdout",
     "output_type": "stream",
     "text": [
      "\n",
      "mean_270619-video4_004-016_opened_cc01.png: too crowded: 14.203317901234566\n"
     ]
    },
    {
     "name": "stderr",
     "output_type": "stream",
     "text": [
      "\r",
      " 37%|███▋      | 19/51 [00:23<00:33,  1.05s/it]"
     ]
    },
    {
     "name": "stdout",
     "output_type": "stream",
     "text": [
      "\n",
      "mean_270619-video4_004-016_opened_cc14.png: too spherical 2.2652231572777666\n"
     ]
    },
    {
     "name": "stderr",
     "output_type": "stream",
     "text": [
      "\r",
      " 39%|███▉      | 20/51 [00:24<00:29,  1.05it/s]"
     ]
    },
    {
     "name": "stdout",
     "output_type": "stream",
     "text": [
      "\n",
      "mean_270619-video4_004-016_opened_cc23.png: too spherical 5.0870197099449666\n"
     ]
    },
    {
     "name": "stderr",
     "output_type": "stream",
     "text": [
      "\r",
      " 41%|████      | 21/51 [00:25<00:26,  1.14it/s]"
     ]
    },
    {
     "name": "stdout",
     "output_type": "stream",
     "text": [
      "\n",
      "mean_270619-video4_004-016_opened_cc24.png: too spherical 3.361716949354469\n"
     ]
    },
    {
     "name": "stderr",
     "output_type": "stream",
     "text": [
      "\r",
      " 43%|████▎     | 22/51 [00:25<00:23,  1.21it/s]"
     ]
    },
    {
     "name": "stdout",
     "output_type": "stream",
     "text": [
      "\n",
      "mean_270619-video4_004-033_opened_cc02.png is INTERESTING\n"
     ]
    },
    {
     "name": "stderr",
     "output_type": "stream",
     "text": [
      "\r",
      " 45%|████▌     | 23/51 [00:26<00:22,  1.27it/s]"
     ]
    },
    {
     "name": "stdout",
     "output_type": "stream",
     "text": [
      "\n",
      "mean_270619-video4_004-033_opened_cc06.png is INTERESTING\n"
     ]
    },
    {
     "name": "stderr",
     "output_type": "stream",
     "text": [
      "\r",
      " 47%|████▋     | 24/51 [00:27<00:20,  1.31it/s]"
     ]
    },
    {
     "name": "stdout",
     "output_type": "stream",
     "text": [
      "\n",
      "mean_270619-video4_004-033_opened_cc16.png is INTERESTING\n"
     ]
    },
    {
     "name": "stderr",
     "output_type": "stream",
     "text": [
      "\r",
      " 49%|████▉     | 25/51 [00:28<00:19,  1.35it/s]"
     ]
    },
    {
     "name": "stdout",
     "output_type": "stream",
     "text": [
      "\n",
      "mean_270619-video4_004-045_opened_cc06.png is INTERESTING\n"
     ]
    },
    {
     "name": "stderr",
     "output_type": "stream",
     "text": [
      "\r",
      " 51%|█████     | 26/51 [00:28<00:18,  1.36it/s]"
     ]
    },
    {
     "name": "stdout",
     "output_type": "stream",
     "text": [
      "\n",
      "mean_270619-video4_004-045_opened_cc11.png: too spherical 1.8608358490812726\n"
     ]
    },
    {
     "name": "stderr",
     "output_type": "stream",
     "text": [
      "\r",
      " 53%|█████▎    | 27/51 [00:29<00:17,  1.35it/s]"
     ]
    },
    {
     "name": "stdout",
     "output_type": "stream",
     "text": [
      "\n",
      "mean_270619-video4_004-045_opened_cc18.png: too spherical 9.698968888173367\n"
     ]
    },
    {
     "name": "stderr",
     "output_type": "stream",
     "text": [
      "\r",
      " 55%|█████▍    | 28/51 [00:30<00:16,  1.37it/s]"
     ]
    },
    {
     "name": "stdout",
     "output_type": "stream",
     "text": [
      "\n",
      "mean_270619-video4_004-045_opened_cc43.png: too spherical 7.812972023250057\n"
     ]
    },
    {
     "name": "stderr",
     "output_type": "stream",
     "text": [
      "\r",
      " 57%|█████▋    | 29/51 [00:30<00:15,  1.39it/s]"
     ]
    },
    {
     "name": "stdout",
     "output_type": "stream",
     "text": [
      "\n",
      "mean_270619-video4_004-045_opened_cc69.png: too spherical 3.234332615326759\n",
      "\n",
      "mean_270619-video4_004-013_opened_cc09.png is INTERESTING\n",
      "\n",
      "video4_004-012-video4_004-013: overlap = 0.0\n",
      "\n",
      "video4_004-012-video4_004-013: overlap = 0.0\n",
      "\n",
      "video4_004-012-video4_004-013: overlap = 0.0\n"
     ]
    },
    {
     "name": "stderr",
     "output_type": "stream",
     "text": [
      "\r",
      " 59%|█████▉    | 30/51 [00:34<00:31,  1.52s/it]"
     ]
    },
    {
     "name": "stdout",
     "output_type": "stream",
     "text": [
      "\n",
      "video4_004-012-video4_004-013: overlap = 0.7093002657218778\n"
     ]
    },
    {
     "name": "stderr",
     "output_type": "stream",
     "text": [
      "\r",
      " 61%|██████    | 31/51 [00:34<00:25,  1.27s/it]"
     ]
    },
    {
     "name": "stdout",
     "output_type": "stream",
     "text": [
      "\n",
      "mean_270619-video4_004-016_opened_cc05.png: too spherical 7.132582337592258\n"
     ]
    },
    {
     "name": "stderr",
     "output_type": "stream",
     "text": [
      "\r",
      " 63%|██████▎   | 32/51 [00:35<00:20,  1.09s/it]"
     ]
    },
    {
     "name": "stdout",
     "output_type": "stream",
     "text": [
      "\n",
      "mean_270619-video4_004-045_opened_cc78.png: too spherical 9.307396011882823\n"
     ]
    },
    {
     "name": "stderr",
     "output_type": "stream",
     "text": [
      "\r",
      " 65%|██████▍   | 33/51 [00:36<00:17,  1.00it/s]"
     ]
    },
    {
     "name": "stdout",
     "output_type": "stream",
     "text": [
      "\n",
      "mean_270619-video4_004-046_opened_cc02.png: too crowded: 10.769097222222223\n",
      "\n",
      "mean_270619-video4_004-046_opened_cc06.png is INTERESTING\n"
     ]
    },
    {
     "name": "stderr",
     "output_type": "stream",
     "text": [
      "\r",
      " 67%|██████▋   | 34/51 [00:37<00:19,  1.12s/it]"
     ]
    },
    {
     "name": "stdout",
     "output_type": "stream",
     "text": [
      "\n",
      "video4_004-045-video4_004-046: overlap = 0.0\n"
     ]
    },
    {
     "name": "stderr",
     "output_type": "stream",
     "text": [
      "\r",
      " 69%|██████▊   | 35/51 [00:38<00:16,  1.00s/it]"
     ]
    },
    {
     "name": "stdout",
     "output_type": "stream",
     "text": [
      "\n",
      "mean_270619-video4_004-046_opened_cc14.png: too spherical 3.2264701292122115\n",
      "\n",
      "mean_270619-video4_004-046_opened_cc21.png is INTERESTING\n"
     ]
    },
    {
     "name": "stderr",
     "output_type": "stream",
     "text": [
      "\r",
      " 71%|███████   | 36/51 [00:40<00:17,  1.19s/it]"
     ]
    },
    {
     "name": "stdout",
     "output_type": "stream",
     "text": [
      "\n",
      "video4_004-045-video4_004-046: overlap = 0.0\n"
     ]
    },
    {
     "name": "stderr",
     "output_type": "stream",
     "text": [
      "\r",
      " 73%|███████▎  | 37/51 [00:41<00:15,  1.09s/it]"
     ]
    },
    {
     "name": "stdout",
     "output_type": "stream",
     "text": [
      "\n",
      "mean_270619-video4_004-046_opened_cc24.png: too spherical 5.673903677044592\n"
     ]
    },
    {
     "name": "stderr",
     "output_type": "stream",
     "text": [
      "\r",
      " 75%|███████▍  | 38/51 [00:41<00:13,  1.03s/it]"
     ]
    },
    {
     "name": "stdout",
     "output_type": "stream",
     "text": [
      "\n",
      "mean_270619-video4_004-046_opened_cc35.png: too spherical 2.6764955581028778\n"
     ]
    },
    {
     "name": "stderr",
     "output_type": "stream",
     "text": [
      "\r",
      " 76%|███████▋  | 39/51 [00:42<00:11,  1.01it/s]"
     ]
    },
    {
     "name": "stdout",
     "output_type": "stream",
     "text": [
      "\n",
      "mean_270619-video4_004-046_opened_cc39.png: too spherical 5.368017067687581\n"
     ]
    },
    {
     "name": "stderr",
     "output_type": "stream",
     "text": [
      "\r",
      " 78%|███████▊  | 40/51 [00:43<00:11,  1.02s/it]"
     ]
    },
    {
     "name": "stdout",
     "output_type": "stream",
     "text": [
      "\n",
      "mean_270619-video4_004-047_opened_cc03.png: too spherical 3.51477139386007\n"
     ]
    },
    {
     "name": "stderr",
     "output_type": "stream",
     "text": [
      "\r",
      " 80%|████████  | 41/51 [00:44<00:09,  1.04it/s]"
     ]
    },
    {
     "name": "stdout",
     "output_type": "stream",
     "text": [
      "\n",
      "mean_270619-video4_004-047_opened_cc05.png: too spherical 2.7287563225640605\n"
     ]
    },
    {
     "name": "stderr",
     "output_type": "stream",
     "text": [
      "\r",
      " 82%|████████▏ | 42/51 [00:45<00:08,  1.08it/s]"
     ]
    },
    {
     "name": "stdout",
     "output_type": "stream",
     "text": [
      "\n",
      "mean_270619-video4_004-047_opened_cc07.png: too spherical 1.6272773542375318\n"
     ]
    },
    {
     "name": "stderr",
     "output_type": "stream",
     "text": [
      "\r",
      " 84%|████████▍ | 43/51 [00:46<00:07,  1.14it/s]"
     ]
    },
    {
     "name": "stdout",
     "output_type": "stream",
     "text": [
      "\n",
      "mean_270619-video4_004-047_opened_cc11.png: too spherical 2.904685649363166\n",
      "\n",
      "mean_270619-video4_004-047_opened_cc25.png is INTERESTING\n",
      "\n",
      "video4_004-046-video4_004-047: overlap = 0.0\n"
     ]
    },
    {
     "name": "stderr",
     "output_type": "stream",
     "text": [
      "\r",
      " 86%|████████▋ | 44/51 [00:48<00:09,  1.29s/it]"
     ]
    },
    {
     "name": "stdout",
     "output_type": "stream",
     "text": [
      "\n",
      "video4_004-046-video4_004-047: overlap = 0.0\n"
     ]
    },
    {
     "name": "stderr",
     "output_type": "stream",
     "text": [
      "\r",
      " 88%|████████▊ | 45/51 [00:49<00:06,  1.16s/it]"
     ]
    },
    {
     "name": "stdout",
     "output_type": "stream",
     "text": [
      "\n",
      "mean_270619-video4_004-047_opened_cc35.png: too spherical 4.833129626771026\n"
     ]
    },
    {
     "name": "stderr",
     "output_type": "stream",
     "text": [
      "\r",
      " 90%|█████████ | 46/51 [00:50<00:05,  1.06s/it]"
     ]
    },
    {
     "name": "stdout",
     "output_type": "stream",
     "text": [
      "\n",
      "mean_270619-video4_004-047_opened_cc59.png: too spherical 3.0646461396393643\n"
     ]
    },
    {
     "name": "stderr",
     "output_type": "stream",
     "text": [
      "\r",
      " 92%|█████████▏| 47/51 [00:51<00:04,  1.00s/it]"
     ]
    },
    {
     "name": "stdout",
     "output_type": "stream",
     "text": [
      "\n",
      "mean_270619-video4_004-047_opened_cc60.png: too spherical 1.9372115259811002\n"
     ]
    },
    {
     "name": "stderr",
     "output_type": "stream",
     "text": [
      "\r",
      " 94%|█████████▍| 48/51 [00:51<00:02,  1.08it/s]"
     ]
    },
    {
     "name": "stdout",
     "output_type": "stream",
     "text": [
      "\n",
      "mean_270619-video4_004-047_opened_cc70.png: too spherical 7.890395592460698\n"
     ]
    },
    {
     "name": "stderr",
     "output_type": "stream",
     "text": [
      "\r",
      " 96%|█████████▌| 49/51 [00:52<00:01,  1.14it/s]"
     ]
    },
    {
     "name": "stdout",
     "output_type": "stream",
     "text": [
      "\n",
      "mean_270619-video4_004-047_opened_cc77.png: too spherical 2.6595219234543195\n"
     ]
    },
    {
     "name": "stderr",
     "output_type": "stream",
     "text": [
      "\r",
      " 98%|█████████▊| 50/51 [00:53<00:00,  1.14it/s]"
     ]
    },
    {
     "name": "stdout",
     "output_type": "stream",
     "text": [
      "\n",
      "mean_270619-video4_004-048_opened_cc02.png: too crowded: 16.600308641975307\n",
      "\n",
      "mean_270619-video4_004-048_opened_cc05.png is INTERESTING\n"
     ]
    },
    {
     "name": "stderr",
     "output_type": "stream",
     "text": [
      "100%|██████████| 51/51 [00:55<00:00,  1.07s/it]\n",
      "  0%|          | 0/65 [00:00<?, ?it/s]"
     ]
    },
    {
     "name": "stdout",
     "output_type": "stream",
     "text": [
      "\n",
      "video4_004-047-video4_004-048: overlap = 0.0\n",
      "found video4_005/trigger_thr0.005_cl9_op3/cc_filtered_2den0.81_gausrad2.0/\n"
     ]
    },
    {
     "name": "stderr",
     "output_type": "stream",
     "text": [
      "\r",
      "  2%|▏         | 1/65 [00:00<00:51,  1.25it/s]"
     ]
    },
    {
     "name": "stdout",
     "output_type": "stream",
     "text": [
      "\n",
      "mean_270619-video4_005-001_opened_cc11.png is INTERESTING\n"
     ]
    },
    {
     "name": "stderr",
     "output_type": "stream",
     "text": [
      "\r",
      "  3%|▎         | 2/65 [00:01<00:51,  1.22it/s]"
     ]
    },
    {
     "name": "stdout",
     "output_type": "stream",
     "text": [
      "\n",
      "mean_270619-video4_005-001_opened_cc16.png: too spherical 1.5631242533949146\n"
     ]
    },
    {
     "name": "stderr",
     "output_type": "stream",
     "text": [
      "\r",
      "  5%|▍         | 3/65 [00:02<00:50,  1.22it/s]"
     ]
    },
    {
     "name": "stdout",
     "output_type": "stream",
     "text": [
      "\n",
      "mean_270619-video4_005-001_opened_cc25.png is INTERESTING\n"
     ]
    },
    {
     "name": "stderr",
     "output_type": "stream",
     "text": [
      "\r",
      "  6%|▌         | 4/65 [00:03<00:48,  1.26it/s]"
     ]
    },
    {
     "name": "stdout",
     "output_type": "stream",
     "text": [
      "\n",
      "mean_270619-video4_005-001_opened_cc54.png: too spherical 3.834382137715311\n"
     ]
    },
    {
     "name": "stderr",
     "output_type": "stream",
     "text": [
      "\r",
      "  8%|▊         | 5/65 [00:03<00:46,  1.28it/s]"
     ]
    },
    {
     "name": "stdout",
     "output_type": "stream",
     "text": [
      "\n",
      "mean_270619-video4_005-001_opened_cc62.png is INTERESTING\n"
     ]
    },
    {
     "name": "stderr",
     "output_type": "stream",
     "text": [
      "\r",
      "  9%|▉         | 6/65 [00:04<00:45,  1.30it/s]"
     ]
    },
    {
     "name": "stdout",
     "output_type": "stream",
     "text": [
      "\n",
      "mean_270619-video4_005-001_opened_cc81.png: too spherical 5.0402003936556765\n"
     ]
    },
    {
     "name": "stderr",
     "output_type": "stream",
     "text": [
      "\r",
      " 11%|█         | 7/65 [00:05<00:45,  1.29it/s]"
     ]
    },
    {
     "name": "stdout",
     "output_type": "stream",
     "text": [
      "\n",
      "mean_270619-video4_005-001_opened_cc85.png is INTERESTING\n"
     ]
    },
    {
     "name": "stderr",
     "output_type": "stream",
     "text": [
      "\r",
      " 12%|█▏        | 8/65 [00:06<00:43,  1.30it/s]"
     ]
    },
    {
     "name": "stdout",
     "output_type": "stream",
     "text": [
      "\n",
      "mean_270619-video4_005-007_opened_cc04.png is INTERESTING\n"
     ]
    },
    {
     "name": "stderr",
     "output_type": "stream",
     "text": [
      "\r",
      " 14%|█▍        | 9/65 [00:07<00:43,  1.28it/s]"
     ]
    },
    {
     "name": "stdout",
     "output_type": "stream",
     "text": [
      "\n",
      "mean_270619-video4_005-007_opened_cc19.png: too spherical 4.5304476101995315\n"
     ]
    },
    {
     "name": "stderr",
     "output_type": "stream",
     "text": [
      "\r",
      " 15%|█▌        | 10/65 [00:07<00:43,  1.26it/s]"
     ]
    },
    {
     "name": "stdout",
     "output_type": "stream",
     "text": [
      "\n",
      "mean_270619-video4_005-008_opened_cc02.png: too spherical 2.681750511423014\n"
     ]
    },
    {
     "name": "stderr",
     "output_type": "stream",
     "text": [
      "\r",
      " 17%|█▋        | 11/65 [00:08<00:43,  1.25it/s]"
     ]
    },
    {
     "name": "stdout",
     "output_type": "stream",
     "text": [
      "\n",
      "mean_270619-video4_005-008_opened_cc06.png: too spherical 7.316039484415914\n"
     ]
    },
    {
     "name": "stderr",
     "output_type": "stream",
     "text": [
      "\r",
      " 18%|█▊        | 12/65 [00:09<00:41,  1.27it/s]"
     ]
    },
    {
     "name": "stdout",
     "output_type": "stream",
     "text": [
      "\n",
      "mean_270619-video4_005-008_opened_cc22.png: too spherical 8.987689109983679\n",
      "\n",
      "mean_270619-video4_005-008_opened_cc31.png is INTERESTING\n"
     ]
    },
    {
     "name": "stderr",
     "output_type": "stream",
     "text": [
      "\r",
      " 20%|██        | 13/65 [00:10<00:52,  1.00s/it]"
     ]
    },
    {
     "name": "stdout",
     "output_type": "stream",
     "text": [
      "\n",
      "video4_005-007-video4_005-008: overlap = 0.0\n",
      "\n",
      "mean_270619-video4_005-009_opened_cc13.png is INTERESTING\n"
     ]
    },
    {
     "name": "stderr",
     "output_type": "stream",
     "text": [
      "\r",
      " 22%|██▏       | 14/65 [00:12<00:59,  1.17s/it]"
     ]
    },
    {
     "name": "stdout",
     "output_type": "stream",
     "text": [
      "\n",
      "video4_005-008-video4_005-009: overlap = 0.0\n"
     ]
    },
    {
     "name": "stderr",
     "output_type": "stream",
     "text": [
      "\r",
      " 23%|██▎       | 15/65 [00:13<00:55,  1.10s/it]"
     ]
    },
    {
     "name": "stdout",
     "output_type": "stream",
     "text": [
      "\n",
      "mean_270619-video4_005-009_opened_cc18.png: too spherical 4.714028980475157\n",
      "\n",
      "mean_270619-video4_005-009_opened_cc26.png is INTERESTING\n"
     ]
    },
    {
     "name": "stderr",
     "output_type": "stream",
     "text": [
      "\r",
      " 25%|██▍       | 16/65 [00:14<00:59,  1.22s/it]"
     ]
    },
    {
     "name": "stdout",
     "output_type": "stream",
     "text": [
      "\n",
      "video4_005-008-video4_005-009: overlap = 0.0\n",
      "\n",
      "mean_270619-video4_005-009_opened_cc35.png is INTERESTING\n"
     ]
    },
    {
     "name": "stderr",
     "output_type": "stream",
     "text": [
      "\r",
      " 26%|██▌       | 17/65 [00:16<01:01,  1.28s/it]"
     ]
    },
    {
     "name": "stdout",
     "output_type": "stream",
     "text": [
      "\n",
      "video4_005-008-video4_005-009: overlap = 0.0\n"
     ]
    },
    {
     "name": "stderr",
     "output_type": "stream",
     "text": [
      "\r",
      " 28%|██▊       | 18/65 [00:17<00:52,  1.12s/it]"
     ]
    },
    {
     "name": "stdout",
     "output_type": "stream",
     "text": [
      "\n",
      "mean_270619-video4_005-009_opened_cc51.png: too spherical 5.169935935279632\n"
     ]
    },
    {
     "name": "stderr",
     "output_type": "stream",
     "text": [
      "\r",
      " 29%|██▉       | 19/65 [00:17<00:46,  1.00s/it]"
     ]
    },
    {
     "name": "stdout",
     "output_type": "stream",
     "text": [
      "\n",
      "mean_270619-video4_005-009_opened_cc66.png: too spherical 1.2983439059739492\n"
     ]
    },
    {
     "name": "stderr",
     "output_type": "stream",
     "text": [
      "\r",
      " 31%|███       | 20/65 [00:18<00:41,  1.08it/s]"
     ]
    },
    {
     "name": "stdout",
     "output_type": "stream",
     "text": [
      "\n",
      "mean_270619-video4_005-010_opened_cc07.png: too spherical 5.077589931774796\n"
     ]
    },
    {
     "name": "stderr",
     "output_type": "stream",
     "text": [
      "\r",
      " 32%|███▏      | 21/65 [00:19<00:38,  1.16it/s]"
     ]
    },
    {
     "name": "stdout",
     "output_type": "stream",
     "text": [
      "\n",
      "mean_270619-video4_005-010_opened_cc15.png: too spherical 3.8972532745765753\n"
     ]
    },
    {
     "name": "stderr",
     "output_type": "stream",
     "text": [
      "\r",
      " 34%|███▍      | 22/65 [00:20<00:35,  1.20it/s]"
     ]
    },
    {
     "name": "stdout",
     "output_type": "stream",
     "text": [
      "\n",
      "mean_270619-video4_005-010_opened_cc16.png: too crowded: 3.085841049382716\n"
     ]
    },
    {
     "name": "stderr",
     "output_type": "stream",
     "text": [
      "\r",
      " 35%|███▌      | 23/65 [00:20<00:33,  1.25it/s]"
     ]
    },
    {
     "name": "stdout",
     "output_type": "stream",
     "text": [
      "\n",
      "mean_270619-video4_005-010_opened_cc55.png: too spherical 2.9288697631027047\n"
     ]
    },
    {
     "name": "stderr",
     "output_type": "stream",
     "text": [
      "\r",
      " 37%|███▋      | 24/65 [00:21<00:31,  1.28it/s]"
     ]
    },
    {
     "name": "stdout",
     "output_type": "stream",
     "text": [
      "\n",
      "mean_270619-video4_005-010_opened_cc74.png: too spherical 5.008269508997665\n"
     ]
    },
    {
     "name": "stderr",
     "output_type": "stream",
     "text": [
      "\r",
      " 38%|███▊      | 25/65 [00:22<00:30,  1.32it/s]"
     ]
    },
    {
     "name": "stdout",
     "output_type": "stream",
     "text": [
      "\n",
      "mean_270619-video4_005-010_opened_cc85.png: too spherical 2.72507178535589\n"
     ]
    },
    {
     "name": "stderr",
     "output_type": "stream",
     "text": [
      "\r",
      " 40%|████      | 26/65 [00:22<00:28,  1.36it/s]"
     ]
    },
    {
     "name": "stdout",
     "output_type": "stream",
     "text": [
      "\n",
      "mean_270619-video4_005-010_opened_cc89.png: too spherical 3.373238096553818\n"
     ]
    },
    {
     "name": "stderr",
     "output_type": "stream",
     "text": [
      "\r",
      " 42%|████▏     | 27/65 [00:23<00:28,  1.32it/s]"
     ]
    },
    {
     "name": "stdout",
     "output_type": "stream",
     "text": [
      "\n",
      "mean_270619-video4_005-011_opened_cc04.png is INTERESTING\n"
     ]
    },
    {
     "name": "stderr",
     "output_type": "stream",
     "text": [
      "\r",
      " 43%|████▎     | 28/65 [00:24<00:28,  1.31it/s]"
     ]
    },
    {
     "name": "stdout",
     "output_type": "stream",
     "text": [
      "\n",
      "mean_270619-video4_005-011_opened_cc05.png: too spherical 4.852573653738185\n"
     ]
    },
    {
     "name": "stderr",
     "output_type": "stream",
     "text": [
      "\r",
      " 45%|████▍     | 29/65 [00:25<00:27,  1.32it/s]"
     ]
    },
    {
     "name": "stdout",
     "output_type": "stream",
     "text": [
      "\n",
      "mean_270619-video4_005-011_opened_cc06.png is INTERESTING\n"
     ]
    },
    {
     "name": "stderr",
     "output_type": "stream",
     "text": [
      "\r",
      " 46%|████▌     | 30/65 [00:26<00:26,  1.30it/s]"
     ]
    },
    {
     "name": "stdout",
     "output_type": "stream",
     "text": [
      "\n",
      "mean_270619-video4_005-011_opened_cc31.png: too spherical 6.642323187276824\n"
     ]
    },
    {
     "name": "stderr",
     "output_type": "stream",
     "text": [
      "\r",
      " 48%|████▊     | 31/65 [00:26<00:25,  1.33it/s]"
     ]
    },
    {
     "name": "stdout",
     "output_type": "stream",
     "text": [
      "\n",
      "mean_270619-video4_005-007_opened_cc17.png is INTERESTING\n"
     ]
    },
    {
     "name": "stderr",
     "output_type": "stream",
     "text": [
      "\r",
      " 49%|████▉     | 32/65 [00:27<00:25,  1.32it/s]"
     ]
    },
    {
     "name": "stdout",
     "output_type": "stream",
     "text": [
      "\n",
      "mean_270619-video4_005-010_opened_cc05.png: too spherical 4.797468422318217\n"
     ]
    },
    {
     "name": "stderr",
     "output_type": "stream",
     "text": [
      "\r",
      " 51%|█████     | 33/65 [00:28<00:24,  1.29it/s]"
     ]
    },
    {
     "name": "stdout",
     "output_type": "stream",
     "text": [
      "\n",
      "mean_270619-video4_005-011_opened_cc32.png: too spherical 5.584000211679025\n"
     ]
    },
    {
     "name": "stderr",
     "output_type": "stream",
     "text": [
      "\r",
      " 52%|█████▏    | 34/65 [00:29<00:23,  1.32it/s]"
     ]
    },
    {
     "name": "stdout",
     "output_type": "stream",
     "text": [
      "\n",
      "mean_270619-video4_005-034_opened_cc09.png is INTERESTING\n"
     ]
    },
    {
     "name": "stderr",
     "output_type": "stream",
     "text": [
      "\r",
      " 54%|█████▍    | 35/65 [00:29<00:22,  1.35it/s]"
     ]
    },
    {
     "name": "stdout",
     "output_type": "stream",
     "text": [
      "\n",
      "mean_270619-video4_005-011_opened_cc40.png: too spherical 1.4381572494557657\n"
     ]
    },
    {
     "name": "stderr",
     "output_type": "stream",
     "text": [
      "\r",
      " 55%|█████▌    | 36/65 [00:30<00:21,  1.37it/s]"
     ]
    },
    {
     "name": "stdout",
     "output_type": "stream",
     "text": [
      "\n",
      "mean_270619-video4_005-011_opened_cc58.png: too spherical 4.073114129821414\n",
      "\n",
      "mean_270619-video4_005-012_opened_cc06.png is INTERESTING\n",
      "\n",
      "video4_005-011-video4_005-012: overlap = 0.0\n"
     ]
    },
    {
     "name": "stderr",
     "output_type": "stream",
     "text": [
      "\r",
      " 57%|█████▋    | 37/65 [00:32<00:31,  1.13s/it]"
     ]
    },
    {
     "name": "stdout",
     "output_type": "stream",
     "text": [
      "\n",
      "video4_005-011-video4_005-012: overlap = 0.0\n"
     ]
    },
    {
     "name": "stderr",
     "output_type": "stream",
     "text": [
      "\r",
      " 58%|█████▊    | 38/65 [00:33<00:27,  1.01s/it]"
     ]
    },
    {
     "name": "stdout",
     "output_type": "stream",
     "text": [
      "\n",
      "mean_270619-video4_005-012_opened_cc09.png: too spherical 8.522882316606704\n",
      "\n",
      "mean_270619-video4_005-012_opened_cc26.png is INTERESTING\n",
      "\n",
      "video4_005-011-video4_005-012: overlap = 0.0\n"
     ]
    },
    {
     "name": "stderr",
     "output_type": "stream",
     "text": [
      "\r",
      " 60%|██████    | 39/65 [00:35<00:35,  1.36s/it]"
     ]
    },
    {
     "name": "stdout",
     "output_type": "stream",
     "text": [
      "\n",
      "video4_005-011-video4_005-012: overlap = 0.0\n",
      "\n",
      "mean_270619-video4_005-012_opened_cc27.png is INTERESTING\n",
      "\n",
      "video4_005-011-video4_005-012: overlap = 0.0\n"
     ]
    },
    {
     "name": "stderr",
     "output_type": "stream",
     "text": [
      "\r",
      " 62%|██████▏   | 40/65 [00:37<00:40,  1.63s/it]"
     ]
    },
    {
     "name": "stdout",
     "output_type": "stream",
     "text": [
      "\n",
      "video4_005-011-video4_005-012: overlap = 0.0\n",
      "\n",
      "mean_270619-video4_005-012_opened_cc29.png is INTERESTING\n",
      "\n",
      "video4_005-011-video4_005-012: overlap = 0.0\n"
     ]
    },
    {
     "name": "stderr",
     "output_type": "stream",
     "text": [
      "\r",
      " 63%|██████▎   | 41/65 [00:39<00:42,  1.78s/it]"
     ]
    },
    {
     "name": "stdout",
     "output_type": "stream",
     "text": [
      "\n",
      "video4_005-011-video4_005-012: overlap = 0.0\n",
      "\n",
      "mean_270619-video4_005-012_opened_cc34.png is INTERESTING\n",
      "\n",
      "video4_005-011-video4_005-012: overlap = 0.0\n"
     ]
    },
    {
     "name": "stderr",
     "output_type": "stream",
     "text": [
      "\r",
      " 65%|██████▍   | 42/65 [00:41<00:43,  1.89s/it]"
     ]
    },
    {
     "name": "stdout",
     "output_type": "stream",
     "text": [
      "\n",
      "video4_005-011-video4_005-012: overlap = 0.0\n",
      "\n",
      "mean_270619-video4_005-012_opened_cc44.png is INTERESTING\n",
      "\n",
      "video4_005-011-video4_005-012: overlap = 0.0\n"
     ]
    },
    {
     "name": "stderr",
     "output_type": "stream",
     "text": [
      "\r",
      " 66%|██████▌   | 43/65 [00:44<00:43,  1.98s/it]"
     ]
    },
    {
     "name": "stdout",
     "output_type": "stream",
     "text": [
      "\n",
      "video4_005-011-video4_005-012: overlap = 0.0\n"
     ]
    },
    {
     "name": "stderr",
     "output_type": "stream",
     "text": [
      "\r",
      " 68%|██████▊   | 44/65 [00:45<00:34,  1.64s/it]"
     ]
    },
    {
     "name": "stdout",
     "output_type": "stream",
     "text": [
      "\n",
      "mean_270619-video4_005-031_opened_cc04.png is INTERESTING\n"
     ]
    },
    {
     "name": "stderr",
     "output_type": "stream",
     "text": [
      "\r",
      " 69%|██████▉   | 45/65 [00:45<00:27,  1.37s/it]"
     ]
    },
    {
     "name": "stdout",
     "output_type": "stream",
     "text": [
      "\n",
      "mean_270619-video4_005-031_opened_cc08.png is INTERESTING\n"
     ]
    },
    {
     "name": "stderr",
     "output_type": "stream",
     "text": [
      "\r",
      " 71%|███████   | 46/65 [00:46<00:22,  1.20s/it]"
     ]
    },
    {
     "name": "stdout",
     "output_type": "stream",
     "text": [
      "\n",
      "mean_270619-video4_005-032_opened_cc17.png: too spherical 8.234852387946173\n"
     ]
    },
    {
     "name": "stderr",
     "output_type": "stream",
     "text": [
      "\r",
      " 72%|███████▏  | 47/65 [00:47<00:19,  1.06s/it]"
     ]
    },
    {
     "name": "stdout",
     "output_type": "stream",
     "text": [
      "\n",
      "mean_270619-video4_005-033_opened_cc06.png: too spherical 2.6396842573137156\n"
     ]
    },
    {
     "name": "stderr",
     "output_type": "stream",
     "text": [
      "\r",
      " 74%|███████▍  | 48/65 [00:48<00:16,  1.05it/s]"
     ]
    },
    {
     "name": "stdout",
     "output_type": "stream",
     "text": [
      "\n",
      "mean_270619-video4_005-033_opened_cc13.png is INTERESTING\n"
     ]
    },
    {
     "name": "stderr",
     "output_type": "stream",
     "text": [
      "\r",
      " 75%|███████▌  | 49/65 [00:48<00:14,  1.10it/s]"
     ]
    },
    {
     "name": "stdout",
     "output_type": "stream",
     "text": [
      "\n",
      "mean_270619-video4_005-033_opened_cc27.png: too spherical 5.032931960218664\n"
     ]
    },
    {
     "name": "stderr",
     "output_type": "stream",
     "text": [
      "\r",
      " 77%|███████▋  | 50/65 [00:49<00:12,  1.17it/s]"
     ]
    },
    {
     "name": "stdout",
     "output_type": "stream",
     "text": [
      "\n",
      "mean_270619-video4_005-033_opened_cc39.png is INTERESTING\n"
     ]
    },
    {
     "name": "stderr",
     "output_type": "stream",
     "text": [
      "\r",
      " 78%|███████▊  | 51/65 [00:50<00:11,  1.22it/s]"
     ]
    },
    {
     "name": "stdout",
     "output_type": "stream",
     "text": [
      "\n",
      "mean_270619-video4_005-034_opened_cc03.png: too spherical 3.200479968489375\n",
      "\n",
      "mean_270619-video4_005-034_opened_cc08.png is INTERESTING\n",
      "\n",
      "video4_005-033-video4_005-034: overlap = 0.0\n"
     ]
    },
    {
     "name": "stderr",
     "output_type": "stream",
     "text": [
      "\r",
      " 80%|████████  | 52/65 [00:52<00:16,  1.24s/it]"
     ]
    },
    {
     "name": "stdout",
     "output_type": "stream",
     "text": [
      "\n",
      "video4_005-033-video4_005-034: overlap = 0.0\n"
     ]
    },
    {
     "name": "stderr",
     "output_type": "stream",
     "text": [
      "\r",
      " 82%|████████▏ | 53/65 [00:53<00:13,  1.09s/it]"
     ]
    },
    {
     "name": "stdout",
     "output_type": "stream",
     "text": [
      "\n",
      "mean_270619-video4_005-034_opened_cc11.png: too spherical 1.0968077486077956\n"
     ]
    },
    {
     "name": "stderr",
     "output_type": "stream",
     "text": [
      "\r",
      " 83%|████████▎ | 54/65 [00:53<00:10,  1.02it/s]"
     ]
    },
    {
     "name": "stdout",
     "output_type": "stream",
     "text": [
      "\n",
      "mean_270619-video4_005-034_opened_cc17.png: too spherical 2.247585444417169\n"
     ]
    },
    {
     "name": "stderr",
     "output_type": "stream",
     "text": [
      "\r",
      " 85%|████████▍ | 55/65 [00:54<00:08,  1.11it/s]"
     ]
    },
    {
     "name": "stdout",
     "output_type": "stream",
     "text": [
      "\n",
      "mean_270619-video4_005-034_opened_cc23.png: too spherical 2.0147004572454184\n"
     ]
    },
    {
     "name": "stderr",
     "output_type": "stream",
     "text": [
      "\r",
      " 86%|████████▌ | 56/65 [00:55<00:07,  1.18it/s]"
     ]
    },
    {
     "name": "stdout",
     "output_type": "stream",
     "text": [
      "\n",
      "mean_270619-video4_005-034_opened_cc33.png: too spherical 2.009168075874084\n"
     ]
    },
    {
     "name": "stderr",
     "output_type": "stream",
     "text": [
      "\r",
      " 88%|████████▊ | 57/65 [00:56<00:06,  1.23it/s]"
     ]
    },
    {
     "name": "stdout",
     "output_type": "stream",
     "text": [
      "\n",
      "mean_270619-video4_005-034_opened_cc34.png: too spherical 2.784369384114952\n"
     ]
    },
    {
     "name": "stderr",
     "output_type": "stream",
     "text": [
      "\r",
      " 89%|████████▉ | 58/65 [00:56<00:05,  1.28it/s]"
     ]
    },
    {
     "name": "stdout",
     "output_type": "stream",
     "text": [
      "\n",
      "mean_270619-video4_005-034_opened_cc39.png: too spherical 7.988252402625782\n"
     ]
    },
    {
     "name": "stderr",
     "output_type": "stream",
     "text": [
      "\r",
      " 91%|█████████ | 59/65 [00:57<00:04,  1.31it/s]"
     ]
    },
    {
     "name": "stdout",
     "output_type": "stream",
     "text": [
      "\n",
      "mean_270619-video4_005-034_opened_cc48.png: too spherical 4.88572488211496\n"
     ]
    },
    {
     "name": "stderr",
     "output_type": "stream",
     "text": [
      "\r",
      " 92%|█████████▏| 60/65 [00:58<00:03,  1.26it/s]"
     ]
    },
    {
     "name": "stdout",
     "output_type": "stream",
     "text": [
      "\n",
      "mean_270619-video4_005-034_opened_cc50.png: too spherical 7.234502488430269\n"
     ]
    },
    {
     "name": "stderr",
     "output_type": "stream",
     "text": [
      "\r",
      " 94%|█████████▍| 61/65 [00:59<00:03,  1.29it/s]"
     ]
    },
    {
     "name": "stdout",
     "output_type": "stream",
     "text": [
      "\n",
      "mean_270619-video4_005-034_opened_cc68.png: too spherical 9.80563232188448\n"
     ]
    },
    {
     "name": "stderr",
     "output_type": "stream",
     "text": [
      "\r",
      " 95%|█████████▌| 62/65 [00:59<00:02,  1.33it/s]"
     ]
    },
    {
     "name": "stdout",
     "output_type": "stream",
     "text": [
      "\n",
      "mean_270619-video4_005-034_opened_cc73.png: too spherical 4.169422389468602\n"
     ]
    },
    {
     "name": "stderr",
     "output_type": "stream",
     "text": [
      "\r",
      " 97%|█████████▋| 63/65 [01:00<00:01,  1.33it/s]"
     ]
    },
    {
     "name": "stdout",
     "output_type": "stream",
     "text": [
      "\n",
      "mean_270619-video4_005-034_opened_cc75.png: too spherical 4.927757851369596\n",
      "\n",
      "mean_270619-video4_005-034_opened_cc76.png is INTERESTING\n",
      "\n",
      "video4_005-033-video4_005-034: overlap = 0.0\n"
     ]
    },
    {
     "name": "stderr",
     "output_type": "stream",
     "text": [
      "\r",
      " 98%|█████████▊| 64/65 [01:02<00:01,  1.15s/it]"
     ]
    },
    {
     "name": "stdout",
     "output_type": "stream",
     "text": [
      "\n",
      "video4_005-033-video4_005-034: overlap = 0.0\n",
      "\n",
      "mean_270619-video4_005-034_opened_cc80.png is INTERESTING\n",
      "\n",
      "video4_005-033-video4_005-034: overlap = 0.0\n"
     ]
    },
    {
     "name": "stderr",
     "output_type": "stream",
     "text": [
      "100%|██████████| 65/65 [01:04<00:00,  1.43s/it]\n",
      "  0%|          | 0/24 [00:00<?, ?it/s]"
     ]
    },
    {
     "name": "stdout",
     "output_type": "stream",
     "text": [
      "\n",
      "video4_005-033-video4_005-034: overlap = 0.0\n",
      "found video4_006/trigger_thr0.005_cl9_op3/cc_filtered_2den0.81_gausrad2.0/\n"
     ]
    },
    {
     "name": "stderr",
     "output_type": "stream",
     "text": [
      "\r",
      "  4%|▍         | 1/24 [00:00<00:16,  1.39it/s]"
     ]
    },
    {
     "name": "stdout",
     "output_type": "stream",
     "text": [
      "\n",
      "mean_270619-video4_006-018_opened_cc03.png is INTERESTING\n"
     ]
    },
    {
     "name": "stderr",
     "output_type": "stream",
     "text": [
      "\r",
      "  8%|▊         | 2/24 [00:01<00:15,  1.38it/s]"
     ]
    },
    {
     "name": "stdout",
     "output_type": "stream",
     "text": [
      "\n",
      "mean_270619-video4_006-005_opened_cc06.png: too spherical 5.329549170412202\n"
     ]
    },
    {
     "name": "stderr",
     "output_type": "stream",
     "text": [
      "\r",
      " 12%|█▎        | 3/24 [00:02<00:15,  1.38it/s]"
     ]
    },
    {
     "name": "stdout",
     "output_type": "stream",
     "text": [
      "\n",
      "mean_270619-video4_006-005_opened_cc22.png: too spherical 1.6567998561524975\n"
     ]
    },
    {
     "name": "stderr",
     "output_type": "stream",
     "text": [
      "\r",
      " 17%|█▋        | 4/24 [00:02<00:14,  1.38it/s]"
     ]
    },
    {
     "name": "stdout",
     "output_type": "stream",
     "text": [
      "\n",
      "mean_270619-video4_006-005_opened_cc32.png: too spherical 2.6620813638347958\n"
     ]
    },
    {
     "name": "stderr",
     "output_type": "stream",
     "text": [
      "\r",
      " 21%|██        | 5/24 [00:03<00:13,  1.39it/s]"
     ]
    },
    {
     "name": "stdout",
     "output_type": "stream",
     "text": [
      "\n",
      "mean_270619-video4_006-005_opened_cc41.png: too spherical 5.653269398829002\n"
     ]
    },
    {
     "name": "stderr",
     "output_type": "stream",
     "text": [
      "\r",
      " 25%|██▌       | 6/24 [00:04<00:12,  1.41it/s]"
     ]
    },
    {
     "name": "stdout",
     "output_type": "stream",
     "text": [
      "\n",
      "mean_270619-video4_006-005_opened_cc58.png: too spherical 9.40462732498933\n"
     ]
    },
    {
     "name": "stderr",
     "output_type": "stream",
     "text": [
      "\r",
      " 29%|██▉       | 7/24 [00:04<00:11,  1.42it/s]"
     ]
    },
    {
     "name": "stdout",
     "output_type": "stream",
     "text": [
      "\n",
      "mean_270619-video4_006-005_opened_cc91.png: too spherical 9.376378044829348\n"
     ]
    },
    {
     "name": "stderr",
     "output_type": "stream",
     "text": [
      "\r",
      " 33%|███▎      | 8/24 [00:05<00:11,  1.39it/s]"
     ]
    },
    {
     "name": "stdout",
     "output_type": "stream",
     "text": [
      "\n",
      "mean_270619-video4_006-018_opened_cc02.png: too spherical 4.985821084675184\n"
     ]
    },
    {
     "name": "stderr",
     "output_type": "stream",
     "text": [
      "\r",
      " 38%|███▊      | 9/24 [00:06<00:10,  1.39it/s]"
     ]
    },
    {
     "name": "stdout",
     "output_type": "stream",
     "text": [
      "\n",
      "mean_270619-video4_006-018_opened_cc09.png is INTERESTING\n"
     ]
    },
    {
     "name": "stderr",
     "output_type": "stream",
     "text": [
      "\r",
      " 42%|████▏     | 10/24 [00:07<00:10,  1.39it/s]"
     ]
    },
    {
     "name": "stdout",
     "output_type": "stream",
     "text": [
      "\n",
      "mean_270619-video4_006-018_opened_cc16.png is INTERESTING\n"
     ]
    },
    {
     "name": "stderr",
     "output_type": "stream",
     "text": [
      "\r",
      " 46%|████▌     | 11/24 [00:07<00:09,  1.39it/s]"
     ]
    },
    {
     "name": "stdout",
     "output_type": "stream",
     "text": [
      "\n",
      "mean_270619-video4_006-026_opened_cc05.png: too spherical 2.5766485070302183\n"
     ]
    },
    {
     "name": "stderr",
     "output_type": "stream",
     "text": [
      "\r",
      " 50%|█████     | 12/24 [00:08<00:09,  1.33it/s]"
     ]
    },
    {
     "name": "stdout",
     "output_type": "stream",
     "text": [
      "\n",
      "mean_270619-video4_006-026_opened_cc07.png: too spherical 2.2108311617697796\n"
     ]
    },
    {
     "name": "stderr",
     "output_type": "stream",
     "text": [
      "\r",
      " 54%|█████▍    | 13/24 [00:09<00:08,  1.36it/s]"
     ]
    },
    {
     "name": "stdout",
     "output_type": "stream",
     "text": [
      "\n",
      "mean_270619-video4_006-026_opened_cc25.png: too spherical 4.927717621196046\n"
     ]
    },
    {
     "name": "stderr",
     "output_type": "stream",
     "text": [
      "\r",
      " 58%|█████▊    | 14/24 [00:10<00:07,  1.37it/s]"
     ]
    },
    {
     "name": "stdout",
     "output_type": "stream",
     "text": [
      "\n",
      "mean_270619-video4_006-026_opened_cc27.png is INTERESTING\n"
     ]
    },
    {
     "name": "stderr",
     "output_type": "stream",
     "text": [
      "\r",
      " 62%|██████▎   | 15/24 [00:10<00:06,  1.35it/s]"
     ]
    },
    {
     "name": "stdout",
     "output_type": "stream",
     "text": [
      "\n",
      "mean_270619-video4_006-026_opened_cc36.png: too spherical 5.013111173436058\n"
     ]
    },
    {
     "name": "stderr",
     "output_type": "stream",
     "text": [
      "\r",
      " 67%|██████▋   | 16/24 [00:11<00:05,  1.38it/s]"
     ]
    },
    {
     "name": "stdout",
     "output_type": "stream",
     "text": [
      "\n",
      "mean_270619-video4_006-026_opened_cc74.png: too spherical 1.6985707512259196\n"
     ]
    },
    {
     "name": "stderr",
     "output_type": "stream",
     "text": [
      "\r",
      " 71%|███████   | 17/24 [00:12<00:05,  1.39it/s]"
     ]
    },
    {
     "name": "stdout",
     "output_type": "stream",
     "text": [
      "\n",
      "mean_270619-video4_006-026_opened_cc85.png: too spherical 6.926689240756088\n"
     ]
    },
    {
     "name": "stderr",
     "output_type": "stream",
     "text": [
      "\r",
      " 75%|███████▌  | 18/24 [00:13<00:04,  1.35it/s]"
     ]
    },
    {
     "name": "stdout",
     "output_type": "stream",
     "text": [
      "\n",
      "mean_270619-video4_006-026_opened_cc90.png is INTERESTING\n"
     ]
    },
    {
     "name": "stderr",
     "output_type": "stream",
     "text": [
      "\r",
      " 79%|███████▉  | 19/24 [00:13<00:03,  1.34it/s]"
     ]
    },
    {
     "name": "stdout",
     "output_type": "stream",
     "text": [
      "\n",
      "mean_270619-video4_006-026_opened_cc93.png: too spherical 2.431533570889435\n"
     ]
    },
    {
     "name": "stderr",
     "output_type": "stream",
     "text": [
      "\r",
      " 83%|████████▎ | 20/24 [00:14<00:02,  1.33it/s]"
     ]
    },
    {
     "name": "stdout",
     "output_type": "stream",
     "text": [
      "\n",
      "mean_270619-video4_006-035_opened_cc17.png is INTERESTING\n"
     ]
    },
    {
     "name": "stderr",
     "output_type": "stream",
     "text": [
      "\r",
      " 88%|████████▊ | 21/24 [00:15<00:02,  1.31it/s]"
     ]
    },
    {
     "name": "stdout",
     "output_type": "stream",
     "text": [
      "\n",
      "mean_270619-video4_006-035_opened_cc23.png: too spherical 3.3492828769371625\n"
     ]
    },
    {
     "name": "stderr",
     "output_type": "stream",
     "text": [
      "\r",
      " 92%|█████████▏| 22/24 [00:16<00:01,  1.31it/s]"
     ]
    },
    {
     "name": "stdout",
     "output_type": "stream",
     "text": [
      "\n",
      "mean_270619-video4_006-035_opened_cc55.png is INTERESTING\n"
     ]
    },
    {
     "name": "stderr",
     "output_type": "stream",
     "text": [
      "\r",
      " 96%|█████████▌| 23/24 [00:16<00:00,  1.31it/s]"
     ]
    },
    {
     "name": "stdout",
     "output_type": "stream",
     "text": [
      "\n",
      "mean_270619-video4_006-035_opened_cc57.png: too spherical 1.6660417029715766\n"
     ]
    },
    {
     "name": "stderr",
     "output_type": "stream",
     "text": [
      "100%|██████████| 24/24 [00:17<00:00,  1.33it/s]\n",
      "  0%|          | 0/32 [00:00<?, ?it/s]"
     ]
    },
    {
     "name": "stdout",
     "output_type": "stream",
     "text": [
      "\n",
      "mean_270619-video4_006-035_opened_cc65.png: too spherical 8.048917069703295\n",
      "found video4_007/trigger_thr0.005_cl9_op3/cc_filtered_2den0.81_gausrad2.0/\n"
     ]
    },
    {
     "name": "stderr",
     "output_type": "stream",
     "text": [
      "\r",
      "  3%|▎         | 1/32 [00:00<00:22,  1.36it/s]"
     ]
    },
    {
     "name": "stdout",
     "output_type": "stream",
     "text": [
      "\n",
      "mean_270619-video4_007-001_opened_cc18.png is INTERESTING\n"
     ]
    },
    {
     "name": "stderr",
     "output_type": "stream",
     "text": [
      "\r",
      "  6%|▋         | 2/32 [00:01<00:22,  1.35it/s]"
     ]
    },
    {
     "name": "stdout",
     "output_type": "stream",
     "text": [
      "\n",
      "mean_270619-video4_007-009_opened_cc02.png: too spherical 2.6249115601236044\n"
     ]
    },
    {
     "name": "stderr",
     "output_type": "stream",
     "text": [
      "\r",
      "  9%|▉         | 3/32 [00:02<00:21,  1.34it/s]"
     ]
    },
    {
     "name": "stdout",
     "output_type": "stream",
     "text": [
      "\n",
      "mean_270619-video4_007-009_opened_cc03.png is INTERESTING\n"
     ]
    },
    {
     "name": "stderr",
     "output_type": "stream",
     "text": [
      "\r",
      " 12%|█▎        | 4/32 [00:02<00:20,  1.35it/s]"
     ]
    },
    {
     "name": "stdout",
     "output_type": "stream",
     "text": [
      "\n",
      "mean_270619-video4_007-009_opened_cc05.png: too spherical 2.6312563185239575\n"
     ]
    },
    {
     "name": "stderr",
     "output_type": "stream",
     "text": [
      "\r",
      " 16%|█▌        | 5/32 [00:03<00:19,  1.35it/s]"
     ]
    },
    {
     "name": "stdout",
     "output_type": "stream",
     "text": [
      "\n",
      "mean_270619-video4_007-009_opened_cc21.png is INTERESTING\n"
     ]
    },
    {
     "name": "stderr",
     "output_type": "stream",
     "text": [
      "\r",
      " 19%|█▉        | 6/32 [00:04<00:18,  1.37it/s]"
     ]
    },
    {
     "name": "stdout",
     "output_type": "stream",
     "text": [
      "\n",
      "mean_270619-video4_007-009_opened_cc22.png is INTERESTING\n"
     ]
    },
    {
     "name": "stderr",
     "output_type": "stream",
     "text": [
      "\r",
      " 22%|██▏       | 7/32 [00:05<00:17,  1.39it/s]"
     ]
    },
    {
     "name": "stdout",
     "output_type": "stream",
     "text": [
      "\n",
      "mean_270619-video4_007-009_opened_cc42.png: too spherical 9.606406182130234\n"
     ]
    },
    {
     "name": "stderr",
     "output_type": "stream",
     "text": [
      "\r",
      " 25%|██▌       | 8/32 [00:05<00:17,  1.40it/s]"
     ]
    },
    {
     "name": "stdout",
     "output_type": "stream",
     "text": [
      "\n",
      "mean_270619-video4_007-009_opened_cc80.png: too spherical 8.158296295279715\n"
     ]
    },
    {
     "name": "stderr",
     "output_type": "stream",
     "text": [
      "\r",
      " 28%|██▊       | 9/32 [00:06<00:16,  1.39it/s]"
     ]
    },
    {
     "name": "stdout",
     "output_type": "stream",
     "text": [
      "\n",
      "mean_270619-video4_007-009_opened_cc96.png: too spherical 1.5753636229190775\n"
     ]
    },
    {
     "name": "stderr",
     "output_type": "stream",
     "text": [
      "\r",
      " 31%|███▏      | 10/32 [00:07<00:15,  1.39it/s]"
     ]
    },
    {
     "name": "stdout",
     "output_type": "stream",
     "text": [
      "\n",
      "mean_270619-video4_007-036_opened_cc03.png is INTERESTING\n"
     ]
    },
    {
     "name": "stderr",
     "output_type": "stream",
     "text": [
      "\r",
      " 34%|███▍      | 11/32 [00:07<00:15,  1.39it/s]"
     ]
    },
    {
     "name": "stdout",
     "output_type": "stream",
     "text": [
      "\n",
      "mean_270619-video4_007-036_opened_cc04.png: too spherical 6.198277413792531\n"
     ]
    },
    {
     "name": "stderr",
     "output_type": "stream",
     "text": [
      "\r",
      " 38%|███▊      | 12/32 [00:08<00:14,  1.38it/s]"
     ]
    },
    {
     "name": "stdout",
     "output_type": "stream",
     "text": [
      "\n",
      "mean_270619-video4_007-036_opened_cc09.png: too spherical 4.329413689929931\n"
     ]
    },
    {
     "name": "stderr",
     "output_type": "stream",
     "text": [
      "\r",
      " 41%|████      | 13/32 [00:09<00:13,  1.37it/s]"
     ]
    },
    {
     "name": "stdout",
     "output_type": "stream",
     "text": [
      "\n",
      "mean_270619-video4_007-036_opened_cc15.png: too spherical 1.6650789310738805\n"
     ]
    },
    {
     "name": "stderr",
     "output_type": "stream",
     "text": [
      "\r",
      " 44%|████▍     | 14/32 [00:10<00:13,  1.36it/s]"
     ]
    },
    {
     "name": "stdout",
     "output_type": "stream",
     "text": [
      "\n",
      "mean_270619-video4_007-036_opened_cc19.png is INTERESTING\n"
     ]
    },
    {
     "name": "stderr",
     "output_type": "stream",
     "text": [
      "\r",
      " 47%|████▋     | 15/32 [00:10<00:12,  1.37it/s]"
     ]
    },
    {
     "name": "stdout",
     "output_type": "stream",
     "text": [
      "\n",
      "mean_270619-video4_007-036_opened_cc23.png: too spherical 2.992928830807798\n"
     ]
    },
    {
     "name": "stderr",
     "output_type": "stream",
     "text": [
      "\r",
      " 50%|█████     | 16/32 [00:11<00:11,  1.34it/s]"
     ]
    },
    {
     "name": "stdout",
     "output_type": "stream",
     "text": [
      "\n",
      "mean_270619-video4_007-036_opened_cc34.png is INTERESTING\n"
     ]
    },
    {
     "name": "stderr",
     "output_type": "stream",
     "text": [
      "\r",
      " 53%|█████▎    | 17/32 [00:12<00:10,  1.37it/s]"
     ]
    },
    {
     "name": "stdout",
     "output_type": "stream",
     "text": [
      "\n",
      "mean_270619-video4_007-036_opened_cc86.png: too spherical 3.5717535592795966\n",
      "\n",
      "mean_270619-video4_007-037_opened_cc26.png is INTERESTING\n",
      "\n",
      "video4_007-036-video4_007-037: overlap = 0.0\n",
      "\n",
      "video4_007-036-video4_007-037: overlap = 0.0\n"
     ]
    },
    {
     "name": "stderr",
     "output_type": "stream",
     "text": [
      "\r",
      " 56%|█████▋    | 18/32 [00:15<00:18,  1.33s/it]"
     ]
    },
    {
     "name": "stdout",
     "output_type": "stream",
     "text": [
      "\n",
      "video4_007-036-video4_007-037: overlap = 0.4724024606050392\n",
      "\n",
      "mean_270619-video4_007-037_opened_cc38.png is INTERESTING\n",
      "\n",
      "video4_007-036-video4_007-037: overlap = 0.0\n",
      "\n",
      "video4_007-036-video4_007-037: overlap = 0.0\n"
     ]
    },
    {
     "name": "stderr",
     "output_type": "stream",
     "text": [
      "\r",
      " 59%|█████▉    | 19/32 [00:18<00:23,  1.79s/it]"
     ]
    },
    {
     "name": "stdout",
     "output_type": "stream",
     "text": [
      "\n",
      "video4_007-036-video4_007-037: overlap = 0.008535242290748868\n",
      "\n",
      "mean_270619-video4_007-037_opened_cc40.png is INTERESTING\n",
      "\n",
      "video4_007-036-video4_007-037: overlap = 0.0\n",
      "\n",
      "video4_007-036-video4_007-037: overlap = 0.035093639277880895\n"
     ]
    },
    {
     "name": "stderr",
     "output_type": "stream",
     "text": [
      "\r",
      " 62%|██████▎   | 20/32 [00:20<00:25,  2.13s/it]"
     ]
    },
    {
     "name": "stdout",
     "output_type": "stream",
     "text": [
      "\n",
      "video4_007-036-video4_007-037: overlap = 0.0\n"
     ]
    },
    {
     "name": "stderr",
     "output_type": "stream",
     "text": [
      "\r",
      " 66%|██████▌   | 21/32 [00:21<00:18,  1.72s/it]"
     ]
    },
    {
     "name": "stdout",
     "output_type": "stream",
     "text": [
      "\n",
      "mean_270619-video4_007-037_opened_cc64.png: too spherical 6.302893181781653\n"
     ]
    },
    {
     "name": "stderr",
     "output_type": "stream",
     "text": [
      "\r",
      " 69%|██████▉   | 22/32 [00:22<00:14,  1.47s/it]"
     ]
    },
    {
     "name": "stdout",
     "output_type": "stream",
     "text": [
      "\n",
      "mean_270619-video4_007-037_opened_cc66.png: too spherical 6.695061081294458\n"
     ]
    },
    {
     "name": "stderr",
     "output_type": "stream",
     "text": [
      "\r",
      " 72%|███████▏  | 23/32 [00:23<00:11,  1.26s/it]"
     ]
    },
    {
     "name": "stdout",
     "output_type": "stream",
     "text": [
      "\n",
      "mean_270619-video4_007-041_opened_cc12.png: too spherical 4.945054208789983\n"
     ]
    },
    {
     "name": "stderr",
     "output_type": "stream",
     "text": [
      "\r",
      " 75%|███████▌  | 24/32 [00:24<00:08,  1.11s/it]"
     ]
    },
    {
     "name": "stdout",
     "output_type": "stream",
     "text": [
      "\n",
      "mean_270619-video4_007-041_opened_cc16.png is INTERESTING\n"
     ]
    },
    {
     "name": "stderr",
     "output_type": "stream",
     "text": [
      "\r",
      " 78%|███████▊  | 25/32 [00:24<00:06,  1.00it/s]"
     ]
    },
    {
     "name": "stdout",
     "output_type": "stream",
     "text": [
      "\n",
      "mean_270619-video4_007-041_opened_cc34.png: too spherical 1.7981869271468196\n"
     ]
    },
    {
     "name": "stderr",
     "output_type": "stream",
     "text": [
      "\r",
      " 81%|████████▏ | 26/32 [00:25<00:05,  1.09it/s]"
     ]
    },
    {
     "name": "stdout",
     "output_type": "stream",
     "text": [
      "\n",
      "mean_270619-video4_007-041_opened_cc49.png is INTERESTING\n"
     ]
    },
    {
     "name": "stderr",
     "output_type": "stream",
     "text": [
      "\r",
      " 84%|████████▍ | 27/32 [00:26<00:04,  1.15it/s]"
     ]
    },
    {
     "name": "stdout",
     "output_type": "stream",
     "text": [
      "\n",
      "mean_270619-video4_007-041_opened_cc56.png: too spherical 5.2076568901405755\n"
     ]
    },
    {
     "name": "stderr",
     "output_type": "stream",
     "text": [
      "\r",
      " 88%|████████▊ | 28/32 [00:27<00:03,  1.19it/s]"
     ]
    },
    {
     "name": "stdout",
     "output_type": "stream",
     "text": [
      "\n",
      "mean_270619-video4_007-041_opened_cc80.png is INTERESTING\n"
     ]
    },
    {
     "name": "stderr",
     "output_type": "stream",
     "text": [
      "\r",
      " 91%|█████████ | 29/32 [00:27<00:02,  1.25it/s]"
     ]
    },
    {
     "name": "stdout",
     "output_type": "stream",
     "text": [
      "\n",
      "mean_270619-video4_007-041_opened_cc90.png: too spherical 6.771180644211122\n"
     ]
    },
    {
     "name": "stderr",
     "output_type": "stream",
     "text": [
      "\r",
      " 94%|█████████▍| 30/32 [00:28<00:01,  1.19it/s]"
     ]
    },
    {
     "name": "stdout",
     "output_type": "stream",
     "text": [
      "\n",
      "mean_270619-video4_007-041_opened_cc93.png is INTERESTING\n"
     ]
    },
    {
     "name": "stderr",
     "output_type": "stream",
     "text": [
      "\r",
      " 97%|█████████▋| 31/32 [00:29<00:00,  1.22it/s]"
     ]
    },
    {
     "name": "stdout",
     "output_type": "stream",
     "text": [
      "\n",
      "mean_270619-video4_007-009_opened_cc25.png: too spherical 4.862502967650206\n",
      "\n",
      "mean_270619-video4_007-037_opened_cc07.png is INTERESTING\n",
      "\n",
      "video4_007-036-video4_007-037: overlap = 0.0\n",
      "\n",
      "video4_007-036-video4_007-037: overlap = 0.10511513447002985\n"
     ]
    },
    {
     "name": "stderr",
     "output_type": "stream",
     "text": [
      "100%|██████████| 32/32 [00:32<00:00,  1.43s/it]\n",
      "  0%|          | 0/43 [00:00<?, ?it/s]"
     ]
    },
    {
     "name": "stdout",
     "output_type": "stream",
     "text": [
      "\n",
      "video4_007-036-video4_007-037: overlap = 0.0\n",
      "found video4_008/trigger_thr0.005_cl9_op3/cc_filtered_2den0.81_gausrad2.0/\n"
     ]
    },
    {
     "name": "stderr",
     "output_type": "stream",
     "text": [
      "\r",
      "  2%|▏         | 1/43 [00:00<00:32,  1.30it/s]"
     ]
    },
    {
     "name": "stdout",
     "output_type": "stream",
     "text": [
      "\n",
      "mean_270619-video4_008-009_opened_cc02.png: too spherical 2.607733995078282\n"
     ]
    },
    {
     "name": "stderr",
     "output_type": "stream",
     "text": [
      "\r",
      "  5%|▍         | 2/43 [00:01<00:31,  1.29it/s]"
     ]
    },
    {
     "name": "stdout",
     "output_type": "stream",
     "text": [
      "\n",
      "mean_270619-video4_008-009_opened_cc16.png: too spherical 7.549011508061033\n"
     ]
    },
    {
     "name": "stderr",
     "output_type": "stream",
     "text": [
      "\r",
      "  7%|▋         | 3/43 [00:02<00:30,  1.31it/s]"
     ]
    },
    {
     "name": "stdout",
     "output_type": "stream",
     "text": [
      "\n",
      "mean_270619-video4_008-010_opened_cc02.png: too spherical 8.800413105144871\n"
     ]
    },
    {
     "name": "stderr",
     "output_type": "stream",
     "text": [
      "\r",
      "  9%|▉         | 4/43 [00:03<00:29,  1.33it/s]"
     ]
    },
    {
     "name": "stdout",
     "output_type": "stream",
     "text": [
      "\n",
      "mean_270619-video4_008-010_opened_cc12.png: too spherical 6.8687614896073965\n"
     ]
    },
    {
     "name": "stderr",
     "output_type": "stream",
     "text": [
      "\r",
      " 12%|█▏        | 5/43 [00:03<00:28,  1.33it/s]"
     ]
    },
    {
     "name": "stdout",
     "output_type": "stream",
     "text": [
      "\n",
      "mean_270619-video4_008-010_opened_cc14.png: too spherical 4.93299198331308\n"
     ]
    },
    {
     "name": "stderr",
     "output_type": "stream",
     "text": [
      "\r",
      " 14%|█▍        | 6/43 [00:04<00:28,  1.28it/s]"
     ]
    },
    {
     "name": "stdout",
     "output_type": "stream",
     "text": [
      "\n",
      "mean_270619-video4_008-011_opened_cc06.png is INTERESTING\n"
     ]
    },
    {
     "name": "stderr",
     "output_type": "stream",
     "text": [
      "\r",
      " 16%|█▋        | 7/43 [00:05<00:27,  1.30it/s]"
     ]
    },
    {
     "name": "stdout",
     "output_type": "stream",
     "text": [
      "\n",
      "mean_270619-video4_008-011_opened_cc23.png is INTERESTING\n"
     ]
    },
    {
     "name": "stderr",
     "output_type": "stream",
     "text": [
      "\r",
      " 19%|█▊        | 8/43 [00:06<00:26,  1.33it/s]"
     ]
    },
    {
     "name": "stdout",
     "output_type": "stream",
     "text": [
      "\n",
      "mean_270619-video4_008-011_opened_cc31.png: too spherical 6.645713385216334\n"
     ]
    },
    {
     "name": "stderr",
     "output_type": "stream",
     "text": [
      "\r",
      " 21%|██        | 9/43 [00:06<00:25,  1.34it/s]"
     ]
    },
    {
     "name": "stdout",
     "output_type": "stream",
     "text": [
      "\n",
      "mean_270619-video4_008-013_opened_cc03.png: too spherical 4.615289845833652\n"
     ]
    },
    {
     "name": "stderr",
     "output_type": "stream",
     "text": [
      "\r",
      " 23%|██▎       | 10/43 [00:07<00:24,  1.34it/s]"
     ]
    },
    {
     "name": "stdout",
     "output_type": "stream",
     "text": [
      "\n",
      "mean_270619-video4_008-013_opened_cc06.png is INTERESTING\n"
     ]
    },
    {
     "name": "stderr",
     "output_type": "stream",
     "text": [
      "\r",
      " 26%|██▌       | 11/43 [00:08<00:24,  1.30it/s]"
     ]
    },
    {
     "name": "stdout",
     "output_type": "stream",
     "text": [
      "\n",
      "mean_270619-video4_008-015_opened_cc03.png is INTERESTING\n"
     ]
    },
    {
     "name": "stderr",
     "output_type": "stream",
     "text": [
      "\r",
      " 28%|██▊       | 12/43 [00:09<00:24,  1.24it/s]"
     ]
    },
    {
     "name": "stdout",
     "output_type": "stream",
     "text": [
      "\n",
      "mean_270619-video4_008-015_opened_cc17.png is INTERESTING\n"
     ]
    },
    {
     "name": "stderr",
     "output_type": "stream",
     "text": [
      "\r",
      " 30%|███       | 13/43 [00:10<00:24,  1.21it/s]"
     ]
    },
    {
     "name": "stdout",
     "output_type": "stream",
     "text": [
      "\n",
      "mean_270619-video4_008-016_opened_cc01.png: too spherical 7.624705019609948\n",
      "\n",
      "mean_270619-video4_008-016_opened_cc05.png is INTERESTING\n",
      "\n",
      "video4_008-015-video4_008-016: overlap = 0.0\n"
     ]
    },
    {
     "name": "stderr",
     "output_type": "stream",
     "text": [
      "\r",
      " 33%|███▎      | 14/43 [00:12<00:40,  1.40s/it]"
     ]
    },
    {
     "name": "stdout",
     "output_type": "stream",
     "text": [
      "\n",
      "video4_008-015-video4_008-016: overlap = 0.0\n",
      "\n",
      "mean_270619-video4_008-016_opened_cc06.png is INTERESTING\n",
      "\n",
      "video4_008-015-video4_008-016: overlap = 0.0\n"
     ]
    },
    {
     "name": "stderr",
     "output_type": "stream",
     "text": [
      "\r",
      " 35%|███▍      | 15/43 [00:15<00:47,  1.69s/it]"
     ]
    },
    {
     "name": "stdout",
     "output_type": "stream",
     "text": [
      "\n",
      "video4_008-015-video4_008-016: overlap = 0.0\n",
      "\n",
      "mean_270619-video4_008-016_opened_cc12.png is INTERESTING\n",
      "\n",
      "video4_008-015-video4_008-016: overlap = 0.0\n"
     ]
    },
    {
     "name": "stderr",
     "output_type": "stream",
     "text": [
      "\r",
      " 37%|███▋      | 16/43 [00:17<00:49,  1.82s/it]"
     ]
    },
    {
     "name": "stdout",
     "output_type": "stream",
     "text": [
      "\n",
      "video4_008-015-video4_008-016: overlap = 0.8217109992810927\n"
     ]
    },
    {
     "name": "stderr",
     "output_type": "stream",
     "text": [
      "\r",
      " 40%|███▉      | 17/43 [00:18<00:38,  1.48s/it]"
     ]
    },
    {
     "name": "stdout",
     "output_type": "stream",
     "text": [
      "\n",
      "mean_270619-video4_008-017_opened_cc05.png: too spherical 9.730303656335073\n",
      "\n",
      "mean_270619-video4_008-017_opened_cc16.png is INTERESTING\n",
      "\n",
      "video4_008-016-video4_008-017: overlap = 0.0\n",
      "\n",
      "video4_008-016-video4_008-017: overlap = 0.0\n"
     ]
    },
    {
     "name": "stderr",
     "output_type": "stream",
     "text": [
      "\r",
      " 42%|████▏     | 18/43 [00:20<00:46,  1.86s/it]"
     ]
    },
    {
     "name": "stdout",
     "output_type": "stream",
     "text": [
      "\n",
      "video4_008-016-video4_008-017: overlap = 0.0\n"
     ]
    },
    {
     "name": "stderr",
     "output_type": "stream",
     "text": [
      "\r",
      " 44%|████▍     | 19/43 [00:21<00:36,  1.53s/it]"
     ]
    },
    {
     "name": "stdout",
     "output_type": "stream",
     "text": [
      "\n",
      "mean_270619-video4_008-017_opened_cc34.png: too spherical 5.741785838257747\n",
      "\n",
      "mean_270619-video4_008-017_opened_cc37.png is INTERESTING\n",
      "\n",
      "video4_008-016-video4_008-017: overlap = 0.0\n",
      "\n",
      "video4_008-016-video4_008-017: overlap = 0.0\n"
     ]
    },
    {
     "name": "stderr",
     "output_type": "stream",
     "text": [
      "\r",
      " 47%|████▋     | 20/43 [00:24<00:43,  1.89s/it]"
     ]
    },
    {
     "name": "stdout",
     "output_type": "stream",
     "text": [
      "\n",
      "video4_008-016-video4_008-017: overlap = 0.0\n"
     ]
    },
    {
     "name": "stderr",
     "output_type": "stream",
     "text": [
      "\r",
      " 49%|████▉     | 21/43 [00:24<00:33,  1.53s/it]"
     ]
    },
    {
     "name": "stdout",
     "output_type": "stream",
     "text": [
      "\n",
      "mean_270619-video4_008-020_opened_cc01.png: too spherical 3.908126754047407\n"
     ]
    },
    {
     "name": "stderr",
     "output_type": "stream",
     "text": [
      "\r",
      " 51%|█████     | 22/43 [00:25<00:27,  1.30s/it]"
     ]
    },
    {
     "name": "stdout",
     "output_type": "stream",
     "text": [
      "\n",
      "mean_270619-video4_008-020_opened_cc02.png: too spherical 5.982324121011456\n"
     ]
    },
    {
     "name": "stderr",
     "output_type": "stream",
     "text": [
      "\r",
      " 53%|█████▎    | 23/43 [00:26<00:22,  1.12s/it]"
     ]
    },
    {
     "name": "stdout",
     "output_type": "stream",
     "text": [
      "\n",
      "mean_270619-video4_008-020_opened_cc05.png: too spherical 2.0521764717731847\n"
     ]
    },
    {
     "name": "stderr",
     "output_type": "stream",
     "text": [
      "\r",
      " 56%|█████▌    | 24/43 [00:27<00:18,  1.00it/s]"
     ]
    },
    {
     "name": "stdout",
     "output_type": "stream",
     "text": [
      "\n",
      "mean_270619-video4_008-020_opened_cc06.png: too spherical 5.2040371378505865\n"
     ]
    },
    {
     "name": "stderr",
     "output_type": "stream",
     "text": [
      "\r",
      " 58%|█████▊    | 25/43 [00:27<00:16,  1.09it/s]"
     ]
    },
    {
     "name": "stdout",
     "output_type": "stream",
     "text": [
      "\n",
      "mean_270619-video4_008-020_opened_cc20.png: too spherical 2.756473974308494\n"
     ]
    },
    {
     "name": "stderr",
     "output_type": "stream",
     "text": [
      "\r",
      " 60%|██████    | 26/43 [00:28<00:14,  1.17it/s]"
     ]
    },
    {
     "name": "stdout",
     "output_type": "stream",
     "text": [
      "\n",
      "mean_270619-video4_008-020_opened_cc25.png: too spherical 9.362948791829922\n"
     ]
    },
    {
     "name": "stderr",
     "output_type": "stream",
     "text": [
      "\r",
      " 63%|██████▎   | 27/43 [00:29<00:12,  1.23it/s]"
     ]
    },
    {
     "name": "stdout",
     "output_type": "stream",
     "text": [
      "\n",
      "mean_270619-video4_008-020_opened_cc35.png: too spherical 1.759803177217645\n"
     ]
    },
    {
     "name": "stderr",
     "output_type": "stream",
     "text": [
      "\r",
      " 65%|██████▌   | 28/43 [00:30<00:11,  1.26it/s]"
     ]
    },
    {
     "name": "stdout",
     "output_type": "stream",
     "text": [
      "\n",
      "mean_270619-video4_008-011_opened_cc01.png: too crowded: 6.809027777777778\n",
      "\n",
      "mean_270619-video4_008-017_opened_cc02.png is INTERESTING\n",
      "\n",
      "video4_008-016-video4_008-017: overlap = 0.0\n",
      "\n",
      "video4_008-016-video4_008-017: overlap = 0.0\n"
     ]
    },
    {
     "name": "stderr",
     "output_type": "stream",
     "text": [
      "\r",
      " 67%|██████▋   | 29/43 [00:32<00:19,  1.39s/it]"
     ]
    },
    {
     "name": "stdout",
     "output_type": "stream",
     "text": [
      "\n",
      "video4_008-016-video4_008-017: overlap = 0.0\n"
     ]
    },
    {
     "name": "stderr",
     "output_type": "stream",
     "text": [
      "\r",
      " 70%|██████▉   | 30/43 [00:33<00:15,  1.19s/it]"
     ]
    },
    {
     "name": "stdout",
     "output_type": "stream",
     "text": [
      "\n",
      "mean_270619-video4_008-020_opened_cc45.png is INTERESTING\n"
     ]
    },
    {
     "name": "stderr",
     "output_type": "stream",
     "text": [
      "\r",
      " 72%|███████▏  | 31/43 [00:34<00:12,  1.05s/it]"
     ]
    },
    {
     "name": "stdout",
     "output_type": "stream",
     "text": [
      "\n",
      "mean_270619-video4_008-020_opened_cc79.png is INTERESTING\n"
     ]
    },
    {
     "name": "stderr",
     "output_type": "stream",
     "text": [
      "\r",
      " 74%|███████▍  | 32/43 [00:34<00:10,  1.06it/s]"
     ]
    },
    {
     "name": "stdout",
     "output_type": "stream",
     "text": [
      "\n",
      "mean_270619-video4_008-020_opened_cc86.png is INTERESTING\n",
      "\n",
      "mean_270619-video4_008-021_opened_cc06.png is INTERESTING\n",
      "\n",
      "video4_008-020-video4_008-021: overlap = 0.0\n",
      "\n",
      "video4_008-020-video4_008-021: overlap = 0.0\n"
     ]
    },
    {
     "name": "stderr",
     "output_type": "stream",
     "text": [
      "\r",
      " 77%|███████▋  | 33/43 [00:37<00:14,  1.47s/it]"
     ]
    },
    {
     "name": "stdout",
     "output_type": "stream",
     "text": [
      "\n",
      "video4_008-020-video4_008-021: overlap = 0.0\n"
     ]
    },
    {
     "name": "stderr",
     "output_type": "stream",
     "text": [
      "\r",
      " 79%|███████▉  | 34/43 [00:38<00:11,  1.25s/it]"
     ]
    },
    {
     "name": "stdout",
     "output_type": "stream",
     "text": [
      "\n",
      "mean_270619-video4_008-021_opened_cc07.png: too spherical 2.4036350587493627\n",
      "\n",
      "mean_270619-video4_008-021_opened_cc105.png is INTERESTING\n",
      "\n",
      "video4_008-020-video4_008-021: overlap = 0.0\n",
      "\n",
      "video4_008-020-video4_008-021: overlap = 0.0\n"
     ]
    },
    {
     "name": "stderr",
     "output_type": "stream",
     "text": [
      "\r",
      " 81%|████████▏ | 35/43 [00:41<00:13,  1.68s/it]"
     ]
    },
    {
     "name": "stdout",
     "output_type": "stream",
     "text": [
      "\n",
      "video4_008-020-video4_008-021: overlap = 0.7836990595611285\n"
     ]
    },
    {
     "name": "stderr",
     "output_type": "stream",
     "text": [
      "\r",
      " 84%|████████▎ | 36/43 [00:41<00:09,  1.39s/it]"
     ]
    },
    {
     "name": "stdout",
     "output_type": "stream",
     "text": [
      "\n",
      "mean_270619-video4_008-021_opened_cc26.png: too spherical 4.494808482729871\n",
      "\n",
      "mean_270619-video4_008-021_opened_cc33.png is INTERESTING\n",
      "\n",
      "video4_008-020-video4_008-021: overlap = 0.0\n"
     ]
    },
    {
     "name": "stderr",
     "output_type": "stream",
     "text": [
      "\r",
      " 86%|████████▌ | 37/43 [00:43<00:09,  1.59s/it]"
     ]
    },
    {
     "name": "stdout",
     "output_type": "stream",
     "text": [
      "\n",
      "video4_008-020-video4_008-021: overlap = 0.0\n",
      "\n",
      "mean_270619-video4_008-021_opened_cc61.png is INTERESTING\n",
      "\n",
      "video4_008-020-video4_008-021: overlap = 0.31179237066713117\n"
     ]
    },
    {
     "name": "stderr",
     "output_type": "stream",
     "text": [
      "\r",
      " 88%|████████▊ | 38/43 [00:45<00:08,  1.75s/it]"
     ]
    },
    {
     "name": "stdout",
     "output_type": "stream",
     "text": [
      "\n",
      "video4_008-020-video4_008-021: overlap = 0.2042321879246748\n"
     ]
    },
    {
     "name": "stderr",
     "output_type": "stream",
     "text": [
      "\r",
      " 91%|█████████ | 39/43 [00:46<00:05,  1.43s/it]"
     ]
    },
    {
     "name": "stdout",
     "output_type": "stream",
     "text": [
      "\n",
      "mean_270619-video4_008-021_opened_cc68.png: too spherical 7.783405393029703\n"
     ]
    },
    {
     "name": "stderr",
     "output_type": "stream",
     "text": [
      "\r",
      " 93%|█████████▎| 40/43 [00:47<00:03,  1.22s/it]"
     ]
    },
    {
     "name": "stdout",
     "output_type": "stream",
     "text": [
      "\n",
      "mean_270619-video4_008-021_opened_cc94.png: too spherical 4.14287386088163\n"
     ]
    },
    {
     "name": "stderr",
     "output_type": "stream",
     "text": [
      "\r",
      " 95%|█████████▌| 41/43 [00:48<00:02,  1.08s/it]"
     ]
    },
    {
     "name": "stdout",
     "output_type": "stream",
     "text": [
      "\n",
      "mean_270619-video4_008-025_opened_cc01.png: too crowded: 5.01369598765432\n"
     ]
    },
    {
     "name": "stderr",
     "output_type": "stream",
     "text": [
      "\r",
      " 98%|█████████▊| 42/43 [00:48<00:00,  1.03it/s]"
     ]
    },
    {
     "name": "stdout",
     "output_type": "stream",
     "text": [
      "\n",
      "mean_270619-video4_008-025_opened_cc05.png is INTERESTING\n"
     ]
    },
    {
     "name": "stderr",
     "output_type": "stream",
     "text": [
      "100%|██████████| 43/43 [00:49<00:00,  1.08it/s]\n",
      "  0%|          | 0/26 [00:00<?, ?it/s]"
     ]
    },
    {
     "name": "stdout",
     "output_type": "stream",
     "text": [
      "\n",
      "mean_270619-video4_008-025_opened_cc09.png: too spherical 7.722668827678031\n",
      "found video4_010/trigger_thr0.005_cl9_op3/cc_filtered_2den0.81_gausrad2.0/\n"
     ]
    },
    {
     "name": "stderr",
     "output_type": "stream",
     "text": [
      "\r",
      "  4%|▍         | 1/26 [00:00<00:18,  1.35it/s]"
     ]
    },
    {
     "name": "stdout",
     "output_type": "stream",
     "text": [
      "\n",
      "mean_270619-video4_010-013_opened_cc55.png: too spherical 8.380287113655095\n"
     ]
    },
    {
     "name": "stderr",
     "output_type": "stream",
     "text": [
      "\r",
      "  8%|▊         | 2/26 [00:01<00:17,  1.36it/s]"
     ]
    },
    {
     "name": "stdout",
     "output_type": "stream",
     "text": [
      "\n",
      "mean_270619-video4_010-013_opened_cc07.png: too spherical 3.7301575958809687\n"
     ]
    },
    {
     "name": "stderr",
     "output_type": "stream",
     "text": [
      "\r",
      " 12%|█▏        | 3/26 [00:02<00:16,  1.37it/s]"
     ]
    },
    {
     "name": "stdout",
     "output_type": "stream",
     "text": [
      "\n",
      "mean_270619-video4_010-013_opened_cc12.png is INTERESTING\n"
     ]
    },
    {
     "name": "stderr",
     "output_type": "stream",
     "text": [
      "\r",
      " 15%|█▌        | 4/26 [00:02<00:15,  1.39it/s]"
     ]
    },
    {
     "name": "stdout",
     "output_type": "stream",
     "text": [
      "\n",
      "mean_270619-video4_010-013_opened_cc17.png is INTERESTING\n"
     ]
    },
    {
     "name": "stderr",
     "output_type": "stream",
     "text": [
      "\r",
      " 19%|█▉        | 5/26 [00:03<00:14,  1.41it/s]"
     ]
    },
    {
     "name": "stdout",
     "output_type": "stream",
     "text": [
      "\n",
      "mean_270619-video4_010-013_opened_cc34.png is INTERESTING\n"
     ]
    },
    {
     "name": "stderr",
     "output_type": "stream",
     "text": [
      "\r",
      " 23%|██▎       | 6/26 [00:04<00:14,  1.37it/s]"
     ]
    },
    {
     "name": "stdout",
     "output_type": "stream",
     "text": [
      "\n",
      "mean_270619-video4_010-013_opened_cc41.png: too spherical 2.0582209558207785\n"
     ]
    },
    {
     "name": "stderr",
     "output_type": "stream",
     "text": [
      "\r",
      " 27%|██▋       | 7/26 [00:05<00:13,  1.39it/s]"
     ]
    },
    {
     "name": "stdout",
     "output_type": "stream",
     "text": [
      "\n",
      "mean_270619-video4_010-013_opened_cc48.png: too spherical 3.4696872537698904\n",
      "\n",
      "mean_270619-video4_010-014_opened_cc04.png is INTERESTING\n"
     ]
    },
    {
     "name": "stderr",
     "output_type": "stream",
     "text": [
      "\r",
      " 31%|███       | 8/26 [00:06<00:16,  1.09it/s]"
     ]
    },
    {
     "name": "stdout",
     "output_type": "stream",
     "text": [
      "\n",
      "video4_010-013-video4_010-014: overlap = 0.5767737380868337\n"
     ]
    },
    {
     "name": "stderr",
     "output_type": "stream",
     "text": [
      "\r",
      " 35%|███▍      | 9/26 [00:07<00:14,  1.16it/s]"
     ]
    },
    {
     "name": "stdout",
     "output_type": "stream",
     "text": [
      "\n",
      "mean_270619-video4_010-014_opened_cc22.png: too spherical 3.623501845769937\n"
     ]
    },
    {
     "name": "stderr",
     "output_type": "stream",
     "text": [
      "\r",
      " 38%|███▊      | 10/26 [00:07<00:13,  1.21it/s]"
     ]
    },
    {
     "name": "stdout",
     "output_type": "stream",
     "text": [
      "\n",
      "mean_270619-video4_010-027_opened_cc01.png: too crowded: 8.322337962962964\n"
     ]
    },
    {
     "name": "stderr",
     "output_type": "stream",
     "text": [
      "\r",
      " 42%|████▏     | 11/26 [00:08<00:12,  1.20it/s]"
     ]
    },
    {
     "name": "stdout",
     "output_type": "stream",
     "text": [
      "\n",
      "mean_270619-video4_010-027_opened_cc06.png is INTERESTING\n"
     ]
    },
    {
     "name": "stderr",
     "output_type": "stream",
     "text": [
      "\r",
      " 46%|████▌     | 12/26 [00:09<00:11,  1.25it/s]"
     ]
    },
    {
     "name": "stdout",
     "output_type": "stream",
     "text": [
      "\n",
      "mean_270619-video4_010-027_opened_cc22.png is INTERESTING\n"
     ]
    },
    {
     "name": "stderr",
     "output_type": "stream",
     "text": [
      "\r",
      " 50%|█████     | 13/26 [00:10<00:10,  1.28it/s]"
     ]
    },
    {
     "name": "stdout",
     "output_type": "stream",
     "text": [
      "\n",
      "mean_270619-video4_010-027_opened_cc46.png: too spherical 4.905274745274622\n",
      "\n",
      "mean_270619-video4_010-028_opened_cc05.png is INTERESTING\n",
      "\n",
      "video4_010-027-video4_010-028: overlap = 0.0\n"
     ]
    },
    {
     "name": "stderr",
     "output_type": "stream",
     "text": [
      "\r",
      " 54%|█████▍    | 14/26 [00:12<00:14,  1.17s/it]"
     ]
    },
    {
     "name": "stdout",
     "output_type": "stream",
     "text": [
      "\n",
      "video4_010-027-video4_010-028: overlap = 0.685191460521857\n",
      "\n",
      "mean_270619-video4_010-028_opened_cc18.png is INTERESTING\n"
     ]
    },
    {
     "name": "stderr",
     "output_type": "stream",
     "text": [
      "\r",
      " 58%|█████▊    | 15/26 [00:13<00:13,  1.25s/it]"
     ]
    },
    {
     "name": "stdout",
     "output_type": "stream",
     "text": [
      "\n",
      "video4_010-027-video4_010-028: overlap = 0.0\n",
      "\n",
      "mean_270619-video4_010-029_opened_cc12.png is INTERESTING\n",
      "\n",
      "video4_010-028-video4_010-029: overlap = 0.0\n"
     ]
    },
    {
     "name": "stderr",
     "output_type": "stream",
     "text": [
      "\r",
      " 62%|██████▏   | 16/26 [00:15<00:14,  1.50s/it]"
     ]
    },
    {
     "name": "stdout",
     "output_type": "stream",
     "text": [
      "\n",
      "video4_010-028-video4_010-029: overlap = 0.0\n",
      "\n",
      "mean_270619-video4_010-029_opened_cc19.png is INTERESTING\n",
      "\n",
      "video4_010-028-video4_010-029: overlap = 0.0\n"
     ]
    },
    {
     "name": "stderr",
     "output_type": "stream",
     "text": [
      "\r",
      " 65%|██████▌   | 17/26 [00:17<00:15,  1.68s/it]"
     ]
    },
    {
     "name": "stdout",
     "output_type": "stream",
     "text": [
      "\n",
      "video4_010-028-video4_010-029: overlap = 0.8689108910891089\n",
      "\n",
      "mean_270619-video4_010-030_opened_cc07.png is INTERESTING\n",
      "\n",
      "video4_010-029-video4_010-030: overlap = 0.0\n"
     ]
    },
    {
     "name": "stderr",
     "output_type": "stream",
     "text": [
      "\r",
      " 69%|██████▉   | 18/26 [00:19<00:14,  1.79s/it]"
     ]
    },
    {
     "name": "stdout",
     "output_type": "stream",
     "text": [
      "\n",
      "video4_010-029-video4_010-030: overlap = 0.0\n",
      "\n",
      "mean_270619-video4_010-030_opened_cc16.png is INTERESTING\n",
      "\n",
      "video4_010-029-video4_010-030: overlap = 0.0\n"
     ]
    },
    {
     "name": "stderr",
     "output_type": "stream",
     "text": [
      "\r",
      " 73%|███████▎  | 19/26 [00:22<00:13,  1.88s/it]"
     ]
    },
    {
     "name": "stdout",
     "output_type": "stream",
     "text": [
      "\n",
      "video4_010-029-video4_010-030: overlap = 0.0\n",
      "\n",
      "mean_270619-video4_010-030_opened_cc17.png is INTERESTING\n",
      "\n",
      "video4_010-029-video4_010-030: overlap = 0.0\n"
     ]
    },
    {
     "name": "stderr",
     "output_type": "stream",
     "text": [
      "\r",
      " 77%|███████▋  | 20/26 [00:24<00:11,  1.93s/it]"
     ]
    },
    {
     "name": "stdout",
     "output_type": "stream",
     "text": [
      "\n",
      "video4_010-029-video4_010-030: overlap = 0.0\n",
      "\n",
      "mean_270619-video4_010-030_opened_cc28.png is INTERESTING\n",
      "\n",
      "video4_010-029-video4_010-030: overlap = 0.0\n"
     ]
    },
    {
     "name": "stderr",
     "output_type": "stream",
     "text": [
      "\r",
      " 81%|████████  | 21/26 [00:26<00:09,  1.96s/it]"
     ]
    },
    {
     "name": "stdout",
     "output_type": "stream",
     "text": [
      "\n",
      "video4_010-029-video4_010-030: overlap = 0.0\n"
     ]
    },
    {
     "name": "stderr",
     "output_type": "stream",
     "text": [
      "\r",
      " 85%|████████▍ | 22/26 [00:26<00:06,  1.61s/it]"
     ]
    },
    {
     "name": "stdout",
     "output_type": "stream",
     "text": [
      "\n",
      "mean_270619-video4_010-030_opened_cc32.png: too spherical 2.005110472715806\n",
      "\n",
      "mean_270619-video4_010-030_opened_cc36.png is INTERESTING\n",
      "\n",
      "video4_010-029-video4_010-030: overlap = 0.0\n"
     ]
    },
    {
     "name": "stderr",
     "output_type": "stream",
     "text": [
      "\r",
      " 88%|████████▊ | 23/26 [00:29<00:05,  1.77s/it]"
     ]
    },
    {
     "name": "stdout",
     "output_type": "stream",
     "text": [
      "\n",
      "video4_010-029-video4_010-030: overlap = 0.0\n",
      "\n",
      "mean_270619-video4_010-031_opened_cc18.png is INTERESTING\n",
      "\n",
      "video4_010-030-video4_010-031: overlap = 0.0\n",
      "\n",
      "video4_010-030-video4_010-031: overlap = 0.0\n",
      "\n",
      "video4_010-030-video4_010-031: overlap = 0.0\n",
      "\n",
      "video4_010-030-video4_010-031: overlap = 0.1206636500754148\n"
     ]
    },
    {
     "name": "stderr",
     "output_type": "stream",
     "text": [
      "\r",
      " 92%|█████████▏| 24/26 [00:33<00:05,  2.51s/it]"
     ]
    },
    {
     "name": "stdout",
     "output_type": "stream",
     "text": [
      "\n",
      "video4_010-030-video4_010-031: overlap = 0.0\n",
      "\n",
      "mean_270619-video4_010-031_opened_cc19.png is INTERESTING\n",
      "\n",
      "video4_010-030-video4_010-031: overlap = 0.0\n",
      "\n",
      "video4_010-030-video4_010-031: overlap = 0.0\n",
      "\n",
      "video4_010-030-video4_010-031: overlap = 0.0\n",
      "\n",
      "video4_010-030-video4_010-031: overlap = 0.0\n"
     ]
    },
    {
     "name": "stderr",
     "output_type": "stream",
     "text": [
      "\r",
      " 96%|█████████▌| 25/26 [00:37<00:03,  3.04s/it]"
     ]
    },
    {
     "name": "stdout",
     "output_type": "stream",
     "text": [
      "\n",
      "video4_010-030-video4_010-031: overlap = 0.0\n"
     ]
    },
    {
     "name": "stderr",
     "output_type": "stream",
     "text": [
      "100%|██████████| 26/26 [00:38<00:00,  2.36s/it]\n",
      "  0%|          | 0/37 [00:00<?, ?it/s]"
     ]
    },
    {
     "name": "stdout",
     "output_type": "stream",
     "text": [
      "\n",
      "mean_270619-video4_010-031_opened_cc23.png: too spherical 8.789887034622287\n",
      "found video4_011/trigger_thr0.005_cl9_op3/cc_filtered_2den0.81_gausrad2.0/\n"
     ]
    },
    {
     "name": "stderr",
     "output_type": "stream",
     "text": [
      "\r",
      "  3%|▎         | 1/37 [00:00<00:26,  1.37it/s]"
     ]
    },
    {
     "name": "stdout",
     "output_type": "stream",
     "text": [
      "\n",
      "mean_270619-video4_011-014_opened_cc03.png is INTERESTING\n"
     ]
    },
    {
     "name": "stderr",
     "output_type": "stream",
     "text": [
      "\r",
      "  5%|▌         | 2/37 [00:01<00:25,  1.37it/s]"
     ]
    },
    {
     "name": "stdout",
     "output_type": "stream",
     "text": [
      "\n",
      "mean_270619-video4_011-014_opened_cc29.png: too spherical 4.756827208703181\n"
     ]
    },
    {
     "name": "stderr",
     "output_type": "stream",
     "text": [
      "\r",
      "  8%|▊         | 3/37 [00:02<00:24,  1.39it/s]"
     ]
    },
    {
     "name": "stdout",
     "output_type": "stream",
     "text": [
      "\n",
      "mean_270619-video4_011-014_opened_cc32.png: too spherical 2.32071123382163\n"
     ]
    },
    {
     "name": "stderr",
     "output_type": "stream",
     "text": [
      "\r",
      " 11%|█         | 4/37 [00:02<00:23,  1.41it/s]"
     ]
    },
    {
     "name": "stdout",
     "output_type": "stream",
     "text": [
      "\n",
      "mean_270619-video4_011-014_opened_cc46.png: too spherical 5.9737704508425855\n"
     ]
    },
    {
     "name": "stderr",
     "output_type": "stream",
     "text": [
      "\r",
      " 14%|█▎        | 5/37 [00:03<00:22,  1.43it/s]"
     ]
    },
    {
     "name": "stdout",
     "output_type": "stream",
     "text": [
      "\n",
      "mean_270619-video4_011-014_opened_cc48.png: too spherical 3.875718975029776\n"
     ]
    },
    {
     "name": "stderr",
     "output_type": "stream",
     "text": [
      "\r",
      " 16%|█▌        | 6/37 [00:04<00:22,  1.37it/s]"
     ]
    },
    {
     "name": "stdout",
     "output_type": "stream",
     "text": [
      "\n",
      "mean_270619-video4_011-014_opened_cc49.png is INTERESTING\n"
     ]
    },
    {
     "name": "stderr",
     "output_type": "stream",
     "text": [
      "\r",
      " 19%|█▉        | 7/37 [00:05<00:21,  1.37it/s]"
     ]
    },
    {
     "name": "stdout",
     "output_type": "stream",
     "text": [
      "\n",
      "mean_270619-video4_011-014_opened_cc56.png: too spherical 3.433022887197381\n"
     ]
    },
    {
     "name": "stderr",
     "output_type": "stream",
     "text": [
      "\r",
      " 22%|██▏       | 8/37 [00:05<00:21,  1.36it/s]"
     ]
    },
    {
     "name": "stdout",
     "output_type": "stream",
     "text": [
      "\n",
      "mean_270619-video4_011-014_opened_cc62.png is INTERESTING\n",
      "\n",
      "mean_270619-video4_011-015_opened_cc20.png is INTERESTING\n",
      "\n",
      "video4_011-014-video4_011-015: overlap = 0.0\n",
      "\n",
      "video4_011-014-video4_011-015: overlap = 0.0\n"
     ]
    },
    {
     "name": "stderr",
     "output_type": "stream",
     "text": [
      "\r",
      " 24%|██▍       | 9/37 [00:08<00:37,  1.33s/it]"
     ]
    },
    {
     "name": "stdout",
     "output_type": "stream",
     "text": [
      "\n",
      "video4_011-014-video4_011-015: overlap = 0.0\n"
     ]
    },
    {
     "name": "stderr",
     "output_type": "stream",
     "text": [
      "\r",
      " 27%|██▋       | 10/37 [00:09<00:30,  1.15s/it]"
     ]
    },
    {
     "name": "stdout",
     "output_type": "stream",
     "text": [
      "\n",
      "mean_270619-video4_011-015_opened_cc27.png: too spherical 3.3878171105527826\n"
     ]
    },
    {
     "name": "stderr",
     "output_type": "stream",
     "text": [
      "\r",
      " 30%|██▉       | 11/37 [00:09<00:26,  1.02s/it]"
     ]
    },
    {
     "name": "stdout",
     "output_type": "stream",
     "text": [
      "\n",
      "mean_270619-video4_011-015_opened_cc42.png: too spherical 1.3218162510652578\n"
     ]
    },
    {
     "name": "stderr",
     "output_type": "stream",
     "text": [
      "\r",
      " 32%|███▏      | 12/37 [00:10<00:23,  1.08it/s]"
     ]
    },
    {
     "name": "stdout",
     "output_type": "stream",
     "text": [
      "\n",
      "mean_270619-video4_011-015_opened_cc53.png: too spherical 4.0684913218524095\n",
      "\n",
      "mean_270619-video4_011-015_opened_cc64.png is INTERESTING\n",
      "\n",
      "video4_011-014-video4_011-015: overlap = 0.0\n",
      "\n",
      "video4_011-014-video4_011-015: overlap = 0.0\n"
     ]
    },
    {
     "name": "stderr",
     "output_type": "stream",
     "text": [
      "\r",
      " 35%|███▌      | 13/37 [00:13<00:34,  1.46s/it]"
     ]
    },
    {
     "name": "stdout",
     "output_type": "stream",
     "text": [
      "\n",
      "video4_011-014-video4_011-015: overlap = 0.0\n",
      "\n",
      "mean_270619-video4_011-015_opened_cc81.png is INTERESTING\n",
      "\n",
      "video4_011-014-video4_011-015: overlap = 0.0\n",
      "\n",
      "video4_011-014-video4_011-015: overlap = 0.0\n"
     ]
    },
    {
     "name": "stderr",
     "output_type": "stream",
     "text": [
      "\r",
      " 38%|███▊      | 14/37 [00:16<00:42,  1.85s/it]"
     ]
    },
    {
     "name": "stdout",
     "output_type": "stream",
     "text": [
      "\n",
      "video4_011-014-video4_011-015: overlap = 0.5845954132410212\n"
     ]
    },
    {
     "name": "stderr",
     "output_type": "stream",
     "text": [
      "\r",
      " 41%|████      | 15/37 [00:16<00:33,  1.50s/it]"
     ]
    },
    {
     "name": "stdout",
     "output_type": "stream",
     "text": [
      "\n",
      "mean_270619-video4_011-015_opened_cc88.png: too spherical 3.296731263150107\n"
     ]
    },
    {
     "name": "stderr",
     "output_type": "stream",
     "text": [
      "\r",
      " 43%|████▎     | 16/37 [00:17<00:26,  1.27s/it]"
     ]
    },
    {
     "name": "stdout",
     "output_type": "stream",
     "text": [
      "\n",
      "mean_270619-video4_011-016_opened_cc01.png: too spherical 2.3838501942145944\n"
     ]
    },
    {
     "name": "stderr",
     "output_type": "stream",
     "text": [
      "\r",
      " 46%|████▌     | 17/37 [00:18<00:21,  1.09s/it]"
     ]
    },
    {
     "name": "stdout",
     "output_type": "stream",
     "text": [
      "\n",
      "mean_270619-video4_011-016_opened_cc07.png: too spherical 1.7382520800815322\n"
     ]
    },
    {
     "name": "stderr",
     "output_type": "stream",
     "text": [
      "\r",
      " 49%|████▊     | 18/37 [00:18<00:18,  1.01it/s]"
     ]
    },
    {
     "name": "stdout",
     "output_type": "stream",
     "text": [
      "\n",
      "mean_270619-video4_011-016_opened_cc08.png: too spherical 4.801517371030352\n",
      "\n",
      "mean_270619-video4_011-016_opened_cc102.png is INTERESTING\n",
      "\n",
      "video4_011-015-video4_011-016: overlap = 0.0\n",
      "\n",
      "video4_011-015-video4_011-016: overlap = 0.0\n"
     ]
    },
    {
     "name": "stderr",
     "output_type": "stream",
     "text": [
      "\r",
      " 51%|█████▏    | 19/37 [00:21<00:27,  1.55s/it]"
     ]
    },
    {
     "name": "stdout",
     "output_type": "stream",
     "text": [
      "\n",
      "video4_011-015-video4_011-016: overlap = 0.0\n"
     ]
    },
    {
     "name": "stderr",
     "output_type": "stream",
     "text": [
      "\r",
      " 54%|█████▍    | 20/37 [00:22<00:22,  1.32s/it]"
     ]
    },
    {
     "name": "stdout",
     "output_type": "stream",
     "text": [
      "\n",
      "mean_270619-video4_011-016_opened_cc32.png: too spherical 2.2039368305233427\n"
     ]
    },
    {
     "name": "stderr",
     "output_type": "stream",
     "text": [
      "\r",
      " 57%|█████▋    | 21/37 [00:23<00:18,  1.15s/it]"
     ]
    },
    {
     "name": "stdout",
     "output_type": "stream",
     "text": [
      "\n",
      "mean_270619-video4_011-016_opened_cc37.png: too spherical 1.0930452131309296\n"
     ]
    },
    {
     "name": "stderr",
     "output_type": "stream",
     "text": [
      "\r",
      " 59%|█████▉    | 22/37 [00:24<00:15,  1.01s/it]"
     ]
    },
    {
     "name": "stdout",
     "output_type": "stream",
     "text": [
      "\n",
      "mean_270619-video4_011-016_opened_cc48.png: too spherical 3.62847396740793\n"
     ]
    },
    {
     "name": "stderr",
     "output_type": "stream",
     "text": [
      "\r",
      " 62%|██████▏   | 23/37 [00:24<00:12,  1.08it/s]"
     ]
    },
    {
     "name": "stdout",
     "output_type": "stream",
     "text": [
      "\n",
      "mean_270619-video4_011-016_opened_cc70.png: too spherical 1.8347345338870131\n"
     ]
    },
    {
     "name": "stderr",
     "output_type": "stream",
     "text": [
      "\r",
      " 65%|██████▍   | 24/37 [00:25<00:11,  1.16it/s]"
     ]
    },
    {
     "name": "stdout",
     "output_type": "stream",
     "text": [
      "\n",
      "mean_270619-video4_011-016_opened_cc83.png: too spherical 2.5887907519016697\n",
      "\n",
      "mean_270619-video4_011-016_opened_cc86.png is INTERESTING\n"
     ]
    },
    {
     "name": "stderr",
     "output_type": "stream",
     "text": [
      "\r",
      " 68%|██████▊   | 25/37 [00:26<00:12,  1.03s/it]"
     ]
    },
    {
     "name": "stdout",
     "output_type": "stream",
     "text": [
      "\n",
      "video4_011-015-video4_011-016: overlap = 0.8183563077996859\n"
     ]
    },
    {
     "name": "stderr",
     "output_type": "stream",
     "text": [
      "\r",
      " 70%|███████   | 26/37 [00:27<00:10,  1.08it/s]"
     ]
    },
    {
     "name": "stdout",
     "output_type": "stream",
     "text": [
      "\n",
      "mean_270619-video4_011-016_opened_cc95.png: too spherical 7.074016074354832\n"
     ]
    },
    {
     "name": "stderr",
     "output_type": "stream",
     "text": [
      "\r",
      " 73%|███████▎  | 27/37 [00:28<00:08,  1.14it/s]"
     ]
    },
    {
     "name": "stdout",
     "output_type": "stream",
     "text": [
      "\n",
      "mean_270619-video4_011-021_opened_cc03.png: too spherical 1.4310793203378152\n"
     ]
    },
    {
     "name": "stderr",
     "output_type": "stream",
     "text": [
      "\r",
      " 76%|███████▌  | 28/37 [00:29<00:07,  1.19it/s]"
     ]
    },
    {
     "name": "stdout",
     "output_type": "stream",
     "text": [
      "\n",
      "mean_270619-video4_011-021_opened_cc06.png is INTERESTING\n"
     ]
    },
    {
     "name": "stderr",
     "output_type": "stream",
     "text": [
      "\r",
      " 78%|███████▊  | 29/37 [00:29<00:06,  1.25it/s]"
     ]
    },
    {
     "name": "stdout",
     "output_type": "stream",
     "text": [
      "\n",
      "mean_270619-video4_011-021_opened_cc55.png: too spherical 3.5159654790070727\n"
     ]
    },
    {
     "name": "stderr",
     "output_type": "stream",
     "text": [
      "\r",
      " 81%|████████  | 30/37 [00:30<00:05,  1.28it/s]"
     ]
    },
    {
     "name": "stdout",
     "output_type": "stream",
     "text": [
      "\n",
      "mean_270619-video4_011-021_opened_cc80.png: too spherical 6.399069820718598\n"
     ]
    },
    {
     "name": "stderr",
     "output_type": "stream",
     "text": [
      "\r",
      " 84%|████████▍ | 31/37 [00:31<00:04,  1.31it/s]"
     ]
    },
    {
     "name": "stdout",
     "output_type": "stream",
     "text": [
      "\n",
      "mean_270619-video4_011-021_opened_cc89.png: too spherical 1.7985567020481332\n"
     ]
    },
    {
     "name": "stderr",
     "output_type": "stream",
     "text": [
      "\r",
      " 86%|████████▋ | 32/37 [00:31<00:03,  1.35it/s]"
     ]
    },
    {
     "name": "stdout",
     "output_type": "stream",
     "text": [
      "\n",
      "mean_270619-video4_011-047_opened_cc02.png is INTERESTING\n"
     ]
    },
    {
     "name": "stderr",
     "output_type": "stream",
     "text": [
      "\r",
      " 89%|████████▉ | 33/37 [00:32<00:02,  1.35it/s]"
     ]
    },
    {
     "name": "stdout",
     "output_type": "stream",
     "text": [
      "\n",
      "mean_270619-video4_011-047_opened_cc12.png is INTERESTING\n"
     ]
    },
    {
     "name": "stderr",
     "output_type": "stream",
     "text": [
      "\r",
      " 92%|█████████▏| 34/37 [00:33<00:02,  1.30it/s]"
     ]
    },
    {
     "name": "stdout",
     "output_type": "stream",
     "text": [
      "\n",
      "mean_270619-video4_011-048_opened_cc10.png: too spherical 4.323802002960298\n",
      "\n",
      "mean_270619-video4_011-048_opened_cc16.png is INTERESTING\n",
      "\n",
      "video4_011-047-video4_011-048: overlap = 0.0\n"
     ]
    },
    {
     "name": "stderr",
     "output_type": "stream",
     "text": [
      "\r",
      " 95%|█████████▍| 35/37 [00:35<00:02,  1.23s/it]"
     ]
    },
    {
     "name": "stdout",
     "output_type": "stream",
     "text": [
      "\n",
      "video4_011-047-video4_011-048: overlap = 0.8524077548467792\n"
     ]
    },
    {
     "name": "stderr",
     "output_type": "stream",
     "text": [
      "\r",
      " 97%|█████████▋| 36/37 [00:36<00:01,  1.09s/it]"
     ]
    },
    {
     "name": "stdout",
     "output_type": "stream",
     "text": [
      "\n",
      "mean_270619-video4_011-015_opened_cc26.png: too spherical 1.8817510827266477\n"
     ]
    },
    {
     "name": "stderr",
     "output_type": "stream",
     "text": [
      "100%|██████████| 37/37 [00:37<00:00,  1.02it/s]\n",
      "  0%|          | 0/50 [00:00<?, ?it/s]"
     ]
    },
    {
     "name": "stdout",
     "output_type": "stream",
     "text": [
      "\n",
      "mean_270619-video4_011-016_opened_cc33.png: too spherical 2.0281384825763427\n",
      "found video4_012/trigger_thr0.005_cl9_op3/cc_filtered_2den0.81_gausrad2.0/\n"
     ]
    },
    {
     "name": "stderr",
     "output_type": "stream",
     "text": [
      "\r",
      "  2%|▏         | 1/50 [00:00<00:37,  1.30it/s]"
     ]
    },
    {
     "name": "stdout",
     "output_type": "stream",
     "text": [
      "\n",
      "mean_270619-video4_012-001_opened_cc02.png: too crowded: 6.4515817901234565\n"
     ]
    },
    {
     "name": "stderr",
     "output_type": "stream",
     "text": [
      "\r",
      "  4%|▍         | 2/50 [00:01<00:37,  1.28it/s]"
     ]
    },
    {
     "name": "stdout",
     "output_type": "stream",
     "text": [
      "\n",
      "mean_270619-video4_012-001_opened_cc04.png: too spherical 5.4803943325896025\n"
     ]
    },
    {
     "name": "stderr",
     "output_type": "stream",
     "text": [
      "\r",
      "  6%|▌         | 3/50 [00:02<00:35,  1.33it/s]"
     ]
    },
    {
     "name": "stdout",
     "output_type": "stream",
     "text": [
      "\n",
      "mean_270619-video4_012-001_opened_cc25.png: too spherical 4.326227372261594\n"
     ]
    },
    {
     "name": "stderr",
     "output_type": "stream",
     "text": [
      "\r",
      "  8%|▊         | 4/50 [00:02<00:34,  1.34it/s]"
     ]
    },
    {
     "name": "stdout",
     "output_type": "stream",
     "text": [
      "\n",
      "mean_270619-video4_012-001_opened_cc37.png: too spherical 1.8590074845950084\n"
     ]
    },
    {
     "name": "stderr",
     "output_type": "stream",
     "text": [
      "\r",
      " 10%|█         | 5/50 [00:03<00:33,  1.36it/s]"
     ]
    },
    {
     "name": "stdout",
     "output_type": "stream",
     "text": [
      "\n",
      "mean_270619-video4_012-002_opened_cc06.png: too spherical 6.138656241978272\n"
     ]
    },
    {
     "name": "stderr",
     "output_type": "stream",
     "text": [
      "\r",
      " 12%|█▏        | 6/50 [00:04<00:32,  1.37it/s]"
     ]
    },
    {
     "name": "stdout",
     "output_type": "stream",
     "text": [
      "\n",
      "mean_270619-video4_012-003_opened_cc07.png: too spherical 1.1980017702657149\n"
     ]
    },
    {
     "name": "stderr",
     "output_type": "stream",
     "text": [
      "\r",
      " 14%|█▍        | 7/50 [00:05<00:31,  1.37it/s]"
     ]
    },
    {
     "name": "stdout",
     "output_type": "stream",
     "text": [
      "\n",
      "mean_270619-video4_012-036_opened_cc01.png: too crowded: 9.676311728395062\n"
     ]
    },
    {
     "name": "stderr",
     "output_type": "stream",
     "text": [
      "\r",
      " 16%|█▌        | 8/50 [00:05<00:30,  1.37it/s]"
     ]
    },
    {
     "name": "stdout",
     "output_type": "stream",
     "text": [
      "\n",
      "mean_270619-video4_012-036_opened_cc06.png: too spherical 5.913838565504999\n"
     ]
    },
    {
     "name": "stderr",
     "output_type": "stream",
     "text": [
      "\r",
      " 18%|█▊        | 9/50 [00:06<00:29,  1.39it/s]"
     ]
    },
    {
     "name": "stdout",
     "output_type": "stream",
     "text": [
      "\n",
      "mean_270619-video4_012-036_opened_cc13.png is INTERESTING\n"
     ]
    },
    {
     "name": "stderr",
     "output_type": "stream",
     "text": [
      "\r",
      " 20%|██        | 10/50 [00:07<00:28,  1.39it/s]"
     ]
    },
    {
     "name": "stdout",
     "output_type": "stream",
     "text": [
      "\n",
      "mean_270619-video4_012-036_opened_cc18.png: too spherical 8.689614858426726\n"
     ]
    },
    {
     "name": "stderr",
     "output_type": "stream",
     "text": [
      "\r",
      " 22%|██▏       | 11/50 [00:08<00:28,  1.38it/s]"
     ]
    },
    {
     "name": "stdout",
     "output_type": "stream",
     "text": [
      "\n",
      "mean_270619-video4_012-036_opened_cc20.png: too spherical 2.1780189629214775\n"
     ]
    },
    {
     "name": "stderr",
     "output_type": "stream",
     "text": [
      "\r",
      " 24%|██▍       | 12/50 [00:08<00:27,  1.37it/s]"
     ]
    },
    {
     "name": "stdout",
     "output_type": "stream",
     "text": [
      "\n",
      "mean_270619-video4_012-036_opened_cc22.png: too spherical 3.8228664154569048\n"
     ]
    },
    {
     "name": "stderr",
     "output_type": "stream",
     "text": [
      "\r",
      " 26%|██▌       | 13/50 [00:09<00:27,  1.36it/s]"
     ]
    },
    {
     "name": "stdout",
     "output_type": "stream",
     "text": [
      "\n",
      "mean_270619-video4_012-036_opened_cc36.png is INTERESTING\n"
     ]
    },
    {
     "name": "stderr",
     "output_type": "stream",
     "text": [
      "\r",
      " 28%|██▊       | 14/50 [00:10<00:26,  1.36it/s]"
     ]
    },
    {
     "name": "stdout",
     "output_type": "stream",
     "text": [
      "\n",
      "mean_270619-video4_012-037_opened_cc01.png: too crowded: 7.942515432098765\n",
      "\n",
      "mean_270619-video4_012-037_opened_cc03.png is INTERESTING\n",
      "\n",
      "video4_012-036-video4_012-037: overlap = 0.0\n"
     ]
    },
    {
     "name": "stderr",
     "output_type": "stream",
     "text": [
      "\r",
      " 30%|███       | 15/50 [00:12<00:39,  1.14s/it]"
     ]
    },
    {
     "name": "stdout",
     "output_type": "stream",
     "text": [
      "\n",
      "video4_012-036-video4_012-037: overlap = 0.0\n",
      "\n",
      "mean_270619-video4_012-037_opened_cc09.png is INTERESTING\n",
      "\n",
      "video4_012-036-video4_012-037: overlap = 0.036971310263235746\n"
     ]
    },
    {
     "name": "stderr",
     "output_type": "stream",
     "text": [
      "\r",
      " 32%|███▏      | 16/50 [00:14<00:49,  1.45s/it]"
     ]
    },
    {
     "name": "stdout",
     "output_type": "stream",
     "text": [
      "\n",
      "video4_012-036-video4_012-037: overlap = 0.015605629694450562\n"
     ]
    },
    {
     "name": "stderr",
     "output_type": "stream",
     "text": [
      "\r",
      " 34%|███▍      | 17/50 [00:15<00:40,  1.23s/it]"
     ]
    },
    {
     "name": "stdout",
     "output_type": "stream",
     "text": [
      "\n",
      "mean_270619-video4_012-037_opened_cc30.png: too spherical 3.635057859924526\n",
      "\n",
      "mean_270619-video4_012-037_opened_cc39.png is INTERESTING\n",
      "\n",
      "video4_012-036-video4_012-037: overlap = 0.0\n"
     ]
    },
    {
     "name": "stderr",
     "output_type": "stream",
     "text": [
      "\r",
      " 36%|███▌      | 18/50 [00:17<00:46,  1.46s/it]"
     ]
    },
    {
     "name": "stdout",
     "output_type": "stream",
     "text": [
      "\n",
      "video4_012-036-video4_012-037: overlap = 0.0\n",
      "\n",
      "mean_270619-video4_012-037_opened_cc58.png is INTERESTING\n",
      "\n",
      "video4_012-036-video4_012-037: overlap = 0.0\n"
     ]
    },
    {
     "name": "stderr",
     "output_type": "stream",
     "text": [
      "\r",
      " 38%|███▊      | 19/50 [00:19<00:50,  1.62s/it]"
     ]
    },
    {
     "name": "stdout",
     "output_type": "stream",
     "text": [
      "\n",
      "video4_012-036-video4_012-037: overlap = 0.0\n"
     ]
    },
    {
     "name": "stderr",
     "output_type": "stream",
     "text": [
      "\r",
      " 40%|████      | 20/50 [00:20<00:40,  1.37s/it]"
     ]
    },
    {
     "name": "stdout",
     "output_type": "stream",
     "text": [
      "\n",
      "mean_270619-video4_012-047_opened_cc06.png: too spherical 9.412462587009454\n"
     ]
    },
    {
     "name": "stderr",
     "output_type": "stream",
     "text": [
      "\r",
      " 42%|████▏     | 21/50 [00:20<00:33,  1.17s/it]"
     ]
    },
    {
     "name": "stdout",
     "output_type": "stream",
     "text": [
      "\n",
      "mean_270619-video4_012-047_opened_cc08.png: too spherical 1.4179760758401163\n"
     ]
    },
    {
     "name": "stderr",
     "output_type": "stream",
     "text": [
      "\r",
      " 44%|████▍     | 22/50 [00:21<00:29,  1.05s/it]"
     ]
    },
    {
     "name": "stdout",
     "output_type": "stream",
     "text": [
      "\n",
      "mean_270619-video4_012-047_opened_cc09.png: too spherical 8.670608307070898\n"
     ]
    },
    {
     "name": "stderr",
     "output_type": "stream",
     "text": [
      "\r",
      " 46%|████▌     | 23/50 [00:22<00:25,  1.06it/s]"
     ]
    },
    {
     "name": "stdout",
     "output_type": "stream",
     "text": [
      "\n",
      "mean_270619-video4_012-047_opened_cc10.png: too spherical 4.49728445475174\n"
     ]
    },
    {
     "name": "stderr",
     "output_type": "stream",
     "text": [
      "\r",
      " 48%|████▊     | 24/50 [00:22<00:22,  1.15it/s]"
     ]
    },
    {
     "name": "stdout",
     "output_type": "stream",
     "text": [
      "\n",
      "mean_270619-video4_012-047_opened_cc100.png: too spherical 2.0796700083593644\n"
     ]
    },
    {
     "name": "stderr",
     "output_type": "stream",
     "text": [
      "\r",
      " 50%|█████     | 25/50 [00:23<00:20,  1.23it/s]"
     ]
    },
    {
     "name": "stdout",
     "output_type": "stream",
     "text": [
      "\n",
      "mean_270619-video4_012-047_opened_cc103.png: too spherical 6.452038135909363\n"
     ]
    },
    {
     "name": "stderr",
     "output_type": "stream",
     "text": [
      "\r",
      " 52%|█████▏    | 26/50 [00:24<00:18,  1.27it/s]"
     ]
    },
    {
     "name": "stdout",
     "output_type": "stream",
     "text": [
      "\n",
      "mean_270619-video4_012-047_opened_cc11.png: too spherical 4.1255984118004605\n"
     ]
    },
    {
     "name": "stderr",
     "output_type": "stream",
     "text": [
      "\r",
      " 54%|█████▍    | 27/50 [00:24<00:17,  1.32it/s]"
     ]
    },
    {
     "name": "stdout",
     "output_type": "stream",
     "text": [
      "\n",
      "mean_270619-video4_012-047_opened_cc27.png: too spherical 4.69617699842256\n"
     ]
    },
    {
     "name": "stderr",
     "output_type": "stream",
     "text": [
      "\r",
      " 56%|█████▌    | 28/50 [00:25<00:16,  1.35it/s]"
     ]
    },
    {
     "name": "stdout",
     "output_type": "stream",
     "text": [
      "\n",
      "mean_270619-video4_012-047_opened_cc28.png: too spherical 5.424487401738995\n"
     ]
    },
    {
     "name": "stderr",
     "output_type": "stream",
     "text": [
      "\r",
      " 58%|█████▊    | 29/50 [00:26<00:15,  1.36it/s]"
     ]
    },
    {
     "name": "stdout",
     "output_type": "stream",
     "text": [
      "\n",
      "mean_270619-video4_012-029_opened_cc16.png: too spherical 2.714617455255513\n",
      "\n",
      "mean_270619-video4_012-037_opened_cc36.png is INTERESTING\n",
      "\n",
      "video4_012-036-video4_012-037: overlap = 0.0\n"
     ]
    },
    {
     "name": "stderr",
     "output_type": "stream",
     "text": [
      "\r",
      " 60%|██████    | 30/50 [00:28<00:22,  1.12s/it]"
     ]
    },
    {
     "name": "stdout",
     "output_type": "stream",
     "text": [
      "\n",
      "video4_012-036-video4_012-037: overlap = 0.0\n"
     ]
    },
    {
     "name": "stderr",
     "output_type": "stream",
     "text": [
      "\r",
      " 62%|██████▏   | 31/50 [00:29<00:19,  1.00s/it]"
     ]
    },
    {
     "name": "stdout",
     "output_type": "stream",
     "text": [
      "\n",
      "mean_270619-video4_012-047_opened_cc38.png: too spherical 1.692199664346912\n"
     ]
    },
    {
     "name": "stderr",
     "output_type": "stream",
     "text": [
      "\r",
      " 64%|██████▍   | 32/50 [00:29<00:16,  1.09it/s]"
     ]
    },
    {
     "name": "stdout",
     "output_type": "stream",
     "text": [
      "\n",
      "mean_270619-video4_012-047_opened_cc41.png: too spherical 1.9004239714956728\n"
     ]
    },
    {
     "name": "stderr",
     "output_type": "stream",
     "text": [
      "\r",
      " 66%|██████▌   | 33/50 [00:30<00:14,  1.14it/s]"
     ]
    },
    {
     "name": "stdout",
     "output_type": "stream",
     "text": [
      "\n",
      "mean_270619-video4_012-047_opened_cc42.png: too spherical 4.445688571437502\n"
     ]
    },
    {
     "name": "stderr",
     "output_type": "stream",
     "text": [
      "\r",
      " 68%|██████▊   | 34/50 [00:31<00:13,  1.21it/s]"
     ]
    },
    {
     "name": "stdout",
     "output_type": "stream",
     "text": [
      "\n",
      "mean_270619-video4_012-047_opened_cc43.png is INTERESTING\n"
     ]
    },
    {
     "name": "stderr",
     "output_type": "stream",
     "text": [
      "\r",
      " 70%|███████   | 35/50 [00:32<00:12,  1.24it/s]"
     ]
    },
    {
     "name": "stdout",
     "output_type": "stream",
     "text": [
      "\n",
      "mean_270619-video4_012-047_opened_cc75.png: too spherical 3.8742868030431317\n"
     ]
    },
    {
     "name": "stderr",
     "output_type": "stream",
     "text": [
      "\r",
      " 72%|███████▏  | 36/50 [00:32<00:11,  1.27it/s]"
     ]
    },
    {
     "name": "stdout",
     "output_type": "stream",
     "text": [
      "\n",
      "mean_270619-video4_012-047_opened_cc83.png: too spherical 7.813121294428674\n"
     ]
    },
    {
     "name": "stderr",
     "output_type": "stream",
     "text": [
      "\r",
      " 74%|███████▍  | 37/50 [00:33<00:10,  1.28it/s]"
     ]
    },
    {
     "name": "stdout",
     "output_type": "stream",
     "text": [
      "\n",
      "mean_270619-video4_012-047_opened_cc99.png: too spherical 6.220769595682434\n"
     ]
    },
    {
     "name": "stderr",
     "output_type": "stream",
     "text": [
      "\r",
      " 76%|███████▌  | 38/50 [00:34<00:09,  1.27it/s]"
     ]
    },
    {
     "name": "stdout",
     "output_type": "stream",
     "text": [
      "\n",
      "mean_270619-video4_012-048_opened_cc03.png: too spherical 3.9075336022688636\n"
     ]
    },
    {
     "name": "stderr",
     "output_type": "stream",
     "text": [
      "\r",
      " 78%|███████▊  | 39/50 [00:35<00:08,  1.27it/s]"
     ]
    },
    {
     "name": "stdout",
     "output_type": "stream",
     "text": [
      "\n",
      "mean_270619-video4_012-048_opened_cc06.png: too spherical 5.17920012267172\n"
     ]
    },
    {
     "name": "stderr",
     "output_type": "stream",
     "text": [
      "\r",
      " 80%|████████  | 40/50 [00:36<00:07,  1.26it/s]"
     ]
    },
    {
     "name": "stdout",
     "output_type": "stream",
     "text": [
      "\n",
      "mean_270619-video4_012-048_opened_cc10.png: too spherical 9.114885869599638\n",
      "\n",
      "mean_270619-video4_012-048_opened_cc25.png is INTERESTING\n"
     ]
    },
    {
     "name": "stderr",
     "output_type": "stream",
     "text": [
      "\r",
      " 82%|████████▏ | 41/50 [00:37<00:08,  1.02it/s]"
     ]
    },
    {
     "name": "stdout",
     "output_type": "stream",
     "text": [
      "\n",
      "video4_012-047-video4_012-048: overlap = 0.0\n"
     ]
    },
    {
     "name": "stderr",
     "output_type": "stream",
     "text": [
      "\r",
      " 84%|████████▍ | 42/50 [00:38<00:07,  1.07it/s]"
     ]
    },
    {
     "name": "stdout",
     "output_type": "stream",
     "text": [
      "\n",
      "mean_270619-video4_012-048_opened_cc26.png: too spherical 3.057286000360358\n"
     ]
    },
    {
     "name": "stderr",
     "output_type": "stream",
     "text": [
      "\r",
      " 86%|████████▌ | 43/50 [00:39<00:06,  1.13it/s]"
     ]
    },
    {
     "name": "stdout",
     "output_type": "stream",
     "text": [
      "\n",
      "mean_270619-video4_012-048_opened_cc30.png: too spherical 5.637619325164286\n",
      "\n",
      "mean_270619-video4_012-048_opened_cc37.png is INTERESTING\n"
     ]
    },
    {
     "name": "stderr",
     "output_type": "stream",
     "text": [
      "\r",
      " 88%|████████▊ | 44/50 [00:40<00:06,  1.04s/it]"
     ]
    },
    {
     "name": "stdout",
     "output_type": "stream",
     "text": [
      "\n",
      "video4_012-047-video4_012-048: overlap = 0.02714932126696834\n"
     ]
    },
    {
     "name": "stderr",
     "output_type": "stream",
     "text": [
      "\r",
      " 90%|█████████ | 45/50 [00:41<00:04,  1.06it/s]"
     ]
    },
    {
     "name": "stdout",
     "output_type": "stream",
     "text": [
      "\n",
      "mean_270619-video4_012-048_opened_cc38.png: too spherical 4.897633834619869\n"
     ]
    },
    {
     "name": "stderr",
     "output_type": "stream",
     "text": [
      "\r",
      " 92%|█████████▏| 46/50 [00:41<00:03,  1.12it/s]"
     ]
    },
    {
     "name": "stdout",
     "output_type": "stream",
     "text": [
      "\n",
      "mean_270619-video4_012-048_opened_cc40.png: too spherical 3.433409965697348\n"
     ]
    },
    {
     "name": "stderr",
     "output_type": "stream",
     "text": [
      "\r",
      " 94%|█████████▍| 47/50 [00:42<00:02,  1.14it/s]"
     ]
    },
    {
     "name": "stdout",
     "output_type": "stream",
     "text": [
      "\n",
      "mean_270619-video4_012-048_opened_cc61.png: too spherical 2.065296601600331\n"
     ]
    },
    {
     "name": "stderr",
     "output_type": "stream",
     "text": [
      "\r",
      " 96%|█████████▌| 48/50 [00:43<00:01,  1.20it/s]"
     ]
    },
    {
     "name": "stdout",
     "output_type": "stream",
     "text": [
      "\n",
      "mean_270619-video4_012-048_opened_cc71.png: too spherical 1.2378315980475754\n"
     ]
    },
    {
     "name": "stderr",
     "output_type": "stream",
     "text": [
      "\r",
      " 98%|█████████▊| 49/50 [00:44<00:00,  1.27it/s]"
     ]
    },
    {
     "name": "stdout",
     "output_type": "stream",
     "text": [
      "\n",
      "mean_270619-video4_012-048_opened_cc85.png: too spherical 2.7882120492942604\n",
      "\n",
      "mean_270619-video4_012-048_opened_cc91.png is INTERESTING\n"
     ]
    },
    {
     "name": "stderr",
     "output_type": "stream",
     "text": [
      "100%|██████████| 50/50 [00:45<00:00,  1.02it/s]\n",
      "  0%|          | 0/29 [00:00<?, ?it/s]"
     ]
    },
    {
     "name": "stdout",
     "output_type": "stream",
     "text": [
      "\n",
      "video4_012-047-video4_012-048: overlap = 0.0\n",
      "found video4_013/trigger_thr0.005_cl9_op3/cc_filtered_2den0.81_gausrad2.0/\n"
     ]
    },
    {
     "name": "stderr",
     "output_type": "stream",
     "text": [
      "\r",
      "  3%|▎         | 1/29 [00:00<00:20,  1.39it/s]"
     ]
    },
    {
     "name": "stdout",
     "output_type": "stream",
     "text": [
      "\n",
      "mean_270619-video4_013-001_opened_cc60.png: too spherical 1.939302031074648\n"
     ]
    },
    {
     "name": "stderr",
     "output_type": "stream",
     "text": [
      "\r",
      "  7%|▋         | 2/29 [00:01<00:19,  1.36it/s]"
     ]
    },
    {
     "name": "stdout",
     "output_type": "stream",
     "text": [
      "\n",
      "mean_270619-video4_013-001_opened_cc01.png: too spherical 7.57677358385452\n"
     ]
    },
    {
     "name": "stderr",
     "output_type": "stream",
     "text": [
      "\r",
      " 10%|█         | 3/29 [00:02<00:20,  1.29it/s]"
     ]
    },
    {
     "name": "stdout",
     "output_type": "stream",
     "text": [
      "\n",
      "mean_270619-video4_013-001_opened_cc03.png: too spherical 3.6465225449618233\n"
     ]
    },
    {
     "name": "stderr",
     "output_type": "stream",
     "text": [
      "\r",
      " 14%|█▍        | 4/29 [00:03<00:19,  1.27it/s]"
     ]
    },
    {
     "name": "stdout",
     "output_type": "stream",
     "text": [
      "\n",
      "mean_270619-video4_013-001_opened_cc04.png: too spherical 2.544630737017877\n"
     ]
    },
    {
     "name": "stderr",
     "output_type": "stream",
     "text": [
      "\r",
      " 17%|█▋        | 5/29 [00:03<00:19,  1.26it/s]"
     ]
    },
    {
     "name": "stdout",
     "output_type": "stream",
     "text": [
      "\n",
      "mean_270619-video4_013-001_opened_cc08.png: too spherical 5.1152631635078025\n"
     ]
    },
    {
     "name": "stderr",
     "output_type": "stream",
     "text": [
      "\r",
      " 21%|██        | 6/29 [00:04<00:18,  1.26it/s]"
     ]
    },
    {
     "name": "stdout",
     "output_type": "stream",
     "text": [
      "\n",
      "mean_270619-video4_013-001_opened_cc10.png: too spherical 2.8525221088633144\n"
     ]
    },
    {
     "name": "stderr",
     "output_type": "stream",
     "text": [
      "\r",
      " 24%|██▍       | 7/29 [00:05<00:17,  1.29it/s]"
     ]
    },
    {
     "name": "stdout",
     "output_type": "stream",
     "text": [
      "\n",
      "mean_270619-video4_013-001_opened_cc22.png is INTERESTING\n"
     ]
    },
    {
     "name": "stderr",
     "output_type": "stream",
     "text": [
      "\r",
      " 28%|██▊       | 8/29 [00:06<00:16,  1.31it/s]"
     ]
    },
    {
     "name": "stdout",
     "output_type": "stream",
     "text": [
      "\n",
      "mean_270619-video4_013-001_opened_cc39.png: too spherical 4.059949999951611\n"
     ]
    },
    {
     "name": "stderr",
     "output_type": "stream",
     "text": [
      "\r",
      " 31%|███       | 9/29 [00:06<00:15,  1.32it/s]"
     ]
    },
    {
     "name": "stdout",
     "output_type": "stream",
     "text": [
      "\n",
      "mean_270619-video4_013-001_opened_cc46.png is INTERESTING\n"
     ]
    },
    {
     "name": "stderr",
     "output_type": "stream",
     "text": [
      "\r",
      " 34%|███▍      | 10/29 [00:07<00:14,  1.32it/s]"
     ]
    },
    {
     "name": "stdout",
     "output_type": "stream",
     "text": [
      "\n",
      "mean_270619-video4_013-001_opened_cc49.png: too spherical 5.260418030108972\n"
     ]
    },
    {
     "name": "stderr",
     "output_type": "stream",
     "text": [
      "\r",
      " 38%|███▊      | 11/29 [00:08<00:13,  1.32it/s]"
     ]
    },
    {
     "name": "stdout",
     "output_type": "stream",
     "text": [
      "\n",
      "mean_270619-video4_013-001_opened_cc70.png: too spherical 2.2069018527026167\n"
     ]
    },
    {
     "name": "stderr",
     "output_type": "stream",
     "text": [
      "\r",
      " 41%|████▏     | 12/29 [00:09<00:13,  1.27it/s]"
     ]
    },
    {
     "name": "stdout",
     "output_type": "stream",
     "text": [
      "\n",
      "mean_270619-video4_013-001_opened_cc85.png: too spherical 4.415670185710051\n"
     ]
    },
    {
     "name": "stderr",
     "output_type": "stream",
     "text": [
      "\r",
      " 45%|████▍     | 13/29 [00:10<00:12,  1.31it/s]"
     ]
    },
    {
     "name": "stdout",
     "output_type": "stream",
     "text": [
      "\n",
      "mean_270619-video4_013-002_opened_cc02.png: too crowded: 3.8092206790123457\n"
     ]
    },
    {
     "name": "stderr",
     "output_type": "stream",
     "text": [
      "\r",
      " 48%|████▊     | 14/29 [00:10<00:11,  1.31it/s]"
     ]
    },
    {
     "name": "stdout",
     "output_type": "stream",
     "text": [
      "\n",
      "mean_270619-video4_013-002_opened_cc04.png: too spherical 3.289996438420954\n",
      "\n",
      "mean_270619-video4_013-002_opened_cc12.png is INTERESTING\n",
      "\n",
      "video4_013-001-video4_013-002: overlap = 0.0\n"
     ]
    },
    {
     "name": "stderr",
     "output_type": "stream",
     "text": [
      "\r",
      " 52%|█████▏    | 15/29 [00:13<00:16,  1.21s/it]"
     ]
    },
    {
     "name": "stdout",
     "output_type": "stream",
     "text": [
      "\n",
      "video4_013-001-video4_013-002: overlap = 0.0\n"
     ]
    },
    {
     "name": "stderr",
     "output_type": "stream",
     "text": [
      "\r",
      " 55%|█████▌    | 16/29 [00:13<00:13,  1.06s/it]"
     ]
    },
    {
     "name": "stdout",
     "output_type": "stream",
     "text": [
      "\n",
      "mean_270619-video4_013-002_opened_cc19.png: too spherical 3.4147916968753282\n"
     ]
    },
    {
     "name": "stderr",
     "output_type": "stream",
     "text": [
      "\r",
      " 59%|█████▊    | 17/29 [00:14<00:11,  1.02it/s]"
     ]
    },
    {
     "name": "stdout",
     "output_type": "stream",
     "text": [
      "\n",
      "mean_270619-video4_013-002_opened_cc23.png: too spherical 2.711637382410632\n"
     ]
    },
    {
     "name": "stderr",
     "output_type": "stream",
     "text": [
      "\r",
      " 62%|██████▏   | 18/29 [00:15<00:10,  1.10it/s]"
     ]
    },
    {
     "name": "stdout",
     "output_type": "stream",
     "text": [
      "\n",
      "mean_270619-video4_013-002_opened_cc42.png: too spherical 1.859106407237357\n"
     ]
    },
    {
     "name": "stderr",
     "output_type": "stream",
     "text": [
      "\r",
      " 66%|██████▌   | 19/29 [00:16<00:08,  1.16it/s]"
     ]
    },
    {
     "name": "stdout",
     "output_type": "stream",
     "text": [
      "\n",
      "mean_270619-video4_013-002_opened_cc54.png: too spherical 4.317569770206698\n",
      "\n",
      "mean_270619-video4_013-002_opened_cc66.png is INTERESTING\n",
      "\n",
      "video4_013-001-video4_013-002: overlap = 0.0\n"
     ]
    },
    {
     "name": "stderr",
     "output_type": "stream",
     "text": [
      "\r",
      " 69%|██████▉   | 20/29 [00:18<00:11,  1.24s/it]"
     ]
    },
    {
     "name": "stdout",
     "output_type": "stream",
     "text": [
      "\n",
      "video4_013-001-video4_013-002: overlap = 0.0\n",
      "\n",
      "mean_270619-video4_013-003_opened_cc02.png is INTERESTING\n",
      "\n",
      "video4_013-002-video4_013-003: overlap = 0.0\n"
     ]
    },
    {
     "name": "stderr",
     "output_type": "stream",
     "text": [
      "\r",
      " 72%|███████▏  | 21/29 [00:20<00:12,  1.51s/it]"
     ]
    },
    {
     "name": "stdout",
     "output_type": "stream",
     "text": [
      "\n",
      "video4_013-002-video4_013-003: overlap = 0.0\n"
     ]
    },
    {
     "name": "stderr",
     "output_type": "stream",
     "text": [
      "\r",
      " 76%|███████▌  | 22/29 [00:21<00:09,  1.30s/it]"
     ]
    },
    {
     "name": "stdout",
     "output_type": "stream",
     "text": [
      "\n",
      "mean_270619-video4_013-003_opened_cc07.png: too spherical 6.465172877701714\n",
      "\n",
      "mean_270619-video4_013-003_opened_cc17.png is INTERESTING\n",
      "\n",
      "video4_013-002-video4_013-003: overlap = 0.0\n"
     ]
    },
    {
     "name": "stderr",
     "output_type": "stream",
     "text": [
      "\r",
      " 79%|███████▉  | 23/29 [00:23<00:09,  1.54s/it]"
     ]
    },
    {
     "name": "stdout",
     "output_type": "stream",
     "text": [
      "\n",
      "video4_013-002-video4_013-003: overlap = 0.0\n"
     ]
    },
    {
     "name": "stderr",
     "output_type": "stream",
     "text": [
      "\r",
      " 83%|████████▎ | 24/29 [00:23<00:06,  1.29s/it]"
     ]
    },
    {
     "name": "stdout",
     "output_type": "stream",
     "text": [
      "\n",
      "mean_270619-video4_013-003_opened_cc18.png: too spherical 1.6432525612219901\n"
     ]
    },
    {
     "name": "stderr",
     "output_type": "stream",
     "text": [
      "\r",
      " 86%|████████▌ | 25/29 [00:24<00:04,  1.12s/it]"
     ]
    },
    {
     "name": "stdout",
     "output_type": "stream",
     "text": [
      "\n",
      "mean_270619-video4_013-004_opened_cc01.png: too crowded: 4.987654320987654\n",
      "\n",
      "mean_270619-video4_013-004_opened_cc04.png is INTERESTING\n"
     ]
    },
    {
     "name": "stderr",
     "output_type": "stream",
     "text": [
      "\r",
      " 90%|████████▉ | 26/29 [00:26<00:03,  1.19s/it]"
     ]
    },
    {
     "name": "stdout",
     "output_type": "stream",
     "text": [
      "\n",
      "video4_013-003-video4_013-004: overlap = 0.8497976672220899\n",
      "\n",
      "mean_270619-video4_013-004_opened_cc12.png is INTERESTING\n"
     ]
    },
    {
     "name": "stderr",
     "output_type": "stream",
     "text": [
      "\r",
      " 93%|█████████▎| 27/29 [00:27<00:02,  1.26s/it]"
     ]
    },
    {
     "name": "stdout",
     "output_type": "stream",
     "text": [
      "\n",
      "video4_013-003-video4_013-004: overlap = 0.0\n",
      "\n",
      "mean_270619-video4_013-004_opened_cc13.png is INTERESTING\n"
     ]
    },
    {
     "name": "stderr",
     "output_type": "stream",
     "text": [
      "\r",
      " 97%|█████████▋| 28/29 [00:28<00:01,  1.30s/it]"
     ]
    },
    {
     "name": "stdout",
     "output_type": "stream",
     "text": [
      "\n",
      "video4_013-003-video4_013-004: overlap = 0.0\n",
      "\n",
      "mean_270619-video4_013-005_opened_cc09.png is INTERESTING\n",
      "\n",
      "video4_013-004-video4_013-005: overlap = 0.0\n",
      "\n",
      "video4_013-004-video4_013-005: overlap = 0.0\n"
     ]
    },
    {
     "name": "stderr",
     "output_type": "stream",
     "text": [
      "100%|██████████| 29/29 [00:31<00:00,  1.74s/it]\n",
      "  0%|          | 0/59 [00:00<?, ?it/s]"
     ]
    },
    {
     "name": "stdout",
     "output_type": "stream",
     "text": [
      "\n",
      "video4_013-004-video4_013-005: overlap = 0.0\n",
      "found video4_014/trigger_thr0.005_cl9_op3/cc_filtered_2den0.81_gausrad2.0/\n"
     ]
    },
    {
     "name": "stderr",
     "output_type": "stream",
     "text": [
      "\r",
      "  2%|▏         | 1/59 [00:00<00:40,  1.44it/s]"
     ]
    },
    {
     "name": "stdout",
     "output_type": "stream",
     "text": [
      "\n",
      "mean_270619-video4_014-003_opened_cc20.png is INTERESTING\n"
     ]
    },
    {
     "name": "stderr",
     "output_type": "stream",
     "text": [
      "\r",
      "  3%|▎         | 2/59 [00:01<00:39,  1.43it/s]"
     ]
    },
    {
     "name": "stdout",
     "output_type": "stream",
     "text": [
      "\n",
      "mean_270619-video4_014-011_opened_cc01.png: too crowded: 5.494212962962963\n"
     ]
    },
    {
     "name": "stderr",
     "output_type": "stream",
     "text": [
      "\r",
      "  5%|▌         | 3/59 [00:02<00:40,  1.39it/s]"
     ]
    },
    {
     "name": "stdout",
     "output_type": "stream",
     "text": [
      "\n",
      "mean_270619-video4_014-011_opened_cc03.png: too spherical 2.5360991759410205\n"
     ]
    },
    {
     "name": "stderr",
     "output_type": "stream",
     "text": [
      "\r",
      "  7%|▋         | 4/59 [00:02<00:39,  1.39it/s]"
     ]
    },
    {
     "name": "stdout",
     "output_type": "stream",
     "text": [
      "\n",
      "mean_270619-video4_014-011_opened_cc07.png: too crowded: 5.089699074074074\n"
     ]
    },
    {
     "name": "stderr",
     "output_type": "stream",
     "text": [
      "\r",
      "  8%|▊         | 5/59 [00:03<00:39,  1.37it/s]"
     ]
    },
    {
     "name": "stdout",
     "output_type": "stream",
     "text": [
      "\n",
      "mean_270619-video4_014-011_opened_cc10.png: too spherical 1.7229886878846297\n"
     ]
    },
    {
     "name": "stderr",
     "output_type": "stream",
     "text": [
      "\r",
      " 10%|█         | 6/59 [00:04<00:41,  1.28it/s]"
     ]
    },
    {
     "name": "stdout",
     "output_type": "stream",
     "text": [
      "\n",
      "mean_270619-video4_014-011_opened_cc24.png: too spherical 4.507531390754048\n"
     ]
    },
    {
     "name": "stderr",
     "output_type": "stream",
     "text": [
      "\r",
      " 12%|█▏        | 7/59 [00:05<00:40,  1.28it/s]"
     ]
    },
    {
     "name": "stdout",
     "output_type": "stream",
     "text": [
      "\n",
      "mean_270619-video4_014-021_opened_cc01.png: too crowded: 12.371527777777777\n"
     ]
    },
    {
     "name": "stderr",
     "output_type": "stream",
     "text": [
      "\r",
      " 14%|█▎        | 8/59 [00:06<00:39,  1.30it/s]"
     ]
    },
    {
     "name": "stdout",
     "output_type": "stream",
     "text": [
      "\n",
      "mean_270619-video4_014-021_opened_cc05.png: too crowded: 3.5964506172839505\n"
     ]
    },
    {
     "name": "stderr",
     "output_type": "stream",
     "text": [
      "\r",
      " 15%|█▌        | 9/59 [00:06<00:37,  1.33it/s]"
     ]
    },
    {
     "name": "stdout",
     "output_type": "stream",
     "text": [
      "\n",
      "mean_270619-video4_014-021_opened_cc28.png: too spherical 3.433441099926321\n"
     ]
    },
    {
     "name": "stderr",
     "output_type": "stream",
     "text": [
      "\r",
      " 17%|█▋        | 10/59 [00:07<00:36,  1.35it/s]"
     ]
    },
    {
     "name": "stdout",
     "output_type": "stream",
     "text": [
      "\n",
      "mean_270619-video4_014-021_opened_cc29.png: too spherical 2.9325842530836623\n"
     ]
    },
    {
     "name": "stderr",
     "output_type": "stream",
     "text": [
      "\r",
      " 19%|█▊        | 11/59 [00:08<00:36,  1.32it/s]"
     ]
    },
    {
     "name": "stdout",
     "output_type": "stream",
     "text": [
      "\n",
      "mean_270619-video4_014-021_opened_cc35.png: too spherical 2.7618717724127153\n"
     ]
    },
    {
     "name": "stderr",
     "output_type": "stream",
     "text": [
      "\r",
      " 20%|██        | 12/59 [00:09<00:34,  1.35it/s]"
     ]
    },
    {
     "name": "stdout",
     "output_type": "stream",
     "text": [
      "\n",
      "mean_270619-video4_014-021_opened_cc42.png: too spherical 7.511379407424871\n"
     ]
    },
    {
     "name": "stderr",
     "output_type": "stream",
     "text": [
      "\r",
      " 22%|██▏       | 13/59 [00:09<00:33,  1.37it/s]"
     ]
    },
    {
     "name": "stdout",
     "output_type": "stream",
     "text": [
      "\n",
      "mean_270619-video4_014-021_opened_cc45.png is INTERESTING\n"
     ]
    },
    {
     "name": "stderr",
     "output_type": "stream",
     "text": [
      "\r",
      " 24%|██▎       | 14/59 [00:10<00:32,  1.38it/s]"
     ]
    },
    {
     "name": "stdout",
     "output_type": "stream",
     "text": [
      "\n",
      "mean_270619-video4_014-034_opened_cc18.png is INTERESTING\n"
     ]
    },
    {
     "name": "stderr",
     "output_type": "stream",
     "text": [
      "\r",
      " 25%|██▌       | 15/59 [00:11<00:31,  1.40it/s]"
     ]
    },
    {
     "name": "stdout",
     "output_type": "stream",
     "text": [
      "\n",
      "mean_270619-video4_014-034_opened_cc21.png is INTERESTING\n"
     ]
    },
    {
     "name": "stderr",
     "output_type": "stream",
     "text": [
      "\r",
      " 27%|██▋       | 16/59 [00:11<00:30,  1.40it/s]"
     ]
    },
    {
     "name": "stdout",
     "output_type": "stream",
     "text": [
      "\n",
      "mean_270619-video4_014-034_opened_cc45.png: too spherical 4.1279436223203465\n"
     ]
    },
    {
     "name": "stderr",
     "output_type": "stream",
     "text": [
      "\r",
      " 29%|██▉       | 17/59 [00:12<00:30,  1.40it/s]"
     ]
    },
    {
     "name": "stdout",
     "output_type": "stream",
     "text": [
      "\n",
      "mean_270619-video4_014-034_opened_cc46.png is INTERESTING\n"
     ]
    },
    {
     "name": "stderr",
     "output_type": "stream",
     "text": [
      "\r",
      " 31%|███       | 18/59 [00:13<00:29,  1.40it/s]"
     ]
    },
    {
     "name": "stdout",
     "output_type": "stream",
     "text": [
      "\n",
      "mean_270619-video4_014-034_opened_cc50.png: too spherical 8.769081647459782\n"
     ]
    },
    {
     "name": "stderr",
     "output_type": "stream",
     "text": [
      "\r",
      " 32%|███▏      | 19/59 [00:13<00:28,  1.39it/s]"
     ]
    },
    {
     "name": "stdout",
     "output_type": "stream",
     "text": [
      "\n",
      "mean_270619-video4_014-034_opened_cc53.png is INTERESTING\n"
     ]
    },
    {
     "name": "stderr",
     "output_type": "stream",
     "text": [
      "\r",
      " 34%|███▍      | 20/59 [00:14<00:27,  1.40it/s]"
     ]
    },
    {
     "name": "stdout",
     "output_type": "stream",
     "text": [
      "\n",
      "mean_270619-video4_014-035_opened_cc05.png: too crowded: 3.2363040123456788\n"
     ]
    },
    {
     "name": "stderr",
     "output_type": "stream",
     "text": [
      "\r",
      " 36%|███▌      | 21/59 [00:15<00:27,  1.39it/s]"
     ]
    },
    {
     "name": "stdout",
     "output_type": "stream",
     "text": [
      "\n",
      "mean_270619-video4_014-035_opened_cc07.png: too crowded: 3.728587962962963\n"
     ]
    },
    {
     "name": "stderr",
     "output_type": "stream",
     "text": [
      "\r",
      " 37%|███▋      | 22/59 [00:16<00:26,  1.41it/s]"
     ]
    },
    {
     "name": "stdout",
     "output_type": "stream",
     "text": [
      "\n",
      "mean_270619-video4_014-035_opened_cc10.png: too spherical 1.7790559464129139\n"
     ]
    },
    {
     "name": "stderr",
     "output_type": "stream",
     "text": [
      "\r",
      " 39%|███▉      | 23/59 [00:16<00:25,  1.41it/s]"
     ]
    },
    {
     "name": "stdout",
     "output_type": "stream",
     "text": [
      "\n",
      "mean_270619-video4_014-035_opened_cc11.png: too spherical 1.5700807075784786\n"
     ]
    },
    {
     "name": "stderr",
     "output_type": "stream",
     "text": [
      "\r",
      " 41%|████      | 24/59 [00:17<00:25,  1.38it/s]"
     ]
    },
    {
     "name": "stdout",
     "output_type": "stream",
     "text": [
      "\n",
      "mean_270619-video4_014-035_opened_cc17.png: too spherical 2.0692270139583524\n",
      "\n",
      "mean_270619-video4_014-035_opened_cc24.png is INTERESTING\n",
      "\n",
      "video4_014-034-video4_014-035: overlap = 0.0\n",
      "\n",
      "video4_014-034-video4_014-035: overlap = 0.0\n",
      "\n",
      "video4_014-034-video4_014-035: overlap = 0.0\n"
     ]
    },
    {
     "name": "stderr",
     "output_type": "stream",
     "text": [
      "\r",
      " 42%|████▏     | 25/59 [00:20<00:51,  1.51s/it]"
     ]
    },
    {
     "name": "stdout",
     "output_type": "stream",
     "text": [
      "\n",
      "video4_014-034-video4_014-035: overlap = 0.0\n"
     ]
    },
    {
     "name": "stderr",
     "output_type": "stream",
     "text": [
      "\r",
      " 44%|████▍     | 26/59 [00:21<00:41,  1.27s/it]"
     ]
    },
    {
     "name": "stdout",
     "output_type": "stream",
     "text": [
      "\n",
      "mean_270619-video4_014-035_opened_cc29.png: too spherical 3.5613668464675077\n"
     ]
    },
    {
     "name": "stderr",
     "output_type": "stream",
     "text": [
      "\r",
      " 46%|████▌     | 27/59 [00:22<00:35,  1.10s/it]"
     ]
    },
    {
     "name": "stdout",
     "output_type": "stream",
     "text": [
      "\n",
      "mean_270619-video4_014-035_opened_cc36.png: too spherical 5.441987144334503\n",
      "\n",
      "mean_270619-video4_014-035_opened_cc40.png is INTERESTING\n",
      "\n",
      "video4_014-034-video4_014-035: overlap = 0.0\n",
      "\n",
      "video4_014-034-video4_014-035: overlap = 0.0\n",
      "\n",
      "video4_014-034-video4_014-035: overlap = 0.0\n"
     ]
    },
    {
     "name": "stderr",
     "output_type": "stream",
     "text": [
      "\r",
      " 47%|████▋     | 28/59 [00:25<00:54,  1.77s/it]"
     ]
    },
    {
     "name": "stdout",
     "output_type": "stream",
     "text": [
      "\n",
      "video4_014-034-video4_014-035: overlap = 0.0\n",
      "\n",
      "mean_270619-video4_014-035_opened_cc41.png is INTERESTING\n",
      "\n",
      "video4_014-034-video4_014-035: overlap = 0.0\n",
      "\n",
      "video4_014-034-video4_014-035: overlap = 0.0\n",
      "\n",
      "video4_014-034-video4_014-035: overlap = 0.0\n"
     ]
    },
    {
     "name": "stderr",
     "output_type": "stream",
     "text": [
      "\r",
      " 49%|████▉     | 29/59 [00:29<01:07,  2.25s/it]"
     ]
    },
    {
     "name": "stdout",
     "output_type": "stream",
     "text": [
      "\n",
      "video4_014-034-video4_014-035: overlap = 0.0\n",
      "\n",
      "mean_270619-video4_014-035_opened_cc43.png is INTERESTING\n",
      "\n",
      "video4_014-034-video4_014-035: overlap = 0.0\n",
      "\n",
      "video4_014-034-video4_014-035: overlap = 0.0\n",
      "\n",
      "video4_014-034-video4_014-035: overlap = 0.0\n"
     ]
    },
    {
     "name": "stderr",
     "output_type": "stream",
     "text": [
      "\r",
      " 51%|█████     | 30/59 [00:32<01:15,  2.59s/it]"
     ]
    },
    {
     "name": "stdout",
     "output_type": "stream",
     "text": [
      "\n",
      "video4_014-034-video4_014-035: overlap = 0.5605143721633887\n"
     ]
    },
    {
     "name": "stderr",
     "output_type": "stream",
     "text": [
      "\r",
      " 53%|█████▎    | 31/59 [00:33<00:57,  2.06s/it]"
     ]
    },
    {
     "name": "stdout",
     "output_type": "stream",
     "text": [
      "\n",
      "mean_270619-video4_014-021_opened_cc15.png is INTERESTING\n"
     ]
    },
    {
     "name": "stderr",
     "output_type": "stream",
     "text": [
      "\r",
      " 54%|█████▍    | 32/59 [00:34<00:45,  1.68s/it]"
     ]
    },
    {
     "name": "stdout",
     "output_type": "stream",
     "text": [
      "\n",
      "mean_270619-video4_014-035_opened_cc02.png: too spherical 2.1910232807190386\n"
     ]
    },
    {
     "name": "stderr",
     "output_type": "stream",
     "text": [
      "\r",
      " 56%|█████▌    | 33/59 [00:34<00:36,  1.41s/it]"
     ]
    },
    {
     "name": "stdout",
     "output_type": "stream",
     "text": [
      "\n",
      "mean_270619-video4_014-035_opened_cc45.png: too spherical 1.5670152000389583\n"
     ]
    },
    {
     "name": "stderr",
     "output_type": "stream",
     "text": [
      "\r",
      " 58%|█████▊    | 34/59 [00:35<00:30,  1.22s/it]"
     ]
    },
    {
     "name": "stdout",
     "output_type": "stream",
     "text": [
      "\n",
      "mean_270619-video4_014-037_opened_cc05.png is INTERESTING\n"
     ]
    },
    {
     "name": "stderr",
     "output_type": "stream",
     "text": [
      "\r",
      " 59%|█████▉    | 35/59 [00:36<00:26,  1.09s/it]"
     ]
    },
    {
     "name": "stdout",
     "output_type": "stream",
     "text": [
      "\n",
      "mean_270619-video4_014-035_opened_cc48.png: too spherical 4.752410355356175\n"
     ]
    },
    {
     "name": "stderr",
     "output_type": "stream",
     "text": [
      "\r",
      " 61%|██████    | 36/59 [00:37<00:22,  1.02it/s]"
     ]
    },
    {
     "name": "stdout",
     "output_type": "stream",
     "text": [
      "\n",
      "mean_270619-video4_014-035_opened_cc53.png: too spherical 1.8154196966627605\n",
      "\n",
      "mean_270619-video4_014-036_opened_cc06.png is INTERESTING\n",
      "\n",
      "video4_014-035-video4_014-036: overlap = 0.0\n",
      "\n",
      "video4_014-035-video4_014-036: overlap = 0.0\n",
      "\n",
      "video4_014-035-video4_014-036: overlap = 0.0\n"
     ]
    },
    {
     "name": "stderr",
     "output_type": "stream",
     "text": [
      "\r",
      " 63%|██████▎   | 37/59 [00:40<00:37,  1.73s/it]"
     ]
    },
    {
     "name": "stdout",
     "output_type": "stream",
     "text": [
      "\n",
      "video4_014-035-video4_014-036: overlap = 0.0\n",
      "\n",
      "mean_270619-video4_014-036_opened_cc08.png is INTERESTING\n",
      "\n",
      "video4_014-035-video4_014-036: overlap = 0.0\n",
      "\n",
      "video4_014-035-video4_014-036: overlap = 0.0\n",
      "\n",
      "video4_014-035-video4_014-036: overlap = 0.0\n"
     ]
    },
    {
     "name": "stderr",
     "output_type": "stream",
     "text": [
      "\r",
      " 64%|██████▍   | 38/59 [00:43<00:46,  2.21s/it]"
     ]
    },
    {
     "name": "stdout",
     "output_type": "stream",
     "text": [
      "\n",
      "video4_014-035-video4_014-036: overlap = 0.0\n",
      "\n",
      "mean_270619-video4_014-036_opened_cc11.png is INTERESTING\n",
      "\n",
      "video4_014-035-video4_014-036: overlap = 0.0\n",
      "\n",
      "video4_014-035-video4_014-036: overlap = 0.0\n",
      "\n",
      "video4_014-035-video4_014-036: overlap = 0.0\n"
     ]
    },
    {
     "name": "stderr",
     "output_type": "stream",
     "text": [
      "\r",
      " 66%|██████▌   | 39/59 [00:47<00:52,  2.64s/it]"
     ]
    },
    {
     "name": "stdout",
     "output_type": "stream",
     "text": [
      "\n",
      "video4_014-035-video4_014-036: overlap = 0.0\n"
     ]
    },
    {
     "name": "stderr",
     "output_type": "stream",
     "text": [
      "\r",
      " 68%|██████▊   | 40/59 [00:48<00:39,  2.06s/it]"
     ]
    },
    {
     "name": "stdout",
     "output_type": "stream",
     "text": [
      "\n",
      "mean_270619-video4_014-036_opened_cc43.png: too spherical 7.065629978354037\n"
     ]
    },
    {
     "name": "stderr",
     "output_type": "stream",
     "text": [
      "\r",
      " 69%|██████▉   | 41/59 [00:49<00:30,  1.67s/it]"
     ]
    },
    {
     "name": "stdout",
     "output_type": "stream",
     "text": [
      "\n",
      "mean_270619-video4_014-036_opened_cc47.png: too spherical 3.2331060032703585\n"
     ]
    },
    {
     "name": "stderr",
     "output_type": "stream",
     "text": [
      "\r",
      " 71%|███████   | 42/59 [00:49<00:23,  1.39s/it]"
     ]
    },
    {
     "name": "stdout",
     "output_type": "stream",
     "text": [
      "\n",
      "mean_270619-video4_014-036_opened_cc57.png: too spherical 1.796921687079071\n"
     ]
    },
    {
     "name": "stderr",
     "output_type": "stream",
     "text": [
      "\r",
      " 73%|███████▎  | 43/59 [00:50<00:19,  1.19s/it]"
     ]
    },
    {
     "name": "stdout",
     "output_type": "stream",
     "text": [
      "\n",
      "mean_270619-video4_014-036_opened_cc61.png: too spherical 3.709795026050263\n"
     ]
    },
    {
     "name": "stderr",
     "output_type": "stream",
     "text": [
      "\r",
      " 75%|███████▍  | 44/59 [00:51<00:15,  1.05s/it]"
     ]
    },
    {
     "name": "stdout",
     "output_type": "stream",
     "text": [
      "\n",
      "mean_270619-video4_014-036_opened_cc66.png: too spherical 4.530451868109065\n",
      "\n",
      "mean_270619-video4_014-036_opened_cc79.png is INTERESTING\n",
      "\n",
      "video4_014-035-video4_014-036: overlap = 0.0\n",
      "\n",
      "video4_014-035-video4_014-036: overlap = 0.0\n",
      "\n",
      "video4_014-035-video4_014-036: overlap = 0.0\n"
     ]
    },
    {
     "name": "stderr",
     "output_type": "stream",
     "text": [
      "\r",
      " 76%|███████▋  | 45/59 [00:54<00:24,  1.77s/it]"
     ]
    },
    {
     "name": "stdout",
     "output_type": "stream",
     "text": [
      "\n",
      "video4_014-035-video4_014-036: overlap = 0.0\n"
     ]
    },
    {
     "name": "stderr",
     "output_type": "stream",
     "text": [
      "\r",
      " 78%|███████▊  | 46/59 [00:55<00:18,  1.46s/it]"
     ]
    },
    {
     "name": "stdout",
     "output_type": "stream",
     "text": [
      "\n",
      "mean_270619-video4_014-037_opened_cc38.png: too spherical 2.2661944068729856\n"
     ]
    },
    {
     "name": "stderr",
     "output_type": "stream",
     "text": [
      "\r",
      " 80%|███████▉  | 47/59 [00:56<00:14,  1.24s/it]"
     ]
    },
    {
     "name": "stdout",
     "output_type": "stream",
     "text": [
      "\n",
      "mean_270619-video4_014-037_opened_cc46.png: too spherical 2.172779969354647\n"
     ]
    },
    {
     "name": "stderr",
     "output_type": "stream",
     "text": [
      "\r",
      " 81%|████████▏ | 48/59 [00:56<00:11,  1.08s/it]"
     ]
    },
    {
     "name": "stdout",
     "output_type": "stream",
     "text": [
      "\n",
      "mean_270619-video4_014-037_opened_cc58.png: too spherical 2.4355340425856395\n",
      "\n",
      "mean_270619-video4_014-037_opened_cc68.png is INTERESTING\n",
      "\n",
      "video4_014-036-video4_014-037: overlap = 0.0\n",
      "\n",
      "video4_014-036-video4_014-037: overlap = 0.0\n",
      "\n",
      "video4_014-036-video4_014-037: overlap = 0.0\n"
     ]
    },
    {
     "name": "stderr",
     "output_type": "stream",
     "text": [
      "\r",
      " 83%|████████▎ | 49/59 [01:00<00:18,  1.84s/it]"
     ]
    },
    {
     "name": "stdout",
     "output_type": "stream",
     "text": [
      "\n",
      "video4_014-036-video4_014-037: overlap = 0.41361426256077793\n"
     ]
    },
    {
     "name": "stderr",
     "output_type": "stream",
     "text": [
      "\r",
      " 85%|████████▍ | 50/59 [01:01<00:13,  1.52s/it]"
     ]
    },
    {
     "name": "stdout",
     "output_type": "stream",
     "text": [
      "\n",
      "mean_270619-video4_014-038_opened_cc01.png: too crowded: 8.74074074074074\n"
     ]
    },
    {
     "name": "stderr",
     "output_type": "stream",
     "text": [
      "\r",
      " 86%|████████▋ | 51/59 [01:02<00:10,  1.31s/it]"
     ]
    },
    {
     "name": "stdout",
     "output_type": "stream",
     "text": [
      "\n",
      "mean_270619-video4_014-038_opened_cc03.png: too spherical 8.135762055967483\n",
      "\n",
      "mean_270619-video4_014-038_opened_cc06.png is INTERESTING\n",
      "\n",
      "video4_014-037-video4_014-038: overlap = 0.0\n"
     ]
    },
    {
     "name": "stderr",
     "output_type": "stream",
     "text": [
      "\r",
      " 88%|████████▊ | 52/59 [01:04<00:11,  1.62s/it]"
     ]
    },
    {
     "name": "stdout",
     "output_type": "stream",
     "text": [
      "\n",
      "video4_014-037-video4_014-038: overlap = 0.0\n"
     ]
    },
    {
     "name": "stderr",
     "output_type": "stream",
     "text": [
      "\r",
      " 90%|████████▉ | 53/59 [01:05<00:08,  1.35s/it]"
     ]
    },
    {
     "name": "stdout",
     "output_type": "stream",
     "text": [
      "\n",
      "mean_270619-video4_014-038_opened_cc21.png: too spherical 2.221927119086155\n"
     ]
    },
    {
     "name": "stderr",
     "output_type": "stream",
     "text": [
      "\r",
      " 92%|█████████▏| 54/59 [01:05<00:05,  1.17s/it]"
     ]
    },
    {
     "name": "stdout",
     "output_type": "stream",
     "text": [
      "\n",
      "mean_270619-video4_014-038_opened_cc35.png: too spherical 2.613075929646706\n"
     ]
    },
    {
     "name": "stderr",
     "output_type": "stream",
     "text": [
      "\r",
      " 93%|█████████▎| 55/59 [01:06<00:04,  1.03s/it]"
     ]
    },
    {
     "name": "stdout",
     "output_type": "stream",
     "text": [
      "\n",
      "mean_270619-video4_014-038_opened_cc39.png: too spherical 2.5640256669065438\n"
     ]
    },
    {
     "name": "stderr",
     "output_type": "stream",
     "text": [
      "\r",
      " 95%|█████████▍| 56/59 [01:07<00:02,  1.07it/s]"
     ]
    },
    {
     "name": "stdout",
     "output_type": "stream",
     "text": [
      "\n",
      "mean_270619-video4_014-038_opened_cc43.png: too spherical 2.62710735188288\n"
     ]
    },
    {
     "name": "stderr",
     "output_type": "stream",
     "text": [
      "\r",
      " 97%|█████████▋| 57/59 [01:08<00:01,  1.16it/s]"
     ]
    },
    {
     "name": "stdout",
     "output_type": "stream",
     "text": [
      "\n",
      "mean_270619-video4_014-038_opened_cc60.png: too spherical 6.534442223485141\n"
     ]
    },
    {
     "name": "stderr",
     "output_type": "stream",
     "text": [
      "\r",
      " 98%|█████████▊| 58/59 [01:08<00:00,  1.20it/s]"
     ]
    },
    {
     "name": "stdout",
     "output_type": "stream",
     "text": [
      "\n",
      "mean_270619-video4_014-038_opened_cc67.png: too spherical 2.7340872473724214\n",
      "\n",
      "mean_270619-video4_014-039_opened_cc06.png is INTERESTING\n"
     ]
    },
    {
     "name": "stderr",
     "output_type": "stream",
     "text": [
      "100%|██████████| 59/59 [01:10<00:00,  1.01it/s]\n",
      "  0%|          | 0/24 [00:00<?, ?it/s]"
     ]
    },
    {
     "name": "stdout",
     "output_type": "stream",
     "text": [
      "\n",
      "video4_014-038-video4_014-039: overlap = 0.0\n",
      "found video4_015/trigger_thr0.005_cl9_op3/cc_filtered_2den0.81_gausrad2.0/\n"
     ]
    },
    {
     "name": "stderr",
     "output_type": "stream",
     "text": [
      "\r",
      "  4%|▍         | 1/24 [00:00<00:17,  1.35it/s]"
     ]
    },
    {
     "name": "stdout",
     "output_type": "stream",
     "text": [
      "\n",
      "mean_270619-video4_015-013_opened_cc53.png: too spherical 8.698054461338396\n"
     ]
    },
    {
     "name": "stderr",
     "output_type": "stream",
     "text": [
      "\r",
      "  8%|▊         | 2/24 [00:01<00:16,  1.35it/s]"
     ]
    },
    {
     "name": "stdout",
     "output_type": "stream",
     "text": [
      "\n",
      "mean_270619-video4_015-013_opened_cc04.png: too spherical 3.424799006942518\n"
     ]
    },
    {
     "name": "stderr",
     "output_type": "stream",
     "text": [
      "\r",
      " 12%|█▎        | 3/24 [00:02<00:15,  1.35it/s]"
     ]
    },
    {
     "name": "stdout",
     "output_type": "stream",
     "text": [
      "\n",
      "mean_270619-video4_015-013_opened_cc13.png: too spherical 3.738995018227174\n"
     ]
    },
    {
     "name": "stderr",
     "output_type": "stream",
     "text": [
      "\r",
      " 17%|█▋        | 4/24 [00:03<00:15,  1.33it/s]"
     ]
    },
    {
     "name": "stdout",
     "output_type": "stream",
     "text": [
      "\n",
      "mean_270619-video4_015-013_opened_cc20.png: too spherical 3.1808688715555555\n"
     ]
    },
    {
     "name": "stderr",
     "output_type": "stream",
     "text": [
      "\r",
      " 21%|██        | 5/24 [00:03<00:14,  1.35it/s]"
     ]
    },
    {
     "name": "stdout",
     "output_type": "stream",
     "text": [
      "\n",
      "mean_270619-video4_015-013_opened_cc28.png: too spherical 2.800983427901839\n"
     ]
    },
    {
     "name": "stderr",
     "output_type": "stream",
     "text": [
      "\r",
      " 25%|██▌       | 6/24 [00:04<00:13,  1.36it/s]"
     ]
    },
    {
     "name": "stdout",
     "output_type": "stream",
     "text": [
      "\n",
      "mean_270619-video4_015-013_opened_cc35.png is INTERESTING\n"
     ]
    },
    {
     "name": "stderr",
     "output_type": "stream",
     "text": [
      "\r",
      " 29%|██▉       | 7/24 [00:05<00:12,  1.32it/s]"
     ]
    },
    {
     "name": "stdout",
     "output_type": "stream",
     "text": [
      "\n",
      "mean_270619-video4_015-013_opened_cc36.png: too spherical 2.6791100372188406\n"
     ]
    },
    {
     "name": "stderr",
     "output_type": "stream",
     "text": [
      "\r",
      " 33%|███▎      | 8/24 [00:05<00:12,  1.33it/s]"
     ]
    },
    {
     "name": "stdout",
     "output_type": "stream",
     "text": [
      "\n",
      "mean_270619-video4_015-013_opened_cc75.png: too spherical 2.570402835186097\n"
     ]
    },
    {
     "name": "stderr",
     "output_type": "stream",
     "text": [
      "\r",
      " 38%|███▊      | 9/24 [00:06<00:11,  1.31it/s]"
     ]
    },
    {
     "name": "stdout",
     "output_type": "stream",
     "text": [
      "\n",
      "mean_270619-video4_015-014_opened_cc02.png: too crowded: 14.791859567901234\n"
     ]
    },
    {
     "name": "stderr",
     "output_type": "stream",
     "text": [
      "\r",
      " 42%|████▏     | 10/24 [00:07<00:10,  1.33it/s]"
     ]
    },
    {
     "name": "stdout",
     "output_type": "stream",
     "text": [
      "\n",
      "mean_270619-video4_015-014_opened_cc06.png: too spherical 2.078600084645389\n",
      "\n",
      "mean_270619-video4_015-014_opened_cc07.png is INTERESTING\n"
     ]
    },
    {
     "name": "stderr",
     "output_type": "stream",
     "text": [
      "\r",
      " 46%|████▌     | 11/24 [00:08<00:12,  1.06it/s]"
     ]
    },
    {
     "name": "stdout",
     "output_type": "stream",
     "text": [
      "\n",
      "video4_015-013-video4_015-014: overlap = 0.0\n"
     ]
    },
    {
     "name": "stderr",
     "output_type": "stream",
     "text": [
      "\r",
      " 50%|█████     | 12/24 [00:09<00:11,  1.08it/s]"
     ]
    },
    {
     "name": "stdout",
     "output_type": "stream",
     "text": [
      "\n",
      "mean_270619-video4_015-015_opened_cc01.png: too crowded: 32.360918209876544\n"
     ]
    },
    {
     "name": "stderr",
     "output_type": "stream",
     "text": [
      "\r",
      " 54%|█████▍    | 13/24 [00:10<00:09,  1.14it/s]"
     ]
    },
    {
     "name": "stdout",
     "output_type": "stream",
     "text": [
      "\n",
      "mean_270619-video4_015-036_opened_cc01.png: too crowded: 11.733410493827162\n"
     ]
    },
    {
     "name": "stderr",
     "output_type": "stream",
     "text": [
      "\r",
      " 58%|█████▊    | 14/24 [00:11<00:08,  1.21it/s]"
     ]
    },
    {
     "name": "stdout",
     "output_type": "stream",
     "text": [
      "\n",
      "mean_270619-video4_015-036_opened_cc03.png: too spherical 3.358648907540167\n"
     ]
    },
    {
     "name": "stderr",
     "output_type": "stream",
     "text": [
      "\r",
      " 62%|██████▎   | 15/24 [00:12<00:07,  1.19it/s]"
     ]
    },
    {
     "name": "stdout",
     "output_type": "stream",
     "text": [
      "\n",
      "mean_270619-video4_015-036_opened_cc08.png is INTERESTING\n"
     ]
    },
    {
     "name": "stderr",
     "output_type": "stream",
     "text": [
      "\r",
      " 67%|██████▋   | 16/24 [00:12<00:06,  1.23it/s]"
     ]
    },
    {
     "name": "stdout",
     "output_type": "stream",
     "text": [
      "\n",
      "mean_270619-video4_015-036_opened_cc25.png: too spherical 4.293071264643423\n"
     ]
    },
    {
     "name": "stderr",
     "output_type": "stream",
     "text": [
      "\r",
      " 71%|███████   | 17/24 [00:13<00:05,  1.25it/s]"
     ]
    },
    {
     "name": "stdout",
     "output_type": "stream",
     "text": [
      "\n",
      "mean_270619-video4_015-041_opened_cc01.png: too crowded: 13.94675925925926\n"
     ]
    },
    {
     "name": "stderr",
     "output_type": "stream",
     "text": [
      "\r",
      " 75%|███████▌  | 18/24 [00:14<00:04,  1.28it/s]"
     ]
    },
    {
     "name": "stdout",
     "output_type": "stream",
     "text": [
      "\n",
      "mean_270619-video4_015-041_opened_cc02.png: too crowded: 4.647569444444445\n"
     ]
    },
    {
     "name": "stderr",
     "output_type": "stream",
     "text": [
      "\r",
      " 79%|███████▉  | 19/24 [00:15<00:03,  1.31it/s]"
     ]
    },
    {
     "name": "stdout",
     "output_type": "stream",
     "text": [
      "\n",
      "mean_270619-video4_015-041_opened_cc09.png is INTERESTING\n"
     ]
    },
    {
     "name": "stderr",
     "output_type": "stream",
     "text": [
      "\r",
      " 83%|████████▎ | 20/24 [00:15<00:03,  1.33it/s]"
     ]
    },
    {
     "name": "stdout",
     "output_type": "stream",
     "text": [
      "\n",
      "mean_270619-video4_015-041_opened_cc18.png: too spherical 2.4035239064365923\n"
     ]
    },
    {
     "name": "stderr",
     "output_type": "stream",
     "text": [
      "\r",
      " 88%|████████▊ | 21/24 [00:16<00:02,  1.36it/s]"
     ]
    },
    {
     "name": "stdout",
     "output_type": "stream",
     "text": [
      "\n",
      "mean_270619-video4_015-041_opened_cc20.png: too spherical 2.011798603415459\n"
     ]
    },
    {
     "name": "stderr",
     "output_type": "stream",
     "text": [
      "\r",
      " 92%|█████████▏| 22/24 [00:17<00:01,  1.38it/s]"
     ]
    },
    {
     "name": "stdout",
     "output_type": "stream",
     "text": [
      "\n",
      "mean_270619-video4_015-041_opened_cc22.png: too spherical 9.429513167634651\n"
     ]
    },
    {
     "name": "stderr",
     "output_type": "stream",
     "text": [
      "\r",
      " 96%|█████████▌| 23/24 [00:18<00:00,  1.35it/s]"
     ]
    },
    {
     "name": "stdout",
     "output_type": "stream",
     "text": [
      "\n",
      "mean_270619-video4_015-041_opened_cc41.png: too spherical 3.686250624977943\n"
     ]
    },
    {
     "name": "stderr",
     "output_type": "stream",
     "text": [
      "100%|██████████| 24/24 [00:18<00:00,  1.29it/s]\n",
      "  0%|          | 0/31 [00:00<?, ?it/s]"
     ]
    },
    {
     "name": "stdout",
     "output_type": "stream",
     "text": [
      "\n",
      "mean_270619-video4_015-041_opened_cc55.png is INTERESTING\n",
      "found video4_016/trigger_thr0.005_cl9_op3/cc_filtered_2den0.81_gausrad2.0/\n"
     ]
    },
    {
     "name": "stderr",
     "output_type": "stream",
     "text": [
      "\r",
      "  3%|▎         | 1/31 [00:00<00:22,  1.33it/s]"
     ]
    },
    {
     "name": "stdout",
     "output_type": "stream",
     "text": [
      "\n",
      "mean_270619-video4_016-021_opened_cc12.png: too spherical 3.1728470738354257\n"
     ]
    },
    {
     "name": "stderr",
     "output_type": "stream",
     "text": [
      "\r",
      "  6%|▋         | 2/31 [00:01<00:21,  1.33it/s]"
     ]
    },
    {
     "name": "stdout",
     "output_type": "stream",
     "text": [
      "\n",
      "mean_270619-video4_016-020_opened_cc06.png: too spherical 6.288158174736133\n"
     ]
    },
    {
     "name": "stderr",
     "output_type": "stream",
     "text": [
      "\r",
      " 10%|▉         | 3/31 [00:02<00:20,  1.34it/s]"
     ]
    },
    {
     "name": "stdout",
     "output_type": "stream",
     "text": [
      "\n",
      "mean_270619-video4_016-020_opened_cc16.png: too spherical 4.191949519330095\n"
     ]
    },
    {
     "name": "stderr",
     "output_type": "stream",
     "text": [
      "\r",
      " 13%|█▎        | 4/31 [00:02<00:20,  1.34it/s]"
     ]
    },
    {
     "name": "stdout",
     "output_type": "stream",
     "text": [
      "\n",
      "mean_270619-video4_016-020_opened_cc20.png: too spherical 1.0393586930724223\n"
     ]
    },
    {
     "name": "stderr",
     "output_type": "stream",
     "text": [
      "\r",
      " 16%|█▌        | 5/31 [00:03<00:19,  1.31it/s]"
     ]
    },
    {
     "name": "stdout",
     "output_type": "stream",
     "text": [
      "\n",
      "mean_270619-video4_016-020_opened_cc34.png: too spherical 2.51441841264419\n"
     ]
    },
    {
     "name": "stderr",
     "output_type": "stream",
     "text": [
      "\r",
      " 19%|█▉        | 6/31 [00:04<00:18,  1.33it/s]"
     ]
    },
    {
     "name": "stdout",
     "output_type": "stream",
     "text": [
      "\n",
      "mean_270619-video4_016-020_opened_cc47.png is INTERESTING\n"
     ]
    },
    {
     "name": "stderr",
     "output_type": "stream",
     "text": [
      "\r",
      " 23%|██▎       | 7/31 [00:05<00:17,  1.34it/s]"
     ]
    },
    {
     "name": "stdout",
     "output_type": "stream",
     "text": [
      "\n",
      "mean_270619-video4_016-020_opened_cc66.png is INTERESTING\n"
     ]
    },
    {
     "name": "stderr",
     "output_type": "stream",
     "text": [
      "\r",
      " 26%|██▌       | 8/31 [00:05<00:17,  1.35it/s]"
     ]
    },
    {
     "name": "stdout",
     "output_type": "stream",
     "text": [
      "\n",
      "mean_270619-video4_016-020_opened_cc76.png is INTERESTING\n"
     ]
    },
    {
     "name": "stderr",
     "output_type": "stream",
     "text": [
      "\r",
      " 29%|██▉       | 9/31 [00:06<00:16,  1.34it/s]"
     ]
    },
    {
     "name": "stdout",
     "output_type": "stream",
     "text": [
      "\n",
      "mean_270619-video4_016-021_opened_cc08.png: too spherical 7.038283913097658\n",
      "\n",
      "mean_270619-video4_016-021_opened_cc09.png is INTERESTING\n",
      "\n",
      "video4_016-020-video4_016-021: overlap = 0.0\n",
      "\n",
      "video4_016-020-video4_016-021: overlap = 0.0\n"
     ]
    },
    {
     "name": "stderr",
     "output_type": "stream",
     "text": [
      "\r",
      " 32%|███▏      | 10/31 [00:09<00:28,  1.35s/it]"
     ]
    },
    {
     "name": "stdout",
     "output_type": "stream",
     "text": [
      "\n",
      "video4_016-020-video4_016-021: overlap = 0.0\n"
     ]
    },
    {
     "name": "stderr",
     "output_type": "stream",
     "text": [
      "\r",
      " 35%|███▌      | 11/31 [00:10<00:23,  1.19s/it]"
     ]
    },
    {
     "name": "stdout",
     "output_type": "stream",
     "text": [
      "\n",
      "mean_270619-video4_016-021_opened_cc11.png: too spherical 2.794163174354963\n"
     ]
    },
    {
     "name": "stderr",
     "output_type": "stream",
     "text": [
      "\r",
      " 39%|███▊      | 12/31 [00:11<00:19,  1.05s/it]"
     ]
    },
    {
     "name": "stdout",
     "output_type": "stream",
     "text": [
      "\n",
      "mean_270619-video4_016-021_opened_cc13.png: too spherical 1.930129162515221\n"
     ]
    },
    {
     "name": "stderr",
     "output_type": "stream",
     "text": [
      "\r",
      " 42%|████▏     | 13/31 [00:11<00:17,  1.05it/s]"
     ]
    },
    {
     "name": "stdout",
     "output_type": "stream",
     "text": [
      "\n",
      "mean_270619-video4_016-021_opened_cc14.png: too spherical 1.6871466040999534\n"
     ]
    },
    {
     "name": "stderr",
     "output_type": "stream",
     "text": [
      "\r",
      " 45%|████▌     | 14/31 [00:12<00:14,  1.14it/s]"
     ]
    },
    {
     "name": "stdout",
     "output_type": "stream",
     "text": [
      "\n",
      "mean_270619-video4_016-021_opened_cc16.png: too spherical 3.307632704136142\n",
      "\n",
      "mean_270619-video4_016-021_opened_cc25.png is INTERESTING\n",
      "\n",
      "video4_016-020-video4_016-021: overlap = 0.0\n",
      "\n",
      "video4_016-020-video4_016-021: overlap = 0.0\n"
     ]
    },
    {
     "name": "stderr",
     "output_type": "stream",
     "text": [
      "\r",
      " 48%|████▊     | 15/31 [00:15<00:23,  1.45s/it]"
     ]
    },
    {
     "name": "stdout",
     "output_type": "stream",
     "text": [
      "\n",
      "video4_016-020-video4_016-021: overlap = 0.0\n"
     ]
    },
    {
     "name": "stderr",
     "output_type": "stream",
     "text": [
      "\r",
      " 52%|█████▏    | 16/31 [00:15<00:18,  1.24s/it]"
     ]
    },
    {
     "name": "stdout",
     "output_type": "stream",
     "text": [
      "\n",
      "mean_270619-video4_016-021_opened_cc26.png: too spherical 5.355729399778319\n"
     ]
    },
    {
     "name": "stderr",
     "output_type": "stream",
     "text": [
      "\r",
      " 55%|█████▍    | 17/31 [00:16<00:15,  1.09s/it]"
     ]
    },
    {
     "name": "stdout",
     "output_type": "stream",
     "text": [
      "\n",
      "mean_270619-video4_016-021_opened_cc32.png: too spherical 3.5180631347583815\n"
     ]
    },
    {
     "name": "stderr",
     "output_type": "stream",
     "text": [
      "\r",
      " 58%|█████▊    | 18/31 [00:17<00:12,  1.02it/s]"
     ]
    },
    {
     "name": "stdout",
     "output_type": "stream",
     "text": [
      "\n",
      "mean_270619-video4_016-021_opened_cc41.png: too spherical 3.2378410937134956\n"
     ]
    },
    {
     "name": "stderr",
     "output_type": "stream",
     "text": [
      "\r",
      " 61%|██████▏   | 19/31 [00:18<00:10,  1.11it/s]"
     ]
    },
    {
     "name": "stdout",
     "output_type": "stream",
     "text": [
      "\n",
      "mean_270619-video4_016-021_opened_cc43.png: too spherical 4.269090156959745\n"
     ]
    },
    {
     "name": "stderr",
     "output_type": "stream",
     "text": [
      "\r",
      " 65%|██████▍   | 20/31 [00:18<00:09,  1.19it/s]"
     ]
    },
    {
     "name": "stdout",
     "output_type": "stream",
     "text": [
      "\n",
      "mean_270619-video4_016-021_opened_cc46.png: too spherical 8.678291198772762\n"
     ]
    },
    {
     "name": "stderr",
     "output_type": "stream",
     "text": [
      "\r",
      " 68%|██████▊   | 21/31 [00:19<00:08,  1.23it/s]"
     ]
    },
    {
     "name": "stdout",
     "output_type": "stream",
     "text": [
      "\n",
      "mean_270619-video4_016-021_opened_cc58.png: too spherical 3.945961699156292\n"
     ]
    },
    {
     "name": "stderr",
     "output_type": "stream",
     "text": [
      "\r",
      " 71%|███████   | 22/31 [00:20<00:07,  1.26it/s]"
     ]
    },
    {
     "name": "stdout",
     "output_type": "stream",
     "text": [
      "\n",
      "mean_270619-video4_016-021_opened_cc61.png: too spherical 4.736322899549993\n"
     ]
    },
    {
     "name": "stderr",
     "output_type": "stream",
     "text": [
      "\r",
      " 74%|███████▍  | 23/31 [00:21<00:06,  1.30it/s]"
     ]
    },
    {
     "name": "stdout",
     "output_type": "stream",
     "text": [
      "\n",
      "mean_270619-video4_016-021_opened_cc64.png: too spherical 5.147863855730503\n"
     ]
    },
    {
     "name": "stderr",
     "output_type": "stream",
     "text": [
      "\r",
      " 77%|███████▋  | 24/31 [00:21<00:05,  1.31it/s]"
     ]
    },
    {
     "name": "stdout",
     "output_type": "stream",
     "text": [
      "\n",
      "mean_270619-video4_016-021_opened_cc70.png: too spherical 1.3358181957092945\n"
     ]
    },
    {
     "name": "stderr",
     "output_type": "stream",
     "text": [
      "\r",
      " 81%|████████  | 25/31 [00:22<00:04,  1.32it/s]"
     ]
    },
    {
     "name": "stdout",
     "output_type": "stream",
     "text": [
      "\n",
      "mean_270619-video4_016-021_opened_cc71.png: too spherical 2.8708792139361163\n"
     ]
    },
    {
     "name": "stderr",
     "output_type": "stream",
     "text": [
      "\r",
      " 84%|████████▍ | 26/31 [00:23<00:03,  1.33it/s]"
     ]
    },
    {
     "name": "stdout",
     "output_type": "stream",
     "text": [
      "\n",
      "mean_270619-video4_016-021_opened_cc74.png: too spherical 3.7183058516681826\n"
     ]
    },
    {
     "name": "stderr",
     "output_type": "stream",
     "text": [
      "\r",
      " 87%|████████▋ | 27/31 [00:24<00:02,  1.35it/s]"
     ]
    },
    {
     "name": "stdout",
     "output_type": "stream",
     "text": [
      "\n",
      "mean_270619-video4_016-021_opened_cc88.png: too spherical 4.960376387867871\n"
     ]
    },
    {
     "name": "stderr",
     "output_type": "stream",
     "text": [
      "\r",
      " 90%|█████████ | 28/31 [00:24<00:02,  1.37it/s]"
     ]
    },
    {
     "name": "stdout",
     "output_type": "stream",
     "text": [
      "\n",
      "mean_270619-video4_016-027_opened_cc09.png is INTERESTING\n"
     ]
    },
    {
     "name": "stderr",
     "output_type": "stream",
     "text": [
      "\r",
      " 94%|█████████▎| 29/31 [00:25<00:01,  1.37it/s]"
     ]
    },
    {
     "name": "stdout",
     "output_type": "stream",
     "text": [
      "\n",
      "mean_270619-video4_016-027_opened_cc18.png is INTERESTING\n"
     ]
    },
    {
     "name": "stderr",
     "output_type": "stream",
     "text": [
      "\r",
      " 97%|█████████▋| 30/31 [00:26<00:00,  1.37it/s]"
     ]
    },
    {
     "name": "stdout",
     "output_type": "stream",
     "text": [
      "\n",
      "mean_270619-video4_016-027_opened_cc58.png is INTERESTING\n"
     ]
    },
    {
     "name": "stderr",
     "output_type": "stream",
     "text": [
      "100%|██████████| 31/31 [00:26<00:00,  1.38it/s]\n",
      "  0%|          | 0/51 [00:00<?, ?it/s]"
     ]
    },
    {
     "name": "stdout",
     "output_type": "stream",
     "text": [
      "\n",
      "mean_270619-video4_016-027_opened_cc80.png is INTERESTING\n",
      "found video4_017/trigger_thr0.005_cl9_op3/cc_filtered_2den0.81_gausrad2.0/\n"
     ]
    },
    {
     "name": "stderr",
     "output_type": "stream",
     "text": [
      "\r",
      "  2%|▏         | 1/51 [00:00<00:35,  1.41it/s]"
     ]
    },
    {
     "name": "stdout",
     "output_type": "stream",
     "text": [
      "\n",
      "mean_270619-video4_017-006_opened_cc19.png: too spherical 7.12169136214026\n"
     ]
    },
    {
     "name": "stderr",
     "output_type": "stream",
     "text": [
      "\r",
      "  4%|▍         | 2/51 [00:01<00:35,  1.40it/s]"
     ]
    },
    {
     "name": "stdout",
     "output_type": "stream",
     "text": [
      "\n",
      "mean_270619-video4_017-006_opened_cc30.png: too spherical 2.8071674947475307\n"
     ]
    },
    {
     "name": "stderr",
     "output_type": "stream",
     "text": [
      "\r",
      "  6%|▌         | 3/51 [00:02<00:34,  1.41it/s]"
     ]
    },
    {
     "name": "stdout",
     "output_type": "stream",
     "text": [
      "\n",
      "mean_270619-video4_017-006_opened_cc38.png: too spherical 2.8392642521451044\n"
     ]
    },
    {
     "name": "stderr",
     "output_type": "stream",
     "text": [
      "\r",
      "  8%|▊         | 4/51 [00:02<00:33,  1.42it/s]"
     ]
    },
    {
     "name": "stdout",
     "output_type": "stream",
     "text": [
      "\n",
      "mean_270619-video4_017-006_opened_cc50.png is INTERESTING\n"
     ]
    },
    {
     "name": "stderr",
     "output_type": "stream",
     "text": [
      "\r",
      " 10%|▉         | 5/51 [00:03<00:32,  1.42it/s]"
     ]
    },
    {
     "name": "stdout",
     "output_type": "stream",
     "text": [
      "\n",
      "mean_270619-video4_017-006_opened_cc56.png: too spherical 6.1141880232043\n"
     ]
    },
    {
     "name": "stderr",
     "output_type": "stream",
     "text": [
      "\r",
      " 12%|█▏        | 6/51 [00:04<00:31,  1.42it/s]"
     ]
    },
    {
     "name": "stdout",
     "output_type": "stream",
     "text": [
      "\n",
      "mean_270619-video4_017-006_opened_cc59.png is INTERESTING\n"
     ]
    },
    {
     "name": "stderr",
     "output_type": "stream",
     "text": [
      "\r",
      " 14%|█▎        | 7/51 [00:04<00:31,  1.41it/s]"
     ]
    },
    {
     "name": "stdout",
     "output_type": "stream",
     "text": [
      "\n",
      "mean_270619-video4_017-006_opened_cc68.png: too spherical 5.864189130698548\n"
     ]
    },
    {
     "name": "stderr",
     "output_type": "stream",
     "text": [
      "\r",
      " 16%|█▌        | 8/51 [00:05<00:30,  1.41it/s]"
     ]
    },
    {
     "name": "stdout",
     "output_type": "stream",
     "text": [
      "\n",
      "mean_270619-video4_017-006_opened_cc97.png: too spherical 6.974694667562724\n",
      "\n",
      "mean_270619-video4_017-007_opened_cc01.png is INTERESTING\n",
      "\n",
      "video4_017-006-video4_017-007: overlap = 0.0\n"
     ]
    },
    {
     "name": "stderr",
     "output_type": "stream",
     "text": [
      "\r",
      " 18%|█▊        | 9/51 [00:07<00:46,  1.11s/it]"
     ]
    },
    {
     "name": "stdout",
     "output_type": "stream",
     "text": [
      "\n",
      "video4_017-006-video4_017-007: overlap = 0.0\n",
      "\n",
      "mean_270619-video4_017-007_opened_cc03.png is INTERESTING\n",
      "\n",
      "video4_017-006-video4_017-007: overlap = 0.007937613145801437\n"
     ]
    },
    {
     "name": "stderr",
     "output_type": "stream",
     "text": [
      "\r",
      " 20%|█▉        | 10/51 [00:09<00:58,  1.43s/it]"
     ]
    },
    {
     "name": "stdout",
     "output_type": "stream",
     "text": [
      "\n",
      "video4_017-006-video4_017-007: overlap = 0.0\n",
      "\n",
      "mean_270619-video4_017-007_opened_cc04.png is INTERESTING\n",
      "\n",
      "video4_017-006-video4_017-007: overlap = 0.0\n"
     ]
    },
    {
     "name": "stderr",
     "output_type": "stream",
     "text": [
      "\r",
      " 22%|██▏       | 11/51 [00:11<01:04,  1.61s/it]"
     ]
    },
    {
     "name": "stdout",
     "output_type": "stream",
     "text": [
      "\n",
      "video4_017-006-video4_017-007: overlap = 0.0\n",
      "\n",
      "mean_270619-video4_017-007_opened_cc21.png is INTERESTING\n",
      "\n",
      "video4_017-006-video4_017-007: overlap = 0.0\n"
     ]
    },
    {
     "name": "stderr",
     "output_type": "stream",
     "text": [
      "\r",
      " 24%|██▎       | 12/51 [00:13<01:07,  1.73s/it]"
     ]
    },
    {
     "name": "stdout",
     "output_type": "stream",
     "text": [
      "\n",
      "video4_017-006-video4_017-007: overlap = 0.0\n"
     ]
    },
    {
     "name": "stderr",
     "output_type": "stream",
     "text": [
      "\r",
      " 25%|██▌       | 13/51 [00:14<00:53,  1.42s/it]"
     ]
    },
    {
     "name": "stdout",
     "output_type": "stream",
     "text": [
      "\n",
      "mean_270619-video4_017-007_opened_cc22.png: too spherical 1.9182825480279633\n"
     ]
    },
    {
     "name": "stderr",
     "output_type": "stream",
     "text": [
      "\r",
      " 27%|██▋       | 14/51 [00:15<00:44,  1.21s/it]"
     ]
    },
    {
     "name": "stdout",
     "output_type": "stream",
     "text": [
      "\n",
      "mean_270619-video4_017-007_opened_cc23.png: too spherical 8.586154492584049\n"
     ]
    },
    {
     "name": "stderr",
     "output_type": "stream",
     "text": [
      "\r",
      " 29%|██▉       | 15/51 [00:16<00:38,  1.08s/it]"
     ]
    },
    {
     "name": "stdout",
     "output_type": "stream",
     "text": [
      "\n",
      "mean_270619-video4_017-007_opened_cc38.png: too spherical 2.4499456513053226\n"
     ]
    },
    {
     "name": "stderr",
     "output_type": "stream",
     "text": [
      "\r",
      " 31%|███▏      | 16/51 [00:16<00:34,  1.01it/s]"
     ]
    },
    {
     "name": "stdout",
     "output_type": "stream",
     "text": [
      "\n",
      "mean_270619-video4_017-007_opened_cc44.png: too spherical 1.9020152132691233\n"
     ]
    },
    {
     "name": "stderr",
     "output_type": "stream",
     "text": [
      "\r",
      " 33%|███▎      | 17/51 [00:17<00:31,  1.08it/s]"
     ]
    },
    {
     "name": "stdout",
     "output_type": "stream",
     "text": [
      "\n",
      "mean_270619-video4_017-007_opened_cc53.png: too spherical 2.687795857916325\n"
     ]
    },
    {
     "name": "stderr",
     "output_type": "stream",
     "text": [
      "\r",
      " 35%|███▌      | 18/51 [00:18<00:29,  1.13it/s]"
     ]
    },
    {
     "name": "stdout",
     "output_type": "stream",
     "text": [
      "\n",
      "mean_270619-video4_017-007_opened_cc56.png: too spherical 3.487324195305915\n",
      "\n",
      "mean_270619-video4_017-007_opened_cc57.png is INTERESTING\n",
      "\n",
      "video4_017-006-video4_017-007: overlap = 0.0\n"
     ]
    },
    {
     "name": "stderr",
     "output_type": "stream",
     "text": [
      "\r",
      " 37%|███▋      | 19/51 [00:20<00:40,  1.28s/it]"
     ]
    },
    {
     "name": "stdout",
     "output_type": "stream",
     "text": [
      "\n",
      "video4_017-006-video4_017-007: overlap = 0.0\n"
     ]
    },
    {
     "name": "stderr",
     "output_type": "stream",
     "text": [
      "\r",
      " 39%|███▉      | 20/51 [00:21<00:34,  1.12s/it]"
     ]
    },
    {
     "name": "stdout",
     "output_type": "stream",
     "text": [
      "\n",
      "mean_270619-video4_017-007_opened_cc59.png: too spherical 5.64024133480107\n"
     ]
    },
    {
     "name": "stderr",
     "output_type": "stream",
     "text": [
      "\r",
      " 41%|████      | 21/51 [00:22<00:30,  1.01s/it]"
     ]
    },
    {
     "name": "stdout",
     "output_type": "stream",
     "text": [
      "\n",
      "mean_270619-video4_017-008_opened_cc08.png: too crowded: 4.058449074074074\n",
      "\n",
      "mean_270619-video4_017-008_opened_cc24.png is INTERESTING\n",
      "\n",
      "video4_017-007-video4_017-008: overlap = 0.0\n",
      "\n",
      "video4_017-007-video4_017-008: overlap = 0.0\n",
      "\n",
      "video4_017-007-video4_017-008: overlap = 0.023421588594704668\n"
     ]
    },
    {
     "name": "stderr",
     "output_type": "stream",
     "text": [
      "\r",
      " 43%|████▎     | 22/51 [00:25<00:51,  1.76s/it]"
     ]
    },
    {
     "name": "stdout",
     "output_type": "stream",
     "text": [
      "\n",
      "video4_017-007-video4_017-008: overlap = 0.554954954954955\n"
     ]
    },
    {
     "name": "stderr",
     "output_type": "stream",
     "text": [
      "\r",
      " 45%|████▌     | 23/51 [00:26<00:41,  1.48s/it]"
     ]
    },
    {
     "name": "stdout",
     "output_type": "stream",
     "text": [
      "\n",
      "mean_270619-video4_017-008_opened_cc27.png: too spherical 4.11408268478659\n"
     ]
    },
    {
     "name": "stderr",
     "output_type": "stream",
     "text": [
      "\r",
      " 47%|████▋     | 24/51 [00:27<00:34,  1.27s/it]"
     ]
    },
    {
     "name": "stdout",
     "output_type": "stream",
     "text": [
      "\n",
      "mean_270619-video4_017-008_opened_cc50.png: too spherical 3.6933630929780175\n"
     ]
    },
    {
     "name": "stderr",
     "output_type": "stream",
     "text": [
      "\r",
      " 49%|████▉     | 25/51 [00:28<00:29,  1.15s/it]"
     ]
    },
    {
     "name": "stdout",
     "output_type": "stream",
     "text": [
      "\n",
      "mean_270619-video4_017-008_opened_cc51.png: too spherical 3.3130146502149365\n",
      "\n",
      "mean_270619-video4_017-008_opened_cc57.png is INTERESTING\n",
      "\n",
      "video4_017-007-video4_017-008: overlap = 0.0\n",
      "\n",
      "video4_017-007-video4_017-008: overlap = 0.0\n",
      "\n",
      "video4_017-007-video4_017-008: overlap = 0.0\n"
     ]
    },
    {
     "name": "stderr",
     "output_type": "stream",
     "text": [
      "\r",
      " 51%|█████     | 26/51 [00:31<00:45,  1.83s/it]"
     ]
    },
    {
     "name": "stdout",
     "output_type": "stream",
     "text": [
      "\n",
      "video4_017-007-video4_017-008: overlap = 0.0\n",
      "\n",
      "mean_270619-video4_017-008_opened_cc64.png is INTERESTING\n",
      "\n",
      "video4_017-007-video4_017-008: overlap = 0.0\n",
      "\n",
      "video4_017-007-video4_017-008: overlap = 0.0\n",
      "\n",
      "video4_017-007-video4_017-008: overlap = 0.0\n"
     ]
    },
    {
     "name": "stderr",
     "output_type": "stream",
     "text": [
      "\r",
      " 53%|█████▎    | 27/51 [00:35<00:56,  2.35s/it]"
     ]
    },
    {
     "name": "stdout",
     "output_type": "stream",
     "text": [
      "\n",
      "video4_017-007-video4_017-008: overlap = 0.0\n"
     ]
    },
    {
     "name": "stderr",
     "output_type": "stream",
     "text": [
      "\r",
      " 55%|█████▍    | 28/51 [00:35<00:43,  1.90s/it]"
     ]
    },
    {
     "name": "stdout",
     "output_type": "stream",
     "text": [
      "\n",
      "mean_270619-video4_017-008_opened_cc71.png: too spherical 5.146926580480391\n"
     ]
    },
    {
     "name": "stderr",
     "output_type": "stream",
     "text": [
      "\r",
      " 57%|█████▋    | 29/51 [00:36<00:34,  1.55s/it]"
     ]
    },
    {
     "name": "stdout",
     "output_type": "stream",
     "text": [
      "\n",
      "mean_270619-video4_017-009_opened_cc01.png: too crowded: 7.5140817901234565\n"
     ]
    },
    {
     "name": "stderr",
     "output_type": "stream",
     "text": [
      "\r",
      " 59%|█████▉    | 30/51 [00:37<00:27,  1.30s/it]"
     ]
    },
    {
     "name": "stdout",
     "output_type": "stream",
     "text": [
      "\n",
      "mean_270619-video4_017-009_opened_cc04.png: too spherical 3.562442221645116\n",
      "\n",
      "mean_270619-video4_017-009_opened_cc07.png is INTERESTING\n",
      "\n",
      "video4_017-008-video4_017-009: overlap = 0.02978160158835208\n",
      "\n",
      "video4_017-008-video4_017-009: overlap = 0.0\n"
     ]
    },
    {
     "name": "stderr",
     "output_type": "stream",
     "text": [
      "\r",
      " 61%|██████    | 31/51 [00:40<00:36,  1.82s/it]"
     ]
    },
    {
     "name": "stdout",
     "output_type": "stream",
     "text": [
      "\n",
      "video4_017-008-video4_017-009: overlap = 0.0\n"
     ]
    },
    {
     "name": "stderr",
     "output_type": "stream",
     "text": [
      "\r",
      " 63%|██████▎   | 32/51 [00:41<00:28,  1.49s/it]"
     ]
    },
    {
     "name": "stdout",
     "output_type": "stream",
     "text": [
      "\n",
      "mean_270619-video4_017-007_opened_cc02.png: too crowded: 4.057098765432099\n"
     ]
    },
    {
     "name": "stderr",
     "output_type": "stream",
     "text": [
      "\r",
      " 65%|██████▍   | 33/51 [00:41<00:22,  1.25s/it]"
     ]
    },
    {
     "name": "stdout",
     "output_type": "stream",
     "text": [
      "\n",
      "mean_270619-video4_017-008_opened_cc07.png: too spherical 6.4779507710912165\n"
     ]
    },
    {
     "name": "stderr",
     "output_type": "stream",
     "text": [
      "\r",
      " 67%|██████▋   | 34/51 [00:42<00:18,  1.09s/it]"
     ]
    },
    {
     "name": "stdout",
     "output_type": "stream",
     "text": [
      "\n",
      "mean_270619-video4_017-009_opened_cc35.png: too spherical 3.7716019739484783\n"
     ]
    },
    {
     "name": "stderr",
     "output_type": "stream",
     "text": [
      "\r",
      " 69%|██████▊   | 35/51 [00:43<00:15,  1.02it/s]"
     ]
    },
    {
     "name": "stdout",
     "output_type": "stream",
     "text": [
      "\n",
      "mean_270619-video4_017-009_opened_cc49.png: too spherical 6.315771230055852\n"
     ]
    },
    {
     "name": "stderr",
     "output_type": "stream",
     "text": [
      "\r",
      " 71%|███████   | 36/51 [00:44<00:13,  1.11it/s]"
     ]
    },
    {
     "name": "stdout",
     "output_type": "stream",
     "text": [
      "\n",
      "mean_270619-video4_017-009_opened_cc52.png: too spherical 4.075600347781632\n"
     ]
    },
    {
     "name": "stderr",
     "output_type": "stream",
     "text": [
      "\r",
      " 73%|███████▎  | 37/51 [00:44<00:11,  1.17it/s]"
     ]
    },
    {
     "name": "stdout",
     "output_type": "stream",
     "text": [
      "\n",
      "mean_270619-video4_017-009_opened_cc71.png: too spherical 7.566624143087892\n",
      "\n",
      "mean_270619-video4_017-009_opened_cc75.png is INTERESTING\n",
      "\n",
      "video4_017-008-video4_017-009: overlap = 0.0\n",
      "\n",
      "video4_017-008-video4_017-009: overlap = 0.0\n"
     ]
    },
    {
     "name": "stderr",
     "output_type": "stream",
     "text": [
      "\r",
      " 75%|███████▍  | 38/51 [00:47<00:18,  1.42s/it]"
     ]
    },
    {
     "name": "stdout",
     "output_type": "stream",
     "text": [
      "\n",
      "video4_017-008-video4_017-009: overlap = 0.0\n",
      "\n",
      "mean_270619-video4_017-009_opened_cc85.png is INTERESTING\n",
      "\n",
      "video4_017-008-video4_017-009: overlap = 0.0\n",
      "\n",
      "video4_017-008-video4_017-009: overlap = 0.0\n"
     ]
    },
    {
     "name": "stderr",
     "output_type": "stream",
     "text": [
      "\r",
      " 76%|███████▋  | 39/51 [00:50<00:21,  1.79s/it]"
     ]
    },
    {
     "name": "stdout",
     "output_type": "stream",
     "text": [
      "\n",
      "video4_017-008-video4_017-009: overlap = 0.0\n"
     ]
    },
    {
     "name": "stderr",
     "output_type": "stream",
     "text": [
      "\r",
      " 78%|███████▊  | 40/51 [00:50<00:16,  1.46s/it]"
     ]
    },
    {
     "name": "stdout",
     "output_type": "stream",
     "text": [
      "\n",
      "mean_270619-video4_017-014_opened_cc04.png is INTERESTING\n"
     ]
    },
    {
     "name": "stderr",
     "output_type": "stream",
     "text": [
      "\r",
      " 80%|████████  | 41/51 [00:51<00:12,  1.25s/it]"
     ]
    },
    {
     "name": "stdout",
     "output_type": "stream",
     "text": [
      "\n",
      "mean_270619-video4_017-014_opened_cc08.png is INTERESTING\n"
     ]
    },
    {
     "name": "stderr",
     "output_type": "stream",
     "text": [
      "\r",
      " 82%|████████▏ | 42/51 [00:52<00:09,  1.08s/it]"
     ]
    },
    {
     "name": "stdout",
     "output_type": "stream",
     "text": [
      "\n",
      "mean_270619-video4_017-020_opened_cc02.png: too spherical 4.547961265273068\n"
     ]
    },
    {
     "name": "stderr",
     "output_type": "stream",
     "text": [
      "\r",
      " 84%|████████▍ | 43/51 [00:53<00:07,  1.02it/s]"
     ]
    },
    {
     "name": "stdout",
     "output_type": "stream",
     "text": [
      "\n",
      "mean_270619-video4_017-020_opened_cc03.png is INTERESTING\n"
     ]
    },
    {
     "name": "stderr",
     "output_type": "stream",
     "text": [
      "\r",
      " 86%|████████▋ | 44/51 [00:53<00:06,  1.11it/s]"
     ]
    },
    {
     "name": "stdout",
     "output_type": "stream",
     "text": [
      "\n",
      "mean_270619-video4_017-020_opened_cc09.png is INTERESTING\n"
     ]
    },
    {
     "name": "stderr",
     "output_type": "stream",
     "text": [
      "\r",
      " 88%|████████▊ | 45/51 [00:54<00:05,  1.19it/s]"
     ]
    },
    {
     "name": "stdout",
     "output_type": "stream",
     "text": [
      "\n",
      "mean_270619-video4_017-020_opened_cc13.png: too spherical 9.530949755863452\n"
     ]
    },
    {
     "name": "stderr",
     "output_type": "stream",
     "text": [
      "\r",
      " 90%|█████████ | 46/51 [00:55<00:03,  1.25it/s]"
     ]
    },
    {
     "name": "stdout",
     "output_type": "stream",
     "text": [
      "\n",
      "mean_270619-video4_017-028_opened_cc07.png is INTERESTING\n"
     ]
    },
    {
     "name": "stderr",
     "output_type": "stream",
     "text": [
      "\r",
      " 92%|█████████▏| 47/51 [00:55<00:03,  1.30it/s]"
     ]
    },
    {
     "name": "stdout",
     "output_type": "stream",
     "text": [
      "\n",
      "mean_270619-video4_017-028_opened_cc11.png is INTERESTING\n"
     ]
    },
    {
     "name": "stderr",
     "output_type": "stream",
     "text": [
      "\r",
      " 94%|█████████▍| 48/51 [00:56<00:02,  1.27it/s]"
     ]
    },
    {
     "name": "stdout",
     "output_type": "stream",
     "text": [
      "\n",
      "mean_270619-video4_017-047_opened_cc01.png: too crowded: 18.787422839506174\n"
     ]
    },
    {
     "name": "stderr",
     "output_type": "stream",
     "text": [
      "\r",
      " 96%|█████████▌| 49/51 [00:57<00:01,  1.32it/s]"
     ]
    },
    {
     "name": "stdout",
     "output_type": "stream",
     "text": [
      "\n",
      "mean_270619-video4_017-047_opened_cc03.png: too crowded: 5.718557098765432\n"
     ]
    },
    {
     "name": "stderr",
     "output_type": "stream",
     "text": [
      "\r",
      " 98%|█████████▊| 50/51 [00:58<00:00,  1.36it/s]"
     ]
    },
    {
     "name": "stdout",
     "output_type": "stream",
     "text": [
      "\n",
      "mean_270619-video4_017-047_opened_cc13.png: too spherical 5.932103009125385\n"
     ]
    },
    {
     "name": "stderr",
     "output_type": "stream",
     "text": [
      "100%|██████████| 51/51 [00:58<00:00,  1.38it/s]\n",
      "  0%|          | 0/15 [00:00<?, ?it/s]"
     ]
    },
    {
     "name": "stdout",
     "output_type": "stream",
     "text": [
      "\n",
      "mean_270619-video4_017-047_opened_cc17.png: too spherical 1.2783897388182919\n",
      "found video4_018/trigger_thr0.005_cl9_op3/cc_filtered_2den0.81_gausrad2.0/\n"
     ]
    },
    {
     "name": "stderr",
     "output_type": "stream",
     "text": [
      "\r",
      "  7%|▋         | 1/15 [00:00<00:10,  1.38it/s]"
     ]
    },
    {
     "name": "stdout",
     "output_type": "stream",
     "text": [
      "\n",
      "mean_270619-video4_018-001_opened_cc13.png: too spherical 6.422454110847575\n"
     ]
    },
    {
     "name": "stderr",
     "output_type": "stream",
     "text": [
      "\r",
      " 13%|█▎        | 2/15 [00:01<00:09,  1.39it/s]"
     ]
    },
    {
     "name": "stdout",
     "output_type": "stream",
     "text": [
      "\n",
      "mean_270619-video4_018-010_opened_cc10.png is INTERESTING\n"
     ]
    },
    {
     "name": "stderr",
     "output_type": "stream",
     "text": [
      "\r",
      " 20%|██        | 3/15 [00:02<00:08,  1.41it/s]"
     ]
    },
    {
     "name": "stdout",
     "output_type": "stream",
     "text": [
      "\n",
      "mean_270619-video4_018-010_opened_cc15.png: too spherical 5.474419350392671\n"
     ]
    },
    {
     "name": "stderr",
     "output_type": "stream",
     "text": [
      "\r",
      " 27%|██▋       | 4/15 [00:02<00:07,  1.41it/s]"
     ]
    },
    {
     "name": "stdout",
     "output_type": "stream",
     "text": [
      "\n",
      "mean_270619-video4_018-010_opened_cc20.png: too spherical 1.516182726934905\n"
     ]
    },
    {
     "name": "stderr",
     "output_type": "stream",
     "text": [
      "\r",
      " 33%|███▎      | 5/15 [00:03<00:07,  1.40it/s]"
     ]
    },
    {
     "name": "stdout",
     "output_type": "stream",
     "text": [
      "\n",
      "mean_270619-video4_018-010_opened_cc25.png: too spherical 2.531022768873964\n"
     ]
    },
    {
     "name": "stderr",
     "output_type": "stream",
     "text": [
      "\r",
      " 40%|████      | 6/15 [00:04<00:06,  1.40it/s]"
     ]
    },
    {
     "name": "stdout",
     "output_type": "stream",
     "text": [
      "\n",
      "mean_270619-video4_018-010_opened_cc35.png is INTERESTING\n"
     ]
    },
    {
     "name": "stderr",
     "output_type": "stream",
     "text": [
      "\r",
      " 47%|████▋     | 7/15 [00:04<00:05,  1.41it/s]"
     ]
    },
    {
     "name": "stdout",
     "output_type": "stream",
     "text": [
      "\n",
      "mean_270619-video4_018-010_opened_cc36.png: too spherical 4.577600848271761\n"
     ]
    },
    {
     "name": "stderr",
     "output_type": "stream",
     "text": [
      "\r",
      " 53%|█████▎    | 8/15 [00:05<00:04,  1.42it/s]"
     ]
    },
    {
     "name": "stdout",
     "output_type": "stream",
     "text": [
      "\n",
      "mean_270619-video4_018-010_opened_cc57.png: too spherical 9.055138158026281\n"
     ]
    },
    {
     "name": "stderr",
     "output_type": "stream",
     "text": [
      "\r",
      " 60%|██████    | 9/15 [00:06<00:04,  1.44it/s]"
     ]
    },
    {
     "name": "stdout",
     "output_type": "stream",
     "text": [
      "\n",
      "mean_270619-video4_018-010_opened_cc61.png is INTERESTING\n"
     ]
    },
    {
     "name": "stderr",
     "output_type": "stream",
     "text": [
      "\r",
      " 67%|██████▋   | 10/15 [00:07<00:03,  1.45it/s]"
     ]
    },
    {
     "name": "stdout",
     "output_type": "stream",
     "text": [
      "\n",
      "mean_270619-video4_018-022_opened_cc01.png is INTERESTING\n"
     ]
    },
    {
     "name": "stderr",
     "output_type": "stream",
     "text": [
      "\r",
      " 73%|███████▎  | 11/15 [00:07<00:02,  1.42it/s]"
     ]
    },
    {
     "name": "stdout",
     "output_type": "stream",
     "text": [
      "\n",
      "mean_270619-video4_018-036_opened_cc26.png: too spherical 2.405425037338555\n"
     ]
    },
    {
     "name": "stderr",
     "output_type": "stream",
     "text": [
      "\r",
      " 80%|████████  | 12/15 [00:08<00:02,  1.41it/s]"
     ]
    },
    {
     "name": "stdout",
     "output_type": "stream",
     "text": [
      "\n",
      "mean_270619-video4_018-037_opened_cc22.png: too spherical 2.8187689767967212\n"
     ]
    },
    {
     "name": "stderr",
     "output_type": "stream",
     "text": [
      "\r",
      " 87%|████████▋ | 13/15 [00:09<00:01,  1.42it/s]"
     ]
    },
    {
     "name": "stdout",
     "output_type": "stream",
     "text": [
      "\n",
      "mean_270619-video4_018-037_opened_cc25.png: too spherical 5.748883445050641\n"
     ]
    },
    {
     "name": "stderr",
     "output_type": "stream",
     "text": [
      "\r",
      " 93%|█████████▎| 14/15 [00:09<00:00,  1.42it/s]"
     ]
    },
    {
     "name": "stdout",
     "output_type": "stream",
     "text": [
      "\n",
      "mean_270619-video4_018-037_opened_cc62.png: too spherical 3.9380489548804354\n"
     ]
    },
    {
     "name": "stderr",
     "output_type": "stream",
     "text": [
      "100%|██████████| 15/15 [00:10<00:00,  1.39it/s]\n",
      "  0%|          | 0/46 [00:00<?, ?it/s]"
     ]
    },
    {
     "name": "stdout",
     "output_type": "stream",
     "text": [
      "\n",
      "mean_270619-video4_018-045_opened_cc13.png: too spherical 3.9506167986758403\n",
      "found video4_019/trigger_thr0.005_cl9_op3/cc_filtered_2den0.81_gausrad2.0/\n"
     ]
    },
    {
     "name": "stderr",
     "output_type": "stream",
     "text": [
      "\r",
      "  2%|▏         | 1/46 [00:00<00:34,  1.31it/s]"
     ]
    },
    {
     "name": "stdout",
     "output_type": "stream",
     "text": [
      "\n",
      "mean_270619-video4_019-008_opened_cc10.png is INTERESTING\n"
     ]
    },
    {
     "name": "stderr",
     "output_type": "stream",
     "text": [
      "\r",
      "  4%|▍         | 2/46 [00:01<00:33,  1.32it/s]"
     ]
    },
    {
     "name": "stdout",
     "output_type": "stream",
     "text": [
      "\n",
      "mean_270619-video4_019-008_opened_cc15.png is INTERESTING\n"
     ]
    },
    {
     "name": "stderr",
     "output_type": "stream",
     "text": [
      "\r",
      "  7%|▋         | 3/46 [00:02<00:33,  1.30it/s]"
     ]
    },
    {
     "name": "stdout",
     "output_type": "stream",
     "text": [
      "\n",
      "mean_270619-video4_019-008_opened_cc32.png: too spherical 7.139076669797547\n"
     ]
    },
    {
     "name": "stderr",
     "output_type": "stream",
     "text": [
      "\r",
      "  9%|▊         | 4/46 [00:03<00:32,  1.29it/s]"
     ]
    },
    {
     "name": "stdout",
     "output_type": "stream",
     "text": [
      "\n",
      "mean_270619-video4_019-008_opened_cc38.png is INTERESTING\n",
      "\n",
      "mean_270619-video4_019-009_opened_cc04.png is INTERESTING\n",
      "\n",
      "video4_019-008-video4_019-009: overlap = 0.0\n",
      "\n",
      "video4_019-008-video4_019-009: overlap = 0.0\n"
     ]
    },
    {
     "name": "stderr",
     "output_type": "stream",
     "text": [
      "\r",
      " 11%|█         | 5/46 [00:05<00:56,  1.38s/it]"
     ]
    },
    {
     "name": "stdout",
     "output_type": "stream",
     "text": [
      "\n",
      "video4_019-008-video4_019-009: overlap = 0.0\n"
     ]
    },
    {
     "name": "stderr",
     "output_type": "stream",
     "text": [
      "\r",
      " 13%|█▎        | 6/46 [00:06<00:47,  1.19s/it]"
     ]
    },
    {
     "name": "stdout",
     "output_type": "stream",
     "text": [
      "\n",
      "mean_270619-video4_019-009_opened_cc07.png: too spherical 5.982024991582526\n",
      "\n",
      "mean_270619-video4_019-009_opened_cc18.png is INTERESTING\n",
      "\n",
      "video4_019-008-video4_019-009: overlap = 0.3388856978747846\n",
      "\n",
      "video4_019-008-video4_019-009: overlap = 0.0\n"
     ]
    },
    {
     "name": "stderr",
     "output_type": "stream",
     "text": [
      "\r",
      " 15%|█▌        | 7/46 [00:09<01:07,  1.74s/it]"
     ]
    },
    {
     "name": "stdout",
     "output_type": "stream",
     "text": [
      "\n",
      "video4_019-008-video4_019-009: overlap = 0.0\n"
     ]
    },
    {
     "name": "stderr",
     "output_type": "stream",
     "text": [
      "\r",
      " 17%|█▋        | 8/46 [00:10<00:54,  1.43s/it]"
     ]
    },
    {
     "name": "stdout",
     "output_type": "stream",
     "text": [
      "\n",
      "mean_270619-video4_019-009_opened_cc29.png: too spherical 4.376993868188894\n",
      "\n",
      "mean_270619-video4_019-010_opened_cc05.png is INTERESTING\n",
      "\n",
      "video4_019-009-video4_019-010: overlap = 0.0\n"
     ]
    },
    {
     "name": "stderr",
     "output_type": "stream",
     "text": [
      "\r",
      " 20%|█▉        | 9/46 [00:12<01:01,  1.67s/it]"
     ]
    },
    {
     "name": "stdout",
     "output_type": "stream",
     "text": [
      "\n",
      "video4_019-009-video4_019-010: overlap = 0.0\n"
     ]
    },
    {
     "name": "stderr",
     "output_type": "stream",
     "text": [
      "\r",
      " 22%|██▏       | 10/46 [00:13<00:51,  1.42s/it]"
     ]
    },
    {
     "name": "stdout",
     "output_type": "stream",
     "text": [
      "\n",
      "mean_270619-video4_019-010_opened_cc47.png: too spherical 2.9725955475242833\n"
     ]
    },
    {
     "name": "stderr",
     "output_type": "stream",
     "text": [
      "\r",
      " 24%|██▍       | 11/46 [00:14<00:42,  1.21s/it]"
     ]
    },
    {
     "name": "stdout",
     "output_type": "stream",
     "text": [
      "\n",
      "mean_270619-video4_019-010_opened_cc56.png: too spherical 7.543110548982357\n"
     ]
    },
    {
     "name": "stderr",
     "output_type": "stream",
     "text": [
      "\r",
      " 26%|██▌       | 12/46 [00:14<00:36,  1.08s/it]"
     ]
    },
    {
     "name": "stdout",
     "output_type": "stream",
     "text": [
      "\n",
      "mean_270619-video4_019-010_opened_cc64.png: too spherical 9.131710727970836\n",
      "\n",
      "mean_270619-video4_019-011_opened_cc01.png is INTERESTING\n"
     ]
    },
    {
     "name": "stderr",
     "output_type": "stream",
     "text": [
      "\r",
      " 28%|██▊       | 13/46 [00:16<00:38,  1.16s/it]"
     ]
    },
    {
     "name": "stdout",
     "output_type": "stream",
     "text": [
      "\n",
      "video4_019-010-video4_019-011: overlap = 0.0\n"
     ]
    },
    {
     "name": "stderr",
     "output_type": "stream",
     "text": [
      "\r",
      " 30%|███       | 14/46 [00:17<00:33,  1.04s/it]"
     ]
    },
    {
     "name": "stdout",
     "output_type": "stream",
     "text": [
      "\n",
      "mean_270619-video4_019-011_opened_cc05.png: too spherical 7.632086120569518\n",
      "\n",
      "mean_270619-video4_019-011_opened_cc08.png is INTERESTING\n"
     ]
    },
    {
     "name": "stderr",
     "output_type": "stream",
     "text": [
      "\r",
      " 33%|███▎      | 15/46 [00:18<00:35,  1.16s/it]"
     ]
    },
    {
     "name": "stdout",
     "output_type": "stream",
     "text": [
      "\n",
      "video4_019-010-video4_019-011: overlap = 0.0\n"
     ]
    },
    {
     "name": "stderr",
     "output_type": "stream",
     "text": [
      "\r",
      " 35%|███▍      | 16/46 [00:19<00:30,  1.02s/it]"
     ]
    },
    {
     "name": "stdout",
     "output_type": "stream",
     "text": [
      "\n",
      "mean_270619-video4_019-011_opened_cc09.png: too spherical 3.571086816967602\n"
     ]
    },
    {
     "name": "stderr",
     "output_type": "stream",
     "text": [
      "\r",
      " 37%|███▋      | 17/46 [00:19<00:26,  1.08it/s]"
     ]
    },
    {
     "name": "stdout",
     "output_type": "stream",
     "text": [
      "\n",
      "mean_270619-video4_019-011_opened_cc25.png: too spherical 4.792813421353318\n"
     ]
    },
    {
     "name": "stderr",
     "output_type": "stream",
     "text": [
      "\r",
      " 39%|███▉      | 18/46 [00:20<00:23,  1.17it/s]"
     ]
    },
    {
     "name": "stdout",
     "output_type": "stream",
     "text": [
      "\n",
      "mean_270619-video4_019-011_opened_cc45.png: too spherical 5.20718533854095\n",
      "\n",
      "mean_270619-video4_019-011_opened_cc71.png is INTERESTING\n"
     ]
    },
    {
     "name": "stderr",
     "output_type": "stream",
     "text": [
      "\r",
      " 41%|████▏     | 19/46 [00:21<00:27,  1.01s/it]"
     ]
    },
    {
     "name": "stdout",
     "output_type": "stream",
     "text": [
      "\n",
      "video4_019-010-video4_019-011: overlap = 0.0\n"
     ]
    },
    {
     "name": "stderr",
     "output_type": "stream",
     "text": [
      "\r",
      " 43%|████▎     | 20/46 [00:22<00:23,  1.10it/s]"
     ]
    },
    {
     "name": "stdout",
     "output_type": "stream",
     "text": [
      "\n",
      "mean_270619-video4_019-016_opened_cc12.png: too spherical 6.672446240052536\n"
     ]
    },
    {
     "name": "stderr",
     "output_type": "stream",
     "text": [
      "\r",
      " 46%|████▌     | 21/46 [00:23<00:21,  1.16it/s]"
     ]
    },
    {
     "name": "stdout",
     "output_type": "stream",
     "text": [
      "\n",
      "mean_270619-video4_019-016_opened_cc16.png: too spherical 7.660305565155489\n"
     ]
    },
    {
     "name": "stderr",
     "output_type": "stream",
     "text": [
      "\r",
      " 48%|████▊     | 22/46 [00:24<00:19,  1.22it/s]"
     ]
    },
    {
     "name": "stdout",
     "output_type": "stream",
     "text": [
      "\n",
      "mean_270619-video4_019-016_opened_cc25.png: too spherical 6.12323882980719\n"
     ]
    },
    {
     "name": "stderr",
     "output_type": "stream",
     "text": [
      "\r",
      " 50%|█████     | 23/46 [00:24<00:18,  1.24it/s]"
     ]
    },
    {
     "name": "stdout",
     "output_type": "stream",
     "text": [
      "\n",
      "mean_270619-video4_019-016_opened_cc30.png is INTERESTING\n"
     ]
    },
    {
     "name": "stderr",
     "output_type": "stream",
     "text": [
      "\r",
      " 52%|█████▏    | 24/46 [00:25<00:17,  1.29it/s]"
     ]
    },
    {
     "name": "stdout",
     "output_type": "stream",
     "text": [
      "\n",
      "mean_270619-video4_019-016_opened_cc53.png is INTERESTING\n"
     ]
    },
    {
     "name": "stderr",
     "output_type": "stream",
     "text": [
      "\r",
      " 54%|█████▍    | 25/46 [00:26<00:16,  1.31it/s]"
     ]
    },
    {
     "name": "stdout",
     "output_type": "stream",
     "text": [
      "\n",
      "mean_270619-video4_019-017_opened_cc06.png: too spherical 1.9826678477223436\n",
      "\n",
      "mean_270619-video4_019-017_opened_cc15.png is INTERESTING\n",
      "\n",
      "video4_019-016-video4_019-017: overlap = 0.0\n"
     ]
    },
    {
     "name": "stderr",
     "output_type": "stream",
     "text": [
      "\r",
      " 57%|█████▋    | 26/46 [00:28<00:23,  1.18s/it]"
     ]
    },
    {
     "name": "stdout",
     "output_type": "stream",
     "text": [
      "\n",
      "video4_019-016-video4_019-017: overlap = 0.0\n"
     ]
    },
    {
     "name": "stderr",
     "output_type": "stream",
     "text": [
      "\r",
      " 59%|█████▊    | 27/46 [00:29<00:19,  1.04s/it]"
     ]
    },
    {
     "name": "stdout",
     "output_type": "stream",
     "text": [
      "\n",
      "mean_270619-video4_019-017_opened_cc17.png: too spherical 6.240680402494383\n",
      "\n",
      "mean_270619-video4_019-017_opened_cc31.png is INTERESTING\n"
     ]
    },
    {
     "name": "stderr",
     "output_type": "stream",
     "text": [
      "\r",
      " 61%|██████    | 28/46 [00:30<00:21,  1.17s/it]"
     ]
    },
    {
     "name": "stdout",
     "output_type": "stream",
     "text": [
      "\n",
      "video4_019-016-video4_019-017: overlap = 0.7690974371672651\n",
      "\n",
      "mean_270619-video4_019-017_opened_cc68.png is INTERESTING\n"
     ]
    },
    {
     "name": "stderr",
     "output_type": "stream",
     "text": [
      "\r",
      " 63%|██████▎   | 29/46 [00:31<00:20,  1.21s/it]"
     ]
    },
    {
     "name": "stdout",
     "output_type": "stream",
     "text": [
      "\n",
      "video4_019-016-video4_019-017: overlap = 0.0\n",
      "\n",
      "mean_270619-video4_019-018_opened_cc11.png is INTERESTING\n",
      "\n",
      "video4_019-017-video4_019-018: overlap = 0.0\n",
      "\n",
      "video4_019-017-video4_019-018: overlap = 0.0\n"
     ]
    },
    {
     "name": "stderr",
     "output_type": "stream",
     "text": [
      "\r",
      " 65%|██████▌   | 30/46 [00:34<00:27,  1.71s/it]"
     ]
    },
    {
     "name": "stdout",
     "output_type": "stream",
     "text": [
      "\n",
      "video4_019-017-video4_019-018: overlap = 0.0\n",
      "\n",
      "mean_270619-video4_019-009_opened_cc59.png is INTERESTING\n",
      "\n",
      "video4_019-008-video4_019-009: overlap = 0.0\n",
      "\n",
      "video4_019-008-video4_019-009: overlap = 0.0\n"
     ]
    },
    {
     "name": "stderr",
     "output_type": "stream",
     "text": [
      "\r",
      " 67%|██████▋   | 31/46 [00:37<00:30,  2.04s/it]"
     ]
    },
    {
     "name": "stdout",
     "output_type": "stream",
     "text": [
      "\n",
      "video4_019-008-video4_019-009: overlap = 0.024191427820141942\n"
     ]
    },
    {
     "name": "stderr",
     "output_type": "stream",
     "text": [
      "\r",
      " 70%|██████▉   | 32/46 [00:38<00:23,  1.67s/it]"
     ]
    },
    {
     "name": "stdout",
     "output_type": "stream",
     "text": [
      "\n",
      "mean_270619-video4_019-011_opened_cc82.png: too spherical 2.408587316183221\n"
     ]
    },
    {
     "name": "stderr",
     "output_type": "stream",
     "text": [
      "\r",
      " 72%|███████▏  | 33/46 [00:39<00:18,  1.39s/it]"
     ]
    },
    {
     "name": "stdout",
     "output_type": "stream",
     "text": [
      "\n",
      "mean_270619-video4_019-018_opened_cc12.png: too spherical 2.620095155581288\n",
      "\n",
      "mean_270619-video4_019-018_opened_cc45.png is INTERESTING\n"
     ]
    },
    {
     "name": "stderr",
     "output_type": "stream",
     "text": [
      "\r",
      " 74%|███████▍  | 34/46 [00:40<00:17,  1.44s/it]"
     ]
    },
    {
     "name": "stdout",
     "output_type": "stream",
     "text": [
      "\n",
      "video4_019-017-video4_019-018: overlap = 0.6906154274575327\n"
     ]
    },
    {
     "name": "stderr",
     "output_type": "stream",
     "text": [
      "\r",
      " 76%|███████▌  | 35/46 [00:41<00:13,  1.23s/it]"
     ]
    },
    {
     "name": "stdout",
     "output_type": "stream",
     "text": [
      "\n",
      "mean_270619-video4_019-018_opened_cc84.png: too spherical 4.928839905306059\n",
      "\n",
      "mean_270619-video4_019-018_opened_cc90.png is INTERESTING\n",
      "\n",
      "video4_019-017-video4_019-018: overlap = 0.0\n"
     ]
    },
    {
     "name": "stderr",
     "output_type": "stream",
     "text": [
      "\r",
      " 78%|███████▊  | 36/46 [00:43<00:14,  1.49s/it]"
     ]
    },
    {
     "name": "stdout",
     "output_type": "stream",
     "text": [
      "\n",
      "video4_019-017-video4_019-018: overlap = 0.6407382992748847\n"
     ]
    },
    {
     "name": "stderr",
     "output_type": "stream",
     "text": [
      "\r",
      " 80%|████████  | 37/46 [00:44<00:11,  1.26s/it]"
     ]
    },
    {
     "name": "stdout",
     "output_type": "stream",
     "text": [
      "\n",
      "mean_270619-video4_019-026_opened_cc02.png: too spherical 9.705797255445285\n"
     ]
    },
    {
     "name": "stderr",
     "output_type": "stream",
     "text": [
      "\r",
      " 83%|████████▎ | 38/46 [00:45<00:08,  1.11s/it]"
     ]
    },
    {
     "name": "stdout",
     "output_type": "stream",
     "text": [
      "\n",
      "mean_270619-video4_019-026_opened_cc08.png is INTERESTING\n"
     ]
    },
    {
     "name": "stderr",
     "output_type": "stream",
     "text": [
      "\r",
      " 85%|████████▍ | 39/46 [00:45<00:06,  1.00it/s]"
     ]
    },
    {
     "name": "stdout",
     "output_type": "stream",
     "text": [
      "\n",
      "mean_270619-video4_019-026_opened_cc10.png is INTERESTING\n"
     ]
    },
    {
     "name": "stderr",
     "output_type": "stream",
     "text": [
      "\r",
      " 87%|████████▋ | 40/46 [00:46<00:05,  1.09it/s]"
     ]
    },
    {
     "name": "stdout",
     "output_type": "stream",
     "text": [
      "\n",
      "mean_270619-video4_019-027_opened_cc02.png: too spherical 9.371291224570871\n",
      "\n",
      "mean_270619-video4_019-027_opened_cc05.png is INTERESTING\n",
      "\n",
      "video4_019-026-video4_019-027: overlap = 0.0\n"
     ]
    },
    {
     "name": "stderr",
     "output_type": "stream",
     "text": [
      "\r",
      " 89%|████████▉ | 41/46 [00:48<00:06,  1.28s/it]"
     ]
    },
    {
     "name": "stdout",
     "output_type": "stream",
     "text": [
      "\n",
      "video4_019-026-video4_019-027: overlap = 0.0\n",
      "\n",
      "mean_270619-video4_019-027_opened_cc14.png is INTERESTING\n",
      "\n",
      "video4_019-026-video4_019-027: overlap = 0.40479715724015397\n"
     ]
    },
    {
     "name": "stderr",
     "output_type": "stream",
     "text": [
      "\r",
      " 91%|█████████▏| 42/46 [00:50<00:06,  1.53s/it]"
     ]
    },
    {
     "name": "stdout",
     "output_type": "stream",
     "text": [
      "\n",
      "video4_019-026-video4_019-027: overlap = 0.0\n"
     ]
    },
    {
     "name": "stderr",
     "output_type": "stream",
     "text": [
      "\r",
      " 93%|█████████▎| 43/46 [00:51<00:03,  1.32s/it]"
     ]
    },
    {
     "name": "stdout",
     "output_type": "stream",
     "text": [
      "\n",
      "mean_270619-video4_019-038_opened_cc15.png: too spherical 5.458562237104352\n"
     ]
    },
    {
     "name": "stderr",
     "output_type": "stream",
     "text": [
      "\r",
      " 96%|█████████▌| 44/46 [00:52<00:02,  1.14s/it]"
     ]
    },
    {
     "name": "stdout",
     "output_type": "stream",
     "text": [
      "\n",
      "mean_270619-video4_019-038_opened_cc34.png is INTERESTING\n"
     ]
    },
    {
     "name": "stderr",
     "output_type": "stream",
     "text": [
      "\r",
      " 98%|█████████▊| 45/46 [00:53<00:01,  1.02s/it]"
     ]
    },
    {
     "name": "stdout",
     "output_type": "stream",
     "text": [
      "\n",
      "mean_270619-video4_019-038_opened_cc56.png is INTERESTING\n"
     ]
    },
    {
     "name": "stderr",
     "output_type": "stream",
     "text": [
      "100%|██████████| 46/46 [00:53<00:00,  1.07it/s]\n",
      "  0%|          | 0/82 [00:00<?, ?it/s]"
     ]
    },
    {
     "name": "stdout",
     "output_type": "stream",
     "text": [
      "\n",
      "mean_270619-video4_019-038_opened_cc57.png is INTERESTING\n",
      "found video4_020/trigger_thr0.005_cl9_op3/cc_filtered_2den0.81_gausrad2.0/\n"
     ]
    },
    {
     "name": "stderr",
     "output_type": "stream",
     "text": [
      "\r",
      "  1%|          | 1/82 [00:00<00:56,  1.42it/s]"
     ]
    },
    {
     "name": "stdout",
     "output_type": "stream",
     "text": [
      "\n",
      "mean_270619-video4_020-004_opened_cc07.png is INTERESTING\n"
     ]
    },
    {
     "name": "stderr",
     "output_type": "stream",
     "text": [
      "\r",
      "  2%|▏         | 2/82 [00:01<00:56,  1.42it/s]"
     ]
    },
    {
     "name": "stdout",
     "output_type": "stream",
     "text": [
      "\n",
      "mean_270619-video4_020-004_opened_cc08.png is INTERESTING\n"
     ]
    },
    {
     "name": "stderr",
     "output_type": "stream",
     "text": [
      "\r",
      "  4%|▎         | 3/82 [00:02<00:56,  1.41it/s]"
     ]
    },
    {
     "name": "stdout",
     "output_type": "stream",
     "text": [
      "\n",
      "mean_270619-video4_020-004_opened_cc16.png: too spherical 4.648017015831093\n"
     ]
    },
    {
     "name": "stderr",
     "output_type": "stream",
     "text": [
      "\r",
      "  5%|▍         | 4/82 [00:02<00:55,  1.40it/s]"
     ]
    },
    {
     "name": "stdout",
     "output_type": "stream",
     "text": [
      "\n",
      "mean_270619-video4_020-007_opened_cc12.png is INTERESTING\n"
     ]
    },
    {
     "name": "stderr",
     "output_type": "stream",
     "text": [
      "\r",
      "  6%|▌         | 5/82 [00:03<00:54,  1.40it/s]"
     ]
    },
    {
     "name": "stdout",
     "output_type": "stream",
     "text": [
      "\n",
      "mean_270619-video4_020-007_opened_cc28.png: too spherical 7.355571838657757\n"
     ]
    },
    {
     "name": "stderr",
     "output_type": "stream",
     "text": [
      "\r",
      "  7%|▋         | 6/82 [00:04<00:54,  1.41it/s]"
     ]
    },
    {
     "name": "stdout",
     "output_type": "stream",
     "text": [
      "\n",
      "mean_270619-video4_020-007_opened_cc40.png: too spherical 6.17889768084244\n"
     ]
    },
    {
     "name": "stderr",
     "output_type": "stream",
     "text": [
      "\r",
      "  9%|▊         | 7/82 [00:04<00:53,  1.40it/s]"
     ]
    },
    {
     "name": "stdout",
     "output_type": "stream",
     "text": [
      "\n",
      "mean_270619-video4_020-007_opened_cc43.png: too spherical 4.914693925217596\n"
     ]
    },
    {
     "name": "stderr",
     "output_type": "stream",
     "text": [
      "\r",
      " 10%|▉         | 8/82 [00:05<00:53,  1.38it/s]"
     ]
    },
    {
     "name": "stdout",
     "output_type": "stream",
     "text": [
      "\n",
      "mean_270619-video4_020-007_opened_cc58.png is INTERESTING\n"
     ]
    },
    {
     "name": "stderr",
     "output_type": "stream",
     "text": [
      "\r",
      " 11%|█         | 9/82 [00:06<00:52,  1.38it/s]"
     ]
    },
    {
     "name": "stdout",
     "output_type": "stream",
     "text": [
      "\n",
      "mean_270619-video4_020-007_opened_cc62.png: too spherical 2.2561693651850168\n"
     ]
    },
    {
     "name": "stderr",
     "output_type": "stream",
     "text": [
      "\r",
      " 12%|█▏        | 10/82 [00:07<00:51,  1.39it/s]"
     ]
    },
    {
     "name": "stdout",
     "output_type": "stream",
     "text": [
      "\n",
      "mean_270619-video4_020-007_opened_cc95.png: too spherical 3.9436448125081185\n",
      "\n",
      "mean_270619-video4_020-008_opened_cc01.png is INTERESTING\n",
      "\n",
      "video4_020-007-video4_020-008: overlap = 0.0\n"
     ]
    },
    {
     "name": "stderr",
     "output_type": "stream",
     "text": [
      "\r",
      " 13%|█▎        | 11/82 [00:09<01:18,  1.10s/it]"
     ]
    },
    {
     "name": "stdout",
     "output_type": "stream",
     "text": [
      "\n",
      "video4_020-007-video4_020-008: overlap = 0.0\n"
     ]
    },
    {
     "name": "stderr",
     "output_type": "stream",
     "text": [
      "\r",
      " 15%|█▍        | 12/82 [00:09<01:09,  1.00it/s]"
     ]
    },
    {
     "name": "stdout",
     "output_type": "stream",
     "text": [
      "\n",
      "mean_270619-video4_020-008_opened_cc06.png: too spherical 2.53508618800182\n"
     ]
    },
    {
     "name": "stderr",
     "output_type": "stream",
     "text": [
      "\r",
      " 16%|█▌        | 13/82 [00:10<01:03,  1.08it/s]"
     ]
    },
    {
     "name": "stdout",
     "output_type": "stream",
     "text": [
      "\n",
      "mean_270619-video4_020-008_opened_cc07.png: too spherical 2.0250355298603857\n",
      "\n",
      "mean_270619-video4_020-008_opened_cc09.png is INTERESTING\n",
      "\n",
      "video4_020-007-video4_020-008: overlap = 0.0\n"
     ]
    },
    {
     "name": "stderr",
     "output_type": "stream",
     "text": [
      "\r",
      " 17%|█▋        | 14/82 [00:12<01:25,  1.26s/it]"
     ]
    },
    {
     "name": "stdout",
     "output_type": "stream",
     "text": [
      "\n",
      "video4_020-007-video4_020-008: overlap = 0.0\n"
     ]
    },
    {
     "name": "stderr",
     "output_type": "stream",
     "text": [
      "\r",
      " 18%|█▊        | 15/82 [00:13<01:14,  1.11s/it]"
     ]
    },
    {
     "name": "stdout",
     "output_type": "stream",
     "text": [
      "\n",
      "mean_270619-video4_020-008_opened_cc24.png: too spherical 2.3737089745393845\n"
     ]
    },
    {
     "name": "stderr",
     "output_type": "stream",
     "text": [
      "\r",
      " 20%|█▉        | 16/82 [00:14<01:05,  1.01it/s]"
     ]
    },
    {
     "name": "stdout",
     "output_type": "stream",
     "text": [
      "\n",
      "mean_270619-video4_020-008_opened_cc33.png: too spherical 3.8985253936157642\n"
     ]
    },
    {
     "name": "stderr",
     "output_type": "stream",
     "text": [
      "\r",
      " 21%|██        | 17/82 [00:14<01:00,  1.08it/s]"
     ]
    },
    {
     "name": "stdout",
     "output_type": "stream",
     "text": [
      "\n",
      "mean_270619-video4_020-008_opened_cc37.png: too spherical 6.4750037281431565\n"
     ]
    },
    {
     "name": "stderr",
     "output_type": "stream",
     "text": [
      "\r",
      " 22%|██▏       | 18/82 [00:15<00:55,  1.15it/s]"
     ]
    },
    {
     "name": "stdout",
     "output_type": "stream",
     "text": [
      "\n",
      "mean_270619-video4_020-008_opened_cc38.png: too spherical 6.93557704135151\n"
     ]
    },
    {
     "name": "stderr",
     "output_type": "stream",
     "text": [
      "\r",
      " 23%|██▎       | 19/82 [00:16<00:54,  1.15it/s]"
     ]
    },
    {
     "name": "stdout",
     "output_type": "stream",
     "text": [
      "\n",
      "mean_270619-video4_020-008_opened_cc45.png: too spherical 1.2082711328786393\n"
     ]
    },
    {
     "name": "stderr",
     "output_type": "stream",
     "text": [
      "\r",
      " 24%|██▍       | 20/82 [00:17<00:52,  1.19it/s]"
     ]
    },
    {
     "name": "stdout",
     "output_type": "stream",
     "text": [
      "\n",
      "mean_270619-video4_020-008_opened_cc62.png: too spherical 5.151117986551835\n"
     ]
    },
    {
     "name": "stderr",
     "output_type": "stream",
     "text": [
      "\r",
      " 26%|██▌       | 21/82 [1:00:29<18:22:23, 1084.31s/it]"
     ]
    },
    {
     "name": "stdout",
     "output_type": "stream",
     "text": [
      "\n",
      "mean_270619-video4_020-008_opened_cc68.png: too spherical 5.230995846145188\n"
     ]
    },
    {
     "name": "stderr",
     "output_type": "stream",
     "text": [
      "\r",
      " 27%|██▋       | 22/82 [1:00:30<12:39:13, 759.23s/it] "
     ]
    },
    {
     "name": "stdout",
     "output_type": "stream",
     "text": [
      "\n",
      "mean_270619-video4_020-008_opened_cc78.png: too spherical 2.6177252090524736\n"
     ]
    },
    {
     "name": "stderr",
     "output_type": "stream",
     "text": [
      "\r",
      " 28%|██▊       | 23/82 [1:00:31<8:42:48, 531.67s/it] "
     ]
    },
    {
     "name": "stdout",
     "output_type": "stream",
     "text": [
      "\n",
      "mean_270619-video4_020-008_opened_cc91.png: too spherical 5.401953730804237\n"
     ]
    },
    {
     "name": "stderr",
     "output_type": "stream",
     "text": [
      "\r",
      " 29%|██▉       | 24/82 [1:00:31<5:59:59, 372.41s/it]"
     ]
    },
    {
     "name": "stdout",
     "output_type": "stream",
     "text": [
      "\n",
      "mean_270619-video4_020-037_opened_cc02.png: too spherical 8.585663715967382\n"
     ]
    },
    {
     "name": "stderr",
     "output_type": "stream",
     "text": [
      "\r",
      " 30%|███       | 25/82 [1:00:32<4:07:51, 260.90s/it]"
     ]
    },
    {
     "name": "stdout",
     "output_type": "stream",
     "text": [
      "\n",
      "mean_270619-video4_020-037_opened_cc06.png: too spherical 6.051640790591815\n",
      "\n",
      "mean_270619-video4_020-005_opened_cc11.png is INTERESTING\n",
      "\n",
      "video4_020-004-video4_020-005: overlap = 0.0\n"
     ]
    },
    {
     "name": "stderr",
     "output_type": "stream",
     "text": [
      "\r",
      " 32%|███▏      | 26/82 [1:00:34<2:51:02, 183.26s/it]"
     ]
    },
    {
     "name": "stdout",
     "output_type": "stream",
     "text": [
      "\n",
      "video4_020-004-video4_020-005: overlap = 0.5050426687354539\n"
     ]
    },
    {
     "name": "stderr",
     "output_type": "stream",
     "text": [
      "\r",
      " 33%|███▎      | 27/82 [1:00:35<1:57:48, 128.53s/it]"
     ]
    },
    {
     "name": "stdout",
     "output_type": "stream",
     "text": [
      "\n",
      "mean_270619-video4_020-007_opened_cc07.png: too spherical 1.803762655683313\n"
     ]
    },
    {
     "name": "stderr",
     "output_type": "stream",
     "text": [
      "\r",
      " 34%|███▍      | 28/82 [1:00:36<1:21:10, 90.20s/it] "
     ]
    },
    {
     "name": "stdout",
     "output_type": "stream",
     "text": [
      "\n",
      "mean_270619-video4_020-008_opened_cc12.png: too spherical 3.939549051842118\n"
     ]
    },
    {
     "name": "stderr",
     "output_type": "stream",
     "text": [
      "\r",
      " 35%|███▌      | 29/82 [1:00:37<55:59, 63.38s/it]  "
     ]
    },
    {
     "name": "stdout",
     "output_type": "stream",
     "text": [
      "\n",
      "mean_270619-video4_020-037_opened_cc10.png: too spherical 1.5785287178794893\n"
     ]
    },
    {
     "name": "stderr",
     "output_type": "stream",
     "text": [
      "\r",
      " 37%|███▋      | 30/82 [1:00:37<38:39, 44.61s/it]"
     ]
    },
    {
     "name": "stdout",
     "output_type": "stream",
     "text": [
      "\n",
      "mean_270619-video4_020-044_opened_cc18.png: too spherical 8.36323993746297\n"
     ]
    },
    {
     "name": "stderr",
     "output_type": "stream",
     "text": [
      "\r",
      " 38%|███▊      | 31/82 [1:00:38<26:43, 31.45s/it]"
     ]
    },
    {
     "name": "stdout",
     "output_type": "stream",
     "text": [
      "\n",
      "mean_270619-video4_020-045_opened_cc67.png: too spherical 4.35343751122508\n"
     ]
    },
    {
     "name": "stderr",
     "output_type": "stream",
     "text": [
      "\r",
      " 39%|███▉      | 32/82 [1:00:39<18:32, 22.26s/it]"
     ]
    },
    {
     "name": "stdout",
     "output_type": "stream",
     "text": [
      "\n",
      "mean_270619-video4_020-037_opened_cc20.png is INTERESTING\n"
     ]
    },
    {
     "name": "stderr",
     "output_type": "stream",
     "text": [
      "\r",
      " 40%|████      | 33/82 [1:00:40<12:55, 15.82s/it]"
     ]
    },
    {
     "name": "stdout",
     "output_type": "stream",
     "text": [
      "\n",
      "mean_270619-video4_020-037_opened_cc24.png is INTERESTING\n"
     ]
    },
    {
     "name": "stderr",
     "output_type": "stream",
     "text": [
      "\r",
      " 41%|████▏     | 34/82 [1:00:41<09:01, 11.29s/it]"
     ]
    },
    {
     "name": "stdout",
     "output_type": "stream",
     "text": [
      "\n",
      "mean_270619-video4_020-037_opened_cc29.png: too spherical 1.1242661864647379\n"
     ]
    },
    {
     "name": "stderr",
     "output_type": "stream",
     "text": [
      "\r",
      " 43%|████▎     | 35/82 [1:00:41<06:23,  8.15s/it]"
     ]
    },
    {
     "name": "stdout",
     "output_type": "stream",
     "text": [
      "\n",
      "mean_270619-video4_020-037_opened_cc38.png is INTERESTING\n"
     ]
    },
    {
     "name": "stderr",
     "output_type": "stream",
     "text": [
      "\r",
      " 44%|████▍     | 36/82 [1:00:42<04:33,  5.93s/it]"
     ]
    },
    {
     "name": "stdout",
     "output_type": "stream",
     "text": [
      "\n",
      "mean_270619-video4_020-037_opened_cc39.png is INTERESTING\n"
     ]
    },
    {
     "name": "stderr",
     "output_type": "stream",
     "text": [
      "\r",
      " 45%|████▌     | 37/82 [1:00:43<03:16,  4.37s/it]"
     ]
    },
    {
     "name": "stdout",
     "output_type": "stream",
     "text": [
      "\n",
      "mean_270619-video4_020-037_opened_cc43.png: too spherical 5.036048851829926\n"
     ]
    },
    {
     "name": "stderr",
     "output_type": "stream",
     "text": [
      "\r",
      " 46%|████▋     | 38/82 [1:00:44<02:24,  3.29s/it]"
     ]
    },
    {
     "name": "stdout",
     "output_type": "stream",
     "text": [
      "\n",
      "mean_270619-video4_020-037_opened_cc44.png is INTERESTING\n"
     ]
    },
    {
     "name": "stderr",
     "output_type": "stream",
     "text": [
      "\r",
      " 48%|████▊     | 39/82 [1:00:44<01:49,  2.54s/it]"
     ]
    },
    {
     "name": "stdout",
     "output_type": "stream",
     "text": [
      "\n",
      "mean_270619-video4_020-037_opened_cc46.png is INTERESTING\n"
     ]
    },
    {
     "name": "stderr",
     "output_type": "stream",
     "text": [
      "\r",
      " 49%|████▉     | 40/82 [1:00:45<01:23,  1.99s/it]"
     ]
    },
    {
     "name": "stdout",
     "output_type": "stream",
     "text": [
      "\n",
      "mean_270619-video4_020-037_opened_cc70.png: too spherical 7.429334792411184\n"
     ]
    },
    {
     "name": "stderr",
     "output_type": "stream",
     "text": [
      "\r",
      " 50%|█████     | 41/82 [1:00:46<01:06,  1.61s/it]"
     ]
    },
    {
     "name": "stdout",
     "output_type": "stream",
     "text": [
      "\n",
      "mean_270619-video4_020-037_opened_cc73.png: too spherical 2.8469071351651456\n"
     ]
    },
    {
     "name": "stderr",
     "output_type": "stream",
     "text": [
      "\r",
      " 51%|█████     | 42/82 [1:00:47<00:54,  1.36s/it]"
     ]
    },
    {
     "name": "stdout",
     "output_type": "stream",
     "text": [
      "\n",
      "mean_270619-video4_020-037_opened_cc88.png is INTERESTING\n"
     ]
    },
    {
     "name": "stderr",
     "output_type": "stream",
     "text": [
      "\r",
      " 52%|█████▏    | 43/82 [1:00:47<00:46,  1.19s/it]"
     ]
    },
    {
     "name": "stdout",
     "output_type": "stream",
     "text": [
      "\n",
      "mean_270619-video4_020-044_opened_cc29.png: too spherical 5.18770185657671\n"
     ]
    },
    {
     "name": "stderr",
     "output_type": "stream",
     "text": [
      "\r",
      " 54%|█████▎    | 44/82 [1:00:48<00:39,  1.04s/it]"
     ]
    },
    {
     "name": "stdout",
     "output_type": "stream",
     "text": [
      "\n",
      "mean_270619-video4_020-044_opened_cc37.png is INTERESTING\n"
     ]
    },
    {
     "name": "stderr",
     "output_type": "stream",
     "text": [
      "\r",
      " 55%|█████▍    | 45/82 [1:00:49<00:36,  1.01it/s]"
     ]
    },
    {
     "name": "stdout",
     "output_type": "stream",
     "text": [
      "\n",
      "mean_270619-video4_020-045_opened_cc02.png: too spherical 8.334133049019215\n"
     ]
    },
    {
     "name": "stderr",
     "output_type": "stream",
     "text": [
      "\r",
      " 56%|█████▌    | 46/82 [1:00:50<00:35,  1.03it/s]"
     ]
    },
    {
     "name": "stdout",
     "output_type": "stream",
     "text": [
      "\n",
      "mean_270619-video4_020-045_opened_cc05.png: too spherical 2.411593719905967\n"
     ]
    },
    {
     "name": "stderr",
     "output_type": "stream",
     "text": [
      "\r",
      " 57%|█████▋    | 47/82 [1:00:51<00:32,  1.07it/s]"
     ]
    },
    {
     "name": "stdout",
     "output_type": "stream",
     "text": [
      "\n",
      "mean_270619-video4_020-045_opened_cc07.png: too spherical 2.5304286081575738\n"
     ]
    },
    {
     "name": "stderr",
     "output_type": "stream",
     "text": [
      "\r",
      " 59%|█████▊    | 48/82 [1:00:51<00:29,  1.15it/s]"
     ]
    },
    {
     "name": "stdout",
     "output_type": "stream",
     "text": [
      "\n",
      "mean_270619-video4_020-045_opened_cc08.png: too spherical 3.3855438248201475\n"
     ]
    },
    {
     "name": "stderr",
     "output_type": "stream",
     "text": [
      "\r",
      " 60%|█████▉    | 49/82 [1:00:52<00:27,  1.20it/s]"
     ]
    },
    {
     "name": "stdout",
     "output_type": "stream",
     "text": [
      "\n",
      "mean_270619-video4_020-045_opened_cc18.png: too spherical 4.271371562594301\n"
     ]
    },
    {
     "name": "stderr",
     "output_type": "stream",
     "text": [
      "\r",
      " 61%|██████    | 50/82 [1:00:53<00:26,  1.20it/s]"
     ]
    },
    {
     "name": "stdout",
     "output_type": "stream",
     "text": [
      "\n",
      "mean_270619-video4_020-045_opened_cc27.png: too spherical 3.2674777482788375\n"
     ]
    },
    {
     "name": "stderr",
     "output_type": "stream",
     "text": [
      "\r",
      " 62%|██████▏   | 51/82 [1:00:54<00:24,  1.25it/s]"
     ]
    },
    {
     "name": "stdout",
     "output_type": "stream",
     "text": [
      "\n",
      "mean_270619-video4_020-045_opened_cc32.png: too spherical 3.1630312489537773\n"
     ]
    },
    {
     "name": "stderr",
     "output_type": "stream",
     "text": [
      "\r",
      " 63%|██████▎   | 52/82 [1:00:55<00:23,  1.29it/s]"
     ]
    },
    {
     "name": "stdout",
     "output_type": "stream",
     "text": [
      "\n",
      "mean_270619-video4_020-045_opened_cc58.png: too spherical 3.423521658230566\n"
     ]
    },
    {
     "name": "stderr",
     "output_type": "stream",
     "text": [
      "\r",
      " 65%|██████▍   | 53/82 [1:00:55<00:22,  1.32it/s]"
     ]
    },
    {
     "name": "stdout",
     "output_type": "stream",
     "text": [
      "\n",
      "mean_270619-video4_020-045_opened_cc65.png: too spherical 7.992892630485058\n"
     ]
    },
    {
     "name": "stderr",
     "output_type": "stream",
     "text": [
      "\r",
      " 66%|██████▌   | 54/82 [1:00:56<00:20,  1.34it/s]"
     ]
    },
    {
     "name": "stdout",
     "output_type": "stream",
     "text": [
      "\n",
      "mean_270619-video4_020-045_opened_cc71.png: too spherical 5.775858271069943\n"
     ]
    },
    {
     "name": "stderr",
     "output_type": "stream",
     "text": [
      "\r",
      " 67%|██████▋   | 55/82 [1:00:57<00:20,  1.35it/s]"
     ]
    },
    {
     "name": "stdout",
     "output_type": "stream",
     "text": [
      "\n",
      "mean_270619-video4_020-046_opened_cc02.png: too spherical 2.733190464830552\n"
     ]
    },
    {
     "name": "stderr",
     "output_type": "stream",
     "text": [
      "\r",
      " 68%|██████▊   | 56/82 [1:00:57<00:19,  1.36it/s]"
     ]
    },
    {
     "name": "stdout",
     "output_type": "stream",
     "text": [
      "\n",
      "mean_270619-video4_020-046_opened_cc03.png: too spherical 6.368804954664817\n"
     ]
    },
    {
     "name": "stderr",
     "output_type": "stream",
     "text": [
      "\r",
      " 70%|██████▉   | 57/82 [1:00:58<00:18,  1.35it/s]"
     ]
    },
    {
     "name": "stdout",
     "output_type": "stream",
     "text": [
      "\n",
      "mean_270619-video4_020-046_opened_cc04.png is INTERESTING\n"
     ]
    },
    {
     "name": "stderr",
     "output_type": "stream",
     "text": [
      "\r",
      " 71%|███████   | 58/82 [1:00:59<00:17,  1.34it/s]"
     ]
    },
    {
     "name": "stdout",
     "output_type": "stream",
     "text": [
      "\n",
      "mean_270619-video4_020-046_opened_cc06.png: too crowded: 4.615354938271605\n"
     ]
    },
    {
     "name": "stderr",
     "output_type": "stream",
     "text": [
      "\r",
      " 72%|███████▏  | 59/82 [1:01:00<00:16,  1.36it/s]"
     ]
    },
    {
     "name": "stdout",
     "output_type": "stream",
     "text": [
      "\n",
      "mean_270619-video4_020-046_opened_cc10.png: too spherical 4.095549383164796\n"
     ]
    },
    {
     "name": "stderr",
     "output_type": "stream",
     "text": [
      "\r",
      " 73%|███████▎  | 60/82 [1:01:00<00:16,  1.37it/s]"
     ]
    },
    {
     "name": "stdout",
     "output_type": "stream",
     "text": [
      "\n",
      "mean_270619-video4_020-046_opened_cc19.png: too spherical 6.931486561224436\n"
     ]
    },
    {
     "name": "stderr",
     "output_type": "stream",
     "text": [
      "\r",
      " 74%|███████▍  | 61/82 [1:01:01<00:15,  1.37it/s]"
     ]
    },
    {
     "name": "stdout",
     "output_type": "stream",
     "text": [
      "\n",
      "mean_270619-video4_020-046_opened_cc21.png: too spherical 1.7796820379645133\n"
     ]
    },
    {
     "name": "stderr",
     "output_type": "stream",
     "text": [
      "\r",
      " 76%|███████▌  | 62/82 [1:01:02<00:14,  1.38it/s]"
     ]
    },
    {
     "name": "stdout",
     "output_type": "stream",
     "text": [
      "\n",
      "mean_270619-video4_020-046_opened_cc34.png: too spherical 4.244004658617441\n"
     ]
    },
    {
     "name": "stderr",
     "output_type": "stream",
     "text": [
      "\r",
      " 77%|███████▋  | 63/82 [1:01:02<00:13,  1.39it/s]"
     ]
    },
    {
     "name": "stdout",
     "output_type": "stream",
     "text": [
      "\n",
      "mean_270619-video4_020-046_opened_cc47.png is INTERESTING\n"
     ]
    },
    {
     "name": "stderr",
     "output_type": "stream",
     "text": [
      "\r",
      " 78%|███████▊  | 64/82 [1:01:03<00:12,  1.39it/s]"
     ]
    },
    {
     "name": "stdout",
     "output_type": "stream",
     "text": [
      "\n",
      "mean_270619-video4_020-046_opened_cc51.png: too spherical 4.048981046588591\n"
     ]
    },
    {
     "name": "stderr",
     "output_type": "stream",
     "text": [
      "\r",
      " 79%|███████▉  | 65/82 [1:01:04<00:12,  1.40it/s]"
     ]
    },
    {
     "name": "stdout",
     "output_type": "stream",
     "text": [
      "\n",
      "mean_270619-video4_020-046_opened_cc53.png: too spherical 2.692060029557187\n"
     ]
    },
    {
     "name": "stderr",
     "output_type": "stream",
     "text": [
      "\r",
      " 80%|████████  | 66/82 [1:01:05<00:11,  1.38it/s]"
     ]
    },
    {
     "name": "stdout",
     "output_type": "stream",
     "text": [
      "\n",
      "mean_270619-video4_020-046_opened_cc55.png: too spherical 3.1262492623867906\n",
      "\n",
      "mean_270619-video4_020-005_opened_cc27.png is INTERESTING\n"
     ]
    },
    {
     "name": "stderr",
     "output_type": "stream",
     "text": [
      "\r",
      " 82%|████████▏ | 67/82 [1:01:06<00:14,  1.04it/s]"
     ]
    },
    {
     "name": "stdout",
     "output_type": "stream",
     "text": [
      "\n",
      "video4_020-004-video4_020-005: overlap = 0.0\n"
     ]
    },
    {
     "name": "stderr",
     "output_type": "stream",
     "text": [
      "\r",
      " 83%|████████▎ | 68/82 [1:01:07<00:12,  1.10it/s]"
     ]
    },
    {
     "name": "stdout",
     "output_type": "stream",
     "text": [
      "\n",
      "mean_270619-video4_020-005_opened_cc29.png: too spherical 2.7064253062205235\n"
     ]
    },
    {
     "name": "stderr",
     "output_type": "stream",
     "text": [
      "\r",
      " 84%|████████▍ | 69/82 [1:01:08<00:11,  1.11it/s]"
     ]
    },
    {
     "name": "stdout",
     "output_type": "stream",
     "text": [
      "\n",
      "mean_270619-video4_020-006_opened_cc08.png: too spherical 5.639885549706773\n",
      "\n",
      "mean_270619-video4_020-006_opened_cc10.png is INTERESTING\n",
      "\n",
      "video4_020-005-video4_020-006: overlap = 0.0\n"
     ]
    },
    {
     "name": "stderr",
     "output_type": "stream",
     "text": [
      "\r",
      " 85%|████████▌ | 70/82 [1:01:10<00:15,  1.30s/it]"
     ]
    },
    {
     "name": "stdout",
     "output_type": "stream",
     "text": [
      "\n",
      "video4_020-005-video4_020-006: overlap = 0.0\n"
     ]
    },
    {
     "name": "stderr",
     "output_type": "stream",
     "text": [
      "\r",
      " 87%|████████▋ | 71/82 [1:01:11<00:12,  1.12s/it]"
     ]
    },
    {
     "name": "stdout",
     "output_type": "stream",
     "text": [
      "\n",
      "mean_270619-video4_020-006_opened_cc12.png: too spherical 4.404075040694565\n"
     ]
    },
    {
     "name": "stderr",
     "output_type": "stream",
     "text": [
      "\r",
      " 88%|████████▊ | 72/82 [1:01:11<00:10,  1.00s/it]"
     ]
    },
    {
     "name": "stdout",
     "output_type": "stream",
     "text": [
      "\n",
      "mean_270619-video4_020-006_opened_cc17.png: too spherical 3.3140652491848512\n"
     ]
    },
    {
     "name": "stderr",
     "output_type": "stream",
     "text": [
      "\r",
      " 89%|████████▉ | 73/82 [1:01:12<00:08,  1.09it/s]"
     ]
    },
    {
     "name": "stdout",
     "output_type": "stream",
     "text": [
      "\n",
      "mean_270619-video4_020-006_opened_cc18.png: too spherical 2.8119787872536857\n"
     ]
    },
    {
     "name": "stderr",
     "output_type": "stream",
     "text": [
      "\r",
      " 90%|█████████ | 74/82 [1:01:13<00:06,  1.17it/s]"
     ]
    },
    {
     "name": "stdout",
     "output_type": "stream",
     "text": [
      "\n",
      "mean_270619-video4_020-006_opened_cc25.png: too spherical 3.2474688686056714\n"
     ]
    },
    {
     "name": "stderr",
     "output_type": "stream",
     "text": [
      "\r",
      " 91%|█████████▏| 75/82 [1:01:14<00:05,  1.23it/s]"
     ]
    },
    {
     "name": "stdout",
     "output_type": "stream",
     "text": [
      "\n",
      "mean_270619-video4_020-006_opened_cc43.png: too spherical 4.672659914287846\n",
      "\n",
      "mean_270619-video4_020-006_opened_cc46.png is INTERESTING\n",
      "\n",
      "video4_020-005-video4_020-006: overlap = 0.0\n"
     ]
    },
    {
     "name": "stderr",
     "output_type": "stream",
     "text": [
      "\r",
      " 93%|█████████▎| 76/82 [1:01:16<00:07,  1.20s/it]"
     ]
    },
    {
     "name": "stdout",
     "output_type": "stream",
     "text": [
      "\n",
      "video4_020-005-video4_020-006: overlap = 0.0\n"
     ]
    },
    {
     "name": "stderr",
     "output_type": "stream",
     "text": [
      "\r",
      " 94%|█████████▍| 77/82 [1:01:17<00:05,  1.09s/it]"
     ]
    },
    {
     "name": "stdout",
     "output_type": "stream",
     "text": [
      "\n",
      "mean_270619-video4_020-006_opened_cc61.png: too spherical 2.06208676801692\n"
     ]
    },
    {
     "name": "stderr",
     "output_type": "stream",
     "text": [
      "\r",
      " 95%|█████████▌| 78/82 [1:01:17<00:04,  1.00s/it]"
     ]
    },
    {
     "name": "stdout",
     "output_type": "stream",
     "text": [
      "\n",
      "mean_270619-video4_020-006_opened_cc85.png: too spherical 6.574815808245012\n"
     ]
    },
    {
     "name": "stderr",
     "output_type": "stream",
     "text": [
      "\r",
      " 96%|█████████▋| 79/82 [1:01:18<00:02,  1.08it/s]"
     ]
    },
    {
     "name": "stdout",
     "output_type": "stream",
     "text": [
      "\n",
      "mean_270619-video4_020-006_opened_cc91.png: too spherical 1.7310088041417426\n"
     ]
    },
    {
     "name": "stderr",
     "output_type": "stream",
     "text": [
      "\r",
      " 98%|█████████▊| 80/82 [1:01:19<00:01,  1.13it/s]"
     ]
    },
    {
     "name": "stdout",
     "output_type": "stream",
     "text": [
      "\n",
      "mean_270619-video4_020-006_opened_cc99.png: too spherical 3.461966698219698\n",
      "\n",
      "mean_270619-video4_020-007_opened_cc02.png is INTERESTING\n",
      "\n",
      "video4_020-006-video4_020-007: overlap = 0.0\n"
     ]
    },
    {
     "name": "stderr",
     "output_type": "stream",
     "text": [
      "\r",
      " 99%|█████████▉| 81/82 [1:01:21<00:01,  1.28s/it]"
     ]
    },
    {
     "name": "stdout",
     "output_type": "stream",
     "text": [
      "\n",
      "video4_020-006-video4_020-007: overlap = 0.0\n"
     ]
    },
    {
     "name": "stderr",
     "output_type": "stream",
     "text": [
      "100%|██████████| 82/82 [1:01:22<00:00,  1.15s/it]\n",
      "  0%|          | 0/27 [00:00<?, ?it/s]"
     ]
    },
    {
     "name": "stdout",
     "output_type": "stream",
     "text": [
      "\n",
      "mean_270619-video4_020-007_opened_cc04.png: too spherical 2.448065557733853\n",
      "found video4_021/trigger_thr0.005_cl9_op3/cc_filtered_2den0.81_gausrad2.0/\n"
     ]
    },
    {
     "name": "stderr",
     "output_type": "stream",
     "text": [
      "\r",
      "  4%|▎         | 1/27 [00:00<00:18,  1.37it/s]"
     ]
    },
    {
     "name": "stdout",
     "output_type": "stream",
     "text": [
      "\n",
      "mean_270619-video4_021-027_opened_cc19.png is INTERESTING\n"
     ]
    },
    {
     "name": "stderr",
     "output_type": "stream",
     "text": [
      "\r",
      "  7%|▋         | 2/27 [00:01<00:18,  1.36it/s]"
     ]
    },
    {
     "name": "stdout",
     "output_type": "stream",
     "text": [
      "\n",
      "mean_270619-video4_021-017_opened_cc03.png: too spherical 4.843120485344912\n"
     ]
    },
    {
     "name": "stderr",
     "output_type": "stream",
     "text": [
      "\r",
      " 11%|█         | 3/27 [00:02<00:18,  1.32it/s]"
     ]
    },
    {
     "name": "stdout",
     "output_type": "stream",
     "text": [
      "\n",
      "mean_270619-video4_021-017_opened_cc16.png: too spherical 8.715160268190996\n"
     ]
    },
    {
     "name": "stderr",
     "output_type": "stream",
     "text": [
      "\r",
      " 15%|█▍        | 4/27 [00:03<00:17,  1.30it/s]"
     ]
    },
    {
     "name": "stdout",
     "output_type": "stream",
     "text": [
      "\n",
      "mean_270619-video4_021-021_opened_cc11.png: too spherical 2.612892307292825\n"
     ]
    },
    {
     "name": "stderr",
     "output_type": "stream",
     "text": [
      "\r",
      " 19%|█▊        | 5/27 [00:03<00:17,  1.28it/s]"
     ]
    },
    {
     "name": "stdout",
     "output_type": "stream",
     "text": [
      "\n",
      "mean_270619-video4_021-021_opened_cc26.png is INTERESTING\n"
     ]
    },
    {
     "name": "stderr",
     "output_type": "stream",
     "text": [
      "\r",
      " 22%|██▏       | 6/27 [00:04<00:16,  1.29it/s]"
     ]
    },
    {
     "name": "stdout",
     "output_type": "stream",
     "text": [
      "\n",
      "mean_270619-video4_021-021_opened_cc27.png: too spherical 5.513869511361324\n"
     ]
    },
    {
     "name": "stderr",
     "output_type": "stream",
     "text": [
      "\r",
      " 26%|██▌       | 7/27 [00:05<00:15,  1.26it/s]"
     ]
    },
    {
     "name": "stdout",
     "output_type": "stream",
     "text": [
      "\n",
      "mean_270619-video4_021-021_opened_cc36.png: too spherical 3.3016295257751382\n"
     ]
    },
    {
     "name": "stderr",
     "output_type": "stream",
     "text": [
      "\r",
      " 30%|██▉       | 8/27 [00:06<00:14,  1.29it/s]"
     ]
    },
    {
     "name": "stdout",
     "output_type": "stream",
     "text": [
      "\n",
      "mean_270619-video4_021-021_opened_cc47.png is INTERESTING\n"
     ]
    },
    {
     "name": "stderr",
     "output_type": "stream",
     "text": [
      "\r",
      " 33%|███▎      | 9/27 [00:07<00:14,  1.29it/s]"
     ]
    },
    {
     "name": "stdout",
     "output_type": "stream",
     "text": [
      "\n",
      "mean_270619-video4_021-027_opened_cc02.png: too spherical 1.2345328178437298\n"
     ]
    },
    {
     "name": "stderr",
     "output_type": "stream",
     "text": [
      "\r",
      " 37%|███▋      | 10/27 [00:07<00:13,  1.29it/s]"
     ]
    },
    {
     "name": "stdout",
     "output_type": "stream",
     "text": [
      "\n",
      "mean_270619-video4_021-027_opened_cc12.png is INTERESTING\n"
     ]
    },
    {
     "name": "stderr",
     "output_type": "stream",
     "text": [
      "\r",
      " 41%|████      | 11/27 [00:08<00:12,  1.32it/s]"
     ]
    },
    {
     "name": "stdout",
     "output_type": "stream",
     "text": [
      "\n",
      "mean_270619-video4_021-027_opened_cc21.png: too spherical 2.7513861488004423\n"
     ]
    },
    {
     "name": "stderr",
     "output_type": "stream",
     "text": [
      "\r",
      " 44%|████▍     | 12/27 [00:09<00:11,  1.27it/s]"
     ]
    },
    {
     "name": "stdout",
     "output_type": "stream",
     "text": [
      "\n",
      "mean_270619-video4_021-027_opened_cc24.png: too spherical 3.96318138592219\n"
     ]
    },
    {
     "name": "stderr",
     "output_type": "stream",
     "text": [
      "\r",
      " 48%|████▊     | 13/27 [00:10<00:11,  1.26it/s]"
     ]
    },
    {
     "name": "stdout",
     "output_type": "stream",
     "text": [
      "\n",
      "mean_270619-video4_021-027_opened_cc27.png is INTERESTING\n"
     ]
    },
    {
     "name": "stderr",
     "output_type": "stream",
     "text": [
      "\r",
      " 52%|█████▏    | 14/27 [00:10<00:10,  1.29it/s]"
     ]
    },
    {
     "name": "stdout",
     "output_type": "stream",
     "text": [
      "\n",
      "mean_270619-video4_021-027_opened_cc36.png is INTERESTING\n"
     ]
    },
    {
     "name": "stderr",
     "output_type": "stream",
     "text": [
      "\r",
      " 56%|█████▌    | 15/27 [00:11<00:09,  1.23it/s]"
     ]
    },
    {
     "name": "stdout",
     "output_type": "stream",
     "text": [
      "\n",
      "mean_270619-video4_021-027_opened_cc44.png: too spherical 3.088160283848154\n"
     ]
    },
    {
     "name": "stderr",
     "output_type": "stream",
     "text": [
      "\r",
      " 59%|█████▉    | 16/27 [00:12<00:08,  1.24it/s]"
     ]
    },
    {
     "name": "stdout",
     "output_type": "stream",
     "text": [
      "\n",
      "mean_270619-video4_021-027_opened_cc50.png: too spherical 1.301323661433328\n"
     ]
    },
    {
     "name": "stderr",
     "output_type": "stream",
     "text": [
      "\r",
      " 63%|██████▎   | 17/27 [00:13<00:08,  1.25it/s]"
     ]
    },
    {
     "name": "stdout",
     "output_type": "stream",
     "text": [
      "\n",
      "mean_270619-video4_021-027_opened_cc52.png: too spherical 5.913130487007845\n"
     ]
    },
    {
     "name": "stderr",
     "output_type": "stream",
     "text": [
      "\r",
      " 67%|██████▋   | 18/27 [00:14<00:07,  1.28it/s]"
     ]
    },
    {
     "name": "stdout",
     "output_type": "stream",
     "text": [
      "\n",
      "mean_270619-video4_021-027_opened_cc55.png: too spherical 8.513184250081899\n"
     ]
    },
    {
     "name": "stderr",
     "output_type": "stream",
     "text": [
      "\r",
      " 70%|███████   | 19/27 [00:14<00:06,  1.30it/s]"
     ]
    },
    {
     "name": "stdout",
     "output_type": "stream",
     "text": [
      "\n",
      "mean_270619-video4_021-027_opened_cc56.png is INTERESTING\n"
     ]
    },
    {
     "name": "stderr",
     "output_type": "stream",
     "text": [
      "\r",
      " 74%|███████▍  | 20/27 [00:15<00:05,  1.30it/s]"
     ]
    },
    {
     "name": "stdout",
     "output_type": "stream",
     "text": [
      "\n",
      "mean_270619-video4_021-027_opened_cc65.png: too spherical 2.294117924875939\n"
     ]
    },
    {
     "name": "stderr",
     "output_type": "stream",
     "text": [
      "\r",
      " 78%|███████▊  | 21/27 [00:16<00:04,  1.30it/s]"
     ]
    },
    {
     "name": "stdout",
     "output_type": "stream",
     "text": [
      "\n",
      "mean_270619-video4_021-027_opened_cc67.png: too spherical 3.1819860686546306\n"
     ]
    },
    {
     "name": "stderr",
     "output_type": "stream",
     "text": [
      "\r",
      " 81%|████████▏ | 22/27 [00:17<00:03,  1.32it/s]"
     ]
    },
    {
     "name": "stdout",
     "output_type": "stream",
     "text": [
      "\n",
      "mean_270619-video4_021-027_opened_cc68.png: too spherical 2.7053132791917456\n"
     ]
    },
    {
     "name": "stderr",
     "output_type": "stream",
     "text": [
      "\r",
      " 85%|████████▌ | 23/27 [00:17<00:02,  1.34it/s]"
     ]
    },
    {
     "name": "stdout",
     "output_type": "stream",
     "text": [
      "\n",
      "mean_270619-video4_021-027_opened_cc69.png: too spherical 3.677051687015093\n"
     ]
    },
    {
     "name": "stderr",
     "output_type": "stream",
     "text": [
      "\r",
      " 89%|████████▉ | 24/27 [00:18<00:02,  1.33it/s]"
     ]
    },
    {
     "name": "stdout",
     "output_type": "stream",
     "text": [
      "\n",
      "mean_270619-video4_021-027_opened_cc88.png: too spherical 2.813097773752781\n"
     ]
    },
    {
     "name": "stderr",
     "output_type": "stream",
     "text": [
      "\r",
      " 93%|█████████▎| 25/27 [00:19<00:01,  1.35it/s]"
     ]
    },
    {
     "name": "stdout",
     "output_type": "stream",
     "text": [
      "\n",
      "mean_270619-video4_021-036_opened_cc14.png is INTERESTING\n"
     ]
    },
    {
     "name": "stderr",
     "output_type": "stream",
     "text": [
      "\r",
      " 96%|█████████▋| 26/27 [00:20<00:00,  1.38it/s]"
     ]
    },
    {
     "name": "stdout",
     "output_type": "stream",
     "text": [
      "\n",
      "mean_270619-video4_021-036_opened_cc52.png: too spherical 7.564350185401341\n"
     ]
    },
    {
     "name": "stderr",
     "output_type": "stream",
     "text": [
      "100%|██████████| 27/27 [00:20<00:00,  1.37it/s]\n",
      "  0%|          | 0/53 [00:00<?, ?it/s]"
     ]
    },
    {
     "name": "stdout",
     "output_type": "stream",
     "text": [
      "\n",
      "mean_270619-video4_021-036_opened_cc72.png is INTERESTING\n",
      "found video4_022/trigger_thr0.005_cl9_op3/cc_filtered_2den0.81_gausrad2.0/\n"
     ]
    },
    {
     "name": "stderr",
     "output_type": "stream",
     "text": [
      "\r",
      "  2%|▏         | 1/53 [00:00<00:36,  1.42it/s]"
     ]
    },
    {
     "name": "stdout",
     "output_type": "stream",
     "text": [
      "\n",
      "mean_270619-video4_022-007_opened_cc04.png: too spherical 4.070612660430058\n"
     ]
    },
    {
     "name": "stderr",
     "output_type": "stream",
     "text": [
      "\r",
      "  4%|▍         | 2/53 [00:01<00:35,  1.43it/s]"
     ]
    },
    {
     "name": "stdout",
     "output_type": "stream",
     "text": [
      "\n",
      "mean_270619-video4_022-007_opened_cc07.png is INTERESTING\n"
     ]
    },
    {
     "name": "stderr",
     "output_type": "stream",
     "text": [
      "\r",
      "  6%|▌         | 3/53 [00:02<00:36,  1.38it/s]"
     ]
    },
    {
     "name": "stdout",
     "output_type": "stream",
     "text": [
      "\n",
      "mean_270619-video4_022-012_opened_cc09.png: too spherical 2.434165206874103\n"
     ]
    },
    {
     "name": "stderr",
     "output_type": "stream",
     "text": [
      "\r",
      "  8%|▊         | 4/53 [00:02<00:35,  1.38it/s]"
     ]
    },
    {
     "name": "stdout",
     "output_type": "stream",
     "text": [
      "\n",
      "mean_270619-video4_022-012_opened_cc17.png is INTERESTING\n"
     ]
    },
    {
     "name": "stderr",
     "output_type": "stream",
     "text": [
      "\r",
      "  9%|▉         | 5/53 [00:03<00:35,  1.37it/s]"
     ]
    },
    {
     "name": "stdout",
     "output_type": "stream",
     "text": [
      "\n",
      "mean_270619-video4_022-012_opened_cc32.png: too spherical 2.444793716199186\n"
     ]
    },
    {
     "name": "stderr",
     "output_type": "stream",
     "text": [
      "\r",
      " 11%|█▏        | 6/53 [00:04<00:33,  1.39it/s]"
     ]
    },
    {
     "name": "stdout",
     "output_type": "stream",
     "text": [
      "\n",
      "mean_270619-video4_022-012_opened_cc45.png: too spherical 4.34397051548437\n"
     ]
    },
    {
     "name": "stderr",
     "output_type": "stream",
     "text": [
      "\r",
      " 13%|█▎        | 7/53 [00:05<00:32,  1.40it/s]"
     ]
    },
    {
     "name": "stdout",
     "output_type": "stream",
     "text": [
      "\n",
      "mean_270619-video4_022-012_opened_cc63.png is INTERESTING\n"
     ]
    },
    {
     "name": "stderr",
     "output_type": "stream",
     "text": [
      "\r",
      " 15%|█▌        | 8/53 [00:05<00:32,  1.41it/s]"
     ]
    },
    {
     "name": "stdout",
     "output_type": "stream",
     "text": [
      "\n",
      "mean_270619-video4_022-012_opened_cc98.png is INTERESTING\n",
      "\n",
      "mean_270619-video4_022-013_opened_cc13.png is INTERESTING\n",
      "\n",
      "video4_022-012-video4_022-013: overlap = 0.0\n",
      "\n",
      "video4_022-012-video4_022-013: overlap = 0.0\n"
     ]
    },
    {
     "name": "stderr",
     "output_type": "stream",
     "text": [
      "\r",
      " 17%|█▋        | 9/53 [00:08<00:57,  1.31s/it]"
     ]
    },
    {
     "name": "stdout",
     "output_type": "stream",
     "text": [
      "\n",
      "video4_022-012-video4_022-013: overlap = 0.0\n"
     ]
    },
    {
     "name": "stderr",
     "output_type": "stream",
     "text": [
      "\r",
      " 19%|█▉        | 10/53 [00:09<00:48,  1.13s/it]"
     ]
    },
    {
     "name": "stdout",
     "output_type": "stream",
     "text": [
      "\n",
      "mean_270619-video4_022-013_opened_cc25.png: too spherical 1.458948973288725\n",
      "\n",
      "mean_270619-video4_022-013_opened_cc28.png is INTERESTING\n",
      "\n",
      "video4_022-012-video4_022-013: overlap = 0.0\n",
      "\n",
      "video4_022-012-video4_022-013: overlap = 0.0\n"
     ]
    },
    {
     "name": "stderr",
     "output_type": "stream",
     "text": [
      "\r",
      " 21%|██        | 11/53 [00:11<01:07,  1.60s/it]"
     ]
    },
    {
     "name": "stdout",
     "output_type": "stream",
     "text": [
      "\n",
      "video4_022-012-video4_022-013: overlap = 0.0\n",
      "\n",
      "mean_270619-video4_022-013_opened_cc29.png is INTERESTING\n",
      "\n",
      "video4_022-012-video4_022-013: overlap = 0.0\n",
      "\n",
      "video4_022-012-video4_022-013: overlap = 0.0\n"
     ]
    },
    {
     "name": "stderr",
     "output_type": "stream",
     "text": [
      "\r",
      " 23%|██▎       | 12/53 [00:14<01:18,  1.92s/it]"
     ]
    },
    {
     "name": "stdout",
     "output_type": "stream",
     "text": [
      "\n",
      "video4_022-012-video4_022-013: overlap = 0.0\n",
      "\n",
      "mean_270619-video4_022-013_opened_cc30.png is INTERESTING\n",
      "\n",
      "video4_022-012-video4_022-013: overlap = 0.22079062957540263\n",
      "\n",
      "video4_022-012-video4_022-013: overlap = 0.0\n"
     ]
    },
    {
     "name": "stderr",
     "output_type": "stream",
     "text": [
      "\r",
      " 25%|██▍       | 13/53 [00:17<01:25,  2.15s/it]"
     ]
    },
    {
     "name": "stdout",
     "output_type": "stream",
     "text": [
      "\n",
      "video4_022-012-video4_022-013: overlap = 0.0\n"
     ]
    },
    {
     "name": "stderr",
     "output_type": "stream",
     "text": [
      "\r",
      " 26%|██▋       | 14/53 [00:18<01:08,  1.76s/it]"
     ]
    },
    {
     "name": "stdout",
     "output_type": "stream",
     "text": [
      "\n",
      "mean_270619-video4_022-013_opened_cc31.png: too spherical 4.799787149555532\n"
     ]
    },
    {
     "name": "stderr",
     "output_type": "stream",
     "text": [
      "\r",
      " 28%|██▊       | 15/53 [00:18<00:55,  1.45s/it]"
     ]
    },
    {
     "name": "stdout",
     "output_type": "stream",
     "text": [
      "\n",
      "mean_270619-video4_022-013_opened_cc41.png: too spherical 2.3472802694522623\n",
      "\n",
      "mean_270619-video4_022-013_opened_cc48.png is INTERESTING\n",
      "\n",
      "video4_022-012-video4_022-013: overlap = 0.0\n",
      "\n",
      "video4_022-012-video4_022-013: overlap = 0.0\n"
     ]
    },
    {
     "name": "stderr",
     "output_type": "stream",
     "text": [
      "\r",
      " 30%|███       | 16/53 [00:21<01:11,  1.92s/it]"
     ]
    },
    {
     "name": "stdout",
     "output_type": "stream",
     "text": [
      "\n",
      "video4_022-012-video4_022-013: overlap = 0.0\n",
      "\n",
      "mean_270619-video4_022-013_opened_cc57.png is INTERESTING\n",
      "\n",
      "video4_022-012-video4_022-013: overlap = 0.0\n",
      "\n",
      "video4_022-012-video4_022-013: overlap = 0.0\n"
     ]
    },
    {
     "name": "stderr",
     "output_type": "stream",
     "text": [
      "\r",
      " 32%|███▏      | 17/53 [00:24<01:18,  2.17s/it]"
     ]
    },
    {
     "name": "stdout",
     "output_type": "stream",
     "text": [
      "\n",
      "video4_022-012-video4_022-013: overlap = 0.0\n",
      "\n",
      "mean_270619-video4_022-014_opened_cc01.png is INTERESTING\n",
      "\n",
      "video4_022-013-video4_022-014: overlap = 0.0\n",
      "\n",
      "video4_022-013-video4_022-014: overlap = 0.0\n",
      "\n",
      "video4_022-013-video4_022-014: overlap = 0.0\n",
      "\n",
      "video4_022-013-video4_022-014: overlap = 0.37015985790408523\n",
      "\n",
      "video4_022-013-video4_022-014: overlap = 0.0\n"
     ]
    },
    {
     "name": "stderr",
     "output_type": "stream",
     "text": [
      "\r",
      " 34%|███▍      | 18/53 [00:29<01:44,  2.98s/it]"
     ]
    },
    {
     "name": "stdout",
     "output_type": "stream",
     "text": [
      "\n",
      "video4_022-013-video4_022-014: overlap = 0.0\n"
     ]
    },
    {
     "name": "stderr",
     "output_type": "stream",
     "text": [
      "\r",
      " 36%|███▌      | 19/53 [00:30<01:18,  2.32s/it]"
     ]
    },
    {
     "name": "stdout",
     "output_type": "stream",
     "text": [
      "\n",
      "mean_270619-video4_022-014_opened_cc05.png: too spherical 5.156362268849262\n"
     ]
    },
    {
     "name": "stderr",
     "output_type": "stream",
     "text": [
      "\r",
      " 38%|███▊      | 20/53 [00:30<01:01,  1.85s/it]"
     ]
    },
    {
     "name": "stdout",
     "output_type": "stream",
     "text": [
      "\n",
      "mean_270619-video4_022-019_opened_cc06.png is INTERESTING\n"
     ]
    },
    {
     "name": "stderr",
     "output_type": "stream",
     "text": [
      "\r",
      " 40%|███▉      | 21/53 [00:31<00:48,  1.51s/it]"
     ]
    },
    {
     "name": "stdout",
     "output_type": "stream",
     "text": [
      "\n",
      "mean_270619-video4_022-019_opened_cc10.png: too spherical 9.109484282292836\n"
     ]
    },
    {
     "name": "stderr",
     "output_type": "stream",
     "text": [
      "\r",
      " 42%|████▏     | 22/53 [00:32<00:39,  1.27s/it]"
     ]
    },
    {
     "name": "stdout",
     "output_type": "stream",
     "text": [
      "\n",
      "mean_270619-video4_022-019_opened_cc13.png: too spherical 1.592497233325554\n"
     ]
    },
    {
     "name": "stderr",
     "output_type": "stream",
     "text": [
      "\r",
      " 43%|████▎     | 23/53 [00:33<00:33,  1.10s/it]"
     ]
    },
    {
     "name": "stdout",
     "output_type": "stream",
     "text": [
      "\n",
      "mean_270619-video4_022-019_opened_cc18.png is INTERESTING\n"
     ]
    },
    {
     "name": "stderr",
     "output_type": "stream",
     "text": [
      "\r",
      " 45%|████▌     | 24/53 [00:33<00:28,  1.01it/s]"
     ]
    },
    {
     "name": "stdout",
     "output_type": "stream",
     "text": [
      "\n",
      "mean_270619-video4_022-019_opened_cc20.png: too spherical 2.3484385052553964\n"
     ]
    },
    {
     "name": "stderr",
     "output_type": "stream",
     "text": [
      "\r",
      " 47%|████▋     | 25/53 [00:34<00:25,  1.08it/s]"
     ]
    },
    {
     "name": "stdout",
     "output_type": "stream",
     "text": [
      "\n",
      "mean_270619-video4_022-019_opened_cc29.png: too spherical 2.425116844336071\n"
     ]
    },
    {
     "name": "stderr",
     "output_type": "stream",
     "text": [
      "\r",
      " 49%|████▉     | 26/53 [00:35<00:23,  1.15it/s]"
     ]
    },
    {
     "name": "stdout",
     "output_type": "stream",
     "text": [
      "\n",
      "mean_270619-video4_022-019_opened_cc31.png: too spherical 3.864477401617878\n"
     ]
    },
    {
     "name": "stderr",
     "output_type": "stream",
     "text": [
      "\r",
      " 51%|█████     | 27/53 [00:36<00:22,  1.18it/s]"
     ]
    },
    {
     "name": "stdout",
     "output_type": "stream",
     "text": [
      "\n",
      "mean_270619-video4_022-019_opened_cc39.png: too spherical 2.880993294260641\n"
     ]
    },
    {
     "name": "stderr",
     "output_type": "stream",
     "text": [
      "\r",
      " 53%|█████▎    | 28/53 [00:36<00:20,  1.20it/s]"
     ]
    },
    {
     "name": "stdout",
     "output_type": "stream",
     "text": [
      "\n",
      "mean_270619-video4_022-019_opened_cc42.png: too spherical 5.856303013641331\n"
     ]
    },
    {
     "name": "stderr",
     "output_type": "stream",
     "text": [
      "\r",
      " 55%|█████▍    | 29/53 [00:37<00:19,  1.23it/s]"
     ]
    },
    {
     "name": "stdout",
     "output_type": "stream",
     "text": [
      "\n",
      "mean_270619-video4_022-019_opened_cc63.png: too spherical 2.525005310181098\n"
     ]
    },
    {
     "name": "stderr",
     "output_type": "stream",
     "text": [
      "\r",
      " 57%|█████▋    | 30/53 [00:38<00:18,  1.26it/s]"
     ]
    },
    {
     "name": "stdout",
     "output_type": "stream",
     "text": [
      "\n",
      "mean_270619-video4_022-019_opened_cc65.png: too spherical 4.677210202237447\n",
      "\n",
      "mean_270619-video4_022-013_opened_cc08.png is INTERESTING\n",
      "\n",
      "video4_022-012-video4_022-013: overlap = 0.007447864945382299\n",
      "\n",
      "video4_022-012-video4_022-013: overlap = 0.0\n"
     ]
    },
    {
     "name": "stderr",
     "output_type": "stream",
     "text": [
      "\r",
      " 58%|█████▊    | 31/53 [00:41<00:30,  1.37s/it]"
     ]
    },
    {
     "name": "stdout",
     "output_type": "stream",
     "text": [
      "\n",
      "video4_022-012-video4_022-013: overlap = 0.0\n",
      "\n",
      "mean_270619-video4_022-014_opened_cc15.png is INTERESTING\n",
      "\n",
      "video4_022-013-video4_022-014: overlap = 0.0\n",
      "\n",
      "video4_022-013-video4_022-014: overlap = 0.0\n",
      "\n",
      "video4_022-013-video4_022-014: overlap = 0.0\n",
      "\n",
      "video4_022-013-video4_022-014: overlap = 0.0\n",
      "\n",
      "video4_022-013-video4_022-014: overlap = 0.0\n"
     ]
    },
    {
     "name": "stderr",
     "output_type": "stream",
     "text": [
      "\r",
      " 60%|██████    | 32/53 [00:46<00:50,  2.42s/it]"
     ]
    },
    {
     "name": "stdout",
     "output_type": "stream",
     "text": [
      "\n",
      "video4_022-013-video4_022-014: overlap = 0.8156146179401993\n"
     ]
    },
    {
     "name": "stderr",
     "output_type": "stream",
     "text": [
      "\r",
      " 62%|██████▏   | 33/53 [00:46<00:38,  1.91s/it]"
     ]
    },
    {
     "name": "stdout",
     "output_type": "stream",
     "text": [
      "\n",
      "mean_270619-video4_022-019_opened_cc68.png: too spherical 5.2009033880896745\n"
     ]
    },
    {
     "name": "stderr",
     "output_type": "stream",
     "text": [
      "\r",
      " 64%|██████▍   | 34/53 [00:47<00:29,  1.56s/it]"
     ]
    },
    {
     "name": "stdout",
     "output_type": "stream",
     "text": [
      "\n",
      "mean_270619-video4_022-019_opened_cc70.png: too spherical 2.5632043639655144\n"
     ]
    },
    {
     "name": "stderr",
     "output_type": "stream",
     "text": [
      "\r",
      " 66%|██████▌   | 35/53 [00:48<00:23,  1.32s/it]"
     ]
    },
    {
     "name": "stdout",
     "output_type": "stream",
     "text": [
      "\n",
      "mean_270619-video4_022-019_opened_cc83.png is INTERESTING\n",
      "\n",
      "mean_270619-video4_022-020_opened_cc01.png is INTERESTING\n",
      "\n",
      "video4_022-019-video4_022-020: overlap = 0.0\n",
      "\n",
      "video4_022-019-video4_022-020: overlap = 0.0\n"
     ]
    },
    {
     "name": "stderr",
     "output_type": "stream",
     "text": [
      "\r",
      " 68%|██████▊   | 36/53 [00:51<00:30,  1.77s/it]"
     ]
    },
    {
     "name": "stdout",
     "output_type": "stream",
     "text": [
      "\n",
      "video4_022-019-video4_022-020: overlap = 0.0\n",
      "\n",
      "mean_270619-video4_022-020_opened_cc04.png is INTERESTING\n",
      "\n",
      "video4_022-019-video4_022-020: overlap = 0.0\n",
      "\n",
      "video4_022-019-video4_022-020: overlap = 0.0\n"
     ]
    },
    {
     "name": "stderr",
     "output_type": "stream",
     "text": [
      "\r",
      " 70%|██████▉   | 37/53 [00:54<00:34,  2.14s/it]"
     ]
    },
    {
     "name": "stdout",
     "output_type": "stream",
     "text": [
      "\n",
      "video4_022-019-video4_022-020: overlap = 0.0\n",
      "\n",
      "mean_270619-video4_022-020_opened_cc11.png is INTERESTING\n",
      "\n",
      "video4_022-019-video4_022-020: overlap = 0.40473372781065087\n",
      "\n",
      "video4_022-019-video4_022-020: overlap = 0.0\n"
     ]
    },
    {
     "name": "stderr",
     "output_type": "stream",
     "text": [
      "\r",
      " 72%|███████▏  | 38/53 [00:56<00:35,  2.36s/it]"
     ]
    },
    {
     "name": "stdout",
     "output_type": "stream",
     "text": [
      "\n",
      "video4_022-019-video4_022-020: overlap = 0.0\n"
     ]
    },
    {
     "name": "stderr",
     "output_type": "stream",
     "text": [
      "\r",
      " 74%|███████▎  | 39/53 [00:57<00:26,  1.88s/it]"
     ]
    },
    {
     "name": "stdout",
     "output_type": "stream",
     "text": [
      "\n",
      "mean_270619-video4_022-020_opened_cc24.png: too spherical 4.130475606878061\n",
      "\n",
      "mean_270619-video4_022-020_opened_cc26.png is INTERESTING\n",
      "\n",
      "video4_022-019-video4_022-020: overlap = 0.0\n",
      "\n",
      "video4_022-019-video4_022-020: overlap = 0.0\n"
     ]
    },
    {
     "name": "stderr",
     "output_type": "stream",
     "text": [
      "\r",
      " 75%|███████▌  | 40/53 [01:00<00:27,  2.14s/it]"
     ]
    },
    {
     "name": "stdout",
     "output_type": "stream",
     "text": [
      "\n",
      "video4_022-019-video4_022-020: overlap = 0.0\n",
      "\n",
      "mean_270619-video4_022-020_opened_cc28.png is INTERESTING\n",
      "\n",
      "video4_022-019-video4_022-020: overlap = 0.0\n",
      "\n",
      "video4_022-019-video4_022-020: overlap = 0.02957486136783738\n"
     ]
    },
    {
     "name": "stderr",
     "output_type": "stream",
     "text": [
      "\r",
      " 77%|███████▋  | 41/53 [01:03<00:27,  2.31s/it]"
     ]
    },
    {
     "name": "stdout",
     "output_type": "stream",
     "text": [
      "\n",
      "video4_022-019-video4_022-020: overlap = 0.0\n"
     ]
    },
    {
     "name": "stderr",
     "output_type": "stream",
     "text": [
      "\r",
      " 79%|███████▉  | 42/53 [01:03<00:20,  1.84s/it]"
     ]
    },
    {
     "name": "stdout",
     "output_type": "stream",
     "text": [
      "\n",
      "mean_270619-video4_022-020_opened_cc59.png: too spherical 1.6256447108472396\n"
     ]
    },
    {
     "name": "stderr",
     "output_type": "stream",
     "text": [
      "\r",
      " 81%|████████  | 43/53 [01:04<00:15,  1.53s/it]"
     ]
    },
    {
     "name": "stdout",
     "output_type": "stream",
     "text": [
      "\n",
      "mean_270619-video4_022-020_opened_cc60.png: too spherical 2.2804366992325678\n"
     ]
    },
    {
     "name": "stderr",
     "output_type": "stream",
     "text": [
      "\r",
      " 83%|████████▎ | 44/53 [01:05<00:11,  1.32s/it]"
     ]
    },
    {
     "name": "stdout",
     "output_type": "stream",
     "text": [
      "\n",
      "mean_270619-video4_022-020_opened_cc63.png: too spherical 2.0841445482418095\n"
     ]
    },
    {
     "name": "stderr",
     "output_type": "stream",
     "text": [
      "\r",
      " 85%|████████▍ | 45/53 [01:06<00:09,  1.15s/it]"
     ]
    },
    {
     "name": "stdout",
     "output_type": "stream",
     "text": [
      "\n",
      "mean_270619-video4_022-020_opened_cc81.png: too spherical 3.072844409878333\n",
      "\n",
      "mean_270619-video4_022-021_opened_cc12.png is INTERESTING\n",
      "\n",
      "video4_022-020-video4_022-021: overlap = 0.0\n",
      "\n",
      "video4_022-020-video4_022-021: overlap = 0.0\n",
      "\n",
      "video4_022-020-video4_022-021: overlap = 0.0\n",
      "\n",
      "video4_022-020-video4_022-021: overlap = 0.0\n"
     ]
    },
    {
     "name": "stderr",
     "output_type": "stream",
     "text": [
      "\r",
      " 87%|████████▋ | 46/53 [01:10<00:14,  2.07s/it]"
     ]
    },
    {
     "name": "stdout",
     "output_type": "stream",
     "text": [
      "\n",
      "video4_022-020-video4_022-021: overlap = 0.0\n",
      "\n",
      "mean_270619-video4_022-021_opened_cc15.png is INTERESTING\n",
      "\n",
      "video4_022-020-video4_022-021: overlap = 0.0\n",
      "\n",
      "video4_022-020-video4_022-021: overlap = 0.0\n",
      "\n",
      "video4_022-020-video4_022-021: overlap = 0.0\n",
      "\n",
      "video4_022-020-video4_022-021: overlap = 0.0\n"
     ]
    },
    {
     "name": "stderr",
     "output_type": "stream",
     "text": [
      "\r",
      " 89%|████████▊ | 47/53 [01:14<00:16,  2.72s/it]"
     ]
    },
    {
     "name": "stdout",
     "output_type": "stream",
     "text": [
      "\n",
      "video4_022-020-video4_022-021: overlap = 0.0\n"
     ]
    },
    {
     "name": "stderr",
     "output_type": "stream",
     "text": [
      "\r",
      " 91%|█████████ | 48/53 [01:15<00:10,  2.13s/it]"
     ]
    },
    {
     "name": "stdout",
     "output_type": "stream",
     "text": [
      "\n",
      "mean_270619-video4_022-022_opened_cc41.png: too spherical 4.4267908743105995\n",
      "\n",
      "mean_270619-video4_022-022_opened_cc45.png is INTERESTING\n",
      "\n",
      "video4_022-021-video4_022-022: overlap = 0.0\n"
     ]
    },
    {
     "name": "stderr",
     "output_type": "stream",
     "text": [
      "\r",
      " 92%|█████████▏| 49/53 [01:17<00:08,  2.16s/it]"
     ]
    },
    {
     "name": "stdout",
     "output_type": "stream",
     "text": [
      "\n",
      "video4_022-021-video4_022-022: overlap = 0.43460964694182\n"
     ]
    },
    {
     "name": "stderr",
     "output_type": "stream",
     "text": [
      "\r",
      " 94%|█████████▍| 50/53 [01:18<00:05,  1.75s/it]"
     ]
    },
    {
     "name": "stdout",
     "output_type": "stream",
     "text": [
      "\n",
      "mean_270619-video4_022-022_opened_cc54.png: too spherical 4.587579363779758\n",
      "\n",
      "mean_270619-video4_022-022_opened_cc57.png is INTERESTING\n",
      "\n",
      "video4_022-021-video4_022-022: overlap = 0.0\n"
     ]
    },
    {
     "name": "stderr",
     "output_type": "stream",
     "text": [
      "\r",
      " 96%|█████████▌| 51/53 [01:20<00:03,  1.89s/it]"
     ]
    },
    {
     "name": "stdout",
     "output_type": "stream",
     "text": [
      "\n",
      "video4_022-021-video4_022-022: overlap = 0.0\n"
     ]
    },
    {
     "name": "stderr",
     "output_type": "stream",
     "text": [
      "\r",
      " 98%|█████████▊| 52/53 [01:21<00:01,  1.57s/it]"
     ]
    },
    {
     "name": "stdout",
     "output_type": "stream",
     "text": [
      "\n",
      "mean_270619-video4_022-037_opened_cc05.png: too spherical 1.8473234287737674\n"
     ]
    },
    {
     "name": "stderr",
     "output_type": "stream",
     "text": [
      "100%|██████████| 53/53 [01:22<00:00,  1.33s/it]\n",
      "  0%|          | 0/36 [00:00<?, ?it/s]"
     ]
    },
    {
     "name": "stdout",
     "output_type": "stream",
     "text": [
      "\n",
      "mean_270619-video4_022-038_opened_cc04.png: too spherical 8.94116942205158\n",
      "found video4_023/trigger_thr0.005_cl9_op3/cc_filtered_2den0.81_gausrad2.0/\n"
     ]
    },
    {
     "name": "stderr",
     "output_type": "stream",
     "text": [
      "\r",
      "  3%|▎         | 1/36 [00:00<00:28,  1.21it/s]"
     ]
    },
    {
     "name": "stdout",
     "output_type": "stream",
     "text": [
      "\n",
      "mean_270619-video4_023-004_opened_cc05.png is INTERESTING\n",
      "\n",
      "mean_270619-video4_023-005_opened_cc05.png is INTERESTING\n"
     ]
    },
    {
     "name": "stderr",
     "output_type": "stream",
     "text": [
      "\r",
      "  6%|▌         | 2/36 [00:02<00:35,  1.05s/it]"
     ]
    },
    {
     "name": "stdout",
     "output_type": "stream",
     "text": [
      "\n",
      "video4_023-004-video4_023-005: overlap = 0.0\n",
      "\n",
      "mean_270619-video4_023-005_opened_cc11.png is INTERESTING\n"
     ]
    },
    {
     "name": "stderr",
     "output_type": "stream",
     "text": [
      "\r",
      "  8%|▊         | 3/36 [00:03<00:39,  1.21s/it]"
     ]
    },
    {
     "name": "stdout",
     "output_type": "stream",
     "text": [
      "\n",
      "video4_023-004-video4_023-005: overlap = 0.887546633505063\n"
     ]
    },
    {
     "name": "stderr",
     "output_type": "stream",
     "text": [
      "\r",
      " 11%|█         | 4/36 [00:04<00:34,  1.07s/it]"
     ]
    },
    {
     "name": "stdout",
     "output_type": "stream",
     "text": [
      "\n",
      "mean_270619-video4_023-005_opened_cc14.png is INTERESTING\n",
      "\n",
      "mean_270619-video4_023-006_opened_cc06.png is INTERESTING\n"
     ]
    },
    {
     "name": "stderr",
     "output_type": "stream",
     "text": [
      "\r",
      " 14%|█▍        | 5/36 [00:06<00:37,  1.22s/it]"
     ]
    },
    {
     "name": "stdout",
     "output_type": "stream",
     "text": [
      "\n",
      "video4_023-005-video4_023-006: overlap = 0.881377756317399\n"
     ]
    },
    {
     "name": "stderr",
     "output_type": "stream",
     "text": [
      "\r",
      " 17%|█▋        | 6/36 [00:07<00:33,  1.11s/it]"
     ]
    },
    {
     "name": "stdout",
     "output_type": "stream",
     "text": [
      "\n",
      "mean_270619-video4_023-007_opened_cc01.png: too crowded: 4.7619598765432105\n"
     ]
    },
    {
     "name": "stderr",
     "output_type": "stream",
     "text": [
      "\r",
      " 19%|█▉        | 7/36 [00:07<00:29,  1.01s/it]"
     ]
    },
    {
     "name": "stdout",
     "output_type": "stream",
     "text": [
      "\n",
      "mean_270619-video4_023-007_opened_cc03.png: too spherical 5.9823303210903385\n"
     ]
    },
    {
     "name": "stderr",
     "output_type": "stream",
     "text": [
      "\r",
      " 22%|██▏       | 8/36 [00:08<00:25,  1.09it/s]"
     ]
    },
    {
     "name": "stdout",
     "output_type": "stream",
     "text": [
      "\n",
      "mean_270619-video4_023-007_opened_cc06.png: too spherical 7.704414378275921\n",
      "\n",
      "mean_270619-video4_023-007_opened_cc08.png is INTERESTING\n"
     ]
    },
    {
     "name": "stderr",
     "output_type": "stream",
     "text": [
      "\r",
      " 25%|██▌       | 9/36 [00:10<00:29,  1.08s/it]"
     ]
    },
    {
     "name": "stdout",
     "output_type": "stream",
     "text": [
      "\n",
      "video4_023-006-video4_023-007: overlap = 0.0\n",
      "\n",
      "mean_270619-video4_023-008_opened_cc05.png is INTERESTING\n"
     ]
    },
    {
     "name": "stderr",
     "output_type": "stream",
     "text": [
      "\r",
      " 28%|██▊       | 10/36 [00:11<00:30,  1.18s/it]"
     ]
    },
    {
     "name": "stdout",
     "output_type": "stream",
     "text": [
      "\n",
      "video4_023-007-video4_023-008: overlap = 0.0\n",
      "\n",
      "mean_270619-video4_023-008_opened_cc15.png is INTERESTING\n"
     ]
    },
    {
     "name": "stderr",
     "output_type": "stream",
     "text": [
      "\r",
      " 31%|███       | 11/36 [00:12<00:31,  1.25s/it]"
     ]
    },
    {
     "name": "stdout",
     "output_type": "stream",
     "text": [
      "\n",
      "video4_023-007-video4_023-008: overlap = 0.0\n"
     ]
    },
    {
     "name": "stderr",
     "output_type": "stream",
     "text": [
      "\r",
      " 33%|███▎      | 12/36 [00:13<00:26,  1.09s/it]"
     ]
    },
    {
     "name": "stdout",
     "output_type": "stream",
     "text": [
      "\n",
      "mean_270619-video4_023-009_opened_cc04.png: too spherical 3.0358823856772994\n",
      "\n",
      "mean_270619-video4_023-009_opened_cc08.png is INTERESTING\n",
      "\n",
      "video4_023-008-video4_023-009: overlap = 0.0\n"
     ]
    },
    {
     "name": "stderr",
     "output_type": "stream",
     "text": [
      "\r",
      " 36%|███▌      | 13/36 [00:15<00:31,  1.38s/it]"
     ]
    },
    {
     "name": "stdout",
     "output_type": "stream",
     "text": [
      "\n",
      "video4_023-008-video4_023-009: overlap = 0.0\n",
      "\n",
      "mean_270619-video4_023-009_opened_cc09.png is INTERESTING\n",
      "\n",
      "video4_023-008-video4_023-009: overlap = 0.0\n"
     ]
    },
    {
     "name": "stderr",
     "output_type": "stream",
     "text": [
      "\r",
      " 39%|███▉      | 14/36 [00:17<00:34,  1.59s/it]"
     ]
    },
    {
     "name": "stdout",
     "output_type": "stream",
     "text": [
      "\n",
      "video4_023-008-video4_023-009: overlap = 0.784257942152679\n"
     ]
    },
    {
     "name": "stderr",
     "output_type": "stream",
     "text": [
      "\r",
      " 42%|████▏     | 15/36 [00:18<00:27,  1.33s/it]"
     ]
    },
    {
     "name": "stdout",
     "output_type": "stream",
     "text": [
      "\n",
      "mean_270619-video4_023-041_opened_cc15.png is INTERESTING\n"
     ]
    },
    {
     "name": "stderr",
     "output_type": "stream",
     "text": [
      "\r",
      " 44%|████▍     | 16/36 [00:19<00:22,  1.14s/it]"
     ]
    },
    {
     "name": "stdout",
     "output_type": "stream",
     "text": [
      "\n",
      "mean_270619-video4_023-042_opened_cc23.png: too spherical 6.028018351286374\n",
      "\n",
      "mean_270619-video4_023-042_opened_cc41.png is INTERESTING\n"
     ]
    },
    {
     "name": "stderr",
     "output_type": "stream",
     "text": [
      "\r",
      " 47%|████▋     | 17/36 [00:20<00:23,  1.22s/it]"
     ]
    },
    {
     "name": "stdout",
     "output_type": "stream",
     "text": [
      "\n",
      "video4_023-041-video4_023-042: overlap = 0.8579724782224467\n"
     ]
    },
    {
     "name": "stderr",
     "output_type": "stream",
     "text": [
      "\r",
      " 50%|█████     | 18/36 [00:21<00:19,  1.10s/it]"
     ]
    },
    {
     "name": "stdout",
     "output_type": "stream",
     "text": [
      "\n",
      "mean_270619-video4_023-043_opened_cc06.png: too spherical 3.7020839819631837\n",
      "\n",
      "mean_270619-video4_023-043_opened_cc108.png is INTERESTING\n"
     ]
    },
    {
     "name": "stderr",
     "output_type": "stream",
     "text": [
      "\r",
      " 53%|█████▎    | 19/36 [00:22<00:20,  1.20s/it]"
     ]
    },
    {
     "name": "stdout",
     "output_type": "stream",
     "text": [
      "\n",
      "video4_023-042-video4_023-043: overlap = 0.8248297134044467\n"
     ]
    },
    {
     "name": "stderr",
     "output_type": "stream",
     "text": [
      "\r",
      " 56%|█████▌    | 20/36 [00:23<00:16,  1.05s/it]"
     ]
    },
    {
     "name": "stdout",
     "output_type": "stream",
     "text": [
      "\n",
      "mean_270619-video4_023-043_opened_cc30.png: too spherical 3.042657176584923\n"
     ]
    },
    {
     "name": "stderr",
     "output_type": "stream",
     "text": [
      "\r",
      " 58%|█████▊    | 21/36 [00:24<00:14,  1.05it/s]"
     ]
    },
    {
     "name": "stdout",
     "output_type": "stream",
     "text": [
      "\n",
      "mean_270619-video4_023-043_opened_cc40.png: too spherical 6.107600862659886\n"
     ]
    },
    {
     "name": "stderr",
     "output_type": "stream",
     "text": [
      "\r",
      " 61%|██████    | 22/36 [00:24<00:12,  1.13it/s]"
     ]
    },
    {
     "name": "stdout",
     "output_type": "stream",
     "text": [
      "\n",
      "mean_270619-video4_023-043_opened_cc44.png: too spherical 8.853183432429537\n"
     ]
    },
    {
     "name": "stderr",
     "output_type": "stream",
     "text": [
      "\r",
      " 64%|██████▍   | 23/36 [00:25<00:10,  1.20it/s]"
     ]
    },
    {
     "name": "stdout",
     "output_type": "stream",
     "text": [
      "\n",
      "mean_270619-video4_023-043_opened_cc66.png: too spherical 5.5856755072017785\n"
     ]
    },
    {
     "name": "stderr",
     "output_type": "stream",
     "text": [
      "\r",
      " 67%|██████▋   | 24/36 [00:26<00:09,  1.25it/s]"
     ]
    },
    {
     "name": "stdout",
     "output_type": "stream",
     "text": [
      "\n",
      "mean_270619-video4_023-043_opened_cc73.png is INTERESTING\n"
     ]
    },
    {
     "name": "stderr",
     "output_type": "stream",
     "text": [
      "\r",
      " 69%|██████▉   | 25/36 [00:27<00:08,  1.29it/s]"
     ]
    },
    {
     "name": "stdout",
     "output_type": "stream",
     "text": [
      "\n",
      "mean_270619-video4_023-044_opened_cc01.png: too spherical 1.3406564854174265\n"
     ]
    },
    {
     "name": "stderr",
     "output_type": "stream",
     "text": [
      "\r",
      " 72%|███████▏  | 26/36 [00:27<00:07,  1.32it/s]"
     ]
    },
    {
     "name": "stdout",
     "output_type": "stream",
     "text": [
      "\n",
      "mean_270619-video4_023-044_opened_cc04.png: too crowded: 4.753279320987654\n"
     ]
    },
    {
     "name": "stderr",
     "output_type": "stream",
     "text": [
      "\r",
      " 75%|███████▌  | 27/36 [00:28<00:06,  1.35it/s]"
     ]
    },
    {
     "name": "stdout",
     "output_type": "stream",
     "text": [
      "\n",
      "mean_270619-video4_023-044_opened_cc08.png: too spherical 2.4727569664490794\n",
      "\n",
      "mean_270619-video4_023-044_opened_cc34.png is INTERESTING\n",
      "\n",
      "video4_023-043-video4_023-044: overlap = 0.0\n"
     ]
    },
    {
     "name": "stderr",
     "output_type": "stream",
     "text": [
      "\r",
      " 78%|███████▊  | 28/36 [00:30<00:09,  1.14s/it]"
     ]
    },
    {
     "name": "stdout",
     "output_type": "stream",
     "text": [
      "\n",
      "video4_023-043-video4_023-044: overlap = 0.0\n",
      "\n",
      "mean_270619-video4_023-044_opened_cc50.png is INTERESTING\n",
      "\n",
      "video4_023-043-video4_023-044: overlap = 0.0\n"
     ]
    },
    {
     "name": "stderr",
     "output_type": "stream",
     "text": [
      "\r",
      " 81%|████████  | 29/36 [00:32<00:10,  1.44s/it]"
     ]
    },
    {
     "name": "stdout",
     "output_type": "stream",
     "text": [
      "\n",
      "video4_023-043-video4_023-044: overlap = 0.25295109612141653\n"
     ]
    },
    {
     "name": "stderr",
     "output_type": "stream",
     "text": [
      "\r",
      " 83%|████████▎ | 30/36 [00:33<00:07,  1.22s/it]"
     ]
    },
    {
     "name": "stdout",
     "output_type": "stream",
     "text": [
      "\n",
      "mean_270619-video4_023-044_opened_cc58.png: too spherical 4.6228673471422015\n",
      "\n",
      "mean_270619-video4_023-044_opened_cc59.png is INTERESTING\n",
      "\n",
      "video4_023-043-video4_023-044: overlap = 0.0\n"
     ]
    },
    {
     "name": "stderr",
     "output_type": "stream",
     "text": [
      "\r",
      " 86%|████████▌ | 31/36 [00:35<00:07,  1.51s/it]"
     ]
    },
    {
     "name": "stdout",
     "output_type": "stream",
     "text": [
      "\n",
      "video4_023-043-video4_023-044: overlap = 0.0\n"
     ]
    },
    {
     "name": "stderr",
     "output_type": "stream",
     "text": [
      "\r",
      " 89%|████████▉ | 32/36 [00:36<00:05,  1.27s/it]"
     ]
    },
    {
     "name": "stdout",
     "output_type": "stream",
     "text": [
      "\n",
      "mean_270619-video4_023-044_opened_cc66.png: too spherical 9.006931309212698\n",
      "\n",
      "mean_270619-video4_023-044_opened_cc68.png is INTERESTING\n"
     ]
    },
    {
     "name": "stderr",
     "output_type": "stream",
     "text": [
      "\r",
      " 92%|█████████▏| 33/36 [00:37<00:03,  1.32s/it]"
     ]
    },
    {
     "name": "stdout",
     "output_type": "stream",
     "text": [
      "\n",
      "video4_023-043-video4_023-044: overlap = 0.819196087421672\n"
     ]
    },
    {
     "name": "stderr",
     "output_type": "stream",
     "text": [
      "\r",
      " 94%|█████████▍| 34/36 [00:38<00:02,  1.20s/it]"
     ]
    },
    {
     "name": "stdout",
     "output_type": "stream",
     "text": [
      "\n",
      "mean_270619-video4_023-045_opened_cc01.png: too crowded: 30.880787037037035\n",
      "\n",
      "mean_270619-video4_023-006_opened_cc02.png is INTERESTING\n",
      "\n",
      "video4_023-005-video4_023-006: overlap = 0.0\n"
     ]
    },
    {
     "name": "stderr",
     "output_type": "stream",
     "text": [
      "\r",
      " 97%|█████████▋| 35/36 [00:40<00:01,  1.50s/it]"
     ]
    },
    {
     "name": "stdout",
     "output_type": "stream",
     "text": [
      "\n",
      "video4_023-005-video4_023-006: overlap = 0.0\n"
     ]
    },
    {
     "name": "stderr",
     "output_type": "stream",
     "text": [
      "100%|██████████| 36/36 [00:41<00:00,  1.27s/it]\n",
      "  0%|          | 0/20 [00:00<?, ?it/s]"
     ]
    },
    {
     "name": "stdout",
     "output_type": "stream",
     "text": [
      "\n",
      "mean_270619-video4_023-042_opened_cc02.png is INTERESTING\n",
      "found video4_024/trigger_thr0.005_cl9_op3/cc_filtered_2den0.81_gausrad2.0/\n"
     ]
    },
    {
     "name": "stderr",
     "output_type": "stream",
     "text": [
      "\r",
      "  5%|▌         | 1/20 [00:00<00:14,  1.33it/s]"
     ]
    },
    {
     "name": "stdout",
     "output_type": "stream",
     "text": [
      "\n",
      "mean_270619-video4_024-016_opened_cc09.png: too spherical 5.222560801273626\n"
     ]
    },
    {
     "name": "stderr",
     "output_type": "stream",
     "text": [
      "\r",
      " 10%|█         | 2/20 [00:01<00:14,  1.20it/s]"
     ]
    },
    {
     "name": "stdout",
     "output_type": "stream",
     "text": [
      "\n",
      "mean_270619-video4_024-010_opened_cc02.png: too crowded: 28.189814814814817\n"
     ]
    },
    {
     "name": "stderr",
     "output_type": "stream",
     "text": [
      "\r",
      " 15%|█▌        | 3/20 [00:02<00:14,  1.17it/s]"
     ]
    },
    {
     "name": "stdout",
     "output_type": "stream",
     "text": [
      "\n",
      "mean_270619-video4_024-011_opened_cc01.png: too crowded: 22.102430555555554\n"
     ]
    },
    {
     "name": "stderr",
     "output_type": "stream",
     "text": [
      "\r",
      " 20%|██        | 4/20 [00:03<00:13,  1.18it/s]"
     ]
    },
    {
     "name": "stdout",
     "output_type": "stream",
     "text": [
      "\n",
      "mean_270619-video4_024-011_opened_cc07.png: too spherical 2.6353204094638754\n"
     ]
    },
    {
     "name": "stderr",
     "output_type": "stream",
     "text": [
      "\r",
      " 25%|██▌       | 5/20 [00:04<00:12,  1.20it/s]"
     ]
    },
    {
     "name": "stdout",
     "output_type": "stream",
     "text": [
      "\n",
      "mean_270619-video4_024-011_opened_cc08.png: too spherical 4.550314657121898\n"
     ]
    },
    {
     "name": "stderr",
     "output_type": "stream",
     "text": [
      "\r",
      " 30%|███       | 6/20 [00:05<00:12,  1.15it/s]"
     ]
    },
    {
     "name": "stdout",
     "output_type": "stream",
     "text": [
      "\n",
      "mean_270619-video4_024-016_opened_cc01.png: too crowded: 25.196952160493826\n"
     ]
    },
    {
     "name": "stderr",
     "output_type": "stream",
     "text": [
      "\r",
      " 35%|███▌      | 7/20 [00:06<00:11,  1.17it/s]"
     ]
    },
    {
     "name": "stdout",
     "output_type": "stream",
     "text": [
      "\n",
      "mean_270619-video4_024-016_opened_cc02.png is INTERESTING\n"
     ]
    },
    {
     "name": "stderr",
     "output_type": "stream",
     "text": [
      "\r",
      " 40%|████      | 8/20 [00:07<00:10,  1.10it/s]"
     ]
    },
    {
     "name": "stdout",
     "output_type": "stream",
     "text": [
      "\n",
      "mean_270619-video4_024-017_opened_cc01.png: too crowded: 31.462191358024693\n"
     ]
    },
    {
     "name": "stderr",
     "output_type": "stream",
     "text": [
      "\r",
      " 45%|████▌     | 9/20 [00:07<00:09,  1.15it/s]"
     ]
    },
    {
     "name": "stdout",
     "output_type": "stream",
     "text": [
      "\n",
      "mean_270619-video4_024-030_opened_cc01.png: too crowded: 3.3587962962962963\n"
     ]
    },
    {
     "name": "stderr",
     "output_type": "stream",
     "text": [
      "\r",
      " 50%|█████     | 10/20 [00:08<00:08,  1.19it/s]"
     ]
    },
    {
     "name": "stdout",
     "output_type": "stream",
     "text": [
      "\n",
      "mean_270619-video4_024-030_opened_cc08.png is INTERESTING\n"
     ]
    },
    {
     "name": "stderr",
     "output_type": "stream",
     "text": [
      "\r",
      " 55%|█████▌    | 11/20 [00:09<00:07,  1.20it/s]"
     ]
    },
    {
     "name": "stdout",
     "output_type": "stream",
     "text": [
      "\n",
      "mean_270619-video4_024-030_opened_cc09.png: too spherical 4.706313777268197\n"
     ]
    },
    {
     "name": "stderr",
     "output_type": "stream",
     "text": [
      "\r",
      " 60%|██████    | 12/20 [00:10<00:06,  1.21it/s]"
     ]
    },
    {
     "name": "stdout",
     "output_type": "stream",
     "text": [
      "\n",
      "mean_270619-video4_024-030_opened_cc28.png: too spherical 8.473504570621358\n"
     ]
    },
    {
     "name": "stderr",
     "output_type": "stream",
     "text": [
      "\r",
      " 65%|██████▌   | 13/20 [00:11<00:05,  1.23it/s]"
     ]
    },
    {
     "name": "stdout",
     "output_type": "stream",
     "text": [
      "\n",
      "mean_270619-video4_024-031_opened_cc13.png: too spherical 1.626116468113027\n"
     ]
    },
    {
     "name": "stderr",
     "output_type": "stream",
     "text": [
      "\r",
      " 70%|███████   | 14/20 [00:11<00:04,  1.23it/s]"
     ]
    },
    {
     "name": "stdout",
     "output_type": "stream",
     "text": [
      "\n",
      "mean_270619-video4_024-032_opened_cc15.png: too spherical 1.332087553434084\n"
     ]
    },
    {
     "name": "stderr",
     "output_type": "stream",
     "text": [
      "\r",
      " 75%|███████▌  | 15/20 [00:12<00:04,  1.24it/s]"
     ]
    },
    {
     "name": "stdout",
     "output_type": "stream",
     "text": [
      "\n",
      "mean_270619-video4_024-033_opened_cc07.png is INTERESTING\n"
     ]
    },
    {
     "name": "stderr",
     "output_type": "stream",
     "text": [
      "\r",
      " 80%|████████  | 16/20 [00:13<00:03,  1.26it/s]"
     ]
    },
    {
     "name": "stdout",
     "output_type": "stream",
     "text": [
      "\n",
      "mean_270619-video4_024-033_opened_cc11.png is INTERESTING\n"
     ]
    },
    {
     "name": "stderr",
     "output_type": "stream",
     "text": [
      "\r",
      " 85%|████████▌ | 17/20 [00:14<00:02,  1.28it/s]"
     ]
    },
    {
     "name": "stdout",
     "output_type": "stream",
     "text": [
      "\n",
      "mean_270619-video4_024-033_opened_cc12.png is INTERESTING\n"
     ]
    },
    {
     "name": "stderr",
     "output_type": "stream",
     "text": [
      "\r",
      " 90%|█████████ | 18/20 [00:14<00:01,  1.27it/s]"
     ]
    },
    {
     "name": "stdout",
     "output_type": "stream",
     "text": [
      "\n",
      "mean_270619-video4_024-033_opened_cc13.png is INTERESTING\n",
      "\n",
      "mean_270619-video4_024-034_opened_cc05.png is INTERESTING\n",
      "\n",
      "video4_024-033-video4_024-034: overlap = 0.3916475681181564\n",
      "\n",
      "video4_024-033-video4_024-034: overlap = 0.0\n",
      "\n",
      "video4_024-033-video4_024-034: overlap = 0.4982868330885952\n"
     ]
    },
    {
     "name": "stderr",
     "output_type": "stream",
     "text": [
      "\r",
      " 95%|█████████▌| 19/20 [00:18<00:01,  1.70s/it]"
     ]
    },
    {
     "name": "stdout",
     "output_type": "stream",
     "text": [
      "\n",
      "video4_024-033-video4_024-034: overlap = 0.0\n"
     ]
    },
    {
     "name": "stderr",
     "output_type": "stream",
     "text": [
      "100%|██████████| 20/20 [00:19<00:00,  1.41s/it]\n",
      "  0%|          | 0/28 [00:00<?, ?it/s]"
     ]
    },
    {
     "name": "stdout",
     "output_type": "stream",
     "text": [
      "\n",
      "mean_270619-video4_024-037_opened_cc06.png is INTERESTING\n",
      "found video4_025/trigger_thr0.005_cl9_op3/cc_filtered_2den0.81_gausrad2.0/\n"
     ]
    },
    {
     "name": "stderr",
     "output_type": "stream",
     "text": [
      "\r",
      "  4%|▎         | 1/28 [00:00<00:20,  1.32it/s]"
     ]
    },
    {
     "name": "stdout",
     "output_type": "stream",
     "text": [
      "\n",
      "mean_270619-video4_025-011_opened_cc38.png: too spherical 1.6702894821985992\n"
     ]
    },
    {
     "name": "stderr",
     "output_type": "stream",
     "text": [
      "\r",
      "  7%|▋         | 2/28 [00:01<00:19,  1.33it/s]"
     ]
    },
    {
     "name": "stdout",
     "output_type": "stream",
     "text": [
      "\n",
      "mean_270619-video4_025-003_opened_cc04.png is INTERESTING\n"
     ]
    },
    {
     "name": "stderr",
     "output_type": "stream",
     "text": [
      "\r",
      " 11%|█         | 3/28 [00:02<00:19,  1.27it/s]"
     ]
    },
    {
     "name": "stdout",
     "output_type": "stream",
     "text": [
      "\n",
      "mean_270619-video4_025-011_opened_cc02.png: too spherical 2.7552185038411294\n"
     ]
    },
    {
     "name": "stderr",
     "output_type": "stream",
     "text": [
      "\r",
      " 14%|█▍        | 4/28 [00:03<00:18,  1.30it/s]"
     ]
    },
    {
     "name": "stdout",
     "output_type": "stream",
     "text": [
      "\n",
      "mean_270619-video4_025-011_opened_cc04.png: too crowded: 5.03317901234568\n"
     ]
    },
    {
     "name": "stderr",
     "output_type": "stream",
     "text": [
      "\r",
      " 18%|█▊        | 5/28 [00:03<00:17,  1.31it/s]"
     ]
    },
    {
     "name": "stdout",
     "output_type": "stream",
     "text": [
      "\n",
      "mean_270619-video4_025-011_opened_cc08.png: too spherical 8.224352039423568\n"
     ]
    },
    {
     "name": "stderr",
     "output_type": "stream",
     "text": [
      "\r",
      " 21%|██▏       | 6/28 [00:04<00:16,  1.31it/s]"
     ]
    },
    {
     "name": "stdout",
     "output_type": "stream",
     "text": [
      "\n",
      "mean_270619-video4_025-011_opened_cc21.png is INTERESTING\n"
     ]
    },
    {
     "name": "stderr",
     "output_type": "stream",
     "text": [
      "\r",
      " 25%|██▌       | 7/28 [00:05<00:15,  1.32it/s]"
     ]
    },
    {
     "name": "stdout",
     "output_type": "stream",
     "text": [
      "\n",
      "mean_270619-video4_025-011_opened_cc26.png: too spherical 6.328812332517661\n"
     ]
    },
    {
     "name": "stderr",
     "output_type": "stream",
     "text": [
      "\r",
      " 29%|██▊       | 8/28 [00:06<00:15,  1.33it/s]"
     ]
    },
    {
     "name": "stdout",
     "output_type": "stream",
     "text": [
      "\n",
      "mean_270619-video4_025-011_opened_cc50.png: too spherical 1.891656040527079\n"
     ]
    },
    {
     "name": "stderr",
     "output_type": "stream",
     "text": [
      "\r",
      " 32%|███▏      | 9/28 [00:06<00:14,  1.34it/s]"
     ]
    },
    {
     "name": "stdout",
     "output_type": "stream",
     "text": [
      "\n",
      "mean_270619-video4_025-011_opened_cc53.png: too spherical 3.1668548453979484\n"
     ]
    },
    {
     "name": "stderr",
     "output_type": "stream",
     "text": [
      "\r",
      " 36%|███▌      | 10/28 [00:07<00:14,  1.28it/s]"
     ]
    },
    {
     "name": "stdout",
     "output_type": "stream",
     "text": [
      "\n",
      "mean_270619-video4_025-011_opened_cc54.png is INTERESTING\n"
     ]
    },
    {
     "name": "stderr",
     "output_type": "stream",
     "text": [
      "\r",
      " 39%|███▉      | 11/28 [00:08<00:13,  1.25it/s]"
     ]
    },
    {
     "name": "stdout",
     "output_type": "stream",
     "text": [
      "\n",
      "mean_270619-video4_025-011_opened_cc58.png: too spherical 9.54276756773501\n"
     ]
    },
    {
     "name": "stderr",
     "output_type": "stream",
     "text": [
      "\r",
      " 43%|████▎     | 12/28 [00:09<00:12,  1.25it/s]"
     ]
    },
    {
     "name": "stdout",
     "output_type": "stream",
     "text": [
      "\n",
      "mean_270619-video4_025-034_opened_cc07.png: too spherical 3.98881198747314\n"
     ]
    },
    {
     "name": "stderr",
     "output_type": "stream",
     "text": [
      "\r",
      " 46%|████▋     | 13/28 [00:10<00:12,  1.20it/s]"
     ]
    },
    {
     "name": "stdout",
     "output_type": "stream",
     "text": [
      "\n",
      "mean_270619-video4_025-037_opened_cc03.png is INTERESTING\n"
     ]
    },
    {
     "name": "stderr",
     "output_type": "stream",
     "text": [
      "\r",
      " 50%|█████     | 14/28 [00:10<00:11,  1.24it/s]"
     ]
    },
    {
     "name": "stdout",
     "output_type": "stream",
     "text": [
      "\n",
      "mean_270619-video4_025-037_opened_cc18.png: too spherical 5.76706150746096\n"
     ]
    },
    {
     "name": "stderr",
     "output_type": "stream",
     "text": [
      "\r",
      " 54%|█████▎    | 15/28 [00:11<00:11,  1.18it/s]"
     ]
    },
    {
     "name": "stdout",
     "output_type": "stream",
     "text": [
      "\n",
      "mean_270619-video4_025-040_opened_cc01.png is INTERESTING\n"
     ]
    },
    {
     "name": "stderr",
     "output_type": "stream",
     "text": [
      "\r",
      " 57%|█████▋    | 16/28 [00:12<00:09,  1.22it/s]"
     ]
    },
    {
     "name": "stdout",
     "output_type": "stream",
     "text": [
      "\n",
      "mean_270619-video4_025-040_opened_cc04.png: too spherical 4.3696966879091\n"
     ]
    },
    {
     "name": "stderr",
     "output_type": "stream",
     "text": [
      "\r",
      " 61%|██████    | 17/28 [00:13<00:09,  1.21it/s]"
     ]
    },
    {
     "name": "stdout",
     "output_type": "stream",
     "text": [
      "\n",
      "mean_270619-video4_025-040_opened_cc06.png: too spherical 5.986820129909802\n"
     ]
    },
    {
     "name": "stderr",
     "output_type": "stream",
     "text": [
      "\r",
      " 64%|██████▍   | 18/28 [00:14<00:08,  1.16it/s]"
     ]
    },
    {
     "name": "stdout",
     "output_type": "stream",
     "text": [
      "\n",
      "mean_270619-video4_025-040_opened_cc07.png: too spherical 1.9483016409119507\n"
     ]
    },
    {
     "name": "stderr",
     "output_type": "stream",
     "text": [
      "\r",
      " 68%|██████▊   | 19/28 [00:15<00:07,  1.19it/s]"
     ]
    },
    {
     "name": "stdout",
     "output_type": "stream",
     "text": [
      "\n",
      "mean_270619-video4_025-040_opened_cc15.png is INTERESTING\n"
     ]
    },
    {
     "name": "stderr",
     "output_type": "stream",
     "text": [
      "\r",
      " 71%|███████▏  | 20/28 [00:16<00:06,  1.23it/s]"
     ]
    },
    {
     "name": "stdout",
     "output_type": "stream",
     "text": [
      "\n",
      "mean_270619-video4_025-040_opened_cc24.png: too spherical 3.420408945350329\n"
     ]
    },
    {
     "name": "stderr",
     "output_type": "stream",
     "text": [
      "\r",
      " 75%|███████▌  | 21/28 [00:16<00:05,  1.23it/s]"
     ]
    },
    {
     "name": "stdout",
     "output_type": "stream",
     "text": [
      "\n",
      "mean_270619-video4_025-040_opened_cc28.png: too spherical 2.271564183426633\n"
     ]
    },
    {
     "name": "stderr",
     "output_type": "stream",
     "text": [
      "\r",
      " 79%|███████▊  | 22/28 [00:17<00:04,  1.26it/s]"
     ]
    },
    {
     "name": "stdout",
     "output_type": "stream",
     "text": [
      "\n",
      "mean_270619-video4_025-040_opened_cc32.png is INTERESTING\n"
     ]
    },
    {
     "name": "stderr",
     "output_type": "stream",
     "text": [
      "\r",
      " 82%|████████▏ | 23/28 [00:18<00:04,  1.24it/s]"
     ]
    },
    {
     "name": "stdout",
     "output_type": "stream",
     "text": [
      "\n",
      "mean_270619-video4_025-040_opened_cc42.png: too spherical 9.602876181163493\n"
     ]
    },
    {
     "name": "stderr",
     "output_type": "stream",
     "text": [
      "\r",
      " 86%|████████▌ | 24/28 [00:19<00:03,  1.23it/s]"
     ]
    },
    {
     "name": "stdout",
     "output_type": "stream",
     "text": [
      "\n",
      "mean_270619-video4_025-040_opened_cc43.png: too spherical 2.631417581860441\n"
     ]
    },
    {
     "name": "stderr",
     "output_type": "stream",
     "text": [
      "\r",
      " 89%|████████▉ | 25/28 [00:19<00:02,  1.26it/s]"
     ]
    },
    {
     "name": "stdout",
     "output_type": "stream",
     "text": [
      "\n",
      "mean_270619-video4_025-040_opened_cc51.png: too spherical 4.779957274132443\n"
     ]
    },
    {
     "name": "stderr",
     "output_type": "stream",
     "text": [
      "\r",
      " 93%|█████████▎| 26/28 [00:20<00:01,  1.27it/s]"
     ]
    },
    {
     "name": "stdout",
     "output_type": "stream",
     "text": [
      "\n",
      "mean_270619-video4_025-040_opened_cc54.png: too spherical 1.6547535463155425\n"
     ]
    },
    {
     "name": "stderr",
     "output_type": "stream",
     "text": [
      "\r",
      " 96%|█████████▋| 27/28 [00:21<00:00,  1.28it/s]"
     ]
    },
    {
     "name": "stdout",
     "output_type": "stream",
     "text": [
      "\n",
      "mean_270619-video4_025-040_opened_cc58.png: too spherical 5.519752581310174\n"
     ]
    },
    {
     "name": "stderr",
     "output_type": "stream",
     "text": [
      "100%|██████████| 28/28 [00:22<00:00,  1.21it/s]\n",
      "  0%|          | 0/45 [00:00<?, ?it/s]"
     ]
    },
    {
     "name": "stdout",
     "output_type": "stream",
     "text": [
      "\n",
      "mean_270619-video4_025-040_opened_cc61.png is INTERESTING\n",
      "found video4_026/trigger_thr0.005_cl9_op3/cc_filtered_2den0.81_gausrad2.0/\n"
     ]
    },
    {
     "name": "stderr",
     "output_type": "stream",
     "text": [
      "\r",
      "  2%|▏         | 1/45 [00:00<00:41,  1.06it/s]"
     ]
    },
    {
     "name": "stdout",
     "output_type": "stream",
     "text": [
      "\n",
      "mean_270619-video4_026-012_opened_cc01.png: too crowded: 3.6298225308641974\n"
     ]
    },
    {
     "name": "stderr",
     "output_type": "stream",
     "text": [
      "\r",
      "  4%|▍         | 2/45 [00:01<00:41,  1.03it/s]"
     ]
    },
    {
     "name": "stdout",
     "output_type": "stream",
     "text": [
      "\n",
      "mean_270619-video4_026-012_opened_cc20.png: too spherical 4.161742689396875\n"
     ]
    },
    {
     "name": "stderr",
     "output_type": "stream",
     "text": [
      "\r",
      "  7%|▋         | 3/45 [00:02<00:38,  1.09it/s]"
     ]
    },
    {
     "name": "stdout",
     "output_type": "stream",
     "text": [
      "\n",
      "mean_270619-video4_026-012_opened_cc36.png: too spherical 8.879750562226135\n"
     ]
    },
    {
     "name": "stderr",
     "output_type": "stream",
     "text": [
      "\r",
      "  9%|▉         | 4/45 [00:03<00:35,  1.16it/s]"
     ]
    },
    {
     "name": "stdout",
     "output_type": "stream",
     "text": [
      "\n",
      "mean_270619-video4_026-012_opened_cc64.png: too spherical 2.8786371736844454\n"
     ]
    },
    {
     "name": "stderr",
     "output_type": "stream",
     "text": [
      "\r",
      " 11%|█         | 5/45 [00:04<00:33,  1.21it/s]"
     ]
    },
    {
     "name": "stdout",
     "output_type": "stream",
     "text": [
      "\n",
      "mean_270619-video4_026-012_opened_cc67.png: too spherical 2.375519618272039\n"
     ]
    },
    {
     "name": "stderr",
     "output_type": "stream",
     "text": [
      "\r",
      " 13%|█▎        | 6/45 [00:04<00:31,  1.24it/s]"
     ]
    },
    {
     "name": "stdout",
     "output_type": "stream",
     "text": [
      "\n",
      "mean_270619-video4_026-014_opened_cc04.png: too spherical 3.5485357026481856\n"
     ]
    },
    {
     "name": "stderr",
     "output_type": "stream",
     "text": [
      "\r",
      " 16%|█▌        | 7/45 [00:05<00:29,  1.28it/s]"
     ]
    },
    {
     "name": "stdout",
     "output_type": "stream",
     "text": [
      "\n",
      "mean_270619-video4_026-015_opened_cc04.png: too spherical 3.2899154550466654\n"
     ]
    },
    {
     "name": "stderr",
     "output_type": "stream",
     "text": [
      "\r",
      " 18%|█▊        | 8/45 [00:06<00:28,  1.28it/s]"
     ]
    },
    {
     "name": "stdout",
     "output_type": "stream",
     "text": [
      "\n",
      "mean_270619-video4_026-015_opened_cc15.png: too spherical 2.4772380648246277\n"
     ]
    },
    {
     "name": "stderr",
     "output_type": "stream",
     "text": [
      "\r",
      " 20%|██        | 9/45 [00:07<00:27,  1.31it/s]"
     ]
    },
    {
     "name": "stdout",
     "output_type": "stream",
     "text": [
      "\n",
      "mean_270619-video4_026-016_opened_cc01.png: too spherical 1.6797237386512023\n"
     ]
    },
    {
     "name": "stderr",
     "output_type": "stream",
     "text": [
      "\r",
      " 22%|██▏       | 10/45 [00:07<00:26,  1.32it/s]"
     ]
    },
    {
     "name": "stdout",
     "output_type": "stream",
     "text": [
      "\n",
      "mean_270619-video4_026-016_opened_cc04.png: too spherical 5.052677847153986\n"
     ]
    },
    {
     "name": "stderr",
     "output_type": "stream",
     "text": [
      "\r",
      " 24%|██▍       | 11/45 [00:08<00:25,  1.36it/s]"
     ]
    },
    {
     "name": "stdout",
     "output_type": "stream",
     "text": [
      "\n",
      "mean_270619-video4_026-016_opened_cc09.png is INTERESTING\n"
     ]
    },
    {
     "name": "stderr",
     "output_type": "stream",
     "text": [
      "\r",
      " 27%|██▋       | 12/45 [00:09<00:25,  1.31it/s]"
     ]
    },
    {
     "name": "stdout",
     "output_type": "stream",
     "text": [
      "\n",
      "mean_270619-video4_026-016_opened_cc15.png: too spherical 1.8457659659865913\n"
     ]
    },
    {
     "name": "stderr",
     "output_type": "stream",
     "text": [
      "\r",
      " 29%|██▉       | 13/45 [00:10<00:24,  1.32it/s]"
     ]
    },
    {
     "name": "stdout",
     "output_type": "stream",
     "text": [
      "\n",
      "mean_270619-video4_026-016_opened_cc33.png: too spherical 1.6014546000705183\n"
     ]
    },
    {
     "name": "stderr",
     "output_type": "stream",
     "text": [
      "\r",
      " 31%|███       | 14/45 [00:10<00:23,  1.33it/s]"
     ]
    },
    {
     "name": "stdout",
     "output_type": "stream",
     "text": [
      "\n",
      "mean_270619-video4_026-016_opened_cc34.png: too spherical 8.170738487229972\n"
     ]
    },
    {
     "name": "stderr",
     "output_type": "stream",
     "text": [
      "\r",
      " 33%|███▎      | 15/45 [00:11<00:21,  1.36it/s]"
     ]
    },
    {
     "name": "stdout",
     "output_type": "stream",
     "text": [
      "\n",
      "mean_270619-video4_026-016_opened_cc37.png: too spherical 8.219590135431837\n"
     ]
    },
    {
     "name": "stderr",
     "output_type": "stream",
     "text": [
      "\r",
      " 36%|███▌      | 16/45 [00:12<00:21,  1.38it/s]"
     ]
    },
    {
     "name": "stdout",
     "output_type": "stream",
     "text": [
      "\n",
      "mean_270619-video4_026-016_opened_cc55.png: too spherical 3.6624455207787876\n"
     ]
    },
    {
     "name": "stderr",
     "output_type": "stream",
     "text": [
      "\r",
      " 38%|███▊      | 17/45 [00:13<00:20,  1.38it/s]"
     ]
    },
    {
     "name": "stdout",
     "output_type": "stream",
     "text": [
      "\n",
      "mean_270619-video4_026-016_opened_cc60.png is INTERESTING\n"
     ]
    },
    {
     "name": "stderr",
     "output_type": "stream",
     "text": [
      "\r",
      " 40%|████      | 18/45 [00:13<00:19,  1.37it/s]"
     ]
    },
    {
     "name": "stdout",
     "output_type": "stream",
     "text": [
      "\n",
      "mean_270619-video4_026-016_opened_cc62.png: too spherical 4.424648404548384\n"
     ]
    },
    {
     "name": "stderr",
     "output_type": "stream",
     "text": [
      "\r",
      " 42%|████▏     | 19/45 [00:14<00:18,  1.37it/s]"
     ]
    },
    {
     "name": "stdout",
     "output_type": "stream",
     "text": [
      "\n",
      "mean_270619-video4_026-016_opened_cc76.png is INTERESTING\n"
     ]
    },
    {
     "name": "stderr",
     "output_type": "stream",
     "text": [
      "\r",
      " 44%|████▍     | 20/45 [00:15<00:18,  1.37it/s]"
     ]
    },
    {
     "name": "stdout",
     "output_type": "stream",
     "text": [
      "\n",
      "mean_270619-video4_026-016_opened_cc84.png is INTERESTING\n"
     ]
    },
    {
     "name": "stderr",
     "output_type": "stream",
     "text": [
      "\r",
      " 47%|████▋     | 21/45 [00:16<00:18,  1.33it/s]"
     ]
    },
    {
     "name": "stdout",
     "output_type": "stream",
     "text": [
      "\n",
      "mean_270619-video4_026-017_opened_cc10.png: too spherical 4.464960035465348\n",
      "\n",
      "mean_270619-video4_026-017_opened_cc35.png is INTERESTING\n",
      "\n",
      "video4_026-016-video4_026-017: overlap = 0.0\n"
     ]
    },
    {
     "name": "stderr",
     "output_type": "stream",
     "text": [
      "\r",
      " 49%|████▉     | 22/45 [00:18<00:26,  1.16s/it]"
     ]
    },
    {
     "name": "stdout",
     "output_type": "stream",
     "text": [
      "\n",
      "video4_026-016-video4_026-017: overlap = 0.5902439024390245\n",
      "\n",
      "mean_270619-video4_026-018_opened_cc11.png is INTERESTING\n"
     ]
    },
    {
     "name": "stderr",
     "output_type": "stream",
     "text": [
      "\r",
      " 51%|█████     | 23/45 [00:19<00:27,  1.25s/it]"
     ]
    },
    {
     "name": "stdout",
     "output_type": "stream",
     "text": [
      "\n",
      "video4_026-017-video4_026-018: overlap = 0.0\n"
     ]
    },
    {
     "name": "stderr",
     "output_type": "stream",
     "text": [
      "\r",
      " 53%|█████▎    | 24/45 [00:20<00:22,  1.09s/it]"
     ]
    },
    {
     "name": "stdout",
     "output_type": "stream",
     "text": [
      "\n",
      "mean_270619-video4_026-021_opened_cc02.png: too crowded: 4.209490740740741\n"
     ]
    },
    {
     "name": "stderr",
     "output_type": "stream",
     "text": [
      "\r",
      " 56%|█████▌    | 25/45 [00:21<00:19,  1.03it/s]"
     ]
    },
    {
     "name": "stdout",
     "output_type": "stream",
     "text": [
      "\n",
      "mean_270619-video4_026-021_opened_cc07.png: too spherical 4.992190058527241\n"
     ]
    },
    {
     "name": "stderr",
     "output_type": "stream",
     "text": [
      "\r",
      " 58%|█████▊    | 26/45 [00:21<00:17,  1.11it/s]"
     ]
    },
    {
     "name": "stdout",
     "output_type": "stream",
     "text": [
      "\n",
      "mean_270619-video4_026-021_opened_cc26.png: too spherical 1.9220602580021084\n"
     ]
    },
    {
     "name": "stderr",
     "output_type": "stream",
     "text": [
      "\r",
      " 60%|██████    | 27/45 [00:22<00:15,  1.17it/s]"
     ]
    },
    {
     "name": "stdout",
     "output_type": "stream",
     "text": [
      "\n",
      "mean_270619-video4_026-021_opened_cc29.png: too spherical 4.8060606378484\n"
     ]
    },
    {
     "name": "stderr",
     "output_type": "stream",
     "text": [
      "\r",
      " 62%|██████▏   | 28/45 [00:23<00:13,  1.23it/s]"
     ]
    },
    {
     "name": "stdout",
     "output_type": "stream",
     "text": [
      "\n",
      "mean_270619-video4_026-021_opened_cc59.png: too spherical 1.8010182313744512\n"
     ]
    },
    {
     "name": "stderr",
     "output_type": "stream",
     "text": [
      "\r",
      " 64%|██████▍   | 29/45 [00:23<00:12,  1.29it/s]"
     ]
    },
    {
     "name": "stdout",
     "output_type": "stream",
     "text": [
      "\n",
      "mean_270619-video4_026-021_opened_cc68.png: too spherical 5.220864619020286\n"
     ]
    },
    {
     "name": "stderr",
     "output_type": "stream",
     "text": [
      "\r",
      " 67%|██████▋   | 30/45 [00:24<00:11,  1.32it/s]"
     ]
    },
    {
     "name": "stdout",
     "output_type": "stream",
     "text": [
      "\n",
      "mean_270619-video4_026-021_opened_cc79.png is INTERESTING\n"
     ]
    },
    {
     "name": "stderr",
     "output_type": "stream",
     "text": [
      "\r",
      " 69%|██████▉   | 31/45 [00:25<00:10,  1.35it/s]"
     ]
    },
    {
     "name": "stdout",
     "output_type": "stream",
     "text": [
      "\n",
      "mean_270619-video4_026-021_opened_cc82.png is INTERESTING\n"
     ]
    },
    {
     "name": "stderr",
     "output_type": "stream",
     "text": [
      "\r",
      " 71%|███████   | 32/45 [00:26<00:09,  1.33it/s]"
     ]
    },
    {
     "name": "stdout",
     "output_type": "stream",
     "text": [
      "\n",
      "mean_270619-video4_026-024_opened_cc26.png: too spherical 4.3043656720018975\n"
     ]
    },
    {
     "name": "stderr",
     "output_type": "stream",
     "text": [
      "\r",
      " 73%|███████▎  | 33/45 [00:26<00:09,  1.33it/s]"
     ]
    },
    {
     "name": "stdout",
     "output_type": "stream",
     "text": [
      "\n",
      "mean_270619-video4_026-025_opened_cc05.png: too spherical 2.36697219845126\n"
     ]
    },
    {
     "name": "stderr",
     "output_type": "stream",
     "text": [
      "\r",
      " 76%|███████▌  | 34/45 [00:27<00:08,  1.35it/s]"
     ]
    },
    {
     "name": "stdout",
     "output_type": "stream",
     "text": [
      "\n",
      "mean_270619-video4_026-025_opened_cc29.png: too spherical 9.719331824904508\n"
     ]
    },
    {
     "name": "stderr",
     "output_type": "stream",
     "text": [
      "\r",
      " 78%|███████▊  | 35/45 [00:28<00:07,  1.37it/s]"
     ]
    },
    {
     "name": "stdout",
     "output_type": "stream",
     "text": [
      "\n",
      "mean_270619-video4_026-025_opened_cc33.png: too spherical 2.7509524423128755\n"
     ]
    },
    {
     "name": "stderr",
     "output_type": "stream",
     "text": [
      "\r",
      " 80%|████████  | 36/45 [00:29<00:06,  1.35it/s]"
     ]
    },
    {
     "name": "stdout",
     "output_type": "stream",
     "text": [
      "\n",
      "mean_270619-video4_026-031_opened_cc01.png: too crowded: 9.438850308641975\n"
     ]
    },
    {
     "name": "stderr",
     "output_type": "stream",
     "text": [
      "\r",
      " 82%|████████▏ | 37/45 [00:29<00:05,  1.36it/s]"
     ]
    },
    {
     "name": "stdout",
     "output_type": "stream",
     "text": [
      "\n",
      "mean_270619-video4_026-031_opened_cc09.png: too spherical 6.440498483616411\n"
     ]
    },
    {
     "name": "stderr",
     "output_type": "stream",
     "text": [
      "\r",
      " 84%|████████▍ | 38/45 [00:30<00:05,  1.30it/s]"
     ]
    },
    {
     "name": "stdout",
     "output_type": "stream",
     "text": [
      "\n",
      "mean_270619-video4_026-031_opened_cc10.png is INTERESTING\n"
     ]
    },
    {
     "name": "stderr",
     "output_type": "stream",
     "text": [
      "\r",
      " 87%|████████▋ | 39/45 [00:31<00:04,  1.34it/s]"
     ]
    },
    {
     "name": "stdout",
     "output_type": "stream",
     "text": [
      "\n",
      "mean_270619-video4_026-031_opened_cc18.png is INTERESTING\n"
     ]
    },
    {
     "name": "stderr",
     "output_type": "stream",
     "text": [
      "\r",
      " 89%|████████▉ | 40/45 [00:32<00:03,  1.36it/s]"
     ]
    },
    {
     "name": "stdout",
     "output_type": "stream",
     "text": [
      "\n",
      "mean_270619-video4_026-031_opened_cc32.png: too spherical 5.535540302293657\n"
     ]
    },
    {
     "name": "stderr",
     "output_type": "stream",
     "text": [
      "\r",
      " 91%|█████████ | 41/45 [00:32<00:02,  1.38it/s]"
     ]
    },
    {
     "name": "stdout",
     "output_type": "stream",
     "text": [
      "\n",
      "mean_270619-video4_026-037_opened_cc02.png: too spherical 3.7837735532374546\n"
     ]
    },
    {
     "name": "stderr",
     "output_type": "stream",
     "text": [
      "\r",
      " 93%|█████████▎| 42/45 [00:33<00:02,  1.40it/s]"
     ]
    },
    {
     "name": "stdout",
     "output_type": "stream",
     "text": [
      "\n",
      "mean_270619-video4_026-037_opened_cc20.png is INTERESTING\n"
     ]
    },
    {
     "name": "stderr",
     "output_type": "stream",
     "text": [
      "\r",
      " 96%|█████████▌| 43/45 [00:34<00:01,  1.38it/s]"
     ]
    },
    {
     "name": "stdout",
     "output_type": "stream",
     "text": [
      "\n",
      "mean_270619-video4_026-038_opened_cc65.png: too spherical 5.606176861747093\n"
     ]
    },
    {
     "name": "stderr",
     "output_type": "stream",
     "text": [
      "\r",
      " 98%|█████████▊| 44/45 [00:34<00:00,  1.35it/s]"
     ]
    },
    {
     "name": "stdout",
     "output_type": "stream",
     "text": [
      "\n",
      "mean_270619-video4_026-016_opened_cc25.png is INTERESTING\n"
     ]
    },
    {
     "name": "stderr",
     "output_type": "stream",
     "text": [
      "100%|██████████| 45/45 [00:35<00:00,  1.32it/s]\n",
      "  0%|          | 0/23 [00:00<?, ?it/s]"
     ]
    },
    {
     "name": "stdout",
     "output_type": "stream",
     "text": [
      "\n",
      "mean_270619-video4_026-021_opened_cc01.png: too crowded: 11.424382716049383\n",
      "found video4_027/trigger_thr0.005_cl9_op3/cc_filtered_2den0.81_gausrad2.0/\n"
     ]
    },
    {
     "name": "stderr",
     "output_type": "stream",
     "text": [
      "\r",
      "  4%|▍         | 1/23 [00:00<00:16,  1.37it/s]"
     ]
    },
    {
     "name": "stdout",
     "output_type": "stream",
     "text": [
      "\n",
      "mean_270619-video4_027-011_opened_cc20.png: too spherical 1.6428132978329593\n"
     ]
    },
    {
     "name": "stderr",
     "output_type": "stream",
     "text": [
      "\r",
      "  9%|▊         | 2/23 [00:01<00:15,  1.36it/s]"
     ]
    },
    {
     "name": "stdout",
     "output_type": "stream",
     "text": [
      "\n",
      "mean_270619-video4_027-011_opened_cc01.png: too crowded: 7.626736111111112\n"
     ]
    },
    {
     "name": "stderr",
     "output_type": "stream",
     "text": [
      "\r",
      " 13%|█▎        | 3/23 [00:02<00:14,  1.35it/s]"
     ]
    },
    {
     "name": "stdout",
     "output_type": "stream",
     "text": [
      "\n",
      "mean_270619-video4_027-011_opened_cc03.png: too spherical 3.036540528146671\n"
     ]
    },
    {
     "name": "stderr",
     "output_type": "stream",
     "text": [
      "\r",
      " 17%|█▋        | 4/23 [00:02<00:14,  1.35it/s]"
     ]
    },
    {
     "name": "stdout",
     "output_type": "stream",
     "text": [
      "\n",
      "mean_270619-video4_027-011_opened_cc05.png: too spherical 1.4284840026188843\n"
     ]
    },
    {
     "name": "stderr",
     "output_type": "stream",
     "text": [
      "\r",
      " 22%|██▏       | 5/23 [00:03<00:13,  1.34it/s]"
     ]
    },
    {
     "name": "stdout",
     "output_type": "stream",
     "text": [
      "\n",
      "mean_270619-video4_027-011_opened_cc07.png: too spherical 2.721762497591227\n"
     ]
    },
    {
     "name": "stderr",
     "output_type": "stream",
     "text": [
      "\r",
      " 26%|██▌       | 6/23 [00:04<00:12,  1.37it/s]"
     ]
    },
    {
     "name": "stdout",
     "output_type": "stream",
     "text": [
      "\n",
      "mean_270619-video4_027-011_opened_cc09.png: too crowded: 3.002121913580247\n"
     ]
    },
    {
     "name": "stderr",
     "output_type": "stream",
     "text": [
      "\r",
      " 30%|███       | 7/23 [00:05<00:11,  1.39it/s]"
     ]
    },
    {
     "name": "stdout",
     "output_type": "stream",
     "text": [
      "\n",
      "mean_270619-video4_027-011_opened_cc14.png: too spherical 6.430908160753711\n"
     ]
    },
    {
     "name": "stderr",
     "output_type": "stream",
     "text": [
      "\r",
      " 35%|███▍      | 8/23 [00:05<00:10,  1.41it/s]"
     ]
    },
    {
     "name": "stdout",
     "output_type": "stream",
     "text": [
      "\n",
      "mean_270619-video4_027-011_opened_cc19.png: too spherical 3.1328867977584154\n"
     ]
    },
    {
     "name": "stderr",
     "output_type": "stream",
     "text": [
      "\r",
      " 39%|███▉      | 9/23 [00:06<00:09,  1.41it/s]"
     ]
    },
    {
     "name": "stdout",
     "output_type": "stream",
     "text": [
      "\n",
      "mean_270619-video4_027-011_opened_cc22.png: too spherical 6.741521433985249\n"
     ]
    },
    {
     "name": "stderr",
     "output_type": "stream",
     "text": [
      "\r",
      " 43%|████▎     | 10/23 [00:07<00:09,  1.42it/s]"
     ]
    },
    {
     "name": "stdout",
     "output_type": "stream",
     "text": [
      "\n",
      "mean_270619-video4_027-011_opened_cc26.png is INTERESTING\n"
     ]
    },
    {
     "name": "stderr",
     "output_type": "stream",
     "text": [
      "\r",
      " 48%|████▊     | 11/23 [00:07<00:08,  1.42it/s]"
     ]
    },
    {
     "name": "stdout",
     "output_type": "stream",
     "text": [
      "\n",
      "mean_270619-video4_027-011_opened_cc52.png: too spherical 5.619776751034816\n"
     ]
    },
    {
     "name": "stderr",
     "output_type": "stream",
     "text": [
      "\r",
      " 52%|█████▏    | 12/23 [00:08<00:07,  1.40it/s]"
     ]
    },
    {
     "name": "stdout",
     "output_type": "stream",
     "text": [
      "\n",
      "mean_270619-video4_027-011_opened_cc57.png: too spherical 2.721897581415136\n"
     ]
    },
    {
     "name": "stderr",
     "output_type": "stream",
     "text": [
      "\r",
      " 57%|█████▋    | 13/23 [00:09<00:07,  1.37it/s]"
     ]
    },
    {
     "name": "stdout",
     "output_type": "stream",
     "text": [
      "\n",
      "mean_270619-video4_027-011_opened_cc61.png: too spherical 8.688568341033939\n"
     ]
    },
    {
     "name": "stderr",
     "output_type": "stream",
     "text": [
      "\r",
      " 61%|██████    | 14/23 [00:10<00:06,  1.29it/s]"
     ]
    },
    {
     "name": "stdout",
     "output_type": "stream",
     "text": [
      "\n",
      "mean_270619-video4_027-018_opened_cc02.png: too crowded: 17.57986111111111\n"
     ]
    },
    {
     "name": "stderr",
     "output_type": "stream",
     "text": [
      "\r",
      " 65%|██████▌   | 15/23 [00:11<00:06,  1.28it/s]"
     ]
    },
    {
     "name": "stdout",
     "output_type": "stream",
     "text": [
      "\n",
      "mean_270619-video4_027-018_opened_cc10.png: too spherical 7.684018030325361\n"
     ]
    },
    {
     "name": "stderr",
     "output_type": "stream",
     "text": [
      "\r",
      " 70%|██████▉   | 16/23 [00:11<00:05,  1.32it/s]"
     ]
    },
    {
     "name": "stdout",
     "output_type": "stream",
     "text": [
      "\n",
      "mean_270619-video4_027-018_opened_cc11.png: too spherical 4.951575502764715\n"
     ]
    },
    {
     "name": "stderr",
     "output_type": "stream",
     "text": [
      "\r",
      " 74%|███████▍  | 17/23 [00:12<00:04,  1.32it/s]"
     ]
    },
    {
     "name": "stdout",
     "output_type": "stream",
     "text": [
      "\n",
      "mean_270619-video4_027-034_opened_cc04.png is INTERESTING\n",
      "\n",
      "mean_270619-video4_027-035_opened_cc04.png is INTERESTING\n"
     ]
    },
    {
     "name": "stderr",
     "output_type": "stream",
     "text": [
      "\r",
      " 78%|███████▊  | 18/23 [00:13<00:04,  1.04it/s]"
     ]
    },
    {
     "name": "stdout",
     "output_type": "stream",
     "text": [
      "\n",
      "video4_027-034-video4_027-035: overlap = 0.7657173562600752\n"
     ]
    },
    {
     "name": "stderr",
     "output_type": "stream",
     "text": [
      "\r",
      " 83%|████████▎ | 19/23 [00:14<00:03,  1.11it/s]"
     ]
    },
    {
     "name": "stdout",
     "output_type": "stream",
     "text": [
      "\n",
      "mean_270619-video4_027-035_opened_cc16.png is INTERESTING\n"
     ]
    },
    {
     "name": "stderr",
     "output_type": "stream",
     "text": [
      "\r",
      " 87%|████████▋ | 20/23 [00:15<00:02,  1.17it/s]"
     ]
    },
    {
     "name": "stdout",
     "output_type": "stream",
     "text": [
      "\n",
      "mean_270619-video4_027-043_opened_cc32.png: too spherical 3.8342739357347417\n"
     ]
    },
    {
     "name": "stderr",
     "output_type": "stream",
     "text": [
      "\r",
      " 91%|█████████▏| 21/23 [00:16<00:01,  1.22it/s]"
     ]
    },
    {
     "name": "stdout",
     "output_type": "stream",
     "text": [
      "\n",
      "mean_270619-video4_027-043_opened_cc66.png is INTERESTING\n"
     ]
    },
    {
     "name": "stderr",
     "output_type": "stream",
     "text": [
      "\r",
      " 96%|█████████▌| 22/23 [00:16<00:00,  1.27it/s]"
     ]
    },
    {
     "name": "stdout",
     "output_type": "stream",
     "text": [
      "\n",
      "mean_270619-video4_027-048_opened_cc06.png: too spherical 1.6048622394903895\n"
     ]
    },
    {
     "name": "stderr",
     "output_type": "stream",
     "text": [
      "100%|██████████| 23/23 [00:17<00:00,  1.31it/s]\n",
      "  0%|          | 0/26 [00:00<?, ?it/s]"
     ]
    },
    {
     "name": "stdout",
     "output_type": "stream",
     "text": [
      "\n",
      "mean_270619-video4_027-048_opened_cc19.png is INTERESTING\n",
      "found video4_028/trigger_thr0.005_cl9_op3/cc_filtered_2den0.81_gausrad2.0/\n"
     ]
    },
    {
     "name": "stderr",
     "output_type": "stream",
     "text": [
      "\r",
      "  4%|▍         | 1/26 [00:00<00:17,  1.42it/s]"
     ]
    },
    {
     "name": "stdout",
     "output_type": "stream",
     "text": [
      "\n",
      "mean_270619-video4_028-008_opened_cc04.png: too spherical 8.284529056080487\n"
     ]
    },
    {
     "name": "stderr",
     "output_type": "stream",
     "text": [
      "\r",
      "  8%|▊         | 2/26 [00:01<00:17,  1.39it/s]"
     ]
    },
    {
     "name": "stdout",
     "output_type": "stream",
     "text": [
      "\n",
      "mean_270619-video4_028-007_opened_cc06.png is INTERESTING\n"
     ]
    },
    {
     "name": "stderr",
     "output_type": "stream",
     "text": [
      "\r",
      " 12%|█▏        | 3/26 [00:02<00:16,  1.39it/s]"
     ]
    },
    {
     "name": "stdout",
     "output_type": "stream",
     "text": [
      "\n",
      "mean_270619-video4_028-007_opened_cc09.png: too spherical 2.4088329768548493\n"
     ]
    },
    {
     "name": "stderr",
     "output_type": "stream",
     "text": [
      "\r",
      " 15%|█▌        | 4/26 [00:02<00:15,  1.40it/s]"
     ]
    },
    {
     "name": "stdout",
     "output_type": "stream",
     "text": [
      "\n",
      "mean_270619-video4_028-007_opened_cc16.png is INTERESTING\n"
     ]
    },
    {
     "name": "stderr",
     "output_type": "stream",
     "text": [
      "\r",
      " 19%|█▉        | 5/26 [00:03<00:15,  1.39it/s]"
     ]
    },
    {
     "name": "stdout",
     "output_type": "stream",
     "text": [
      "\n",
      "mean_270619-video4_028-007_opened_cc24.png is INTERESTING\n"
     ]
    },
    {
     "name": "stderr",
     "output_type": "stream",
     "text": [
      "\r",
      " 23%|██▎       | 6/26 [00:04<00:14,  1.33it/s]"
     ]
    },
    {
     "name": "stdout",
     "output_type": "stream",
     "text": [
      "\n",
      "mean_270619-video4_028-007_opened_cc28.png is INTERESTING\n"
     ]
    },
    {
     "name": "stderr",
     "output_type": "stream",
     "text": [
      "\r",
      " 27%|██▋       | 7/26 [00:05<00:14,  1.32it/s]"
     ]
    },
    {
     "name": "stdout",
     "output_type": "stream",
     "text": [
      "\n",
      "mean_270619-video4_028-007_opened_cc42.png: too spherical 1.1628082551653927\n"
     ]
    },
    {
     "name": "stderr",
     "output_type": "stream",
     "text": [
      "\r",
      " 31%|███       | 8/26 [00:05<00:13,  1.33it/s]"
     ]
    },
    {
     "name": "stdout",
     "output_type": "stream",
     "text": [
      "\n",
      "mean_270619-video4_028-007_opened_cc47.png: too spherical 3.99296946221477\n"
     ]
    },
    {
     "name": "stderr",
     "output_type": "stream",
     "text": [
      "\r",
      " 35%|███▍      | 9/26 [00:06<00:12,  1.32it/s]"
     ]
    },
    {
     "name": "stdout",
     "output_type": "stream",
     "text": [
      "\n",
      "mean_270619-video4_028-007_opened_cc56.png is INTERESTING\n",
      "\n",
      "mean_270619-video4_028-008_opened_cc06.png is INTERESTING\n",
      "\n",
      "video4_028-007-video4_028-008: overlap = 0.0\n",
      "\n",
      "video4_028-007-video4_028-008: overlap = 0.0\n",
      "\n",
      "video4_028-007-video4_028-008: overlap = 0.0\n"
     ]
    },
    {
     "name": "stderr",
     "output_type": "stream",
     "text": [
      "\r",
      " 38%|███▊      | 10/26 [00:10<00:24,  1.53s/it]"
     ]
    },
    {
     "name": "stdout",
     "output_type": "stream",
     "text": [
      "\n",
      "video4_028-007-video4_028-008: overlap = 0.8498922671774001\n"
     ]
    },
    {
     "name": "stderr",
     "output_type": "stream",
     "text": [
      "\r",
      " 42%|████▏     | 11/26 [00:10<00:19,  1.32s/it]"
     ]
    },
    {
     "name": "stdout",
     "output_type": "stream",
     "text": [
      "\n",
      "mean_270619-video4_028-009_opened_cc11.png: too spherical 7.553155043038165\n"
     ]
    },
    {
     "name": "stderr",
     "output_type": "stream",
     "text": [
      "\r",
      " 46%|████▌     | 12/26 [00:11<00:16,  1.14s/it]"
     ]
    },
    {
     "name": "stdout",
     "output_type": "stream",
     "text": [
      "\n",
      "mean_270619-video4_028-009_opened_cc26.png: too spherical 4.807986796380681\n"
     ]
    },
    {
     "name": "stderr",
     "output_type": "stream",
     "text": [
      "\r",
      " 50%|█████     | 13/26 [00:12<00:13,  1.06s/it]"
     ]
    },
    {
     "name": "stdout",
     "output_type": "stream",
     "text": [
      "\n",
      "mean_270619-video4_028-010_opened_cc05.png: too spherical 3.5793981807322783\n"
     ]
    },
    {
     "name": "stderr",
     "output_type": "stream",
     "text": [
      "\r",
      " 54%|█████▍    | 14/26 [00:13<00:11,  1.02it/s]"
     ]
    },
    {
     "name": "stdout",
     "output_type": "stream",
     "text": [
      "\n",
      "mean_270619-video4_028-010_opened_cc07.png: too spherical 3.093391959863228\n"
     ]
    },
    {
     "name": "stderr",
     "output_type": "stream",
     "text": [
      "\r",
      " 58%|█████▊    | 15/26 [00:14<00:09,  1.10it/s]"
     ]
    },
    {
     "name": "stdout",
     "output_type": "stream",
     "text": [
      "\n",
      "mean_270619-video4_028-010_opened_cc09.png: too spherical 5.699732189744852\n"
     ]
    },
    {
     "name": "stderr",
     "output_type": "stream",
     "text": [
      "\r",
      " 62%|██████▏   | 16/26 [00:14<00:08,  1.17it/s]"
     ]
    },
    {
     "name": "stdout",
     "output_type": "stream",
     "text": [
      "\n",
      "mean_270619-video4_028-010_opened_cc24.png: too spherical 3.1476025340235454\n"
     ]
    },
    {
     "name": "stderr",
     "output_type": "stream",
     "text": [
      "\r",
      " 65%|██████▌   | 17/26 [00:15<00:07,  1.21it/s]"
     ]
    },
    {
     "name": "stdout",
     "output_type": "stream",
     "text": [
      "\n",
      "mean_270619-video4_028-010_opened_cc33.png: too spherical 5.641585341204453\n"
     ]
    },
    {
     "name": "stderr",
     "output_type": "stream",
     "text": [
      "\r",
      " 69%|██████▉   | 18/26 [00:16<00:06,  1.25it/s]"
     ]
    },
    {
     "name": "stdout",
     "output_type": "stream",
     "text": [
      "\n",
      "mean_270619-video4_028-010_opened_cc34.png: too spherical 2.165448143458004\n"
     ]
    },
    {
     "name": "stderr",
     "output_type": "stream",
     "text": [
      "\r",
      " 73%|███████▎  | 19/26 [00:16<00:05,  1.28it/s]"
     ]
    },
    {
     "name": "stdout",
     "output_type": "stream",
     "text": [
      "\n",
      "mean_270619-video4_028-010_opened_cc36.png: too spherical 6.379773877019365\n"
     ]
    },
    {
     "name": "stderr",
     "output_type": "stream",
     "text": [
      "\r",
      " 77%|███████▋  | 20/26 [00:17<00:04,  1.28it/s]"
     ]
    },
    {
     "name": "stdout",
     "output_type": "stream",
     "text": [
      "\n",
      "mean_270619-video4_028-010_opened_cc38.png is INTERESTING\n"
     ]
    },
    {
     "name": "stderr",
     "output_type": "stream",
     "text": [
      "\r",
      " 81%|████████  | 21/26 [00:18<00:03,  1.27it/s]"
     ]
    },
    {
     "name": "stdout",
     "output_type": "stream",
     "text": [
      "\n",
      "mean_270619-video4_028-010_opened_cc44.png is INTERESTING\n"
     ]
    },
    {
     "name": "stderr",
     "output_type": "stream",
     "text": [
      "\r",
      " 85%|████████▍ | 22/26 [00:19<00:03,  1.18it/s]"
     ]
    },
    {
     "name": "stdout",
     "output_type": "stream",
     "text": [
      "\n",
      "mean_270619-video4_028-010_opened_cc50.png: too spherical 3.4977509441114636\n"
     ]
    },
    {
     "name": "stderr",
     "output_type": "stream",
     "text": [
      "\r",
      " 88%|████████▊ | 23/26 [00:20<00:02,  1.20it/s]"
     ]
    },
    {
     "name": "stdout",
     "output_type": "stream",
     "text": [
      "\n",
      "mean_270619-video4_028-010_opened_cc55.png: too spherical 3.0665397905413294\n"
     ]
    },
    {
     "name": "stderr",
     "output_type": "stream",
     "text": [
      "\r",
      " 92%|█████████▏| 24/26 [00:21<00:01,  1.15it/s]"
     ]
    },
    {
     "name": "stdout",
     "output_type": "stream",
     "text": [
      "\n",
      "mean_270619-video4_028-011_opened_cc02.png: too crowded: 33.81230709876543\n",
      "\n",
      "mean_270619-video4_028-011_opened_cc03.png is INTERESTING\n",
      "\n",
      "video4_028-010-video4_028-011: overlap = 0.0\n"
     ]
    },
    {
     "name": "stderr",
     "output_type": "stream",
     "text": [
      "\r",
      " 96%|█████████▌| 25/26 [00:23<00:01,  1.29s/it]"
     ]
    },
    {
     "name": "stdout",
     "output_type": "stream",
     "text": [
      "\n",
      "video4_028-010-video4_028-011: overlap = 0.0\n"
     ]
    },
    {
     "name": "stderr",
     "output_type": "stream",
     "text": [
      "\r",
      "100%|██████████| 26/26 [00:24<00:00,  1.11s/it]"
     ]
    },
    {
     "name": "stdout",
     "output_type": "stream",
     "text": [
      "\n",
      "mean_270619-video4_028-011_opened_cc09.png: too spherical 4.662339621476014\n",
      "\n",
      "Slimming 370 particles\n"
     ]
    },
    {
     "name": "stderr",
     "output_type": "stream",
     "text": [
      "\n"
     ]
    },
    {
     "name": "stdout",
     "output_type": "stream",
     "text": [
      "mean_270619-video3_020-041_opened_cc23.png: invalid particle\n",
      "mean_270619-video3_020-009_opened_cc19.png: invalid particle\n"
     ]
    },
    {
     "name": "stderr",
     "output_type": "stream",
     "text": [
      "/media/alessandro/DATA/tesi/Nebbia/CloudChamber/analysis/Trace.py:23: RuntimeWarning: invalid value encountered in double_scalars\n",
      "  t = (p/4.0 - np.sqrt((p/4.0)**2 - n*A))/n\n"
     ]
    },
    {
     "name": "stdout",
     "output_type": "stream",
     "text": [
      "Total time: 1 h 51 min 4 s\n"
     ]
    }
   ],
   "source": [
    "# create clusterizer\n",
    "\n",
    "particles = []\n",
    "\n",
    "particles,n_part,slim = Particle.Big_iteration(path='/media/alessandro/DATA/tesi/Nebbia/pre-processed_data/270619//',\n",
    "                                               slim=True,video_name='video4')\n",
    "c = Clusterizer.Clusterizer('video4_r6',particles,slim)\n",
    "c.save(path='./Clusterizers/270619/')"
   ]
  },
  {
   "cell_type": "code",
   "execution_count": null,
   "metadata": {},
   "outputs": [],
   "source": [
    "c = Clusterizer.Clusterizer('video9_r6',particles,slim)\n",
    "c.save()"
   ]
  },
  {
   "cell_type": "code",
   "execution_count": null,
   "metadata": {},
   "outputs": [],
   "source": [
    "c.save()"
   ]
  },
  {
   "cell_type": "code",
   "execution_count": null,
   "metadata": {},
   "outputs": [],
   "source": [
    "particles"
   ]
  },
  {
   "cell_type": "code",
   "execution_count": null,
   "metadata": {},
   "outputs": [],
   "source": [
    "%matplotlib notebook\n",
    "c.plot()"
   ]
  },
  {
   "cell_type": "code",
   "execution_count": 2,
   "metadata": {},
   "outputs": [],
   "source": [
    "d = Clusterizer.load_Clusterizer(path='./Clusterizers/280519/',name='video7_r6')"
   ]
  },
  {
   "cell_type": "code",
   "execution_count": null,
   "metadata": {},
   "outputs": [],
   "source": [
    "help(d.plot)"
   ]
  },
  {
   "cell_type": "code",
   "execution_count": 3,
   "metadata": {},
   "outputs": [
    {
     "data": {
      "application/vnd.jupyter.widget-view+json": {
       "model_id": "ce25e820b3e74a1d9fcef8067f2f8848"
      }
     },
     "metadata": {},
     "output_type": "display_data"
    }
   ],
   "source": [
    "%matplotlib notebook\n",
    "d.plot()"
   ]
  },
  {
   "cell_type": "code",
   "execution_count": 4,
   "metadata": {},
   "outputs": [
    {
     "name": "stdout",
     "output_type": "stream",
     "text": [
      "0 0 2\n"
     ]
    },
    {
     "ename": "ZeroDivisionError",
     "evalue": "float division by zero",
     "output_type": "error",
     "traceback": [
      "\u001b[0;31m---------------------------------------------------------------------------\u001b[0m",
      "\u001b[0;31mZeroDivisionError\u001b[0m                         Traceback (most recent call last)",
      "\u001b[0;32m<ipython-input-4-83d8b8bcf956>\u001b[0m in \u001b[0;36m<module>\u001b[0;34m()\u001b[0m\n\u001b[0;32m----> 1\u001b[0;31m \u001b[0mlabels\u001b[0m\u001b[0;34m,\u001b[0m\u001b[0me\u001b[0m\u001b[0;34m,\u001b[0m\u001b[0mp\u001b[0m \u001b[0;34m=\u001b[0m \u001b[0mClusterizer\u001b[0m\u001b[0;34m.\u001b[0m\u001b[0mclassify\u001b[0m\u001b[0;34m(\u001b[0m\u001b[0md\u001b[0m\u001b[0;34m)\u001b[0m\u001b[0;34m\u001b[0m\u001b[0;34m\u001b[0m\u001b[0m\n\u001b[0m\u001b[1;32m      2\u001b[0m \u001b[0mprint\u001b[0m\u001b[0;34m(\u001b[0m\u001b[0me\u001b[0m\u001b[0;34m,\u001b[0m\u001b[0mp\u001b[0m\u001b[0;34m)\u001b[0m\u001b[0;34m\u001b[0m\u001b[0;34m\u001b[0m\u001b[0m\n",
      "\u001b[0;32m/media/alessandro/DATA/tesi/Nebbia/CloudChamber/analysis/Clusterizer.py\u001b[0m in \u001b[0;36mclassify\u001b[0;34m(c, func)\u001b[0m\n\u001b[1;32m     90\u001b[0m     \u001b[0mprint\u001b[0m\u001b[0;34m(\u001b[0m\u001b[0mpositives\u001b[0m\u001b[0;34m,\u001b[0m\u001b[0mfalse_positives\u001b[0m\u001b[0;34m,\u001b[0m\u001b[0mfalse_negatives\u001b[0m\u001b[0;34m)\u001b[0m\u001b[0;34m\u001b[0m\u001b[0;34m\u001b[0m\u001b[0m\n\u001b[1;32m     91\u001b[0m     \u001b[0mefficiency\u001b[0m \u001b[0;34m=\u001b[0m \u001b[0;34m(\u001b[0m\u001b[0mpositives\u001b[0m \u001b[0;34m-\u001b[0m \u001b[0mfalse_positives\u001b[0m\u001b[0;34m)\u001b[0m\u001b[0;34m*\u001b[0m\u001b[0;36m1.\u001b[0m\u001b[0;34m/\u001b[0m\u001b[0;34m(\u001b[0m\u001b[0mpositives\u001b[0m \u001b[0;34m-\u001b[0m \u001b[0mfalse_positives\u001b[0m \u001b[0;34m+\u001b[0m \u001b[0mfalse_negatives\u001b[0m\u001b[0;34m)\u001b[0m\u001b[0;34m\u001b[0m\u001b[0;34m\u001b[0m\u001b[0m\n\u001b[0;32m---> 92\u001b[0;31m     \u001b[0mpureness\u001b[0m \u001b[0;34m=\u001b[0m \u001b[0;36m1\u001b[0m \u001b[0;34m-\u001b[0m \u001b[0mfalse_positives\u001b[0m\u001b[0;34m*\u001b[0m\u001b[0;36m1.\u001b[0m\u001b[0;34m/\u001b[0m\u001b[0mpositives\u001b[0m\u001b[0;34m\u001b[0m\u001b[0;34m\u001b[0m\u001b[0m\n\u001b[0m\u001b[1;32m     93\u001b[0m \u001b[0;34m\u001b[0m\u001b[0m\n\u001b[1;32m     94\u001b[0m \u001b[0;34m\u001b[0m\u001b[0m\n",
      "\u001b[0;31mZeroDivisionError\u001b[0m: float division by zero"
     ]
    }
   ],
   "source": [
    "labels,e,p = Clusterizer.classify(d)\n",
    "print(e,p)"
   ]
  },
  {
   "cell_type": "code",
   "execution_count": 5,
   "metadata": {},
   "outputs": [
    {
     "data": {
      "text/plain": [
       "40"
      ]
     },
     "execution_count": 5,
     "metadata": {},
     "output_type": "execute_result"
    }
   ],
   "source": [
    "np.sum(d.labels)"
   ]
  },
  {
   "cell_type": "code",
   "execution_count": null,
   "metadata": {},
   "outputs": [],
   "source": [
    "# joining Clusterizers\n",
    "path = './Clusterizers/280519/'\n",
    "c3b = Clusterizer.load_Clusterizer(path,'video3b_r6')\n",
    "c6 = Clusterizer.load_Clusterizer(path,'video6_r6')\n",
    "c7 = Clusterizer.load_Clusterizer(path,'video7_r6')\n",
    "c8 = Clusterizer.load_Clusterizer(path,'video8_r6')\n",
    "c9 = Clusterizer.load_Clusterizer(path,'video9_r6')\n",
    "c1 = Clusterizer.load_Clusterizer('./Clusterizers/060619/','video1_r6')\n",
    "c2 = Clusterizer.load_Clusterizer('./Clusterizers/060619/','video2_r6')\n",
    "c3 = Clusterizer.load_Clusterizer('./Clusterizers/060619/','video3_r6')\n",
    "l1 = Clusterizer.load_Clusterizer('./Clusterizers/170619/','video1_r6')\n",
    "big_c = Clusterizer.join_Clusterizers([c3b,c6,c7,c8,c9,c1,c2,c3,l1],'video6789')"
   ]
  },
  {
   "cell_type": "code",
   "execution_count": null,
   "metadata": {},
   "outputs": [],
   "source": [
    "%matplotlib notebook\n",
    "#Clusterizer.plot_Clusterizers([c6,c7,c8,c9],['black','green','blue','red'])\n",
    "big_c.plot()"
   ]
  },
  {
   "cell_type": "code",
   "execution_count": null,
   "metadata": {},
   "outputs": [],
   "source": [
    "alpha_count = 0\n",
    "for i in big_c.labels:\n",
    "    if i == 1:\n",
    "        alpha_count += 1\n",
    "print(alpha_count)"
   ]
  },
  {
   "cell_type": "code",
   "execution_count": null,
   "metadata": {},
   "outputs": [],
   "source": [
    "# tryes with plt\n",
    "\n",
    "\n",
    "\n",
    "%matplotlib notebook\n",
    "\n",
    "def plot(i):\n",
    "    x = np.arange(0,10)\n",
    "    y = x**i\n",
    "    la = np.ones(10)\n",
    "    \n",
    "\n",
    "    fig, ax = plt.subplots()\n",
    "    ax = plt.scatter(x,y,c=la)\n",
    "\n",
    "\n",
    "\n",
    "    def onclick(event):\n",
    "        global ex,ey,ix,iy\n",
    "        ix = event.xdata\n",
    "        iy = event.ydata\n",
    "        #ax = plt.scatter(ix,iy)\n",
    "        \n",
    "    def onpress(event):\n",
    "        if event.key == 'a':\n",
    "            ax = plt.scatter(ix,iy)\n",
    "        elif event.key == 'w':\n",
    "            os.system('killall eog')\n",
    "        elif event.key == 't':\n",
    "            os.system('eog test.jpg &')\n",
    "        elif event.key == 'd':\n",
    "            ax = plt.suptitle('you pressed d')\n",
    "        elif event.key == 'f':\n",
    "            ax = plt.suptitle('you pressed f')\n",
    "            \n",
    "    cid = fig.canvas.mpl_connect('button_press_event', onclick)\n",
    "    cid2 = fig.canvas.mpl_connect('key_press_event', onpress)\n",
    "\n",
    "ipywidgets.interact(plot, i=[1,2,3,4])"
   ]
  },
  {
   "cell_type": "code",
   "execution_count": null,
   "metadata": {},
   "outputs": [],
   "source": [
    "print(ex,ey,ix,iy)"
   ]
  },
  {
   "cell_type": "code",
   "execution_count": null,
   "metadata": {},
   "outputs": [],
   "source": [
    "ID = os.system('eog test.jpg')\n",
    "print(ID)"
   ]
  },
  {
   "cell_type": "code",
   "execution_count": null,
   "metadata": {},
   "outputs": [],
   "source": [
    "def plot(i):\n",
    "    x = np.arange(0,10)\n",
    "    y = x**i\n",
    "\n",
    "    fig, ax = plt.subplots()\n",
    "    ax = plt.scatter(x,y)\n",
    "    ax = plt.suptitle('ciao')\n",
    "plot(2)"
   ]
  },
  {
   "cell_type": "code",
   "execution_count": null,
   "metadata": {},
   "outputs": [],
   "source": [
    "a = 'x %d, y %.2f, ' % (13.6,3.14159265)\n",
    "print(a)"
   ]
  },
  {
   "cell_type": "code",
   "execution_count": null,
   "metadata": {},
   "outputs": [],
   "source": [
    "X = d.values[:,3]\n",
    "plt.figure()\n",
    "plt.hist(X,bins=30,histtype='step')\n",
    "plt.show()"
   ]
  },
  {
   "cell_type": "code",
   "execution_count": null,
   "metadata": {},
   "outputs": [],
   "source": [
    "color_list = ['black','yellow','green']\n",
    "\n",
    "\n",
    "def color(n):\n",
    "    if type(n) == int:\n",
    "        return color_list[n%len(color_list)]\n",
    "    elif type(n) == np.ndarray:\n",
    "        r = []\n",
    "        for nn in n:\n",
    "            r.append(color_list[nn%len(color_list)])\n",
    "        return np.array(r)\n",
    "    else:\n",
    "        raise TypeError\n",
    "\n"
   ]
  },
  {
   "cell_type": "code",
   "execution_count": null,
   "metadata": {},
   "outputs": [],
   "source": [
    "a = 0\n",
    "color(a)"
   ]
  },
  {
   "cell_type": "code",
   "execution_count": null,
   "metadata": {},
   "outputs": [],
   "source": []
  }
 ],
 "metadata": {
  "kernelspec": {
   "display_name": "Python 3",
   "language": "python",
   "name": "python3"
  },
  "language_info": {
   "codemirror_mode": {
    "name": "ipython",
    "version": 3
   },
   "file_extension": ".py",
   "mimetype": "text/x-python",
   "name": "python",
   "nbconvert_exporter": "python",
   "pygments_lexer": "ipython3",
   "version": "3.7.3"
  }
 },
 "nbformat": 4,
 "nbformat_minor": 2
}
